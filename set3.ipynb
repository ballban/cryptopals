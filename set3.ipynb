{
 "cells": [
  {
   "cell_type": "code",
   "execution_count": null,
   "metadata": {},
   "outputs": [],
   "source": [
    "%load_ext autoreload\n",
    "%autoreload 2"
   ]
  },
  {
   "cell_type": "code",
   "execution_count": null,
   "metadata": {},
   "outputs": [],
   "source": [
    "from utility import *"
   ]
  },
  {
   "cell_type": "markdown",
   "metadata": {},
   "source": [
    "# Set_3"
   ]
  },
  {
   "cell_type": "markdown",
   "metadata": {},
   "source": [
    "Challenge 17"
   ]
  },
  {
   "cell_type": "code",
   "execution_count": null,
   "metadata": {},
   "outputs": [],
   "source": [
    "random_string_list = [b'MDAwMDAwTm93IHRoYXQgdGhlIHBhcnR5IGlzIGp1bXBpbmc=',\n",
    "b'MDAwMDAxV2l0aCB0aGUgYmFzcyBraWNrZWQgaW4gYW5kIHRoZSBWZWdhJ3MgYXJlIHB1bXBpbic=',\n",
    "b'MDAwMDAyUXVpY2sgdG8gdGhlIHBvaW50LCB0byB0aGUgcG9pbnQsIG5vIGZha2luZw==',\n",
    "b'MDAwMDAzQ29va2luZyBNQydzIGxpa2UgYSBwb3VuZCBvZiBiYWNvbg==',\n",
    "b'MDAwMDA0QnVybmluZyAnZW0sIGlmIHlvdSBhaW4ndCBxdWljayBhbmQgbmltYmxl',\n",
    "b'MDAwMDA1SSBnbyBjcmF6eSB3aGVuIEkgaGVhciBhIGN5bWJhbA==',\n",
    "b'MDAwMDA2QW5kIGEgaGlnaCBoYXQgd2l0aCBhIHNvdXBlZCB1cCB0ZW1wbw==',\n",
    "b'MDAwMDA3SSdtIG9uIGEgcm9sbCwgaXQncyB0aW1lIHRvIGdvIHNvbG8=',\n",
    "b'MDAwMDA4b2xsaW4nIGluIG15IGZpdmUgcG9pbnQgb2g=',\n",
    "b'MDAwMDA5aXRoIG15IHJhZy10b3AgZG93biBzbyBteSBoYWlyIGNhbiBibG93']\n",
    "\n",
    "key = generate_random_aes_key()\n",
    "IV = generate_random_aes_key()\n",
    "block_size = 16"
   ]
  },
  {
   "cell_type": "code",
   "execution_count": null,
   "metadata": {},
   "outputs": [],
   "source": [
    "# function 1\n",
    "def encrypt_CBC_17() -> bytes:\n",
    "    cipher_text = random.choice(random_string_list)\n",
    "    cipher_text = padding_PKCS7(b'A' * 14, block_size)\n",
    "    encrypted_text = encrypt_CBC(cipher_text, key, block_size, IV)\n",
    "    return encrypted_text\n",
    "\n",
    "# function 2\n",
    "def check_padding_is_valid(encrypted_bytes: bytes) -> bool:\n",
    "    try:\n",
    "        decrypted_bytes = decrypt_CBC(encrypted_bytes, key, block_size, IV, False)\n",
    "    except:\n",
    "        return False\n",
    "    target_bytes = decrypted_bytes[-1]\n",
    "    #print(f'decrypted_bytes {decrypted_bytes}')\n",
    "    #print(f'target_bytes {target_bytes}')\n",
    "    if decrypted_bytes[-target_bytes:] == decrypted_bytes[-1:] * target_bytes:\n",
    "        return True\n",
    "    return False"
   ]
  },
  {
   "cell_type": "code",
   "execution_count": null,
   "metadata": {},
   "outputs": [
    {
     "name": "stdout",
     "output_type": "stream",
     "text": [
      "b' D;s\\xcb(\\xadt\\x95\\x81<\\xc0\\x03\\xc6\\xff\\x04V\\x13\\x8fT\\xf3\\xcf \"gM\\xa7\\xc1r\\xfd\\x0e\\xe5'\n",
      "b'AAAAAAAAAAAAAA\\x02\\x02\\x10\\x10\\x10\\x10\\x10\\x10\\x10\\x10\\x10\\x10\\x10\\x10\\x10\\x10\\x10\\x10' 16\n"
     ]
    },
    {
     "data": {
      "text/plain": [
       "True"
      ]
     },
     "metadata": {},
     "output_type": "display_data"
    }
   ],
   "source": [
    "encrypted_bytes = encrypt_CBC_17()\n",
    "print(encrypted_bytes)\n",
    "check_padding_is_valid(encrypted_bytes)"
   ]
  },
  {
   "cell_type": "code",
   "execution_count": null,
   "metadata": {},
   "outputs": [],
   "source": [
    "def r(c0, c1, c2, intermiedate_state, i):\n",
    "    \"\"\"\n",
    "    Recursive function that performs a padding oracle attack.\n",
    "\n",
    "    Args:\n",
    "        c0 (bytes): The first part of the ciphertext.\n",
    "        c1 (bytes): The second part of the ciphertext.\n",
    "        c2 (bytes): The third part of the ciphertext.\n",
    "        intermiedate_state (bytes): The intermediate state of the attack.\n",
    "        i (int): The current iteration of the attack.\n",
    "\n",
    "    Returns:\n",
    "        bytes: The intermediate state of the attack if successful, None otherwise.\n",
    "    \"\"\"\n",
    "    if len(intermiedate_state) == 16:\n",
    "        return intermiedate_state\n",
    "    suffix = xor_bytes(intermiedate_state, i.to_bytes(1, 'big') * (i - 1)) if i > 1 else b''\n",
    "    print(suffix, i)\n",
    "    for j in range(256):\n",
    "        modified_encrypted_bytes = c0 + c1[:-i] + j.to_bytes(1, 'big') + suffix + c2\n",
    "        # print(len(modified_encrypted_bytes))\n",
    "        # print(modified_encrypted_bytes)\n",
    "        if check_padding_is_valid(modified_encrypted_bytes):\n",
    "            new_intermiedate_state = (j ^ i).to_bytes(1, 'big') + intermiedate_state\n",
    "            next = r(c0, c1, c2, new_intermiedate_state, i + 1)\n",
    "            if next:\n",
    "                return next"
   ]
  },
  {
   "cell_type": "code",
   "execution_count": null,
   "metadata": {},
   "outputs": [
    {
     "name": "stdout",
     "output_type": "stream",
     "text": [
      "1\n",
      "b'' 1\n",
      "b'\\x07' 2\n"
     ]
    },
    {
     "ename": "TypeError",
     "evalue": "'NoneType' object is not iterable",
     "output_type": "error",
     "traceback": [
      "\u001b[1;31m---------------------------------------------------------------------------\u001b[0m\n",
      "\u001b[1;31mTypeError\u001b[0m                                 Traceback (most recent call last)\n",
      "Cell \u001b[1;32mIn[66], line 9\u001b[0m\n",
      "\u001b[0;32m      7\u001b[0m     \u001b[38;5;28mprint\u001b[39m(i)\n",
      "\u001b[0;32m      8\u001b[0m     IS \u001b[38;5;241m=\u001b[39m r(c0, c1, c2, \u001b[38;5;124mb\u001b[39m\u001b[38;5;124m'\u001b[39m\u001b[38;5;124m'\u001b[39m, \u001b[38;5;241m1\u001b[39m)\n",
      "\u001b[1;32m----> 9\u001b[0m     result \u001b[38;5;241m=\u001b[39m \u001b[43mxor_bytes\u001b[49m\u001b[43m(\u001b[49m\u001b[43mIS\u001b[49m\u001b[43m,\u001b[49m\u001b[43m \u001b[49m\u001b[43mc1\u001b[49m\u001b[43m)\u001b[49m \u001b[38;5;241m+\u001b[39m result\n",
      "\u001b[0;32m     11\u001b[0m result \u001b[38;5;241m=\u001b[39m xor_bytes(r(\u001b[38;5;124mb\u001b[39m\u001b[38;5;124m'\u001b[39m\u001b[38;5;124m'\u001b[39m, IV, c1, \u001b[38;5;124mb\u001b[39m\u001b[38;5;124m'\u001b[39m\u001b[38;5;124m'\u001b[39m, \u001b[38;5;241m1\u001b[39m), IV) \u001b[38;5;241m+\u001b[39m result\n",
      "\u001b[0;32m     12\u001b[0m \u001b[38;5;28mprint\u001b[39m(unpadding_PKCS7(result))\n",
      "\n",
      "File \u001b[1;32mc:\\Users\\ballban\\Documents\\SourceCode\\cryptopals\\utility.py:16\u001b[0m, in \u001b[0;36mxor_bytes\u001b[1;34m(ba1, ba2)\u001b[0m\n",
      "\u001b[0;32m     15\u001b[0m \u001b[38;5;28;01mdef\u001b[39;00m \u001b[38;5;21mxor_bytes\u001b[39m(ba1: \u001b[38;5;28mbytes\u001b[39m, ba2: \u001b[38;5;28mbytes\u001b[39m) \u001b[38;5;241m-\u001b[39m\u001b[38;5;241m>\u001b[39m \u001b[38;5;28mbytes\u001b[39m:\n",
      "\u001b[1;32m---> 16\u001b[0m   \u001b[38;5;28;01mreturn\u001b[39;00m \u001b[38;5;28mbytes\u001b[39m([_a \u001b[38;5;241m^\u001b[39m _b \u001b[38;5;28;01mfor\u001b[39;00m _a, _b \u001b[38;5;129;01min\u001b[39;00m \u001b[38;5;28;43mzip\u001b[39;49m\u001b[43m(\u001b[49m\u001b[43mba1\u001b[49m\u001b[43m,\u001b[49m\u001b[43m \u001b[49m\u001b[43mba2\u001b[49m\u001b[43m)\u001b[49m])\n",
      "\n",
      "\u001b[1;31mTypeError\u001b[0m: 'NoneType' object is not iterable"
     ]
    }
   ],
   "source": [
    "block_list = [encrypted_bytes[i:i + block_size] for i in range(0, len(encrypted_bytes), block_size)]\n",
    "result = b''\n",
    "for i in range(1, len(block_list)):\n",
    "    c0 = b''.join(block_list[:-i-1])\n",
    "    c1 = block_list[-i-1]\n",
    "    c2 = block_list[-i]\n",
    "    IS = r(c0, c1, c2, b'', 1)\n",
    "    result = xor_bytes(IS, c1) + result\n",
    "\n",
    "result = xor_bytes(r(b'', IV, c1, b'', 1), IV) + result\n",
    "print(unpadding_PKCS7(result))"
   ]
  },
  {
   "cell_type": "markdown",
   "metadata": {},
   "source": [
    "Challenge 18"
   ]
  },
  {
   "cell_type": "code",
   "execution_count": null,
   "metadata": {},
   "outputs": [
    {
     "name": "stdout",
     "output_type": "stream",
     "text": [
      "b\"Yo, VIP Let's kick it Ice, Ice, baby Ice, Ice, baby \"\n"
     ]
    }
   ],
   "source": [
    "cipher_text = base64.b64decode('L77na/nrFsKvynd6HzOoG7GHTLXsTVu9qvY/2syLXzhPweyyMTJULu/6/kXX0KSvoOLSFQ==')\n",
    "key = b'YELLOW SUBMARINE'\n",
    "nonce = 0\n",
    "print(exec_CTR(cipher_text, key, nonce))"
   ]
  },
  {
   "cell_type": "markdown",
   "metadata": {},
   "source": [
    "Challenge 19\n",
    "Challenge 20"
   ]
  },
  {
   "cell_type": "code",
   "execution_count": null,
   "metadata": {},
   "outputs": [],
   "source": [
    "b64_text_list = '''SSBoYXZlIG1ldCB0aGVtIGF0IGNsb3NlIG9mIGRheQ==\n",
    "Q29taW5nIHdpdGggdml2aWQgZmFjZXM=\n",
    "RnJvbSBjb3VudGVyIG9yIGRlc2sgYW1vbmcgZ3JleQ==\n",
    "RWlnaHRlZW50aC1jZW50dXJ5IGhvdXNlcy4=\n",
    "SSBoYXZlIHBhc3NlZCB3aXRoIGEgbm9kIG9mIHRoZSBoZWFk\n",
    "T3IgcG9saXRlIG1lYW5pbmdsZXNzIHdvcmRzLA==\n",
    "T3IgaGF2ZSBsaW5nZXJlZCBhd2hpbGUgYW5kIHNhaWQ=\n",
    "UG9saXRlIG1lYW5pbmdsZXNzIHdvcmRzLA==\n",
    "QW5kIHRob3VnaHQgYmVmb3JlIEkgaGFkIGRvbmU=\n",
    "T2YgYSBtb2NraW5nIHRhbGUgb3IgYSBnaWJl\n",
    "VG8gcGxlYXNlIGEgY29tcGFuaW9u\n",
    "QXJvdW5kIHRoZSBmaXJlIGF0IHRoZSBjbHViLA==\n",
    "QmVpbmcgY2VydGFpbiB0aGF0IHRoZXkgYW5kIEk=\n",
    "QnV0IGxpdmVkIHdoZXJlIG1vdGxleSBpcyB3b3JuOg==\n",
    "QWxsIGNoYW5nZWQsIGNoYW5nZWQgdXR0ZXJseTo=\n",
    "QSB0ZXJyaWJsZSBiZWF1dHkgaXMgYm9ybi4=\n",
    "VGhhdCB3b21hbidzIGRheXMgd2VyZSBzcGVudA==\n",
    "SW4gaWdub3JhbnQgZ29vZCB3aWxsLA==\n",
    "SGVyIG5pZ2h0cyBpbiBhcmd1bWVudA==\n",
    "VW50aWwgaGVyIHZvaWNlIGdyZXcgc2hyaWxsLg==\n",
    "V2hhdCB2b2ljZSBtb3JlIHN3ZWV0IHRoYW4gaGVycw==\n",
    "V2hlbiB5b3VuZyBhbmQgYmVhdXRpZnVsLA==\n",
    "U2hlIHJvZGUgdG8gaGFycmllcnM/\n",
    "VGhpcyBtYW4gaGFkIGtlcHQgYSBzY2hvb2w=\n",
    "QW5kIHJvZGUgb3VyIHdpbmdlZCBob3JzZS4=\n",
    "VGhpcyBvdGhlciBoaXMgaGVscGVyIGFuZCBmcmllbmQ=\n",
    "V2FzIGNvbWluZyBpbnRvIGhpcyBmb3JjZTs=\n",
    "SGUgbWlnaHQgaGF2ZSB3b24gZmFtZSBpbiB0aGUgZW5kLA==\n",
    "U28gc2Vuc2l0aXZlIGhpcyBuYXR1cmUgc2VlbWVkLA==\n",
    "U28gZGFyaW5nIGFuZCBzd2VldCBoaXMgdGhvdWdodC4=\n",
    "VGhpcyBvdGhlciBtYW4gSSBoYWQgZHJlYW1lZA==\n",
    "QSBkcnVua2VuLCB2YWluLWdsb3Jpb3VzIGxvdXQu\n",
    "SGUgaGFkIGRvbmUgbW9zdCBiaXR0ZXIgd3Jvbmc=\n",
    "VG8gc29tZSB3aG8gYXJlIG5lYXIgbXkgaGVhcnQs\n",
    "WWV0IEkgbnVtYmVyIGhpbSBpbiB0aGUgc29uZzs=\n",
    "SGUsIHRvbywgaGFzIHJlc2lnbmVkIGhpcyBwYXJ0\n",
    "SW4gdGhlIGNhc3VhbCBjb21lZHk7\n",
    "SGUsIHRvbywgaGFzIGJlZW4gY2hhbmdlZCBpbiBoaXMgdHVybiw=\n",
    "VHJhbnNmb3JtZWQgdXR0ZXJseTo=\n",
    "QSB0ZXJyaWJsZSBiZWF1dHkgaXMgYm9ybi4='''.split('\\n')\n",
    "''' get data '''\n",
    "bytes_list = []\n",
    "for text in b64_text_list:\n",
    "    bytes_list.append(base64.b64decode(text))\n",
    "\n",
    "''' create encrypted data list with ctr mode '''\n",
    "nonce = 0\n",
    "key = generate_random_aes_key()\n",
    "encrypted_btyes_list = []\n",
    "for plain_bytes in bytes_list:\n",
    "    encrypted_btyes_list.append(exec_CTR(plain_bytes, key, nonce))"
   ]
  },
  {
   "cell_type": "code",
   "execution_count": null,
   "metadata": {},
   "outputs": [],
   "source": [
    "# printable_text = '0123456789abcdefghijklmnopqrstuvwxyzABCDEFGHIJKLMNOPQRSTUVWXYZ-?!\"\\',. :;'\n",
    "# printable_text = \"fHtcuivObUICnWSgpYr ?T,eyah';-A:EdwmkosPBF.l\"\n",
    "printable_chars = bytes(string.printable, 'ascii')\n",
    "# printable_chars = bytes(printable_text, 'ascii')\n",
    "all_possible_bytes_for_keystream = defaultdict(list)\n",
    "\n",
    "''' loop each char from start '''\n",
    "for i in range(38):\n",
    "    ''' try all possible byte '''\n",
    "    for possible_byte in range(256):\n",
    "        unprintable_flag = False\n",
    "        for encrypted_btyes in encrypted_btyes_list:\n",
    "            if len(encrypted_btyes) <= i:\n",
    "                continue\n",
    "            if encrypted_btyes[i] ^ possible_byte not in printable_chars:\n",
    "                unprintable_flag = True\n",
    "                break\n",
    "        if unprintable_flag:\n",
    "            continue\n",
    "        all_possible_bytes_for_keystream[i].append(possible_byte.to_bytes(1, 'little'))"
   ]
  },
  {
   "cell_type": "code",
   "execution_count": null,
   "metadata": {},
   "outputs": [
    {
     "name": "stdout",
     "output_type": "stream",
     "text": [
      "0 82 [b'\\x80', b'\\x81', b'\\x82', b'\\x83', b'\\x84', b'\\x85', b'\\x86', b'\\x87', b'\\x88', b'\\x89', b'\\x8a', b'\\x8b', b'\\x8c', b'\\x8d', b'\\x8e', b'\\x8f', b'\\x90', b'\\x91', b'\\x92', b'\\x93', b'\\x94', b'\\x95', b'\\x96', b'\\x97', b'\\x98', b'\\x99', b'\\x9a', b'\\x9b', b'\\x9c', b'\\x9d', b'\\x9e', b'\\x9f', b'\\xc0', b'\\xc1', b'\\xc2', b'\\xc3', b'\\xc4', b'\\xc6', b'\\xc7', b'\\xca', b'\\xcd', b'\\xce', b'\\xd0', b'\\xd1', b'\\xd2', b'\\xd6', b'\\xd7', b'\\xd8', b'\\xdb', b'\\xdc', b'\\xe0', b'\\xe1', b'\\xe2', b'\\xe3', b'\\xe4', b'\\xe5', b'\\xe6', b'\\xe7', b'\\xe8', b'\\xe9', b'\\xea', b'\\xeb', b'\\xec', b'\\xed', b'\\xee', b'\\xef', b'\\xf0', b'\\xf1', b'\\xf2', b'\\xf3', b'\\xf4', b'\\xf5', b'\\xf6', b'\\xf7', b'\\xf8', b'\\xf9', b'\\xfa', b'\\xfb', b'\\xfc', b'\\xfd', b'\\xfe', b'\\xff']\n",
      "1 58 [b'\\x00', b'\\x01', b'\\x02', b'\\x03', b'\\x04', b'\\x05', b'\\x06', b'\\x07', b'\\t', b'\\n', b'\\x0b', b'\\x0c', b'\\r', b'\\x0e', b'\\x10', b'\\x16', b'\\x17', b'\\x19', b'\\x1a', b'\\x1d', b'\\x1e', b'\\x1f', b'(', b')', b'+', b'.', b'/', b'@', b'A', b'B', b'C', b'D', b'E', b'F', b'G', b'H', b'I', b'J', b'K', b'L', b'M', b'N', b'O', b'P', b'Q', b'R', b'S', b'T', b'U', b'V', b'W', b'X', b'Y', b'Z', b'[', b'\\\\', b'^', b'_']\n",
      "2 50 [b'\\x80', b'\\x81', b'\\x82', b'\\x83', b'\\x84', b'\\x85', b'\\x86', b'\\x87', b'\\x89', b'\\x8a', b'\\x8b', b'\\x8c', b'\\x8d', b'\\x92', b'\\x96', b'\\x97', b'\\x9a', b'\\x9c', b'\\x9e', b'\\x9f', b'\\xc0', b'\\xc1', b'\\xc2', b'\\xc3', b'\\xc4', b'\\xc5', b'\\xc6', b'\\xc7', b'\\xc8', b'\\xc9', b'\\xca', b'\\xcb', b'\\xcc', b'\\xcd', b'\\xce', b'\\xcf', b'\\xd1', b'\\xd2', b'\\xd3', b'\\xd4', b'\\xd5', b'\\xd6', b'\\xd7', b'\\xd8', b'\\xd9', b'\\xda', b'\\xdb', b'\\xdd', b'\\xde', b'\\xdf']\n",
      "3 56 [b'\\x81', b'\\x82', b'\\x84', b'\\x85', b'\\x88', b'\\x89', b'\\x8c', b'\\x8d', b'\\x8e', b'\\x90', b'\\x91', b'\\x92', b'\\x93', b'\\x94', b'\\x95', b'\\x96', b'\\x97', b'\\x98', b'\\x99', b'\\x9f', b'\\xb8', b'\\xba', b'\\xbb', b'\\xbc', b'\\xbd', b'\\xc0', b'\\xc1', b'\\xc2', b'\\xc3', b'\\xc4', b'\\xc5', b'\\xc6', b'\\xc7', b'\\xc8', b'\\xc9', b'\\xca', b'\\xcb', b'\\xcc', b'\\xcd', b'\\xcf', b'\\xd0', b'\\xd1', b'\\xd2', b'\\xd3', b'\\xd4', b'\\xd5', b'\\xd6', b'\\xd7', b'\\xd8', b'\\xd9', b'\\xda', b'\\xdb', b'\\xdc', b'\\xdd', b'\\xde', b'\\xdf']\n",
      "4 28 [b'\\x80', b'\\x81', b'\\x87', b'\\x88', b'\\x8a', b'\\x8c', b'\\x8e', b'\\x90', b'\\x91', b'\\x92', b'\\x93', b'\\x94', b'\\x95', b'\\x96', b'\\x97', b'\\x9a', b'\\x9b', b'\\x9d', b'\\xb8', b'\\xb9', b'\\xbc', b'\\xbe', b'\\xbf', b'\\xd0', b'\\xd1', b'\\xd5', b'\\xd6', b'\\xd7']\n",
      "5 53 [b'\\x02', b'\\x03', b'\\x04', b'\\x05', b'\\x06', b' ', b'!', b'#', b'$', b'%', b'(', b'*', b'+', b',', b'-', b'.', b'/', b'0', b'1', b'2', b':', b';', b'`', b'a', b'b', b'c', b'd', b'e', b'f', b'g', b'h', b'i', b'j', b'k', b'l', b'm', b'n', b'o', b'q', b'r', b's', b't', b'u', b'v', b'w', b'x', b'y', b'z', b'{', b'|', b'}', b'~', b'\\x7f']\n",
      "6 54 [b'\\xa0', b'\\xa1', b'\\xa2', b'\\xa3', b'\\xa4', b'\\xa5', b'\\xa6', b'\\xa7', b'\\xa9', b'\\xaa', b'\\xab', b'\\xac', b'\\xad', b'\\xae', b'\\xaf', b'\\xb0', b'\\xb1', b'\\xb2', b'\\xb3', b'\\xb4', b'\\xb5', b'\\xb6', b'\\xb7', b'\\xb8', b'\\xb9', b'\\xba', b'\\xbb', b'\\xbc', b'\\xbd', b'\\xbe', b'\\xbf', b'\\xda', b'\\xdb', b'\\xdc', b'\\xdd', b'\\xde', b'\\xe2', b'\\xe4', b'\\xe8', b'\\xea', b'\\xee', b'\\xf0', b'\\xf1', b'\\xf2', b'\\xf3', b'\\xf4', b'\\xf5', b'\\xf6', b'\\xf7', b'\\xf8', b'\\xf9', b'\\xfa', b'\\xfd', b'\\xff']\n",
      "7 48 [b'#', b'$', b'(', b')', b'*', b'+', b',', b'-', b'.', b'/', b'2', b'3', b'4', b'5', b'9', b':', b'>', b'?', b'`', b'a', b'b', b'c', b'd', b'e', b'f', b'g', b'h', b'i', b'j', b'k', b'l', b'm', b'n', b'o', b'p', b'q', b'r', b's', b't', b'v', b'w', b'x', b'z', b'{', b'|', b'}', b'~', b'\\x7f']\n",
      "8 53 [b'\\xa0', b'\\xa1', b'\\xa2', b'\\xa3', b'\\xa4', b'\\xa6', b'\\xa7', b'\\xa8', b'\\xa9', b'\\xaa', b'\\xab', b'\\xac', b'\\xad', b'\\xae', b'\\xaf', b'\\xb0', b'\\xb1', b'\\xb2', b'\\xb3', b'\\xb4', b'\\xb5', b'\\xb6', b'\\xb7', b'\\xb8', b'\\xb9', b'\\xba', b'\\xbb', b'\\xbc', b'\\xbd', b'\\xbe', b'\\xbf', b'\\xd0', b'\\xd1', b'\\xd3', b'\\xd6', b'\\xd7', b'\\xe3', b'\\xe5', b'\\xe7', b'\\xef', b'\\xf0', b'\\xf3', b'\\xf4', b'\\xf5', b'\\xf6', b'\\xf8', b'\\xf9', b'\\xfa', b'\\xfb', b'\\xfc', b'\\xfd', b'\\xfe', b'\\xff']\n",
      "9 51 [b'\\x02', b'\\x03', b'\\x04', b'\\x05', b'\\x06', b'\\x08', b'\\t', b'\\n', b'\\x0b', b'\\x0c', b'\\r', b'\\x0e', b'\\x0f', b'\\x10', b'\\x13', b'\\x15', b'\\x17', b'\\x18', b'\\x19', b'\\x1e', b'\\x1f', b'@', b'A', b'B', b'C', b'D', b'E', b'F', b'G', b'H', b'I', b'J', b'K', b'L', b'M', b'N', b'O', b'P', b'Q', b'R', b'T', b'U', b'V', b'W', b'X', b'Y', b'Z', b'[', b'\\\\', b']', b'^']\n",
      "10 49 [b'\\x80', b'\\x81', b'\\x82', b'\\x83', b'\\x84', b'\\x85', b'\\x86', b'\\x87', b'\\x88', b'\\x89', b'\\x8a', b'\\x8b', b'\\x8c', b'\\x8d', b'\\x8e', b'\\x8f', b'\\x90', b'\\x91', b'\\x92', b'\\x93', b'\\x94', b'\\x95', b'\\x97', b'\\x98', b'\\x99', b'\\x9a', b'\\x9d', b'\\x9e', b'\\x9f', b'\\xc0', b'\\xc1', b'\\xc2', b'\\xc3', b'\\xc4', b'\\xc5', b'\\xc6', b'\\xc7', b'\\xc9', b'\\xca', b'\\xcb', b'\\xd0', b'\\xd1', b'\\xd2', b'\\xd7', b'\\xd8', b'\\xd9', b'\\xdb', b'\\xdc', b'\\xdd']\n",
      "11 46 [b'\\x80', b'\\x81', b'\\x82', b'\\x84', b'\\x85', b'\\x86', b'\\x87', b'\\x88', b'\\x89', b'\\x8a', b'\\x8b', b'\\x8c', b'\\x8d', b'\\x8e', b'\\x90', b'\\x91', b'\\x92', b'\\x93', b'\\x94', b'\\x95', b'\\x96', b'\\x97', b'\\x98', b'\\x99', b'\\x9a', b'\\x9b', b'\\x9c', b'\\x9d', b'\\x9e', b'\\x9f', b'\\xc3', b'\\xc8', b'\\xc9', b'\\xcf', b'\\xd2', b'\\xd3', b'\\xd4', b'\\xd6', b'\\xd8', b'\\xd9', b'\\xda', b'\\xdb', b'\\xdc', b'\\xdd', b'\\xde', b'\\xdf']\n",
      "12 54 [b'\\x83', b'\\x85', b'\\x8e', b'\\x8f', b'\\x91', b'\\x92', b'\\x94', b'\\x95', b'\\x96', b'\\x97', b'\\x98', b'\\x99', b'\\x9a', b'\\x9b', b'\\x9c', b'\\x9d', b'\\x9e', b'\\x9f', b'\\xb0', b'\\xb1', b'\\xb3', b'\\xb6', b'\\xb7', b'\\xc0', b'\\xc1', b'\\xc2', b'\\xc3', b'\\xc4', b'\\xc6', b'\\xc7', b'\\xc8', b'\\xc9', b'\\xca', b'\\xcb', b'\\xcc', b'\\xcd', b'\\xce', b'\\xcf', b'\\xd0', b'\\xd1', b'\\xd2', b'\\xd3', b'\\xd4', b'\\xd5', b'\\xd6', b'\\xd7', b'\\xd8', b'\\xd9', b'\\xda', b'\\xdb', b'\\xdc', b'\\xdd', b'\\xde', b'\\xdf']\n",
      "13 53 [b'\\x81', b'\\x82', b'\\x86', b'\\x87', b'\\x88', b'\\x89', b'\\x8a', b'\\x8b', b'\\x8c', b'\\x8d', b'\\x8e', b'\\x8f', b'\\x91', b'\\x97', b'\\x9a', b'\\x9b', b'\\x9d', b'\\xa1', b'\\xa2', b'\\xa3', b'\\xa4', b'\\xa5', b'\\xc0', b'\\xc1', b'\\xc2', b'\\xc3', b'\\xc4', b'\\xc5', b'\\xc6', b'\\xc7', b'\\xc8', b'\\xc9', b'\\xca', b'\\xcb', b'\\xcc', b'\\xcd', b'\\xce', b'\\xcf', b'\\xd0', b'\\xd1', b'\\xd2', b'\\xd3', b'\\xd4', b'\\xd5', b'\\xd6', b'\\xd8', b'\\xd9', b'\\xda', b'\\xdb', b'\\xdc', b'\\xdd', b'\\xde', b'\\xdf']\n",
      "14 52 [b'\\x18', b'\\x19', b'\\x1b', b'\\x1e', b'\\x1f', b'&', b\"'\", b')', b'*', b'-', b'/', b'0', b'1', b'2', b'3', b'4', b'5', b'6', b'7', b'<', b'=', b'`', b'a', b'b', b'c', b'd', b'e', b'f', b'g', b'h', b'i', b'j', b'k', b'l', b'n', b'o', b'p', b'q', b'r', b's', b't', b'u', b'v', b'w', b'x', b'y', b'z', b'{', b'|', b'}', b'~', b'\\x7f']\n",
      "15 20 [b'(', b')', b'+', b'.', b'/', b'b', b'e', b'h', b'i', b'j', b'k', b'l', b'n', b'o', b'r', b's', b't', b'w', b'~', b'\\x7f']\n",
      "16 56 [b' ', b'!', b'\"', b'#', b'$', b'%', b'&', b'(', b')', b'*', b'+', b',', b'-', b'.', b'/', b'0', b'1', b'2', b'3', b'4', b'5', b'6', b'7', b'8', b'9', b':', b';', b'<', b'=', b'>', b'?', b'Q', b'R', b'S', b'T', b'U', b'a', b'd', b'e', b'g', b'h', b'k', b'l', b'm', b'p', b'q', b'r', b'v', b'w', b'x', b'y', b'z', b'{', b'|', b'}', b'\\x7f']\n",
      "17 53 [b'\\x00', b'\\x01', b'\\x02', b'\\x03', b'\\x04', b'\\x06', b'\\x07', b'\\x08', b'\\t', b'\\n', b'\\x0b', b'\\x0c', b'\\r', b'\\x0e', b'\\x0f', b'\\x10', b'\\x11', b'\\x12', b'\\x13', b'\\x14', b'\\x15', b'\\x16', b'\\x17', b'\\x18', b'\\x19', b'\\x1a', b'\\x1b', b'\\x1c', b'\\x1d', b'\\x1e', b'\\x1f', b'A', b'C', b'E', b'F', b'H', b'N', b'O', b'S', b'T', b'U', b'X', b'Y', b'Z', b'[', b']', b'^', b'_', b'p', b'q', b's', b'v', b'w']\n",
      "18 52 [b'\\x01', b'\\x02', b'\\x03', b'\\x05', b'\\t', b'\\x0b', b'\\x0e', b'\\x11', b'\\x12', b'\\x13', b'\\x14', b'\\x15', b'\\x16', b'\\x17', b'\\x18', b'\\x1f', b':', b';', b'<', b'=', b'?', b'@', b'A', b'B', b'C', b'D', b'E', b'F', b'G', b'H', b'J', b'K', b'L', b'M', b'N', b'O', b'P', b'Q', b'R', b'S', b'T', b'U', b'V', b'W', b'X', b'Y', b'Z', b'[', b'\\\\', b']', b'^', b'_']\n",
      "19 23 [b'\\xa9', b'\\xaa', b'\\xab', b'\\xad', b'\\xe0', b'\\xe3', b'\\xe6', b'\\xe7', b'\\xe8', b'\\xe9', b'\\xea', b'\\xeb', b'\\xec', b'\\xed', b'\\xee', b'\\xf0', b'\\xf1', b'\\xf4', b'\\xf6', b'\\xf8', b'\\xfb', b'\\xfc', b'\\xff']\n",
      "20 46 [b'\\xa0', b'\\xa5', b'\\xa7', b'\\xac', b'\\xad', b'\\xb0', b'\\xb1', b'\\xb6', b'\\xb7', b'\\xb8', b'\\xb9', b'\\xba', b'\\xbb', b'\\xbc', b'\\xbd', b'\\xbe', b'\\xbf', b'\\xe0', b'\\xe1', b'\\xe2', b'\\xe3', b'\\xe4', b'\\xe5', b'\\xe6', b'\\xe8', b'\\xe9', b'\\xea', b'\\xeb', b'\\xec', b'\\xed', b'\\xee', b'\\xef', b'\\xf0', b'\\xf1', b'\\xf2', b'\\xf3', b'\\xf4', b'\\xf5', b'\\xf6', b'\\xf7', b'\\xf9', b'\\xfa', b'\\xfb', b'\\xfd', b'\\xfe', b'\\xff']\n",
      "21 45 [b'\\xa0', b'\\xa2', b'\\xa3', b'\\xa4', b'\\xa5', b'\\xa6', b'\\xa7', b'\\xa8', b'\\xa9', b'\\xaa', b'\\xab', b'\\xac', b'\\xae', b'\\xaf', b'\\xb0', b'\\xb1', b'\\xb2', b'\\xb3', b'\\xb4', b'\\xb5', b'\\xb6', b'\\xb7', b'\\xb8', b'\\xb9', b'\\xba', b'\\xbb', b'\\xbc', b'\\xbd', b'\\xbe', b'\\xbf', b'\\xe1', b'\\xe6', b'\\xea', b'\\xeb', b'\\xf0', b'\\xf1', b'\\xf6', b'\\xf7', b'\\xf9', b'\\xfa', b'\\xfb', b'\\xfc', b'\\xfd', b'\\xfe', b'\\xff']\n",
      "22 55 [b'\\xa0', b'\\xa1', b'\\xa2', b'\\xa3', b'\\xa4', b'\\xa5', b'\\xa6', b'\\xa8', b'\\xa9', b'\\xaa', b'\\xab', b'\\xac', b'\\xad', b'\\xae', b'\\xaf', b'\\xb0', b'\\xb1', b'\\xb2', b'\\xb3', b'\\xb4', b'\\xb5', b'\\xb6', b'\\xb7', b'\\xb8', b'\\xb9', b'\\xba', b'\\xbb', b'\\xbc', b'\\xbd', b'\\xbe', b'\\xbf', b'\\xd1', b'\\xd2', b'\\xd3', b'\\xd4', b'\\xd5', b'\\xe1', b'\\xe4', b'\\xe5', b'\\xe7', b'\\xe9', b'\\xeb', b'\\xec', b'\\xed', b'\\xee', b'\\xf1', b'\\xf6', b'\\xf7', b'\\xf8', b'\\xf9', b'\\xfa', b'\\xfb', b'\\xfc', b'\\xfd', b'\\xff']\n",
      "23 56 [b'\\x00', b'\\x01', b'\\x02', b'\\x03', b'\\x04', b'\\x05', b'\\x07', b'\\x08', b'\\t', b'\\n', b'\\x0b', b'\\x0c', b'\\r', b'\\x0e', b'\\x0f', b'\\x10', b'\\x11', b'\\x12', b'\\x13', b'\\x14', b'\\x15', b'\\x16', b'\\x17', b'\\x18', b'\\x19', b'\\x1a', b'\\x1b', b'\\x1c', b'\\x1d', b'\\x1e', b'\\x1f', b'@', b'D', b'F', b'G', b'K', b'L', b'M', b'P', b'Q', b'S', b'V', b'W', b'X', b'Y', b'Z', b'[', b'\\\\', b']', b'^', b'_', b'p', b'r', b's', b't', b'u']\n",
      "24 49 [b'\\x00', b'\\x01', b'\\x02', b'\\x03', b'\\x04', b'\\x05', b'\\x06', b'\\x07', b'\\t', b'\\n', b'\\x0e', b'\\x12', b'\\x14', b'\\x15', b'\\x18', b'\\x19', b'\\x1c', b'\\x1d', b'\\x1f', b'@', b'A', b'B', b'C', b'D', b'E', b'F', b'G', b'H', b'I', b'J', b'K', b'L', b'M', b'N', b'O', b'P', b'Q', b'R', b'T', b'U', b'V', b'W', b'X', b'Y', b'Z', b'[', b'\\\\', b']', b'^']\n",
      "25 50 [b'\\xa1', b'\\xa2', b'\\xa3', b'\\xa8', b'\\xa9', b'\\xab', b'\\xae', b'\\xb0', b'\\xb1', b'\\xb2', b'\\xb3', b'\\xb4', b'\\xb5', b'\\xb6', b'\\xb7', b'\\xb8', b'\\xb9', b'\\xbb', b'\\xbc', b'\\xbe', b'\\xbf', b'\\xe0', b'\\xe1', b'\\xe2', b'\\xe3', b'\\xe4', b'\\xe5', b'\\xe7', b'\\xe9', b'\\xea', b'\\xeb', b'\\xec', b'\\xed', b'\\xee', b'\\xef', b'\\xf0', b'\\xf1', b'\\xf2', b'\\xf4', b'\\xf5', b'\\xf6', b'\\xf7', b'\\xf8', b'\\xf9', b'\\xfa', b'\\xfb', b'\\xfc', b'\\xfd', b'\\xfe', b'\\xff']\n",
      "26 55 [b' ', b'!', b'\"', b'#', b'$', b'%', b'&', b\"'\", b'(', b')', b'*', b'+', b',', b'-', b'.', b'/', b'0', b'1', b'2', b'3', b'4', b'5', b'6', b'7', b'8', b':', b';', b'<', b'=', b'>', b'?', b'J', b'K', b'L', b'M', b'O', b'`', b'a', b'b', b'c', b'd', b'e', b'f', b'g', b'h', b'k', b'l', b'o', b'q', b'r', b's', b't', b'y', b'z', b'~']\n",
      "27 50 [b' ', b'!', b'\"', b'#', b'$', b'%', b'&', b\"'\", b'(', b')', b'*', b'+', b',', b'-', b'.', b'/', b'0', b'1', b'2', b'3', b'4', b'5', b'7', b'9', b';', b'<', b'=', b'>', b'?', b'`', b'a', b'e', b'f', b'g', b'h', b'i', b'j', b'k', b'l', b'm', b'n', b'p', b's', b't', b'u', b'v', b'z', b'|', b'}', b'\\x7f']\n",
      "28 28 [b'\\x08', b'\\n', b'\\x0b', b'@', b'A', b'B', b'F', b'G', b'H', b'I', b'J', b'K', b'L', b'M', b'N', b'O', b'Q', b'T', b'U', b'V', b'W', b'X', b'Y', b'Z', b'[', b'\\\\', b']', b'_']\n",
      "29 54 [b'\\x00', b'\\x01', b'\\x03', b'\\x05', b'\\x06', b'\\x07', b'\\n', b'\\x0b', b'\\x0c', b'\\x0e', b'\\x0f', b'\\x10', b'\\x11', b'\\x12', b'\\x13', b'\\x14', b'\\x15', b'\\x16', b'\\x17', b'\\x19', b'\\x1a', b'\\x1b', b'\\x1c', b'\\x1d', b'\\x1f', b'A', b'C', b'D', b'E', b'F', b'G', b'H', b'I', b'J', b'K', b'M', b'N', b'O', b'P', b'Q', b'R', b'S', b'T', b'U', b'V', b'W', b'X', b'Y', b'Z', b'[', b'\\\\', b']', b'^', b'_']\n",
      "30 56 [b'\\xa0', b'\\xa2', b'\\xa3', b'\\xa4', b'\\xa5', b'\\xa7', b'\\xa8', b'\\xa9', b'\\xaa', b'\\xab', b'\\xad', b'\\xae', b'\\xaf', b'\\xb1', b'\\xb2', b'\\xb3', b'\\xb4', b'\\xb5', b'\\xb6', b'\\xb7', b'\\xb8', b'\\xb9', b'\\xba', b'\\xbd', b'\\xbe', b'\\xbf', b'\\xe0', b'\\xe1', b'\\xe2', b'\\xe3', b'\\xe4', b'\\xe5', b'\\xe6', b'\\xe7', b'\\xe8', b'\\xe9', b'\\xea', b'\\xeb', b'\\xec', b'\\xed', b'\\xee', b'\\xf0', b'\\xf1', b'\\xf2', b'\\xf3', b'\\xf4', b'\\xf5', b'\\xf6', b'\\xf7', b'\\xf8', b'\\xfa', b'\\xfb', b'\\xfc', b'\\xfd', b'\\xfe', b'\\xff']\n",
      "31 59 [b' ', b'!', b'\"', b'#', b'$', b'%', b'&', b\"'\", b'(', b'*', b'+', b',', b'-', b'.', b'/', b'0', b'1', b'2', b'3', b'5', b'6', b'7', b'8', b'9', b':', b';', b'<', b'=', b'?', b'`', b'a', b'b', b'c', b'd', b'e', b'f', b'g', b'h', b'i', b'j', b'k', b'l', b'm', b'n', b'o', b'p', b'q', b'r', b's', b'u', b'v', b'w', b'x', b'y', b'{', b'|', b'}', b'~', b'\\x7f']\n",
      "32 66 [b'\\x01', b'\\x02', b'\\x03', b'\\x04', b'\\x05', b' ', b'!', b'\"', b'#', b'$', b'%', b'&', b\"'\", b'(', b')', b'*', b'+', b',', b'-', b'.', b'/', b'0', b'1', b'2', b'4', b'5', b'6', b'7', b'8', b'9', b':', b';', b'<', b'=', b'>', b'`', b'a', b'b', b'c', b'd', b'e', b'f', b'g', b'h', b'i', b'j', b'k', b'l', b'm', b'n', b'o', b'p', b'q', b'r', b's', b't', b'u', b'v', b'x', b'y', b'z', b'{', b'|', b'}', b'~', b'\\x7f']\n",
      "33 66 [b'\\x00', b'\\x01', b'\\x02', b'\\x03', b'\\x04', b'\\x05', b'\\x06', b'\\x07', b'\\x08', b'\\t', b'\\n', b'\\x0b', b'\\r', b'\\x0e', b'\\x0f', b'\\x10', b'\\x11', b'\\x12', b'\\x13', b'\\x14', b'\\x15', b'\\x16', b'\\x17', b'\\x18', b'\\x19', b'\\x1a', b'\\x1b', b'\\x1c', b'\\x1e', b'\\x1f', b'0', b'1', b'3', b'6', b'7', b'@', b'A', b'B', b'C', b'D', b'F', b'G', b'H', b'I', b'J', b'K', b'L', b'M', b'N', b'O', b'P', b'Q', b'R', b'S', b'T', b'U', b'V', b'W', b'X', b'Y', b'Z', b'[', b'\\\\', b']', b'^', b'_']\n",
      "34 94 [b'\\x00', b'\\x01', b'\\x02', b'\\x04', b'\\x05', b'\\x06', b'\\x07', b'\\x08', b'\\t', b'\\n', b'\\x0b', b'\\x0c', b'\\r', b'\\x0e', b'\\x0f', b'\\x10', b'\\x11', b'\\x12', b'\\x13', b'\\x14', b'\\x15', b'\\x16', b'\\x18', b'\\x19', b'\\x1a', b'\\x1b', b'\\x1c', b'\\x1d', b'\\x1e', b'\\x1f', b' ', b'!', b'\"', b'#', b'$', b'%', b'&', b\"'\", b'(', b')', b'*', b'+', b',', b'-', b'.', b'/', b'0', b'1', b'2', b'3', b'4', b'5', b'6', b'7', b'8', b'9', b':', b';', b'<', b'=', b'>', b'?', b'@', b'A', b'B', b'C', b'D', b'E', b'F', b'G', b'H', b'I', b'J', b'K', b'L', b'M', b'N', b'O', b'P', b'Q', b'R', b'S', b'T', b'U', b'V', b'W', b'X', b'Y', b'Z', b'[', b'\\\\', b']', b'^', b'_']\n",
      "35 94 [b'\\x00', b'\\x01', b'\\x02', b'\\x03', b'\\x04', b'\\x05', b'\\x06', b'\\x07', b'\\x08', b'\\t', b'\\n', b'\\x0b', b'\\x0c', b'\\r', b'\\x0e', b'\\x0f', b'\\x10', b'\\x11', b'\\x12', b'\\x13', b'\\x14', b'\\x15', b'\\x16', b'\\x17', b'\\x18', b'\\x19', b'\\x1a', b'\\x1b', b'\\x1c', b'\\x1d', b'\\x1e', b'\\x1f', b'@', b'A', b'B', b'C', b'E', b'F', b'G', b'H', b'I', b'J', b'K', b'L', b'M', b'N', b'O', b'P', b'Q', b'S', b'T', b'U', b'V', b'W', b'X', b'Y', b'Z', b'[', b'\\\\', b']', b'^', b'_', b'`', b'a', b'b', b'c', b'd', b'e', b'f', b'g', b'h', b'i', b'j', b'k', b'l', b'm', b'n', b'o', b'p', b'q', b'r', b's', b't', b'u', b'v', b'w', b'x', b'y', b'z', b'{', b'|', b'}', b'~', b'\\x7f']\n",
      "36 100 [b'\\x80', b'\\x81', b'\\x82', b'\\x83', b'\\x84', b'\\x85', b'\\x86', b'\\x87', b'\\x88', b'\\x89', b'\\x8a', b'\\x8b', b'\\x8c', b'\\x8d', b'\\x8e', b'\\x8f', b'\\x90', b'\\x91', b'\\x92', b'\\x93', b'\\x94', b'\\x95', b'\\x96', b'\\x97', b'\\x98', b'\\x99', b'\\x9a', b'\\x9b', b'\\x9c', b'\\x9d', b'\\x9e', b'\\x9f', b'\\xaa', b'\\xab', b'\\xac', b'\\xad', b'\\xaf', b'\\xc0', b'\\xc1', b'\\xc2', b'\\xc3', b'\\xc4', b'\\xc5', b'\\xc6', b'\\xc7', b'\\xc8', b'\\xc9', b'\\xca', b'\\xcb', b'\\xcc', b'\\xcd', b'\\xce', b'\\xcf', b'\\xd0', b'\\xd1', b'\\xd2', b'\\xd3', b'\\xd4', b'\\xd5', b'\\xd6', b'\\xd7', b'\\xd8', b'\\xda', b'\\xdb', b'\\xdc', b'\\xdd', b'\\xde', b'\\xdf', b'\\xe0', b'\\xe1', b'\\xe2', b'\\xe3', b'\\xe4', b'\\xe5', b'\\xe6', b'\\xe7', b'\\xe8', b'\\xe9', b'\\xea', b'\\xeb', b'\\xec', b'\\xed', b'\\xee', b'\\xef', b'\\xf0', b'\\xf1', b'\\xf2', b'\\xf3', b'\\xf4', b'\\xf5', b'\\xf6', b'\\xf7', b'\\xf8', b'\\xf9', b'\\xfa', b'\\xfb', b'\\xfc', b'\\xfd', b'\\xfe', b'\\xff']\n",
      "37 100 [b'\\x80', b'\\x81', b'\\x84', b'\\x86', b'\\x87', b'\\xa0', b'\\xa1', b'\\xa2', b'\\xa3', b'\\xa4', b'\\xa5', b'\\xa6', b'\\xa7', b'\\xa8', b'\\xa9', b'\\xaa', b'\\xab', b'\\xac', b'\\xad', b'\\xae', b'\\xaf', b'\\xb0', b'\\xb1', b'\\xb2', b'\\xb3', b'\\xb4', b'\\xb5', b'\\xb6', b'\\xb7', b'\\xb8', b'\\xb9', b'\\xba', b'\\xbb', b'\\xbc', b'\\xbd', b'\\xbe', b'\\xbf', b'\\xc0', b'\\xc1', b'\\xc2', b'\\xc3', b'\\xc4', b'\\xc5', b'\\xc6', b'\\xc7', b'\\xc8', b'\\xc9', b'\\xca', b'\\xcb', b'\\xcc', b'\\xcd', b'\\xce', b'\\xcf', b'\\xd0', b'\\xd1', b'\\xd2', b'\\xd3', b'\\xd4', b'\\xd5', b'\\xd6', b'\\xd7', b'\\xd8', b'\\xd9', b'\\xda', b'\\xdb', b'\\xdc', b'\\xdd', b'\\xde', b'\\xdf', b'\\xe0', b'\\xe1', b'\\xe2', b'\\xe3', b'\\xe4', b'\\xe5', b'\\xe6', b'\\xe7', b'\\xe8', b'\\xe9', b'\\xea', b'\\xeb', b'\\xec', b'\\xed', b'\\xee', b'\\xef', b'\\xf0', b'\\xf1', b'\\xf3', b'\\xf4', b'\\xf5', b'\\xf6', b'\\xf7', b'\\xf8', b'\\xf9', b'\\xfa', b'\\xfb', b'\\xfc', b'\\xfd', b'\\xfe', b'\\xff']\n",
      "272346642767837005744053519896957242879688915602636800000000000000\n"
     ]
    }
   ],
   "source": [
    "count = 1\n",
    "for key, val in all_possible_bytes_for_keystream.items():\n",
    "    print(key, len(val), val)\n",
    "    count *= len(val)\n",
    "print(count)"
   ]
  },
  {
   "cell_type": "code",
   "execution_count": null,
   "metadata": {},
   "outputs": [],
   "source": [
    "import challenge3 as c3\n",
    "score_for_each_possible_bytes = []\n",
    "\n",
    "for i, val in all_possible_bytes_for_keystream.items():\n",
    "    score_list = []\n",
    "    for possible_byte in val:\n",
    "        score_input_text = ''\n",
    "        for encrypted_btyes in encrypted_btyes_list:\n",
    "            if len(encrypted_btyes) <= i:\n",
    "                continue\n",
    "            score_input_text += chr(encrypted_btyes[i] ^ possible_byte[0])\n",
    "        score = c3.get_score(score_input_text)\n",
    "        score_list.append((possible_byte, score))\n",
    "    score_list.sort(key=lambda x: x[1], reverse=True)\n",
    "    score_for_each_possible_bytes.append((i, score_list))"
   ]
  },
  {
   "cell_type": "code",
   "execution_count": null,
   "metadata": {},
   "outputs": [
    {
     "name": "stdout",
     "output_type": "stream",
     "text": [
      "(0, [(b'\\xc3', 226.11), (b'\\xe3', 226.11), (b'\\xc4', 199.75), (b'\\xe4', 199.75), (b'\\xe5', 195.56), (b'\\xc7', 188.0), (b'\\xe7', 188.0), (b'\\xd8', 171.02), (b'\\xf8', 171.02), (b'\\xf9', 164.21), (b'\\xd2', 164.19), (b'\\xf2', 164.19), (b'\\xce', 159.54), (b'\\xee', 159.54), (b'\\xfe', 151.7), (b'\\xd6', 149.75), (b'\\xf6', 149.75), (b'\\xc2', 145.27), (b'\\xe2', 145.27), (b'\\xff', 138.51), (b'\\xd1', 133.6), (b'\\xf1', 133.6), (b'\\xef', 131.87), (b'\\xf5', 127.79), (b'\\x82', 126), (b'\\x97', 126), (b'\\xcd', 121.16), (b'\\xed', 121.16), (b'\\xc0', 113.64), (b'\\xe0', 113.64), (b'\\xdb', 111.24), (b'\\xfb', 111.24), (b'\\xe9', 107.23), (b'\\xc6', 106.53), (b'\\xe6', 106.53), (b'\\xeb', 105.84), (b'\\xf3', 98.9), (b'\\xd0', 96.33), (b'\\xf0', 96.33), (b'\\x8b', 90), (b'\\xca', 89.74), (b'\\xea', 89.74), (b'\\xc1', 87.99), (b'\\xe1', 87.99), (b'\\xec', 87.54), (b'\\xf4', 83.04), (b'\\xe8', 78.71), (b'\\xfa', 73.66), (b'\\xd7', 72.42), (b'\\xf7', 72.42), (b'\\x8a', 72), (b'\\xdc', 64.39), (b'\\xfc', 64.39), (b'\\xfd', 54.37), (b'\\x8c', 54), (b'\\x90', 54), (b'\\x94', 54), (b'\\x81', 36), (b'\\x80', 18), (b'\\x85', 18), (b'\\x86', 18), (b'\\x93', 18), (b'\\x96', 18), (b'\\x9a', 18), (b'\\x83', 0), (b'\\x84', 0), (b'\\x87', 0), (b'\\x88', 0), (b'\\x89', 0), (b'\\x8d', 0), (b'\\x8e', 0), (b'\\x8f', 0), (b'\\x91', 0), (b'\\x92', 0), (b'\\x95', 0), (b'\\x98', 0), (b'\\x99', 0), (b'\\x9b', 0), (b'\\x9c', 0), (b'\\x9d', 0), (b'\\x9e', 0), (b'\\x9f', 0)])\n",
      "(1, [(b'\\x02', 330.2), (b'\\x03', 196.27), (b'\\x04', 188.89), (b'G', 181.8), (b'\\x1e', 181.31), (b'\\t', 171.06), (b')', 171.06), (b'\\x05', 164.1), (b'(', 162.86), (b'\\x19', 153.52), (b'/', 153.0), (b'\\x1f', 147.57), (b'M', 143.8), (b'\\x0b', 142.46), (b'+', 142.46), (b'J', 141.0), (b'\\x0e', 130.18), (b'.', 130.18), (b'\\x06', 130.02), (b'P', 127.9), (b'L', 123.25), (b'\\x00', 97.01), (b'\\x01', 90.96), (b'\\x0c', 86.07), (b'\\r', 82.0), (b'\\n', 72.36), (b'C', 60.5), (b'\\x07', 58.34), (b'K', 55.7), (b'\\x1d', 54.72), (b'\\x17', 50.63), (b'\\x1a', 47.92), (b'N', 45.45), (b'W', 36.15), (b'V', 34.75), (b'\\x16', 31.8), (b'Q', 28.7), (b'D', 27.05), (b'\\x10', 26.08), (b'A', 22.7), (b'F', 16.9), (b'R', 15.85), (b'O', 15.05), (b'E', 12.35), (b'@', 10.35), (b'[', 8.9), (b'U', 6.45), (b'I', 5.5), (b'T', 5.05), (b'Z', 1.45), (b'X', 1.35), (b'H', 1.0), (b'S', 1.0), (b'B', 0), (b'Y', 0), (b'\\\\', 0), (b'^', 0), (b'_', 0)])\n",
      "(2, [(b'\\x83', 370.97), (b'\\xca', 177.26), (b'\\xc6', 173.84), (b'\\xd7', 167.03), (b'\\xc2', 153.52), (b'\\x85', 138.2), (b'\\x82', 125.41), (b'\\xcc', 123.84), (b'\\x87', 111.93), (b'\\x84', 111.79), (b'\\x9e', 111.49), (b'\\x8b', 109.4), (b'\\x92', 102.44), (b'\\xd1', 101.38), (b'\\xc7', 97.18), (b'\\xcf', 96.39), (b'\\x89', 93.36), (b'\\x86', 87.47), (b'\\x96', 86.54), (b'\\x8a', 82.25), (b'\\x9f', 79.68), (b'\\xcd', 77.29), (b'\\xcb', 75.76), (b'\\x81', 74.85), (b'\\x8d', 72.35), (b'\\xce', 68.11), (b'\\x80', 65.39), (b'\\xc0', 64.26), (b'\\x8c', 49.98), (b'\\xc4', 47.37), (b'\\x9c', 46.85), (b'\\x9a', 46.53), (b'\\xd6', 43.49), (b'\\xc1', 36.07), (b'\\xd3', 34.87), (b'\\x97', 33.18), (b'\\xda', 26.84), (b'\\xc5', 20.31), (b'\\xdb', 17.09), (b'\\xc8', 17.04), (b'\\xdd', 15.16), (b'\\xd4', 14.19), (b'\\xd5', 11.65), (b'\\xc3', 10.98), (b'\\xdf', 6.34), (b'\\xc9', 5.82), (b'\\xd9', 4.99), (b'\\xd8', 2.58), (b'\\xd2', 2.2), (b'\\xde', 0.4)])\n",
      "(3, [(b'\\x91', 363.43), (b'\\x96', 150.97), (b'\\xd4', 147.6), (b'\\xc2', 147.4), (b'\\xd8', 147.4), (b'\\x90', 146.88), (b'\\xd0', 139.0), (b'\\x8c', 136.66), (b'\\x97', 133.95), (b'\\x8d', 132.33), (b'\\x95', 125.74), (b'\\xc5', 123.5), (b'\\xdf', 120.5), (b'\\xbd', 107.75), (b'\\x99', 96.73), (b'\\xbc', 96.26), (b'\\xc3', 93.8), (b'\\x84', 87.31), (b'\\xd9', 84.0), (b'\\xba', 83.29), (b'\\x93', 79.81), (b'\\x94', 76.3), (b'\\xbb', 73.45), (b'\\x8e', 72.49), (b'\\xde', 71.6), (b'\\x92', 71.14), (b'\\x81', 68.87), (b'\\xc1', 67.7), (b'\\x98', 67.57), (b'\\xb8', 67.57), (b'\\xdc', 66.1), (b'\\x88', 63.62), (b'\\x89', 57.12), (b'\\xdd', 54.9), (b'\\xc4', 54.3), (b'\\x82', 53.93), (b'\\xd5', 51.8), (b'\\x9f', 49.08), (b'\\x85', 48.25), (b'\\xd2', 45.4), (b'\\xd6', 24.7), (b'\\xd3', 20.7), (b'\\xd7', 18.1), (b'\\xc8', 17.8), (b'\\xc6', 12.9), (b'\\xda', 11.0), (b'\\xc7', 10.1), (b'\\xc9', 2.9), (b'\\xcb', 2.7), (b'\\xc0', 2.0), (b'\\xdb', 2.0), (b'\\xca', 0), (b'\\xcc', 0), (b'\\xcd', 0), (b'\\xcf', 0), (b'\\xd1', 0)])\n",
      "(4, [(b'\\x95', 339.96), (b'\\x93', 178.33), (b'\\x97', 133.37), (b'\\x8e', 132.58), (b'\\x88', 129.53), (b'\\x94', 126.71), (b'\\x92', 124.79), (b'\\x91', 115.85), (b'\\x80', 110.35), (b'\\xd0', 107.28), (b'\\xb8', 103.54), (b'\\xbe', 87.97), (b'\\x9a', 86.17), (b'\\xbf', 83.54), (b'\\xbc', 81.47), (b'\\x9d', 80.74), (b'\\x90', 80.03), (b'\\xb9', 77.85), (b'\\x96', 76.46), (b'\\x9b', 75.57), (b'\\xd6', 72.32), (b'\\x8a', 66.63), (b'\\x8c', 64.19), (b'\\x87', 53.22), (b'\\x81', 49.18), (b'\\xd1', 27.04), (b'\\xd7', 16.56), (b'\\xd5', 0)])\n",
      "(5, [(b'/', 272.51), (b'\\x05', 192.62), (b'%', 192.62), (b'.', 180.45), (b'\\x04', 162.39), (b'$', 162.39), (b'\\x03', 157.54), (b'#', 157.54), (b'-', 147.95), (b'`', 147.48), (b'j', 141.48), (b'+', 139.47), (b'2', 134.25), (b',', 125.97), (b'\\x06', 121.17), (b'(', 120.78), (b'!', 115.49), (b'\\x02', 114.14), (b'0', 88.77), (b'*', 88.66), (b'1', 77.18), (b'}', 76.74), (b'a', 73.95), (b' ', 72.1), (b':', 69.92), (b'b', 63.03), (b'f', 58.62), (b';', 51.45), (b'k', 46.14), (b'g', 45.0), (b'h', 43.41), (b'y', 39.03), (b'c', 34.47), (b'l', 31.62), (b'n', 25.5), (b'i', 23.43), (b'v', 23.34), (b'x', 21.87), (b'{', 20.85), (b'|', 17.22), (b'z', 10.89), (b'\\x7f', 9.51), (b'm', 6.21), (b'd', 3.3), (b'w', 0.87), (b'u', 0.81), (b'e', 0.6), (b'~', 0.6), (b'o', 0), (b'q', 0), (b'r', 0), (b's', 0), (b't', 0)])\n",
      "(6, [(b'\\xf7', 337.92), (b'\\xb8', 230.12), (b'\\xdd', 198.66), (b'\\xfd', 198.66), (b'\\xf1', 191.24), (b'\\xf6', 158.9), (b'\\xdb', 156.6), (b'\\xf9', 150.76), (b'\\xea', 148.31), (b'\\xb2', 132.12), (b'\\xf3', 130.12), (b'\\xff', 127.1), (b'\\xf0', 126.88), (b'\\xbe', 124.78), (b'\\xda', 113.85), (b'\\xfa', 113.85), (b'\\xb6', 113.5), (b'\\xf5', 108.57), (b'\\xdc', 107.78), (b'\\xf4', 99.9), (b'\\xa3', 84.65), (b'\\xde', 81.63), (b'\\xf2', 78.9), (b'\\xe8', 69.38), (b'\\xe2', 65.69), (b'\\xb9', 64.55), (b'\\xb3', 59.66), (b'\\xf8', 59.15), (b'\\xa4', 58.18), (b'\\xbf', 57.0), (b'\\xe4', 55.94), (b'\\xee', 53.52), (b'\\xa5', 53.06), (b'\\xb4', 49.78), (b'\\xba', 39.07), (b'\\xbb', 38.43), (b'\\xb0', 35.29), (b'\\xbc', 25.7), (b'\\xa2', 25.41), (b'\\xa1', 25.07), (b'\\xa7', 22.19), (b'\\xb5', 14.49), (b'\\xb1', 12.67), (b'\\xae', 12.46), (b'\\xa0', 9.03), (b'\\xaf', 2.03), (b'\\xad', 1.89), (b'\\xa6', 1.4), (b'\\xbd', 1.4), (b'\\xa9', 0), (b'\\xaa', 0), (b'\\xab', 0), (b'\\xac', 0), (b'\\xb7', 0)])\n",
      "(7, [(b'*', 247.54), (b'-', 184.44), (b'+', 180.35), (b',', 179.56), (b'o', 145.4), (b'.', 134.79), (b':', 127.51), (b'(', 106.91), (b'c', 91.4), (b')', 90.39), (b'd', 89.44), (b'#', 86.12), (b'3', 84.24), (b'/', 84.04), (b'\\x7f', 82.82), (b'g', 77.02), (b'4', 70.25), (b'?', 70.17), (b'~', 68.48), (b'b', 66.76), (b'2', 65.75), (b'>', 63.4), (b'i', 59.4), (b'5', 57.83), (b'9', 54.47), (b'h', 53.44), (b'$', 52.85), (b'x', 51.16), (b'n', 30.76), (b'z', 24.34), (b'e', 23.4), (b'k', 23.02), (b'}', 20.58), (b't', 15.16), (b'r', 14.48), (b'f', 10.98), (b'j', 10.98), (b's', 10.82), (b'a', 7.14), (b'm', 7.14), (b'v', 6.34), (b'`', 4.02), (b'l', 4.02), (b'q', 2.58), (b'p', 2.56), (b'|', 2.56), (b'w', 0.4), (b'{', 0.4)])\n",
      "(8, [(b'\\xfa', 329.48), (b'\\xbf', 174.96), (b'\\xfe', 170.64), (b'\\xf8', 157.85), (b'\\xfc', 151.85), (b'\\xd1', 136.55), (b'\\xd3', 130.6), (b'\\xf3', 130.6), (b'\\xfb', 128.36), (b'\\xbb', 123.0), (b'\\xd7', 122.44), (b'\\xd0', 121.32), (b'\\xf0', 121.32), (b'\\xd6', 118.44), (b'\\xf6', 118.44), (b'\\xb4', 111.9), (b'\\xfd', 111.39), (b'\\xef', 109.47), (b'\\xf5', 103.1), (b'\\xf4', 102.89), (b'\\xf9', 99.58), (b'\\xae', 95.7), (b'\\xe7', 90.54), (b'\\xff', 89.17), (b'\\xb6', 86.94), (b'\\xa8', 81.48), (b'\\xbd', 68.82), (b'\\xb3', 63.24), (b'\\xe3', 61.22), (b'\\xb5', 60.96), (b'\\xe5', 60.41), (b'\\xb7', 54.06), (b'\\xb9', 45.24), (b'\\xbe', 38.28), (b'\\xb2', 36.0), (b'\\xa9', 34.44), (b'\\xad', 25.74), (b'\\xb1', 24.6), (b'\\xaf', 21.78), (b'\\xaa', 19.02), (b'\\xb8', 12.42), (b'\\xbc', 10.86), (b'\\xa3', 10.68), (b'\\xac', 6.06), (b'\\xa2', 1.74), (b'\\xa0', 1.62), (b'\\xab', 1.2), (b'\\xb0', 1.2), (b'\\xa1', 0), (b'\\xa4', 0), (b'\\xa6', 0), (b'\\xa7', 0), (b'\\xba', 0)])\n",
      "(9, [(b'\\x0c', 310.33), (b'\\n', 197.35), (b'\\x0b', 177.89), (b'I', 171.34), (b'\\r', 170.72), (b'\\x10', 148.48), (b'D', 144.38), (b'\\x08', 143.95), (b'\\x17', 142.69), (b'X', 125.04), (b'\\x05', 119.87), (b'\\x06', 108.41), (b'E', 102.86), (b'\\x19', 95.56), (b'B', 89.32), (b'\\x0e', 77.85), (b'\\x04', 74.06), (b'^', 73.9), (b'\\x0f', 67.37), (b'\\x03', 65.08), (b'\\x02', 64.26), (b'M', 63.51), (b'\\x1e', 60.35), (b'C', 58.34), (b'\\x1f', 57.9), (b'\\t', 57.64), (b'K', 49.45), (b'\\x13', 46.02), (b'N', 35.0), (b'\\x15', 33.93), (b'O', 29.86), (b'\\x18', 29.16), (b'@', 27.45), (b'A', 23.55), (b'Y', 19.93), (b'H', 19.9), (b'\\\\', 15.85), (b'U', 12.53), (b'J', 9.25), (b'T', 8.4), (b'G', 7.97), (b'R', 7.58), (b'[', 6.45), (b'L', 5.49), (b'Z', 5.32), (b'P', 3.17), (b'F', 2.81), (b'V', 2.36), (b'W', 1.29), (b']', 1.0), (b'Q', 0.2)])\n",
      "(10, [(b'\\xc4', 368.23), (b'\\x85', 226.8), (b'\\x81', 181.83), (b'\\xc0', 148.38), (b'\\x8a', 139.23), (b'\\x90', 119.97), (b'\\x8b', 119.83), (b'\\xc3', 119.1), (b'\\xc9', 113.84), (b'\\xc5', 112.6), (b'\\xc2', 103.69), (b'\\xc6', 94.99), (b'\\x8d', 92.97), (b'\\xd7', 92.93), (b'\\xd1', 89.35), (b'\\x97', 88.09), (b'\\x80', 85.26), (b'\\x91', 83.8), (b'\\xcb', 83.78), (b'\\xca', 80.07), (b'\\xd2', 78.72), (b'\\xc1', 77.18), (b'\\xd8', 77.03), (b'\\xc7', 74.6), (b'\\xd9', 73.74), (b'\\x88', 69.99), (b'\\x8c', 69.32), (b'\\xdc', 63.43), (b'\\xd0', 63.09), (b'\\x87', 59.97), (b'\\xdd', 53.24), (b'\\x89', 51.31), (b'\\x92', 47.31), (b'\\xdb', 42.79), (b'\\x86', 41.09), (b'\\x94', 36.16), (b'\\x93', 35.63), (b'\\x82', 29.51), (b'\\x83', 27.37), (b'\\x9d', 26.53), (b'\\x8f', 19.4), (b'\\x8e', 7.68), (b'\\x9a', 7.52), (b'\\x84', 5.48), (b'\\x9e', 4.26), (b'\\x99', 3.44), (b'\\x95', 3.21), (b'\\x9f', 1.01), (b'\\x98', 0.2)])\n",
      "(11, [(b'\\xdc', 318.21), (b'\\xda', 155.89), (b'\\x99', 150.82), (b'\\x95', 143.48), (b'\\xdb', 138.31), (b'\\xdd', 136.58), (b'\\xd8', 129.69), (b'\\x8e', 114.64), (b'\\xd4', 113.48), (b'\\x9d', 107.01), (b'\\xde', 105.14), (b'\\xd6', 103.37), (b'\\xcf', 91.95), (b'\\xdf', 90.42), (b'\\xd9', 84.55), (b'\\xd2', 81.82), (b'\\x93', 79.82), (b'\\xc9', 79.37), (b'\\x88', 73.89), (b'\\x92', 73.27), (b'\\xc3', 70.0), (b'\\x91', 68.58), (b'\\xd3', 68.43), (b'\\x94', 63.38), (b'\\x9f', 61.48), (b'\\x9e', 59.21), (b'\\x9b', 56.86), (b'\\xc8', 54.21), (b'\\x98', 48.04), (b'\\x8a', 44.35), (b'\\x90', 43.92), (b'\\x9a', 32.68), (b'\\x89', 30.82), (b'\\x8c', 25.36), (b'\\x85', 17.87), (b'\\x97', 11.27), (b'\\x8b', 10.32), (b'\\x84', 9.27), (b'\\x82', 7.58), (b'\\x9c', 5.49), (b'\\x96', 3.41), (b'\\x80', 3.17), (b'\\x86', 3.17), (b'\\x8d', 1.6), (b'\\x87', 1.29), (b'\\x81', 0.2)])\n",
      "(12, [(b'\\x9a', 378.97), (b'\\xdf', 219.6), (b'\\xdb', 157.0), (b'\\xd4', 156.5), (b'\\x91', 149.8), (b'\\xb1', 149.8), (b'\\x9e', 144.89), (b'\\x96', 143.87), (b'\\xb6', 143.87), (b'\\x97', 135.07), (b'\\xb7', 135.07), (b'\\x9b', 134.29), (b'\\x9c', 131.83), (b'\\xd3', 129.4), (b'\\x9d', 127.33), (b'\\xb0', 124.31), (b'\\x92', 119.22), (b'\\x98', 112.47), (b'\\xb3', 104.61), (b'\\x95', 103.03), (b'\\xd5', 89.6), (b'\\x9f', 84.51), (b'\\x94', 78.11), (b'\\x99', 77.75), (b'\\xc8', 75.8), (b'\\xd6', 72.9), (b'\\xde', 69.8), (b'\\xce', 69.5), (b'\\xd2', 66.0), (b'\\x8f', 63.98), (b'\\xd9', 63.4), (b'\\xc9', 57.4), (b'\\xcf', 54.3), (b'\\xd7', 48.1), (b'\\x8e', 44.09), (b'\\xdd', 42.7), (b'\\x83', 42.03), (b'\\xd8', 38.7), (b'\\x85', 32.75), (b'\\xca', 31.7), (b'\\xcc', 28.1), (b'\\xdc', 18.1), (b'\\xc3', 17.8), (b'\\xcd', 12.9), (b'\\xd1', 11.0), (b'\\xc2', 2.9), (b'\\xc0', 2.7), (b'\\xcb', 2.0), (b'\\xd0', 2.0), (b'\\xc1', 0), (b'\\xc4', 0), (b'\\xc6', 0), (b'\\xc7', 0), (b'\\xda', 0)])\n",
      "(13, [(b'\\x88', 320.33), (b'\\x8e', 192.89), (b'\\x89', 162.85), (b'\\xda', 153.48), (b'\\x8f', 153.42), (b'\\x82', 132.03), (b'\\xa2', 132.03), (b'\\xa3', 118.44), (b'\\xa5', 116.61), (b'\\xc7', 114.96), (b'\\x8a', 114.87), (b'\\x8c', 113.53), (b'\\xa4', 108.97), (b'\\xc9', 105.0), (b'\\x9b', 103.45), (b'\\xcd', 102.96), (b'\\x86', 99.44), (b'\\xdc', 95.7), (b'\\xc6', 93.9), (b'\\x9d', 83.76), (b'\\xc1', 81.24), (b'\\x8d', 79.98), (b'\\x8b', 78.43), (b'\\x87', 77.27), (b'\\x81', 68.14), (b'\\xa1', 68.14), (b'\\xcb', 63.24), (b'\\x9a', 56.43), (b'\\xcc', 56.28), (b'\\x97', 55.51), (b'\\xc0', 54.0), (b'\\xdb', 52.44), (b'\\x91', 46.12), (b'\\xc4', 32.94), (b'\\xcf', 32.82), (b'\\xca', 30.42), (b'\\xdf', 25.74), (b'\\xc3', 24.6), (b'\\xdd', 21.78), (b'\\xd8', 19.02), (b'\\xc5', 18.06), (b'\\xce', 10.86), (b'\\xd1', 10.68), (b'\\xde', 6.06), (b'\\xd0', 1.74), (b'\\xd2', 1.62), (b'\\xc2', 1.2), (b'\\xd9', 1.2), (b'\\xc8', 0), (b'\\xd3', 0), (b'\\xd4', 0), (b'\\xd5', 0), (b'\\xd6', 0)])\n",
      "(14, [(b'2', 310.27), (b'w', 195.48), (b'6', 186.1), (b'4', 174.15), (b'\\x1e', 165.12), (b'5', 144.82), (b'3', 143.69), (b'\\x18', 137.59), (b')', 127.85), (b'/', 119.22), (b'0', 111.37), (b'\\x19', 107.43), (b\"'\", 101.77), (b'1', 100.17), (b'\\x1f', 99.54), (b'\\x1b', 98.82), (b'{', 94.62), (b'7', 88.94), (b'<', 81.89), (b's', 79.5), (b'f', 74.85), (b'*', 73.17), (b'-', 71.22), (b'=', 64.57), (b'&', 62.39), (b'`', 58.74), (b'}', 57.48), (b'a', 53.22), (b'g', 46.89), (b'\\x7f', 45.03), (b'e', 39.87), (b'|', 37.95), (b'~', 34.47), (b'q', 31.62), (b'z', 27.0), (b't', 23.43), (b'd', 21.03), (b'v', 10.14), (b'b', 9.51), (b'u', 7.41), (b'p', 6.21), (b'k', 5.34), (b'y', 3.3), (b'j', 0.87), (b'h', 0.81), (b'c', 0.6), (b'x', 0.6), (b'i', 0), (b'l', 0), (b'n', 0), (b'o', 0), (b'r', 0)])\n",
      "(15, [(b'k', 327.24), (b'j', 150.03), (b'.', 146.28), (b'l', 139.62), (b'w', 133.86), (b'o', 106.67), (b'h', 90.36), (b'~', 84.97), (b'i', 82.94), (b'n', 81.89), (b'b', 75.77), (b'/', 70.58), (b't', 69.28), (b's', 69.2), (b'r', 65.24), (b'e', 63.37), (b'\\x7f', 45.56), (b'(', 42.97), (b')', 41.72), (b'+', 3.01)])\n",
      "(16, [(b'x', 313.87), (b'S', 147.48), (b'y', 145.85), (b'|', 141.97), (b'=', 138.96), (b'z', 138.27), (b'p', 136.75), (b'9', 123.0), (b'd', 122.38), (b'm', 120.18), (b'\\x7f', 118.84), (b'e', 116.17), (b'T', 112.52), (b'6', 111.9), (b'R', 108.69), (b'r', 108.69), (b'Q', 105.52), (b'q', 105.52), (b'?', 104.82), (b'U', 103.58), (b'k', 103.07), (b'*', 99.48), (b'w', 90.85), (b'v', 90.09), (b'+', 88.44), (b'1', 81.24), (b'h', 81.19), (b',', 77.7), (b'{', 77.43), (b'l', 73.86), (b'}', 72.56), (b'<', 56.28), (b'5', 54.06), (b'g', 53.12), (b'!', 46.68), (b'7', 42.96), (b'a', 36.68), (b'0', 36.0), (b'4', 32.94), (b';', 27.24), (b'-', 21.78), (b'(', 19.02), (b':', 12.42), (b'>', 10.86), (b'/', 7.74), (b'3', 6.6), (b'.', 6.06), (b' ', 1.74), (b'\"', 1.62), (b')', 1.2), (b'2', 1.2), (b'#', 0), (b'$', 0), (b'%', 0), (b'&', 0), (b'8', 0)])\n",
      "(17, [(b'Z', 351.79), (b'\\x1f', 215.28), (b'^', 146.7), (b'S', 130.66), (b's', 130.66), (b'w', 126.89), (b'q', 123.92), (b']', 121.09), (b'[', 119.38), (b'\\x16', 115.92), (b'v', 111.69), (b'F', 110.91), (b'\\x0e', 109.6), (b'p', 107.53), (b'X', 106.83), (b'\\x1b', 104.0), (b'A', 100.05), (b'O', 99.34), (b'Y', 97.24), (b'\\x13', 96.32), (b'\\x14', 89.2), (b'_', 84.16), (b'\\x08', 78.64), (b'\\x15', 75.28), (b'T', 73.59), (b'H', 71.3), (b'U', 69.29), (b'\\t', 63.92), (b'\\x12', 60.0), (b'\\x1d', 55.76), (b'C', 54.55), (b'E', 53.41), (b'N', 47.72), (b'\\x0f', 47.04), (b'\\r', 46.32), (b'\\x19', 36.32), (b'\\x18', 34.56), (b'\\x03', 32.24), (b'\\x1e', 27.04), (b'\\n', 25.36), (b'\\x17', 24.08), (b'\\x1c', 14.48), (b'\\x11', 8.8), (b'\\x0c', 8.08), (b'\\x02', 2.32), (b'\\x00', 2.16), (b'\\x0b', 1.6), (b'\\x10', 1.6), (b'\\x01', 0), (b'\\x04', 0), (b'\\x06', 0), (b'\\x07', 0), (b'\\x1a', 0)])\n",
      "(18, [(b'\\x16', 332.01), (b'S', 150.12), (b'\\x11', 143.73), (b'_', 142.78), (b':', 139.27), (b'\\x12', 139.0), (b'W', 131.5), (b'<', 128.97), (b'\\x17', 128.58), (b'\\x0b', 114.61), (b'=', 101.92), (b'\\x13', 100.13), (b';', 99.35), (b'\\x14', 98.3), (b'\\x03', 98.08), (b'\\x15', 97.47), (b'\\x01', 95.79), (b'Y', 86.12), (b'B', 84.65), (b'X', 82.55), (b'\\x18', 81.73), (b'E', 76.18), (b'\\x05', 75.47), (b'\\x1f', 71.93), (b'?', 71.93), (b'\\x02', 71.15), (b'D', 71.06), (b'R', 59.66), (b'\\x0e', 58.56), (b'\\t', 55.37), (b'U', 49.78), (b'P', 48.67), (b'A', 45.03), (b'C', 43.41), (b'F', 40.19), (b'[', 39.07), (b'Z', 38.43), (b'O', 30.46), (b'^', 21.0), (b'Q', 17.29), (b'T', 14.49), (b']', 7.7), (b'@', 7.07), (b'N', 2.03), (b'L', 1.89), (b'G', 1.4), (b'\\\\', 1.4), (b'H', 0), (b'J', 0), (b'K', 0), (b'M', 0), (b'V', 0)])\n",
      "(19, [(b'\\xe9', 303.19), (b'\\xf8', 149.32), (b'\\xe8', 147.78), (b'\\xed', 147.71), (b'\\xff', 142.97), (b'\\xee', 140.79), (b'\\xf4', 121.4), (b'\\xfc', 108.72), (b'\\xe3', 107.7), (b'\\xe0', 98.62), (b'\\xfb', 94.95), (b'\\xf1', 91.25), (b'\\xec', 89.47), (b'\\xeb', 86.26), (b'\\xea', 80.41), (b'\\xf6', 72.13), (b'\\xe7', 68.29), (b'\\xf0', 53.21), (b'\\xad', 52.9), (b'\\xe6', 51.91), (b'\\xaa', 42.48), (b'\\xab', 10.64), (b'\\xa9', 0.27)])\n",
      "(20, [(b'\\xb8', 336.74), (b'\\xb9', 141.85), (b'\\xbe', 140.54), (b'\\xbf', 138.33), (b'\\xf1', 137.99), (b'\\xec', 131.76), (b'\\xfd', 129.87), (b'\\xea', 122.35), (b'\\xa5', 120.89), (b'\\xf7', 117.72), (b'\\xf0', 109.03), (b'\\xf6', 106.33), (b'\\xf9', 103.27), (b'\\xeb', 101.89), (b'\\xf4', 97.93), (b'\\xb1', 87.66), (b'\\xbc', 85.64), (b'\\xb0', 76.31), (b'\\xbd', 75.79), (b'\\xa7', 74.54), (b'\\xba', 73.32), (b'\\xbb', 72.1), (b'\\xb7', 64.71), (b'\\xfb', 63.69), (b'\\xed', 61.15), (b'\\xa0', 59.27), (b'\\xf5', 56.69), (b'\\xb6', 55.61), (b'\\xad', 55.52), (b'\\xe8', 39.96), (b'\\xfe', 37.88), (b'\\xac', 35.83), (b'\\xff', 24.99), (b'\\xfa', 22.48), (b'\\xe2', 22.36), (b'\\xe1', 21.68), (b'\\xef', 21.39), (b'\\xf3', 21.12), (b'\\xee', 20.65), (b'\\xe6', 19.66), (b'\\xe0', 9.91), (b'\\xe9', 8.85), (b'\\xe4', 7.01), (b'\\xf2', 5.83), (b'\\xe5', 3.88), (b'\\xe3', 3.38)])\n",
      "(21, [(b'\\xfe', 270.7), (b'\\xbb', 160.18), (b'\\xff', 149.44), (b'\\xf9', 139.24), (b'\\xfa', 117.69), (b'\\xb1', 105.18), (b'\\xf7', 98.67), (b'\\xfd', 96.97), (b'\\xf0', 86.37), (b'\\xfc', 86.05), (b'\\xf6', 84.06), (b'\\xbf', 73.01), (b'\\xf1', 66.56), (b'\\xeb', 66.34), (b'\\xac', 66.32), (b'\\xb0', 64.67), (b'\\xfb', 61.73), (b'\\xb7', 59.32), (b'\\xab', 52.3), (b'\\xb6', 51.38), (b'\\xea', 51.23), (b'\\xbc', 50.93), (b'\\xe6', 49.91), (b'\\xe1', 48.21), (b'\\xaa', 46.09), (b'\\xbd', 43.32), (b'\\xb2', 39.96), (b'\\xb3', 38.54), (b'\\xba', 34.52), (b'\\xa7', 28.75), (b'\\xb8', 25.44), (b'\\xae', 12.68), (b'\\xb9', 10.98), (b'\\xa6', 8.11), (b'\\xa0', 7.58), (b'\\xb5', 6.87), (b'\\xbe', 5.49), (b'\\xa9', 5.16), (b'\\xa8', 4.31), (b'\\xa2', 3.17), (b'\\xb4', 2.61), (b'\\xa4', 2.09), (b'\\xa5', 1.29), (b'\\xaf', 0.8), (b'\\xa3', 0.2)])\n",
      "(22, [(b'\\xf8', 259.11), (b'\\xf9', 147.2), (b'\\xe4', 143.64), (b'\\xee', 127.12), (b'\\xe5', 123.0), (b'\\xff', 117.18), (b'\\xaa', 109.9), (b'\\xbd', 109.8), (b'\\xfc', 101.35), (b'\\xab', 100.7), (b'\\xe9', 100.5), (b'\\xd2', 95.26), (b'\\xb7', 89.8), (b'\\xd5', 85.72), (b'\\xd3', 82.01), (b'\\xed', 79.46), (b'\\xb9', 78.5), (b'\\xd4', 76.4), (b'\\xd1', 73.86), (b'\\xf1', 73.86), (b'\\xeb', 72.77), (b'\\xac', 70.75), (b'\\xb0', 69.0), (b'\\xfa', 67.96), (b'\\xfb', 67.41), (b'\\xf6', 65.73), (b'\\xe7', 65.28), (b'\\xec', 63.23), (b'\\xad', 54.15), (b'\\xfd', 53.48), (b'\\xa1', 44.9), (b'\\xe1', 40.01), (b'\\xb1', 37.7), (b'\\xbc', 34.9), (b'\\xb6', 33.25), (b'\\xb5', 33.05), (b'\\xbf', 30.35), (b'\\xf7', 30.33), (b'\\xb4', 27.45), (b'\\xaf', 24.45), (b'\\xbb', 22.7), (b'\\xa8', 15.85), (b'\\xba', 10.35), (b'\\xbe', 9.05), (b'\\xb3', 5.5), (b'\\xae', 5.05), (b'\\xa0', 1.45), (b'\\xa2', 1.35), (b'\\xa9', 1.0), (b'\\xb2', 1.0), (b'\\xa3', 0), (b'\\xa4', 0), (b'\\xa5', 0), (b'\\xa6', 0), (b'\\xb8', 0)])\n",
      "(23, [(b'Y', 300.84), (b'\\x1c', 150.12), (b'_', 150.02), (b'X', 139.62), (b'S', 122.38), (b's', 122.38), (b'D', 113.77), (b'^', 113.3), (b'\\n', 112.18), (b'\\x0b', 107.06), (b'\\x10', 106.78), (b'u', 104.42), (b'\\x16', 104.12), (b'r', 93.43), (b't', 82.91), (b'[', 77.65), (b']', 75.86), (b'Q', 71.29), (b'\\x1a', 67.78), (b'\\r', 66.65), (b'\\x17', 64.55), (b'P', 63.67), (b'p', 63.67), (b'\\x1d', 59.66), (b'\\\\', 59.52), (b'\\x18', 59.5), (b'Z', 58.47), (b'\\x15', 56.43), (b'W', 55.42), (b'F', 53.23), (b'L', 48.42), (b'K', 47.29), (b'G', 47.26), (b'\\x11', 39.0), (b'V', 37.92), (b'\\x1e', 35.29), (b'M', 31.33), (b'\\x0c', 25.41), (b'@', 25.31), (b'\\t', 22.19), (b'\\x14', 21.07), (b'\\x1b', 14.49), (b'\\x1f', 12.67), (b'\\x00', 12.46), (b'\\x0e', 9.03), (b'\\x12', 7.7), (b'\\x0f', 7.07), (b'\\x01', 2.03), (b'\\x03', 1.89), (b'\\x08', 1.4), (b'\\x13', 1.4), (b'\\x02', 0), (b'\\x04', 0), (b'\\x05', 0), (b'\\x07', 0), (b'\\x19', 0)])\n",
      "(24, [(b'\\x00', 251.26), (b'\\x01', 132.78), (b'\\x07', 125.83), (b'E', 113.72), (b'A', 112.02), (b'\\x1c', 111.4), (b'\\x04', 109.87), (b'\\x1d', 103.86), (b'N', 102.74), (b'\\x06', 102.24), (b'I', 88.48), (b'\\x12', 86.66), (b'\\n', 86.28), (b'\\x02', 79.6), (b'\\x03', 74.87), (b'\\x05', 74.4), (b'\\x15', 73.01), (b'\\t', 68.97), (b'O', 55.72), (b'\\x1f', 55.55), (b'D', 55.52), (b'\\x0e', 51.71), (b'R', 48.32), (b'T', 46.38), (b'\\x14', 44.91), (b'\\x18', 44.32), (b'L', 39.96), (b'\\x19', 36.8), (b'H', 36.76), (b'C', 32.48), (b'P', 30.68), (b'M', 29.04), (b'W', 23.16), (b'B', 21.58), (b'U', 18.08), (b'^', 15.16), (b'X', 15.06), (b'Y', 14.38), (b'G', 12.08), (b'@', 10.98), (b'K', 9.34), (b'F', 7.64), (b'\\\\', 6.34), (b'V', 4.58), (b'J', 4.42), (b'Z', 3.1), (b'[', 2.58), (b'Q', 0.8), (b']', 0.4)])\n",
      "(25, [(b'\\xb7', 217.48), (b'\\xf8', 130.75), (b'\\xb9', 126.79), (b'\\xb6', 120.73), (b'\\xf2', 114.2), (b'\\xbc', 108.24), (b'\\xfb', 91.02), (b'\\xf9', 90.88), (b'\\xb1', 89.25), (b'\\xbe', 88.44), (b'\\xb0', 83.57), (b'\\xab', 83.38), (b'\\xb5', 82.63), (b'\\xe5', 81.44), (b'\\xb4', 78.39), (b'\\xf6', 71.41), (b'\\xbb', 69.86), (b'\\xbf', 62.05), (b'\\xf0', 60.51), (b'\\xb3', 60.0), (b'\\xb2', 59.82), (b'\\xa1', 57.85), (b'\\xfe', 55.16), (b'\\xa9', 54.0), (b'\\xfc', 53.31), (b'\\xb8', 52.74), (b'\\xfa', 52.22), (b'\\xf5', 52.09), (b'\\xff', 45.98), (b'\\xa8', 43.52), (b'\\xe3', 42.99), (b'\\xe2', 42.8), (b'\\xed', 37.65), (b'\\xf4', 35.03), (b'\\xeb', 32.79), (b'\\xae', 32.63), (b'\\xe4', 31.7), (b'\\xa2', 30.16), (b'\\xa3', 29.27), (b'\\xf7', 26.6), (b'\\xea', 24.77), (b'\\xe9', 23.84), (b'\\xf1', 21.05), (b'\\xe0', 19.06), (b'\\xe7', 16.95), (b'\\xee', 16.13), (b'\\xfd', 14.72), (b'\\xec', 14.52), (b'\\xef', 10.03), (b'\\xe1', 9.22)])\n",
      "(26, [(b'f', 169.85), (b'L', 116.96), (b'l', 116.96), (b'e', 114.07), (b'a', 106.84), (b'g', 106.77), (b'M', 94.18), (b')', 86.32), (b'O', 84.62), (b'o', 84.62), (b'K', 79.82), (b'k', 79.82), (b'`', 79.75), (b'#', 76.32), (b'b', 75.64), (b'd', 75.55), (b'J', 72.63), (b'c', 72.46), (b'z', 71.57), (b'h', 68.01), (b's', 63.55), (b't', 59.19), (b' ', 57.62), (b'q', 54.57), (b'(', 49.3), (b'y', 48.47), (b'*', 46.98), (b'r', 45.83), (b'\"', 42.76), (b'~', 40.08), (b\"'\", 35.0), (b'/', 33.08), (b'2', 31.9), (b'5', 29.48), (b'6', 24.34), (b'$', 22.14), (b'1', 20.58), (b'4', 15.16), (b'%', 9.08), (b'3', 7.26), (b'+', 6.02), (b'.', 6.0), (b'!', 4.94), (b'?', 3.56), (b'-', 2.2), (b'0', 2.02), (b'>', 0.58), (b'<', 0.54), (b',', 0.4), (b'7', 0.4), (b'&', 0), (b'8', 0), (b':', 0), (b';', 0), (b'=', 0)])\n",
      "(27, [(b'i', 156.09), (b'h', 92.78), (b'u', 85.41), (b\"'\", 84.74), (b'e', 77.7), (b'n', 74.65), (b's', 72.44), (b't', 68.79), (b';', 66.32), (b'k', 65.64), (b'(', 65.18), (b'&', 64.22), (b',', 60.82), (b'g', 58.66), (b'!', 56.57), (b'.', 55.62), (b' ', 54.95), (b'<', 54.08), (b'`', 52.08), (b'$', 51.58), (b'f', 47.81), (b'a', 47.15), (b'=', 46.65), (b'z', 46.06), (b'm', 46.05), (b'}', 44.5), (b'|', 41.8), (b'j', 38.65), (b'-', 37.72), (b'l', 37.66), (b'\\x7f', 36.99), (b'*', 35.49), (b'0', 33.67), (b'p', 28.71), (b'+', 27.07), (b'%', 24.03), (b'v', 23.84), (b'\"', 20.5), (b'7', 18.33), (b')', 17.63), (b'1', 16.07), (b'5', 13.92), (b'9', 12.68), (b'/', 10.64), (b'3', 10.05), (b'#', 7.8), (b'>', 6.94), (b'2', 6.21), (b'4', 6.14), (b'?', 4.87)])\n",
      "(28, [(b'H', 135.37), (b'N', 98.77), (b'_', 92.88), (b'Y', 83.2), (b'I', 69.99), (b'U', 68.13), (b'L', 62.93), (b']', 62.76), (b'O', 61.18), (b'B', 53.04), (b'[', 52.68), (b'T', 50.78), (b'@', 49.66), (b'J', 48.95), (b'X', 48.5), (b'A', 38.54), (b'M', 29.1), (b'Z', 27.36), (b'V', 26.49), (b'F', 25.43), (b'K', 24.51), (b'\\\\', 23.35), (b'W', 21.5), (b'Q', 18.87), (b'G', 11.52), (b'\\x0b', 6.61), (b'\\n', 4.14), (b'\\x08', 0.27)])\n",
      "(29, [(b'\\x13', 90.88), (b'[', 62.19), (b'\\x17', 60.17), (b'\\x12', 57.07), (b'V', 55.8), (b'R', 54.67), (b'\\x1f', 54.6), (b'\\x15', 53.57), (b'\\x14', 50.69), (b'\\x1a', 47.96), (b'\\x0f', 41.93), (b'\\x1d', 40.42), (b'\\x0e', 33.69), (b'\\x19', 33.05), (b'\\x06', 31.41), (b'\\x1c', 30.71), (b'\\x00', 29.44), (b'\\x1b', 28.67), (b'\\x05', 27.38), (b'\\x16', 26.88), (b']', 26.72), (b'\\x11', 26.1), (b'A', 25.58), (b'G', 25.51), (b'W', 24.58), (b'Z', 21.17), (b'\\x03', 20.93), (b'\\\\', 20.2), (b'\\x0b', 19.77), (b'\\x10', 18.03), (b'\\x01', 17.69), (b'^', 16.05), (b'X', 14.73), (b'P', 14.71), (b'Q', 14.21), (b'\\x07', 12.91), (b'S', 12.14), (b'T', 11.11), (b'M', 10.75), (b'O', 10.75), (b'\\x0c', 8.72), (b'K', 8.25), (b'I', 8.23), (b'_', 7.56), (b'J', 6.7), (b'\\n', 6.58), (b'N', 5.94), (b'F', 5.41), (b'Y', 5.39), (b'U', 5.01), (b'H', 4.92), (b'C', 3.17), (b'D', 3.07), (b'E', 1.57)])\n",
      "(30, [(b'\\xaa', 60.3), (b'\\xe3', 52.9), (b'\\xb6', 50.88), (b'\\xf3', 44.17), (b'\\xb7', 41.17), (b'\\xa0', 40.04), (b'\\xbd', 38.16), (b'\\xad', 37.67), (b'\\xba', 33.82), (b'\\xb1', 33.09), (b'\\xa7', 32.98), (b'\\xab', 31.71), (b'\\xae', 27.68), (b'\\xbf', 27.63), (b'\\xe4', 27.02), (b'\\xa2', 25.23), (b'\\xb2', 25.0), (b'\\xfe', 24.94), (b'\\xa3', 20.06), (b'\\xf5', 16.9), (b'\\xb8', 15.09), (b'\\xa5', 14.54), (b'\\xb4', 13.9), (b'\\xa8', 13.84), (b'\\xaf', 13.29), (b'\\xb5', 12.97), (b'\\xa9', 12.03), (b'\\xe2', 10.96), (b'\\xf4', 10.96), (b'\\xb3', 10.84), (b'\\xa4', 9.99), (b'\\xe7', 9.79), (b'\\xf1', 9.79), (b'\\xbe', 9.16), (b'\\xf2', 9.02), (b'\\xe9', 8.94), (b'\\xff', 8.94), (b'\\xe5', 8.17), (b'\\xe8', 6.94), (b'\\xea', 5.76), (b'\\xfc', 5.76), (b'\\xb9', 5.43), (b'\\xe0', 4.98), (b'\\xf6', 4.98), (b'\\xeb', 3.01), (b'\\xfd', 3.01), (b'\\xee', 3.0), (b'\\xf8', 3.0), (b'\\xe1', 2.67), (b'\\xf7', 2.67), (b'\\xed', 1.1), (b'\\xfb', 1.1), (b'\\xe6', 1.01), (b'\\xf0', 1.01), (b'\\xec', 0.2), (b'\\xfa', 0.2)])\n",
      "(31, [(b'a', 39.58), (b'%', 37.15), (b'$', 37.06), (b'3', 26.61), (b'.', 25.77), (b'k', 24.65), (b'v', 23.74), (b'\"', 23.57), (b'(', 19.62), (b' ', 19.11), (b'/', 18.46), (b'5', 18.44), (b'+', 18.4), (b'2', 16.64), (b'8', 15.95), (b'd', 15.66), (b'j', 15.66), (b'9', 15.32), (b'?', 14.49), (b'-', 12.79), (b'`', 12.26), (b'n', 12.26), (b'&', 11.12), (b'#', 10.77), (b'*', 10.7), (b'7', 10.52), (b'b', 10.01), (b'l', 10.01), (b\"'\", 9.31), (b'1', 9.08), (b',', 8.76), (b'w', 7.58), (b'y', 7.58), (b'g', 7.56), (b'i', 7.56), (b'f', 7.55), (b'h', 7.55), (b'q', 7.22), (b'\\x7f', 7.22), (b';', 6.72), (b'e', 6.65), (b'x', 5.74), (b':', 5.69), (b'c', 4.81), (b'm', 4.81), (b'p', 3.63), (b'~', 3.63), (b'o', 3.58), (b'u', 3.17), (b'{', 3.17), (b'r', 3.07), (b'|', 3.07), (b'6', 2.58), (b'0', 2.21), (b'=', 2.11), (b'!', 1.49), (b'<', 1.49), (b's', 1.3), (b'}', 1.3)])\n",
      "(32, [(b'(', 24.38), (b'l', 21.38), (b'`', 21.0), (b'\\x05', 18.7), (b'%', 18.7), (b')', 18.7), (b'\\x03', 11.7), (b'#', 11.7), (b'/', 11.7), (b'\\x01', 11.51), (b'!', 11.51), (b'-', 11.51), (b'm', 11.16), (b'\\x02', 8.72), (b'\"', 8.72), (b'.', 8.72), (b'i', 8.5), (b'2', 7.58), (b'>', 7.58), (b'z', 7.58), (b'a', 7.54), (b'4', 7.24), (b'8', 7.24), (b'g', 7.16), (b'|', 6.95), (b'f', 6.65), (b'\\x04', 6.38), (b'$', 6.38), (b'{', 5.74), (b' ', 5.49), (b',', 5.49), (b'd', 5.49), (b'5', 5.41), (b'9', 5.41), (b'k', 4.54), (b'}', 3.63), (b\"'\", 3.57), (b'+', 3.57), (b'0', 3.17), (b'<', 3.17), (b'x', 3.17), (b'e', 3.01), (b'o', 2.47), (b'j', 2.07), (b'&', 2.01), (b'*', 2.01), (b'n', 1.81), (b'q', 1.78), (b'7', 1.29), (b';', 1.29), (b'\\x7f', 1.29), (b'6', 1.28), (b':', 1.28), (b'c', 1.1), (b'~', 1.01), (b'p', 0.29), (b'r', 0.27), (b'1', 0.2), (b'=', 0.2), (b'b', 0.2), (b'y', 0.2), (b'h', 0), (b's', 0), (b't', 0), (b'u', 0), (b'v', 0)])\n",
      "(33, [(b'\\x1a', 25.83), (b'S', 25.54), (b'B', 18.29), (b'\\x07', 18.11), (b'\\x16', 18.11), (b'6', 18.11), (b'\\x01', 12.12), (b'\\x10', 12.12), (b'0', 12.12), (b'\\x03', 11.67), (b'\\x12', 11.67), (b'_', 11.16), (b'[', 8.5), (b'\\x0b', 7.83), (b'\\x00', 7.81), (b'\\x11', 7.81), (b'1', 7.81), (b'H', 7.58), (b'\\r', 7.16), (b'\\x1c', 7.16), (b'U', 7.16), (b'\\x06', 7.01), (b'\\x17', 7.01), (b'7', 7.01), (b'N', 6.95), (b'T', 6.65), (b'I', 5.74), (b'\\x0e', 5.49), (b'\\x1f', 5.49), (b'V', 5.49), (b'\\n', 4.78), (b'\\x1b', 4.78), (b'Y', 4.54), (b'O', 3.63), (b'\\x05', 3.48), (b'\\x14', 3.48), (b'^', 3.38), (b'J', 3.17), (b'\\x04', 3.1), (b'\\x15', 3.1), (b'\\x0f', 3.01), (b'\\x1e', 3.01), (b'W', 3.01), (b'R', 3.0), (b']', 2.47), (b'X', 2.07), (b'\\\\', 1.81), (b'C', 1.78), (b'\\t', 1.37), (b'\\x18', 1.37), (b'M', 1.29), (b'Q', 1.1), (b'L', 1.01), (b'@', 0.27), (b'\\x02', 0.2), (b'\\x08', 0.2), (b'\\x13', 0.2), (b'\\x19', 0.2), (b'3', 0.2), (b'K', 0.2), (b'P', 0.2), (b'A', 0), (b'D', 0), (b'F', 0), (b'G', 0), (b'Z', 0)])\n",
      "(34, [(b'H', 18), (b'\\\\', 18), (b'\\t', 12.13), (b'\\x1d', 12.13), (b')', 12.13), (b'=', 12.13), (b'\\r', 11.36), (b'\\x19', 11.36), (b'-', 11.36), (b'9', 11.36), (b'\\x0e', 9.39), (b'\\x1a', 9.39), (b'.', 9.39), (b':', 9.39), (b'\\x0f', 8.21), (b'\\x1b', 8.21), (b'/', 8.21), (b';', 8.21), (b'\\x01', 7.54), (b'\\x15', 7.54), (b'!', 7.54), (b'5', 7.54), (b'\\x07', 7.16), (b'\\x13', 7.16), (b\"'\", 7.16), (b'3', 7.16), (b'\\x08', 6.95), (b'\\x1c', 6.95), (b'(', 6.95), (b'<', 6.95), (b'\\x06', 6.92), (b'\\x12', 6.92), (b'&', 6.92), (b'2', 6.92), (b'\\x0c', 6.55), (b'\\x18', 6.55), (b',', 6.55), (b'8', 6.55), (b'\\x0b', 5.83), (b'\\x1f', 5.83), (b'+', 5.83), (b'?', 5.83), (b'\\x04', 5.78), (b'\\x10', 5.78), (b'$', 5.78), (b'0', 5.78), (b'\\x05', 4.79), (b'\\x11', 4.79), (b'%', 4.79), (b'1', 4.79), (b'\\n', 3.08), (b'\\x1e', 3.08), (b'*', 3.08), (b'>', 3.08), (b'\\x00', 3.0), (b'\\x14', 3.0), (b' ', 3.0), (b'4', 3.0), (b'#', 1.1), (b'7', 1.1), (b'\\x02', 0.2), (b'\\x16', 0.2), (b'\"', 0.2), (b'6', 0.2), (b'@', 0), (b'A', 0), (b'B', 0), (b'C', 0), (b'D', 0), (b'E', 0), (b'F', 0), (b'G', 0), (b'I', 0), (b'J', 0), (b'K', 0), (b'L', 0), (b'M', 0), (b'N', 0), (b'O', 0), (b'P', 0), (b'Q', 0), (b'R', 0), (b'S', 0), (b'T', 0), (b'U', 0), (b'V', 0), (b'W', 0), (b'X', 0), (b'Y', 0), (b'Z', 0), (b'[', 0), (b']', 0), (b'^', 0), (b'_', 0)])\n",
      "(35, [(b'\\r', 18), (b'\\x1b', 18), (b'H', 16.9), (b'^', 16.9), (b'h', 16.9), (b'~', 16.9), (b'I', 10.96), (b'_', 10.96), (b'i', 10.96), (b'\\x7f', 10.96), (b'L', 9.79), (b'Z', 9.79), (b'l', 9.79), (b'z', 9.79), (b'O', 9.02), (b'Y', 9.02), (b'o', 9.02), (b'y', 9.02), (b'B', 8.94), (b'T', 8.94), (b'b', 8.94), (b't', 8.94), (b'N', 8.17), (b'X', 8.17), (b'n', 8.17), (b'x', 8.17), (b'd', 7.54), (b'r', 7.54), (b'C', 6.94), (b'U', 6.94), (b'c', 6.94), (b'u', 6.94), (b'A', 5.76), (b'W', 5.76), (b'a', 5.76), (b'w', 5.76), (b'K', 4.98), (b']', 4.98), (b'k', 4.98), (b'}', 4.98), (b'@', 3.01), (b'V', 3.01), (b'`', 3.01), (b'v', 3.01), (b'E', 3.0), (b'S', 3.0), (b'e', 3.0), (b's', 3.0), (b'J', 2.67), (b'\\\\', 2.67), (b'j', 2.67), (b'|', 2.67), (b'F', 1.1), (b'P', 1.1), (b'f', 1.1), (b'p', 1.1), (b'M', 1.01), (b'[', 1.01), (b'm', 1.01), (b'{', 1.01), (b'G', 0.2), (b'Q', 0.2), (b'g', 0.2), (b'q', 0.2), (b'\\x00', 0), (b'\\x01', 0), (b'\\x02', 0), (b'\\x03', 0), (b'\\x04', 0), (b'\\x05', 0), (b'\\x06', 0), (b'\\x07', 0), (b'\\x08', 0), (b'\\t', 0), (b'\\n', 0), (b'\\x0b', 0), (b'\\x0c', 0), (b'\\x0e', 0), (b'\\x0f', 0), (b'\\x10', 0), (b'\\x11', 0), (b'\\x12', 0), (b'\\x13', 0), (b'\\x14', 0), (b'\\x15', 0), (b'\\x16', 0), (b'\\x17', 0), (b'\\x18', 0), (b'\\x19', 0), (b'\\x1a', 0), (b'\\x1c', 0), (b'\\x1d', 0), (b'\\x1e', 0), (b'\\x1f', 0)])\n",
      "(36, [(b'\\x86', 18), (b'\\xc3', 11.16), (b'\\xe3', 11.16), (b'\\xc7', 8.5), (b'\\xe7', 8.5), (b'\\xd4', 7.58), (b'\\xf4', 7.58), (b'\\xcf', 7.54), (b'\\xef', 7.54), (b'\\xc9', 7.16), (b'\\xe9', 7.16), (b'\\xd2', 6.95), (b'\\xf2', 6.95), (b'\\xc8', 6.65), (b'\\xe8', 6.65), (b'\\xd5', 5.74), (b'\\xf5', 5.74), (b'\\xca', 5.49), (b'\\xea', 5.49), (b'\\xc5', 4.54), (b'\\xe5', 4.54), (b'\\xd3', 3.63), (b'\\xf3', 3.63), (b'\\xc2', 3.38), (b'\\xe2', 3.38), (b'\\xd6', 3.17), (b'\\xf6', 3.17), (b'\\xcb', 3.01), (b'\\xeb', 3.01), (b'\\xce', 3.0), (b'\\xee', 3.0), (b'\\xc1', 2.47), (b'\\xe1', 2.47), (b'\\xc4', 2.07), (b'\\xe4', 2.07), (b'\\xc0', 1.81), (b'\\xe0', 1.81), (b'\\xdf', 1.78), (b'\\xff', 1.78), (b'\\xd1', 1.29), (b'\\xf1', 1.29), (b'\\xcd', 1.1), (b'\\xed', 1.1), (b'\\xd0', 1.01), (b'\\xf0', 1.01), (b'\\xde', 0.29), (b'\\xfe', 0.29), (b'\\xdc', 0.27), (b'\\xfc', 0.27), (b'\\xcc', 0.2), (b'\\xd7', 0.2), (b'\\xec', 0.2), (b'\\xf7', 0.2), (b'\\x80', 0), (b'\\x81', 0), (b'\\x82', 0), (b'\\x83', 0), (b'\\x84', 0), (b'\\x85', 0), (b'\\x87', 0), (b'\\x88', 0), (b'\\x89', 0), (b'\\x8a', 0), (b'\\x8b', 0), (b'\\x8c', 0), (b'\\x8d', 0), (b'\\x8e', 0), (b'\\x8f', 0), (b'\\x90', 0), (b'\\x91', 0), (b'\\x92', 0), (b'\\x93', 0), (b'\\x94', 0), (b'\\x95', 0), (b'\\x96', 0), (b'\\x97', 0), (b'\\x98', 0), (b'\\x99', 0), (b'\\x9a', 0), (b'\\x9b', 0), (b'\\x9c', 0), (b'\\x9d', 0), (b'\\x9e', 0), (b'\\x9f', 0), (b'\\xaa', 0), (b'\\xab', 0), (b'\\xac', 0), (b'\\xad', 0), (b'\\xaf', 0), (b'\\xc6', 0), (b'\\xd8', 0), (b'\\xda', 0), (b'\\xdb', 0), (b'\\xdd', 0), (b'\\xe6', 0), (b'\\xf8', 0), (b'\\xf9', 0), (b'\\xfa', 0), (b'\\xfb', 0), (b'\\xfd', 0)])\n",
      "(37, [(b'\\xad', 18), (b'\\xc8', 11.16), (b'\\xe8', 11.16), (b'\\xcc', 8.5), (b'\\xec', 8.5), (b'\\xdf', 7.58), (b'\\xff', 7.58), (b'\\xc4', 7.54), (b'\\xe4', 7.54), (b'\\xc2', 7.16), (b'\\xe2', 7.16), (b'\\xd9', 6.95), (b'\\xf9', 6.95), (b'\\xc3', 6.65), (b'\\xe3', 6.65), (b'\\xde', 5.74), (b'\\xfe', 5.74), (b'\\xc1', 5.49), (b'\\xe1', 5.49), (b'\\xce', 4.54), (b'\\xee', 4.54), (b'\\xd8', 3.63), (b'\\xf8', 3.63), (b'\\xc9', 3.38), (b'\\xe9', 3.38), (b'\\xdd', 3.17), (b'\\xfd', 3.17), (b'\\xc0', 3.01), (b'\\xe0', 3.01), (b'\\xc5', 3.0), (b'\\xe5', 3.0), (b'\\xca', 2.47), (b'\\xea', 2.47), (b'\\xcf', 2.07), (b'\\xef', 2.07), (b'\\xcb', 1.81), (b'\\xeb', 1.81), (b'\\xd4', 1.78), (b'\\xf4', 1.78), (b'\\xda', 1.29), (b'\\xfa', 1.29), (b'\\xc6', 1.1), (b'\\xe6', 1.1), (b'\\xdb', 1.01), (b'\\xfb', 1.01), (b'\\xd5', 0.29), (b'\\xf5', 0.29), (b'\\xd7', 0.27), (b'\\xf7', 0.27), (b'\\xc7', 0.2), (b'\\xdc', 0.2), (b'\\xe7', 0.2), (b'\\xfc', 0.2), (b'\\x80', 0), (b'\\x81', 0), (b'\\x84', 0), (b'\\x86', 0), (b'\\x87', 0), (b'\\xa0', 0), (b'\\xa1', 0), (b'\\xa2', 0), (b'\\xa3', 0), (b'\\xa4', 0), (b'\\xa5', 0), (b'\\xa6', 0), (b'\\xa7', 0), (b'\\xa8', 0), (b'\\xa9', 0), (b'\\xaa', 0), (b'\\xab', 0), (b'\\xac', 0), (b'\\xae', 0), (b'\\xaf', 0), (b'\\xb0', 0), (b'\\xb1', 0), (b'\\xb2', 0), (b'\\xb3', 0), (b'\\xb4', 0), (b'\\xb5', 0), (b'\\xb6', 0), (b'\\xb7', 0), (b'\\xb8', 0), (b'\\xb9', 0), (b'\\xba', 0), (b'\\xbb', 0), (b'\\xbc', 0), (b'\\xbd', 0), (b'\\xbe', 0), (b'\\xbf', 0), (b'\\xcd', 0), (b'\\xd0', 0), (b'\\xd1', 0), (b'\\xd2', 0), (b'\\xd3', 0), (b'\\xd6', 0), (b'\\xed', 0), (b'\\xf0', 0), (b'\\xf1', 0), (b'\\xf3', 0), (b'\\xf6', 0)])\n"
     ]
    }
   ],
   "source": [
    "for x in score_for_each_possible_bytes:\n",
    "    print(x)"
   ]
  },
  {
   "cell_type": "code",
   "execution_count": null,
   "metadata": {},
   "outputs": [
    {
     "name": "stdout",
     "output_type": "stream",
     "text": [
      "b'i have met them at close of day'\n",
      "b'coming with vivid faces'\n",
      "b'from counter or desk among grey'\n",
      "b'eighteenth-century houses.'\n",
      "b'i have passed with a nod of the hEuR'\n",
      "b'or polite meaningless words,'\n",
      "b'or have lingered awhile and said'\n",
      "b'polite meaningless words,'\n",
      "b'and thought before I had done'\n",
      "b'of a mocking tale or a gibe'\n",
      "b'to please a companion'\n",
      "b'around the fire at the club,'\n",
      "b'being certain that they and I'\n",
      "b'but lived where motley is worn:'\n",
      "b'all changed, changed utterly:'\n",
      "b'a terrible beauty is born.'\n",
      "b\"that woman's days were spent\"\n",
      "b'in ignorant good will,'\n",
      "b'her nights in argument'\n",
      "b'until her voice grew shrill.'\n",
      "b'what voice more sweet than hers'\n",
      "b'when young and beautiful,'\n",
      "b'she rode to harriers?'\n",
      "b'this man had kept a school'\n",
      "b'and rode our winged horse.'\n",
      "b'this other his helper and friend'\n",
      "b'was coming into his force;'\n",
      "b'he might have won fame in the end\\x0c'\n",
      "b'so sensitive his nature seemed,'\n",
      "b'so daring and sweet his thought.'\n",
      "b'this other man I had dreamed'\n",
      "b'a drunken, vain-glorious lout.'\n",
      "b'he had done most bitter wrong'\n",
      "b'to some who are near my heart,'\n",
      "b'yet I number him in the song;'\n",
      "b'he, too, has resigned his part'\n",
      "b'in the casual comedy;'\n",
      "b'he, too, has been changed in his TaDn\\x0c'\n",
      "b'transformed utterly:'\n",
      "b'a terrible beauty is born.'\n"
     ]
    }
   ],
   "source": [
    "predicted_key_stream = b''\n",
    "for x in score_for_each_possible_bytes:\n",
    "    if len(predicted_key_stream) == 31:\n",
    "        predicted_key_stream += x[1][1][0]\n",
    "    elif len(predicted_key_stream) == 33:\n",
    "        predicted_key_stream += x[1][5][0]\n",
    "    elif len(predicted_key_stream) == 34:\n",
    "        predicted_key_stream += x[1][3][0]\n",
    "    elif len(predicted_key_stream) == 35:\n",
    "        predicted_key_stream += x[1][8][0]\n",
    "    elif len(predicted_key_stream) == 36:\n",
    "        predicted_key_stream += x[1][13][0]\n",
    "    elif len(predicted_key_stream) == 37:\n",
    "        predicted_key_stream += x[1][54][0]\n",
    "    else:\n",
    "        predicted_key_stream += x[1][0][0]\n",
    "\n",
    "for encrypted_btyes in encrypted_btyes_list:\n",
    "    print(xor_bytes(encrypted_btyes, predicted_key_stream))"
   ]
  },
  {
   "cell_type": "markdown",
   "metadata": {},
   "source": [
    "Challenge 22"
   ]
  },
  {
   "cell_type": "code",
   "execution_count": null,
   "metadata": {},
   "outputs": [
    {
     "name": "stdout",
     "output_type": "stream",
     "text": [
      "first_sleep_time: 5s\n",
      "Seeds: 1689426803\n",
      "second_sleep_time: 14s\n",
      "found seed : 1689426803\n"
     ]
    }
   ],
   "source": [
    "import time\n",
    "import random\n",
    "import challenge21 as c21\n",
    "\n",
    "def routine():\n",
    "    wait_time = random.randint(1,20)\n",
    "    #time.sleep(wait_time)\n",
    "    print(f\"first_sleep_time: {wait_time}s\")\n",
    "\n",
    "    current_timestamp = int(time.time())\n",
    "    MT19937 = c21.MT19937(current_timestamp)\n",
    "    print(f\"Seeds: {current_timestamp}\")\n",
    "\n",
    "    wait_time = random.randint(1,20)\n",
    "    #time.sleep(wait_time)\n",
    "    print(f\"second_sleep_time: {wait_time}s\")\n",
    "\n",
    "    return MT19937.rand()\n",
    "\n",
    "random_num = routine()\n",
    "\n",
    "output_list = dict()\n",
    "for i in range(1000):\n",
    "    current_timestamp = int(time.time())\n",
    "    seed = current_timestamp - i\n",
    "    MT19937 = c21.MT19937(seed)\n",
    "    output_list[MT19937.rand()] = seed\n",
    "\n",
    "if random_num in output_list:\n",
    "    print(f\"found seed : {output_list[random_num]}\")\n",
    "else:\n",
    "    print(f\"seed not found.\")\n"
   ]
  },
  {
   "cell_type": "markdown",
   "metadata": {},
   "source": [
    "Challenge 23"
   ]
  },
  {
   "cell_type": "code",
   "execution_count": null,
   "metadata": {},
   "outputs": [],
   "source": [
    "import challenge21 as c21\n",
    "\n",
    "def untemper(y):\n",
    "    (u, d) = (11, 0xFFFFFFFF)\n",
    "    (s, b) = (7, 0x9D2C5680)\n",
    "    (t, c) = (15, 0xEFC60000)\n",
    "    l = 18\n",
    "\n",
    "    def int_to_bit_list(x):\n",
    "        return [int(b) for b in '{:032b}'.format(x)]\n",
    "\n",
    "    def bit_list_to_int(l):\n",
    "        return int(''.join(str(x) for x in l), base=2)\n",
    "\n",
    "    def invert_shift_mask_xor(y, direction, shift, mask=0xFFFFFFFF):\n",
    "        y = int_to_bit_list(y)\n",
    "        mask = int_to_bit_list(mask)\n",
    "\n",
    "        if direction == 'left':\n",
    "            y.reverse()\n",
    "            mask.reverse()\n",
    "        else:\n",
    "            assert direction == 'right'\n",
    "\n",
    "        x = [None]*32\n",
    "        for n in range(32):\n",
    "            if n < shift:\n",
    "                x[n] = y[n]\n",
    "            else:\n",
    "                x[n] = y[n] ^ (mask[n] & x[n-shift])\n",
    "\n",
    "        if direction == 'left':\n",
    "            x.reverse()\n",
    "\n",
    "        return bit_list_to_int(x)\n",
    "\n",
    "    xx = y\n",
    "    xx = invert_shift_mask_xor(xx, direction='right', shift=l)\n",
    "    xx = invert_shift_mask_xor(xx, direction='left', shift=t, mask=c)\n",
    "    xx = invert_shift_mask_xor(xx, direction='left', shift=s, mask=b)\n",
    "    xx = invert_shift_mask_xor(xx, direction='right', shift=u, mask=d)\n",
    "\n",
    "    return xx"
   ]
  },
  {
   "cell_type": "code",
   "execution_count": null,
   "metadata": {},
   "outputs": [
    {
     "name": "stdout",
     "output_type": "stream",
     "text": [
      "00000001000000100000001100000100  y1\n",
      "\n",
      "00000000000000000010000001000000  y1 >> 11\n",
      "11111111111111111111111111111111  0xFFFFFFFF\n",
      "00000000000000000010000001000000  (y1 >> 11) & 0xFFFFFFFF\n",
      "00000001000000100010001101000100  y1 ^ ((y1 >> 11) & 0xFFFFFFFF)\n",
      "\n",
      "10000001000100011010001000000000  y2 << 7\n",
      "10011101001011000101011010000000  0x9D2C5680\n",
      "10000001000000000000001000000000  (y2 << 7) & 0x9D2C5680\n",
      "10000000000000100010000101000100  y2 ^ ((y2 << 7) & 0x9D2C5680)\n",
      "\n",
      "10000000000000100010000101000100000000000000000  y3 << 15\n",
      "11101111110001100000000000000000  0xEFC60000\n",
      "00000000100000100000000000000000  (y3 << 15) & 0xEFC60000\n",
      "10000000100000000010000101000100  y3 ^ ((y3 << 15) & 0xEFC60000)\n",
      "\n",
      "00000000000000000010000000100000  y4 >> 18\n",
      "10000000100000000000000101100100  y4 ^ (y4 >> 18)\n",
      "result: 2155872612\n"
     ]
    }
   ],
   "source": [
    "def p(a, t):\n",
    "    #a = a & 0xFFFFFFFF\n",
    "    print(\"{0:032b}\".format(a) + \"  \" + t)\n",
    "\n",
    "y1 = 0x01020304\n",
    "p(y1, 'y1')\n",
    "print('')\n",
    "\n",
    "y2 = y1 ^ ((y1 >> 11) & 0xFFFFFFFF)\n",
    "p(y1 >> 11, 'y1 >> 11')\n",
    "p(0xFFFFFFFF, '0xFFFFFFFF')\n",
    "p((y1 >> 11) & 0xFFFFFFFF, '(y1 >> 11) & 0xFFFFFFFF')\n",
    "p(y2, 'y1 ^ ((y1 >> 11) & 0xFFFFFFFF)')\n",
    "print('')\n",
    "\n",
    "y3 = y2 ^ ((y2 << 7) & 0x9D2C5680)\n",
    "p(y2 << 7, 'y2 << 7')\n",
    "p(0x9D2C5680, '0x9D2C5680')\n",
    "p((y2 << 7) & 0x9D2C5680, '(y2 << 7) & 0x9D2C5680')\n",
    "p(y3, 'y2 ^ ((y2 << 7) & 0x9D2C5680)')\n",
    "print('')\n",
    "\n",
    "y4 = y3 ^ ((y3 << 15) & 0xEFC60000)\n",
    "p(y3 << 15, 'y3 << 15')\n",
    "p(0xEFC60000, '0xEFC60000')\n",
    "p((y3 << 15) & 0xEFC60000, '(y3 << 15) & 0xEFC60000')\n",
    "p(y4, 'y3 ^ ((y3 << 15) & 0xEFC60000)')\n",
    "print('')\n",
    "\n",
    "z = y4 ^ (y4 >> 18)\n",
    "p(y4 >> 18, 'y4 >> 18')\n",
    "p(z, 'y4 ^ (y4 >> 18)')\n",
    "print(f'result: {z}')"
   ]
  },
  {
   "cell_type": "code",
   "execution_count": null,
   "metadata": {},
   "outputs": [
    {
     "name": "stdout",
     "output_type": "stream",
     "text": [
      "399782711\n",
      "12345678\n"
     ]
    }
   ],
   "source": [
    "import challenge21 as c21\n",
    "\n",
    "seed = 12345678\n",
    "rand_num = c21.MT19937(12345678).rand()\n",
    "print(rand_num)\n",
    "print(untemper(rand_num))"
   ]
  },
  {
   "cell_type": "markdown",
   "metadata": {},
   "source": [
    "Challenge 24"
   ]
  },
  {
   "cell_type": "code",
   "execution_count": null,
   "metadata": {},
   "outputs": [
    {
     "name": "stdout",
     "output_type": "stream",
     "text": [
      "seed found: 1689426804\n"
     ]
    },
    {
     "data": {
      "text/plain": [
       "True"
      ]
     },
     "metadata": {},
     "output_type": "display_data"
    }
   ],
   "source": [
    "import challenge24 as c24\n",
    "c24.check_is_MT19937_product_with_current_time(c24.generate_password_reset_token(32))"
   ]
  }
 ],
 "metadata": {
  "language_info": {
   "name": "python"
  }
 },
 "nbformat": 4,
 "nbformat_minor": 2
}
