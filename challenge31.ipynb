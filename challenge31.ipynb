{
 "cells": [
  {
   "cell_type": "code",
   "execution_count": 1,
   "metadata": {},
   "outputs": [
    {
     "name": "stdout",
     "output_type": "stream",
     "text": [
      "Defaulting to user installation because normal site-packages is not writeableNote: you may need to restart the kernel to use updated packages.\n",
      "\n",
      "Collecting flask\n",
      "  Downloading Flask-2.3.2-py3-none-any.whl (96 kB)\n",
      "     ---------------------------------------- 96.9/96.9 KB 5.4 MB/s eta 0:00:00\n",
      "Collecting blinker>=1.6.2\n",
      "  Downloading blinker-1.6.2-py3-none-any.whl (13 kB)\n",
      "Collecting click>=8.1.3\n",
      "  Downloading click-8.1.5-py3-none-any.whl (98 kB)\n",
      "     ---------------------------------------- 98.1/98.1 KB 5.5 MB/s eta 0:00:00\n",
      "Collecting itsdangerous>=2.1.2\n",
      "  Downloading itsdangerous-2.1.2-py3-none-any.whl (15 kB)\n",
      "Requirement already satisfied: importlib-metadata>=3.6.0 in c:\\users\\ballban\\appdata\\roaming\\python\\python39\\site-packages (from flask) (6.6.0)\n",
      "Collecting Jinja2>=3.1.2\n",
      "  Downloading Jinja2-3.1.2-py3-none-any.whl (133 kB)\n",
      "     ---------------------------------------- 133.1/133.1 KB ? eta 0:00:00\n",
      "Collecting Werkzeug>=2.3.3\n",
      "  Downloading Werkzeug-2.3.6-py3-none-any.whl (242 kB)\n",
      "     ------------------------------------- 242.5/242.5 KB 15.5 MB/s eta 0:00:00\n",
      "Requirement already satisfied: colorama in c:\\users\\ballban\\appdata\\roaming\\python\\python39\\site-packages (from click>=8.1.3->flask) (0.4.6)\n",
      "Requirement already satisfied: zipp>=0.5 in c:\\users\\ballban\\appdata\\roaming\\python\\python39\\site-packages (from importlib-metadata>=3.6.0->flask) (3.15.0)\n",
      "Collecting MarkupSafe>=2.0\n",
      "  Downloading MarkupSafe-2.1.3-cp39-cp39-win_amd64.whl (17 kB)\n",
      "Installing collected packages: MarkupSafe, itsdangerous, click, blinker, Werkzeug, Jinja2, flask\n",
      "Successfully installed Jinja2-3.1.2 MarkupSafe-2.1.3 Werkzeug-2.3.6 blinker-1.6.2 click-8.1.5 flask-2.3.2 itsdangerous-2.1.2\n"
     ]
    },
    {
     "name": "stderr",
     "output_type": "stream",
     "text": [
      "WARNING: You are using pip version 22.0.4; however, version 23.2 is available.\n",
      "You should consider upgrading via the 'c:\\Program Files (x86)\\Microsoft Visual Studio\\Shared\\Python39_64\\python.exe -m pip install --upgrade pip' command.\n"
     ]
    }
   ],
   "source": [
    "%pip install flask"
   ]
  },
  {
   "cell_type": "code",
   "execution_count": 4,
   "metadata": {},
   "outputs": [
    {
     "name": "stdout",
     "output_type": "stream",
     "text": [
      " * Serving Flask app '__main__'\n",
      " * Debug mode: off\n"
     ]
    },
    {
     "name": "stderr",
     "output_type": "stream",
     "text": [
      "WARNING: This is a development server. Do not use it in a production deployment. Use a production WSGI server instead.\n",
      " * Running on http://127.0.0.1:5000\n",
      "Press CTRL+C to quit\n",
      "[2023-07-16 00:45:56,573] ERROR in app: Exception on /test [GET]\n",
      "Traceback (most recent call last):\n",
      "  File \"C:\\Users\\ballban\\AppData\\Roaming\\Python\\Python39\\site-packages\\flask\\app.py\", line 2190, in wsgi_app\n",
      "    response = self.full_dispatch_request()\n",
      "  File \"C:\\Users\\ballban\\AppData\\Roaming\\Python\\Python39\\site-packages\\flask\\app.py\", line 1486, in full_dispatch_request\n",
      "    rv = self.handle_user_exception(e)\n",
      "  File \"C:\\Users\\ballban\\AppData\\Roaming\\Python\\Python39\\site-packages\\flask\\app.py\", line 1484, in full_dispatch_request\n",
      "    rv = self.dispatch_request()\n",
      "  File \"C:\\Users\\ballban\\AppData\\Roaming\\Python\\Python39\\site-packages\\flask\\app.py\", line 1469, in dispatch_request\n",
      "    return self.ensure_sync(self.view_functions[rule.endpoint])(**view_args)\n",
      "  File \"C:\\Users\\ballban\\AppData\\Local\\Temp\\ipykernel_23732\\2693397626.py\", line 18, in check\n",
      "    signature = request.arg.get('signature')\n",
      "AttributeError: 'Request' object has no attribute 'arg'\n",
      "127.0.0.1 - - [16/Jul/2023 00:45:56] \"GET /test HTTP/1.1\" 500 -\n"
     ]
    }
   ],
   "source": [
    "from flask import Flask, request\n",
    "import sha1\n",
    "from utility import xor_bytes\n",
    "import time\n",
    "\n",
    "app = Flask(__name__)\n",
    "files = {\n",
    "    'foo' : b'46b4ec586117154dacd49d664e5d63fdc88efb51'\n",
    "}\n",
    "\n",
    "@app.route(\"/\")\n",
    "def hello_world():\n",
    "    return \"<p>Hello, World!</p>\"\n",
    "\n",
    "@app.route(\"/test\")\n",
    "def check():\n",
    "    file = request.args.get('file')\n",
    "    signature = request.arg.get('signature')\n",
    "    \n",
    "    if file not in files:\n",
    "        return 'no file', 500\n",
    "    \n",
    "    if not insecure_compare(files[file], signature):\n",
    "        return 'no', 500\n",
    "    \n",
    "    return 'pass', 200\n",
    "\n",
    "def HMAC(key, msg):\n",
    "    # 64 bytes for SHA-1\n",
    "    block_size = 64\n",
    "\n",
    "    block_sized_key = compute_block_size_key(key, block_size)\n",
    "\n",
    "    o_key_pad = xor_bytes(block_sized_key, 0x5c * block_size)\n",
    "    i_key_pad = xor_bytes(block_sized_key, 0x36 * block_size)\n",
    "\n",
    "    result = sha1.sha1(o_key_pad // sha1.sha1(i_key_pad // msg))\n",
    "    return result\n",
    "\n",
    "def compute_block_size_key(key, block_size):\n",
    "    if len(key) > block_size:\n",
    "        key = sha1.sha1(key)\n",
    "    else:\n",
    "        key = key + b'\\x00' * (block_size - len(key))\n",
    "    return key\n",
    "\n",
    "def insecure_compare(a, b):\n",
    "    for _a, _b in zip(a,b):\n",
    "        if _a != _b:\n",
    "            return False\n",
    "        time.sleep(0.05)\n",
    "    return True\n",
    "    \n",
    "\n",
    "app.run(port=5000)"
   ]
  }
 ],
 "metadata": {
  "kernelspec": {
   "display_name": "Python 3",
   "language": "python",
   "name": "python3"
  },
  "language_info": {
   "codemirror_mode": {
    "name": "ipython",
    "version": 3
   },
   "file_extension": ".py",
   "mimetype": "text/x-python",
   "name": "python",
   "nbconvert_exporter": "python",
   "pygments_lexer": "ipython3",
   "version": "3.9.13"
  },
  "orig_nbformat": 4
 },
 "nbformat": 4,
 "nbformat_minor": 2
}
