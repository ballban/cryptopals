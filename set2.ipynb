{
 "cells": [
  {
   "cell_type": "code",
   "execution_count": null,
   "metadata": {},
   "outputs": [],
   "source": [
    "%load_ext autoreload\n",
    "%autoreload 2"
   ]
  },
  {
   "cell_type": "code",
   "execution_count": null,
   "metadata": {},
   "outputs": [],
   "source": [
    "from utility import *"
   ]
  },
  {
   "cell_type": "markdown",
   "metadata": {},
   "source": [
    "# Set_2"
   ]
  },
  {
   "cell_type": "markdown",
   "metadata": {},
   "source": [
    "Challenge 9"
   ]
  },
  {
   "cell_type": "code",
   "execution_count": null,
   "metadata": {},
   "outputs": [
    {
     "data": {
      "text/plain": [
       "b'YELLOW SUBMARINE\\x04\\x04\\x04\\x04'"
      ]
     },
     "metadata": {},
     "output_type": "display_data"
    }
   ],
   "source": [
    "padding_PKCS7(b\"YELLOW SUBMARINE\", 20)"
   ]
  },
  {
   "cell_type": "markdown",
   "metadata": {},
   "source": [
    "Challenge 10"
   ]
  },
  {
   "cell_type": "code",
   "execution_count": null,
   "metadata": {},
   "outputs": [],
   "source": [
    "plain_text_list = get_txt_from_url(\"https://cryptopals.com/static/challenge-data/10.txt\")\n",
    "plain_text = ''.join(plain_text_list)"
   ]
  },
  {
   "cell_type": "code",
   "execution_count": null,
   "metadata": {},
   "outputs": [
    {
     "name": "stdout",
     "output_type": "stream",
     "text": [
      "b\"I'm back and I'm ringin' the bell \\nA rockin' on the mike while the fly girls yell \\nIn ecstasy in the back of me \\nWell that's my DJ Deshay cuttin' all them Z's \\nHittin' hard and the girlies goin' crazy \\nVanilla's on the mike, man I'm not lazy. \\n\\nI'm lettin' my drug kick in \\nIt controls my mouth and I begin \\nTo just let it flow, let my concepts go \\nMy posse's to the side yellin', Go Vanilla Go! \\n\\nSmooth 'cause that's the way I will be \\nAnd if you don't give a damn, then \\nWhy you starin' at me \\nSo get off 'cause I control the stage \\nThere's no dissin' allowed \\nI'm in my own phase \\nThe girlies sa y they love me and that is ok \\nAnd I can dance better than any kid n' play \\n\\nStage 2 -- Yea the one ya' wanna listen to \\nIt's off my head so let the beat play through \\nSo I can funk it up and make it sound good \\n1-2-3 Yo -- Knock on some wood \\nFor good luck, I like my rhymes atrocious \\nSupercalafragilisticexpialidocious \\nI'm an effect and that you can bet \\nI can take a fly girl and make her wet. \\n\\nI'm like Samson -- Samson to Delilah \\nThere's no denyin', You can try to hang \\nBut you'll keep tryin' to get my style \\nOver and over, practice makes perfect \\nBut not if you're a loafer. \\n\\nYou'll get nowhere, no place, no time, no girls \\nSoon -- Oh my God, homebody, you probably eat \\nSpaghetti with a spoon! Come on and say it! \\n\\nVIP. Vanilla Ice yep, yep, I'm comin' hard like a rhino \\nIntoxicating so you stagger like a wino \\nSo punks stop trying and girl stop cryin' \\nVanilla Ice is sellin' and you people are buyin' \\n'Cause why the freaks are jockin' like Crazy Glue \\nMovin' and groovin' trying to sing along \\nAll through the ghetto groovin' this here song \\nNow you're amazed by the VIP posse. \\n\\nSteppin' so hard like a German Nazi \\nStartled by the bases hittin' ground \\nThere's no trippin' on mine, I'm just gettin' down \\nSparkamatic, I'm hangin' tight like a fanatic \\nYou trapped me once and I thought that \\nYou might have it \\nSo step down and lend me your ear \\n'89 in my time! You, '90 is my year. \\n\\nYou're weakenin' fast, YO! and I can tell it \\nYour body's gettin' hot, so, so I can smell it \\nSo don't be mad and don't be sad \\n'Cause the lyrics belong to ICE, You can call me Dad \\nYou're pitchin' a fit, so step back and endure \\nLet the witch doctor, Ice, do the dance to cure \\nSo come up close and don't be square \\nYou wanna battle me -- Anytime, anywhere \\n\\nYou thought that I was weak, Boy, you're dead wrong \\nSo come on, everybody and sing this song \\n\\nSay -- Play that funky music Say, go white boy, go white boy go \\nplay that funky music Go white boy, go white boy, go \\nLay down and boogie and play that funky music till you die. \\n\\nPlay that funky music Come on, Come on, let me hear \\nPlay that funky music white boy you say it, say it \\nPlay that funky music A little louder now \\nPlay that funky music, white boy Come on, Come on, Come on \\nPlay that funky music \\n\\x04\\x04\\x04\\x04\"\n"
     ]
    }
   ],
   "source": [
    "block_size = 16\n",
    "key = b'YELLOW SUBMARINE'\n",
    "initialization_vector = b'\\x00' * block_size\n",
    "\n",
    "decrypted_bytes = decrypt_CBC(base64.b64decode(plain_text), key, block_size, initialization_vector)\n",
    "\n",
    "print(decrypted_bytes)"
   ]
  },
  {
   "cell_type": "code",
   "execution_count": null,
   "metadata": {},
   "outputs": [
    {
     "name": "stdout",
     "output_type": "stream",
     "text": [
      "b'\\x93\\xe4c\\x06\\x1dg\\xc7J\\xa6\\xe5\\x99:\\xea\\xa4dh[\\x90@\\rjd{\\xe1\\x8d\\x1fg\\xf4\\x82\\xbf\\xe5\\xab'\n",
      "32\n",
      "b'1234567890123456789'\n"
     ]
    }
   ],
   "source": [
    "test_bytes = b'1234567890123456789'\n",
    "en = encrypt_CBC(test_bytes, key, block_size, initialization_vector)\n",
    "print(en)\n",
    "print(len(en))\n",
    "de = decrypt_CBC(en, key, block_size, initialization_vector, False)\n",
    "print(de)"
   ]
  },
  {
   "cell_type": "markdown",
   "metadata": {},
   "source": [
    "Challenge 11"
   ]
  },
  {
   "cell_type": "code",
   "execution_count": null,
   "metadata": {},
   "outputs": [
    {
     "name": "stdout",
     "output_type": "stream",
     "text": [
      "True, answer: CBC, detected: CBC\n",
      "True, answer: CBC, detected: CBC\n",
      "True, answer: CBC, detected: CBC\n",
      "True, answer: CBC, detected: CBC\n",
      "True, answer: ECB, detected: ECB\n",
      "True, answer: ECB, detected: ECB\n",
      "True, answer: ECB, detected: ECB\n",
      "True, answer: ECB, detected: ECB\n",
      "True, answer: CBC, detected: CBC\n",
      "True, answer: ECB, detected: ECB\n"
     ]
    }
   ],
   "source": [
    "import challenge11 as c\n",
    "\n",
    "block_size = 16\n",
    "for i in range(10):\n",
    "  encrypted_bytes, key, encryption_mode = c.encryption_oracle('A'*256, block_size)\n",
    "\n",
    "  target_index = -1\n",
    "  max_chunk = int(len(encrypted_bytes)/block_size)\n",
    "    \n",
    "  for i in range(max_chunk - 1):\n",
    "    for j in range(i + 1, max_chunk):\n",
    "      if encrypted_bytes[i*block_size: (i+1)*block_size] == encrypted_bytes[j*block_size: (j+1)*block_size]:\n",
    "        # print(encrypted_bytes)\n",
    "        # print(encrypted_bytes[i*block_size: (i+1)*block_size], encrypted_bytes[j*block_size: (j+1)*block_size], i, j)\n",
    "        target_index = i\n",
    "        break\n",
    "    if target_index != -1:\n",
    "      break\n",
    "  \n",
    "  detected_mode = 'ECB' if target_index != -1 else 'CBC'\n",
    "  print(f'{encryption_mode == detected_mode}, answer: {encryption_mode}, detected: {detected_mode}')"
   ]
  },
  {
   "cell_type": "markdown",
   "metadata": {},
   "source": [
    "Challenge 12"
   ]
  },
  {
   "cell_type": "code",
   "execution_count": null,
   "metadata": {},
   "outputs": [
    {
     "name": "stdout",
     "output_type": "stream",
     "text": [
      "encrypted_bytes: b'`rL\\x0c\\xf9k\\xde(\\xee\\x8b\\xbb/8R\\xfa\\xcd\\xdf\\xd6\\xd1V\\x9a\\xadk(\\xd3E\\x86\\xed\\x1fx\\x83\\xf0\\xe3\\xcfjE1\\x085\\xac\\x8e\\x82\\xa1\\xd6p\\xa6b\\xf0\\x8e\\xd7\\x89d\\x0fU\\x1c\\x15\\xccZ\\x88\\xc8:0\\xe2Q\\x00i\\xaf\\x80C\\x86~[\\xe5\\xa7H\\xa7\\xd2\\x06\\xb7C2\\xe75\\x94\\xe2h\\xac4\\x06id<o\\x19\\x07H\\xe1|J\\xea\\xf3K\\xf1\\x0ek\\xad\\xb3\\xd84e\\xb7\\xc5\\xbd\\x82\\xafnd7a)7\\xf4y\\xfe6\\xa4\\x8f\\xa5\\xf7x/\\x142\\xf4\\x8c\\x08z\\xe8\\x10\\x80\\x9aY6\\x0e6\\xdaJ\\x9d\\x1c\\x16\\x91@x\\x82\\xceHYO\\xe8\\xdc'\n",
      "detected_mod: ECB\n",
      "b\"Rollin' in my 5.0\\nWith my rag-top down so my hair can blow\\nThe girlies on standby waving just to say hi\\nDid you stop? No, I just drove by\\n\\x01\"\n"
     ]
    }
   ],
   "source": [
    "import challenge12 as c12\n",
    "\n",
    "c12.block_size = 16\n",
    "c12.random_key = os.urandom(block_size)\n",
    "c12.random_prefix = os.urandom(random.randint(5, 10))\n",
    "plain_text = 'random plain text'\n",
    "\n",
    "encrypted_bytes = c12.new_oracle(plain_text)\n",
    "print(f'encrypted_bytes: {encrypted_bytes}')\n",
    "\n",
    "# Step 1 Get block_size\n",
    "#detected_block_size = detect_block_size(plain_text)\n",
    "#print(f'block size detection:{detected_block_size==block_size} block_size:{block_size} detected_block_size:{detected_block_size}')\n",
    "# Step 2 Detected ECB mode\n",
    "detected_mode = c12.detect_ECB_mode(plain_text)\n",
    "print(f'detected_mod: {detected_mode}')\n",
    "# Step 3,4 Craft input\n",
    "# Step 5,6 match_output\n",
    "something = c12.match_output()\n",
    "print(something)"
   ]
  },
  {
   "cell_type": "markdown",
   "metadata": {},
   "source": [
    "Challenge 13"
   ]
  },
  {
   "cell_type": "code",
   "execution_count": null,
   "metadata": {},
   "outputs": [
    {
     "name": "stdout",
     "output_type": "stream",
     "text": [
      "profile: email=foo%40bar.com&uid=10&role=user\n",
      "b'\\xc3\\xdayE\\x19\\x86V\\x85\\x81\\xc8\\x87\\xd7n\\xa4\\x93\\x90'\n",
      "b'\\xad\\xfa\\xe2\\x99\\xda\\xdd\\xa7\\x02\\xe8\\x90\\x00>\\xcf\\x95(<\\xc1\\xef\\xb5Vd^\\xee\\xdcz)\\xcc\\xfb\\xd3`\\x8fl\\xab\\xa1\\x03\\x81#\\xe1\\xba>\\x99\\x85:H\\x0e\\x96N\\xb4'\n",
      "b'email=foo%40bar.com&uid=10&role=user\\x0c\\x0c\\x0c\\x0c\\x0c\\x0c\\x0c\\x0c\\x0c\\x0c\\x0c\\x0c'\n",
      "target: email=foo%40bar.com&uid=10&role=admin\n",
      "b'\\xad\\xfa\\xe2\\x99\\xda\\xdd\\xa7\\x02\\xe8\\x90\\x00>\\xcf\\x95(<\\xc1\\xef\\xb5Vd^\\xee\\xdcz)\\xcc\\xfb\\xd3`\\x8fln\\xef\\xf3\\xd2y\\x98\\xfb\\xda\\x83\\xa2{\\xc5\"I#?'\n",
      "b'email=foo%40bar.com&uid=10&role=admin\\x0b\\x0b\\x0b\\x0b\\x0b\\x0b\\x0b\\x0b\\x0b\\x0b\\x0b'\n"
     ]
    }
   ],
   "source": [
    "import challenge13 as c13\n",
    "\n",
    "block_size = 16\n",
    "profile = c13.profile_for('foo@bar.com')\n",
    "print(f'profile: {profile}')\n",
    "key = generate_random_aes_key()\n",
    "print(key)\n",
    "encrypt_profile = encrypt_ECB(str.encode(profile), key, block_size)\n",
    "print(encrypt_profile)\n",
    "decrypt_profile = decrypt_ECB(encrypt_profile, key)\n",
    "print(decrypt_profile)\n",
    "\n",
    "target = 'email=foo%40bar.com&uid=10&role=admin'\n",
    "print(f'target: {target}')\n",
    "encrypt_target = encrypt_ECB(str.encode(target), key, block_size)\n",
    "print(encrypt_target)\n",
    "decrypt_target = decrypt_ECB(encrypt_target, key)\n",
    "print(decrypt_target)"
   ]
  },
  {
   "cell_type": "code",
   "execution_count": null,
   "metadata": {},
   "outputs": [
    {
     "name": "stdout",
     "output_type": "stream",
     "text": [
      "['email=foo%40bar.', 'com&uid=10&role=', 'user', '', '']\n",
      "[b'\\xad\\xfa\\xe2\\x99\\xda\\xdd\\xa7\\x02\\xe8\\x90\\x00>\\xcf\\x95(<', b'\\xc1\\xef\\xb5Vd^\\xee\\xdcz)\\xcc\\xfb\\xd3`\\x8fl', b'\\xab\\xa1\\x03\\x81#\\xe1\\xba>\\x99\\x85:H\\x0e\\x96N\\xb4', b'', b'']\n",
      "['email=foo%40bar.', 'admin&uid=10&rol', 'e=user', '', '']\n",
      "[b'\\xad\\xfa\\xe2\\x99\\xda\\xdd\\xa7\\x02\\xe8\\x90\\x00>\\xcf\\x95(<', b'\\xed\\xf6\\xac-\\xe6\\x8bo\\xf8\\x1c\\x02\\x12\\x95\\xd1\\xb9\\xd3\\xfb', b\"\\xf0<\\xf9{'\\xecsd%w\\x0f\\x1fJa\\x8d;\", b'', b'']\n"
     ]
    }
   ],
   "source": [
    "origin = c13.profile_for('foo@bar.com')\n",
    "print([origin[i*16:(i+1)*16] for i in range(5)])\n",
    "encrypt_origin = encrypt_ECB(str.encode(origin), key, block_size)\n",
    "print([encrypt_origin[i*16:(i+1)*16] for i in range(5)])\n",
    "hack = c13.profile_for('foo@bar.admin')\n",
    "print([hack[i*16:(i+1)*16] for i in range(5)])\n",
    "encrypt_hack = encrypt_ECB(str.encode(hack), key, block_size)\n",
    "print([encrypt_hack[i*16:(i+1)*16] for i in range(5)])"
   ]
  },
  {
   "cell_type": "code",
   "execution_count": null,
   "metadata": {},
   "outputs": [
    {
     "name": "stdout",
     "output_type": "stream",
     "text": [
      "b\"\\xad\\xfa\\xe2\\x99\\xda\\xdd\\xa7\\x02\\xe8\\x90\\x00>\\xcf\\x95(<\\xc1\\xef\\xb5Vd^\\xee\\xdcz)\\xcc\\xfb\\xd3`\\x8fl\\xed\\xf6\\xac-\\xe6\\x8bo\\xf8\\x1c\\x02\\x12\\x95\\xd1\\xb9\\xd3\\xfb\\xf0<\\xf9{'\\xecsd%w\\x0f\\x1fJa\\x8d;\"\n",
      "b'email=foo%40bar.com&uid=10&role=admin&uid=10&role=user\\n\\n\\n\\n\\n\\n\\n\\n\\n\\n'\n"
     ]
    }
   ],
   "source": [
    "encrypt_origin = encrypt_origin.replace(encrypt_origin[32:48], encrypt_hack[16:32]) + encrypt_hack[32:48]\n",
    "print(encrypt_origin)\n",
    "print(decrypt_ECB(encrypt_origin, key))"
   ]
  },
  {
   "cell_type": "code",
   "execution_count": null,
   "metadata": {},
   "outputs": [
    {
     "name": "stdout",
     "output_type": "stream",
     "text": [
      "['email=foo%40bar.', 'admin&uid=10&rol', 'e=user', '', '']\n",
      "[b'\\xad\\xfa\\xe2\\x99\\xda\\xdd\\xa7\\x02\\xe8\\x90\\x00>\\xcf\\x95(<', b'\\xed\\xf6\\xac-\\xe6\\x8bo\\xf8\\x1c\\x02\\x12\\x95\\xd1\\xb9\\xd3\\xfb', b\"\\xf0<\\xf9{'\\xecsd%w\\x0f\\x1fJa\\x8d;\", b'', b'']\n"
     ]
    }
   ],
   "source": [
    "hack = c13.profile_for('foo@bar.admin')\n",
    "print([hack[i*16:(i+1)*16] for i in range(5)])\n",
    "encrypt_hack = encrypt_ECB(str.encode(hack), key, block_size)\n",
    "print([encrypt_hack[i*16:(i+1)*16] for i in range(5)])"
   ]
  },
  {
   "cell_type": "markdown",
   "metadata": {},
   "source": [
    "Challenge 14"
   ]
  },
  {
   "cell_type": "code",
   "execution_count": null,
   "metadata": {},
   "outputs": [],
   "source": [
    "import challenge14 as c14\n",
    "\n",
    "c14.random_prefix = os.urandom(random.randint(1, 32))\n",
    "c14.block_size = 16\n",
    "c14.random_key = generate_random_aes_key()"
   ]
  },
  {
   "cell_type": "code",
   "execution_count": null,
   "metadata": {},
   "outputs": [
    {
     "name": "stdout",
     "output_type": "stream",
     "text": [
      "b'\\xb6xe*\\x1e\\x1ba\\xd7\\x85i\\xb4\\xc2\\xb2\\x198V5\\xf1\\x97\\xba\\x07\\xa3\"\\xf6\\x1aM\\xe0\\xd6\\xf3_\\x1b\\x1a\\x1e`\\x1dx\\xc4\\x95\\xfe[\\xb3~A\\xb9\\x85\\xa0\\xd8\\xd6\\xe5\\x96\\xe5\\xf6\\xf8>\\xac/&\\x8aHS\\xfeZj\\x88\\xa8\\xf3z\\\\\\xf6\\x88\\x82\\x95\\xe0}\\x85>\\xc3\\n\\xbc6\\xfd0\\xf7\\xb9\\xe5\\xe1q\\xbb\\xd1\\x89m\\xc2\\xec(+\\\\F\\xa9\\xf3v\\x060\\x1aF\\xc7\\xafJ\\x17\\xf6!W\"\\x95\\x89\\x83S\\x12Yo\\xa3zKf\\xc7.\\xf3*\\xc04\\xfa\\xa9_m\\xb7\\x18m\\x18X\\xff\\x94\\xdci\\x8eB\\x97\\x01\\t\\r\\xfe\\x05EMn\\x14#kE\\x03\\xb8\\x80\\xb5Q\\xffn\\xa3\\xaa*c\\x06\\x03uY\\xf6&\\xd1\\xb9'\n"
     ]
    }
   ],
   "source": [
    "attacker_controlled = b'attacker_controlled'\n",
    "encrypted_btyes = c14.new_oracle(attacker_controlled)\n",
    "print(encrypted_btyes)"
   ]
  },
  {
   "cell_type": "code",
   "execution_count": null,
   "metadata": {},
   "outputs": [
    {
     "name": "stdout",
     "output_type": "stream",
     "text": [
      "0 [b',\\xd7;\\x9e\\x87\\xb8\\x9a\\x04\\x8a?\\x8c.\\x01\\xc8\\x1d1', b'o\\xb9\\x80is\\xbb\\x98\\xdb\\x1cyDrQti\\xf9', b'\\xe3\\xbd7\\x1c\\xb78\\x9ah\\xf1\\xf1\\xe3\\xf0I\\x9dg\\xcf', b'\\x14$>\\x96\\xa4\\x16\\xc1,\\xfa\\xc3\\xb8u\\x0e\\xc4\\x01A', b'/L\\xd9Ho\\xd2X<\\xbf\"\\x90V\\xads\\xfe\\xd3', b'\\x00\\xa4\\xed\\xec.;[\\xa2 \\x06\\x91$\\x9d*\\x9c\\x8b', b'\\t\\x19\\xa9$\\xb6`\\x90Z\\x11U\\xe6\\xea\\xb5\\x1f)\\x11', b'\\xff\\xce\\xce\\xbeV\\xe9b\\xc48\\xe0k\\x90e\\x01\\xf5Y', b'\\xcept\\x83\\xac\\xa3?\\xbf\\x88\\xd1-Or\\x8b\\x93\\xfc', b'']\n",
      "1 [b'\\x03\\x89\\xc6Dt\\xde\\x06\\xad\\xd4\\x0c\\x8aG\\xcc\\xbf\\xde\\x83', b'\\xb0\\xba\\xfe\\x94\\xe5\\x13\\xaa4\\x96\\n\\xf5\\x8b\\xcc\\x11\\xec\\xc4', b\"+\\xcb\\xd9'L\\x9ct\\x8c\\x07c\\xe1\\x8bP\\xeax\\x0c\", b'\\xb2\\xc6\\x10\\xd5\\xf4j\\xdf\\xf0\\\\(\"K\\xeex\\x19\\xc8', b'C\\xd5\\xc0\\x19\\xe5\\x8b\\xc7\\x8f(\\xcd\\x1d\\xef\\xb0\\xd8~\\xf0', b'j*\\xd84\\xc8\\xe74\\xe2R\\xab\\xd3Q\\x1b\\x0f8\\x15', b':\\xb2#\\xaf\\xd6\\xbc[\\xd8C\\x93Z\\xe0=i\\xf7\\xd9', b'Pq\\xf0\\x18\\x85+^*\\xb5 G\\xe0#p\\xce\\x11', b'\\x7f\\xcf\\xb0\\x85\\xac\\xc2\\xcc\\x83[\\x10\\xe6t%V\\x1eT', b'Y\\x14\\x05\\xa4\\xffI\\x1e\\xd9-\\x02\\x15\\xd0\\xed\\xf7\\xa9\\xee', b'']\n",
      "2 [b'\\xf5\\xc0\\x1d$\\xc6\\xbd\\x0bY\\x03A\\x82-\\xefK\\xf6\\xab', b'\\x98x\\x1d=\\xe0\\xc3V[\\xa0\\xd7xsuS\\xbb.', b'\\xd7\\xb1v\\xfd\"qb\\xd7.E\\x1c\\xa5\\xc7\\xc4\\xb4\\xc7', b'?\\xcd{\\x17K\\x84~\\x08[\\x13\\x9e\\xe8\\xd7\\xb1#|', b'\\x8dG\\x1c\\xebs.\\xc5\\xf6\\x1c\\xd2\\xcb\\t\\x0e\\xcaJ\\xa8', b'\\xc1\\xb4\\xbf\\xf7N\\xf2U\\x1f\\xb2\\x018]\\xc7K\\xb7\\xed', b'\\xf8ko\\x80\\xecA\\xd9L-\\x00\\x89\\xce0*\\x05b', b'2\\xb5\\x81\\xd3\\xdd\\xf4\\x06\\xcd\\x7f\\x9e\\x01&\\xa6\\xcdW\\xb4', b'\\xa7{\\xbc\\xb4\\x15\\x9c\\xcc\\xa5\\x0b\\x00\\xd2\\x88\\xb9:Hk', b'\\xc0\\xd3\\xe1OX\\xf1\\x0e\\x8f\\xfeN\\x9fD\\xbb\\t\\xa0<', b'']\n",
      "3 [b'\\x96nb\\xa9\\xacIs\\xb8\\xe4\\xbe\\x87\\x11\\xe5\\xe0,\\xfb', b'\\x1e`\\x1dx\\xc4\\x95\\xfe[\\xb3~A\\xb9\\x85\\xa0\\xd8\\xd6', b'\\xe5\\x96\\xe5\\xf6\\xf8>\\xac/&\\x8aHS\\xfeZj\\x88', b'\\xa8\\xf3z\\\\\\xf6\\x88\\x82\\x95\\xe0}\\x85>\\xc3\\n\\xbc6', b'\\xfd0\\xf7\\xb9\\xe5\\xe1q\\xbb\\xd1\\x89m\\xc2\\xec(+\\\\', b'F\\xa9\\xf3v\\x060\\x1aF\\xc7\\xafJ\\x17\\xf6!W\"', b'\\x95\\x89\\x83S\\x12Yo\\xa3zKf\\xc7.\\xf3*\\xc0', b'4\\xfa\\xa9_m\\xb7\\x18m\\x18X\\xff\\x94\\xdci\\x8eB', b'\\x97\\x01\\t\\r\\xfe\\x05EMn\\x14#kE\\x03\\xb8\\x80', b'\\xb5Q\\xffn\\xa3\\xaa*c\\x06\\x03uY\\xf6&\\xd1\\xb9', b'']\n",
      "4 [b'\\x87\\x8c\\xe2\\xa6sO\\xe1Q\\xa9\\xc2\\xbbd\\x98o\\xf1\\x1e', b'F\\xfb\\r\\x87\\xe1\\xe1\\xb9\\xc62\\xcdNL\\x80$1M', b'\\xbfx45\\xc6\\xf2\\x81\\xe2\\xec\\xbc\"\\xd0\\xb3\\xf4\\xa30', b'w\\xb2\\xaf4)e\\xd7\\xc3T#\\x07^\\x86)\"\\x1c', b'\\xbd\\xa5D\\xa6\\x86\\xec\\xb3\\x8dz\\xcb\\xb2>Q\\xfa\\xb9S', b'L\\x0f\\xdc\\x0b}\\xe5\\x1b\\xec\\xc8|\\x97\\x90\\xfcXO\\x1f', b'\\x94\\x84\\x80\\xeeh\\xf8\\xa2\\xdd\\xa2$\\xf5\\x82n\\x15\\xf3E', b'r\\xbeJW\\xde\\xd1\\x83v\\xa7\\xc12:\\xc4w\\xb8\\xfd', b'y\\x1a\\xbc3\\xa4\\x1b\\x9f_\\x17\\x87\\xee5D\\xe4\\xa2\\xa6', b'\\xbe\\x1d\\x8d\\xa6\\x87T\\xefHN8\\x0eW\\x19\\xd3\\xf5\\x06', b'']\n",
      "5 [b'#l\\xbc\\xe7\\x98#\\xd9AG\\xfb\\x99p|\\xcf][', b\"\\x1ak\\xbb\\x98\\x92\\xaerY'\\xe8\\xe0I\\xcf_u\\x0b\", b'\\x8b\\x9fq\\xb6~\\xd4\\x07\\xef\\xa6\\xb2\\x10\\x9c\\x82\\r\\xfb\\xda', b'\\xda\\xdav\\xba\\x0c\\x0f\\xcd\\xfby\\xafI\\x97\\x9c\\xbc?}', b'\\x1f\\n\\x1e\\x14\\x1av7q7x\\xa4\\xbb \\xdc\\xaa\\xcd', b'\\xae\\xb1\\xa8\\xe8Y\\xd2\\x86\\x19*,\\xfa\\xf46\\xa0\\x9e\\x92', b'\\x1e\\xdf\\x7f\\x86\\xa1\\xa3\\x01\\xc4s\\x0f\\xdd\\x17,\\xd9U~', b'\\x1d6\\xb7\\x1d\\x98\\xc2^E\\xe0.\\xf3\\xeeB\\x16<\\x9d', b'i\\x915e\\xb5Y\\xbb&\\xa5\\xad\\xb7\\x1c\\xcc\\xe8>\\x11', b\"\\x8e\\x1a ]X\\xa8'u\\xd7\\xbf\\x0c\\xbb\\xc1\\xe2\\xa4\\xda\", b'']\n",
      "6 [b'\\xc0W\\xd3\\xa3<\\x9b\\xf4\\x039\\xcca\\xa7\\xe8E\\\\1', b'`\\xa0\\xae\\x9f\\xf7\\xcf\\x14q\\xf2\\x18\\xac>\\xe8&\\x82\\xb6', b'8\\xc3W0\\xa9\\xdb\\xebz\\x1e\\xc2\\x1a_36\\xe1\\xc6', b'\\xb81G\\xc7\\x88\\xe9G\\xa4\\xb3\\xb5\\xb5\\xca\\xb7\\x8e\\xd0\\xc1', b'>\\x8d\\x1b\\xd2;\\xe0\\xdc\\xf3C\\xaat\\xe7_\\xbd\\xf6\\xac', b'%\\x11\\xde\\x90\\\\\\xfd\\x16\\xd2\\x9e\\x8c\\xf6\\x0b\\xfb\\xceh\\x1c', b'c\\x1e\\x13\\x14B3\\x97@\\x03\\x83\\x930f\\xcf+\\x84', b'\\xb4\\x0c\\x8e>G\\x84j\\xf2\\xe4=\\x1bY\\x9e\\xce\\x8ao', b'\\xaf\\xa7\\x17c\\x00\\r\\xd7D\\x9b\\xdc\\x97o7\\x17\\x84\\x9e', b'\\xddP\\xacMj\\xe0\\xfa\\xb3iz\\x93].\\xe7!s', b'']\n",
      "7 [b'\\tY\\\\4z(<\\xc6\\xdb\\xed`\\xed\\xb9e\\xe9\\x1b', b'\\xd0\\xa5-\\x17]8\\xa7\\x80\\\\L\\xf9\\x12\\xc2\\xba\\xb9\\x1e', b'\\xc7\\xa7\\x04\\xd0\\xd1g=T\\xe0\\xd2\\x85\\x16\\xc5?a\\x9c', b'\\x1f\\xf0\\x89,z\\x87K\\x15l\\x94T8\\xb3|pz', b'\\x17\\xe1\\xc0\\xcb\\xaf+Y\\x9e\\xcd\\x1dz\\xf3\\xe7h\\xfe\\xed', b'\\x0bx\\xc5\\xb5\\xaa$\\xd0]].e\\xec{\\x0e\\x9e\\xff', b'\\t\\x9b\\xab\\x17\\xee[>\\xf7\\xe3\\xde\\xcb:g)\\xfc\\xf3', b\"'\\xf6\\xb5X0\\\\>\\xb2\\xaaa\\x1f/\\xe3\\xf5\\x07.\", b'\\x01<\\xbb\\xb13N\\xc2\\xad\\xa1\\xaa\\xa3\\x05\\xb2\\x8bZ\\xe1', b'\\x8d\\x95\\x85\\x94\\xe4\\xd2\"\\xad\\xe2\\xb8X\\xc3\\x11\\xf5e\\xe0', b'']\n",
      "8 [b'\\xa7%\\x8e5M\\t\\xa4\\xb9\\x14\\x08n<\\xea\\xf3>\\x1a', b'\\xfe2\\x04c9\\xdb\\xd8\\x9c\\x17\\x86i\\r\\x1e\\xe4P\\x8d', b'i\\x158[S/\\x97\\x95\\xbc\\xb8\\x7f6\\x10\\x84\\xd1\\x90', b'\\x91\\xc4\\xcf=\\xbb\\xb8\\x1a\\x12\\x93^\\x9e\\xd7{\\xd8E*', b'\\xfb\\xe8tI\\xa1\\x0fA\\xa88P\\xf9[\\xf8Y\"e', b'B~\\xf5b\\x80\\x1a\\x18-\\xdc\\xeb3\\xe1\\xb2T\\xea\\x11', b'[B\\xd4p\\x0b\\xcc1h\\xc5\\x1ak=C\\x1b\\xab\\x12', b'*x\\xb6\\xd3\\x19\\xf7\\x10\\xc1\\x80\\x8b\\xdf@\\xfcd\\x17A', b'm\\xe1M\\xd1`\\xc9\\x10\\xac<\\x01\\x1eN8\\x08\\xfe\\x98', b'\\xb8Gd&\\xf77\\x1b\\xe1\\x7f\\x7f\\x03^\\x81S)9', b'']\n",
      "9 [b'<=A\\xbe\\x93NVQ\\xe4\\xb5H\\x87\\xd8\\x16\\xd3~', b'\\xc7B\\xac\\x853e\\xd4\\x07aFc\\xf5\\xf2_-4', b'F\\xa8\\xf4\"/\\xf4\\xa0\\x18\\x82\\x00d\\x85\\x91,\\xee7', b'\\xfd\\x16\\xe9\\xab\\xebT\\xb6{_7\\x945\\xad\\x10xc', b'J\\x07H9\\x1ed\\xf4\\x04p5r{\\xe4\\xe5\\xc5\\x9a', b'+<^JR\\x12\\xcd\\x99C\\x8d\\x1b:\\x0b\\x00}3', b'|\\x95\\x15\\t\\x11I\\x1e\\x1fU\\xd7\\xbf\\x14\\xf2-m\\xb7', b'\\x97O\\xfd\\x98\\xbb\\xd6\"\\x01\\x7f\\x03_\\x94\\xd1\\xebo3', b'^3\\x0b\\xb5Ri?\\xd4\\x00c3\\xd1\\xf1\\x18\\xa4\\xdf', b'J\\xaa\\xd3\\x1e4\\x95\\x03\\xeduju\\x88\\xda\\x1fb\\xe2', b'']\n",
      "10 [b'\\xf0\\xb5\\x99\\x13\\xc7Ry\\xcf\\x9a\\xe8\\xe9\\xddsx\\x0cY', b'\\x9b\\xd8\\x12|S[\\x80\\xcf\\x03C\\xb4\\xb0\\x88\\xb9>\\xfe', b'\\x9b\\xe0\\x8e\\x14\\xff\\xba*\\x90\\xce\\xaa\\xedaK9U\\xc5', b'/GZD7\\x93\\xfc\\x96\\x80Z\\x0bLZLXH', b'\\xbd2\\x1d2t\\x19\\xf3\\xc0\\xd1\\xdb\"G\\x00J3F', b'\\xdax\\x99kc\\xe3\\xafM+\\xe3\\x83\\x88\\x16k\\xd5\\xe3', b'\\xd0NbA\\x8a\\r/^`\\xe7\\xd2=\\xe2a\\xe5`', b'\\xe1-\\x17<\\xdco\\xf6[\\xf9$7\\xaec\\x99\\xfa_', b'W\\x89\\xa5\\xb0\\x90g\\x82:\\xcf\\xe2\\xae\\xbc\\xe3\\x1f\\xa4\\xe2', b'\\xf3(\\x1a\\xdak\\x02\\x96;\\xec\\xe8my\\xc9A\\xb9\\x1c', b'']\n",
      "11 [b'\\xbc\\xe3I\\xba\\xc2g\\xa7\\xbc#~zk\\xffm\\xd6\\xa5', b'\\x8eH@\\xc16\\x18\\xd9\\xec]\\x9c\\xb9\\xe9\\x1f\\x18~\\xc7', b'\\x01G.q\\x15O\\xdb{\\x02x\\xf3j4\\x12rk', b'\\xfb\\x88\\xd1\\xb2c\\xddP=r\\xfb&\\xac,S\\xa5\\x92', b'\\xa4\\xec\\x1f^._w\\xca+v\\xb2r\\xd8r.\\xf9', b'@\\xa6\\xc3\\xe0\\xbc\\xb0\\xf6\\x18\\xdd`\\xb3t\\x93\\t\\x93\\x15', b'\\xf0\\xe3Q\\x04\\xb2`(\\x17\\xbd\\xee\\xa3\\x8cZ\\xd4@L', b'\\xcdm\\xb2P\\xc0\\x84N$`k\\xe0\\xe3\\xf8\\xb4\\x81#', b'uL\\xd0\\xcaK[(@\\xdd4\\xa2\\n\\xed\\xc9\\x92\\xc0', b'\\x05}\\xf7*\\xc2{\\x97.\\xa9b\\x84\\x06\\x84 \\x7fT', b'']\n",
      "12 [b'\\xbc\\xe3I\\xba\\xc2g\\xa7\\xbc#~zk\\xffm\\xd6\\xa5', b'\\xd3/\\xd8\\x96\"\\xb6\\x1fED\\xb6t\\x95\\xa2\\xeb\\x02-', b'L\\x9c\\xe6\\xaa\\xe9|\\n\\xdc\\xf0\\xac\\x1d\\xd0\\x8b\\x88;\\xfe', b'9,}`\\xe2\\xc8\\xbaPt4\\x8fC\\xed\\xb6\\x818', b'<\\x1b\\xa8\\x9f\\x18\\xa4\\x93\\xec2^sl\\xa3O\\x11\\xb9', b'\\xc8\\x04\\x0ea\\xb2\\x96\\x8eK\\xa6\\x05\\x8ah\\xb5\\x12\\xdb\\x94', b'\\xec5\\xe3\\xb0t^\\xfb\\xc4\\xb6!\\xe9Z\\xa2vX\\xdb', b'\\x08\\x17\\x13%\\xb9\\xe2\\x11\\xc8\\xf0\\xea\\x06\\x85X\\x10\\x850', b'\\xf9\\xc8\\xfa\\xe6\"\\xf7\\xafH\\x85\\x97=p\\xd3\\x8fz\\xec', b'\\xfb\\x91J\\xfb\\xd5\\xe0\\x82G\\x98\\xab\\xac\\xb4\\xb92\\xc1o', b'']\n",
      "13 [b'\\xbc\\xe3I\\xba\\xc2g\\xa7\\xbc#~zk\\xffm\\xd6\\xa5', b'\\x8bTn\\xb6!\\x02U\\x1f\\xe4\\xac\\x9arC\\x0f\\xcb\\xc4', b')\\xbb\\xfa\\x17 \\xbbv\\xbe\\n\\\\\\xe02\\xb3L\\xaf=', b'\\xc1{\\xce\\xd7\\xb2UC\\xfd$i`c\\xfc@\\x8c\\xe7', b'\\x12\\x04\\xe7\\xe6\\x0f\\xee\\xb1\\x15\\x02\\xceb\\x0cC\\xd4\\x15\\xae', b'\\x0b*5(S\\x15y\\xb0Nc\\xc1H]T\\xdeq', b\"\\xf7c@'\\xed\\xec\\xbf\\xef\\xe1\\xf4;\\xbe\\xe3^K\\x9b\", b'\\xf5!\\xe0\\xbf\\xf8@,\\xb8:\\x0bEEx\\xae\\xf1`', b'\\xc9\\xc2=\\xe5_\\xc9\\xfc\\xbb\\xeb\\xd0\\x86\\x16bj\\xf5\\xad', b'\\x19\\xcc\\xc2\\xc1\\xee\\x08\\x8c\\xa9\\x93;\\x99\\x94\\x98\\x8bv8', b'']\n",
      "14 [b'\\xbc\\xe3I\\xba\\xc2g\\xa7\\xbc#~zk\\xffm\\xd6\\xa5', b'~\\x14\\xd2#\\xa7\\x14\\x95\\xaf\\xad\\n\\xc8\\x1f\\rq\\xca\\x13', b'\\t<\\xf5\\x89\\xb9\\xe9\\xba\\xba\\xb6b\\x95\\xcfi!N\\x03', b'\\xa2\\x1c\\xebJN\\x81\\x86\\xe2\\xc0n\\x1b\\x8f_G\\xd2\\x1c', b'\\xf0\\xa1\\x88>\\x97P\\xcd\\x15-d\\xa6\\x8c\\xfe\\xd4o\\x84', b'\\xdb\\x14+t!,9\\xb9G\\xb9\\xd9\\x11\\xc0\\xa6\\x99+', b'\\xc8+\\x9d\\x07\\xf7\\xc6\\xb8\\x94\\x04p\\x98#\\x0b\"\\xca\\x8b', b'\\x86\\x9b\\x13\\xec`?\\xa8\\x1b\\xd2\\xc9\\x11\\xd7\\t\\xda#\\x08', b'\\xf0\\xb9\\xacF\\x93\\x92\\xe2\\x01v!\\xc8\\x0b\\x02\\x9d\\xf0\\xff', b'\\xfaa\\xb0;i\\x08\\x80x\\xa8\\xb7\\xb5\\xee\\x1fZ*\\x8f', b'']\n",
      "15 [b'\\xbc\\xe3I\\xba\\xc2g\\xa7\\xbc#~zk\\xffm\\xd6\\xa5', b'\\x1a#\\xc5\\\\\\xc5\\xa9*\\xf5\\xa34\\x83\\xfa$mD\\xd8', b'\\x8e\\xb9\\xf0!\\xbc\\tx\\x86\\xb0?\\xec\\x1d\\x8d\\xc4\\x9b_', b'\\x82\\xeb\\xb25\\x87{\\x19s3\\x9b\\xb2wq\\xc9m\\x06', b'\\xfew,\\xa7\\xf7\\xed\\xc3\\xfd\\x8a\\x83\\x98\\xe1d\\xc7NV', b'L\\xda\\x94s\\x8a\\xa6kY\\xa2e\\xab^\\xf24\\xd3\\x84', b\"\\x08\\xaf&\\x12\\xd6\\x80'\\xcb{=\\x98\\x199\\x12\\xf5&\", b'\\x97K\\x90\\x9am\\xc0h\\x117\\xdd\\x90\\x9a\\x10\\xf11&', b'\\xb0Ky\\x13\\xfd\\xae%\\xbf\\xed\\x0f\\x8c\\xd4\\xe7o\\xe0\\xc6', b'\\xc5Ob\\xd5\\xcfV\\xcbJi\\x8a:\\xa9\\xc2\\x98\\xfaX', b'']\n",
      "16 [b'\\xbc\\xe3I\\xba\\xc2g\\xa7\\xbc#~zk\\xffm\\xd6\\xa5', b'bg\\xf6\\xad\\x02\\xb2\\x0c\\x1fT\\xee1\\xe9\\x82\\xde{\\xb7', b'o\\xb9\\x80is\\xbb\\x98\\xdb\\x1cyDrQti\\xf9', b'\\xe3\\xbd7\\x1c\\xb78\\x9ah\\xf1\\xf1\\xe3\\xf0I\\x9dg\\xcf', b'\\x14$>\\x96\\xa4\\x16\\xc1,\\xfa\\xc3\\xb8u\\x0e\\xc4\\x01A', b'/L\\xd9Ho\\xd2X<\\xbf\"\\x90V\\xads\\xfe\\xd3', b'\\x00\\xa4\\xed\\xec.;[\\xa2 \\x06\\x91$\\x9d*\\x9c\\x8b', b'\\t\\x19\\xa9$\\xb6`\\x90Z\\x11U\\xe6\\xea\\xb5\\x1f)\\x11', b'\\xff\\xce\\xce\\xbeV\\xe9b\\xc48\\xe0k\\x90e\\x01\\xf5Y', b'\\xcept\\x83\\xac\\xa3?\\xbf\\x88\\xd1-Or\\x8b\\x93\\xfc', b'']\n",
      "17 [b'\\xbc\\xe3I\\xba\\xc2g\\xa7\\xbc#~zk\\xffm\\xd6\\xa5', b'\\xb1 \\x18\\x9eD\\x87\\xf9\\xd7_wM\\xadx|\\xf2\\xeb', b'\\xb0\\xba\\xfe\\x94\\xe5\\x13\\xaa4\\x96\\n\\xf5\\x8b\\xcc\\x11\\xec\\xc4', b\"+\\xcb\\xd9'L\\x9ct\\x8c\\x07c\\xe1\\x8bP\\xeax\\x0c\", b'\\xb2\\xc6\\x10\\xd5\\xf4j\\xdf\\xf0\\\\(\"K\\xeex\\x19\\xc8', b'C\\xd5\\xc0\\x19\\xe5\\x8b\\xc7\\x8f(\\xcd\\x1d\\xef\\xb0\\xd8~\\xf0', b'j*\\xd84\\xc8\\xe74\\xe2R\\xab\\xd3Q\\x1b\\x0f8\\x15', b':\\xb2#\\xaf\\xd6\\xbc[\\xd8C\\x93Z\\xe0=i\\xf7\\xd9', b'Pq\\xf0\\x18\\x85+^*\\xb5 G\\xe0#p\\xce\\x11', b'\\x7f\\xcf\\xb0\\x85\\xac\\xc2\\xcc\\x83[\\x10\\xe6t%V\\x1eT', b'Y\\x14\\x05\\xa4\\xffI\\x1e\\xd9-\\x02\\x15\\xd0\\xed\\xf7\\xa9\\xee', b'']\n",
      "18 [b'\\xbc\\xe3I\\xba\\xc2g\\xa7\\xbc#~zk\\xffm\\xd6\\xa5', b'\\x82A\\xe8@\\xef\\x84\\xd5\\xf2E\\xec\\xa1\\xc3\\xc7V#t', b'\\x98x\\x1d=\\xe0\\xc3V[\\xa0\\xd7xsuS\\xbb.', b'\\xd7\\xb1v\\xfd\"qb\\xd7.E\\x1c\\xa5\\xc7\\xc4\\xb4\\xc7', b'?\\xcd{\\x17K\\x84~\\x08[\\x13\\x9e\\xe8\\xd7\\xb1#|', b'\\x8dG\\x1c\\xebs.\\xc5\\xf6\\x1c\\xd2\\xcb\\t\\x0e\\xcaJ\\xa8', b'\\xc1\\xb4\\xbf\\xf7N\\xf2U\\x1f\\xb2\\x018]\\xc7K\\xb7\\xed', b'\\xf8ko\\x80\\xecA\\xd9L-\\x00\\x89\\xce0*\\x05b', b'2\\xb5\\x81\\xd3\\xdd\\xf4\\x06\\xcd\\x7f\\x9e\\x01&\\xa6\\xcdW\\xb4', b'\\xa7{\\xbc\\xb4\\x15\\x9c\\xcc\\xa5\\x0b\\x00\\xd2\\x88\\xb9:Hk', b'\\xc0\\xd3\\xe1OX\\xf1\\x0e\\x8f\\xfeN\\x9fD\\xbb\\t\\xa0<', b'']\n",
      "19 [b'\\xbc\\xe3I\\xba\\xc2g\\xa7\\xbc#~zk\\xffm\\xd6\\xa5', b'|*\\x06d\\x16(>\\xa7,\\xaf\\x12\\xf3\\xc2\\x1b\\xf4\\x18', b'\\x1e`\\x1dx\\xc4\\x95\\xfe[\\xb3~A\\xb9\\x85\\xa0\\xd8\\xd6', b'\\xe5\\x96\\xe5\\xf6\\xf8>\\xac/&\\x8aHS\\xfeZj\\x88', b'\\xa8\\xf3z\\\\\\xf6\\x88\\x82\\x95\\xe0}\\x85>\\xc3\\n\\xbc6', b'\\xfd0\\xf7\\xb9\\xe5\\xe1q\\xbb\\xd1\\x89m\\xc2\\xec(+\\\\', b'F\\xa9\\xf3v\\x060\\x1aF\\xc7\\xafJ\\x17\\xf6!W\"', b'\\x95\\x89\\x83S\\x12Yo\\xa3zKf\\xc7.\\xf3*\\xc0', b'4\\xfa\\xa9_m\\xb7\\x18m\\x18X\\xff\\x94\\xdci\\x8eB', b'\\x97\\x01\\t\\r\\xfe\\x05EMn\\x14#kE\\x03\\xb8\\x80', b'\\xb5Q\\xffn\\xa3\\xaa*c\\x06\\x03uY\\xf6&\\xd1\\xb9', b'']\n",
      "20 [b'\\xbc\\xe3I\\xba\\xc2g\\xa7\\xbc#~zk\\xffm\\xd6\\xa5', b'\\x14\\x8eUl\\xdb,j\\xe9\\xa5\\x8b\\xd9X^Qu\\xf7', b'F\\xfb\\r\\x87\\xe1\\xe1\\xb9\\xc62\\xcdNL\\x80$1M', b'\\xbfx45\\xc6\\xf2\\x81\\xe2\\xec\\xbc\"\\xd0\\xb3\\xf4\\xa30', b'w\\xb2\\xaf4)e\\xd7\\xc3T#\\x07^\\x86)\"\\x1c', b'\\xbd\\xa5D\\xa6\\x86\\xec\\xb3\\x8dz\\xcb\\xb2>Q\\xfa\\xb9S', b'L\\x0f\\xdc\\x0b}\\xe5\\x1b\\xec\\xc8|\\x97\\x90\\xfcXO\\x1f', b'\\x94\\x84\\x80\\xeeh\\xf8\\xa2\\xdd\\xa2$\\xf5\\x82n\\x15\\xf3E', b'r\\xbeJW\\xde\\xd1\\x83v\\xa7\\xc12:\\xc4w\\xb8\\xfd', b'y\\x1a\\xbc3\\xa4\\x1b\\x9f_\\x17\\x87\\xee5D\\xe4\\xa2\\xa6', b'\\xbe\\x1d\\x8d\\xa6\\x87T\\xefHN8\\x0eW\\x19\\xd3\\xf5\\x06', b'']\n",
      "21 [b'\\xbc\\xe3I\\xba\\xc2g\\xa7\\xbc#~zk\\xffm\\xd6\\xa5', b'\\x1c\\x92?\\x84\\xb8Z\\xaf\\xadUzHcK\\xd04h', b\"\\x1ak\\xbb\\x98\\x92\\xaerY'\\xe8\\xe0I\\xcf_u\\x0b\", b'\\x8b\\x9fq\\xb6~\\xd4\\x07\\xef\\xa6\\xb2\\x10\\x9c\\x82\\r\\xfb\\xda', b'\\xda\\xdav\\xba\\x0c\\x0f\\xcd\\xfby\\xafI\\x97\\x9c\\xbc?}', b'\\x1f\\n\\x1e\\x14\\x1av7q7x\\xa4\\xbb \\xdc\\xaa\\xcd', b'\\xae\\xb1\\xa8\\xe8Y\\xd2\\x86\\x19*,\\xfa\\xf46\\xa0\\x9e\\x92', b'\\x1e\\xdf\\x7f\\x86\\xa1\\xa3\\x01\\xc4s\\x0f\\xdd\\x17,\\xd9U~', b'\\x1d6\\xb7\\x1d\\x98\\xc2^E\\xe0.\\xf3\\xeeB\\x16<\\x9d', b'i\\x915e\\xb5Y\\xbb&\\xa5\\xad\\xb7\\x1c\\xcc\\xe8>\\x11', b\"\\x8e\\x1a ]X\\xa8'u\\xd7\\xbf\\x0c\\xbb\\xc1\\xe2\\xa4\\xda\", b'']\n",
      "22 [b'\\xbc\\xe3I\\xba\\xc2g\\xa7\\xbc#~zk\\xffm\\xd6\\xa5', b'j\\xae\\xf3\\x11\\x16\\xe4u\\x85\\xfc\\x9b\\xef0\\t.\\xb9\\xea', b'`\\xa0\\xae\\x9f\\xf7\\xcf\\x14q\\xf2\\x18\\xac>\\xe8&\\x82\\xb6', b'8\\xc3W0\\xa9\\xdb\\xebz\\x1e\\xc2\\x1a_36\\xe1\\xc6', b'\\xb81G\\xc7\\x88\\xe9G\\xa4\\xb3\\xb5\\xb5\\xca\\xb7\\x8e\\xd0\\xc1', b'>\\x8d\\x1b\\xd2;\\xe0\\xdc\\xf3C\\xaat\\xe7_\\xbd\\xf6\\xac', b'%\\x11\\xde\\x90\\\\\\xfd\\x16\\xd2\\x9e\\x8c\\xf6\\x0b\\xfb\\xceh\\x1c', b'c\\x1e\\x13\\x14B3\\x97@\\x03\\x83\\x930f\\xcf+\\x84', b'\\xb4\\x0c\\x8e>G\\x84j\\xf2\\xe4=\\x1bY\\x9e\\xce\\x8ao', b'\\xaf\\xa7\\x17c\\x00\\r\\xd7D\\x9b\\xdc\\x97o7\\x17\\x84\\x9e', b'\\xddP\\xacMj\\xe0\\xfa\\xb3iz\\x93].\\xe7!s', b'']\n",
      "23 [b'\\xbc\\xe3I\\xba\\xc2g\\xa7\\xbc#~zk\\xffm\\xd6\\xa5', b'<v#\\xb4\\xfa \\xa5#\\x01\\x11\\xcdn2\\\\\\xb7\\xfb', b'\\xd0\\xa5-\\x17]8\\xa7\\x80\\\\L\\xf9\\x12\\xc2\\xba\\xb9\\x1e', b'\\xc7\\xa7\\x04\\xd0\\xd1g=T\\xe0\\xd2\\x85\\x16\\xc5?a\\x9c', b'\\x1f\\xf0\\x89,z\\x87K\\x15l\\x94T8\\xb3|pz', b'\\x17\\xe1\\xc0\\xcb\\xaf+Y\\x9e\\xcd\\x1dz\\xf3\\xe7h\\xfe\\xed', b'\\x0bx\\xc5\\xb5\\xaa$\\xd0]].e\\xec{\\x0e\\x9e\\xff', b'\\t\\x9b\\xab\\x17\\xee[>\\xf7\\xe3\\xde\\xcb:g)\\xfc\\xf3', b\"'\\xf6\\xb5X0\\\\>\\xb2\\xaaa\\x1f/\\xe3\\xf5\\x07.\", b'\\x01<\\xbb\\xb13N\\xc2\\xad\\xa1\\xaa\\xa3\\x05\\xb2\\x8bZ\\xe1', b'\\x8d\\x95\\x85\\x94\\xe4\\xd2\"\\xad\\xe2\\xb8X\\xc3\\x11\\xf5e\\xe0', b'']\n",
      "24 [b'\\xbc\\xe3I\\xba\\xc2g\\xa7\\xbc#~zk\\xffm\\xd6\\xa5', b'u\\x9d\\x92\\xe3\\x19\\xe3MD\\xb3\\xbe\\xc4\\xa2\\x84\\x99yR', b'\\xfe2\\x04c9\\xdb\\xd8\\x9c\\x17\\x86i\\r\\x1e\\xe4P\\x8d', b'i\\x158[S/\\x97\\x95\\xbc\\xb8\\x7f6\\x10\\x84\\xd1\\x90', b'\\x91\\xc4\\xcf=\\xbb\\xb8\\x1a\\x12\\x93^\\x9e\\xd7{\\xd8E*', b'\\xfb\\xe8tI\\xa1\\x0fA\\xa88P\\xf9[\\xf8Y\"e', b'B~\\xf5b\\x80\\x1a\\x18-\\xdc\\xeb3\\xe1\\xb2T\\xea\\x11', b'[B\\xd4p\\x0b\\xcc1h\\xc5\\x1ak=C\\x1b\\xab\\x12', b'*x\\xb6\\xd3\\x19\\xf7\\x10\\xc1\\x80\\x8b\\xdf@\\xfcd\\x17A', b'm\\xe1M\\xd1`\\xc9\\x10\\xac<\\x01\\x1eN8\\x08\\xfe\\x98', b'\\xb8Gd&\\xf77\\x1b\\xe1\\x7f\\x7f\\x03^\\x81S)9', b'']\n",
      "25 [b'\\xbc\\xe3I\\xba\\xc2g\\xa7\\xbc#~zk\\xffm\\xd6\\xa5', b'\\xdfBs\\xf7+ZR\\xca\\xc0\\xd4\\xfa\\xb4\\xf6\\x1eQ)', b'\\xc7B\\xac\\x853e\\xd4\\x07aFc\\xf5\\xf2_-4', b'F\\xa8\\xf4\"/\\xf4\\xa0\\x18\\x82\\x00d\\x85\\x91,\\xee7', b'\\xfd\\x16\\xe9\\xab\\xebT\\xb6{_7\\x945\\xad\\x10xc', b'J\\x07H9\\x1ed\\xf4\\x04p5r{\\xe4\\xe5\\xc5\\x9a', b'+<^JR\\x12\\xcd\\x99C\\x8d\\x1b:\\x0b\\x00}3', b'|\\x95\\x15\\t\\x11I\\x1e\\x1fU\\xd7\\xbf\\x14\\xf2-m\\xb7', b'\\x97O\\xfd\\x98\\xbb\\xd6\"\\x01\\x7f\\x03_\\x94\\xd1\\xebo3', b'^3\\x0b\\xb5Ri?\\xd4\\x00c3\\xd1\\xf1\\x18\\xa4\\xdf', b'J\\xaa\\xd3\\x1e4\\x95\\x03\\xeduju\\x88\\xda\\x1fb\\xe2', b'']\n",
      "26 [b'\\xbc\\xe3I\\xba\\xc2g\\xa7\\xbc#~zk\\xffm\\xd6\\xa5', b'\\xfe\\xfch\\xef:Z\\r\\xd9\\xfa\\x85\\xa91|\\x9f\\xf4\\xc3', b'\\x9b\\xd8\\x12|S[\\x80\\xcf\\x03C\\xb4\\xb0\\x88\\xb9>\\xfe', b'\\x9b\\xe0\\x8e\\x14\\xff\\xba*\\x90\\xce\\xaa\\xedaK9U\\xc5', b'/GZD7\\x93\\xfc\\x96\\x80Z\\x0bLZLXH', b'\\xbd2\\x1d2t\\x19\\xf3\\xc0\\xd1\\xdb\"G\\x00J3F', b'\\xdax\\x99kc\\xe3\\xafM+\\xe3\\x83\\x88\\x16k\\xd5\\xe3', b'\\xd0NbA\\x8a\\r/^`\\xe7\\xd2=\\xe2a\\xe5`', b'\\xe1-\\x17<\\xdco\\xf6[\\xf9$7\\xaec\\x99\\xfa_', b'W\\x89\\xa5\\xb0\\x90g\\x82:\\xcf\\xe2\\xae\\xbc\\xe3\\x1f\\xa4\\xe2', b'\\xf3(\\x1a\\xdak\\x02\\x96;\\xec\\xe8my\\xc9A\\xb9\\x1c', b'']\n",
      "27 [b'\\xbc\\xe3I\\xba\\xc2g\\xa7\\xbc#~zk\\xffm\\xd6\\xa5', b'\\xeedg\\x8b\\xe1t\\x81,\\x86\\x999;s\\xc3x\\x9f', b'\\x8eH@\\xc16\\x18\\xd9\\xec]\\x9c\\xb9\\xe9\\x1f\\x18~\\xc7', b'\\x01G.q\\x15O\\xdb{\\x02x\\xf3j4\\x12rk', b'\\xfb\\x88\\xd1\\xb2c\\xddP=r\\xfb&\\xac,S\\xa5\\x92', b'\\xa4\\xec\\x1f^._w\\xca+v\\xb2r\\xd8r.\\xf9', b'@\\xa6\\xc3\\xe0\\xbc\\xb0\\xf6\\x18\\xdd`\\xb3t\\x93\\t\\x93\\x15', b'\\xf0\\xe3Q\\x04\\xb2`(\\x17\\xbd\\xee\\xa3\\x8cZ\\xd4@L', b'\\xcdm\\xb2P\\xc0\\x84N$`k\\xe0\\xe3\\xf8\\xb4\\x81#', b'uL\\xd0\\xcaK[(@\\xdd4\\xa2\\n\\xed\\xc9\\x92\\xc0', b'\\x05}\\xf7*\\xc2{\\x97.\\xa9b\\x84\\x06\\x84 \\x7fT', b'']\n",
      "28 [b'\\xbc\\xe3I\\xba\\xc2g\\xa7\\xbc#~zk\\xffm\\xd6\\xa5', b'\\xeedg\\x8b\\xe1t\\x81,\\x86\\x999;s\\xc3x\\x9f', b'\\xd3/\\xd8\\x96\"\\xb6\\x1fED\\xb6t\\x95\\xa2\\xeb\\x02-', b'L\\x9c\\xe6\\xaa\\xe9|\\n\\xdc\\xf0\\xac\\x1d\\xd0\\x8b\\x88;\\xfe', b'9,}`\\xe2\\xc8\\xbaPt4\\x8fC\\xed\\xb6\\x818', b'<\\x1b\\xa8\\x9f\\x18\\xa4\\x93\\xec2^sl\\xa3O\\x11\\xb9', b'\\xc8\\x04\\x0ea\\xb2\\x96\\x8eK\\xa6\\x05\\x8ah\\xb5\\x12\\xdb\\x94', b'\\xec5\\xe3\\xb0t^\\xfb\\xc4\\xb6!\\xe9Z\\xa2vX\\xdb', b'\\x08\\x17\\x13%\\xb9\\xe2\\x11\\xc8\\xf0\\xea\\x06\\x85X\\x10\\x850', b'\\xf9\\xc8\\xfa\\xe6\"\\xf7\\xafH\\x85\\x97=p\\xd3\\x8fz\\xec', b'\\xfb\\x91J\\xfb\\xd5\\xe0\\x82G\\x98\\xab\\xac\\xb4\\xb92\\xc1o', b'']\n",
      "29 [b'\\xbc\\xe3I\\xba\\xc2g\\xa7\\xbc#~zk\\xffm\\xd6\\xa5', b'\\xeedg\\x8b\\xe1t\\x81,\\x86\\x999;s\\xc3x\\x9f', b'\\x8bTn\\xb6!\\x02U\\x1f\\xe4\\xac\\x9arC\\x0f\\xcb\\xc4', b')\\xbb\\xfa\\x17 \\xbbv\\xbe\\n\\\\\\xe02\\xb3L\\xaf=', b'\\xc1{\\xce\\xd7\\xb2UC\\xfd$i`c\\xfc@\\x8c\\xe7', b'\\x12\\x04\\xe7\\xe6\\x0f\\xee\\xb1\\x15\\x02\\xceb\\x0cC\\xd4\\x15\\xae', b'\\x0b*5(S\\x15y\\xb0Nc\\xc1H]T\\xdeq', b\"\\xf7c@'\\xed\\xec\\xbf\\xef\\xe1\\xf4;\\xbe\\xe3^K\\x9b\", b'\\xf5!\\xe0\\xbf\\xf8@,\\xb8:\\x0bEEx\\xae\\xf1`', b'\\xc9\\xc2=\\xe5_\\xc9\\xfc\\xbb\\xeb\\xd0\\x86\\x16bj\\xf5\\xad', b'\\x19\\xcc\\xc2\\xc1\\xee\\x08\\x8c\\xa9\\x93;\\x99\\x94\\x98\\x8bv8', b'']\n",
      "30 [b'\\xbc\\xe3I\\xba\\xc2g\\xa7\\xbc#~zk\\xffm\\xd6\\xa5', b'\\xeedg\\x8b\\xe1t\\x81,\\x86\\x999;s\\xc3x\\x9f', b'~\\x14\\xd2#\\xa7\\x14\\x95\\xaf\\xad\\n\\xc8\\x1f\\rq\\xca\\x13', b'\\t<\\xf5\\x89\\xb9\\xe9\\xba\\xba\\xb6b\\x95\\xcfi!N\\x03', b'\\xa2\\x1c\\xebJN\\x81\\x86\\xe2\\xc0n\\x1b\\x8f_G\\xd2\\x1c', b'\\xf0\\xa1\\x88>\\x97P\\xcd\\x15-d\\xa6\\x8c\\xfe\\xd4o\\x84', b'\\xdb\\x14+t!,9\\xb9G\\xb9\\xd9\\x11\\xc0\\xa6\\x99+', b'\\xc8+\\x9d\\x07\\xf7\\xc6\\xb8\\x94\\x04p\\x98#\\x0b\"\\xca\\x8b', b'\\x86\\x9b\\x13\\xec`?\\xa8\\x1b\\xd2\\xc9\\x11\\xd7\\t\\xda#\\x08', b'\\xf0\\xb9\\xacF\\x93\\x92\\xe2\\x01v!\\xc8\\x0b\\x02\\x9d\\xf0\\xff', b'\\xfaa\\xb0;i\\x08\\x80x\\xa8\\xb7\\xb5\\xee\\x1fZ*\\x8f', b'']\n",
      "31 [b'\\xbc\\xe3I\\xba\\xc2g\\xa7\\xbc#~zk\\xffm\\xd6\\xa5', b'\\xeedg\\x8b\\xe1t\\x81,\\x86\\x999;s\\xc3x\\x9f', b'\\x1a#\\xc5\\\\\\xc5\\xa9*\\xf5\\xa34\\x83\\xfa$mD\\xd8', b'\\x8e\\xb9\\xf0!\\xbc\\tx\\x86\\xb0?\\xec\\x1d\\x8d\\xc4\\x9b_', b'\\x82\\xeb\\xb25\\x87{\\x19s3\\x9b\\xb2wq\\xc9m\\x06', b'\\xfew,\\xa7\\xf7\\xed\\xc3\\xfd\\x8a\\x83\\x98\\xe1d\\xc7NV', b'L\\xda\\x94s\\x8a\\xa6kY\\xa2e\\xab^\\xf24\\xd3\\x84', b\"\\x08\\xaf&\\x12\\xd6\\x80'\\xcb{=\\x98\\x199\\x12\\xf5&\", b'\\x97K\\x90\\x9am\\xc0h\\x117\\xdd\\x90\\x9a\\x10\\xf11&', b'\\xb0Ky\\x13\\xfd\\xae%\\xbf\\xed\\x0f\\x8c\\xd4\\xe7o\\xe0\\xc6', b'\\xc5Ob\\xd5\\xcfV\\xcbJi\\x8a:\\xa9\\xc2\\x98\\xfaX', b'']\n",
      "1 11\n"
     ]
    },
    {
     "data": {
      "text/plain": [
       "b\"Rollin' in my 5.0\\nWith my rag-top down so my hair can blow\\nThe girlies on standby waving just to say hi\\nDid you stop? No, I just drove by\\n\\x01\""
      ]
     },
     "metadata": {},
     "output_type": "display_data"
    }
   ],
   "source": [
    "c14.match_output()"
   ]
  },
  {
   "cell_type": "markdown",
   "metadata": {},
   "source": [
    "Challenge 15"
   ]
  },
  {
   "cell_type": "code",
   "execution_count": null,
   "metadata": {},
   "outputs": [
    {
     "name": "stdout",
     "output_type": "stream",
     "text": [
      "b'ICE ICE BABY'\n"
     ]
    }
   ],
   "source": [
    "import challenge15 as c15\n",
    "\n",
    "plain_bytes = b\"ICE ICE BABY\\x04\\x04\\x04\\x04\"\n",
    "print(c15.check_and_strip_PKCS7(plain_bytes, block_size))\n",
    "plain_bytes = b\"ICE ICE BABY\\x05\\x05\\x05\\x05\"\n",
    "# check_and_strip_PKCS7(plain_bytes, block_size)"
   ]
  },
  {
   "cell_type": "markdown",
   "metadata": {},
   "source": [
    "Challenge 16"
   ]
  },
  {
   "cell_type": "code",
   "execution_count": null,
   "metadata": {},
   "outputs": [
    {
     "name": "stdout",
     "output_type": "stream",
     "text": [
      "[b'\\x08Z0?\\xbfb\\xa5\\x8eYe\\xabo\\xa1\\x11w\\x0b', b'Ly\\x95\\x1f\\xb3\\x10\\xd4P\\xe7\\xb5y\\xfb\\x89{\\xe4\\x80', b'\\xdd\\xb6\\x86\\xf7c\\x89\\xdd\\x1d0\\xe7\\xd6a9L\\xe3\\xa3', b'\\x0cm?\\xf6\\xd0\\xf6\\x1d\\xf670J\\xa0{\\x8bS\\x04', b'\\xe1\\xf5\\xd8Ki\\xd1\\xc9\\xb6\\x84&+\\x86\\x01=\\xe1\\x9f', b\"j\\xde\\xdeo'\\xf5\\x1e*/\\x1ccem\\xee\\x92\\x8b\", b'\\xc4\\xe7\\x02\\x8a\\r|\\x94G\\x19O\\xca\\xb3V\\x05\\x0ex']\n",
      "[b'comment1=cooking', b'%20MCs;userdata=', b'ABCDEFGHIJKLMNOP', b'ABCDEFGHIJKLMNOP', b';comment2=%20lik', b'e%20a%20pound%20', b'of%20bacon\\x06\\x06\\x06\\x06\\x06\\x06']\n",
      "comment1=cooking%20MCs;userdata=ABCDEFGHIJKLMNOPABCDEFGHIJKLMNOP;comment2=%20like%20a%20pound%20of%20bacon\n",
      "False\n",
      "[b'comment1=cooking', b'%20MCs;userdata=', b'\\x88lQZ>\\xe6\\xde\\xfd3\\xd0\\xa6\\x19H\\xf9\\x01\\x94', b';admin=true;AAAA', b';comment2=%20lik', b'e%20a%20pound%20', b'of%20bacon\\x06\\x06\\x06\\x06\\x06\\x06']\n",
      "comment1=cooking%20MCs;userdata=lQZ>æÞý3Ð¦\u0019Hù\u0001;admin=true;AAAA;comment2=%20like%20a%20pound%20of%20bacon\n",
      "True\n"
     ]
    }
   ],
   "source": [
    "import challenge16 as c16\n",
    "\n",
    "block_size = 16\n",
    "random_key = generate_random_aes_key()\n",
    "initialization_vector = generate_random_aes_key()\n",
    "plain_text = \"ABCDEFGHIJKLMNOP\" * 2\n",
    "\n",
    "encrypt_bytes = c16.encrypt_CBC_16(plain_text, random_key, block_size, initialization_vector)\n",
    "print_bytes(encrypt_bytes)\n",
    "print(c16.check_admin_16(encrypt_bytes, random_key, block_size, initialization_vector))\n",
    "\n",
    "target_chunk = encrypt_bytes[2*block_size:3*block_size]\n",
    "target_chunk = [b1 ^ b2 for b1, b2 in zip(target_chunk, b';admin=true;AAAA')]\n",
    "target_chunk = bytes([b1 ^ b2 for b1, b2 in zip(target_chunk, b\"ABCDEFGHIJKLMNOP\")])\n",
    "\n",
    "print(c16.check_admin_16(encrypt_bytes[:2*block_size] + target_chunk + encrypt_bytes[3*block_size:], random_key, block_size, initialization_vector))"
   ]
  }
 ],
 "metadata": {
  "language_info": {
   "name": "python"
  }
 },
 "nbformat": 4,
 "nbformat_minor": 2
}
