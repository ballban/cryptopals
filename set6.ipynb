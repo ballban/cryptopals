{
  "cells": [
    {
      "attachments": {},
      "cell_type": "markdown",
      "metadata": {
        "id": "QDzvInZ18CAv"
      },
      "source": [
        "# Initialize"
      ]
    },
    {
      "cell_type": "code",
      "execution_count": 2,
      "metadata": {},
      "outputs": [],
      "source": [
        "%load_ext autoreload\n",
        "%autoreload 2"
      ]
    },
    {
      "cell_type": "code",
      "execution_count": 3,
      "metadata": {},
      "outputs": [],
      "source": [
        "from utility import *"
      ]
    },
    {
      "cell_type": "markdown",
      "metadata": {},
      "source": [
        "# set_6"
      ]
    },
    {
      "cell_type": "markdown",
      "metadata": {},
      "source": [
        "### Challenge 41<br/>\n",
        "Implement unpadded message recovery oracle"
      ]
    },
    {
      "cell_type": "code",
      "execution_count": 3,
      "metadata": {},
      "outputs": [
        {
          "name": "stdout",
          "output_type": "stream",
          "text": [
            "d: 27\n",
            "m: 4\n",
            "c: 9\n",
            "c_p: 7\n",
            "invmod_S: 8\n",
            "p_p: 28\n",
            "p: 4\n"
          ]
        }
      ],
      "source": [
        "p = 5\n",
        "q = 11\n",
        "N = p * q\n",
        "e = 3\n",
        "et = (p - 1) * (q - 1)\n",
        "d = pow(e, -1, et)\n",
        "print(f'd: {d}')\n",
        "\n",
        "m = 4\n",
        "print(f'm: {m}')\n",
        "\n",
        "c = pow(m, e, N)\n",
        "print(f'c: {c}')\n",
        "\n",
        "S = 7\n",
        "c_p = (pow(S, e, N) * c) % N\n",
        "print(f'c_p: {c_p}')\n",
        "\n",
        "modinv_S = pow(S, -1, N)\n",
        "print(f'invmod_S: {modinv_S}')\n",
        "\n",
        "p_p = pow(c_p, d, N)\n",
        "print(f'p_p: {p_p}')\n",
        "\n",
        "p = (p_p * modinv_S) % N\n",
        "print(f'p: {p}')"
      ]
    },
    {
      "cell_type": "markdown",
      "metadata": {},
      "source": [
        "<br/>c = m ** e mod N\n",
        "<br/>c' = ((S**e mod N) c) mod N\n",
        "<br/>S * modinv(S) = 1\n",
        "<br/>P' = c' ** d mod N\n",
        "<br/>p = p' * modinv(S) mod N\n",
        "\n",
        "<br/>p = ((((S**e mod N) c) mod N) ** d mod N) * modinv(S) mod N\n",
        "<br/>p = ((S**e * c) ** d) * modinv(S) mod N\n",
        "<br/>p = c**d * S**(ed) * modinv(S) mod N\n",
        "<br/>p = c**d * S * modinv(S) mod N\n",
        "<br/>p = c**d mod N\n",
        "<br/>p = m"
      ]
    },
    {
      "cell_type": "markdown",
      "metadata": {},
      "source": [
        "### Challenge 42<br/>\n",
        "Bleichenbacher's e=3 RSA Attack"
      ]
    },
    {
      "cell_type": "code",
      "execution_count": 4,
      "metadata": {},
      "outputs": [
        {
          "name": "stdout",
          "output_type": "stream",
          "text": [
            "mHash: b\"\\x9ft\\x80\\x9a.\\xe7`{\\x16\\xfc\\xc7\\r\\x93\\x99\\xa4\\xde\\x97%\\xa7'\"\n",
            "sig before decrypt: b\"\\x00\\x01\\xff\\xff\\xff\\xff\\xff\\xff\\xff\\xff\\xff\\xff\\xff\\xff\\xff\\xff\\xff\\xff\\xff\\xff\\xff\\xff\\xff\\xff\\xff\\xff\\xff\\xff\\xff\\xff\\xff\\xff\\xff\\xff\\xff\\xff\\xff\\xff\\xff\\xff\\xff\\xff\\xff\\xff\\xff\\xff\\xff\\xff\\xff\\xff\\xff\\xff\\xff\\xff\\xff\\xff\\xff\\xff\\xff\\xff\\xff\\xff\\xff\\xff\\xff\\xff\\xff\\xff\\xff\\xff\\xff\\xff\\xff\\xff\\xff\\xff\\xff\\xff\\xff\\xff\\xff\\xff\\xff\\xff\\xff\\xff\\xff\\xff\\xff\\xff\\xff\\xff\\xff\\xff\\xff\\xff\\xff\\xff\\xff\\xff\\xff\\xff\\xff\\xff\\xff\\xff\\xff\\x00\\x9ft\\x80\\x9a.\\xe7`{\\x16\\xfc\\xc7\\r\\x93\\x99\\xa4\\xde\\x97%\\xa7'\"\n",
            "sig: 2474094835670529816849083229374260725342652507781509235665267166125818314137896055626375291034212583964144886800187988811637217069122928760823718486674809945148100507805131647007577458454784255974374440640916278730237604490836438671640857035684900080541078620039201549116093414058956421643284581565332532019339010311273344248057052633733557722657451643888489226127593010556703617854524288732666014019236752179021506711224679690565690000772503938638757297733900513268262866134989614732461173045684677773817570885367906291311922584485905185856008143055148924158248642976900964972465454832325940244869295889817429430823\n",
            "signature b\"\\x00\\x01\\xff\\xff\\xff\\xff\\xff\\xff\\xff\\xff\\xff\\xff\\xff\\xff\\xff\\xff\\xff\\xff\\xff\\xff\\xff\\xff\\xff\\xff\\xff\\xff\\xff\\xff\\xff\\xff\\xff\\xff\\xff\\xff\\xff\\xff\\xff\\xff\\xff\\xff\\xff\\xff\\xff\\xff\\xff\\xff\\xff\\xff\\xff\\xff\\xff\\xff\\xff\\xff\\xff\\xff\\xff\\xff\\xff\\xff\\xff\\xff\\xff\\xff\\xff\\xff\\xff\\xff\\xff\\xff\\xff\\xff\\xff\\xff\\xff\\xff\\xff\\xff\\xff\\xff\\xff\\xff\\xff\\xff\\xff\\xff\\xff\\xff\\xff\\xff\\xff\\xff\\xff\\xff\\xff\\xff\\xff\\xff\\xff\\xff\\xff\\xff\\xff\\xff\\xff\\xff\\xff\\x00\\x9ft\\x80\\x9a.\\xe7`{\\x16\\xfc\\xc7\\r\\x93\\x99\\xa4\\xde\\x97%\\xa7'\"\n",
            "ASN1 b\"\\x9ft\\x80\\x9a.\\xe7`{\\x16\\xfc\\xc7\\r\\x93\\x99\\xa4\\xde\\x97%\\xa7'\"\n",
            "mHash b\"\\x9ft\\x80\\x9a.\\xe7`{\\x16\\xfc\\xc7\\r\\x93\\x99\\xa4\\xde\\x97%\\xa7'\"\n",
            "test: True\n"
          ]
        }
      ],
      "source": [
        "import PKCS1_1_5\n",
        "from hashlib import sha1\n",
        "\n",
        "message = b'hi mom\\n'\n",
        "\n",
        "pkcs = PKCS1_1_5.PKCS1_1_5()\n",
        "\n",
        "# normal test\n",
        "# it should works with no problem\n",
        "mHash = sha1(message).digest()\n",
        "print(f'mHash: {mHash}')\n",
        "\n",
        "sig = pkcs.sign(message)\n",
        "print(f'sig: {(sig)}')\n",
        "print(f'test: {pkcs.verify(sig, mHash)}')\n"
      ]
    },
    {
      "cell_type": "code",
      "execution_count": 5,
      "metadata": {},
      "outputs": [
        {
          "name": "stdout",
          "output_type": "stream",
          "text": [
            "a 139984046386112763159840142535527767382602843577165595931249318810236991948760059086304843329475444736\n",
            "b 26168034456885821486396859210894533367051961088749047\n",
            "a+b 139984046386112763159840142535527767382602843577191763965706204631723388807970953619671895290564193783\n",
            "b\"\\x00\\x01\\x00\\x00\\x00\\x00\\x00\\x00\\x00\\x00\\x00\\x00\\x00\\x00\\x00\\x00\\x00\\x00\\x00\\x00\\x00\\x00\\xd1\\xd2\\xaf\\xef\\xe3Q\\xdf8\\x9e\\xc60\\x1b\\xcaT>\\xbd*\\xec\\x90F\\xc38:\\xe3\\x9a\\x8c\\xd3u\\x9dY\\x88/\\rF\\xfd\\x035\\xa3\\x88\\x8a\\xe9\\xc2'P\\xbe\\xab\\xf2\\xae\\xc3a\\x077g!\\xd7\\xef\\xd8A\\x84\\x87\\x08\\x00\\x17\\x17:\\xcc(q.\\xce*B7\\x01\\x1eDB\\x8f\\x8a\\x84S\\xc9\\xa6T\\xff\\x00\\x9ft\\x80\\x9a.\\xe7`{\\x16\\xfc\\xc7\\r\\x93\\x99\\xa4\\xde\\x97%\\xa7'\"\n",
            "b\"\\x9ft\\x80\\x9a.\\xe7`{\\x16\\xfc\\xc7\\r\\x93\\x99\\xa4\\xde\\x97%\\xa7'\"\n",
            "signature b\"\\x00\\x01\\x00\\x00\\x00\\x00\\x00\\x00\\x00\\x00\\x00\\x00\\x00\\x00\\x00\\x00\\x00\\x00\\x00\\x00\\x00\\x00\\xd1\\xd2\\xaf\\xef\\xe3Q\\xdf8\\x9e\\xc60\\x1b\\xcaT>\\xbd*\\xec\\x90F\\xc38:\\xe3\\x9a\\x8c\\xd3u\\x9dY\\x88/\\rF\\xfd\\x035\\xa3\\x88\\x8a\\xe9\\xc2'P\\xbe\\xab\\xf2\\xae\\xc3a\\x077g!\\xd7\\xef\\xd8A\\x84\\x87\\x08\\x00\\x17\\x17:\\xcc(q.\\xce*B7\\x01\\x1eDB\\x8f\\x8a\\x84S\\xc9\\xa6T\\xff\\x00\\x9ft\\x80\\x9a.\\xe7`{\\x16\\xfc\\xc7\\r\\x93\\x99\\xa4\\xde\\x97%\\xa7'\"\n",
            "ASN1 b\"\\x9ft\\x80\\x9a.\\xe7`{\\x16\\xfc\\xc7\\r\\x93\\x99\\xa4\\xde\\x97%\\xa7'\"\n",
            "mHash b\"\\x9ft\\x80\\x9a.\\xe7`{\\x16\\xfc\\xc7\\r\\x93\\x99\\xa4\\xde\\x97%\\xa7'\"\n"
          ]
        },
        {
          "data": {
            "text/plain": [
              "True"
            ]
          },
          "execution_count": 5,
          "metadata": {},
          "output_type": "execute_result"
        }
      ],
      "source": [
        "# (a + b) ^ 3\n",
        "# a ^ 3 + 2a^2b + 2ab^2 + b ^ 3\n",
        "a = 2 ** 336\n",
        "sig_len = 128\n",
        "\n",
        "sig_bytes = int_to_bytes(pow(sig, 3, pkcs.N), sig_len)\n",
        "s_double_prime = b'\\xFF\\x00' + mHash\n",
        "#print('s_double_prime', s_double_prime)\n",
        "s_double_prime_int = bytes_to_int(s_double_prime)\n",
        "#print('s_double_prime_int', s_double_prime_int)\n",
        "n_double_prime = 2 ** (len(s_double_prime) * 8)\n",
        "\n",
        "temp = 2 ** (len(s_double_prime) * 8 - 1)\n",
        "f = pow(3, -1, temp)\n",
        "#print('f', f)\n",
        "\n",
        "b = pow(s_double_prime_int, f, n_double_prime)\n",
        "#print('b', b)\n",
        "\n",
        "b3 = b ** 3\n",
        "b3_bytes = int_to_bytes(b3, sig_len)\n",
        "#print(b3_bytes)\n",
        "\n",
        "a3 = a ** 3\n",
        "a3_bytes = int_to_bytes(a3, sig_len)\n",
        "#print(a3_bytes)\n",
        "\n",
        "print('a', a)\n",
        "print('b', b)\n",
        "print('a+b', a+b)\n",
        "\n",
        "print(int_to_bytes(pow(a + b, 3, pkcs.N), sig_len))\n",
        "print(mHash)\n",
        "pkcs.verify(a+b, mHash)"
      ]
    },
    {
      "cell_type": "code",
      "execution_count": 6,
      "metadata": {},
      "outputs": [
        {
          "data": {
            "text/plain": [
              "b\"\\x058uj\\xa31\\x9b\\x17\\xbd\\xc9\\x84p\\xc0D\\xa86\\x82\\xac\\x94C\\xec)\\xca$:\\xcc(q.\\xce*B7\\x01\\x1eDB\\x8f\\x8a\\x84S\\xc9\\xa6T\\xff\\x00\\x9ft\\x80\\x9a.\\xe7`{\\x16\\xfc\\xc7\\r\\x93\\x99\\xa4\\xde\\x97%\\xa7'\""
            ]
          },
          "execution_count": 6,
          "metadata": {},
          "output_type": "execute_result"
        }
      ],
      "source": [
        "bytes.fromhex('0'+hex(b3)[2:])"
      ]
    },
    {
      "cell_type": "markdown",
      "metadata": {},
      "source": [
        "### Challenge 43<br/>\n",
        "DSA key recovery from nonce"
      ]
    },
    {
      "cell_type": "code",
      "execution_count": 7,
      "metadata": {},
      "outputs": [
        {
          "name": "stdout",
          "output_type": "stream",
          "text": [
            "62741477437088172631393589185350035491867729832629398027831312004924312513744633269784278916027520183601208756530710011458232054971579879048852582591127008356159595963890332524237209902067360056459538632225446131921069339325466545201845714001580950381286256953162223728420823439838953735559776779136624763537\n",
            "True\n"
          ]
        }
      ],
      "source": [
        "p = 0x800000000000000089e1855218a0e7dac38136ffafa72eda7859f2171e25e65eac698c1702578b07dc2a1076da241c76c62d374d8389ea5aeffd3226a0530cc565f3bf6b50929139ebeac04f48c3c84afb796d61e5a4f9a8fda812ab59494232c7d2b4deb50aa18ee9e132bfa85ac4374d7f9091abc3d015efc871a584471bb1\n",
        "\n",
        "q = 0xf4f47f05794b256174bba6e9b396a7707e563c5b\n",
        "\n",
        "g = 0x5958c9d3898b224b12672c0b98e06c60df923cb8bc999d119458fef538b8fa4046c8db53039db620c094c9fa077ef389b5322a559946a71903f990f1f7e0e025e2d7f7cf494aff1a0470f5b64c36b625a097f1651fe775323556fe00b3608c887892878480e99041be601a62166ca6894bdd41a7054ec89f756ba9fc95302291\n",
        "\n",
        "# h = random.randint(2, p - 2)\n",
        "h = 2\n",
        "g2 = pow(h, ((p-1)//q), p)\n",
        "\n",
        "print(g2)\n",
        "print(g==g2)"
      ]
    },
    {
      "cell_type": "code",
      "execution_count": 8,
      "metadata": {},
      "outputs": [
        {
          "name": "stdout",
          "output_type": "stream",
          "text": [
            "52937536032861860477650958010839608247641256732\n"
          ]
        }
      ],
      "source": [
        "import DSA\n",
        "import hashlib\n",
        "\n",
        "message = b'hi mom'\n",
        "\n",
        "mHash = hashlib.sha1(message).hexdigest()\n",
        "H = int(mHash, 16)\n",
        "\n",
        "dsa = DSA.DSA(p, q, g)\n",
        "r, s = dsa.sign(message)\n",
        "assert dsa.verify(message, r, s) == True\n",
        "\n",
        "y = dsa.y\n",
        "for k in range(1, 2**16):\n",
        "    x = ((s * k - H) * pow(r,-1,q)) % q\n",
        "    if pow(g, x, p) == y:\n",
        "        print(x)\n",
        "        break"
      ]
    },
    {
      "cell_type": "markdown",
      "metadata": {},
      "source": [
        "### Challenge 44<br/>\n",
        "DSA nonce recovery from repeated nonce"
      ]
    },
    {
      "cell_type": "code",
      "execution_count": 9,
      "metadata": {},
      "outputs": [],
      "source": [
        "import requests\n",
        "data_list = requests.get('https://cryptopals.com/static/challenge-data/44.txt').content.split(b'\\n')\n",
        "msg_list = []\n",
        "m_list = []\n",
        "s_list = []\n",
        "r_list = []\n",
        "while len(data_list) > 0:\n",
        "    msg_list.append(data_list.pop(0)[5:])\n",
        "    s_list.append(int(data_list.pop(0)[3:]))\n",
        "    r_list.append(int(data_list.pop(0)[3:]))\n",
        "    m_list.append(int(data_list.pop(0)[3:], 16))\n",
        "\n",
        "y = 0x2d026f4bf30195ede3a088da85e398ef869611d0f68f0713d51c9c1a3a26c95105d915e2d8cdf26d056b86b8a7b85519b1c23cc3ecdc6062650462e3063bd179c2a6581519f674a61f1d89a1fff27171ebc1b93d4dc57bceb7ae2430f98a6a4d83d8279ee65d71c1203d2c96d65ebbf7cce9d32971c3de5084cce04a2e147821"
      ]
    },
    {
      "cell_type": "code",
      "execution_count": 10,
      "metadata": {},
      "outputs": [
        {
          "data": {
            "text/plain": [
              "'\\ns1 = k ^ -1 * (m1 + x * r) % q\\ns2 = k ^ -1 * (m2 + x * r) % q\\n\\ns1 - s2 = k ^ -1 * (m1 - m2) % q\\n(m1 - m2) / (s1 - s2) % q = k % q\\n'"
            ]
          },
          "execution_count": 10,
          "metadata": {},
          "output_type": "execute_result"
        }
      ],
      "source": [
        "# k = (m1 - m2) / (s1 - s2) % q\n",
        "# x = (s * k - H) * pow(r, -1, q) % q\n",
        "\n",
        "\"\"\"\n",
        "s1 = k ^ -1 * (m1 + x * r) % q\n",
        "s2 = k ^ -1 * (m2 + x * r) % q\n",
        "\n",
        "s1 - s2 = k ^ -1 * (m1 - m2) % q\n",
        "(m1 - m2) / (s1 - s2) % q = k % q\n",
        "\"\"\""
      ]
    },
    {
      "cell_type": "code",
      "execution_count": 11,
      "metadata": {},
      "outputs": [
        {
          "name": "stdout",
          "output_type": "stream",
          "text": [
            "108994997653034620063305500641348549625\n",
            "x: 1379952329417023174824742221952501647027600451162\n",
            "i: 0, j: 8\n",
            "msg1: b'Listen for me, you better listen for me now. '\n",
            "msg2: b'Pure black people mon is all I mon know. '\n",
            "331603653772689503403939081004362053462\n",
            "x: 1379952329417023174824742221952501647027600451162\n",
            "i: 1, j: 9\n",
            "msg1: b'Listen for me, you better listen for me now. '\n",
            "msg2: b\"Yeah me shoes a an tear up an' now me toes is a show a \"\n",
            "24198682723248112355954353902117453120\n",
            "x: 1379952329417023174824742221952501647027600451162\n",
            "i: 2, j: 10\n",
            "msg1: b\"When me rockin' the microphone me rock on steady, \"\n",
            "msg2: b'Where me a born in are de one Toronto, so '\n"
          ]
        }
      ],
      "source": [
        "x_result = 'ca8f6f7c66fa362d40760d135b763eb8527d3d52'\n",
        "\n",
        "for i in range(len(m_list)):\n",
        "    for j in range(i+1, len(m_list)):\n",
        "        if r_list[i] != r_list[j]:\n",
        "            continue\n",
        "        k = (m_list[i] - m_list[j]) * pow(s_list[i] - s_list[j], -1, q) % q\n",
        "        x = (s_list[i] * k - m_list[i]) * pow(r_list[i], -1, q) % q\n",
        "        x_hash = hashlib.sha1(hex(x)[2:].encode()).hexdigest()\n",
        "        if x_hash == x_result:\n",
        "            print(k)\n",
        "        y_temp = pow(g, x, p)\n",
        "        if y == y_temp:\n",
        "            print(f'x: {x}')\n",
        "            print(f'i: {i}, j: {j}')\n",
        "            # print(f'r: {r_list[i]}')\n",
        "            # print(f's1: {s_list[i]}, s2: {s_list[j]}')\n",
        "            # print(f'm1: {m_list[i]}, m2: {m_list[j]}')\n",
        "            print(f'msg1: {msg_list[i]}')\n",
        "            print(f'msg2: {msg_list[j]}')"
      ]
    },
    {
      "cell_type": "markdown",
      "metadata": {},
      "source": [
        "### Challenge 45<br/>\n",
        "DSA parameter tampering"
      ]
    },
    {
      "cell_type": "code",
      "execution_count": 12,
      "metadata": {},
      "outputs": [
        {
          "name": "stdout",
          "output_type": "stream",
          "text": [
            "True\n",
            "True\n",
            "True\n"
          ]
        }
      ],
      "source": [
        "import DSA\n",
        "\n",
        "message1 = b'Hellow, world'\n",
        "message2 = b'Goodbye, world'\n",
        "\n",
        "g = 0 % p\n",
        "dsa = DSA.DSA(p, q, g)\n",
        "r, s = dsa.sign(message1)\n",
        "print(dsa.verify(message2, r, s))\n",
        "\n",
        "g = 1 % p\n",
        "dsa = DSA.DSA(p, q, g)\n",
        "r, s = dsa.sign(message1)\n",
        "print(dsa.verify(message2, r, s))\n",
        "\n",
        "g = p + 1\n",
        "dsa = DSA.DSA(p, q, g)\n",
        "r, s = dsa.sign(message1)\n",
        "print(dsa.verify(message2, r, s))"
      ]
    },
    {
      "cell_type": "markdown",
      "metadata": {},
      "source": [
        "### Challenge 46<br/>\n",
        "RSA parity oracle"
      ]
    },
    {
      "cell_type": "code",
      "execution_count": 13,
      "metadata": {},
      "outputs": [
        {
          "name": "stdout",
          "output_type": "stream",
          "text": [
            "b\"That's why I found you don't play around with the Funky Cold Medin\\x1a\"\n",
            "b\"That's why I found you don't play around with the Funky Cold Medin\\x1b\"\n"
          ]
        }
      ],
      "source": [
        "import RSA\n",
        "import binascii\n",
        "\n",
        "rsa = RSA.RSA(512)\n",
        "\n",
        "def oracle_is_even(ciphertext):\n",
        "    \"\"\"\n",
        "    Checks if the decrypted plaintext of the given ciphertext is even.\n",
        "\n",
        "    Parameters:\n",
        "    ciphertext (int): The ciphertext to be decrypted.\n",
        "\n",
        "    Returns:\n",
        "    bool: True if the decrypted plaintext is even, False otherwise.\n",
        "    \"\"\"\n",
        "    plaintext = rsa.decrypt_to_int(ciphertext)\n",
        "    return plaintext % 2 == 0\n",
        "\n",
        "plaintext = base64.b64decode('VGhhdCdzIHdoeSBJIGZvdW5kIHlvdSBkb24ndCBwbGF5IGFyb3VuZCB3aXRoIHRoZSBGdW5reSBDb2xkIE1lZGluYQ==')\n",
        "ciphertext = rsa.encrypt(plaintext.decode())\n",
        "\n",
        "bit_length = rsa.N.bit_length()\n",
        "plain_text_bound = [0, rsa.N]\n",
        "result = ''\n",
        "for i in range(bit_length):\n",
        "    # bit shift to plain text\n",
        "    ciphertext *= pow(2, rsa.e, rsa.N)\n",
        "    # why??????\n",
        "    if oracle_is_even(ciphertext):\n",
        "        plain_text_bound[1] = (plain_text_bound[0] + plain_text_bound[1]) // 2\n",
        "        result += '0'\n",
        "    else:\n",
        "        plain_text_bound[0] = (plain_text_bound[0] + plain_text_bound[1]) // 2\n",
        "        result += '1'\n",
        "\n",
        "print(binascii.unhexlify(hex(plain_text_bound[0])[2:]))\n",
        "print(binascii.unhexlify(hex(plain_text_bound[1])[2:]))"
      ]
    },
    {
      "cell_type": "code",
      "execution_count": 14,
      "metadata": {},
      "outputs": [
        {
          "data": {
            "text/plain": [
              "[74168580560904175283945971772200557293709445976763937775632811549606876554509225330508352887047555484572655858872110672395438045215892732568821192906193217613338,\n",
              " 74168580560904175283945971772200557293709445976763937775632811549606876554509225330508352887047555484572655858872110672395438045215892732568821192906193217613339]"
            ]
          },
          "execution_count": 14,
          "metadata": {},
          "output_type": "execute_result"
        }
      ],
      "source": [
        "plain_text_bound"
      ]
    },
    {
      "cell_type": "code",
      "execution_count": 15,
      "metadata": {},
      "outputs": [
        {
          "data": {
            "text/plain": [
              "122662140459932308852476859061227281728193379018201012501989323786346449807947207417886896929734627836536077317021409712170214200070120092000848823012008090934281"
            ]
          },
          "execution_count": 15,
          "metadata": {},
          "output_type": "execute_result"
        }
      ],
      "source": [
        "int(result, 2)"
      ]
    },
    {
      "cell_type": "markdown",
      "metadata": {},
      "source": [
        "### Challenge 47<br/>\n",
        "Bleichenbacher's PKCS 1.5 Padding Oracle (Simple Case)"
      ]
    },
    {
      "cell_type": "code",
      "execution_count": 51,
      "metadata": {},
      "outputs": [
        {
          "name": "stdout",
          "output_type": "stream",
          "text": [
            "16 b'\\x00\\x02\\xff\\xff\\xff\\xff\\xff\\xff\\xff\\xff\\xff\\x00test'\n",
            "16 b'\\x00\\x01\\x00\\x00\\x00\\x00\\x00\\x00\\x00\\x00\\x00\\x00\\x00\\x00\\x00\\x00'\n"
          ]
        }
      ],
      "source": [
        "import RSA\n",
        "\n",
        "def ceil(x, y):\n",
        "    return x // y + (x % y != 0)\n",
        "\n",
        "def floor(x, y):\n",
        "    return x // y\n",
        "\n",
        "def oracle(c):\n",
        "    global d, N, KEY_BTYE_LEN\n",
        "    decrypted = pow(c, d, N)\n",
        "    d_bytes = int_to_bytes(decrypted, KEY_BTYE_LEN)\n",
        "    return d_bytes[:2] == b'\\x00\\x02'\n",
        "\n",
        "key_bit_len = 128\n",
        "KEY_BTYE_LEN = key_bit_len // 8\n",
        "msg = b'test'\n",
        "\n",
        "plaintext = b'\\x00\\x02' + b'\\xFF' * (KEY_BTYE_LEN - len(msg) - 3) + b'\\x00' + msg\n",
        "print(len(plaintext), plaintext)\n",
        "rsa = RSA.RSA(key_bit_len)\n",
        "c = rsa.encrypt(plaintext)\n",
        "e, d, N = rsa.e, rsa.d, rsa.N\n",
        "B = 2 ** (8 * (KEY_BTYE_LEN - 2))\n",
        "B2 = 2 * B\n",
        "B3 = 3 * B\n",
        "\n",
        "B_byte = int_to_bytes(B, KEY_BTYE_LEN)\n",
        "print(len(B_byte), B_byte)"
      ]
    },
    {
      "cell_type": "code",
      "execution_count": 53,
      "metadata": {},
      "outputs": [
        {
          "name": "stdout",
          "output_type": "stream",
          "text": [
            "start\n",
            "s: 15104\n",
            "M: {(10384593717069655257060992658440192, 15576890575604482885591488987660287)}\n",
            "oracle true -- s: 45311\n"
          ]
        },
        {
          "ename": "NameError",
          "evalue": "name 'clear_output' is not defined",
          "output_type": "error",
          "traceback": [
            "\u001b[1;31m---------------------------------------------------------------------------\u001b[0m",
            "\u001b[1;31mNameError\u001b[0m                                 Traceback (most recent call last)",
            "Cell \u001b[1;32mIn[53], line 33\u001b[0m\n\u001b[0;32m     31\u001b[0m s \u001b[38;5;241m=\u001b[39m bleichenbacher_step_1(s)\n\u001b[0;32m     32\u001b[0m \u001b[38;5;28;01mwhile\u001b[39;00m \u001b[38;5;28;01mTrue\u001b[39;00m:\n\u001b[1;32m---> 33\u001b[0m     \u001b[43mclear_output\u001b[49m(wait\u001b[38;5;241m=\u001b[39m\u001b[38;5;28;01mTrue\u001b[39;00m)\n\u001b[0;32m     34\u001b[0m     \u001b[38;5;28mprint\u001b[39m(\u001b[38;5;124mf\u001b[39m\u001b[38;5;124m'\u001b[39m\u001b[38;5;124mloop -- s: \u001b[39m\u001b[38;5;132;01m{\u001b[39;00ms\u001b[38;5;132;01m}\u001b[39;00m\u001b[38;5;124m'\u001b[39m)\n\u001b[0;32m     35\u001b[0m     \u001b[38;5;28;01mif\u001b[39;00m s \u001b[38;5;241m%\u001b[39m \u001b[38;5;241m65536\u001b[39m \u001b[38;5;241m==\u001b[39m \u001b[38;5;241m0\u001b[39m:\n",
            "\u001b[1;31mNameError\u001b[0m: name 'clear_output' is not defined"
          ]
        }
      ],
      "source": [
        "def bleichenbacher_step_1(s):\n",
        "    global e, N, c\n",
        "    while True:\n",
        "        s += 1\n",
        "        new_ciphertest = pow(s, e, N) * c % N\n",
        "        if oracle(new_ciphertest):\n",
        "            return s\n",
        "\n",
        "def bleichenbacher_step_2(s, old_M):\n",
        "    global e, N, B, B2, B3\n",
        "    new_M = set([])\n",
        "    for (a, b) in old_M:\n",
        "        r1 = ceil((a * s - B3 + 1), N)\n",
        "        r2 = floor((b * s - B2), N) + 1\n",
        "        for r in range(r1, r2):\n",
        "            aa = ceil(B2 + r * N, s)\n",
        "            bb = floor(B3 - 1 + r * N, s)\n",
        "            new_a = max(a, aa)\n",
        "            new_b = min(b, bb)\n",
        "            if new_a <= new_b:\n",
        "                new_M.add((new_a, new_b))\n",
        "    return new_M\n",
        "\n",
        "print('start')\n",
        "s = ceil(N, B3)\n",
        "print(f's: {s}')\n",
        "M = set([(B2, B3 - 1)])\n",
        "print(f'M: {M}')\n",
        "\n",
        "s = bleichenbacher_step_1(s)\n",
        "while True:\n",
        "    print('-'*50)\n",
        "    print(f'start loop -- s: {s}')\n",
        "    if s % 65536 == 0:\n",
        "        print(s)\n",
        "    if len(M) > 1:\n",
        "        s = bleichenbacher_step_1(s)\n",
        "    else:\n",
        "        a, b = M.pop()\n",
        "        if a == b:\n",
        "            plaintext = hex(a)\n",
        "            j = plaintext.find('00')\n",
        "            msg = plaintext[j + 2 + 4:]\n",
        "            print(plaintext)\n",
        "            break\n",
        "        else:\n",
        "            M.add((a,b))\n",
        "            s = bleichenbacher_step_1(s)\n",
        "    print(f'step 2')\n",
        "    M = bleichenbacher_step_2(s, M)\n",
        "    print(f'step 2 done -- M: {M}')\n",
        "\n",
        "    if len(M) == 0:\n",
        "        print('no solution')\n",
        "        break\n"
      ]
    }
  ],
  "metadata": {
    "colab": {
      "collapsed_sections": [
        "VgWZKmqA5A2d"
      ],
      "provenance": []
    },
    "kernelspec": {
      "display_name": "Python 3",
      "language": "python",
      "name": "python3"
    },
    "language_info": {
      "codemirror_mode": {
        "name": "ipython",
        "version": 3
      },
      "file_extension": ".py",
      "mimetype": "text/x-python",
      "name": "python",
      "nbconvert_exporter": "python",
      "pygments_lexer": "ipython3",
      "version": "3.11.9"
    },
    "vscode": {
      "interpreter": {
        "hash": "dfa0d92481204de1f000f2d094916401a48ca85a4631293a49e11de0cf616ec5"
      }
    }
  },
  "nbformat": 4,
  "nbformat_minor": 0
}
