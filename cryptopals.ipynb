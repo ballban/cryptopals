{
  "cells": [
    {
      "attachments": {},
      "cell_type": "markdown",
      "metadata": {
        "id": "QDzvInZ18CAv"
      },
      "source": [
        "# Initialize"
      ]
    },
    {
      "cell_type": "code",
      "execution_count": 1,
      "metadata": {
        "id": "T_Cy9cK_8_Hp"
      },
      "outputs": [],
      "source": [
        "# %pip install PyCryptoDome\n",
        "# %pip install requests"
      ]
    },
    {
      "cell_type": "code",
      "execution_count": 2,
      "metadata": {},
      "outputs": [],
      "source": [
        "%load_ext autoreload\n",
        "%autoreload 2"
      ]
    },
    {
      "cell_type": "code",
      "execution_count": 3,
      "metadata": {
        "id": "J0HQLjD18Wod"
      },
      "outputs": [],
      "source": [
        "from utility import *"
      ]
    },
    {
      "attachments": {},
      "cell_type": "markdown",
      "metadata": {
        "id": "VgWZKmqA5A2d"
      },
      "source": [
        "# Set_1"
      ]
    },
    {
      "attachments": {},
      "cell_type": "markdown",
      "metadata": {
        "id": "KiuqGjpN8Do0"
      },
      "source": [
        "Challenge 1"
      ]
    },
    {
      "cell_type": "code",
      "execution_count": 4,
      "metadata": {
        "colab": {
          "base_uri": "https://localhost:8080/"
        },
        "id": "XFcs9Swb0-uF",
        "outputId": "8683c569-9ee4-4b8d-9468-7de288bf2aaa"
      },
      "outputs": [
        {
          "name": "stdout",
          "output_type": "stream",
          "text": [
            "11259432467145572969189485457381052543241507215288737798329079056359121649591228422793827173000297562297701340508013\n",
            "b\"I'm killing your brain like a poisonous mushroom\"\n",
            "b'SSdtIGtpbGxpbmcgeW91ciBicmFpbiBsaWtlIGEgcG9pc29ub3VzIG11c2hyb29t'\n"
          ]
        }
      ],
      "source": [
        "text = '49276d206b696c6c696e6720796f757220627261696e206c696b65206120706f69736f6e6f7573206d757368726f6f6d'\n",
        "ans = 'SSdtIGtpbGxpbmcgeW91ciBicmFpbiBsaWtlIGEgcG9pc29ub3VzIG11c2hyb29t'\n",
        "\n",
        "baseInt= int(text, 16)\n",
        "print(baseInt)\n",
        "\n",
        "bytes_text = bytes.fromhex(text)\n",
        "print(bytes_text)\n",
        "\n",
        "result = base64.b64encode(bytes_text)\n",
        "print(result)"
      ]
    },
    {
      "attachments": {},
      "cell_type": "markdown",
      "metadata": {
        "id": "Nk6OvCfb8GGF"
      },
      "source": [
        "Challenge 2"
      ]
    },
    {
      "cell_type": "code",
      "execution_count": 5,
      "metadata": {
        "colab": {
          "base_uri": "https://localhost:8080/"
        },
        "id": "koB7Udil0_wr",
        "outputId": "88d69ea1-645b-4d14-9a5c-2a727870ec14"
      },
      "outputs": [
        {
          "name": "stdout",
          "output_type": "stream",
          "text": [
            "b'\\x1c\\x01\\x11\\x00\\x1f\\x01\\x01\\x00\\x06\\x1a\\x02KSSP\\t\\x18\\x1c'\n",
            "b\"hit the bull's eye\"\n",
            "746865206b696420646f6e277420706c6179\n",
            "True\n"
          ]
        }
      ],
      "source": [
        "buffer1 = '1c0111001f010100061a024b53535009181c'\n",
        "buffer2 = '686974207468652062756c6c277320657965'\n",
        "ans = '746865206b696420646f6e277420706c6179'\n",
        "\n",
        "hex1 = bytes.fromhex(buffer1)\n",
        "hex2 = bytes.fromhex(buffer2)\n",
        "print(hex1)\n",
        "print(hex2)\n",
        "\n",
        "result = ''\n",
        "for i in range(len(hex1)):\n",
        "    result += str(hex(hex1[i] ^ hex2[i]))[2:]\n",
        "\n",
        "print(result)\n",
        "print(result == ans)"
      ]
    },
    {
      "attachments": {},
      "cell_type": "markdown",
      "metadata": {
        "id": "_Fi0zxze8Hzd"
      },
      "source": [
        "Challenge 3"
      ]
    },
    {
      "cell_type": "code",
      "execution_count": 6,
      "metadata": {
        "colab": {
          "base_uri": "https://localhost:8080/"
        },
        "id": "rQZhXKK61A6q",
        "outputId": "3d7efe13-adf3-4bfc-9636-638fa868a1b0"
      },
      "outputs": [
        {
          "name": "stdout",
          "output_type": "stream",
          "text": [
            "(253.58, \"Cooking MC's like a pound of bacon\", 88)\n"
          ]
        }
      ],
      "source": [
        "import challenge3 as c\n",
        "text = '1b37373331363f78151b7f2b783431333d78397828372d363c78373e783a393b3736'\n",
        "print(c.try_decrypt(text))"
      ]
    },
    {
      "attachments": {},
      "cell_type": "markdown",
      "metadata": {
        "id": "AzVweq4OEJzP"
      },
      "source": [
        "Challenge 4"
      ]
    },
    {
      "cell_type": "code",
      "execution_count": 7,
      "metadata": {
        "id": "NE12WsZB2j3C"
      },
      "outputs": [],
      "source": [
        "text_list = get_txt_from_url(\"https://cryptopals.com/static/challenge-data/4.txt\")"
      ]
    },
    {
      "cell_type": "code",
      "execution_count": 8,
      "metadata": {
        "colab": {
          "base_uri": "https://localhost:8080/"
        },
        "id": "9yt9hTgwu8DU",
        "outputId": "e3cb692a-858f-4ca3-b04e-3ab854aaba15"
      },
      "outputs": [
        {
          "name": "stdout",
          "output_type": "stream",
          "text": [
            "(219.54, 'Now that the party is jumping\\n', 53)\n",
            "(113.89, '[$LrLi;hsDbv!5 j$OaEfG=>rKDl=S', 109)\n",
            "(113.15, 'wpUs{gnns F8b-aT2*zRAh{Gj>xuED', 98)\n",
            "(109.14, \"iu`'ern.&nZeM,MjT\\x0b:FD~i5+OyEmL\", 113)\n",
            "(105.79, 'Sw6XSo$^uWyP$C{iUCns3e?E` /]GZ', 108)\n",
            "(90.35, 'T2XNi-]1rTIYbP/>2`o%%]T5JonmqA', 99)\n",
            "(70.12, ']$4OFs>\\\\YQ#\\nK9y?IT4PeNWTxFqc0\\r', 103)\n",
            "(70.01, '\\\\`)]^o}me|~#Am~t[dbF.tq\\x0bmAWM|~', 114)\n",
            "(0, \"\\x0e6GèY-5QJ\\x08\\x12CX%6í=æs@Y\\x00\\x1e?S\\\\æ'\\x102\", 0)\n",
            "(0, '3K\\x04\\x1dá$÷<\\x18\\x01\\x1aPæ\\x08\\tzÃ\\x08ìîP\\x137ì>\\x10\\x08T \\x1d', 0)\n"
          ]
        }
      ],
      "source": [
        "import challenge3 as c3\n",
        "\n",
        "decrypt_list = []\n",
        "for text in text_list:\n",
        "  decrypt_list.append(c3.try_decrypt(text))\n",
        "result = sorted(decrypt_list, key=lambda x:x[0], reverse=True)\n",
        "print(*result[:10], sep=\"\\n\")"
      ]
    },
    {
      "attachments": {},
      "cell_type": "markdown",
      "metadata": {
        "id": "hJpjzikzEQhc"
      },
      "source": [
        "Challenge 5"
      ]
    },
    {
      "cell_type": "code",
      "execution_count": 9,
      "metadata": {
        "colab": {
          "base_uri": "https://localhost:8080/"
        },
        "id": "U7NkCqwxESH-",
        "outputId": "6b71ceed-f363-40a1-a35d-df95ad740b38"
      },
      "outputs": [
        {
          "name": "stdout",
          "output_type": "stream",
          "text": [
            "0b3637272a2b2e63622c2e69692a23693a2a3c6324202d623d63343c2a26226324272765272a282b2f20430a652e2c652a3124333a653e2b2027630c692b20283165286326302e27282f\n"
          ]
        }
      ],
      "source": [
        "import challenge5 as c\n",
        "\n",
        "text = '''Burning 'em, if you ain't quick and nimble\n",
        "I go crazy when I hear a cymbal'''\n",
        "\n",
        "key = 'ICE'\n",
        "print(c.encrypt(text, key).hex())\n"
      ]
    },
    {
      "attachments": {},
      "cell_type": "markdown",
      "metadata": {
        "id": "3Nv7GmeVHoJK"
      },
      "source": [
        "Challenge 6"
      ]
    },
    {
      "cell_type": "code",
      "execution_count": 10,
      "metadata": {
        "id": "h_r6y43SHrCH"
      },
      "outputs": [],
      "source": [
        "text_list = get_txt_from_url(\"https://cryptopals.com/static/challenge-data/6.txt\")"
      ]
    },
    {
      "cell_type": "code",
      "execution_count": 11,
      "metadata": {
        "colab": {
          "base_uri": "https://localhost:8080/"
        },
        "id": "JEYx1gNA5uXr",
        "outputId": "170f0fb6-6484-4f40-a72c-d02006e75224"
      },
      "outputs": [
        {
          "name": "stdout",
          "output_type": "stream",
          "text": [
            "b'\\x1dB\\x1fM\\x0b\\x0f\\x02\\x1fO\\x13N<\\x1aie\\x1fI\\x1c\\x0eN\\x13\\x01\\x0b\\x07N\\x1b\\x01\\x16E6\\x00\\x1e\\x01Id T\\x1d\\x1dC3SNeR\\x06\\x00GT\\x1c\\rEM\\x07\\x04\\x0cS\\x12<\\x0c\\x1e\\x08I\\x1a\\t\\x11O\\x14L!\\x1aG+\\x00\\x05\\x1dGY\\x11\\x04\\t\\x00d&\\x07S\\x007\\x16\\x06\\x0c\\x1a\\x17A\\x1d\\x01RT0_\\x00 \\x13\\n\\x05GO\\x12H\\x08ENe>\\x16\\t8E\\x06\\x05\\x08\\x1aF\\x07O\\x1fYx~jb6\\x0c\\x1d\\x0fA\\rH\\x06U\\x1a\\x1b\\x00\\x1dBt\\x04\\x1e\\x01I\\x1a\\t\\x11\\x02Rz\\x7fI\\x00H:\\x00\\x1a\\x13I\\x1aOEH\\x0f\\x1d\\rS\\x04:\\x01R\\x19\\x01\\x0bA\\x13\\x06\\x00L1_Sb\\x15\\x06\\x07\\t\\x07T\\x0b\\x17A\\x14\\x16Iy35\\x0b\\x1b\\x01\\x05\\x0fF\\x07O\\x1dNxNH\\'R\\x04\\x07\\x0cEXH\\x08A\\x00O T\\x08t\\x0b\\x1d\\x19I\\x02\\x00\\x0e\\x16\\\\\\x00R0ie\\x1fI\\x02\\x02T\\x00\\x01\\x0b\\x07N\\x02\\x10S\\x01&\\x10\\x15M\\x02\\x07\\x02\\x1fO\\x1bNx0i6R\\n\\x01\\tT\\x06\\x07\\tSN\\x02\\x10S\\x08;\\x10\\x06\\x05I\\x0f\\x0f\\x10O;\\x00:_G+\\x1cId3OT\\x02\\x10S\\x1aO\\x05\\x16\\x11t\\x0c\\x06M\\x0f\\x02\\x0e\\x03CRL=N\\x00/\\x0bI\\r\\x08N\\x17\\r\\x15T\\x1dO\\x0e\\x1cE^(\\x0bM\\x19\\x01\\x12\\x07\\nUSxNOb\\x06\\x01\\x0bGS\\x1d\\x0c\\x00\\x00\\x17\\n\\x05\\x1f\\x0c:B^M.\\x01A\"\\x0e\\x1cI4VAb5\\x06OG*~;\\x08O\\x01\\x1b\\x01SB7\\x04\\x07\\x1e\\x0cN\\x15\\x1c\\x0e\\x06\\x07+\\x1aT*\\x17I\\x19\\x06YT!EW\\x07\\x03\\x05S\\x071Ex,\\x07\\nA\\x1d\\tRY7O\\x00&\\x1d\\x07I\\x13\\x00\\x13\\x01\\x13EN\\x0eI\\x17\\x049\\x0b^M\\x1d\\x06\\x04\\x1aOxw0C\\x00;\\x1d\\x1cN\\x14T\\x15\\x1a\\x0cNIO\\x08\\x07E9\\x00Rg:\\x01A\\x13\\n\\x06\\x007\\\\FbU\\n\\x0f\\x12S\\x11H,\\x00\\r\\x00\\x07\\x07\\x17;\\tR\\x19\\x01\\x0bA\\x07\\x1b\\x13G=\\x1a*\\x16\\x1a\\x0c\\x1c\\x02\\x07\\x07H\\x0bON\\x0b\\x00\\x00\\x16=\\x0bUM\\x08\\x02\\r\\x1b\\x18\\x17Dx0ie\\x1fI\\x07\\t\\x00\\x19\\x11EO\\x19\\x01I\\x03\\r5\\x16\\x17Mc:\\t\\x11O\\x15I*VI\\'\\x01I\\x1d\\x06\\x00\\rH\\x11H\\x0b\\x16I\\x1f\\n\"\\x00R\\x00\\x0cN\\x00\\x1a\\x0bRT0[Tb\\x1b\\x1aN\\x08KTb$N\\nO S\\x065\\x0bR\\t\\x08\\x00\\x02\\x11O\\x10E,NE0R\\x1d\\x06\\x06NT\\t\\x0bYN\\x04\\x00\\x17E:BR\\x1d\\x05\\x0f\\x18Texs,[G\\'R[NJ\\rT1\\x00AN\\x1b\\x01\\x16E;\\x0b\\x17M\\x10\\x0fFT\\x18\\x13N6[\\x00.\\x1b\\x1a\\x1a\\x02NT\\x1c\\n\\x00d&\\x1dT\\x16t\\n\\x14\\x0bI\\x03\\x18T\\x07\\x17A<\\x1aS-R\\x05\\x0b\\x13\\x00\\x00\\x00\\x00\\x00\\x0c\\n\\x08\\x07E$\\t\\x13\\x14I\\x1a\\t\\x06\\x00\\x07G0\\x1a*\\x11\\x1dI\\'GC\\x15\\x06EF\\x1b\\x01\\x02S\\x0c E\\x07\\x1dI\\x0f\\x0f\\x10O\\x1fA3_\\x00+\\x06I\\x1d\\x08U\\x1a\\x0cEG\\x01\\x00\\rSoeH@@ZN8\\x1bO_\\rxqN-\\x11\\x02N\\x08NT\\x1b\\nM\\x0bO\\x1e\\x1c\\n0Ex+\\x06\\x1cA\\x13\\x00\\x1dDxVU!\\x19EN.\\x00\\x18\\x01\\x0eEN\\x02\\x10S\\x17<\\x1c\\x1f\\x08\\x1aN\\x00\\x00\\x1d\\x1dC1UU1Rc=\\x12P\\x11\\x1a\\x06A\\x02\\x0e\\x0f\\x01\\x043\\x0c\\x1e\\x04\\x1a\\x1a\\x08\\x17\\n\\nP1[L+\\x16\\x06\\r\\x0eO\\x01\\x1bE*\\'H\\x04S\\x04:E\\x17\\x0b\\x0f\\x0b\\x02\\x00O\\x13N<\\x1aT*\\x13\\x1dN\\x1eO\\x01H\\x06A\\x00O\\x0b\\x16\\x11to;M\\n\\x0f\\x0fT\\x1b\\x13K=\\x1aAb\\x14\\x05\\x17GG\\x1d\\x1a\\t\\x00\\x0f\\x01\\rS\\x085\\x0e\\x17M\\x01\\x0b\\x13T\\x18\\x17Tv\\x1a*H;N\\x03GL\\x1d\\x03\\x00\\x00=\\x0e\\x04\\x00\\n:E_@I=\\x00\\x19\\x1c\\x1dNxNOb6\\x0c\\x02\\x0eL\\x15\\x00E*:\\x07\\x0c\\x01\\x00s\\x16R\\x03\\x06N\\x05\\x11\\x01\\x0bI6\\x1d\\x0cb+\\x06\\x1bGC\\x15\\x06ET\\x1c\\x16I\\x07\\nt\\r\\x13\\x03\\x0eNk6\\x1a\\x06\\x00!UUe\\x1e\\x05N\\x0cE\\x11\\x18ET\\x1c\\x16\\x00\\x1dBt\\x11\\x1dM\\x0e\\x0b\\x15T\\x02\\x0b\\x00+NY.\\x17Id(V\\x11\\x1aEA\\x00\\x0bI\\x1c\\x131\\x17^M\\x19\\x1c\\x00\\x17\\x1b\\x1bC=\\x1aM#\\x19\\x0c\\x1dGP\\x11\\x1a\\x03E\\r\\x1bIy\\'!\\x11R\\x03\\x06\\x1aA\\x1d\\tRY7O\\x070\\x17I\\x0fGL\\x1b\\t\\x03E\\x1cAIyo\\r\\n\\x07J\\x05\\x02A\\x13\\n\\x06\\x006UW*\\x17\\x1b\\x0bK\\x00\\x1a\\x07EP\\x02\\x0e\\n\\x16It\\x0b\\x1dM\\x1d\\x07\\x0c\\x11CRN7\\x1aG+\\x00\\x05\\x1dG*\\'\\x07\\nNNBDS*<E\\x1f\\x14I)\\x0e\\x10CRH7WE \\x1d\\r\\x17K\\x00\\r\\x07\\x10\\x00\\x1e\\x1d\\x06\\x11\\x046\\t\\x0bM\\x0c\\x0f\\x15Te!P9]H\\'\\x06\\x1d\\x07GW\\x1d\\x1c\\r\\x00\\x0fO\\x1a\\x03\\n;\\x0bSM*\\x01\\x0c\\x11O\\x1dNx[N&R\\x1a\\x0f\\x1e\\x00\\x1d\\x1cD\\x00de?:5zE$\\x0c\\x07\\x07\\r\\x18\\x0eRi;_\\x00;\\x17\\x19BGY\\x11\\x18I\\x00\\'H\\x04S\\x06;\\x08\\x1b\\x03NN\\t\\x15\\x1d\\x16\\x004SK\\'R\\x08N\\x15H\\x1d\\x06\\n\\x00d&\\x07\\x07\\n,\\x0c\\x11\\x0c\\x1d\\x07\\x0f\\x13O\\x01OxCO7R\\x1a\\x1a\\x06G\\x13\\r\\x17\\x00\\x02\\x06\\x02\\x16E5E\\x05\\x04\\x07\\x01A~<\\x1d\\x00(ON)\\x01I\\x1d\\x13O\\x04H\\x11R\\x17\\x06\\x07\\x14E5\\x0b\\x16M\\x0e\\x07\\x13\\x18O\\x01T7J\\x00!\\x00\\x10\\x07\\t\\x07Tb3A\\x00\\x06\\x05\\x1f\\x04t,\\x11\\x08I\\x07\\x12T\\x1c\\x17L4SNeR\\x08\\x00\\x03\\x00\\r\\x07\\x10\\x00\\x1e\\n\\x06\\x03\\t1E\\x13\\x1f\\x0cN\\x03\\x01\\x16\\x1bN\\x7f\\x1a*e1\\x08\\x1b\\x14ET\\x1f\\rYN\\x1b\\x01\\x16E2\\x17\\x17\\x0c\\x02\\x1dA\\x15\\x1d\\x17\\x002UC)\\x1b\\x07IGL\\x1d\\x03\\x00\\x00-\\x1d\\x08\\t\\x1ct\"\\x1e\\x18\\x0cNk9\\x00\\x04I6\\x1d\\x00#\\x1c\\rN\\x00R\\x1b\\x07\\x13I\\x00HI\\x07\\x17-\\x0c\\x1c\\nI\\x1a\\x0eT\\x1c\\x1bN?\\x1aA.\\x1d\\x07\\tG*5\\x04\\t\\x00\\x1a\\x07\\x1b\\x1c\\x103\\rR\\x19\\x01\\x0bA\\x13\\x07\\x17T,U\\x00%\\x00\\x06\\x01\\x11I\\x1aOET\\x06\\x06\\x1aS\\r1\\x17\\x17M\\x1a\\x01\\x0f\\x13Oxn7M\\x00;\\x1d\\x1cI\\x15ET\\t\\x08A\\x14\\n\\rS\\x07-E\\x06\\x05\\x0cN7=?RP7IS\\'\\\\Idms\\x00\\r\\x15P\\x07\\x01NS\\x16;E\\x1a\\x0c\\x1b\\nA\\x18\\x06\\x19Ex[\\x00\\x05\\x17\\x1b\\x03\\x06NT&\\x04Z\\x07Oc \\x115\\x17\\x06\\x01\\x0c\\nA\\x16\\x16RT0_\\x00 \\x13\\x1a\\x0b\\x14\\x00\\x1c\\x01\\x11T\\x07\\x01NS\\x02&\\n\\x07\\x03\\rNk \\x07\\x17R=\\x1dSb\\x1c\\x06N\\x13R\\x1d\\x18\\x15I\\x00HI\\x1c\\x0bt\\x08\\x1b\\x03\\x0cBA=H\\x1f\\x002OS6R\\x0e\\x0b\\x13T\\x1d\\x06B\\x00\\n\\x00\\x1e\\x1dE^6\\x02\\x0c\\x1b\\x05\\x00\\x19\\x0e\\x06I;\\x16\\x00\\x0bU\\x04N\\x0fA\\x1a\\x0f\\x0cNIO\\x1d\\x1a\\x02<\\x11R\\x01\\x00\\x05\\x04T\\x0eRF9TA6\\x1b\\nNmy\\x1b\\x1dET\\x1c\\x0e\\x19\\x03\\x000E\\x1f\\x08I\\x01\\x0f\\x17\\nRA6^\\x00\\x0bR\\x1d\\x06\\x08U\\x13\\x00\\x11\\x00\\x1a\\x07\\x08\\x07E^<\\x1d\\x18I\\x03\\x08\\x13\\x07\\x06\\x000[V\\'R\\x00\\x1aG*\\'\\x07ES\\x1a\\n\\x19S\\x01;\\x12\\x1cM\\x08\\x00\\x05T\\x03\\x17N<\\x1aM\\'R\\x10\\x01\\x12RT\\r\\x04RNeNK\\\\t\\x0c\\x1cM\\x04\\x17A\\x00\\x06\\x1fEy\\x1ay-\\x07EN@\\x19DH\\x0cSN\\x02\\x10S\\x1c1\\x04\\x00CIdk-\\x00\\x07\\x07*_\\x005\\x17\\x08\\x05\\x02N\\x1d\\x06B\\x00\\x08\\x0e\\x1a\\x07It<=LI\\x0f\\x0f\\x10O;\\x00;[Nb\\x06\\x0c\\x02\\x0b\\x00\\x1d\\x1cE*7\\x00\\x1c\\x01E6\\n\\x16\\x14N\\x1dA\\x13\\n\\x06T1T\\x07b\\x1a\\x06\\x1aK\\x00\\x07\\x07I\\x00\\x1d\\x00I:E7\\x04\\x1cM\\x1a\\x03\\x04\\x18\\x03RI,\\x1a*\\x11\\x1dI\\n\\x08NS\\x1cEB\\x0bO\\x04\\x12\\x01t\\x04\\x1c\\tI\\n\\x0e\\x1aH\\x06\\x00:_\\x001\\x13\\rNm\\x077\\t\\x10S\\x0bO\\x1d\\x1b\\x00t\\t\\x0b\\x1f\\x00\\r\\x12T\\r\\x17L7TGb\\x06\\x06N.c1DEy\\x01\\x1aI\\x10\\x04:E\\x11\\x0c\\x05\\x02A\\x19\\nRd9^\\x00H+\\x06\\x1b@R\\x11H\\x15I\\x1a\\x0c\\x01\\x1a\\x0bsE\\x13M\\x0f\\x07\\x15XO\\x01OxIT\\'\\x02I\\x0c\\x06C\\x1fH\\x04N\\nO\\x0c\\x1d\\x01!\\x17\\x17Mc\"\\x04\\x00O\\x06H=\\x1aW+\\x06\\n\\x06GD\\x1b\\x0b\\x11O\\x1cCI:\\x061IR\\t\\x06N\\x15\\x1c\\nRD9TC\\'R\\x1d\\x01GC\\x01\\x1a\\x00\\x00d<\\x06S\\x06;\\x08\\x17M\\x1c\\x1eA\\x17\\x03\\x1dS=\\x1aA,\\x16I\\n\\x08NS\\x1cEB\\x0bO\\x1a\\x02\\x105\\x17\\x17Mc7\\x0e\\x01O\\x05A6TAb\\x10\\x08\\x1a\\x13L\\x11H\\x08ENBDS$:\\x1c\\x06\\x04\\x04\\x0bMT\\x0e\\x1cY/RE0\\x17Idmy\\x1b\\x1dET\\x06\\x00\\x1c\\x14\\r E\\x06\\x05\\x08\\x1aA=O\\x05A+\\x1aW\\'\\x13\\x02BGb\\x1b\\x11I\\x00\\x17\\x00\\x1cT\\x171E\\x16\\x08\\x08\\nA\\x03\\x1d\\x1dN?\\x1a*\\x11\\x1dI\\r\\x08M\\x11H\\nNBO\\x0c\\x05\\x00&\\x1c\\x10\\x02\\r\\x17A\\x15\\x01\\x16\\x00+SN%R\\x1d\\x06\\x0eST\\x1b\\nN\\tOcy65\\x1cR@DN1\\x18\\x0e\\x0b\\x00,RA6R\\x0f\\x1b\\tK\\rH\\x08U\\x1d\\x06\\nS65\\x1c^M\\x0e\\x01A\\x03\\x07\\x1bT=\\x1aB-\\x0bEN\\x00OT\\x1f\\rI\\x1a\\nI\\x11\\n-E\\x15\\x02Id\\x11\\x18\\x0e\\x0b\\x00,RA6R\\x0f\\x1b\\tK\\rH\\x08U\\x1d\\x06\\nS\";E\\x05\\x05\\x00\\x1a\\x04T\\r\\x1dYt\\x1aG-R\\x1e\\x06\\x0eT\\x11H\\x07O\\x17CI\\x14\\nto>\\x0c\\x10N\\x05\\x1b\\x18\\x1c\\x009TDb\\x10\\x06\\x01\\x00I\\x11H\\x04N\\nO\\x19\\x1f\\x04-E\\x06\\x05\\x08\\x1aA\\x12\\x1a\\x1cK!\\x1aM7\\x01\\x00\\rGT\\x1d\\x04\\t\\x00\\x17\\x00\\x1cS\\x01=\\x00\\\\Mcd1\\x18\\x0e\\x0b\\x00,RA6R\\x0f\\x1b\\tK\\rH\\x08U\\x1d\\x06\\nS&;\\x08\\x17M\\x06\\x00MT,\\x1dM=\\x1aO,^I\\x02\\x02TT\\x05\\x00\\x00\\x06\\n\\x08\\x01E^5\\x1e\\x0c\\x10N\\x15\\x1c\\x0e\\x06\\x00>ON)\\x0bI\\x03\\x12S\\x1d\\x0bEW\\x06\\x06\\x1d\\x16E6\\n\\x0bM\\x10\\x01\\x14T\\x1c\\x13YxSTnR\\x1a\\x0f\\x1e\\x00\\x1d\\x1cE*>\\x03\\x08\\nE \\r\\x13\\x19I\\x08\\x14\\x1a\\x04\\x0b\\x005OS+\\x11I/GL\\x1d\\x1c\\x11L\\x0bO\\x05\\x1c\\x100\\x00\\x00M\\x07\\x01\\x16Te\"L9C\\x006\\x1a\\x08\\x1aGF\\x01\\x06\\x0eYN\\x02\\x1c\\x00\\x0c7IR\\x1a\\x01\\x07\\x15\\x11O\\x10O!\\x1ac-\\x1f\\x0cN\\x08NXH&O\\x03\\nI\\x1c\\x0bxE1\\x02\\x04\\x0bA\\x1b\\x01R*\\x08VA;R\\x1d\\x06\\x06TT\\x0e\\x10N\\x05\\x16I\\x1e\\x10\\'\\x0c\\x11Mc'\n",
            "2876\n"
          ]
        }
      ],
      "source": [
        "text = \"\".join(text_list)\n",
        "text = base64.b64decode(text)\n",
        "\n",
        "print(text)\n",
        "print(len(text))"
      ]
    },
    {
      "cell_type": "code",
      "execution_count": 12,
      "metadata": {
        "colab": {
          "base_uri": "https://localhost:8080/"
        },
        "id": "D9KTX2D-KaAC",
        "outputId": "ef91ed12-3332-4836-f02f-709fccabfe20"
      },
      "outputs": [
        {
          "name": "stdout",
          "output_type": "stream",
          "text": [
            "for using 2 chunk, best 5 scores are : [(2, 2.25), (5, 2.3), (3, 2.3333333333333335), (18, 2.8333333333333335), (20, 2.85)]\n",
            "for using 3 chunk, best 5 scores are : [(2, 2.0), (3, 2.6666666666666665), (29, 2.793103448275862), (5, 2.8), (18, 2.9444444444444446)]\n",
            "for using 4 chunk, best 5 scores are : [(2, 2.25), (5, 2.6), (29, 2.8189655172413794), (3, 2.8333333333333335), (18, 3.0555555555555554)]\n",
            "for using 5 chunk, best 5 scores are : [(2, 2.4), (5, 2.52), (3, 2.8000000000000003), (29, 2.8344827586206898), (31, 3.0258064516129033)]\n",
            "for using 6 chunk, best 5 scores are : [(2, 2.5833333333333335), (5, 2.7), (3, 2.8333333333333335), (29, 2.8563218390804597), (18, 3.0185185185185186)]\n",
            "for using 7 chunk, best 5 scores are : [(5, 2.7142857142857144), (29, 2.8226600985221677), (3, 2.857142857142857), (15, 2.99047619047619), (18, 3.0238095238095237)]\n",
            "for using 8 chunk, best 5 scores are : [(5, 2.775), (29, 2.8189655172413794), (3, 2.8333333333333335), (2, 3.0), (15, 3.0833333333333335)]\n",
            "for using 9 chunk, best 5 scores are : [(29, 2.739463601532567), (5, 2.844444444444444), (3, 3.0), (15, 3.051851851851852), (2, 3.0555555555555554)]\n",
            "for using 10 chunk, best 5 scores are : [(29, 2.7586206896551726), (5, 2.84), (15, 2.9866666666666664), (31, 3.103225806451613), (9, 3.1222222222222222)]\n",
            "for using 11 chunk, best 5 scores are : [(29, 2.7460815047021945), (5, 2.8727272727272726), (15, 2.987878787878788), (31, 3.087976539589443), (2, 3.090909090909091)]\n",
            "for using 12 chunk, best 5 scores are : [(29, 2.7413793103448274), (5, 2.916666666666667), (15, 3.0055555555555555), (31, 3.0698924731182795), (2, 3.0833333333333335)]\n",
            "for using 13 chunk, best 5 scores are : [(29, 2.742705570291777), (5, 2.9846153846153847), (15, 2.9948717948717944), (31, 3.0843672456575684), (40, 3.1192307692307693)]\n",
            "for using 14 chunk, best 5 scores are : [(29, 2.7610837438423643), (5, 2.9857142857142858), (15, 3.019047619047619), (2, 3.0357142857142856), (31, 3.0944700460829493)]\n",
            "for using 15 chunk, best 5 scores are : [(29, 2.7724137931034485), (5, 2.92), (2, 3.0), (15, 3.0266666666666664), (31, 3.1118279569892473)]\n",
            "for using 16 chunk, best 5 scores are : [(29, 2.7672413793103448), (5, 2.9625), (2, 3.0), (15, 3.033333333333333), (31, 3.1330645161290325)]\n",
            "for using 17 chunk, best 5 scores are : [(29, 2.7768762677484786), (5, 2.9176470588235293), (15, 3.015686274509804), (2, 3.0588235294117645), (31, 3.132827324478179)]\n",
            "for using 18 chunk, best 5 scores are : [(29, 2.7739463601532566), (5, 2.966666666666667), (15, 3.003703703703704), (2, 3.0833333333333335), (31, 3.14336917562724)]\n",
            "for using 19 chunk, best 5 scores are : [(29, 2.7749546279491835), (5, 2.957894736842105), (15, 2.9964912280701754), (2, 3.1315789473684212), (31, 3.134125636672326)]\n",
            "for using 20 chunk, best 5 scores are : [(29, 2.7603448275862066), (5, 2.98), (15, 3.003333333333333), (2, 3.1), (40, 3.1425)]\n",
            "for using 21 chunk, best 5 scores are : [(29, 2.7881773399014778), (5, 2.9904761904761905), (15, 3.0349206349206352), (3, 3.079365079365079), (25, 3.1276190476190475)]\n",
            "for using 22 chunk, best 5 scores are : [(29, 2.7774294670846396), (5, 3.009090909090909), (15, 3.0575757575757576), (9, 3.090909090909091), (3, 3.1363636363636362)]\n",
            "for using 23 chunk, best 5 scores are : [(29, 2.7556221889055474), (5, 3.008695652173913), (15, 3.0579710144927534), (9, 3.120772946859903), (40, 3.141304347826087)]\n",
            "for using 24 chunk, best 5 scores are : [(29, 2.755747126436782), (5, 2.958333333333333), (15, 3.0527777777777776), (9, 3.0833333333333335), (3, 3.125)]\n",
            "for using 25 chunk, best 5 scores are : [(29, 2.7600000000000002), (5, 3.0), (15, 3.0773333333333333), (9, 3.088888888888889), (40, 3.143)]\n",
            "for using 26 chunk, best 5 scores are : [(29, 2.7599469496021216), (5, 3.0692307692307694), (9, 3.0854700854700856), (15, 3.08974358974359), (3, 3.128205128205128)]\n",
            "for using 27 chunk, best 5 scores are : [(29, 2.749680715197957), (15, 3.0864197530864197), (5, 3.088888888888889), (9, 3.1069958847736623), (3, 3.123456790123457)]\n",
            "for using 28 chunk, best 5 scores are : [(29, 2.769704433497537), (15, 3.0833333333333335), (5, 3.107142857142857), (9, 3.107142857142857), (20, 3.1339285714285716)]\n",
            "for using 29 chunk, best 5 scores are : [(29, 2.7776456599286563), (15, 3.0873563218390805), (9, 3.099616858237548), (3, 3.1149425287356323), (20, 3.136206896551724)]\n",
            "for using 30 chunk, best 5 scores are : [(29, 2.7770114942528736), (15, 3.0955555555555554), (3, 3.111111111111111), (20, 3.1350000000000002), (9, 3.1370370370370373)]\n",
            "for using 31 chunk, best 5 scores are : [(29, 2.7697441601779755), (15, 3.109677419354839), (3, 3.1182795698924735), (9, 3.1362007168458783), (20, 3.1370967741935485)]\n",
            "for using 32 chunk, best 5 scores are : [(29, 2.7683189655172415), (15, 3.1), (3, 3.1145833333333335), (20, 3.1328125), (5, 3.14375)]\n",
            "for using 33 chunk, best 5 scores are : [(29, 2.762800417972832), (3, 3.0909090909090913), (15, 3.098989898989899), (20, 3.1378787878787877), (9, 3.148148148148148)]\n",
            "for using 34 chunk, best 5 scores are : [(29, 2.7505070993914806), (3, 3.0784313725490193), (15, 3.103921568627451), (20, 3.1529411764705886), (2, 3.161764705882353)]\n",
            "for using 35 chunk, best 5 scores are : [(29, 2.742857142857143), (3, 3.085714285714286), (15, 3.1085714285714285), (20, 3.1614285714285715), (9, 3.165079365079365)]\n",
            "for using 36 chunk, best 5 scores are : [(29, 2.746168582375479), (15, 3.111111111111111), (3, 3.1203703703703702), (5, 3.155555555555556), (20, 3.161111111111111)]\n",
            "for using 37 chunk, best 5 scores are : [(29, 2.7381174277726), (15, 3.1045045045045043), (3, 3.1531531531531534), (9, 3.159159159159159), (20, 3.1594594594594594)]\n",
            "for using 38 chunk, best 5 scores are : [(29, 2.7295825771324864), (15, 3.1105263157894734), (3, 3.149122807017544), (20, 3.155263157894737), (9, 3.1578947368421053)]\n",
            "for using 39 chunk, best 5 scores are : [(29, 2.725022104332449), (15, 3.111111111111111), (5, 3.1487179487179486), (20, 3.1564102564102567), (40, 3.161538461538462)]\n",
            "for using 40 chunk, best 5 scores are : [(29, 2.7120689655172416), (15, 3.1116666666666664), (9, 3.1527777777777777), (5, 3.1550000000000002), (20, 3.1662500000000002)]\n",
            "for using 41 chunk, best 5 scores are : [(29, 2.712363330529857), (15, 3.1138211382113825), (40, 3.1591463414634147), (11, 3.1596452328159645), (9, 3.159891598915989)]\n",
            "for using 42 chunk, best 5 scores are : [(29, 2.7183908045977008), (15, 3.107936507936508), (11, 3.1515151515151514), (20, 3.1595238095238094), (40, 3.1648809523809525)]\n",
            "for using 43 chunk, best 5 scores are : [(29, 2.709703287890938), (15, 3.128682170542636), (11, 3.1585623678646937), (40, 3.161627906976744), (13, 3.1645796064400713)]\n",
            "for using 44 chunk, best 5 scores are : [(29, 2.7100313479623823), (15, 3.1242424242424245), (40, 3.15), (38, 3.1638755980861246), (13, 3.164335664335664)]\n",
            "for using 45 chunk, best 5 scores are : [(29, 2.7088122605363987), (15, 3.1288888888888886), (40, 3.1494444444444443), (33, 3.160942760942761), (20, 3.163333333333333)]\n",
            "for using 46 chunk, best 5 scores are : [(29, 2.7166416791604195), (15, 3.1231884057971016), (40, 3.1527173913043476), (13, 3.1538461538461537), (20, 3.157608695652174)]\n",
            "for using 47 chunk, best 5 scores are : [(29, 2.7204695524578137), (15, 3.129078014184397), (13, 3.1407528641571196), (40, 3.150531914893617), (20, 3.154255319148936)]\n",
            "for using 48 chunk, best 5 scores are : [(29, 2.7183908045977008), (15, 3.1347222222222224), (13, 3.1458333333333335), (40, 3.1484375), (38, 3.150219298245614)]\n",
            "for using 49 chunk, best 5 scores are : [(29, 2.7178043631245603), (15, 3.136054421768707), (40, 3.14234693877551), (38, 3.1471535982814176), (20, 3.154081632653061)]\n",
            "for using 50 chunk, best 5 scores are : [(29, 2.716551724137931), (15, 3.136), (40, 3.1454999999999997), (38, 3.1473684210526316), (20, 3.153)]\n",
            "for using 51 chunk, best 5 scores are : [(29, 2.7173766058147395), (15, 3.1359477124183006), (38, 3.146542827657379), (40, 3.1480392156862744), (33, 3.1592394533571)]\n",
            "for using 52 chunk, best 5 scores are : [(29, 2.718832891246684), (15, 3.137179487179487), (38, 3.1482793522267207), (40, 3.151923076923077), (20, 3.1596153846153845)]\n",
            "for using 53 chunk, best 5 scores are : [(29, 2.726740403383214), (15, 3.138364779874214), (38, 3.1469712015888778), (40, 3.1490566037735848), (20, 3.1575471698113207)]\n",
            "for using 54 chunk, best 5 scores are : [(29, 2.7292464878671776), (15, 3.1432098765432097), (38, 3.1437621832358675), (40, 3.153703703703704), (20, 3.1546296296296297)]\n",
            "for using 55 chunk, best 5 scores are : [(29, 2.7373040752351097), (38, 3.1377990430622007), (15, 3.138181818181818), (40, 3.1554545454545453), (13, 3.1594405594405592)]\n",
            "for using 56 chunk, best 5 scores are : [(29, 2.7438423645320196), (15, 3.138095238095238), (38, 3.139567669172932), (40, 3.1558035714285717), (25, 3.16)]\n",
            "for using 57 chunk, best 5 scores are : [(29, 2.7428917120387175), (15, 3.127485380116959), (38, 3.1398891966759), (40, 3.1535087719298245), (13, 3.1551956815114712)]\n",
            "for using 58 chunk, best 5 scores are : [(29, 2.7449464922711058), (15, 3.1241379310344826), (38, 3.1374773139745913), (13, 3.1485411140583555), (40, 3.1612068965517244)]\n",
            "for using 59 chunk, best 5 scores are : [(29, 2.753945061367621), (15, 3.134463276836158), (38, 3.1378233719892954), (13, 3.14993481095176), (25, 3.160677966101695)]\n",
            "for using 60 chunk, best 5 scores are : [(29, 2.7477011494252874), (38, 3.131140350877193), (15, 3.143333333333333), (13, 3.1474358974358974), (25, 3.16)]\n",
            "for using 61 chunk, best 5 scores are : [(29, 2.7467495760316565), (38, 3.1354616048317516), (15, 3.1366120218579234), (13, 3.1437578814627996), (25, 3.1606557377049183)]\n",
            "for using 62 chunk, best 5 scores are : [(29, 2.7424916573971077), (15, 3.1333333333333333), (38, 3.138370118845501), (13, 3.146401985111663), (20, 3.161290322580645)]\n",
            "for using 63 chunk, best 5 scores are : [(29, 2.75095785440613), (15, 3.1312169312169313), (38, 3.142021720969089), (13, 3.1514041514041513), (20, 3.1626984126984126)]\n",
            "for using 64 chunk, best 5 scores are : [(29, 2.746228448275862), (15, 3.13125), (38, 3.1467927631578947), (13, 3.15625), (20, 3.1609375)]\n",
            "for using 65 chunk, best 5 scores are : [(29, 2.743766578249337), (15, 3.132307692307692), (38, 3.1502024291497976), (20, 3.161538461538462), (13, 3.1633136094674557)]\n",
            "for using 66 chunk, best 5 scores are : [(29, 2.74294670846395), (15, 3.1333333333333333), (38, 3.1547049441786283), (13, 3.1585081585081585), (20, 3.1704545454545454)]\n",
            "for using 67 chunk, best 5 scores are : [(29, 2.7447246525990736), (15, 3.1323383084577117), (38, 3.154752553024352), (13, 3.1584385763490244), (25, 3.1725373134328354)]\n",
            "for using 68 chunk, best 5 scores are : [(29, 2.7413793103448274), (15, 3.1401960784313725), (38, 3.1524767801857587), (13, 3.164027149321267), (25, 3.1694117647058824)]\n",
            "for using 69 chunk, best 5 scores are : [(29, 2.747626186906547), (15, 3.1352657004830915), (38, 3.150266971777269), (13, 3.1560758082497213), (11, 3.164690382081686)]\n",
            "for using 70 chunk, best 5 scores are : [(29, 2.7517241379310344), (15, 3.1285714285714286), (38, 3.1477443609022555), (13, 3.161538461538462), (11, 3.164935064935065)]\n",
            "for using 71 chunk, best 5 scores are : [(29, 2.749878581835843), (15, 3.1352112676056336), (38, 3.1508524833209783), (13, 3.1560130010834233), (11, 3.1626120358514727)]\n",
            "for using 72 chunk, best 5 scores are : [(29, 2.755747126436782), (15, 3.1472222222222226), (38, 3.1487573099415203), (13, 3.161324786324786), (11, 3.1628787878787876)]\n",
            "(29, 2.7384186694531523)\n",
            "(38, 3.141754385964912)\n",
            "(13, 3.1541942220675256)\n",
            "(9, 3.1598746081504703)\n",
            "(16, 3.160963687150838)\n",
            "(25, 3.1655652173913045)\n",
            "(22, 3.168531468531469)\n",
            "(15, 3.1713787085514835)\n",
            "(33, 3.175548589341693)\n",
            "(40, 3.176056338028169)\n",
            "{29: [b'\\x1d6<78t:5t&;t^:7199;=5\"5:;t$ e0<3:t5:stt1!\\rt<6;z;,55t12t-31-;5&t^<0^;t1t67tt:s!1;5: 1&55-;t-=;^6 07x\\'', b'B\\x00\\x0c\\x16E\\x04\\x01\\x0b\\x0b\\x10\\x10\\x0c(B\\x04E\\x0b\\x00\\t\\x0b\\x16\\x00\\x0bB\\x0b\\n\\tEHE\\x1c\\x0cEo\\x0eE\\x16\\r\\x11\\x17\\x11\\n\\x0bE\\t\\x0bE\\x08\\x0cE\\x0b,E\\x17\"\\x0c\\r\\x17EE\\x17\\n\\x086\\x11E<\\x12\\x0c\\x04<\\n\\x04\\x04\\tEE\\x17I\\x08\\x17\\x1cEE\\x1c\\x1c\\x1cEEoE\\x00\\x085\\n\\r\\x00IE\\x0c', b'\\x1f\\x1e\\x1e\\x06\\x06\\x1eR\\x1b\\x1d\\x15\\x06\\x06\\x0b^\\x07x^RRU\\x17RRR\\x17\\x14\\x13\\x07@x\\x1f\\x1e\\x17;\\x17_R\\x13\\x1d^R\\x07\\x1d\\x1f\\x0bS$\\x1b\\x11\\x05\\x16\\x11\\x13\\x17\\x1e\\x1cR\\x17\\x06\\x1a\\x06\\x07\\x1b\\x02R\\x1f\\x1d\\x1c\\x1c\\x00=\\x16\\x1c\\x1c\\x0b\\x11\\x13\\x17R\\x17\\x17\\x06\\x06\\x16\\x10R^\\x15\\x05>\\x06\\\\\\x17\\x1e\\x0b\\x13\\x00R1\\x11', b'M\\x01\\x08\\x0c\\x05\\x01\\x19\\x01\\x19M\\x05MMM\\x1e,Mg\\x19MM\\x00\\t\\x1dM\\x0b\\x14\\x1d@+\\x08\\x04\\x0bMM@\\x03\\x03MM\\x03JM\\x14MM\\x0c\\x03\\x0c\\x04M\\x08\\x1f\\x0c\\x18\\n\\x19M\\x05\\x0c\\x01\\x03\\x03\\x0c\\x01\\x08\\x18MMCL\\x14M\\t\\x1f\\x0cMM\\tMM\\x04\\x05\\x08\\x02@M\\x02\\x05\\x0c\\x05MM\\x0cM\\x19M\\x1a\\x02M', b'\\x0bII\\x1a\\x08I\\x01\\x05I\\x02I\\x0f\\x19.\\x0c\\x07\\x1d:\\x01\\x08c\\x0c\\x08\\x05\\x10IIIZ\\x06\\x1a\\x1a\\x0f\\n\\x01I\\x06\\x0e\\x0e\\x19\\x06\\x05\\x1dI\\x0c*\\x07N\\x1d\\x07\\x0eI\\x0c\\x02\\x0cI\\x01\\x1a\\x0c\\x1b\\x0c\\r\\x0c\\x1b\\x00II\\x08\\x04IIN\\x1aI\\x00\\x05\\x0fc\\x06\\x1cc\\x04\\x08\\x08\\rD\\x0eI\\x00\\x10\\x08c\\x06\\x10\\x10I\\x07\\x01\\x04c', b'\\x0fd\\x1a\\x17\\x1a\\x1a\\x0b\\x0f\\x02\\x07\\x0f\\x02\\x01\\x01N\\n\\x06\\x01\\x0b\\x02:N\\x00\\x0f\\x0f\\x03\\x1a\\x0fN\\x1cN\\x1a\\x0b\\x0f\\x0b=NN\\x0b\\x1c\\x1a\\x02\\x07)\\x0f\\x01\\x07N\\x07\\x01\\x07\\x07N\\x1dN\\x1a\\x0b\\x01N\\n\\nNB\\x05\\x05\\x01\\x03\\x00\\x17d\\x0f\\x1d\\x03\\n\\r\\x02\\x07\"N\\x1e7\\x0b\\x1a\\n\\x17N\\x01d\\x1aN\\x1ad\\x00N\\x01\\x08\\x01\\x07\\x0b', b'\\x02 \\tAF\\tAF\\x00\\x02\\x0f\\x0e\\x12A\\x15A\\x04AA\\r\\t\\x00\\x02\\x18F\\x18\\t\\x0f8A\\x00\\x08\\x02\\x0f\\x13\\x00\\x05k\\x15\\x00AA\\x0c\\x0e\\x15\\x0c\\r\\t\\x0fA\\x13\\x12\\x03Ak\\x0eA\\x0f7AAkA\\x00\\x04\\x0f\\x08\\x05Ak\\x0fA\\x04\\x0e\\x12A\\x15\\x04\\x15A\\x0eMAAA1A\\x11\\x04\\x05A1M\\x15\\x14\\x14\\x16\\x15A', b'\\x1fT\\x11\\x1d\\x07\\x11\\x13\\x07\\x0e\\x1f\\x10\\x03\\x07\"\\x1c\\x1d\\x1a\\x13\\x07\\x1b\\x11\\x1a\\x11TTT\\x06\\x10\\x1b\\x13\\x00\\x17\\x00TT\\x19\\x116T\\x17\\x1d\\x13\\x11\\x10T\\x11\\x18\\x15\\x13~\\x18T\\x01\\x159T\\x13\\x13=\\x18\\x16 =\\x19T\\x17\\x13T\\x00-\\x10\\x13\\x18\\x1aT\\x19X\\x00\\x1c\\x17\\x01T=\\x03\\x15\\x18\\x03\\x18T\\x1b\\x12\\x18T\\x1cT\\x1aT\\x11\\x1b', b'O\\x1dO\\x01O\\x02\\x06O\\x16OOC\\n\\x0e\\x0e\\tO\\n\\x1b\\x18O\\x0bOe\\x18\\x07\\x00OO\\x00\\x1d\\nO\\x1b\\x18\\x1c\\x01\\x1a\\x02\\x1b\\t\\nCCeO\\x0e\\x1dO<O\\x1c\\x16\\x1d\\x00\\x1c\\x07O?\\x06\\x16\\x07H\\x0e\\x0e\\n\\x07\\x03\\x06\\x00O\\n\\x03H\\r\\nOO\\n\\x03O\\x0eO\\x1d\\x01\\x0e\\x07\\x0e\\r\\x18\\x1a\\x0e,\\x0e\\x1c\\x04eO\\x01', b'\\x13\\x1d\\x14R\\x1fR\\x00\\x1d\\\\\\x1b;RU\\x1c\\x06Rx\\x06\\x13\\x17\\x15R\\x10x\\x13\\x17\\x07\\x1f_\\x1d\\x1d\\n\\x13\\x13\\x17\\x1d\\x0b\\x06\\x0b\\x1bR\\x06RR!\\x1dR\\x16\\x01\\x1d\\x01\\x17\\x1b\\x17\\x04\\x1b\\x17xR\\x19R\\x17\\x1f\\x06RR\\x06\\x17\\x1f\\x07;\\x06R\\x06\\x17R\\x01\\x06R\\x1d\\x05\\x1c\\x05\\x1d\\x16\\x0b\\x1b\\x0b\\x1d\\x1c\\x1c\\x0b\\x1d\\x06\\x13\\x0b\"\\x10R', b'NCLTYzLN\\x00N\\x00LSI\\x07Yw\\x00GDITEsNAGA\\rDCPNKTNI\\x00\\x00CY\\x00NHPNi\\x00O\\x00TLN\\x00INTnPETR\\x00IFA\\x00NE\\x07\\x00TI\\x00LdOHDSAYAN\\x00\\x00T\\x00Y\\x00K\\x00M\\x00Y\\x00LO*', b'<3!0x\\x7f1xRx:=x4+707=x*0,,6<03xx11<=vx6!+=76779x;4x(74\\x7f26?,77x0=2;960<y*;1,:79x=9=6/+?+,=,t9!,=>x59!\\x08', b'\\x1aS\\x1a_~I_N00_NNV\\x1aOC\\\\\\x1a0V[N[[\\x1a\\x1a_qVU[\\x1a\\x1a\\x1aN\\x1dUN\\x1aOU\\x1aW][_SCOJS\\x1aU\\x1d\\x1aUMI[_\\x1dO\\x16T^[\\x1a\\x1a_[T\\x1a_T^I\\x1aT\\x1aTR\\x1a\\x1aSR\\x1aR\\x1aT\\x1aR\\x1aOSOC\\x1aV', b'iNG\\x00j\\x00SHiiG\\x00OAT\\x00\\x00F*iITEG\\x00S*\\x00NUULTA*O\\x0cUYM\\x07WGEHN\\x00KON\\x00N*C\\x00A\\x00\\x00S\\x00\\x00SS\\x00A\\x00VMy\\x00N\\x07*\\x00G\\x00TWCAAEW*NABAGDMAONTS\\x00cA', b\"ee+ bHb'e6+/bb*&;b\\x16e'b0'.-\\x11+-!1+*bHbbe.#0*+ '&;'7)!ee)#.%;'\\x05 b6\\x0b6\\x0b''-5bb\\x111bH'+',b0'\\x11%6-6-b76,)n+6-;\", b'\\x1fR\\x00\\x136:\\x15R\\x1fR\\x1c\\x0b\\x065\\x17\\x1d\\x1dU\\x1a\\x1f\\x01\\x1bRR\\x1bR\\x1d\\x06\\x11\\x19R\\x16\\x13\\x14;6+\\x1e\\x17\\x19\\x17\\x17\\x00\\x1d\\x06R\\x17RR\\x01\\x00R1\\x1b\\x1c\\x1d\\x00\\x1d\\\\\\x17\\x13\\x1cRU\\x1bRRR\\x07\\x17\\x06\\x1a\\x1d\\x13\\x06+\\x02\\x06R\\x16\\x10\\x17\\x13\\x1dRR\\x0bRR\\x10\\x01R^\\x0bR\\x11\\x1a\\x1fR', b'I\\x06\\x05\\n\\x0c\\x00\\x06\\x04I\\nII\\x01\\x06I\\x07\\x1c\\n\\x0cII\\x1a\\x1d[\\x1a\\x05II\\x02Ec\\x06\\x1d\\x05N\\x0c\\x06\\x05I\\x0cI\\x1b\\x05\\r\\x1d\\x1a\\x19\\x08\\x1aI\\x10\\x08\\x08\\x07\\r\\x07\\x06\\x1cI\\x1b\\x1a\\x06\\x0e\\x04\\n\\x1d\\x00\\x10E\\x08\\x0c\\x06I\\r\\x06\\x06I\\n\\x1dI\\x08I\\x02I\\x1d\\x0fE\\x0f\\x1e\\x06\\x00\\x0fII\\x1aI\\x08\\x0c\\x1d', b\"\\x1c\\x00\\x1d\\x05\\x1d\\x1a\\x07\\x07\\x02\\x01d\\r\\x0bO\\x19IN\\x0f\\x1c\\x07\\x1dN\\x06N\\x1a\\x0b'\\x1dNN=\\rN\\x17\\x03\\x02\\x1bNd\\x1d\\x0f\\x0b\\x1d\\x17\\x07\\x0fBN\\x1a\\x1d\\x07\\x00\\x1bIN\\t\\x01Id\\x03\\x0bN\\x0bNN\\x06\\x1a\\x01N\\x05\\x02\\x1a\\nNN\\x1b\\x0c\\x06\\x01\\n\\x1adB\\r\\x06\\x1bN\\x1b\\x06\\x01\\r\\x1b\\x02\\x03\\x0f/\\x1aN\\x06\", b'\\x0eGGG\\x0f\\x13\\t\\x0c\\x02\\t3\\x08GG\\x06\\x13\\x14\\x12\\x02\\t\\x06\\x08\\x06J\\x02\\x13G\\x08\\x08.\\x12\\x0e\\x1eGG\\x0eG\\x0c(GGKGKG\\x1eG\\x15\\x06\\x13\\t\\x03\\x14G\\x00G\\x11\\x15m\\x06\\x14\\x13\\x13\\x0fm\\x08G\\x12@\\x02\\x0bK\\x08m.@\\x06GG\\x08\\x13mG\\x08\\x0e\\t\\x00\\t\\x0e\\x00G\\t\\x02\\x12\\x1eGG\\x08\\x06', b'NTYOAI\\x07ETTONS*Y\\x00TS\\x07\\x00\\x00KN\\rN\\x00CUN\\x00POOGLLCEVPL\\x00*\\x00W\\x00YHGO\\x07\\x00ELR*IEsN\\x00RTAyU*R\\x19N\\x00\\x00N\\x07cRCDCNLybMSKOKTITKTS\\x00LFNT', b\"\\x13\\x1c\\x11\\x12\\r\\x1aTX\\x00\\x06T\\x17\\x1d~T\\x13\\x15\\x11\\x07\\x19\\rTTTT\\x00\\x15\\x1aT\\x18\\x11\\x01\\x01\\x1d\\x1d\\x15\\x15\\x11\\x11\\x11\\x1b\\x1a'\\r\\x1d\\x1d\\x11\\x1d\\x13\\x04T\\rT\\x1d\\x1b5\\x1aT\\x00T\\x1c\\x1d\\x1d\\x1a\\x1b\\x13'TD\\x1d\\x1d\\x07S71\\x11\\x1f\\x1b\\x01S\\x11\\x1b\\x1b\\x11T\\rT\\r\\x11\\x11\\x1d\\rT\\x1d\\x1d\\x1d\\x01XT\", b'\\x01\\r\\x04HHO\\x0bH\\x01\\x07\\x02\\r\\x0c;!\\x01\\x1aHH\\x11Hb\\t1\\x1c\\x00\\x06\\x0c\\x1b\\x01\\x1a\\x1bH\\x1a\\x03\\x00\\x06\\x18\\x1a\\x1a\\t\\x07\\x07\\x07\\x1c\\x1c\\x18\\x06\\rHb\\x07\\x1f\\x03\\x07\\x04O\\t\\r&\\x01\\x18\\x06\\x0f\\x1d\\x00\\x07\\rH\\x06\\x1c\\x07\\x1c\\tDHH\\x0b\\x1a\\x1cH\\x1d\\x11H\\x1bH\\x1fHHH\\x04H\\x05\\x0b\\x1c\\x1c\\x06H\\x0e', b'\\x0bE\\t\\x08\\x06E\\x17\\x08\\x0b\\t\\x10\\x15\\x00\\x08E\\x13\\x0c,\\x0bE\\x11$\\x0b\\x00\\n\\x00EE\\n\\x0e\\x06E\\x06\\t\\x00EEEE\\x03\\x03E\\n\\x10\\rDI\\n\\x17\\x113\\x10\\r\\x00\\x13\\tE\\x08\\x15\\x04\\x11\\x15B\\x0cE\\x11E\\x04\\x0cBEIE\\x10E\\x15\\x04\\x11\\x00E\\x08EI\\n\\n\\x08\\r\\x08\\x07\\x04\\t\\x08\\x00EE\\x11\\x0e&\\x10', b'\\x07M\\x00EUHAA\\x07SST\\x00OWEN\\x00OOHNYA\\x00\\x00FGMEA*A\\x00\\x00*TTAEEPN\\x00\\x00\\x00\\x00\\x00\\x00RA\\x00Y\\x00I\\x00TAPZTI\\x00NT\\x00SRS\\x00*\\x00BSyINO\\x00BET\\x00NNUIUON\\x00U\\x00W*LYON', b\"N\\x07dN\\x1a\\x0f\\x14\\x00NN\\x1a\\x1d\\x17\\x01\\x07NI\\rN\\x19\\x0b\\nNNd\\x0c\\x1b\\x01\\x0bN\\x02'\\x00\\x0f=:\\x1c\\x1c\\x00\\r\\x1c\\x02N\\x1e\\x0fd'd\\x02\\x17\\x00\\x1eN-\\x00\\x1a\\x06\\x14\\x07\\x07\\x07\\x00\\nI\\x1c\\x1a\\x1aNN\\x087\\x1d\\x0b\\x0b\\x01\\x1a\\n\\x1cd\\x0bN\\x06\\x17B\\t\\x1d\\x1a\\x1d\\x17\\n\\x17\\x1d\\x06\\x06>\\x0bN\\x03\\x05\", b'\\x1b\\x04&e\\x1b\\x1d\\x16O\\x02\\x02OO\\n\\x1b\\x03\\x0eO\\x00\\x0b\\x01\\x16O\\x04\\x1b&\\n\\x01\\x00O\\x02\\x0eHO\\x01\\x0e\\x07\\x16\\x16\\x0b\\x1bA\\x0eB\\x1dOeH&\\x06\\x06\\x06\\n\\x1b\\x1dH\\x07\\x06\\n\\x01O\\x01H\\x00O\\x0e\\x07\\ne\\x02\\x0e\\x00\\x00OO\\x1a\\x0cOC<OB\\x00\\x00OO\\x06\\n\\x06CO\\x00\\x06\\n\\x06\\x03O\\x02\\n\\x16', b'\\x01\\x0c\\x07>\\x00\\rI \\x10\\x10\\x05\\x0e\\x05\\x01\\x05I\\x08\\x07\\x00II \\x00\\x01\\x1d\\x08\\x02\\r\\x1e\\x10\\x0f\\x04\\x0b\\r\\x04\\x0cI\\x00III\\nD\\x06\\x1a?\\x04\\x07\\x02\\x07\\x05\\x06\\x01\\x08I\\x1b\\x1a\\rNcNI\\x1e\\x1d\\x19\\x08\\x19N\\x10\\x1a\\x1cI\\x04\\x1dI\\x01\\x0cI\\x06\\x1aD\\x1c\\x1c\\x0cc\\nI\\nI\\x19\\x1c\\n\\x08\\x1d\\x08\\x05\\x1cII', b'\\x16SS\\x16\\x1dSyTSS\\x16\\x1c\\x1fSS\\x17\\x07\\x07\\x00\\x03\\x1fS\\x17\\x16T\\x07SS\\x1cS\\x01S\\x16S\\x00\\x01\\x07\\x1d\\x1cyy\\x16S\\x11\\x03:S\\x07\\x16\\x14\\x1f\\x03\\x16\\t\\x07\\x1cSSS S\\x1c\\x1d\\x1a\\x03\\x07SKS\\x07\\x01:\\x12\\x1b\\x10\\x1a\\x1d:S\\x02S\\x14T\\x05yS\\x11S\\x14\\x1fSS\\x01\\x16\\n\\x1c\\x00\\x1c\\x1e', b'E\\x12\\x00\\tB\\x043\\x08\\x01\\x08\\x11E\\x0cB\\x07\\x04E\\x17\\x16\\r\\n\\x06EE\\x16E\\x0co\\n\\x17\\x04\\x04\\x11\\x08\\n\\x00\\nB\\x13\\'oI*\\x04\\n5\\x06\\nEE\\x04\\tE\\x1c\\x17\\x10\\r\\x07\\x16\\x11\\x02\\x0bE\\x02\\x00E\\x01\\\\\\x1cIEE\\x01\\x00\\x04\\x0b\\x01\\x06\\x06\\x10$\\r\\x17\\x0066\\n\"\\n\\x04\\x01&EEE\\x10\\x0c\\x0b\\x10'], 38: [b'\\x1d\\x1dG\\x16\\x11\\x06O\\x07+TM\\x1a\\x01\\x00G\\x00\\nON\\x1d\\t\\x06\\x0b\\x1aL\\x06\\x17x\\x15t\\x1bG\\x16\\x10\\x1deN7R\\x08\\x1a\\x03\\x0cTE\\x16\\x16N\\x1e\\x04R\\x1a\\x04\\x00E\\x1c:1s\\x06G\\x02T\\x02ON-U\\x0c\\x1aH5YL\\x0c\\x01', b'BCY\\t\\x02\\x07 \\x02\\x1c\\x1d.T\\x13R=\\x19\"\\x10JT\\x06ION+AMN\\x06\\x11CLIC\\x07?\\tR\\x17I*\\x00\\x1c,T;R\\x13\\x1dT\\x1d\\n\\x175*M_DEHC\\x10\\x0eB\\x0c1\\x0b\\x1d\\x10M\\x08\\x1ex\\x1d7R', b'\\x1f3\\x118R\\tT\\x1fIO\\x01*Eg\\x1a\\x11\\x00E\\r\\x16\\x00\\x1d\\x1e\\x00\\x16\\x00\\x01OE\\x1d=\\x1btRG:\\x15\\x1a\\x06\\x07e\\x00\\nU\\tETRE\\x0e\\x06\\x19A\\x177\\x1a\\x00E\\x13=\\x015\\x1cG\\x05\\x18E\\x06N7U\\x0cS\\x1cI*', b'MS\\x04Ez\\x07\\x08Od\\x0eA\\x17N:*ER,Tt\\x07\\x08\\x1c\\x00\\x06O\\x0bbTM\\x1a\\t\\x0bHW5\\x1d\\x1a\\x07\\x121-I\\x00\\x08\\x1a0\\x1d^R\\x08S\\x00\\x08\\x00\\x031yM\\x1a\\x1a\\x17Yb\\x00\\x0eN\\n\\x05\\x01\\x1d\\x10T\\x11R\\x08', b'\\x0bN\\t\\x06\\x7fTt\\x1b3\\x1c\"I\\x0e\\x01\\x16O\\x00N1\\nGU\\n\\x1d\\r\\x0b\\x136\\x1c\\x0eM\\x03\\x1d7\\x1dz\\x16\\x06\\x14T\\x08\\x1d\\x1a%A\\x0c_\\x186FU\\x01\\x06\\x05\\x1c\\x04\\x13\\x01\\x0fW\\x00\\x17/\\x1b&\\x0b\\x00S\\x1b\\x00\\x06NnL\\x1aV', b'\\x0fe\\x00\\x05I\\x0b\\x0bNOE\\x0e\\x19IA\\x1a\\x19\\x0cE\\x00\\x140\\x1a0\\x1d\\x0e\\x16T\\x0c\\x16\\x0b#EMW\\x1cE\\x00GE\\x1c\\x1b\\x08\\x0e\\x00\\x14\\x1b\\x00\\x15\\x029\\x13;\\x1f\\x02\\x01\\x18\\r\\x1a\\x07+\\x00MR\\x11\\x1c\\x00O\"\\x18\\r\\n\\x15R\\x0b\\x01A', b'\\x02Rd\\x08\\x00\\x17\\x1dxT^\\x1c\\x06\\x17\\x13\\x0c\\x01N0A\\x0b\\x1a\\x0cECO\\x11\\x18\\x02I\\x15\\x19\\x1c\\x1dE\\r$4\\x135\\x17\\x14\\tT\\x06\\n\\n I\\x0cT\\x00\\x12ENE\\x03NI\\x15\\x06dcEI\\x10,T;\\x1cGS\\x1c\\x1aO\\x07;', b'\\x1f\\x06&\\x1aHA\\x190\\x02(IY\\x04\\n\\x1cI\\x00RNI*Ex1\\x01t\\x17\\x0e\\x07T\\x0cA\\x07 \\x00\\x0cS\\r\\x0bLE\\x1c\\x1c\\x01\\rA\\x13\\x00\\x1bA\\x11\\x1cy\\x1d6Rm\\x10X\\n<70\\x00\\x02R\\x1fE\\x00T&\\x0e\\x0f\\x05\\x15R', b'O\\x00\\x07F:\\x14Ii\\x10\\x0b4T9\\x06\\x02\\x03\\x1a\\x1d\\x1b\\x03\\x11G+U\\x1boTL\\n\\x02\\x1dI\\x0c\\x1d\\x0f\\x07K\\x17\\x164Tt\\x1b\\x11S\\x18\\x1aH\\x056\\x00M\\x1a\\x06\\nI\\x07\\x04O\\x06\\x06\\x0e\\x17\\x17\\rA\\r\\x059\\x1d;\\x06\\x1e\\x1c\\x11\\x1d', b'\\x13GS\\x07\\x00\\x16\\x026SMV!\\x0b\\x00\\x07\\r\\x0b\\x06\\x01\\x18\\x1d\\x01\\x06UE;v\\x15t\\x0bGy\\x11\\rO\\x07\\'\\x00MS\\x1f\"NI\\x07\\x06\\x0bI\\x00\\x1b\\x1a\\x08yB\\x16,7:\\x01GS\\x01I\\x00\\x176I\\x05T\\x04\\x08\\x00\\x00\\x10O\\x06', b'NT\\x00O\\x1aI\\x00R\\x1a\\x19AE^7\\x075R\\x06\\x16TI\\x00\\x1c1*M\\x1a\\x00\\r\\x00PoC\\x17\\x1a\\rR\\x02\\x0eN\\r\\x1e?\\x1a-\\x19\\x14\\x1c\\x19\\n\\x07\\x00-\\x00\\x14\\x1a\\tEOD\\x06Od\\x1cAR\\x1a\\x00D\\t\\x17>\\x1d0\\x10\\x06', b\"<\\x1c7\\x1f\\x13y\\x0e\\nO\\x01bWM\\\\H\\x16TNE\\x07'\\rAR'\\n*E\\x13+\\x11\\rRK\\x03\\x18\\x08\\x06\\x07eY\\x18\\x1aOEE\\x00\\x0b\\x0eN\\x08\\x05\\x07\\x08N*\\x10\\x11x\\x1b;\\x05mT\\x15\\x0f\\n\\x1ab\\x00MO\\x1c\\x00OT\", b'\\x1a\\r\\x16YI3\\x16\\x01\\x05\\x125\\x07\\x1dF\\x0b\\x170T;\\x17GS\\x13cH\\x0fH*\\x03N\\x1a\\nN\\x00\\n\\x0eN\\x02\\x13RN\\x0cAE\\x06x\\x1ct\\x06m\\x07TE\\x0e\\x1d\\x11S\\x0cI\\x0b\\x08Ay\\x17\\x01\\x1bI\\x04\\x10\\x17\\x06NE\\x00!T', b'iE\\x06x\\x1a5\\\\\\t\\x16\\x07\\x06\\x03\\x06bOM[\\t\\x0bACo\\x00=\\x04\\x0f;:\\x0eY\\x03\\x077\\r;R\\x15\\x16\\x18\\x08\\x1bN.T\\x05[\\x01\\x08IyE\\x03N\\x1aA\\x1d\\x0b\\x05T\\x11\\x176\\x1b1\\x16\\t\\x11T\\x06\\x00\\x00)*M\\x1a\\x0e', b\"eM\\x0c~O\\x0b\\x00T\\x11\\nO\\x05\\x04UNcT\\x0b\\x17<\\x15e\\x1d\\x12STN\\x07N.EJ\\x1a\\x07\\x0biHEO\\x00\\x01k\\x1d\\x06\\x0c\\x00\\x11\\x1b;\\x1b^\\x17@\\x07\\x13IO\\x02'OMT\\x1dE\\x00K\\n\\r\\x01\\x1cM\\x0b>\\x07c\\x10\", b'\\x1f\\x07\\x1ajE\\x1bR\\x06tUGS\\x1a\\n\\x0b:bYM\\x1a\\x06HDP\\x04\\x1b\\x03\\x0ck\\x17\\r\\x05G\\x10S;\\x1d5\\x01\\x03\\x169\\x07\\x06N\\x05T\\x03\\x16\\x1d<N\\x19I\\n\\n\\x1dA\\x02\\x1c\\x1cAE\\x16+\\r-\\x1d\\x00STI\\x03\\x01-N', b'I\\x04\\x17bH\\x010\\x07\\x0cS*\\x07O\\x0f\\x00\\t\\x1bN\\x10SE@x\\x11:\\x13G\\x016I\\x1b\\x02+\\x00M_\\x06ET\\x00E\\x00\\t\\x1a7\\x17\\x07\\x0c\\x00E\\x1d<Dt\\x06\\x08\\x1b\\x19IC\\x1ebT\\x08SHEYI\\x01,\\x03\\x08\\x16\\x1f\\x05', b'\\x1c\\x0cA6\\x0f\\x05i\\t\\x06x~1x\\x12\\x00\\x11\\x1a\\x04\\x0f-F@V\\x1aEKL\\x00\\x1adIA\\x00\\x1e*\\x00\\n\\x057\\r2\\x04GS=\\x1b\\x01B\\x0bT\\x18\\x1aH<TN\\x00\\n\\x0cIA\\x10\\x06\\x08N\\x08\\x15t\\x11=\\x1d\\x12\\nT\\x0c\\x16', b'\\x0eS\\x1d\\x0c\\x1d\\x0feSMN;EwS\\x16ON\\x00FR\\x1bZU\\x06\\x17=\\x1ds\\x06(y\\x13\\x05\\x1d\\x01;\\x00\\x04J\\x07\\x17I*\\r?\\x03NAU\\x1cIM\\x0c=1StR\\x06:\\x17\\x08\\x00\\n%U\\x02\\x1aH\\x00MSEeNI', b'N\\x12\\x01\\x1d\\rF\\x1fN\\x0fO\\x08x0\\x11=\\x15\\x08\\x17T\\x05\\x01N!A\\x0b\\x1a\\x03\\x16\\x00V\\'\\n\\x1d\\x06\\x0c\\x17d\\x07\\x00\\x10\\x17651R\\x06S=\\x04\\x0e\\x03\\'SLT\\x1c\\tdC\\x06\\x03\\x1a\\x1cAR\\x1dIG\\x04\\\\=\\x1d \"\\x08\\x1e', b'\\x13<R\\x0fS\\x07I\\x02\\x02bO,CH\\x0bIKE\\x18\\x0b\\x028\\x19\\x02\\x0fA\\x00R!\\x11!\\x06G\\x11\\x11\\x19&\\x01!\\x00\\x0c\\x1d\\x04\\x17PN\\x02HN\\x19\\x08RNI\\x07E\\x0b9\\x1f1\\x1d\\x13\\x14\\x03\\x1d\\x06d-NM\\x1a\\x0b\\rLN\\x10', b\"\\x01\\x0cTA\\x04O\\x02\\x10\\x0e\\x06\\x01\\x07\\x00,U*T:\\x13\\x13S\\x1bE\\x0e\\x0bb\\x00\\x03U\\x1a\\x11\\x00*\\x04OB\\x07A\\x00\\x1e\\x02\\x00\\t\\x177T&\\x1f\\x0f\\x03\\x13\\x10\\x02\\x0fbB\\x1f^HISL\\r\\x1d\\x06\\n\\x11R\\ncOE\\x139X'\", b\"\\x0b\\x1e0\\r:\\x1d\\x02S\\x03\\x01\\x1b\\n;\\x00MVbBN\\x00\\x0cON\\x0f\\x02\\x14=\\x06UER6'6\\x1dG\\x07~\\x10\\n\\x1d#\\x00MI&\\n\\x00A\\x00\\x07\\x01\\x10\\x0f\\x1a\\x0b\\x00\\x00\\x04R=\\x11 \\x1d\\x0eS\\x18\\x1eOd,W\\x19CH\\x0c\", b'\\x07\\x08_H\\x01NT\\x08C\\x0b\\x01A\\x1d\\r\\x08I$R6\\x00 _.\\x01\\x00\\x05\\x0eNeA\\x03U\\x07\\tNY\\n<\\x07\\x06A\\x1c\\x1a\\x1aS\\x04\\x072\\x1a0\\x06\\x12S\\x10\\x06O\\rHN\\t\\x1aHENS6\\x0e\\x06\\x191^\\x06I\\x00&\\x11', b\"NI\\x00\\x06Rx\\x00;RGS\\x1d\\x1c\\x00\\x02'N\\x1d[\\x00E\\r\\x00\\x04O\\x17\\x04\\x05\\x1e\\x00\\x06W\\n\\x0bx\\x11,\\x1d\\t\\x03\\x15\\r\\x07\\x01'Z\\x03O\\x0fE\\x00R\\x1cO\\x1a\\x04\\x12+\\n\\x06A\\x08\\x06?T5\\x0b\\x0e\\x1f\\x18I\\x06\\x086OM\", b'\\x1b\\x1a U\\x19N\\x01\\x10LSB\\tN\\x07\\r\\x01\\n\\x05\\x00\\x00\\x07x\\x183\\x13G\\x00\\x11\\x05\\x0b\\x1a*NM[\\x18\\x0c\\x00\\x07\\t\\x1dN\\x1b\\x0f\\\\\\x07\\rS\\x0c\\x1f0T1;K\\x12T\\x06ON,E\\x05\\x1a\\x1b\\x1c\\x00T\\x04\\x0e\\x02\\x1d\\x14\\x1a\\x03c', b'\\x01\\t\\x13\\x1a\\x01H\\x0b\\x06=\\x1d7R\\x14\\x07\\x1bIO\\x0f.\\x00\\x1dq\\x01\\x0cNG\\n\\x01NIA\\x17N\\x0cNI\\x11(T1\\x17\\x00\\x1c\\x13ION6N\\x08[\\r\\x04\\x00\\x00\\x01\\r\\x1b\\x0c\\x15\\x16N\\x08*\\n^,\\x11-\\x0b\\x02\\x16\\x1a\\x08\\n', b\"\\x16\\x11\\n\\x1b\\x0b'\\x07\\x05N\\x0c\\x04YT\\x17\\x18\\x1d \\x18\\x1b\\x0cIN\\x0e\\x1e<\\x1d:\\x0b\\x0c\\x1c\\x1d\\x1bB\\x0f&\\x00\\x0cObE\\x00R\\x10OdckRIIV\\x04\\x00;\\x07t\\x17@\\x1d\\x1cIB\\x1a\\x11NMRHE\\x00TE\\x04\\x1aI\", b\"EO\\x05\\x00ARNI\\x00\\x00\\x077\\x15;\\x17\\x06ST\\x1a\\n\\x0f-E\\x04\\x1a\\x1aEIE\\x13\\t\\x0bD\\x15R'\\x1dN3\\x132\\x1b3xm  \\x0eO\\x01'RC[\\x07\\x04LR\\x01\\n\\nDA\\x1d\\t\\x0eA\\x07\\x06,T6\\x0bG\\x1c\", b'6\\x14G\\x1d\\x13\\x04\\x02\\x0f/\\x00\\x1eO\\x1a\\tD\\x00\\x06e\\x1a\\x08\\x0f\\x11N\\x1aT\\t_6\\x111RKST\\x1aH\\x07)A\\x1fU\\x07\\rns\\x11\\x07\\x0b\\x1d\\x0fRNINI\\x1c7\\x11!R\\x08S=IO\\x016O\\x05R\\x05\\n\\x00F\\x0b', b'\\x00LOB\\x06\\x07\\x10\\x0f\\x0b\\x17\\x0c\\x00\\x0cRx\\r5x\\x02\\x07\\x10\\x02\\x02\\x1a*\\x00@\\x1d\\x18\\x17Y\\x00*e\\x0f\\x04\\x0f\\x01\\x00\\x0cC\\x13R7\\x005\\x17\\x13\\x1a\\x17\\x00edb\\x00\\tTH\\x17DN$O\\rcAR\\x17\\x08A\\x00\\x0b5\\x01x', b'\\x1e!\\x12t\\x00\\x0cS\\x10I\\nN&N\\x190H\\x0bsNEON\\x10\\x08\\x13\\x0fI\\x0cE^7\\x1a<!\\x1eS\\x13I\\x06N)I\\x19M\\r\\x17RT\\x02\\n\\x1aNk\\x06\\x1dIG\\x15\\x179S:\\x05\\x08y\\x03\\x0fC\\x1a6\\x00MO\\x06E', b'\\x01\\x1aH\\x04LE\\x01O\\r\\x05\\x15\\x1dI\\x01i\\x11R,T$\\x1f\\x08S\\x17\\x1d\\x01=bTMO\\x07EP\\x00\\x06O\\x1d\\x05\\x03\\x1b\\x00\\x01\\x00\\x15\\x06=\\x1d<RGK-\\x0c\\x00\\nbIMT\\x1c\\x1cAM6\\x07\\x1bIAR\\x06\\x10S\\x0e1', b'IG\\x08\\x1e1X&;\\x08\\x1f\\x1c\\x07O\\x0beH\\t[\\x1c\\tAN\\x17\\nN\\r\\x00+\\x1c\\x19\\x07E\\x1f9\\x1d;\\x01\\x13\\x1f\\x01\\x07H\\x0b;P\\x01\\x1d\\x06\\x11A*\\\\\\x00\\x02I\\x0e\\x06\\x1acCE\\x06+\\x115\\x1b\\t\\x14\\x12\\x0f\\n\\x01+Y\\x02', b'd+E\\x01_H\\x10\\x00N\\x0c\\x0eI\\x08A\\x1f\\x0b\\x08G\\n\\x133T<\\n\\x1eS\\x19\\x06\\x16\\x1c0P\\x14]\\x1c\\x08OO\\x04\\x16IIA\\x1d\\x07\\x0cSBR6\\'t\\x07\\x0b:\\x1a\\x06\\x0c\"\\'B\\x04\\x1aH\\x1cTK\\n\\x1a\\x1b\\x08\\x14\\x11N\\x04', b\" \\x00NIS\\x08\\x15:\\x17:\\x06\\x13\\x07\\x07I\\x16\\x00'\\x00\\x14_\\x1b\\x1cPO\\x08\\x1c\\x1b\\x00\\x00\\x17\\x02IHD\\x1bx\\x04t\\x1bG\\x07\\x13\\x1c\\x01\\nb\\x00\\x01^\\x07\\x0c\\x07\\x00EHN\\x01\\x04R\\x0b\\x04W\\nR=\\rt\\x1c\\t\\x01TI\\x02\\x0b\", b\"T\\x05e\\x1abAM_\\rB\\x07\\x00E\\x1b\\x07I\\x02RdI\\x00\\n\\x1f1\\x015\\x1dG\\x1d\\x17I\\x0e)'\\x00\\x03CH,NL\\x17\\x07INA\\x1c\\n\\x00\\x00E\\x1c*\\x1d7\\x06.\\x1a\\x00\\x1dO\\x0b'N@\\x1aHoKKE\\x1c/\\x1cA\", b'\\x1d\\x1d>\\t\\x15\\x00\\x02G\\x15^+\\x139\\x13\\t\\x1f\\x11[&\\x1a+M\\x08[H\\x0eNCB\\x1b\\x0f\\n\\x0e\\x06dNO\\x11\\x11\\x7f\\x1d-\\x17\\x15S\\x16\\x06\\x00\\x05\\x0bSM_\\x1c\\x04\\x00c\\x0bO\\x01\\x1aM\\x13BDB\\x08>!\\r^\\x13G\\x00\\x1b'], 13: [b\"\\x1di\\x01CM\\x11\\x11\\x1a\\x05Eb\\x1d\\x7f\\x0f\\x06\\x0b\\x0f\\x0c\\x1d\\x1f\\x010\\x02;\\x10\\x0eNM\\x01:A\\x01\\x07W\\x1d\\x13\\x1dN\\x00b\\x07=N\\x18\\x11:\\x06R\\x1b\\x06N\\x04x\\x00FN\\x0b\\x05$*\\x02AG\\x1bT\\x06N\\x1c1\\x011'OH\\x0fG\\x17;\\nN\\x07\\x0bEkEMI1MIYE\\x13\\x1a\\x1d\\x1dE \\x119\\x0fO\\x1c\\x07G\\x1bR\\nC\\x06\\x1d\\x11\\x13\\x07\\x08\\x081*\\x01\\x00\\x009\\x1bI\\t\\r%S7\\x14?\\r\\n\\x06\\x06\\x13\\x02\\x1dH\\x1fB\\x00A\\x01\\n0\\x00\\x08\\x00STT\\x04N\\x045\\x07;7\\n\\x07\\x03\\x08\\x1c\\x13\\x00T\\x1aR\\x15\\x15CM\\n1C\\x06SB\\x01\\x11\\x04dE'T?B\\x01\\x1bN\\t^\\x0b\\nR\\x06\\x1d\\x07\\x05I\\x05\\x00=A\\nM\\x00\\x1c\\x1d\\x10\\x0f\\r+\\x1c9NOH\\x0b\\x06\\x11\", b\"Be\\x163\\x07O\\x04\\x17G\\x066BI\\x1d\\x00\\x17FE\\x19I&i\\x10\\x00S\\x03\\x17\\x19\\x0bBbS+\\x07\\t\\x01\\x06\\x14RU\\x17\\x1a\\x0b\\x17E\\t\\x00\\x00\\x1a5E\\x00sATTI\\x0b\\t\\x11S3\\x01O\\x1b\\x1c.\\x1fR\\x04[H\\x13\\x06\\x0fGMN:O\\x0cIT6\\x11\\x0ed\\x17#y7\\x1c\\n\\x07\\x07G\\x1f\\x1d\\x04]O\\x1dD\\rY\\x03\\x08,O\\x02\\x00R\\x18TI\\x00Ee\\x162-\\x00\\x07\\x1aGR\\x00\\rM\\nR\\x15AN\\x01\\x1a&SI\\x00\\x00\\x19\\x1a\\x00NE\\x0b\\x070\\x1a\\x03\\r\\x17@\\x00\\x17I[\\x00\\x06I\\x04N\\t\\rtGIdIX\\x1fc\\x06I'S=\\x0bOH\\x0bm\\x06\\x13\\x17\\x1aO\\x16\\n1KME-A\\nYO\\x1b\\x11\\x08\\r\\x006S=\\x06\\x0e\\x0b\\x01\\x1e\\x13\\x11\\x10C\\x02\\x10&ATM\", b'\\x1f\\x1fES\\x04\\x14\\tAO\\x05\\x0ct\\x00\\rLA\\x07XI\\x02\\x106S:\\x1aC\\r\\x01G^5B\\x1a\\x03R\\x13\\x04Tg\\n;*\\x00DO\\x11\\r\\x0cN\\x0b0\\x17,N\\x18\\x1c\\x03\\x13\\x13\\x1d\\x0c_\\x00_\\nA\\x00\\x08c3L\\x04NAT\\x1d\\x01\\x03Eb\\x016\\x1c\\x1a\\x18\\x0b(^\\x19\\'OA\\x06E\\x0c*\\x14\\r6H\\x1aN\\x00\\x18\\x11NN\\x0c7\\x16(\\x17Ob\\x07\\x03\\x131EU\\x1d\\x04\\x13\\x0e*\\x19\\x061\\x00\\rPP\\x18T\\x0c\\x0b\\nb\\x1c2\\n\\x0e\\x0f\\x05m\\x1fRE[\\n\\x17\\x04A\\x19C\\x08tN\\x1cT\\x00\\x18SIN\\tb\\x109\\x1aOH\"GRR\\x06\\x1aO\\x05\\x08My\\x05\\x021*\\x0c\\x00N\\x18\\r\\x0eNE6St\\x17\\x18H\\x1aG\\\\R&\\x1a\\n\\x06E\\x14\\x00\\x19I0\\x00\\x1cOO\\x1bTc', b'MI6N\\x0cL\\x00\\x1d\\x12\\x08\\x1d\\x04HS1\\x14OH\\x02\\x02\\x15R\\x08_OR\\x15\\x12SM\\x067T\\x05YE\\x1a\\x15:\\x0f\\t\\x16\\x00x\\x19OHN\\x08RRE[\\x1b\\x13\\n\\x18\\x00\\x14I \\x00\\r\\rM\\x13\\x18\\x1a=\\x0c+S<\\x00\\x1b\\x1a\\x0bG_6\\x00\\x1d\\x16\\x06E\\x15VM\\x0c!\\x07I\\x00P\\x11\\'I\\x17\\t\\'\\x03xd\\x0e\\x18N\\x15\\x11REO\\x06\\x013\\x12\\x00\\x1f\\x082C\\x08IIT5\\x01\\x01\\x17;S7\\x07\\x06&\\n\\x14\\x07\\x1c\\x0bO\\x00\\x06\\x0c\\x04y\\x08\\x1d^V\\x19NR\\x00DI\\x05<b\\x011\\x1d\\x03\\x1c\\nm\\x0b\\x06\\x04^\\x0c\\x01\\x04\\x04D\\t\\x1d;A\\x1aAET\\x1b\\x08BE\\x11\\x05+\\t\\x0eH\\x01\\x00\\x15R\"\\x1aC\\x1c\\x04ATM\\x0f;O\\x08\\x00WT\\x1dI/\\x006\\x00!\\x03\\x01\\x0e', b\"\\x0b\\x1c\\x00eS!d\\x01H\\x1a\\x0f\\x1e:\\x04_\\x16\\x1d\\x08\\x00TM\\n;G\\x05LT\\x07\\x1d.O\\x04*S7NO\\x1a\\x01\\x12R\\x1a\\x160\\x01\\x15\\x11\\x00K\\t\\x1d:G\\x01N\\x00T\\x00I'E+Sx\\x0b\\x00\\x01N\\x12\\x1e\\x16\\x04\\x1aO\\x13\\t\\x13L@\\x0cs\\x0cI\\x00TT\\x11\\x19\\x1d\\x110y6\\x02C\\x07)K\\x0b\\x06\\n[eRI\\tH\\x0c\\x1a5N\\x07TAT\\r\\x0c\\x1b\\x17)\\t6\\x00\\x1c\\x04\\x0b\\x11\\x17\\x1d\\x07I\\x01\\x19\\x04A\\x00\\x03\\x06tS\\x1eINT\\x1bI\\x06<'S<N\\x06Hd\\x02=\\x06ET\\x00RE\\x0e\\x07\\x1f\\x06:\\x00\\x01ON\\x00\\x1b\\x06\\x01\\x08,\\x026N\\x0e\\x1d\\x1aG\\x16\\x1d\\x00SO\\x0b\\x08AO\\x02\\x0f;GI\\x00N\\x12\\x1dc\\x1b\\x08,\\x01>\\x06\\x1c\\x1c\\x08G\\x00\\x1a\\x0c\\x1a\\nR\\x10\", b\"\\x0f\\x0e\\x1eR\\x12\\x1a&R\\x08FA\\x01\\x00:SINA\\x0e\\x00\\x02\\x01\\x10+\\x16=\\x1d\\n\\x0c\\x01G\\x07\\x17\\x07O\\x0ex\\x0cAS\\x19\\x0c=iIIH\\x1aT\\x08\\x06B'\\x166d\\x07\\x00\\x1aG\\x07\\x06oqO\\x1d\\x0e\\x00P\\x04\\x06:T\\x0bK\\x00T\\x1dI\\x02\\x16b\\x07!\\x1c\\x02\\x1a\\x1cGR\\x17oU\\x0eR\\n\\x0e\\x00M\\x1d;N?i\\x00\\x15\\x1d\\x1d\\x1aE)\\x147\\x00\\x1c\\x07N\\x14\\x17\\x1b\\x1c\\x1dH\\x1b\\tAIM\\x1c-SNEZ\\x16\\x1c\\rN\\x086\\x1d;I\\x0e\\x1d\\x01\\x08\\x1dR\\x01\\x1ae\\x1f\\x0ckNL\\x0c6\\x07IIB\\x1a7\\x00NEH\\x1ax\\nO\\x0bNG\\x17\\x16\\x10TB\\x1cEAb\\x08I&Nc\\x00U\\x03TI\\x1bE-\\x149\\n\\x1a\\x04d\\t\\x17^EO\\x06\\x13E\\x14LM\\x087cI*N\", b\"\\x02N\\x01\\x06<G\\x07TE\\x07\\rI\\x1a\\x01byx\\x00\\x16\\x01\\x07\\t\\x06\\x1c\\x11NOU\\x00A*\\x1eI1\\x00IwN\\x13\\x11\\x01\\x1c\\x0be\\x03*\\x0b\\x0bb\\x00\\x06RRE[&\\x17\\x00\\tC\\x1dIeN\\x1eDE\\x00\\x11\\x1a\\rE*\\x16=\\x0f\\x18\\x03=\\x0eR+\\nU\\x16\\x0bE\\x00P\\x03I\\rW\\nNN\\x10\\r\\x0c\\x07\\x0b&:;'\\x1d\\x06\\x07\\x06\\x05\\x01EJ\\x06\\x17\\x10\\x03E\\x0c\\x07t\\x00IN\\x00\\x13\\x1a\\x1aIE'Sx\\x07\\x16\\x01N\\x13\\x1bRE\\x16ORE\\x0fU\\x18\\x00;MNES-\\x1dI\\x02\\nb:,\\x0bH\\t\\r.\\x11+\\x0bIO\\x06\\x11\\x15CMI5ADYT=\\x1b\\x08\\r\\x1c%y,\\x1d\\x07\\x1fd\\t\\x05R\\nTO\\x1c\\t1KMI^N\\x1dY*\\x1a\\x1d\\x07\\x1aI-\\x1c\\x08\\x05\", b'\\x1f\\x13I\\x00\\x0c+S0NOH\\x1a\\x13R\\x153NO\\\\\\x0b\\x02T\\x05It\\x00\\x0eS\\x00\"~\\x0c\\x19E&\\x170I\\nH\\x0b\\x02U\\x1f\\rV\\x16R$\\x02N\\x1d[;\\x00\\x1dA\\x00\\x06\\x15I\\x1dH-\\x1cxN\\x1d\\x1a\\x1a\\x0e\\x17\\x13\\x11\\x1a\\x01\\x17\\x00\\x00L\\x03\\x06tU\\x00\\x00A\\x17\\x11\\x06\\x0f\\n*\\x167NC\\x07\\x0fGSR5_H\\x16\\n\\x0fG\\x04I5\\x00\\x05L\\x00\\x01T\\x02I\"#\\x07?\\x1a\\x07O\\x01\\x15\\x06\\\\\\x16[OR\\x11kR\\x03\\x0e^\\x00\\x1dFT\\x17\\x13I\\x1a\\x12\\'KyN\\x00\\x06\\x0f\\x0b\\x16\\x1aE\\x1aO\\x06\\x10\\x12c\\x0c\\x06sT\\x0cHO\\x1c\\x01\\x1c\\n\\x17bS/\\x06O\\x11\\n\\x08\\x10R6R\\x06\\x1b\\r\\x11K\\x05\\x1etD\\x19K\\x00\\x18\\r\\x06\\x025)\\x16x>\\x04\\x1c\\x01GR\\x1f\\x0bV\\x16', b\"O\\x01dG\\x1e\\x00\\x00_e\\x1f\\x06\\tI\\x19\\x065H \\x00\\x07\\x1f\\x06Id\\x0c/\\x1cx\\x17\\x0e;N\\x06x\\x1d\\x04CO\\x06,A\\x07MI5IITN\\x11T\\x05N\\x0b.T<\\x0c\\x00\\x06\\x0f\\x08@\\x11\\nV\\x02\\x1d\\x06\\x08O\\x0b\\x1dtA\\rT\\x00\\x19\\x15\\x06\\x1b\\re\\x1d+\\x00\\x1b\\x1a\\x1aG\\x07\\x17I\\x1aBR\\x10\\x15WM\\x1az\\x00\\x04\\x00\\x00\\x13\\x13\\x07\\x1d\\x0b!\\x1f4\\x1e\\x16\\x1f\\x1dG\\x1e\\x1c\\x17\\x1a\\x07\\x17E\\x0fE\\x05I;\\x00cTT \\x1d\\x0c\\x0b6\\x0b\\x1a9\\x1c\\n\\x00\\x03G\\x1cR\\\\\\x1a\\x02\\x07B\\x0f\\x00\\x14\\x067*\\x04\\x00ST1\\x05\\x1bE'\\x1d=\\x1c\\n\\x1a\\x1e\\x08\\x17\\x10$R\\x00\\x05IAM\\x02\\x1d5A\\nTI\\x18\\r\\x00\\x06ob\\x1f!\\x17\\x0eH\\x00\\x02\\x1e\\x0bES\\x03\\x0b\\x11\\x16F\\x1a\\x0cxAI\", b\"\\x13\\x0b T\\x08\\x057\\x00>YU\\x11\\x1a\\x01\\x07\\x0b'TRNO\\x07\\x0f3\\x06\\x0bEN\\n\\x1c\\x08\\x15Y,\\x079\\x00\\x08\\x00\\x00\\x07\\x07\\x08\\x07\\x16'\\x1f0\\nO\\t\\x0fJ\\x17\\x1b\\x16\\x1a\\n\\x07E\\x0fU@\\x020U\\x10CA\\x17\\x01\\x0fNobSv=\\x1c\\x00NG\\x13\\x1eBN\\x0b\\x1b\\x03ALJ\\x1btGDH\\x00T\\x1d*\\x0fE;S4dO\\r\\x01\\x13\\x16\\x00\\x04S\\n\\x1b\\rAL\\x18\\r-A\\x1bTT\\x13T\\x0cdE\\x05 0\\x07\\x07\\x18B\\x13\\x02U\\x02T\\x0eR\\x11\\x08*M\\x10ty\\x10\\x07\\x00\\x10\\x1dN\\x1a\\x04\\x11\\x12:\\x0b\\rD\\x02@\\x13\\x02\\x01\\x1aCR\\x00ANM\\x08:E\\x1cA\\x00\\x03\\x11\\r\\x06\\x1c6S=\\x1a\\x0eH\\x1a\\x0e>\\x10\\x04\\x1a\\x00\\x0b\\x08MT\\x0cI6T\\x08\\x00LT\\x01\\x01NE;\\x1e\", b\"N\\x07T\\x1cI\\x1d\\x16 \\x16x\\x1a\\x02O\\x0b\\t\\x1bR\\x080\\x02\\x1b\\t\\x0fOMI^O\\x05IO\\x1cT\\x07I\\x0b;\\x077\\r\\x1bH\\x02\\t\\x17\\x01\\n[O\\x10\\x0b\\x18\\rM\\x1atS\\x08GF\\x10\\x1aZNE!S1\\x02\\n\\x1b\\x0b\\x1e;\\x14\\x08\\x1a\\x0e\\x1dE\\x05C\\x03\\x05tYICE\\x1d\\x1b\\x05\\x0b\\x0b+S7\\x1ee\\x1c\\x01\\x1e$\\x17\\x06S&\\x01\\x17AOM\\x10tN\\x06NY\\x15\\x1d\\x0cN\\x0c.\\x1c,\\x06O\\tNm\\x1a\\x17\\x11_\\x01\\x17\\x15AT\\x0c\\x04<A\\x19A\\x00\\x13'\\x08\\x01\\x0c-S*\\x08O\\x1c\\x1dK\\x1c\\x1d\\x01_O\\x17EARMI!WID\\x00\\x17Sc\\x1a\\x1c0\\x14+\\x17\\x1dH\\x17\\x0eRR6\\x1a\\n\\x0b\\x08\\x04T\\x0c\\x06-M\\x1c\\x00UTT\\x10\\x03\\nn\\n5\\x0be\\x06\\x07\\x081R\\x10\", b'<N\\x1d\\r\\x1aG\\x06\\x13\\t~\\x1bREA\\x07\\x01\\x04ti\\x10NS\\x10T\\x0f\\r(b\\x1f4\\x01\\x0e!\\n\\x13^\\x1dE\\\\\\x00\\x13\\x0b\\r\\x00MI\"T EYTT\\x10\\x1a\\n-\\x070\\x1bO\\x0cN\\x08x\\x19\\x17U\\x0e\\nE\\x02OM\\x055*\\x04N*\\x11\\x15\\x0eN\\x11.\\x1c=\\r\\t\\t\\x02K\\x1d\\x00*W\\x1d!\\r\\x0c\\x00\\x0c\\x19;K\\x07O\\x00~\\x04\\x0e\\x07,e\\x03\\x7fN\\x1d\\x03N\\x00\\x1c\\x1d\\x10U\\x06x\\x087s\\x0c\\x1b5\\x00NRI=\\x1d\\x1bN\\x116\\x036\\x1a\\x07\\x07\\x00\\x12\\x1c\\x07\\x1c_\\x0e;EA\\x00MIt\\x00\\x1dLy\\x19\\x11\\x0f\\x0c\\x17+:9d\\x03\\x1c7\\x13\\x06\\x17\\r\\x1a\\x00\\x1d\\nAS@\\x0f5BI\\x00UT\\x11\\x10\\x01E7S,\\x1d,\\x05N\\x12\\x0bREOO\"\\x0e\\x15N\\x02\\x1d\\'', b\"\\x1a\\x1b\\x1dE\\tY\\x0c\\n8j\\x00zH\\x13T\\x05\\x07\\x0beSxNO\\x02\\x02\\x08\\x0b\\x06\\x0cV\\x1b\\x06EA\\x00M\\x1c9F\\x07GO\\x1b\\x19c\\x1d\\x00bS,Ne1\\x0f\\x02\\x14RE\\x1a\\x01\\x1fE8N+E<U\\x0fP*\\x00\\x01\\n\\x17\\x0eH\\x00x:\\x01\\x06N\\x0c\\x1d\\x17\\x13\\x1a\\x1bR\\x03A\\x00M\\x05<E\\x06P\\x00\\x11\\x1d\\x07B\\x08'\\x07x\\x02<H\\x07\\t\\x11R\\t\\x1a\\x1b\\x17\\x00kR\\n\\x073\\x00\\x1anA=\\x00\\x1b\\x03\\x17 S=\\x00H\\x06\\x05\\x0fR\\x1b\\x00^\\x07\\x06E\\x05RME1\\x00\\x1a\\x00*\\x13\\x07\\x1a\\n\\x041\\x1b7\\x01\\nH\\x07\\x06\\x17\\x06\\x06T<\\x1dE\\x0eL\\x04I W\\x1cNN\\x15TD\\x1b\\x1c-\\x11,\\x1d\\rHN\\x00\\x06\\x01\\x01R\\x06\\x1d\\x00\\x15SM\\x1a S\\x05LY\\x11X\\x04\\x06\\x0c\"], 9: [b\"\\x1d\\x13\\x0e\\x16T\\x06\\x04\\x1a+\\x00\\x0c_HEYAB\\x02\\x1a\\rA\\x15\\x14\\x05H\\x08\\x1dR\\x00&\\x1b\\tS\\x10IO\\x02/TMN\\x0cBI*B\\x0e\\x19\\x05A\\x1dN\\x1d\\x00\\x0cR7\\x11;\\x13\\x02\\x00\\x1bI\\x01:'H\\x00[b\\x0bENEeN\\x01F\\x1bdIS\\x00\\x130\\x15 \\x1f\\x08S\\x1b\\x02O\\x1c!E\\x08U\\x1a\\x0cPO\\x04ON\\x0b\\x0f\\x14\\x0f\\x01*\\x00_x\\x15s\\x0bG\\x076\\x05\\x16\\x0b.AM\\x1a\\x1a\\x11YLo\\n\\x0b\\n\\x0c\\x00NIE\\x10\\x0b9\\x1d;\\x1d\\x1e:\\x18\\x19HN'\\x00\\x0cC\\rE\\x00OEO\\x07\\x05\\x12R\\x1e\\x0c*\\r\\x172\\x1dt\\x04\\x00\\x07T\\x07\\x07\\x0b%TMM\\tEPs\\x16\\x06\\x03cA\\x13\\x07\\rS\\x15\\x1b2\\x1d^\\x06\\x0f\\x1aT\\n\\x0e\\x01\\x0b\\x00\\x18[\\x07\\x12NR\\\\\\x06N\\x10k\\x17\\x08INE\\x161\\x077R\\x08\\x12\\x1a\\rO\\rby\\x0c^HEOC\\x01O\\x06I\\x15Rd\\x1cAE\\x176\\x11:\\x1cm\\x14=\\x02\\x00\\n\\x11N\\x02S\\x1b\\x1c\\x00K6\\x07NI\\x11R\\x1d\\x00G\\x07>9\\x11-\\x1cGS\\x18\\x0f\\x06\\x00,\\x00\\x0cO\\x0b\\nY\\x00E\\x04/\\x05\\x16\\x1aN\\x01c&1\\x08T'\", b'BNNE\\x1d\\x00\\x0c\\t\\x00d\\x1a\\x00\\x08\\x06x\\rtR\\x13S\\x13\\x06\\x16\\x0f\\'A\\x190\\x01\\x10NT\\x08Od\\x05\\x0e\\x0b\\x1d\\x19O\\x00^4~7\\x06\\x06S\\x1d\\x07\\x0e\\x06;Ng\\\\H\\tG\\x07\\x16\\x18\\x07I\\t\\x01\\x0b\\x0cT$R,T:xJ\\x16T\\x1a&\\x03-\\x00\\x14\\x1a\\x06EAUoON\\x1eA\\x19N\\x1aU\\x06\\x1e1\\x01:\\x13\\x1e\\x16T\\x05\\x01\\x0bH\\x00@N\\x00\\x16IC\\n\\x1aN\\x00\\x15\\x17\\x00\\x19M\\x03R7\\x1b\\r\\x06K\\x16\\x11\\x05B) \\x00M]\\x1c\\x0bN\\x005\\x0eB\\x04\\tRd\\x1dO\\x17\\x05(\\x045\\x01\\t\\x1fT\\x08\\nNeY\\x0cU\\x03\"IR\\x17\\x1c\\t\\x1bA\\x00\\x06\\x1a\\x00\\x08\\x067\\x00;\\x19\\x06 \\x16\\x1a\\x01NbI\\x03O\\x066IA\\x02\\x0eN\\x19\\x0fR\\x1aIVE\\x1c<Tt\\x1f@S-\\x08\\x0e\\x0fb*\\x14T\\x07\\x04IN\\x01HN\\x1d\\x12\\x06\\x01\\x05\\x00\\x15\\x13x\\x1f!\\x06G:\\x1c\\x1d<\\x1e,BMTH\\x1cYy\\rOB\\x1cA\\x1dB\\rN\\nR,\\r5\\x1b\\x00\\x11\\x18\\x0f\\x06\\x1a-O\\x0cTHEKT\\x01\\x0e\\x1b\\nM^\\x06\\x10NE\\x0bx\\x1d \\x0bG\\x1cT\\x08\\x02\\x07-O\\x02V\\x0e\\x0c', b\"\\x1f<\\x136\\x1dGS\\x11\\x05&\\x17 E\\x05~H\\x04zI\\x04\\x06\\x07IFR\\x00Ii\\x0b\\x15x\\x06;;3\\x16\\x03IO\\x01b\\x00MV;\\x04\\x07Y\\x07\\tII\\x04\\x1dI:F,R=\\x07=\\x17\\t\\x03\\x11I\\x16NbN\\tN\\tBs\\rE\\x18\\x1a\\x1d\\x18R\\x0cI*E\\x073\\x1ae_\\x08\\x1c\\x13E\\x02N1A\\x04[\\x1bENO\\x11\\x1b\\x17\\r\\x13;=IOER6\\x15t\\x06\\x0c\\x1dTI\\x0b\\x1c#E\\x03O\\t\\n\\x00\\x00IC\\x1dD\\x0e\\x1d\\x1e\\x0cH\\rSx\\x1dzRGS\\x15\\x08&\\x077\\x00\\x04OH\\x0bT\\x07\\x04\\x1c\\x00\\x06\\x031N\\x02C\\x00\\x1e6\\x1b-\\x1bG\\x1c\\x13\\x06\\x06\\x01;A\\x05I\\rEEN\\x11\\x16\\x0bNk\\x1c\\x00\\x0cSB\\x02;\\x1a<Rm\\x03\\x17\\x1d\\x07\\x03'SM\\x1a\\r\\x0cE\\x19\\x1c\\x00\\x05\\x1a\\x0f\\x067N\\x07I\\x1c,St\\x06m\\x1bT\\x06\\x1a\\x02HIMIH\\x17HD\\x06\\n\\x01\\x06A\\x16\\x0bcA\\x08\\x06/\\x1b \\x05GT\\x03IO\\x17%N@RH\\x1cTO\\n\\x0e\\x1b\\n\\x04R\\x17\\x10D\\x04\\x06!\\x1d=\\x0b\\tSTI\\nN)WMS\\x1c\\r\\x00L\\x10e\\x1a\\x1c\\x15\\x1f\\x03\\x04A\\x10\\x11\", b'M\\x1a\\x01\\x00CT\\x12O\\x1d\\x07A\\x13N\\x08j\\x06\\x1e\\x7f\\x1a:\\x00\\ty\\x07\\x04O\\x02e\\x07M0\\x07\\x10\\x00O\\x11C\\r\\x0e\\x12\\x06\\x17.A\\x08\\x07+T1R\\x13\\x17\\x1a\\x1cO\\x01b\\x00\\x19\\x1aH\\x0bD\\x00\\rO\\x1dI\\x00\\x1b\\n\\x08E\\x0bR,T;\\x13\\x02TT\\x05\\n\\x1a\\x11F\\x1d_\\x0cH\\rN\\n\\x00N\\x10\\x00R\\x02\\x1aLE\\x17<\\x01t\\x13GSTN\\x0e=b*\\x03\\x1d\\x06\\r\\x00EB\\x02dI\\x00\\x19\\r\\x06\\x07\\x03\\x076\\x1atRGS\\x10\\r\\x1d\\x0f\\'\\x00M[\\x1cEiY\\x06\\x1dN\\x07\\x0fR\\x02\\x07N\\x11\\x167Tt\\x17\\x03\\x03\\x01\\x08\\x1b\\x1d)\\x00\\x18\\x1d\\x07\\x0cN*\\x10\\x07\\x01\\x1a\\x0f\\x1d\\x14\\x0cS\\x15\\x1axT5R\\x14S \\x06HB6\\x00\\x0c\\x16\\x0f\\x11Fy\\x00\\n\\x06\\x08\\x08R\\x1a\\x08M\\x04\\x1cyD1\\x07\\x02\\x07\\x10\\x0c\\x00\\x1db\\x00M\\x1a\\x1c\\x04\\x00\\x07\\x00\\rNIA+\\x1a\\x0fT\\x04\\x17=\\x1b1RGS\\x17IO7bE\\x04R\\x1dEAb\\x17\\x1d\\r\\x0cAR\\tDA\\x08^=T-\\x0b\\tST\\x1eCNbN\\x05\\x1a\\x04\\x00\\x00K&,\\x02\\x08\\x15\\x0b\\x06\\x10TE\\x135\\x1d0\"G\\x00\\x11\\x0c\\n\\x0b;NM', b'\\x0bi\\x0b\\x1e3\\x1c<\\x14GS\\x1d\\ne\\x1abU\\x01IO\\x01L\\x073O\\x07 \\x00\\x1fN\\x02i\\t\\x06:TtR\\x08\\x1c\\x07\\x01\\n\\x01bO\\x1e\\x1a!EY\\x00\\x04ON\\x08AU\\r\\x01*\\x0bUx\\x195\\x15\\x06\\x1f\\x1a\\x1aO\\x000Y\\x1d[1\\x0bNN\\x16\\x07\\x0b\\x08\\t\\x1d\\x1bI\\x00E@xT0\\x1d.S\\x00c\\x0e\\x1a+*\\x0b\\x1aHoKG\\x08\\x18\\x03\\x04\\x006:\\x06\\x0cE\\x13!\\x11t\\x0b(\\x1c\\x17\\x0c\\x1b\\x1a0EJU\\x07\\x0bN**C\\x17\\x06\\x15\\x06\\x0f*ND$;\\x11;\\x16\\x15\\x07\\x13\\x1a\\x06\\x01)RMJb,L\\x00\\t\\x16\\x1b\\x01A\\x1b-\\x0c\\x00\\x13\\x1c?53\\x17\\x11S\\x13\\x1c\\nN\\'P\\x0c[&\\x17T\\x00\\x02\\x07NIAR\\n\\x1b\\x00\\x0cR9\\x1b0R\\x08\\x07\\x13\\x00\\n\\x00\\'RM\\x1aH\\x04\\x07NIO\\x02\\x1cA\\x1a\\x1d\\x1a*E\\x1c:7t\\x17.\\x10\\x19\\x06\\x0c\\x07\\'NM\\x1a\\x0bIDC\\x06\\x03\\n\\x1a\\x0e\\x10N\\x04EE\\x06+\\x1b1\\x1d\\x08\\x05\\x15\\x1dON6UM\\x1a\\x1fE\\x00K\"\\r\\x06I\\x05\\x10\\n\\x08M\\t\\\\,\\r;\\x1d\\x02\\x01\\x1cI\\x06\\x01n*\\x19O\\x1c\\x00LF\\x0cONIAR\\x05c', b\"\\x0fe\\x07\\x01S\\r\\x0cLY\\x00\\x01\\x05>F6\\x1aI\\x00ER1T5\\x1d\\x0cT\\x0eI\\x02\\x076S\\x05_\\x02\\x0cLNE\\n\\x0b\\x05A5\\x01\\x0cTEx7\\x139x\\x14\\x07\\x13\\n\\x00\\x0b\\x16OM0\\x11\\x16I\\x00\\n\\x0bN \\x02RN\\x05G\\x00\\x176Tt\\x17\\x13\\x07\\x06I\\x01\\x0f+G@q\\x1bED\\x00\\x17\\x1d=\\x0f\\x08\\x16'\\x0fT\\x06;=\\x1d5\\x17G\\x00\\x19\\x0c\\x07NbT\\x03U\\x18\\x11\\x00V\\x13\\x1b\\x1dIA\\x17\\x1c\\x05WE\\x1d7'<RK\\x11T\\x1dO\\x01&\\x00\\x0c_\\x18\\x08\\x00H\\nO\\x1a\\x02A\\x01\\x17\\x0e\\x003\\x114\\r1\\x1b\\x14\\x16\\x15\\x07\\x1dN#I\\n\\x1a\\x04\\rTI\\rOI\\r7\\\\\\x07\\x1b\\x00\\x04\\x060\\x1c&\\x17\\x13\\x1c=\\x0e\\x00\\x05\\x0bN\\x01T\\x1dEAUE\\x07\\x1a\\x19\\x05RN\\x04y\\x0c\\x00*\\x1dt;\\x0b\\x01\\x13\\x06\\x00\\x03\\x11B\\t_\\t\\tLc\\x04\\n\\x1b\\x01\\x15\\x02\\ncW\\x11R9\\x01;\\x1d\\x08\\x02\\x01\\x08B\\x0b0T\\x05\\x1a\\x11ENM\\x00\\x01\\x06c1R\\x1d\\x0eB\\r\\x15,\\r;\\x1d\\x0e\\x14\\x1b\\x06O\\x1a7\\x00MRH\\x08MTE\\x0e\\x03\\x1d\\x14R>IS\\x11\\x009\\x017\\x10\\x08\\x1c\\x1b\\x1d\\x16\", b'\\x02\\x1fNINE\\x1e!\\x117RG\\x16\\x07\\x0c\\x1b\\x1aHH\\x19_\\x0b\\x0bNE\\x08\\x16\\x02\\x10\\x02RNIG\\x10\\x06=\\x17^UG\\x1f\"\\x06\\x1bN*W,O\\x01\\x0bwTE\\n\\x0f\\x07A\\x1aN\\x08iE\\x17*\\r\"R\\x08S\\x11\\x1d\\x04\\x0f\\'AM[\\x1c\\nA\\x00E\\x00\\'\\x02\\x0f\\x06\\x01ZN\\nxx\\x18<\\x1d\\x12\\x01\\x17\\x06H\\x0b*AM\\x1a\\x1a\\x0eTL\\n\\x1c\\x02\\x0c\\x05+\\x1c\\x0eUE\\x1d+\\x111\\x1bGy\\x1dIA\\x02*PM\\x1a\\x07EH\\x00\\x04e\\x07\\x1a\\x0cRd\\x07\\x00I\\x1b4\\x1d,\\x01\\x06\\x16~I\\x06\\x07!A\\x08S\\x07ENEE\\x1dI\\x08k\\x1c\\x00IA\\tR,\\x1a1x\\x15S=I\\x01\\n\\x05Z\\x01_\\x01\\nRR\\x0bH\\x0b\\x1e\\x00UI\\x00AE\\x1f6\\x13^\\x06GST\\x10e\\x17-SC_\\x06<\\x00\\x00E\\n\\x1aI\\x04\\x1d\\x0bI\\x00\\x10\\x0b71:R@\\x1aXIO\"+O\\tT\\x1a\\x08SN\\x10O\\x1aDM\\x17\\x06\\x08WI\\x16?\\x11&\\x16\\x0ey\\x18\\x0f\\x06\\x01-I\\x02RHEYT\\n\\x18\\x01\\x19A\\x01\\x17cA\\x08\\x17=T^\\x06\\x12\\x16T\\x1a\\x03\\x08+LMC\\x06ION\\x0b\\x01\\x06I', b\"\\x1fI\\x1bdeM\\x08\\x1a\\x04\\x16TO\\tO\\x1d\\x00\\t:\\x0f\\x01S\\x17\\x1bxXt\\\\\\x02S\\x1f\\n\\x02\\x0f+SMN\\r(SS\\x0c\\x0eO\\x01\\x15\\x17\\x07\\x07\\x00\\x13^0\\x159\\x06\\x12\\x07\\x07\\x0c\\x0b\\x02eOMVH\\x00TK\\x06O\\x06\\x00\\x18RN\\x10\\x00\\n\\x14<\\x00$\\x07GS\\x10I\\x00N-M+V\\x01\\x1cCP\\x04\\n\\r\\x04\\x02\\x13\\x00\\nA\\t\\x17v\\x1d:\\x1d\\x0e\\x01\\x11\\x06\\x16NeTMN\\x1a\\x17CP'\\t\\x0fIA\\x17\\x02\\x1dG\\n\\x1f7\\r6!G\\x03\\x11\\x1ae\\x07;\\x00\\x03S\\x06\\x0cOGE<\\x1d\\x07\\x13\\x00\\x00IN\\x10\\x13\\x7fT2\\x17G\\t9\\rH\\x1a.\\x00\\x19UO\\x17nE\\x07?dNA\\x17\\x07\\x0c\\x00\\x11\\x07=\\x1dt\\x1f\\x13\\x1d\\x19\\x04O\\x056T\\x08^\\x00<\\x00*\\x01\\x03\\x01NA\\x07NI\\x00B=;\\x1d6\\x06K:\\x18IO\\n1S\\x1fTDEdR\\x0bO\\x0c\\x0c\\x04\\x06\\x1c\\x06C\\x00\\x17=S5\\x05\\x13STI\\x00\\x1a'\\x00\\x08\\x1aH\\x1c\\x00S6\\x0e\\x1b\\nA\\x0b\\x1aIA\\x08\\x05t\\x11t\\x1c\\x00\\x1f\\x12\\x00\\x00d6UM\\x1a\\x055\\x00SE\\x1c\\x0f\\x08\\x14\\x11\\x0b\\x07\\x00\\x0eR!XxR\\x06\\x1e\", b\"O\\x1c\\x01 R\\x07IG\\t\\x060\\x128\\x1f\\x0f\\x1d\\x11\\x00\\x1d\\x0bbA\\x01NH\\x0b\\x00T\\x01O\\x01\\x10\\x0f\\x1c\\x1a\\x0f\\x00\\x15\\x0bx\\x1d:\\x1cGS\\x1cI\\x03\\n&EMC\\x1a\\x00\\x00S\\x17\\x1b\\x1c\\x00\\r\\x1f\\x19cI\\x11R0T5\\x10\\x06\\x17T[\\x1b\\x0f.\\x00\\x0b\\x1a\\x00\\tGC\\x0cO\\x1d\\r8\\x11\\x0b\\x06U\\x0e\\x1f1\\x113\\n\\x0eS\\x00\\x1dO\\x0fb\\x00M\\x1a\\x03ENL\\x00\\x01\\x1bIk\\x1e\\x1c\\x0eYE^=\\x11!RGy\\x13\\x1b\\x0e\\x07+N\\x14W\\x07\\tPW\\nO\\x0f?\\r\\x17'NK\\n\\x11x\\x135\\x1d\\x13\\x14\\x18\\x10\\x06\\x07e\\x00\\x1f\\x1a\\x1f\\x17\\x00L\\x1c\\x00NI\\x0e\\x1d\\x1a\\x01\\x00E\\x177T-RmS\\x18\\x1bO\\n T\\x03\\x1d\\x18\\x08\\x00TE\\x0eN\\x1d\\x04\\x1b\\x1cI\\x00\\x11\\x1d0';\\x17\\x12K\\x00E\\x02d5\\x00L[\\x1c\\nT\\x00E\\x03\\n\\x04\\x0e\\x13\\x0b\\x00GE\\x119\\x11s\\x01\\x06\\x1d\\x00\\nCN'\\x00M\\x1a\\x1c\\x17AL$\\x0ed\\x1cA\\x13\\x17\\x08*\\n\\x10+T5\\x0b\\tS\\x03E\\nd6U\\x05\\x1aHo\\x00I\\x04\\x1a\\r\\x1c1R\\x1d\\x06O\\x00\\x1e>\\x1d6\\x13\\x1e\\n\\x1aIO\\x016Y\\x1a\\x1aHE*T\\x10\"], 16: [b'\\x1dI\\x01T\\t\\tRe~B:R\\t\\x0fH\\x16NxS+\\x0c\\r\\x19\\x1d\"O\\x07\\x05\\x009\\x1cgSA\\x0b\\x17\\x01V\\n\\x1bR\\x06\\x0f1\\x18d<\\x07\\x11E\\x1dZT\\x13EC\\x0fL:\\x1dMG\\x13\\x00\\x1d\\x07\\x1d\\n\\x1e\\x1d(\\x1c\\x1a\\t\\x1c6\\x16+E\\x17\\x0c\\x1d\\x11\\x00i\\x04K,\\x1a\\x04O\\x133\\x17\\n\\x1aE\\x1b\\x1e\\x00\\x1a\\x04\\x07\\x067S\\'E\\x03\\x0c\\x1c I\\x00\\x1e\\x00<\\n\\x08U\\x08E\\x17e\\x1a\\x1c\\x17=\\x0b\\x1d\\x07\\x03\\x0b:\\x1bbE\\x1b\\x0f\\x1f\\x00OD\\x06A5\\x08\\x04yAI\\x1dOS6R^\\x00dH\\r\\x179\\x1f7\\x00\\x1b\\x06T\\x1cWY\\x08S0\\x08\\x1aNA\\x10', b'B\\x1cI\\x1c\\x11\\x00T>jt\\x00\\x19\\x07F\\x08\\\\\\x020\\x08\\x1c\\x06\\x08\\x01\\x0c\\x0e\\x01+S&\\x0bN:\\x11\\x07ODII\"\\x1a\\tN\\x18\\x00\\x13&\\x1aE\\x1d\\x07\\x08N\\x1b\\x00N1\\x01+EN\\n\\x1dT\\x00N\\x0c\\x0ct\\x05MV\\x00\\x03RAUI\\x00\\x1fK\\x0f\\x1cOd;S\\'\\x0c\\x1a\\x07\\x04\\x18AL\\x06*2\\x07\\x18R\\x0e\\t\\x17\\x06M\\x07\\\\\\x1a\\x06\\n\\x01\\x07\\x002\\x1d\\x0b\\x11NI\\x13\\x13SNNy1\\x08L\\x00AIRO_\\x00\\x06\\x11@\\x07HO\\x1c9S,\\x17\\x1a\\x04\\x1b=\\x00N\\x0cN5\\x0fMO\\x11\\x08\\x1dCT\\x04\\x01\\\\\\t\\x00\\x05\\x0e\\x06x\\n+\\x00\\x1a\\x01X\\x1bN', b\"\\x1f\\x0ed\\rOd0\\x16b\\x04\\x1a\\x01T\\x07A\\x00\\x10i;IMN\\x12\\x00\\x1c\\x1b\\x1a\\x07\\x1d^\\x14\\x01H\\x1bNx\\x03'\\x00N\\x08TTAN\\x1dS$I\\x1dU8\\n\\x1d\\x02U\\x04\\x16\\x17\\x1e\\x0f\\x1a\\x18=x\\x01b\\rN\\x0e\\x11\\x17EYIWt\\x05\\x14\\x00\\x15\\r\\x1de_\\x06R\\x11\\x06\\x01HO\\x004\\x03e\\x17I\\x0c\\x1bT\\x00T\\x1a\\x00-I\\x0cNA\\x11\\x17HOEURm\\x01\\x00\\x07\\x1a<K-\\x04\\x05I\\x1d\\x13\\x00I\\x04\\x00t\\x06\\x0cR\\x15\\x04\\x06CT\\x06\\x16\\x17\\x13\\x0b\\x1dO\\x17?\\x05%\\x1c\\x1b\\x0eT\\x18UYID-\\x00MKM\\x00\\x06\\x06SE\\x11\\x00G\\x07H\\x01\\x05\", b\"MN E\\x14&_\\t6\\x1e\\x13\\x0b\\x0bO\\x00RS6\\x10d\\x0f\\x17\\x07\\x00I\\x01T1\\x07MTA,\\x13\\x0b0\\r\\x01R\\x08\\x00\\teN6T-\\t'I\\x1a\\x1bMD\\x10U3\\x06\\x0bO\\x0f\\t\\x17\\x0eN\\x00+\\x13\\x0c\\x0b\\x1a\\x1b\\r7y*\\x0b\\x1dI\\rT\\x00N?\\x00;\\x08\\x0cGA\\x11\\x01\\x06S\\t1\\x17GN\\x07\\x1c\\x1a,S;Ed\\x1bT\\x16TRIS^\\x04\\x01y\\x0f\\x11\\x06\\n\\x1a\\\\\\x07\\x00\\x02\\x0f\\x1c\\n\\x1d,\\x121\\tN\\x05\\x11XNHIC;IMLME\\x05\\x00\\x1a\\x00RR\\t\\x01\\x1f\\x0e\\x1dt\\x14bE\\rc\\rT\\x00\\x00\\x1dT IMF\\x15&R\\x16\", b\"\\x0b\\x13TML\\x07\\x008\\x0c\\x01IA\\x17\\x1dO0\\x01R\\x063\\x02\\r\\n\\x174S*EI\\x1d\\x15\\x13\\x00G\\x00i5I\\x00K\\x02\\x0bx\\x1b[\\x16R\\x13G\\x0f\\x0cO\\x0bxS1\\x0c\\r\\x0f\\x01T\\x00T\\x04Os\\x06\\x03E\\x15E\\x1b\\x1bOo\\x17\\x1dG)\\x07e\\x0fx:;\\x08N\\x1d\\x13~RT\\x05N1\\x08\\x0cLk\\x13\\x1b\\x07U\\r\\x1d\\x06m\\n&\\x16\\x07=\\x1c66N\\x00\\x1b\\x17\\x00\\x00\\x19MtECN\\x0fE\\x06\\x00\\x1a\\x01\\x13\\x0b.\\x02HO\\n=:'\\x08\\nc\\x11TTA\\x1c*&\\x1d@KA\\r\\x0b\\x06\\x1a\\n\\x10\\x06GdH,\\x06>\\x16n\\r/\\x07\\x01\\x11O*I\", b\"\\x0f\\x01\\x1d\\x07!S E\\x1dI\\x1a\\x13AN i&\\n\\x05O\\x0e\\x15U\\nVB\\x17x\\x13\\x06\\x1a\\n\\r=\\x00e\\x16\\x1d\\x0cT\\x11Ys\\x01\\x00t\\x05\\x14C\\x0fE_OV\\x17R\\x1e\\x0e\\x0bH\\x1b\\x0fv\\x00b\\x16\\x1b\\x0e\\x11TACI\\x07\\r\\x1bM*\\x0e\\x10!O[5\\x17\\x1b\\x15\\x07\\r<\\x177\\x1feE\\x1b\\x02\\x1d9IN\\x1b\\x001\\x1c\\x05sA\\x04R\\x01\\x1d\\x0bR\\x02\\x0f\\x05\\x1d\\n\\x1a0S'\\x0cNI\\x1d\\x10*TI*t\\r\\x1fcA\\x15\\x01O\\x1a\\x06R\\x17\\x087H\\x0e\\x06+T\\x11\\x1c\\x06D\\r\\x03I\\x00\\nGt\\x06\\x05T1\\x08\\x1d\\nOER\\x13G\\x01\\x06O\\x03\\x08\\x1e\", b\"\\x02\\x0b\\x1d\\x04\\x1a\\x00\\x13\\x06\\x0f\\x1aO\\x06\\x14xTe\\x10\\x01IT\\x03TS\\x05A7I,\\x00\\x04\\x0c\\x06\\x00\\x1a\\x16\\x1f\\x17\\x06NbON,\\x16.\\n\\x0bI\\x15\\x10G\\r\\x1eU<c\\x04O\\x02\\x06\\x13\\x01\\x1a\\n6RGN\\x18\\x02\\x00=y0\\n\\x0b\\x1d'\\x10\\x00P\\x1aNz\\x19\\x03H\\x0f\\x17\\x1d\\x06J\\x04R\\x13\\x14\\x1d\\x03\\x00\\x00?\\x1c%\\x17I\\x0c\\x00\\x18ZTNSt\\x0e\\x0cA\\x04ER\\x07[\\x01R\\x1c@d\\x06O71:\\x11\\x04N\\x001\\x19IO\\x0cW1\\x1dMN\\x0e\\x08\\x1c\\x00\\x1a\\x17\\x1d\\x10\\x0eNH\\x07\\x1a,S-o\\x01\\x08\\x1d\\x18UM\\x08N6\\x1a\\x19L\\x16\\x0e\\x10\\nV\\x10\", b'\\x1f\\x07C\\x0cG7\\n\\x05A\\tE\\x00\\x16N\\x08\\x1f\\x15\\t\\x0f\\x02C\\x1dx\\x1fb\\x04\\x19\\x07\\x13\\x1aN\\x00\\x07*=IM\\x00\\x00$\\x10\\x04[E\\x1b\\x14\\x13\\x1a\\x06O\\x01x\\x1c!\\x1c=\\x1a\\x01\\x00AK\\r*:\\x0c\\x03CkE\\x0b\\x0b\\x1a\\'\\x17\\x07K\\x07\\x07C\\x1e9\\x03&EBN\\x1d\\x13\\x00\\x00\\x07\\x00t\\x08\\x1fEA\\x00\\x04H\\x1a\\x10\\x00\\x17\\x15N\\r\\x06\\x070Sb\\x08\\x0b\\x1b\\x1aTTA\\x08V;\\x10M\\x19kB;\\x00TE\\x1d\\x1cm\\rD\\n\\x1ax\\x1d+I\\x01\\x1cS\\x01EY\\x1cW1I\\x02S1\\x08\\x1b\\nR\"R>\\x00\\x1a\\x04\\x0e\\x1d=\\x01)\\n\\x0fI\\x1dTYOIA\\'', b\"ON3S+\\x16\\x05\\x08\\r\\x11HLIHtIMT\\x0f\\x10RON\\x0c5\\x07\\x06\\n\\x01OI7\\x07\\x16\\x0b\\x07c\\r\\x1aNE\\x00G;\\x1a\\x0b\\x00\\tE\\x1f\\x00q\\n\\x19\\x1f\\x12\\x1a\\x1bO\\x00=SHE\\x02\\x06\\x156T\\x00IM!IJ\\x00\\x0c\\nR\\x1d]\\nR$GN\\x06O\\x02(\\x14!,\\x00\\x0cT\\x15\\x00IIA3\\x06ME7\\x15\\x19O_\\x02\\x1c\\x1b\\x13\\x05\\x0f\\x0e\\x1c6\\x07'\\x12\\x01\\x04D-\\x00\\x00\\x1c\\x077I\\t\\x07\\x12ER\\x0cI\\x01\\x06RG\\x1e\\x1cON/\\x14'E\\r\\rT\\x18UTIA;\\x1e\\x0cIA\\t\\x0b\\x06\\x1aE\\x0b\\x0b\\x1e\\x08\\x1ceN!\\x1c;\\x0c\", b'\\x13\\x1bS\\x12\\x00\\x06G\\x1aH\\x02\\x0f1y\\'\\x0b\\x02\\x02\\x06\\x10SL\\x0eO:\\x06\\x1eYA\\x13xO\\\\\\x17\\x1aU\\t:H\\x0b\\n,\\x17\\'\\x0b\\x1aI\\x00\\x06FA\\rN0E\\x08P\\x08E\\x13O\\x1a\\x08;_\\x0eN\\x06\\x1a\\x1c+\\x1c#\\x11\\x0f\\x05\\x1a\\x11NH\\x06H;\\x1a\\x0cY\\t\\n\\x01\\x06OE\\x00\\x11\\x03N\\x1f\\x1d-6\\x07.\\r\\x01\\x1aT=PEc\\x00&\\x06\\x03T\\x00\\x0cR\\x0e^ER\\x1c\\x12\\x17H\\x00\\x08;\\x01b\\x04\\nI7Tyd\\x01T!\\n\\tCAE\\x05BR\\r\\x13\\x16\\x08\\x17\\x1b\\x0e\\x1d=\\x116E\\x06\\x10\\x11\\x12\\x00\\x00\\nO^IM\\x00\\x14\\x11\"\\x02\\x1a\\x0bR\\x11', b\"N\\x01N<\\x05\\x0cOF\\x06R\\x1d_3R\\x1d\\x02\\x07\\x07O\\x1a=\\x1cbBO\\x0cT\\x1dEw\\x08F;\\x0cM\\x00\\t\\x11RONER\\x17\\x02\\x03\\x00\\x00\\x1b3S-EN\\x1a\\x11\\x17*N\\x0bA5N@L\\x05E\\x06\\x16N\\x13\\x19RG\\x02\\x07CN7\\x11'\\x0b\\x0f\\x07\\x11\\x15\\x00O\\x02N5\\x10\\x08\\x00\\x03\\r\\x17\\x1d\\x1d\\x17\\x1dR\\x11\\x01\\t?\\x07x  \\nN\\x0c\\x1d\\x19NF\\x19\\x00^\\x00MRA\\x0c\\x07\\x0e[E\\x1a\\x1c\\x08\\n\\t\\r\\x019\\x1a'\\x17\\x06\\x06\\x01\\x17BADE \\x02\\x08MA\\n\\x0b\\x06\\x1a\\nR\\x05\\x0eNH\\x1a\\x17,S,5\\x03\\x10\\x1d\\x1aLL\\x1ccx\\x1dM\", b\"<\\x16e\\x0c\\x1d\\x1a\\x12\\x07Uz\\rS5\\x04\\x19T\\x02\\t;ONE\\x06^GN!\\tN0\\x07b\\t\\x1c\\x08\\x19\\x11HT E:[MN\\x18\\x00\\x07\\x01_o\\x11x.N\\x1a\\n'<\\x16b\\x0e\\x03I\\x15\\x11T\\x00\\x00Y1\\x0c\\x03LAERBW\\x04\\x06S\\x1e\\x07\\x18\\x1ddx\\x16)\\x0b\\x07I\\r\\x01Y\\x00\\x08\\x00-\\x07\\x19I\\x0f\\x08R\\x01[\\x11\\x13\\x07\\x13B\\x06\\x0eI9\\x03\\x0b<\\x1a\\x08T\\x00S\\x07\\x1aN6\\x06MN\\x0e\\x10\\x17\\x1a^\\x0b\\x02\\x17GN\\x1a\\x03\\x0b6S0EB\\x08\\x11\\x15N\\x00\\nB-\\x0f\\x05T\\x05\\x04\\x1c\\x00R&^\\x1e\\x12\\x01\\x1c\\x04\\x0b9\\x00-E\\x06c\", b'\\x1aER\\x1eG\\x17HO\\x1a\\x7fSb\\x0b\\x07I\\x00\\x1fS\\x00\\x05\\x00^\\x01M*\\x15ER\\x0eCEUR\\x02\\x02\\x11O\\x0b0S0BN\\x10TT\\x00G\\x02\\x00e\\x02+\\x00\\x00\\x06\\nH\\x1a\\x11\\x14\\x17G=\\x00\\x01\\x1c!\\x1d.\\x17\\x1d\\x06\\x1b\\x13PNDE6\\x1dM\\x00\\rI\\x16&CE\\x01\\x16\\t\\x07\\x07\\x16N2\\t#\\x0c\\t\\x01\\x1a\\x13APN\\x005\\x1a\\x03RAB\\x06OT\\x00R\\x1dG\\x00\\r\\x06N*\\x07b\\n\\x1a\\x1aS\\x1aSLI\\x00sIMD\\x15\\x00\\x1dOT$\\x17\\x06G\\nH\\x01\\t,S-E\\x1b\\x00\\x11\\x1bNK\\x1cA;I\\x0cS\\x14E\\x0bOC\\x0c\\x1f1\\x06', b'i6\\x06\\x08YA\\x08\\x1f\\x1bI\\x04\\x15\\x1b\\x0c\\x02\\x01ON:\\x16/(\\x0b.~\\x1cWYI\\x009\\n\\x19\\x07\\rE\\x15\\x16[\\x06RRJ\\x0f\\x1c\\x07\\x0c0S+HN\\x06\\x18\\x00AP\\x04Tt\\x05ML\\x00E\\x0b\\x16UB\\x17^G\\x1a\\t\\n\\x027S \\t\\x07*\\x1d\\x18\\x00\\x00\\x07O5IM\\x07\\x12\\x10\\x1b\\x1bU\\x1c\\x1c\\x1cG\\x0bOO\\x147S\\x05\\x17\\x0b\\r\\x1d=\\x00I\\x1dA0\\x1d\\x18*\\x05\\x04\\x1f\\x02_I\\x06\\x16K\\x03\\x1cH\\x0b7\\x10HE\\x0cc\\x1b\\x1c\\x00S\\x1aA:I\\x05bA\\n\\x16OR6\\x0b\\x15\\t\\x1aH\\x18\\n!S6\\x08\\x02\\x10\\x1dT*\\x00\\x05\\x007\\x0c\\x02T', b'e\\x00\\x00I\\x11\\x1dEY\\x00\\x00:\\x06\\x01E\\x00\\x0b\\x1b\\x02_\\x11\\x0b\\x0bG\\x01;\\x0e\\x077\\x17;\\x00\\x0f\\x01\\x07\\x1bOIIT5\\x1d\\x1d\\rF\\n\\x17\\n\\x1a\\x0c\\x06@\\x08\\x1c\\x01\\x1d\\x021S*o\\x17\\x01\\x1d\\x19*IIUtIMPA\\x03\\x06\\x0e\\x1a*\\x1d\\x0bG\\x01\\x1c\\x0e\\'4\\x077E\\x1d\\x0eTT\\x00N\\x01Ct\\r\\n*AEx\\nI\\x16\\x17\\x06\\x14N\\x18H\\n;\\x1a6E\\x06I\\'TRE\\x10\\x00t\\x0c\\x14\\x00\\x04E\\x06OT\\x04+\\x13\\x06\"\\x0b\\nd=\\x02b\\x1cd\\x08\\x1b\\x03N\\x00cA5E\\x02K\\x04\\x07\\x1cO\\x1a\\x01R\\x17\\x02N\\x0b\\x1c>5\\x1c6IN\\x04T', b'\\x1f\\x1eG\\x1a\\x04\\x01Nx\\x1dH\\x01\\x07\\x05X\\x0e\\x07N\\x10GtIMSA\\x08\\x06\\x03O\\x04\\x1dR\\x12\\x0bH\\x18\\x19*\\x1fb\\x0b\\x06\\x05TT\\x00A\\x08* I@NA\\x0e\\x1d\\x0e[\\x04\\x13;G\\x0b\\x03\\x1c:6\\x07e\\x11d\\x19\\x11\\x1dE\\x00\\nG<\\rMW\\x0cDRHS\\nR\\x05\\x13\\x07b\\x1c\\x1e\\x7f\\x16)\"NI5\\x13Tn\\rS;\\x1b\\x01\\x00k\\x15\\x1f\\x00\\x16\\x02\\x1b\\x1f\\x08\\x03\\x07\\x03NyS5<\\x02N\\x07\\x18B\\x00\\x1dG:\\x06MC\\x04\\x11R<\\x1a\\x10\\x10\\x06m\\x1a\\x11\\x1dB+y6\\x1cNI\\rTO\\x00\\x19M=\\x0fMT\\x15E\\x13\\x03O\\x10\\x1aR\\x08\\x0b\\x0e'], 25: [b'\\x1d\\x1b\\r\\x1d\\x00\\x1f\\x1a\\x01I\\x08\\x026\\x00\\x0e\\x0b\\x1fOY\\x1d0\\x13\\x19\\x16\\x19\\r\\x1aNe\\x10t\\n\\x06\\x1dN\\x1dN\\x0c\\x04\\x06GHN\\x05\\x13\\x1dAP\\x176\\x11\\x14\\x04\\x0f\\x1d\\x19SO\\x075\\x06\\x07\\x1bC\\x04\\x1a\\r\\x1a\\x08m\\x05Tk\\x1b\\x1dNyR0TM\\x1c\\x08\\x1d\\x06\\x1aH\\x00:\\x0cH\\x06C\\x1d7\\x1c\\x1cI\\x08%\\x00A\\x15SOI\\x01,T\\x0cE>\\x1d\\x08\\x1a\\x01c', b'B\\x01EG Y\\tRyATR:\\x03M\\x0c\\x01T\\x07C\\n\\x01=\\x01HNEx\\x0f\\n\\x08E\\x08-D\\x00\\x1eSAG;x\\x11\\x03B\\x00\\x11IUCI6O\\x1cBK\\x01\\x01\\x0b\\x05\\x10\\x14)I\\x0eRSAs\\x170 \\x03EI\\x1b\\x1d[\\x03\\x041\\x0e\\x1c\\x1a*\\x06\\rE\\x01\\x04G\\'S\\x0e\\x06\\x14\\x00MR,\\x03\\x02\"\\x17\\x11\\x00R,\\x106\\x03\\x1c\\x1acR', b\"\\x1f\\x16MY\\x13x\\x11\\x193\\x00\\x00\\n_C\\x19:\\x1b!I\\x00\\x06\\x0b\\x0bI\\x11\\x080sF\\x14\\x07FU\\x11x\\x00\\x04\\x04\\x00\\x1dNN\\x01\\x0et\\x0b\\x1a\\x0fWR)\\t\\x1aDG'OA\\x16\\x1f\\x00E\\x1b6T\\x19\\r\\x14\\x00\\x1b_\\x07\\x0c^O\\x1d\\x06V\\x17\\x17\\x04\\x1aEK\\x11\\x00\\x12\\x11\\x1aNDR=\\x01\\x04\\r\\x17\\x11\\x1dR\\x07I;CH\\rA\\x1dN\\n\\x08\\x11G-*\", b\"ME\\x07\\x11\\n~\\x02\\x015O\\x01\\x01GR\\x01B\\x01E\\x13;\\x00AU\\x03HKR,T\\x0bE\\x1b\\x1a\\x02V\\x1d\\x1a:O\\x1a\\x03O\\x0bN\\x11I\\x03G*N\\x0e\\x0b\\x03\\x00YRx~M\\x04\\x1eT\\x07\\x1d\\x1c\\x011\\n\\r\\x03\\x00\\x17B6\\x1dE\\x08'NA\\x00\\x07*\\x00\\x1d:T\\x0c\\x0b\\n\\x1b\\x1d\\x1aO\\x04 \\x00H\\x06A\\x1bdEI\\x04G6M\\x15\\x0b\\nLF\\x1f\\x08\", b'\\x0b6\\x04\\x04\\x05jR\\x0b\\x0b \\x0b\\t+L\\x12^SW\\x00\\x1d7\\x07M\\r\\x0bT\\x1d[\\x18I$\\x01\\x0cNU\\x1d\\x1aE\\x0b\\tGbIk\\x1d\\x1cEL\\x177\\x10M\\nd\\x11\\x08C<\\x0et\\n\\x1fI\\x00\\x1b\\x0b\\x17\\r\\x15\\x06 RA\\x02\\x1aTUR<\\x00CI7\\x07I_\\r\\x05sO\\x0b\\x01A\\x05\\x0bE\\x1c\\n\\x0e6T\\x11\\x05\\x14NTR=\\x1cME\\x0b\\x01\\x0cV', b'\\x0f\\x00\\x0c\\tGbzA\\x1bT\\x07T\\x1c=\\x07MB\\x07\\x13\\x1c\\\\\\x1b\\x085\\x16b\\x06G\\x13\\x03\\t\\x02E\\x08!C\\x08\\x17\\x16\\x00L666M\\x13\\r\\x1b\\x1b\\x1aC\\x0c;e\\x18NO\\x1d\\x07,\\x06\\rG#NA\\x17SPN\\x13==\\x0c\\x02\\x1c\\x13\\x00\\x1a\\x06It\\x00\\x07\\n\\x00\\x17\\x02E\\x0c\\x11G,AM\\x06TNSR=\\x18\\x05\\n\\n\\x1d\\x0f\\x1a\\x0e\\x10 O\\x06NA', b\"\\x02\\x1eS\\x00O6\\x7f\\x13\\x01\\x08N\\x06IN\\n.7\\x03\\x01NF\\x13\\x02\\x16I$\\x06'N\\x18\\x13SGN\\x191\\x17\\x0b\\x11\\x0f\\x1d\\x0c\\x1d\\x1a\\x0e1\\x1b\\t\\x0bGR\\x0f\\x0b?I\\x157\\x00\\x13\\x11\\x03YL\\x1c?\\x13M\\x07\\x07T\\x1a\\x1dH\\x1b<\\x0e\\x00\\x1aM\\x1fd<\\x1cI\\x081LA\\x13\\x1dOC\\x166T\\x05\\x17BT\\x0f\\x1a\\x0e\\x00tO\\x04\\x1bO\\x06\\x01\\r\\x05\\x0e\\x08;\", b\"\\x1f\\x01\\x12d\\x12\\x0cI\\x06\\x05t\\x02\\x07d\\x00U\\x01\\x04\\x05\\x13\\x14bG\\r\\x17\\x1fNNR6T\\x14\\x0c\\x01TEU\\n\\x0ft\\x01\\x03\\x02\\x0c\\x06\\x0b\\x17I\\x03K+H\\x15S:\\x00HR(\\x18\\x08\\tN\\x1d\\r\\x1a\\x07\\x1a-\\x01&\\x0bS\\x1f\\x05\\x11\\x19\\x11G'Ek=\\x01\\x00N\\x137\\x19M\\x01\\x1c\\x01IT\\x0e\\x081O\\x1b\\x1bB\\x0b\\x1ao\\x19\\t\\t,\\x00\\x14\\x13\\x1cYNR\", b\"OI<&H\\x1d\\x00\\x00\\x0f\\x0b\\x10\\t3/SA\\x07SETU=\\x1bM\\n\\nT[[\\x07I \\x00\\x1bNU\\n\\x0bo\\r\\x00\\x0eb\\x00\\x15^yE\\x00\\x007TM5'\\x1d\\x1aOOI1\\x1b\\x03NA\\x17\\x01EN\\x04\\x14b\\x00\\x00R\\x03\\x00*Ry-LE\\x1dS\\rT\\n\\x0f!C\\x1a\\nA\\x1c\\x1aE\\x0c\\n\\t-\\x00\\x04>\\x1f\\x00K^>T\\x19\\x10NX\\x1d\", b'\\x13d\\x0c\\x07\\x08\\x0fHLF\\x1dSSO\\x0bx\"\\x1e\\x07N\\x15\\n\\x1a\\x18c\"O\\tN\\x00\\x17\\x1aE\\r\\n.1P\\x02;S\\x00L+!TM\\'\\x1c\\x1a\\x05We*zH\\x06\\x1aN\\x01\\x07E\\x01\\x00\\x00.T\\x0f\\x06SZ\\x00\\x1c2\\x19\\x01\\x00\\x1a\\'\\x10\\x1a\\x00I6\\x00\\x1cNGR\\x07\\x17I\\x00\\x08bYA\\x16\\x05NK\\x0b,T\\x0c\\x04\\x17\\rIO\\x1cI0\\x02H\\x06', b'N \\x1eSEA:1\\x07\\x19\\x01NTIN\\x0e\\x0c1\\x0e\\x1a\\x0f*\\x17:\\x00 \\x0bJ.A\\t\\x07SM\\x00R1\\x00M\\x08=\\x15\\x06U\\x02\\x19!A\\x07\\x1dE!\\x01E\\x04\\n\\x06)T\\x12\\x13\\x16\\x00R\\x1d,\\x13\\x05\\x16\\x07\\x1c\\x06O\\x0e\\x000\\x07\\x07\\x01y\\x07\\x0f\\nIEmbd\\x15\\x17:\\x00N\\x10/=\\x08\\x00\\t\\rER\\r\\x10-\\x00H\\x02N\\x13\\x08\\x00\\x1c&\\x06', b'<T\\x08\\x00N\\r\\x00_OI&\\x02\\x02\\rO\\x1cNEI\\x0c\\x12\\x16D\\tRSY\\r\\x1b<\\x06\\x1do\\x0b\\x18c[O\\n5\\x0e\\x00\\x1bU\\x0b\\x1c\\x11IEG P\\x0c$S\\x00G\\x017T\\x1fE-\\x1b\\x07UO\\x0c;O\\x01NS\\x06\\x05E\\x08E\\x12-\\x07\\x0f\\x16:B\\x07\\x069XM\\x06dS\\x08RO\\x08&OHNA\\x1dNE\\x1c\\x08\\x02)Y\\x14\\x00\\x00OT', b'\\x1a\\x1dI7eH\\x1aS\\x1d\\x02\\x10\\x10\\x10\\x08bI\\x15x\\x17NS\\x1ax\\x11\\x00\\x06NT\\x1a\\x1a\\x00IeO\\x01=L\\x13\\x0f\\x0e\\x04EGe\\x00\\x00RyP*\\x1d9\\x11\\x0c\\x06d\\x13IJ\\x1c\\x0c2\\x1d\\x07\\t\\x00xNEc\\x11\\x136I\\x04\\x1f\\x07SR\\x07*\\x10\\x14E\\x0b7\\x06^Oc1<\\x1c\\x1aE\\x05\\n\\x1cc\\x08\\x006Y\\x05\\x06SUT\\x0bx\\x1aM\\x0c\\x03T', b'i\\x1d\\x1a\\x16>\\x06\\x13bN\\x00\\x15SSN\\x064\\x1c,\\x04I\\x11\\x0c0O\\x0c5\\x041\\x1aS\\x07\\x0fH\\x1e\\x0e\\x12+N\\x0f\\x17\\x00*C\\x1e+\\x17\\x03o\\x02\\'\\r]O\\x07;&\\r\\x1d\\x00\\x17N\\x17\\x08\\x13G%n7\\x1a TRR;T\\x08E\\x1aTE_ON7O\\tN\\x00\\x01\"I\\x06E\\x130AA\\x10yUORt\\x1b\\x05\\x01\\x1dTIS\\x04\\x077\\n\\x0e', b'eC\\t\\x06\\x16UI\\x15x\\x0eM\\x08\\x1a\\x17\\x01V\\x0e\\x079OH\\x1ci\\x15N\\x0b\\x00\\x00\\x02-G\\x0f@\\x1cEP\\x16<TM\\n:\\x15\\x05N\\x1b\\x06\\r\\x0e\\x07\\x17H\\x1d\\x07\\x08\\x07\\x17\\x13!L\\x03\\x17\\tI*\\x007=\\x0c\\x11\\x07\\x1d\\x0e\\x16\\x0eI^\\n\\rN\\x00;\\x1d\\x04\\x04\\x10.HO\\x04RSBL\\x17+\\x03\\x026\\x1dT\\x0f\\x1a\\x18\\x08=\\x06\\x05\\x03T\\x0b\\x01II\\x10', b\"\\x1f3\\x11\\x0c\\t\\x1a\\x1a\\x06N\\x16\\x02;O\\r\\x0bA\\x06\\n\\x0b\\x08,\\x02eI\\x00R\\x17ANR0\\x10@\\nN\\x11\\x06\\x1a\\x1b\\x01:\\x07\\x06NY\\x1b\\x1a\\n\\n\\nK'N\\r\\x1b\\x07\\x00O\\x004\\x01\\x0c\\x1c\\x005\\x06M?\\x1b5\\x01\\x18\\x0b\\x00R\\x01<\\x19\\x04@5\\x00A\\x1c\\x12Sc+x\\x00\\t\\x06\\x0b\\x11I\\x1a\\x1d\\r5\\x06\\x1f\\x1bG\\x1c\\x1a\\x00\\n\\x00\\x12n\\x00\\x16R\\x1cN\", b'ISO\\x1a8\\x1bO\\x07H\\\\\\x07\\x10\\x05\\x15Gb\\x07A^\\x07\\x00\\x07\\x1f*\\x1a\\tENT\\x05\\x1aOZ0\\x02\\x1a\\rT\\x13\\x0bE\\x0cE\\x0c.CA\\x07\\x16N\\x00\\x06x\\x18\\x03\\n\\x02\\x04\\x10S\\x16\\x02tH\\x04\\x01\\x00R\\n\\x17N\\x15\\x13\\x0bF\\x0f\\x1dSR\\x19\\x17;\\x13M\\x01\\x0b1\\x06IO\\x06;OHdW\\x1d\\x17\\x1c\\n\\r\\t-\\x00A\\\\S\\x00SR5T\\x1a\\x0b\\x05', b'\\x1cN\\x14\\x17E\\x00E\\t\\'\\x00\\x02\\x06\\x16TS5+\\x1dME\\r\\x07IV\\x0b\\x08:\\x1b\\x1c\\x0b*\\x1fNE\\x10\\x06\\x0e*K\\x13_\\x01TE\\x17=\\x1dJIN\\r\\x1d[\\x0eN,\\x06H\\x07N\\x1b\\x1d\"I\\t\\x11;PA\\x06SITU9\\x17\\x18\\x01ND\\x08[\\n\\x1atOD\\x1bT\\x06N\\x08\\x1a\\x08m\\'NARSIKR9\\x12M&\\x06\\x1d\\x1aOe\\x01x\\x16', b'\\x0eeLA\\x06\\x1dH\\x07RR\\x1f\\x05\\x11\\x1d\\x1d\\x06\\x1a\\t\\x1d9\\x00H\\x07IR\\x00B\\x01\\n\\x13\\x11A8xSAO\\x13=T@\\x00\\x1c\\x11I\\x1a\\t\\x05tB\\x07\\x07NRN\\x0c\\x02\\x11\\teNA\\x1e\\x07\\x00I\\x1d7\\x18\\x01\\x02\\x00\\x1d\\x04T\\nI;eH\\x05N\\x06\\x03\\x04\\x1dE@\\'H\\x15\\x17\\x02Ey\\x13?\\x15@6\\x1a\\r\\x1eT\\x1ac;\\n\\x0b\\x0fS\"\\x07EI', b\"NR!\\x1d\\x05B\\x0fT\\x040OItO\\x0cOTR\\x06\\x00\\x07\\x0b\\t'T\\x02R\\x16\\x00\\x00\\x1d3\\x1b+\\x17\\x02\\x01\\x1d\\x1a\\x18Is\\x16\\x18dMR\\x02\\x0bD\\x10G&i\\t\\x11\\x16R\\x07R\\x7f\\x15\\x18\\x17\\x1a\\x1a\\x1cI\\x06\\x0c&H\\x06NAR\\x03\\x12N\\x0c\\x02bT\\x04\\x1c\\x1byR\\x02=\\x1cM\\x10N\\x1b\\x02\\x1a\\x01D5\\nH\\x06D\\x1cd\\x08\\x08E\\x1e+L\\x151\\x1e\", b'\\x13\\x06\\x1a\\x01\\x08t\\x1d\\x0b\\x07i\\x1b\\x0f\\x0c\\x0e\\x00G*Y\\x04R\\x07O\\x00\\x010\\x11\\x1dEd\\x00I_O\\x06<\\x0e\\x1bNA\\x17=\\x16IE(#YA\\x1dS\\x00WR;\\x15\\x0cE\\x17T\\x08\\x1a\\x1d\\x0c-\\x07OIS\\x19\\n\\nIB\\x0f6A\\x08\\x1cKSN\\x061\\x18\\t\\x00\\x01\\x11I\\x1a\\n\\x1c5B\\x1dB*\\x16N\\x1cI\\x08\\x0ebK1\\x17\\x01W\\x00\\x119\\x11\\x02\\x10', b\"\\x01\\x00GR\\x1a\\x04\\r\\x17\\x0ceN\\x0f\\x06\\x1c\\x00*\\x177\\x1ag\\x17N\\x19I[O\\x05;&\\x00'\\x00_\\x1c\\x1c\\x0fE\\x1ebT\\x00R\\x07TV\\x197\\x13M*\\x1e\\x1d\\x1a_\\x1d\\x1d5\\x06b\\x00*\\x17N\\x0c\\x1bE\\x15'EA\\x07\\x1c\\x00A\\x1b6\\x13M\\\\N\\x1d\\x0cT\\x03It\\x1aH\\x0cWR\\x1e\\x17DEG\\x11\\x001^\\x11UT\\x10!\\x18ME\\x06\\x1dICO\\x04'\", b'\\x0bG+TF\\x1eSAE\\x1fx\\x10ME\\x17~IOO:;\\x0b\\x11\\x1dT\\x10\\x0f\\x0b\\x1d\\x00G+\\rA\\x1f\\x01*O\\x14v\\x19\\x03\\n\\x1c\\x11\\x0cO\\n\\x1d<\\x1d\\x1c\\x0f\\x00\\x16\\x07E\\x073\\x03e\\x00k\\x1c\\x1cTE\\\\x\\x16\\x03\\x0b\\n\\x1a\\n^\\x07\\x08t\\x02\\x06\\x02\\x07R\\n\\tI\\x15\\x06+DA\\x17STb\\x1d+\\x18M\\n\\x1d\\x11\\x06\\x1a\\x0e\\x06^\\x06\\x1c/\\x00\\x10\\x0b\\x0c', b\"\\x07T\\x000\\x07\\x01\\x04\\x14XI0O\\x0f^\\n;\\x19\\x00x\\x01\\t\\x00E\\x06bE\\x18\\x17T\\x00C\\x06x\\x13\\x08\\x04'\\x01\\x05\\x1a\\x1c\\x06t\\x16\\x1a\\x1d\\x07\\x06\\x07E\\x06\\r\\x1e;\\x00\\x0f\\x05\\x14A\\x00129\\n\\x10\\x06TI[\\x16\\rt\\x00\\x0fN\\x00\\x06\\x00\\x0c\\x10B\\x0bbI\\x0e\\x0b\\x10IC\\x069\\x17M$\\x06\\x1bIS\\x0e\\x0e-\\x06H\\x01M\\x0b\\x005\\x1dEG6OA\\x11\", b'N\\x1c\\x05_OI:\\x16H\\x02i;\\x02(\\x05\\x08\\x06&wAR\\x00O\\x00\\x1b,TM\\x16\\x0c\\x15Iq\\x00\\x1a3HH\\x17*\\x1dN\\r\\x00EG0\\x00\\x0c\\x1f\\x11\\x00\\x00\\x174\\x13\\x04E\\x00\\r\\x08U\\x00I3\\x06\\td\\x00RN\\x08\\x1e\\x0cm\\x0b\\x00\\x05\\x1cS\\x00\\x00\\x1a,\\x1a\\x1f\\x04\\x1a\\x1f\\nT\\x03c:\\x00\\x11\\rN\\x0b\\x01E\\n\\x07\\x007\\x00M\\x1e\\x16*L\\x1a!\\x1bM'], 22: [b\"\\x1d\\x0bRO\\x16E\\x0cRR\\x14\\x07\\x00M\\x023=\\x19\\x05*\\x1a\\n\\x17\\x15FA\\x16\\x11'\\x1a5\\x0bR\\x18\\n\\x00I\\x1f@\\x0bNC\\x04H\\x1e=\\x01\\x04L\\x1dN\\x1d\\x11MAo\\x07+\\x106\\rR\\x0e\\x08\\x00\\x1a\\x1d\\x16\\x00\\x00N\\x0c\\x1d\\x00?\\x01\\x1aEI\\n \\x1cSAE\\x0f6\\x17^ER\\x06\\x04\\x00\\x0c\\x06\\x1c\\x0bNL\\x0c\\x0c\\x06=\\x06\\x06NT\\x0b\\x14\\x1b*A6H-\\x18;\\x07\\x10\\x1a\\x00UI\\x06\\x0b>/L\\x1a\\n\\x06\", b\"B\\x07\\x06\\x14\\x06N\\x1dz\\x19\\x16\\x0cR\\x02\\x10ON\\x01\\x1f~TA\\x04\\x1ab\\x07=E\\x01\\x0b\\x0bY[\\x13\\x14\\x0c'A@O.1\\x1a\\x04O\\x1a\\x0b\\x00\\x15\\x0ckB\\x1a#\\x1d\\rE\\x00C\\t\\x00\\x1aR\\x1bd\\x1a\\x00M\\x06\\x03\\x7f\\x02\\x08R\\x1a\\x0bSTSA\\x11\\x01b=^\\x0c\\x1b\\n<S\\x10\\x1f\\x00\\x08\\x02TMOm7\\x05\\x01C\\x1aNSSAM\\r\\x11\\x11\\x155\\x08\\x0b\\x0eEO\\x06\\x1c\\\\\\x1d\\x02\\x00M\\x03G9\\x01IT\", b\"\\x1fN\\x00L\\x0ce\\x0f\\x7f\\x01IE0\\x07ST\\x00\\x12\\x0c;*\\x1d9\\x0cU\\x1b\\x0bOIRRNNN\\x0b\\nG3Z\\x1e\\x00U\\x1aS\\x01A\\x13\\n\\x00b6tE\\x19\\t\\nP\\x05R\\x0b\\x0f\\x0fi\\x03&\\x06(\\x0e\\x05\\x00\\x1a\\x1d\\t\\x1bAA\\r\\t'\\x185\\x11\\x1cH6N\\nR\\x1d\\x1a\\x01EC\\x0e\\x0b1\\x1a\\x04\\x07T\\x02\\x1a\\x1fW\\x15\\x06\\x1cbT I\\x1d\\x01\\x1cUE\\x0b\\x05\\x17\\x01KM\\x06\\x02>\\x10\\x08LC\\x07\\x1cT\", b'M\\x1bG!\\x1a>AI\\x0byXi\\x02\\x08\\x02/\\x07:\\x08\\x17\\t\\x0bN\\n\\x13U\\x19\\x1dT\\t\\x04J6I\\x08C_N\\x1c\\x18U\\x08\\x04HbT:E+\\x1a\\x11A\\x0cR\\x07\\x02\\x1dHMO\\x1e;N\\x07GO\\x07\\x1f\\r*A\\x1c\\x07.\\x131\\x08\\\\\\x06\\x17T\\x06\\x1f\\x02INA\\x18\\n\\x12yI\\x1a\\x00T\\x03\\x127GA\\x0bH+\\x1c;E\\x10\\x0eE\\x00I\\x16R\\x1dN\\x00\\x05C\\x00!c\\nTO\\x01\\n\\x1d\\x00\\x15\\x0b\\x0e', b'\\x0b\\x01T\\x1a\\x17\\x16\\r\\x00A3He\\x1f;\\x10\\x0b\\nBOIR^I\\x0fGM\\x01\\x060\\x08\\x00\\r[\\x03\\x07\\x15\\x008\\n\\x011\\x17:\\x06\\x14\\x18E*\\x06\\x06\\x1d\\x00\\x1dYJ\\x0eG7\\x0c\\x1a\\x00_N\\x07\\x13N\\x13\\x04\\x07e\\x15t\\x13\\x1d\\x07\\x17AI\\x19\\x06\\x07N\\x00\\x0cOm6I\\x19R\\x1ad\\x07\\x1d\\x07\\x04\\x01\\tb\\x19s\\x04\\x06\\n\\x08B\\x08\\x1c\\x06\\x17\\r\\x00@\\x06\\x00,\\x00II\\x1adSTN\\x14E\\x1c6\\x11x\\x10', b'\\x0f\\x16\\x1cGA\\tHH\\x135\\x08\\x1fO\\x10SIU^\\x01\\x19YMO\\x12=\\x08I\\x00[\\x00\\x17T\\x00\\x18E\\x06+\\x1b0\\x0eR\\nEA\\x05\\x17_:\\x1b\\x00M\\x0bG7\\x05\\n*W\\x0f\\x03\\x1d\\x00\\t\\n\\r)\\x18t\\x101\\x1d\"I\\x07\\x17\\x17\\x14dE\\x01\\x01\\x132\\x1b\\x1dy^\\x03STykI\\x1cb\\x18t\\x10\\x06\\nEN\\nR\\x17\\x0b\\x1aY\\x05\\x00\\x08+D\\nOR\\x1a\\x14\\x11M1&\\x05)T \\x11\\x1aOEN', b\"\\x02E\\r+\\x1d8\\x06:\\x06\\x0bAI\\x1b\\x06\\x1a\\rSM\\x1b\\x067\\x1d\\x08S\\x1a\\x02\\x03\\rT\\x02E1.T$E\\x06OEEc\\n\\x17\\x00\\x17T@\\x07G!\\x0eIPO\\x02\\x16'E\\x15\\n\\x1c;\\x15,\\x17\\x01O,\\x00\\x08\\x17\\x1e\\x00\\tTM\\nmx\\x0cNRO\\x05\\x1a\\x1b\\x00\\x08\\x01\\r--tE\\x1a\\x03\\x04S\\x06R\\x13\\n\\x06DMO\\x13/\\x08\\x1cMSNSTA\\x04\\nH7\\x18;\\x00\\x0b\\x1c\\rL\\x08\\x101\\x05\", b'\\x1f6E\\x00\\x01EU\\x00\\x00\\x1b\\x00\\x02N\\x05O\\x08x.\\x01YO\\x06\\x07\\x11*\\r\\rHb\\x11:\\x00\\x1b\\x07\\tFI_xN=P\\x0bOGvI\\x0cCU\\x0b\\x1c\\x11\\x07AI\\x07 T;D\\x17\\x1d\\x0c\\x00I\\x01\\x11\\x1e\\x1b\\x00\\x18HG,\\x1a\\rs[\\nS\\x1dS\\x00\\x02\\x1d\\x0b\\x13;\\x04\\x07\\x00<*\\x06R\\x1c\\x0bNdMOG9\\x1c\\x1aLR\\x1aT\\x11N16\\x1f6Tt\\x04\\x01\\x0e\\x08\\x00I\\x13\\x13\\x0b\\x1aO\\x02\\x16', b'O\\x00M\\x05R\\x06\\x1a\\x1aL\\x01O\\x02xI\\x05NN\\x01ST\\x00\\x04EH\\x16\\x1b5\\x11\\x1bOBA\\x1a\\x17\\x13\\x1b\\x1d\\r+\\x02\\x121\\x0f\\x0bG\\x1a=\\x01\\x15U\\x15\\x13\\x1a0\\x13t\\n\\x1de\\x0b\\x00\\x19\\x16\\x11\\x02\\x1dT\\x08\\n\\x142\\x0cI*U\\x01S\\x00\\x00A\\x02\\x186\\x19<ER\\x07\\x12RE\\x07=7\\x1aI\\tO.9\\x0f\\x0cDT\\x1e\\x02\\x11EA\\x17H%\\x185\\rR\\roN\\x00\\x0b\\x17\\x06\\x03Y\\x19OG!\\x04I', b'\\x13\\x1e\\x07\\x1dT\\x05\\x1b\\x131\\x05 T0\\x0f\\x16\\x17OAB!&\\x1a9,\\x1a\\x18\\x16H\\x1a\\x10RN\\x1aA\\x14\\x01\\x08x\\x06\\x10P[\\x0b\\x16\\x1d*\\x00\\x00\\x06eT1\\x03\\x17\\n\\x0bN\\r!SdB\\x00\\x0c\\x06\\x137I\\x06EUN\\x075\\x00\\x0f\\x07\\r\\x05\\x16&\\x15R\\x0e\\x11T\\x1d\\x06\\x1cNN\\x07L\\x00K,I\\x1dc^\\x07\\x1d\\x1bCA\\x10H0=1\\nR\\x0e\\x1cI\\x0f\\x1d>\\n\\r\\x00M\\n\\x12xI\\x05F\\x1a\\x0b\\x1e', b'N\\x01\\x04G0\\x08\\x00I_\\x0fT\\x00i\\x0f\\x11\\rb\"7E\\x1dO\\x00\\x00\\x0c\\x17\\x17\\x0bNE\\x1d\\x1b\\x02<I\\x02Uq\\x1cS\\x11L\\x02\\x11\\x1aH\\x19sE\\x1e\\x02\\x17EI\\x06\\x1dN\\x17PMeG4\\x1d\\x02OJ\\x07\\x03TCk\\x17\\x04%\\x13-\\x15\\x17\\x16\\nI\\x0e\\x06R\\x1c\\x06\\x00Me@*I\\x1c\\x00\\x1a\\n\\x1b1\\x00\\x15\\x01\\x0b\\'\\x175\\x08\\x17OEN\\x1d\\x0b^\\x1a\\x1bY\\x0cOG,\\x06\\x08SS\\x08\\x1c\\x01cA\\x10', b\"<I\\x0cY_\\x1a\\x1d\\x1aSF\\x08\\x016\\x10t\\x15\\x06\\x0e\\x04W\\x07xR\\r\\x1cDM\\x16\\x08,\\x05\\x01N\\x1a\\x1aS\\x1aNA\\x17\\x1a+\\x00t\\t;\\x1c\\x16T\\x05\\x0b^\\r\\x0f\\x00MBK9*?YS\\x07\\x16\\x04\\x00\\x12\\t\\x1f)9-\\t\\x00OEP\\x1bR\\x07\\x00\\x0bI\\x01\\x0e\\x080\\x08N\\x19_\\x0f\\x01\\x07*\\x0e\\x00DHX!\\x11R\\x03\\x17EI\\x05\\x16B\\x06\\x00M\\n\\tt\\x10\\x19TR\\x00\\x01\\x1dT\\x14\\x10\\x06-\\x1b'\", b'\\x1adS\\x11\\x00FBOb\\x07t\\x0bRO\\x0cT\\x01\\x1c\\x07\\x07Iwg\\x00\\x02xcIKN\\x0f\\x16TS\\t\\x0c\\x0c-\\x13<\\x06\\x16Oo\\x00N\\x1dR\\x1cN\\x00M\\x1bG6\\x1dD\\x00]\\x01:\\x11K\\x0fEH!T1\\r\\x1b\\x00\\x0c\\x00\\x06x\\x06\\x07\\x03T\\x03H\\x13;\\x00\\x19U[\\x00KD\\x00\\x0fE\\x07\\x11\\x1atE+O\\x17O\\x1d\\x1d\\x17NdA\\x08O\\x0e,\\x0eIK\\x1aN\\x1f\\x1dAME\\x0bn\\x1a0\\x0e\\x1f\\x01\\x0c', b\"i \\x12\\x04 \\x07tE\\x15O\\x0b\\x07\\n;\\x06\\x1d\\x0bI\\x1e\\x03\\x130:\\x07\\x070:\\x1fTE\\x18E\\x1c-\\x06 E\\x11\\x00\\x1cA\\x06\\x13;\\x0f\\x03N\\x03\\x16\\x0c+\\x19ILU\\x07S\\rH\\x0c5\\x18'\\x135\\x11\\x00\\x1cEY\\x07\\x04\\x1c\\x1a\\x01n\\x05\\x01\\x060\\rIT\\x16\\x05\\x03\\x13V\\x05\\\\H5\\x106I\\x1dH\\ty\\x06\\x01\\x17\\x1c\\x01SMBm+\\x08\\x0cSR\\x01\\x11\\rG\\x05\\x04\\x046T^ER\\x04\\x00Y\\x0cR\\x11\", b\"eT<\\t\\x13O\\x04H\\x06\\x1d\\x1dN\\x01\\x00MOG4\\x0c\\x05\\x00C\\x01\\x07\\x07i\\t\\nb0T;\\nR\\x00EG\\x02\\x1d\\x1f\\x02\\rNM\\x01Gx\\x06IEN\\x1cy\\x1bW\\x0c*\\x07'\\x11zIROER\\x10\\x17\\x13NII\\n\\x07\\x117\\x0cNN_N\\x1c\\x1d\\x00\\x04\\x00\\x00'Tt\\x0c\\x17O\\n\\x00I\\x06\\x0b\\x01\\x1bOMCG=cDy\\x1a\\n\\x05TAA\\nH-\\x1b-\\tR,5W\\x1a\\x0b\\x00NN*M\", b'\\x1f\\x1d\\x0c\\x00\\n\\x1f\\x1e\\x0f\\x07N\\x19\\x02\\t:\\x0f\\x0eSVNS\\x13\\x00A\\x17He\\x11\"$Re\\x0b\\x00\\x05\\x07\\x07\\x01ND\\x08\\x0e\\x0e<\\n\\rLNN\\x07\\x11Y\\x00\\'\\t*\\x11<\\x10\\x06OE\\x00\\x08\\x01\\x05\\x17\\x07L\\x1f\\x1bG6I\\x1bIMNST\\x00k\\x0b\\x06\\x0bT0\\x11R\\x03\\x0cS\\x08;\\x16\\x1d\\n\\x00\\x1f\\x1a@xcIC\\x1a7S\\x1bWA\\x00\\x1b6\\x03-\\x08R\\x18E\\x00\\x0f\\x1d\\x1e\\x06\\x0f\\x00M\\x02\\x08\\x08c', b'I\\x1d\\x1ed\\x05Y\\x01\\x1d\\txI\\x10T_\\x02\\x1c\\x1dA\\x15\\x07\\x01;\\x13;\\x0b\\x1fO\\x00N\\x1dx\\x17d\\x0bG\\x1d\\x00\\x08x\\x1a\\x0fO\\x1a\\x0fS\\x1dO\\x05\\n\\x18.\\x17!\\x03\\x17CE\\x00\\x1d\\x1d$\\'NO\\x04\\x06\\t4\\x0c\\x01L\\x1d\\x1a\\x1c\\x1a\\x007\\x16&  tBU\\x0eE\\x00\\x00\\x17\\x1cN\\x05\\x00\\x14\\x00\\x08:\\x00IRI\":\\x01A\\x0e$\\x1d\\'\\x03&\\nR\\x07EU\\x1e\\x1c\\x06\\x17\\x1bM\\x0c\\x06\\x1e5\\x07\\x1cNV', b'\\x1cC\\x08&GxI\\r\\x07N\\x02S\\x06G\\x0eE\\x0cb\\x1c1\\x13\\x1d\\n\\tOI\\x15R\\n\\x06sM&\\x130I\\rNVN\\x01\\x01T\\x0f\\x08\\x03b\\x11tE\\x17\\x1b\\x11E\\x1bR\\x1f\\x1e\\x07N\\x0cH\\x15x\\x07\\x07\\x07SN\\x16\\x1d\\x00\\x0e\\x10O;=;\\x04\\x13\\x07\\x08\\x00\\x04R\\x1f\\x1a\\x1aNM\\x02\\x02;NIN_\\r\\x10\\x11T\\x04\\x06\\x1a,\\x01:E\\x13\\x1d\\x1cN\\x0f\\x1b\\x15\\x1d\\x06\\x00\\x05\\x00\\t=\\x10\\x1d\\x00O\\x01\\x00XA', b\"\\x0e3I\\x07O~\\x1aSTH\\x00\\x01\\x07+\\x03^\\x005\\x0eEE\\x1c\\x06RN\\x07I\\x00O\\x06,\\x10\\x1d\\x00\\x1a\\x0fSTU\\x00\\x04\\x1b*T5\\x006\\x01\\rTI\\x1bR\\x1c\\x0bN\\x14\\x1dGx\\x07\\x04HC\\x01\\x14TN\\x03E\\x03#T3E\\x1d?EZ\\x1a\\x17\\x1b\\nNF\\x08\\x07G<\\x04\\x10N[\\x1d:S\\x00\\x12\\x04H'\\x001\\x00\\x16O\\x1cT\\x02\\x1d\\x10\\t\\x1bT\\x02\\x06\\x0e9\\x08\\x1cK\\x1aN\\x16\\x1dS\\x16\\x0cH;\", b\"NS\\x1aS\\x12j\\t\\x04\\x0b'\\x0e&\\t\\x1cC(\\x00\\x06\\x06xNN\\x00\\x19\\x0b\\t*\\x0c N[\\x0fT\\x00*\\x0fo\\x1b!\\x003E\\x13\\x1b\\x0e\\x00\\x0c\\x0b\\x13\\x1cdC\\x03AK7I\\x06W[\\x07S\\x1dOAEbe\\x012\\x00\\x1c\\x1c\\rT\\x1cR\\x1a\\x07\\x0bR\\x03\\x00\\x0f9I\\x08*\\x1a\\x17S\\x1dNAE\\x1c1T:\\x15\\x02OI\\x00I\\x05\\x06\\x06BN\\x02O\\t=I\\nTT\\x1aS\\rO\\x15E\\x1c+T7&R\", b\"\\x13N\\t\\x00Hb\\x11:\\x17R\\x16\\x10SIR\\x0b\\x17O\\x07,\\x0e\\x147\\x01\\x00\\x00VNSTGF\\x16\\x00\\x11\\x10e\\n\\x19\\x1d\\x0c*\\x1d\\x13\\x17=\\x02I\\x03\\x16(=\\x06I\\x00\\x1a)\\x11\\x1dN\\r\\x06\\x067~53R\\x16\\x17\\x00\\r\\x1bR\\x06IP\\x0cO\\x14=\\x0c\\x1eAT\\x01\\x07'MA\\x1c\\x06b\\x137E\\x13\\rEII\\x06Rd\\nA\\x04\\x00G?\\rcK\\x1adS\\x11DA\\x01H,\\x1c6E\\x11eIO\\x1d\", b'\\x01e\\x117\\x086\\x02\\x01A\\x04\\\\\\x15NdLM\\nG+\\x07IT\\\\\\x0b\\x00\\x19I\\x00\\x06\\t\\'Tt\\x00\\x1dOHME\\x1d\\x1e\\'NKM\\x0e\\x0e6\\x0e\\x00V\\x1a\\x1ay\\x1aG\\x0e\\x04\\x1c&\\x18;\\nR<\\x0bA\\x08\\x1b\\x17-NN\\x19\\x06\\x157\\x1bc\\x00\\x1dB\\x1d\\x1aA\\x0fE\\x07\\'\\x001B\\x06\\n\\x04B\\r\\x17\\x11\\x1a\\x0cH\\t<\\x086\\x04\\x1cb\\x1a\\x17y\\rB\\x11\"Hb\\x12=\\x08^\\x0e\\n*I\"R\\x03\\x06'], 15: [b\"\\x1d\\x1f\\x00\\x06\\x1e\\x1d\\x0cG\\x08A\\x1a\\x1aA\\x0b\\x07\\x08\\x16\\x07\\x1bN\\x00O=\\x0eN\\x1fAB*1\\x1d\\x0b\\x1cR\\x0f\\x19\\x02\\x08\\x00:\\r\\x00b\\x11\\x0beA\\x13dA\\n0\\x02_SN\\n!<R\\x0c\\x06\\x17NMG\\x01L=\\x15\\x05\\x066E\\x02A\\x1b\\rYA6\\n\\x1aSE\\x04';RE\\x19\\x1bN\\x0c\\x06\\x07O\\x07T\\x12\\x07\\x01\\r\\x1d\\x00\\x04\\x00N\\x07,\\x1aMSS\\x16\\x055\\x13\\n\\x06\\x1b\\x0b\\x0c\\x0f\\x00y\\x01\\x13\\x08\\x07T\\x04\\x06S\\x07\\x08\\x00\\x001I\\x1a\\x12\\x00\\x00b:+EI\\x17\\x06\\tG\\x1cN7\\x11M\\x1d=I\\x1dN\\x16\\t\\x00\\x06=IRSG\\nb-\\x01\\x00\\x0f\\x17\\x02\\x0c\\x12\\x10\\x00\\x08\\x1d\\x16\\x06\\x11&\\x01N\", b'BI\\x1e\\x00\\x08G\\x1aO\\x1a\\r\\tO\\x13\\x17OA\\\\NN\\x02:\\x05N\\x1cO\\x0cb7\\x17E\\x07^Ng\\x12\\x01\\x07\\x02\\x19\\tH\\x1a$OYxNN&<\\x08\\x1aS\\x00o-0\\x19\\x1cc\\x1e\\r\\x0b\\x1e\\nG\\x0b\\x1d\\x00\\x00\\x11E\\x1aT\\x0b\\x00C\\x1b7IU\\x16G* 6\\x06\\x0b\\x1a$B\\x03\\x15\\x1dG\\x01\\x04\\x13bT\\x10\\x16Y\\x17-IH?\\x1bUS\\x00\\x07\\';\\x17\\x17\\x1a\\x07N\\x03\\x13\\x1bA\\x05\\x1b\\x0f\\x00\\x13E\\x03R\\x1fN\\x07\\x0e;\\x1cT:*\\x011t\\x06E\\x06\\x13\\x0cMG\\x06C\\x1eS\\x0eHTEO\\x00\\x1dB\\x00O,\\n\\x1a\\x11A\"-t\\x10E\\x00\\\\\\x1bM\\x02\\x10S\\x01\\x1d\\x14\\x1cT\\x0eOOR\\x05', b'\\x1f\\x1c\\x01GIY\\x17\\x12FH\\x11E\\x06A\\x1d\\x00\\x00\\x02x\\x10_\\x16\\x00Eb:5\\x04IxIM\\x14:S\\x0b\\x07\\r\\x11\\x11\\x11\\x0bN\\x10Ns\\x1b6\\x1d\\x1a\\x07*\\x0c+e\\x11EE\\x1f=\\x04\\x0e\\x0fO\\x0f\\x1d\\x13\\x03\\x19E\\x01T\\x06\\x1c\\x00\\x0b=IOyWI+<\\x1d\\t\\x1dS\\x0f\\x0cGNH\\x07\\x13AH\\x183\\x1c\\x00\\x1bN\\x00\\x1d6I\\x1a\\x1c\\x00\\r;-\\\\E\\x1b\\x06\\x0b\\x03\\x13\\x0cT\\x05\\x1a\\x04\\x1d\\x17\\x11\\x07S\\x17NE\\x02*\\x1a[\\x01\\x07E\\x11t\\x13\\t\\x06\\x11\\x1bM\\x06cDN\\x01A\\x1c\\x01\\x08\\x0eT\\x05\\x17NO+cRSB\\n6;Ro\\x06\\x06\\rM\\t\\x06TN\\x1d\\x14\\x1c\\x1a\\x11eY\\x10\\x03*\\x16', b'M\\x0eIT\\x1a\\x11AH\\x07\\x06\\x02H\\x00\\x14NOR\\x100SG\\x11/^\\x06B\\x06\\x07\\x19,\\x13\\x1dT\\x01\\x11AH\\x1bEOHR\\nE\\x04,\\x01[TSE\\x11 \\x06H\\x02xN\\x08\\x12\\x1aO\\x0b\\x01\\x0f\\x1aT\\x00\\x1c*\\x0b\\x1c\\x00\\x16+I\\x1ay\\x07o*t\\x00E\\r\\x0b\\x07M\\x1e\\x07YN\\x1d\\x0f\\r~\\x11OA\\x17\\x1eN\\x1b2\\x08\\x1d\\x07A\\x10%1\\x1dEI\\x1a\\x03\\x01\\x14\\rRB\\x1d\\x00\\x0fTE\\n\\x00\\x06\\x1aNey\\x10_\\x07NEb7\\x1d\\x04\\r\\x0bN\\x0c@\\x0fC\"\\x1b\\x15\\x1a\\x17EOE\\x1c\\x06A\\x00?\\x0cSyA6--RE\\x1e>\\x01\\x05GcK\\x00T\\x15\\x0bTE\\x04L\"NO\\n\\x08I', b\"\\x0bNd\\x1c\\t\\x04\\x1d\\x08OUR\\x0fL\\x16x 0Si\\x08+t\\x0b(\\x01^O\\x1e\\x06\\x07\\x00\\x06\\x15AH\\x07\\x0b\\x18O\\x15\\x0bTO,\\x00[\\x16\\x00\\x16-$\\x1dEI@N+.\\x1aP\\x1a\\x01\\x02HT\\t\\x18\\x00\\x1d:I\\x16!\\x00N\\x1cM'0\\r\\x17\\x0b\\x05\\x1f\\x17MG*\\x00\\x07\\x11\\t\\x06\\x13\\x17<R\\x01\\x00L\\n\\x7f\\x01U\\t\\x00\\x17.3\\x00\\x17\\x1c\\x06d\\x0c\\x06\\x0c\\x00N\\x1dA\\x06\\x19\\x0c\\x0eTR\\x1a\\x00\\n<N\\x1aS\\x00Ib6\\x1a\\x04I\\x1cN\\x1f.\\x05R\\x07\\x1f\\x04\\x0b\\x1c\\x00\\x03B\\x05NY\\x00+\\x1c\\x1a\\x05N665\\x0bE\\x0f\\x05\\x06\\x0c\\x00\\x08Td\\rM\\x05\\x1cE\\x1c*\\x0b\\x0bL\\x02!IV\\x1e\", b'\\x0f\\x13 \\r\\x11\\t\\x01E\\x1f\\x1az\\x1d1INTi\\x016;\\x1c\\x0cI\\x0b\\x0bMG\\x0cY\\n\\x13\\x04\\x1a\\x13,\\x1bO\\x17\\x19I\\x160 N\\x17GE.tR\\tI\\x07\\x1d@\\x08\\x06\\x00N\\x11\\x08\\x1b\\x00\\x06\\x1b\\x00\\x17=N\\x076IU\\x1dY\\x13#!\\x17\\n\\x1b\\x1d\\x1d\\x14K\\x0cW\\x01\\x1d\\r\\x18\\x15\\nO\\x00\\x1d\\x17T\\x064\\x06\\x1a\\x16C\\x1c#-\\x1d\\r\\x06\\x17I\\x05m\\x1bN\\n\\x1ck\\x18=B\\x0eNR\\x1cA\\x070\\x19\\x1aKy\\x1c5t\\x06\\n\\x06\\x1c\\n\\tm\\x00c\\x02\\x11\\x15H\\x00\\x11\\n\\x00\\x1d\\x0bAB/\\x1c\\x1aT*\\x00%5R\\x1cE\\x15\\x1b\\x05\\x0e\\x10I\\x1a\\x1d1HT\\x00\\x0eW\\x13>\\x00O9\\x1c\\x1a\\x1cA\\x10', b\"\\x02\\x01TEO\\x00RNY\\x1b\\x7f\\r_yH\\x08e&R\\x10I\\x06\\rMG.*NTA\\x01\\x1a\\x0c\\n\\x00\\x13ND\\x01*I[SEE';\\x1b\\n\\x05\\x13'\\x1d\\x08ZN\\x1c\\x18\\x00\\x1a\\x17EOA\\x13\\x0fT\\x0ex\\x0c\\x1d\\x07UB.1\\x19\\x11I\\x07\\x0bMGI\\x00\\x0f\\x1d\\x0c\\x1c\\x18I\\x1d\\x00\\x01\\x02\\x00\\x067\\x05S\\x03*E)t\\x1c\\x0c\\x07R\\x01M\\x15\\x0cs\\nTA\\x01 \\x15H\\x00\\x06IF\\x0e6\\x08[SM\\\\-1\\x17<\\x0c\\x16\\x1aM\\x08I\\x07\\r1AHX\\x04OORdSO6DR\\x14W\\x17\\x11&R\\x1c\\x0f^N\\x02\\t\\x00TN\\x11A\\x04\\x18\\x08,\\x00\\x06\\x06Y\\x035\\x05C\\x00c\\x0b;'\", b'\\x1f\\x0b\\x1dM\\x14dTex\\x00ISS3\\'t\\x1f\\x10\\n\\x06dM\\x08\\x19S\\x01~\\x15!\\x1d\\x13ON\\x06\\rG\\x0bxIV\\x1fT\\x060:R\\x0b\\x1a\\x14\\x0b\\x14GIUNTA\\x01\\x00\\x06\\n*\\x13\\x00K\\x01v\\x04N\\x01\\x0c\\net\\x17\\x17\\x0cR\\x0fJK\\x1d*)\\r\\x15\\x1c\\x11D\\x0e\\x00\\x16dO\\x06(\\x07J\\x1fN\\te2\\x1b\"\\r\\x1c\\t\\x19\\x11\\x1aEN\\x00A&\\x16\\x11\\x07I\\x1f\\nIO9\\x19^\\x07V\\x01\\'t\\x07\\x04\\x08=\\x02\\x14K\\x1aN\\n7\\x12D\\x19\\x15ON\\x06\\x1cD<=\\x1aTSE\\r\\'1\\x1d\\x1c\\x1dR\\x1bM\\x00IK\\x1a\\x11\\x05H\\x12\\t\\x0eU\\x1d\\x06\\x00\\x06x\\x08O\\x1c\\x00\\x0c-xR\\x0c', b\"O\\x07\\x1d\\x07L&0>~\\x1d\\x00\\x04b5R\\x0bI\\x15\\x01\\x053\\x0fN\\x01\\x1dA;\\x1cE\\tExI\\x00\\x00=\\x000\\x03I\\nb5RB[\\x17\\x1a\\x0b\\x13IC\\x0f\\x1a8\\x1b\\x13\\x0e\\x1dA\\n'NO=\\r\\x1a\\x00O\\x00bt\\x1e\\x11I^\\x1d\\x03G\\x05\\x00\\x07'\\x0e\\x07T\\rO\\x00R'\\x00&x\\x02O\\x14\\x00\\x04e11\\x17\\x07\\x1eN\\nG\\x01I\\x01T7\\r\\x18\\x04\\x16T\\x17\\x00\\x00\\x00;\\x1dT\\x03\\x00E';R\\x0cE\\x00\\x05L\\x0bN\\x00\\x03S\\x0e\\tTE\\nI\\x01\\nHC9\\x06\\x1a\\x02A$0 \\x13EI\\x10\\x06@\\t\\x0eOd\\r\\x04H\\x1b\\x04\\x1a\\x00\\x0b\\x1dM\\n>\\x1dS\\nS\\x1067\\x1fE\\x1d\\x11\", b'\\x13NC\\x04!\\x07_\\x16jBH:\\x15\\x0b\\x04\\x1d\\x02M\\tIO\\x02\\x17\\x12\\x0c\"\\x08\\x0eWRNwO7\\x07\\x1a\\x00i\\r\\'\"\\x1b\\x0b\\x1dRNM\\x02I\\x00\\x1a\\x15\\x0f\\x0c\\x1b\\n\\x00E\\x1d\\x02PH<\\x0b\\x1aS*\\nbs+\\r\\x05\\x1ddMG\\x06L\\x02\\x1a\\x0c\\x07\\x10\\x10e\\x00\\x1ddiH4\\x07C\\x16NE!tRE\\x08\\x17I\\x18\\x00I*\\x0b\\x1a\\x0f\\t=\\x15\\x06ZR\\x07RH2\\x1e\\x16\\x1aA\\x00\\x0b^R\\x12\\x10\\x1cNC\\x02I\\x00\\x1d\\x07\\x04\\x1c\\x1a\\x10\\ryR\\x1aOO=ITSA\\x10b:\\x17E\\x02\\x16\\r\\x02\\x0eDK\\x01T\\x11HT\\x07\\x18N\\x1c\\x17\\x00\\x06=\\x08O\\x16TE+0\\x1aI\\x0c1\\x06M', b'N\\x1b3\\x0c\\x1aS\\x00\\tbt:\\x01\\x06\\x1b\\x07\\x19\\x02\\x02T\\x0fT\\x0e\\r\\x07\\x00\\x0eO\\x06\\x07Y\\x0e0\\x08\\\\\\x07*\\x16e5\\x01\\x00\\x1aR\\x06\\x1dJ\\x10N\\x03\\x00\\t\\x06\\x10EOM\\x1dNC\\x0e1\\x04\\x1a\\x16A\\x08H:6\\x16\\x06\\x13NM(\\x19P\\x1a\\x1bA\\x07\\x11\\nC\\x00!\\x0fNe;\\x04S\\x07OE)5\\x00,\\x08\\x13\\x1b\\x0cG\\x0cR\\x1a5AO\\x13\\x08?P\\x19\\x07T\\x01=IO\\x1d\\x00\\x0260R<\\x00\\x1c\\x01M@IN\\x0f\\x1dA\\x07\\x18EHS\\x17\\x01d\\x0cx\\x0c\\x1a:C\\x06,5\\x10\\x1cI\\x06B\\x08\\x08\\rSN\\rA\\x1f\\x18\\x08\\rO\\x1c\\nK\\x00,\\n\\x1a\\x01NEn \\x11\\x00\\x08RN\\x02\\x06c', b\"<\\x01SSG\\x00 86\\x04\\x00R\\x07\\x01\\x0cIT\\x07\\x06\\x0f\\x02\\x03\\x15\\n\\x00\\x1c\\x01\\x07\\x037IC\\x07F\\x17\\x16=\\x1f\\x16IRN\\t\\x06\\x05\\r\\x0fT\\x18\\x00\\x06EOG_\\x0bD\\x021\\x0f[ST\\x11b5;E\\x0cR\\x1b\\x03\\x0c\\x0eV\\x1c\\x11A\\t\\x13ECNR\\x1ePOx?_SK\\n75\\x01\\x0b\\x10\\x11\\x00\\x1f\\x14\\x02LN\\x1b\\x0e\\x04\\x13EOAR\\x07EO0N\\x1d\\x1cSE\\x0b<\\x1bE\\x1d\\x1d\\x1aM\\x12\\x04\\x19d\\x1d\\x0f\\x1c\\x13I\\x03B\\x06\\x0bL\\x1a9\\x01I\\x1dW\\x06';\\x16\\x17\\x08\\x06d\\x05G\\x08M\\x17T1H\\x03\\r\\x0eU\\x1d\\x17\\x00O!\\x1cRSOE)6R\\rI\\x00\\x1a\\x1a\\x08\\x04T\", b\"\\x1a\\x16N\\x12+7\\x13E\\x0c\\x1e\\x1a\\x19\\t\\x05E\\x02\\x00\\x02\\x07\\x10\\x10CTU\\x17I\\x1b+\\x05O\\x17\\x00Eb;\\x1a\\x0bI\\x17\\x1d\\x00\\x08\\x08N\\x0fTF\\x1cT\\x00\\x00F\\x1f\\x01\\rOx\\x10U\\x01L\\x04*t\\x14\\x0eN_\\x02\\x03G\\x0eE\\x0b\\x11\\x00\\x1a\\x1d\\x03\\nPRNH\\x1d9\\x1a[:\\x00\\x06',REI\\x16\\x07\\x08\\x03\\x0cE\\x1d\\x1dk\\x07T\\t\\x07Tx\\x14P\\x01xc_SS\\x0b6^U\\x11\\n\\x1f\\x06\\x18G\\x08R\\x17Dk\\x06\\x10E\\n\\x00R\\x0b\\x00O7I^\\x1aT\\x01+1R\\x08I\\x17\\x1a\\x04m\\x08b\\n\\x11A\\x1b\\x18\\x08\\x07I\\x0b\\x1dYC9\\x19\\x1aSA&,^\\x0b\\n\\x1a\\x13/MG\\x01N\\x0bT\", b\"iEe<\\x00\\x16\\n\\x06\\x1d\\x01\\x13\\x01\\x07\\x0fX\\x00\\x01\\x1f\\tOSR\\x1dS\\n4\\x01\\x1aS\\x00\\x04;9U\\t\\x0cU\\x07M\\x06\\x0cK\\x00T\\x181T\\n\\x07\\x00\\x07\\x1bA\\x00x\\x1eVSU\\x04+:\\x13o\\x05\\x17\\x03@\\x0e\\x06CN\\x11\\x15\\x1a\\x17\\x03\\tE\\x06\\x02NB7\\x06]\\x03N5;;R\\x0c\\x1a\\x05\\x1dM\\tI\\x00NTA\\x039\\x13\\x1c\\x00\\x17\\x06n\\n7N[ \\x00\\x02btR6\\x04RN\\x08\\x08I*\\x00TAH-BO*\\x06\\x1dIO:\\x1dT\\x10\\x00\\x0b'!\\x06I\\x1d\\x17\\nM\\x13\\x04y\\x1a\\x1bAH\\x15\\n\\x0eU\\x1b\\x1a\\x00\\x06tIT\\x1fM\\x016;^5I\\x0b\\x0f\\x19G\\x07F\\x07XA\\x0e\", b\"e6R\\x0c\\x05\\x06\\x05\\x05\\x0fII\\x0bTFH\\x0e\\x0bOS;\\x1aLOx\\x05VST\\x07&9\\x1d\\x00\\nR\\x1cM\\tc\\x00NT\\x02\\tT\\x00\\x18\\x00\\x17\\x0cG\\x013\\rq\\x1cU\\x1713\\x16E\\x1d;\\x17MGILN\\x15k\\x18TE\\x1bER\\x1c\\x00\\x0e7DW\\x11H\\n&z\\x17\\x08\\x08\\x11\\x1a\\x04\\x13\\x0e\\x07\\x07\\r\\x03\\x1f\\x15\\x00\\x00I\\x1b\\x1aT\\x067\\rIS\\x00\\x11 &\\x1c\\x08\\x0e\\x02N\\x01mIU\\x03'\\x05\\r\\x00\\x0c\\x00\\x00;7T\\x00,\\x04_\\x1bG\\x04Hs\\x02\\x17\\nR\\x01M\\x08cL\\x0b\\x1bA\\x11\\x03\\n\\x01N\\x0b\\x1dT\\n,\\n\\x1a\\x14D\\x047=R\\x08I\\x1e\\x03M\\x1eIL\\x01\\x01\\x15H\\x1b\\x10\"], 33: [b\"\\x1dIO_\\x0c\\x1a\\x14\\x08M\\x10=\\x06*W\\x17RAD'\\x08\\x0b\\x01\\n\\x1a\\x1fNN\\x1aHt\\x01\\x1c\\x1d\\x05\\x11\\roM\\x109RY\\x00\\x16\\x16\\x12N)\\x00\\t\\x1aE\\nRS\\x0b\\x0f\\x0e^\\x08\\x06_\\x0c\\x07\\x0b\\x00\\x0cX=RNE\\x14\\x16A\\x00-\\t\\x07\\x19\\x00\\x00\\x06T/\\x06\\n'\", b'Bd\\x14\\x00\\x1dO\\x16t\\x02ON\\x01~\\x07\\x04g\\x07x\\x01KY\\x16\\x14\\tA-.\\x06\\x04o\\x0b\\x1d\\x0cN\\x1a\\x1b\\r\\x1dC]\\x1a\\x11dEMT\\x7f\\x1bR\\x00S\\x06ATb\\x13\\x0c\\x19<\\x00\\x1f\\x00\\x02\\x07Ot\\x05O\\x1a\\x1dSN\\r\\x08\\x15,\\x0bKO\\x1f\\\\M\\x00nG\\x0eI\\x0c', b'\\x1f L \\x0fEI\\x0b\\x07;\\x00\\x0b;\\x039:\\x1b0ITNE\\x0b\\x063\\x11\\x00AS;\\x13Nb\\x0cEI\\n\\x07RH\\x0f\\x18&5\\x0e\\x1c\\x1a\\x07\\x1b\\x1a\\r\\x05\\x180\\x1cTN\\x03\\x1d\\x05E5\\x0bI\\x04\\t\\x02\\x01W\\x01\\x1cB \\x08\\x01RE\\r\\x17\\x04MT>RLY\\x1c\\x11', b\"MT!\\x13AHy\\x1d\\x02\\x00/G\\x08\\x05\\x0b\\x01\\x13i\\x1db\\x04;I\\x00_\\x02\\x18\\x02\\x04MTx+EAy\\x07\\x0cH'\\x1eI\\x07E\\x07\\x17*I\\x07\\x071\\x0c\\x06_\\x06\\x1dI\\x00\\x18Ty\\x17\\x00\\x00\\x12\\x0bAO+GEDE\\n\\x16ANHC-c,O\\x1a\\x1dN\\x0bM\", b\"\\x0b\\x1d\\x1a\\n\\r\\x0f3\\x19\\x1f:\\x0bSOS^AGe\\x06$\\x00\\x0b\\x03\\x07\\x00N\\x01\\x0e:\\n\\x18N\\x06\\x11\\x00'J\\x117\\x06\\x00\\x00\\x07\\x05\\x13LeG\\x13\\x1b\\x17N\\x19\\x00N\\x06O0I\\x03\\x1a\\x08\\x1d\\x1d\\x01\\x1f\\x19x\\x06CBS\\x06A\\x006\\x00\\x08IEd\\x1dN\\x0f\\x1c\\x02xc\", b\"\\x0f\\x1dG\\x05H\\x1d5IO_I\\x1d\\x01\\x07M\\x13=\\x1f\\x00N\\x17\\x17\\x18G+\\x08\\x0e\\x0fE\\x0f\\x17O\\x1b\\x18\\x0b!\\x05CW\\x1d\\x1d'\\n\\x04\\x1841LI\\x1c\\x177E \\x13B\\x1dE\\x03\\x17y\\x05\\x1c\\x00t\\x00\\nI\\n\\x01\\x0b$\\x05\\x03+ROU\\x14\\x061M)\\x1e\\x11\\x1cE\", b'\\x02C+G\\x06\\r\\x0b\\x02\\x1bG\\r\\x0c\\x1b1\\x1d\\n\\x1aI\\r\\nEMT0\\x06NE\\x01\\x17\\x0fTbGEI\\x11\\x02RE\\x07\\x1cH,\\x07OS\\x08\\x1d\\x00\\x10M=x\\x13R\\x00\\x1a\\x1f\\x08N-\\x02EI\\x04\\rRT\\x06\\x1aO:\\x08\\x1dS\\x0fT\\x1d\\n\\x05\\x18=\\x0b\\x00L\\x001', b\"\\x1f3\\x00OUS\\x1b\\x00N+\\x08\\x00\\x01E\\x06\\x06*\\x07HO:\\x10\\x07\\x1aITN\\x04\\x0bTv6CT\\x1cRAN GD\\x04\\x0c\\x01\\x01N\\x1b\\x03H3\\x1a?[\\x1a\\x1d\\n\\x02\\x08\\x13<\\x07N*:\\x1c\\x12d'G\\x00\\x1a\\x1c\\x1a\\x1dN\\x1b\\x1f\\x06t\\x08\\x0e\\x1aI\\x1d\\x0b\\x0c\\x02\", b'OS\\x05\\x12\\x1a\\x04\\x01\\x0ex\\x1cN\\x00Sx\\x04\\x00\\x16\\t\\x11 B\\x0f\\x17*\\x1d\\x1b\\x023\\x0f\\x1b\\x1a\\x0c\\x15\\x1c\\x13\\x03\\x137\\x1dW\\x00S\\x11ATe\\x14\\x00I\\r\\x01R\\x00\\x0b\\x18\\x00<I\\x07\\x1aE\\x1d7E\\tT9\\x02D\\x00\\x02\\x06AN%\\t\\r\\no\\x1a\\x0bO\\x03\\x1cO7\\x04', b'\\x13N\\x1dH\\x1b:\\x05\\x160I\\x17\\x17B,\\x1a7\\x1a\\x00HSRFA\\x11\\x08\\n\\x10\\x0c\\x0b\\x13*\\x02\\x06\\x161\\x06\\n\\x1a\\r\\x1dd\\x06\\x0c~7RE\\x00\\x07R\\x0fP\\x05\\x14\\x15\\x1e\\x11\\x01\\x06MN\\x06\\x007I\\r^I\\x1bd\\x10\\x04=?RKIS>A\\x00,\\x12E\\x05I\\x0b', b'NeG\\x08\\x00\\x01\\x0f\\\\id\\r\\n7\\x07O\\\\\\x0c\\x19\\x0b\\x06\\x1dT<\\x1dUMS\\x1e\\x02KH\\x0eE\\x00\\x17\\x1a\\x06G\\x17\\x1ce;\\x1d<J\\x08T-\\x17\\x19\\x137\\x17\\x00I\\x1dR\\x0f\\x00\\'@B\\x1c\\x04\\n\\x17\\x00\\x0c\\x0b<5\\x04O\\x1a\\x1d\\r\\x1a\"\\x0c\\x12,^S*\\x1cRA', b'<RYE\\x1dRF\\x0063\\x15\\x05\\x04\\nxF\\x1c\\x11\\x165\\x05\\x18\\x1aI\\x1a\\x0b\\x17\\x04\\x00=;LT\\x1d^A\\x00+K\\r?\\x08\\x07\\x1d\\x00\\x00\\x1f\\x1d-\\x01OI\\x1b\\x1c\\x00E\\x01\\x170R\\x19\\x00\\x01\\x1c\\x0eLH\\x06\\x11\\x06\\x17\\x0b\\x05*\\x06H\\n;\\x10\\x1aRI\\x1d>\\x10\\x1a\\x1b', b\"\\x1a\\x06\\x11NB\\x19\\x07RROT\\x1f\\x07Awb\\x02EI\\x0b\\x0f\\x13S'\\x0cO<\\x1aO\\x1aN\\x15\\x1cBM\\x1d6\\x00\\x00\\x00:\\x1b\\x0f\\x00!\\x03\\r\\x08\\x0c\\x0bxS\\x03\\x01H^\\x00\\n[\\x10D\\x08EM\\x1a7+COS\\x17MA\\x11\\x0e\\x08IEN\\x1cA\\x02\\x0b\\x030\\x01\\x01\", b\"i\\x00\\x04et\\x01O0\\nT\\x1d\\x0c\\x1e\\x1d0U\\x07O\\x1fR\\x18N-GE\\x1e\\x1c\\x1a\\x13A\\x03\\x00\\x16t\\x19\\tU\\x05\\r\\x0f5\\x03\\x13(\\x00\\x00Y\\t\\x1cAn'\\x06\\x11I6\\x05RV\\x01H\\x0e6\\x1aHT\\x06\\x1f\\x1c\\x06MT+\\x1dSU\\x11\\x05\\x05K6\\x02E\\x08\\x00\\x07R\", b\"eG\\t>\\x04\\x0b\\x1di\\x01\\x02O:\\x0c\\tC\\n\\x07\\x19\\n\\tT6RCG\\x1c\\x1f\\x08NbGEI\\x11\\x1cRW\\x1d\\x07OzNOO\\x10\\rN\\x1c\\n\\x137\\\\NT\\x1c\\x02\\x04A'\\x12\\x0c\\x1a\\n\\x03\\x06G\\x1bHC;c\\x0e\\x1aIT\\x1d\\n\\x05\\x1b!RTW\\n\\x00\\x15*\", b'\\x1fT\\x00\\x16\\x1eANe\\t\\x10\\x0eBNR\\x00\\x0fH\\x01\"\\x08e[\\x05\\x15\\x01\\n\\x08\\x17<\\x14L*\\x07\\x1d\\x00Y*G\\x10\\x1aEN\\x01N\\x07\\x07\\x1btI\\x07MIT\\x07\\x0b\\x0cT6RRS\\x07\\x16\\x04\\x00b@\\x04I\\x087\\x1cW\\r\\x1b\\x06-\\x00\\x18\\x1a\\x0fT\\x06EM\\x11\\x08', b'I\\x1cd\\t\\x01\\x13x\\x1fTS\\x1c^\\x15Y;\\x12\\x0bI\\x00\\x00x\\x00\\x0b\\x06\\x000\\x1a\\n\\x1a\\x05\\x1d:\\nM\\x177\\x17*\\x00\\x03$\\tO)\\t\\x10\\x01\"\\x1a\\x17\\x00d&\\x01t\\x1b\\x0e^\\x00TNI\\x14\\x18:\\x06RN:\\x17\\x0eY\\'\\x08\\n\\nE\\x1a\\x1cM\\x1b\\x05\\x06 \\x07OV', b\"\\x1c\\r&8I\\x06NI\\x06\\x1aEM\\x1c7\\x1dSO\\x03R\\x02s.\\x13E\\rEN\\nT\\x17\\x03\\x07t\\x0e\\x1bO\\x1b'\\x1e\\n\\x0c\\x15x\\x01\\x07\\x00\\x16\\x1e\\x0eT;m\\x04N\\x08\\x05R\\x00\\x1a\\r\\x02tN\\x03_\\x06\\x11\\n\\x06M\\x01/\\x13MNS\\x15\\x04\\x007\\t\\x00\\x1d\\r\\x01\\x10A\", b'\\x0eE\\x07E\\x1a\\x00H\\x02\\x07O^.\\x0eO\\x1c\\x11N\\r\\x00\\x11,\\x1b\\x00FSx\\x00P*G\\x00\\x0c\\r\\x0b\\x1b\\x07\\x0b\\x07\\x1d;\\x07\\x1dCIT\\x1eE\\x18T,\\x1dsZS\\x1b\\x00F\\x0bG\\x04\\x10<\\x1dR\\x00NHO1\\x1cOR\\x02\\x11\\t6\\x02T9\\x01K\\x00\\x16\\x13\\x16O;', b\"NMS\\x06\\tL'\\x02\\t\\x05(\\x01\\x06\\x00NH\\x0b5\\x0cO[\\x1a\\x00\\x1bo+\\x001\\x13G\\x00\\x01\\x13\\x15C0K\\n\\x06\\x0b\\x07\\x16O\\x1db\\n2\\x0c\\x1cU\\x1c\\x00\\x07\\x02\\x03\\x199R*RS=AI1.\\x15\\x0cI\\x1e\\x05EBHO5I\\rT\\x00\\r\\x06E\\x19T!R\", b\"\\x13\\x07\\x00\\x05\\x111RTS\\x16\\x0bA\\x07&\\x14,\\x00\\x16N\\x10G\\x1a\\x00\\x01e\\x06\\x1d[\\x1d\\x1d=\\x00\\x03T=\\x17\\x00N\\x11S\\r\\x007\\x133\\x06\\x17N\\x1b\\x00I\\rO&\\x0c\\x0eT\\x1d'N\\x1cL\\x13,\\x13cI\\x1dRAA0G\\nc\\x1cd\\x1dD\\rH\\n6Ie\\x1a\\x1d\", b'\\x01\\x047\\x08\\x02_\\x04\\x00N\\x11M\"+\\x1dT\\x00\\x00\\x17\\x00E\\'\\x02\\x00\\x02H\\x1c\\x1dLN\\x1a\\x0es\\x0e\\x02\\x1aI\\x1aN\\x04M\\x184ROA\\x03\\x17kN%\\x15\\x15c\\nB\\x06A\\x06\\x07e1I\\n\\x1a\\r1\\x1a\\x01\\t\\x176\\x17bNy^\\x11YbG\\x08\\x08\\n\\x08\"c\\x06', b'\\x0b\\x0c\\x16\\x1aRS\\x07\\x01\\x02t\\x19\\x0e\\x1a\\x07\\x15\\r\\x16M\\x1a,RN\\x00S@AC+\\x1e\\t\\x04\\x16N\\x0bM\\x0f\\x07B6*\\x0eS\\x1a\\x04\\x00\\t\\x0c9?\\x00EP \\x07AI6\\x08EN\\x04\\x0f\\x06*ND\\x0c!\\x06\\x03TI\\x1bB6M\\x18t\\x10TU\\x01\\x0b\\x14L-\\x06', b'\\x07S\\x06Fzb\\x0c\\x0b\\x10\\x0c\\x01\\x1cTI\\x1a\\x00=c\\x0bN[T\\x0c\\x0c@\\x131\\x16O\\x00\\x00Rk\\x00#GED\\t\\x01RK\\x1aH\\x061\\x02\\x00\\x1a\\x06T\\x07\\x11\\x03=;\\x1bUSK\\x00\\x0fT\\x11mE\\x01\\x17N\\x1dAd\\x11O5\\x0e\\x0e\\x1a\\x06\\x1d\\x1dEM\\x1a9\\x1fT', b\"N\\x12\\x0c\\x07\\x7f\\x15E\\x07S\\x06\\x12I*\\x13\\x0c\\x07\\x0b:REN\\x1c\\n Z\\x00U\\x06\\x01\\x0f\\n\\x036+\\x19LPS\\x0b\\x0ci'\\x06\\x11\\x05E\\x1d\\x04A\\x01\\t\\x015\\rH\\x16\\n\\x13\\x1a\\\\C\\x101\\x1d\\x07y\\x1a\\x17\\x15SbmI\\x0c\\x1c\\x01\\x0bG\\x01\\x04\\x06^\\x10\\x04C\\x0cT\", b'\\x1b<\\x1aOI\\x06XN\\x08M\\x074\\x17\\x00N\\x07U\\tT0J\\n\\x08EN\\x1dU\\rH\\x01:\\x06\\x1aN\\x0c\\x1b\\x02*M\\x11;RGR\\x1f\\x13AI.\\x11\\x08N\\x17N\\x1f\\x00N\\x00\\ntIOTI7\\x01\\x0bM\\x1c=\\x10y\\x00\\x05RA\\x00-\\x00\\t\\n5\\x01\\x0b\\x00N\\x0e', b'\\x01\\x0c\\x17\\x1f\\x00\\x07H\\x02;\\x0f\\nVI\\x13I\\x17M\\x110R\\r\\x00\\x07\\x078D1\\x0e\\x06\\rEN\\x06Y\\x1d\\t\\x0e<\\x0cO_\\x08\\x13\\x17\\x04\\x1f\\x156\\x1dIAS\\x06k\\x00\\x0bm\\x11\\x19\\x0cd;\\x07\\n\\t\\x1asc\\n\\x1a\\x08\\x1b\\x17\\x00@\\x03,RI\\x00S\\x1e\\x14\\x006\\x08\\x10', b'\\x16\\x1eAYH\\t\\x08\\x10\\x10\\x02UA\\x19\\x01O;\\x08O[\\x1dTdE\\x1d\\x1bxROAS_\\x05\\x00.G\\x03\\nE\\x0f\\x1d\\x00N\\r\\x06t\\x0c\\x1d\\x1d\\x07\\x1a\\x14\\x16\\x01 2Uy\\x00S\\x1ck\\x00b\\x08\\x10IE\"RA\\x1a\\x1d\\x00&D\\x07R\\x1e\\x11\\x17&\\x0cT5\\x1aNN', b'E\\x08\\x1dx:\\x07AS\\x06\\x0eSb\\x06\\x13\\x08\\t\\x02\\x15T\\x061&$IOVc\\x01\\x00\\x08@\\x11!\\x17PE\\x16\\x1f\\x15N;\\x15\\x17\\x07,N\\x17\\x00\\tO\\n;\\x0c\\x07O\\x04\\x1b\\x1a\\x01M-;\\x1aNS\\x10\\x13\\x04D,\\x13E\\x1c\\x1cN\\x1bA\\x06H\\x00;\\x10\\x1cO\\x08X\\x05', b'6I\\x01~\\x00T\\x00\\x01\\x05\\x03x5YE\\x07R\\rIb\\x06\\x00\\x1d\\t\\x0f_U=\\x1bO5I\\x01UI\\x11\\x1cI\\x14Tx\\x17H\\x00\\x14\\x11\\x03\\x00#GE\\rE\\n\\x17SN\\x1d\\x07;\\x04\\x00[\\x06S\\x0b\\x04M\\x009\\x16LTT\\x101T6\\x0e\\x04\\x1c\\x08N\\x13S\\x1aH\\x16', b'\\x00\\x1aRj\\x1a\\x0bO&ICN\\x06TNE\\x19\\x1b*\\x1bNAT\\x13\\x0f\\r!\\x12E\\x0b\\x0e=\\x0bUd\\x1aAtIe[\\x19\\x1d\\x02E\\x08\\x012\\x1c*TS\\x1aAR6\\x0fE\\x08\\x12\\x17\\x07N\\x1a\\x1cO:\\x0fOTI\\x11\\x06\\x17\\x02\\x18=RTNS\\x17\\x15Y+G&I', b'\\x1e\\tTb\\x13\\x17 \\x10\\x0fROO!\\x0e9\\x01\\x18V\\x1aTN\\x16\\x14\\x10x\\x19P*\\x16\\x17\\x00Ie(\\x03I\\x0b)!NB\\x06\\x065I\\x16U\\r5\\x06\\x07\\x0c\\x16=RAT\\x07\\x1cA\\x07bKE\\x1dE\\x07\\x06C\\nH\\x001\\r\\x0e\\x1a\\x0f\\x11\\n\\x01M\\x1cx\\x11FO\\x1e', b\"\\x01\\x1106IAT\\x15\\x0fLbGEI\\x00\\x0b\\x17IN\\t\\x1btIOqE\\x11'\\x11M\\x196\\x1eVEy\\x1d\\x0eP&G\\n\\x02\\x0b\\x07\\x1bCN\\x04\\x06-\\x1b\\x16\\x1d\\x0e\\x1a\\x1cEM\\x00*\\x06\\x00B\\x1b\\x11\\x15H'\\x08\\x08\\x1cE\\x17\\x0bB\\x1bHO=\\x06\\x0eSI\\x01\\x03\\x10\"], 40: [b'\\x1d3\\t\\x08:I\\x16T\\x0cNO\\n\\x1c\\x07\\x17\\rRGd\\t\\x1d\\nC\\x1bMH\\x076(!6\\n\\x0cR\\x04OO,\\x1a\\x00\\x1a\\x06S\\x19\\x1c\\x1b\\x00\\x1c\\x08\\x01\\x1c\\x00\\x07\\tb\\x0c\\x00G5/I\\rRI\\rI\\x00\\x1aW\\x08\\x08\\x1c', b\"BS\\x00\\x1a\\x00y\\\\\\x06\\x06O\\x01AN\\x17DH\\t'&\\x06\\x0801E\\n;\\x0c\\x1aV\\x11UN\\x0f\\x1aS\\x01\\x04\\x11*-\\x0e\\x01\\x07E\\x01\\x03\\x0b\\x0e\\x13\\x121;II\\x06\\x01OC\\x17R\\x00\\x17\\x0f\\x11\\x1d\\x11\\\\O\\x06\\x14\\x1a\\x0b\", b'\\x1fNdF\\x1a3\\x00\\x07Mb\\x1b\\x1d\\x14;x\\x11\\x08R\\x1d\\x00UEU*\\x0fN\\x01\\x06\\x11RWN\\x15\\x0f\\x06OH\\x08e\\x1dT\\x11-x\\x11\\x0cU\\x19\\x07R\\x04[\\x00\\n\\x06\\x1a\\x06\\x01\\x17E\\x17A\\x1b\\nYHM,\\x06\\x1aGx', b\"Me&\\x07\\x135R\\t\\x0f\\x06\\x01\\tT\\t0H\\x00[T\\x07\\x1axU'\\x0f\\x03\\x00\\x00\\x1a\\x03*BT\\x1e;x\\x11I1\\x08\\x1cIE[TB\\x04\\x03\\x06T\\x00N\\x1d\\x0eN\\x0bH\\x1aM0\\x00\\x15\\t-t\\x04c^\\x1d\\x04FE\", b'\\x0bR\\x07OI\\x0b0S\\x02\\x01SR\\x15Ri\\x0b\\x02N\\x16G\\x0c+1HTGs!E\\x06\\x17De\\x00\\x08CR\\x07\\x08\\t\\x1b\\x1a\\x06\\x00\\x07AN\\x00\\x00\\rCb\\x00\\x1a.s=\\x00c\\x17\\x1c\\x01KE\\x1aNdI\\x16\\x0b\\x011', b'\\x0f\\x06S\\x1f\\x1a\\x1biN\\x0e\\x0bBY\\x1a\\x19e\\x16\\x11Jt0E\\x06R\\x04\\x1bL\\x16UA\\x1a\\x1bS!\\x1d\\x1bO\\x17\\x12\\x1b\\x1cNO\\x05\\x05\\x01=\\x0f00\\x04I\\x06IHcE\\x1a\\x007IT\\x16\\r\\x15G\\n1\\x02E\\x00\\x06\\x02', b'\\x02\\x00\\x00YO\\x01e\\x02\\x03G77\\x0c\\x01\\x1fIO\\r\\n\\x1aG\\x1ccS\\x13\\x1dRU\\x00A\\x0b*P\\x1c\\x037\\x06T\\x14t?E\\x0c\\x17NHAE[Rd\\x0c:\\x061\\x13Wd\\x0ed\\x17\\x00H\\x02-O\\x18\\x0265\\x0e\\x04', b'\\x1fG7xE\\x05\\x1f\\x10CS\\x04ON\\x0bI\\x1f\\x10T\\x14*\\x01A=\\x04K\\x03\\x03e\\x0b\\x1dK<9DNR\\x07\\x1cE\"\\x1aTN\\x1bS\\x1f\\x1a\\x1fVNk\\x02E\\x00DM+<\\x01m1+\\x08IR\\x19\\x0eT\\nOY\\x0b', b\"OT\\x16~H\\x0fISR\\x1d\\x07\\x00IA\\x07\\nE1\\x0b\\x11\\x00\\x13\\x12:=\\x00\\x06\\x1eI\\t\\x00E]\\x00N\\x1a\\x14\\x17T\\x1eA\\x067\\x03\\x02\\x00\\x0f\\x08'e-\\x0b7:E\\x0f\\x06\\x06OyESUd\\x1e\\x1f\\x0bT\\x0bSNA\", b'\\x13\\x1c\\x06j\\x0fF\\x02\\x08L\\x0c\\x1e&O\\x07\\t\",\\x00I\\x1d\\r\\x00PE\\x1a\\x00N\\x05\\x1cR\\x1a\\x1fHd\\t\\x1aEL\\x1f\\x18.\\x06=\\x06&2\\x0cIRN\\x00\\x00\\x04_y\\x07\\nS\\x05\\x1b\\x16N\\x1d\\x11\\x06\\x04\\x00\\x05M+\\x02\\x1b', b\"N\\r\\x0cb\\x1d\\x07\\x02;=\\x00\\x0c\\x1d\\x08\\x1b\\x00\\x00NA\\x03IS\\x1d\\x11\\x17A=\\x05N\\x13Y\\x07\\x14'e\\x15\\x0654\\r\\x0c\\x1d\\x1a?N\\nON\\x01\\x00K\\x07\\x1d\\x1c\\x00\\x01\\x15\\x06\\x06A\\x1d\\x08%\\x06\\x18\\x0e-,\\x00\\x10\\x11\\x1c\\x01\", b\"<E\\x1a6\\rOT\\x10N\\x00N\\x07\\x07\\x13\\x19REN\\x18'oD\\x1a\\x0bb\\x0e\\x11\\x0c17EI\\x06?\\x1dG\\x0bSYN\\x07SRT\\x07SI\\x0f\\x1a\\\\\\x07\\x1cM1\\x1aXG;6E\\x08R\\n\\x0eTER\\x00\\x01I\\x00R\", b'\\x1aM\\x17\\x0cS\\x1d\\x00\\x06\\x00\\x17\\x15IEG\\x11\\x000\\x1bTGex\\x06\\x0f\\x14\\x04\\x01E\\x17OP)\\x1d:\\x16\\x13\\x16NNk\\t\\rP&\\x036O\\x17Gt*E\\x1a\\x13IOD\\x08TT\\n\\x1dS\\x0b\\x11\\x06A\\x06\\x14/\\x0c*', b'i\\x07A\\x1d\\x04N\\x01\\x05/\\n\\x1c\\x139=E\\x0cR\\x01\\x07CHVA\\x0b\\x05\\x00\\x0b\\x11^\\x07\\x02\\x0e\\x075\\x00\\rMe\\x1b9G17\\x04\\rR\\x1d\\n*\\x0c_*\\x03\\r\\x10\\x01\\x1b\\x17A\\x06A\\x066\\x00H\\x056\\nTG7\\x08', b\"e\\x04\\x1d\\x0f:x\\x0bI\\x0b\\x05\\x0e\\x00\\x00\\x1aON\\x1d\\x16\\x17\\x15@U\\x02\\x02\\x17\\nI\\x18M0\\x0e\\x10Gz4\\x17\\x0eR\\x01\\x00*\\x17IZN\\x0e\\x1aR'\\x1c\\x007\\x04N\\x04O\\x0bMb\\x00\\x03\\x0e5,\\x07\\x08R\\x08\\x1cLIV\", b'\\x1f\\x0c\\x01A\\x01N\\x07\\x0fI\\x1f\\x06\\x13R*\\x19\\x00\\x06EA\\x06@!\\x0e\\x00G:6E\\x19\\x17\\nCWES\\x00\\x07\\x08\\x16\\x045\\x17S\\x07k\\x0b\\x02A\\x07M5\\x00\\x18m:x\\x11\\x1c\\x10\\x1c\\x1dS\\x1cRO\\x1a\\x0f\\x01\\x13\\x1dRA', b\"ISR\\rRHN\\x0f\\r\\x0c\\x07\\x01g\\x16\\x01\\x1a\\x06;<EZ\\x19\\x0fOGE\\x1dT\\x1cI\\x16R\\x1d$K\\x02\\x13\\x00EI\\x04M'O \\x13<6E\\x04\\x17\\x1c\\x03\\x07EIO\\x1e\\x08\\x14\\x1dT^A\\x17A\\x1bEY\\x1c\\x1a;\", b\"\\x1c\\x12TH\\x19'\\x02\\x10\\x08:+\\x13:\\x1aI\\x0bN\\x0b\\x1aFNE\\x01\\x13\\x1d_\\x0c\\x1c\\x00\\x0fIH\\x1c\\x0c'\\x06\\x18\\x0326\\t\\x1a\\\\c\\x07T\\x11^S\\x17\\x08\\x01R7\\x11T\\x1cA\\x1a\\rN\\x1bM6C\\x12\\t^x\\x11\\x01R\", b\"\\x0e<0\\x06\\x01R\\x10ONB\\x1aE\\x01\\x0c\\x03RT\\x17S\\x1b8N\\x04N\\x1a@b\\x16\\x17Gt7\\r\\x07R\\x02O\\x00\\x17\\x1d\\x00\\x01I \\x17\\x1dR\\x00\\x1aA\\x05EI\\t\\x0c'C\\x17\\x13 ?\\n\\x0eRI\\x1aK5SL\\x07\\x1d\", b'N\\x0c_U\\x0b\\x04S;\\x17^TNA\\x1c\\rT\\tM-\\x01\\x1b.3<\\tI+\\x00\\x1bL\\x0bW\\x00\\x07\\x08\\x16\\x01\\r\\x17\\x00\\x1a\\x0fd\\x11R\\x06\\x01\\x0b\\n\\x00\\x026,\\x10\\x05\\x02I\\x03LE\\x1aN\\x01\\x0f\\x14\\x1c\\r\\x1eT\\x0b\\x15\\x06', b'\\x13\\x1e\\x00\\x1aA\\x07\\x01\\x00\\rM*\\x0e\\x13\\x0250\\x0b\\x10R\\x02O\\x00\\x0c\\x1a\\x00=\\x06\\x1d\\x1b\\x1b\\x1dE\\x0f\\rNET\\x07\\x0c#\\x07\\x13m5=B\\x00R\\x19\\x06N\\n\\x1aS\\x02I:\\x1d\\x11\\x06*\\tA\\x1b\\nKH\\x0cnO\\x11\\x06', b'\\x01\\x08 \\x1b\\x13\\x0c&:\\x15.\\x17I\\n\\x07\\x16[Y\\x0f\\x05S_\\x18\\x1eT\\x0f\\x00\\x1bBC\\tM O\\x18\\x1557\\x10\\x02\\x1c\\x1bOs\\x17\\x1d\\x00\\x05\\x1dS\\x1f\\x1d\\x16*\\x0bA\\x0c\\x06SH\\x05\\x11O\\x03\\tt!\\x08\\x10R\\x05OT', b'\\x0bI\\x13\\x00\\x06E\\x10_T\\x01I\\x17\\x06\\x07\\x17TNF\\x0b\\x0c\\r\\x01\\x04*\\x01\\x19Gt=\\x03\\x1d\\x1d\\x1a\\x0eHEJ\\x00\\x1d\\r\\x1cx\\x00\\x06S\\n\\x04\\x06\\x01E\\x06\\x14\\x11O\\x19\\x061=\\x08\\x08\\x1dc\\x07Ko\\x1aUN\\x1a\\x1c\\x10T', b'\\x07\\x1a\\n\\x1d\\x00X\\x15G\\x1dA\\x19\\x04\\x00HMb\\x04T\\x13 x\\x0e\\x1a\\x13\\r\\x1cC\\x11\\x1aE\\x07\\r\\x03R\\x1d\\x05\\x00\\x1eAN\\x10n\\r\\x01b\\x00T\\x08;yBN\\x1d\\x1d\\nCI\\x1aE\\x1aIy\\x1b\\r>M\\x1d\\x15\\x0f\\x10O\\x0e', b'N\\t\\x05BLHM+O\"\\x0697\\x0bc\\x1b\\x00\\x18\\x00EqE\\x1a\\x1dS\\x1d\\x15\\x1dM\\x1c\\x0c\\x17\\ni\\x06\\x04!\\n\\x15\\x0037\\x15\\x0c\\x1c\\x1e\\x0eU\\x12\\x1a\\x00\\x1dI\\x1bR\\x1fRANA\\r6TH\\x0c7\\x06\\x1c\\x1e0!\\x10', b'\\x1b\\x11Gt1\\x08\\x02\\x1c\\x0e\\x0eY\\x0b\\\\O:\\x1a\\x17\\x13\\x00\\x07NN\\x08N\\x08N\\x06M#A\\x11K;;\\n\\x07\\x00\\x06\\x1dR\\rMP\\n\\x06\\x1dR\\x13\\x1cy\\x08A\\n\\x00dH\\t,B=\\x085=\\x08\\x10\\x01\\n\\x0e\\x00\\x00\\x1aN', b'\\x01OO\\x04_A\\x07I\\x1c\\x1cT^FN\\tNEN\\x00\\x1d-\\x02\\x17\\x1e5xE\\x0e\\x19IC\\x00\\x0b_\\x00\\x01\\x10\\x03\\x17\\x1bR\\x00\\x07ANEF\\x00M-\\x0e\\x13\\x08t9\\x04\\x06\\x16DOM\\x1c\\x1aUN\\x00S\\x06\\x1d\\x00c\\x05', b'\\x16\\x14\\x12\\x1eS\\x00\\x02dEI!Mb\\x0b\\x11\\x08:6\\x00I\\x11\\x10\\nO\\x0eNT\\x0b\\x0cyR\\rS\\x00dA\\x07\\t\\x00\\x07\\x19;\\x01\\x16\\x13^9\\x11\\x08\\x07\\x1a\\nN\\t^NNIS\\x05\\x11RB\\x1d\\x05\\r&\\x00\\x1cM-\\x16', b'ELH\\x01bO\\x1f3^4E\\x1dU\\x00OKB[\\x00\\x0f\\x02S\\n\\x01\\x17O\\x1c\\x15\\x1doN\\x07M;&~\\t12\\x13\\x01\\x1dN\\x16R6T\\x00\\x00E\\x07\\x06S\\x0b\\x00\\n\\x15\\n$AH@-\\x06\\x1bG;>E\\x07\\x1fI', b'6!\\x08I\\x15 OO(VW\\x06\\n\\x00\\x15TR\\x00\\x0c\\x0fN\\x17PHMb\\x16TG\\r7\\x10*\\x17\\x07<\\x07EUI\\x0b\\x1cSR\\x1d\\x02A\\x1a\\x05NIT\\x1c\\x1fHO\\x1c\\x08:+\\nD\\x0b\\n\\x18T\\x08O*\\x01\\x0c\\x1e', b'\\x00\\x1aE\\x1a\\x06T\\x1bT\\x0bA\\x07\\x04\\x0f\\x16Ib\\x1d.\\n\\x10\\x08<1\\x06\\x016I\\x02P\\n\\x1a\\x00\\x01\\x19\\x07\\x1dT\\x13C\\x00AI\\x16T\\x18\\x0c6\\x07T@t1E\\x00+\\x0c\\nN\\x1c\\x1aNNES\\x1c\\x1d\\x17N>\\x16N\\x10', b'\\x1eGN\\t\\x07\\x08N\\x02Mb\\x03\\x1a\\x12=*$\\x05\\x1b\\x08ON\\x1c[A\\x0b\\x0c\\x07\\x0b\\x11\\x07G\\x1e\\x0cB\\n\\x00b\\x1f)H\\x13\\x15;0\\x15\\x1b\\x1b\\x08\\x03\\x19<TB\\r\\x06\\x1dRS\\x06WB1N\"\\x00\\x04M)\\x03T\\x08\\'', b\"\\x01+e\\x11\\ttx\\x10\\x195\\x05OS\\x0bVN\\x0f\\x1a\\x07\\x1fT\\x1fL\\x00\\x13\\x02\\n\\x00\\x1aJ+\\x1d\\x11G,(3\\x0c\\x1bI\\x07EE_I\\x05\\n\\x07\\x17D=\\x07\\x0b\\x12\\x1b\\x01D\\x1c\\x04'O\\x18\\x00;9\\t\\x06\\x0b\\x08eN\\x0c\", b'I\\x00>\\x02\\x07\\x0b0S\\x01\\x06Sx\\x11UI\\n\\x18\\x1aEA\\x1b\\x08+OT\\x0et+\\x03\\x05\\x00\\x06OY\\x0cOAN\\x07\\x07\\x17T\\x1a\\x00\\x00\\x00NENHLbOT@!9E\\x04\\x13\\x0c\\x0eOET\\x00\\x00I\\n\"X\\x11', b\"d\\x05\\x16RT\\x1di\\x1a\\x12O\\x07wHM'OT\\x02$3\\n\\x1a\\x16\\x0b\\x18L\\rNE\\x02\\x05\\x11\\x1d\\x11\\x11N\\x00\\x03I\\x17T\\t\\x0c H\\x19m^<\\x0cI\\x1a\\x04\\rR\\x17TB\\x0b\\x02\\x05\\x0bT\\x05D\\x17M\\x03ELHM\", b' \\x1d\\tz\\x0b\\x196O\\x07G10,\\x08\\x01 eN\\t_MN\\x06\\x16\\x17\\x15\\x13Y\\rA\\x1d\\x04N\\x18\\x0c)\\x06\\x01G-,\\x08\\x1b\\x13I\\x0ey<\\x1aS\\x0f\\x06\\x12\\x17\\x11\\x17C\\x0bMB\\x00\\x00\\x1f\\x05b\\x00T\\x12 9&c', b\"TG8\\x7f\\x17IR\\x05\\n*EC\\x00\\x02ISxT\\x13\\x00\\x0b\\x00\\r\\x11T\\x00\\x03.\\x1b\\x13G6xI\\x1d\\x01\\x05\\x16L\\x0cUA\\n\\x1a\\x1c\\x06\\x1b\\x1dMN\\x0f\\x1a\\x01LHM'OTG&,\\r\\x00\\x10\\x1c,S\\rCO\", b\"\\x1dYEIA\\x02\\n\\x16U~x\\x00\\r\\r\\x1d\\x06s\\x1c\\x14+O\\x00\\x0etvE\\x0e\\x17I\\n*\\t[\\x00\\x07I\\x1f\\x1b\\x1d\\x1c\\x00\\x14A\\x0b\\x0bI\\x1d\\x18'\\x02\\x10Kt7\\x15cR\\x1a\\x0eb\\x1cRI\\x1a\\x06S\\x1d\\x1d\\x13\\x00\\x03\", b'\\x1d\\x11\\x06\\x00\\x14\\x00\\x01\\x11S;,;\\x00\\x1b\\x065,\\nI\\x06\\x1e\\x1dOo\\x1a*NIy\\x06\\'\\x0bN\\'\\x0f\\x1d\\x04N\\x03\\n%\\n\\x18\\x14t;EIR\\x10O\\x00\\x04TI\"\\x1d\\x02\\x1c\\x1b\\x10A\\x1a\\x04\\x01\\x01M\\x0b\\x196\\n', b\"C\\x04\\x05H\\x16\\x0e\\ttx\\x08\\x07\\x1d\\x07\\x18\\x00\\x0b[\\x00\\x1aI\\x1c\\x1d\\x01;*:kd'\\x00\\x07M&H\\x13\\x13t\\x7f\\x00I\\x00\\r\\x06\\x00\\x08\\x16T\\x03\\x10S;\\x07\\x1cG\\x1a\\x04\\x01\\x10Y\\x11\\x026\\nT\\x00==EI\\x1aI\"]}\n",
            "key: Terminator X: Bring the noise\n"
          ]
        }
      ],
      "source": [
        "import challenge3 as c3\n",
        "import challenge6 as c6\n",
        "\n",
        "test_Normalized = defaultdict(list)\n",
        "Normalized_list = dict()\n",
        "for keysize in range(2, 41):\n",
        "  block_list = []\n",
        "  for i in range(int(len(text)/keysize) + 1):\n",
        "    block_list += [text[keysize*i:keysize*(i+1)]]\n",
        "  \n",
        "  distance_list = []\n",
        "  for i in range(len(block_list) - 1):\n",
        "    distance_list += [c6.hamming_distance(block_list[i],block_list[i+1])]\n",
        "  Normalized_list[keysize] = sum(distance_list)/len(distance_list)/keysize\n",
        "\n",
        "  \n",
        "  for i in range(2, len(distance_list) + 1):\n",
        "    test_distance_list = distance_list[:i]\n",
        "    test_Normalized[i] += [(keysize, sum(test_distance_list)/len(test_distance_list)/keysize)]\n",
        "\n",
        "max_chunk = int(len(text) / 40) + 1\n",
        "for chunk, normalized_list in test_Normalized.items():\n",
        "  if chunk > max_chunk:\n",
        "    break\n",
        "  print(f\"for using {chunk} chunk, best 5 scores are : {sorted(normalized_list, key=lambda x:x[1])[:5]}\")\n",
        "\n",
        "print(*sorted(Normalized_list.items(), key=lambda x:x[1])[:10], sep='\\n')\n",
        "candidate_keysize_list = [x[0] for x in sorted(Normalized_list.items(), key=lambda x:x[1])[:10]]\n",
        "\n",
        "transpose_block_dict = dict()\n",
        "for keysize in candidate_keysize_list:\n",
        "  block_list = []\n",
        "  for i in range(keysize):\n",
        "    block_list += [text[i::keysize]]\n",
        "  transpose_block_dict[keysize] = block_list\n",
        "\n",
        "print(transpose_block_dict)\n",
        "for keysize, transpose_block_list in transpose_block_dict.items():\n",
        "  decrypt_list = []\n",
        "  for index, transpose_block in enumerate(transpose_block_list):\n",
        "    score, _, key = c3.try_decrypt(transpose_block)\n",
        "    decrypt_list.append((index, (score, key)))\n",
        "  #print(decrypt_list)\n",
        "\n",
        "  key = \"\".join([chr(x[1][1]) for x in decrypt_list])\n",
        "  if all([x in string.printable for x in key]):\n",
        "    print(f\"key: {key}\")"
      ]
    },
    {
      "attachments": {},
      "cell_type": "markdown",
      "metadata": {
        "id": "poWFslIEcgMa"
      },
      "source": [
        "Chellange 7"
      ]
    },
    {
      "cell_type": "code",
      "execution_count": 13,
      "metadata": {
        "id": "Aajwi32wcna2"
      },
      "outputs": [],
      "source": [
        "text_list = get_txt_from_url(\"https://cryptopals.com/static/challenge-data/7.txt\")\n",
        "text = ''.join(text_list)\n",
        "text = base64.b64decode(text)\n",
        "key = b'YELLOW SUBMARINE'"
      ]
    },
    {
      "cell_type": "code",
      "execution_count": 14,
      "metadata": {
        "colab": {
          "base_uri": "https://localhost:8080/"
        },
        "id": "IPDnvxfzx1V2",
        "outputId": "06625b2e-c4c5-4b2a-da7c-a7ca62f7cdcd"
      },
      "outputs": [
        {
          "name": "stdout",
          "output_type": "stream",
          "text": [
            "b\"I'm back and I'm ringin' the bell \\nA rockin' on the mike while the fly girls yell \\nIn ecstasy in the back of me \\nWell that's my DJ Deshay cuttin' all them Z's \\nHittin' hard and the girlies goin' crazy \\nVanilla's on the mike, man I'm not lazy. \\n\\nI'm lettin' my drug kick in \\nIt controls my mouth and I begin \\nTo just let it flow, let my concepts go \\nMy posse's to the side yellin', Go Vanilla Go! \\n\\nSmooth 'cause that's the way I will be \\nAnd if you don't give a damn, then \\nWhy you starin' at me \\nSo get off 'cause I control the stage \\nThere's no dissin' allowed \\nI'm in my own phase \\nThe girlies sa y they love me and that is ok \\nAnd I can dance better than any kid n' play \\n\\nStage 2 -- Yea the one ya' wanna listen to \\nIt's off my head so let the beat play through \\nSo I can funk it up and make it sound good \\n1-2-3 Yo -- Knock on some wood \\nFor good luck, I like my rhymes atrocious \\nSupercalafragilisticexpialidocious \\nI'm an effect and that you can bet \\nI can take a fly girl and make her wet. \\n\\nI'm like Samson -- Samson to Delilah \\nThere's no denyin', You can try to hang \\nBut you'll keep tryin' to get my style \\nOver and over, practice makes perfect \\nBut not if you're a loafer. \\n\\nYou'll get nowhere, no place, no time, no girls \\nSoon -- Oh my God, homebody, you probably eat \\nSpaghetti with a spoon! Come on and say it! \\n\\nVIP. Vanilla Ice yep, yep, I'm comin' hard like a rhino \\nIntoxicating so you stagger like a wino \\nSo punks stop trying and girl stop cryin' \\nVanilla Ice is sellin' and you people are buyin' \\n'Cause why the freaks are jockin' like Crazy Glue \\nMovin' and groovin' trying to sing along \\nAll through the ghetto groovin' this here song \\nNow you're amazed by the VIP posse. \\n\\nSteppin' so hard like a German Nazi \\nStartled by the bases hittin' ground \\nThere's no trippin' on mine, I'm just gettin' down \\nSparkamatic, I'm hangin' tight like a fanatic \\nYou trapped me once and I thought that \\nYou might have it \\nSo step down and lend me your ear \\n'89 in my time! You, '90 is my year. \\n\\nYou're weakenin' fast, YO! and I can tell it \\nYour body's gettin' hot, so, so I can smell it \\nSo don't be mad and don't be sad \\n'Cause the lyrics belong to ICE, You can call me Dad \\nYou're pitchin' a fit, so step back and endure \\nLet the witch doctor, Ice, do the dance to cure \\nSo come up close and don't be square \\nYou wanna battle me -- Anytime, anywhere \\n\\nYou thought that I was weak, Boy, you're dead wrong \\nSo come on, everybody and sing this song \\n\\nSay -- Play that funky music Say, go white boy, go white boy go \\nplay that funky music Go white boy, go white boy, go \\nLay down and boogie and play that funky music till you die. \\n\\nPlay that funky music Come on, Come on, let me hear \\nPlay that funky music white boy you say it, say it \\nPlay that funky music A little louder now \\nPlay that funky music, white boy Come on, Come on, Come on \\nPlay that funky music \\n\\x04\\x04\\x04\\x04\"\n"
          ]
        }
      ],
      "source": [
        "print(decrypt_ECB(text, key))"
      ]
    },
    {
      "attachments": {},
      "cell_type": "markdown",
      "metadata": {
        "id": "imVJL41QA2Xy"
      },
      "source": [
        "Challenge 8"
      ]
    },
    {
      "cell_type": "code",
      "execution_count": 15,
      "metadata": {
        "id": "bTtwn-Pl1UEl"
      },
      "outputs": [],
      "source": [
        "text_list = get_txt_from_url(\"https://cryptopals.com/static/challenge-data/8.txt\")"
      ]
    },
    {
      "cell_type": "code",
      "execution_count": 16,
      "metadata": {
        "colab": {
          "base_uri": "https://localhost:8080/"
        },
        "id": "IWuwSv8j2zgH",
        "outputId": "ead8a50b-8b92-4807-dc39-ff49a81192cc"
      },
      "outputs": [
        {
          "name": "stdout",
          "output_type": "stream",
          "text": [
            "205\n"
          ]
        }
      ],
      "source": [
        "print(len(text_list))"
      ]
    },
    {
      "cell_type": "code",
      "execution_count": 17,
      "metadata": {
        "colab": {
          "base_uri": "https://localhost:8080/"
        },
        "id": "Fh3T-H7z1jir",
        "outputId": "422adc86-ff3d-4b85-be39-2ce013b7d62f"
      },
      "outputs": [
        {
          "name": "stdout",
          "output_type": "stream",
          "text": [
            "132 b'\\xd8\\x80a\\x97@\\xa8\\xa1\\x9bx@\\xa8\\xa3\\x1c\\x81\\n=\\x08d\\x9a\\xf7\\r\\xc0oO\\xd5\\xd2\\xd6\\x9ctL\\xd2\\x83\\xe2\\xdd\\x05/kd\\x1d\\xbf\\x9d\\x11\\xb04\\x85B\\xbbW\\x08d\\x9a\\xf7\\r\\xc0oO\\xd5\\xd2\\xd6\\x9ctL\\xd2\\x83\\x94u\\xc9\\xdf\\xdb\\xc1\\xd4e\\x97\\x94\\x9d\\x9c~\\x82\\xbfZ\\x08d\\x9a\\xf7\\r\\xc0oO\\xd5\\xd2\\xd6\\x9ctL\\xd2\\x83\\x97\\xa9>\\xab\\x8dj\\xec\\xd5fH\\x91Tx\\x9ak\\x03\\x08d\\x9a\\xf7\\r\\xc0oO\\xd5\\xd2\\xd6\\x9ctL\\xd2\\x83\\xd4\\x03\\x18\\x0c\\x98\\xc8\\xf6\\xdb\\x1f*?\\x9c@@\\xde\\xb0\\xabQ\\xb2\\x993\\xf2\\xc1#\\xc5\\x83\\x86\\xb0o\\xba\\x18j'\n",
            "132 b'\\xd8\\x80a\\x97@\\xa8\\xa1\\x9bx@\\xa8\\xa3\\x1c\\x81\\n=\\x08d\\x9a\\xf7\\r\\xc0oO\\xd5\\xd2\\xd6\\x9ctL\\xd2\\x83\\xe2\\xdd\\x05/kd\\x1d\\xbf\\x9d\\x11\\xb04\\x85B\\xbbW\\x08d\\x9a\\xf7\\r\\xc0oO\\xd5\\xd2\\xd6\\x9ctL\\xd2\\x83\\x94u\\xc9\\xdf\\xdb\\xc1\\xd4e\\x97\\x94\\x9d\\x9c~\\x82\\xbfZ\\x08d\\x9a\\xf7\\r\\xc0oO\\xd5\\xd2\\xd6\\x9ctL\\xd2\\x83\\x97\\xa9>\\xab\\x8dj\\xec\\xd5fH\\x91Tx\\x9ak\\x03\\x08d\\x9a\\xf7\\r\\xc0oO\\xd5\\xd2\\xd6\\x9ctL\\xd2\\x83\\xd4\\x03\\x18\\x0c\\x98\\xc8\\xf6\\xdb\\x1f*?\\x9c@@\\xde\\xb0\\xabQ\\xb2\\x993\\xf2\\xc1#\\xc5\\x83\\x86\\xb0o\\xba\\x18j'\n",
            "132 b'\\xd8\\x80a\\x97@\\xa8\\xa1\\x9bx@\\xa8\\xa3\\x1c\\x81\\n=\\x08d\\x9a\\xf7\\r\\xc0oO\\xd5\\xd2\\xd6\\x9ctL\\xd2\\x83\\xe2\\xdd\\x05/kd\\x1d\\xbf\\x9d\\x11\\xb04\\x85B\\xbbW\\x08d\\x9a\\xf7\\r\\xc0oO\\xd5\\xd2\\xd6\\x9ctL\\xd2\\x83\\x94u\\xc9\\xdf\\xdb\\xc1\\xd4e\\x97\\x94\\x9d\\x9c~\\x82\\xbfZ\\x08d\\x9a\\xf7\\r\\xc0oO\\xd5\\xd2\\xd6\\x9ctL\\xd2\\x83\\x97\\xa9>\\xab\\x8dj\\xec\\xd5fH\\x91Tx\\x9ak\\x03\\x08d\\x9a\\xf7\\r\\xc0oO\\xd5\\xd2\\xd6\\x9ctL\\xd2\\x83\\xd4\\x03\\x18\\x0c\\x98\\xc8\\xf6\\xdb\\x1f*?\\x9c@@\\xde\\xb0\\xabQ\\xb2\\x993\\xf2\\xc1#\\xc5\\x83\\x86\\xb0o\\xba\\x18j'\n",
            "d880619740a8a19b7840a8a31c810a3d08649af70dc06f4fd5d2d69c744cd283e2dd052f6b641dbf9d11b0348542bb5708649af70dc06f4fd5d2d69c744cd2839475c9dfdbc1d46597949d9c7e82bf5a08649af70dc06f4fd5d2d69c744cd28397a93eab8d6aecd566489154789a6b0308649af70dc06f4fd5d2d69c744cd283d403180c98c8f6db1f2a3f9c4040deb0ab51b29933f2c123c58386b06fba186a\n"
          ]
        }
      ],
      "source": [
        "target_index = 0\n",
        "for index, text in enumerate(text_list):\n",
        "  text = bytes.fromhex(text)\n",
        "  if len(text) < 1:\n",
        "    continue\n",
        "  for i in range(10):\n",
        "    for j in range(i + 1, 10):\n",
        "      if text[i*16: (i+1)*16] == text[j*16: (j+1)*16]:\n",
        "        print(index, text)\n",
        "        target_index = index\n",
        "        break\n",
        "\n",
        "print(text_list[target_index])"
      ]
    },
    {
      "attachments": {},
      "cell_type": "markdown",
      "metadata": {
        "id": "JuVlA4G95Kh2"
      },
      "source": [
        "# Set_2"
      ]
    },
    {
      "attachments": {},
      "cell_type": "markdown",
      "metadata": {
        "id": "nnyt4csX5Tcm"
      },
      "source": [
        "Challenge 9"
      ]
    },
    {
      "cell_type": "code",
      "execution_count": 18,
      "metadata": {
        "colab": {
          "base_uri": "https://localhost:8080/"
        },
        "id": "veC-PYVL78Ov",
        "outputId": "8c9c4709-1f57-4d64-922b-0e43c01100df"
      },
      "outputs": [
        {
          "data": {
            "text/plain": [
              "b'YELLOW SUBMARINE\\x04\\x04\\x04\\x04'"
            ]
          },
          "execution_count": 18,
          "metadata": {},
          "output_type": "execute_result"
        }
      ],
      "source": [
        "padding_PKCS7(b\"YELLOW SUBMARINE\", 20)"
      ]
    },
    {
      "attachments": {},
      "cell_type": "markdown",
      "metadata": {
        "id": "lqQsboLU9isq"
      },
      "source": [
        "Challenge 10"
      ]
    },
    {
      "cell_type": "code",
      "execution_count": 19,
      "metadata": {
        "colab": {
          "base_uri": "https://localhost:8080/"
        },
        "id": "y8vtzkRXBo9_",
        "outputId": "d0bfa3da-71a6-4913-ff1b-7682c5474128"
      },
      "outputs": [],
      "source": [
        "plain_text_list = get_txt_from_url(\"https://cryptopals.com/static/challenge-data/10.txt\")\n",
        "plain_text = ''.join(plain_text_list)"
      ]
    },
    {
      "cell_type": "code",
      "execution_count": 20,
      "metadata": {
        "colab": {
          "base_uri": "https://localhost:8080/",
          "height": 364
        },
        "id": "vSnpgYjAEwTw",
        "outputId": "3c1fda88-9cf9-4f49-90ca-1b27291f1780"
      },
      "outputs": [
        {
          "name": "stdout",
          "output_type": "stream",
          "text": [
            "b\"I'm back and I'm ringin' the bell \\nA rockin' on the mike while the fly girls yell \\nIn ecstasy in the back of me \\nWell that's my DJ Deshay cuttin' all them Z's \\nHittin' hard and the girlies goin' crazy \\nVanilla's on the mike, man I'm not lazy. \\n\\nI'm lettin' my drug kick in \\nIt controls my mouth and I begin \\nTo just let it flow, let my concepts go \\nMy posse's to the side yellin', Go Vanilla Go! \\n\\nSmooth 'cause that's the way I will be \\nAnd if you don't give a damn, then \\nWhy you starin' at me \\nSo get off 'cause I control the stage \\nThere's no dissin' allowed \\nI'm in my own phase \\nThe girlies sa y they love me and that is ok \\nAnd I can dance better than any kid n' play \\n\\nStage 2 -- Yea the one ya' wanna listen to \\nIt's off my head so let the beat play through \\nSo I can funk it up and make it sound good \\n1-2-3 Yo -- Knock on some wood \\nFor good luck, I like my rhymes atrocious \\nSupercalafragilisticexpialidocious \\nI'm an effect and that you can bet \\nI can take a fly girl and make her wet. \\n\\nI'm like Samson -- Samson to Delilah \\nThere's no denyin', You can try to hang \\nBut you'll keep tryin' to get my style \\nOver and over, practice makes perfect \\nBut not if you're a loafer. \\n\\nYou'll get nowhere, no place, no time, no girls \\nSoon -- Oh my God, homebody, you probably eat \\nSpaghetti with a spoon! Come on and say it! \\n\\nVIP. Vanilla Ice yep, yep, I'm comin' hard like a rhino \\nIntoxicating so you stagger like a wino \\nSo punks stop trying and girl stop cryin' \\nVanilla Ice is sellin' and you people are buyin' \\n'Cause why the freaks are jockin' like Crazy Glue \\nMovin' and groovin' trying to sing along \\nAll through the ghetto groovin' this here song \\nNow you're amazed by the VIP posse. \\n\\nSteppin' so hard like a German Nazi \\nStartled by the bases hittin' ground \\nThere's no trippin' on mine, I'm just gettin' down \\nSparkamatic, I'm hangin' tight like a fanatic \\nYou trapped me once and I thought that \\nYou might have it \\nSo step down and lend me your ear \\n'89 in my time! You, '90 is my year. \\n\\nYou're weakenin' fast, YO! and I can tell it \\nYour body's gettin' hot, so, so I can smell it \\nSo don't be mad and don't be sad \\n'Cause the lyrics belong to ICE, You can call me Dad \\nYou're pitchin' a fit, so step back and endure \\nLet the witch doctor, Ice, do the dance to cure \\nSo come up close and don't be square \\nYou wanna battle me -- Anytime, anywhere \\n\\nYou thought that I was weak, Boy, you're dead wrong \\nSo come on, everybody and sing this song \\n\\nSay -- Play that funky music Say, go white boy, go white boy go \\nplay that funky music Go white boy, go white boy, go \\nLay down and boogie and play that funky music till you die. \\n\\nPlay that funky music Come on, Come on, let me hear \\nPlay that funky music white boy you say it, say it \\nPlay that funky music A little louder now \\nPlay that funky music, white boy Come on, Come on, Come on \\nPlay that funky music \\n\\x04\\x04\\x04\\x04\"\n"
          ]
        }
      ],
      "source": [
        "block_size = 16\n",
        "key = b'YELLOW SUBMARINE'\n",
        "initialization_vector = b'\\x00' * block_size\n",
        "\n",
        "decrypted_bytes = decrypt_CBC(base64.b64decode(plain_text), key, block_size, initialization_vector)\n",
        "\n",
        "print(decrypted_bytes)"
      ]
    },
    {
      "cell_type": "code",
      "execution_count": 21,
      "metadata": {},
      "outputs": [
        {
          "name": "stdout",
          "output_type": "stream",
          "text": [
            "b'\\x93\\xe4c\\x06\\x1dg\\xc7J\\xa6\\xe5\\x99:\\xea\\xa4dh[\\x90@\\rjd{\\xe1\\x8d\\x1fg\\xf4\\x82\\xbf\\xe5\\xab'\n",
            "32\n",
            "b'1234567890123456789'\n"
          ]
        }
      ],
      "source": [
        "test_bytes = b'1234567890123456789'\n",
        "en = encrypt_CBC(test_bytes, key, block_size, initialization_vector)\n",
        "print(en)\n",
        "print(len(en))\n",
        "de = decrypt_CBC(en, key, block_size, initialization_vector, False)\n",
        "print(de)"
      ]
    },
    {
      "attachments": {},
      "cell_type": "markdown",
      "metadata": {
        "id": "m-Sjs9QD15gf"
      },
      "source": [
        "Challenge 11"
      ]
    },
    {
      "cell_type": "code",
      "execution_count": 24,
      "metadata": {
        "colab": {
          "base_uri": "https://localhost:8080/"
        },
        "id": "_A9I0rnf3XPz",
        "outputId": "d5170b7b-0ced-422e-c426-15082b468b8e"
      },
      "outputs": [
        {
          "name": "stdout",
          "output_type": "stream",
          "text": [
            "True, answer: ECB, detected: ECB\n",
            "True, answer: ECB, detected: ECB\n",
            "True, answer: ECB, detected: ECB\n",
            "True, answer: CBC, detected: CBC\n",
            "True, answer: CBC, detected: CBC\n",
            "True, answer: ECB, detected: ECB\n",
            "True, answer: CBC, detected: CBC\n",
            "True, answer: CBC, detected: CBC\n",
            "True, answer: CBC, detected: CBC\n",
            "True, answer: ECB, detected: ECB\n"
          ]
        }
      ],
      "source": [
        "import challenge11 as c\n",
        "\n",
        "block_size = 16\n",
        "for i in range(10):\n",
        "  encrypted_bytes, key, encryption_mode = c.encryption_oracle('A'*256, block_size)\n",
        "\n",
        "  target_index = -1\n",
        "  max_chunk = int(len(encrypted_bytes)/block_size)\n",
        "    \n",
        "  for i in range(max_chunk - 1):\n",
        "    for j in range(i + 1, max_chunk):\n",
        "      if encrypted_bytes[i*block_size: (i+1)*block_size] == encrypted_bytes[j*block_size: (j+1)*block_size]:\n",
        "        # print(encrypted_bytes)\n",
        "        # print(encrypted_bytes[i*block_size: (i+1)*block_size], encrypted_bytes[j*block_size: (j+1)*block_size], i, j)\n",
        "        target_index = i\n",
        "        break\n",
        "    if target_index != -1:\n",
        "      break\n",
        "  \n",
        "  detected_mode = 'ECB' if target_index != -1 else 'CBC'\n",
        "  print(f'{encryption_mode == detected_mode}, answer: {encryption_mode}, detected: {detected_mode}')"
      ]
    },
    {
      "attachments": {},
      "cell_type": "markdown",
      "metadata": {
        "id": "dwH5x9lK6QGi"
      },
      "source": [
        "Challenge 12"
      ]
    },
    {
      "cell_type": "code",
      "execution_count": 25,
      "metadata": {
        "colab": {
          "base_uri": "https://localhost:8080/",
          "height": 377
        },
        "id": "LQeF7NLx_EV-",
        "outputId": "13d7e5c8-8442-4b69-d267-aaf9c4f38368"
      },
      "outputs": [
        {
          "name": "stdout",
          "output_type": "stream",
          "text": [
            "encrypted_bytes: b\"e\\x87Ur\\xb4|O\\xf0nt\\xd7\\xadg\\x94`M+\\xa9'\\xfb\\xcd\\x87EAs?*\\x08\\x82\\x1e\\xe6\\xb2\\xa9\\xddo\\xdc*\\xe6\\xbfRz\\xad\\xfe\\x0f\\x04\\xaa\\xec\\xbd\\xf3\\xb7\\xf5\\xb3\\xf3\\xa7\\x84\\xbe\\x11\\xa5\\x0f\\x08\\xe6\\xa4NtF\\x87\\x06k_k\\\\u\\xa9\\x03\\r\\xfe^\\x168\\x8d\\x97p +\\x0fk\\xd1\\xa4\\xfc\\x9f\\xa0i\\x9eXN2m\\x1f\\n\\x12\\x9b\\x16\\x7f%\\xb7\\x9b\\xc2\\xe1@\\xd9W\\xafp\\xea\\xa4\\x00\\x9d\\x84Y%\\x9bR\\xcby\\xe8\\xb4\\xc9\\xeb\\xcd}\\xa0\\xa1\\x82:p\\x8f\\x7f\\xbf>t\\x7f.\\xf48s&S\\x1aE\\x91\\xd4e\\xe7\\xe0V.N\\xf6\\x9bo\"\n",
            "detected_mod: ECB\n",
            "b\"Rollin' in my 5.0\\nWith my rag-top down so my hair can blow\\nThe girlies on standby waving just to say hi\\nDid you stop? No, I just drove by\\n\\x01\"\n"
          ]
        }
      ],
      "source": [
        "import challenge12 as c12\n",
        "\n",
        "c12.block_size = 16\n",
        "c12.random_key = os.urandom(block_size)\n",
        "c12.random_prefix = os.urandom(random.randint(5, 10))\n",
        "plain_text = 'random plain text'\n",
        "\n",
        "encrypted_bytes = c12.new_oracle(plain_text)\n",
        "print(f'encrypted_bytes: {encrypted_bytes}')\n",
        "\n",
        "# Step 1 Get block_size\n",
        "#detected_block_size = detect_block_size(plain_text)\n",
        "#print(f'block size detection:{detected_block_size==block_size} block_size:{block_size} detected_block_size:{detected_block_size}')\n",
        "# Step 2 Detected ECB mode\n",
        "detected_mode = c12.detect_ECB_mode(plain_text)\n",
        "print(f'detected_mod: {detected_mode}')\n",
        "# Step 3,4 Craft input\n",
        "# Step 5,6 match_output\n",
        "something = c12.match_output()\n",
        "print(something)"
      ]
    },
    {
      "attachments": {},
      "cell_type": "markdown",
      "metadata": {
        "id": "j8y-QZHZ-BSn"
      },
      "source": [
        "Challenge 13"
      ]
    },
    {
      "cell_type": "code",
      "execution_count": 26,
      "metadata": {
        "colab": {
          "base_uri": "https://localhost:8080/"
        },
        "id": "o8imw1EWE1-p",
        "outputId": "3cdbf535-4057-4b31-b3f2-785c87c33a2b"
      },
      "outputs": [
        {
          "name": "stdout",
          "output_type": "stream",
          "text": [
            "profile: email=foo%40bar.com&uid=10&role=user\n",
            "b'Pu\\x9b+N\\x1b\\xdbJ\\x87O\\xda\\x94\\xf1\\x9a\\x1b\\xf8'\n",
            "b'\\x8f\\x01\\xe3\\x87\\x87\\x8bj\\x82\\xef\\x08\\x9e\\xac\\x9f)\\x12\\xa5\\x83\\x80\\xa7\\xc6\\xd2g\\xdb\\xceI\\xabrQ=7\\x7f`\\x10\\x1e\\xbf\\xaa\\x07\\x85\\xe3\\x0c=>&\\xd6\\xc3(h\\xf6'\n",
            "b'email=foo%40bar.com&uid=10&role=user\\x0c\\x0c\\x0c\\x0c\\x0c\\x0c\\x0c\\x0c\\x0c\\x0c\\x0c\\x0c'\n",
            "target: email=foo%40bar.com&uid=10&role=admin\n",
            "b'\\x8f\\x01\\xe3\\x87\\x87\\x8bj\\x82\\xef\\x08\\x9e\\xac\\x9f)\\x12\\xa5\\x83\\x80\\xa7\\xc6\\xd2g\\xdb\\xceI\\xabrQ=7\\x7f`\\x85\\x82\\x9f7\\xbf\\xfb\\x7f\"\\xa72M\\xf2\\x90\\xa0\\x15\\xdd'\n",
            "b'email=foo%40bar.com&uid=10&role=admin\\x0b\\x0b\\x0b\\x0b\\x0b\\x0b\\x0b\\x0b\\x0b\\x0b\\x0b'\n"
          ]
        }
      ],
      "source": [
        "import challenge13 as c13\n",
        "\n",
        "block_size = 16\n",
        "profile = c13.profile_for('foo@bar.com')\n",
        "print(f'profile: {profile}')\n",
        "key = create_random_aes_key()\n",
        "print(key)\n",
        "encrypt_profile = encrypt_ECB(str.encode(profile), key, block_size)\n",
        "print(encrypt_profile)\n",
        "decrypt_profile = decrypt_ECB(encrypt_profile, key)\n",
        "print(decrypt_profile)\n",
        "\n",
        "target = 'email=foo%40bar.com&uid=10&role=admin'\n",
        "print(f'target: {target}')\n",
        "encrypt_target = encrypt_ECB(str.encode(target), key, block_size)\n",
        "print(encrypt_target)\n",
        "decrypt_target = decrypt_ECB(encrypt_target, key)\n",
        "print(decrypt_target)"
      ]
    },
    {
      "cell_type": "code",
      "execution_count": 27,
      "metadata": {
        "colab": {
          "base_uri": "https://localhost:8080/"
        },
        "id": "45nUZrBISeyW",
        "outputId": "5724d7e0-b364-4e96-c60e-6bf543464873"
      },
      "outputs": [
        {
          "name": "stdout",
          "output_type": "stream",
          "text": [
            "['email=foo%40bar.', 'com&uid=10&role=', 'user', '', '']\n",
            "[b'\\x8f\\x01\\xe3\\x87\\x87\\x8bj\\x82\\xef\\x08\\x9e\\xac\\x9f)\\x12\\xa5', b'\\x83\\x80\\xa7\\xc6\\xd2g\\xdb\\xceI\\xabrQ=7\\x7f`', b'\\x10\\x1e\\xbf\\xaa\\x07\\x85\\xe3\\x0c=>&\\xd6\\xc3(h\\xf6', b'', b'']\n",
            "['email=foo%40bar.', 'admin&uid=10&rol', 'e=user', '', '']\n",
            "[b'\\x8f\\x01\\xe3\\x87\\x87\\x8bj\\x82\\xef\\x08\\x9e\\xac\\x9f)\\x12\\xa5', b'\\xb6w\\x07\\xc27`\\xe5P/Kv\\xbec6\\xcf\\xb4', b'\\xebk\\xf6i\\xe0\\xa2\\xbf\\xa8\\xda\\xd7\\x15\\xf0\\x98}\\x05P', b'', b'']\n"
          ]
        }
      ],
      "source": [
        "origin = c13.profile_for('foo@bar.com')\n",
        "print([origin[i*16:(i+1)*16] for i in range(5)])\n",
        "encrypt_origin = encrypt_ECB(str.encode(origin), key, block_size)\n",
        "print([encrypt_origin[i*16:(i+1)*16] for i in range(5)])\n",
        "hack = c13.profile_for('foo@bar.admin')\n",
        "print([hack[i*16:(i+1)*16] for i in range(5)])\n",
        "encrypt_hack = encrypt_ECB(str.encode(hack), key, block_size)\n",
        "print([encrypt_hack[i*16:(i+1)*16] for i in range(5)])"
      ]
    },
    {
      "cell_type": "code",
      "execution_count": 28,
      "metadata": {
        "colab": {
          "base_uri": "https://localhost:8080/"
        },
        "id": "0eM1DGmsVELn",
        "outputId": "e7031565-755c-4736-ea7a-17bd85a04cb5"
      },
      "outputs": [
        {
          "name": "stdout",
          "output_type": "stream",
          "text": [
            "b'\\x8f\\x01\\xe3\\x87\\x87\\x8bj\\x82\\xef\\x08\\x9e\\xac\\x9f)\\x12\\xa5\\x83\\x80\\xa7\\xc6\\xd2g\\xdb\\xceI\\xabrQ=7\\x7f`\\xb6w\\x07\\xc27`\\xe5P/Kv\\xbec6\\xcf\\xb4\\xebk\\xf6i\\xe0\\xa2\\xbf\\xa8\\xda\\xd7\\x15\\xf0\\x98}\\x05P'\n",
            "b'email=foo%40bar.com&uid=10&role=admin&uid=10&role=user\\n\\n\\n\\n\\n\\n\\n\\n\\n\\n'\n"
          ]
        }
      ],
      "source": [
        "encrypt_origin = encrypt_origin.replace(encrypt_origin[32:48], encrypt_hack[16:32]) + encrypt_hack[32:48]\n",
        "print(encrypt_origin)\n",
        "print(decrypt_ECB(encrypt_origin, key))"
      ]
    },
    {
      "cell_type": "code",
      "execution_count": 29,
      "metadata": {
        "colab": {
          "base_uri": "https://localhost:8080/"
        },
        "id": "p9nGPIIQcxon",
        "outputId": "6b041e77-4d9c-49b8-c88e-b426864ace7b"
      },
      "outputs": [
        {
          "name": "stdout",
          "output_type": "stream",
          "text": [
            "['email=foo%40bar.', 'admin&uid=10&rol', 'e=user', '', '']\n",
            "[b'\\x8f\\x01\\xe3\\x87\\x87\\x8bj\\x82\\xef\\x08\\x9e\\xac\\x9f)\\x12\\xa5', b'\\xb6w\\x07\\xc27`\\xe5P/Kv\\xbec6\\xcf\\xb4', b'\\xebk\\xf6i\\xe0\\xa2\\xbf\\xa8\\xda\\xd7\\x15\\xf0\\x98}\\x05P', b'', b'']\n"
          ]
        }
      ],
      "source": [
        "hack = c13.profile_for('foo@bar.admin')\n",
        "print([hack[i*16:(i+1)*16] for i in range(5)])\n",
        "encrypt_hack = encrypt_ECB(str.encode(hack), key, block_size)\n",
        "print([encrypt_hack[i*16:(i+1)*16] for i in range(5)])"
      ]
    },
    {
      "attachments": {},
      "cell_type": "markdown",
      "metadata": {
        "id": "P5EXc07739mE"
      },
      "source": [
        "Challenge 14"
      ]
    },
    {
      "cell_type": "code",
      "execution_count": 30,
      "metadata": {
        "colab": {
          "base_uri": "https://localhost:8080/"
        },
        "id": "TBGP3PEp4Bgb",
        "outputId": "e31d69c2-a771-468a-fd39-7db220639e8a"
      },
      "outputs": [],
      "source": [
        "import challenge14 as c14\n",
        "\n",
        "c14.random_prefix = os.urandom(random.randint(1, 32))\n",
        "c14.block_size = 16\n",
        "c14.random_key = create_random_aes_key()"
      ]
    },
    {
      "cell_type": "code",
      "execution_count": 31,
      "metadata": {
        "colab": {
          "base_uri": "https://localhost:8080/"
        },
        "id": "g5UJBb1_4eHN",
        "outputId": "cf7ac81b-79e5-4e0d-8b6c-d59dfd570d4f"
      },
      "outputs": [
        {
          "name": "stdout",
          "output_type": "stream",
          "text": [
            "b\"\\x1c\\x88\\xfe\\x021\\xb0\\x9d0\\xd3h%\\x9a\\xb1 \\xf4\\xe78g\\xba'\\xee?\\x9bm[\\xde\\x89\\xb9x\\xb5\\xdf\\x9fA\\xbfXU\\xa9\\xb5\\x86l\\x1b\\xbc\\x1cqu\\xb2\\xe5YO\\xf1S\\xda\\x11+\\x00R\\xb4N\\x1b\\xea\\x9d\\x8a9\\x90;\\x14\\x10\\t}\\xfd\\xca\\xe4D\\xe9\\xe8\\xba\\xd6`b\\xafsu]\\xf2\\x01\\x0bBW69\\x9a\\xa8\\x13m\\x93O\\xfc\\x1b\\x82L\\xaf\\xb3\\x8cy\\x8f\\x89\\x00\\xc3\\xfd\\x1b\\xf0\\xe7dC\\x16\\x9f\\xa6\\xdb.\\x01e\\xbb0\\xcd\\x18\\x06\\x81\\x0c\\xcbUf\\xb1LS\\n\\xcc\\xa9~\\x8cs&e\\xe4\\x01\\xdb\\xd0\\xc6\\xe3Cl\\xc6 \\x1a\\xde\\xc9\\x13\\xab\\xcf{\\xac\\xd6\\x1e\\x97Yi\\x9e\\x82\\x932\\x1b\\x84\\xd4\\x9fs\\x98\\xfd\\xd5\\x88\\xa8X;\\x97k\\x8d\\xc452\\xf8\\xfe\\x1bb*\"\n"
          ]
        }
      ],
      "source": [
        "attacker_controlled = b'attacker_controlled'\n",
        "encrypted_btyes = c14.new_oracle(attacker_controlled)\n",
        "print(encrypted_btyes)"
      ]
    },
    {
      "cell_type": "code",
      "execution_count": 32,
      "metadata": {
        "colab": {
          "base_uri": "https://localhost:8080/"
        },
        "id": "DCNwnL1r9bK_",
        "outputId": "48f0acb6-3505-4e3e-ff90-c7498cee2e9c"
      },
      "outputs": [
        {
          "name": "stdout",
          "output_type": "stream",
          "text": [
            "0 [b'\\x1c\\x88\\xfe\\x021\\xb0\\x9d0\\xd3h%\\x9a\\xb1 \\xf4\\xe7', b\"8g\\xba'\\xee?\\x9bm[\\xde\\x89\\xb9x\\xb5\\xdf\\x9f\", b'\\xd4`\\x8b\\xbd{;\\x1fn\\x9e\\xb2\\xf7\\x1a\\x96y\\xb9v', b'\\xea\\x8a\\x11G\\xd4\\xa7wV> H%\\x1c]\\xf0\\xb1', b'\\x9e\\xef\\xbf\\x14u\\xcd1\\r\\xa9\\x8e4a\\x88\\x9b\\x96_', b'hNd\\xadF\\xaeE\\xbb\\x83*\\xd5:s\\xe7\\xb1\\x89', b'\\xe0OJ\\xc6y\\xe49\\xc9\\xa1\\x92\\x94Q\\xcc\\xb2\\xca7', b'@\\x8b\\xa0\\x95\\x85g\\x04Y\\xf3\\xa6T\\x1c\\x9cwn(', b'\\xef\\xdd\\x12\\xe9\\xc0\\x99\\x7f\\xb5\\x92\\x16u\\x80\\xbe\\x91\\r1', b'\\xbb\\x91\\xf1\\x84\\x16$;\\x93\\xac\\xe9WAB\\xd0i\\xde', b'\\xe7\\xac\\x1d\"\\xc0\\xc9\\xe6\\xdb\\x0e\\xd1\\x1f\\x12Ac\\x0e\\x05', b'']\n",
            "1 [b'\\x1c\\x88\\xfe\\x021\\xb0\\x9d0\\xd3h%\\x9a\\xb1 \\xf4\\xe7', b\"8g\\xba'\\xee?\\x9bm[\\xde\\x89\\xb9x\\xb5\\xdf\\x9f\", b'\\xdd\\x9a\\x82\\x97\\x9cm\\xe5\\xe3\\xa3\\xab\\xb6\\xa5\\x80\\x9f\\xea\\xc6', b'\\xc5\\xc4\\xc23,\\x05\\xe6\\x1e~{z\\xd7KF_\\x95', b\"W\\x9c'\\xb0\\x16\\xd1~g}\\xda2\\x9d\\xd2\\xe0\\xdb8\", b'\\xd7\\x08\\xe1C\\x02k\\xc8/P\\xaa\\x90\\xe4\\x80\\xb1\\xb4\\xec', b'+P`\\x1f>\\xe2xH\\xecr\\xaa`Q)\\x8d\"', b'w\\x19\\x13<(9d\\xda\\xb3\\xc7\\x02;\\xe3\\xc5Y\\xe9', b'\\xdb\\xc5)\\xcd\\x94so\\n<BJ\\xde\\x1f\\x9d\\x85\\xf7', b'\\xad\\xa9\\xde\\xe2\\xe7nk\\xd4\\xedZqP\\x82\\x1d\\x8d\\xcd', b'\\x0c\\x8b7<<k\\xf3v\\xc7\\xc8j\\xb65N\\xd8\\x1f', b'']\n",
            "2 [b'\\x1c\\x88\\xfe\\x021\\xb0\\x9d0\\xd3h%\\x9a\\xb1 \\xf4\\xe7', b\"8g\\xba'\\xee?\\x9bm[\\xde\\x89\\xb9x\\xb5\\xdf\\x9f\", b'B,\\xcd\\xb3\\xc2\\xbb\\x85\\xa0\\xd2v\\\\\\x89\\xff\\x1a_\\xae', b'\\xfc\\n\\xe2\\xbdA\\xc31\\xcd\\r\\x18)\\x01\\xdaz9g', b'\\x98Z\\xde\\xa1\\xce\\r\\xa3\\x83\\xb8\\xd2\\xff\\xc8!\\xe2/\\x8c', b'|\\xca\\x1fq*\\xc2\\x94.B\\xf3\\x01\\xc7\\r\\x86\\xa3\\xf9', b'\\xe4\\x086\\xb6\\xe3\\x9be\\xcc\\xe1\\xedz\\xed\\xdd>\\xa6%', b'\\x8d\\xfc\\xef\\x99m\\xea\\xbcv\\x04b\\xd5,\\xc9\\x83U\\xa3', b'\\xf2\\xf1\\x8f?\\x1d^%Y-r\\xc3/F\\x18\\xfc{', b'\\xdb\\x94\\x1bz\\x83\\x98\\xb6!\\x86l\\x03hg*\\x82\\xa6', b'}\\xde\\xba\\xfa\\x9cG\\xc8g\\x8d\\x1fH\\x17I\\x0c-\\xbb', b'']\n",
            "3 [b'\\x1c\\x88\\xfe\\x021\\xb0\\x9d0\\xd3h%\\x9a\\xb1 \\xf4\\xe7', b\"8g\\xba'\\xee?\\x9bm[\\xde\\x89\\xb9x\\xb5\\xdf\\x9f\", b'\\xac:\\xca\\xcfW\\x04\\xef\\xe2\\xcb\\xe8\\x85G\\x01\\xe6\\xb0b', b';\\x14\\x10\\t}\\xfd\\xca\\xe4D\\xe9\\xe8\\xba\\xd6`b\\xaf', b'su]\\xf2\\x01\\x0bBW69\\x9a\\xa8\\x13m\\x93O', b'\\xfc\\x1b\\x82L\\xaf\\xb3\\x8cy\\x8f\\x89\\x00\\xc3\\xfd\\x1b\\xf0\\xe7', b'dC\\x16\\x9f\\xa6\\xdb.\\x01e\\xbb0\\xcd\\x18\\x06\\x81\\x0c', b'\\xcbUf\\xb1LS\\n\\xcc\\xa9~\\x8cs&e\\xe4\\x01', b'\\xdb\\xd0\\xc6\\xe3Cl\\xc6 \\x1a\\xde\\xc9\\x13\\xab\\xcf{\\xac', b'\\xd6\\x1e\\x97Yi\\x9e\\x82\\x932\\x1b\\x84\\xd4\\x9fs\\x98\\xfd', b'\\xd5\\x88\\xa8X;\\x97k\\x8d\\xc452\\xf8\\xfe\\x1bb*', b'']\n",
            "4 [b'\\x1c\\x88\\xfe\\x021\\xb0\\x9d0\\xd3h%\\x9a\\xb1 \\xf4\\xe7', b\"8g\\xba'\\xee?\\x9bm[\\xde\\x89\\xb9x\\xb5\\xdf\\x9f\", b'l\\x8b\\xf2\\xa08\\xa6\\xe5\\x17\\x04\\xad?\\xf6l\\x138\\xcb', b'\\x8c1H=\\x9ceG\\xe3\\x97\\x1d\\xf6\\xe1\\x82\\xd0\\xa8N', b'\\xbd\\xbd\\x0f\\xf9\\xc2`+\\xa12{\\xd93\\x86?PH', b'\\xd3\\xe6\\x99\\xaf@\\xc0z\\xe0\\x91\\xcd\\xd2\\xcf]Z\\xf5\\xe4', b'\\x17\\x15LAL\\xa3\\x0f$NQ\\x83\\x0e\\xfc&\\xff\\t', b'<\\xbc\\x85\\xe5\\xe3\\xb0\\x00\\x83\\xe3\\xc7({\\xc2\\xf2\\xcd\\x05', b'c\\x9c|\\xec+k\\xf22p\\x94\\x11T}\\xdc\\\\\\xbe', b'=tU\\xa6\\x8b\\xfd\\xec\\xa3#Q\\x84}\\x9ax.V', b')C\\xcc\\xab\\x82\\x9c\\xe03\\x9e\\xed\\xc3\\xe7Lim;', b'']\n",
            "5 [b'\\x1c\\x88\\xfe\\x021\\xb0\\x9d0\\xd3h%\\x9a\\xb1 \\xf4\\xe7', b\"8g\\xba'\\xee?\\x9bm[\\xde\\x89\\xb9x\\xb5\\xdf\\x9f\", b'\\r\\xe7\\xeb\\xf0Ty\\x8d\\xd4\\x86]\\xf7\\xb0\\xed?\\xbak', b'\\x94\\xef{\\xa5\\x022\\x97.\\xff\\xf8\\xb40\\xe6\\xec\\x80E', b'\\x1b\\xc8O\\xe90O\\xf0\\xc8\\xd5\\x0b#\\x87\\x99r\\xfe\\xb1', b'$\\xecf\\xddc\\xf0\\xf8L\\xdbi\\x8b\\xb3\\xbb\\x07r\\xc7', b'\\x1d\\x11\\xc2\\xc8 j~~\\x8f\\x88\\xa5\\xfe7%\\x8c\\xe1', b'\\xaf41$\\xcb\\xfa\\xda\\xba\\x9e\\xf7C\\xfb\\xde\\xd6J\\x9f', b'U\\xbav`\\xaf1#<u\\xb9+A\\xb55g\\xd8', b\"q'\\xb4\\x8c\\xa6\\xcd\\t\\xe7Q\\xb6.\\rU\\xc6\\x9d\\x16\", b'\\x8b\\r\\x10Nz>\\x01\\x07Kc\\xa0\\xe26P\\xafd', b'']\n",
            "6 [b'\\x1c\\x88\\xfe\\x021\\xb0\\x9d0\\xd3h%\\x9a\\xb1 \\xf4\\xe7', b\"8g\\xba'\\xee?\\x9bm[\\xde\\x89\\xb9x\\xb5\\xdf\\x9f\", b'\\xde\\xca\\x81\\x8e\\xa5\\xa1\\x1d9\\xb9\\x0fB|\\xe8\\xa2\\x82O', b'\\x9e\\x12\\xcc\\xc2r\\x1f\\x9a\\x99\\x10\\xech\\xc0\\xd09<\\xa9', b'V\\x80\\xae=6\\xfe\\xd4\\xa3\\xb0\\x0b\\xd2\\xc8I\\xc3\\x8d\\x9b', b'<&\\xe5\\xbe\\x1f\\xd3E\\xf8\\xe0\\x87\\xedO[x;H', b's\\x7fJ\\xdd\\xf6\\\\J\\xc4\\xa9bs[E\\xae9&', b'\\x1e\\x87\\xe4\\x8b\\x9b\\xe2\\x0e\\xe0%H\\x0c\\xfb\\x8dpy\\x80', b'\\xfd\\x98Q\\xf3\\xa7\\x99\\x90\\xc4E\\xd9\\x7f\\xa9\\x00\\x02(\\x86', b'\\xe3\\xd9\\xb2\\xe0\\x90T\\x15\\xee\\xa1\\x89\\x1b\\xa7:_\\xea\\x8c', b'p\\xeab3\\xd7\\x15!5\\x9e_7\\x07\\xa9\\xf8&\\x89', b'V\\xd2\\xba\\xd2\\xd6\\xc6\\x06-!N\\xb0\\xa4\\x8a\\xf5\\xc9\\x1a', b'']\n",
            "7 [b'\\x1c\\x88\\xfe\\x021\\xb0\\x9d0\\xd3h%\\x9a\\xb1 \\xf4\\xe7', b\"8g\\xba'\\xee?\\x9bm[\\xde\\x89\\xb9x\\xb5\\xdf\\x9f\", b'g\\xea\\x93\"1\\x1eQ\\x958^\\x1c\\xccT\\xd0+\\x95', b'd\\xb2?\\xbc\\x99\\xc0\\x08\\xbeCV\\xfa\\xb6A\\x86\\x88x', b'cn\\xfda;\\x958\\xeb\\x0f,\\xd8\\xd2\\xa1\\x9f\\x0e\\xf8', b'\\xc9\\x17\\xe4\\xf6\\xf6\\x12\\x9cJ#)\\xcfr\\xc3\\xd9e\\xd5', b'\\xf5\\x9e\\x87U\\x81\\x86\\xa6\\xc5[\\xb2\\x82\\xafh4\\x91\\xae', b'_A\\xc43\\xeb\\x18\\xac\\xc5\\nR\\x1e\\x96\\x8e\\xa5\\xb1\\x8a', b\"0\\xa7\\xe2\\x19\\xa8\\x15\\x860Oq\\xcc\\xca\\xc7\\x82'\\xec\", b'q\\xf2\\xb6\\xb9\\x9e\\x96\\xcbm\\xc4\\x81[\\x97a\\xee\\xe1+', b'I\\xa5\\xfb\\x87\\x05\\xa5~\\t\\x84?\\x902\\xd6w\\x9e\\xd9', b'$\\xdae\\xc2\\xc8\\xe2{\\xc8\\x15\\xf7\\xd1\\x16l\\xbfR;', b'']\n",
            "8 [b'\\x1c\\x88\\xfe\\x021\\xb0\\x9d0\\xd3h%\\x9a\\xb1 \\xf4\\xe7', b\"8g\\xba'\\xee?\\x9bm[\\xde\\x89\\xb9x\\xb5\\xdf\\x9f\", b'Y\\xb91g\\x82\\xe8.\\xe0\\xf6S$y|\\xb66\\xc0', b'\\xdd\\xc6\\x11Du\\xb0Z\\xbf\\xb4\\x0ee#\\x9eo\\xc5\\x83', b'V\\xe0|\\x1e8\"<\\x1b6\\xc3\\n\\xfa\\x06G\\x06c', b'#\\x8e\"\\xbe\\xc4\\xe4Pd\\xeal\\xe7\\xf7\\xf0\\x10\\x7f\\xe1', b'\\x8b\\xd06\\xeb\\x86C\\xda*\\x1b2\" \\xd8\\xe8\\xd3T', b'\\xf2\\xab\\x97\\x17;j\\xa7\\x16\\xc7\\xd1\\xfa<\\xc8\\xb3\\xd1c', b'\\xf5\\xa2\\t;\\x9d\\xf7\\xea\\xde\\xf9a\\xe6|\\x94\\x99\\x05-', b'\\xe2\\xa5(&\\xb4\\xde\\x17\\xec\\xaf\\x164\\x15\\xcdy@\\xde', b'\\xf76\\x80\\xbb0\\x97\\x91\\x026\\xfe\\xca6\\x07\\xbe\\x98\\x92', b'\\xb5\\xa95$\\xffdN5`\\x0e\\xff\\xc6\\x1e\\xd8\\xd1\\xbc', b'']\n",
            "9 [b'\\x1c\\x88\\xfe\\x021\\xb0\\x9d0\\xd3h%\\x9a\\xb1 \\xf4\\xe7', b\"8g\\xba'\\xee?\\x9bm[\\xde\\x89\\xb9x\\xb5\\xdf\\x9f\", b'\\x1b\\x8b\\xe5\\xc0\\xe6\\x94!\\xbe\\xff1#|\\xa3i\\x0cA', b'\\xffW\\xd6\\x8b\\xe4d3\\xf5~\\xef\\x98@\\x9c\\x162\\x7f', b'\\xe9\\xc1\\xfc\\xe2\\x01\\x96\\xa3?\\x9eo&\\xf6[\\xa0\\x1b\\xa5', b'\\x1fA\\xba\"\\xe4\\xe8\\xb7\\xa1\\xca\\xe9\\xf9B\\x14\\xdb\\xea\\\\', b'\\xe8\\x18\\xccBz\\x9d\\xb9F\\xb3\\x1f\\xcb\\xe2\\xed\\x8a\\xc4\\x8b', b'\\x88\\x15\\xde\\xa6-?\\xcf\\x8d6/s\\xdem\\xe1n\\xa5', b'\\xeb\\xd6\\xe7\\x96\\xb2\\xbe\\xb4v\\x9d\\xd6\\xb5\\xc6\\xe0\\xc9^\\xdd', b'\\x86\\xaev\\x99\\xe6\\xa0Ow\\xd7l3\\xf4\\xf1kI\\x1f', b'\\x00\\r\\xb7j\\x16\\xd68lZ\\xfe\\x02\\xec\\xbc\\xac\\xb3o', b'h\\xe171\\xd1`\\x1f\\xb3\\x97\\x90\\x0e\\x02_\\x977m', b'']\n",
            "10 [b'\\x1c\\x88\\xfe\\x021\\xb0\\x9d0\\xd3h%\\x9a\\xb1 \\xf4\\xe7', b\"8g\\xba'\\xee?\\x9bm[\\xde\\x89\\xb9x\\xb5\\xdf\\x9f\", b'<\\x1d;\\xf9\\xc6\\xb8\\xf4\\x1b\\xc3\\x8a\\xe9p-\\x80#\\xe3', b'\\xb9:\\xfe\\xb8O\\xb9\\xe4\\xc4\\xbc\\xe2\\x14\\xe3T1\\xe6<', b'^/{\\xcd\\x84\\xf7s\\x8eN1\\x1d\\x0f\\xc7Y_\\xb7', b'\\x044\\xb4\\xac\\x01I\\x8al\\x8c\\xab]\\xed\\x9e<\\x1co', b'\\xa1)\\x10lA\\xadl\\xda\"\\xb4\\xd8.\\xa1\\xa9\\xf0\\r', b'\\xae\\xb1~\\x92\\xcd}\\xa5\\x0b\\xc1\\xc1\\xd0k\\x85U=\\x1a', b'\\xb6\\xf4\\xb4\\xb0Q\\x9b\\xfa\\x0b\\xa5u3oz\\x87\\xfb*', b'n\\xffwrk\\x9c\\xa8!j\\x1b\\x0c\\xf5\\xf6+0\\x9f', b'\\xb3F\\xec\\xa6\\xa7@\\x1c]\\xe3\\xe0\\\\nXy{\\xb7', b'$\\xc2\\x95\\x1c[\\xc3\\xe8X\\xd4\\xed\\xa8\\x1f\\xbcU\\xd0\\xd9', b'']\n",
            "11 [b'\\x1c\\x88\\xfe\\x021\\xb0\\x9d0\\xd3h%\\x9a\\xb1 \\xf4\\xe7', b\"8g\\xba'\\xee?\\x9bm[\\xde\\x89\\xb9x\\xb5\\xdf\\x9f\", b'\\x7f\\x9d\\xdde\\x07\\xa5\\x06r1\\xa9\\xe8`l\\xa8L\\x11', b'GS\\xadL\\xd3\\xdf\\\\\\xcb\\x85\\xc7\\xb7\\xfc\\xdc\\xb2n\\xf9', b'\\x9aY\\x1d\\xf3\\xc3\\xfa7BQ\\x16\\x85D\\xa4\\x8e\\xcd\\xfb', b'\\xb8p\\x05\\xc3 \\x15\\xd6\\xc31\\xe1\\x19\\xf2w)\\xb7n', b'\\xa9\\tj\\x19\\x05v\\x84+3\\xb8F\\xdc\\xf0\\xd0z\\xaa', b'\\x99\\xf2\\x16\\xfa\\xf3\\x02o\\xb0\\xce8\\x87t\\xdeoE\\\\', b'T\\x06k\\xad\\x8fE\\x1ey`,\\xf3\\xed\\xd8\\x05\\x04)', b'\\x96B(\\xa3\\x92\\x06\\x8a \\xff\\xbb]Y\\x0b\\xe0\\xc88', b'\\xf9\\xe6W\\xae5/\\xccp\\xfb\\xbf\\xf9\\xcc\\x1d7\\xc4\\xcf', b'N\\x93\\x06\\x9fw\\xc1\\xba4\\x9b\\xab\\x80y#\\x88\\xf4|', b'']\n",
            "12 [b'\\x1c\\x88\\xfe\\x021\\xb0\\x9d0\\xd3h%\\x9a\\xb1 \\xf4\\xe7', b\"8g\\xba'\\xee?\\x9bm[\\xde\\x89\\xb9x\\xb5\\xdf\\x9f\", b'\\x8a\\xa0\\x1bf\\xc5`\\x9eb$\\x89\\xbfDl#\\x7fL', b'a\\xb3vw\\xdf\\xd9\\xb8H\\xa640<Q|m\\x96', b'\\x1c\\x00C*\\xedG\\x0b \\x7f@\\xd9\\x90)\\xf6x\\x84', b'(\\xc6\\xe2\\xa7K\\xd5\\xa7B\\x96r\\xaf\\xd1%F\\x91,', b'\\x14\\x89S\\xbc\\x11()6\\xad\\x98\\x9ai9\\xea\\xd6/', b'\\xd1\\x92R\\x83G\\xeb\\xb0\\x14I7Cz\\xba\\xec\\xdd\\xe6', b'\\xb0\\xde\\r\\x802\\xbd\\x1a \\x12\\xe21:\\x10\\x8b\\x9b\\xd0', b'\\x07\\xab\\xed\\xa9\\x08\\xd4\\xdcAM\\xea\\x07\\xe1\\xe0\\xdd\\x1c\\xc3', b'\\x85u[\\x91\\xc5\\xe9g\\x0cY\\x85y_\\xd2\\xa3\\x95F', b'\\xfe\\xdd\\xe4\\xfb>\\xbaS;\\x10\\x93\\xb0\\xed\\xca\\xdf\\xee.', b'']\n",
            "13 [b'\\x1c\\x88\\xfe\\x021\\xb0\\x9d0\\xd3h%\\x9a\\xb1 \\xf4\\xe7', b\"8g\\xba'\\xee?\\x9bm[\\xde\\x89\\xb9x\\xb5\\xdf\\x9f\", b'\\xca\\xaeM\\x17\\xa9\\xc9\\x8c\\x95\\x1e\\xf4\\xf8N\\xc0\\xfa\\xd7\\xf0', b'\\xd2\\xce\\x9f\\xc5>\\nY/\\x92\\xb8[\\xe9\\xb4\\x80Sl', b'\\x91\\r^}\\xea\\x95\\xf0\\xe0\\x98\\xb3\\x9ch\\xbc\\xce#9', b'a\\xed\\x9aiQ\\xacK\\x04\\xc6\\x02\\x86GH\\x95\\xc9\\xe3', b'H\\xfdL\\x0c \\x13\\xe4\\xa8\"\\x81[(qz\\x12\\x8c', b'\\xe5R\\xea\\xbd\\xfdu\\x88\\xb6P\\x03g0%\\xaa@\\x1b', b'\\x86\\x88\\x92\\xdc\\xd4\\xccB\\x9e\\x9c\\xed+\\xcd4\\x8e\\x9c<', b'\\xce,\\xc7__;rfr\\xd9\\xd3\\x00\\xb3\\x1d(\\xae', b'\\xc1X\\xeb\\xc0\\xd0l\\x98\\xfdQ\\x90\\xfdLl_\\t\\xa8', b'\\x8cK\\x05f\\x83\\x11{\\x93I4\\x0f\\xe2\\xc0h?\\x16', b'']\n",
            "14 [b'\\x1c\\x88\\xfe\\x021\\xb0\\x9d0\\xd3h%\\x9a\\xb1 \\xf4\\xe7', b\"8g\\xba'\\xee?\\x9bm[\\xde\\x89\\xb9x\\xb5\\xdf\\x9f\", b'\\xd8\\x0b\\xd8\\xa6\\xee_\\x9fp\\xaaXR\\xbaW\\x02HN', b'!uj\\r\\x9bw6/\\xe8\\xbd\\x01C\\x108ng', b'z\\xd4pF3P\\x97\\xe0m5$\\xdeL\\x12\\xdc\\xa1', b'\\xac\\xee\\xb95\\xc7\\xbb\\x83FE\\xdf?\\xfc\\xfb\\xef\\xc9>', b'h\\xfc\\xd3\\xf6(\\xb2\\x9d\\x89O\\x9dl\\x17\\xed`@\\xa0', b'\\x9d4\\x87n\\xce#\\xbd\\xa1\\x9f\\xb0\\x00\\xbb\\xfe\\x7f\\xcew', b'{\\x15ib[x\\r4\\xc1\\x953\\xfa\\xda\\xce\\xeaZ', b'\\xc2?\\x92\\x95\\xcaqr\\xa6\\xed\\xd8\\xf1\\xb6\\xcc\\xdf? ', b\"\\xed\\xb5\\x16\\xa8\\x01\\xca\\xf3\\x86\\xfa}\\x83t3\\xa5'S\", b'2\\xd8\\x91\\x04\\x01\\x88\\xc3\\xc6\\x88.\\xc3\\xac\\xdd\\x8b8A', b'']\n",
            "15 [b'\\x1c\\x88\\xfe\\x021\\xb0\\x9d0\\xd3h%\\x9a\\xb1 \\xf4\\xe7', b\"8g\\xba'\\xee?\\x9bm[\\xde\\x89\\xb9x\\xb5\\xdf\\x9f\", b'\\x02]\\xed\\x10\\xed\\x83ss\\xa6PJ7;\\xbe\\xa6\\xa7', b'\\xf3y\\xf1\\xc2\\x94\\xc9\\xf8\\xef!R\\xc9d\\xcc\\xa4\\x01;', b'\\x11\\xb5&\\xd9\\xcb\\xd5\\x0b\\xb5+\\xb5r_\\xda\\xf1V\\xbc', b'\\x83\\x96\\x04\\x94\\xd8\\xd8N\\xe1\\xbc\\xf2\\xddjX2\\xb1V', b'\\xee\\x92$\\xd2E\\x91\\xb2\\xb4\\xf3l\\xc6\\x07\\xb4\\x8c\\xa7\\xa1', b'y\\x8c$\\xb8\\xcaz\\x88\\x9b\\x0cK\\xf8\\xfa\\xb8\\xc2\\xe1\\xa8', b'\\xc0N\\xf1\\x1f_\\xb8 \\xb2\\xf9\\x8b\\xf9\\xc9#\\x05\\x93[', b'\\x99D\\x8a\\x02\\x8f94\\x89%\\xc6\\xa8\\x1a\\xf9\\x1d\\\\\\x05', b'g\\x91Q\\xaf\\xa8\\xd0_6\\x80\\xfe\\x06.\\x7f \\x13\\xee', b'\\xb2}\\xf5\\xbeE\\x9a\\xb0\\xe7\\x8c\\xaf\\x05\\x0e\\xc5\\xa7G\\xaa', b'']\n",
            "16 [b'\\x1c\\x88\\xfe\\x021\\xb0\\x9d0\\xd3h%\\x9a\\xb1 \\xf4\\xe7', b\"8g\\xba'\\xee?\\x9bm[\\xde\\x89\\xb9x\\xb5\\xdf\\x9f\", b'h\\xe2-c\\x84)\\x06\\xa2*NZ\\x0eX\\x98\\x9a\\xc5', b'\\xd4`\\x8b\\xbd{;\\x1fn\\x9e\\xb2\\xf7\\x1a\\x96y\\xb9v', b'\\xea\\x8a\\x11G\\xd4\\xa7wV> H%\\x1c]\\xf0\\xb1', b'\\x9e\\xef\\xbf\\x14u\\xcd1\\r\\xa9\\x8e4a\\x88\\x9b\\x96_', b'hNd\\xadF\\xaeE\\xbb\\x83*\\xd5:s\\xe7\\xb1\\x89', b'\\xe0OJ\\xc6y\\xe49\\xc9\\xa1\\x92\\x94Q\\xcc\\xb2\\xca7', b'@\\x8b\\xa0\\x95\\x85g\\x04Y\\xf3\\xa6T\\x1c\\x9cwn(', b'\\xef\\xdd\\x12\\xe9\\xc0\\x99\\x7f\\xb5\\x92\\x16u\\x80\\xbe\\x91\\r1', b'\\xbb\\x91\\xf1\\x84\\x16$;\\x93\\xac\\xe9WAB\\xd0i\\xde', b'\\xe7\\xac\\x1d\"\\xc0\\xc9\\xe6\\xdb\\x0e\\xd1\\x1f\\x12Ac\\x0e\\x05', b'']\n",
            "17 [b'\\x1c\\x88\\xfe\\x021\\xb0\\x9d0\\xd3h%\\x9a\\xb1 \\xf4\\xe7', b\"8g\\xba'\\xee?\\x9bm[\\xde\\x89\\xb9x\\xb5\\xdf\\x9f\", b'h\\xe2-c\\x84)\\x06\\xa2*NZ\\x0eX\\x98\\x9a\\xc5', b'\\xdd\\x9a\\x82\\x97\\x9cm\\xe5\\xe3\\xa3\\xab\\xb6\\xa5\\x80\\x9f\\xea\\xc6', b'\\xc5\\xc4\\xc23,\\x05\\xe6\\x1e~{z\\xd7KF_\\x95', b\"W\\x9c'\\xb0\\x16\\xd1~g}\\xda2\\x9d\\xd2\\xe0\\xdb8\", b'\\xd7\\x08\\xe1C\\x02k\\xc8/P\\xaa\\x90\\xe4\\x80\\xb1\\xb4\\xec', b'+P`\\x1f>\\xe2xH\\xecr\\xaa`Q)\\x8d\"', b'w\\x19\\x13<(9d\\xda\\xb3\\xc7\\x02;\\xe3\\xc5Y\\xe9', b'\\xdb\\xc5)\\xcd\\x94so\\n<BJ\\xde\\x1f\\x9d\\x85\\xf7', b'\\xad\\xa9\\xde\\xe2\\xe7nk\\xd4\\xedZqP\\x82\\x1d\\x8d\\xcd', b'\\x0c\\x8b7<<k\\xf3v\\xc7\\xc8j\\xb65N\\xd8\\x1f', b'']\n",
            "18 [b'\\x1c\\x88\\xfe\\x021\\xb0\\x9d0\\xd3h%\\x9a\\xb1 \\xf4\\xe7', b\"8g\\xba'\\xee?\\x9bm[\\xde\\x89\\xb9x\\xb5\\xdf\\x9f\", b'h\\xe2-c\\x84)\\x06\\xa2*NZ\\x0eX\\x98\\x9a\\xc5', b'B,\\xcd\\xb3\\xc2\\xbb\\x85\\xa0\\xd2v\\\\\\x89\\xff\\x1a_\\xae', b'\\xfc\\n\\xe2\\xbdA\\xc31\\xcd\\r\\x18)\\x01\\xdaz9g', b'\\x98Z\\xde\\xa1\\xce\\r\\xa3\\x83\\xb8\\xd2\\xff\\xc8!\\xe2/\\x8c', b'|\\xca\\x1fq*\\xc2\\x94.B\\xf3\\x01\\xc7\\r\\x86\\xa3\\xf9', b'\\xe4\\x086\\xb6\\xe3\\x9be\\xcc\\xe1\\xedz\\xed\\xdd>\\xa6%', b'\\x8d\\xfc\\xef\\x99m\\xea\\xbcv\\x04b\\xd5,\\xc9\\x83U\\xa3', b'\\xf2\\xf1\\x8f?\\x1d^%Y-r\\xc3/F\\x18\\xfc{', b'\\xdb\\x94\\x1bz\\x83\\x98\\xb6!\\x86l\\x03hg*\\x82\\xa6', b'}\\xde\\xba\\xfa\\x9cG\\xc8g\\x8d\\x1fH\\x17I\\x0c-\\xbb', b'']\n",
            "19 [b'\\x1c\\x88\\xfe\\x021\\xb0\\x9d0\\xd3h%\\x9a\\xb1 \\xf4\\xe7', b\"8g\\xba'\\xee?\\x9bm[\\xde\\x89\\xb9x\\xb5\\xdf\\x9f\", b'h\\xe2-c\\x84)\\x06\\xa2*NZ\\x0eX\\x98\\x9a\\xc5', b'\\xac:\\xca\\xcfW\\x04\\xef\\xe2\\xcb\\xe8\\x85G\\x01\\xe6\\xb0b', b';\\x14\\x10\\t}\\xfd\\xca\\xe4D\\xe9\\xe8\\xba\\xd6`b\\xaf', b'su]\\xf2\\x01\\x0bBW69\\x9a\\xa8\\x13m\\x93O', b'\\xfc\\x1b\\x82L\\xaf\\xb3\\x8cy\\x8f\\x89\\x00\\xc3\\xfd\\x1b\\xf0\\xe7', b'dC\\x16\\x9f\\xa6\\xdb.\\x01e\\xbb0\\xcd\\x18\\x06\\x81\\x0c', b'\\xcbUf\\xb1LS\\n\\xcc\\xa9~\\x8cs&e\\xe4\\x01', b'\\xdb\\xd0\\xc6\\xe3Cl\\xc6 \\x1a\\xde\\xc9\\x13\\xab\\xcf{\\xac', b'\\xd6\\x1e\\x97Yi\\x9e\\x82\\x932\\x1b\\x84\\xd4\\x9fs\\x98\\xfd', b'\\xd5\\x88\\xa8X;\\x97k\\x8d\\xc452\\xf8\\xfe\\x1bb*', b'']\n",
            "20 [b'\\x1c\\x88\\xfe\\x021\\xb0\\x9d0\\xd3h%\\x9a\\xb1 \\xf4\\xe7', b\"8g\\xba'\\xee?\\x9bm[\\xde\\x89\\xb9x\\xb5\\xdf\\x9f\", b'h\\xe2-c\\x84)\\x06\\xa2*NZ\\x0eX\\x98\\x9a\\xc5', b'l\\x8b\\xf2\\xa08\\xa6\\xe5\\x17\\x04\\xad?\\xf6l\\x138\\xcb', b'\\x8c1H=\\x9ceG\\xe3\\x97\\x1d\\xf6\\xe1\\x82\\xd0\\xa8N', b'\\xbd\\xbd\\x0f\\xf9\\xc2`+\\xa12{\\xd93\\x86?PH', b'\\xd3\\xe6\\x99\\xaf@\\xc0z\\xe0\\x91\\xcd\\xd2\\xcf]Z\\xf5\\xe4', b'\\x17\\x15LAL\\xa3\\x0f$NQ\\x83\\x0e\\xfc&\\xff\\t', b'<\\xbc\\x85\\xe5\\xe3\\xb0\\x00\\x83\\xe3\\xc7({\\xc2\\xf2\\xcd\\x05', b'c\\x9c|\\xec+k\\xf22p\\x94\\x11T}\\xdc\\\\\\xbe', b'=tU\\xa6\\x8b\\xfd\\xec\\xa3#Q\\x84}\\x9ax.V', b')C\\xcc\\xab\\x82\\x9c\\xe03\\x9e\\xed\\xc3\\xe7Lim;', b'']\n",
            "21 [b'\\x1c\\x88\\xfe\\x021\\xb0\\x9d0\\xd3h%\\x9a\\xb1 \\xf4\\xe7', b\"8g\\xba'\\xee?\\x9bm[\\xde\\x89\\xb9x\\xb5\\xdf\\x9f\", b'h\\xe2-c\\x84)\\x06\\xa2*NZ\\x0eX\\x98\\x9a\\xc5', b'\\r\\xe7\\xeb\\xf0Ty\\x8d\\xd4\\x86]\\xf7\\xb0\\xed?\\xbak', b'\\x94\\xef{\\xa5\\x022\\x97.\\xff\\xf8\\xb40\\xe6\\xec\\x80E', b'\\x1b\\xc8O\\xe90O\\xf0\\xc8\\xd5\\x0b#\\x87\\x99r\\xfe\\xb1', b'$\\xecf\\xddc\\xf0\\xf8L\\xdbi\\x8b\\xb3\\xbb\\x07r\\xc7', b'\\x1d\\x11\\xc2\\xc8 j~~\\x8f\\x88\\xa5\\xfe7%\\x8c\\xe1', b'\\xaf41$\\xcb\\xfa\\xda\\xba\\x9e\\xf7C\\xfb\\xde\\xd6J\\x9f', b'U\\xbav`\\xaf1#<u\\xb9+A\\xb55g\\xd8', b\"q'\\xb4\\x8c\\xa6\\xcd\\t\\xe7Q\\xb6.\\rU\\xc6\\x9d\\x16\", b'\\x8b\\r\\x10Nz>\\x01\\x07Kc\\xa0\\xe26P\\xafd', b'']\n",
            "22 [b'\\x1c\\x88\\xfe\\x021\\xb0\\x9d0\\xd3h%\\x9a\\xb1 \\xf4\\xe7', b\"8g\\xba'\\xee?\\x9bm[\\xde\\x89\\xb9x\\xb5\\xdf\\x9f\", b'h\\xe2-c\\x84)\\x06\\xa2*NZ\\x0eX\\x98\\x9a\\xc5', b'\\xde\\xca\\x81\\x8e\\xa5\\xa1\\x1d9\\xb9\\x0fB|\\xe8\\xa2\\x82O', b'\\x9e\\x12\\xcc\\xc2r\\x1f\\x9a\\x99\\x10\\xech\\xc0\\xd09<\\xa9', b'V\\x80\\xae=6\\xfe\\xd4\\xa3\\xb0\\x0b\\xd2\\xc8I\\xc3\\x8d\\x9b', b'<&\\xe5\\xbe\\x1f\\xd3E\\xf8\\xe0\\x87\\xedO[x;H', b's\\x7fJ\\xdd\\xf6\\\\J\\xc4\\xa9bs[E\\xae9&', b'\\x1e\\x87\\xe4\\x8b\\x9b\\xe2\\x0e\\xe0%H\\x0c\\xfb\\x8dpy\\x80', b'\\xfd\\x98Q\\xf3\\xa7\\x99\\x90\\xc4E\\xd9\\x7f\\xa9\\x00\\x02(\\x86', b'\\xe3\\xd9\\xb2\\xe0\\x90T\\x15\\xee\\xa1\\x89\\x1b\\xa7:_\\xea\\x8c', b'p\\xeab3\\xd7\\x15!5\\x9e_7\\x07\\xa9\\xf8&\\x89', b'V\\xd2\\xba\\xd2\\xd6\\xc6\\x06-!N\\xb0\\xa4\\x8a\\xf5\\xc9\\x1a', b'']\n",
            "23 [b'\\x1c\\x88\\xfe\\x021\\xb0\\x9d0\\xd3h%\\x9a\\xb1 \\xf4\\xe7', b\"8g\\xba'\\xee?\\x9bm[\\xde\\x89\\xb9x\\xb5\\xdf\\x9f\", b'h\\xe2-c\\x84)\\x06\\xa2*NZ\\x0eX\\x98\\x9a\\xc5', b'g\\xea\\x93\"1\\x1eQ\\x958^\\x1c\\xccT\\xd0+\\x95', b'd\\xb2?\\xbc\\x99\\xc0\\x08\\xbeCV\\xfa\\xb6A\\x86\\x88x', b'cn\\xfda;\\x958\\xeb\\x0f,\\xd8\\xd2\\xa1\\x9f\\x0e\\xf8', b'\\xc9\\x17\\xe4\\xf6\\xf6\\x12\\x9cJ#)\\xcfr\\xc3\\xd9e\\xd5', b'\\xf5\\x9e\\x87U\\x81\\x86\\xa6\\xc5[\\xb2\\x82\\xafh4\\x91\\xae', b'_A\\xc43\\xeb\\x18\\xac\\xc5\\nR\\x1e\\x96\\x8e\\xa5\\xb1\\x8a', b\"0\\xa7\\xe2\\x19\\xa8\\x15\\x860Oq\\xcc\\xca\\xc7\\x82'\\xec\", b'q\\xf2\\xb6\\xb9\\x9e\\x96\\xcbm\\xc4\\x81[\\x97a\\xee\\xe1+', b'I\\xa5\\xfb\\x87\\x05\\xa5~\\t\\x84?\\x902\\xd6w\\x9e\\xd9', b'$\\xdae\\xc2\\xc8\\xe2{\\xc8\\x15\\xf7\\xd1\\x16l\\xbfR;', b'']\n",
            "24 [b'\\x1c\\x88\\xfe\\x021\\xb0\\x9d0\\xd3h%\\x9a\\xb1 \\xf4\\xe7', b\"8g\\xba'\\xee?\\x9bm[\\xde\\x89\\xb9x\\xb5\\xdf\\x9f\", b'h\\xe2-c\\x84)\\x06\\xa2*NZ\\x0eX\\x98\\x9a\\xc5', b'Y\\xb91g\\x82\\xe8.\\xe0\\xf6S$y|\\xb66\\xc0', b'\\xdd\\xc6\\x11Du\\xb0Z\\xbf\\xb4\\x0ee#\\x9eo\\xc5\\x83', b'V\\xe0|\\x1e8\"<\\x1b6\\xc3\\n\\xfa\\x06G\\x06c', b'#\\x8e\"\\xbe\\xc4\\xe4Pd\\xeal\\xe7\\xf7\\xf0\\x10\\x7f\\xe1', b'\\x8b\\xd06\\xeb\\x86C\\xda*\\x1b2\" \\xd8\\xe8\\xd3T', b'\\xf2\\xab\\x97\\x17;j\\xa7\\x16\\xc7\\xd1\\xfa<\\xc8\\xb3\\xd1c', b'\\xf5\\xa2\\t;\\x9d\\xf7\\xea\\xde\\xf9a\\xe6|\\x94\\x99\\x05-', b'\\xe2\\xa5(&\\xb4\\xde\\x17\\xec\\xaf\\x164\\x15\\xcdy@\\xde', b'\\xf76\\x80\\xbb0\\x97\\x91\\x026\\xfe\\xca6\\x07\\xbe\\x98\\x92', b'\\xb5\\xa95$\\xffdN5`\\x0e\\xff\\xc6\\x1e\\xd8\\xd1\\xbc', b'']\n",
            "25 [b'\\x1c\\x88\\xfe\\x021\\xb0\\x9d0\\xd3h%\\x9a\\xb1 \\xf4\\xe7', b\"8g\\xba'\\xee?\\x9bm[\\xde\\x89\\xb9x\\xb5\\xdf\\x9f\", b'h\\xe2-c\\x84)\\x06\\xa2*NZ\\x0eX\\x98\\x9a\\xc5', b'\\x1b\\x8b\\xe5\\xc0\\xe6\\x94!\\xbe\\xff1#|\\xa3i\\x0cA', b'\\xffW\\xd6\\x8b\\xe4d3\\xf5~\\xef\\x98@\\x9c\\x162\\x7f', b'\\xe9\\xc1\\xfc\\xe2\\x01\\x96\\xa3?\\x9eo&\\xf6[\\xa0\\x1b\\xa5', b'\\x1fA\\xba\"\\xe4\\xe8\\xb7\\xa1\\xca\\xe9\\xf9B\\x14\\xdb\\xea\\\\', b'\\xe8\\x18\\xccBz\\x9d\\xb9F\\xb3\\x1f\\xcb\\xe2\\xed\\x8a\\xc4\\x8b', b'\\x88\\x15\\xde\\xa6-?\\xcf\\x8d6/s\\xdem\\xe1n\\xa5', b'\\xeb\\xd6\\xe7\\x96\\xb2\\xbe\\xb4v\\x9d\\xd6\\xb5\\xc6\\xe0\\xc9^\\xdd', b'\\x86\\xaev\\x99\\xe6\\xa0Ow\\xd7l3\\xf4\\xf1kI\\x1f', b'\\x00\\r\\xb7j\\x16\\xd68lZ\\xfe\\x02\\xec\\xbc\\xac\\xb3o', b'h\\xe171\\xd1`\\x1f\\xb3\\x97\\x90\\x0e\\x02_\\x977m', b'']\n",
            "26 [b'\\x1c\\x88\\xfe\\x021\\xb0\\x9d0\\xd3h%\\x9a\\xb1 \\xf4\\xe7', b\"8g\\xba'\\xee?\\x9bm[\\xde\\x89\\xb9x\\xb5\\xdf\\x9f\", b'h\\xe2-c\\x84)\\x06\\xa2*NZ\\x0eX\\x98\\x9a\\xc5', b'<\\x1d;\\xf9\\xc6\\xb8\\xf4\\x1b\\xc3\\x8a\\xe9p-\\x80#\\xe3', b'\\xb9:\\xfe\\xb8O\\xb9\\xe4\\xc4\\xbc\\xe2\\x14\\xe3T1\\xe6<', b'^/{\\xcd\\x84\\xf7s\\x8eN1\\x1d\\x0f\\xc7Y_\\xb7', b'\\x044\\xb4\\xac\\x01I\\x8al\\x8c\\xab]\\xed\\x9e<\\x1co', b'\\xa1)\\x10lA\\xadl\\xda\"\\xb4\\xd8.\\xa1\\xa9\\xf0\\r', b'\\xae\\xb1~\\x92\\xcd}\\xa5\\x0b\\xc1\\xc1\\xd0k\\x85U=\\x1a', b'\\xb6\\xf4\\xb4\\xb0Q\\x9b\\xfa\\x0b\\xa5u3oz\\x87\\xfb*', b'n\\xffwrk\\x9c\\xa8!j\\x1b\\x0c\\xf5\\xf6+0\\x9f', b'\\xb3F\\xec\\xa6\\xa7@\\x1c]\\xe3\\xe0\\\\nXy{\\xb7', b'$\\xc2\\x95\\x1c[\\xc3\\xe8X\\xd4\\xed\\xa8\\x1f\\xbcU\\xd0\\xd9', b'']\n",
            "27 [b'\\x1c\\x88\\xfe\\x021\\xb0\\x9d0\\xd3h%\\x9a\\xb1 \\xf4\\xe7', b\"8g\\xba'\\xee?\\x9bm[\\xde\\x89\\xb9x\\xb5\\xdf\\x9f\", b'h\\xe2-c\\x84)\\x06\\xa2*NZ\\x0eX\\x98\\x9a\\xc5', b'\\x7f\\x9d\\xdde\\x07\\xa5\\x06r1\\xa9\\xe8`l\\xa8L\\x11', b'GS\\xadL\\xd3\\xdf\\\\\\xcb\\x85\\xc7\\xb7\\xfc\\xdc\\xb2n\\xf9', b'\\x9aY\\x1d\\xf3\\xc3\\xfa7BQ\\x16\\x85D\\xa4\\x8e\\xcd\\xfb', b'\\xb8p\\x05\\xc3 \\x15\\xd6\\xc31\\xe1\\x19\\xf2w)\\xb7n', b'\\xa9\\tj\\x19\\x05v\\x84+3\\xb8F\\xdc\\xf0\\xd0z\\xaa', b'\\x99\\xf2\\x16\\xfa\\xf3\\x02o\\xb0\\xce8\\x87t\\xdeoE\\\\', b'T\\x06k\\xad\\x8fE\\x1ey`,\\xf3\\xed\\xd8\\x05\\x04)', b'\\x96B(\\xa3\\x92\\x06\\x8a \\xff\\xbb]Y\\x0b\\xe0\\xc88', b'\\xf9\\xe6W\\xae5/\\xccp\\xfb\\xbf\\xf9\\xcc\\x1d7\\xc4\\xcf', b'N\\x93\\x06\\x9fw\\xc1\\xba4\\x9b\\xab\\x80y#\\x88\\xf4|', b'']\n",
            "28 [b'\\x1c\\x88\\xfe\\x021\\xb0\\x9d0\\xd3h%\\x9a\\xb1 \\xf4\\xe7', b\"8g\\xba'\\xee?\\x9bm[\\xde\\x89\\xb9x\\xb5\\xdf\\x9f\", b'h\\xe2-c\\x84)\\x06\\xa2*NZ\\x0eX\\x98\\x9a\\xc5', b'\\x8a\\xa0\\x1bf\\xc5`\\x9eb$\\x89\\xbfDl#\\x7fL', b'a\\xb3vw\\xdf\\xd9\\xb8H\\xa640<Q|m\\x96', b'\\x1c\\x00C*\\xedG\\x0b \\x7f@\\xd9\\x90)\\xf6x\\x84', b'(\\xc6\\xe2\\xa7K\\xd5\\xa7B\\x96r\\xaf\\xd1%F\\x91,', b'\\x14\\x89S\\xbc\\x11()6\\xad\\x98\\x9ai9\\xea\\xd6/', b'\\xd1\\x92R\\x83G\\xeb\\xb0\\x14I7Cz\\xba\\xec\\xdd\\xe6', b'\\xb0\\xde\\r\\x802\\xbd\\x1a \\x12\\xe21:\\x10\\x8b\\x9b\\xd0', b'\\x07\\xab\\xed\\xa9\\x08\\xd4\\xdcAM\\xea\\x07\\xe1\\xe0\\xdd\\x1c\\xc3', b'\\x85u[\\x91\\xc5\\xe9g\\x0cY\\x85y_\\xd2\\xa3\\x95F', b'\\xfe\\xdd\\xe4\\xfb>\\xbaS;\\x10\\x93\\xb0\\xed\\xca\\xdf\\xee.', b'']\n",
            "29 [b'\\x1c\\x88\\xfe\\x021\\xb0\\x9d0\\xd3h%\\x9a\\xb1 \\xf4\\xe7', b\"8g\\xba'\\xee?\\x9bm[\\xde\\x89\\xb9x\\xb5\\xdf\\x9f\", b'h\\xe2-c\\x84)\\x06\\xa2*NZ\\x0eX\\x98\\x9a\\xc5', b'\\xca\\xaeM\\x17\\xa9\\xc9\\x8c\\x95\\x1e\\xf4\\xf8N\\xc0\\xfa\\xd7\\xf0', b'\\xd2\\xce\\x9f\\xc5>\\nY/\\x92\\xb8[\\xe9\\xb4\\x80Sl', b'\\x91\\r^}\\xea\\x95\\xf0\\xe0\\x98\\xb3\\x9ch\\xbc\\xce#9', b'a\\xed\\x9aiQ\\xacK\\x04\\xc6\\x02\\x86GH\\x95\\xc9\\xe3', b'H\\xfdL\\x0c \\x13\\xe4\\xa8\"\\x81[(qz\\x12\\x8c', b'\\xe5R\\xea\\xbd\\xfdu\\x88\\xb6P\\x03g0%\\xaa@\\x1b', b'\\x86\\x88\\x92\\xdc\\xd4\\xccB\\x9e\\x9c\\xed+\\xcd4\\x8e\\x9c<', b'\\xce,\\xc7__;rfr\\xd9\\xd3\\x00\\xb3\\x1d(\\xae', b'\\xc1X\\xeb\\xc0\\xd0l\\x98\\xfdQ\\x90\\xfdLl_\\t\\xa8', b'\\x8cK\\x05f\\x83\\x11{\\x93I4\\x0f\\xe2\\xc0h?\\x16', b'']\n",
            "30 [b'\\x1c\\x88\\xfe\\x021\\xb0\\x9d0\\xd3h%\\x9a\\xb1 \\xf4\\xe7', b\"8g\\xba'\\xee?\\x9bm[\\xde\\x89\\xb9x\\xb5\\xdf\\x9f\", b'h\\xe2-c\\x84)\\x06\\xa2*NZ\\x0eX\\x98\\x9a\\xc5', b'\\xd8\\x0b\\xd8\\xa6\\xee_\\x9fp\\xaaXR\\xbaW\\x02HN', b'!uj\\r\\x9bw6/\\xe8\\xbd\\x01C\\x108ng', b'z\\xd4pF3P\\x97\\xe0m5$\\xdeL\\x12\\xdc\\xa1', b'\\xac\\xee\\xb95\\xc7\\xbb\\x83FE\\xdf?\\xfc\\xfb\\xef\\xc9>', b'h\\xfc\\xd3\\xf6(\\xb2\\x9d\\x89O\\x9dl\\x17\\xed`@\\xa0', b'\\x9d4\\x87n\\xce#\\xbd\\xa1\\x9f\\xb0\\x00\\xbb\\xfe\\x7f\\xcew', b'{\\x15ib[x\\r4\\xc1\\x953\\xfa\\xda\\xce\\xeaZ', b'\\xc2?\\x92\\x95\\xcaqr\\xa6\\xed\\xd8\\xf1\\xb6\\xcc\\xdf? ', b\"\\xed\\xb5\\x16\\xa8\\x01\\xca\\xf3\\x86\\xfa}\\x83t3\\xa5'S\", b'2\\xd8\\x91\\x04\\x01\\x88\\xc3\\xc6\\x88.\\xc3\\xac\\xdd\\x8b8A', b'']\n",
            "31 [b'\\x1c\\x88\\xfe\\x021\\xb0\\x9d0\\xd3h%\\x9a\\xb1 \\xf4\\xe7', b\"8g\\xba'\\xee?\\x9bm[\\xde\\x89\\xb9x\\xb5\\xdf\\x9f\", b'h\\xe2-c\\x84)\\x06\\xa2*NZ\\x0eX\\x98\\x9a\\xc5', b'\\x02]\\xed\\x10\\xed\\x83ss\\xa6PJ7;\\xbe\\xa6\\xa7', b'\\xf3y\\xf1\\xc2\\x94\\xc9\\xf8\\xef!R\\xc9d\\xcc\\xa4\\x01;', b'\\x11\\xb5&\\xd9\\xcb\\xd5\\x0b\\xb5+\\xb5r_\\xda\\xf1V\\xbc', b'\\x83\\x96\\x04\\x94\\xd8\\xd8N\\xe1\\xbc\\xf2\\xddjX2\\xb1V', b'\\xee\\x92$\\xd2E\\x91\\xb2\\xb4\\xf3l\\xc6\\x07\\xb4\\x8c\\xa7\\xa1', b'y\\x8c$\\xb8\\xcaz\\x88\\x9b\\x0cK\\xf8\\xfa\\xb8\\xc2\\xe1\\xa8', b'\\xc0N\\xf1\\x1f_\\xb8 \\xb2\\xf9\\x8b\\xf9\\xc9#\\x05\\x93[', b'\\x99D\\x8a\\x02\\x8f94\\x89%\\xc6\\xa8\\x1a\\xf9\\x1d\\\\\\x05', b'g\\x91Q\\xaf\\xa8\\xd0_6\\x80\\xfe\\x06.\\x7f \\x13\\xee', b'\\xb2}\\xf5\\xbeE\\x9a\\xb0\\xe7\\x8c\\xaf\\x05\\x0e\\xc5\\xa7G\\xaa', b'']\n",
            "3 16\n"
          ]
        },
        {
          "data": {
            "text/plain": [
              "b\"Rollin' in my 5.0\\nWith my rag-top down so my hair can blow\\nThe girlies on standby waving just to say hi\\nDid you stop? No, I just drove by\\n\\x01\""
            ]
          },
          "execution_count": 32,
          "metadata": {},
          "output_type": "execute_result"
        }
      ],
      "source": [
        "c14.match_output()"
      ]
    },
    {
      "attachments": {},
      "cell_type": "markdown",
      "metadata": {
        "id": "0nx6Rb2R35Uo"
      },
      "source": [
        "Challenge 15"
      ]
    },
    {
      "cell_type": "code",
      "execution_count": 33,
      "metadata": {
        "colab": {
          "base_uri": "https://localhost:8080/"
        },
        "id": "87aCEatn3653",
        "outputId": "e92eb92c-3148-41b1-d904-285c0a7f71bf"
      },
      "outputs": [
        {
          "name": "stdout",
          "output_type": "stream",
          "text": [
            "b'ICE ICE BABY'\n"
          ]
        }
      ],
      "source": [
        "import challenge15 as c15\n",
        "\n",
        "plain_bytes = b\"ICE ICE BABY\\x04\\x04\\x04\\x04\"\n",
        "print(c15.check_and_strip_PKCS7(plain_bytes, block_size))\n",
        "plain_bytes = b\"ICE ICE BABY\\x05\\x05\\x05\\x05\"\n",
        "# check_and_strip_PKCS7(plain_bytes, block_size)"
      ]
    },
    {
      "attachments": {},
      "cell_type": "markdown",
      "metadata": {
        "id": "ohwz6Rgm_Q_1"
      },
      "source": [
        "Challenge 16"
      ]
    },
    {
      "cell_type": "code",
      "execution_count": 34,
      "metadata": {
        "colab": {
          "base_uri": "https://localhost:8080/"
        },
        "id": "7drnEnGl_Qow",
        "outputId": "c524ef8a-3617-40a0-cad2-e2267024fe99"
      },
      "outputs": [
        {
          "name": "stdout",
          "output_type": "stream",
          "text": [
            "[b'\\xe6F\\x11o\\xf2I0\\xe47\\xde\\xd7M\\x92^\\x18\\xc1', b'\\xc3s\\x18*\\x86j@\\x1aC\\x1e\\xacB~\\xbc\\xb5p', b'\\xecV\\xe1$\\xf4B}\\xe4\\xa1\\x16\\x0e42\\xd8>\\xd5', b'\\x86\\xd3\\xd8\\xb9e\\xbe\\xb8:C.\\x14\\xa7\\x15\\x9c\\xec\\xf3', b'\\x18\\r.\\xf8\\x86 \\x83\\xc3{\\x10\\xe3M\\xa3\\xf6\\xce\\x02', b'\\x91\\xd7-\\xf2\\x9d\\xc1JG\\xfa\\xedd\\xaa\\xaa\\xbf\"\\xf3', b']j\\xb4\\xde\\xe3ez\\xa5\\x80\\x11\\x1c\\x0e\\xf4\\xf08j']\n",
            "[b'comment1=cooking', b'%20MCs;userdata=', b'ABCDEFGHIJKLMNOP', b'ABCDEFGHIJKLMNOP', b';comment2=%20lik', b'e%20a%20pound%20', b'of%20bacon\\x06\\x06\\x06\\x06\\x06\\x06']\n"
          ]
        },
        {
          "ename": "Exception",
          "evalue": "Bad padding!",
          "output_type": "error",
          "traceback": [
            "\u001b[1;31m---------------------------------------------------------------------------\u001b[0m",
            "\u001b[1;31mException\u001b[0m                                 Traceback (most recent call last)",
            "Cell \u001b[1;32mIn[34], line 10\u001b[0m\n\u001b[0;32m      8\u001b[0m encrypt_bytes \u001b[39m=\u001b[39m c16\u001b[39m.\u001b[39mencrypt_CBC_16(plain_text, random_key, block_size, initialization_vector)\n\u001b[0;32m      9\u001b[0m print_bytes(encrypt_bytes)\n\u001b[1;32m---> 10\u001b[0m \u001b[39mprint\u001b[39m(c16\u001b[39m.\u001b[39;49mcheck_admin_16(encrypt_bytes, random_key, block_size, initialization_vector))\n\u001b[0;32m     12\u001b[0m target_chunk \u001b[39m=\u001b[39m encrypt_bytes[\u001b[39m2\u001b[39m\u001b[39m*\u001b[39mblock_size:\u001b[39m3\u001b[39m\u001b[39m*\u001b[39mblock_size]\n\u001b[0;32m     13\u001b[0m target_chunk \u001b[39m=\u001b[39m [b1 \u001b[39m^\u001b[39m b2 \u001b[39mfor\u001b[39;00m b1, b2 \u001b[39min\u001b[39;00m \u001b[39mzip\u001b[39m(target_chunk, \u001b[39mb\u001b[39m\u001b[39m'\u001b[39m\u001b[39m;admin=true;AAAA\u001b[39m\u001b[39m'\u001b[39m)]\n",
            "File \u001b[1;32mc:\\Users\\ballban\\Documents\\SourceCode\\cryptopals\\challenge16.py:16\u001b[0m, in \u001b[0;36mcheck_admin_16\u001b[1;34m(encrypt_bytes, key, block_size, initialization_vector)\u001b[0m\n\u001b[0;32m     14\u001b[0m decrypt_bytes \u001b[39m=\u001b[39m decrypt_CBC(encrypt_bytes, key, block_size, initialization_vector)\n\u001b[0;32m     15\u001b[0m print_bytes(decrypt_bytes)\n\u001b[1;32m---> 16\u001b[0m decrypt_bytes \u001b[39m=\u001b[39m c15\u001b[39m.\u001b[39;49mcheck_and_strip_PKCS7(decrypt_bytes, block_size)\n\u001b[0;32m     17\u001b[0m \u001b[39mreturn\u001b[39;00m parse_16(decrypt_bytes)\n",
            "File \u001b[1;32mc:\\Users\\ballban\\Documents\\SourceCode\\cryptopals\\challenge15.py:11\u001b[0m, in \u001b[0;36mcheck_and_strip_PKCS7\u001b[1;34m(plain_bytes, block_size)\u001b[0m\n\u001b[0;32m      9\u001b[0m   plain_bytes \u001b[39m=\u001b[39m plain_bytes[:\u001b[39m-\u001b[39m\u001b[39m1\u001b[39m]\n\u001b[0;32m     10\u001b[0m \u001b[39melif\u001b[39;00m plain_bytes[\u001b[39m-\u001b[39m\u001b[39m1\u001b[39m:] \u001b[39mnot\u001b[39;00m \u001b[39min\u001b[39;00m string\u001b[39m.\u001b[39mprintable\u001b[39m.\u001b[39mencode():\n\u001b[1;32m---> 11\u001b[0m   \u001b[39mraise\u001b[39;00m \u001b[39mException\u001b[39;00m(\u001b[39m'\u001b[39m\u001b[39mBad padding!\u001b[39m\u001b[39m'\u001b[39m)\n\u001b[0;32m     12\u001b[0m \u001b[39melse\u001b[39;00m:\n\u001b[0;32m     13\u001b[0m   \u001b[39mbreak\u001b[39;00m\n",
            "\u001b[1;31mException\u001b[0m: Bad padding!"
          ]
        }
      ],
      "source": [
        "import challenge16 as c16\n",
        "\n",
        "block_size = 16\n",
        "random_key = create_random_aes_key()\n",
        "initialization_vector = create_random_aes_key()\n",
        "plain_text = \"ABCDEFGHIJKLMNOP\" * 2\n",
        "\n",
        "encrypt_bytes = c16.encrypt_CBC_16(plain_text, random_key, block_size, initialization_vector)\n",
        "print_bytes(encrypt_bytes)\n",
        "print(c16.check_admin_16(encrypt_bytes, random_key, block_size, initialization_vector))\n",
        "\n",
        "target_chunk = encrypt_bytes[2*block_size:3*block_size]\n",
        "target_chunk = [b1 ^ b2 for b1, b2 in zip(target_chunk, b';admin=true;AAAA')]\n",
        "target_chunk = bytes([b1 ^ b2 for b1, b2 in zip(target_chunk, b\"ABCDEFGHIJKLMNOP\")])\n",
        "\n",
        "print(c16.check_admin_16(encrypt_bytes[:2*block_size] + target_chunk + encrypt_bytes[3*block_size:], random_key, block_size, initialization_vector))"
      ]
    },
    {
      "attachments": {},
      "cell_type": "markdown",
      "metadata": {},
      "source": [
        "Challenge 17"
      ]
    },
    {
      "cell_type": "code",
      "execution_count": 35,
      "metadata": {},
      "outputs": [],
      "source": [
        "random_string_list = [b'MDAwMDAwTm93IHRoYXQgdGhlIHBhcnR5IGlzIGp1bXBpbmc=',\n",
        "b'MDAwMDAxV2l0aCB0aGUgYmFzcyBraWNrZWQgaW4gYW5kIHRoZSBWZWdhJ3MgYXJlIHB1bXBpbic=',\n",
        "b'MDAwMDAyUXVpY2sgdG8gdGhlIHBvaW50LCB0byB0aGUgcG9pbnQsIG5vIGZha2luZw==',\n",
        "b'MDAwMDAzQ29va2luZyBNQydzIGxpa2UgYSBwb3VuZCBvZiBiYWNvbg==',\n",
        "b'MDAwMDA0QnVybmluZyAnZW0sIGlmIHlvdSBhaW4ndCBxdWljayBhbmQgbmltYmxl',\n",
        "b'MDAwMDA1SSBnbyBjcmF6eSB3aGVuIEkgaGVhciBhIGN5bWJhbA==',\n",
        "b'MDAwMDA2QW5kIGEgaGlnaCBoYXQgd2l0aCBhIHNvdXBlZCB1cCB0ZW1wbw==',\n",
        "b'MDAwMDA3SSdtIG9uIGEgcm9sbCwgaXQncyB0aW1lIHRvIGdvIHNvbG8=',\n",
        "b'MDAwMDA4b2xsaW4nIGluIG15IGZpdmUgcG9pbnQgb2g=',\n",
        "b'MDAwMDA5aXRoIG15IHJhZy10b3AgZG93biBzbyBteSBoYWlyIGNhbiBibG93']\n",
        "\n",
        "key = create_random_aes_key()\n",
        "IV = create_random_aes_key()\n",
        "block_size = 16"
      ]
    },
    {
      "cell_type": "code",
      "execution_count": 36,
      "metadata": {},
      "outputs": [],
      "source": [
        "# function 1\n",
        "def encrypt_CBC_17() -> bytes:\n",
        "    cipher_text = random.choice(random_string_list)\n",
        "    cipher_text = padding_PKCS7(b'A' * 14, block_size)\n",
        "    encrypted_text = encrypt_CBC(cipher_text, key, block_size, IV)\n",
        "    return encrypted_text\n",
        "\n",
        "# function 2\n",
        "def check_padding_is_valid(encrypted_bytes: bytes) -> bool:\n",
        "    decrypted_bytes = decrypt_CBC(encrypted_bytes, key, block_size, IV, False)\n",
        "    target_bytes = decrypted_bytes[-1]\n",
        "    #print(f'decrypted_bytes {decrypted_bytes}')\n",
        "    #print(f'target_bytes {target_bytes}')\n",
        "    if decrypted_bytes[-target_bytes:] == decrypted_bytes[-1:] * target_bytes:\n",
        "        return True\n",
        "    return False"
      ]
    },
    {
      "cell_type": "code",
      "execution_count": 37,
      "metadata": {},
      "outputs": [
        {
          "name": "stdout",
          "output_type": "stream",
          "text": [
            "b'`\\xc0\\xbf\\xc3{f\\xc6\\xe1\\xe9\\xa9k\\x13O\\xce\\r\\x02\\xb5-\\xc0\\xc3\\xdc\\xfcAE\\x86\\x87(\\x18\\xaf\\x10o\\xc5'\n"
          ]
        },
        {
          "data": {
            "text/plain": [
              "True"
            ]
          },
          "execution_count": 37,
          "metadata": {},
          "output_type": "execute_result"
        }
      ],
      "source": [
        "encrypted_bytes = encrypt_CBC_17()\n",
        "print(encrypted_bytes)\n",
        "check_padding_is_valid(encrypted_bytes)"
      ]
    },
    {
      "cell_type": "code",
      "execution_count": 38,
      "metadata": {},
      "outputs": [],
      "source": [
        "def r(c0, c1, c2, intermiedate_state, i):\n",
        "    if len(intermiedate_state) == 16:\n",
        "        return intermiedate_state\n",
        "    suffix = xor_bytes(intermiedate_state, i.to_bytes(1, 'big') * (i - 1)) if i > 1 else b''\n",
        "    for j in range(256):\n",
        "        modified_encrypted_bytes = c0 + c1[:-i] + j.to_bytes(1, 'big') + suffix + c2\n",
        "        # print(len(modified_encrypted_bytes))\n",
        "        if check_padding_is_valid(modified_encrypted_bytes):\n",
        "            new_intermiedate_state = (j ^ i).to_bytes(1, 'big') + intermiedate_state\n",
        "            next = r(c0, c1, c2, new_intermiedate_state, i + 1)\n",
        "            if next:\n",
        "                return next"
      ]
    },
    {
      "cell_type": "code",
      "execution_count": 39,
      "metadata": {},
      "outputs": [
        {
          "ename": "ValueError",
          "evalue": "Padding is incorrect.",
          "output_type": "error",
          "traceback": [
            "\u001b[1;31m---------------------------------------------------------------------------\u001b[0m",
            "\u001b[1;31mValueError\u001b[0m                                Traceback (most recent call last)",
            "Cell \u001b[1;32mIn[39], line 7\u001b[0m\n\u001b[0;32m      5\u001b[0m     c1 \u001b[39m=\u001b[39m block_list[\u001b[39m-\u001b[39mi\u001b[39m-\u001b[39m\u001b[39m1\u001b[39m]\n\u001b[0;32m      6\u001b[0m     c2 \u001b[39m=\u001b[39m block_list[\u001b[39m-\u001b[39mi]\n\u001b[1;32m----> 7\u001b[0m     IS \u001b[39m=\u001b[39m r(c0, c1, c2, \u001b[39mb\u001b[39;49m\u001b[39m'\u001b[39;49m\u001b[39m'\u001b[39;49m, \u001b[39m1\u001b[39;49m)\n\u001b[0;32m      8\u001b[0m     result \u001b[39m=\u001b[39m xor_bytes(IS, c1) \u001b[39m+\u001b[39m result\n\u001b[0;32m     10\u001b[0m result \u001b[39m=\u001b[39m xor_bytes(r(\u001b[39mb\u001b[39m\u001b[39m'\u001b[39m\u001b[39m'\u001b[39m, IV, c1, \u001b[39mb\u001b[39m\u001b[39m'\u001b[39m\u001b[39m'\u001b[39m, \u001b[39m1\u001b[39m), IV) \u001b[39m+\u001b[39m result\n",
            "Cell \u001b[1;32mIn[38], line 8\u001b[0m, in \u001b[0;36mr\u001b[1;34m(c0, c1, c2, intermiedate_state, i)\u001b[0m\n\u001b[0;32m      6\u001b[0m modified_encrypted_bytes \u001b[39m=\u001b[39m c0 \u001b[39m+\u001b[39m c1[:\u001b[39m-\u001b[39mi] \u001b[39m+\u001b[39m j\u001b[39m.\u001b[39mto_bytes(\u001b[39m1\u001b[39m, \u001b[39m'\u001b[39m\u001b[39mbig\u001b[39m\u001b[39m'\u001b[39m) \u001b[39m+\u001b[39m suffix \u001b[39m+\u001b[39m c2\n\u001b[0;32m      7\u001b[0m \u001b[39m# print(len(modified_encrypted_bytes))\u001b[39;00m\n\u001b[1;32m----> 8\u001b[0m \u001b[39mif\u001b[39;00m check_padding_is_valid(modified_encrypted_bytes):\n\u001b[0;32m      9\u001b[0m     new_intermiedate_state \u001b[39m=\u001b[39m (j \u001b[39m^\u001b[39m i)\u001b[39m.\u001b[39mto_bytes(\u001b[39m1\u001b[39m, \u001b[39m'\u001b[39m\u001b[39mbig\u001b[39m\u001b[39m'\u001b[39m) \u001b[39m+\u001b[39m intermiedate_state\n\u001b[0;32m     10\u001b[0m     \u001b[39mnext\u001b[39m \u001b[39m=\u001b[39m r(c0, c1, c2, new_intermiedate_state, i \u001b[39m+\u001b[39m \u001b[39m1\u001b[39m)\n",
            "Cell \u001b[1;32mIn[36], line 10\u001b[0m, in \u001b[0;36mcheck_padding_is_valid\u001b[1;34m(encrypted_bytes)\u001b[0m\n\u001b[0;32m      9\u001b[0m \u001b[39mdef\u001b[39;00m \u001b[39mcheck_padding_is_valid\u001b[39m(encrypted_bytes: \u001b[39mbytes\u001b[39m) \u001b[39m-\u001b[39m\u001b[39m>\u001b[39m \u001b[39mbool\u001b[39m:\n\u001b[1;32m---> 10\u001b[0m     decrypted_bytes \u001b[39m=\u001b[39m decrypt_CBC(encrypted_bytes, key, block_size, IV, \u001b[39mFalse\u001b[39;49;00m)\n\u001b[0;32m     11\u001b[0m     target_bytes \u001b[39m=\u001b[39m decrypted_bytes[\u001b[39m-\u001b[39m\u001b[39m1\u001b[39m]\n\u001b[0;32m     12\u001b[0m     \u001b[39m#print(f'decrypted_bytes {decrypted_bytes}')\u001b[39;00m\n\u001b[0;32m     13\u001b[0m     \u001b[39m#print(f'target_bytes {target_bytes}')\u001b[39;00m\n",
            "File \u001b[1;32mc:\\Users\\ballban\\Documents\\SourceCode\\cryptopals\\utility.py:93\u001b[0m, in \u001b[0;36mdecrypt_CBC\u001b[1;34m(text_bytes, key, block_size, initialization_vector, is_unpadding)\u001b[0m\n\u001b[0;32m     91\u001b[0m   pre_block \u001b[39m=\u001b[39m block\n\u001b[0;32m     92\u001b[0m   result \u001b[39m+\u001b[39m\u001b[39m=\u001b[39m plain_text\n\u001b[1;32m---> 93\u001b[0m \u001b[39mreturn\u001b[39;00m \u001b[39mbytes\u001b[39m(result) \u001b[39mif\u001b[39;00m is_unpadding \u001b[39melse\u001b[39;00m unpadding_PKCS7(\u001b[39mbytes\u001b[39;49m(result), block_size)\n",
            "File \u001b[1;32mc:\\Users\\ballban\\Documents\\SourceCode\\cryptopals\\utility.py:63\u001b[0m, in \u001b[0;36munpadding_PKCS7\u001b[1;34m(input_bytes, block_size)\u001b[0m\n\u001b[0;32m     56\u001b[0m \u001b[39mdef\u001b[39;00m \u001b[39munpadding_PKCS7\u001b[39m(input_bytes: \u001b[39mbytes\u001b[39m, block_size: \u001b[39mint\u001b[39m) \u001b[39m-\u001b[39m\u001b[39m>\u001b[39m \u001b[39mbytes\u001b[39m:\n\u001b[0;32m     57\u001b[0m   \u001b[39m# target_byte = input_bytes[-1]\u001b[39;00m\n\u001b[0;32m     58\u001b[0m   \u001b[39m# print(f'input_bytes {input_bytes}')\u001b[39;00m\n\u001b[1;32m   (...)\u001b[0m\n\u001b[0;32m     61\u001b[0m   \u001b[39m# else:\u001b[39;00m\n\u001b[0;32m     62\u001b[0m   \u001b[39m#   return input_bytes\u001b[39;00m\n\u001b[1;32m---> 63\u001b[0m   \u001b[39mreturn\u001b[39;00m unpad(input_bytes, block_size)\n",
            "File \u001b[1;32m~\\AppData\\Roaming\\Python\\Python39\\site-packages\\Crypto\\Util\\Padding.py:92\u001b[0m, in \u001b[0;36munpad\u001b[1;34m(padded_data, block_size, style)\u001b[0m\n\u001b[0;32m     90\u001b[0m padding_len \u001b[39m=\u001b[39m bord(padded_data[\u001b[39m-\u001b[39m\u001b[39m1\u001b[39m])\n\u001b[0;32m     91\u001b[0m \u001b[39mif\u001b[39;00m padding_len\u001b[39m<\u001b[39m\u001b[39m1\u001b[39m \u001b[39mor\u001b[39;00m padding_len\u001b[39m>\u001b[39m\u001b[39mmin\u001b[39m(block_size, pdata_len):\n\u001b[1;32m---> 92\u001b[0m     \u001b[39mraise\u001b[39;00m \u001b[39mValueError\u001b[39;00m(\u001b[39m\"\u001b[39m\u001b[39mPadding is incorrect.\u001b[39m\u001b[39m\"\u001b[39m)\n\u001b[0;32m     93\u001b[0m \u001b[39mif\u001b[39;00m style \u001b[39m==\u001b[39m \u001b[39m'\u001b[39m\u001b[39mpkcs7\u001b[39m\u001b[39m'\u001b[39m:\n\u001b[0;32m     94\u001b[0m     \u001b[39mif\u001b[39;00m padded_data[\u001b[39m-\u001b[39mpadding_len:]\u001b[39m!=\u001b[39mbchr(padding_len)\u001b[39m*\u001b[39mpadding_len:\n",
            "\u001b[1;31mValueError\u001b[0m: Padding is incorrect."
          ]
        }
      ],
      "source": [
        "block_list = [encrypted_bytes[i:i + block_size] for i in range(0, len(encrypted_bytes), block_size)]\n",
        "result = b''\n",
        "for i in range(1, len(block_list)):\n",
        "    c0 = b''.join(block_list[:-i-1])\n",
        "    c1 = block_list[-i-1]\n",
        "    c2 = block_list[-i]\n",
        "    IS = r(c0, c1, c2, b'', 1)\n",
        "    result = xor_bytes(IS, c1) + result\n",
        "\n",
        "result = xor_bytes(r(b'', IV, c1, b'', 1), IV) + result\n",
        "print(unpadding_PKCS7(result))"
      ]
    },
    {
      "attachments": {},
      "cell_type": "markdown",
      "metadata": {},
      "source": [
        "Challenge 18"
      ]
    },
    {
      "cell_type": "code",
      "execution_count": 40,
      "metadata": {},
      "outputs": [
        {
          "name": "stdout",
          "output_type": "stream",
          "text": [
            "b\"Yo, VIP Let's kick it Ice, Ice, baby Ice, Ice, baby \"\n"
          ]
        }
      ],
      "source": [
        "cipher_text = base64.b64decode('L77na/nrFsKvynd6HzOoG7GHTLXsTVu9qvY/2syLXzhPweyyMTJULu/6/kXX0KSvoOLSFQ==')\n",
        "key = b'YELLOW SUBMARINE'\n",
        "nonce = 0\n",
        "print(exec_CTR(cipher_text, key, nonce))"
      ]
    },
    {
      "attachments": {},
      "cell_type": "markdown",
      "metadata": {},
      "source": [
        "Challenge 19\n",
        "Challenge 20"
      ]
    },
    {
      "cell_type": "code",
      "execution_count": 41,
      "metadata": {},
      "outputs": [],
      "source": [
        "b64_text_list = '''SSBoYXZlIG1ldCB0aGVtIGF0IGNsb3NlIG9mIGRheQ==\n",
        "Q29taW5nIHdpdGggdml2aWQgZmFjZXM=\n",
        "RnJvbSBjb3VudGVyIG9yIGRlc2sgYW1vbmcgZ3JleQ==\n",
        "RWlnaHRlZW50aC1jZW50dXJ5IGhvdXNlcy4=\n",
        "SSBoYXZlIHBhc3NlZCB3aXRoIGEgbm9kIG9mIHRoZSBoZWFk\n",
        "T3IgcG9saXRlIG1lYW5pbmdsZXNzIHdvcmRzLA==\n",
        "T3IgaGF2ZSBsaW5nZXJlZCBhd2hpbGUgYW5kIHNhaWQ=\n",
        "UG9saXRlIG1lYW5pbmdsZXNzIHdvcmRzLA==\n",
        "QW5kIHRob3VnaHQgYmVmb3JlIEkgaGFkIGRvbmU=\n",
        "T2YgYSBtb2NraW5nIHRhbGUgb3IgYSBnaWJl\n",
        "VG8gcGxlYXNlIGEgY29tcGFuaW9u\n",
        "QXJvdW5kIHRoZSBmaXJlIGF0IHRoZSBjbHViLA==\n",
        "QmVpbmcgY2VydGFpbiB0aGF0IHRoZXkgYW5kIEk=\n",
        "QnV0IGxpdmVkIHdoZXJlIG1vdGxleSBpcyB3b3JuOg==\n",
        "QWxsIGNoYW5nZWQsIGNoYW5nZWQgdXR0ZXJseTo=\n",
        "QSB0ZXJyaWJsZSBiZWF1dHkgaXMgYm9ybi4=\n",
        "VGhhdCB3b21hbidzIGRheXMgd2VyZSBzcGVudA==\n",
        "SW4gaWdub3JhbnQgZ29vZCB3aWxsLA==\n",
        "SGVyIG5pZ2h0cyBpbiBhcmd1bWVudA==\n",
        "VW50aWwgaGVyIHZvaWNlIGdyZXcgc2hyaWxsLg==\n",
        "V2hhdCB2b2ljZSBtb3JlIHN3ZWV0IHRoYW4gaGVycw==\n",
        "V2hlbiB5b3VuZyBhbmQgYmVhdXRpZnVsLA==\n",
        "U2hlIHJvZGUgdG8gaGFycmllcnM/\n",
        "VGhpcyBtYW4gaGFkIGtlcHQgYSBzY2hvb2w=\n",
        "QW5kIHJvZGUgb3VyIHdpbmdlZCBob3JzZS4=\n",
        "VGhpcyBvdGhlciBoaXMgaGVscGVyIGFuZCBmcmllbmQ=\n",
        "V2FzIGNvbWluZyBpbnRvIGhpcyBmb3JjZTs=\n",
        "SGUgbWlnaHQgaGF2ZSB3b24gZmFtZSBpbiB0aGUgZW5kLA==\n",
        "U28gc2Vuc2l0aXZlIGhpcyBuYXR1cmUgc2VlbWVkLA==\n",
        "U28gZGFyaW5nIGFuZCBzd2VldCBoaXMgdGhvdWdodC4=\n",
        "VGhpcyBvdGhlciBtYW4gSSBoYWQgZHJlYW1lZA==\n",
        "QSBkcnVua2VuLCB2YWluLWdsb3Jpb3VzIGxvdXQu\n",
        "SGUgaGFkIGRvbmUgbW9zdCBiaXR0ZXIgd3Jvbmc=\n",
        "VG8gc29tZSB3aG8gYXJlIG5lYXIgbXkgaGVhcnQs\n",
        "WWV0IEkgbnVtYmVyIGhpbSBpbiB0aGUgc29uZzs=\n",
        "SGUsIHRvbywgaGFzIHJlc2lnbmVkIGhpcyBwYXJ0\n",
        "SW4gdGhlIGNhc3VhbCBjb21lZHk7\n",
        "SGUsIHRvbywgaGFzIGJlZW4gY2hhbmdlZCBpbiBoaXMgdHVybiw=\n",
        "VHJhbnNmb3JtZWQgdXR0ZXJseTo=\n",
        "QSB0ZXJyaWJsZSBiZWF1dHkgaXMgYm9ybi4='''.split('\\n')\n",
        "''' get data '''\n",
        "bytes_list = []\n",
        "for text in b64_text_list:\n",
        "    bytes_list.append(base64.b64decode(text))\n",
        "\n",
        "''' create encrypted data list with ctr mode '''\n",
        "nonce = 0\n",
        "key = create_random_aes_key()\n",
        "encrypted_btyes_list = []\n",
        "for plain_bytes in bytes_list:\n",
        "    encrypted_btyes_list.append(exec_CTR(plain_bytes, key, nonce))"
      ]
    },
    {
      "cell_type": "code",
      "execution_count": 42,
      "metadata": {},
      "outputs": [],
      "source": [
        "# printable_text = '0123456789abcdefghijklmnopqrstuvwxyzABCDEFGHIJKLMNOPQRSTUVWXYZ-?!\"\\',. :;'\n",
        "# printable_text = \"fHtcuivObUICnWSgpYr ?T,eyah';-A:EdwmkosPBF.l\"\n",
        "printable_chars = bytes(string.printable, 'ascii')\n",
        "# printable_chars = bytes(printable_text, 'ascii')\n",
        "all_possible_bytes_for_keystream = defaultdict(list)\n",
        "\n",
        "''' loop each char from start '''\n",
        "for i in range(38):\n",
        "    ''' try all possible byte '''\n",
        "    for possible_byte in range(256):\n",
        "        unprintable_flag = False\n",
        "        for encrypted_btyes in encrypted_btyes_list:\n",
        "            if len(encrypted_btyes) <= i:\n",
        "                continue\n",
        "            if encrypted_btyes[i] ^ possible_byte not in printable_chars:\n",
        "                unprintable_flag = True\n",
        "                break\n",
        "        if unprintable_flag:\n",
        "            continue\n",
        "        all_possible_bytes_for_keystream[i].append(possible_byte.to_bytes(1, 'little'))"
      ]
    },
    {
      "cell_type": "code",
      "execution_count": 43,
      "metadata": {},
      "outputs": [
        {
          "name": "stdout",
          "output_type": "stream",
          "text": [
            "0 82 [b'\\x00', b'\\x01', b'\\x02', b'\\x03', b'\\x04', b'\\x05', b'\\x06', b'\\x07', b'\\x08', b'\\t', b'\\n', b'\\x0b', b'\\x0c', b'\\r', b'\\x0e', b'\\x0f', b'\\x10', b'\\x11', b'\\x12', b'\\x13', b'\\x14', b'\\x15', b'\\x16', b'\\x17', b'\\x18', b'\\x19', b'\\x1a', b'\\x1b', b'\\x1c', b'\\x1d', b'\\x1e', b'\\x1f', b'@', b'A', b'E', b'F', b'G', b'K', b'L', b'O', b'P', b'Q', b'S', b'T', b'U', b'V', b'W', b'Y', b'Z', b']', b'`', b'a', b'b', b'c', b'd', b'e', b'f', b'g', b'h', b'i', b'j', b'k', b'l', b'm', b'n', b'o', b'p', b'q', b'r', b's', b't', b'u', b'v', b'w', b'x', b'y', b'z', b'{', b'|', b'}', b'~', b'\\x7f']\n",
            "1 58 [b'\\xa0', b'\\xa1', b'\\xa2', b'\\xa3', b'\\xa4', b'\\xa5', b'\\xa6', b'\\xa7', b'\\xa8', b'\\xa9', b'\\xab', b'\\xac', b'\\xad', b'\\xae', b'\\xaf', b'\\xb0', b'\\xb1', b'\\xb2', b'\\xb3', b'\\xb4', b'\\xb5', b'\\xb6', b'\\xb7', b'\\xb8', b'\\xb9', b'\\xba', b'\\xbb', b'\\xbc', b'\\xbd', b'\\xbe', b'\\xbf', b'\\xd8', b'\\xd9', b'\\xdc', b'\\xde', b'\\xdf', b'\\xe0', b'\\xe1', b'\\xe7', b'\\xe8', b'\\xe9', b'\\xea', b'\\xed', b'\\xee', b'\\xf0', b'\\xf1', b'\\xf2', b'\\xf3', b'\\xf4', b'\\xf5', b'\\xf6', b'\\xf7', b'\\xf9', b'\\xfa', b'\\xfb', b'\\xfc', b'\\xfd', b'\\xfe']\n",
            "2 50 [b'\\x80', b'\\x81', b'\\x82', b'\\x83', b'\\x84', b'\\x85', b'\\x86', b'\\x87', b'\\x88', b'\\x89', b'\\x8a', b'\\x8b', b'\\x8c', b'\\x8d', b'\\x8e', b'\\x8f', b'\\x91', b'\\x92', b'\\x93', b'\\x94', b'\\x95', b'\\x96', b'\\x97', b'\\x98', b'\\x99', b'\\x9a', b'\\x9b', b'\\x9d', b'\\x9e', b'\\x9f', b'\\xc0', b'\\xc1', b'\\xc5', b'\\xc6', b'\\xc7', b'\\xc8', b'\\xc9', b'\\xca', b'\\xcb', b'\\xcc', b'\\xcd', b'\\xce', b'\\xcf', b'\\xd0', b'\\xd2', b'\\xd3', b'\\xd6', b'\\xda', b'\\xdb', b'\\xde']\n",
            "3 56 [b'\\x00', b'\\x01', b'\\x02', b'\\x03', b'\\x04', b'\\x05', b'\\x06', b'\\x07', b'\\n', b'\\x0b', b'\\r', b'\\x10', b'\\x13', b'\\x16', b'\\x17', b'\\x1a', b'\\x1b', b'\\x1c', b'\\x1e', b'\\x1f', b'(', b')', b'*', b'.', b'/', b'@', b'A', b'B', b'C', b'D', b'E', b'F', b'G', b'H', b'I', b'J', b'K', b'L', b'M', b'N', b'O', b'P', b'Q', b'R', b'S', b'T', b'U', b'V', b'W', b'X', b'Y', b'Z', b'[', b']', b'^', b'_']\n",
            "4 28 [b'\\x00', b'\\x02', b'\\x04', b'\\x06', b'\\x0b', b'\\x0c', b'\\r', b'\\x11', b'\\x16', b'\\x17', b'\\x18', b'\\x19', b'\\x1a', b'\\x1b', b'\\x1c', b'\\x1d', b'\\x1e', b'\\x1f', b'0', b'2', b'3', b'4', b'5', b'Y', b'Z', b'[', b'\\\\', b']']\n",
            "5 53 [b'\\x10', b'\\x11', b'\\x15', b'\\x16', b'\\x17', b'!', b'\"', b'#', b'(', b')', b'0', b'2', b'3', b'6', b'7', b'8', b'9', b';', b'<', b'=', b'>', b'?', b'`', b'a', b'b', b'd', b'e', b'f', b'g', b'h', b'i', b'j', b'k', b'l', b'm', b'n', b'o', b'p', b'q', b'r', b's', b't', b'u', b'v', b'w', b'x', b'y', b'z', b'{', b'|', b'}', b'~', b'\\x7f']\n",
            "6 54 [b'\\xa0', b'\\xa1', b'\\xa2', b'\\xa3', b'\\xa4', b'\\xa5', b'\\xa6', b'\\xa7', b'\\xa8', b'\\xa9', b'\\xaa', b'\\xab', b'\\xac', b'\\xad', b'\\xae', b'\\xaf', b'\\xb0', b'\\xb1', b'\\xb2', b'\\xb3', b'\\xb4', b'\\xb5', b'\\xb6', b'\\xb8', b'\\xb9', b'\\xba', b'\\xbb', b'\\xbc', b'\\xbd', b'\\xbe', b'\\xbf', b'\\xc1', b'\\xc2', b'\\xc3', b'\\xc4', b'\\xc5', b'\\xe0', b'\\xe2', b'\\xe5', b'\\xe6', b'\\xe7', b'\\xe8', b'\\xe9', b'\\xea', b'\\xeb', b'\\xec', b'\\xed', b'\\xee', b'\\xef', b'\\xf1', b'\\xf5', b'\\xf7', b'\\xfb', b'\\xfd']\n",
            "7 48 [b' ', b'!', b'\"', b'$', b'%', b'&', b\"'\", b'(', b')', b'*', b'+', b',', b'-', b'.', b'0', b'1', b'2', b'3', b'4', b'5', b'6', b'7', b'8', b'9', b':', b';', b'<', b'=', b'>', b'?', b'b', b'c', b'd', b'e', b'h', b'i', b'l', b'o', b'r', b'u', b'x', b'y', b'z', b'{', b'|', b'}', b'~', b'\\x7f']\n",
            "8 53 [b'\\x00', b'\\x01', b'\\x02', b'\\x03', b'\\x04', b'\\x05', b'\\x06', b'\\x07', b'\\x08', b'\\t', b'\\n', b'\\x0b', b'\\x0c', b'\\r', b'\\x0e', b'\\x0f', b'\\x10', b'\\x11', b'\\x12', b'\\x13', b'\\x14', b'\\x15', b'\\x16', b'\\x17', b'\\x18', b'\\x19', b'\\x1a', b'\\x1b', b'\\x1c', b'\\x1e', b'\\x1f', b'@', b'A', b'B', b'C', b'D', b'E', b'F', b'G', b'H', b'K', b'L', b'M', b'N', b'W', b'[', b']', b'_', b'h', b'i', b'k', b'n', b'o']\n",
            "9 51 [b'\\x01', b'\\x03', b'\\x04', b'\\x07', b'\\n', b'\\x0b', b'\\x0c', b'\\r', b'\\x10', b'\\x11', b'\\x12', b'\\x16', b'\\x17', b'\\x18', b'\\x19', b'\\x1a', b'\\x1b', b'\\x1c', b'\\x1d', b'\\x1e', b'\\x1f', b'@', b'A', b'B', b'C', b'D', b'E', b'F', b'H', b'I', b'J', b'L', b'M', b'N', b'O', b'P', b'Q', b'R', b'S', b'T', b'U', b'V', b'W', b'X', b'Y', b'Z', b'[', b'\\\\', b']', b'^', b'_']\n",
            "10 49 [b'\\x00', b'\\x01', b'\\x02', b'\\x03', b'\\x04', b'\\x05', b'\\x07', b'\\x08', b'\\t', b'\\n', b'\\r', b'\\x0e', b'\\x0f', b'\\x10', b'\\x11', b'\\x12', b'\\x13', b'\\x14', b'\\x15', b'\\x16', b'\\x17', b'\\x18', b'\\x19', b'\\x1a', b'\\x1b', b'\\x1c', b'\\x1d', b'\\x1e', b'\\x1f', b'@', b'A', b'B', b'G', b'H', b'I', b'K', b'L', b'M', b'P', b'Q', b'R', b'S', b'T', b'U', b'V', b'W', b'Y', b'Z', b'[']\n",
            "11 46 [b' ', b'*', b'+', b',', b'0', b'1', b'5', b'7', b'8', b'9', b':', b';', b'<', b'=', b'>', b'?', b'a', b'b', b'c', b'd', b'e', b'f', b'g', b'h', b'i', b'j', b'k', b'm', b'n', b'o', b'p', b'q', b'r', b's', b't', b'u', b'v', b'w', b'x', b'y', b'z', b'{', b'|', b'}', b'~', b'\\x7f']\n",
            "12 54 [b'\\x00', b'\\x01', b'\\x02', b'\\x03', b'\\x04', b'\\x06', b'\\x07', b'\\x08', b'\\t', b'\\n', b'\\x0b', b'\\x0c', b'\\r', b'\\x0e', b'\\x0f', b'\\x10', b'\\x11', b'\\x12', b'\\x13', b'\\x14', b'\\x15', b'\\x16', b'\\x17', b'\\x18', b'\\x19', b'\\x1a', b'\\x1b', b'\\x1c', b'\\x1d', b'\\x1e', b'\\x1f', b'C', b'E', b'N', b'O', b'Q', b'R', b'T', b'U', b'V', b'W', b'X', b'Y', b'Z', b'[', b'\\\\', b']', b'^', b'_', b'p', b'q', b's', b'v', b'w']\n",
            "13 53 [b' ', b'!', b'\"', b'#', b'$', b'%', b'&', b\"'\", b'(', b')', b'*', b'+', b',', b'-', b'.', b'/', b'0', b'1', b'2', b'4', b'5', b'6', b'7', b'8', b'9', b':', b';', b'<', b'=', b'>', b'?', b'@', b'A', b'E', b'F', b'G', b'b', b'c', b'e', b'f', b'h', b'i', b'j', b'k', b'l', b'm', b'n', b'o', b's', b'u', b'y', b'~', b'\\x7f']\n",
            "14 52 [b'\\x00', b'\\x01', b'\\x02', b'\\x03', b'\\x04', b'\\x05', b'\\x06', b'\\x07', b'\\x08', b'\\t', b'\\n', b'\\x0b', b'\\x0c', b'\\r', b'\\x0e', b'\\x0f', b'\\x10', b'\\x11', b'\\x12', b'\\x13', b'\\x14', b'\\x15', b'\\x16', b'\\x17', b'\\x18', b'\\x19', b'\\x1a', b'\\x1c', b'\\x1d', b'\\x1e', b'\\x1f', b'@', b'A', b'B', b'C', b'D', b'E', b'F', b'G', b'J', b'K', b'P', b'Q', b'Y', b'[', b'\\\\', b'_', b'h', b'i', b'm', b'n', b'o']\n",
            "15 20 [b')', b'*', b'+', b',', b'-', b'`', b'g', b'h', b'i', b'j', b'k', b'l', b'm', b'n', b'p', b'q', b'u', b'v', b'|', b'}']\n",
            "16 56 [b'\\x10', b'\\x11', b'\\x15', b'\\x16', b'\\x17', b' ', b'!', b'#', b'%', b'(', b')', b',', b'/', b'2', b'3', b'4', b'5', b'6', b'8', b'9', b';', b'<', b'=', b'>', b'?', b'`', b'a', b'b', b'd', b'e', b'f', b'g', b'h', b'i', b'j', b'k', b'l', b'm', b'n', b'o', b'p', b'q', b'r', b's', b't', b'u', b'v', b'w', b'x', b'y', b'z', b'{', b'|', b'}', b'~', b'\\x7f']\n",
            "17 53 [b'\\x18', b'\\x19', b'\\x1b', b'\\x1e', b'\\x1f', b' ', b'&', b\"'\", b')', b'+', b'-', b'.', b'0', b'1', b'2', b'3', b'5', b'6', b'7', b';', b'<', b'=', b'`', b'a', b'b', b'c', b'd', b'e', b'f', b'g', b'h', b'i', b'j', b'k', b'l', b'n', b'o', b'p', b'q', b'r', b's', b't', b'u', b'v', b'w', b'x', b'y', b'z', b'{', b'|', b'}', b'~', b'\\x7f']\n",
            "18 52 [b'\\x00', b'\\x02', b'\\x03', b'\\x04', b'\\x05', b' ', b\"'\", b'(', b')', b'*', b'+', b',', b'-', b'.', b'1', b'4', b'6', b':', b'<', b'=', b'>', b'`', b'a', b'b', b'c', b'd', b'e', b'f', b'g', b'h', b'i', b'j', b'k', b'l', b'm', b'n', b'o', b'p', b'q', b'r', b's', b't', b'u', b'w', b'x', b'y', b'z', b'{', b'|', b'}', b'~', b'\\x7f']\n",
            "19 23 [b'\\x1a', b'\\x1c', b'\\x1d', b'\\x1e', b'A', b'C', b'F', b'G', b'H', b'K', b'L', b'O', b'P', b'Q', b'T', b'W', b'Y', b'Z', b'[', b'\\\\', b']', b'^', b'_']\n",
            "20 46 [b' ', b'!', b'&', b\"'\", b'(', b')', b'*', b'+', b',', b'-', b'.', b'/', b'1', b'4', b'6', b'<', b'=', b'`', b'a', b'b', b'c', b'd', b'e', b'f', b'g', b'h', b'j', b'k', b'l', b'n', b'o', b'p', b'q', b'r', b's', b't', b'u', b'w', b'x', b'y', b'z', b'{', b'|', b'}', b'~', b'\\x7f']\n",
            "21 45 [b'\\xa0', b'\\xa1', b'\\xa2', b'\\xa4', b'\\xa5', b'\\xa6', b'\\xa7', b'\\xaa', b'\\xab', b'\\xac', b'\\xad', b'\\xb0', b'\\xb1', b'\\xba', b'\\xbd', b'\\xe0', b'\\xe1', b'\\xe2', b'\\xe3', b'\\xe4', b'\\xe5', b'\\xe6', b'\\xe7', b'\\xe8', b'\\xe9', b'\\xea', b'\\xeb', b'\\xec', b'\\xed', b'\\xee', b'\\xef', b'\\xf0', b'\\xf1', b'\\xf2', b'\\xf3', b'\\xf4', b'\\xf5', b'\\xf7', b'\\xf8', b'\\xf9', b'\\xfb', b'\\xfc', b'\\xfd', b'\\xfe', b'\\xff']\n",
            "22 55 [b'\\x80', b'\\x81', b'\\x82', b'\\x83', b'\\x84', b'\\x85', b'\\x86', b'\\x87', b'\\x88', b'\\x89', b'\\x8a', b'\\x8b', b'\\x8c', b'\\x8d', b'\\x8e', b'\\x8f', b'\\x90', b'\\x91', b'\\x92', b'\\x93', b'\\x95', b'\\x96', b'\\x97', b'\\x98', b'\\x99', b'\\x9a', b'\\x9b', b'\\x9c', b'\\x9d', b'\\x9e', b'\\x9f', b'\\xc2', b'\\xc4', b'\\xc5', b'\\xc8', b'\\xc9', b'\\xca', b'\\xcb', b'\\xcc', b'\\xce', b'\\xcf', b'\\xd2', b'\\xd4', b'\\xd6', b'\\xd7', b'\\xd8', b'\\xda', b'\\xdd', b'\\xde', b'\\xdf', b'\\xe0', b'\\xe1', b'\\xe2', b'\\xe6', b'\\xe7']\n",
            "23 56 [b'\\xa0', b'\\xa1', b'\\xa2', b'\\xa3', b'\\xa4', b'\\xa5', b'\\xa6', b'\\xa7', b'\\xa8', b'\\xa9', b'\\xaa', b'\\xab', b'\\xac', b'\\xad', b'\\xae', b'\\xaf', b'\\xb0', b'\\xb1', b'\\xb2', b'\\xb3', b'\\xb4', b'\\xb5', b'\\xb6', b'\\xb7', b'\\xb8', b'\\xb9', b'\\xba', b'\\xbc', b'\\xbd', b'\\xbe', b'\\xbf', b'\\xc8', b'\\xc9', b'\\xcd', b'\\xce', b'\\xcf', b'\\xe0', b'\\xe1', b'\\xe2', b'\\xe3', b'\\xe4', b'\\xe5', b'\\xe6', b'\\xe7', b'\\xea', b'\\xeb', b'\\xec', b'\\xed', b'\\xee', b'\\xf0', b'\\xf1', b'\\xf6', b'\\xf9', b'\\xfa', b'\\xfb', b'\\xfd']\n",
            "24 49 [b'\\xa0', b'\\xa1', b'\\xa2', b'\\xa4', b'\\xa5', b'\\xa8', b'\\xa9', b'\\xaf', b'\\xb3', b'\\xb4', b'\\xb7', b'\\xb8', b'\\xb9', b'\\xba', b'\\xbb', b'\\xbc', b'\\xbd', b'\\xbe', b'\\xbf', b'\\xe0', b'\\xe1', b'\\xe3', b'\\xe4', b'\\xe5', b'\\xe6', b'\\xe7', b'\\xe8', b'\\xe9', b'\\xea', b'\\xeb', b'\\xec', b'\\xed', b'\\xef', b'\\xf0', b'\\xf1', b'\\xf2', b'\\xf3', b'\\xf4', b'\\xf5', b'\\xf6', b'\\xf7', b'\\xf8', b'\\xf9', b'\\xfa', b'\\xfb', b'\\xfc', b'\\xfd', b'\\xfe', b'\\xff']\n",
            "25 50 [b'\\x80', b'\\x81', b'\\x82', b'\\x87', b'\\x88', b'\\x8a', b'\\x8b', b'\\x90', b'\\x91', b'\\x92', b'\\x95', b'\\x96', b'\\x97', b'\\x98', b'\\x99', b'\\x9a', b'\\x9b', b'\\x9c', b'\\x9d', b'\\x9e', b'\\x9f', b'\\xc0', b'\\xc2', b'\\xc3', b'\\xc4', b'\\xc5', b'\\xc6', b'\\xc7', b'\\xc8', b'\\xc9', b'\\xca', b'\\xcb', b'\\xcc', b'\\xcd', b'\\xce', b'\\xd0', b'\\xd1', b'\\xd2', b'\\xd3', b'\\xd4', b'\\xd5', b'\\xd6', b'\\xd7', b'\\xd8', b'\\xd9', b'\\xdb', b'\\xdc', b'\\xdd', b'\\xde', b'\\xdf']\n",
            "26 55 [b'\\x19', b'\\x1a', b'\\x1b', b'\\x1c', b'\\x1d', b'\"', b'$', b'%', b\"'\", b'(', b',', b'/', b'0', b'1', b'2', b'3', b'4', b'5', b'6', b'7', b'9', b':', b'=', b'>', b'`', b'a', b'b', b'c', b'd', b'e', b'f', b'g', b'h', b'i', b'j', b'k', b'l', b'm', b'n', b'p', b'q', b'r', b's', b't', b'u', b'v', b'w', b'x', b'y', b'z', b'{', b'|', b'}', b'~', b'\\x7f']\n",
            "27 50 [b'\\x80', b'\\x81', b'\\x82', b'\\x84', b'\\x85', b'\\x86', b'\\x87', b'\\x88', b'\\x89', b'\\x8a', b'\\x8b', b'\\x8c', b'\\x8e', b'\\x90', b'\\x91', b'\\x92', b'\\x93', b'\\x94', b'\\x95', b'\\x96', b'\\x97', b'\\x98', b'\\x99', b'\\x9a', b'\\x9b', b'\\x9c', b'\\x9d', b'\\x9e', b'\\x9f', b'\\xc0', b'\\xc1', b'\\xc3', b'\\xc5', b'\\xc6', b'\\xc8', b'\\xc9', b'\\xca', b'\\xcf', b'\\xd0', b'\\xd2', b'\\xd3', b'\\xd4', b'\\xd5', b'\\xd8', b'\\xd9', b'\\xdb', b'\\xdc', b'\\xdd', b'\\xde', b'\\xdf']\n",
            "28 28 [b'\\xb8', b'\\xba', b'\\xbb', b'\\xe1', b'\\xe4', b'\\xe5', b'\\xe6', b'\\xe7', b'\\xe8', b'\\xe9', b'\\xea', b'\\xeb', b'\\xec', b'\\xed', b'\\xef', b'\\xf0', b'\\xf1', b'\\xf2', b'\\xf6', b'\\xf7', b'\\xf8', b'\\xf9', b'\\xfa', b'\\xfb', b'\\xfc', b'\\xfd', b'\\xfe', b'\\xff']\n",
            "29 54 [b' ', b'!', b'\"', b'#', b'$', b'%', b'&', b\"'\", b'(', b')', b'+', b'-', b'.', b'/', b'1', b'2', b'3', b'4', b'5', b'7', b'8', b':', b';', b'>', b'?', b'`', b'a', b'b', b'c', b'd', b'e', b'f', b'g', b'h', b'i', b'j', b'k', b'l', b'm', b'n', b'o', b'p', b'q', b'r', b's', b'u', b'w', b'y', b'z', b'{', b'|', b'}', b'~', b'\\x7f']\n",
            "30 56 [b'\\xa0', b'\\xa1', b'\\xa2', b'\\xa3', b'\\xa4', b'\\xa5', b'\\xa6', b'\\xa7', b'\\xa8', b'\\xa9', b'\\xaa', b'\\xab', b'\\xad', b'\\xae', b'\\xaf', b'\\xb0', b'\\xb1', b'\\xb2', b'\\xb3', b'\\xb4', b'\\xb5', b'\\xb6', b'\\xb7', b'\\xb8', b'\\xb9', b'\\xbb', b'\\xbc', b'\\xbd', b'\\xbe', b'\\xbf', b'\\xe0', b'\\xe1', b'\\xe3', b'\\xe4', b'\\xe6', b'\\xe7', b'\\xe8', b'\\xe9', b'\\xea', b'\\xeb', b'\\xec', b'\\xed', b'\\xee', b'\\xf0', b'\\xf1', b'\\xf2', b'\\xf4', b'\\xf5', b'\\xf6', b'\\xf7', b'\\xf9', b'\\xfa', b'\\xfb', b'\\xfc', b'\\xfd', b'\\xfe']\n",
            "31 59 [b'\\x00', b'\\x01', b'\\x02', b'\\x03', b'\\x04', b'\\x05', b'\\x06', b'\\x08', b'\\t', b'\\n', b'\\x0b', b'\\x0c', b'\\r', b'\\x0e', b'\\x0f', b'\\x11', b'\\x12', b'\\x13', b'\\x14', b'\\x15', b'\\x16', b'\\x17', b'\\x18', b'\\x19', b'\\x1b', b'\\x1c', b'\\x1d', b'\\x1e', b'\\x1f', b'@', b'A', b'B', b'C', b'D', b'E', b'F', b'G', b'H', b'I', b'J', b'K', b'L', b'M', b'N', b'O', b'P', b'Q', b'R', b'S', b'U', b'V', b'W', b'X', b'Y', b'[', b'\\\\', b']', b'^', b'_']\n",
            "32 66 [b'\\x80', b'\\x81', b'\\x82', b'\\x83', b'\\x84', b'\\x85', b'\\x86', b'\\x87', b'\\x88', b'\\x89', b'\\x8a', b'\\x8b', b'\\x8c', b'\\x8d', b'\\x8e', b'\\x8f', b'\\x90', b'\\x91', b'\\x92', b'\\x93', b'\\x94', b'\\x95', b'\\x96', b'\\x98', b'\\x99', b'\\x9a', b'\\x9c', b'\\x9d', b'\\x9e', b'\\x9f', b'\\xa9', b'\\xaa', b'\\xab', b'\\xac', b'\\xad', b'\\xc0', b'\\xc1', b'\\xc2', b'\\xc3', b'\\xc4', b'\\xc5', b'\\xc6', b'\\xc7', b'\\xc8', b'\\xc9', b'\\xca', b'\\xcb', b'\\xcc', b'\\xcd', b'\\xce', b'\\xcf', b'\\xd0', b'\\xd1', b'\\xd2', b'\\xd3', b'\\xd4', b'\\xd5', b'\\xd6', b'\\xd7', b'\\xd8', b'\\xd9', b'\\xda', b'\\xdb', b'\\xdc', b'\\xdd', b'\\xde']\n",
            "33 66 [b'\\x88', b'\\x89', b'\\x8d', b'\\x8e', b'\\x8f', b'\\xa0', b'\\xa1', b'\\xa2', b'\\xa4', b'\\xa5', b'\\xa6', b'\\xa7', b'\\xa8', b'\\xa9', b'\\xaa', b'\\xab', b'\\xac', b'\\xad', b'\\xae', b'\\xaf', b'\\xb0', b'\\xb1', b'\\xb3', b'\\xb4', b'\\xb5', b'\\xb6', b'\\xb7', b'\\xb8', b'\\xb9', b'\\xba', b'\\xbb', b'\\xbc', b'\\xbd', b'\\xbe', b'\\xbf', b'\\xe0', b'\\xe1', b'\\xe2', b'\\xe3', b'\\xe4', b'\\xe5', b'\\xe6', b'\\xe7', b'\\xe8', b'\\xe9', b'\\xea', b'\\xeb', b'\\xec', b'\\xed', b'\\xee', b'\\xef', b'\\xf0', b'\\xf1', b'\\xf2', b'\\xf3', b'\\xf4', b'\\xf5', b'\\xf6', b'\\xf7', b'\\xf8', b'\\xf9', b'\\xfa', b'\\xfc', b'\\xfd', b'\\xfe', b'\\xff']\n",
            "34 94 [b' ', b'!', b'\"', b'#', b'$', b'%', b'&', b\"'\", b'(', b')', b'*', b'+', b',', b'-', b'.', b'/', b'0', b'1', b'2', b'3', b'4', b'5', b'6', b'7', b'8', b'9', b':', b';', b'<', b'=', b'>', b'?', b'@', b'A', b'B', b'C', b'D', b'E', b'F', b'G', b'H', b'I', b'J', b'K', b'L', b'M', b'N', b'O', b'P', b'Q', b'R', b'S', b'T', b'U', b'V', b'W', b'X', b'Y', b'Z', b'[', b'\\\\', b']', b'^', b'_', b'`', b'a', b'b', b'c', b'd', b'e', b'f', b'g', b'h', b'i', b'k', b'l', b'm', b'n', b'o', b'p', b'q', b'r', b's', b't', b'u', b'v', b'w', b'x', b'y', b'z', b'{', b'|', b'}', b'\\x7f']\n",
            "35 94 [b'\\x80', b'\\x81', b'\\x82', b'\\x83', b'\\x84', b'\\x85', b'\\x86', b'\\x87', b'\\x88', b'\\x89', b'\\x8a', b'\\x8b', b'\\x8c', b'\\x8d', b'\\x8e', b'\\x8f', b'\\x90', b'\\x91', b'\\x92', b'\\x93', b'\\x94', b'\\x95', b'\\x96', b'\\x97', b'\\x98', b'\\x99', b'\\x9a', b'\\x9b', b'\\x9c', b'\\x9d', b'\\x9e', b'\\x9f', b'\\xc0', b'\\xc1', b'\\xc2', b'\\xc3', b'\\xc4', b'\\xc6', b'\\xc7', b'\\xc8', b'\\xc9', b'\\xca', b'\\xcb', b'\\xcc', b'\\xcd', b'\\xce', b'\\xcf', b'\\xd0', b'\\xd1', b'\\xd2', b'\\xd4', b'\\xd5', b'\\xd6', b'\\xd7', b'\\xd8', b'\\xd9', b'\\xda', b'\\xdb', b'\\xdc', b'\\xdd', b'\\xde', b'\\xdf', b'\\xe0', b'\\xe1', b'\\xe2', b'\\xe3', b'\\xe4', b'\\xe5', b'\\xe6', b'\\xe7', b'\\xe8', b'\\xe9', b'\\xea', b'\\xeb', b'\\xec', b'\\xed', b'\\xee', b'\\xef', b'\\xf0', b'\\xf1', b'\\xf2', b'\\xf3', b'\\xf4', b'\\xf5', b'\\xf6', b'\\xf7', b'\\xf8', b'\\xf9', b'\\xfa', b'\\xfb', b'\\xfc', b'\\xfd', b'\\xfe', b'\\xff']\n",
            "36 100 [b'\\x00', b'\\x01', b'\\x02', b'\\x03', b'\\x04', b'\\x05', b'\\x06', b'\\x07', b'\\x08', b'\\t', b'\\n', b'\\x0b', b'\\x0c', b'\\r', b'\\x0e', b'\\x0f', b'\\x10', b'\\x11', b'\\x12', b'\\x13', b'\\x14', b'\\x15', b'\\x16', b'\\x17', b'\\x18', b'\\x19', b'\\x1a', b'\\x1b', b'\\x1c', b'\\x1d', b'\\x1e', b'\\x1f', b'2', b'3', b'4', b'5', b'7', b'@', b'B', b'C', b'D', b'E', b'F', b'G', b'H', b'I', b'J', b'K', b'L', b'M', b'N', b'O', b'P', b'Q', b'R', b'S', b'T', b'U', b'V', b'W', b'X', b'Y', b'Z', b'[', b'\\\\', b']', b'^', b'_', b'`', b'a', b'b', b'c', b'd', b'e', b'f', b'g', b'h', b'i', b'j', b'k', b'l', b'm', b'n', b'o', b'p', b'q', b'r', b's', b't', b'u', b'v', b'w', b'x', b'y', b'z', b'{', b'|', b'}', b'~', b'\\x7f']\n",
            "37 100 [b'\\x00', b'\\x01', b'\\x02', b'\\x03', b'\\x04', b'\\x05', b'\\x06', b'\\x07', b'\\x08', b'\\t', b'\\n', b'\\x0b', b'\\x0c', b'\\r', b'\\x0e', b'\\x0f', b'\\x10', b'\\x11', b'\\x12', b'\\x13', b'\\x14', b'\\x15', b'\\x16', b'\\x17', b'\\x18', b'\\x19', b'\\x1a', b'\\x1b', b'\\x1c', b'\\x1d', b'\\x1e', b'\\x1f', b'2', b'3', b'4', b'5', b'6', b'A', b'B', b'C', b'D', b'E', b'F', b'G', b'H', b'I', b'J', b'K', b'L', b'M', b'N', b'O', b'P', b'Q', b'R', b'S', b'T', b'U', b'V', b'W', b'X', b'Y', b'Z', b'[', b'\\\\', b']', b'^', b'_', b'`', b'a', b'b', b'c', b'd', b'e', b'f', b'g', b'h', b'i', b'j', b'k', b'l', b'm', b'n', b'o', b'p', b'q', b'r', b's', b't', b'u', b'v', b'w', b'x', b'y', b'z', b'{', b'|', b'}', b'~', b'\\x7f']\n",
            "272346642767837005744053519896957242879688915602636800000000000000\n"
          ]
        }
      ],
      "source": [
        "count = 1\n",
        "for key, val in all_possible_bytes_for_keystream.items():\n",
        "    print(key, len(val), val)\n",
        "    count *= len(val)\n",
        "print(count)"
      ]
    },
    {
      "cell_type": "code",
      "execution_count": 44,
      "metadata": {},
      "outputs": [],
      "source": [
        "import challenge3 as c3\n",
        "score_for_each_possible_bytes = []\n",
        "\n",
        "for i, val in all_possible_bytes_for_keystream.items():\n",
        "    score_list = []\n",
        "    for possible_byte in val:\n",
        "        score_input_text = ''\n",
        "        for encrypted_btyes in encrypted_btyes_list:\n",
        "            if len(encrypted_btyes) <= i:\n",
        "                continue\n",
        "            score_input_text += chr(encrypted_btyes[i] ^ possible_byte[0])\n",
        "        score = c3.get_score(score_input_text)\n",
        "        score_list.append((possible_byte, score))\n",
        "    score_list.sort(key=lambda x: x[1], reverse=True)\n",
        "    score_for_each_possible_bytes.append((i, score_list))"
      ]
    },
    {
      "cell_type": "code",
      "execution_count": 45,
      "metadata": {},
      "outputs": [
        {
          "name": "stdout",
          "output_type": "stream",
          "text": [
            "(0, [(b'T', 226.11), (b't', 226.11), (b'S', 199.75), (b's', 199.75), (b'r', 195.56), (b'P', 188.0), (b'p', 188.0), (b'O', 171.02), (b'o', 171.02), (b'n', 164.21), (b'E', 164.19), (b'e', 164.19), (b'Y', 159.54), (b'y', 159.54), (b'i', 151.7), (b'A', 149.75), (b'a', 149.75), (b'U', 145.27), (b'u', 145.27), (b'h', 138.51), (b'F', 133.6), (b'f', 133.6), (b'x', 131.87), (b'b', 127.79), (b'\\x00', 126), (b'\\x15', 126), (b'Z', 121.16), (b'z', 121.16), (b'W', 113.64), (b'w', 113.64), (b'L', 111.24), (b'l', 111.24), (b'~', 107.23), (b'Q', 106.53), (b'q', 106.53), (b'|', 105.84), (b'd', 98.9), (b'G', 96.33), (b'g', 96.33), (b'\\x1c', 90), (b']', 89.74), (b'}', 89.74), (b'V', 87.99), (b'v', 87.99), (b'{', 87.54), (b'c', 83.04), (b'\\x7f', 78.71), (b'm', 73.66), (b'@', 72.42), (b'`', 72.42), (b'\\x1d', 72), (b'K', 64.39), (b'k', 64.39), (b'j', 54.37), (b'\\x03', 54), (b'\\x07', 54), (b'\\x1b', 54), (b'\\x16', 36), (b'\\x01', 18), (b'\\x04', 18), (b'\\r', 18), (b'\\x11', 18), (b'\\x12', 18), (b'\\x17', 18), (b'\\x02', 0), (b'\\x05', 0), (b'\\x06', 0), (b'\\x08', 0), (b'\\t', 0), (b'\\n', 0), (b'\\x0b', 0), (b'\\x0c', 0), (b'\\x0e', 0), (b'\\x0f', 0), (b'\\x10', 0), (b'\\x13', 0), (b'\\x14', 0), (b'\\x18', 0), (b'\\x19', 0), (b'\\x1a', 0), (b'\\x1e', 0), (b'\\x1f', 0)])\n",
            "(1, [(b'\\xf5', 330.2), (b'\\xf4', 196.27), (b'\\xf3', 188.89), (b'\\xb0', 181.8), (b'\\xe9', 181.31), (b'\\xde', 171.06), (b'\\xfe', 171.06), (b'\\xf2', 164.1), (b'\\xdf', 162.86), (b'\\xee', 153.52), (b'\\xd8', 153.0), (b'\\xe8', 147.57), (b'\\xba', 143.8), (b'\\xdc', 142.46), (b'\\xfc', 142.46), (b'\\xbd', 141.0), (b'\\xd9', 130.18), (b'\\xf9', 130.18), (b'\\xf1', 130.02), (b'\\xa7', 127.9), (b'\\xbb', 123.25), (b'\\xf7', 97.01), (b'\\xf6', 90.96), (b'\\xfb', 86.07), (b'\\xfa', 82.0), (b'\\xfd', 72.36), (b'\\xb4', 60.5), (b'\\xf0', 58.34), (b'\\xbc', 55.7), (b'\\xea', 54.72), (b'\\xe0', 50.63), (b'\\xed', 47.92), (b'\\xb9', 45.45), (b'\\xa0', 36.15), (b'\\xa1', 34.75), (b'\\xe1', 31.8), (b'\\xa6', 28.7), (b'\\xb3', 27.05), (b'\\xe7', 26.08), (b'\\xb6', 22.7), (b'\\xb1', 16.9), (b'\\xa5', 15.85), (b'\\xb8', 15.05), (b'\\xb2', 12.35), (b'\\xb7', 10.35), (b'\\xac', 8.9), (b'\\xa2', 6.45), (b'\\xbe', 5.5), (b'\\xa3', 5.05), (b'\\xad', 1.45), (b'\\xaf', 1.35), (b'\\xa4', 1.0), (b'\\xbf', 1.0), (b'\\xa8', 0), (b'\\xa9', 0), (b'\\xab', 0), (b'\\xae', 0), (b'\\xb5', 0)])\n",
            "(2, [(b'\\xcf', 370.97), (b'\\x86', 177.26), (b'\\x8a', 173.84), (b'\\x9b', 167.03), (b'\\x8e', 153.52), (b'\\xc9', 138.2), (b'\\xce', 125.41), (b'\\x80', 123.84), (b'\\xcb', 111.93), (b'\\xc8', 111.79), (b'\\xd2', 111.49), (b'\\xc7', 109.4), (b'\\xde', 102.44), (b'\\x9d', 101.38), (b'\\x8b', 97.18), (b'\\x83', 96.39), (b'\\xc5', 93.36), (b'\\xca', 87.47), (b'\\xda', 86.54), (b'\\xc6', 82.25), (b'\\xd3', 79.68), (b'\\x81', 77.29), (b'\\x87', 75.76), (b'\\xcd', 74.85), (b'\\xc1', 72.35), (b'\\x82', 68.11), (b'\\xcc', 65.39), (b'\\x8c', 64.26), (b'\\xc0', 49.98), (b'\\x88', 47.37), (b'\\xd0', 46.85), (b'\\xd6', 46.53), (b'\\x9a', 43.49), (b'\\x8d', 36.07), (b'\\x9f', 34.87), (b'\\xdb', 33.18), (b'\\x96', 26.84), (b'\\x89', 20.31), (b'\\x97', 17.09), (b'\\x84', 17.04), (b'\\x91', 15.16), (b'\\x98', 14.19), (b'\\x99', 11.65), (b'\\x8f', 10.98), (b'\\x93', 6.34), (b'\\x85', 5.82), (b'\\x95', 4.99), (b'\\x94', 2.58), (b'\\x9e', 2.2), (b'\\x92', 0.4)])\n",
            "(3, [(b'\\x03', 363.43), (b'\\x04', 150.97), (b'F', 147.6), (b'J', 147.4), (b'P', 147.4), (b'\\x02', 146.88), (b'B', 139.0), (b'\\x1e', 136.66), (b'\\x05', 133.95), (b'\\x1f', 132.33), (b'\\x07', 125.74), (b'W', 123.5), (b'M', 120.5), (b'/', 107.75), (b'\\x0b', 96.73), (b'.', 96.26), (b'Q', 93.8), (b'\\x16', 87.31), (b'K', 84.0), (b'(', 83.29), (b'\\x01', 79.81), (b'\\x06', 76.3), (b')', 73.45), (b'\\x1c', 72.49), (b'L', 71.6), (b'\\x00', 71.14), (b'\\x13', 68.87), (b'S', 67.7), (b'\\n', 67.57), (b'*', 67.57), (b'N', 66.1), (b'\\x1a', 63.62), (b'\\x1b', 57.12), (b'O', 54.9), (b'V', 54.3), (b'\\x10', 53.93), (b'G', 51.8), (b'\\r', 49.08), (b'\\x17', 48.25), (b'@', 45.4), (b'D', 24.7), (b'A', 20.7), (b'E', 18.1), (b'Z', 17.8), (b'T', 12.9), (b'H', 11.0), (b'U', 10.1), (b'[', 2.9), (b'Y', 2.7), (b'I', 2.0), (b'R', 2.0), (b'C', 0), (b'X', 0), (b']', 0), (b'^', 0), (b'_', 0)])\n",
            "(4, [(b'\\x19', 339.96), (b'\\x1f', 178.33), (b'\\x1b', 133.37), (b'\\x02', 132.58), (b'\\x04', 129.53), (b'\\x18', 126.71), (b'\\x1e', 124.79), (b'\\x1d', 115.85), (b'\\x0c', 110.35), (b'\\\\', 107.28), (b'4', 103.54), (b'2', 87.97), (b'\\x16', 86.17), (b'3', 83.54), (b'0', 81.47), (b'\\x11', 80.74), (b'\\x1c', 80.03), (b'5', 77.85), (b'\\x1a', 76.46), (b'\\x17', 75.57), (b'Z', 72.32), (b'\\x06', 66.63), (b'\\x00', 64.19), (b'\\x0b', 53.22), (b'\\r', 49.18), (b']', 27.04), (b'[', 16.56), (b'Y', 0)])\n",
            "(5, [(b'<', 272.51), (b'\\x16', 192.62), (b'6', 192.62), (b'=', 180.45), (b'\\x17', 162.39), (b'7', 162.39), (b'\\x10', 157.54), (b'0', 157.54), (b'>', 147.95), (b's', 147.48), (b'y', 141.48), (b'8', 139.47), (b'!', 134.25), (b'?', 125.97), (b'\\x15', 121.17), (b';', 120.78), (b'2', 115.49), (b'\\x11', 114.14), (b'#', 88.77), (b'9', 88.66), (b'\"', 77.18), (b'n', 76.74), (b'r', 73.95), (b'3', 72.1), (b')', 69.92), (b'q', 63.03), (b'u', 58.62), (b'(', 51.45), (b'x', 46.14), (b't', 45.0), (b'{', 43.41), (b'j', 39.03), (b'p', 34.47), (b'\\x7f', 31.62), (b'}', 25.5), (b'z', 23.43), (b'e', 23.34), (b'k', 21.87), (b'h', 20.85), (b'o', 17.22), (b'i', 10.89), (b'l', 9.51), (b'~', 6.21), (b'w', 3.3), (b'd', 0.87), (b'f', 0.81), (b'm', 0.6), (b'v', 0.6), (b'`', 0), (b'a', 0), (b'b', 0), (b'g', 0), (b'|', 0)])\n",
            "(6, [(b'\\xe8', 337.92), (b'\\xa7', 230.12), (b'\\xc2', 198.66), (b'\\xe2', 198.66), (b'\\xee', 191.24), (b'\\xe9', 158.9), (b'\\xc4', 156.6), (b'\\xe6', 150.76), (b'\\xf5', 148.31), (b'\\xad', 132.12), (b'\\xec', 130.12), (b'\\xe0', 127.1), (b'\\xef', 126.88), (b'\\xa1', 124.78), (b'\\xc5', 113.85), (b'\\xe5', 113.85), (b'\\xa9', 113.5), (b'\\xea', 108.57), (b'\\xc3', 107.78), (b'\\xeb', 99.9), (b'\\xbc', 84.65), (b'\\xc1', 81.63), (b'\\xed', 78.9), (b'\\xf7', 69.38), (b'\\xfd', 65.69), (b'\\xa6', 64.55), (b'\\xac', 59.66), (b'\\xe7', 59.15), (b'\\xbb', 58.18), (b'\\xa0', 57.0), (b'\\xfb', 55.94), (b'\\xf1', 53.52), (b'\\xba', 53.06), (b'\\xab', 49.78), (b'\\xa5', 39.07), (b'\\xa4', 38.43), (b'\\xaf', 35.29), (b'\\xa3', 25.7), (b'\\xbd', 25.41), (b'\\xbe', 25.07), (b'\\xb8', 22.19), (b'\\xaa', 14.49), (b'\\xae', 12.67), (b'\\xb1', 12.46), (b'\\xbf', 9.03), (b'\\xb0', 2.03), (b'\\xb2', 1.89), (b'\\xa2', 1.4), (b'\\xb9', 1.4), (b'\\xa8', 0), (b'\\xb3', 0), (b'\\xb4', 0), (b'\\xb5', 0), (b'\\xb6', 0)])\n",
            "(7, [(b'|', 247.54), (b'{', 184.44), (b'}', 180.35), (b'z', 179.56), (b'9', 145.4), (b'x', 134.79), (b'l', 127.51), (b'~', 106.91), (b'5', 91.4), (b'\\x7f', 90.39), (b'2', 89.44), (b'u', 86.12), (b'e', 84.24), (b'y', 84.04), (b')', 82.82), (b'1', 77.02), (b'b', 70.25), (b'i', 70.17), (b'(', 68.48), (b'4', 66.76), (b'd', 65.75), (b'h', 63.4), (b'?', 59.4), (b'c', 57.83), (b'o', 54.47), (b'>', 53.44), (b'r', 52.85), (b'.', 51.16), (b'8', 30.76), (b',', 24.34), (b'3', 23.4), (b'=', 23.02), (b'+', 20.58), (b'\"', 15.16), (b'$', 14.48), (b'0', 10.98), (b'<', 10.98), (b'%', 10.82), (b'7', 7.14), (b';', 7.14), (b' ', 6.34), (b'6', 4.02), (b':', 4.02), (b\"'\", 2.58), (b'&', 2.56), (b'*', 2.56), (b'!', 0.4), (b'-', 0.4)])\n",
            "(8, [(b'B', 329.48), (b'\\x07', 174.96), (b'F', 170.64), (b'@', 157.85), (b'D', 151.85), (b'i', 136.55), (b'K', 130.6), (b'k', 130.6), (b'C', 128.36), (b'\\x03', 123.0), (b'o', 122.44), (b'H', 121.32), (b'h', 121.32), (b'N', 118.44), (b'n', 118.44), (b'\\x0c', 111.9), (b'E', 111.39), (b'W', 109.47), (b'M', 103.1), (b'L', 102.89), (b'A', 99.58), (b'\\x16', 95.7), (b'_', 90.54), (b'G', 89.17), (b'\\x0e', 86.94), (b'\\x10', 81.48), (b'\\x05', 68.82), (b'\\x0b', 63.24), (b'[', 61.22), (b'\\r', 60.96), (b']', 60.41), (b'\\x0f', 54.06), (b'\\x01', 45.24), (b'\\x06', 38.28), (b'\\n', 36.0), (b'\\x11', 34.44), (b'\\x15', 25.74), (b'\\t', 24.6), (b'\\x17', 21.78), (b'\\x12', 19.02), (b'\\x00', 12.42), (b'\\x04', 10.86), (b'\\x1b', 10.68), (b'\\x14', 6.06), (b'\\x1a', 1.74), (b'\\x18', 1.62), (b'\\x08', 1.2), (b'\\x13', 1.2), (b'\\x02', 0), (b'\\x19', 0), (b'\\x1c', 0), (b'\\x1e', 0), (b'\\x1f', 0)])\n",
            "(9, [(b'\\x18', 310.33), (b'\\x1e', 197.35), (b'\\x1f', 177.89), (b']', 171.34), (b'\\x19', 170.72), (b'\\x04', 148.48), (b'P', 144.38), (b'\\x1c', 143.95), (b'\\x03', 142.69), (b'L', 125.04), (b'\\x11', 119.87), (b'\\x12', 108.41), (b'Q', 102.86), (b'\\r', 95.56), (b'V', 89.32), (b'\\x1a', 77.85), (b'\\x10', 74.06), (b'J', 73.9), (b'\\x1b', 67.37), (b'\\x17', 65.08), (b'\\x16', 64.26), (b'Y', 63.51), (b'\\n', 60.35), (b'W', 58.34), (b'\\x0b', 57.9), (b'\\x1d', 57.64), (b'_', 49.45), (b'\\x07', 46.02), (b'Z', 35.0), (b'\\x01', 33.93), (b'[', 29.86), (b'\\x0c', 29.16), (b'T', 27.45), (b'U', 23.55), (b'M', 19.93), (b'\\\\', 19.9), (b'H', 15.85), (b'A', 12.53), (b'^', 9.25), (b'@', 8.4), (b'S', 7.97), (b'F', 7.58), (b'O', 6.45), (b'X', 5.49), (b'N', 5.32), (b'D', 3.17), (b'R', 2.81), (b'B', 2.36), (b'C', 1.29), (b'I', 1.0), (b'E', 0.2)])\n",
            "(10, [(b'T', 368.23), (b'\\x15', 226.8), (b'\\x11', 181.83), (b'P', 148.38), (b'\\x1a', 139.23), (b'\\x00', 119.97), (b'\\x1b', 119.83), (b'S', 119.1), (b'Y', 113.84), (b'U', 112.6), (b'R', 103.69), (b'V', 94.99), (b'\\x1d', 92.97), (b'G', 92.93), (b'A', 89.35), (b'\\x07', 88.09), (b'\\x10', 85.26), (b'\\x01', 83.8), (b'[', 83.78), (b'Z', 80.07), (b'B', 78.72), (b'Q', 77.18), (b'H', 77.03), (b'W', 74.6), (b'I', 73.74), (b'\\x18', 69.99), (b'\\x1c', 69.32), (b'L', 63.43), (b'@', 63.09), (b'\\x17', 59.97), (b'M', 53.24), (b'\\x19', 51.31), (b'\\x02', 47.31), (b'K', 42.79), (b'\\x16', 41.09), (b'\\x04', 36.16), (b'\\x03', 35.63), (b'\\x12', 29.51), (b'\\x13', 27.37), (b'\\r', 26.53), (b'\\x1f', 19.4), (b'\\x1e', 7.68), (b'\\n', 7.52), (b'\\x14', 5.48), (b'\\x0e', 4.26), (b'\\t', 3.44), (b'\\x05', 3.21), (b'\\x0f', 1.01), (b'\\x08', 0.2)])\n",
            "(11, [(b'?', 318.21), (b'9', 155.89), (b'z', 150.82), (b'v', 143.48), (b'8', 138.31), (b'>', 136.58), (b';', 129.69), (b'm', 114.64), (b'7', 113.48), (b'~', 107.01), (b'=', 105.14), (b'5', 103.37), (b',', 91.95), (b'<', 90.42), (b':', 84.55), (b'1', 81.82), (b'p', 79.82), (b'*', 79.37), (b'k', 73.89), (b'q', 73.27), (b' ', 70.0), (b'r', 68.58), (b'0', 68.43), (b'w', 63.38), (b'|', 61.48), (b'}', 59.21), (b'x', 56.86), (b'+', 54.21), (b'{', 48.04), (b'i', 44.35), (b's', 43.92), (b'y', 32.68), (b'j', 30.82), (b'o', 25.36), (b'f', 17.87), (b't', 11.27), (b'h', 10.32), (b'g', 9.27), (b'a', 7.58), (b'\\x7f', 5.49), (b'u', 3.41), (b'c', 3.17), (b'e', 3.17), (b'n', 1.6), (b'd', 1.29), (b'b', 0.2)])\n",
            "(12, [(b'Z', 378.97), (b'\\x1f', 219.6), (b'\\x1b', 157.0), (b'\\x14', 156.5), (b'Q', 149.8), (b'q', 149.8), (b'^', 144.89), (b'V', 143.87), (b'v', 143.87), (b'W', 135.07), (b'w', 135.07), (b'[', 134.29), (b'\\\\', 131.83), (b'\\x13', 129.4), (b']', 127.33), (b'p', 124.31), (b'R', 119.22), (b'X', 112.47), (b's', 104.61), (b'U', 103.03), (b'\\x15', 89.6), (b'_', 84.51), (b'T', 78.11), (b'Y', 77.75), (b'\\x08', 75.8), (b'\\x16', 72.9), (b'\\x1e', 69.8), (b'\\x0e', 69.5), (b'\\x12', 66.0), (b'O', 63.98), (b'\\x19', 63.4), (b'\\t', 57.4), (b'\\x0f', 54.3), (b'\\x17', 48.1), (b'N', 44.09), (b'\\x1d', 42.7), (b'C', 42.03), (b'\\x18', 38.7), (b'E', 32.75), (b'\\n', 31.7), (b'\\x0c', 28.1), (b'\\x1c', 18.1), (b'\\x03', 17.8), (b'\\r', 12.9), (b'\\x11', 11.0), (b'\\x02', 2.9), (b'\\x00', 2.7), (b'\\x0b', 2.0), (b'\\x10', 2.0), (b'\\x01', 0), (b'\\x04', 0), (b'\\x06', 0), (b'\\x07', 0), (b'\\x1a', 0)])\n",
            "(13, [(b'l', 320.33), (b'j', 192.89), (b'm', 162.85), (b'>', 153.48), (b'k', 153.42), (b'F', 132.03), (b'f', 132.03), (b'G', 118.44), (b'A', 116.61), (b'#', 114.96), (b'n', 114.87), (b'h', 113.53), (b'@', 108.97), (b'-', 105.0), (b'\\x7f', 103.45), (b')', 102.96), (b'b', 99.44), (b'8', 95.7), (b'\"', 93.9), (b'y', 83.76), (b'%', 81.24), (b'i', 79.98), (b'o', 78.43), (b'c', 77.27), (b'E', 68.14), (b'e', 68.14), (b'/', 63.24), (b'~', 56.43), (b'(', 56.28), (b's', 55.51), (b'$', 54.0), (b'?', 52.44), (b'u', 46.12), (b' ', 32.94), (b'+', 32.82), (b'.', 30.42), (b';', 25.74), (b\"'\", 24.6), (b'9', 21.78), (b'<', 19.02), (b'!', 18.06), (b'*', 10.86), (b'5', 10.68), (b':', 6.06), (b'4', 1.74), (b'6', 1.62), (b'&', 1.2), (b'=', 1.2), (b',', 0), (b'0', 0), (b'1', 0), (b'2', 0), (b'7', 0)])\n",
            "(14, [(b'D', 310.27), (b'\\x01', 195.48), (b'@', 186.1), (b'B', 174.15), (b'h', 165.12), (b'C', 144.82), (b'E', 143.69), (b'n', 137.59), (b'_', 127.85), (b'Y', 119.22), (b'F', 111.37), (b'o', 107.43), (b'Q', 101.77), (b'G', 100.17), (b'i', 99.54), (b'm', 98.82), (b'\\r', 94.62), (b'A', 88.94), (b'J', 81.89), (b'\\x05', 79.5), (b'\\x10', 74.85), (b'\\\\', 73.17), (b'[', 71.22), (b'K', 64.57), (b'P', 62.39), (b'\\x16', 58.74), (b'\\x0b', 57.48), (b'\\x17', 53.22), (b'\\x11', 46.89), (b'\\t', 45.03), (b'\\x13', 39.87), (b'\\n', 37.95), (b'\\x08', 34.47), (b'\\x07', 31.62), (b'\\x0c', 27.0), (b'\\x02', 23.43), (b'\\x12', 21.03), (b'\\x00', 10.14), (b'\\x14', 9.51), (b'\\x03', 7.41), (b'\\x06', 6.21), (b'\\x1d', 5.34), (b'\\x0f', 3.3), (b'\\x1c', 0.87), (b'\\x1e', 0.81), (b'\\x0e', 0.6), (b'\\x15', 0.6), (b'\\x04', 0), (b'\\x18', 0), (b'\\x19', 0), (b'\\x1a', 0), (b'\\x1f', 0)])\n",
            "(15, [(b'i', 327.24), (b'h', 150.03), (b',', 146.28), (b'n', 139.62), (b'u', 133.86), (b'm', 106.67), (b'j', 90.36), (b'|', 84.97), (b'k', 82.94), (b'l', 81.89), (b'`', 75.77), (b'-', 70.58), (b'v', 69.28), (b'q', 69.2), (b'p', 65.24), (b'g', 63.37), (b'}', 45.56), (b'*', 42.97), (b'+', 41.72), (b')', 3.01)])\n",
            "(16, [(b'<', 313.87), (b'\\x17', 147.48), (b'=', 145.85), (b'8', 141.97), (b'y', 138.96), (b'>', 138.27), (b'4', 136.75), (b'}', 123.0), (b' ', 122.38), (b')', 120.18), (b';', 118.84), (b'!', 116.17), (b'\\x10', 112.52), (b'r', 111.9), (b'\\x16', 108.69), (b'6', 108.69), (b'\\x15', 105.52), (b'5', 105.52), (b'{', 104.82), (b'\\x11', 103.58), (b'/', 103.07), (b'n', 99.48), (b'3', 90.85), (b'2', 90.09), (b'o', 88.44), (b'u', 81.24), (b',', 81.19), (b'h', 77.7), (b'?', 77.43), (b'(', 73.86), (b'9', 72.56), (b'x', 56.28), (b'q', 54.06), (b'#', 53.12), (b'e', 46.68), (b's', 42.96), (b'%', 36.68), (b't', 36.0), (b'p', 32.94), (b'\\x7f', 27.24), (b'i', 21.78), (b'l', 19.02), (b'~', 12.42), (b'z', 10.86), (b'k', 7.74), (b'w', 6.6), (b'j', 6.06), (b'd', 1.74), (b'f', 1.62), (b'm', 1.2), (b'v', 1.2), (b'`', 0), (b'a', 0), (b'b', 0), (b'g', 0), (b'|', 0)])\n",
            "(17, [(b'2', 351.79), (b'w', 215.28), (b'6', 146.7), (b'\\x1b', 130.66), (b';', 130.66), (b'\\x1f', 126.89), (b'\\x19', 123.92), (b'5', 121.09), (b'3', 119.38), (b'~', 115.92), (b'\\x1e', 111.69), (b'.', 110.91), (b'f', 109.6), (b'\\x18', 107.53), (b'0', 106.83), (b's', 104.0), (b')', 100.05), (b\"'\", 99.34), (b'1', 97.24), (b'{', 96.32), (b'|', 89.2), (b'7', 84.16), (b'`', 78.64), (b'}', 75.28), (b'<', 73.59), (b' ', 71.3), (b'=', 69.29), (b'a', 63.92), (b'z', 60.0), (b'u', 55.76), (b'+', 54.55), (b'-', 53.41), (b'&', 47.72), (b'g', 47.04), (b'e', 46.32), (b'q', 36.32), (b'p', 34.56), (b'k', 32.24), (b'v', 27.04), (b'b', 25.36), (b'\\x7f', 24.08), (b't', 14.48), (b'y', 8.8), (b'd', 8.08), (b'j', 2.32), (b'h', 2.16), (b'c', 1.6), (b'x', 1.6), (b'i', 0), (b'l', 0), (b'n', 0), (b'o', 0), (b'r', 0)])\n",
            "(18, [(b')', 332.01), (b'l', 150.12), (b'.', 143.73), (b'`', 142.78), (b'\\x05', 139.27), (b'-', 139.0), (b'h', 131.5), (b'\\x03', 128.97), (b'(', 128.58), (b'4', 114.61), (b'\\x02', 101.92), (b',', 100.13), (b'\\x04', 99.35), (b'+', 98.3), (b'<', 98.08), (b'*', 97.47), (b'>', 95.79), (b'f', 86.12), (b'}', 84.65), (b'g', 82.55), (b\"'\", 81.73), (b'z', 76.18), (b':', 75.47), (b'\\x00', 71.93), (b' ', 71.93), (b'=', 71.15), (b'{', 71.06), (b'm', 59.66), (b'1', 58.56), (b'6', 55.37), (b'j', 49.78), (b'o', 48.67), (b'~', 45.03), (b'|', 43.41), (b'y', 40.19), (b'd', 39.07), (b'e', 38.43), (b'p', 30.46), (b'a', 21.0), (b'n', 17.29), (b'k', 14.49), (b'b', 7.7), (b'\\x7f', 7.07), (b'q', 2.03), (b's', 1.89), (b'c', 1.4), (b'x', 1.4), (b'i', 0), (b'r', 0), (b't', 0), (b'u', 0), (b'w', 0)])\n",
            "(19, [(b'^', 303.19), (b'O', 149.32), (b'_', 147.78), (b'Z', 147.71), (b'H', 142.97), (b'Y', 140.79), (b'C', 121.4), (b'K', 108.72), (b'T', 107.7), (b'W', 98.62), (b'L', 94.95), (b'F', 91.25), (b'[', 89.47), (b'\\\\', 86.26), (b']', 80.41), (b'A', 72.13), (b'P', 68.29), (b'G', 53.21), (b'\\x1a', 52.9), (b'Q', 51.91), (b'\\x1d', 42.48), (b'\\x1c', 10.64), (b'\\x1e', 0.27)])\n",
            "(20, [(b')', 336.74), (b'(', 141.85), (b'/', 140.54), (b'.', 138.33), (b'`', 137.99), (b'}', 131.76), (b'l', 129.87), (b'{', 122.35), (b'4', 120.89), (b'f', 117.72), (b'a', 109.03), (b'g', 106.33), (b'h', 103.27), (b'z', 101.89), (b'e', 97.93), (b' ', 87.66), (b'-', 85.64), (b'!', 76.31), (b',', 75.79), (b'6', 74.54), (b'+', 73.32), (b'*', 72.1), (b'&', 64.71), (b'j', 63.69), (b'|', 61.15), (b'1', 59.27), (b'd', 56.69), (b\"'\", 55.61), (b'<', 55.52), (b'y', 39.96), (b'o', 37.88), (b'=', 35.83), (b'n', 24.99), (b'k', 22.48), (b's', 22.36), (b'p', 21.68), (b'~', 21.39), (b'b', 21.12), (b'\\x7f', 20.65), (b'w', 19.66), (b'q', 9.91), (b'x', 8.85), (b'u', 7.01), (b'c', 5.83), (b't', 3.88), (b'r', 3.38)])\n",
            "(21, [(b'\\xa5', 270.7), (b'\\xe0', 160.18), (b'\\xa4', 149.44), (b'\\xa2', 139.24), (b'\\xa1', 117.69), (b'\\xea', 105.18), (b'\\xac', 98.67), (b'\\xa6', 96.97), (b'\\xab', 86.37), (b'\\xa7', 86.05), (b'\\xad', 84.06), (b'\\xe4', 73.01), (b'\\xaa', 66.56), (b'\\xb0', 66.34), (b'\\xf7', 66.32), (b'\\xeb', 64.67), (b'\\xa0', 61.73), (b'\\xec', 59.32), (b'\\xf0', 52.3), (b'\\xed', 51.38), (b'\\xb1', 51.23), (b'\\xe7', 50.93), (b'\\xbd', 49.91), (b'\\xba', 48.21), (b'\\xf1', 46.09), (b'\\xe6', 43.32), (b'\\xe9', 39.96), (b'\\xe8', 38.54), (b'\\xe1', 34.52), (b'\\xfc', 28.75), (b'\\xe3', 25.44), (b'\\xf5', 12.68), (b'\\xe2', 10.98), (b'\\xfd', 8.11), (b'\\xfb', 7.58), (b'\\xee', 6.87), (b'\\xe5', 5.49), (b'\\xf2', 5.16), (b'\\xf3', 4.31), (b'\\xf9', 3.17), (b'\\xef', 2.61), (b'\\xff', 2.09), (b'\\xfe', 1.29), (b'\\xf4', 0.8), (b'\\xf8', 0.2)])\n",
            "(22, [(b'\\xcb', 259.11), (b'\\xca', 147.2), (b'\\xd7', 143.64), (b'\\xdd', 127.12), (b'\\xd6', 123.0), (b'\\xcc', 117.18), (b'\\x99', 109.9), (b'\\x8e', 109.8), (b'\\xcf', 101.35), (b'\\x98', 100.7), (b'\\xda', 100.5), (b'\\xe1', 95.26), (b'\\x84', 89.8), (b'\\xe6', 85.72), (b'\\xe0', 82.01), (b'\\xde', 79.46), (b'\\x8a', 78.5), (b'\\xe7', 76.4), (b'\\xc2', 73.86), (b'\\xe2', 73.86), (b'\\xd8', 72.77), (b'\\x9f', 70.75), (b'\\x83', 69.0), (b'\\xc9', 67.96), (b'\\xc8', 67.41), (b'\\xc5', 65.73), (b'\\xd4', 65.28), (b'\\xdf', 63.23), (b'\\x9e', 54.15), (b'\\xce', 53.48), (b'\\x92', 44.9), (b'\\xd2', 40.01), (b'\\x82', 37.7), (b'\\x8f', 34.9), (b'\\x85', 33.25), (b'\\x86', 33.05), (b'\\x8c', 30.35), (b'\\xc4', 30.33), (b'\\x87', 27.45), (b'\\x9c', 24.45), (b'\\x88', 22.7), (b'\\x9b', 15.85), (b'\\x89', 10.35), (b'\\x8d', 9.05), (b'\\x80', 5.5), (b'\\x9d', 5.05), (b'\\x93', 1.45), (b'\\x91', 1.35), (b'\\x81', 1.0), (b'\\x9a', 1.0), (b'\\x8b', 0), (b'\\x90', 0), (b'\\x95', 0), (b'\\x96', 0), (b'\\x97', 0)])\n",
            "(23, [(b'\\xe4', 300.84), (b'\\xa1', 150.12), (b'\\xe2', 150.02), (b'\\xe5', 139.62), (b'\\xce', 122.38), (b'\\xee', 122.38), (b'\\xf9', 113.77), (b'\\xe3', 113.3), (b'\\xb7', 112.18), (b'\\xb6', 107.06), (b'\\xad', 106.78), (b'\\xc8', 104.42), (b'\\xab', 104.12), (b'\\xcf', 93.43), (b'\\xc9', 82.91), (b'\\xe6', 77.65), (b'\\xe0', 75.86), (b'\\xec', 71.29), (b'\\xa7', 67.78), (b'\\xb0', 66.65), (b'\\xaa', 64.55), (b'\\xcd', 63.67), (b'\\xed', 63.67), (b'\\xa0', 59.66), (b'\\xe1', 59.52), (b'\\xa5', 59.5), (b'\\xe7', 58.47), (b'\\xa8', 56.43), (b'\\xea', 55.42), (b'\\xfb', 53.23), (b'\\xf1', 48.42), (b'\\xf6', 47.29), (b'\\xfa', 47.26), (b'\\xac', 39.0), (b'\\xeb', 37.92), (b'\\xa3', 35.29), (b'\\xf0', 31.33), (b'\\xb1', 25.41), (b'\\xfd', 25.31), (b'\\xb4', 22.19), (b'\\xa9', 21.07), (b'\\xa6', 14.49), (b'\\xa2', 12.67), (b'\\xbd', 12.46), (b'\\xb3', 9.03), (b'\\xaf', 7.7), (b'\\xb2', 7.07), (b'\\xbc', 2.03), (b'\\xbe', 1.89), (b'\\xae', 1.4), (b'\\xb5', 1.4), (b'\\xa4', 0), (b'\\xb8', 0), (b'\\xb9', 0), (b'\\xba', 0), (b'\\xbf', 0)])\n",
            "(24, [(b'\\xbd', 251.26), (b'\\xbc', 132.78), (b'\\xba', 125.83), (b'\\xf8', 113.72), (b'\\xfc', 112.02), (b'\\xa1', 111.4), (b'\\xb9', 109.87), (b'\\xa0', 103.86), (b'\\xf3', 102.74), (b'\\xbb', 102.24), (b'\\xf4', 88.48), (b'\\xaf', 86.66), (b'\\xb7', 86.28), (b'\\xbf', 79.6), (b'\\xbe', 74.87), (b'\\xb8', 74.4), (b'\\xa8', 73.01), (b'\\xb4', 68.97), (b'\\xf2', 55.72), (b'\\xa2', 55.55), (b'\\xf9', 55.52), (b'\\xb3', 51.71), (b'\\xef', 48.32), (b'\\xe9', 46.38), (b'\\xa9', 44.91), (b'\\xa5', 44.32), (b'\\xf1', 39.96), (b'\\xa4', 36.8), (b'\\xf5', 36.76), (b'\\xfe', 32.48), (b'\\xed', 30.68), (b'\\xf0', 29.04), (b'\\xea', 23.16), (b'\\xff', 21.58), (b'\\xe8', 18.08), (b'\\xe3', 15.16), (b'\\xe5', 15.06), (b'\\xe4', 14.38), (b'\\xfa', 12.08), (b'\\xfd', 10.98), (b'\\xf6', 9.34), (b'\\xfb', 7.64), (b'\\xe1', 6.34), (b'\\xeb', 4.58), (b'\\xf7', 4.42), (b'\\xe7', 3.1), (b'\\xe6', 2.58), (b'\\xec', 0.8), (b'\\xe0', 0.4)])\n",
            "(25, [(b'\\x9e', 217.48), (b'\\xd1', 130.75), (b'\\x90', 126.79), (b'\\x9f', 120.73), (b'\\xdb', 114.2), (b'\\x95', 108.24), (b'\\xd2', 91.02), (b'\\xd0', 90.88), (b'\\x98', 89.25), (b'\\x97', 88.44), (b'\\x99', 83.57), (b'\\x82', 83.38), (b'\\x9c', 82.63), (b'\\xcc', 81.44), (b'\\x9d', 78.39), (b'\\xdf', 71.41), (b'\\x92', 69.86), (b'\\x96', 62.05), (b'\\xd9', 60.51), (b'\\x9a', 60.0), (b'\\x9b', 59.82), (b'\\x88', 57.85), (b'\\xd7', 55.16), (b'\\x80', 54.0), (b'\\xd5', 53.31), (b'\\x91', 52.74), (b'\\xd3', 52.22), (b'\\xdc', 52.09), (b'\\xd6', 45.98), (b'\\x81', 43.52), (b'\\xca', 42.99), (b'\\xcb', 42.8), (b'\\xc4', 37.65), (b'\\xdd', 35.03), (b'\\xc2', 32.79), (b'\\x87', 32.63), (b'\\xcd', 31.7), (b'\\x8b', 30.16), (b'\\x8a', 29.27), (b'\\xde', 26.6), (b'\\xc3', 24.77), (b'\\xc0', 23.84), (b'\\xd8', 21.05), (b'\\xc9', 19.06), (b'\\xce', 16.95), (b'\\xc7', 16.13), (b'\\xd4', 14.72), (b'\\xc5', 14.52), (b'\\xc6', 10.03), (b'\\xc8', 9.22)])\n",
            "(26, [(b'0', 169.85), (b'\\x1a', 116.96), (b':', 116.96), (b'3', 114.07), (b'7', 106.84), (b'1', 106.77), (b'\\x1b', 94.18), (b'\\x7f', 86.32), (b'\\x19', 84.62), (b'9', 84.62), (b'\\x1d', 79.82), (b'=', 79.82), (b'6', 79.75), (b'u', 76.32), (b'4', 75.64), (b'2', 75.55), (b'\\x1c', 72.63), (b'5', 72.46), (b',', 71.57), (b'>', 68.01), (b'%', 63.55), (b'\"', 59.19), (b'v', 57.62), (b\"'\", 54.57), (b'~', 49.3), (b'/', 48.47), (b'|', 46.98), (b'$', 45.83), (b't', 42.76), (b'(', 40.08), (b'q', 35.0), (b'y', 33.08), (b'd', 31.9), (b'c', 29.48), (b'`', 24.34), (b'r', 22.14), (b'g', 20.58), (b'b', 15.16), (b's', 9.08), (b'e', 7.26), (b'}', 6.02), (b'x', 6.0), (b'w', 4.94), (b'i', 3.56), (b'{', 2.2), (b'f', 2.02), (b'h', 0.58), (b'j', 0.54), (b'a', 0.4), (b'z', 0.4), (b'k', 0), (b'l', 0), (b'm', 0), (b'n', 0), (b'p', 0)])\n",
            "(27, [(b'\\xdc', 156.09), (b'\\xdd', 92.78), (b'\\xc0', 85.41), (b'\\x92', 84.74), (b'\\xd0', 77.7), (b'\\xdb', 74.65), (b'\\xc6', 72.44), (b'\\xc1', 68.79), (b'\\x8e', 66.32), (b'\\xde', 65.64), (b'\\x9d', 65.18), (b'\\x93', 64.22), (b'\\x99', 60.82), (b'\\xd2', 58.66), (b'\\x94', 56.57), (b'\\x9b', 55.62), (b'\\x95', 54.95), (b'\\x89', 54.08), (b'\\xd5', 52.08), (b'\\x91', 51.58), (b'\\xd3', 47.81), (b'\\xd4', 47.15), (b'\\x88', 46.65), (b'\\xcf', 46.06), (b'\\xd8', 46.05), (b'\\xc8', 44.5), (b'\\xc9', 41.8), (b'\\xdf', 38.65), (b'\\x98', 37.72), (b'\\xd9', 37.66), (b'\\xca', 36.99), (b'\\x9f', 35.49), (b'\\x85', 33.67), (b'\\xc5', 28.71), (b'\\x9e', 27.07), (b'\\x90', 24.03), (b'\\xc3', 23.84), (b'\\x97', 20.5), (b'\\x82', 18.33), (b'\\x9c', 17.63), (b'\\x84', 16.07), (b'\\x80', 13.92), (b'\\x8c', 12.68), (b'\\x9a', 10.64), (b'\\x86', 10.05), (b'\\x96', 7.8), (b'\\x8b', 6.94), (b'\\x87', 6.21), (b'\\x81', 6.14), (b'\\x8a', 4.87)])\n",
            "(28, [(b'\\xf8', 135.37), (b'\\xfe', 98.77), (b'\\xef', 92.88), (b'\\xe9', 83.2), (b'\\xf9', 69.99), (b'\\xe5', 68.13), (b'\\xfc', 62.93), (b'\\xed', 62.76), (b'\\xff', 61.18), (b'\\xf2', 53.04), (b'\\xeb', 52.68), (b'\\xe4', 50.78), (b'\\xf0', 49.66), (b'\\xfa', 48.95), (b'\\xe8', 48.5), (b'\\xf1', 38.54), (b'\\xfd', 29.1), (b'\\xea', 27.36), (b'\\xe6', 26.49), (b'\\xf6', 25.43), (b'\\xfb', 24.51), (b'\\xec', 23.35), (b'\\xe7', 21.5), (b'\\xe1', 18.87), (b'\\xf7', 11.52), (b'\\xbb', 6.61), (b'\\xba', 4.14), (b'\\xb8', 0.27)])\n",
            "(29, [(b\"'\", 90.88), (b'o', 62.19), (b'#', 60.17), (b'&', 57.07), (b'b', 55.8), (b'f', 54.67), (b'+', 54.6), (b'!', 53.57), (b' ', 50.69), (b'.', 47.96), (b';', 41.93), (b')', 40.42), (b':', 33.69), (b'-', 33.05), (b'2', 31.41), (b'(', 30.71), (b'4', 29.44), (b'/', 28.67), (b'1', 27.38), (b'\"', 26.88), (b'i', 26.72), (b'%', 26.1), (b'u', 25.58), (b's', 25.51), (b'c', 24.58), (b'n', 21.17), (b'7', 20.93), (b'h', 20.2), (b'?', 19.77), (b'$', 18.03), (b'5', 17.69), (b'j', 16.05), (b'l', 14.73), (b'd', 14.71), (b'e', 14.21), (b'3', 12.91), (b'g', 12.14), (b'`', 11.11), (b'y', 10.75), (b'{', 10.75), (b'8', 8.72), (b'\\x7f', 8.25), (b'}', 8.23), (b'k', 7.56), (b'~', 6.7), (b'>', 6.58), (b'z', 5.94), (b'r', 5.41), (b'm', 5.39), (b'a', 5.01), (b'|', 4.92), (b'w', 3.17), (b'p', 3.07), (b'q', 1.57)])\n",
            "(30, [(b'\\xe9', 60.3), (b'\\xa0', 52.9), (b'\\xf5', 50.88), (b'\\xb0', 44.17), (b'\\xf4', 41.17), (b'\\xe3', 40.04), (b'\\xfe', 38.16), (b'\\xee', 37.67), (b'\\xf9', 33.82), (b'\\xf2', 33.09), (b'\\xe4', 32.98), (b'\\xe8', 31.71), (b'\\xed', 27.68), (b'\\xfc', 27.63), (b'\\xa7', 27.02), (b'\\xe1', 25.23), (b'\\xf1', 25.0), (b'\\xbd', 24.94), (b'\\xe0', 20.06), (b'\\xb6', 16.9), (b'\\xfb', 15.09), (b'\\xe6', 14.54), (b'\\xf7', 13.9), (b'\\xeb', 13.84), (b'\\xec', 13.29), (b'\\xf6', 12.97), (b'\\xea', 12.03), (b'\\xa1', 10.96), (b'\\xb7', 10.96), (b'\\xf0', 10.84), (b'\\xe7', 9.99), (b'\\xa4', 9.79), (b'\\xb2', 9.79), (b'\\xfd', 9.16), (b'\\xb1', 9.02), (b'\\xaa', 8.94), (b'\\xbc', 8.94), (b'\\xa6', 8.17), (b'\\xab', 6.94), (b'\\xa9', 5.76), (b'\\xbf', 5.76), (b'\\xfa', 5.43), (b'\\xa3', 4.98), (b'\\xb5', 4.98), (b'\\xa8', 3.01), (b'\\xbe', 3.01), (b'\\xad', 3.0), (b'\\xbb', 3.0), (b'\\xa2', 2.67), (b'\\xb4', 2.67), (b'\\xae', 1.1), (b'\\xb8', 1.1), (b'\\xa5', 1.01), (b'\\xb3', 1.01), (b'\\xaf', 0.2), (b'\\xb9', 0.2)])\n",
            "(31, [(b'O', 39.58), (b'\\x0b', 37.15), (b'\\n', 37.06), (b'\\x1d', 26.61), (b'\\x00', 25.77), (b'E', 24.65), (b'X', 23.74), (b'\\x0c', 23.57), (b'\\x06', 19.62), (b'\\x0e', 19.11), (b'\\x01', 18.46), (b'\\x1b', 18.44), (b'\\x05', 18.4), (b'\\x1c', 16.64), (b'\\x16', 15.95), (b'D', 15.66), (b'J', 15.66), (b'\\x17', 15.32), (b'\\x11', 14.49), (b'\\x03', 12.79), (b'@', 12.26), (b'N', 12.26), (b'\\x08', 11.12), (b'\\r', 10.77), (b'\\x04', 10.7), (b'\\x19', 10.52), (b'B', 10.01), (b'L', 10.01), (b'\\t', 9.31), (b'\\x1f', 9.08), (b'\\x02', 8.76), (b'W', 7.58), (b'Y', 7.58), (b'G', 7.56), (b'I', 7.56), (b'F', 7.55), (b'H', 7.55), (b'Q', 7.22), (b'_', 7.22), (b'\\x15', 6.72), (b'K', 6.65), (b'V', 5.74), (b'\\x14', 5.69), (b'C', 4.81), (b'M', 4.81), (b'P', 3.63), (b'^', 3.63), (b'A', 3.58), (b'U', 3.17), (b'[', 3.17), (b'R', 3.07), (b'\\\\', 3.07), (b'\\x18', 2.58), (b'\\x1e', 2.21), (b'\\x13', 2.11), (b'\\x0f', 1.49), (b'\\x12', 1.49), (b'S', 1.3), (b']', 1.3)])\n",
            "(32, [(b'\\x80', 24.38), (b'\\xc4', 21.38), (b'\\xc8', 21.0), (b'\\x81', 18.7), (b'\\x8d', 18.7), (b'\\xad', 18.7), (b'\\x87', 11.7), (b'\\x8b', 11.7), (b'\\xab', 11.7), (b'\\x85', 11.51), (b'\\x89', 11.51), (b'\\xa9', 11.51), (b'\\xc5', 11.16), (b'\\x86', 8.72), (b'\\x8a', 8.72), (b'\\xaa', 8.72), (b'\\xc1', 8.5), (b'\\x96', 7.58), (b'\\x9a', 7.58), (b'\\xd2', 7.58), (b'\\xc9', 7.54), (b'\\x90', 7.24), (b'\\x9c', 7.24), (b'\\xcf', 7.16), (b'\\xd4', 6.95), (b'\\xce', 6.65), (b'\\x8c', 6.38), (b'\\xac', 6.38), (b'\\xd3', 5.74), (b'\\x84', 5.49), (b'\\x88', 5.49), (b'\\xcc', 5.49), (b'\\x91', 5.41), (b'\\x9d', 5.41), (b'\\xc3', 4.54), (b'\\xd5', 3.63), (b'\\x83', 3.57), (b'\\x8f', 3.57), (b'\\x94', 3.17), (b'\\x98', 3.17), (b'\\xd0', 3.17), (b'\\xcd', 3.01), (b'\\xc7', 2.47), (b'\\xc2', 2.07), (b'\\x82', 2.01), (b'\\x8e', 2.01), (b'\\xc6', 1.81), (b'\\xd9', 1.78), (b'\\x93', 1.29), (b'\\x9f', 1.29), (b'\\xd7', 1.29), (b'\\x92', 1.28), (b'\\x9e', 1.28), (b'\\xcb', 1.1), (b'\\xd6', 1.01), (b'\\xd8', 0.29), (b'\\xda', 0.27), (b'\\x95', 0.2), (b'\\x99', 0.2), (b'\\xca', 0.2), (b'\\xd1', 0.2), (b'\\xc0', 0), (b'\\xdb', 0), (b'\\xdc', 0), (b'\\xdd', 0), (b'\\xde', 0)])\n",
            "(33, [(b'\\xa4', 25.83), (b'\\xed', 25.54), (b'\\xfc', 18.29), (b'\\x88', 18.11), (b'\\xa8', 18.11), (b'\\xb9', 18.11), (b'\\x8e', 12.12), (b'\\xae', 12.12), (b'\\xbf', 12.12), (b'\\xac', 11.67), (b'\\xbd', 11.67), (b'\\xe1', 11.16), (b'\\xe5', 8.5), (b'\\xb5', 7.83), (b'\\x8f', 7.81), (b'\\xaf', 7.81), (b'\\xbe', 7.81), (b'\\xf6', 7.58), (b'\\xa2', 7.16), (b'\\xb3', 7.16), (b'\\xeb', 7.16), (b'\\x89', 7.01), (b'\\xa9', 7.01), (b'\\xb8', 7.01), (b'\\xf0', 6.95), (b'\\xea', 6.65), (b'\\xf7', 5.74), (b'\\xa1', 5.49), (b'\\xb0', 5.49), (b'\\xe8', 5.49), (b'\\xa5', 4.78), (b'\\xb4', 4.78), (b'\\xe7', 4.54), (b'\\xf1', 3.63), (b'\\xaa', 3.48), (b'\\xbb', 3.48), (b'\\xe0', 3.38), (b'\\xf4', 3.17), (b'\\xab', 3.1), (b'\\xba', 3.1), (b'\\xa0', 3.01), (b'\\xb1', 3.01), (b'\\xe9', 3.01), (b'\\xec', 3.0), (b'\\xe3', 2.47), (b'\\xe6', 2.07), (b'\\xe2', 1.81), (b'\\xfd', 1.78), (b'\\xa6', 1.37), (b'\\xb7', 1.37), (b'\\xf3', 1.29), (b'\\xef', 1.1), (b'\\xf2', 1.01), (b'\\xfe', 0.27), (b'\\x8d', 0.2), (b'\\xa7', 0.2), (b'\\xad', 0.2), (b'\\xb6', 0.2), (b'\\xbc', 0.2), (b'\\xee', 0.2), (b'\\xf5', 0.2), (b'\\xe4', 0), (b'\\xf8', 0), (b'\\xf9', 0), (b'\\xfa', 0), (b'\\xff', 0)])\n",
            "(34, [(b'!', 18), (b'5', 18), (b'@', 12.13), (b'T', 12.13), (b'`', 12.13), (b't', 12.13), (b'D', 11.36), (b'P', 11.36), (b'd', 11.36), (b'p', 11.36), (b'G', 9.39), (b'S', 9.39), (b'g', 9.39), (b's', 9.39), (b'F', 8.21), (b'R', 8.21), (b'f', 8.21), (b'r', 8.21), (b'H', 7.54), (b'\\\\', 7.54), (b'h', 7.54), (b'|', 7.54), (b'N', 7.16), (b'Z', 7.16), (b'n', 7.16), (b'z', 7.16), (b'A', 6.95), (b'U', 6.95), (b'a', 6.95), (b'u', 6.95), (b'O', 6.92), (b'[', 6.92), (b'o', 6.92), (b'{', 6.92), (b'E', 6.55), (b'Q', 6.55), (b'e', 6.55), (b'q', 6.55), (b'B', 5.83), (b'V', 5.83), (b'b', 5.83), (b'v', 5.83), (b'M', 5.78), (b'Y', 5.78), (b'm', 5.78), (b'y', 5.78), (b'L', 4.79), (b'X', 4.79), (b'l', 4.79), (b'x', 4.79), (b'C', 3.08), (b'W', 3.08), (b'c', 3.08), (b'w', 3.08), (b'I', 3.0), (b']', 3.0), (b'i', 3.0), (b'}', 3.0), (b'J', 1.1), (b'^', 1.1), (b'K', 0.2), (b'_', 0.2), (b'k', 0.2), (b'\\x7f', 0.2), (b' ', 0), (b'\"', 0), (b'#', 0), (b'$', 0), (b'%', 0), (b'&', 0), (b\"'\", 0), (b'(', 0), (b')', 0), (b'*', 0), (b'+', 0), (b',', 0), (b'-', 0), (b'.', 0), (b'/', 0), (b'0', 0), (b'1', 0), (b'2', 0), (b'3', 0), (b'4', 0), (b'6', 0), (b'7', 0), (b'8', 0), (b'9', 0), (b':', 0), (b';', 0), (b'<', 0), (b'=', 0), (b'>', 0), (b'?', 0)])\n",
            "(35, [(b'\\x8c', 18), (b'\\x9a', 18), (b'\\xc9', 16.9), (b'\\xdf', 16.9), (b'\\xe9', 16.9), (b'\\xff', 16.9), (b'\\xc8', 10.96), (b'\\xde', 10.96), (b'\\xe8', 10.96), (b'\\xfe', 10.96), (b'\\xcd', 9.79), (b'\\xdb', 9.79), (b'\\xed', 9.79), (b'\\xfb', 9.79), (b'\\xce', 9.02), (b'\\xd8', 9.02), (b'\\xee', 9.02), (b'\\xf8', 9.02), (b'\\xc3', 8.94), (b'\\xd5', 8.94), (b'\\xe3', 8.94), (b'\\xf5', 8.94), (b'\\xcf', 8.17), (b'\\xd9', 8.17), (b'\\xef', 8.17), (b'\\xf9', 8.17), (b'\\xe5', 7.54), (b'\\xf3', 7.54), (b'\\xc2', 6.94), (b'\\xd4', 6.94), (b'\\xe2', 6.94), (b'\\xf4', 6.94), (b'\\xc0', 5.76), (b'\\xd6', 5.76), (b'\\xe0', 5.76), (b'\\xf6', 5.76), (b'\\xca', 4.98), (b'\\xdc', 4.98), (b'\\xea', 4.98), (b'\\xfc', 4.98), (b'\\xc1', 3.01), (b'\\xd7', 3.01), (b'\\xe1', 3.01), (b'\\xf7', 3.01), (b'\\xc4', 3.0), (b'\\xd2', 3.0), (b'\\xe4', 3.0), (b'\\xf2', 3.0), (b'\\xcb', 2.67), (b'\\xdd', 2.67), (b'\\xeb', 2.67), (b'\\xfd', 2.67), (b'\\xc7', 1.1), (b'\\xd1', 1.1), (b'\\xe7', 1.1), (b'\\xf1', 1.1), (b'\\xcc', 1.01), (b'\\xda', 1.01), (b'\\xec', 1.01), (b'\\xfa', 1.01), (b'\\xc6', 0.2), (b'\\xd0', 0.2), (b'\\xe6', 0.2), (b'\\xf0', 0.2), (b'\\x80', 0), (b'\\x81', 0), (b'\\x82', 0), (b'\\x83', 0), (b'\\x84', 0), (b'\\x85', 0), (b'\\x86', 0), (b'\\x87', 0), (b'\\x88', 0), (b'\\x89', 0), (b'\\x8a', 0), (b'\\x8b', 0), (b'\\x8d', 0), (b'\\x8e', 0), (b'\\x8f', 0), (b'\\x90', 0), (b'\\x91', 0), (b'\\x92', 0), (b'\\x93', 0), (b'\\x94', 0), (b'\\x95', 0), (b'\\x96', 0), (b'\\x97', 0), (b'\\x98', 0), (b'\\x99', 0), (b'\\x9b', 0), (b'\\x9c', 0), (b'\\x9d', 0), (b'\\x9e', 0), (b'\\x9f', 0)])\n",
            "(36, [(b'\\x1e', 18), (b'[', 11.16), (b'{', 11.16), (b'_', 8.5), (b'\\x7f', 8.5), (b'L', 7.58), (b'l', 7.58), (b'W', 7.54), (b'w', 7.54), (b'Q', 7.16), (b'q', 7.16), (b'J', 6.95), (b'j', 6.95), (b'P', 6.65), (b'p', 6.65), (b'M', 5.74), (b'm', 5.74), (b'R', 5.49), (b'r', 5.49), (b']', 4.54), (b'}', 4.54), (b'K', 3.63), (b'k', 3.63), (b'Z', 3.38), (b'z', 3.38), (b'N', 3.17), (b'n', 3.17), (b'S', 3.01), (b's', 3.01), (b'V', 3.0), (b'v', 3.0), (b'Y', 2.47), (b'y', 2.47), (b'\\\\', 2.07), (b'|', 2.07), (b'X', 1.81), (b'x', 1.81), (b'G', 1.78), (b'g', 1.78), (b'I', 1.29), (b'i', 1.29), (b'U', 1.1), (b'u', 1.1), (b'H', 1.01), (b'h', 1.01), (b'F', 0.29), (b'f', 0.29), (b'D', 0.27), (b'd', 0.27), (b'O', 0.2), (b'T', 0.2), (b'o', 0.2), (b't', 0.2), (b'\\x00', 0), (b'\\x01', 0), (b'\\x02', 0), (b'\\x03', 0), (b'\\x04', 0), (b'\\x05', 0), (b'\\x06', 0), (b'\\x07', 0), (b'\\x08', 0), (b'\\t', 0), (b'\\n', 0), (b'\\x0b', 0), (b'\\x0c', 0), (b'\\r', 0), (b'\\x0e', 0), (b'\\x0f', 0), (b'\\x10', 0), (b'\\x11', 0), (b'\\x12', 0), (b'\\x13', 0), (b'\\x14', 0), (b'\\x15', 0), (b'\\x16', 0), (b'\\x17', 0), (b'\\x18', 0), (b'\\x19', 0), (b'\\x1a', 0), (b'\\x1b', 0), (b'\\x1c', 0), (b'\\x1d', 0), (b'\\x1f', 0), (b'2', 0), (b'3', 0), (b'4', 0), (b'5', 0), (b'7', 0), (b'@', 0), (b'B', 0), (b'C', 0), (b'E', 0), (b'^', 0), (b'`', 0), (b'a', 0), (b'b', 0), (b'c', 0), (b'e', 0), (b'~', 0)])\n",
            "(37, [(b'\\x1f', 18), (b'Z', 11.16), (b'z', 11.16), (b'^', 8.5), (b'~', 8.5), (b'M', 7.58), (b'm', 7.58), (b'V', 7.54), (b'v', 7.54), (b'P', 7.16), (b'p', 7.16), (b'K', 6.95), (b'k', 6.95), (b'Q', 6.65), (b'q', 6.65), (b'L', 5.74), (b'l', 5.74), (b'S', 5.49), (b's', 5.49), (b'\\\\', 4.54), (b'|', 4.54), (b'J', 3.63), (b'j', 3.63), (b'[', 3.38), (b'{', 3.38), (b'O', 3.17), (b'o', 3.17), (b'R', 3.01), (b'r', 3.01), (b'W', 3.0), (b'w', 3.0), (b'X', 2.47), (b'x', 2.47), (b']', 2.07), (b'}', 2.07), (b'Y', 1.81), (b'y', 1.81), (b'F', 1.78), (b'f', 1.78), (b'H', 1.29), (b'h', 1.29), (b'T', 1.1), (b't', 1.1), (b'I', 1.01), (b'i', 1.01), (b'G', 0.29), (b'g', 0.29), (b'E', 0.27), (b'e', 0.27), (b'N', 0.2), (b'U', 0.2), (b'n', 0.2), (b'u', 0.2), (b'\\x00', 0), (b'\\x01', 0), (b'\\x02', 0), (b'\\x03', 0), (b'\\x04', 0), (b'\\x05', 0), (b'\\x06', 0), (b'\\x07', 0), (b'\\x08', 0), (b'\\t', 0), (b'\\n', 0), (b'\\x0b', 0), (b'\\x0c', 0), (b'\\r', 0), (b'\\x0e', 0), (b'\\x0f', 0), (b'\\x10', 0), (b'\\x11', 0), (b'\\x12', 0), (b'\\x13', 0), (b'\\x14', 0), (b'\\x15', 0), (b'\\x16', 0), (b'\\x17', 0), (b'\\x18', 0), (b'\\x19', 0), (b'\\x1a', 0), (b'\\x1b', 0), (b'\\x1c', 0), (b'\\x1d', 0), (b'\\x1e', 0), (b'2', 0), (b'3', 0), (b'4', 0), (b'5', 0), (b'6', 0), (b'A', 0), (b'B', 0), (b'C', 0), (b'D', 0), (b'_', 0), (b'`', 0), (b'a', 0), (b'b', 0), (b'c', 0), (b'd', 0), (b'\\x7f', 0)])\n"
          ]
        }
      ],
      "source": [
        "for x in score_for_each_possible_bytes:\n",
        "    print(x)"
      ]
    },
    {
      "cell_type": "code",
      "execution_count": 46,
      "metadata": {},
      "outputs": [
        {
          "name": "stdout",
          "output_type": "stream",
          "text": [
            "b'i have met them at close of day'\n",
            "b'coming with vivid faces'\n",
            "b'from counter or desk among grey'\n",
            "b'eighteenth-century houses.'\n",
            "b'i have passed with a nod of the htUD'\n",
            "b'or polite meaningless words,'\n",
            "b'or have lingered awhile and said'\n",
            "b'polite meaningless words,'\n",
            "b'and thought before I had done'\n",
            "b'of a mocking tale or a gibe'\n",
            "b'to please a companion'\n",
            "b'around the fire at the club,'\n",
            "b'being certain that they and I'\n",
            "b'but lived where motley is worn:'\n",
            "b'all changed, changed utterly:'\n",
            "b'a terrible beauty is born.'\n",
            "b\"that woman's days were spent\"\n",
            "b'in ignorant good will,'\n",
            "b'her nights in argument'\n",
            "b'until her voice grew shrill.'\n",
            "b'what voice more sweet than hers'\n",
            "b'when young and beautiful,'\n",
            "b'she rode to harriers?'\n",
            "b'this man had kept a school'\n",
            "b'and rode our winged horse.'\n",
            "b'this other his helper and friend'\n",
            "b'was coming into his force;'\n",
            "b'he might have won fame in the end='\n",
            "b'so sensitive his nature seemed,'\n",
            "b'so daring and sweet his thought.'\n",
            "b'this other man I had dreamed'\n",
            "b'a drunken, vain-glorious lout.'\n",
            "b'he had done most bitter wrong'\n",
            "b'to some who are near my heart,'\n",
            "b'yet I number him in the song;'\n",
            "b'he, too, has resigned his part'\n",
            "b'in the casual comedy;'\n",
            "b'he, too, has been changed in his eARn>'\n",
            "b'transformed utterly:'\n",
            "b'a terrible beauty is born.'\n"
          ]
        }
      ],
      "source": [
        "predicted_key_stream = b''\n",
        "for x in score_for_each_possible_bytes:\n",
        "    if len(predicted_key_stream) == 31:\n",
        "        predicted_key_stream += x[1][1][0]\n",
        "    elif len(predicted_key_stream) == 33:\n",
        "        predicted_key_stream += x[1][5][0]\n",
        "    elif len(predicted_key_stream) == 34:\n",
        "        predicted_key_stream += x[1][3][0]\n",
        "    elif len(predicted_key_stream) == 35:\n",
        "        predicted_key_stream += x[1][8][0]\n",
        "    elif len(predicted_key_stream) == 36:\n",
        "        predicted_key_stream += x[1][13][0]\n",
        "    elif len(predicted_key_stream) == 37:\n",
        "        predicted_key_stream += x[1][54][0]\n",
        "    else:\n",
        "        predicted_key_stream += x[1][0][0]\n",
        "\n",
        "for encrypted_btyes in encrypted_btyes_list:\n",
        "    print(xor_bytes(encrypted_btyes, predicted_key_stream))"
      ]
    },
    {
      "attachments": {},
      "cell_type": "markdown",
      "metadata": {},
      "source": [
        "Challenge 22"
      ]
    },
    {
      "cell_type": "code",
      "execution_count": 84,
      "metadata": {},
      "outputs": [
        {
          "name": "stdout",
          "output_type": "stream",
          "text": [
            "first_sleep_time: 7s\n",
            "Seeds: 1685194648\n",
            "second_sleep_time: 20s\n",
            "found seed : 1685194648\n"
          ]
        }
      ],
      "source": [
        "import time\n",
        "import random\n",
        "import challenge21 as c21\n",
        "\n",
        "def routine():\n",
        "    wait_time = random.randint(1,20)\n",
        "    time.sleep(wait_time)\n",
        "    print(f\"first_sleep_time: {wait_time}s\")\n",
        "\n",
        "    current_timestamp = int(time.time())\n",
        "    MT19937 = c21.MT19937(current_timestamp)\n",
        "    print(f\"Seeds: {current_timestamp}\")\n",
        "\n",
        "    wait_time = random.randint(1,20)\n",
        "    time.sleep(wait_time)\n",
        "    print(f\"second_sleep_time: {wait_time}s\")\n",
        "\n",
        "    return MT19937.rand()\n",
        "\n",
        "random_num = routine()\n",
        "\n",
        "output_list = dict()\n",
        "for i in range(1000):\n",
        "    current_timestamp = int(time.time())\n",
        "    seed = current_timestamp - i\n",
        "    MT19937 = c21.MT19937(seed)\n",
        "    output_list[MT19937.rand()] = seed\n",
        "\n",
        "if random_num in output_list:\n",
        "    print(f\"found seed : {output_list[random_num]}\")\n",
        "else:\n",
        "    print(f\"seed not found.\")\n"
      ]
    },
    {
      "attachments": {},
      "cell_type": "markdown",
      "metadata": {},
      "source": [
        "Challenge 23"
      ]
    },
    {
      "cell_type": "code",
      "execution_count": null,
      "metadata": {},
      "outputs": [],
      "source": [
        "import challenge21 as c21\n",
        "\n",
        "def untemper():\n",
        "    "
      ]
    },
    {
      "cell_type": "code",
      "execution_count": 102,
      "metadata": {},
      "outputs": [
        {
          "name": "stdout",
          "output_type": "stream",
          "text": [
            "00000001000000100000001100000100  y1\n",
            "\n",
            "00000000000000000010000001000000  y1 >> 11\n",
            "11111111111111111111111111111111  0xFFFFFFFF\n",
            "00000000000000000010000001000000  (y1 >> 11) & 0xFFFFFFFF\n",
            "00000001000000100010001101000100  y1 ^ ((y1 >> 11) & 0xFFFFFFFF)\n",
            "\n",
            "10000001000100011010001000000000  y2 << 7\n",
            "10011101001011000101011010000000  0x9D2C5680\n",
            "10000001000000000000001000000000  (y2 << 7) & 0x9D2C5680\n",
            "10000000000000100010000101000100  y2 ^ ((y2 << 7) & 0x9D2C5680)\n",
            "\n",
            "10000000000000100010000101000100000000000000000  y3 << 15\n",
            "11101111110001100000000000000000  0xEFC60000\n",
            "00000000100000100000000000000000  (y3 << 15) & 0xEFC60000\n",
            "10000000100000000010000101000100  y3 ^ ((y3 << 15) & 0xEFC60000)\n",
            "\n",
            "00000000000000000010000000100000  y4 >> 18\n",
            "10000000100000000000000101100100  y4 ^ (y4 >> 18)\n",
            "result: 2155872612\n"
          ]
        }
      ],
      "source": [
        "def p(a, t):\n",
        "    #a = a & 0xFFFFFFFF\n",
        "    print(\"{0:032b}\".format(a) + \"  \" + t)\n",
        "\n",
        "y1 = 0x01020304\n",
        "p(y1, 'y1')\n",
        "print('')\n",
        "\n",
        "y2 = y1 ^ ((y1 >> 11) & 0xFFFFFFFF)\n",
        "p(y1 >> 11, 'y1 >> 11')\n",
        "p(0xFFFFFFFF, '0xFFFFFFFF')\n",
        "p((y1 >> 11) & 0xFFFFFFFF, '(y1 >> 11) & 0xFFFFFFFF')\n",
        "p(y2, 'y1 ^ ((y1 >> 11) & 0xFFFFFFFF)')\n",
        "print('')\n",
        "\n",
        "y3 = y2 ^ ((y2 << 7) & 0x9D2C5680)\n",
        "p(y2 << 7, 'y2 << 7')\n",
        "p(0x9D2C5680, '0x9D2C5680')\n",
        "p((y2 << 7) & 0x9D2C5680, '(y2 << 7) & 0x9D2C5680')\n",
        "p(y3, 'y2 ^ ((y2 << 7) & 0x9D2C5680)')\n",
        "print('')\n",
        "\n",
        "y4 = y3 ^ ((y3 << 15) & 0xEFC60000)\n",
        "p(y3 << 15, 'y3 << 15')\n",
        "p(0xEFC60000, '0xEFC60000')\n",
        "p((y3 << 15) & 0xEFC60000, '(y3 << 15) & 0xEFC60000')\n",
        "p(y4, 'y3 ^ ((y3 << 15) & 0xEFC60000)')\n",
        "print('')\n",
        "\n",
        "z = y4 ^ (y4 >> 18)\n",
        "p(y4 >> 18, 'y4 >> 18')\n",
        "p(z, 'y4 ^ (y4 >> 18)')\n",
        "print(f'result: {z}')"
      ]
    },
    {
      "cell_type": "code",
      "execution_count": 89,
      "metadata": {},
      "outputs": [
        {
          "name": "stdout",
          "output_type": "stream",
          "text": [
            "11111111111111111111111111111111\n",
            "10011101001011000101011010000000\n",
            "11101111110001100000000000000000\n"
          ]
        }
      ],
      "source": [
        "z = 2155872612\n",
        "\n"
      ]
    }
  ],
  "metadata": {
    "colab": {
      "collapsed_sections": [
        "VgWZKmqA5A2d"
      ],
      "provenance": []
    },
    "kernelspec": {
      "display_name": "Python 3",
      "language": "python",
      "name": "python3"
    },
    "language_info": {
      "codemirror_mode": {
        "name": "ipython",
        "version": 3
      },
      "file_extension": ".py",
      "mimetype": "text/x-python",
      "name": "python",
      "nbconvert_exporter": "python",
      "pygments_lexer": "ipython3",
      "version": "3.9.13"
    },
    "vscode": {
      "interpreter": {
        "hash": "dfa0d92481204de1f000f2d094916401a48ca85a4631293a49e11de0cf616ec5"
      }
    }
  },
  "nbformat": 4,
  "nbformat_minor": 0
}
