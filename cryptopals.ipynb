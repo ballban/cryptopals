{
  "nbformat": 4,
  "nbformat_minor": 0,
  "metadata": {
    "colab": {
      "provenance": [],
      "collapsed_sections": [
        "VgWZKmqA5A2d"
      ],
      "authorship_tag": "ABX9TyObbdcJYs4C/f92tg+bx8zK",
      "include_colab_link": true
    },
    "kernelspec": {
      "name": "python3",
      "display_name": "Python 3"
    },
    "language_info": {
      "name": "python"
    }
  },
  "cells": [
    {
      "cell_type": "markdown",
      "metadata": {
        "id": "view-in-github",
        "colab_type": "text"
      },
      "source": [
        "<a href=\"https://colab.research.google.com/github/ballban/cryptopals/blob/main/cryptopals.ipynb\" target=\"_parent\"><img src=\"https://colab.research.google.com/assets/colab-badge.svg\" alt=\"Open In Colab\"/></a>"
      ]
    },
    {
      "cell_type": "markdown",
      "source": [
        "# Function"
      ],
      "metadata": {
        "id": "QDzvInZ18CAv"
      }
    },
    {
      "cell_type": "code",
      "source": [
        "%pip install PyCryptoDome"
      ],
      "metadata": {
        "id": "T_Cy9cK_8_Hp"
      },
      "execution_count": null,
      "outputs": []
    },
    {
      "cell_type": "code",
      "source": [
        "import base64\n",
        "from collections import defaultdict\n",
        "import string\n",
        "import requests\n",
        "from Crypto.Cipher import AES\n",
        "from Crypto.Util.Padding import pad, unpad\n",
        "import random\n",
        "import os\n",
        "import re\n",
        "import urllib.parse"
      ],
      "metadata": {
        "id": "J0HQLjD18Wod"
      },
      "execution_count": null,
      "outputs": []
    },
    {
      "cell_type": "code",
      "source": [
        "def GetFrequencyDic(text):\n",
        "  fre_bytes = defaultdict(int)\n",
        "  for i in range(len(text)):\n",
        "    x = text[i]\n",
        "    fre_bytes[x] += 1\n",
        "  return sorted(fre_bytes.items(), key=lambda x:x[1], reverse=True)"
      ],
      "metadata": {
        "id": "q8oc6Ekt8Pmb"
      },
      "execution_count": null,
      "outputs": []
    },
    {
      "cell_type": "code",
      "source": [
        "def GetScore(text):\n",
        "  score_dic = {\"E\":11.16,\"A\":8.50,\"R\":7.58,\"I\":7.54,\"O\":7.16,\"T\":6.95,\"N\":6.65,\"S\":5.74,\"L\":5.49,\"C\":4.54,\"U\":3.63,\"D\":3.38,\"P\":3.17,\"M\":3.01,\"H\":3.00,\"G\":2.47,\"B\":2.07,\"F\":1.81,\"Y\":1.78,\"W\":1.29,\"K\":1.10,\"V\":1.01,\"X\":0.29,\"Z\":0.27,\"J\":0.20,\"Q\":0.20,\"e\":11.16,\"a\":8.50,\"r\":7.58,\"i\":7.54,\"o\":7.16,\"t\":6.95,\"n\":6.65,\"s\":5.74,\"l\":5.49,\"c\":4.54,\"u\":3.63,\"d\":3.38,\"p\":3.17,\"m\":3.01,\"h\":3.00,\"g\":2.47,\"b\":2.07,\"f\":1.81,\"y\":1.78,\"w\":1.29,\"k\":1.10,\"v\":1.01,\"x\":0.29,\"z\":0.27,\"j\":0.20,\"q\":0.20,\" \":18}\n",
        "  score = 0\n",
        "  for key, value in GetFrequencyDic(text):\n",
        "    if key in score_dic:\n",
        "      score += score_dic[key] * value\n",
        "    elif key not in string.printable:\n",
        "      score = 0\n",
        "      break\n",
        "  return score"
      ],
      "metadata": {
        "id": "Gs-ARxRt8f-1"
      },
      "execution_count": null,
      "outputs": []
    },
    {
      "cell_type": "code",
      "source": [
        "def TryDecrypt(text):\n",
        "  if(type(text) == str):\n",
        "    text_bytes = bytes.fromhex(text)\n",
        "  else:\n",
        "    text_bytes = text\n",
        "  #print(text_bytes)\n",
        "\n",
        "  keys = range(0, 127)\n",
        "  scores = defaultdict(int)\n",
        "  for key in keys:\n",
        "    decrypt_text = ''\n",
        "    for i in range(len(text_bytes)):\n",
        "      x = text_bytes[i]\n",
        "      decrypt_text += chr(x ^ key)\n",
        "    scores[key] = GetScore(decrypt_text)\n",
        "  scores = sorted(scores.items(), key=lambda x:x[1], reverse=True)\n",
        "  #print(scores[:10])\n",
        "\n",
        "  true_key = scores[0][0]\n",
        "\n",
        "  result = ''\n",
        "  for i in range(len(text_bytes)):\n",
        "      x = text_bytes[i]\n",
        "      result += chr(x ^ true_key)\n",
        "  return scores[0][1], result, true_key"
      ],
      "metadata": {
        "id": "7ciRAm7m8lHf"
      },
      "execution_count": null,
      "outputs": []
    },
    {
      "cell_type": "code",
      "source": [
        "def GetTxt(url):\n",
        "  f = requests.get(url).content.decode('utf-8')\n",
        "  text_list = f.split('\\n')\n",
        "  return text_list"
      ],
      "metadata": {
        "id": "o7Zuyuqf8qji"
      },
      "execution_count": null,
      "outputs": []
    },
    {
      "cell_type": "code",
      "source": [
        "def Encrypt(text, key):\n",
        "  key = key * int(len(text) / len(key) + 1)\n",
        "  result = b''\n",
        "  for i in range(len(text)):\n",
        "    result += (ord(text[i]) ^ ord(key[i])).to_bytes(1, 'big')\n",
        "  return result"
      ],
      "metadata": {
        "id": "BgfzHRdJ80Q4"
      },
      "execution_count": null,
      "outputs": []
    },
    {
      "cell_type": "code",
      "source": [
        "def HammingDistance(text1, text2):\n",
        "  # text1 = bytes(text1, 'utf-8')\n",
        "  # text2 = bytes(text2, 'utf-8')\n",
        "  return sum([bin(x[0] ^ x[1]).count(\"1\") for x in zip(text1, text2)])"
      ],
      "metadata": {
        "id": "RY6zrbYm85M2"
      },
      "execution_count": null,
      "outputs": []
    },
    {
      "cell_type": "code",
      "source": [
        "def decrypt_ECB(text: bytes, key) -> bytes:\n",
        "  cipher = AES.new(key, AES.MODE_ECB)\n",
        "  return cipher.decrypt(text)\n",
        "\n",
        "def encrypt_ECB(text: bytes, key, block_size: int) -> bytes:\n",
        "  cipher = AES.new(key, AES.MODE_ECB)\n",
        "  encrypted_bytes = b''\n",
        "  for i in range(len(text)//block_size + 1):\n",
        "    chunk = text[i*block_size:(i+1)*block_size]\n",
        "    if(len(chunk) == 0):\n",
        "      return encrypted_bytes\n",
        "    pad_chunk = PKCS7(chunk, block_size)\n",
        "    # print(text)\n",
        "    encrypted_bytes += cipher.encrypt(pad_chunk)\n",
        "  return encrypted_bytes"
      ],
      "metadata": {
        "id": "Nf0i8hxo9DNF"
      },
      "execution_count": 127,
      "outputs": []
    },
    {
      "cell_type": "code",
      "source": [
        "def PKCS7(input_bytes, block_size):\n",
        "  pad_length = block_size - len(input_bytes)\n",
        "  return input_bytes + b'\\x04' * pad_length"
      ],
      "metadata": {
        "id": "F-v4BxtS9KBr"
      },
      "execution_count": 126,
      "outputs": []
    },
    {
      "cell_type": "code",
      "source": [
        "def encrypt_CBC(bytes_text, key, block_size, initialization_vector):\n",
        "  block_list = [bytes_text[i * block_size: (i+1) * block_size] for i in range(len(bytes_text) // block_size + 1)]\n",
        "  \n",
        "  pre_block = initialization_vector\n",
        "  result = []\n",
        "  for block in block_list:\n",
        "    if len(block) == 0:\n",
        "      break\n",
        "    block = PKCS7(block, block_size)\n",
        "    XOR_block = [b1 ^ b2 for b1, b2 in zip(pre_block, block)]\n",
        "    #print(f'block: {block}')\n",
        "    #print(f'XOR_block: {XOR_block} len: {len(XOR_block)}')\n",
        "    encrypted_block = encrypt_ECB(bytes(XOR_block), key, block_size)\n",
        "    #print(f'encrypted_block: {[x for x in encrypted_block]}')\n",
        "\n",
        "    pre_block = encrypted_block\n",
        "    result += encrypted_block\n",
        "  return bytes(result)\n",
        "\n",
        "\n",
        "def decrypt_CBC(bytes_text, key, block_size, initialization_vector):\n",
        "  block_list = [bytes_text[i * block_size: (i+1) * block_size] for i in range(int(len(bytes_text) / block_size))]\n",
        "  \n",
        "  pre_block = initialization_vector\n",
        "  result = []\n",
        "  for block in block_list:\n",
        "    decrypted_block = decrypt_ECB(block, key)\n",
        "    plain_text = [b1 ^ b2 for b1, b2 in zip(pre_block, decrypted_block)]\n",
        "\n",
        "    pre_block = block\n",
        "    result += plain_text\n",
        "  return bytes(result)"
      ],
      "metadata": {
        "id": "22OXl7ql-Dbx"
      },
      "execution_count": 130,
      "outputs": []
    },
    {
      "cell_type": "code",
      "source": [
        "def encryption_oracle(plain_text: str, block_size: int) -> bytes:\n",
        "  bytes_text = plain_text.encode()\n",
        "  random_key = random_aes_key()\n",
        "  \n",
        "  append_count = random.randint(5, 10)\n",
        "  bytes_text = os.urandom(append_count) + bytes_text + os.urandom(append_count)\n",
        "\n",
        "  encryption_mode = random.randint(0,1)\n",
        "\n",
        "  if encryption_mode == 0:\n",
        "    # ECB\n",
        "    encrypted_bytes = encrypt_ECB(bytes_text, random_key, block_size)\n",
        "  else:\n",
        "    # CBC\n",
        "    encrypted_bytes = encrypt_CBC(bytes_text, random_key, block_size, os.urandom(16))\n",
        "\n",
        "  return encrypted_bytes, random_key, 'ECB' if encryption_mode == 0 else 'CBC'\n",
        "\n",
        "def random_aes_key(block_size = 16) -> bytes:\n",
        "  return os.urandom(block_size)"
      ],
      "metadata": {
        "id": "qUxnBJ5E-S46"
      },
      "execution_count": null,
      "outputs": []
    },
    {
      "cell_type": "code",
      "source": [
        "def routine(input: str):\n",
        "  result = dict()\n",
        "  pairs = input.split('&')\n",
        "  for pair in pairs:\n",
        "    key, value = pair.split('=')\n",
        "    result[key] = value\n",
        "  return result\n",
        "\n",
        "\n",
        "def profile_for(input: str):\n",
        "  input = re.sub(r'\\&', '', input)\n",
        "  input = re.sub(r'\\=', '', input)\n",
        "  params = {'email': input, 'uid': 10, 'role': 'user'}\n",
        "  return urllib.parse.urlencode(params)"
      ],
      "metadata": {
        "id": "5OzEnWr7-aLW"
      },
      "execution_count": null,
      "outputs": []
    },
    {
      "cell_type": "code",
      "source": [
        "def new_oracle(plain_text) -> bytes:\n",
        "  footer_base64 = 'Um9sbGluJyBpbiBteSA1LjAKV2l0aCBteSByYWctdG9wIGRvd24gc28gbXkgaGFpciBjYW4gYmxvdwpUaGUgZ2lybGllcyBvbiBzdGFuZGJ5IHdhdmluZyBqdXN0IHRvIHNheSBoaQpEaWQgeW91IHN0b3A/IE5vLCBJIGp1c3QgZHJvdmUgYnkK'\n",
        "  footer_bytes = base64.b64decode(footer_base64)\n",
        "\n",
        "  if isinstance(plain_text, str):\n",
        "    bytes_text = random_prefix + plain_text.encode() + footer_bytes\n",
        "  else:\n",
        "    bytes_text = random_prefix + plain_text + footer_bytes\n",
        "\n",
        "  # ECB\n",
        "  #print(\"new_oracle\", [bytes_text[x*block_size: (x+1)*block_size] for x in range(len(bytes_text))])\n",
        "  encrypted_bytes = encrypt_ECB(bytes_text, random_key, block_size)\n",
        "\n",
        "  return encrypted_bytes"
      ],
      "metadata": {
        "id": "JyO2ArIs-hA-"
      },
      "execution_count": null,
      "outputs": []
    },
    {
      "cell_type": "code",
      "source": [
        "# Step 1\n",
        "def detect_block_size(plain_text):\n",
        "  for i in range(10):\n",
        "    new_text = 'A' * i + plain_text\n",
        "    ECB_encrypted_text = new_oracle(new_text)\n",
        "    print(ECB_encrypted_text)\n",
        "  return block_size\n",
        "\n",
        "# Step 2\n",
        "def detect_ECB_mode(plain_text: str, block_size: int):\n",
        "  target_index = -1\n",
        "  encrypted_bytes = new_oracle('A'*256 + plain_text)\n",
        "  max_chunk = len(encrypted_bytes)//block_size\n",
        "\n",
        "  for i in range(max_chunk - 1):\n",
        "    for j in range(i + 1, max_chunk):\n",
        "      if encrypted_bytes[i*block_size: (i+1)*block_size] == encrypted_bytes[j*block_size: (j+1)*block_size]:\n",
        "        target_index = i\n",
        "        break\n",
        "    if target_index != -1:\n",
        "      break\n",
        "\n",
        "  return 'ECB' if target_index != -1 else 'UNKNOWN'\n",
        "\n",
        "# Step 3,4\n",
        "def craft_input_dict(header: str):\n",
        "  return {new_oracle(header + bytes([i]))[:block_size]: bytes([i]) for i in range(256)}\n",
        "\n",
        "# Step 5, 6\n",
        "def match_output():\n",
        "  header = b'A' * (block_size - 1)\n",
        "  result = header\n",
        "\n",
        "  for x in range(10):\n",
        "    for i in range(block_size):\n",
        "      input_dict = craft_input_dict(header)\n",
        "      key = new_oracle(b'A' * (block_size - 1 - i))[x*block_size:(x+1)*block_size]\n",
        "      if key in input_dict:\n",
        "        output = input_dict[key]\n",
        "      else:\n",
        "        return result[block_size - 1:]\n",
        "      result += output\n",
        "      header = result[-block_size+1:]\n",
        "  return result[block_size - 1:]"
      ],
      "metadata": {
        "id": "onZiDO_5-pE7"
      },
      "execution_count": null,
      "outputs": []
    },
    {
      "cell_type": "code",
      "source": [
        "def get_prefix_length():\n",
        "  encrypted_btyes_list = []\n",
        "  for i in range(32):\n",
        "    encrypted_btyes = new_oracle(b'A' * i)\n",
        "    print(i, [encrypted_btyes[i*16: (i+1)*16] for i in range(len(encrypted_btyes) // 16 + 1)])\n",
        "    encrypted_btyes_list.append(encrypted_btyes)\n",
        "\n",
        "  same_btyes_index = -1\n",
        "  for j in range(len(encrypted_btyes_list[0])):\n",
        "    if same_btyes_index != -1:\n",
        "      break\n",
        "    for i in range(len(encrypted_btyes_list) - 1):\n",
        "      #print(encrypted_btyes_list[i][j*block_size: (j+1)*block_size])\n",
        "      if same_btyes_index == -1:\n",
        "        if encrypted_btyes_list[i][j*block_size: (j+1)*block_size] == encrypted_btyes_list[i + 1][j*block_size: (j+1)*block_size]:\n",
        "          if i == 0:\n",
        "            break\n",
        "          same_btyes_index = i\n",
        "  return j, same_btyes_index\n",
        "\n",
        "def craft_input_dict_14(header: str, prefix_block, prefix_size):\n",
        "  input_dict = {new_oracle(b'A' * prefix_size + header + bytes([i]))[prefix_block*block_size:(prefix_block+1)*block_size]: bytes([i]) for i in range(256)}\n",
        "  return input_dict\n",
        "\n",
        "def match_output_14():\n",
        "  header = b'A' * (block_size - 1)\n",
        "  result = header\n",
        "  prefix_block, prefix_size = get_prefix_length()\n",
        "  print(prefix_block, prefix_size)\n",
        "\n",
        "  for x in range(10):\n",
        "    for i in range(block_size):\n",
        "      input_dict = craft_input_dict_14(header, prefix_block, prefix_size)\n",
        "      key = new_oracle(b'A' * prefix_size + b'A' * (block_size - 1 - i))[(x+prefix_block)*block_size:(x+prefix_block+1)*block_size]\n",
        "      #print(input_dict)\n",
        "      #print(key)\n",
        "      if key in input_dict:\n",
        "        output = input_dict[key]\n",
        "      else:\n",
        "        return result[block_size - 1:]\n",
        "      result += output\n",
        "      header = result[-block_size+1:]\n",
        "  return result[block_size - 1:]"
      ],
      "metadata": {
        "id": "gn12N5PG-uqT"
      },
      "execution_count": null,
      "outputs": []
    },
    {
      "cell_type": "code",
      "source": [
        "def check_and_strip_PKCS7(plain_bytes, block_size):\n",
        "  if len(plain_bytes) % block_size != 0:\n",
        "    raise Exception('Wrong size!')\n",
        "\n",
        "  while True:\n",
        "    if plain_bytes[-1:] == b'\\x04':\n",
        "      plain_bytes = plain_bytes[:-1]\n",
        "    elif plain_bytes[-1:] not in string.printable.encode():\n",
        "      raise Exception('Bad padding!')\n",
        "    else:\n",
        "      break\n",
        "  return plain_bytes"
      ],
      "metadata": {
        "id": "oashsDlJ-zrL"
      },
      "execution_count": 99,
      "outputs": []
    },
    {
      "cell_type": "code",
      "source": [
        "# Step 1\n",
        "def encrypt_CBC_16(plain_text, key, block_size, initialization_vector):\n",
        "  prefix = \"comment1=cooking%20MCs;userdata=\"\n",
        "  suffix = \";comment2=%20like%20a%20pound%20of%20bacon\"\n",
        "  new_text = prefix + plain_text + suffix\n",
        "  encrypt_bytes = encrypt_CBC(new_text.encode(), key, block_size, initialization_vector)\n",
        "  return encrypt_bytes\n",
        "\n",
        "# Step 2\n",
        "def check_admin_16(encrypt_bytes, key, block_size, initialization_vector):\n",
        "  decrypt_bytes = decrypt_CBC(encrypt_bytes, key, block_size, initialization_vector)\n",
        "  print_bytes(decrypt_bytes)\n",
        "  decrypt_bytes = check_and_strip_PKCS7(decrypt_bytes, block_size)\n",
        "  return parse_16(decrypt_bytes)\n",
        "\n",
        "def parse_16(decrypt_bytes):\n",
        "  s = decrypt_bytes.decode('iso-8859-1')\n",
        "  print(s)\n",
        "  block_list = s.split(';')\n",
        "  for block in block_list:\n",
        "    key, val = block.split('=')\n",
        "    if key == 'admin':\n",
        "      return True\n",
        "  return False\n",
        "\n",
        "def print_bytes(text_bytes, block_size = 16):\n",
        "  print([text_bytes[i:i+block_size] for i in range(0, len(text_bytes), block_size)])"
      ],
      "metadata": {
        "id": "dhAiw8l6ANbl"
      },
      "execution_count": 160,
      "outputs": []
    },
    {
      "cell_type": "code",
      "source": [
        "print_bytes(encrypt_bytes)\n",
        "\n",
        "\n",
        "# print(check_admin_16(encrypt_bytes[:2*block_size]+test[2*block_size:3*block_size]+encrypt_bytes[3*block_size:], random_key, block_size, initialization_vector))"
      ],
      "metadata": {
        "colab": {
          "base_uri": "https://localhost:8080/"
        },
        "id": "xs02VoFIRq4s",
        "outputId": "a6c6125b-96b1-4e64-a0f5-f23eb3e023a4"
      },
      "execution_count": 162,
      "outputs": [
        {
          "output_type": "stream",
          "name": "stdout",
          "text": [
            "[b'\\xfe>|\\xcc\\x08\\x01G\\xcb9-$d\\x88\\xd1\\xf1y', b'\\x1ea\\xbb\\xac}#%\\xe2\\x9c^\\x11s?+\\xbew', b'\\xbc\\xe6\\x1f\\x04\\x9a1\\xde+\\xff\\xbc\\xca0+&\\x9d\\x82', b'\\xc1\\xc1/\\xc0\\x0c\\x9b\\xed\\x96\\x01\\x15\\xa2\\xd4\\x18\\xda\\xc9\\xcb', b\"8'\\xd5Ag4\\x7f\\xcc\\re\\x1aG~\\xdb\\xa2\\x1a\", b'p\\xbf\\xd09\\n >\\x0ff\\xa92\\x0c\\xdf8\\x871', b'D\\x0b}7\\x08V\\xe1\\xc9\\xf6\\t\\xaf\\xe7\\xa2k\\x9c\\\\']\n"
          ]
        }
      ]
    },
    {
      "cell_type": "markdown",
      "source": [
        "# Set_1"
      ],
      "metadata": {
        "id": "VgWZKmqA5A2d"
      }
    },
    {
      "cell_type": "markdown",
      "source": [
        "Challenge 1"
      ],
      "metadata": {
        "id": "KiuqGjpN8Do0"
      }
    },
    {
      "cell_type": "code",
      "source": [
        "text = '49276d206b696c6c696e6720796f757220627261696e206c696b65206120706f69736f6e6f7573206d757368726f6f6d'\n",
        "ans = 'SSdtIGtpbGxpbmcgeW91ciBicmFpbiBsaWtlIGEgcG9pc29ub3VzIG11c2hyb29t'\n",
        "\n",
        "baseInt= int(text, 16)\n",
        "print(baseInt)\n",
        "\n",
        "bytes_text = bytes.fromhex(text)\n",
        "print(bytes_text)\n",
        "\n",
        "result = base64.b64encode(bytes_text)\n",
        "print(result)"
      ],
      "metadata": {
        "id": "XFcs9Swb0-uF",
        "colab": {
          "base_uri": "https://localhost:8080/"
        },
        "outputId": "8683c569-9ee4-4b8d-9468-7de288bf2aaa"
      },
      "execution_count": 1,
      "outputs": [
        {
          "output_type": "stream",
          "name": "stdout",
          "text": [
            "11259432467145572969189485457381052543241507215288737798329079056359121649591228422793827173000297562297701340508013\n",
            "b\"I'm killing your brain like a poisonous mushroom\"\n",
            "b'SSdtIGtpbGxpbmcgeW91ciBicmFpbiBsaWtlIGEgcG9pc29ub3VzIG11c2hyb29t'\n"
          ]
        }
      ]
    },
    {
      "cell_type": "markdown",
      "source": [
        "Challenge 2"
      ],
      "metadata": {
        "id": "Nk6OvCfb8GGF"
      }
    },
    {
      "cell_type": "code",
      "source": [
        "buffer1 = '1c0111001f010100061a024b53535009181c'\n",
        "buffer2 = '686974207468652062756c6c277320657965'\n",
        "ans = '746865206b696420646f6e277420706c6179'\n",
        "\n",
        "hex1 = bytes.fromhex(buffer1)\n",
        "hex2 = bytes.fromhex(buffer2)\n",
        "print(hex1)\n",
        "print(hex2)\n",
        "\n",
        "result = ''\n",
        "for i in range(len(hex1)):\n",
        "    result += str(hex(hex1[i] ^ hex2[i]))[2:]\n",
        "\n",
        "print(result)\n",
        "print(result == ans)"
      ],
      "metadata": {
        "id": "koB7Udil0_wr",
        "colab": {
          "base_uri": "https://localhost:8080/"
        },
        "outputId": "88d69ea1-645b-4d14-9a5c-2a727870ec14"
      },
      "execution_count": 2,
      "outputs": [
        {
          "output_type": "stream",
          "name": "stdout",
          "text": [
            "b'\\x1c\\x01\\x11\\x00\\x1f\\x01\\x01\\x00\\x06\\x1a\\x02KSSP\\t\\x18\\x1c'\n",
            "b\"hit the bull's eye\"\n",
            "746865206b696420646f6e277420706c6179\n",
            "True\n"
          ]
        }
      ]
    },
    {
      "cell_type": "markdown",
      "source": [
        "Challenge 3"
      ],
      "metadata": {
        "id": "_Fi0zxze8Hzd"
      }
    },
    {
      "cell_type": "code",
      "source": [
        "text = '1b37373331363f78151b7f2b783431333d78397828372d363c78373e783a393b3736'\n",
        "print(TryDecrypt(text))"
      ],
      "metadata": {
        "colab": {
          "base_uri": "https://localhost:8080/"
        },
        "id": "rQZhXKK61A6q",
        "outputId": "3d7efe13-adf3-4bfc-9636-638fa868a1b0"
      },
      "execution_count": 6,
      "outputs": [
        {
          "output_type": "stream",
          "name": "stdout",
          "text": [
            "(253.57999999999998, \"Cooking MC's like a pound of bacon\", 88)\n"
          ]
        }
      ]
    },
    {
      "cell_type": "markdown",
      "source": [
        "Challenge 4"
      ],
      "metadata": {
        "id": "AzVweq4OEJzP"
      }
    },
    {
      "cell_type": "code",
      "source": [
        "text_list = GetTxt(\"https://cryptopals.com/static/challenge-data/4.txt\")"
      ],
      "metadata": {
        "id": "NE12WsZB2j3C"
      },
      "execution_count": 7,
      "outputs": []
    },
    {
      "cell_type": "code",
      "execution_count": 8,
      "metadata": {
        "colab": {
          "base_uri": "https://localhost:8080/"
        },
        "id": "9yt9hTgwu8DU",
        "outputId": "e3cb692a-858f-4ca3-b04e-3ab854aaba15"
      },
      "outputs": [
        {
          "output_type": "stream",
          "name": "stdout",
          "text": [
            "(219.54000000000002, 'Now that the party is jumping\\n', 53)\n",
            "(113.88999999999997, '[$LrLi;hsDbv!5 j$OaEfG=>rKDl=S', 109)\n",
            "(113.14999999999999, 'wpUs{gnns F8b-aT2*zRAh{Gj>xuED', 98)\n",
            "(109.14, \"iu`'ern.&nZeM,MjT\\x0b:FD~i5+OyEmL\", 113)\n",
            "(105.78999999999999, 'Sw6XSo$^uWyP$C{iUCns3e?E` /]GZ', 108)\n",
            "(90.35000000000001, 'T2XNi-]1rTIYbP/>2`o%%]T5JonmqA', 99)\n",
            "(70.12000000000002, ']$4OFs>\\\\YQ#\\nK9y?IT4PeNWTxFqc0\\r', 103)\n",
            "(70.01000000000002, '\\\\`)]^o}me|~#Am~t[dbF.tq\\x0bmAWM|~', 114)\n",
            "(0, \"\\x0e6GèY-5QJ\\x08\\x12CX%6í=æs@Y\\x00\\x1e?S\\\\æ'\\x102\", 0)\n",
            "(0, '3K\\x04\\x1dá$÷<\\x18\\x01\\x1aPæ\\x08\\tzÃ\\x08ìîP\\x137ì>\\x10\\x08T \\x1d', 0)\n"
          ]
        }
      ],
      "source": [
        "decrypt_list = []\n",
        "for text in text_list:\n",
        "  decrypt_list.append(TryDecrypt(text))\n",
        "result = sorted(decrypt_list, key=lambda x:x[0], reverse=True)\n",
        "print(*result[:10], sep=\"\\n\")"
      ]
    },
    {
      "cell_type": "markdown",
      "source": [
        "Challenge 5"
      ],
      "metadata": {
        "id": "hJpjzikzEQhc"
      }
    },
    {
      "cell_type": "code",
      "source": [
        "text = '''Burning 'em, if you ain't quick and nimble\n",
        "I go crazy when I hear a cymbal'''\n",
        "\n",
        "key = 'ICE'\n",
        "print(Encrypt(text, key).hex())\n"
      ],
      "metadata": {
        "colab": {
          "base_uri": "https://localhost:8080/"
        },
        "id": "U7NkCqwxESH-",
        "outputId": "6b71ceed-f363-40a1-a35d-df95ad740b38"
      },
      "execution_count": 9,
      "outputs": [
        {
          "output_type": "stream",
          "name": "stdout",
          "text": [
            "0b3637272a2b2e63622c2e69692a23693a2a3c6324202d623d63343c2a26226324272765272a282b2f20430a652e2c652a3124333a653e2b2027630c692b20283165286326302e27282f\n"
          ]
        }
      ]
    },
    {
      "cell_type": "markdown",
      "source": [
        "Challenge 6"
      ],
      "metadata": {
        "id": "3Nv7GmeVHoJK"
      }
    },
    {
      "cell_type": "code",
      "source": [
        "text_list = GetTxt(\"https://cryptopals.com/static/challenge-data/6.txt\")"
      ],
      "metadata": {
        "id": "h_r6y43SHrCH"
      },
      "execution_count": 10,
      "outputs": []
    },
    {
      "cell_type": "code",
      "source": [
        "text = \"\".join(text_list)\n",
        "text = base64.b64decode(text)\n",
        "\n",
        "print(text)\n",
        "print(len(text))"
      ],
      "metadata": {
        "colab": {
          "base_uri": "https://localhost:8080/"
        },
        "id": "JEYx1gNA5uXr",
        "outputId": "170f0fb6-6484-4f40-a72c-d02006e75224"
      },
      "execution_count": 11,
      "outputs": [
        {
          "output_type": "stream",
          "name": "stdout",
          "text": [
            "b'\\x1dB\\x1fM\\x0b\\x0f\\x02\\x1fO\\x13N<\\x1aie\\x1fI\\x1c\\x0eN\\x13\\x01\\x0b\\x07N\\x1b\\x01\\x16E6\\x00\\x1e\\x01Id T\\x1d\\x1dC3SNeR\\x06\\x00GT\\x1c\\rEM\\x07\\x04\\x0cS\\x12<\\x0c\\x1e\\x08I\\x1a\\t\\x11O\\x14L!\\x1aG+\\x00\\x05\\x1dGY\\x11\\x04\\t\\x00d&\\x07S\\x007\\x16\\x06\\x0c\\x1a\\x17A\\x1d\\x01RT0_\\x00 \\x13\\n\\x05GO\\x12H\\x08ENe>\\x16\\t8E\\x06\\x05\\x08\\x1aF\\x07O\\x1fYx~jb6\\x0c\\x1d\\x0fA\\rH\\x06U\\x1a\\x1b\\x00\\x1dBt\\x04\\x1e\\x01I\\x1a\\t\\x11\\x02Rz\\x7fI\\x00H:\\x00\\x1a\\x13I\\x1aOEH\\x0f\\x1d\\rS\\x04:\\x01R\\x19\\x01\\x0bA\\x13\\x06\\x00L1_Sb\\x15\\x06\\x07\\t\\x07T\\x0b\\x17A\\x14\\x16Iy35\\x0b\\x1b\\x01\\x05\\x0fF\\x07O\\x1dNxNH\\'R\\x04\\x07\\x0cEXH\\x08A\\x00O T\\x08t\\x0b\\x1d\\x19I\\x02\\x00\\x0e\\x16\\\\\\x00R0ie\\x1fI\\x02\\x02T\\x00\\x01\\x0b\\x07N\\x02\\x10S\\x01&\\x10\\x15M\\x02\\x07\\x02\\x1fO\\x1bNx0i6R\\n\\x01\\tT\\x06\\x07\\tSN\\x02\\x10S\\x08;\\x10\\x06\\x05I\\x0f\\x0f\\x10O;\\x00:_G+\\x1cId3OT\\x02\\x10S\\x1aO\\x05\\x16\\x11t\\x0c\\x06M\\x0f\\x02\\x0e\\x03CRL=N\\x00/\\x0bI\\r\\x08N\\x17\\r\\x15T\\x1dO\\x0e\\x1cE^(\\x0bM\\x19\\x01\\x12\\x07\\nUSxNOb\\x06\\x01\\x0bGS\\x1d\\x0c\\x00\\x00\\x17\\n\\x05\\x1f\\x0c:B^M.\\x01A\"\\x0e\\x1cI4VAb5\\x06OG*~;\\x08O\\x01\\x1b\\x01SB7\\x04\\x07\\x1e\\x0cN\\x15\\x1c\\x0e\\x06\\x07+\\x1aT*\\x17I\\x19\\x06YT!EW\\x07\\x03\\x05S\\x071Ex,\\x07\\nA\\x1d\\tRY7O\\x00&\\x1d\\x07I\\x13\\x00\\x13\\x01\\x13EN\\x0eI\\x17\\x049\\x0b^M\\x1d\\x06\\x04\\x1aOxw0C\\x00;\\x1d\\x1cN\\x14T\\x15\\x1a\\x0cNIO\\x08\\x07E9\\x00Rg:\\x01A\\x13\\n\\x06\\x007\\\\FbU\\n\\x0f\\x12S\\x11H,\\x00\\r\\x00\\x07\\x07\\x17;\\tR\\x19\\x01\\x0bA\\x07\\x1b\\x13G=\\x1a*\\x16\\x1a\\x0c\\x1c\\x02\\x07\\x07H\\x0bON\\x0b\\x00\\x00\\x16=\\x0bUM\\x08\\x02\\r\\x1b\\x18\\x17Dx0ie\\x1fI\\x07\\t\\x00\\x19\\x11EO\\x19\\x01I\\x03\\r5\\x16\\x17Mc:\\t\\x11O\\x15I*VI\\'\\x01I\\x1d\\x06\\x00\\rH\\x11H\\x0b\\x16I\\x1f\\n\"\\x00R\\x00\\x0cN\\x00\\x1a\\x0bRT0[Tb\\x1b\\x1aN\\x08KTb$N\\nO S\\x065\\x0bR\\t\\x08\\x00\\x02\\x11O\\x10E,NE0R\\x1d\\x06\\x06NT\\t\\x0bYN\\x04\\x00\\x17E:BR\\x1d\\x05\\x0f\\x18Texs,[G\\'R[NJ\\rT1\\x00AN\\x1b\\x01\\x16E;\\x0b\\x17M\\x10\\x0fFT\\x18\\x13N6[\\x00.\\x1b\\x1a\\x1a\\x02NT\\x1c\\n\\x00d&\\x1dT\\x16t\\n\\x14\\x0bI\\x03\\x18T\\x07\\x17A<\\x1aS-R\\x05\\x0b\\x13\\x00\\x00\\x00\\x00\\x00\\x0c\\n\\x08\\x07E$\\t\\x13\\x14I\\x1a\\t\\x06\\x00\\x07G0\\x1a*\\x11\\x1dI\\'GC\\x15\\x06EF\\x1b\\x01\\x02S\\x0c E\\x07\\x1dI\\x0f\\x0f\\x10O\\x1fA3_\\x00+\\x06I\\x1d\\x08U\\x1a\\x0cEG\\x01\\x00\\rSoeH@@ZN8\\x1bO_\\rxqN-\\x11\\x02N\\x08NT\\x1b\\nM\\x0bO\\x1e\\x1c\\n0Ex+\\x06\\x1cA\\x13\\x00\\x1dDxVU!\\x19EN.\\x00\\x18\\x01\\x0eEN\\x02\\x10S\\x17<\\x1c\\x1f\\x08\\x1aN\\x00\\x00\\x1d\\x1dC1UU1Rc=\\x12P\\x11\\x1a\\x06A\\x02\\x0e\\x0f\\x01\\x043\\x0c\\x1e\\x04\\x1a\\x1a\\x08\\x17\\n\\nP1[L+\\x16\\x06\\r\\x0eO\\x01\\x1bE*\\'H\\x04S\\x04:E\\x17\\x0b\\x0f\\x0b\\x02\\x00O\\x13N<\\x1aT*\\x13\\x1dN\\x1eO\\x01H\\x06A\\x00O\\x0b\\x16\\x11to;M\\n\\x0f\\x0fT\\x1b\\x13K=\\x1aAb\\x14\\x05\\x17GG\\x1d\\x1a\\t\\x00\\x0f\\x01\\rS\\x085\\x0e\\x17M\\x01\\x0b\\x13T\\x18\\x17Tv\\x1a*H;N\\x03GL\\x1d\\x03\\x00\\x00=\\x0e\\x04\\x00\\n:E_@I=\\x00\\x19\\x1c\\x1dNxNOb6\\x0c\\x02\\x0eL\\x15\\x00E*:\\x07\\x0c\\x01\\x00s\\x16R\\x03\\x06N\\x05\\x11\\x01\\x0bI6\\x1d\\x0cb+\\x06\\x1bGC\\x15\\x06ET\\x1c\\x16I\\x07\\nt\\r\\x13\\x03\\x0eNk6\\x1a\\x06\\x00!UUe\\x1e\\x05N\\x0cE\\x11\\x18ET\\x1c\\x16\\x00\\x1dBt\\x11\\x1dM\\x0e\\x0b\\x15T\\x02\\x0b\\x00+NY.\\x17Id(V\\x11\\x1aEA\\x00\\x0bI\\x1c\\x131\\x17^M\\x19\\x1c\\x00\\x17\\x1b\\x1bC=\\x1aM#\\x19\\x0c\\x1dGP\\x11\\x1a\\x03E\\r\\x1bIy\\'!\\x11R\\x03\\x06\\x1aA\\x1d\\tRY7O\\x070\\x17I\\x0fGL\\x1b\\t\\x03E\\x1cAIyo\\r\\n\\x07J\\x05\\x02A\\x13\\n\\x06\\x006UW*\\x17\\x1b\\x0bK\\x00\\x1a\\x07EP\\x02\\x0e\\n\\x16It\\x0b\\x1dM\\x1d\\x07\\x0c\\x11CRN7\\x1aG+\\x00\\x05\\x1dG*\\'\\x07\\nNNBDS*<E\\x1f\\x14I)\\x0e\\x10CRH7WE \\x1d\\r\\x17K\\x00\\r\\x07\\x10\\x00\\x1e\\x1d\\x06\\x11\\x046\\t\\x0bM\\x0c\\x0f\\x15Te!P9]H\\'\\x06\\x1d\\x07GW\\x1d\\x1c\\r\\x00\\x0fO\\x1a\\x03\\n;\\x0bSM*\\x01\\x0c\\x11O\\x1dNx[N&R\\x1a\\x0f\\x1e\\x00\\x1d\\x1cD\\x00de?:5zE$\\x0c\\x07\\x07\\r\\x18\\x0eRi;_\\x00;\\x17\\x19BGY\\x11\\x18I\\x00\\'H\\x04S\\x06;\\x08\\x1b\\x03NN\\t\\x15\\x1d\\x16\\x004SK\\'R\\x08N\\x15H\\x1d\\x06\\n\\x00d&\\x07\\x07\\n,\\x0c\\x11\\x0c\\x1d\\x07\\x0f\\x13O\\x01OxCO7R\\x1a\\x1a\\x06G\\x13\\r\\x17\\x00\\x02\\x06\\x02\\x16E5E\\x05\\x04\\x07\\x01A~<\\x1d\\x00(ON)\\x01I\\x1d\\x13O\\x04H\\x11R\\x17\\x06\\x07\\x14E5\\x0b\\x16M\\x0e\\x07\\x13\\x18O\\x01T7J\\x00!\\x00\\x10\\x07\\t\\x07Tb3A\\x00\\x06\\x05\\x1f\\x04t,\\x11\\x08I\\x07\\x12T\\x1c\\x17L4SNeR\\x08\\x00\\x03\\x00\\r\\x07\\x10\\x00\\x1e\\n\\x06\\x03\\t1E\\x13\\x1f\\x0cN\\x03\\x01\\x16\\x1bN\\x7f\\x1a*e1\\x08\\x1b\\x14ET\\x1f\\rYN\\x1b\\x01\\x16E2\\x17\\x17\\x0c\\x02\\x1dA\\x15\\x1d\\x17\\x002UC)\\x1b\\x07IGL\\x1d\\x03\\x00\\x00-\\x1d\\x08\\t\\x1ct\"\\x1e\\x18\\x0cNk9\\x00\\x04I6\\x1d\\x00#\\x1c\\rN\\x00R\\x1b\\x07\\x13I\\x00HI\\x07\\x17-\\x0c\\x1c\\nI\\x1a\\x0eT\\x1c\\x1bN?\\x1aA.\\x1d\\x07\\tG*5\\x04\\t\\x00\\x1a\\x07\\x1b\\x1c\\x103\\rR\\x19\\x01\\x0bA\\x13\\x07\\x17T,U\\x00%\\x00\\x06\\x01\\x11I\\x1aOET\\x06\\x06\\x1aS\\r1\\x17\\x17M\\x1a\\x01\\x0f\\x13Oxn7M\\x00;\\x1d\\x1cI\\x15ET\\t\\x08A\\x14\\n\\rS\\x07-E\\x06\\x05\\x0cN7=?RP7IS\\'\\\\Idms\\x00\\r\\x15P\\x07\\x01NS\\x16;E\\x1a\\x0c\\x1b\\nA\\x18\\x06\\x19Ex[\\x00\\x05\\x17\\x1b\\x03\\x06NT&\\x04Z\\x07Oc \\x115\\x17\\x06\\x01\\x0c\\nA\\x16\\x16RT0_\\x00 \\x13\\x1a\\x0b\\x14\\x00\\x1c\\x01\\x11T\\x07\\x01NS\\x02&\\n\\x07\\x03\\rNk \\x07\\x17R=\\x1dSb\\x1c\\x06N\\x13R\\x1d\\x18\\x15I\\x00HI\\x1c\\x0bt\\x08\\x1b\\x03\\x0cBA=H\\x1f\\x002OS6R\\x0e\\x0b\\x13T\\x1d\\x06B\\x00\\n\\x00\\x1e\\x1dE^6\\x02\\x0c\\x1b\\x05\\x00\\x19\\x0e\\x06I;\\x16\\x00\\x0bU\\x04N\\x0fA\\x1a\\x0f\\x0cNIO\\x1d\\x1a\\x02<\\x11R\\x01\\x00\\x05\\x04T\\x0eRF9TA6\\x1b\\nNmy\\x1b\\x1dET\\x1c\\x0e\\x19\\x03\\x000E\\x1f\\x08I\\x01\\x0f\\x17\\nRA6^\\x00\\x0bR\\x1d\\x06\\x08U\\x13\\x00\\x11\\x00\\x1a\\x07\\x08\\x07E^<\\x1d\\x18I\\x03\\x08\\x13\\x07\\x06\\x000[V\\'R\\x00\\x1aG*\\'\\x07ES\\x1a\\n\\x19S\\x01;\\x12\\x1cM\\x08\\x00\\x05T\\x03\\x17N<\\x1aM\\'R\\x10\\x01\\x12RT\\r\\x04RNeNK\\\\t\\x0c\\x1cM\\x04\\x17A\\x00\\x06\\x1fEy\\x1ay-\\x07EN@\\x19DH\\x0cSN\\x02\\x10S\\x1c1\\x04\\x00CIdk-\\x00\\x07\\x07*_\\x005\\x17\\x08\\x05\\x02N\\x1d\\x06B\\x00\\x08\\x0e\\x1a\\x07It<=LI\\x0f\\x0f\\x10O;\\x00;[Nb\\x06\\x0c\\x02\\x0b\\x00\\x1d\\x1cE*7\\x00\\x1c\\x01E6\\n\\x16\\x14N\\x1dA\\x13\\n\\x06T1T\\x07b\\x1a\\x06\\x1aK\\x00\\x07\\x07I\\x00\\x1d\\x00I:E7\\x04\\x1cM\\x1a\\x03\\x04\\x18\\x03RI,\\x1a*\\x11\\x1dI\\n\\x08NS\\x1cEB\\x0bO\\x04\\x12\\x01t\\x04\\x1c\\tI\\n\\x0e\\x1aH\\x06\\x00:_\\x001\\x13\\rNm\\x077\\t\\x10S\\x0bO\\x1d\\x1b\\x00t\\t\\x0b\\x1f\\x00\\r\\x12T\\r\\x17L7TGb\\x06\\x06N.c1DEy\\x01\\x1aI\\x10\\x04:E\\x11\\x0c\\x05\\x02A\\x19\\nRd9^\\x00H+\\x06\\x1b@R\\x11H\\x15I\\x1a\\x0c\\x01\\x1a\\x0bsE\\x13M\\x0f\\x07\\x15XO\\x01OxIT\\'\\x02I\\x0c\\x06C\\x1fH\\x04N\\nO\\x0c\\x1d\\x01!\\x17\\x17Mc\"\\x04\\x00O\\x06H=\\x1aW+\\x06\\n\\x06GD\\x1b\\x0b\\x11O\\x1cCI:\\x061IR\\t\\x06N\\x15\\x1c\\nRD9TC\\'R\\x1d\\x01GC\\x01\\x1a\\x00\\x00d<\\x06S\\x06;\\x08\\x17M\\x1c\\x1eA\\x17\\x03\\x1dS=\\x1aA,\\x16I\\n\\x08NS\\x1cEB\\x0bO\\x1a\\x02\\x105\\x17\\x17Mc7\\x0e\\x01O\\x05A6TAb\\x10\\x08\\x1a\\x13L\\x11H\\x08ENBDS$:\\x1c\\x06\\x04\\x04\\x0bMT\\x0e\\x1cY/RE0\\x17Idmy\\x1b\\x1dET\\x06\\x00\\x1c\\x14\\r E\\x06\\x05\\x08\\x1aA=O\\x05A+\\x1aW\\'\\x13\\x02BGb\\x1b\\x11I\\x00\\x17\\x00\\x1cT\\x171E\\x16\\x08\\x08\\nA\\x03\\x1d\\x1dN?\\x1a*\\x11\\x1dI\\r\\x08M\\x11H\\nNBO\\x0c\\x05\\x00&\\x1c\\x10\\x02\\r\\x17A\\x15\\x01\\x16\\x00+SN%R\\x1d\\x06\\x0eST\\x1b\\nN\\tOcy65\\x1cR@DN1\\x18\\x0e\\x0b\\x00,RA6R\\x0f\\x1b\\tK\\rH\\x08U\\x1d\\x06\\nS65\\x1c^M\\x0e\\x01A\\x03\\x07\\x1bT=\\x1aB-\\x0bEN\\x00OT\\x1f\\rI\\x1a\\nI\\x11\\n-E\\x15\\x02Id\\x11\\x18\\x0e\\x0b\\x00,RA6R\\x0f\\x1b\\tK\\rH\\x08U\\x1d\\x06\\nS\";E\\x05\\x05\\x00\\x1a\\x04T\\r\\x1dYt\\x1aG-R\\x1e\\x06\\x0eT\\x11H\\x07O\\x17CI\\x14\\nto>\\x0c\\x10N\\x05\\x1b\\x18\\x1c\\x009TDb\\x10\\x06\\x01\\x00I\\x11H\\x04N\\nO\\x19\\x1f\\x04-E\\x06\\x05\\x08\\x1aA\\x12\\x1a\\x1cK!\\x1aM7\\x01\\x00\\rGT\\x1d\\x04\\t\\x00\\x17\\x00\\x1cS\\x01=\\x00\\\\Mcd1\\x18\\x0e\\x0b\\x00,RA6R\\x0f\\x1b\\tK\\rH\\x08U\\x1d\\x06\\nS&;\\x08\\x17M\\x06\\x00MT,\\x1dM=\\x1aO,^I\\x02\\x02TT\\x05\\x00\\x00\\x06\\n\\x08\\x01E^5\\x1e\\x0c\\x10N\\x15\\x1c\\x0e\\x06\\x00>ON)\\x0bI\\x03\\x12S\\x1d\\x0bEW\\x06\\x06\\x1d\\x16E6\\n\\x0bM\\x10\\x01\\x14T\\x1c\\x13YxSTnR\\x1a\\x0f\\x1e\\x00\\x1d\\x1cE*>\\x03\\x08\\nE \\r\\x13\\x19I\\x08\\x14\\x1a\\x04\\x0b\\x005OS+\\x11I/GL\\x1d\\x1c\\x11L\\x0bO\\x05\\x1c\\x100\\x00\\x00M\\x07\\x01\\x16Te\"L9C\\x006\\x1a\\x08\\x1aGF\\x01\\x06\\x0eYN\\x02\\x1c\\x00\\x0c7IR\\x1a\\x01\\x07\\x15\\x11O\\x10O!\\x1ac-\\x1f\\x0cN\\x08NXH&O\\x03\\nI\\x1c\\x0bxE1\\x02\\x04\\x0bA\\x1b\\x01R*\\x08VA;R\\x1d\\x06\\x06TT\\x0e\\x10N\\x05\\x16I\\x1e\\x10\\'\\x0c\\x11Mc'\n",
            "2876\n"
          ]
        }
      ]
    },
    {
      "cell_type": "code",
      "source": [
        "test_Normalized = defaultdict(list)\n",
        "Normalized_list = dict()\n",
        "for keysize in range(2, 41):\n",
        "  block_list = []\n",
        "  for i in range(int(len(text)/keysize) + 1):\n",
        "    block_list += [text[keysize*i:keysize*(i+1)]]\n",
        "  \n",
        "  distance_list = []\n",
        "  for i in range(len(block_list) - 1):\n",
        "    distance_list += [HammingDistance(block_list[i],block_list[i+1])]\n",
        "  Normalized_list[keysize] = sum(distance_list)/len(distance_list)/keysize\n",
        "\n",
        "  \n",
        "  for i in range(2, len(distance_list) + 1):\n",
        "    test_distance_list = distance_list[:i]\n",
        "    test_Normalized[i] += [(keysize, sum(test_distance_list)/len(test_distance_list)/keysize)]\n",
        "\n",
        "max_chunk = int(len(text) / 40) + 1\n",
        "for chunk, normalized_list in test_Normalized.items():\n",
        "  if chunk > max_chunk:\n",
        "    break\n",
        "  print(f\"for using {chunk} chunk, best 5 scores are : {sorted(normalized_list, key=lambda x:x[1])[:5]}\")\n",
        "\n",
        "print(*sorted(Normalized_list.items(), key=lambda x:x[1])[:10], sep='\\n')\n",
        "candidate_keysize_list = [x[0] for x in sorted(Normalized_list.items(), key=lambda x:x[1])[:10]]\n",
        "\n",
        "transpose_block_dict = dict()\n",
        "for keysize in candidate_keysize_list:\n",
        "  block_list = []\n",
        "  for i in range(keysize):\n",
        "    block_list += [text[i::keysize]]\n",
        "  transpose_block_dict[keysize] = block_list\n",
        "\n",
        "print(transpose_block_dict)\n",
        "for keysize, transpose_block_list in transpose_block_dict.items():\n",
        "  decrypt_list = []\n",
        "  for index, transpose_block in enumerate(transpose_block_list):\n",
        "    score, _, key = TryDecrypt(transpose_block)\n",
        "    decrypt_list.append((index, (score, key)))\n",
        "  #print(decrypt_list)\n",
        "\n",
        "  key = \"\".join([chr(x[1][1]) for x in decrypt_list])\n",
        "  if all([x in string.printable for x in key]):\n",
        "    print(f\"key: {key}\")"
      ],
      "metadata": {
        "colab": {
          "base_uri": "https://localhost:8080/"
        },
        "id": "D9KTX2D-KaAC",
        "outputId": "ef91ed12-3332-4836-f02f-709fccabfe20"
      },
      "execution_count": 13,
      "outputs": [
        {
          "output_type": "stream",
          "name": "stdout",
          "text": [
            "for using 2 chunk, best 5 scores are : [(2, 2.25), (5, 2.3), (3, 2.3333333333333335), (18, 2.8333333333333335), (20, 2.85)]\n",
            "for using 3 chunk, best 5 scores are : [(2, 2.0), (3, 2.6666666666666665), (29, 2.793103448275862), (5, 2.8), (18, 2.9444444444444446)]\n",
            "for using 4 chunk, best 5 scores are : [(2, 2.25), (5, 2.6), (29, 2.8189655172413794), (3, 2.8333333333333335), (18, 3.0555555555555554)]\n",
            "for using 5 chunk, best 5 scores are : [(2, 2.4), (5, 2.52), (3, 2.8000000000000003), (29, 2.8344827586206898), (31, 3.0258064516129033)]\n",
            "for using 6 chunk, best 5 scores are : [(2, 2.5833333333333335), (5, 2.7), (3, 2.8333333333333335), (29, 2.8563218390804597), (18, 3.0185185185185186)]\n",
            "for using 7 chunk, best 5 scores are : [(5, 2.7142857142857144), (29, 2.8226600985221677), (3, 2.857142857142857), (15, 2.99047619047619), (18, 3.0238095238095237)]\n",
            "for using 8 chunk, best 5 scores are : [(5, 2.775), (29, 2.8189655172413794), (3, 2.8333333333333335), (2, 3.0), (15, 3.0833333333333335)]\n",
            "for using 9 chunk, best 5 scores are : [(29, 2.739463601532567), (5, 2.844444444444444), (3, 3.0), (15, 3.051851851851852), (2, 3.0555555555555554)]\n",
            "for using 10 chunk, best 5 scores are : [(29, 2.7586206896551726), (5, 2.84), (15, 2.9866666666666664), (31, 3.103225806451613), (9, 3.1222222222222222)]\n",
            "for using 11 chunk, best 5 scores are : [(29, 2.7460815047021945), (5, 2.8727272727272726), (15, 2.987878787878788), (31, 3.087976539589443), (2, 3.090909090909091)]\n",
            "for using 12 chunk, best 5 scores are : [(29, 2.7413793103448274), (5, 2.916666666666667), (15, 3.0055555555555555), (31, 3.0698924731182795), (2, 3.0833333333333335)]\n",
            "for using 13 chunk, best 5 scores are : [(29, 2.742705570291777), (5, 2.9846153846153847), (15, 2.9948717948717944), (31, 3.0843672456575684), (40, 3.1192307692307693)]\n",
            "for using 14 chunk, best 5 scores are : [(29, 2.7610837438423643), (5, 2.9857142857142858), (15, 3.019047619047619), (2, 3.0357142857142856), (31, 3.0944700460829493)]\n",
            "for using 15 chunk, best 5 scores are : [(29, 2.7724137931034485), (5, 2.92), (2, 3.0), (15, 3.0266666666666664), (31, 3.1118279569892473)]\n",
            "for using 16 chunk, best 5 scores are : [(29, 2.7672413793103448), (5, 2.9625), (2, 3.0), (15, 3.033333333333333), (31, 3.1330645161290325)]\n",
            "for using 17 chunk, best 5 scores are : [(29, 2.7768762677484786), (5, 2.9176470588235293), (15, 3.015686274509804), (2, 3.0588235294117645), (31, 3.132827324478179)]\n",
            "for using 18 chunk, best 5 scores are : [(29, 2.7739463601532566), (5, 2.966666666666667), (15, 3.003703703703704), (2, 3.0833333333333335), (31, 3.14336917562724)]\n",
            "for using 19 chunk, best 5 scores are : [(29, 2.7749546279491835), (5, 2.957894736842105), (15, 2.9964912280701754), (2, 3.1315789473684212), (31, 3.134125636672326)]\n",
            "for using 20 chunk, best 5 scores are : [(29, 2.7603448275862066), (5, 2.98), (15, 3.003333333333333), (2, 3.1), (40, 3.1425)]\n",
            "for using 21 chunk, best 5 scores are : [(29, 2.7881773399014778), (5, 2.9904761904761905), (15, 3.0349206349206352), (3, 3.079365079365079), (25, 3.1276190476190475)]\n",
            "for using 22 chunk, best 5 scores are : [(29, 2.7774294670846396), (5, 3.009090909090909), (15, 3.0575757575757576), (9, 3.090909090909091), (3, 3.1363636363636362)]\n",
            "for using 23 chunk, best 5 scores are : [(29, 2.7556221889055474), (5, 3.008695652173913), (15, 3.0579710144927534), (9, 3.120772946859903), (40, 3.141304347826087)]\n",
            "for using 24 chunk, best 5 scores are : [(29, 2.755747126436782), (5, 2.958333333333333), (15, 3.0527777777777776), (9, 3.0833333333333335), (3, 3.125)]\n",
            "for using 25 chunk, best 5 scores are : [(29, 2.7600000000000002), (5, 3.0), (15, 3.0773333333333333), (9, 3.088888888888889), (40, 3.143)]\n",
            "for using 26 chunk, best 5 scores are : [(29, 2.7599469496021216), (5, 3.0692307692307694), (9, 3.0854700854700856), (15, 3.08974358974359), (3, 3.128205128205128)]\n",
            "for using 27 chunk, best 5 scores are : [(29, 2.749680715197957), (15, 3.0864197530864197), (5, 3.088888888888889), (9, 3.1069958847736623), (3, 3.123456790123457)]\n",
            "for using 28 chunk, best 5 scores are : [(29, 2.769704433497537), (15, 3.0833333333333335), (5, 3.107142857142857), (9, 3.107142857142857), (20, 3.1339285714285716)]\n",
            "for using 29 chunk, best 5 scores are : [(29, 2.7776456599286563), (15, 3.0873563218390805), (9, 3.099616858237548), (3, 3.1149425287356323), (20, 3.136206896551724)]\n",
            "for using 30 chunk, best 5 scores are : [(29, 2.7770114942528736), (15, 3.0955555555555554), (3, 3.111111111111111), (20, 3.1350000000000002), (9, 3.1370370370370373)]\n",
            "for using 31 chunk, best 5 scores are : [(29, 2.7697441601779755), (15, 3.109677419354839), (3, 3.1182795698924735), (9, 3.1362007168458783), (20, 3.1370967741935485)]\n",
            "for using 32 chunk, best 5 scores are : [(29, 2.7683189655172415), (15, 3.1), (3, 3.1145833333333335), (20, 3.1328125), (5, 3.14375)]\n",
            "for using 33 chunk, best 5 scores are : [(29, 2.762800417972832), (3, 3.0909090909090913), (15, 3.098989898989899), (20, 3.1378787878787877), (9, 3.148148148148148)]\n",
            "for using 34 chunk, best 5 scores are : [(29, 2.7505070993914806), (3, 3.0784313725490193), (15, 3.103921568627451), (20, 3.1529411764705886), (2, 3.161764705882353)]\n",
            "for using 35 chunk, best 5 scores are : [(29, 2.742857142857143), (3, 3.085714285714286), (15, 3.1085714285714285), (20, 3.1614285714285715), (9, 3.165079365079365)]\n",
            "for using 36 chunk, best 5 scores are : [(29, 2.746168582375479), (15, 3.111111111111111), (3, 3.1203703703703702), (5, 3.155555555555556), (20, 3.161111111111111)]\n",
            "for using 37 chunk, best 5 scores are : [(29, 2.7381174277726), (15, 3.1045045045045043), (3, 3.1531531531531534), (9, 3.159159159159159), (20, 3.1594594594594594)]\n",
            "for using 38 chunk, best 5 scores are : [(29, 2.7295825771324864), (15, 3.1105263157894734), (3, 3.149122807017544), (20, 3.155263157894737), (9, 3.1578947368421053)]\n",
            "for using 39 chunk, best 5 scores are : [(29, 2.725022104332449), (15, 3.111111111111111), (5, 3.1487179487179486), (20, 3.1564102564102567), (40, 3.161538461538462)]\n",
            "for using 40 chunk, best 5 scores are : [(29, 2.7120689655172416), (15, 3.1116666666666664), (9, 3.1527777777777777), (5, 3.1550000000000002), (20, 3.1662500000000002)]\n",
            "for using 41 chunk, best 5 scores are : [(29, 2.712363330529857), (15, 3.1138211382113825), (40, 3.1591463414634147), (11, 3.1596452328159645), (9, 3.159891598915989)]\n",
            "for using 42 chunk, best 5 scores are : [(29, 2.7183908045977008), (15, 3.107936507936508), (11, 3.1515151515151514), (20, 3.1595238095238094), (40, 3.1648809523809525)]\n",
            "for using 43 chunk, best 5 scores are : [(29, 2.709703287890938), (15, 3.128682170542636), (11, 3.1585623678646937), (40, 3.161627906976744), (13, 3.1645796064400713)]\n",
            "for using 44 chunk, best 5 scores are : [(29, 2.7100313479623823), (15, 3.1242424242424245), (40, 3.15), (38, 3.1638755980861246), (13, 3.164335664335664)]\n",
            "for using 45 chunk, best 5 scores are : [(29, 2.7088122605363987), (15, 3.1288888888888886), (40, 3.1494444444444443), (33, 3.160942760942761), (20, 3.163333333333333)]\n",
            "for using 46 chunk, best 5 scores are : [(29, 2.7166416791604195), (15, 3.1231884057971016), (40, 3.1527173913043476), (13, 3.1538461538461537), (20, 3.157608695652174)]\n",
            "for using 47 chunk, best 5 scores are : [(29, 2.7204695524578137), (15, 3.129078014184397), (13, 3.1407528641571196), (40, 3.150531914893617), (20, 3.154255319148936)]\n",
            "for using 48 chunk, best 5 scores are : [(29, 2.7183908045977008), (15, 3.1347222222222224), (13, 3.1458333333333335), (40, 3.1484375), (38, 3.150219298245614)]\n",
            "for using 49 chunk, best 5 scores are : [(29, 2.7178043631245603), (15, 3.136054421768707), (40, 3.14234693877551), (38, 3.1471535982814176), (20, 3.154081632653061)]\n",
            "for using 50 chunk, best 5 scores are : [(29, 2.716551724137931), (15, 3.136), (40, 3.1454999999999997), (38, 3.1473684210526316), (20, 3.153)]\n",
            "for using 51 chunk, best 5 scores are : [(29, 2.7173766058147395), (15, 3.1359477124183006), (38, 3.146542827657379), (40, 3.1480392156862744), (33, 3.1592394533571)]\n",
            "for using 52 chunk, best 5 scores are : [(29, 2.718832891246684), (15, 3.137179487179487), (38, 3.1482793522267207), (40, 3.151923076923077), (20, 3.1596153846153845)]\n",
            "for using 53 chunk, best 5 scores are : [(29, 2.726740403383214), (15, 3.138364779874214), (38, 3.1469712015888778), (40, 3.1490566037735848), (20, 3.1575471698113207)]\n",
            "for using 54 chunk, best 5 scores are : [(29, 2.7292464878671776), (15, 3.1432098765432097), (38, 3.1437621832358675), (40, 3.153703703703704), (20, 3.1546296296296297)]\n",
            "for using 55 chunk, best 5 scores are : [(29, 2.7373040752351097), (38, 3.1377990430622007), (15, 3.138181818181818), (40, 3.1554545454545453), (13, 3.1594405594405592)]\n",
            "for using 56 chunk, best 5 scores are : [(29, 2.7438423645320196), (15, 3.138095238095238), (38, 3.139567669172932), (40, 3.1558035714285717), (25, 3.16)]\n",
            "for using 57 chunk, best 5 scores are : [(29, 2.7428917120387175), (15, 3.127485380116959), (38, 3.1398891966759), (40, 3.1535087719298245), (13, 3.1551956815114712)]\n",
            "for using 58 chunk, best 5 scores are : [(29, 2.7449464922711058), (15, 3.1241379310344826), (38, 3.1374773139745913), (13, 3.1485411140583555), (40, 3.1612068965517244)]\n",
            "for using 59 chunk, best 5 scores are : [(29, 2.753945061367621), (15, 3.134463276836158), (38, 3.1378233719892954), (13, 3.14993481095176), (25, 3.160677966101695)]\n",
            "for using 60 chunk, best 5 scores are : [(29, 2.7477011494252874), (38, 3.131140350877193), (15, 3.143333333333333), (13, 3.1474358974358974), (25, 3.16)]\n",
            "for using 61 chunk, best 5 scores are : [(29, 2.7467495760316565), (38, 3.1354616048317516), (15, 3.1366120218579234), (13, 3.1437578814627996), (25, 3.1606557377049183)]\n",
            "for using 62 chunk, best 5 scores are : [(29, 2.7424916573971077), (15, 3.1333333333333333), (38, 3.138370118845501), (13, 3.146401985111663), (20, 3.161290322580645)]\n",
            "for using 63 chunk, best 5 scores are : [(29, 2.75095785440613), (15, 3.1312169312169313), (38, 3.142021720969089), (13, 3.1514041514041513), (20, 3.1626984126984126)]\n",
            "for using 64 chunk, best 5 scores are : [(29, 2.746228448275862), (15, 3.13125), (38, 3.1467927631578947), (13, 3.15625), (20, 3.1609375)]\n",
            "for using 65 chunk, best 5 scores are : [(29, 2.743766578249337), (15, 3.132307692307692), (38, 3.1502024291497976), (20, 3.161538461538462), (13, 3.1633136094674557)]\n",
            "for using 66 chunk, best 5 scores are : [(29, 2.74294670846395), (15, 3.1333333333333333), (38, 3.1547049441786283), (13, 3.1585081585081585), (20, 3.1704545454545454)]\n",
            "for using 67 chunk, best 5 scores are : [(29, 2.7447246525990736), (15, 3.1323383084577117), (38, 3.154752553024352), (13, 3.1584385763490244), (25, 3.1725373134328354)]\n",
            "for using 68 chunk, best 5 scores are : [(29, 2.7413793103448274), (15, 3.1401960784313725), (38, 3.1524767801857587), (13, 3.164027149321267), (25, 3.1694117647058824)]\n",
            "for using 69 chunk, best 5 scores are : [(29, 2.747626186906547), (15, 3.1352657004830915), (38, 3.150266971777269), (13, 3.1560758082497213), (11, 3.164690382081686)]\n",
            "for using 70 chunk, best 5 scores are : [(29, 2.7517241379310344), (15, 3.1285714285714286), (38, 3.1477443609022555), (13, 3.161538461538462), (11, 3.164935064935065)]\n",
            "for using 71 chunk, best 5 scores are : [(29, 2.749878581835843), (15, 3.1352112676056336), (38, 3.1508524833209783), (13, 3.1560130010834233), (11, 3.1626120358514727)]\n",
            "for using 72 chunk, best 5 scores are : [(29, 2.755747126436782), (15, 3.1472222222222226), (38, 3.1487573099415203), (13, 3.161324786324786), (11, 3.1628787878787876)]\n",
            "(29, 2.7384186694531523)\n",
            "(38, 3.141754385964912)\n",
            "(13, 3.1541942220675256)\n",
            "(9, 3.1598746081504703)\n",
            "(16, 3.160963687150838)\n",
            "(25, 3.1655652173913045)\n",
            "(22, 3.168531468531469)\n",
            "(15, 3.1713787085514835)\n",
            "(33, 3.175548589341693)\n",
            "(40, 3.176056338028169)\n",
            "{29: [b'\\x1d6<78t:5t&;t^:7199;=5\"5:;t$ e0<3:t5:stt1!\\rt<6;z;,55t12t-31-;5&t^<0^;t1t67tt:s!1;5: 1&55-;t-=;^6 07x\\'', b'B\\x00\\x0c\\x16E\\x04\\x01\\x0b\\x0b\\x10\\x10\\x0c(B\\x04E\\x0b\\x00\\t\\x0b\\x16\\x00\\x0bB\\x0b\\n\\tEHE\\x1c\\x0cEo\\x0eE\\x16\\r\\x11\\x17\\x11\\n\\x0bE\\t\\x0bE\\x08\\x0cE\\x0b,E\\x17\"\\x0c\\r\\x17EE\\x17\\n\\x086\\x11E<\\x12\\x0c\\x04<\\n\\x04\\x04\\tEE\\x17I\\x08\\x17\\x1cEE\\x1c\\x1c\\x1cEEoE\\x00\\x085\\n\\r\\x00IE\\x0c', b'\\x1f\\x1e\\x1e\\x06\\x06\\x1eR\\x1b\\x1d\\x15\\x06\\x06\\x0b^\\x07x^RRU\\x17RRR\\x17\\x14\\x13\\x07@x\\x1f\\x1e\\x17;\\x17_R\\x13\\x1d^R\\x07\\x1d\\x1f\\x0bS$\\x1b\\x11\\x05\\x16\\x11\\x13\\x17\\x1e\\x1cR\\x17\\x06\\x1a\\x06\\x07\\x1b\\x02R\\x1f\\x1d\\x1c\\x1c\\x00=\\x16\\x1c\\x1c\\x0b\\x11\\x13\\x17R\\x17\\x17\\x06\\x06\\x16\\x10R^\\x15\\x05>\\x06\\\\\\x17\\x1e\\x0b\\x13\\x00R1\\x11', b'M\\x01\\x08\\x0c\\x05\\x01\\x19\\x01\\x19M\\x05MMM\\x1e,Mg\\x19MM\\x00\\t\\x1dM\\x0b\\x14\\x1d@+\\x08\\x04\\x0bMM@\\x03\\x03MM\\x03JM\\x14MM\\x0c\\x03\\x0c\\x04M\\x08\\x1f\\x0c\\x18\\n\\x19M\\x05\\x0c\\x01\\x03\\x03\\x0c\\x01\\x08\\x18MMCL\\x14M\\t\\x1f\\x0cMM\\tMM\\x04\\x05\\x08\\x02@M\\x02\\x05\\x0c\\x05MM\\x0cM\\x19M\\x1a\\x02M', b'\\x0bII\\x1a\\x08I\\x01\\x05I\\x02I\\x0f\\x19.\\x0c\\x07\\x1d:\\x01\\x08c\\x0c\\x08\\x05\\x10IIIZ\\x06\\x1a\\x1a\\x0f\\n\\x01I\\x06\\x0e\\x0e\\x19\\x06\\x05\\x1dI\\x0c*\\x07N\\x1d\\x07\\x0eI\\x0c\\x02\\x0cI\\x01\\x1a\\x0c\\x1b\\x0c\\r\\x0c\\x1b\\x00II\\x08\\x04IIN\\x1aI\\x00\\x05\\x0fc\\x06\\x1cc\\x04\\x08\\x08\\rD\\x0eI\\x00\\x10\\x08c\\x06\\x10\\x10I\\x07\\x01\\x04c', b'\\x0fd\\x1a\\x17\\x1a\\x1a\\x0b\\x0f\\x02\\x07\\x0f\\x02\\x01\\x01N\\n\\x06\\x01\\x0b\\x02:N\\x00\\x0f\\x0f\\x03\\x1a\\x0fN\\x1cN\\x1a\\x0b\\x0f\\x0b=NN\\x0b\\x1c\\x1a\\x02\\x07)\\x0f\\x01\\x07N\\x07\\x01\\x07\\x07N\\x1dN\\x1a\\x0b\\x01N\\n\\nNB\\x05\\x05\\x01\\x03\\x00\\x17d\\x0f\\x1d\\x03\\n\\r\\x02\\x07\"N\\x1e7\\x0b\\x1a\\n\\x17N\\x01d\\x1aN\\x1ad\\x00N\\x01\\x08\\x01\\x07\\x0b', b'\\x02 \\tAF\\tAF\\x00\\x02\\x0f\\x0e\\x12A\\x15A\\x04AA\\r\\t\\x00\\x02\\x18F\\x18\\t\\x0f8A\\x00\\x08\\x02\\x0f\\x13\\x00\\x05k\\x15\\x00AA\\x0c\\x0e\\x15\\x0c\\r\\t\\x0fA\\x13\\x12\\x03Ak\\x0eA\\x0f7AAkA\\x00\\x04\\x0f\\x08\\x05Ak\\x0fA\\x04\\x0e\\x12A\\x15\\x04\\x15A\\x0eMAAA1A\\x11\\x04\\x05A1M\\x15\\x14\\x14\\x16\\x15A', b'\\x1fT\\x11\\x1d\\x07\\x11\\x13\\x07\\x0e\\x1f\\x10\\x03\\x07\"\\x1c\\x1d\\x1a\\x13\\x07\\x1b\\x11\\x1a\\x11TTT\\x06\\x10\\x1b\\x13\\x00\\x17\\x00TT\\x19\\x116T\\x17\\x1d\\x13\\x11\\x10T\\x11\\x18\\x15\\x13~\\x18T\\x01\\x159T\\x13\\x13=\\x18\\x16 =\\x19T\\x17\\x13T\\x00-\\x10\\x13\\x18\\x1aT\\x19X\\x00\\x1c\\x17\\x01T=\\x03\\x15\\x18\\x03\\x18T\\x1b\\x12\\x18T\\x1cT\\x1aT\\x11\\x1b', b'O\\x1dO\\x01O\\x02\\x06O\\x16OOC\\n\\x0e\\x0e\\tO\\n\\x1b\\x18O\\x0bOe\\x18\\x07\\x00OO\\x00\\x1d\\nO\\x1b\\x18\\x1c\\x01\\x1a\\x02\\x1b\\t\\nCCeO\\x0e\\x1dO<O\\x1c\\x16\\x1d\\x00\\x1c\\x07O?\\x06\\x16\\x07H\\x0e\\x0e\\n\\x07\\x03\\x06\\x00O\\n\\x03H\\r\\nOO\\n\\x03O\\x0eO\\x1d\\x01\\x0e\\x07\\x0e\\r\\x18\\x1a\\x0e,\\x0e\\x1c\\x04eO\\x01', b'\\x13\\x1d\\x14R\\x1fR\\x00\\x1d\\\\\\x1b;RU\\x1c\\x06Rx\\x06\\x13\\x17\\x15R\\x10x\\x13\\x17\\x07\\x1f_\\x1d\\x1d\\n\\x13\\x13\\x17\\x1d\\x0b\\x06\\x0b\\x1bR\\x06RR!\\x1dR\\x16\\x01\\x1d\\x01\\x17\\x1b\\x17\\x04\\x1b\\x17xR\\x19R\\x17\\x1f\\x06RR\\x06\\x17\\x1f\\x07;\\x06R\\x06\\x17R\\x01\\x06R\\x1d\\x05\\x1c\\x05\\x1d\\x16\\x0b\\x1b\\x0b\\x1d\\x1c\\x1c\\x0b\\x1d\\x06\\x13\\x0b\"\\x10R', b'NCLTYzLN\\x00N\\x00LSI\\x07Yw\\x00GDITEsNAGA\\rDCPNKTNI\\x00\\x00CY\\x00NHPNi\\x00O\\x00TLN\\x00INTnPETR\\x00IFA\\x00NE\\x07\\x00TI\\x00LdOHDSAYAN\\x00\\x00T\\x00Y\\x00K\\x00M\\x00Y\\x00LO*', b'<3!0x\\x7f1xRx:=x4+707=x*0,,6<03xx11<=vx6!+=76779x;4x(74\\x7f26?,77x0=2;960<y*;1,:79x=9=6/+?+,=,t9!,=>x59!\\x08', b'\\x1aS\\x1a_~I_N00_NNV\\x1aOC\\\\\\x1a0V[N[[\\x1a\\x1a_qVU[\\x1a\\x1a\\x1aN\\x1dUN\\x1aOU\\x1aW][_SCOJS\\x1aU\\x1d\\x1aUMI[_\\x1dO\\x16T^[\\x1a\\x1a_[T\\x1a_T^I\\x1aT\\x1aTR\\x1a\\x1aSR\\x1aR\\x1aT\\x1aR\\x1aOSOC\\x1aV', b'iNG\\x00j\\x00SHiiG\\x00OAT\\x00\\x00F*iITEG\\x00S*\\x00NUULTA*O\\x0cUYM\\x07WGEHN\\x00KON\\x00N*C\\x00A\\x00\\x00S\\x00\\x00SS\\x00A\\x00VMy\\x00N\\x07*\\x00G\\x00TWCAAEW*NABAGDMAONTS\\x00cA', b\"ee+ bHb'e6+/bb*&;b\\x16e'b0'.-\\x11+-!1+*bHbbe.#0*+ '&;'7)!ee)#.%;'\\x05 b6\\x0b6\\x0b''-5bb\\x111bH'+',b0'\\x11%6-6-b76,)n+6-;\", b'\\x1fR\\x00\\x136:\\x15R\\x1fR\\x1c\\x0b\\x065\\x17\\x1d\\x1dU\\x1a\\x1f\\x01\\x1bRR\\x1bR\\x1d\\x06\\x11\\x19R\\x16\\x13\\x14;6+\\x1e\\x17\\x19\\x17\\x17\\x00\\x1d\\x06R\\x17RR\\x01\\x00R1\\x1b\\x1c\\x1d\\x00\\x1d\\\\\\x17\\x13\\x1cRU\\x1bRRR\\x07\\x17\\x06\\x1a\\x1d\\x13\\x06+\\x02\\x06R\\x16\\x10\\x17\\x13\\x1dRR\\x0bRR\\x10\\x01R^\\x0bR\\x11\\x1a\\x1fR', b'I\\x06\\x05\\n\\x0c\\x00\\x06\\x04I\\nII\\x01\\x06I\\x07\\x1c\\n\\x0cII\\x1a\\x1d[\\x1a\\x05II\\x02Ec\\x06\\x1d\\x05N\\x0c\\x06\\x05I\\x0cI\\x1b\\x05\\r\\x1d\\x1a\\x19\\x08\\x1aI\\x10\\x08\\x08\\x07\\r\\x07\\x06\\x1cI\\x1b\\x1a\\x06\\x0e\\x04\\n\\x1d\\x00\\x10E\\x08\\x0c\\x06I\\r\\x06\\x06I\\n\\x1dI\\x08I\\x02I\\x1d\\x0fE\\x0f\\x1e\\x06\\x00\\x0fII\\x1aI\\x08\\x0c\\x1d', b\"\\x1c\\x00\\x1d\\x05\\x1d\\x1a\\x07\\x07\\x02\\x01d\\r\\x0bO\\x19IN\\x0f\\x1c\\x07\\x1dN\\x06N\\x1a\\x0b'\\x1dNN=\\rN\\x17\\x03\\x02\\x1bNd\\x1d\\x0f\\x0b\\x1d\\x17\\x07\\x0fBN\\x1a\\x1d\\x07\\x00\\x1bIN\\t\\x01Id\\x03\\x0bN\\x0bNN\\x06\\x1a\\x01N\\x05\\x02\\x1a\\nNN\\x1b\\x0c\\x06\\x01\\n\\x1adB\\r\\x06\\x1bN\\x1b\\x06\\x01\\r\\x1b\\x02\\x03\\x0f/\\x1aN\\x06\", b'\\x0eGGG\\x0f\\x13\\t\\x0c\\x02\\t3\\x08GG\\x06\\x13\\x14\\x12\\x02\\t\\x06\\x08\\x06J\\x02\\x13G\\x08\\x08.\\x12\\x0e\\x1eGG\\x0eG\\x0c(GGKGKG\\x1eG\\x15\\x06\\x13\\t\\x03\\x14G\\x00G\\x11\\x15m\\x06\\x14\\x13\\x13\\x0fm\\x08G\\x12@\\x02\\x0bK\\x08m.@\\x06GG\\x08\\x13mG\\x08\\x0e\\t\\x00\\t\\x0e\\x00G\\t\\x02\\x12\\x1eGG\\x08\\x06', b'NTYOAI\\x07ETTONS*Y\\x00TS\\x07\\x00\\x00KN\\rN\\x00CUN\\x00POOGLLCEVPL\\x00*\\x00W\\x00YHGO\\x07\\x00ELR*IEsN\\x00RTAyU*R\\x19N\\x00\\x00N\\x07cRCDCNLybMSKOKTITKTS\\x00LFNT', b\"\\x13\\x1c\\x11\\x12\\r\\x1aTX\\x00\\x06T\\x17\\x1d~T\\x13\\x15\\x11\\x07\\x19\\rTTTT\\x00\\x15\\x1aT\\x18\\x11\\x01\\x01\\x1d\\x1d\\x15\\x15\\x11\\x11\\x11\\x1b\\x1a'\\r\\x1d\\x1d\\x11\\x1d\\x13\\x04T\\rT\\x1d\\x1b5\\x1aT\\x00T\\x1c\\x1d\\x1d\\x1a\\x1b\\x13'TD\\x1d\\x1d\\x07S71\\x11\\x1f\\x1b\\x01S\\x11\\x1b\\x1b\\x11T\\rT\\r\\x11\\x11\\x1d\\rT\\x1d\\x1d\\x1d\\x01XT\", b'\\x01\\r\\x04HHO\\x0bH\\x01\\x07\\x02\\r\\x0c;!\\x01\\x1aHH\\x11Hb\\t1\\x1c\\x00\\x06\\x0c\\x1b\\x01\\x1a\\x1bH\\x1a\\x03\\x00\\x06\\x18\\x1a\\x1a\\t\\x07\\x07\\x07\\x1c\\x1c\\x18\\x06\\rHb\\x07\\x1f\\x03\\x07\\x04O\\t\\r&\\x01\\x18\\x06\\x0f\\x1d\\x00\\x07\\rH\\x06\\x1c\\x07\\x1c\\tDHH\\x0b\\x1a\\x1cH\\x1d\\x11H\\x1bH\\x1fHHH\\x04H\\x05\\x0b\\x1c\\x1c\\x06H\\x0e', b'\\x0bE\\t\\x08\\x06E\\x17\\x08\\x0b\\t\\x10\\x15\\x00\\x08E\\x13\\x0c,\\x0bE\\x11$\\x0b\\x00\\n\\x00EE\\n\\x0e\\x06E\\x06\\t\\x00EEEE\\x03\\x03E\\n\\x10\\rDI\\n\\x17\\x113\\x10\\r\\x00\\x13\\tE\\x08\\x15\\x04\\x11\\x15B\\x0cE\\x11E\\x04\\x0cBEIE\\x10E\\x15\\x04\\x11\\x00E\\x08EI\\n\\n\\x08\\r\\x08\\x07\\x04\\t\\x08\\x00EE\\x11\\x0e&\\x10', b'\\x07M\\x00EUHAA\\x07SST\\x00OWEN\\x00OOHNYA\\x00\\x00FGMEA*A\\x00\\x00*TTAEEPN\\x00\\x00\\x00\\x00\\x00\\x00RA\\x00Y\\x00I\\x00TAPZTI\\x00NT\\x00SRS\\x00*\\x00BSyINO\\x00BET\\x00NNUIUON\\x00U\\x00W*LYON', b\"N\\x07dN\\x1a\\x0f\\x14\\x00NN\\x1a\\x1d\\x17\\x01\\x07NI\\rN\\x19\\x0b\\nNNd\\x0c\\x1b\\x01\\x0bN\\x02'\\x00\\x0f=:\\x1c\\x1c\\x00\\r\\x1c\\x02N\\x1e\\x0fd'd\\x02\\x17\\x00\\x1eN-\\x00\\x1a\\x06\\x14\\x07\\x07\\x07\\x00\\nI\\x1c\\x1a\\x1aNN\\x087\\x1d\\x0b\\x0b\\x01\\x1a\\n\\x1cd\\x0bN\\x06\\x17B\\t\\x1d\\x1a\\x1d\\x17\\n\\x17\\x1d\\x06\\x06>\\x0bN\\x03\\x05\", b'\\x1b\\x04&e\\x1b\\x1d\\x16O\\x02\\x02OO\\n\\x1b\\x03\\x0eO\\x00\\x0b\\x01\\x16O\\x04\\x1b&\\n\\x01\\x00O\\x02\\x0eHO\\x01\\x0e\\x07\\x16\\x16\\x0b\\x1bA\\x0eB\\x1dOeH&\\x06\\x06\\x06\\n\\x1b\\x1dH\\x07\\x06\\n\\x01O\\x01H\\x00O\\x0e\\x07\\ne\\x02\\x0e\\x00\\x00OO\\x1a\\x0cOC<OB\\x00\\x00OO\\x06\\n\\x06CO\\x00\\x06\\n\\x06\\x03O\\x02\\n\\x16', b'\\x01\\x0c\\x07>\\x00\\rI \\x10\\x10\\x05\\x0e\\x05\\x01\\x05I\\x08\\x07\\x00II \\x00\\x01\\x1d\\x08\\x02\\r\\x1e\\x10\\x0f\\x04\\x0b\\r\\x04\\x0cI\\x00III\\nD\\x06\\x1a?\\x04\\x07\\x02\\x07\\x05\\x06\\x01\\x08I\\x1b\\x1a\\rNcNI\\x1e\\x1d\\x19\\x08\\x19N\\x10\\x1a\\x1cI\\x04\\x1dI\\x01\\x0cI\\x06\\x1aD\\x1c\\x1c\\x0cc\\nI\\nI\\x19\\x1c\\n\\x08\\x1d\\x08\\x05\\x1cII', b'\\x16SS\\x16\\x1dSyTSS\\x16\\x1c\\x1fSS\\x17\\x07\\x07\\x00\\x03\\x1fS\\x17\\x16T\\x07SS\\x1cS\\x01S\\x16S\\x00\\x01\\x07\\x1d\\x1cyy\\x16S\\x11\\x03:S\\x07\\x16\\x14\\x1f\\x03\\x16\\t\\x07\\x1cSSS S\\x1c\\x1d\\x1a\\x03\\x07SKS\\x07\\x01:\\x12\\x1b\\x10\\x1a\\x1d:S\\x02S\\x14T\\x05yS\\x11S\\x14\\x1fSS\\x01\\x16\\n\\x1c\\x00\\x1c\\x1e', b'E\\x12\\x00\\tB\\x043\\x08\\x01\\x08\\x11E\\x0cB\\x07\\x04E\\x17\\x16\\r\\n\\x06EE\\x16E\\x0co\\n\\x17\\x04\\x04\\x11\\x08\\n\\x00\\nB\\x13\\'oI*\\x04\\n5\\x06\\nEE\\x04\\tE\\x1c\\x17\\x10\\r\\x07\\x16\\x11\\x02\\x0bE\\x02\\x00E\\x01\\\\\\x1cIEE\\x01\\x00\\x04\\x0b\\x01\\x06\\x06\\x10$\\r\\x17\\x0066\\n\"\\n\\x04\\x01&EEE\\x10\\x0c\\x0b\\x10'], 38: [b'\\x1d\\x1dG\\x16\\x11\\x06O\\x07+TM\\x1a\\x01\\x00G\\x00\\nON\\x1d\\t\\x06\\x0b\\x1aL\\x06\\x17x\\x15t\\x1bG\\x16\\x10\\x1deN7R\\x08\\x1a\\x03\\x0cTE\\x16\\x16N\\x1e\\x04R\\x1a\\x04\\x00E\\x1c:1s\\x06G\\x02T\\x02ON-U\\x0c\\x1aH5YL\\x0c\\x01', b'BCY\\t\\x02\\x07 \\x02\\x1c\\x1d.T\\x13R=\\x19\"\\x10JT\\x06ION+AMN\\x06\\x11CLIC\\x07?\\tR\\x17I*\\x00\\x1c,T;R\\x13\\x1dT\\x1d\\n\\x175*M_DEHC\\x10\\x0eB\\x0c1\\x0b\\x1d\\x10M\\x08\\x1ex\\x1d7R', b'\\x1f3\\x118R\\tT\\x1fIO\\x01*Eg\\x1a\\x11\\x00E\\r\\x16\\x00\\x1d\\x1e\\x00\\x16\\x00\\x01OE\\x1d=\\x1btRG:\\x15\\x1a\\x06\\x07e\\x00\\nU\\tETRE\\x0e\\x06\\x19A\\x177\\x1a\\x00E\\x13=\\x015\\x1cG\\x05\\x18E\\x06N7U\\x0cS\\x1cI*', b'MS\\x04Ez\\x07\\x08Od\\x0eA\\x17N:*ER,Tt\\x07\\x08\\x1c\\x00\\x06O\\x0bbTM\\x1a\\t\\x0bHW5\\x1d\\x1a\\x07\\x121-I\\x00\\x08\\x1a0\\x1d^R\\x08S\\x00\\x08\\x00\\x031yM\\x1a\\x1a\\x17Yb\\x00\\x0eN\\n\\x05\\x01\\x1d\\x10T\\x11R\\x08', b'\\x0bN\\t\\x06\\x7fTt\\x1b3\\x1c\"I\\x0e\\x01\\x16O\\x00N1\\nGU\\n\\x1d\\r\\x0b\\x136\\x1c\\x0eM\\x03\\x1d7\\x1dz\\x16\\x06\\x14T\\x08\\x1d\\x1a%A\\x0c_\\x186FU\\x01\\x06\\x05\\x1c\\x04\\x13\\x01\\x0fW\\x00\\x17/\\x1b&\\x0b\\x00S\\x1b\\x00\\x06NnL\\x1aV', b'\\x0fe\\x00\\x05I\\x0b\\x0bNOE\\x0e\\x19IA\\x1a\\x19\\x0cE\\x00\\x140\\x1a0\\x1d\\x0e\\x16T\\x0c\\x16\\x0b#EMW\\x1cE\\x00GE\\x1c\\x1b\\x08\\x0e\\x00\\x14\\x1b\\x00\\x15\\x029\\x13;\\x1f\\x02\\x01\\x18\\r\\x1a\\x07+\\x00MR\\x11\\x1c\\x00O\"\\x18\\r\\n\\x15R\\x0b\\x01A', b'\\x02Rd\\x08\\x00\\x17\\x1dxT^\\x1c\\x06\\x17\\x13\\x0c\\x01N0A\\x0b\\x1a\\x0cECO\\x11\\x18\\x02I\\x15\\x19\\x1c\\x1dE\\r$4\\x135\\x17\\x14\\tT\\x06\\n\\n I\\x0cT\\x00\\x12ENE\\x03NI\\x15\\x06dcEI\\x10,T;\\x1cGS\\x1c\\x1aO\\x07;', b'\\x1f\\x06&\\x1aHA\\x190\\x02(IY\\x04\\n\\x1cI\\x00RNI*Ex1\\x01t\\x17\\x0e\\x07T\\x0cA\\x07 \\x00\\x0cS\\r\\x0bLE\\x1c\\x1c\\x01\\rA\\x13\\x00\\x1bA\\x11\\x1cy\\x1d6Rm\\x10X\\n<70\\x00\\x02R\\x1fE\\x00T&\\x0e\\x0f\\x05\\x15R', b'O\\x00\\x07F:\\x14Ii\\x10\\x0b4T9\\x06\\x02\\x03\\x1a\\x1d\\x1b\\x03\\x11G+U\\x1boTL\\n\\x02\\x1dI\\x0c\\x1d\\x0f\\x07K\\x17\\x164Tt\\x1b\\x11S\\x18\\x1aH\\x056\\x00M\\x1a\\x06\\nI\\x07\\x04O\\x06\\x06\\x0e\\x17\\x17\\rA\\r\\x059\\x1d;\\x06\\x1e\\x1c\\x11\\x1d', b'\\x13GS\\x07\\x00\\x16\\x026SMV!\\x0b\\x00\\x07\\r\\x0b\\x06\\x01\\x18\\x1d\\x01\\x06UE;v\\x15t\\x0bGy\\x11\\rO\\x07\\'\\x00MS\\x1f\"NI\\x07\\x06\\x0bI\\x00\\x1b\\x1a\\x08yB\\x16,7:\\x01GS\\x01I\\x00\\x176I\\x05T\\x04\\x08\\x00\\x00\\x10O\\x06', b'NT\\x00O\\x1aI\\x00R\\x1a\\x19AE^7\\x075R\\x06\\x16TI\\x00\\x1c1*M\\x1a\\x00\\r\\x00PoC\\x17\\x1a\\rR\\x02\\x0eN\\r\\x1e?\\x1a-\\x19\\x14\\x1c\\x19\\n\\x07\\x00-\\x00\\x14\\x1a\\tEOD\\x06Od\\x1cAR\\x1a\\x00D\\t\\x17>\\x1d0\\x10\\x06', b\"<\\x1c7\\x1f\\x13y\\x0e\\nO\\x01bWM\\\\H\\x16TNE\\x07'\\rAR'\\n*E\\x13+\\x11\\rRK\\x03\\x18\\x08\\x06\\x07eY\\x18\\x1aOEE\\x00\\x0b\\x0eN\\x08\\x05\\x07\\x08N*\\x10\\x11x\\x1b;\\x05mT\\x15\\x0f\\n\\x1ab\\x00MO\\x1c\\x00OT\", b'\\x1a\\r\\x16YI3\\x16\\x01\\x05\\x125\\x07\\x1dF\\x0b\\x170T;\\x17GS\\x13cH\\x0fH*\\x03N\\x1a\\nN\\x00\\n\\x0eN\\x02\\x13RN\\x0cAE\\x06x\\x1ct\\x06m\\x07TE\\x0e\\x1d\\x11S\\x0cI\\x0b\\x08Ay\\x17\\x01\\x1bI\\x04\\x10\\x17\\x06NE\\x00!T', b'iE\\x06x\\x1a5\\\\\\t\\x16\\x07\\x06\\x03\\x06bOM[\\t\\x0bACo\\x00=\\x04\\x0f;:\\x0eY\\x03\\x077\\r;R\\x15\\x16\\x18\\x08\\x1bN.T\\x05[\\x01\\x08IyE\\x03N\\x1aA\\x1d\\x0b\\x05T\\x11\\x176\\x1b1\\x16\\t\\x11T\\x06\\x00\\x00)*M\\x1a\\x0e', b\"eM\\x0c~O\\x0b\\x00T\\x11\\nO\\x05\\x04UNcT\\x0b\\x17<\\x15e\\x1d\\x12STN\\x07N.EJ\\x1a\\x07\\x0biHEO\\x00\\x01k\\x1d\\x06\\x0c\\x00\\x11\\x1b;\\x1b^\\x17@\\x07\\x13IO\\x02'OMT\\x1dE\\x00K\\n\\r\\x01\\x1cM\\x0b>\\x07c\\x10\", b'\\x1f\\x07\\x1ajE\\x1bR\\x06tUGS\\x1a\\n\\x0b:bYM\\x1a\\x06HDP\\x04\\x1b\\x03\\x0ck\\x17\\r\\x05G\\x10S;\\x1d5\\x01\\x03\\x169\\x07\\x06N\\x05T\\x03\\x16\\x1d<N\\x19I\\n\\n\\x1dA\\x02\\x1c\\x1cAE\\x16+\\r-\\x1d\\x00STI\\x03\\x01-N', b'I\\x04\\x17bH\\x010\\x07\\x0cS*\\x07O\\x0f\\x00\\t\\x1bN\\x10SE@x\\x11:\\x13G\\x016I\\x1b\\x02+\\x00M_\\x06ET\\x00E\\x00\\t\\x1a7\\x17\\x07\\x0c\\x00E\\x1d<Dt\\x06\\x08\\x1b\\x19IC\\x1ebT\\x08SHEYI\\x01,\\x03\\x08\\x16\\x1f\\x05', b'\\x1c\\x0cA6\\x0f\\x05i\\t\\x06x~1x\\x12\\x00\\x11\\x1a\\x04\\x0f-F@V\\x1aEKL\\x00\\x1adIA\\x00\\x1e*\\x00\\n\\x057\\r2\\x04GS=\\x1b\\x01B\\x0bT\\x18\\x1aH<TN\\x00\\n\\x0cIA\\x10\\x06\\x08N\\x08\\x15t\\x11=\\x1d\\x12\\nT\\x0c\\x16', b'\\x0eS\\x1d\\x0c\\x1d\\x0feSMN;EwS\\x16ON\\x00FR\\x1bZU\\x06\\x17=\\x1ds\\x06(y\\x13\\x05\\x1d\\x01;\\x00\\x04J\\x07\\x17I*\\r?\\x03NAU\\x1cIM\\x0c=1StR\\x06:\\x17\\x08\\x00\\n%U\\x02\\x1aH\\x00MSEeNI', b'N\\x12\\x01\\x1d\\rF\\x1fN\\x0fO\\x08x0\\x11=\\x15\\x08\\x17T\\x05\\x01N!A\\x0b\\x1a\\x03\\x16\\x00V\\'\\n\\x1d\\x06\\x0c\\x17d\\x07\\x00\\x10\\x17651R\\x06S=\\x04\\x0e\\x03\\'SLT\\x1c\\tdC\\x06\\x03\\x1a\\x1cAR\\x1dIG\\x04\\\\=\\x1d \"\\x08\\x1e', b'\\x13<R\\x0fS\\x07I\\x02\\x02bO,CH\\x0bIKE\\x18\\x0b\\x028\\x19\\x02\\x0fA\\x00R!\\x11!\\x06G\\x11\\x11\\x19&\\x01!\\x00\\x0c\\x1d\\x04\\x17PN\\x02HN\\x19\\x08RNI\\x07E\\x0b9\\x1f1\\x1d\\x13\\x14\\x03\\x1d\\x06d-NM\\x1a\\x0b\\rLN\\x10', b\"\\x01\\x0cTA\\x04O\\x02\\x10\\x0e\\x06\\x01\\x07\\x00,U*T:\\x13\\x13S\\x1bE\\x0e\\x0bb\\x00\\x03U\\x1a\\x11\\x00*\\x04OB\\x07A\\x00\\x1e\\x02\\x00\\t\\x177T&\\x1f\\x0f\\x03\\x13\\x10\\x02\\x0fbB\\x1f^HISL\\r\\x1d\\x06\\n\\x11R\\ncOE\\x139X'\", b\"\\x0b\\x1e0\\r:\\x1d\\x02S\\x03\\x01\\x1b\\n;\\x00MVbBN\\x00\\x0cON\\x0f\\x02\\x14=\\x06UER6'6\\x1dG\\x07~\\x10\\n\\x1d#\\x00MI&\\n\\x00A\\x00\\x07\\x01\\x10\\x0f\\x1a\\x0b\\x00\\x00\\x04R=\\x11 \\x1d\\x0eS\\x18\\x1eOd,W\\x19CH\\x0c\", b'\\x07\\x08_H\\x01NT\\x08C\\x0b\\x01A\\x1d\\r\\x08I$R6\\x00 _.\\x01\\x00\\x05\\x0eNeA\\x03U\\x07\\tNY\\n<\\x07\\x06A\\x1c\\x1a\\x1aS\\x04\\x072\\x1a0\\x06\\x12S\\x10\\x06O\\rHN\\t\\x1aHENS6\\x0e\\x06\\x191^\\x06I\\x00&\\x11', b\"NI\\x00\\x06Rx\\x00;RGS\\x1d\\x1c\\x00\\x02'N\\x1d[\\x00E\\r\\x00\\x04O\\x17\\x04\\x05\\x1e\\x00\\x06W\\n\\x0bx\\x11,\\x1d\\t\\x03\\x15\\r\\x07\\x01'Z\\x03O\\x0fE\\x00R\\x1cO\\x1a\\x04\\x12+\\n\\x06A\\x08\\x06?T5\\x0b\\x0e\\x1f\\x18I\\x06\\x086OM\", b'\\x1b\\x1a U\\x19N\\x01\\x10LSB\\tN\\x07\\r\\x01\\n\\x05\\x00\\x00\\x07x\\x183\\x13G\\x00\\x11\\x05\\x0b\\x1a*NM[\\x18\\x0c\\x00\\x07\\t\\x1dN\\x1b\\x0f\\\\\\x07\\rS\\x0c\\x1f0T1;K\\x12T\\x06ON,E\\x05\\x1a\\x1b\\x1c\\x00T\\x04\\x0e\\x02\\x1d\\x14\\x1a\\x03c', b'\\x01\\t\\x13\\x1a\\x01H\\x0b\\x06=\\x1d7R\\x14\\x07\\x1bIO\\x0f.\\x00\\x1dq\\x01\\x0cNG\\n\\x01NIA\\x17N\\x0cNI\\x11(T1\\x17\\x00\\x1c\\x13ION6N\\x08[\\r\\x04\\x00\\x00\\x01\\r\\x1b\\x0c\\x15\\x16N\\x08*\\n^,\\x11-\\x0b\\x02\\x16\\x1a\\x08\\n', b\"\\x16\\x11\\n\\x1b\\x0b'\\x07\\x05N\\x0c\\x04YT\\x17\\x18\\x1d \\x18\\x1b\\x0cIN\\x0e\\x1e<\\x1d:\\x0b\\x0c\\x1c\\x1d\\x1bB\\x0f&\\x00\\x0cObE\\x00R\\x10OdckRIIV\\x04\\x00;\\x07t\\x17@\\x1d\\x1cIB\\x1a\\x11NMRHE\\x00TE\\x04\\x1aI\", b\"EO\\x05\\x00ARNI\\x00\\x00\\x077\\x15;\\x17\\x06ST\\x1a\\n\\x0f-E\\x04\\x1a\\x1aEIE\\x13\\t\\x0bD\\x15R'\\x1dN3\\x132\\x1b3xm  \\x0eO\\x01'RC[\\x07\\x04LR\\x01\\n\\nDA\\x1d\\t\\x0eA\\x07\\x06,T6\\x0bG\\x1c\", b'6\\x14G\\x1d\\x13\\x04\\x02\\x0f/\\x00\\x1eO\\x1a\\tD\\x00\\x06e\\x1a\\x08\\x0f\\x11N\\x1aT\\t_6\\x111RKST\\x1aH\\x07)A\\x1fU\\x07\\rns\\x11\\x07\\x0b\\x1d\\x0fRNINI\\x1c7\\x11!R\\x08S=IO\\x016O\\x05R\\x05\\n\\x00F\\x0b', b'\\x00LOB\\x06\\x07\\x10\\x0f\\x0b\\x17\\x0c\\x00\\x0cRx\\r5x\\x02\\x07\\x10\\x02\\x02\\x1a*\\x00@\\x1d\\x18\\x17Y\\x00*e\\x0f\\x04\\x0f\\x01\\x00\\x0cC\\x13R7\\x005\\x17\\x13\\x1a\\x17\\x00edb\\x00\\tTH\\x17DN$O\\rcAR\\x17\\x08A\\x00\\x0b5\\x01x', b'\\x1e!\\x12t\\x00\\x0cS\\x10I\\nN&N\\x190H\\x0bsNEON\\x10\\x08\\x13\\x0fI\\x0cE^7\\x1a<!\\x1eS\\x13I\\x06N)I\\x19M\\r\\x17RT\\x02\\n\\x1aNk\\x06\\x1dIG\\x15\\x179S:\\x05\\x08y\\x03\\x0fC\\x1a6\\x00MO\\x06E', b'\\x01\\x1aH\\x04LE\\x01O\\r\\x05\\x15\\x1dI\\x01i\\x11R,T$\\x1f\\x08S\\x17\\x1d\\x01=bTMO\\x07EP\\x00\\x06O\\x1d\\x05\\x03\\x1b\\x00\\x01\\x00\\x15\\x06=\\x1d<RGK-\\x0c\\x00\\nbIMT\\x1c\\x1cAM6\\x07\\x1bIAR\\x06\\x10S\\x0e1', b'IG\\x08\\x1e1X&;\\x08\\x1f\\x1c\\x07O\\x0beH\\t[\\x1c\\tAN\\x17\\nN\\r\\x00+\\x1c\\x19\\x07E\\x1f9\\x1d;\\x01\\x13\\x1f\\x01\\x07H\\x0b;P\\x01\\x1d\\x06\\x11A*\\\\\\x00\\x02I\\x0e\\x06\\x1acCE\\x06+\\x115\\x1b\\t\\x14\\x12\\x0f\\n\\x01+Y\\x02', b'd+E\\x01_H\\x10\\x00N\\x0c\\x0eI\\x08A\\x1f\\x0b\\x08G\\n\\x133T<\\n\\x1eS\\x19\\x06\\x16\\x1c0P\\x14]\\x1c\\x08OO\\x04\\x16IIA\\x1d\\x07\\x0cSBR6\\'t\\x07\\x0b:\\x1a\\x06\\x0c\"\\'B\\x04\\x1aH\\x1cTK\\n\\x1a\\x1b\\x08\\x14\\x11N\\x04', b\" \\x00NIS\\x08\\x15:\\x17:\\x06\\x13\\x07\\x07I\\x16\\x00'\\x00\\x14_\\x1b\\x1cPO\\x08\\x1c\\x1b\\x00\\x00\\x17\\x02IHD\\x1bx\\x04t\\x1bG\\x07\\x13\\x1c\\x01\\nb\\x00\\x01^\\x07\\x0c\\x07\\x00EHN\\x01\\x04R\\x0b\\x04W\\nR=\\rt\\x1c\\t\\x01TI\\x02\\x0b\", b\"T\\x05e\\x1abAM_\\rB\\x07\\x00E\\x1b\\x07I\\x02RdI\\x00\\n\\x1f1\\x015\\x1dG\\x1d\\x17I\\x0e)'\\x00\\x03CH,NL\\x17\\x07INA\\x1c\\n\\x00\\x00E\\x1c*\\x1d7\\x06.\\x1a\\x00\\x1dO\\x0b'N@\\x1aHoKKE\\x1c/\\x1cA\", b'\\x1d\\x1d>\\t\\x15\\x00\\x02G\\x15^+\\x139\\x13\\t\\x1f\\x11[&\\x1a+M\\x08[H\\x0eNCB\\x1b\\x0f\\n\\x0e\\x06dNO\\x11\\x11\\x7f\\x1d-\\x17\\x15S\\x16\\x06\\x00\\x05\\x0bSM_\\x1c\\x04\\x00c\\x0bO\\x01\\x1aM\\x13BDB\\x08>!\\r^\\x13G\\x00\\x1b'], 13: [b\"\\x1di\\x01CM\\x11\\x11\\x1a\\x05Eb\\x1d\\x7f\\x0f\\x06\\x0b\\x0f\\x0c\\x1d\\x1f\\x010\\x02;\\x10\\x0eNM\\x01:A\\x01\\x07W\\x1d\\x13\\x1dN\\x00b\\x07=N\\x18\\x11:\\x06R\\x1b\\x06N\\x04x\\x00FN\\x0b\\x05$*\\x02AG\\x1bT\\x06N\\x1c1\\x011'OH\\x0fG\\x17;\\nN\\x07\\x0bEkEMI1MIYE\\x13\\x1a\\x1d\\x1dE \\x119\\x0fO\\x1c\\x07G\\x1bR\\nC\\x06\\x1d\\x11\\x13\\x07\\x08\\x081*\\x01\\x00\\x009\\x1bI\\t\\r%S7\\x14?\\r\\n\\x06\\x06\\x13\\x02\\x1dH\\x1fB\\x00A\\x01\\n0\\x00\\x08\\x00STT\\x04N\\x045\\x07;7\\n\\x07\\x03\\x08\\x1c\\x13\\x00T\\x1aR\\x15\\x15CM\\n1C\\x06SB\\x01\\x11\\x04dE'T?B\\x01\\x1bN\\t^\\x0b\\nR\\x06\\x1d\\x07\\x05I\\x05\\x00=A\\nM\\x00\\x1c\\x1d\\x10\\x0f\\r+\\x1c9NOH\\x0b\\x06\\x11\", b\"Be\\x163\\x07O\\x04\\x17G\\x066BI\\x1d\\x00\\x17FE\\x19I&i\\x10\\x00S\\x03\\x17\\x19\\x0bBbS+\\x07\\t\\x01\\x06\\x14RU\\x17\\x1a\\x0b\\x17E\\t\\x00\\x00\\x1a5E\\x00sATTI\\x0b\\t\\x11S3\\x01O\\x1b\\x1c.\\x1fR\\x04[H\\x13\\x06\\x0fGMN:O\\x0cIT6\\x11\\x0ed\\x17#y7\\x1c\\n\\x07\\x07G\\x1f\\x1d\\x04]O\\x1dD\\rY\\x03\\x08,O\\x02\\x00R\\x18TI\\x00Ee\\x162-\\x00\\x07\\x1aGR\\x00\\rM\\nR\\x15AN\\x01\\x1a&SI\\x00\\x00\\x19\\x1a\\x00NE\\x0b\\x070\\x1a\\x03\\r\\x17@\\x00\\x17I[\\x00\\x06I\\x04N\\t\\rtGIdIX\\x1fc\\x06I'S=\\x0bOH\\x0bm\\x06\\x13\\x17\\x1aO\\x16\\n1KME-A\\nYO\\x1b\\x11\\x08\\r\\x006S=\\x06\\x0e\\x0b\\x01\\x1e\\x13\\x11\\x10C\\x02\\x10&ATM\", b'\\x1f\\x1fES\\x04\\x14\\tAO\\x05\\x0ct\\x00\\rLA\\x07XI\\x02\\x106S:\\x1aC\\r\\x01G^5B\\x1a\\x03R\\x13\\x04Tg\\n;*\\x00DO\\x11\\r\\x0cN\\x0b0\\x17,N\\x18\\x1c\\x03\\x13\\x13\\x1d\\x0c_\\x00_\\nA\\x00\\x08c3L\\x04NAT\\x1d\\x01\\x03Eb\\x016\\x1c\\x1a\\x18\\x0b(^\\x19\\'OA\\x06E\\x0c*\\x14\\r6H\\x1aN\\x00\\x18\\x11NN\\x0c7\\x16(\\x17Ob\\x07\\x03\\x131EU\\x1d\\x04\\x13\\x0e*\\x19\\x061\\x00\\rPP\\x18T\\x0c\\x0b\\nb\\x1c2\\n\\x0e\\x0f\\x05m\\x1fRE[\\n\\x17\\x04A\\x19C\\x08tN\\x1cT\\x00\\x18SIN\\tb\\x109\\x1aOH\"GRR\\x06\\x1aO\\x05\\x08My\\x05\\x021*\\x0c\\x00N\\x18\\r\\x0eNE6St\\x17\\x18H\\x1aG\\\\R&\\x1a\\n\\x06E\\x14\\x00\\x19I0\\x00\\x1cOO\\x1bTc', b'MI6N\\x0cL\\x00\\x1d\\x12\\x08\\x1d\\x04HS1\\x14OH\\x02\\x02\\x15R\\x08_OR\\x15\\x12SM\\x067T\\x05YE\\x1a\\x15:\\x0f\\t\\x16\\x00x\\x19OHN\\x08RRE[\\x1b\\x13\\n\\x18\\x00\\x14I \\x00\\r\\rM\\x13\\x18\\x1a=\\x0c+S<\\x00\\x1b\\x1a\\x0bG_6\\x00\\x1d\\x16\\x06E\\x15VM\\x0c!\\x07I\\x00P\\x11\\'I\\x17\\t\\'\\x03xd\\x0e\\x18N\\x15\\x11REO\\x06\\x013\\x12\\x00\\x1f\\x082C\\x08IIT5\\x01\\x01\\x17;S7\\x07\\x06&\\n\\x14\\x07\\x1c\\x0bO\\x00\\x06\\x0c\\x04y\\x08\\x1d^V\\x19NR\\x00DI\\x05<b\\x011\\x1d\\x03\\x1c\\nm\\x0b\\x06\\x04^\\x0c\\x01\\x04\\x04D\\t\\x1d;A\\x1aAET\\x1b\\x08BE\\x11\\x05+\\t\\x0eH\\x01\\x00\\x15R\"\\x1aC\\x1c\\x04ATM\\x0f;O\\x08\\x00WT\\x1dI/\\x006\\x00!\\x03\\x01\\x0e', b\"\\x0b\\x1c\\x00eS!d\\x01H\\x1a\\x0f\\x1e:\\x04_\\x16\\x1d\\x08\\x00TM\\n;G\\x05LT\\x07\\x1d.O\\x04*S7NO\\x1a\\x01\\x12R\\x1a\\x160\\x01\\x15\\x11\\x00K\\t\\x1d:G\\x01N\\x00T\\x00I'E+Sx\\x0b\\x00\\x01N\\x12\\x1e\\x16\\x04\\x1aO\\x13\\t\\x13L@\\x0cs\\x0cI\\x00TT\\x11\\x19\\x1d\\x110y6\\x02C\\x07)K\\x0b\\x06\\n[eRI\\tH\\x0c\\x1a5N\\x07TAT\\r\\x0c\\x1b\\x17)\\t6\\x00\\x1c\\x04\\x0b\\x11\\x17\\x1d\\x07I\\x01\\x19\\x04A\\x00\\x03\\x06tS\\x1eINT\\x1bI\\x06<'S<N\\x06Hd\\x02=\\x06ET\\x00RE\\x0e\\x07\\x1f\\x06:\\x00\\x01ON\\x00\\x1b\\x06\\x01\\x08,\\x026N\\x0e\\x1d\\x1aG\\x16\\x1d\\x00SO\\x0b\\x08AO\\x02\\x0f;GI\\x00N\\x12\\x1dc\\x1b\\x08,\\x01>\\x06\\x1c\\x1c\\x08G\\x00\\x1a\\x0c\\x1a\\nR\\x10\", b\"\\x0f\\x0e\\x1eR\\x12\\x1a&R\\x08FA\\x01\\x00:SINA\\x0e\\x00\\x02\\x01\\x10+\\x16=\\x1d\\n\\x0c\\x01G\\x07\\x17\\x07O\\x0ex\\x0cAS\\x19\\x0c=iIIH\\x1aT\\x08\\x06B'\\x166d\\x07\\x00\\x1aG\\x07\\x06oqO\\x1d\\x0e\\x00P\\x04\\x06:T\\x0bK\\x00T\\x1dI\\x02\\x16b\\x07!\\x1c\\x02\\x1a\\x1cGR\\x17oU\\x0eR\\n\\x0e\\x00M\\x1d;N?i\\x00\\x15\\x1d\\x1d\\x1aE)\\x147\\x00\\x1c\\x07N\\x14\\x17\\x1b\\x1c\\x1dH\\x1b\\tAIM\\x1c-SNEZ\\x16\\x1c\\rN\\x086\\x1d;I\\x0e\\x1d\\x01\\x08\\x1dR\\x01\\x1ae\\x1f\\x0ckNL\\x0c6\\x07IIB\\x1a7\\x00NEH\\x1ax\\nO\\x0bNG\\x17\\x16\\x10TB\\x1cEAb\\x08I&Nc\\x00U\\x03TI\\x1bE-\\x149\\n\\x1a\\x04d\\t\\x17^EO\\x06\\x13E\\x14LM\\x087cI*N\", b\"\\x02N\\x01\\x06<G\\x07TE\\x07\\rI\\x1a\\x01byx\\x00\\x16\\x01\\x07\\t\\x06\\x1c\\x11NOU\\x00A*\\x1eI1\\x00IwN\\x13\\x11\\x01\\x1c\\x0be\\x03*\\x0b\\x0bb\\x00\\x06RRE[&\\x17\\x00\\tC\\x1dIeN\\x1eDE\\x00\\x11\\x1a\\rE*\\x16=\\x0f\\x18\\x03=\\x0eR+\\nU\\x16\\x0bE\\x00P\\x03I\\rW\\nNN\\x10\\r\\x0c\\x07\\x0b&:;'\\x1d\\x06\\x07\\x06\\x05\\x01EJ\\x06\\x17\\x10\\x03E\\x0c\\x07t\\x00IN\\x00\\x13\\x1a\\x1aIE'Sx\\x07\\x16\\x01N\\x13\\x1bRE\\x16ORE\\x0fU\\x18\\x00;MNES-\\x1dI\\x02\\nb:,\\x0bH\\t\\r.\\x11+\\x0bIO\\x06\\x11\\x15CMI5ADYT=\\x1b\\x08\\r\\x1c%y,\\x1d\\x07\\x1fd\\t\\x05R\\nTO\\x1c\\t1KMI^N\\x1dY*\\x1a\\x1d\\x07\\x1aI-\\x1c\\x08\\x05\", b'\\x1f\\x13I\\x00\\x0c+S0NOH\\x1a\\x13R\\x153NO\\\\\\x0b\\x02T\\x05It\\x00\\x0eS\\x00\"~\\x0c\\x19E&\\x170I\\nH\\x0b\\x02U\\x1f\\rV\\x16R$\\x02N\\x1d[;\\x00\\x1dA\\x00\\x06\\x15I\\x1dH-\\x1cxN\\x1d\\x1a\\x1a\\x0e\\x17\\x13\\x11\\x1a\\x01\\x17\\x00\\x00L\\x03\\x06tU\\x00\\x00A\\x17\\x11\\x06\\x0f\\n*\\x167NC\\x07\\x0fGSR5_H\\x16\\n\\x0fG\\x04I5\\x00\\x05L\\x00\\x01T\\x02I\"#\\x07?\\x1a\\x07O\\x01\\x15\\x06\\\\\\x16[OR\\x11kR\\x03\\x0e^\\x00\\x1dFT\\x17\\x13I\\x1a\\x12\\'KyN\\x00\\x06\\x0f\\x0b\\x16\\x1aE\\x1aO\\x06\\x10\\x12c\\x0c\\x06sT\\x0cHO\\x1c\\x01\\x1c\\n\\x17bS/\\x06O\\x11\\n\\x08\\x10R6R\\x06\\x1b\\r\\x11K\\x05\\x1etD\\x19K\\x00\\x18\\r\\x06\\x025)\\x16x>\\x04\\x1c\\x01GR\\x1f\\x0bV\\x16', b\"O\\x01dG\\x1e\\x00\\x00_e\\x1f\\x06\\tI\\x19\\x065H \\x00\\x07\\x1f\\x06Id\\x0c/\\x1cx\\x17\\x0e;N\\x06x\\x1d\\x04CO\\x06,A\\x07MI5IITN\\x11T\\x05N\\x0b.T<\\x0c\\x00\\x06\\x0f\\x08@\\x11\\nV\\x02\\x1d\\x06\\x08O\\x0b\\x1dtA\\rT\\x00\\x19\\x15\\x06\\x1b\\re\\x1d+\\x00\\x1b\\x1a\\x1aG\\x07\\x17I\\x1aBR\\x10\\x15WM\\x1az\\x00\\x04\\x00\\x00\\x13\\x13\\x07\\x1d\\x0b!\\x1f4\\x1e\\x16\\x1f\\x1dG\\x1e\\x1c\\x17\\x1a\\x07\\x17E\\x0fE\\x05I;\\x00cTT \\x1d\\x0c\\x0b6\\x0b\\x1a9\\x1c\\n\\x00\\x03G\\x1cR\\\\\\x1a\\x02\\x07B\\x0f\\x00\\x14\\x067*\\x04\\x00ST1\\x05\\x1bE'\\x1d=\\x1c\\n\\x1a\\x1e\\x08\\x17\\x10$R\\x00\\x05IAM\\x02\\x1d5A\\nTI\\x18\\r\\x00\\x06ob\\x1f!\\x17\\x0eH\\x00\\x02\\x1e\\x0bES\\x03\\x0b\\x11\\x16F\\x1a\\x0cxAI\", b\"\\x13\\x0b T\\x08\\x057\\x00>YU\\x11\\x1a\\x01\\x07\\x0b'TRNO\\x07\\x0f3\\x06\\x0bEN\\n\\x1c\\x08\\x15Y,\\x079\\x00\\x08\\x00\\x00\\x07\\x07\\x08\\x07\\x16'\\x1f0\\nO\\t\\x0fJ\\x17\\x1b\\x16\\x1a\\n\\x07E\\x0fU@\\x020U\\x10CA\\x17\\x01\\x0fNobSv=\\x1c\\x00NG\\x13\\x1eBN\\x0b\\x1b\\x03ALJ\\x1btGDH\\x00T\\x1d*\\x0fE;S4dO\\r\\x01\\x13\\x16\\x00\\x04S\\n\\x1b\\rAL\\x18\\r-A\\x1bTT\\x13T\\x0cdE\\x05 0\\x07\\x07\\x18B\\x13\\x02U\\x02T\\x0eR\\x11\\x08*M\\x10ty\\x10\\x07\\x00\\x10\\x1dN\\x1a\\x04\\x11\\x12:\\x0b\\rD\\x02@\\x13\\x02\\x01\\x1aCR\\x00ANM\\x08:E\\x1cA\\x00\\x03\\x11\\r\\x06\\x1c6S=\\x1a\\x0eH\\x1a\\x0e>\\x10\\x04\\x1a\\x00\\x0b\\x08MT\\x0cI6T\\x08\\x00LT\\x01\\x01NE;\\x1e\", b\"N\\x07T\\x1cI\\x1d\\x16 \\x16x\\x1a\\x02O\\x0b\\t\\x1bR\\x080\\x02\\x1b\\t\\x0fOMI^O\\x05IO\\x1cT\\x07I\\x0b;\\x077\\r\\x1bH\\x02\\t\\x17\\x01\\n[O\\x10\\x0b\\x18\\rM\\x1atS\\x08GF\\x10\\x1aZNE!S1\\x02\\n\\x1b\\x0b\\x1e;\\x14\\x08\\x1a\\x0e\\x1dE\\x05C\\x03\\x05tYICE\\x1d\\x1b\\x05\\x0b\\x0b+S7\\x1ee\\x1c\\x01\\x1e$\\x17\\x06S&\\x01\\x17AOM\\x10tN\\x06NY\\x15\\x1d\\x0cN\\x0c.\\x1c,\\x06O\\tNm\\x1a\\x17\\x11_\\x01\\x17\\x15AT\\x0c\\x04<A\\x19A\\x00\\x13'\\x08\\x01\\x0c-S*\\x08O\\x1c\\x1dK\\x1c\\x1d\\x01_O\\x17EARMI!WID\\x00\\x17Sc\\x1a\\x1c0\\x14+\\x17\\x1dH\\x17\\x0eRR6\\x1a\\n\\x0b\\x08\\x04T\\x0c\\x06-M\\x1c\\x00UTT\\x10\\x03\\nn\\n5\\x0be\\x06\\x07\\x081R\\x10\", b'<N\\x1d\\r\\x1aG\\x06\\x13\\t~\\x1bREA\\x07\\x01\\x04ti\\x10NS\\x10T\\x0f\\r(b\\x1f4\\x01\\x0e!\\n\\x13^\\x1dE\\\\\\x00\\x13\\x0b\\r\\x00MI\"T EYTT\\x10\\x1a\\n-\\x070\\x1bO\\x0cN\\x08x\\x19\\x17U\\x0e\\nE\\x02OM\\x055*\\x04N*\\x11\\x15\\x0eN\\x11.\\x1c=\\r\\t\\t\\x02K\\x1d\\x00*W\\x1d!\\r\\x0c\\x00\\x0c\\x19;K\\x07O\\x00~\\x04\\x0e\\x07,e\\x03\\x7fN\\x1d\\x03N\\x00\\x1c\\x1d\\x10U\\x06x\\x087s\\x0c\\x1b5\\x00NRI=\\x1d\\x1bN\\x116\\x036\\x1a\\x07\\x07\\x00\\x12\\x1c\\x07\\x1c_\\x0e;EA\\x00MIt\\x00\\x1dLy\\x19\\x11\\x0f\\x0c\\x17+:9d\\x03\\x1c7\\x13\\x06\\x17\\r\\x1a\\x00\\x1d\\nAS@\\x0f5BI\\x00UT\\x11\\x10\\x01E7S,\\x1d,\\x05N\\x12\\x0bREOO\"\\x0e\\x15N\\x02\\x1d\\'', b\"\\x1a\\x1b\\x1dE\\tY\\x0c\\n8j\\x00zH\\x13T\\x05\\x07\\x0beSxNO\\x02\\x02\\x08\\x0b\\x06\\x0cV\\x1b\\x06EA\\x00M\\x1c9F\\x07GO\\x1b\\x19c\\x1d\\x00bS,Ne1\\x0f\\x02\\x14RE\\x1a\\x01\\x1fE8N+E<U\\x0fP*\\x00\\x01\\n\\x17\\x0eH\\x00x:\\x01\\x06N\\x0c\\x1d\\x17\\x13\\x1a\\x1bR\\x03A\\x00M\\x05<E\\x06P\\x00\\x11\\x1d\\x07B\\x08'\\x07x\\x02<H\\x07\\t\\x11R\\t\\x1a\\x1b\\x17\\x00kR\\n\\x073\\x00\\x1anA=\\x00\\x1b\\x03\\x17 S=\\x00H\\x06\\x05\\x0fR\\x1b\\x00^\\x07\\x06E\\x05RME1\\x00\\x1a\\x00*\\x13\\x07\\x1a\\n\\x041\\x1b7\\x01\\nH\\x07\\x06\\x17\\x06\\x06T<\\x1dE\\x0eL\\x04I W\\x1cNN\\x15TD\\x1b\\x1c-\\x11,\\x1d\\rHN\\x00\\x06\\x01\\x01R\\x06\\x1d\\x00\\x15SM\\x1a S\\x05LY\\x11X\\x04\\x06\\x0c\"], 9: [b\"\\x1d\\x13\\x0e\\x16T\\x06\\x04\\x1a+\\x00\\x0c_HEYAB\\x02\\x1a\\rA\\x15\\x14\\x05H\\x08\\x1dR\\x00&\\x1b\\tS\\x10IO\\x02/TMN\\x0cBI*B\\x0e\\x19\\x05A\\x1dN\\x1d\\x00\\x0cR7\\x11;\\x13\\x02\\x00\\x1bI\\x01:'H\\x00[b\\x0bENEeN\\x01F\\x1bdIS\\x00\\x130\\x15 \\x1f\\x08S\\x1b\\x02O\\x1c!E\\x08U\\x1a\\x0cPO\\x04ON\\x0b\\x0f\\x14\\x0f\\x01*\\x00_x\\x15s\\x0bG\\x076\\x05\\x16\\x0b.AM\\x1a\\x1a\\x11YLo\\n\\x0b\\n\\x0c\\x00NIE\\x10\\x0b9\\x1d;\\x1d\\x1e:\\x18\\x19HN'\\x00\\x0cC\\rE\\x00OEO\\x07\\x05\\x12R\\x1e\\x0c*\\r\\x172\\x1dt\\x04\\x00\\x07T\\x07\\x07\\x0b%TMM\\tEPs\\x16\\x06\\x03cA\\x13\\x07\\rS\\x15\\x1b2\\x1d^\\x06\\x0f\\x1aT\\n\\x0e\\x01\\x0b\\x00\\x18[\\x07\\x12NR\\\\\\x06N\\x10k\\x17\\x08INE\\x161\\x077R\\x08\\x12\\x1a\\rO\\rby\\x0c^HEOC\\x01O\\x06I\\x15Rd\\x1cAE\\x176\\x11:\\x1cm\\x14=\\x02\\x00\\n\\x11N\\x02S\\x1b\\x1c\\x00K6\\x07NI\\x11R\\x1d\\x00G\\x07>9\\x11-\\x1cGS\\x18\\x0f\\x06\\x00,\\x00\\x0cO\\x0b\\nY\\x00E\\x04/\\x05\\x16\\x1aN\\x01c&1\\x08T'\", b'BNNE\\x1d\\x00\\x0c\\t\\x00d\\x1a\\x00\\x08\\x06x\\rtR\\x13S\\x13\\x06\\x16\\x0f\\'A\\x190\\x01\\x10NT\\x08Od\\x05\\x0e\\x0b\\x1d\\x19O\\x00^4~7\\x06\\x06S\\x1d\\x07\\x0e\\x06;Ng\\\\H\\tG\\x07\\x16\\x18\\x07I\\t\\x01\\x0b\\x0cT$R,T:xJ\\x16T\\x1a&\\x03-\\x00\\x14\\x1a\\x06EAUoON\\x1eA\\x19N\\x1aU\\x06\\x1e1\\x01:\\x13\\x1e\\x16T\\x05\\x01\\x0bH\\x00@N\\x00\\x16IC\\n\\x1aN\\x00\\x15\\x17\\x00\\x19M\\x03R7\\x1b\\r\\x06K\\x16\\x11\\x05B) \\x00M]\\x1c\\x0bN\\x005\\x0eB\\x04\\tRd\\x1dO\\x17\\x05(\\x045\\x01\\t\\x1fT\\x08\\nNeY\\x0cU\\x03\"IR\\x17\\x1c\\t\\x1bA\\x00\\x06\\x1a\\x00\\x08\\x067\\x00;\\x19\\x06 \\x16\\x1a\\x01NbI\\x03O\\x066IA\\x02\\x0eN\\x19\\x0fR\\x1aIVE\\x1c<Tt\\x1f@S-\\x08\\x0e\\x0fb*\\x14T\\x07\\x04IN\\x01HN\\x1d\\x12\\x06\\x01\\x05\\x00\\x15\\x13x\\x1f!\\x06G:\\x1c\\x1d<\\x1e,BMTH\\x1cYy\\rOB\\x1cA\\x1dB\\rN\\nR,\\r5\\x1b\\x00\\x11\\x18\\x0f\\x06\\x1a-O\\x0cTHEKT\\x01\\x0e\\x1b\\nM^\\x06\\x10NE\\x0bx\\x1d \\x0bG\\x1cT\\x08\\x02\\x07-O\\x02V\\x0e\\x0c', b\"\\x1f<\\x136\\x1dGS\\x11\\x05&\\x17 E\\x05~H\\x04zI\\x04\\x06\\x07IFR\\x00Ii\\x0b\\x15x\\x06;;3\\x16\\x03IO\\x01b\\x00MV;\\x04\\x07Y\\x07\\tII\\x04\\x1dI:F,R=\\x07=\\x17\\t\\x03\\x11I\\x16NbN\\tN\\tBs\\rE\\x18\\x1a\\x1d\\x18R\\x0cI*E\\x073\\x1ae_\\x08\\x1c\\x13E\\x02N1A\\x04[\\x1bENO\\x11\\x1b\\x17\\r\\x13;=IOER6\\x15t\\x06\\x0c\\x1dTI\\x0b\\x1c#E\\x03O\\t\\n\\x00\\x00IC\\x1dD\\x0e\\x1d\\x1e\\x0cH\\rSx\\x1dzRGS\\x15\\x08&\\x077\\x00\\x04OH\\x0bT\\x07\\x04\\x1c\\x00\\x06\\x031N\\x02C\\x00\\x1e6\\x1b-\\x1bG\\x1c\\x13\\x06\\x06\\x01;A\\x05I\\rEEN\\x11\\x16\\x0bNk\\x1c\\x00\\x0cSB\\x02;\\x1a<Rm\\x03\\x17\\x1d\\x07\\x03'SM\\x1a\\r\\x0cE\\x19\\x1c\\x00\\x05\\x1a\\x0f\\x067N\\x07I\\x1c,St\\x06m\\x1bT\\x06\\x1a\\x02HIMIH\\x17HD\\x06\\n\\x01\\x06A\\x16\\x0bcA\\x08\\x06/\\x1b \\x05GT\\x03IO\\x17%N@RH\\x1cTO\\n\\x0e\\x1b\\n\\x04R\\x17\\x10D\\x04\\x06!\\x1d=\\x0b\\tSTI\\nN)WMS\\x1c\\r\\x00L\\x10e\\x1a\\x1c\\x15\\x1f\\x03\\x04A\\x10\\x11\", b'M\\x1a\\x01\\x00CT\\x12O\\x1d\\x07A\\x13N\\x08j\\x06\\x1e\\x7f\\x1a:\\x00\\ty\\x07\\x04O\\x02e\\x07M0\\x07\\x10\\x00O\\x11C\\r\\x0e\\x12\\x06\\x17.A\\x08\\x07+T1R\\x13\\x17\\x1a\\x1cO\\x01b\\x00\\x19\\x1aH\\x0bD\\x00\\rO\\x1dI\\x00\\x1b\\n\\x08E\\x0bR,T;\\x13\\x02TT\\x05\\n\\x1a\\x11F\\x1d_\\x0cH\\rN\\n\\x00N\\x10\\x00R\\x02\\x1aLE\\x17<\\x01t\\x13GSTN\\x0e=b*\\x03\\x1d\\x06\\r\\x00EB\\x02dI\\x00\\x19\\r\\x06\\x07\\x03\\x076\\x1atRGS\\x10\\r\\x1d\\x0f\\'\\x00M[\\x1cEiY\\x06\\x1dN\\x07\\x0fR\\x02\\x07N\\x11\\x167Tt\\x17\\x03\\x03\\x01\\x08\\x1b\\x1d)\\x00\\x18\\x1d\\x07\\x0cN*\\x10\\x07\\x01\\x1a\\x0f\\x1d\\x14\\x0cS\\x15\\x1axT5R\\x14S \\x06HB6\\x00\\x0c\\x16\\x0f\\x11Fy\\x00\\n\\x06\\x08\\x08R\\x1a\\x08M\\x04\\x1cyD1\\x07\\x02\\x07\\x10\\x0c\\x00\\x1db\\x00M\\x1a\\x1c\\x04\\x00\\x07\\x00\\rNIA+\\x1a\\x0fT\\x04\\x17=\\x1b1RGS\\x17IO7bE\\x04R\\x1dEAb\\x17\\x1d\\r\\x0cAR\\tDA\\x08^=T-\\x0b\\tST\\x1eCNbN\\x05\\x1a\\x04\\x00\\x00K&,\\x02\\x08\\x15\\x0b\\x06\\x10TE\\x135\\x1d0\"G\\x00\\x11\\x0c\\n\\x0b;NM', b'\\x0bi\\x0b\\x1e3\\x1c<\\x14GS\\x1d\\ne\\x1abU\\x01IO\\x01L\\x073O\\x07 \\x00\\x1fN\\x02i\\t\\x06:TtR\\x08\\x1c\\x07\\x01\\n\\x01bO\\x1e\\x1a!EY\\x00\\x04ON\\x08AU\\r\\x01*\\x0bUx\\x195\\x15\\x06\\x1f\\x1a\\x1aO\\x000Y\\x1d[1\\x0bNN\\x16\\x07\\x0b\\x08\\t\\x1d\\x1bI\\x00E@xT0\\x1d.S\\x00c\\x0e\\x1a+*\\x0b\\x1aHoKG\\x08\\x18\\x03\\x04\\x006:\\x06\\x0cE\\x13!\\x11t\\x0b(\\x1c\\x17\\x0c\\x1b\\x1a0EJU\\x07\\x0bN**C\\x17\\x06\\x15\\x06\\x0f*ND$;\\x11;\\x16\\x15\\x07\\x13\\x1a\\x06\\x01)RMJb,L\\x00\\t\\x16\\x1b\\x01A\\x1b-\\x0c\\x00\\x13\\x1c?53\\x17\\x11S\\x13\\x1c\\nN\\'P\\x0c[&\\x17T\\x00\\x02\\x07NIAR\\n\\x1b\\x00\\x0cR9\\x1b0R\\x08\\x07\\x13\\x00\\n\\x00\\'RM\\x1aH\\x04\\x07NIO\\x02\\x1cA\\x1a\\x1d\\x1a*E\\x1c:7t\\x17.\\x10\\x19\\x06\\x0c\\x07\\'NM\\x1a\\x0bIDC\\x06\\x03\\n\\x1a\\x0e\\x10N\\x04EE\\x06+\\x1b1\\x1d\\x08\\x05\\x15\\x1dON6UM\\x1a\\x1fE\\x00K\"\\r\\x06I\\x05\\x10\\n\\x08M\\t\\\\,\\r;\\x1d\\x02\\x01\\x1cI\\x06\\x01n*\\x19O\\x1c\\x00LF\\x0cONIAR\\x05c', b\"\\x0fe\\x07\\x01S\\r\\x0cLY\\x00\\x01\\x05>F6\\x1aI\\x00ER1T5\\x1d\\x0cT\\x0eI\\x02\\x076S\\x05_\\x02\\x0cLNE\\n\\x0b\\x05A5\\x01\\x0cTEx7\\x139x\\x14\\x07\\x13\\n\\x00\\x0b\\x16OM0\\x11\\x16I\\x00\\n\\x0bN \\x02RN\\x05G\\x00\\x176Tt\\x17\\x13\\x07\\x06I\\x01\\x0f+G@q\\x1bED\\x00\\x17\\x1d=\\x0f\\x08\\x16'\\x0fT\\x06;=\\x1d5\\x17G\\x00\\x19\\x0c\\x07NbT\\x03U\\x18\\x11\\x00V\\x13\\x1b\\x1dIA\\x17\\x1c\\x05WE\\x1d7'<RK\\x11T\\x1dO\\x01&\\x00\\x0c_\\x18\\x08\\x00H\\nO\\x1a\\x02A\\x01\\x17\\x0e\\x003\\x114\\r1\\x1b\\x14\\x16\\x15\\x07\\x1dN#I\\n\\x1a\\x04\\rTI\\rOI\\r7\\\\\\x07\\x1b\\x00\\x04\\x060\\x1c&\\x17\\x13\\x1c=\\x0e\\x00\\x05\\x0bN\\x01T\\x1dEAUE\\x07\\x1a\\x19\\x05RN\\x04y\\x0c\\x00*\\x1dt;\\x0b\\x01\\x13\\x06\\x00\\x03\\x11B\\t_\\t\\tLc\\x04\\n\\x1b\\x01\\x15\\x02\\ncW\\x11R9\\x01;\\x1d\\x08\\x02\\x01\\x08B\\x0b0T\\x05\\x1a\\x11ENM\\x00\\x01\\x06c1R\\x1d\\x0eB\\r\\x15,\\r;\\x1d\\x0e\\x14\\x1b\\x06O\\x1a7\\x00MRH\\x08MTE\\x0e\\x03\\x1d\\x14R>IS\\x11\\x009\\x017\\x10\\x08\\x1c\\x1b\\x1d\\x16\", b'\\x02\\x1fNINE\\x1e!\\x117RG\\x16\\x07\\x0c\\x1b\\x1aHH\\x19_\\x0b\\x0bNE\\x08\\x16\\x02\\x10\\x02RNIG\\x10\\x06=\\x17^UG\\x1f\"\\x06\\x1bN*W,O\\x01\\x0bwTE\\n\\x0f\\x07A\\x1aN\\x08iE\\x17*\\r\"R\\x08S\\x11\\x1d\\x04\\x0f\\'AM[\\x1c\\nA\\x00E\\x00\\'\\x02\\x0f\\x06\\x01ZN\\nxx\\x18<\\x1d\\x12\\x01\\x17\\x06H\\x0b*AM\\x1a\\x1a\\x0eTL\\n\\x1c\\x02\\x0c\\x05+\\x1c\\x0eUE\\x1d+\\x111\\x1bGy\\x1dIA\\x02*PM\\x1a\\x07EH\\x00\\x04e\\x07\\x1a\\x0cRd\\x07\\x00I\\x1b4\\x1d,\\x01\\x06\\x16~I\\x06\\x07!A\\x08S\\x07ENEE\\x1dI\\x08k\\x1c\\x00IA\\tR,\\x1a1x\\x15S=I\\x01\\n\\x05Z\\x01_\\x01\\nRR\\x0bH\\x0b\\x1e\\x00UI\\x00AE\\x1f6\\x13^\\x06GST\\x10e\\x17-SC_\\x06<\\x00\\x00E\\n\\x1aI\\x04\\x1d\\x0bI\\x00\\x10\\x0b71:R@\\x1aXIO\"+O\\tT\\x1a\\x08SN\\x10O\\x1aDM\\x17\\x06\\x08WI\\x16?\\x11&\\x16\\x0ey\\x18\\x0f\\x06\\x01-I\\x02RHEYT\\n\\x18\\x01\\x19A\\x01\\x17cA\\x08\\x17=T^\\x06\\x12\\x16T\\x1a\\x03\\x08+LMC\\x06ION\\x0b\\x01\\x06I', b\"\\x1fI\\x1bdeM\\x08\\x1a\\x04\\x16TO\\tO\\x1d\\x00\\t:\\x0f\\x01S\\x17\\x1bxXt\\\\\\x02S\\x1f\\n\\x02\\x0f+SMN\\r(SS\\x0c\\x0eO\\x01\\x15\\x17\\x07\\x07\\x00\\x13^0\\x159\\x06\\x12\\x07\\x07\\x0c\\x0b\\x02eOMVH\\x00TK\\x06O\\x06\\x00\\x18RN\\x10\\x00\\n\\x14<\\x00$\\x07GS\\x10I\\x00N-M+V\\x01\\x1cCP\\x04\\n\\r\\x04\\x02\\x13\\x00\\nA\\t\\x17v\\x1d:\\x1d\\x0e\\x01\\x11\\x06\\x16NeTMN\\x1a\\x17CP'\\t\\x0fIA\\x17\\x02\\x1dG\\n\\x1f7\\r6!G\\x03\\x11\\x1ae\\x07;\\x00\\x03S\\x06\\x0cOGE<\\x1d\\x07\\x13\\x00\\x00IN\\x10\\x13\\x7fT2\\x17G\\t9\\rH\\x1a.\\x00\\x19UO\\x17nE\\x07?dNA\\x17\\x07\\x0c\\x00\\x11\\x07=\\x1dt\\x1f\\x13\\x1d\\x19\\x04O\\x056T\\x08^\\x00<\\x00*\\x01\\x03\\x01NA\\x07NI\\x00B=;\\x1d6\\x06K:\\x18IO\\n1S\\x1fTDEdR\\x0bO\\x0c\\x0c\\x04\\x06\\x1c\\x06C\\x00\\x17=S5\\x05\\x13STI\\x00\\x1a'\\x00\\x08\\x1aH\\x1c\\x00S6\\x0e\\x1b\\nA\\x0b\\x1aIA\\x08\\x05t\\x11t\\x1c\\x00\\x1f\\x12\\x00\\x00d6UM\\x1a\\x055\\x00SE\\x1c\\x0f\\x08\\x14\\x11\\x0b\\x07\\x00\\x0eR!XxR\\x06\\x1e\", b\"O\\x1c\\x01 R\\x07IG\\t\\x060\\x128\\x1f\\x0f\\x1d\\x11\\x00\\x1d\\x0bbA\\x01NH\\x0b\\x00T\\x01O\\x01\\x10\\x0f\\x1c\\x1a\\x0f\\x00\\x15\\x0bx\\x1d:\\x1cGS\\x1cI\\x03\\n&EMC\\x1a\\x00\\x00S\\x17\\x1b\\x1c\\x00\\r\\x1f\\x19cI\\x11R0T5\\x10\\x06\\x17T[\\x1b\\x0f.\\x00\\x0b\\x1a\\x00\\tGC\\x0cO\\x1d\\r8\\x11\\x0b\\x06U\\x0e\\x1f1\\x113\\n\\x0eS\\x00\\x1dO\\x0fb\\x00M\\x1a\\x03ENL\\x00\\x01\\x1bIk\\x1e\\x1c\\x0eYE^=\\x11!RGy\\x13\\x1b\\x0e\\x07+N\\x14W\\x07\\tPW\\nO\\x0f?\\r\\x17'NK\\n\\x11x\\x135\\x1d\\x13\\x14\\x18\\x10\\x06\\x07e\\x00\\x1f\\x1a\\x1f\\x17\\x00L\\x1c\\x00NI\\x0e\\x1d\\x1a\\x01\\x00E\\x177T-RmS\\x18\\x1bO\\n T\\x03\\x1d\\x18\\x08\\x00TE\\x0eN\\x1d\\x04\\x1b\\x1cI\\x00\\x11\\x1d0';\\x17\\x12K\\x00E\\x02d5\\x00L[\\x1c\\nT\\x00E\\x03\\n\\x04\\x0e\\x13\\x0b\\x00GE\\x119\\x11s\\x01\\x06\\x1d\\x00\\nCN'\\x00M\\x1a\\x1c\\x17AL$\\x0ed\\x1cA\\x13\\x17\\x08*\\n\\x10+T5\\x0b\\tS\\x03E\\nd6U\\x05\\x1aHo\\x00I\\x04\\x1a\\r\\x1c1R\\x1d\\x06O\\x00\\x1e>\\x1d6\\x13\\x1e\\n\\x1aIO\\x016Y\\x1a\\x1aHE*T\\x10\"], 16: [b'\\x1dI\\x01T\\t\\tRe~B:R\\t\\x0fH\\x16NxS+\\x0c\\r\\x19\\x1d\"O\\x07\\x05\\x009\\x1cgSA\\x0b\\x17\\x01V\\n\\x1bR\\x06\\x0f1\\x18d<\\x07\\x11E\\x1dZT\\x13EC\\x0fL:\\x1dMG\\x13\\x00\\x1d\\x07\\x1d\\n\\x1e\\x1d(\\x1c\\x1a\\t\\x1c6\\x16+E\\x17\\x0c\\x1d\\x11\\x00i\\x04K,\\x1a\\x04O\\x133\\x17\\n\\x1aE\\x1b\\x1e\\x00\\x1a\\x04\\x07\\x067S\\'E\\x03\\x0c\\x1c I\\x00\\x1e\\x00<\\n\\x08U\\x08E\\x17e\\x1a\\x1c\\x17=\\x0b\\x1d\\x07\\x03\\x0b:\\x1bbE\\x1b\\x0f\\x1f\\x00OD\\x06A5\\x08\\x04yAI\\x1dOS6R^\\x00dH\\r\\x179\\x1f7\\x00\\x1b\\x06T\\x1cWY\\x08S0\\x08\\x1aNA\\x10', b'B\\x1cI\\x1c\\x11\\x00T>jt\\x00\\x19\\x07F\\x08\\\\\\x020\\x08\\x1c\\x06\\x08\\x01\\x0c\\x0e\\x01+S&\\x0bN:\\x11\\x07ODII\"\\x1a\\tN\\x18\\x00\\x13&\\x1aE\\x1d\\x07\\x08N\\x1b\\x00N1\\x01+EN\\n\\x1dT\\x00N\\x0c\\x0ct\\x05MV\\x00\\x03RAUI\\x00\\x1fK\\x0f\\x1cOd;S\\'\\x0c\\x1a\\x07\\x04\\x18AL\\x06*2\\x07\\x18R\\x0e\\t\\x17\\x06M\\x07\\\\\\x1a\\x06\\n\\x01\\x07\\x002\\x1d\\x0b\\x11NI\\x13\\x13SNNy1\\x08L\\x00AIRO_\\x00\\x06\\x11@\\x07HO\\x1c9S,\\x17\\x1a\\x04\\x1b=\\x00N\\x0cN5\\x0fMO\\x11\\x08\\x1dCT\\x04\\x01\\\\\\t\\x00\\x05\\x0e\\x06x\\n+\\x00\\x1a\\x01X\\x1bN', b\"\\x1f\\x0ed\\rOd0\\x16b\\x04\\x1a\\x01T\\x07A\\x00\\x10i;IMN\\x12\\x00\\x1c\\x1b\\x1a\\x07\\x1d^\\x14\\x01H\\x1bNx\\x03'\\x00N\\x08TTAN\\x1dS$I\\x1dU8\\n\\x1d\\x02U\\x04\\x16\\x17\\x1e\\x0f\\x1a\\x18=x\\x01b\\rN\\x0e\\x11\\x17EYIWt\\x05\\x14\\x00\\x15\\r\\x1de_\\x06R\\x11\\x06\\x01HO\\x004\\x03e\\x17I\\x0c\\x1bT\\x00T\\x1a\\x00-I\\x0cNA\\x11\\x17HOEURm\\x01\\x00\\x07\\x1a<K-\\x04\\x05I\\x1d\\x13\\x00I\\x04\\x00t\\x06\\x0cR\\x15\\x04\\x06CT\\x06\\x16\\x17\\x13\\x0b\\x1dO\\x17?\\x05%\\x1c\\x1b\\x0eT\\x18UYID-\\x00MKM\\x00\\x06\\x06SE\\x11\\x00G\\x07H\\x01\\x05\", b\"MN E\\x14&_\\t6\\x1e\\x13\\x0b\\x0bO\\x00RS6\\x10d\\x0f\\x17\\x07\\x00I\\x01T1\\x07MTA,\\x13\\x0b0\\r\\x01R\\x08\\x00\\teN6T-\\t'I\\x1a\\x1bMD\\x10U3\\x06\\x0bO\\x0f\\t\\x17\\x0eN\\x00+\\x13\\x0c\\x0b\\x1a\\x1b\\r7y*\\x0b\\x1dI\\rT\\x00N?\\x00;\\x08\\x0cGA\\x11\\x01\\x06S\\t1\\x17GN\\x07\\x1c\\x1a,S;Ed\\x1bT\\x16TRIS^\\x04\\x01y\\x0f\\x11\\x06\\n\\x1a\\\\\\x07\\x00\\x02\\x0f\\x1c\\n\\x1d,\\x121\\tN\\x05\\x11XNHIC;IMLME\\x05\\x00\\x1a\\x00RR\\t\\x01\\x1f\\x0e\\x1dt\\x14bE\\rc\\rT\\x00\\x00\\x1dT IMF\\x15&R\\x16\", b\"\\x0b\\x13TML\\x07\\x008\\x0c\\x01IA\\x17\\x1dO0\\x01R\\x063\\x02\\r\\n\\x174S*EI\\x1d\\x15\\x13\\x00G\\x00i5I\\x00K\\x02\\x0bx\\x1b[\\x16R\\x13G\\x0f\\x0cO\\x0bxS1\\x0c\\r\\x0f\\x01T\\x00T\\x04Os\\x06\\x03E\\x15E\\x1b\\x1bOo\\x17\\x1dG)\\x07e\\x0fx:;\\x08N\\x1d\\x13~RT\\x05N1\\x08\\x0cLk\\x13\\x1b\\x07U\\r\\x1d\\x06m\\n&\\x16\\x07=\\x1c66N\\x00\\x1b\\x17\\x00\\x00\\x19MtECN\\x0fE\\x06\\x00\\x1a\\x01\\x13\\x0b.\\x02HO\\n=:'\\x08\\nc\\x11TTA\\x1c*&\\x1d@KA\\r\\x0b\\x06\\x1a\\n\\x10\\x06GdH,\\x06>\\x16n\\r/\\x07\\x01\\x11O*I\", b\"\\x0f\\x01\\x1d\\x07!S E\\x1dI\\x1a\\x13AN i&\\n\\x05O\\x0e\\x15U\\nVB\\x17x\\x13\\x06\\x1a\\n\\r=\\x00e\\x16\\x1d\\x0cT\\x11Ys\\x01\\x00t\\x05\\x14C\\x0fE_OV\\x17R\\x1e\\x0e\\x0bH\\x1b\\x0fv\\x00b\\x16\\x1b\\x0e\\x11TACI\\x07\\r\\x1bM*\\x0e\\x10!O[5\\x17\\x1b\\x15\\x07\\r<\\x177\\x1feE\\x1b\\x02\\x1d9IN\\x1b\\x001\\x1c\\x05sA\\x04R\\x01\\x1d\\x0bR\\x02\\x0f\\x05\\x1d\\n\\x1a0S'\\x0cNI\\x1d\\x10*TI*t\\r\\x1fcA\\x15\\x01O\\x1a\\x06R\\x17\\x087H\\x0e\\x06+T\\x11\\x1c\\x06D\\r\\x03I\\x00\\nGt\\x06\\x05T1\\x08\\x1d\\nOER\\x13G\\x01\\x06O\\x03\\x08\\x1e\", b\"\\x02\\x0b\\x1d\\x04\\x1a\\x00\\x13\\x06\\x0f\\x1aO\\x06\\x14xTe\\x10\\x01IT\\x03TS\\x05A7I,\\x00\\x04\\x0c\\x06\\x00\\x1a\\x16\\x1f\\x17\\x06NbON,\\x16.\\n\\x0bI\\x15\\x10G\\r\\x1eU<c\\x04O\\x02\\x06\\x13\\x01\\x1a\\n6RGN\\x18\\x02\\x00=y0\\n\\x0b\\x1d'\\x10\\x00P\\x1aNz\\x19\\x03H\\x0f\\x17\\x1d\\x06J\\x04R\\x13\\x14\\x1d\\x03\\x00\\x00?\\x1c%\\x17I\\x0c\\x00\\x18ZTNSt\\x0e\\x0cA\\x04ER\\x07[\\x01R\\x1c@d\\x06O71:\\x11\\x04N\\x001\\x19IO\\x0cW1\\x1dMN\\x0e\\x08\\x1c\\x00\\x1a\\x17\\x1d\\x10\\x0eNH\\x07\\x1a,S-o\\x01\\x08\\x1d\\x18UM\\x08N6\\x1a\\x19L\\x16\\x0e\\x10\\nV\\x10\", b'\\x1f\\x07C\\x0cG7\\n\\x05A\\tE\\x00\\x16N\\x08\\x1f\\x15\\t\\x0f\\x02C\\x1dx\\x1fb\\x04\\x19\\x07\\x13\\x1aN\\x00\\x07*=IM\\x00\\x00$\\x10\\x04[E\\x1b\\x14\\x13\\x1a\\x06O\\x01x\\x1c!\\x1c=\\x1a\\x01\\x00AK\\r*:\\x0c\\x03CkE\\x0b\\x0b\\x1a\\'\\x17\\x07K\\x07\\x07C\\x1e9\\x03&EBN\\x1d\\x13\\x00\\x00\\x07\\x00t\\x08\\x1fEA\\x00\\x04H\\x1a\\x10\\x00\\x17\\x15N\\r\\x06\\x070Sb\\x08\\x0b\\x1b\\x1aTTA\\x08V;\\x10M\\x19kB;\\x00TE\\x1d\\x1cm\\rD\\n\\x1ax\\x1d+I\\x01\\x1cS\\x01EY\\x1cW1I\\x02S1\\x08\\x1b\\nR\"R>\\x00\\x1a\\x04\\x0e\\x1d=\\x01)\\n\\x0fI\\x1dTYOIA\\'', b\"ON3S+\\x16\\x05\\x08\\r\\x11HLIHtIMT\\x0f\\x10RON\\x0c5\\x07\\x06\\n\\x01OI7\\x07\\x16\\x0b\\x07c\\r\\x1aNE\\x00G;\\x1a\\x0b\\x00\\tE\\x1f\\x00q\\n\\x19\\x1f\\x12\\x1a\\x1bO\\x00=SHE\\x02\\x06\\x156T\\x00IM!IJ\\x00\\x0c\\nR\\x1d]\\nR$GN\\x06O\\x02(\\x14!,\\x00\\x0cT\\x15\\x00IIA3\\x06ME7\\x15\\x19O_\\x02\\x1c\\x1b\\x13\\x05\\x0f\\x0e\\x1c6\\x07'\\x12\\x01\\x04D-\\x00\\x00\\x1c\\x077I\\t\\x07\\x12ER\\x0cI\\x01\\x06RG\\x1e\\x1cON/\\x14'E\\r\\rT\\x18UTIA;\\x1e\\x0cIA\\t\\x0b\\x06\\x1aE\\x0b\\x0b\\x1e\\x08\\x1ceN!\\x1c;\\x0c\", b'\\x13\\x1bS\\x12\\x00\\x06G\\x1aH\\x02\\x0f1y\\'\\x0b\\x02\\x02\\x06\\x10SL\\x0eO:\\x06\\x1eYA\\x13xO\\\\\\x17\\x1aU\\t:H\\x0b\\n,\\x17\\'\\x0b\\x1aI\\x00\\x06FA\\rN0E\\x08P\\x08E\\x13O\\x1a\\x08;_\\x0eN\\x06\\x1a\\x1c+\\x1c#\\x11\\x0f\\x05\\x1a\\x11NH\\x06H;\\x1a\\x0cY\\t\\n\\x01\\x06OE\\x00\\x11\\x03N\\x1f\\x1d-6\\x07.\\r\\x01\\x1aT=PEc\\x00&\\x06\\x03T\\x00\\x0cR\\x0e^ER\\x1c\\x12\\x17H\\x00\\x08;\\x01b\\x04\\nI7Tyd\\x01T!\\n\\tCAE\\x05BR\\r\\x13\\x16\\x08\\x17\\x1b\\x0e\\x1d=\\x116E\\x06\\x10\\x11\\x12\\x00\\x00\\nO^IM\\x00\\x14\\x11\"\\x02\\x1a\\x0bR\\x11', b\"N\\x01N<\\x05\\x0cOF\\x06R\\x1d_3R\\x1d\\x02\\x07\\x07O\\x1a=\\x1cbBO\\x0cT\\x1dEw\\x08F;\\x0cM\\x00\\t\\x11RONER\\x17\\x02\\x03\\x00\\x00\\x1b3S-EN\\x1a\\x11\\x17*N\\x0bA5N@L\\x05E\\x06\\x16N\\x13\\x19RG\\x02\\x07CN7\\x11'\\x0b\\x0f\\x07\\x11\\x15\\x00O\\x02N5\\x10\\x08\\x00\\x03\\r\\x17\\x1d\\x1d\\x17\\x1dR\\x11\\x01\\t?\\x07x  \\nN\\x0c\\x1d\\x19NF\\x19\\x00^\\x00MRA\\x0c\\x07\\x0e[E\\x1a\\x1c\\x08\\n\\t\\r\\x019\\x1a'\\x17\\x06\\x06\\x01\\x17BADE \\x02\\x08MA\\n\\x0b\\x06\\x1a\\nR\\x05\\x0eNH\\x1a\\x17,S,5\\x03\\x10\\x1d\\x1aLL\\x1ccx\\x1dM\", b\"<\\x16e\\x0c\\x1d\\x1a\\x12\\x07Uz\\rS5\\x04\\x19T\\x02\\t;ONE\\x06^GN!\\tN0\\x07b\\t\\x1c\\x08\\x19\\x11HT E:[MN\\x18\\x00\\x07\\x01_o\\x11x.N\\x1a\\n'<\\x16b\\x0e\\x03I\\x15\\x11T\\x00\\x00Y1\\x0c\\x03LAERBW\\x04\\x06S\\x1e\\x07\\x18\\x1ddx\\x16)\\x0b\\x07I\\r\\x01Y\\x00\\x08\\x00-\\x07\\x19I\\x0f\\x08R\\x01[\\x11\\x13\\x07\\x13B\\x06\\x0eI9\\x03\\x0b<\\x1a\\x08T\\x00S\\x07\\x1aN6\\x06MN\\x0e\\x10\\x17\\x1a^\\x0b\\x02\\x17GN\\x1a\\x03\\x0b6S0EB\\x08\\x11\\x15N\\x00\\nB-\\x0f\\x05T\\x05\\x04\\x1c\\x00R&^\\x1e\\x12\\x01\\x1c\\x04\\x0b9\\x00-E\\x06c\", b'\\x1aER\\x1eG\\x17HO\\x1a\\x7fSb\\x0b\\x07I\\x00\\x1fS\\x00\\x05\\x00^\\x01M*\\x15ER\\x0eCEUR\\x02\\x02\\x11O\\x0b0S0BN\\x10TT\\x00G\\x02\\x00e\\x02+\\x00\\x00\\x06\\nH\\x1a\\x11\\x14\\x17G=\\x00\\x01\\x1c!\\x1d.\\x17\\x1d\\x06\\x1b\\x13PNDE6\\x1dM\\x00\\rI\\x16&CE\\x01\\x16\\t\\x07\\x07\\x16N2\\t#\\x0c\\t\\x01\\x1a\\x13APN\\x005\\x1a\\x03RAB\\x06OT\\x00R\\x1dG\\x00\\r\\x06N*\\x07b\\n\\x1a\\x1aS\\x1aSLI\\x00sIMD\\x15\\x00\\x1dOT$\\x17\\x06G\\nH\\x01\\t,S-E\\x1b\\x00\\x11\\x1bNK\\x1cA;I\\x0cS\\x14E\\x0bOC\\x0c\\x1f1\\x06', b'i6\\x06\\x08YA\\x08\\x1f\\x1bI\\x04\\x15\\x1b\\x0c\\x02\\x01ON:\\x16/(\\x0b.~\\x1cWYI\\x009\\n\\x19\\x07\\rE\\x15\\x16[\\x06RRJ\\x0f\\x1c\\x07\\x0c0S+HN\\x06\\x18\\x00AP\\x04Tt\\x05ML\\x00E\\x0b\\x16UB\\x17^G\\x1a\\t\\n\\x027S \\t\\x07*\\x1d\\x18\\x00\\x00\\x07O5IM\\x07\\x12\\x10\\x1b\\x1bU\\x1c\\x1c\\x1cG\\x0bOO\\x147S\\x05\\x17\\x0b\\r\\x1d=\\x00I\\x1dA0\\x1d\\x18*\\x05\\x04\\x1f\\x02_I\\x06\\x16K\\x03\\x1cH\\x0b7\\x10HE\\x0cc\\x1b\\x1c\\x00S\\x1aA:I\\x05bA\\n\\x16OR6\\x0b\\x15\\t\\x1aH\\x18\\n!S6\\x08\\x02\\x10\\x1dT*\\x00\\x05\\x007\\x0c\\x02T', b'e\\x00\\x00I\\x11\\x1dEY\\x00\\x00:\\x06\\x01E\\x00\\x0b\\x1b\\x02_\\x11\\x0b\\x0bG\\x01;\\x0e\\x077\\x17;\\x00\\x0f\\x01\\x07\\x1bOIIT5\\x1d\\x1d\\rF\\n\\x17\\n\\x1a\\x0c\\x06@\\x08\\x1c\\x01\\x1d\\x021S*o\\x17\\x01\\x1d\\x19*IIUtIMPA\\x03\\x06\\x0e\\x1a*\\x1d\\x0bG\\x01\\x1c\\x0e\\'4\\x077E\\x1d\\x0eTT\\x00N\\x01Ct\\r\\n*AEx\\nI\\x16\\x17\\x06\\x14N\\x18H\\n;\\x1a6E\\x06I\\'TRE\\x10\\x00t\\x0c\\x14\\x00\\x04E\\x06OT\\x04+\\x13\\x06\"\\x0b\\nd=\\x02b\\x1cd\\x08\\x1b\\x03N\\x00cA5E\\x02K\\x04\\x07\\x1cO\\x1a\\x01R\\x17\\x02N\\x0b\\x1c>5\\x1c6IN\\x04T', b'\\x1f\\x1eG\\x1a\\x04\\x01Nx\\x1dH\\x01\\x07\\x05X\\x0e\\x07N\\x10GtIMSA\\x08\\x06\\x03O\\x04\\x1dR\\x12\\x0bH\\x18\\x19*\\x1fb\\x0b\\x06\\x05TT\\x00A\\x08* I@NA\\x0e\\x1d\\x0e[\\x04\\x13;G\\x0b\\x03\\x1c:6\\x07e\\x11d\\x19\\x11\\x1dE\\x00\\nG<\\rMW\\x0cDRHS\\nR\\x05\\x13\\x07b\\x1c\\x1e\\x7f\\x16)\"NI5\\x13Tn\\rS;\\x1b\\x01\\x00k\\x15\\x1f\\x00\\x16\\x02\\x1b\\x1f\\x08\\x03\\x07\\x03NyS5<\\x02N\\x07\\x18B\\x00\\x1dG:\\x06MC\\x04\\x11R<\\x1a\\x10\\x10\\x06m\\x1a\\x11\\x1dB+y6\\x1cNI\\rTO\\x00\\x19M=\\x0fMT\\x15E\\x13\\x03O\\x10\\x1aR\\x08\\x0b\\x0e'], 25: [b'\\x1d\\x1b\\r\\x1d\\x00\\x1f\\x1a\\x01I\\x08\\x026\\x00\\x0e\\x0b\\x1fOY\\x1d0\\x13\\x19\\x16\\x19\\r\\x1aNe\\x10t\\n\\x06\\x1dN\\x1dN\\x0c\\x04\\x06GHN\\x05\\x13\\x1dAP\\x176\\x11\\x14\\x04\\x0f\\x1d\\x19SO\\x075\\x06\\x07\\x1bC\\x04\\x1a\\r\\x1a\\x08m\\x05Tk\\x1b\\x1dNyR0TM\\x1c\\x08\\x1d\\x06\\x1aH\\x00:\\x0cH\\x06C\\x1d7\\x1c\\x1cI\\x08%\\x00A\\x15SOI\\x01,T\\x0cE>\\x1d\\x08\\x1a\\x01c', b'B\\x01EG Y\\tRyATR:\\x03M\\x0c\\x01T\\x07C\\n\\x01=\\x01HNEx\\x0f\\n\\x08E\\x08-D\\x00\\x1eSAG;x\\x11\\x03B\\x00\\x11IUCI6O\\x1cBK\\x01\\x01\\x0b\\x05\\x10\\x14)I\\x0eRSAs\\x170 \\x03EI\\x1b\\x1d[\\x03\\x041\\x0e\\x1c\\x1a*\\x06\\rE\\x01\\x04G\\'S\\x0e\\x06\\x14\\x00MR,\\x03\\x02\"\\x17\\x11\\x00R,\\x106\\x03\\x1c\\x1acR', b\"\\x1f\\x16MY\\x13x\\x11\\x193\\x00\\x00\\n_C\\x19:\\x1b!I\\x00\\x06\\x0b\\x0bI\\x11\\x080sF\\x14\\x07FU\\x11x\\x00\\x04\\x04\\x00\\x1dNN\\x01\\x0et\\x0b\\x1a\\x0fWR)\\t\\x1aDG'OA\\x16\\x1f\\x00E\\x1b6T\\x19\\r\\x14\\x00\\x1b_\\x07\\x0c^O\\x1d\\x06V\\x17\\x17\\x04\\x1aEK\\x11\\x00\\x12\\x11\\x1aNDR=\\x01\\x04\\r\\x17\\x11\\x1dR\\x07I;CH\\rA\\x1dN\\n\\x08\\x11G-*\", b\"ME\\x07\\x11\\n~\\x02\\x015O\\x01\\x01GR\\x01B\\x01E\\x13;\\x00AU\\x03HKR,T\\x0bE\\x1b\\x1a\\x02V\\x1d\\x1a:O\\x1a\\x03O\\x0bN\\x11I\\x03G*N\\x0e\\x0b\\x03\\x00YRx~M\\x04\\x1eT\\x07\\x1d\\x1c\\x011\\n\\r\\x03\\x00\\x17B6\\x1dE\\x08'NA\\x00\\x07*\\x00\\x1d:T\\x0c\\x0b\\n\\x1b\\x1d\\x1aO\\x04 \\x00H\\x06A\\x1bdEI\\x04G6M\\x15\\x0b\\nLF\\x1f\\x08\", b'\\x0b6\\x04\\x04\\x05jR\\x0b\\x0b \\x0b\\t+L\\x12^SW\\x00\\x1d7\\x07M\\r\\x0bT\\x1d[\\x18I$\\x01\\x0cNU\\x1d\\x1aE\\x0b\\tGbIk\\x1d\\x1cEL\\x177\\x10M\\nd\\x11\\x08C<\\x0et\\n\\x1fI\\x00\\x1b\\x0b\\x17\\r\\x15\\x06 RA\\x02\\x1aTUR<\\x00CI7\\x07I_\\r\\x05sO\\x0b\\x01A\\x05\\x0bE\\x1c\\n\\x0e6T\\x11\\x05\\x14NTR=\\x1cME\\x0b\\x01\\x0cV', b'\\x0f\\x00\\x0c\\tGbzA\\x1bT\\x07T\\x1c=\\x07MB\\x07\\x13\\x1c\\\\\\x1b\\x085\\x16b\\x06G\\x13\\x03\\t\\x02E\\x08!C\\x08\\x17\\x16\\x00L666M\\x13\\r\\x1b\\x1b\\x1aC\\x0c;e\\x18NO\\x1d\\x07,\\x06\\rG#NA\\x17SPN\\x13==\\x0c\\x02\\x1c\\x13\\x00\\x1a\\x06It\\x00\\x07\\n\\x00\\x17\\x02E\\x0c\\x11G,AM\\x06TNSR=\\x18\\x05\\n\\n\\x1d\\x0f\\x1a\\x0e\\x10 O\\x06NA', b\"\\x02\\x1eS\\x00O6\\x7f\\x13\\x01\\x08N\\x06IN\\n.7\\x03\\x01NF\\x13\\x02\\x16I$\\x06'N\\x18\\x13SGN\\x191\\x17\\x0b\\x11\\x0f\\x1d\\x0c\\x1d\\x1a\\x0e1\\x1b\\t\\x0bGR\\x0f\\x0b?I\\x157\\x00\\x13\\x11\\x03YL\\x1c?\\x13M\\x07\\x07T\\x1a\\x1dH\\x1b<\\x0e\\x00\\x1aM\\x1fd<\\x1cI\\x081LA\\x13\\x1dOC\\x166T\\x05\\x17BT\\x0f\\x1a\\x0e\\x00tO\\x04\\x1bO\\x06\\x01\\r\\x05\\x0e\\x08;\", b\"\\x1f\\x01\\x12d\\x12\\x0cI\\x06\\x05t\\x02\\x07d\\x00U\\x01\\x04\\x05\\x13\\x14bG\\r\\x17\\x1fNNR6T\\x14\\x0c\\x01TEU\\n\\x0ft\\x01\\x03\\x02\\x0c\\x06\\x0b\\x17I\\x03K+H\\x15S:\\x00HR(\\x18\\x08\\tN\\x1d\\r\\x1a\\x07\\x1a-\\x01&\\x0bS\\x1f\\x05\\x11\\x19\\x11G'Ek=\\x01\\x00N\\x137\\x19M\\x01\\x1c\\x01IT\\x0e\\x081O\\x1b\\x1bB\\x0b\\x1ao\\x19\\t\\t,\\x00\\x14\\x13\\x1cYNR\", b\"OI<&H\\x1d\\x00\\x00\\x0f\\x0b\\x10\\t3/SA\\x07SETU=\\x1bM\\n\\nT[[\\x07I \\x00\\x1bNU\\n\\x0bo\\r\\x00\\x0eb\\x00\\x15^yE\\x00\\x007TM5'\\x1d\\x1aOOI1\\x1b\\x03NA\\x17\\x01EN\\x04\\x14b\\x00\\x00R\\x03\\x00*Ry-LE\\x1dS\\rT\\n\\x0f!C\\x1a\\nA\\x1c\\x1aE\\x0c\\n\\t-\\x00\\x04>\\x1f\\x00K^>T\\x19\\x10NX\\x1d\", b'\\x13d\\x0c\\x07\\x08\\x0fHLF\\x1dSSO\\x0bx\"\\x1e\\x07N\\x15\\n\\x1a\\x18c\"O\\tN\\x00\\x17\\x1aE\\r\\n.1P\\x02;S\\x00L+!TM\\'\\x1c\\x1a\\x05We*zH\\x06\\x1aN\\x01\\x07E\\x01\\x00\\x00.T\\x0f\\x06SZ\\x00\\x1c2\\x19\\x01\\x00\\x1a\\'\\x10\\x1a\\x00I6\\x00\\x1cNGR\\x07\\x17I\\x00\\x08bYA\\x16\\x05NK\\x0b,T\\x0c\\x04\\x17\\rIO\\x1cI0\\x02H\\x06', b'N \\x1eSEA:1\\x07\\x19\\x01NTIN\\x0e\\x0c1\\x0e\\x1a\\x0f*\\x17:\\x00 \\x0bJ.A\\t\\x07SM\\x00R1\\x00M\\x08=\\x15\\x06U\\x02\\x19!A\\x07\\x1dE!\\x01E\\x04\\n\\x06)T\\x12\\x13\\x16\\x00R\\x1d,\\x13\\x05\\x16\\x07\\x1c\\x06O\\x0e\\x000\\x07\\x07\\x01y\\x07\\x0f\\nIEmbd\\x15\\x17:\\x00N\\x10/=\\x08\\x00\\t\\rER\\r\\x10-\\x00H\\x02N\\x13\\x08\\x00\\x1c&\\x06', b'<T\\x08\\x00N\\r\\x00_OI&\\x02\\x02\\rO\\x1cNEI\\x0c\\x12\\x16D\\tRSY\\r\\x1b<\\x06\\x1do\\x0b\\x18c[O\\n5\\x0e\\x00\\x1bU\\x0b\\x1c\\x11IEG P\\x0c$S\\x00G\\x017T\\x1fE-\\x1b\\x07UO\\x0c;O\\x01NS\\x06\\x05E\\x08E\\x12-\\x07\\x0f\\x16:B\\x07\\x069XM\\x06dS\\x08RO\\x08&OHNA\\x1dNE\\x1c\\x08\\x02)Y\\x14\\x00\\x00OT', b'\\x1a\\x1dI7eH\\x1aS\\x1d\\x02\\x10\\x10\\x10\\x08bI\\x15x\\x17NS\\x1ax\\x11\\x00\\x06NT\\x1a\\x1a\\x00IeO\\x01=L\\x13\\x0f\\x0e\\x04EGe\\x00\\x00RyP*\\x1d9\\x11\\x0c\\x06d\\x13IJ\\x1c\\x0c2\\x1d\\x07\\t\\x00xNEc\\x11\\x136I\\x04\\x1f\\x07SR\\x07*\\x10\\x14E\\x0b7\\x06^Oc1<\\x1c\\x1aE\\x05\\n\\x1cc\\x08\\x006Y\\x05\\x06SUT\\x0bx\\x1aM\\x0c\\x03T', b'i\\x1d\\x1a\\x16>\\x06\\x13bN\\x00\\x15SSN\\x064\\x1c,\\x04I\\x11\\x0c0O\\x0c5\\x041\\x1aS\\x07\\x0fH\\x1e\\x0e\\x12+N\\x0f\\x17\\x00*C\\x1e+\\x17\\x03o\\x02\\'\\r]O\\x07;&\\r\\x1d\\x00\\x17N\\x17\\x08\\x13G%n7\\x1a TRR;T\\x08E\\x1aTE_ON7O\\tN\\x00\\x01\"I\\x06E\\x130AA\\x10yUORt\\x1b\\x05\\x01\\x1dTIS\\x04\\x077\\n\\x0e', b'eC\\t\\x06\\x16UI\\x15x\\x0eM\\x08\\x1a\\x17\\x01V\\x0e\\x079OH\\x1ci\\x15N\\x0b\\x00\\x00\\x02-G\\x0f@\\x1cEP\\x16<TM\\n:\\x15\\x05N\\x1b\\x06\\r\\x0e\\x07\\x17H\\x1d\\x07\\x08\\x07\\x17\\x13!L\\x03\\x17\\tI*\\x007=\\x0c\\x11\\x07\\x1d\\x0e\\x16\\x0eI^\\n\\rN\\x00;\\x1d\\x04\\x04\\x10.HO\\x04RSBL\\x17+\\x03\\x026\\x1dT\\x0f\\x1a\\x18\\x08=\\x06\\x05\\x03T\\x0b\\x01II\\x10', b\"\\x1f3\\x11\\x0c\\t\\x1a\\x1a\\x06N\\x16\\x02;O\\r\\x0bA\\x06\\n\\x0b\\x08,\\x02eI\\x00R\\x17ANR0\\x10@\\nN\\x11\\x06\\x1a\\x1b\\x01:\\x07\\x06NY\\x1b\\x1a\\n\\n\\nK'N\\r\\x1b\\x07\\x00O\\x004\\x01\\x0c\\x1c\\x005\\x06M?\\x1b5\\x01\\x18\\x0b\\x00R\\x01<\\x19\\x04@5\\x00A\\x1c\\x12Sc+x\\x00\\t\\x06\\x0b\\x11I\\x1a\\x1d\\r5\\x06\\x1f\\x1bG\\x1c\\x1a\\x00\\n\\x00\\x12n\\x00\\x16R\\x1cN\", b'ISO\\x1a8\\x1bO\\x07H\\\\\\x07\\x10\\x05\\x15Gb\\x07A^\\x07\\x00\\x07\\x1f*\\x1a\\tENT\\x05\\x1aOZ0\\x02\\x1a\\rT\\x13\\x0bE\\x0cE\\x0c.CA\\x07\\x16N\\x00\\x06x\\x18\\x03\\n\\x02\\x04\\x10S\\x16\\x02tH\\x04\\x01\\x00R\\n\\x17N\\x15\\x13\\x0bF\\x0f\\x1dSR\\x19\\x17;\\x13M\\x01\\x0b1\\x06IO\\x06;OHdW\\x1d\\x17\\x1c\\n\\r\\t-\\x00A\\\\S\\x00SR5T\\x1a\\x0b\\x05', b'\\x1cN\\x14\\x17E\\x00E\\t\\'\\x00\\x02\\x06\\x16TS5+\\x1dME\\r\\x07IV\\x0b\\x08:\\x1b\\x1c\\x0b*\\x1fNE\\x10\\x06\\x0e*K\\x13_\\x01TE\\x17=\\x1dJIN\\r\\x1d[\\x0eN,\\x06H\\x07N\\x1b\\x1d\"I\\t\\x11;PA\\x06SITU9\\x17\\x18\\x01ND\\x08[\\n\\x1atOD\\x1bT\\x06N\\x08\\x1a\\x08m\\'NARSIKR9\\x12M&\\x06\\x1d\\x1aOe\\x01x\\x16', b'\\x0eeLA\\x06\\x1dH\\x07RR\\x1f\\x05\\x11\\x1d\\x1d\\x06\\x1a\\t\\x1d9\\x00H\\x07IR\\x00B\\x01\\n\\x13\\x11A8xSAO\\x13=T@\\x00\\x1c\\x11I\\x1a\\t\\x05tB\\x07\\x07NRN\\x0c\\x02\\x11\\teNA\\x1e\\x07\\x00I\\x1d7\\x18\\x01\\x02\\x00\\x1d\\x04T\\nI;eH\\x05N\\x06\\x03\\x04\\x1dE@\\'H\\x15\\x17\\x02Ey\\x13?\\x15@6\\x1a\\r\\x1eT\\x1ac;\\n\\x0b\\x0fS\"\\x07EI', b\"NR!\\x1d\\x05B\\x0fT\\x040OItO\\x0cOTR\\x06\\x00\\x07\\x0b\\t'T\\x02R\\x16\\x00\\x00\\x1d3\\x1b+\\x17\\x02\\x01\\x1d\\x1a\\x18Is\\x16\\x18dMR\\x02\\x0bD\\x10G&i\\t\\x11\\x16R\\x07R\\x7f\\x15\\x18\\x17\\x1a\\x1a\\x1cI\\x06\\x0c&H\\x06NAR\\x03\\x12N\\x0c\\x02bT\\x04\\x1c\\x1byR\\x02=\\x1cM\\x10N\\x1b\\x02\\x1a\\x01D5\\nH\\x06D\\x1cd\\x08\\x08E\\x1e+L\\x151\\x1e\", b'\\x13\\x06\\x1a\\x01\\x08t\\x1d\\x0b\\x07i\\x1b\\x0f\\x0c\\x0e\\x00G*Y\\x04R\\x07O\\x00\\x010\\x11\\x1dEd\\x00I_O\\x06<\\x0e\\x1bNA\\x17=\\x16IE(#YA\\x1dS\\x00WR;\\x15\\x0cE\\x17T\\x08\\x1a\\x1d\\x0c-\\x07OIS\\x19\\n\\nIB\\x0f6A\\x08\\x1cKSN\\x061\\x18\\t\\x00\\x01\\x11I\\x1a\\n\\x1c5B\\x1dB*\\x16N\\x1cI\\x08\\x0ebK1\\x17\\x01W\\x00\\x119\\x11\\x02\\x10', b\"\\x01\\x00GR\\x1a\\x04\\r\\x17\\x0ceN\\x0f\\x06\\x1c\\x00*\\x177\\x1ag\\x17N\\x19I[O\\x05;&\\x00'\\x00_\\x1c\\x1c\\x0fE\\x1ebT\\x00R\\x07TV\\x197\\x13M*\\x1e\\x1d\\x1a_\\x1d\\x1d5\\x06b\\x00*\\x17N\\x0c\\x1bE\\x15'EA\\x07\\x1c\\x00A\\x1b6\\x13M\\\\N\\x1d\\x0cT\\x03It\\x1aH\\x0cWR\\x1e\\x17DEG\\x11\\x001^\\x11UT\\x10!\\x18ME\\x06\\x1dICO\\x04'\", b'\\x0bG+TF\\x1eSAE\\x1fx\\x10ME\\x17~IOO:;\\x0b\\x11\\x1dT\\x10\\x0f\\x0b\\x1d\\x00G+\\rA\\x1f\\x01*O\\x14v\\x19\\x03\\n\\x1c\\x11\\x0cO\\n\\x1d<\\x1d\\x1c\\x0f\\x00\\x16\\x07E\\x073\\x03e\\x00k\\x1c\\x1cTE\\\\x\\x16\\x03\\x0b\\n\\x1a\\n^\\x07\\x08t\\x02\\x06\\x02\\x07R\\n\\tI\\x15\\x06+DA\\x17STb\\x1d+\\x18M\\n\\x1d\\x11\\x06\\x1a\\x0e\\x06^\\x06\\x1c/\\x00\\x10\\x0b\\x0c', b\"\\x07T\\x000\\x07\\x01\\x04\\x14XI0O\\x0f^\\n;\\x19\\x00x\\x01\\t\\x00E\\x06bE\\x18\\x17T\\x00C\\x06x\\x13\\x08\\x04'\\x01\\x05\\x1a\\x1c\\x06t\\x16\\x1a\\x1d\\x07\\x06\\x07E\\x06\\r\\x1e;\\x00\\x0f\\x05\\x14A\\x00129\\n\\x10\\x06TI[\\x16\\rt\\x00\\x0fN\\x00\\x06\\x00\\x0c\\x10B\\x0bbI\\x0e\\x0b\\x10IC\\x069\\x17M$\\x06\\x1bIS\\x0e\\x0e-\\x06H\\x01M\\x0b\\x005\\x1dEG6OA\\x11\", b'N\\x1c\\x05_OI:\\x16H\\x02i;\\x02(\\x05\\x08\\x06&wAR\\x00O\\x00\\x1b,TM\\x16\\x0c\\x15Iq\\x00\\x1a3HH\\x17*\\x1dN\\r\\x00EG0\\x00\\x0c\\x1f\\x11\\x00\\x00\\x174\\x13\\x04E\\x00\\r\\x08U\\x00I3\\x06\\td\\x00RN\\x08\\x1e\\x0cm\\x0b\\x00\\x05\\x1cS\\x00\\x00\\x1a,\\x1a\\x1f\\x04\\x1a\\x1f\\nT\\x03c:\\x00\\x11\\rN\\x0b\\x01E\\n\\x07\\x007\\x00M\\x1e\\x16*L\\x1a!\\x1bM'], 22: [b\"\\x1d\\x0bRO\\x16E\\x0cRR\\x14\\x07\\x00M\\x023=\\x19\\x05*\\x1a\\n\\x17\\x15FA\\x16\\x11'\\x1a5\\x0bR\\x18\\n\\x00I\\x1f@\\x0bNC\\x04H\\x1e=\\x01\\x04L\\x1dN\\x1d\\x11MAo\\x07+\\x106\\rR\\x0e\\x08\\x00\\x1a\\x1d\\x16\\x00\\x00N\\x0c\\x1d\\x00?\\x01\\x1aEI\\n \\x1cSAE\\x0f6\\x17^ER\\x06\\x04\\x00\\x0c\\x06\\x1c\\x0bNL\\x0c\\x0c\\x06=\\x06\\x06NT\\x0b\\x14\\x1b*A6H-\\x18;\\x07\\x10\\x1a\\x00UI\\x06\\x0b>/L\\x1a\\n\\x06\", b\"B\\x07\\x06\\x14\\x06N\\x1dz\\x19\\x16\\x0cR\\x02\\x10ON\\x01\\x1f~TA\\x04\\x1ab\\x07=E\\x01\\x0b\\x0bY[\\x13\\x14\\x0c'A@O.1\\x1a\\x04O\\x1a\\x0b\\x00\\x15\\x0ckB\\x1a#\\x1d\\rE\\x00C\\t\\x00\\x1aR\\x1bd\\x1a\\x00M\\x06\\x03\\x7f\\x02\\x08R\\x1a\\x0bSTSA\\x11\\x01b=^\\x0c\\x1b\\n<S\\x10\\x1f\\x00\\x08\\x02TMOm7\\x05\\x01C\\x1aNSSAM\\r\\x11\\x11\\x155\\x08\\x0b\\x0eEO\\x06\\x1c\\\\\\x1d\\x02\\x00M\\x03G9\\x01IT\", b\"\\x1fN\\x00L\\x0ce\\x0f\\x7f\\x01IE0\\x07ST\\x00\\x12\\x0c;*\\x1d9\\x0cU\\x1b\\x0bOIRRNNN\\x0b\\nG3Z\\x1e\\x00U\\x1aS\\x01A\\x13\\n\\x00b6tE\\x19\\t\\nP\\x05R\\x0b\\x0f\\x0fi\\x03&\\x06(\\x0e\\x05\\x00\\x1a\\x1d\\t\\x1bAA\\r\\t'\\x185\\x11\\x1cH6N\\nR\\x1d\\x1a\\x01EC\\x0e\\x0b1\\x1a\\x04\\x07T\\x02\\x1a\\x1fW\\x15\\x06\\x1cbT I\\x1d\\x01\\x1cUE\\x0b\\x05\\x17\\x01KM\\x06\\x02>\\x10\\x08LC\\x07\\x1cT\", b'M\\x1bG!\\x1a>AI\\x0byXi\\x02\\x08\\x02/\\x07:\\x08\\x17\\t\\x0bN\\n\\x13U\\x19\\x1dT\\t\\x04J6I\\x08C_N\\x1c\\x18U\\x08\\x04HbT:E+\\x1a\\x11A\\x0cR\\x07\\x02\\x1dHMO\\x1e;N\\x07GO\\x07\\x1f\\r*A\\x1c\\x07.\\x131\\x08\\\\\\x06\\x17T\\x06\\x1f\\x02INA\\x18\\n\\x12yI\\x1a\\x00T\\x03\\x127GA\\x0bH+\\x1c;E\\x10\\x0eE\\x00I\\x16R\\x1dN\\x00\\x05C\\x00!c\\nTO\\x01\\n\\x1d\\x00\\x15\\x0b\\x0e', b'\\x0b\\x01T\\x1a\\x17\\x16\\r\\x00A3He\\x1f;\\x10\\x0b\\nBOIR^I\\x0fGM\\x01\\x060\\x08\\x00\\r[\\x03\\x07\\x15\\x008\\n\\x011\\x17:\\x06\\x14\\x18E*\\x06\\x06\\x1d\\x00\\x1dYJ\\x0eG7\\x0c\\x1a\\x00_N\\x07\\x13N\\x13\\x04\\x07e\\x15t\\x13\\x1d\\x07\\x17AI\\x19\\x06\\x07N\\x00\\x0cOm6I\\x19R\\x1ad\\x07\\x1d\\x07\\x04\\x01\\tb\\x19s\\x04\\x06\\n\\x08B\\x08\\x1c\\x06\\x17\\r\\x00@\\x06\\x00,\\x00II\\x1adSTN\\x14E\\x1c6\\x11x\\x10', b'\\x0f\\x16\\x1cGA\\tHH\\x135\\x08\\x1fO\\x10SIU^\\x01\\x19YMO\\x12=\\x08I\\x00[\\x00\\x17T\\x00\\x18E\\x06+\\x1b0\\x0eR\\nEA\\x05\\x17_:\\x1b\\x00M\\x0bG7\\x05\\n*W\\x0f\\x03\\x1d\\x00\\t\\n\\r)\\x18t\\x101\\x1d\"I\\x07\\x17\\x17\\x14dE\\x01\\x01\\x132\\x1b\\x1dy^\\x03STykI\\x1cb\\x18t\\x10\\x06\\nEN\\nR\\x17\\x0b\\x1aY\\x05\\x00\\x08+D\\nOR\\x1a\\x14\\x11M1&\\x05)T \\x11\\x1aOEN', b\"\\x02E\\r+\\x1d8\\x06:\\x06\\x0bAI\\x1b\\x06\\x1a\\rSM\\x1b\\x067\\x1d\\x08S\\x1a\\x02\\x03\\rT\\x02E1.T$E\\x06OEEc\\n\\x17\\x00\\x17T@\\x07G!\\x0eIPO\\x02\\x16'E\\x15\\n\\x1c;\\x15,\\x17\\x01O,\\x00\\x08\\x17\\x1e\\x00\\tTM\\nmx\\x0cNRO\\x05\\x1a\\x1b\\x00\\x08\\x01\\r--tE\\x1a\\x03\\x04S\\x06R\\x13\\n\\x06DMO\\x13/\\x08\\x1cMSNSTA\\x04\\nH7\\x18;\\x00\\x0b\\x1c\\rL\\x08\\x101\\x05\", b'\\x1f6E\\x00\\x01EU\\x00\\x00\\x1b\\x00\\x02N\\x05O\\x08x.\\x01YO\\x06\\x07\\x11*\\r\\rHb\\x11:\\x00\\x1b\\x07\\tFI_xN=P\\x0bOGvI\\x0cCU\\x0b\\x1c\\x11\\x07AI\\x07 T;D\\x17\\x1d\\x0c\\x00I\\x01\\x11\\x1e\\x1b\\x00\\x18HG,\\x1a\\rs[\\nS\\x1dS\\x00\\x02\\x1d\\x0b\\x13;\\x04\\x07\\x00<*\\x06R\\x1c\\x0bNdMOG9\\x1c\\x1aLR\\x1aT\\x11N16\\x1f6Tt\\x04\\x01\\x0e\\x08\\x00I\\x13\\x13\\x0b\\x1aO\\x02\\x16', b'O\\x00M\\x05R\\x06\\x1a\\x1aL\\x01O\\x02xI\\x05NN\\x01ST\\x00\\x04EH\\x16\\x1b5\\x11\\x1bOBA\\x1a\\x17\\x13\\x1b\\x1d\\r+\\x02\\x121\\x0f\\x0bG\\x1a=\\x01\\x15U\\x15\\x13\\x1a0\\x13t\\n\\x1de\\x0b\\x00\\x19\\x16\\x11\\x02\\x1dT\\x08\\n\\x142\\x0cI*U\\x01S\\x00\\x00A\\x02\\x186\\x19<ER\\x07\\x12RE\\x07=7\\x1aI\\tO.9\\x0f\\x0cDT\\x1e\\x02\\x11EA\\x17H%\\x185\\rR\\roN\\x00\\x0b\\x17\\x06\\x03Y\\x19OG!\\x04I', b'\\x13\\x1e\\x07\\x1dT\\x05\\x1b\\x131\\x05 T0\\x0f\\x16\\x17OAB!&\\x1a9,\\x1a\\x18\\x16H\\x1a\\x10RN\\x1aA\\x14\\x01\\x08x\\x06\\x10P[\\x0b\\x16\\x1d*\\x00\\x00\\x06eT1\\x03\\x17\\n\\x0bN\\r!SdB\\x00\\x0c\\x06\\x137I\\x06EUN\\x075\\x00\\x0f\\x07\\r\\x05\\x16&\\x15R\\x0e\\x11T\\x1d\\x06\\x1cNN\\x07L\\x00K,I\\x1dc^\\x07\\x1d\\x1bCA\\x10H0=1\\nR\\x0e\\x1cI\\x0f\\x1d>\\n\\r\\x00M\\n\\x12xI\\x05F\\x1a\\x0b\\x1e', b'N\\x01\\x04G0\\x08\\x00I_\\x0fT\\x00i\\x0f\\x11\\rb\"7E\\x1dO\\x00\\x00\\x0c\\x17\\x17\\x0bNE\\x1d\\x1b\\x02<I\\x02Uq\\x1cS\\x11L\\x02\\x11\\x1aH\\x19sE\\x1e\\x02\\x17EI\\x06\\x1dN\\x17PMeG4\\x1d\\x02OJ\\x07\\x03TCk\\x17\\x04%\\x13-\\x15\\x17\\x16\\nI\\x0e\\x06R\\x1c\\x06\\x00Me@*I\\x1c\\x00\\x1a\\n\\x1b1\\x00\\x15\\x01\\x0b\\'\\x175\\x08\\x17OEN\\x1d\\x0b^\\x1a\\x1bY\\x0cOG,\\x06\\x08SS\\x08\\x1c\\x01cA\\x10', b\"<I\\x0cY_\\x1a\\x1d\\x1aSF\\x08\\x016\\x10t\\x15\\x06\\x0e\\x04W\\x07xR\\r\\x1cDM\\x16\\x08,\\x05\\x01N\\x1a\\x1aS\\x1aNA\\x17\\x1a+\\x00t\\t;\\x1c\\x16T\\x05\\x0b^\\r\\x0f\\x00MBK9*?YS\\x07\\x16\\x04\\x00\\x12\\t\\x1f)9-\\t\\x00OEP\\x1bR\\x07\\x00\\x0bI\\x01\\x0e\\x080\\x08N\\x19_\\x0f\\x01\\x07*\\x0e\\x00DHX!\\x11R\\x03\\x17EI\\x05\\x16B\\x06\\x00M\\n\\tt\\x10\\x19TR\\x00\\x01\\x1dT\\x14\\x10\\x06-\\x1b'\", b'\\x1adS\\x11\\x00FBOb\\x07t\\x0bRO\\x0cT\\x01\\x1c\\x07\\x07Iwg\\x00\\x02xcIKN\\x0f\\x16TS\\t\\x0c\\x0c-\\x13<\\x06\\x16Oo\\x00N\\x1dR\\x1cN\\x00M\\x1bG6\\x1dD\\x00]\\x01:\\x11K\\x0fEH!T1\\r\\x1b\\x00\\x0c\\x00\\x06x\\x06\\x07\\x03T\\x03H\\x13;\\x00\\x19U[\\x00KD\\x00\\x0fE\\x07\\x11\\x1atE+O\\x17O\\x1d\\x1d\\x17NdA\\x08O\\x0e,\\x0eIK\\x1aN\\x1f\\x1dAME\\x0bn\\x1a0\\x0e\\x1f\\x01\\x0c', b\"i \\x12\\x04 \\x07tE\\x15O\\x0b\\x07\\n;\\x06\\x1d\\x0bI\\x1e\\x03\\x130:\\x07\\x070:\\x1fTE\\x18E\\x1c-\\x06 E\\x11\\x00\\x1cA\\x06\\x13;\\x0f\\x03N\\x03\\x16\\x0c+\\x19ILU\\x07S\\rH\\x0c5\\x18'\\x135\\x11\\x00\\x1cEY\\x07\\x04\\x1c\\x1a\\x01n\\x05\\x01\\x060\\rIT\\x16\\x05\\x03\\x13V\\x05\\\\H5\\x106I\\x1dH\\ty\\x06\\x01\\x17\\x1c\\x01SMBm+\\x08\\x0cSR\\x01\\x11\\rG\\x05\\x04\\x046T^ER\\x04\\x00Y\\x0cR\\x11\", b\"eT<\\t\\x13O\\x04H\\x06\\x1d\\x1dN\\x01\\x00MOG4\\x0c\\x05\\x00C\\x01\\x07\\x07i\\t\\nb0T;\\nR\\x00EG\\x02\\x1d\\x1f\\x02\\rNM\\x01Gx\\x06IEN\\x1cy\\x1bW\\x0c*\\x07'\\x11zIROER\\x10\\x17\\x13NII\\n\\x07\\x117\\x0cNN_N\\x1c\\x1d\\x00\\x04\\x00\\x00'Tt\\x0c\\x17O\\n\\x00I\\x06\\x0b\\x01\\x1bOMCG=cDy\\x1a\\n\\x05TAA\\nH-\\x1b-\\tR,5W\\x1a\\x0b\\x00NN*M\", b'\\x1f\\x1d\\x0c\\x00\\n\\x1f\\x1e\\x0f\\x07N\\x19\\x02\\t:\\x0f\\x0eSVNS\\x13\\x00A\\x17He\\x11\"$Re\\x0b\\x00\\x05\\x07\\x07\\x01ND\\x08\\x0e\\x0e<\\n\\rLNN\\x07\\x11Y\\x00\\'\\t*\\x11<\\x10\\x06OE\\x00\\x08\\x01\\x05\\x17\\x07L\\x1f\\x1bG6I\\x1bIMNST\\x00k\\x0b\\x06\\x0bT0\\x11R\\x03\\x0cS\\x08;\\x16\\x1d\\n\\x00\\x1f\\x1a@xcIC\\x1a7S\\x1bWA\\x00\\x1b6\\x03-\\x08R\\x18E\\x00\\x0f\\x1d\\x1e\\x06\\x0f\\x00M\\x02\\x08\\x08c', b'I\\x1d\\x1ed\\x05Y\\x01\\x1d\\txI\\x10T_\\x02\\x1c\\x1dA\\x15\\x07\\x01;\\x13;\\x0b\\x1fO\\x00N\\x1dx\\x17d\\x0bG\\x1d\\x00\\x08x\\x1a\\x0fO\\x1a\\x0fS\\x1dO\\x05\\n\\x18.\\x17!\\x03\\x17CE\\x00\\x1d\\x1d$\\'NO\\x04\\x06\\t4\\x0c\\x01L\\x1d\\x1a\\x1c\\x1a\\x007\\x16&  tBU\\x0eE\\x00\\x00\\x17\\x1cN\\x05\\x00\\x14\\x00\\x08:\\x00IRI\":\\x01A\\x0e$\\x1d\\'\\x03&\\nR\\x07EU\\x1e\\x1c\\x06\\x17\\x1bM\\x0c\\x06\\x1e5\\x07\\x1cNV', b'\\x1cC\\x08&GxI\\r\\x07N\\x02S\\x06G\\x0eE\\x0cb\\x1c1\\x13\\x1d\\n\\tOI\\x15R\\n\\x06sM&\\x130I\\rNVN\\x01\\x01T\\x0f\\x08\\x03b\\x11tE\\x17\\x1b\\x11E\\x1bR\\x1f\\x1e\\x07N\\x0cH\\x15x\\x07\\x07\\x07SN\\x16\\x1d\\x00\\x0e\\x10O;=;\\x04\\x13\\x07\\x08\\x00\\x04R\\x1f\\x1a\\x1aNM\\x02\\x02;NIN_\\r\\x10\\x11T\\x04\\x06\\x1a,\\x01:E\\x13\\x1d\\x1cN\\x0f\\x1b\\x15\\x1d\\x06\\x00\\x05\\x00\\t=\\x10\\x1d\\x00O\\x01\\x00XA', b\"\\x0e3I\\x07O~\\x1aSTH\\x00\\x01\\x07+\\x03^\\x005\\x0eEE\\x1c\\x06RN\\x07I\\x00O\\x06,\\x10\\x1d\\x00\\x1a\\x0fSTU\\x00\\x04\\x1b*T5\\x006\\x01\\rTI\\x1bR\\x1c\\x0bN\\x14\\x1dGx\\x07\\x04HC\\x01\\x14TN\\x03E\\x03#T3E\\x1d?EZ\\x1a\\x17\\x1b\\nNF\\x08\\x07G<\\x04\\x10N[\\x1d:S\\x00\\x12\\x04H'\\x001\\x00\\x16O\\x1cT\\x02\\x1d\\x10\\t\\x1bT\\x02\\x06\\x0e9\\x08\\x1cK\\x1aN\\x16\\x1dS\\x16\\x0cH;\", b\"NS\\x1aS\\x12j\\t\\x04\\x0b'\\x0e&\\t\\x1cC(\\x00\\x06\\x06xNN\\x00\\x19\\x0b\\t*\\x0c N[\\x0fT\\x00*\\x0fo\\x1b!\\x003E\\x13\\x1b\\x0e\\x00\\x0c\\x0b\\x13\\x1cdC\\x03AK7I\\x06W[\\x07S\\x1dOAEbe\\x012\\x00\\x1c\\x1c\\rT\\x1cR\\x1a\\x07\\x0bR\\x03\\x00\\x0f9I\\x08*\\x1a\\x17S\\x1dNAE\\x1c1T:\\x15\\x02OI\\x00I\\x05\\x06\\x06BN\\x02O\\t=I\\nTT\\x1aS\\rO\\x15E\\x1c+T7&R\", b\"\\x13N\\t\\x00Hb\\x11:\\x17R\\x16\\x10SIR\\x0b\\x17O\\x07,\\x0e\\x147\\x01\\x00\\x00VNSTGF\\x16\\x00\\x11\\x10e\\n\\x19\\x1d\\x0c*\\x1d\\x13\\x17=\\x02I\\x03\\x16(=\\x06I\\x00\\x1a)\\x11\\x1dN\\r\\x06\\x067~53R\\x16\\x17\\x00\\r\\x1bR\\x06IP\\x0cO\\x14=\\x0c\\x1eAT\\x01\\x07'MA\\x1c\\x06b\\x137E\\x13\\rEII\\x06Rd\\nA\\x04\\x00G?\\rcK\\x1adS\\x11DA\\x01H,\\x1c6E\\x11eIO\\x1d\", b'\\x01e\\x117\\x086\\x02\\x01A\\x04\\\\\\x15NdLM\\nG+\\x07IT\\\\\\x0b\\x00\\x19I\\x00\\x06\\t\\'Tt\\x00\\x1dOHME\\x1d\\x1e\\'NKM\\x0e\\x0e6\\x0e\\x00V\\x1a\\x1ay\\x1aG\\x0e\\x04\\x1c&\\x18;\\nR<\\x0bA\\x08\\x1b\\x17-NN\\x19\\x06\\x157\\x1bc\\x00\\x1dB\\x1d\\x1aA\\x0fE\\x07\\'\\x001B\\x06\\n\\x04B\\r\\x17\\x11\\x1a\\x0cH\\t<\\x086\\x04\\x1cb\\x1a\\x17y\\rB\\x11\"Hb\\x12=\\x08^\\x0e\\n*I\"R\\x03\\x06'], 15: [b\"\\x1d\\x1f\\x00\\x06\\x1e\\x1d\\x0cG\\x08A\\x1a\\x1aA\\x0b\\x07\\x08\\x16\\x07\\x1bN\\x00O=\\x0eN\\x1fAB*1\\x1d\\x0b\\x1cR\\x0f\\x19\\x02\\x08\\x00:\\r\\x00b\\x11\\x0beA\\x13dA\\n0\\x02_SN\\n!<R\\x0c\\x06\\x17NMG\\x01L=\\x15\\x05\\x066E\\x02A\\x1b\\rYA6\\n\\x1aSE\\x04';RE\\x19\\x1bN\\x0c\\x06\\x07O\\x07T\\x12\\x07\\x01\\r\\x1d\\x00\\x04\\x00N\\x07,\\x1aMSS\\x16\\x055\\x13\\n\\x06\\x1b\\x0b\\x0c\\x0f\\x00y\\x01\\x13\\x08\\x07T\\x04\\x06S\\x07\\x08\\x00\\x001I\\x1a\\x12\\x00\\x00b:+EI\\x17\\x06\\tG\\x1cN7\\x11M\\x1d=I\\x1dN\\x16\\t\\x00\\x06=IRSG\\nb-\\x01\\x00\\x0f\\x17\\x02\\x0c\\x12\\x10\\x00\\x08\\x1d\\x16\\x06\\x11&\\x01N\", b'BI\\x1e\\x00\\x08G\\x1aO\\x1a\\r\\tO\\x13\\x17OA\\\\NN\\x02:\\x05N\\x1cO\\x0cb7\\x17E\\x07^Ng\\x12\\x01\\x07\\x02\\x19\\tH\\x1a$OYxNN&<\\x08\\x1aS\\x00o-0\\x19\\x1cc\\x1e\\r\\x0b\\x1e\\nG\\x0b\\x1d\\x00\\x00\\x11E\\x1aT\\x0b\\x00C\\x1b7IU\\x16G* 6\\x06\\x0b\\x1a$B\\x03\\x15\\x1dG\\x01\\x04\\x13bT\\x10\\x16Y\\x17-IH?\\x1bUS\\x00\\x07\\';\\x17\\x17\\x1a\\x07N\\x03\\x13\\x1bA\\x05\\x1b\\x0f\\x00\\x13E\\x03R\\x1fN\\x07\\x0e;\\x1cT:*\\x011t\\x06E\\x06\\x13\\x0cMG\\x06C\\x1eS\\x0eHTEO\\x00\\x1dB\\x00O,\\n\\x1a\\x11A\"-t\\x10E\\x00\\\\\\x1bM\\x02\\x10S\\x01\\x1d\\x14\\x1cT\\x0eOOR\\x05', b'\\x1f\\x1c\\x01GIY\\x17\\x12FH\\x11E\\x06A\\x1d\\x00\\x00\\x02x\\x10_\\x16\\x00Eb:5\\x04IxIM\\x14:S\\x0b\\x07\\r\\x11\\x11\\x11\\x0bN\\x10Ns\\x1b6\\x1d\\x1a\\x07*\\x0c+e\\x11EE\\x1f=\\x04\\x0e\\x0fO\\x0f\\x1d\\x13\\x03\\x19E\\x01T\\x06\\x1c\\x00\\x0b=IOyWI+<\\x1d\\t\\x1dS\\x0f\\x0cGNH\\x07\\x13AH\\x183\\x1c\\x00\\x1bN\\x00\\x1d6I\\x1a\\x1c\\x00\\r;-\\\\E\\x1b\\x06\\x0b\\x03\\x13\\x0cT\\x05\\x1a\\x04\\x1d\\x17\\x11\\x07S\\x17NE\\x02*\\x1a[\\x01\\x07E\\x11t\\x13\\t\\x06\\x11\\x1bM\\x06cDN\\x01A\\x1c\\x01\\x08\\x0eT\\x05\\x17NO+cRSB\\n6;Ro\\x06\\x06\\rM\\t\\x06TN\\x1d\\x14\\x1c\\x1a\\x11eY\\x10\\x03*\\x16', b'M\\x0eIT\\x1a\\x11AH\\x07\\x06\\x02H\\x00\\x14NOR\\x100SG\\x11/^\\x06B\\x06\\x07\\x19,\\x13\\x1dT\\x01\\x11AH\\x1bEOHR\\nE\\x04,\\x01[TSE\\x11 \\x06H\\x02xN\\x08\\x12\\x1aO\\x0b\\x01\\x0f\\x1aT\\x00\\x1c*\\x0b\\x1c\\x00\\x16+I\\x1ay\\x07o*t\\x00E\\r\\x0b\\x07M\\x1e\\x07YN\\x1d\\x0f\\r~\\x11OA\\x17\\x1eN\\x1b2\\x08\\x1d\\x07A\\x10%1\\x1dEI\\x1a\\x03\\x01\\x14\\rRB\\x1d\\x00\\x0fTE\\n\\x00\\x06\\x1aNey\\x10_\\x07NEb7\\x1d\\x04\\r\\x0bN\\x0c@\\x0fC\"\\x1b\\x15\\x1a\\x17EOE\\x1c\\x06A\\x00?\\x0cSyA6--RE\\x1e>\\x01\\x05GcK\\x00T\\x15\\x0bTE\\x04L\"NO\\n\\x08I', b\"\\x0bNd\\x1c\\t\\x04\\x1d\\x08OUR\\x0fL\\x16x 0Si\\x08+t\\x0b(\\x01^O\\x1e\\x06\\x07\\x00\\x06\\x15AH\\x07\\x0b\\x18O\\x15\\x0bTO,\\x00[\\x16\\x00\\x16-$\\x1dEI@N+.\\x1aP\\x1a\\x01\\x02HT\\t\\x18\\x00\\x1d:I\\x16!\\x00N\\x1cM'0\\r\\x17\\x0b\\x05\\x1f\\x17MG*\\x00\\x07\\x11\\t\\x06\\x13\\x17<R\\x01\\x00L\\n\\x7f\\x01U\\t\\x00\\x17.3\\x00\\x17\\x1c\\x06d\\x0c\\x06\\x0c\\x00N\\x1dA\\x06\\x19\\x0c\\x0eTR\\x1a\\x00\\n<N\\x1aS\\x00Ib6\\x1a\\x04I\\x1cN\\x1f.\\x05R\\x07\\x1f\\x04\\x0b\\x1c\\x00\\x03B\\x05NY\\x00+\\x1c\\x1a\\x05N665\\x0bE\\x0f\\x05\\x06\\x0c\\x00\\x08Td\\rM\\x05\\x1cE\\x1c*\\x0b\\x0bL\\x02!IV\\x1e\", b'\\x0f\\x13 \\r\\x11\\t\\x01E\\x1f\\x1az\\x1d1INTi\\x016;\\x1c\\x0cI\\x0b\\x0bMG\\x0cY\\n\\x13\\x04\\x1a\\x13,\\x1bO\\x17\\x19I\\x160 N\\x17GE.tR\\tI\\x07\\x1d@\\x08\\x06\\x00N\\x11\\x08\\x1b\\x00\\x06\\x1b\\x00\\x17=N\\x076IU\\x1dY\\x13#!\\x17\\n\\x1b\\x1d\\x1d\\x14K\\x0cW\\x01\\x1d\\r\\x18\\x15\\nO\\x00\\x1d\\x17T\\x064\\x06\\x1a\\x16C\\x1c#-\\x1d\\r\\x06\\x17I\\x05m\\x1bN\\n\\x1ck\\x18=B\\x0eNR\\x1cA\\x070\\x19\\x1aKy\\x1c5t\\x06\\n\\x06\\x1c\\n\\tm\\x00c\\x02\\x11\\x15H\\x00\\x11\\n\\x00\\x1d\\x0bAB/\\x1c\\x1aT*\\x00%5R\\x1cE\\x15\\x1b\\x05\\x0e\\x10I\\x1a\\x1d1HT\\x00\\x0eW\\x13>\\x00O9\\x1c\\x1a\\x1cA\\x10', b\"\\x02\\x01TEO\\x00RNY\\x1b\\x7f\\r_yH\\x08e&R\\x10I\\x06\\rMG.*NTA\\x01\\x1a\\x0c\\n\\x00\\x13ND\\x01*I[SEE';\\x1b\\n\\x05\\x13'\\x1d\\x08ZN\\x1c\\x18\\x00\\x1a\\x17EOA\\x13\\x0fT\\x0ex\\x0c\\x1d\\x07UB.1\\x19\\x11I\\x07\\x0bMGI\\x00\\x0f\\x1d\\x0c\\x1c\\x18I\\x1d\\x00\\x01\\x02\\x00\\x067\\x05S\\x03*E)t\\x1c\\x0c\\x07R\\x01M\\x15\\x0cs\\nTA\\x01 \\x15H\\x00\\x06IF\\x0e6\\x08[SM\\\\-1\\x17<\\x0c\\x16\\x1aM\\x08I\\x07\\r1AHX\\x04OORdSO6DR\\x14W\\x17\\x11&R\\x1c\\x0f^N\\x02\\t\\x00TN\\x11A\\x04\\x18\\x08,\\x00\\x06\\x06Y\\x035\\x05C\\x00c\\x0b;'\", b'\\x1f\\x0b\\x1dM\\x14dTex\\x00ISS3\\'t\\x1f\\x10\\n\\x06dM\\x08\\x19S\\x01~\\x15!\\x1d\\x13ON\\x06\\rG\\x0bxIV\\x1fT\\x060:R\\x0b\\x1a\\x14\\x0b\\x14GIUNTA\\x01\\x00\\x06\\n*\\x13\\x00K\\x01v\\x04N\\x01\\x0c\\net\\x17\\x17\\x0cR\\x0fJK\\x1d*)\\r\\x15\\x1c\\x11D\\x0e\\x00\\x16dO\\x06(\\x07J\\x1fN\\te2\\x1b\"\\r\\x1c\\t\\x19\\x11\\x1aEN\\x00A&\\x16\\x11\\x07I\\x1f\\nIO9\\x19^\\x07V\\x01\\'t\\x07\\x04\\x08=\\x02\\x14K\\x1aN\\n7\\x12D\\x19\\x15ON\\x06\\x1cD<=\\x1aTSE\\r\\'1\\x1d\\x1c\\x1dR\\x1bM\\x00IK\\x1a\\x11\\x05H\\x12\\t\\x0eU\\x1d\\x06\\x00\\x06x\\x08O\\x1c\\x00\\x0c-xR\\x0c', b\"O\\x07\\x1d\\x07L&0>~\\x1d\\x00\\x04b5R\\x0bI\\x15\\x01\\x053\\x0fN\\x01\\x1dA;\\x1cE\\tExI\\x00\\x00=\\x000\\x03I\\nb5RB[\\x17\\x1a\\x0b\\x13IC\\x0f\\x1a8\\x1b\\x13\\x0e\\x1dA\\n'NO=\\r\\x1a\\x00O\\x00bt\\x1e\\x11I^\\x1d\\x03G\\x05\\x00\\x07'\\x0e\\x07T\\rO\\x00R'\\x00&x\\x02O\\x14\\x00\\x04e11\\x17\\x07\\x1eN\\nG\\x01I\\x01T7\\r\\x18\\x04\\x16T\\x17\\x00\\x00\\x00;\\x1dT\\x03\\x00E';R\\x0cE\\x00\\x05L\\x0bN\\x00\\x03S\\x0e\\tTE\\nI\\x01\\nHC9\\x06\\x1a\\x02A$0 \\x13EI\\x10\\x06@\\t\\x0eOd\\r\\x04H\\x1b\\x04\\x1a\\x00\\x0b\\x1dM\\n>\\x1dS\\nS\\x1067\\x1fE\\x1d\\x11\", b'\\x13NC\\x04!\\x07_\\x16jBH:\\x15\\x0b\\x04\\x1d\\x02M\\tIO\\x02\\x17\\x12\\x0c\"\\x08\\x0eWRNwO7\\x07\\x1a\\x00i\\r\\'\"\\x1b\\x0b\\x1dRNM\\x02I\\x00\\x1a\\x15\\x0f\\x0c\\x1b\\n\\x00E\\x1d\\x02PH<\\x0b\\x1aS*\\nbs+\\r\\x05\\x1ddMG\\x06L\\x02\\x1a\\x0c\\x07\\x10\\x10e\\x00\\x1ddiH4\\x07C\\x16NE!tRE\\x08\\x17I\\x18\\x00I*\\x0b\\x1a\\x0f\\t=\\x15\\x06ZR\\x07RH2\\x1e\\x16\\x1aA\\x00\\x0b^R\\x12\\x10\\x1cNC\\x02I\\x00\\x1d\\x07\\x04\\x1c\\x1a\\x10\\ryR\\x1aOO=ITSA\\x10b:\\x17E\\x02\\x16\\r\\x02\\x0eDK\\x01T\\x11HT\\x07\\x18N\\x1c\\x17\\x00\\x06=\\x08O\\x16TE+0\\x1aI\\x0c1\\x06M', b'N\\x1b3\\x0c\\x1aS\\x00\\tbt:\\x01\\x06\\x1b\\x07\\x19\\x02\\x02T\\x0fT\\x0e\\r\\x07\\x00\\x0eO\\x06\\x07Y\\x0e0\\x08\\\\\\x07*\\x16e5\\x01\\x00\\x1aR\\x06\\x1dJ\\x10N\\x03\\x00\\t\\x06\\x10EOM\\x1dNC\\x0e1\\x04\\x1a\\x16A\\x08H:6\\x16\\x06\\x13NM(\\x19P\\x1a\\x1bA\\x07\\x11\\nC\\x00!\\x0fNe;\\x04S\\x07OE)5\\x00,\\x08\\x13\\x1b\\x0cG\\x0cR\\x1a5AO\\x13\\x08?P\\x19\\x07T\\x01=IO\\x1d\\x00\\x0260R<\\x00\\x1c\\x01M@IN\\x0f\\x1dA\\x07\\x18EHS\\x17\\x01d\\x0cx\\x0c\\x1a:C\\x06,5\\x10\\x1cI\\x06B\\x08\\x08\\rSN\\rA\\x1f\\x18\\x08\\rO\\x1c\\nK\\x00,\\n\\x1a\\x01NEn \\x11\\x00\\x08RN\\x02\\x06c', b\"<\\x01SSG\\x00 86\\x04\\x00R\\x07\\x01\\x0cIT\\x07\\x06\\x0f\\x02\\x03\\x15\\n\\x00\\x1c\\x01\\x07\\x037IC\\x07F\\x17\\x16=\\x1f\\x16IRN\\t\\x06\\x05\\r\\x0fT\\x18\\x00\\x06EOG_\\x0bD\\x021\\x0f[ST\\x11b5;E\\x0cR\\x1b\\x03\\x0c\\x0eV\\x1c\\x11A\\t\\x13ECNR\\x1ePOx?_SK\\n75\\x01\\x0b\\x10\\x11\\x00\\x1f\\x14\\x02LN\\x1b\\x0e\\x04\\x13EOAR\\x07EO0N\\x1d\\x1cSE\\x0b<\\x1bE\\x1d\\x1d\\x1aM\\x12\\x04\\x19d\\x1d\\x0f\\x1c\\x13I\\x03B\\x06\\x0bL\\x1a9\\x01I\\x1dW\\x06';\\x16\\x17\\x08\\x06d\\x05G\\x08M\\x17T1H\\x03\\r\\x0eU\\x1d\\x17\\x00O!\\x1cRSOE)6R\\rI\\x00\\x1a\\x1a\\x08\\x04T\", b\"\\x1a\\x16N\\x12+7\\x13E\\x0c\\x1e\\x1a\\x19\\t\\x05E\\x02\\x00\\x02\\x07\\x10\\x10CTU\\x17I\\x1b+\\x05O\\x17\\x00Eb;\\x1a\\x0bI\\x17\\x1d\\x00\\x08\\x08N\\x0fTF\\x1cT\\x00\\x00F\\x1f\\x01\\rOx\\x10U\\x01L\\x04*t\\x14\\x0eN_\\x02\\x03G\\x0eE\\x0b\\x11\\x00\\x1a\\x1d\\x03\\nPRNH\\x1d9\\x1a[:\\x00\\x06',REI\\x16\\x07\\x08\\x03\\x0cE\\x1d\\x1dk\\x07T\\t\\x07Tx\\x14P\\x01xc_SS\\x0b6^U\\x11\\n\\x1f\\x06\\x18G\\x08R\\x17Dk\\x06\\x10E\\n\\x00R\\x0b\\x00O7I^\\x1aT\\x01+1R\\x08I\\x17\\x1a\\x04m\\x08b\\n\\x11A\\x1b\\x18\\x08\\x07I\\x0b\\x1dYC9\\x19\\x1aSA&,^\\x0b\\n\\x1a\\x13/MG\\x01N\\x0bT\", b\"iEe<\\x00\\x16\\n\\x06\\x1d\\x01\\x13\\x01\\x07\\x0fX\\x00\\x01\\x1f\\tOSR\\x1dS\\n4\\x01\\x1aS\\x00\\x04;9U\\t\\x0cU\\x07M\\x06\\x0cK\\x00T\\x181T\\n\\x07\\x00\\x07\\x1bA\\x00x\\x1eVSU\\x04+:\\x13o\\x05\\x17\\x03@\\x0e\\x06CN\\x11\\x15\\x1a\\x17\\x03\\tE\\x06\\x02NB7\\x06]\\x03N5;;R\\x0c\\x1a\\x05\\x1dM\\tI\\x00NTA\\x039\\x13\\x1c\\x00\\x17\\x06n\\n7N[ \\x00\\x02btR6\\x04RN\\x08\\x08I*\\x00TAH-BO*\\x06\\x1dIO:\\x1dT\\x10\\x00\\x0b'!\\x06I\\x1d\\x17\\nM\\x13\\x04y\\x1a\\x1bAH\\x15\\n\\x0eU\\x1b\\x1a\\x00\\x06tIT\\x1fM\\x016;^5I\\x0b\\x0f\\x19G\\x07F\\x07XA\\x0e\", b\"e6R\\x0c\\x05\\x06\\x05\\x05\\x0fII\\x0bTFH\\x0e\\x0bOS;\\x1aLOx\\x05VST\\x07&9\\x1d\\x00\\nR\\x1cM\\tc\\x00NT\\x02\\tT\\x00\\x18\\x00\\x17\\x0cG\\x013\\rq\\x1cU\\x1713\\x16E\\x1d;\\x17MGILN\\x15k\\x18TE\\x1bER\\x1c\\x00\\x0e7DW\\x11H\\n&z\\x17\\x08\\x08\\x11\\x1a\\x04\\x13\\x0e\\x07\\x07\\r\\x03\\x1f\\x15\\x00\\x00I\\x1b\\x1aT\\x067\\rIS\\x00\\x11 &\\x1c\\x08\\x0e\\x02N\\x01mIU\\x03'\\x05\\r\\x00\\x0c\\x00\\x00;7T\\x00,\\x04_\\x1bG\\x04Hs\\x02\\x17\\nR\\x01M\\x08cL\\x0b\\x1bA\\x11\\x03\\n\\x01N\\x0b\\x1dT\\n,\\n\\x1a\\x14D\\x047=R\\x08I\\x1e\\x03M\\x1eIL\\x01\\x01\\x15H\\x1b\\x10\"], 33: [b\"\\x1dIO_\\x0c\\x1a\\x14\\x08M\\x10=\\x06*W\\x17RAD'\\x08\\x0b\\x01\\n\\x1a\\x1fNN\\x1aHt\\x01\\x1c\\x1d\\x05\\x11\\roM\\x109RY\\x00\\x16\\x16\\x12N)\\x00\\t\\x1aE\\nRS\\x0b\\x0f\\x0e^\\x08\\x06_\\x0c\\x07\\x0b\\x00\\x0cX=RNE\\x14\\x16A\\x00-\\t\\x07\\x19\\x00\\x00\\x06T/\\x06\\n'\", b'Bd\\x14\\x00\\x1dO\\x16t\\x02ON\\x01~\\x07\\x04g\\x07x\\x01KY\\x16\\x14\\tA-.\\x06\\x04o\\x0b\\x1d\\x0cN\\x1a\\x1b\\r\\x1dC]\\x1a\\x11dEMT\\x7f\\x1bR\\x00S\\x06ATb\\x13\\x0c\\x19<\\x00\\x1f\\x00\\x02\\x07Ot\\x05O\\x1a\\x1dSN\\r\\x08\\x15,\\x0bKO\\x1f\\\\M\\x00nG\\x0eI\\x0c', b'\\x1f L \\x0fEI\\x0b\\x07;\\x00\\x0b;\\x039:\\x1b0ITNE\\x0b\\x063\\x11\\x00AS;\\x13Nb\\x0cEI\\n\\x07RH\\x0f\\x18&5\\x0e\\x1c\\x1a\\x07\\x1b\\x1a\\r\\x05\\x180\\x1cTN\\x03\\x1d\\x05E5\\x0bI\\x04\\t\\x02\\x01W\\x01\\x1cB \\x08\\x01RE\\r\\x17\\x04MT>RLY\\x1c\\x11', b\"MT!\\x13AHy\\x1d\\x02\\x00/G\\x08\\x05\\x0b\\x01\\x13i\\x1db\\x04;I\\x00_\\x02\\x18\\x02\\x04MTx+EAy\\x07\\x0cH'\\x1eI\\x07E\\x07\\x17*I\\x07\\x071\\x0c\\x06_\\x06\\x1dI\\x00\\x18Ty\\x17\\x00\\x00\\x12\\x0bAO+GEDE\\n\\x16ANHC-c,O\\x1a\\x1dN\\x0bM\", b\"\\x0b\\x1d\\x1a\\n\\r\\x0f3\\x19\\x1f:\\x0bSOS^AGe\\x06$\\x00\\x0b\\x03\\x07\\x00N\\x01\\x0e:\\n\\x18N\\x06\\x11\\x00'J\\x117\\x06\\x00\\x00\\x07\\x05\\x13LeG\\x13\\x1b\\x17N\\x19\\x00N\\x06O0I\\x03\\x1a\\x08\\x1d\\x1d\\x01\\x1f\\x19x\\x06CBS\\x06A\\x006\\x00\\x08IEd\\x1dN\\x0f\\x1c\\x02xc\", b\"\\x0f\\x1dG\\x05H\\x1d5IO_I\\x1d\\x01\\x07M\\x13=\\x1f\\x00N\\x17\\x17\\x18G+\\x08\\x0e\\x0fE\\x0f\\x17O\\x1b\\x18\\x0b!\\x05CW\\x1d\\x1d'\\n\\x04\\x1841LI\\x1c\\x177E \\x13B\\x1dE\\x03\\x17y\\x05\\x1c\\x00t\\x00\\nI\\n\\x01\\x0b$\\x05\\x03+ROU\\x14\\x061M)\\x1e\\x11\\x1cE\", b'\\x02C+G\\x06\\r\\x0b\\x02\\x1bG\\r\\x0c\\x1b1\\x1d\\n\\x1aI\\r\\nEMT0\\x06NE\\x01\\x17\\x0fTbGEI\\x11\\x02RE\\x07\\x1cH,\\x07OS\\x08\\x1d\\x00\\x10M=x\\x13R\\x00\\x1a\\x1f\\x08N-\\x02EI\\x04\\rRT\\x06\\x1aO:\\x08\\x1dS\\x0fT\\x1d\\n\\x05\\x18=\\x0b\\x00L\\x001', b\"\\x1f3\\x00OUS\\x1b\\x00N+\\x08\\x00\\x01E\\x06\\x06*\\x07HO:\\x10\\x07\\x1aITN\\x04\\x0bTv6CT\\x1cRAN GD\\x04\\x0c\\x01\\x01N\\x1b\\x03H3\\x1a?[\\x1a\\x1d\\n\\x02\\x08\\x13<\\x07N*:\\x1c\\x12d'G\\x00\\x1a\\x1c\\x1a\\x1dN\\x1b\\x1f\\x06t\\x08\\x0e\\x1aI\\x1d\\x0b\\x0c\\x02\", b'OS\\x05\\x12\\x1a\\x04\\x01\\x0ex\\x1cN\\x00Sx\\x04\\x00\\x16\\t\\x11 B\\x0f\\x17*\\x1d\\x1b\\x023\\x0f\\x1b\\x1a\\x0c\\x15\\x1c\\x13\\x03\\x137\\x1dW\\x00S\\x11ATe\\x14\\x00I\\r\\x01R\\x00\\x0b\\x18\\x00<I\\x07\\x1aE\\x1d7E\\tT9\\x02D\\x00\\x02\\x06AN%\\t\\r\\no\\x1a\\x0bO\\x03\\x1cO7\\x04', b'\\x13N\\x1dH\\x1b:\\x05\\x160I\\x17\\x17B,\\x1a7\\x1a\\x00HSRFA\\x11\\x08\\n\\x10\\x0c\\x0b\\x13*\\x02\\x06\\x161\\x06\\n\\x1a\\r\\x1dd\\x06\\x0c~7RE\\x00\\x07R\\x0fP\\x05\\x14\\x15\\x1e\\x11\\x01\\x06MN\\x06\\x007I\\r^I\\x1bd\\x10\\x04=?RKIS>A\\x00,\\x12E\\x05I\\x0b', b'NeG\\x08\\x00\\x01\\x0f\\\\id\\r\\n7\\x07O\\\\\\x0c\\x19\\x0b\\x06\\x1dT<\\x1dUMS\\x1e\\x02KH\\x0eE\\x00\\x17\\x1a\\x06G\\x17\\x1ce;\\x1d<J\\x08T-\\x17\\x19\\x137\\x17\\x00I\\x1dR\\x0f\\x00\\'@B\\x1c\\x04\\n\\x17\\x00\\x0c\\x0b<5\\x04O\\x1a\\x1d\\r\\x1a\"\\x0c\\x12,^S*\\x1cRA', b'<RYE\\x1dRF\\x0063\\x15\\x05\\x04\\nxF\\x1c\\x11\\x165\\x05\\x18\\x1aI\\x1a\\x0b\\x17\\x04\\x00=;LT\\x1d^A\\x00+K\\r?\\x08\\x07\\x1d\\x00\\x00\\x1f\\x1d-\\x01OI\\x1b\\x1c\\x00E\\x01\\x170R\\x19\\x00\\x01\\x1c\\x0eLH\\x06\\x11\\x06\\x17\\x0b\\x05*\\x06H\\n;\\x10\\x1aRI\\x1d>\\x10\\x1a\\x1b', b\"\\x1a\\x06\\x11NB\\x19\\x07RROT\\x1f\\x07Awb\\x02EI\\x0b\\x0f\\x13S'\\x0cO<\\x1aO\\x1aN\\x15\\x1cBM\\x1d6\\x00\\x00\\x00:\\x1b\\x0f\\x00!\\x03\\r\\x08\\x0c\\x0bxS\\x03\\x01H^\\x00\\n[\\x10D\\x08EM\\x1a7+COS\\x17MA\\x11\\x0e\\x08IEN\\x1cA\\x02\\x0b\\x030\\x01\\x01\", b\"i\\x00\\x04et\\x01O0\\nT\\x1d\\x0c\\x1e\\x1d0U\\x07O\\x1fR\\x18N-GE\\x1e\\x1c\\x1a\\x13A\\x03\\x00\\x16t\\x19\\tU\\x05\\r\\x0f5\\x03\\x13(\\x00\\x00Y\\t\\x1cAn'\\x06\\x11I6\\x05RV\\x01H\\x0e6\\x1aHT\\x06\\x1f\\x1c\\x06MT+\\x1dSU\\x11\\x05\\x05K6\\x02E\\x08\\x00\\x07R\", b\"eG\\t>\\x04\\x0b\\x1di\\x01\\x02O:\\x0c\\tC\\n\\x07\\x19\\n\\tT6RCG\\x1c\\x1f\\x08NbGEI\\x11\\x1cRW\\x1d\\x07OzNOO\\x10\\rN\\x1c\\n\\x137\\\\NT\\x1c\\x02\\x04A'\\x12\\x0c\\x1a\\n\\x03\\x06G\\x1bHC;c\\x0e\\x1aIT\\x1d\\n\\x05\\x1b!RTW\\n\\x00\\x15*\", b'\\x1fT\\x00\\x16\\x1eANe\\t\\x10\\x0eBNR\\x00\\x0fH\\x01\"\\x08e[\\x05\\x15\\x01\\n\\x08\\x17<\\x14L*\\x07\\x1d\\x00Y*G\\x10\\x1aEN\\x01N\\x07\\x07\\x1btI\\x07MIT\\x07\\x0b\\x0cT6RRS\\x07\\x16\\x04\\x00b@\\x04I\\x087\\x1cW\\r\\x1b\\x06-\\x00\\x18\\x1a\\x0fT\\x06EM\\x11\\x08', b'I\\x1cd\\t\\x01\\x13x\\x1fTS\\x1c^\\x15Y;\\x12\\x0bI\\x00\\x00x\\x00\\x0b\\x06\\x000\\x1a\\n\\x1a\\x05\\x1d:\\nM\\x177\\x17*\\x00\\x03$\\tO)\\t\\x10\\x01\"\\x1a\\x17\\x00d&\\x01t\\x1b\\x0e^\\x00TNI\\x14\\x18:\\x06RN:\\x17\\x0eY\\'\\x08\\n\\nE\\x1a\\x1cM\\x1b\\x05\\x06 \\x07OV', b\"\\x1c\\r&8I\\x06NI\\x06\\x1aEM\\x1c7\\x1dSO\\x03R\\x02s.\\x13E\\rEN\\nT\\x17\\x03\\x07t\\x0e\\x1bO\\x1b'\\x1e\\n\\x0c\\x15x\\x01\\x07\\x00\\x16\\x1e\\x0eT;m\\x04N\\x08\\x05R\\x00\\x1a\\r\\x02tN\\x03_\\x06\\x11\\n\\x06M\\x01/\\x13MNS\\x15\\x04\\x007\\t\\x00\\x1d\\r\\x01\\x10A\", b'\\x0eE\\x07E\\x1a\\x00H\\x02\\x07O^.\\x0eO\\x1c\\x11N\\r\\x00\\x11,\\x1b\\x00FSx\\x00P*G\\x00\\x0c\\r\\x0b\\x1b\\x07\\x0b\\x07\\x1d;\\x07\\x1dCIT\\x1eE\\x18T,\\x1dsZS\\x1b\\x00F\\x0bG\\x04\\x10<\\x1dR\\x00NHO1\\x1cOR\\x02\\x11\\t6\\x02T9\\x01K\\x00\\x16\\x13\\x16O;', b\"NMS\\x06\\tL'\\x02\\t\\x05(\\x01\\x06\\x00NH\\x0b5\\x0cO[\\x1a\\x00\\x1bo+\\x001\\x13G\\x00\\x01\\x13\\x15C0K\\n\\x06\\x0b\\x07\\x16O\\x1db\\n2\\x0c\\x1cU\\x1c\\x00\\x07\\x02\\x03\\x199R*RS=AI1.\\x15\\x0cI\\x1e\\x05EBHO5I\\rT\\x00\\r\\x06E\\x19T!R\", b\"\\x13\\x07\\x00\\x05\\x111RTS\\x16\\x0bA\\x07&\\x14,\\x00\\x16N\\x10G\\x1a\\x00\\x01e\\x06\\x1d[\\x1d\\x1d=\\x00\\x03T=\\x17\\x00N\\x11S\\r\\x007\\x133\\x06\\x17N\\x1b\\x00I\\rO&\\x0c\\x0eT\\x1d'N\\x1cL\\x13,\\x13cI\\x1dRAA0G\\nc\\x1cd\\x1dD\\rH\\n6Ie\\x1a\\x1d\", b'\\x01\\x047\\x08\\x02_\\x04\\x00N\\x11M\"+\\x1dT\\x00\\x00\\x17\\x00E\\'\\x02\\x00\\x02H\\x1c\\x1dLN\\x1a\\x0es\\x0e\\x02\\x1aI\\x1aN\\x04M\\x184ROA\\x03\\x17kN%\\x15\\x15c\\nB\\x06A\\x06\\x07e1I\\n\\x1a\\r1\\x1a\\x01\\t\\x176\\x17bNy^\\x11YbG\\x08\\x08\\n\\x08\"c\\x06', b'\\x0b\\x0c\\x16\\x1aRS\\x07\\x01\\x02t\\x19\\x0e\\x1a\\x07\\x15\\r\\x16M\\x1a,RN\\x00S@AC+\\x1e\\t\\x04\\x16N\\x0bM\\x0f\\x07B6*\\x0eS\\x1a\\x04\\x00\\t\\x0c9?\\x00EP \\x07AI6\\x08EN\\x04\\x0f\\x06*ND\\x0c!\\x06\\x03TI\\x1bB6M\\x18t\\x10TU\\x01\\x0b\\x14L-\\x06', b'\\x07S\\x06Fzb\\x0c\\x0b\\x10\\x0c\\x01\\x1cTI\\x1a\\x00=c\\x0bN[T\\x0c\\x0c@\\x131\\x16O\\x00\\x00Rk\\x00#GED\\t\\x01RK\\x1aH\\x061\\x02\\x00\\x1a\\x06T\\x07\\x11\\x03=;\\x1bUSK\\x00\\x0fT\\x11mE\\x01\\x17N\\x1dAd\\x11O5\\x0e\\x0e\\x1a\\x06\\x1d\\x1dEM\\x1a9\\x1fT', b\"N\\x12\\x0c\\x07\\x7f\\x15E\\x07S\\x06\\x12I*\\x13\\x0c\\x07\\x0b:REN\\x1c\\n Z\\x00U\\x06\\x01\\x0f\\n\\x036+\\x19LPS\\x0b\\x0ci'\\x06\\x11\\x05E\\x1d\\x04A\\x01\\t\\x015\\rH\\x16\\n\\x13\\x1a\\\\C\\x101\\x1d\\x07y\\x1a\\x17\\x15SbmI\\x0c\\x1c\\x01\\x0bG\\x01\\x04\\x06^\\x10\\x04C\\x0cT\", b'\\x1b<\\x1aOI\\x06XN\\x08M\\x074\\x17\\x00N\\x07U\\tT0J\\n\\x08EN\\x1dU\\rH\\x01:\\x06\\x1aN\\x0c\\x1b\\x02*M\\x11;RGR\\x1f\\x13AI.\\x11\\x08N\\x17N\\x1f\\x00N\\x00\\ntIOTI7\\x01\\x0bM\\x1c=\\x10y\\x00\\x05RA\\x00-\\x00\\t\\n5\\x01\\x0b\\x00N\\x0e', b'\\x01\\x0c\\x17\\x1f\\x00\\x07H\\x02;\\x0f\\nVI\\x13I\\x17M\\x110R\\r\\x00\\x07\\x078D1\\x0e\\x06\\rEN\\x06Y\\x1d\\t\\x0e<\\x0cO_\\x08\\x13\\x17\\x04\\x1f\\x156\\x1dIAS\\x06k\\x00\\x0bm\\x11\\x19\\x0cd;\\x07\\n\\t\\x1asc\\n\\x1a\\x08\\x1b\\x17\\x00@\\x03,RI\\x00S\\x1e\\x14\\x006\\x08\\x10', b'\\x16\\x1eAYH\\t\\x08\\x10\\x10\\x02UA\\x19\\x01O;\\x08O[\\x1dTdE\\x1d\\x1bxROAS_\\x05\\x00.G\\x03\\nE\\x0f\\x1d\\x00N\\r\\x06t\\x0c\\x1d\\x1d\\x07\\x1a\\x14\\x16\\x01 2Uy\\x00S\\x1ck\\x00b\\x08\\x10IE\"RA\\x1a\\x1d\\x00&D\\x07R\\x1e\\x11\\x17&\\x0cT5\\x1aNN', b'E\\x08\\x1dx:\\x07AS\\x06\\x0eSb\\x06\\x13\\x08\\t\\x02\\x15T\\x061&$IOVc\\x01\\x00\\x08@\\x11!\\x17PE\\x16\\x1f\\x15N;\\x15\\x17\\x07,N\\x17\\x00\\tO\\n;\\x0c\\x07O\\x04\\x1b\\x1a\\x01M-;\\x1aNS\\x10\\x13\\x04D,\\x13E\\x1c\\x1cN\\x1bA\\x06H\\x00;\\x10\\x1cO\\x08X\\x05', b'6I\\x01~\\x00T\\x00\\x01\\x05\\x03x5YE\\x07R\\rIb\\x06\\x00\\x1d\\t\\x0f_U=\\x1bO5I\\x01UI\\x11\\x1cI\\x14Tx\\x17H\\x00\\x14\\x11\\x03\\x00#GE\\rE\\n\\x17SN\\x1d\\x07;\\x04\\x00[\\x06S\\x0b\\x04M\\x009\\x16LTT\\x101T6\\x0e\\x04\\x1c\\x08N\\x13S\\x1aH\\x16', b'\\x00\\x1aRj\\x1a\\x0bO&ICN\\x06TNE\\x19\\x1b*\\x1bNAT\\x13\\x0f\\r!\\x12E\\x0b\\x0e=\\x0bUd\\x1aAtIe[\\x19\\x1d\\x02E\\x08\\x012\\x1c*TS\\x1aAR6\\x0fE\\x08\\x12\\x17\\x07N\\x1a\\x1cO:\\x0fOTI\\x11\\x06\\x17\\x02\\x18=RTNS\\x17\\x15Y+G&I', b'\\x1e\\tTb\\x13\\x17 \\x10\\x0fROO!\\x0e9\\x01\\x18V\\x1aTN\\x16\\x14\\x10x\\x19P*\\x16\\x17\\x00Ie(\\x03I\\x0b)!NB\\x06\\x065I\\x16U\\r5\\x06\\x07\\x0c\\x16=RAT\\x07\\x1cA\\x07bKE\\x1dE\\x07\\x06C\\nH\\x001\\r\\x0e\\x1a\\x0f\\x11\\n\\x01M\\x1cx\\x11FO\\x1e', b\"\\x01\\x1106IAT\\x15\\x0fLbGEI\\x00\\x0b\\x17IN\\t\\x1btIOqE\\x11'\\x11M\\x196\\x1eVEy\\x1d\\x0eP&G\\n\\x02\\x0b\\x07\\x1bCN\\x04\\x06-\\x1b\\x16\\x1d\\x0e\\x1a\\x1cEM\\x00*\\x06\\x00B\\x1b\\x11\\x15H'\\x08\\x08\\x1cE\\x17\\x0bB\\x1bHO=\\x06\\x0eSI\\x01\\x03\\x10\"], 40: [b'\\x1d3\\t\\x08:I\\x16T\\x0cNO\\n\\x1c\\x07\\x17\\rRGd\\t\\x1d\\nC\\x1bMH\\x076(!6\\n\\x0cR\\x04OO,\\x1a\\x00\\x1a\\x06S\\x19\\x1c\\x1b\\x00\\x1c\\x08\\x01\\x1c\\x00\\x07\\tb\\x0c\\x00G5/I\\rRI\\rI\\x00\\x1aW\\x08\\x08\\x1c', b\"BS\\x00\\x1a\\x00y\\\\\\x06\\x06O\\x01AN\\x17DH\\t'&\\x06\\x0801E\\n;\\x0c\\x1aV\\x11UN\\x0f\\x1aS\\x01\\x04\\x11*-\\x0e\\x01\\x07E\\x01\\x03\\x0b\\x0e\\x13\\x121;II\\x06\\x01OC\\x17R\\x00\\x17\\x0f\\x11\\x1d\\x11\\\\O\\x06\\x14\\x1a\\x0b\", b'\\x1fNdF\\x1a3\\x00\\x07Mb\\x1b\\x1d\\x14;x\\x11\\x08R\\x1d\\x00UEU*\\x0fN\\x01\\x06\\x11RWN\\x15\\x0f\\x06OH\\x08e\\x1dT\\x11-x\\x11\\x0cU\\x19\\x07R\\x04[\\x00\\n\\x06\\x1a\\x06\\x01\\x17E\\x17A\\x1b\\nYHM,\\x06\\x1aGx', b\"Me&\\x07\\x135R\\t\\x0f\\x06\\x01\\tT\\t0H\\x00[T\\x07\\x1axU'\\x0f\\x03\\x00\\x00\\x1a\\x03*BT\\x1e;x\\x11I1\\x08\\x1cIE[TB\\x04\\x03\\x06T\\x00N\\x1d\\x0eN\\x0bH\\x1aM0\\x00\\x15\\t-t\\x04c^\\x1d\\x04FE\", b'\\x0bR\\x07OI\\x0b0S\\x02\\x01SR\\x15Ri\\x0b\\x02N\\x16G\\x0c+1HTGs!E\\x06\\x17De\\x00\\x08CR\\x07\\x08\\t\\x1b\\x1a\\x06\\x00\\x07AN\\x00\\x00\\rCb\\x00\\x1a.s=\\x00c\\x17\\x1c\\x01KE\\x1aNdI\\x16\\x0b\\x011', b'\\x0f\\x06S\\x1f\\x1a\\x1biN\\x0e\\x0bBY\\x1a\\x19e\\x16\\x11Jt0E\\x06R\\x04\\x1bL\\x16UA\\x1a\\x1bS!\\x1d\\x1bO\\x17\\x12\\x1b\\x1cNO\\x05\\x05\\x01=\\x0f00\\x04I\\x06IHcE\\x1a\\x007IT\\x16\\r\\x15G\\n1\\x02E\\x00\\x06\\x02', b'\\x02\\x00\\x00YO\\x01e\\x02\\x03G77\\x0c\\x01\\x1fIO\\r\\n\\x1aG\\x1ccS\\x13\\x1dRU\\x00A\\x0b*P\\x1c\\x037\\x06T\\x14t?E\\x0c\\x17NHAE[Rd\\x0c:\\x061\\x13Wd\\x0ed\\x17\\x00H\\x02-O\\x18\\x0265\\x0e\\x04', b'\\x1fG7xE\\x05\\x1f\\x10CS\\x04ON\\x0bI\\x1f\\x10T\\x14*\\x01A=\\x04K\\x03\\x03e\\x0b\\x1dK<9DNR\\x07\\x1cE\"\\x1aTN\\x1bS\\x1f\\x1a\\x1fVNk\\x02E\\x00DM+<\\x01m1+\\x08IR\\x19\\x0eT\\nOY\\x0b', b\"OT\\x16~H\\x0fISR\\x1d\\x07\\x00IA\\x07\\nE1\\x0b\\x11\\x00\\x13\\x12:=\\x00\\x06\\x1eI\\t\\x00E]\\x00N\\x1a\\x14\\x17T\\x1eA\\x067\\x03\\x02\\x00\\x0f\\x08'e-\\x0b7:E\\x0f\\x06\\x06OyESUd\\x1e\\x1f\\x0bT\\x0bSNA\", b'\\x13\\x1c\\x06j\\x0fF\\x02\\x08L\\x0c\\x1e&O\\x07\\t\",\\x00I\\x1d\\r\\x00PE\\x1a\\x00N\\x05\\x1cR\\x1a\\x1fHd\\t\\x1aEL\\x1f\\x18.\\x06=\\x06&2\\x0cIRN\\x00\\x00\\x04_y\\x07\\nS\\x05\\x1b\\x16N\\x1d\\x11\\x06\\x04\\x00\\x05M+\\x02\\x1b', b\"N\\r\\x0cb\\x1d\\x07\\x02;=\\x00\\x0c\\x1d\\x08\\x1b\\x00\\x00NA\\x03IS\\x1d\\x11\\x17A=\\x05N\\x13Y\\x07\\x14'e\\x15\\x0654\\r\\x0c\\x1d\\x1a?N\\nON\\x01\\x00K\\x07\\x1d\\x1c\\x00\\x01\\x15\\x06\\x06A\\x1d\\x08%\\x06\\x18\\x0e-,\\x00\\x10\\x11\\x1c\\x01\", b\"<E\\x1a6\\rOT\\x10N\\x00N\\x07\\x07\\x13\\x19REN\\x18'oD\\x1a\\x0bb\\x0e\\x11\\x0c17EI\\x06?\\x1dG\\x0bSYN\\x07SRT\\x07SI\\x0f\\x1a\\\\\\x07\\x1cM1\\x1aXG;6E\\x08R\\n\\x0eTER\\x00\\x01I\\x00R\", b'\\x1aM\\x17\\x0cS\\x1d\\x00\\x06\\x00\\x17\\x15IEG\\x11\\x000\\x1bTGex\\x06\\x0f\\x14\\x04\\x01E\\x17OP)\\x1d:\\x16\\x13\\x16NNk\\t\\rP&\\x036O\\x17Gt*E\\x1a\\x13IOD\\x08TT\\n\\x1dS\\x0b\\x11\\x06A\\x06\\x14/\\x0c*', b'i\\x07A\\x1d\\x04N\\x01\\x05/\\n\\x1c\\x139=E\\x0cR\\x01\\x07CHVA\\x0b\\x05\\x00\\x0b\\x11^\\x07\\x02\\x0e\\x075\\x00\\rMe\\x1b9G17\\x04\\rR\\x1d\\n*\\x0c_*\\x03\\r\\x10\\x01\\x1b\\x17A\\x06A\\x066\\x00H\\x056\\nTG7\\x08', b\"e\\x04\\x1d\\x0f:x\\x0bI\\x0b\\x05\\x0e\\x00\\x00\\x1aON\\x1d\\x16\\x17\\x15@U\\x02\\x02\\x17\\nI\\x18M0\\x0e\\x10Gz4\\x17\\x0eR\\x01\\x00*\\x17IZN\\x0e\\x1aR'\\x1c\\x007\\x04N\\x04O\\x0bMb\\x00\\x03\\x0e5,\\x07\\x08R\\x08\\x1cLIV\", b'\\x1f\\x0c\\x01A\\x01N\\x07\\x0fI\\x1f\\x06\\x13R*\\x19\\x00\\x06EA\\x06@!\\x0e\\x00G:6E\\x19\\x17\\nCWES\\x00\\x07\\x08\\x16\\x045\\x17S\\x07k\\x0b\\x02A\\x07M5\\x00\\x18m:x\\x11\\x1c\\x10\\x1c\\x1dS\\x1cRO\\x1a\\x0f\\x01\\x13\\x1dRA', b\"ISR\\rRHN\\x0f\\r\\x0c\\x07\\x01g\\x16\\x01\\x1a\\x06;<EZ\\x19\\x0fOGE\\x1dT\\x1cI\\x16R\\x1d$K\\x02\\x13\\x00EI\\x04M'O \\x13<6E\\x04\\x17\\x1c\\x03\\x07EIO\\x1e\\x08\\x14\\x1dT^A\\x17A\\x1bEY\\x1c\\x1a;\", b\"\\x1c\\x12TH\\x19'\\x02\\x10\\x08:+\\x13:\\x1aI\\x0bN\\x0b\\x1aFNE\\x01\\x13\\x1d_\\x0c\\x1c\\x00\\x0fIH\\x1c\\x0c'\\x06\\x18\\x0326\\t\\x1a\\\\c\\x07T\\x11^S\\x17\\x08\\x01R7\\x11T\\x1cA\\x1a\\rN\\x1bM6C\\x12\\t^x\\x11\\x01R\", b\"\\x0e<0\\x06\\x01R\\x10ONB\\x1aE\\x01\\x0c\\x03RT\\x17S\\x1b8N\\x04N\\x1a@b\\x16\\x17Gt7\\r\\x07R\\x02O\\x00\\x17\\x1d\\x00\\x01I \\x17\\x1dR\\x00\\x1aA\\x05EI\\t\\x0c'C\\x17\\x13 ?\\n\\x0eRI\\x1aK5SL\\x07\\x1d\", b'N\\x0c_U\\x0b\\x04S;\\x17^TNA\\x1c\\rT\\tM-\\x01\\x1b.3<\\tI+\\x00\\x1bL\\x0bW\\x00\\x07\\x08\\x16\\x01\\r\\x17\\x00\\x1a\\x0fd\\x11R\\x06\\x01\\x0b\\n\\x00\\x026,\\x10\\x05\\x02I\\x03LE\\x1aN\\x01\\x0f\\x14\\x1c\\r\\x1eT\\x0b\\x15\\x06', b'\\x13\\x1e\\x00\\x1aA\\x07\\x01\\x00\\rM*\\x0e\\x13\\x0250\\x0b\\x10R\\x02O\\x00\\x0c\\x1a\\x00=\\x06\\x1d\\x1b\\x1b\\x1dE\\x0f\\rNET\\x07\\x0c#\\x07\\x13m5=B\\x00R\\x19\\x06N\\n\\x1aS\\x02I:\\x1d\\x11\\x06*\\tA\\x1b\\nKH\\x0cnO\\x11\\x06', b'\\x01\\x08 \\x1b\\x13\\x0c&:\\x15.\\x17I\\n\\x07\\x16[Y\\x0f\\x05S_\\x18\\x1eT\\x0f\\x00\\x1bBC\\tM O\\x18\\x1557\\x10\\x02\\x1c\\x1bOs\\x17\\x1d\\x00\\x05\\x1dS\\x1f\\x1d\\x16*\\x0bA\\x0c\\x06SH\\x05\\x11O\\x03\\tt!\\x08\\x10R\\x05OT', b'\\x0bI\\x13\\x00\\x06E\\x10_T\\x01I\\x17\\x06\\x07\\x17TNF\\x0b\\x0c\\r\\x01\\x04*\\x01\\x19Gt=\\x03\\x1d\\x1d\\x1a\\x0eHEJ\\x00\\x1d\\r\\x1cx\\x00\\x06S\\n\\x04\\x06\\x01E\\x06\\x14\\x11O\\x19\\x061=\\x08\\x08\\x1dc\\x07Ko\\x1aUN\\x1a\\x1c\\x10T', b'\\x07\\x1a\\n\\x1d\\x00X\\x15G\\x1dA\\x19\\x04\\x00HMb\\x04T\\x13 x\\x0e\\x1a\\x13\\r\\x1cC\\x11\\x1aE\\x07\\r\\x03R\\x1d\\x05\\x00\\x1eAN\\x10n\\r\\x01b\\x00T\\x08;yBN\\x1d\\x1d\\nCI\\x1aE\\x1aIy\\x1b\\r>M\\x1d\\x15\\x0f\\x10O\\x0e', b'N\\t\\x05BLHM+O\"\\x0697\\x0bc\\x1b\\x00\\x18\\x00EqE\\x1a\\x1dS\\x1d\\x15\\x1dM\\x1c\\x0c\\x17\\ni\\x06\\x04!\\n\\x15\\x0037\\x15\\x0c\\x1c\\x1e\\x0eU\\x12\\x1a\\x00\\x1dI\\x1bR\\x1fRANA\\r6TH\\x0c7\\x06\\x1c\\x1e0!\\x10', b'\\x1b\\x11Gt1\\x08\\x02\\x1c\\x0e\\x0eY\\x0b\\\\O:\\x1a\\x17\\x13\\x00\\x07NN\\x08N\\x08N\\x06M#A\\x11K;;\\n\\x07\\x00\\x06\\x1dR\\rMP\\n\\x06\\x1dR\\x13\\x1cy\\x08A\\n\\x00dH\\t,B=\\x085=\\x08\\x10\\x01\\n\\x0e\\x00\\x00\\x1aN', b'\\x01OO\\x04_A\\x07I\\x1c\\x1cT^FN\\tNEN\\x00\\x1d-\\x02\\x17\\x1e5xE\\x0e\\x19IC\\x00\\x0b_\\x00\\x01\\x10\\x03\\x17\\x1bR\\x00\\x07ANEF\\x00M-\\x0e\\x13\\x08t9\\x04\\x06\\x16DOM\\x1c\\x1aUN\\x00S\\x06\\x1d\\x00c\\x05', b'\\x16\\x14\\x12\\x1eS\\x00\\x02dEI!Mb\\x0b\\x11\\x08:6\\x00I\\x11\\x10\\nO\\x0eNT\\x0b\\x0cyR\\rS\\x00dA\\x07\\t\\x00\\x07\\x19;\\x01\\x16\\x13^9\\x11\\x08\\x07\\x1a\\nN\\t^NNIS\\x05\\x11RB\\x1d\\x05\\r&\\x00\\x1cM-\\x16', b'ELH\\x01bO\\x1f3^4E\\x1dU\\x00OKB[\\x00\\x0f\\x02S\\n\\x01\\x17O\\x1c\\x15\\x1doN\\x07M;&~\\t12\\x13\\x01\\x1dN\\x16R6T\\x00\\x00E\\x07\\x06S\\x0b\\x00\\n\\x15\\n$AH@-\\x06\\x1bG;>E\\x07\\x1fI', b'6!\\x08I\\x15 OO(VW\\x06\\n\\x00\\x15TR\\x00\\x0c\\x0fN\\x17PHMb\\x16TG\\r7\\x10*\\x17\\x07<\\x07EUI\\x0b\\x1cSR\\x1d\\x02A\\x1a\\x05NIT\\x1c\\x1fHO\\x1c\\x08:+\\nD\\x0b\\n\\x18T\\x08O*\\x01\\x0c\\x1e', b'\\x00\\x1aE\\x1a\\x06T\\x1bT\\x0bA\\x07\\x04\\x0f\\x16Ib\\x1d.\\n\\x10\\x08<1\\x06\\x016I\\x02P\\n\\x1a\\x00\\x01\\x19\\x07\\x1dT\\x13C\\x00AI\\x16T\\x18\\x0c6\\x07T@t1E\\x00+\\x0c\\nN\\x1c\\x1aNNES\\x1c\\x1d\\x17N>\\x16N\\x10', b'\\x1eGN\\t\\x07\\x08N\\x02Mb\\x03\\x1a\\x12=*$\\x05\\x1b\\x08ON\\x1c[A\\x0b\\x0c\\x07\\x0b\\x11\\x07G\\x1e\\x0cB\\n\\x00b\\x1f)H\\x13\\x15;0\\x15\\x1b\\x1b\\x08\\x03\\x19<TB\\r\\x06\\x1dRS\\x06WB1N\"\\x00\\x04M)\\x03T\\x08\\'', b\"\\x01+e\\x11\\ttx\\x10\\x195\\x05OS\\x0bVN\\x0f\\x1a\\x07\\x1fT\\x1fL\\x00\\x13\\x02\\n\\x00\\x1aJ+\\x1d\\x11G,(3\\x0c\\x1bI\\x07EE_I\\x05\\n\\x07\\x17D=\\x07\\x0b\\x12\\x1b\\x01D\\x1c\\x04'O\\x18\\x00;9\\t\\x06\\x0b\\x08eN\\x0c\", b'I\\x00>\\x02\\x07\\x0b0S\\x01\\x06Sx\\x11UI\\n\\x18\\x1aEA\\x1b\\x08+OT\\x0et+\\x03\\x05\\x00\\x06OY\\x0cOAN\\x07\\x07\\x17T\\x1a\\x00\\x00\\x00NENHLbOT@!9E\\x04\\x13\\x0c\\x0eOET\\x00\\x00I\\n\"X\\x11', b\"d\\x05\\x16RT\\x1di\\x1a\\x12O\\x07wHM'OT\\x02$3\\n\\x1a\\x16\\x0b\\x18L\\rNE\\x02\\x05\\x11\\x1d\\x11\\x11N\\x00\\x03I\\x17T\\t\\x0c H\\x19m^<\\x0cI\\x1a\\x04\\rR\\x17TB\\x0b\\x02\\x05\\x0bT\\x05D\\x17M\\x03ELHM\", b' \\x1d\\tz\\x0b\\x196O\\x07G10,\\x08\\x01 eN\\t_MN\\x06\\x16\\x17\\x15\\x13Y\\rA\\x1d\\x04N\\x18\\x0c)\\x06\\x01G-,\\x08\\x1b\\x13I\\x0ey<\\x1aS\\x0f\\x06\\x12\\x17\\x11\\x17C\\x0bMB\\x00\\x00\\x1f\\x05b\\x00T\\x12 9&c', b\"TG8\\x7f\\x17IR\\x05\\n*EC\\x00\\x02ISxT\\x13\\x00\\x0b\\x00\\r\\x11T\\x00\\x03.\\x1b\\x13G6xI\\x1d\\x01\\x05\\x16L\\x0cUA\\n\\x1a\\x1c\\x06\\x1b\\x1dMN\\x0f\\x1a\\x01LHM'OTG&,\\r\\x00\\x10\\x1c,S\\rCO\", b\"\\x1dYEIA\\x02\\n\\x16U~x\\x00\\r\\r\\x1d\\x06s\\x1c\\x14+O\\x00\\x0etvE\\x0e\\x17I\\n*\\t[\\x00\\x07I\\x1f\\x1b\\x1d\\x1c\\x00\\x14A\\x0b\\x0bI\\x1d\\x18'\\x02\\x10Kt7\\x15cR\\x1a\\x0eb\\x1cRI\\x1a\\x06S\\x1d\\x1d\\x13\\x00\\x03\", b'\\x1d\\x11\\x06\\x00\\x14\\x00\\x01\\x11S;,;\\x00\\x1b\\x065,\\nI\\x06\\x1e\\x1dOo\\x1a*NIy\\x06\\'\\x0bN\\'\\x0f\\x1d\\x04N\\x03\\n%\\n\\x18\\x14t;EIR\\x10O\\x00\\x04TI\"\\x1d\\x02\\x1c\\x1b\\x10A\\x1a\\x04\\x01\\x01M\\x0b\\x196\\n', b\"C\\x04\\x05H\\x16\\x0e\\ttx\\x08\\x07\\x1d\\x07\\x18\\x00\\x0b[\\x00\\x1aI\\x1c\\x1d\\x01;*:kd'\\x00\\x07M&H\\x13\\x13t\\x7f\\x00I\\x00\\r\\x06\\x00\\x08\\x16T\\x03\\x10S;\\x07\\x1cG\\x1a\\x04\\x01\\x10Y\\x11\\x026\\nT\\x00==EI\\x1aI\"]}\n",
            "key: Terminator X: Bring the noise\n"
          ]
        }
      ]
    },
    {
      "cell_type": "markdown",
      "source": [
        "Chellange 7"
      ],
      "metadata": {
        "id": "poWFslIEcgMa"
      }
    },
    {
      "cell_type": "code",
      "source": [
        "text_list = GetTxt(\"https://cryptopals.com/static/challenge-data/7.txt\")\n",
        "text = ''.join(text_list)\n",
        "text = base64.b64decode(text)\n",
        "key = b'YELLOW SUBMARINE'"
      ],
      "metadata": {
        "id": "Aajwi32wcna2"
      },
      "execution_count": 14,
      "outputs": []
    },
    {
      "cell_type": "code",
      "source": [
        "print(decrypt_ECB(text, key))"
      ],
      "metadata": {
        "colab": {
          "base_uri": "https://localhost:8080/"
        },
        "id": "IPDnvxfzx1V2",
        "outputId": "06625b2e-c4c5-4b2a-da7c-a7ca62f7cdcd"
      },
      "execution_count": 17,
      "outputs": [
        {
          "output_type": "stream",
          "name": "stdout",
          "text": [
            "b\"I'm back and I'm ringin' the bell \\nA rockin' on the mike while the fly girls yell \\nIn ecstasy in the back of me \\nWell that's my DJ Deshay cuttin' all them Z's \\nHittin' hard and the girlies goin' crazy \\nVanilla's on the mike, man I'm not lazy. \\n\\nI'm lettin' my drug kick in \\nIt controls my mouth and I begin \\nTo just let it flow, let my concepts go \\nMy posse's to the side yellin', Go Vanilla Go! \\n\\nSmooth 'cause that's the way I will be \\nAnd if you don't give a damn, then \\nWhy you starin' at me \\nSo get off 'cause I control the stage \\nThere's no dissin' allowed \\nI'm in my own phase \\nThe girlies sa y they love me and that is ok \\nAnd I can dance better than any kid n' play \\n\\nStage 2 -- Yea the one ya' wanna listen to \\nIt's off my head so let the beat play through \\nSo I can funk it up and make it sound good \\n1-2-3 Yo -- Knock on some wood \\nFor good luck, I like my rhymes atrocious \\nSupercalafragilisticexpialidocious \\nI'm an effect and that you can bet \\nI can take a fly girl and make her wet. \\n\\nI'm like Samson -- Samson to Delilah \\nThere's no denyin', You can try to hang \\nBut you'll keep tryin' to get my style \\nOver and over, practice makes perfect \\nBut not if you're a loafer. \\n\\nYou'll get nowhere, no place, no time, no girls \\nSoon -- Oh my God, homebody, you probably eat \\nSpaghetti with a spoon! Come on and say it! \\n\\nVIP. Vanilla Ice yep, yep, I'm comin' hard like a rhino \\nIntoxicating so you stagger like a wino \\nSo punks stop trying and girl stop cryin' \\nVanilla Ice is sellin' and you people are buyin' \\n'Cause why the freaks are jockin' like Crazy Glue \\nMovin' and groovin' trying to sing along \\nAll through the ghetto groovin' this here song \\nNow you're amazed by the VIP posse. \\n\\nSteppin' so hard like a German Nazi \\nStartled by the bases hittin' ground \\nThere's no trippin' on mine, I'm just gettin' down \\nSparkamatic, I'm hangin' tight like a fanatic \\nYou trapped me once and I thought that \\nYou might have it \\nSo step down and lend me your ear \\n'89 in my time! You, '90 is my year. \\n\\nYou're weakenin' fast, YO! and I can tell it \\nYour body's gettin' hot, so, so I can smell it \\nSo don't be mad and don't be sad \\n'Cause the lyrics belong to ICE, You can call me Dad \\nYou're pitchin' a fit, so step back and endure \\nLet the witch doctor, Ice, do the dance to cure \\nSo come up close and don't be square \\nYou wanna battle me -- Anytime, anywhere \\n\\nYou thought that I was weak, Boy, you're dead wrong \\nSo come on, everybody and sing this song \\n\\nSay -- Play that funky music Say, go white boy, go white boy go \\nplay that funky music Go white boy, go white boy, go \\nLay down and boogie and play that funky music till you die. \\n\\nPlay that funky music Come on, Come on, let me hear \\nPlay that funky music white boy you say it, say it \\nPlay that funky music A little louder now \\nPlay that funky music, white boy Come on, Come on, Come on \\nPlay that funky music \\n\\x04\\x04\\x04\\x04\"\n"
          ]
        }
      ]
    },
    {
      "cell_type": "markdown",
      "source": [
        "Challenge 8"
      ],
      "metadata": {
        "id": "imVJL41QA2Xy"
      }
    },
    {
      "cell_type": "code",
      "source": [
        "text_list = GetTxt(\"https://cryptopals.com/static/challenge-data/8.txt\")"
      ],
      "metadata": {
        "id": "bTtwn-Pl1UEl"
      },
      "execution_count": 18,
      "outputs": []
    },
    {
      "cell_type": "code",
      "source": [
        "print(len(text_list))"
      ],
      "metadata": {
        "colab": {
          "base_uri": "https://localhost:8080/"
        },
        "id": "IWuwSv8j2zgH",
        "outputId": "ead8a50b-8b92-4807-dc39-ff49a81192cc"
      },
      "execution_count": 19,
      "outputs": [
        {
          "output_type": "stream",
          "name": "stdout",
          "text": [
            "205\n"
          ]
        }
      ]
    },
    {
      "cell_type": "code",
      "source": [
        "target_index = 0\n",
        "for index, text in enumerate(text_list):\n",
        "  text = bytes.fromhex(text)\n",
        "  if len(text) < 1:\n",
        "    continue\n",
        "  for i in range(10):\n",
        "    for j in range(i + 1, 10):\n",
        "      if text[i*16: (i+1)*16] == text[j*16: (j+1)*16]:\n",
        "        print(index, text)\n",
        "        target_index = index\n",
        "        break\n",
        "\n",
        "print(text_list[target_index])"
      ],
      "metadata": {
        "colab": {
          "base_uri": "https://localhost:8080/"
        },
        "id": "Fh3T-H7z1jir",
        "outputId": "422adc86-ff3d-4b85-be39-2ce013b7d62f"
      },
      "execution_count": 20,
      "outputs": [
        {
          "output_type": "stream",
          "name": "stdout",
          "text": [
            "132 b'\\xd8\\x80a\\x97@\\xa8\\xa1\\x9bx@\\xa8\\xa3\\x1c\\x81\\n=\\x08d\\x9a\\xf7\\r\\xc0oO\\xd5\\xd2\\xd6\\x9ctL\\xd2\\x83\\xe2\\xdd\\x05/kd\\x1d\\xbf\\x9d\\x11\\xb04\\x85B\\xbbW\\x08d\\x9a\\xf7\\r\\xc0oO\\xd5\\xd2\\xd6\\x9ctL\\xd2\\x83\\x94u\\xc9\\xdf\\xdb\\xc1\\xd4e\\x97\\x94\\x9d\\x9c~\\x82\\xbfZ\\x08d\\x9a\\xf7\\r\\xc0oO\\xd5\\xd2\\xd6\\x9ctL\\xd2\\x83\\x97\\xa9>\\xab\\x8dj\\xec\\xd5fH\\x91Tx\\x9ak\\x03\\x08d\\x9a\\xf7\\r\\xc0oO\\xd5\\xd2\\xd6\\x9ctL\\xd2\\x83\\xd4\\x03\\x18\\x0c\\x98\\xc8\\xf6\\xdb\\x1f*?\\x9c@@\\xde\\xb0\\xabQ\\xb2\\x993\\xf2\\xc1#\\xc5\\x83\\x86\\xb0o\\xba\\x18j'\n",
            "132 b'\\xd8\\x80a\\x97@\\xa8\\xa1\\x9bx@\\xa8\\xa3\\x1c\\x81\\n=\\x08d\\x9a\\xf7\\r\\xc0oO\\xd5\\xd2\\xd6\\x9ctL\\xd2\\x83\\xe2\\xdd\\x05/kd\\x1d\\xbf\\x9d\\x11\\xb04\\x85B\\xbbW\\x08d\\x9a\\xf7\\r\\xc0oO\\xd5\\xd2\\xd6\\x9ctL\\xd2\\x83\\x94u\\xc9\\xdf\\xdb\\xc1\\xd4e\\x97\\x94\\x9d\\x9c~\\x82\\xbfZ\\x08d\\x9a\\xf7\\r\\xc0oO\\xd5\\xd2\\xd6\\x9ctL\\xd2\\x83\\x97\\xa9>\\xab\\x8dj\\xec\\xd5fH\\x91Tx\\x9ak\\x03\\x08d\\x9a\\xf7\\r\\xc0oO\\xd5\\xd2\\xd6\\x9ctL\\xd2\\x83\\xd4\\x03\\x18\\x0c\\x98\\xc8\\xf6\\xdb\\x1f*?\\x9c@@\\xde\\xb0\\xabQ\\xb2\\x993\\xf2\\xc1#\\xc5\\x83\\x86\\xb0o\\xba\\x18j'\n",
            "132 b'\\xd8\\x80a\\x97@\\xa8\\xa1\\x9bx@\\xa8\\xa3\\x1c\\x81\\n=\\x08d\\x9a\\xf7\\r\\xc0oO\\xd5\\xd2\\xd6\\x9ctL\\xd2\\x83\\xe2\\xdd\\x05/kd\\x1d\\xbf\\x9d\\x11\\xb04\\x85B\\xbbW\\x08d\\x9a\\xf7\\r\\xc0oO\\xd5\\xd2\\xd6\\x9ctL\\xd2\\x83\\x94u\\xc9\\xdf\\xdb\\xc1\\xd4e\\x97\\x94\\x9d\\x9c~\\x82\\xbfZ\\x08d\\x9a\\xf7\\r\\xc0oO\\xd5\\xd2\\xd6\\x9ctL\\xd2\\x83\\x97\\xa9>\\xab\\x8dj\\xec\\xd5fH\\x91Tx\\x9ak\\x03\\x08d\\x9a\\xf7\\r\\xc0oO\\xd5\\xd2\\xd6\\x9ctL\\xd2\\x83\\xd4\\x03\\x18\\x0c\\x98\\xc8\\xf6\\xdb\\x1f*?\\x9c@@\\xde\\xb0\\xabQ\\xb2\\x993\\xf2\\xc1#\\xc5\\x83\\x86\\xb0o\\xba\\x18j'\n",
            "d880619740a8a19b7840a8a31c810a3d08649af70dc06f4fd5d2d69c744cd283e2dd052f6b641dbf9d11b0348542bb5708649af70dc06f4fd5d2d69c744cd2839475c9dfdbc1d46597949d9c7e82bf5a08649af70dc06f4fd5d2d69c744cd28397a93eab8d6aecd566489154789a6b0308649af70dc06f4fd5d2d69c744cd283d403180c98c8f6db1f2a3f9c4040deb0ab51b29933f2c123c58386b06fba186a\n"
          ]
        }
      ]
    },
    {
      "cell_type": "markdown",
      "source": [
        "# Set_2"
      ],
      "metadata": {
        "id": "JuVlA4G95Kh2"
      }
    },
    {
      "cell_type": "markdown",
      "source": [
        "Challenge 9"
      ],
      "metadata": {
        "id": "nnyt4csX5Tcm"
      }
    },
    {
      "cell_type": "code",
      "source": [
        "PKCS7(\"YELLOW SUBMARINE\", 20)"
      ],
      "metadata": {
        "colab": {
          "base_uri": "https://localhost:8080/"
        },
        "id": "veC-PYVL78Ov",
        "outputId": "8c9c4709-1f57-4d64-922b-0e43c01100df"
      },
      "execution_count": 22,
      "outputs": [
        {
          "output_type": "execute_result",
          "data": {
            "text/plain": [
              "b'YELLOW SUBMARINE\\x04\\x04\\x04\\x04'"
            ]
          },
          "metadata": {},
          "execution_count": 22
        }
      ]
    },
    {
      "cell_type": "markdown",
      "source": [
        "Challenge 10"
      ],
      "metadata": {
        "id": "lqQsboLU9isq"
      }
    },
    {
      "cell_type": "code",
      "source": [
        "plain_text_list = GetTxt(\"https://cryptopals.com/static/challenge-data/10.txt\")\n",
        "plain_text = ''.join(text_list)\n",
        "key = b'YELLOW SUBMARINE'\n",
        "print(plain_text)"
      ],
      "metadata": {
        "colab": {
          "base_uri": "https://localhost:8080/"
        },
        "id": "y8vtzkRXBo9_",
        "outputId": "d0bfa3da-71a6-4913-ff1b-7682c5474128"
      },
      "execution_count": 24,
      "outputs": [
        {
          "output_type": "stream",
          "name": "stdout",
          "text": [
            "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\n"
          ]
        }
      ]
    },
    {
      "cell_type": "code",
      "source": [
        "block_size = 16\n",
        "initialization_vector = b'\\x00\\x00\\x00\\x00\\x00\\x00\\x00\\x00\\x00\\x00\\x00\\x00\\x00\\x00\\x00\\x00'\n",
        "\n",
        "print(decrypt_CBC(plain_text, key, block_size, initialization_vector).decode('utf-8'))"
      ],
      "metadata": {
        "colab": {
          "base_uri": "https://localhost:8080/",
          "height": 364
        },
        "id": "vSnpgYjAEwTw",
        "outputId": "3c1fda88-9cf9-4f49-90ca-1b27291f1780"
      },
      "execution_count": 25,
      "outputs": [
        {
          "output_type": "error",
          "ename": "TypeError",
          "evalue": "ignored",
          "traceback": [
            "\u001b[0;31m---------------------------------------------------------------------------\u001b[0m",
            "\u001b[0;31mTypeError\u001b[0m                                 Traceback (most recent call last)",
            "\u001b[0;32m<ipython-input-25-de8a85b1cba7>\u001b[0m in \u001b[0;36m<module>\u001b[0;34m\u001b[0m\n\u001b[1;32m      2\u001b[0m \u001b[0minitialization_vector\u001b[0m \u001b[0;34m=\u001b[0m \u001b[0;34mb'\\x00\\x00\\x00\\x00\\x00\\x00\\x00\\x00\\x00\\x00\\x00\\x00\\x00\\x00\\x00\\x00'\u001b[0m\u001b[0;34m\u001b[0m\u001b[0;34m\u001b[0m\u001b[0m\n\u001b[1;32m      3\u001b[0m \u001b[0;34m\u001b[0m\u001b[0m\n\u001b[0;32m----> 4\u001b[0;31m \u001b[0mprint\u001b[0m\u001b[0;34m(\u001b[0m\u001b[0mdecrypt_CBC\u001b[0m\u001b[0;34m(\u001b[0m\u001b[0mplain_text\u001b[0m\u001b[0;34m,\u001b[0m \u001b[0mkey\u001b[0m\u001b[0;34m,\u001b[0m \u001b[0mblock_size\u001b[0m\u001b[0;34m,\u001b[0m \u001b[0minitialization_vector\u001b[0m\u001b[0;34m)\u001b[0m\u001b[0;34m.\u001b[0m\u001b[0mdecode\u001b[0m\u001b[0;34m(\u001b[0m\u001b[0;34m'utf-8'\u001b[0m\u001b[0;34m)\u001b[0m\u001b[0;34m)\u001b[0m\u001b[0;34m\u001b[0m\u001b[0;34m\u001b[0m\u001b[0m\n\u001b[0m",
            "\u001b[0;32m<ipython-input-23-f603dd754ffc>\u001b[0m in \u001b[0;36mdecrypt_CBC\u001b[0;34m(bytes_text, key, block_size, initialization_vector)\u001b[0m\n\u001b[1;32m     24\u001b[0m   \u001b[0mresult\u001b[0m \u001b[0;34m=\u001b[0m \u001b[0;34m[\u001b[0m\u001b[0;34m]\u001b[0m\u001b[0;34m\u001b[0m\u001b[0;34m\u001b[0m\u001b[0m\n\u001b[1;32m     25\u001b[0m   \u001b[0;32mfor\u001b[0m \u001b[0mblock\u001b[0m \u001b[0;32min\u001b[0m \u001b[0mblock_list\u001b[0m\u001b[0;34m:\u001b[0m\u001b[0;34m\u001b[0m\u001b[0;34m\u001b[0m\u001b[0m\n\u001b[0;32m---> 26\u001b[0;31m     \u001b[0mdecrypted_block\u001b[0m \u001b[0;34m=\u001b[0m \u001b[0mdecrypt_ECB\u001b[0m\u001b[0;34m(\u001b[0m\u001b[0mblock\u001b[0m\u001b[0;34m,\u001b[0m \u001b[0mkey\u001b[0m\u001b[0;34m)\u001b[0m\u001b[0;34m\u001b[0m\u001b[0;34m\u001b[0m\u001b[0m\n\u001b[0m\u001b[1;32m     27\u001b[0m     \u001b[0mplain_text\u001b[0m \u001b[0;34m=\u001b[0m \u001b[0;34m[\u001b[0m\u001b[0mb1\u001b[0m \u001b[0;34m^\u001b[0m \u001b[0mb2\u001b[0m \u001b[0;32mfor\u001b[0m \u001b[0mb1\u001b[0m\u001b[0;34m,\u001b[0m \u001b[0mb2\u001b[0m \u001b[0;32min\u001b[0m \u001b[0mzip\u001b[0m\u001b[0;34m(\u001b[0m\u001b[0mpre_block\u001b[0m\u001b[0;34m,\u001b[0m \u001b[0mdecrypted_block\u001b[0m\u001b[0;34m)\u001b[0m\u001b[0;34m]\u001b[0m\u001b[0;34m\u001b[0m\u001b[0;34m\u001b[0m\u001b[0m\n\u001b[1;32m     28\u001b[0m \u001b[0;34m\u001b[0m\u001b[0m\n",
            "\u001b[0;32m<ipython-input-16-d0bb107150ea>\u001b[0m in \u001b[0;36mdecrypt_ECB\u001b[0;34m(text, key)\u001b[0m\n\u001b[1;32m      4\u001b[0m \u001b[0;32mdef\u001b[0m \u001b[0mdecrypt_ECB\u001b[0m\u001b[0;34m(\u001b[0m\u001b[0mtext\u001b[0m\u001b[0;34m:\u001b[0m \u001b[0mbytes\u001b[0m\u001b[0;34m,\u001b[0m \u001b[0mkey\u001b[0m\u001b[0;34m)\u001b[0m \u001b[0;34m->\u001b[0m \u001b[0mbytes\u001b[0m\u001b[0;34m:\u001b[0m\u001b[0;34m\u001b[0m\u001b[0;34m\u001b[0m\u001b[0m\n\u001b[1;32m      5\u001b[0m   \u001b[0mcipher\u001b[0m \u001b[0;34m=\u001b[0m \u001b[0mAES\u001b[0m\u001b[0;34m.\u001b[0m\u001b[0mnew\u001b[0m\u001b[0;34m(\u001b[0m\u001b[0mkey\u001b[0m\u001b[0;34m,\u001b[0m \u001b[0mAES\u001b[0m\u001b[0;34m.\u001b[0m\u001b[0mMODE_ECB\u001b[0m\u001b[0;34m)\u001b[0m\u001b[0;34m\u001b[0m\u001b[0;34m\u001b[0m\u001b[0m\n\u001b[0;32m----> 6\u001b[0;31m   \u001b[0;32mreturn\u001b[0m \u001b[0mcipher\u001b[0m\u001b[0;34m.\u001b[0m\u001b[0mdecrypt\u001b[0m\u001b[0;34m(\u001b[0m\u001b[0mtext\u001b[0m\u001b[0;34m)\u001b[0m\u001b[0;34m\u001b[0m\u001b[0;34m\u001b[0m\u001b[0m\n\u001b[0m\u001b[1;32m      7\u001b[0m \u001b[0;34m\u001b[0m\u001b[0m\n\u001b[1;32m      8\u001b[0m \u001b[0;32mdef\u001b[0m \u001b[0mencrypt_ECB\u001b[0m\u001b[0;34m(\u001b[0m\u001b[0mtext\u001b[0m\u001b[0;34m:\u001b[0m \u001b[0mbytes\u001b[0m\u001b[0;34m,\u001b[0m \u001b[0mkey\u001b[0m\u001b[0;34m,\u001b[0m \u001b[0mblock_size\u001b[0m\u001b[0;34m:\u001b[0m \u001b[0mint\u001b[0m\u001b[0;34m)\u001b[0m \u001b[0;34m->\u001b[0m \u001b[0mbytes\u001b[0m\u001b[0;34m:\u001b[0m\u001b[0;34m\u001b[0m\u001b[0;34m\u001b[0m\u001b[0m\n",
            "\u001b[0;32m/usr/local/lib/python3.9/dist-packages/Crypto/Cipher/_mode_ecb.py\u001b[0m in \u001b[0;36mdecrypt\u001b[0;34m(self, ciphertext, output)\u001b[0m\n\u001b[1;32m    189\u001b[0m \u001b[0;34m\u001b[0m\u001b[0m\n\u001b[1;32m    190\u001b[0m         result = raw_ecb_lib.ECB_decrypt(self._state.get(),\n\u001b[0;32m--> 191\u001b[0;31m                                          \u001b[0mc_uint8_ptr\u001b[0m\u001b[0;34m(\u001b[0m\u001b[0mciphertext\u001b[0m\u001b[0;34m)\u001b[0m\u001b[0;34m,\u001b[0m\u001b[0;34m\u001b[0m\u001b[0;34m\u001b[0m\u001b[0m\n\u001b[0m\u001b[1;32m    192\u001b[0m                                          \u001b[0mc_uint8_ptr\u001b[0m\u001b[0;34m(\u001b[0m\u001b[0mplaintext\u001b[0m\u001b[0;34m)\u001b[0m\u001b[0;34m,\u001b[0m\u001b[0;34m\u001b[0m\u001b[0;34m\u001b[0m\u001b[0m\n\u001b[1;32m    193\u001b[0m                                          c_size_t(len(ciphertext)))\n",
            "\u001b[0;32m/usr/local/lib/python3.9/dist-packages/Crypto/Util/_raw_api.py\u001b[0m in \u001b[0;36mc_uint8_ptr\u001b[0;34m(data)\u001b[0m\n\u001b[1;32m    141\u001b[0m             \u001b[0;32mreturn\u001b[0m \u001b[0mdata\u001b[0m\u001b[0;34m\u001b[0m\u001b[0;34m\u001b[0m\u001b[0m\n\u001b[1;32m    142\u001b[0m         \u001b[0;32melse\u001b[0m\u001b[0;34m:\u001b[0m\u001b[0;34m\u001b[0m\u001b[0;34m\u001b[0m\u001b[0m\n\u001b[0;32m--> 143\u001b[0;31m             \u001b[0;32mraise\u001b[0m \u001b[0mTypeError\u001b[0m\u001b[0;34m(\u001b[0m\u001b[0;34m\"Object type %s cannot be passed to C code\"\u001b[0m \u001b[0;34m%\u001b[0m \u001b[0mtype\u001b[0m\u001b[0;34m(\u001b[0m\u001b[0mdata\u001b[0m\u001b[0;34m)\u001b[0m\u001b[0;34m)\u001b[0m\u001b[0;34m\u001b[0m\u001b[0;34m\u001b[0m\u001b[0m\n\u001b[0m\u001b[1;32m    144\u001b[0m \u001b[0;34m\u001b[0m\u001b[0m\n\u001b[1;32m    145\u001b[0m     \u001b[0;32mclass\u001b[0m \u001b[0mVoidPointer_cffi\u001b[0m\u001b[0;34m(\u001b[0m\u001b[0m_VoidPointer\u001b[0m\u001b[0;34m)\u001b[0m\u001b[0;34m:\u001b[0m\u001b[0;34m\u001b[0m\u001b[0;34m\u001b[0m\u001b[0m\n",
            "\u001b[0;31mTypeError\u001b[0m: Object type <class 'str'> cannot be passed to C code"
          ]
        }
      ]
    },
    {
      "cell_type": "markdown",
      "source": [
        "Challenge 11"
      ],
      "metadata": {
        "id": "m-Sjs9QD15gf"
      }
    },
    {
      "cell_type": "code",
      "source": [
        "block_size = 16\n",
        "for i in range(10):\n",
        "  encrypted_bytes, key, encryption_mode = encryption_oracle('A'*256, block_size)\n",
        "\n",
        "  target_index = -1\n",
        "  max_chunk = int(len(encrypted_bytes)/block_size)\n",
        "    \n",
        "  for i in range(max_chunk - 1):\n",
        "    for j in range(i + 1, max_chunk):\n",
        "      if encrypted_bytes[i*block_size: (i+1)*block_size] == encrypted_bytes[j*block_size: (j+1)*block_size]:\n",
        "        #print(encrypted_bytes)\n",
        "        #print(encrypted_bytes[i*block_size: (i+1)*block_size], encrypted_bytes[j*block_size: (j+1)*block_size], i, j)\n",
        "        target_index = i\n",
        "        break\n",
        "    if target_index != -1:\n",
        "      break\n",
        "  \n",
        "  detected_mode = 'ECB' if target_index != -1 else 'CBC'\n",
        "  print(f'{encryption_mode == detected_mode}, answer: {encryption_mode}, detected: {detected_mode}')"
      ],
      "metadata": {
        "colab": {
          "base_uri": "https://localhost:8080/"
        },
        "id": "_A9I0rnf3XPz",
        "outputId": "d5170b7b-0ced-422e-c426-15082b468b8e"
      },
      "execution_count": 27,
      "outputs": [
        {
          "output_type": "stream",
          "name": "stdout",
          "text": [
            "True, answer: CBC, detected: CBC\n",
            "True, answer: CBC, detected: CBC\n",
            "True, answer: CBC, detected: CBC\n",
            "True, answer: CBC, detected: CBC\n",
            "True, answer: ECB, detected: ECB\n",
            "True, answer: ECB, detected: ECB\n",
            "True, answer: ECB, detected: ECB\n",
            "True, answer: ECB, detected: ECB\n",
            "True, answer: ECB, detected: ECB\n",
            "True, answer: ECB, detected: ECB\n"
          ]
        }
      ]
    },
    {
      "cell_type": "markdown",
      "source": [
        "Challenge 12"
      ],
      "metadata": {
        "id": "dwH5x9lK6QGi"
      }
    },
    {
      "cell_type": "code",
      "source": [
        "block_size = 16\n",
        "random_key = os.urandom(block_size)\n",
        "random_bytes = os.urandom(random.randint(5, 10))\n",
        "\n",
        "encrypted_bytes = new_oracle(plain_text)\n",
        "print(encrypted_bytes)\n",
        "\n",
        "# Step 1 Get block_size\n",
        "#detected_block_size = detect_block_size(plain_text)\n",
        "#print(f'block size detection:{detected_block_size==block_size} block_size:{block_size} detected_block_size:{detected_block_size}')\n",
        "# Step 2 Detected ECB mode\n",
        "detected_mode = detect_ECB_mode(plain_text, block_size)\n",
        "print(f'detected_mod: {detected_mode}')\n",
        "# Step 3,4 Craft input\n",
        "# Step 5,6 match_output\n",
        "match_output()"
      ],
      "metadata": {
        "colab": {
          "base_uri": "https://localhost:8080/",
          "height": 377
        },
        "id": "LQeF7NLx_EV-",
        "outputId": "13d7e5c8-8442-4b69-d267-aaf9c4f38368"
      },
      "execution_count": 30,
      "outputs": [
        {
          "output_type": "error",
          "ename": "NameError",
          "evalue": "ignored",
          "traceback": [
            "\u001b[0;31m---------------------------------------------------------------------------\u001b[0m",
            "\u001b[0;31mNameError\u001b[0m                                 Traceback (most recent call last)",
            "\u001b[0;32m<ipython-input-30-2bf6d994398e>\u001b[0m in \u001b[0;36m<module>\u001b[0;34m\u001b[0m\n\u001b[1;32m      3\u001b[0m \u001b[0mrandom_bytes\u001b[0m \u001b[0;34m=\u001b[0m \u001b[0mos\u001b[0m\u001b[0;34m.\u001b[0m\u001b[0murandom\u001b[0m\u001b[0;34m(\u001b[0m\u001b[0mrandom\u001b[0m\u001b[0;34m.\u001b[0m\u001b[0mrandint\u001b[0m\u001b[0;34m(\u001b[0m\u001b[0;36m5\u001b[0m\u001b[0;34m,\u001b[0m \u001b[0;36m10\u001b[0m\u001b[0;34m)\u001b[0m\u001b[0;34m)\u001b[0m\u001b[0;34m\u001b[0m\u001b[0;34m\u001b[0m\u001b[0m\n\u001b[1;32m      4\u001b[0m \u001b[0;34m\u001b[0m\u001b[0m\n\u001b[0;32m----> 5\u001b[0;31m \u001b[0mencrypted_bytes\u001b[0m \u001b[0;34m=\u001b[0m \u001b[0mnew_oracle\u001b[0m\u001b[0;34m(\u001b[0m\u001b[0mplain_text\u001b[0m\u001b[0;34m)\u001b[0m\u001b[0;34m\u001b[0m\u001b[0;34m\u001b[0m\u001b[0m\n\u001b[0m\u001b[1;32m      6\u001b[0m \u001b[0mprint\u001b[0m\u001b[0;34m(\u001b[0m\u001b[0mencrypted_bytes\u001b[0m\u001b[0;34m)\u001b[0m\u001b[0;34m\u001b[0m\u001b[0;34m\u001b[0m\u001b[0m\n\u001b[1;32m      7\u001b[0m \u001b[0;34m\u001b[0m\u001b[0m\n",
            "\u001b[0;32m<ipython-input-28-6c70dc0a6684>\u001b[0m in \u001b[0;36mnew_oracle\u001b[0;34m(plain_text)\u001b[0m\n\u001b[1;32m      7\u001b[0m \u001b[0;34m\u001b[0m\u001b[0m\n\u001b[1;32m      8\u001b[0m   \u001b[0;32mif\u001b[0m \u001b[0misinstance\u001b[0m\u001b[0;34m(\u001b[0m\u001b[0mplain_text\u001b[0m\u001b[0;34m,\u001b[0m \u001b[0mstr\u001b[0m\u001b[0;34m)\u001b[0m\u001b[0;34m:\u001b[0m\u001b[0;34m\u001b[0m\u001b[0;34m\u001b[0m\u001b[0m\n\u001b[0;32m----> 9\u001b[0;31m     \u001b[0mbytes_text\u001b[0m \u001b[0;34m=\u001b[0m \u001b[0mrandom_prefix\u001b[0m \u001b[0;34m+\u001b[0m \u001b[0mplain_text\u001b[0m\u001b[0;34m.\u001b[0m\u001b[0mencode\u001b[0m\u001b[0;34m(\u001b[0m\u001b[0;34m)\u001b[0m \u001b[0;34m+\u001b[0m \u001b[0mfooter_bytes\u001b[0m\u001b[0;34m\u001b[0m\u001b[0;34m\u001b[0m\u001b[0m\n\u001b[0m\u001b[1;32m     10\u001b[0m   \u001b[0;32melse\u001b[0m\u001b[0;34m:\u001b[0m\u001b[0;34m\u001b[0m\u001b[0;34m\u001b[0m\u001b[0m\n\u001b[1;32m     11\u001b[0m     \u001b[0mbytes_text\u001b[0m \u001b[0;34m=\u001b[0m \u001b[0mrandom_prefix\u001b[0m \u001b[0;34m+\u001b[0m \u001b[0mplain_text\u001b[0m \u001b[0;34m+\u001b[0m \u001b[0mfooter_bytes\u001b[0m\u001b[0;34m\u001b[0m\u001b[0;34m\u001b[0m\u001b[0m\n",
            "\u001b[0;31mNameError\u001b[0m: name 'random_prefix' is not defined"
          ]
        }
      ]
    },
    {
      "cell_type": "markdown",
      "source": [
        "Challenge 13"
      ],
      "metadata": {
        "id": "j8y-QZHZ-BSn"
      }
    },
    {
      "cell_type": "code",
      "source": [
        "block_size = 16\n",
        "profile = profile_for('foo@bar.com')\n",
        "print(f'profile: {profile}')\n",
        "key = random_aes_key()\n",
        "print(key)\n",
        "encrypt_profile = encrypt_ECB(str.encode(profile), key, block_size)\n",
        "print(encrypt_profile)\n",
        "decrypt_profile = decrypt_ECB(encrypt_profile, key)\n",
        "print(decrypt_profile)\n",
        "\n",
        "target = 'email=foo%40bar.com&uid=10&role=admin'\n",
        "print(f'target: {target}')\n",
        "encrypt_target = encrypt_ECB(str.encode(target), key, block_size)\n",
        "print(encrypt_target)\n",
        "decrypt_target = decrypt_ECB(encrypt_target, key)\n",
        "print(decrypt_target)"
      ],
      "metadata": {
        "colab": {
          "base_uri": "https://localhost:8080/"
        },
        "id": "o8imw1EWE1-p",
        "outputId": "3cdbf535-4057-4b31-b3f2-785c87c33a2b"
      },
      "execution_count": 32,
      "outputs": [
        {
          "output_type": "stream",
          "name": "stdout",
          "text": [
            "profile: email=foo%40bar.com&uid=10&role=user\n",
            "b'\\xd4V\\x962\\x18\\xe1\\xe7\\xe6+\\x03\\xe9_\\xdcp\\x90\\x90'\n",
            "b'\"4\\x80\\x1fJgH\\xda\\x92\\xd6}:=PO\\xae\\xc6\\xca\\xf8|\\x98\\r\\xbcr\\x1d\\'T\\xe3\\xf6\\x96\\xbbD\\xec\\xe2r\\xed\\x86\\xc1D\\xbd\\xc7\\x94\\xca4m\\x10\\xea\\xba'\n",
            "b'email=foo%40bar.com&uid=10&role=user\\x00\\x00\\x00\\x00\\x00\\x00\\x00\\x00\\x00\\x00\\x00\\x00'\n",
            "target: email=foo%40bar.com&uid=10&role=admin\n",
            "b'\"4\\x80\\x1fJgH\\xda\\x92\\xd6}:=PO\\xae\\xc6\\xca\\xf8|\\x98\\r\\xbcr\\x1d\\'T\\xe3\\xf6\\x96\\xbbD\\x88\\x01=\\xea\\x05a\\xe3Y%\\xb8\\x0c]\\xbc\\x12\\xd5c'\n",
            "b'email=foo%40bar.com&uid=10&role=admin\\x00\\x00\\x00\\x00\\x00\\x00\\x00\\x00\\x00\\x00\\x00'\n"
          ]
        }
      ]
    },
    {
      "cell_type": "code",
      "source": [
        "origin = profile_for('foo@bar.com')\n",
        "print([origin[i*16:(i+1)*16] for i in range(5)])\n",
        "encrypt_origin = encrypt_ECB(str.encode(origin), key, block_size)\n",
        "print([encrypt_origin[i*16:(i+1)*16] for i in range(5)])\n",
        "hack = profile_for('foo@bar.admin')\n",
        "print([hack[i*16:(i+1)*16] for i in range(5)])\n",
        "encrypt_hack = encrypt_ECB(str.encode(hack), key, block_size)\n",
        "print([encrypt_hack[i*16:(i+1)*16] for i in range(5)])"
      ],
      "metadata": {
        "colab": {
          "base_uri": "https://localhost:8080/"
        },
        "id": "45nUZrBISeyW",
        "outputId": "5724d7e0-b364-4e96-c60e-6bf543464873"
      },
      "execution_count": 33,
      "outputs": [
        {
          "output_type": "stream",
          "name": "stdout",
          "text": [
            "['email=foo%40bar.', 'com&uid=10&role=', 'user', '', '']\n",
            "[b'\"4\\x80\\x1fJgH\\xda\\x92\\xd6}:=PO\\xae', b\"\\xc6\\xca\\xf8|\\x98\\r\\xbcr\\x1d'T\\xe3\\xf6\\x96\\xbbD\", b'\\xec\\xe2r\\xed\\x86\\xc1D\\xbd\\xc7\\x94\\xca4m\\x10\\xea\\xba', b'', b'']\n",
            "['email=foo%40bar.', 'admin&uid=10&rol', 'e=user', '', '']\n",
            "[b'\"4\\x80\\x1fJgH\\xda\\x92\\xd6}:=PO\\xae', b'\\x84L\\xeaB\\xd7\\xe3\\xf9%W\\xab\\xb4\\x8d\\x80\\x84\\xd6\\xf5', b'f[\\x0c\\n\\xbaG\\xd7rR\\xe0\\xbae\\xde\\x8e\\xa1(', b'', b'']\n"
          ]
        }
      ]
    },
    {
      "cell_type": "code",
      "source": [
        "encrypt_origin = encrypt_origin.replace(encrypt_origin[32:48], encrypt_hack[16:32]) + encrypt_hack[32:48]\n",
        "print(encrypt_origin)\n",
        "print(decrypt_ECB(encrypt_origin, key))"
      ],
      "metadata": {
        "colab": {
          "base_uri": "https://localhost:8080/"
        },
        "id": "0eM1DGmsVELn",
        "outputId": "e7031565-755c-4736-ea7a-17bd85a04cb5"
      },
      "execution_count": 34,
      "outputs": [
        {
          "output_type": "stream",
          "name": "stdout",
          "text": [
            "b'\"4\\x80\\x1fJgH\\xda\\x92\\xd6}:=PO\\xae\\xc6\\xca\\xf8|\\x98\\r\\xbcr\\x1d\\'T\\xe3\\xf6\\x96\\xbbD\\x84L\\xeaB\\xd7\\xe3\\xf9%W\\xab\\xb4\\x8d\\x80\\x84\\xd6\\xf5f[\\x0c\\n\\xbaG\\xd7rR\\xe0\\xbae\\xde\\x8e\\xa1('\n",
            "b'email=foo%40bar.com&uid=10&role=admin&uid=10&role=user\\x00\\x00\\x00\\x00\\x00\\x00\\x00\\x00\\x00\\x00'\n"
          ]
        }
      ]
    },
    {
      "cell_type": "code",
      "source": [
        "hack = profile_for('foo@bar.admin')\n",
        "print([hack[i*16:(i+1)*16] for i in range(5)])\n",
        "encrypt_hack = encrypt_ECB(str.encode(hack), key, block_size)\n",
        "print([encrypt_hack[i*16:(i+1)*16] for i in range(5)])"
      ],
      "metadata": {
        "colab": {
          "base_uri": "https://localhost:8080/"
        },
        "id": "p9nGPIIQcxon",
        "outputId": "6b041e77-4d9c-49b8-c88e-b426864ace7b"
      },
      "execution_count": 35,
      "outputs": [
        {
          "output_type": "stream",
          "name": "stdout",
          "text": [
            "['email=foo%40bar.', 'admin&uid=10&rol', 'e=user', '', '']\n",
            "[b'\"4\\x80\\x1fJgH\\xda\\x92\\xd6}:=PO\\xae', b'\\x84L\\xeaB\\xd7\\xe3\\xf9%W\\xab\\xb4\\x8d\\x80\\x84\\xd6\\xf5', b'f[\\x0c\\n\\xbaG\\xd7rR\\xe0\\xbae\\xde\\x8e\\xa1(', b'', b'']\n"
          ]
        }
      ]
    },
    {
      "cell_type": "markdown",
      "source": [
        "Challenge 14"
      ],
      "metadata": {
        "id": "P5EXc07739mE"
      }
    },
    {
      "cell_type": "code",
      "source": [
        "random_prefix = os.urandom(random.randint(1, 32))\n",
        "print(random_prefix, len(random_prefix))\n",
        "print(random_key)"
      ],
      "metadata": {
        "colab": {
          "base_uri": "https://localhost:8080/"
        },
        "id": "TBGP3PEp4Bgb",
        "outputId": "e31d69c2-a771-468a-fd39-7db220639e8a"
      },
      "execution_count": 36,
      "outputs": [
        {
          "output_type": "stream",
          "name": "stdout",
          "text": [
            "b'\\x81\\xf2\\xfd\\xd1G\\x1c\\x1f$\\xb9\\x991\\x83P' 13\n",
            "b'\\x82\\xe9Wv\\xf1\\x93\\x04P\\xd1^\\xd5\\x0e\\x17C\\xd4\\x15'\n"
          ]
        }
      ]
    },
    {
      "cell_type": "code",
      "source": [
        "attacker_controlled = b'attacker_controlled'\n",
        "encrypted_btyes = new_oracle(random_prefix + attacker_controlled)\n",
        "print(encrypted_btyes)"
      ],
      "metadata": {
        "colab": {
          "base_uri": "https://localhost:8080/"
        },
        "id": "g5UJBb1_4eHN",
        "outputId": "cf7ac81b-79e5-4e0d-8b6c-d59dfd570d4f"
      },
      "execution_count": 37,
      "outputs": [
        {
          "output_type": "stream",
          "name": "stdout",
          "text": [
            "b\"\\x00\\xb5\\xa4\\xe6\\xa4\\x0b\\xefN\\xbc'\\x1c=N6\\x83\\xcc p\\xc6z\\xba\\x14\\twD\\x00\\x12\\x9dD\\xfd\\x99\\xd3\\xaf\\r\\x1f\\x1c|\\x91\\x02X\\xb4fm\\xa3\\xf3\\x10\\xe9\\x83_p\\xa6\\xcb\\x8c\\xb9\\xe3\\xb6c\\x8e\\xee\\x11\\xb2\\x90\\x19\\xa4\\x8c\\xb0\\x8fK\\xae\\xbf\\xd8\\xf1U\\xe9p\\x8b\\xd8\\xc5z\\xd6%e\\x06\\r\\xe9\\xd3\\xc1\\x9d\\xa3\\x06\\x80]\\xfc\\x18\\x9d!\\x90\\x1aj\\x05v\\x0cW\\x1e\\x07\\x9c*\\xad\\xc2\\x95\\xdcc\\xa1\\x98@*\\x19\\xb8\\xd2\\xe8\\xf3\\x0e\\x89#X\\x93\\xcbhw\\xe1\\xed\\x1f\\xce[K\\x905\\xfc\\xeeECK\\xddx^\\xc8\\xce\\xc4\\xad\\x9d\\x9fg=\\x1dC\\xf5\\x9f\\xf4\\x156\\x11r-=\\x1a\\xa7C\\xee%\\xb8\\x14\\x1bU#E\\x07\\xf4\\xe4if^66\\x7f\\xab\\xdf\\xbd\\x14\\xb0\\x9f\\xa2\\x16\"\n"
          ]
        }
      ]
    },
    {
      "cell_type": "code",
      "source": [
        "match_output_14()"
      ],
      "metadata": {
        "colab": {
          "base_uri": "https://localhost:8080/"
        },
        "id": "DCNwnL1r9bK_",
        "outputId": "48f0acb6-3505-4e3e-ff90-c7498cee2e9c"
      },
      "execution_count": 39,
      "outputs": [
        {
          "output_type": "stream",
          "name": "stdout",
          "text": [
            "0 [b'\\xbb>)\\xc4\\xeee\\x05\\x12W\\x0cT\\xde\\x05\\xe0\\xb9\\x9a', b'_p\\xa6\\xcb\\x8c\\xb9\\xe3\\xb6c\\x8e\\xee\\x11\\xb2\\x90\\x19\\xa4', b'\\x8c\\xb0\\x8fK\\xae\\xbf\\xd8\\xf1U\\xe9p\\x8b\\xd8\\xc5z\\xd6', b'%e\\x06\\r\\xe9\\xd3\\xc1\\x9d\\xa3\\x06\\x80]\\xfc\\x18\\x9d!', b'\\x90\\x1aj\\x05v\\x0cW\\x1e\\x07\\x9c*\\xad\\xc2\\x95\\xdcc', b'\\xa1\\x98@*\\x19\\xb8\\xd2\\xe8\\xf3\\x0e\\x89#X\\x93\\xcbh', b'w\\xe1\\xed\\x1f\\xce[K\\x905\\xfc\\xeeECK\\xddx', b'^\\xc8\\xce\\xc4\\xad\\x9d\\x9fg=\\x1dC\\xf5\\x9f\\xf4\\x156', b'\\x11r-=\\x1a\\xa7C\\xee%\\xb8\\x14\\x1bU#E\\x07', b'\\xf4\\xe4if^66\\x7f\\xab\\xdf\\xbd\\x14\\xb0\\x9f\\xa2\\x16', b'']\n",
            "1 [b'vGx\\xe6\\xe7W^b\\xe7Oq\\xc6R\\xfd\\xf5\\xef', b'\\x00?,\\x89o.\\xa8\\x0fx\\x18\\xf6\\xa6\\xf0\\xc9\\x07\\xd8', b'6Xu\\xa4\\xdaj\\xc9;\\x99U\\xd8\\xcacEWI', b'\\xad\\xa9\\xbf`l\\x06\\x86\\x9b\\xc4\\x1fRI}\\x08\\xbe,', b'<\\x84\\xe4\\x1d\\x9a\\x1c\\xd8i\\xa7}<A\\x93\\r\\xd9V', b\"\\xc7'\\x92\\xc8\\xfd\\x15_\\x064s\\xfd\\xb1m.\\x0c\\x99\", b'\\x0b\\xfcZ\\x1d\\xf7\\xb1^\\x93BaU<`\\xbc<\\xd3', b'\\xf1T\\xf0\\xbc\\xfa\\xfb\\x7f\\x96\\xf4\\xfa\\xbb&\\xf1\\x9c\\xe94', b'\\x1e\\xe0\\xa1`\\xcc\\xff5\\x80\\n\\xe8X/3$M\\x98', b'9v\\xde\\xf4\\xa5\\x9eP\\xc0\\xa7\\xe5^O\\xa1\\xab\\xffA', b'']\n",
            "2 [b'\\xcc\\xb0\\xee\\xb3\"\\x95\\xa2w\\x9a\\x94\\xc1\\r\\x1bc9\\xc9', b'\\x87\\xf3O\\x11\\x14\\x0b\\xa2p}BJ\\xa0\\xf0\\xa3#a', b'\\xea\\x12[\\xcfA2P]\\xbb[*\\xf3\\xf2\\xac\\xf9\\x14', b\"E\\xce%\\xa5\\x08\\xed{\\xb6l\\xfb\\xe1f'e\\xf6\\x12\", b'\\xf44\\xc2\\x0c\\x02\\xd6\\xda\\xdb`\\x90\\x01I\\x1a8\\xaap', b'\\x0b\\xc1`>\\xbe\\x90<\\x9e\\x82f\\xf0\\xbb\\x91\\x02m\\x1e', b'\\xd6\\t+xt\\x9bn\\xd0\\xad\\xbe\\\\L3\\xdf\\xae\\xb8', b'\\xe3/\\x977\\x0b\\\\{8\\xcd\\xce *\\xb6\\xe9\\xed\\xa9', b'y\\xa1\\x12\\x0b\\x95\\xb27}\\x10\\xb7\\x97\\nj\\x8e\\xd2\\xc5', b'0\\xff\\xbcG\\x1f\\x94\\xc8\\xdf\\xed\\xd31\\xde\\xa4\\x83/\\xe3', b'']\n",
            "3 [b's\\x9b\\xe3\\x05\\xbc\\xbers6OHX\\x95\\x15\\x99\\xba', b'\\xb6\\x1cc\\x84\\x88\\xf4\\xc6\\x88\\xc3\\xa8/B\\n\\xdf\\xc19', b'+9\\x0e/\"Am\\x19\\x84%C\\x8f\\x8d\\xec\\'\\x0f', b'\\xbaF\\xc3\\n8\\xb1\\xa3O\\x1e\\x98\\xc7\\xc1\\xbc\\xb4\\x04T', b'\\xb8\\xa0\\xba\\xfb\\xf6e\\xe1(5\\xf4\\xf2L\\xf6\\xf3\\xdfL', b'kr\\xfa\\x1f\\xb8D[\\xab&!\\x9a\\xf0\\x8d\\xc1\\x10\\x95', b'\\x1dc$ATx\\x99\\x05(\\xe9\\xb9R\\x92\\xabM\\x9f', b'\\xea\\x0f\\xc3 <\\xc25\\x96\\x99,2\\x00\\xab\\xd6\\x8b\\xf6', b'\\xec!\\xd9:\\x8ey(\\xf403`i\\xcb\\xe9h\\x1c', b'o\\xb7~\\xa5Ju\\xf1E\\xcc\\xa4i\\xa5\\x8b+\\xa4\\x90', b'']\n",
            "4 [b's\\x9b\\xe3\\x05\\xbc\\xbers6OHX\\x95\\x15\\x99\\xba', b'-\\x91\\xe9\\xa9\\xd5\\xbb\\xce\\xc5\\xf1\\xd4\\xc7&a2\\xbdx', b'\\x87E\\t\\x00\\xd8?GF\\x1c)T\\xf7\\xf9\\xbd\\x07\\x1d', b'\\x90\\xe9*\\x03\\xedC\\xf5\\xdcA\\x95\\x0fU/\\xdf\\x19\\xf3', b'\\x13\\x12\\xe0\\xb7\\xf6/\\x17\\xf5\\x10\\xf3I6\\xb3q\\x1a\\xb3', b'\\x1a\\x90\\x1dh\\xf7D\\xd0\\xe1u\\xaes\\x9dk\\x9d\\x01-', b'\\xf5|\\xf2\\xdcwS\\xdb\\xee\\xbd\\x17f\\x9d1\\xae\\x0e\\x15', b'\\x8f\\x10\\xb0\\xf7:=W/\\x80\\x95s\\xb6z\\xde+R', b'J\\xc9iDV\\xd8\\xaf!\\xb8\\x08\\xaeV\\xaaB\\x10;', b'\\xb9\\xb0x\\xde\\x992\\x99\\xca^%9\\xc7\\x85\\xdfx\\xbd', b'']\n",
            "5 [b's\\x9b\\xe3\\x05\\xbc\\xbers6OHX\\x95\\x15\\x99\\xba', b'\\x00&\\x1a7\\xff%\"]_}\\x04`-\\x90\\xc1\\x86', b'!U\\xa9S\\x1f\\x07\\xc17\\x1c8\\xe6\\xad7\\x9bP\\xf6', b'\\x0f!\\x07\\xa6\\x14\\xaa\\xa7\\xbdu9\\xaewx~\\xcb\\x1c', b'\\x1dE\\xbb\\x06~}\"O\\x95\\xa6\\xaet\\x16\\xf5\\xdf=', b'\\x94\\x18\\x06\\xb0\\xd4\\xac\\x153\\x15\\xc4:\\xb9\\xfb\\xdfw\\xdf', b'Eb\\xe7X\\x08Q\\xf3\\x8c\\xe5\\xefVW\\xb8\\xc8\\x13\\xe8', b'k\\xb1t\\xdb\\xe6-z\\x98\\x86\\x03l{\\x7f\\x06S\\x19', b';\\x7f^\\x0bl\\xfb\\xe6\\xac|\\x0b)G\\xea6\\xe4\\x01', b'#z\\xe0o\\x05B\\xcf\\x1f\\xf2,F\\xfc\\x7f\\xd5\\xaa\\xab', b'']\n",
            "6 [b's\\x9b\\xe3\\x05\\xbc\\xbers6OHX\\x95\\x15\\x99\\xba', b'\\x11\\xfa.#oX\\xac\\xae>?\\xb6\\x91_\\xe3\\xd2\\xe1', b'\\x96g<w\\xac\\x9aH\\xaf\\xe9\\xf7?\\xae\\x82\\xbd\\xfc=', b'\\xea\\x12n@\\xa9\\xb3\\xa1\\x0c2\\xaa\\x12\\xa0\\xe6\\x1c\\xbc\\x13', b'\\xda\\x04\\x86\\x07\\xa3`\\xb7\\x02y9\\xcd\\x0b\\x83K\\xda\\xc4', b'\\xcc\\xaeZ7r)\\x9d.\\xe2\\x9c\\x9b\\x90\\xc6\\x87\\x11\\xb8', b'\\x0f\\x13\\xfe\\x11\\xf1%\\xe2N\\xaf\\xe1\\xfd[\\xaaLX\\xf9', b'\\x81\\xa1\\xde\\ti\\xf6[I!\\x00N\\xd3\\xe8\\x18-^', b'E\\xce\\xe4\\x0e\\xcf}\\n\\xad\\x1a\\x91(\\xd8\\xc6Nu\\x01', b'\\xa2\\x1f\\xf7\\xb3\\xf8Bp\\xc0\\x8d\\xa0!\\xf5\\xff\\x84\\x84c', b'']\n",
            "7 [b's\\x9b\\xe3\\x05\\xbc\\xbers6OHX\\x95\\x15\\x99\\xba', b'9\\x0f\\x1a\\x98.\\xfd\\xc5\\x96V\\xea\\x18\\xf1\\xaf\\xfe2Q', b'\\xef\\xb8wVT\\xf3\\x02{\\xa5\\x84\\x17\\x16\\x9dh\\xf9#', b\"\\x80'\\xb4)|\\x9b\\xa1\\x8cw\\x93\\x8bU\\xbd\\x90\\x8a\\xab\", b'F~\\x95\\xace\\x00k\\xe701v\\xb3\\x15\\xd0\\x9d\\x07', b'-\\xc8\\xb5\\x16\\xfa=\\xe2\\x83\\xe9_\\xed\\xd8tT\\xffd', b'i\\xb2\\x7f\\x1c5\\x1d\\x90\\xab\\xbc\\xdc\\x16\\xbc\\xea\\xa0@\\xb7', b'\\xf74\\xb1\\x96\\x8b\\xa9\\xf0\\x9b\\x17-\\x893\\xbbo\\xe6\\x19', b'\\x9dg\\xc4t\\x8dW\\xa8\\x0cC\\xa6\\x7f\"\\xc8\\xc5\\xad\\x89', b'\\xe4I)a\\xaf!\\x90)\\x92\\xf3\\x1b\\xf5\\x12\\xee\\xcb)', b'']\n",
            "8 [b's\\x9b\\xe3\\x05\\xbc\\xbers6OHX\\x95\\x15\\x99\\xba', b'&w\\x93\\xde\\xe0B\\xf6\\x00\\xc2\\x04e\\xc3\\x940\\x0b&', b';\\x8fX\\x1f\\xe9\\x18\\xdcs\\x17\\xea\\xa9\\x95\\x00]\\x16\\x92', b'1>0\\x8e&J\\x06V\\x04p]\"0\\xff\\xedj', b'\\x9br\\xf7\\xaa ~\\xd8\\x05\\xd8\\\\\\xe8\\xac\\xa2\\xef\\xc2\\xda', b'\\xdfWY\\xcci\\xf8v\\xff8*n\\xad\\xb7\\\\}\\xb2', b'\\xf9\\x12\\xc4\\xe82%\\xcd\\xf1\\xcc\\xf90\\xac\\x12Q\\x03\\x14', b'\\xc8\\xc4\\x8f\\xa8~\\n\\xc0\\x91\\x03\\xf1R\\xe6\\x04\\xa1\\x80\\x86', b'\\xbd\\xc6}\\x12`\\xd8T.\\xafo\\xfe\\xacLD\\xa65', b'j.\\x02\\n\\xc8lg\"x0\\xe7\\x9f\\xc5\\xaaaL', b'']\n",
            "9 [b's\\x9b\\xe3\\x05\\xbc\\xbers6OHX\\x95\\x15\\x99\\xba', b'\\x18K\\xc7\\x8f\\xc3\\x99\\xf1\\x9e.j\\x9bD\\xe2!)\\xfc', b'M\\xb9V\\xaa\\x0165_\\x1d\\xbf\\x9b\\x83\\xbf\\x0e\\xa9\\t', b'\\x11\\xdd\\xc1-5\\x94\\x12\\x1f\\xbe\\x85o<\\n\\x03\\xfd\\xe4', b'7>Vd\\xf9\\xf2B\\xd4\\x1c\\xe8\\x16\\x0b\\xe2\\xf7\\x96\\x11', b'jD\\xe8]m\\xfe* \\xbd\\xcd%>\\x8c8Y\\x8c', b'\\xef\\xe2\\xbbEG\\xf5\\x05:\\xf2\\xe1!\\xf2\\xaeMN\\x10', b'\\x1d\\x08l\\xb9\\xe7\\xfbL\\xc3\\xd2\\x8c\\xd6E\\x7fB\\x96\\xbe', b'rm\\x90\\xf0[\\x90{\\xa2=\\xfc\\xf95\\xbd,v\\xb5', b'\\xf7\\xa2\\x86\\x8d\\x81\\x84.\\r\\rb\\xe3\\x9f\\xd2\\x0b\\x06J', b'']\n",
            "10 [b's\\x9b\\xe3\\x05\\xbc\\xbers6OHX\\x95\\x15\\x99\\xba', b'\\xe00\\x07\\xd7\\xc9\\xc5\\x97\\xa5\\xd7I\\x01U%w\\x98\\xcf', b'\\x15\\x96e\\xd7\\x81\\x9fO\\xf3~\\xc4&}\\xf5|T\\xe8', b'\\x81\\tp\\xf2\\xf7F\\x15\\x9c1={>\\xa4\\xac6\\x0e', b'\\xe4}\\xf6\\xd8\"^\\x92\\xa8c\\xe3\\x87oR`+\\xd2', b'\\r\\xc8\\xf6c\\xac\\xf7\\x9cN\\xd0\\x1a[t\\xe6\\x1d\\x16\\xd8', b'\\xbf%o\\x18\\xef\\xa6\\x86IF\\x04\\xbf\\\\g\\xb3%|', b'\\rF\\xf6\\x90@e\\xfaLzi\\xede\\xca\\xec\\xa7\\x07', b'\\x9bd\\x8f\\x8a\\x1e;\\xaa\\xb7|\\x8a\\xcf.\\xd6\\xd56\\xfe', b'\\xdd\\x82\\xb4\\xd6\\xca\\xa2\\xbd\\x11\\xbc\\xe6\\xc5\\x8aD\\xb8\\xbaQ', b\"$qV\\xb0$\\xfa.;\\xf0\\x16\\x7f3'\\xab\\xf2\\x82\", b'']\n",
            "11 [b's\\x9b\\xe3\\x05\\xbc\\xbers6OHX\\x95\\x15\\x99\\xba', b'\\x92\\x9d\\xd4[\\xe6\\x9d\\x9dY\\x88\\x07\\xa2\\x04\\xaeB\\xac\\x0b', b'\\xdc/^\\xf7\\x07k\\xef\\x82\\xfc\\xd2H\\xdb\\x12\\x10ZF', b')\\x83\\x9a!\\xd6bhM-\\x03\\x93Z\\xbd\\xf7\\x90&', b'\\xcc\\xec1\\x0f\\xd5\\x8c\\x05\\x1b\\xa7\\xc8\\x0cH\\x00e\\xac\\xcc', b'\\xdf-H|O\\xd9ui\\x86\\x11\\xee;\\x8a-\\xd9t', b'p\\x8e\\xd5\\nb\\x95\\xd34\\x9f\\x18\\x02\\xb2\\x9a\\xee\\xc0!', b'\\xb8[\\xa1v\\xa1\\xe2\\x8b\\xc9\\x10\\xb5\\xb1\\x95\\xfd\\xde\\xeb\\xf3', b'\\x9aO\\xac\\xea\\x8e-S\\x0b\\xc8\\xa3\\xaa4\\n\\xfe\\xf47', b'\\xd9yn@\\xec!\\xa0\\x89\\xac\\xa0j\\x85[\\xe6l\\xb2', b'_\\xf2\\x1f\\xf2\\xa4y\\x10\\xe7\\xf7rx4XW1\\x8c', b'']\n",
            "12 [b's\\x9b\\xe3\\x05\\xbc\\xbers6OHX\\x95\\x15\\x99\\xba', b'\\xfbc\\x13\\xe0f\\xee\\x8c\\xcd%B#E\\x1c_\\x19\\xff', b'\\xa3\\x82\\x8b\\xc1f\\xa9\\xe1\\x16\\x86\\xe0\\x9b\\xa43\\xb7\\xbb\\xf0', b'<\\xdb`\\xb3\\x1a\\x0e\\x8b\\xe9\\xfad\\x9c\\x8b\\x1d\\x95e>', b'\\xbam\\xc7\\xb4r\\xb6S\\x98\\xeeB\\xc5\\x12\\xaf\\xfb\\x8c\\xa2', b'\\xf9D\\x95\\xfc\\xde\\x04\\xe2\\x19v\\x1fw\\x87\\x9f\\xae42', b'\\xd0\\xb5\\xa7L^\\x85e\\xfa\\xc9\\x8e\\xeaA\\xf2\\x93>g', b'A\\xf2\\xed\\x892^\\x91\\x16A\\x05\\xe8C@q{\\\\', b'\\x16\\xc1\\xba\\xa3\\xdei\\xd8\\xfbX\\x0b\\xbe\\x04(\\x7fzz', b'\\xbb\\xaa\\x060\\x98\\x9a\\xb2\\xed\\x14~\\x83\\xdf\\xdd\\xf9\\xceH', b'\\\\\\xb4s\\x16\\x92v1P\\x97\\xa9\\xadc\\xd8=s\\x91', b'']\n",
            "13 [b's\\x9b\\xe3\\x05\\xbc\\xbers6OHX\\x95\\x15\\x99\\xba', b'\\x0f#Mf9\\xca\\x91\\xd7@\\xd3\\xc7m4Od\\x91', b'\\xee\\x12P\\xe0\\xbd\\xa3\\x9fq\\xfe\\xaa\\x85\\x81\\x02DT\\xb0', b'\\x04\\x03t\\x05\\xabD\\x96%\\xd1;\\xfe\\xf7x\\xa3\\x93x', b';\\xdc\\xd3u\\xdc\\x9c\\xbf\\x1a\\xf0\\xcc%@\\x926+\\x02', b'\\x82O_\\xbc\\x832\\x16\\xa3\\xfd\\x1e\\xe3\\xb9h\\xcdE\\xce', b'x\\xb5\\x18\\x89\\xb6\\xee\\xf7]D\\xfd\\x95\\x1f\\x0e\\xd1n:', b\"\\xac\\xb9\\xce\\x95\\x16o\\x82\\x18+'\\xf4!\\x98\\xd6OC\", b'\\xc4\\x89\\xb5\\x03\\xbf\\x81#(R\\x9bOb\\x1d\\xdd\"\\x91', b'\\xc9j\\x9f\\x1f=\\xed\\xda`\\x9b\\xce^\\xc7\\x05\\xa0:6', b'\\xec&.H\\x98\\xb5\\xdd\\x0cH\\x0c\\xce\\x08\\xf1\\x8d>q', b'']\n",
            "14 [b's\\x9b\\xe3\\x05\\xbc\\xbers6OHX\\x95\\x15\\x99\\xba', b'~\\xb0\\x8a\\x9f>\\xf2\\xf0\\xa4\\xa8\\xfe{>\\xf5%\\x02\\x91', b'Z<\\x0e\\x8a\\x17\\x97\\xeb\\xe9\\x94\\xd9\\x02\\x9f\\xf2W_=', b'\\xda\\xf8h\\xc0rO\\x80\\x11\\xe6\\x80\\x86\\x9d)\\x16\\\\\\x02', b'V\\xa4\\x92T*\\x90\\xb7\\xb0\\x9a\\x1c\\x1e+\\xe5\\xcfZ\\x8d', b\"\\x07\\xcfB\\xedJ\\x00\\xd5\\x9blY\\x0b'\\xdb\\x82&b\", b'cO\\xa2\\xc3\\xeb\\x1d\\xfa\\xaf`\\xa4~~\\x80Q\\xe2z', b'D@\\x9cD%\\x1c\\xb9J\\xc8X\\x14F\\xff\\xe4_\\xe9', b'\\xb8j\\xb9H\\x08\\xdb;\\x90a\\xe2,:\\xb7wx2', b'}\\xa5\\x99\\x94\\x8fc\\x84\\x00\\xa5GH\\xd9\\x12O_\\xd5', b'\\x98\\t/\\x81\\xba&\\x0e\\xd9\\xfb\\x00\\x84\\x1a\\x05\\xc7\\xc7\\x10', b'']\n",
            "15 [b's\\x9b\\xe3\\x05\\xbc\\xbers6OHX\\x95\\x15\\x99\\xba', b'(\\xb8\\x12\\xee*\\x86\\xa4\\xd2\\xf9;\\xe70\\xdc\\xf2\\x1e\\xed', b'\\x9c,\\x03\\x8d\\xad\\xb8\\xf9\\xf5\\xb5*\\xf3\\xe4\\xceH\\x0c\\xd1', b'\\xd9\\xa0_\\x87\\x1a\\xb9[H|\\xa3\\x7f\\x89\\xa3\\x85:\\xcc', b'\\xefc\\x0c\\xf6\\x10\\x10T.\\xdb\\xc3\\x7f\\x98\\x02*\\x04\\xc0', b'\\x06\\xd9\\x9d\\\\\\x83b\\x9cJ)\\x18\\x02B5\\xcd\\x9a\\x0e', b'\\x0e\\x18\\x11\\x9cx9T\\xae,[\\x08\\x83\\x17\\x8b\\x04k', b'=\\xd1\\x11\\xbf\\x7f\\xd2be`\\xc2-!\\xbbZe\\xea', b'X\\xfa\\xec\\xf8\\x84\\x99[\\xf4*\\xcaL8\\xfb\\x0b|\\xfc', b'C\\xba]y\\x8f\\r11\\x0eb\\xb4\\xab\\x95\\x82\\x8c\\xc4', b'v\\xc2\\x18\\x97n\\xc2\\xd0\\x0bdF\\x1d\\xe6{\\x98\\x89\\xdb', b'']\n",
            "16 [b's\\x9b\\xe3\\x05\\xbc\\xbers6OHX\\x95\\x15\\x99\\xba', b'\\xbe\\x90\\xff\\xb5\\x80YE\\xb3\\x87\\x1c\\xdbY\\xb6\\xa6\\xb3\\xf4', b'_p\\xa6\\xcb\\x8c\\xb9\\xe3\\xb6c\\x8e\\xee\\x11\\xb2\\x90\\x19\\xa4', b'\\x8c\\xb0\\x8fK\\xae\\xbf\\xd8\\xf1U\\xe9p\\x8b\\xd8\\xc5z\\xd6', b'%e\\x06\\r\\xe9\\xd3\\xc1\\x9d\\xa3\\x06\\x80]\\xfc\\x18\\x9d!', b'\\x90\\x1aj\\x05v\\x0cW\\x1e\\x07\\x9c*\\xad\\xc2\\x95\\xdcc', b'\\xa1\\x98@*\\x19\\xb8\\xd2\\xe8\\xf3\\x0e\\x89#X\\x93\\xcbh', b'w\\xe1\\xed\\x1f\\xce[K\\x905\\xfc\\xeeECK\\xddx', b'^\\xc8\\xce\\xc4\\xad\\x9d\\x9fg=\\x1dC\\xf5\\x9f\\xf4\\x156', b'\\x11r-=\\x1a\\xa7C\\xee%\\xb8\\x14\\x1bU#E\\x07', b'\\xf4\\xe4if^66\\x7f\\xab\\xdf\\xbd\\x14\\xb0\\x9f\\xa2\\x16', b'']\n",
            "17 [b's\\x9b\\xe3\\x05\\xbc\\xbers6OHX\\x95\\x15\\x99\\xba', b'\\xc2N\\xd8m\\xe7\"\\xdb\\xee\\x0f\\x1b\\xa1\\xe3\\xe1[uh', b'\\x00?,\\x89o.\\xa8\\x0fx\\x18\\xf6\\xa6\\xf0\\xc9\\x07\\xd8', b'6Xu\\xa4\\xdaj\\xc9;\\x99U\\xd8\\xcacEWI', b'\\xad\\xa9\\xbf`l\\x06\\x86\\x9b\\xc4\\x1fRI}\\x08\\xbe,', b'<\\x84\\xe4\\x1d\\x9a\\x1c\\xd8i\\xa7}<A\\x93\\r\\xd9V', b\"\\xc7'\\x92\\xc8\\xfd\\x15_\\x064s\\xfd\\xb1m.\\x0c\\x99\", b'\\x0b\\xfcZ\\x1d\\xf7\\xb1^\\x93BaU<`\\xbc<\\xd3', b'\\xf1T\\xf0\\xbc\\xfa\\xfb\\x7f\\x96\\xf4\\xfa\\xbb&\\xf1\\x9c\\xe94', b'\\x1e\\xe0\\xa1`\\xcc\\xff5\\x80\\n\\xe8X/3$M\\x98', b'9v\\xde\\xf4\\xa5\\x9eP\\xc0\\xa7\\xe5^O\\xa1\\xab\\xffA', b'']\n",
            "18 [b's\\x9b\\xe3\\x05\\xbc\\xbers6OHX\\x95\\x15\\x99\\xba', b'\\xb9\\xb1C\\xc2\\xfe\\xc1\\n\\xb8\\xcc\\xbc\\x1fj\\x9cL]\\xe0', b'\\x87\\xf3O\\x11\\x14\\x0b\\xa2p}BJ\\xa0\\xf0\\xa3#a', b'\\xea\\x12[\\xcfA2P]\\xbb[*\\xf3\\xf2\\xac\\xf9\\x14', b\"E\\xce%\\xa5\\x08\\xed{\\xb6l\\xfb\\xe1f'e\\xf6\\x12\", b'\\xf44\\xc2\\x0c\\x02\\xd6\\xda\\xdb`\\x90\\x01I\\x1a8\\xaap', b'\\x0b\\xc1`>\\xbe\\x90<\\x9e\\x82f\\xf0\\xbb\\x91\\x02m\\x1e', b'\\xd6\\t+xt\\x9bn\\xd0\\xad\\xbe\\\\L3\\xdf\\xae\\xb8', b'\\xe3/\\x977\\x0b\\\\{8\\xcd\\xce *\\xb6\\xe9\\xed\\xa9', b'y\\xa1\\x12\\x0b\\x95\\xb27}\\x10\\xb7\\x97\\nj\\x8e\\xd2\\xc5', b'0\\xff\\xbcG\\x1f\\x94\\xc8\\xdf\\xed\\xd31\\xde\\xa4\\x83/\\xe3', b'']\n",
            "19 [b's\\x9b\\xe3\\x05\\xbc\\xbers6OHX\\x95\\x15\\x99\\xba', b'\\x0b\\xa2}\\xcd\\xec\\xf9\\xc9\\x14(\\xdf>\\xf3)>\\xf3\\xaf', b'\\xb6\\x1cc\\x84\\x88\\xf4\\xc6\\x88\\xc3\\xa8/B\\n\\xdf\\xc19', b'+9\\x0e/\"Am\\x19\\x84%C\\x8f\\x8d\\xec\\'\\x0f', b'\\xbaF\\xc3\\n8\\xb1\\xa3O\\x1e\\x98\\xc7\\xc1\\xbc\\xb4\\x04T', b'\\xb8\\xa0\\xba\\xfb\\xf6e\\xe1(5\\xf4\\xf2L\\xf6\\xf3\\xdfL', b'kr\\xfa\\x1f\\xb8D[\\xab&!\\x9a\\xf0\\x8d\\xc1\\x10\\x95', b'\\x1dc$ATx\\x99\\x05(\\xe9\\xb9R\\x92\\xabM\\x9f', b'\\xea\\x0f\\xc3 <\\xc25\\x96\\x99,2\\x00\\xab\\xd6\\x8b\\xf6', b'\\xec!\\xd9:\\x8ey(\\xf403`i\\xcb\\xe9h\\x1c', b'o\\xb7~\\xa5Ju\\xf1E\\xcc\\xa4i\\xa5\\x8b+\\xa4\\x90', b'']\n",
            "20 [b's\\x9b\\xe3\\x05\\xbc\\xbers6OHX\\x95\\x15\\x99\\xba', b'\\x0b\\xa2}\\xcd\\xec\\xf9\\xc9\\x14(\\xdf>\\xf3)>\\xf3\\xaf', b'-\\x91\\xe9\\xa9\\xd5\\xbb\\xce\\xc5\\xf1\\xd4\\xc7&a2\\xbdx', b'\\x87E\\t\\x00\\xd8?GF\\x1c)T\\xf7\\xf9\\xbd\\x07\\x1d', b'\\x90\\xe9*\\x03\\xedC\\xf5\\xdcA\\x95\\x0fU/\\xdf\\x19\\xf3', b'\\x13\\x12\\xe0\\xb7\\xf6/\\x17\\xf5\\x10\\xf3I6\\xb3q\\x1a\\xb3', b'\\x1a\\x90\\x1dh\\xf7D\\xd0\\xe1u\\xaes\\x9dk\\x9d\\x01-', b'\\xf5|\\xf2\\xdcwS\\xdb\\xee\\xbd\\x17f\\x9d1\\xae\\x0e\\x15', b'\\x8f\\x10\\xb0\\xf7:=W/\\x80\\x95s\\xb6z\\xde+R', b'J\\xc9iDV\\xd8\\xaf!\\xb8\\x08\\xaeV\\xaaB\\x10;', b'\\xb9\\xb0x\\xde\\x992\\x99\\xca^%9\\xc7\\x85\\xdfx\\xbd', b'']\n",
            "21 [b's\\x9b\\xe3\\x05\\xbc\\xbers6OHX\\x95\\x15\\x99\\xba', b'\\x0b\\xa2}\\xcd\\xec\\xf9\\xc9\\x14(\\xdf>\\xf3)>\\xf3\\xaf', b'\\x00&\\x1a7\\xff%\"]_}\\x04`-\\x90\\xc1\\x86', b'!U\\xa9S\\x1f\\x07\\xc17\\x1c8\\xe6\\xad7\\x9bP\\xf6', b'\\x0f!\\x07\\xa6\\x14\\xaa\\xa7\\xbdu9\\xaewx~\\xcb\\x1c', b'\\x1dE\\xbb\\x06~}\"O\\x95\\xa6\\xaet\\x16\\xf5\\xdf=', b'\\x94\\x18\\x06\\xb0\\xd4\\xac\\x153\\x15\\xc4:\\xb9\\xfb\\xdfw\\xdf', b'Eb\\xe7X\\x08Q\\xf3\\x8c\\xe5\\xefVW\\xb8\\xc8\\x13\\xe8', b'k\\xb1t\\xdb\\xe6-z\\x98\\x86\\x03l{\\x7f\\x06S\\x19', b';\\x7f^\\x0bl\\xfb\\xe6\\xac|\\x0b)G\\xea6\\xe4\\x01', b'#z\\xe0o\\x05B\\xcf\\x1f\\xf2,F\\xfc\\x7f\\xd5\\xaa\\xab', b'']\n",
            "22 [b's\\x9b\\xe3\\x05\\xbc\\xbers6OHX\\x95\\x15\\x99\\xba', b'\\x0b\\xa2}\\xcd\\xec\\xf9\\xc9\\x14(\\xdf>\\xf3)>\\xf3\\xaf', b'\\x11\\xfa.#oX\\xac\\xae>?\\xb6\\x91_\\xe3\\xd2\\xe1', b'\\x96g<w\\xac\\x9aH\\xaf\\xe9\\xf7?\\xae\\x82\\xbd\\xfc=', b'\\xea\\x12n@\\xa9\\xb3\\xa1\\x0c2\\xaa\\x12\\xa0\\xe6\\x1c\\xbc\\x13', b'\\xda\\x04\\x86\\x07\\xa3`\\xb7\\x02y9\\xcd\\x0b\\x83K\\xda\\xc4', b'\\xcc\\xaeZ7r)\\x9d.\\xe2\\x9c\\x9b\\x90\\xc6\\x87\\x11\\xb8', b'\\x0f\\x13\\xfe\\x11\\xf1%\\xe2N\\xaf\\xe1\\xfd[\\xaaLX\\xf9', b'\\x81\\xa1\\xde\\ti\\xf6[I!\\x00N\\xd3\\xe8\\x18-^', b'E\\xce\\xe4\\x0e\\xcf}\\n\\xad\\x1a\\x91(\\xd8\\xc6Nu\\x01', b'\\xa2\\x1f\\xf7\\xb3\\xf8Bp\\xc0\\x8d\\xa0!\\xf5\\xff\\x84\\x84c', b'']\n",
            "23 [b's\\x9b\\xe3\\x05\\xbc\\xbers6OHX\\x95\\x15\\x99\\xba', b'\\x0b\\xa2}\\xcd\\xec\\xf9\\xc9\\x14(\\xdf>\\xf3)>\\xf3\\xaf', b'9\\x0f\\x1a\\x98.\\xfd\\xc5\\x96V\\xea\\x18\\xf1\\xaf\\xfe2Q', b'\\xef\\xb8wVT\\xf3\\x02{\\xa5\\x84\\x17\\x16\\x9dh\\xf9#', b\"\\x80'\\xb4)|\\x9b\\xa1\\x8cw\\x93\\x8bU\\xbd\\x90\\x8a\\xab\", b'F~\\x95\\xace\\x00k\\xe701v\\xb3\\x15\\xd0\\x9d\\x07', b'-\\xc8\\xb5\\x16\\xfa=\\xe2\\x83\\xe9_\\xed\\xd8tT\\xffd', b'i\\xb2\\x7f\\x1c5\\x1d\\x90\\xab\\xbc\\xdc\\x16\\xbc\\xea\\xa0@\\xb7', b'\\xf74\\xb1\\x96\\x8b\\xa9\\xf0\\x9b\\x17-\\x893\\xbbo\\xe6\\x19', b'\\x9dg\\xc4t\\x8dW\\xa8\\x0cC\\xa6\\x7f\"\\xc8\\xc5\\xad\\x89', b'\\xe4I)a\\xaf!\\x90)\\x92\\xf3\\x1b\\xf5\\x12\\xee\\xcb)', b'']\n",
            "24 [b's\\x9b\\xe3\\x05\\xbc\\xbers6OHX\\x95\\x15\\x99\\xba', b'\\x0b\\xa2}\\xcd\\xec\\xf9\\xc9\\x14(\\xdf>\\xf3)>\\xf3\\xaf', b'&w\\x93\\xde\\xe0B\\xf6\\x00\\xc2\\x04e\\xc3\\x940\\x0b&', b';\\x8fX\\x1f\\xe9\\x18\\xdcs\\x17\\xea\\xa9\\x95\\x00]\\x16\\x92', b'1>0\\x8e&J\\x06V\\x04p]\"0\\xff\\xedj', b'\\x9br\\xf7\\xaa ~\\xd8\\x05\\xd8\\\\\\xe8\\xac\\xa2\\xef\\xc2\\xda', b'\\xdfWY\\xcci\\xf8v\\xff8*n\\xad\\xb7\\\\}\\xb2', b'\\xf9\\x12\\xc4\\xe82%\\xcd\\xf1\\xcc\\xf90\\xac\\x12Q\\x03\\x14', b'\\xc8\\xc4\\x8f\\xa8~\\n\\xc0\\x91\\x03\\xf1R\\xe6\\x04\\xa1\\x80\\x86', b'\\xbd\\xc6}\\x12`\\xd8T.\\xafo\\xfe\\xacLD\\xa65', b'j.\\x02\\n\\xc8lg\"x0\\xe7\\x9f\\xc5\\xaaaL', b'']\n",
            "25 [b's\\x9b\\xe3\\x05\\xbc\\xbers6OHX\\x95\\x15\\x99\\xba', b'\\x0b\\xa2}\\xcd\\xec\\xf9\\xc9\\x14(\\xdf>\\xf3)>\\xf3\\xaf', b'\\x18K\\xc7\\x8f\\xc3\\x99\\xf1\\x9e.j\\x9bD\\xe2!)\\xfc', b'M\\xb9V\\xaa\\x0165_\\x1d\\xbf\\x9b\\x83\\xbf\\x0e\\xa9\\t', b'\\x11\\xdd\\xc1-5\\x94\\x12\\x1f\\xbe\\x85o<\\n\\x03\\xfd\\xe4', b'7>Vd\\xf9\\xf2B\\xd4\\x1c\\xe8\\x16\\x0b\\xe2\\xf7\\x96\\x11', b'jD\\xe8]m\\xfe* \\xbd\\xcd%>\\x8c8Y\\x8c', b'\\xef\\xe2\\xbbEG\\xf5\\x05:\\xf2\\xe1!\\xf2\\xaeMN\\x10', b'\\x1d\\x08l\\xb9\\xe7\\xfbL\\xc3\\xd2\\x8c\\xd6E\\x7fB\\x96\\xbe', b'rm\\x90\\xf0[\\x90{\\xa2=\\xfc\\xf95\\xbd,v\\xb5', b'\\xf7\\xa2\\x86\\x8d\\x81\\x84.\\r\\rb\\xe3\\x9f\\xd2\\x0b\\x06J', b'']\n",
            "26 [b's\\x9b\\xe3\\x05\\xbc\\xbers6OHX\\x95\\x15\\x99\\xba', b'\\x0b\\xa2}\\xcd\\xec\\xf9\\xc9\\x14(\\xdf>\\xf3)>\\xf3\\xaf', b'\\xe00\\x07\\xd7\\xc9\\xc5\\x97\\xa5\\xd7I\\x01U%w\\x98\\xcf', b'\\x15\\x96e\\xd7\\x81\\x9fO\\xf3~\\xc4&}\\xf5|T\\xe8', b'\\x81\\tp\\xf2\\xf7F\\x15\\x9c1={>\\xa4\\xac6\\x0e', b'\\xe4}\\xf6\\xd8\"^\\x92\\xa8c\\xe3\\x87oR`+\\xd2', b'\\r\\xc8\\xf6c\\xac\\xf7\\x9cN\\xd0\\x1a[t\\xe6\\x1d\\x16\\xd8', b'\\xbf%o\\x18\\xef\\xa6\\x86IF\\x04\\xbf\\\\g\\xb3%|', b'\\rF\\xf6\\x90@e\\xfaLzi\\xede\\xca\\xec\\xa7\\x07', b'\\x9bd\\x8f\\x8a\\x1e;\\xaa\\xb7|\\x8a\\xcf.\\xd6\\xd56\\xfe', b'\\xdd\\x82\\xb4\\xd6\\xca\\xa2\\xbd\\x11\\xbc\\xe6\\xc5\\x8aD\\xb8\\xbaQ', b\"$qV\\xb0$\\xfa.;\\xf0\\x16\\x7f3'\\xab\\xf2\\x82\", b'']\n",
            "27 [b's\\x9b\\xe3\\x05\\xbc\\xbers6OHX\\x95\\x15\\x99\\xba', b'\\x0b\\xa2}\\xcd\\xec\\xf9\\xc9\\x14(\\xdf>\\xf3)>\\xf3\\xaf', b'\\x92\\x9d\\xd4[\\xe6\\x9d\\x9dY\\x88\\x07\\xa2\\x04\\xaeB\\xac\\x0b', b'\\xdc/^\\xf7\\x07k\\xef\\x82\\xfc\\xd2H\\xdb\\x12\\x10ZF', b')\\x83\\x9a!\\xd6bhM-\\x03\\x93Z\\xbd\\xf7\\x90&', b'\\xcc\\xec1\\x0f\\xd5\\x8c\\x05\\x1b\\xa7\\xc8\\x0cH\\x00e\\xac\\xcc', b'\\xdf-H|O\\xd9ui\\x86\\x11\\xee;\\x8a-\\xd9t', b'p\\x8e\\xd5\\nb\\x95\\xd34\\x9f\\x18\\x02\\xb2\\x9a\\xee\\xc0!', b'\\xb8[\\xa1v\\xa1\\xe2\\x8b\\xc9\\x10\\xb5\\xb1\\x95\\xfd\\xde\\xeb\\xf3', b'\\x9aO\\xac\\xea\\x8e-S\\x0b\\xc8\\xa3\\xaa4\\n\\xfe\\xf47', b'\\xd9yn@\\xec!\\xa0\\x89\\xac\\xa0j\\x85[\\xe6l\\xb2', b'_\\xf2\\x1f\\xf2\\xa4y\\x10\\xe7\\xf7rx4XW1\\x8c', b'']\n",
            "28 [b's\\x9b\\xe3\\x05\\xbc\\xbers6OHX\\x95\\x15\\x99\\xba', b'\\x0b\\xa2}\\xcd\\xec\\xf9\\xc9\\x14(\\xdf>\\xf3)>\\xf3\\xaf', b'\\xfbc\\x13\\xe0f\\xee\\x8c\\xcd%B#E\\x1c_\\x19\\xff', b'\\xa3\\x82\\x8b\\xc1f\\xa9\\xe1\\x16\\x86\\xe0\\x9b\\xa43\\xb7\\xbb\\xf0', b'<\\xdb`\\xb3\\x1a\\x0e\\x8b\\xe9\\xfad\\x9c\\x8b\\x1d\\x95e>', b'\\xbam\\xc7\\xb4r\\xb6S\\x98\\xeeB\\xc5\\x12\\xaf\\xfb\\x8c\\xa2', b'\\xf9D\\x95\\xfc\\xde\\x04\\xe2\\x19v\\x1fw\\x87\\x9f\\xae42', b'\\xd0\\xb5\\xa7L^\\x85e\\xfa\\xc9\\x8e\\xeaA\\xf2\\x93>g', b'A\\xf2\\xed\\x892^\\x91\\x16A\\x05\\xe8C@q{\\\\', b'\\x16\\xc1\\xba\\xa3\\xdei\\xd8\\xfbX\\x0b\\xbe\\x04(\\x7fzz', b'\\xbb\\xaa\\x060\\x98\\x9a\\xb2\\xed\\x14~\\x83\\xdf\\xdd\\xf9\\xceH', b'\\\\\\xb4s\\x16\\x92v1P\\x97\\xa9\\xadc\\xd8=s\\x91', b'']\n",
            "29 [b's\\x9b\\xe3\\x05\\xbc\\xbers6OHX\\x95\\x15\\x99\\xba', b'\\x0b\\xa2}\\xcd\\xec\\xf9\\xc9\\x14(\\xdf>\\xf3)>\\xf3\\xaf', b'\\x0f#Mf9\\xca\\x91\\xd7@\\xd3\\xc7m4Od\\x91', b'\\xee\\x12P\\xe0\\xbd\\xa3\\x9fq\\xfe\\xaa\\x85\\x81\\x02DT\\xb0', b'\\x04\\x03t\\x05\\xabD\\x96%\\xd1;\\xfe\\xf7x\\xa3\\x93x', b';\\xdc\\xd3u\\xdc\\x9c\\xbf\\x1a\\xf0\\xcc%@\\x926+\\x02', b'\\x82O_\\xbc\\x832\\x16\\xa3\\xfd\\x1e\\xe3\\xb9h\\xcdE\\xce', b'x\\xb5\\x18\\x89\\xb6\\xee\\xf7]D\\xfd\\x95\\x1f\\x0e\\xd1n:', b\"\\xac\\xb9\\xce\\x95\\x16o\\x82\\x18+'\\xf4!\\x98\\xd6OC\", b'\\xc4\\x89\\xb5\\x03\\xbf\\x81#(R\\x9bOb\\x1d\\xdd\"\\x91', b'\\xc9j\\x9f\\x1f=\\xed\\xda`\\x9b\\xce^\\xc7\\x05\\xa0:6', b'\\xec&.H\\x98\\xb5\\xdd\\x0cH\\x0c\\xce\\x08\\xf1\\x8d>q', b'']\n",
            "30 [b's\\x9b\\xe3\\x05\\xbc\\xbers6OHX\\x95\\x15\\x99\\xba', b'\\x0b\\xa2}\\xcd\\xec\\xf9\\xc9\\x14(\\xdf>\\xf3)>\\xf3\\xaf', b'~\\xb0\\x8a\\x9f>\\xf2\\xf0\\xa4\\xa8\\xfe{>\\xf5%\\x02\\x91', b'Z<\\x0e\\x8a\\x17\\x97\\xeb\\xe9\\x94\\xd9\\x02\\x9f\\xf2W_=', b'\\xda\\xf8h\\xc0rO\\x80\\x11\\xe6\\x80\\x86\\x9d)\\x16\\\\\\x02', b'V\\xa4\\x92T*\\x90\\xb7\\xb0\\x9a\\x1c\\x1e+\\xe5\\xcfZ\\x8d', b\"\\x07\\xcfB\\xedJ\\x00\\xd5\\x9blY\\x0b'\\xdb\\x82&b\", b'cO\\xa2\\xc3\\xeb\\x1d\\xfa\\xaf`\\xa4~~\\x80Q\\xe2z', b'D@\\x9cD%\\x1c\\xb9J\\xc8X\\x14F\\xff\\xe4_\\xe9', b'\\xb8j\\xb9H\\x08\\xdb;\\x90a\\xe2,:\\xb7wx2', b'}\\xa5\\x99\\x94\\x8fc\\x84\\x00\\xa5GH\\xd9\\x12O_\\xd5', b'\\x98\\t/\\x81\\xba&\\x0e\\xd9\\xfb\\x00\\x84\\x1a\\x05\\xc7\\xc7\\x10', b'']\n",
            "31 [b's\\x9b\\xe3\\x05\\xbc\\xbers6OHX\\x95\\x15\\x99\\xba', b'\\x0b\\xa2}\\xcd\\xec\\xf9\\xc9\\x14(\\xdf>\\xf3)>\\xf3\\xaf', b'(\\xb8\\x12\\xee*\\x86\\xa4\\xd2\\xf9;\\xe70\\xdc\\xf2\\x1e\\xed', b'\\x9c,\\x03\\x8d\\xad\\xb8\\xf9\\xf5\\xb5*\\xf3\\xe4\\xceH\\x0c\\xd1', b'\\xd9\\xa0_\\x87\\x1a\\xb9[H|\\xa3\\x7f\\x89\\xa3\\x85:\\xcc', b'\\xefc\\x0c\\xf6\\x10\\x10T.\\xdb\\xc3\\x7f\\x98\\x02*\\x04\\xc0', b'\\x06\\xd9\\x9d\\\\\\x83b\\x9cJ)\\x18\\x02B5\\xcd\\x9a\\x0e', b'\\x0e\\x18\\x11\\x9cx9T\\xae,[\\x08\\x83\\x17\\x8b\\x04k', b'=\\xd1\\x11\\xbf\\x7f\\xd2be`\\xc2-!\\xbbZe\\xea', b'X\\xfa\\xec\\xf8\\x84\\x99[\\xf4*\\xcaL8\\xfb\\x0b|\\xfc', b'C\\xba]y\\x8f\\r11\\x0eb\\xb4\\xab\\x95\\x82\\x8c\\xc4', b'v\\xc2\\x18\\x97n\\xc2\\xd0\\x0bdF\\x1d\\xe6{\\x98\\x89\\xdb', b'']\n",
            "1 3\n"
          ]
        },
        {
          "output_type": "execute_result",
          "data": {
            "text/plain": [
              "b\"Rollin' in my 5.0\\nWith my rag-top down so my hair can blow\\nThe girlies on standby waving just to say hi\\nDid you stop? No, I just drove by\\n\\x00\\x00\\x00\\x00\\x00\\x00\\x00\\x00\\x00\\x00\\x00\\x00\\x00\\x00\\x00\""
            ]
          },
          "metadata": {},
          "execution_count": 39
        }
      ]
    },
    {
      "cell_type": "markdown",
      "source": [
        "Challenge 15"
      ],
      "metadata": {
        "id": "0nx6Rb2R35Uo"
      }
    },
    {
      "cell_type": "code",
      "source": [
        "plain_bytes = b\"ICE ICE BABY\\x04\\x04\\x04\\x04\"\n",
        "print(check_and_strip_PKCS7(plain_bytes, block_size))\n",
        "plain_bytes = b\"ICE ICE BABY\\x05\\x05\\x05\\x05\"\n",
        "# check_and_strip_PKCS7(plain_bytes, block_size)"
      ],
      "metadata": {
        "colab": {
          "base_uri": "https://localhost:8080/"
        },
        "id": "87aCEatn3653",
        "outputId": "e92eb92c-3148-41b1-d904-285c0a7f71bf"
      },
      "execution_count": 60,
      "outputs": [
        {
          "output_type": "stream",
          "name": "stdout",
          "text": [
            "b'ICE ICE BABY'\n"
          ]
        }
      ]
    },
    {
      "cell_type": "markdown",
      "source": [
        "Challenge 16"
      ],
      "metadata": {
        "id": "ohwz6Rgm_Q_1"
      }
    },
    {
      "cell_type": "code",
      "source": [
        "block_size = 16\n",
        "ramdom_key = random_aes_key()\n",
        "initialization_vector = random_aes_key()\n",
        "plain_text = \"ABCDEFGHIJKLMNOP\" * 2\n",
        "\n",
        "encrypt_bytes = encrypt_CBC_16(plain_text, random_key, block_size, initialization_vector)\n",
        "print_bytes(encrypt_bytes)\n",
        "print(check_admin_16(encrypt_bytes, random_key, block_size, initialization_vector))\n",
        "\n",
        "target_chunk = encrypt_bytes[2*block_size:3*block_size]\n",
        "target_chunk = [b1 ^ b2 for b1, b2 in zip(target_chunk, b';admin=true;AAAA')]\n",
        "target_chunk = bytes([b1 ^ b2 for b1, b2 in zip(target_chunk, b\"ABCDEFGHIJKLMNOP\")])\n",
        "\n",
        "print(check_admin_16(encrypt_bytes[:2*block_size] + target_chunk + encrypt_bytes[3*block_size:], random_key, block_size, initialization_vector))"
      ],
      "metadata": {
        "colab": {
          "base_uri": "https://localhost:8080/"
        },
        "id": "7drnEnGl_Qow",
        "outputId": "c524ef8a-3617-40a0-cad2-e2267024fe99"
      },
      "execution_count": 167,
      "outputs": [
        {
          "output_type": "stream",
          "name": "stdout",
          "text": [
            "[b'\\x0f\\\\\\x0bNjlU\\xd5\\x0c\\xfc;\\xdd,\\xc8\\xa8:', b'\\x03@\\xaa\\x89Lyv\\x94\\xa4[\\xfe\\xb8\\xeby\\xd6\\xf3', b'\\xe5!5\\x1fW\\x95\\xdc#\\xcf\\x89\\x8b\\xc7<\\xce\\xb8j', b'8~\\xe9\\xd9\\x18\\xda\\xcd\\xbf\\xff\\xd5\\xff\\xeb\\x04s\\xde\\x97', b'\\xc8\\x1f\\x84\\xf7\\xd9\\x00\\xf6\\x9fz\\xd2\\x98@\\x81\\x16d[', b'\\xf0\"\\xf3\\x93\\xa2\\xfcP\\xacM\\xcc\\x1cS\\xec}\\xaa\\xbd', b'TN\\xc4\\x17P)\\xd6\\xd3\\xf4\\x8a87\\xfa,\\xeb}']\n",
            "[b'comment1=cooking', b'%20MCs;userdata=', b'ABCDEFGHIJKLMNOP', b'ABCDEFGHIJKLMNOP', b';comment2=%20lik', b'e%20a%20pound%20', b'of%20bacon\\x04\\x04\\x04\\x04\\x04\\x04']\n",
            "comment1=cooking%20MCs;userdata=ABCDEFGHIJKLMNOPABCDEFGHIJKLMNOP;comment2=%20like%20a%20pound%20of%20bacon\n",
            "False\n",
            "[b'comment1=cooking', b'%20MCs;userdata=', b'\\xa2\\xca\\x01\\xfdX!\\x1cN\\xe7\\xc8hh\\xa1\\xe2\\xc3\\xb7', b';admin=true;AAAA', b';comment2=%20lik', b'e%20a%20pound%20', b'of%20bacon\\x04\\x04\\x04\\x04\\x04\\x04']\n",
            "comment1=cooking%20MCs;userdata=¢Ê\u0001ýX!\u001cNçÈhh¡âÃ·;admin=true;AAAA;comment2=%20like%20a%20pound%20of%20bacon\n",
            "True\n"
          ]
        }
      ]
    }
  ]
}