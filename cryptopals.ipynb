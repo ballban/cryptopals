{
  "cells": [
    {
      "attachments": {},
      "cell_type": "markdown",
      "metadata": {
        "id": "QDzvInZ18CAv"
      },
      "source": [
        "# Initialize"
      ]
    },
    {
      "cell_type": "code",
      "execution_count": 1,
      "metadata": {
        "id": "T_Cy9cK_8_Hp"
      },
      "outputs": [],
      "source": [
        "# %pip install PyCryptoDome\n",
        "# %pip install requests"
      ]
    },
    {
      "cell_type": "code",
      "execution_count": 2,
      "metadata": {},
      "outputs": [],
      "source": [
        "%load_ext autoreload\n",
        "%autoreload 2"
      ]
    },
    {
      "cell_type": "code",
      "execution_count": 3,
      "metadata": {
        "id": "J0HQLjD18Wod"
      },
      "outputs": [],
      "source": [
        "from utility import *"
      ]
    },
    {
      "attachments": {},
      "cell_type": "markdown",
      "metadata": {
        "id": "VgWZKmqA5A2d"
      },
      "source": [
        "# Set_1"
      ]
    },
    {
      "attachments": {},
      "cell_type": "markdown",
      "metadata": {
        "id": "KiuqGjpN8Do0"
      },
      "source": [
        "Challenge 1"
      ]
    },
    {
      "cell_type": "code",
      "execution_count": 4,
      "metadata": {
        "colab": {
          "base_uri": "https://localhost:8080/"
        },
        "id": "XFcs9Swb0-uF",
        "outputId": "8683c569-9ee4-4b8d-9468-7de288bf2aaa"
      },
      "outputs": [
        {
          "name": "stdout",
          "output_type": "stream",
          "text": [
            "11259432467145572969189485457381052543241507215288737798329079056359121649591228422793827173000297562297701340508013\n",
            "b\"I'm killing your brain like a poisonous mushroom\"\n",
            "b'SSdtIGtpbGxpbmcgeW91ciBicmFpbiBsaWtlIGEgcG9pc29ub3VzIG11c2hyb29t'\n"
          ]
        }
      ],
      "source": [
        "text = '49276d206b696c6c696e6720796f757220627261696e206c696b65206120706f69736f6e6f7573206d757368726f6f6d'\n",
        "ans = 'SSdtIGtpbGxpbmcgeW91ciBicmFpbiBsaWtlIGEgcG9pc29ub3VzIG11c2hyb29t'\n",
        "\n",
        "baseInt= int(text, 16)\n",
        "print(baseInt)\n",
        "\n",
        "bytes_text = bytes.fromhex(text)\n",
        "print(bytes_text)\n",
        "\n",
        "result = base64.b64encode(bytes_text)\n",
        "print(result)"
      ]
    },
    {
      "attachments": {},
      "cell_type": "markdown",
      "metadata": {
        "id": "Nk6OvCfb8GGF"
      },
      "source": [
        "Challenge 2"
      ]
    },
    {
      "cell_type": "code",
      "execution_count": 5,
      "metadata": {
        "colab": {
          "base_uri": "https://localhost:8080/"
        },
        "id": "koB7Udil0_wr",
        "outputId": "88d69ea1-645b-4d14-9a5c-2a727870ec14"
      },
      "outputs": [
        {
          "name": "stdout",
          "output_type": "stream",
          "text": [
            "b'\\x1c\\x01\\x11\\x00\\x1f\\x01\\x01\\x00\\x06\\x1a\\x02KSSP\\t\\x18\\x1c'\n",
            "b\"hit the bull's eye\"\n",
            "746865206b696420646f6e277420706c6179\n",
            "True\n"
          ]
        }
      ],
      "source": [
        "buffer1 = '1c0111001f010100061a024b53535009181c'\n",
        "buffer2 = '686974207468652062756c6c277320657965'\n",
        "ans = '746865206b696420646f6e277420706c6179'\n",
        "\n",
        "hex1 = bytes.fromhex(buffer1)\n",
        "hex2 = bytes.fromhex(buffer2)\n",
        "print(hex1)\n",
        "print(hex2)\n",
        "\n",
        "result = ''\n",
        "for i in range(len(hex1)):\n",
        "    result += str(hex(hex1[i] ^ hex2[i]))[2:]\n",
        "\n",
        "print(result)\n",
        "print(result == ans)"
      ]
    },
    {
      "attachments": {},
      "cell_type": "markdown",
      "metadata": {
        "id": "_Fi0zxze8Hzd"
      },
      "source": [
        "Challenge 3"
      ]
    },
    {
      "cell_type": "code",
      "execution_count": 6,
      "metadata": {
        "colab": {
          "base_uri": "https://localhost:8080/"
        },
        "id": "rQZhXKK61A6q",
        "outputId": "3d7efe13-adf3-4bfc-9636-638fa868a1b0"
      },
      "outputs": [
        {
          "name": "stdout",
          "output_type": "stream",
          "text": [
            "(253.58, \"Cooking MC's like a pound of bacon\", 88)\n"
          ]
        }
      ],
      "source": [
        "import challenge3 as c\n",
        "text = '1b37373331363f78151b7f2b783431333d78397828372d363c78373e783a393b3736'\n",
        "print(c.try_decrypt(text))"
      ]
    },
    {
      "attachments": {},
      "cell_type": "markdown",
      "metadata": {
        "id": "AzVweq4OEJzP"
      },
      "source": [
        "Challenge 4"
      ]
    },
    {
      "cell_type": "code",
      "execution_count": 7,
      "metadata": {
        "id": "NE12WsZB2j3C"
      },
      "outputs": [],
      "source": [
        "text_list = get_txt_from_url(\"https://cryptopals.com/static/challenge-data/4.txt\")"
      ]
    },
    {
      "cell_type": "code",
      "execution_count": 8,
      "metadata": {
        "colab": {
          "base_uri": "https://localhost:8080/"
        },
        "id": "9yt9hTgwu8DU",
        "outputId": "e3cb692a-858f-4ca3-b04e-3ab854aaba15"
      },
      "outputs": [
        {
          "name": "stdout",
          "output_type": "stream",
          "text": [
            "(219.54, 'Now that the party is jumping\\n', 53)\n",
            "(113.89, '[$LrLi;hsDbv!5 j$OaEfG=>rKDl=S', 109)\n",
            "(113.15, 'wpUs{gnns F8b-aT2*zRAh{Gj>xuED', 98)\n",
            "(109.14, \"iu`'ern.&nZeM,MjT\\x0b:FD~i5+OyEmL\", 113)\n",
            "(105.79, 'Sw6XSo$^uWyP$C{iUCns3e?E` /]GZ', 108)\n",
            "(90.35, 'T2XNi-]1rTIYbP/>2`o%%]T5JonmqA', 99)\n",
            "(70.12, ']$4OFs>\\\\YQ#\\nK9y?IT4PeNWTxFqc0\\r', 103)\n",
            "(70.01, '\\\\`)]^o}me|~#Am~t[dbF.tq\\x0bmAWM|~', 114)\n",
            "(0, \"\\x0e6GèY-5QJ\\x08\\x12CX%6í=æs@Y\\x00\\x1e?S\\\\æ'\\x102\", 0)\n",
            "(0, '3K\\x04\\x1dá$÷<\\x18\\x01\\x1aPæ\\x08\\tzÃ\\x08ìîP\\x137ì>\\x10\\x08T \\x1d', 0)\n"
          ]
        }
      ],
      "source": [
        "import challenge3 as c3\n",
        "\n",
        "decrypt_list = []\n",
        "for text in text_list:\n",
        "  decrypt_list.append(c3.try_decrypt(text))\n",
        "result = sorted(decrypt_list, key=lambda x:x[0], reverse=True)\n",
        "print(*result[:10], sep=\"\\n\")"
      ]
    },
    {
      "attachments": {},
      "cell_type": "markdown",
      "metadata": {
        "id": "hJpjzikzEQhc"
      },
      "source": [
        "Challenge 5"
      ]
    },
    {
      "cell_type": "code",
      "execution_count": 9,
      "metadata": {
        "colab": {
          "base_uri": "https://localhost:8080/"
        },
        "id": "U7NkCqwxESH-",
        "outputId": "6b71ceed-f363-40a1-a35d-df95ad740b38"
      },
      "outputs": [
        {
          "name": "stdout",
          "output_type": "stream",
          "text": [
            "0b3637272a2b2e63622c2e69692a23693a2a3c6324202d623d63343c2a26226324272765272a282b2f20430a652e2c652a3124333a653e2b2027630c692b20283165286326302e27282f\n"
          ]
        }
      ],
      "source": [
        "import challenge5 as c\n",
        "\n",
        "text = '''Burning 'em, if you ain't quick and nimble\n",
        "I go crazy when I hear a cymbal'''\n",
        "\n",
        "key = 'ICE'\n",
        "print(c.encrypt(text, key).hex())\n"
      ]
    },
    {
      "attachments": {},
      "cell_type": "markdown",
      "metadata": {
        "id": "3Nv7GmeVHoJK"
      },
      "source": [
        "Challenge 6"
      ]
    },
    {
      "cell_type": "code",
      "execution_count": 10,
      "metadata": {
        "id": "h_r6y43SHrCH"
      },
      "outputs": [],
      "source": [
        "text_list = get_txt_from_url(\"https://cryptopals.com/static/challenge-data/6.txt\")"
      ]
    },
    {
      "cell_type": "code",
      "execution_count": 11,
      "metadata": {
        "colab": {
          "base_uri": "https://localhost:8080/"
        },
        "id": "JEYx1gNA5uXr",
        "outputId": "170f0fb6-6484-4f40-a72c-d02006e75224"
      },
      "outputs": [
        {
          "name": "stdout",
          "output_type": "stream",
          "text": [
            "b'\\x1dB\\x1fM\\x0b\\x0f\\x02\\x1fO\\x13N<\\x1aie\\x1fI\\x1c\\x0eN\\x13\\x01\\x0b\\x07N\\x1b\\x01\\x16E6\\x00\\x1e\\x01Id T\\x1d\\x1dC3SNeR\\x06\\x00GT\\x1c\\rEM\\x07\\x04\\x0cS\\x12<\\x0c\\x1e\\x08I\\x1a\\t\\x11O\\x14L!\\x1aG+\\x00\\x05\\x1dGY\\x11\\x04\\t\\x00d&\\x07S\\x007\\x16\\x06\\x0c\\x1a\\x17A\\x1d\\x01RT0_\\x00 \\x13\\n\\x05GO\\x12H\\x08ENe>\\x16\\t8E\\x06\\x05\\x08\\x1aF\\x07O\\x1fYx~jb6\\x0c\\x1d\\x0fA\\rH\\x06U\\x1a\\x1b\\x00\\x1dBt\\x04\\x1e\\x01I\\x1a\\t\\x11\\x02Rz\\x7fI\\x00H:\\x00\\x1a\\x13I\\x1aOEH\\x0f\\x1d\\rS\\x04:\\x01R\\x19\\x01\\x0bA\\x13\\x06\\x00L1_Sb\\x15\\x06\\x07\\t\\x07T\\x0b\\x17A\\x14\\x16Iy35\\x0b\\x1b\\x01\\x05\\x0fF\\x07O\\x1dNxNH\\'R\\x04\\x07\\x0cEXH\\x08A\\x00O T\\x08t\\x0b\\x1d\\x19I\\x02\\x00\\x0e\\x16\\\\\\x00R0ie\\x1fI\\x02\\x02T\\x00\\x01\\x0b\\x07N\\x02\\x10S\\x01&\\x10\\x15M\\x02\\x07\\x02\\x1fO\\x1bNx0i6R\\n\\x01\\tT\\x06\\x07\\tSN\\x02\\x10S\\x08;\\x10\\x06\\x05I\\x0f\\x0f\\x10O;\\x00:_G+\\x1cId3OT\\x02\\x10S\\x1aO\\x05\\x16\\x11t\\x0c\\x06M\\x0f\\x02\\x0e\\x03CRL=N\\x00/\\x0bI\\r\\x08N\\x17\\r\\x15T\\x1dO\\x0e\\x1cE^(\\x0bM\\x19\\x01\\x12\\x07\\nUSxNOb\\x06\\x01\\x0bGS\\x1d\\x0c\\x00\\x00\\x17\\n\\x05\\x1f\\x0c:B^M.\\x01A\"\\x0e\\x1cI4VAb5\\x06OG*~;\\x08O\\x01\\x1b\\x01SB7\\x04\\x07\\x1e\\x0cN\\x15\\x1c\\x0e\\x06\\x07+\\x1aT*\\x17I\\x19\\x06YT!EW\\x07\\x03\\x05S\\x071Ex,\\x07\\nA\\x1d\\tRY7O\\x00&\\x1d\\x07I\\x13\\x00\\x13\\x01\\x13EN\\x0eI\\x17\\x049\\x0b^M\\x1d\\x06\\x04\\x1aOxw0C\\x00;\\x1d\\x1cN\\x14T\\x15\\x1a\\x0cNIO\\x08\\x07E9\\x00Rg:\\x01A\\x13\\n\\x06\\x007\\\\FbU\\n\\x0f\\x12S\\x11H,\\x00\\r\\x00\\x07\\x07\\x17;\\tR\\x19\\x01\\x0bA\\x07\\x1b\\x13G=\\x1a*\\x16\\x1a\\x0c\\x1c\\x02\\x07\\x07H\\x0bON\\x0b\\x00\\x00\\x16=\\x0bUM\\x08\\x02\\r\\x1b\\x18\\x17Dx0ie\\x1fI\\x07\\t\\x00\\x19\\x11EO\\x19\\x01I\\x03\\r5\\x16\\x17Mc:\\t\\x11O\\x15I*VI\\'\\x01I\\x1d\\x06\\x00\\rH\\x11H\\x0b\\x16I\\x1f\\n\"\\x00R\\x00\\x0cN\\x00\\x1a\\x0bRT0[Tb\\x1b\\x1aN\\x08KTb$N\\nO S\\x065\\x0bR\\t\\x08\\x00\\x02\\x11O\\x10E,NE0R\\x1d\\x06\\x06NT\\t\\x0bYN\\x04\\x00\\x17E:BR\\x1d\\x05\\x0f\\x18Texs,[G\\'R[NJ\\rT1\\x00AN\\x1b\\x01\\x16E;\\x0b\\x17M\\x10\\x0fFT\\x18\\x13N6[\\x00.\\x1b\\x1a\\x1a\\x02NT\\x1c\\n\\x00d&\\x1dT\\x16t\\n\\x14\\x0bI\\x03\\x18T\\x07\\x17A<\\x1aS-R\\x05\\x0b\\x13\\x00\\x00\\x00\\x00\\x00\\x0c\\n\\x08\\x07E$\\t\\x13\\x14I\\x1a\\t\\x06\\x00\\x07G0\\x1a*\\x11\\x1dI\\'GC\\x15\\x06EF\\x1b\\x01\\x02S\\x0c E\\x07\\x1dI\\x0f\\x0f\\x10O\\x1fA3_\\x00+\\x06I\\x1d\\x08U\\x1a\\x0cEG\\x01\\x00\\rSoeH@@ZN8\\x1bO_\\rxqN-\\x11\\x02N\\x08NT\\x1b\\nM\\x0bO\\x1e\\x1c\\n0Ex+\\x06\\x1cA\\x13\\x00\\x1dDxVU!\\x19EN.\\x00\\x18\\x01\\x0eEN\\x02\\x10S\\x17<\\x1c\\x1f\\x08\\x1aN\\x00\\x00\\x1d\\x1dC1UU1Rc=\\x12P\\x11\\x1a\\x06A\\x02\\x0e\\x0f\\x01\\x043\\x0c\\x1e\\x04\\x1a\\x1a\\x08\\x17\\n\\nP1[L+\\x16\\x06\\r\\x0eO\\x01\\x1bE*\\'H\\x04S\\x04:E\\x17\\x0b\\x0f\\x0b\\x02\\x00O\\x13N<\\x1aT*\\x13\\x1dN\\x1eO\\x01H\\x06A\\x00O\\x0b\\x16\\x11to;M\\n\\x0f\\x0fT\\x1b\\x13K=\\x1aAb\\x14\\x05\\x17GG\\x1d\\x1a\\t\\x00\\x0f\\x01\\rS\\x085\\x0e\\x17M\\x01\\x0b\\x13T\\x18\\x17Tv\\x1a*H;N\\x03GL\\x1d\\x03\\x00\\x00=\\x0e\\x04\\x00\\n:E_@I=\\x00\\x19\\x1c\\x1dNxNOb6\\x0c\\x02\\x0eL\\x15\\x00E*:\\x07\\x0c\\x01\\x00s\\x16R\\x03\\x06N\\x05\\x11\\x01\\x0bI6\\x1d\\x0cb+\\x06\\x1bGC\\x15\\x06ET\\x1c\\x16I\\x07\\nt\\r\\x13\\x03\\x0eNk6\\x1a\\x06\\x00!UUe\\x1e\\x05N\\x0cE\\x11\\x18ET\\x1c\\x16\\x00\\x1dBt\\x11\\x1dM\\x0e\\x0b\\x15T\\x02\\x0b\\x00+NY.\\x17Id(V\\x11\\x1aEA\\x00\\x0bI\\x1c\\x131\\x17^M\\x19\\x1c\\x00\\x17\\x1b\\x1bC=\\x1aM#\\x19\\x0c\\x1dGP\\x11\\x1a\\x03E\\r\\x1bIy\\'!\\x11R\\x03\\x06\\x1aA\\x1d\\tRY7O\\x070\\x17I\\x0fGL\\x1b\\t\\x03E\\x1cAIyo\\r\\n\\x07J\\x05\\x02A\\x13\\n\\x06\\x006UW*\\x17\\x1b\\x0bK\\x00\\x1a\\x07EP\\x02\\x0e\\n\\x16It\\x0b\\x1dM\\x1d\\x07\\x0c\\x11CRN7\\x1aG+\\x00\\x05\\x1dG*\\'\\x07\\nNNBDS*<E\\x1f\\x14I)\\x0e\\x10CRH7WE \\x1d\\r\\x17K\\x00\\r\\x07\\x10\\x00\\x1e\\x1d\\x06\\x11\\x046\\t\\x0bM\\x0c\\x0f\\x15Te!P9]H\\'\\x06\\x1d\\x07GW\\x1d\\x1c\\r\\x00\\x0fO\\x1a\\x03\\n;\\x0bSM*\\x01\\x0c\\x11O\\x1dNx[N&R\\x1a\\x0f\\x1e\\x00\\x1d\\x1cD\\x00de?:5zE$\\x0c\\x07\\x07\\r\\x18\\x0eRi;_\\x00;\\x17\\x19BGY\\x11\\x18I\\x00\\'H\\x04S\\x06;\\x08\\x1b\\x03NN\\t\\x15\\x1d\\x16\\x004SK\\'R\\x08N\\x15H\\x1d\\x06\\n\\x00d&\\x07\\x07\\n,\\x0c\\x11\\x0c\\x1d\\x07\\x0f\\x13O\\x01OxCO7R\\x1a\\x1a\\x06G\\x13\\r\\x17\\x00\\x02\\x06\\x02\\x16E5E\\x05\\x04\\x07\\x01A~<\\x1d\\x00(ON)\\x01I\\x1d\\x13O\\x04H\\x11R\\x17\\x06\\x07\\x14E5\\x0b\\x16M\\x0e\\x07\\x13\\x18O\\x01T7J\\x00!\\x00\\x10\\x07\\t\\x07Tb3A\\x00\\x06\\x05\\x1f\\x04t,\\x11\\x08I\\x07\\x12T\\x1c\\x17L4SNeR\\x08\\x00\\x03\\x00\\r\\x07\\x10\\x00\\x1e\\n\\x06\\x03\\t1E\\x13\\x1f\\x0cN\\x03\\x01\\x16\\x1bN\\x7f\\x1a*e1\\x08\\x1b\\x14ET\\x1f\\rYN\\x1b\\x01\\x16E2\\x17\\x17\\x0c\\x02\\x1dA\\x15\\x1d\\x17\\x002UC)\\x1b\\x07IGL\\x1d\\x03\\x00\\x00-\\x1d\\x08\\t\\x1ct\"\\x1e\\x18\\x0cNk9\\x00\\x04I6\\x1d\\x00#\\x1c\\rN\\x00R\\x1b\\x07\\x13I\\x00HI\\x07\\x17-\\x0c\\x1c\\nI\\x1a\\x0eT\\x1c\\x1bN?\\x1aA.\\x1d\\x07\\tG*5\\x04\\t\\x00\\x1a\\x07\\x1b\\x1c\\x103\\rR\\x19\\x01\\x0bA\\x13\\x07\\x17T,U\\x00%\\x00\\x06\\x01\\x11I\\x1aOET\\x06\\x06\\x1aS\\r1\\x17\\x17M\\x1a\\x01\\x0f\\x13Oxn7M\\x00;\\x1d\\x1cI\\x15ET\\t\\x08A\\x14\\n\\rS\\x07-E\\x06\\x05\\x0cN7=?RP7IS\\'\\\\Idms\\x00\\r\\x15P\\x07\\x01NS\\x16;E\\x1a\\x0c\\x1b\\nA\\x18\\x06\\x19Ex[\\x00\\x05\\x17\\x1b\\x03\\x06NT&\\x04Z\\x07Oc \\x115\\x17\\x06\\x01\\x0c\\nA\\x16\\x16RT0_\\x00 \\x13\\x1a\\x0b\\x14\\x00\\x1c\\x01\\x11T\\x07\\x01NS\\x02&\\n\\x07\\x03\\rNk \\x07\\x17R=\\x1dSb\\x1c\\x06N\\x13R\\x1d\\x18\\x15I\\x00HI\\x1c\\x0bt\\x08\\x1b\\x03\\x0cBA=H\\x1f\\x002OS6R\\x0e\\x0b\\x13T\\x1d\\x06B\\x00\\n\\x00\\x1e\\x1dE^6\\x02\\x0c\\x1b\\x05\\x00\\x19\\x0e\\x06I;\\x16\\x00\\x0bU\\x04N\\x0fA\\x1a\\x0f\\x0cNIO\\x1d\\x1a\\x02<\\x11R\\x01\\x00\\x05\\x04T\\x0eRF9TA6\\x1b\\nNmy\\x1b\\x1dET\\x1c\\x0e\\x19\\x03\\x000E\\x1f\\x08I\\x01\\x0f\\x17\\nRA6^\\x00\\x0bR\\x1d\\x06\\x08U\\x13\\x00\\x11\\x00\\x1a\\x07\\x08\\x07E^<\\x1d\\x18I\\x03\\x08\\x13\\x07\\x06\\x000[V\\'R\\x00\\x1aG*\\'\\x07ES\\x1a\\n\\x19S\\x01;\\x12\\x1cM\\x08\\x00\\x05T\\x03\\x17N<\\x1aM\\'R\\x10\\x01\\x12RT\\r\\x04RNeNK\\\\t\\x0c\\x1cM\\x04\\x17A\\x00\\x06\\x1fEy\\x1ay-\\x07EN@\\x19DH\\x0cSN\\x02\\x10S\\x1c1\\x04\\x00CIdk-\\x00\\x07\\x07*_\\x005\\x17\\x08\\x05\\x02N\\x1d\\x06B\\x00\\x08\\x0e\\x1a\\x07It<=LI\\x0f\\x0f\\x10O;\\x00;[Nb\\x06\\x0c\\x02\\x0b\\x00\\x1d\\x1cE*7\\x00\\x1c\\x01E6\\n\\x16\\x14N\\x1dA\\x13\\n\\x06T1T\\x07b\\x1a\\x06\\x1aK\\x00\\x07\\x07I\\x00\\x1d\\x00I:E7\\x04\\x1cM\\x1a\\x03\\x04\\x18\\x03RI,\\x1a*\\x11\\x1dI\\n\\x08NS\\x1cEB\\x0bO\\x04\\x12\\x01t\\x04\\x1c\\tI\\n\\x0e\\x1aH\\x06\\x00:_\\x001\\x13\\rNm\\x077\\t\\x10S\\x0bO\\x1d\\x1b\\x00t\\t\\x0b\\x1f\\x00\\r\\x12T\\r\\x17L7TGb\\x06\\x06N.c1DEy\\x01\\x1aI\\x10\\x04:E\\x11\\x0c\\x05\\x02A\\x19\\nRd9^\\x00H+\\x06\\x1b@R\\x11H\\x15I\\x1a\\x0c\\x01\\x1a\\x0bsE\\x13M\\x0f\\x07\\x15XO\\x01OxIT\\'\\x02I\\x0c\\x06C\\x1fH\\x04N\\nO\\x0c\\x1d\\x01!\\x17\\x17Mc\"\\x04\\x00O\\x06H=\\x1aW+\\x06\\n\\x06GD\\x1b\\x0b\\x11O\\x1cCI:\\x061IR\\t\\x06N\\x15\\x1c\\nRD9TC\\'R\\x1d\\x01GC\\x01\\x1a\\x00\\x00d<\\x06S\\x06;\\x08\\x17M\\x1c\\x1eA\\x17\\x03\\x1dS=\\x1aA,\\x16I\\n\\x08NS\\x1cEB\\x0bO\\x1a\\x02\\x105\\x17\\x17Mc7\\x0e\\x01O\\x05A6TAb\\x10\\x08\\x1a\\x13L\\x11H\\x08ENBDS$:\\x1c\\x06\\x04\\x04\\x0bMT\\x0e\\x1cY/RE0\\x17Idmy\\x1b\\x1dET\\x06\\x00\\x1c\\x14\\r E\\x06\\x05\\x08\\x1aA=O\\x05A+\\x1aW\\'\\x13\\x02BGb\\x1b\\x11I\\x00\\x17\\x00\\x1cT\\x171E\\x16\\x08\\x08\\nA\\x03\\x1d\\x1dN?\\x1a*\\x11\\x1dI\\r\\x08M\\x11H\\nNBO\\x0c\\x05\\x00&\\x1c\\x10\\x02\\r\\x17A\\x15\\x01\\x16\\x00+SN%R\\x1d\\x06\\x0eST\\x1b\\nN\\tOcy65\\x1cR@DN1\\x18\\x0e\\x0b\\x00,RA6R\\x0f\\x1b\\tK\\rH\\x08U\\x1d\\x06\\nS65\\x1c^M\\x0e\\x01A\\x03\\x07\\x1bT=\\x1aB-\\x0bEN\\x00OT\\x1f\\rI\\x1a\\nI\\x11\\n-E\\x15\\x02Id\\x11\\x18\\x0e\\x0b\\x00,RA6R\\x0f\\x1b\\tK\\rH\\x08U\\x1d\\x06\\nS\";E\\x05\\x05\\x00\\x1a\\x04T\\r\\x1dYt\\x1aG-R\\x1e\\x06\\x0eT\\x11H\\x07O\\x17CI\\x14\\nto>\\x0c\\x10N\\x05\\x1b\\x18\\x1c\\x009TDb\\x10\\x06\\x01\\x00I\\x11H\\x04N\\nO\\x19\\x1f\\x04-E\\x06\\x05\\x08\\x1aA\\x12\\x1a\\x1cK!\\x1aM7\\x01\\x00\\rGT\\x1d\\x04\\t\\x00\\x17\\x00\\x1cS\\x01=\\x00\\\\Mcd1\\x18\\x0e\\x0b\\x00,RA6R\\x0f\\x1b\\tK\\rH\\x08U\\x1d\\x06\\nS&;\\x08\\x17M\\x06\\x00MT,\\x1dM=\\x1aO,^I\\x02\\x02TT\\x05\\x00\\x00\\x06\\n\\x08\\x01E^5\\x1e\\x0c\\x10N\\x15\\x1c\\x0e\\x06\\x00>ON)\\x0bI\\x03\\x12S\\x1d\\x0bEW\\x06\\x06\\x1d\\x16E6\\n\\x0bM\\x10\\x01\\x14T\\x1c\\x13YxSTnR\\x1a\\x0f\\x1e\\x00\\x1d\\x1cE*>\\x03\\x08\\nE \\r\\x13\\x19I\\x08\\x14\\x1a\\x04\\x0b\\x005OS+\\x11I/GL\\x1d\\x1c\\x11L\\x0bO\\x05\\x1c\\x100\\x00\\x00M\\x07\\x01\\x16Te\"L9C\\x006\\x1a\\x08\\x1aGF\\x01\\x06\\x0eYN\\x02\\x1c\\x00\\x0c7IR\\x1a\\x01\\x07\\x15\\x11O\\x10O!\\x1ac-\\x1f\\x0cN\\x08NXH&O\\x03\\nI\\x1c\\x0bxE1\\x02\\x04\\x0bA\\x1b\\x01R*\\x08VA;R\\x1d\\x06\\x06TT\\x0e\\x10N\\x05\\x16I\\x1e\\x10\\'\\x0c\\x11Mc'\n",
            "2876\n"
          ]
        }
      ],
      "source": [
        "text = \"\".join(text_list)\n",
        "text = base64.b64decode(text)\n",
        "\n",
        "print(text)\n",
        "print(len(text))"
      ]
    },
    {
      "cell_type": "code",
      "execution_count": 12,
      "metadata": {
        "colab": {
          "base_uri": "https://localhost:8080/"
        },
        "id": "D9KTX2D-KaAC",
        "outputId": "ef91ed12-3332-4836-f02f-709fccabfe20"
      },
      "outputs": [
        {
          "name": "stdout",
          "output_type": "stream",
          "text": [
            "for using 2 chunk, best 5 scores are : [(2, 2.25), (5, 2.3), (3, 2.3333333333333335), (18, 2.8333333333333335), (20, 2.85)]\n",
            "for using 3 chunk, best 5 scores are : [(2, 2.0), (3, 2.6666666666666665), (29, 2.793103448275862), (5, 2.8), (18, 2.9444444444444446)]\n",
            "for using 4 chunk, best 5 scores are : [(2, 2.25), (5, 2.6), (29, 2.8189655172413794), (3, 2.8333333333333335), (18, 3.0555555555555554)]\n",
            "for using 5 chunk, best 5 scores are : [(2, 2.4), (5, 2.52), (3, 2.8000000000000003), (29, 2.8344827586206898), (31, 3.0258064516129033)]\n",
            "for using 6 chunk, best 5 scores are : [(2, 2.5833333333333335), (5, 2.7), (3, 2.8333333333333335), (29, 2.8563218390804597), (18, 3.0185185185185186)]\n",
            "for using 7 chunk, best 5 scores are : [(5, 2.7142857142857144), (29, 2.8226600985221677), (3, 2.857142857142857), (15, 2.99047619047619), (18, 3.0238095238095237)]\n",
            "for using 8 chunk, best 5 scores are : [(5, 2.775), (29, 2.8189655172413794), (3, 2.8333333333333335), (2, 3.0), (15, 3.0833333333333335)]\n",
            "for using 9 chunk, best 5 scores are : [(29, 2.739463601532567), (5, 2.844444444444444), (3, 3.0), (15, 3.051851851851852), (2, 3.0555555555555554)]\n",
            "for using 10 chunk, best 5 scores are : [(29, 2.7586206896551726), (5, 2.84), (15, 2.9866666666666664), (31, 3.103225806451613), (9, 3.1222222222222222)]\n",
            "for using 11 chunk, best 5 scores are : [(29, 2.7460815047021945), (5, 2.8727272727272726), (15, 2.987878787878788), (31, 3.087976539589443), (2, 3.090909090909091)]\n",
            "for using 12 chunk, best 5 scores are : [(29, 2.7413793103448274), (5, 2.916666666666667), (15, 3.0055555555555555), (31, 3.0698924731182795), (2, 3.0833333333333335)]\n",
            "for using 13 chunk, best 5 scores are : [(29, 2.742705570291777), (5, 2.9846153846153847), (15, 2.9948717948717944), (31, 3.0843672456575684), (40, 3.1192307692307693)]\n",
            "for using 14 chunk, best 5 scores are : [(29, 2.7610837438423643), (5, 2.9857142857142858), (15, 3.019047619047619), (2, 3.0357142857142856), (31, 3.0944700460829493)]\n",
            "for using 15 chunk, best 5 scores are : [(29, 2.7724137931034485), (5, 2.92), (2, 3.0), (15, 3.0266666666666664), (31, 3.1118279569892473)]\n",
            "for using 16 chunk, best 5 scores are : [(29, 2.7672413793103448), (5, 2.9625), (2, 3.0), (15, 3.033333333333333), (31, 3.1330645161290325)]\n",
            "for using 17 chunk, best 5 scores are : [(29, 2.7768762677484786), (5, 2.9176470588235293), (15, 3.015686274509804), (2, 3.0588235294117645), (31, 3.132827324478179)]\n",
            "for using 18 chunk, best 5 scores are : [(29, 2.7739463601532566), (5, 2.966666666666667), (15, 3.003703703703704), (2, 3.0833333333333335), (31, 3.14336917562724)]\n",
            "for using 19 chunk, best 5 scores are : [(29, 2.7749546279491835), (5, 2.957894736842105), (15, 2.9964912280701754), (2, 3.1315789473684212), (31, 3.134125636672326)]\n",
            "for using 20 chunk, best 5 scores are : [(29, 2.7603448275862066), (5, 2.98), (15, 3.003333333333333), (2, 3.1), (40, 3.1425)]\n",
            "for using 21 chunk, best 5 scores are : [(29, 2.7881773399014778), (5, 2.9904761904761905), (15, 3.0349206349206352), (3, 3.079365079365079), (25, 3.1276190476190475)]\n",
            "for using 22 chunk, best 5 scores are : [(29, 2.7774294670846396), (5, 3.009090909090909), (15, 3.0575757575757576), (9, 3.090909090909091), (3, 3.1363636363636362)]\n",
            "for using 23 chunk, best 5 scores are : [(29, 2.7556221889055474), (5, 3.008695652173913), (15, 3.0579710144927534), (9, 3.120772946859903), (40, 3.141304347826087)]\n",
            "for using 24 chunk, best 5 scores are : [(29, 2.755747126436782), (5, 2.958333333333333), (15, 3.0527777777777776), (9, 3.0833333333333335), (3, 3.125)]\n",
            "for using 25 chunk, best 5 scores are : [(29, 2.7600000000000002), (5, 3.0), (15, 3.0773333333333333), (9, 3.088888888888889), (40, 3.143)]\n",
            "for using 26 chunk, best 5 scores are : [(29, 2.7599469496021216), (5, 3.0692307692307694), (9, 3.0854700854700856), (15, 3.08974358974359), (3, 3.128205128205128)]\n",
            "for using 27 chunk, best 5 scores are : [(29, 2.749680715197957), (15, 3.0864197530864197), (5, 3.088888888888889), (9, 3.1069958847736623), (3, 3.123456790123457)]\n",
            "for using 28 chunk, best 5 scores are : [(29, 2.769704433497537), (15, 3.0833333333333335), (5, 3.107142857142857), (9, 3.107142857142857), (20, 3.1339285714285716)]\n",
            "for using 29 chunk, best 5 scores are : [(29, 2.7776456599286563), (15, 3.0873563218390805), (9, 3.099616858237548), (3, 3.1149425287356323), (20, 3.136206896551724)]\n",
            "for using 30 chunk, best 5 scores are : [(29, 2.7770114942528736), (15, 3.0955555555555554), (3, 3.111111111111111), (20, 3.1350000000000002), (9, 3.1370370370370373)]\n",
            "for using 31 chunk, best 5 scores are : [(29, 2.7697441601779755), (15, 3.109677419354839), (3, 3.1182795698924735), (9, 3.1362007168458783), (20, 3.1370967741935485)]\n",
            "for using 32 chunk, best 5 scores are : [(29, 2.7683189655172415), (15, 3.1), (3, 3.1145833333333335), (20, 3.1328125), (5, 3.14375)]\n",
            "for using 33 chunk, best 5 scores are : [(29, 2.762800417972832), (3, 3.0909090909090913), (15, 3.098989898989899), (20, 3.1378787878787877), (9, 3.148148148148148)]\n",
            "for using 34 chunk, best 5 scores are : [(29, 2.7505070993914806), (3, 3.0784313725490193), (15, 3.103921568627451), (20, 3.1529411764705886), (2, 3.161764705882353)]\n",
            "for using 35 chunk, best 5 scores are : [(29, 2.742857142857143), (3, 3.085714285714286), (15, 3.1085714285714285), (20, 3.1614285714285715), (9, 3.165079365079365)]\n",
            "for using 36 chunk, best 5 scores are : [(29, 2.746168582375479), (15, 3.111111111111111), (3, 3.1203703703703702), (5, 3.155555555555556), (20, 3.161111111111111)]\n",
            "for using 37 chunk, best 5 scores are : [(29, 2.7381174277726), (15, 3.1045045045045043), (3, 3.1531531531531534), (9, 3.159159159159159), (20, 3.1594594594594594)]\n",
            "for using 38 chunk, best 5 scores are : [(29, 2.7295825771324864), (15, 3.1105263157894734), (3, 3.149122807017544), (20, 3.155263157894737), (9, 3.1578947368421053)]\n",
            "for using 39 chunk, best 5 scores are : [(29, 2.725022104332449), (15, 3.111111111111111), (5, 3.1487179487179486), (20, 3.1564102564102567), (40, 3.161538461538462)]\n",
            "for using 40 chunk, best 5 scores are : [(29, 2.7120689655172416), (15, 3.1116666666666664), (9, 3.1527777777777777), (5, 3.1550000000000002), (20, 3.1662500000000002)]\n",
            "for using 41 chunk, best 5 scores are : [(29, 2.712363330529857), (15, 3.1138211382113825), (40, 3.1591463414634147), (11, 3.1596452328159645), (9, 3.159891598915989)]\n",
            "for using 42 chunk, best 5 scores are : [(29, 2.7183908045977008), (15, 3.107936507936508), (11, 3.1515151515151514), (20, 3.1595238095238094), (40, 3.1648809523809525)]\n",
            "for using 43 chunk, best 5 scores are : [(29, 2.709703287890938), (15, 3.128682170542636), (11, 3.1585623678646937), (40, 3.161627906976744), (13, 3.1645796064400713)]\n",
            "for using 44 chunk, best 5 scores are : [(29, 2.7100313479623823), (15, 3.1242424242424245), (40, 3.15), (38, 3.1638755980861246), (13, 3.164335664335664)]\n",
            "for using 45 chunk, best 5 scores are : [(29, 2.7088122605363987), (15, 3.1288888888888886), (40, 3.1494444444444443), (33, 3.160942760942761), (20, 3.163333333333333)]\n",
            "for using 46 chunk, best 5 scores are : [(29, 2.7166416791604195), (15, 3.1231884057971016), (40, 3.1527173913043476), (13, 3.1538461538461537), (20, 3.157608695652174)]\n",
            "for using 47 chunk, best 5 scores are : [(29, 2.7204695524578137), (15, 3.129078014184397), (13, 3.1407528641571196), (40, 3.150531914893617), (20, 3.154255319148936)]\n",
            "for using 48 chunk, best 5 scores are : [(29, 2.7183908045977008), (15, 3.1347222222222224), (13, 3.1458333333333335), (40, 3.1484375), (38, 3.150219298245614)]\n",
            "for using 49 chunk, best 5 scores are : [(29, 2.7178043631245603), (15, 3.136054421768707), (40, 3.14234693877551), (38, 3.1471535982814176), (20, 3.154081632653061)]\n",
            "for using 50 chunk, best 5 scores are : [(29, 2.716551724137931), (15, 3.136), (40, 3.1454999999999997), (38, 3.1473684210526316), (20, 3.153)]\n",
            "for using 51 chunk, best 5 scores are : [(29, 2.7173766058147395), (15, 3.1359477124183006), (38, 3.146542827657379), (40, 3.1480392156862744), (33, 3.1592394533571)]\n",
            "for using 52 chunk, best 5 scores are : [(29, 2.718832891246684), (15, 3.137179487179487), (38, 3.1482793522267207), (40, 3.151923076923077), (20, 3.1596153846153845)]\n",
            "for using 53 chunk, best 5 scores are : [(29, 2.726740403383214), (15, 3.138364779874214), (38, 3.1469712015888778), (40, 3.1490566037735848), (20, 3.1575471698113207)]\n",
            "for using 54 chunk, best 5 scores are : [(29, 2.7292464878671776), (15, 3.1432098765432097), (38, 3.1437621832358675), (40, 3.153703703703704), (20, 3.1546296296296297)]\n",
            "for using 55 chunk, best 5 scores are : [(29, 2.7373040752351097), (38, 3.1377990430622007), (15, 3.138181818181818), (40, 3.1554545454545453), (13, 3.1594405594405592)]\n",
            "for using 56 chunk, best 5 scores are : [(29, 2.7438423645320196), (15, 3.138095238095238), (38, 3.139567669172932), (40, 3.1558035714285717), (25, 3.16)]\n",
            "for using 57 chunk, best 5 scores are : [(29, 2.7428917120387175), (15, 3.127485380116959), (38, 3.1398891966759), (40, 3.1535087719298245), (13, 3.1551956815114712)]\n",
            "for using 58 chunk, best 5 scores are : [(29, 2.7449464922711058), (15, 3.1241379310344826), (38, 3.1374773139745913), (13, 3.1485411140583555), (40, 3.1612068965517244)]\n",
            "for using 59 chunk, best 5 scores are : [(29, 2.753945061367621), (15, 3.134463276836158), (38, 3.1378233719892954), (13, 3.14993481095176), (25, 3.160677966101695)]\n",
            "for using 60 chunk, best 5 scores are : [(29, 2.7477011494252874), (38, 3.131140350877193), (15, 3.143333333333333), (13, 3.1474358974358974), (25, 3.16)]\n",
            "for using 61 chunk, best 5 scores are : [(29, 2.7467495760316565), (38, 3.1354616048317516), (15, 3.1366120218579234), (13, 3.1437578814627996), (25, 3.1606557377049183)]\n",
            "for using 62 chunk, best 5 scores are : [(29, 2.7424916573971077), (15, 3.1333333333333333), (38, 3.138370118845501), (13, 3.146401985111663), (20, 3.161290322580645)]\n",
            "for using 63 chunk, best 5 scores are : [(29, 2.75095785440613), (15, 3.1312169312169313), (38, 3.142021720969089), (13, 3.1514041514041513), (20, 3.1626984126984126)]\n",
            "for using 64 chunk, best 5 scores are : [(29, 2.746228448275862), (15, 3.13125), (38, 3.1467927631578947), (13, 3.15625), (20, 3.1609375)]\n",
            "for using 65 chunk, best 5 scores are : [(29, 2.743766578249337), (15, 3.132307692307692), (38, 3.1502024291497976), (20, 3.161538461538462), (13, 3.1633136094674557)]\n",
            "for using 66 chunk, best 5 scores are : [(29, 2.74294670846395), (15, 3.1333333333333333), (38, 3.1547049441786283), (13, 3.1585081585081585), (20, 3.1704545454545454)]\n",
            "for using 67 chunk, best 5 scores are : [(29, 2.7447246525990736), (15, 3.1323383084577117), (38, 3.154752553024352), (13, 3.1584385763490244), (25, 3.1725373134328354)]\n",
            "for using 68 chunk, best 5 scores are : [(29, 2.7413793103448274), (15, 3.1401960784313725), (38, 3.1524767801857587), (13, 3.164027149321267), (25, 3.1694117647058824)]\n",
            "for using 69 chunk, best 5 scores are : [(29, 2.747626186906547), (15, 3.1352657004830915), (38, 3.150266971777269), (13, 3.1560758082497213), (11, 3.164690382081686)]\n",
            "for using 70 chunk, best 5 scores are : [(29, 2.7517241379310344), (15, 3.1285714285714286), (38, 3.1477443609022555), (13, 3.161538461538462), (11, 3.164935064935065)]\n",
            "for using 71 chunk, best 5 scores are : [(29, 2.749878581835843), (15, 3.1352112676056336), (38, 3.1508524833209783), (13, 3.1560130010834233), (11, 3.1626120358514727)]\n",
            "for using 72 chunk, best 5 scores are : [(29, 2.755747126436782), (15, 3.1472222222222226), (38, 3.1487573099415203), (13, 3.161324786324786), (11, 3.1628787878787876)]\n",
            "(29, 2.7384186694531523)\n",
            "(38, 3.141754385964912)\n",
            "(13, 3.1541942220675256)\n",
            "(9, 3.1598746081504703)\n",
            "(16, 3.160963687150838)\n",
            "(25, 3.1655652173913045)\n",
            "(22, 3.168531468531469)\n",
            "(15, 3.1713787085514835)\n",
            "(33, 3.175548589341693)\n",
            "(40, 3.176056338028169)\n",
            "{29: [b'\\x1d6<78t:5t&;t^:7199;=5\"5:;t$ e0<3:t5:stt1!\\rt<6;z;,55t12t-31-;5&t^<0^;t1t67tt:s!1;5: 1&55-;t-=;^6 07x\\'', b'B\\x00\\x0c\\x16E\\x04\\x01\\x0b\\x0b\\x10\\x10\\x0c(B\\x04E\\x0b\\x00\\t\\x0b\\x16\\x00\\x0bB\\x0b\\n\\tEHE\\x1c\\x0cEo\\x0eE\\x16\\r\\x11\\x17\\x11\\n\\x0bE\\t\\x0bE\\x08\\x0cE\\x0b,E\\x17\"\\x0c\\r\\x17EE\\x17\\n\\x086\\x11E<\\x12\\x0c\\x04<\\n\\x04\\x04\\tEE\\x17I\\x08\\x17\\x1cEE\\x1c\\x1c\\x1cEEoE\\x00\\x085\\n\\r\\x00IE\\x0c', b'\\x1f\\x1e\\x1e\\x06\\x06\\x1eR\\x1b\\x1d\\x15\\x06\\x06\\x0b^\\x07x^RRU\\x17RRR\\x17\\x14\\x13\\x07@x\\x1f\\x1e\\x17;\\x17_R\\x13\\x1d^R\\x07\\x1d\\x1f\\x0bS$\\x1b\\x11\\x05\\x16\\x11\\x13\\x17\\x1e\\x1cR\\x17\\x06\\x1a\\x06\\x07\\x1b\\x02R\\x1f\\x1d\\x1c\\x1c\\x00=\\x16\\x1c\\x1c\\x0b\\x11\\x13\\x17R\\x17\\x17\\x06\\x06\\x16\\x10R^\\x15\\x05>\\x06\\\\\\x17\\x1e\\x0b\\x13\\x00R1\\x11', b'M\\x01\\x08\\x0c\\x05\\x01\\x19\\x01\\x19M\\x05MMM\\x1e,Mg\\x19MM\\x00\\t\\x1dM\\x0b\\x14\\x1d@+\\x08\\x04\\x0bMM@\\x03\\x03MM\\x03JM\\x14MM\\x0c\\x03\\x0c\\x04M\\x08\\x1f\\x0c\\x18\\n\\x19M\\x05\\x0c\\x01\\x03\\x03\\x0c\\x01\\x08\\x18MMCL\\x14M\\t\\x1f\\x0cMM\\tMM\\x04\\x05\\x08\\x02@M\\x02\\x05\\x0c\\x05MM\\x0cM\\x19M\\x1a\\x02M', b'\\x0bII\\x1a\\x08I\\x01\\x05I\\x02I\\x0f\\x19.\\x0c\\x07\\x1d:\\x01\\x08c\\x0c\\x08\\x05\\x10IIIZ\\x06\\x1a\\x1a\\x0f\\n\\x01I\\x06\\x0e\\x0e\\x19\\x06\\x05\\x1dI\\x0c*\\x07N\\x1d\\x07\\x0eI\\x0c\\x02\\x0cI\\x01\\x1a\\x0c\\x1b\\x0c\\r\\x0c\\x1b\\x00II\\x08\\x04IIN\\x1aI\\x00\\x05\\x0fc\\x06\\x1cc\\x04\\x08\\x08\\rD\\x0eI\\x00\\x10\\x08c\\x06\\x10\\x10I\\x07\\x01\\x04c', b'\\x0fd\\x1a\\x17\\x1a\\x1a\\x0b\\x0f\\x02\\x07\\x0f\\x02\\x01\\x01N\\n\\x06\\x01\\x0b\\x02:N\\x00\\x0f\\x0f\\x03\\x1a\\x0fN\\x1cN\\x1a\\x0b\\x0f\\x0b=NN\\x0b\\x1c\\x1a\\x02\\x07)\\x0f\\x01\\x07N\\x07\\x01\\x07\\x07N\\x1dN\\x1a\\x0b\\x01N\\n\\nNB\\x05\\x05\\x01\\x03\\x00\\x17d\\x0f\\x1d\\x03\\n\\r\\x02\\x07\"N\\x1e7\\x0b\\x1a\\n\\x17N\\x01d\\x1aN\\x1ad\\x00N\\x01\\x08\\x01\\x07\\x0b', b'\\x02 \\tAF\\tAF\\x00\\x02\\x0f\\x0e\\x12A\\x15A\\x04AA\\r\\t\\x00\\x02\\x18F\\x18\\t\\x0f8A\\x00\\x08\\x02\\x0f\\x13\\x00\\x05k\\x15\\x00AA\\x0c\\x0e\\x15\\x0c\\r\\t\\x0fA\\x13\\x12\\x03Ak\\x0eA\\x0f7AAkA\\x00\\x04\\x0f\\x08\\x05Ak\\x0fA\\x04\\x0e\\x12A\\x15\\x04\\x15A\\x0eMAAA1A\\x11\\x04\\x05A1M\\x15\\x14\\x14\\x16\\x15A', b'\\x1fT\\x11\\x1d\\x07\\x11\\x13\\x07\\x0e\\x1f\\x10\\x03\\x07\"\\x1c\\x1d\\x1a\\x13\\x07\\x1b\\x11\\x1a\\x11TTT\\x06\\x10\\x1b\\x13\\x00\\x17\\x00TT\\x19\\x116T\\x17\\x1d\\x13\\x11\\x10T\\x11\\x18\\x15\\x13~\\x18T\\x01\\x159T\\x13\\x13=\\x18\\x16 =\\x19T\\x17\\x13T\\x00-\\x10\\x13\\x18\\x1aT\\x19X\\x00\\x1c\\x17\\x01T=\\x03\\x15\\x18\\x03\\x18T\\x1b\\x12\\x18T\\x1cT\\x1aT\\x11\\x1b', b'O\\x1dO\\x01O\\x02\\x06O\\x16OOC\\n\\x0e\\x0e\\tO\\n\\x1b\\x18O\\x0bOe\\x18\\x07\\x00OO\\x00\\x1d\\nO\\x1b\\x18\\x1c\\x01\\x1a\\x02\\x1b\\t\\nCCeO\\x0e\\x1dO<O\\x1c\\x16\\x1d\\x00\\x1c\\x07O?\\x06\\x16\\x07H\\x0e\\x0e\\n\\x07\\x03\\x06\\x00O\\n\\x03H\\r\\nOO\\n\\x03O\\x0eO\\x1d\\x01\\x0e\\x07\\x0e\\r\\x18\\x1a\\x0e,\\x0e\\x1c\\x04eO\\x01', b'\\x13\\x1d\\x14R\\x1fR\\x00\\x1d\\\\\\x1b;RU\\x1c\\x06Rx\\x06\\x13\\x17\\x15R\\x10x\\x13\\x17\\x07\\x1f_\\x1d\\x1d\\n\\x13\\x13\\x17\\x1d\\x0b\\x06\\x0b\\x1bR\\x06RR!\\x1dR\\x16\\x01\\x1d\\x01\\x17\\x1b\\x17\\x04\\x1b\\x17xR\\x19R\\x17\\x1f\\x06RR\\x06\\x17\\x1f\\x07;\\x06R\\x06\\x17R\\x01\\x06R\\x1d\\x05\\x1c\\x05\\x1d\\x16\\x0b\\x1b\\x0b\\x1d\\x1c\\x1c\\x0b\\x1d\\x06\\x13\\x0b\"\\x10R', b'NCLTYzLN\\x00N\\x00LSI\\x07Yw\\x00GDITEsNAGA\\rDCPNKTNI\\x00\\x00CY\\x00NHPNi\\x00O\\x00TLN\\x00INTnPETR\\x00IFA\\x00NE\\x07\\x00TI\\x00LdOHDSAYAN\\x00\\x00T\\x00Y\\x00K\\x00M\\x00Y\\x00LO*', b'<3!0x\\x7f1xRx:=x4+707=x*0,,6<03xx11<=vx6!+=76779x;4x(74\\x7f26?,77x0=2;960<y*;1,:79x=9=6/+?+,=,t9!,=>x59!\\x08', b'\\x1aS\\x1a_~I_N00_NNV\\x1aOC\\\\\\x1a0V[N[[\\x1a\\x1a_qVU[\\x1a\\x1a\\x1aN\\x1dUN\\x1aOU\\x1aW][_SCOJS\\x1aU\\x1d\\x1aUMI[_\\x1dO\\x16T^[\\x1a\\x1a_[T\\x1a_T^I\\x1aT\\x1aTR\\x1a\\x1aSR\\x1aR\\x1aT\\x1aR\\x1aOSOC\\x1aV', b'iNG\\x00j\\x00SHiiG\\x00OAT\\x00\\x00F*iITEG\\x00S*\\x00NUULTA*O\\x0cUYM\\x07WGEHN\\x00KON\\x00N*C\\x00A\\x00\\x00S\\x00\\x00SS\\x00A\\x00VMy\\x00N\\x07*\\x00G\\x00TWCAAEW*NABAGDMAONTS\\x00cA', b\"ee+ bHb'e6+/bb*&;b\\x16e'b0'.-\\x11+-!1+*bHbbe.#0*+ '&;'7)!ee)#.%;'\\x05 b6\\x0b6\\x0b''-5bb\\x111bH'+',b0'\\x11%6-6-b76,)n+6-;\", b'\\x1fR\\x00\\x136:\\x15R\\x1fR\\x1c\\x0b\\x065\\x17\\x1d\\x1dU\\x1a\\x1f\\x01\\x1bRR\\x1bR\\x1d\\x06\\x11\\x19R\\x16\\x13\\x14;6+\\x1e\\x17\\x19\\x17\\x17\\x00\\x1d\\x06R\\x17RR\\x01\\x00R1\\x1b\\x1c\\x1d\\x00\\x1d\\\\\\x17\\x13\\x1cRU\\x1bRRR\\x07\\x17\\x06\\x1a\\x1d\\x13\\x06+\\x02\\x06R\\x16\\x10\\x17\\x13\\x1dRR\\x0bRR\\x10\\x01R^\\x0bR\\x11\\x1a\\x1fR', b'I\\x06\\x05\\n\\x0c\\x00\\x06\\x04I\\nII\\x01\\x06I\\x07\\x1c\\n\\x0cII\\x1a\\x1d[\\x1a\\x05II\\x02Ec\\x06\\x1d\\x05N\\x0c\\x06\\x05I\\x0cI\\x1b\\x05\\r\\x1d\\x1a\\x19\\x08\\x1aI\\x10\\x08\\x08\\x07\\r\\x07\\x06\\x1cI\\x1b\\x1a\\x06\\x0e\\x04\\n\\x1d\\x00\\x10E\\x08\\x0c\\x06I\\r\\x06\\x06I\\n\\x1dI\\x08I\\x02I\\x1d\\x0fE\\x0f\\x1e\\x06\\x00\\x0fII\\x1aI\\x08\\x0c\\x1d', b\"\\x1c\\x00\\x1d\\x05\\x1d\\x1a\\x07\\x07\\x02\\x01d\\r\\x0bO\\x19IN\\x0f\\x1c\\x07\\x1dN\\x06N\\x1a\\x0b'\\x1dNN=\\rN\\x17\\x03\\x02\\x1bNd\\x1d\\x0f\\x0b\\x1d\\x17\\x07\\x0fBN\\x1a\\x1d\\x07\\x00\\x1bIN\\t\\x01Id\\x03\\x0bN\\x0bNN\\x06\\x1a\\x01N\\x05\\x02\\x1a\\nNN\\x1b\\x0c\\x06\\x01\\n\\x1adB\\r\\x06\\x1bN\\x1b\\x06\\x01\\r\\x1b\\x02\\x03\\x0f/\\x1aN\\x06\", b'\\x0eGGG\\x0f\\x13\\t\\x0c\\x02\\t3\\x08GG\\x06\\x13\\x14\\x12\\x02\\t\\x06\\x08\\x06J\\x02\\x13G\\x08\\x08.\\x12\\x0e\\x1eGG\\x0eG\\x0c(GGKGKG\\x1eG\\x15\\x06\\x13\\t\\x03\\x14G\\x00G\\x11\\x15m\\x06\\x14\\x13\\x13\\x0fm\\x08G\\x12@\\x02\\x0bK\\x08m.@\\x06GG\\x08\\x13mG\\x08\\x0e\\t\\x00\\t\\x0e\\x00G\\t\\x02\\x12\\x1eGG\\x08\\x06', b'NTYOAI\\x07ETTONS*Y\\x00TS\\x07\\x00\\x00KN\\rN\\x00CUN\\x00POOGLLCEVPL\\x00*\\x00W\\x00YHGO\\x07\\x00ELR*IEsN\\x00RTAyU*R\\x19N\\x00\\x00N\\x07cRCDCNLybMSKOKTITKTS\\x00LFNT', b\"\\x13\\x1c\\x11\\x12\\r\\x1aTX\\x00\\x06T\\x17\\x1d~T\\x13\\x15\\x11\\x07\\x19\\rTTTT\\x00\\x15\\x1aT\\x18\\x11\\x01\\x01\\x1d\\x1d\\x15\\x15\\x11\\x11\\x11\\x1b\\x1a'\\r\\x1d\\x1d\\x11\\x1d\\x13\\x04T\\rT\\x1d\\x1b5\\x1aT\\x00T\\x1c\\x1d\\x1d\\x1a\\x1b\\x13'TD\\x1d\\x1d\\x07S71\\x11\\x1f\\x1b\\x01S\\x11\\x1b\\x1b\\x11T\\rT\\r\\x11\\x11\\x1d\\rT\\x1d\\x1d\\x1d\\x01XT\", b'\\x01\\r\\x04HHO\\x0bH\\x01\\x07\\x02\\r\\x0c;!\\x01\\x1aHH\\x11Hb\\t1\\x1c\\x00\\x06\\x0c\\x1b\\x01\\x1a\\x1bH\\x1a\\x03\\x00\\x06\\x18\\x1a\\x1a\\t\\x07\\x07\\x07\\x1c\\x1c\\x18\\x06\\rHb\\x07\\x1f\\x03\\x07\\x04O\\t\\r&\\x01\\x18\\x06\\x0f\\x1d\\x00\\x07\\rH\\x06\\x1c\\x07\\x1c\\tDHH\\x0b\\x1a\\x1cH\\x1d\\x11H\\x1bH\\x1fHHH\\x04H\\x05\\x0b\\x1c\\x1c\\x06H\\x0e', b'\\x0bE\\t\\x08\\x06E\\x17\\x08\\x0b\\t\\x10\\x15\\x00\\x08E\\x13\\x0c,\\x0bE\\x11$\\x0b\\x00\\n\\x00EE\\n\\x0e\\x06E\\x06\\t\\x00EEEE\\x03\\x03E\\n\\x10\\rDI\\n\\x17\\x113\\x10\\r\\x00\\x13\\tE\\x08\\x15\\x04\\x11\\x15B\\x0cE\\x11E\\x04\\x0cBEIE\\x10E\\x15\\x04\\x11\\x00E\\x08EI\\n\\n\\x08\\r\\x08\\x07\\x04\\t\\x08\\x00EE\\x11\\x0e&\\x10', b'\\x07M\\x00EUHAA\\x07SST\\x00OWEN\\x00OOHNYA\\x00\\x00FGMEA*A\\x00\\x00*TTAEEPN\\x00\\x00\\x00\\x00\\x00\\x00RA\\x00Y\\x00I\\x00TAPZTI\\x00NT\\x00SRS\\x00*\\x00BSyINO\\x00BET\\x00NNUIUON\\x00U\\x00W*LYON', b\"N\\x07dN\\x1a\\x0f\\x14\\x00NN\\x1a\\x1d\\x17\\x01\\x07NI\\rN\\x19\\x0b\\nNNd\\x0c\\x1b\\x01\\x0bN\\x02'\\x00\\x0f=:\\x1c\\x1c\\x00\\r\\x1c\\x02N\\x1e\\x0fd'd\\x02\\x17\\x00\\x1eN-\\x00\\x1a\\x06\\x14\\x07\\x07\\x07\\x00\\nI\\x1c\\x1a\\x1aNN\\x087\\x1d\\x0b\\x0b\\x01\\x1a\\n\\x1cd\\x0bN\\x06\\x17B\\t\\x1d\\x1a\\x1d\\x17\\n\\x17\\x1d\\x06\\x06>\\x0bN\\x03\\x05\", b'\\x1b\\x04&e\\x1b\\x1d\\x16O\\x02\\x02OO\\n\\x1b\\x03\\x0eO\\x00\\x0b\\x01\\x16O\\x04\\x1b&\\n\\x01\\x00O\\x02\\x0eHO\\x01\\x0e\\x07\\x16\\x16\\x0b\\x1bA\\x0eB\\x1dOeH&\\x06\\x06\\x06\\n\\x1b\\x1dH\\x07\\x06\\n\\x01O\\x01H\\x00O\\x0e\\x07\\ne\\x02\\x0e\\x00\\x00OO\\x1a\\x0cOC<OB\\x00\\x00OO\\x06\\n\\x06CO\\x00\\x06\\n\\x06\\x03O\\x02\\n\\x16', b'\\x01\\x0c\\x07>\\x00\\rI \\x10\\x10\\x05\\x0e\\x05\\x01\\x05I\\x08\\x07\\x00II \\x00\\x01\\x1d\\x08\\x02\\r\\x1e\\x10\\x0f\\x04\\x0b\\r\\x04\\x0cI\\x00III\\nD\\x06\\x1a?\\x04\\x07\\x02\\x07\\x05\\x06\\x01\\x08I\\x1b\\x1a\\rNcNI\\x1e\\x1d\\x19\\x08\\x19N\\x10\\x1a\\x1cI\\x04\\x1dI\\x01\\x0cI\\x06\\x1aD\\x1c\\x1c\\x0cc\\nI\\nI\\x19\\x1c\\n\\x08\\x1d\\x08\\x05\\x1cII', b'\\x16SS\\x16\\x1dSyTSS\\x16\\x1c\\x1fSS\\x17\\x07\\x07\\x00\\x03\\x1fS\\x17\\x16T\\x07SS\\x1cS\\x01S\\x16S\\x00\\x01\\x07\\x1d\\x1cyy\\x16S\\x11\\x03:S\\x07\\x16\\x14\\x1f\\x03\\x16\\t\\x07\\x1cSSS S\\x1c\\x1d\\x1a\\x03\\x07SKS\\x07\\x01:\\x12\\x1b\\x10\\x1a\\x1d:S\\x02S\\x14T\\x05yS\\x11S\\x14\\x1fSS\\x01\\x16\\n\\x1c\\x00\\x1c\\x1e', b'E\\x12\\x00\\tB\\x043\\x08\\x01\\x08\\x11E\\x0cB\\x07\\x04E\\x17\\x16\\r\\n\\x06EE\\x16E\\x0co\\n\\x17\\x04\\x04\\x11\\x08\\n\\x00\\nB\\x13\\'oI*\\x04\\n5\\x06\\nEE\\x04\\tE\\x1c\\x17\\x10\\r\\x07\\x16\\x11\\x02\\x0bE\\x02\\x00E\\x01\\\\\\x1cIEE\\x01\\x00\\x04\\x0b\\x01\\x06\\x06\\x10$\\r\\x17\\x0066\\n\"\\n\\x04\\x01&EEE\\x10\\x0c\\x0b\\x10'], 38: [b'\\x1d\\x1dG\\x16\\x11\\x06O\\x07+TM\\x1a\\x01\\x00G\\x00\\nON\\x1d\\t\\x06\\x0b\\x1aL\\x06\\x17x\\x15t\\x1bG\\x16\\x10\\x1deN7R\\x08\\x1a\\x03\\x0cTE\\x16\\x16N\\x1e\\x04R\\x1a\\x04\\x00E\\x1c:1s\\x06G\\x02T\\x02ON-U\\x0c\\x1aH5YL\\x0c\\x01', b'BCY\\t\\x02\\x07 \\x02\\x1c\\x1d.T\\x13R=\\x19\"\\x10JT\\x06ION+AMN\\x06\\x11CLIC\\x07?\\tR\\x17I*\\x00\\x1c,T;R\\x13\\x1dT\\x1d\\n\\x175*M_DEHC\\x10\\x0eB\\x0c1\\x0b\\x1d\\x10M\\x08\\x1ex\\x1d7R', b'\\x1f3\\x118R\\tT\\x1fIO\\x01*Eg\\x1a\\x11\\x00E\\r\\x16\\x00\\x1d\\x1e\\x00\\x16\\x00\\x01OE\\x1d=\\x1btRG:\\x15\\x1a\\x06\\x07e\\x00\\nU\\tETRE\\x0e\\x06\\x19A\\x177\\x1a\\x00E\\x13=\\x015\\x1cG\\x05\\x18E\\x06N7U\\x0cS\\x1cI*', b'MS\\x04Ez\\x07\\x08Od\\x0eA\\x17N:*ER,Tt\\x07\\x08\\x1c\\x00\\x06O\\x0bbTM\\x1a\\t\\x0bHW5\\x1d\\x1a\\x07\\x121-I\\x00\\x08\\x1a0\\x1d^R\\x08S\\x00\\x08\\x00\\x031yM\\x1a\\x1a\\x17Yb\\x00\\x0eN\\n\\x05\\x01\\x1d\\x10T\\x11R\\x08', b'\\x0bN\\t\\x06\\x7fTt\\x1b3\\x1c\"I\\x0e\\x01\\x16O\\x00N1\\nGU\\n\\x1d\\r\\x0b\\x136\\x1c\\x0eM\\x03\\x1d7\\x1dz\\x16\\x06\\x14T\\x08\\x1d\\x1a%A\\x0c_\\x186FU\\x01\\x06\\x05\\x1c\\x04\\x13\\x01\\x0fW\\x00\\x17/\\x1b&\\x0b\\x00S\\x1b\\x00\\x06NnL\\x1aV', b'\\x0fe\\x00\\x05I\\x0b\\x0bNOE\\x0e\\x19IA\\x1a\\x19\\x0cE\\x00\\x140\\x1a0\\x1d\\x0e\\x16T\\x0c\\x16\\x0b#EMW\\x1cE\\x00GE\\x1c\\x1b\\x08\\x0e\\x00\\x14\\x1b\\x00\\x15\\x029\\x13;\\x1f\\x02\\x01\\x18\\r\\x1a\\x07+\\x00MR\\x11\\x1c\\x00O\"\\x18\\r\\n\\x15R\\x0b\\x01A', b'\\x02Rd\\x08\\x00\\x17\\x1dxT^\\x1c\\x06\\x17\\x13\\x0c\\x01N0A\\x0b\\x1a\\x0cECO\\x11\\x18\\x02I\\x15\\x19\\x1c\\x1dE\\r$4\\x135\\x17\\x14\\tT\\x06\\n\\n I\\x0cT\\x00\\x12ENE\\x03NI\\x15\\x06dcEI\\x10,T;\\x1cGS\\x1c\\x1aO\\x07;', b'\\x1f\\x06&\\x1aHA\\x190\\x02(IY\\x04\\n\\x1cI\\x00RNI*Ex1\\x01t\\x17\\x0e\\x07T\\x0cA\\x07 \\x00\\x0cS\\r\\x0bLE\\x1c\\x1c\\x01\\rA\\x13\\x00\\x1bA\\x11\\x1cy\\x1d6Rm\\x10X\\n<70\\x00\\x02R\\x1fE\\x00T&\\x0e\\x0f\\x05\\x15R', b'O\\x00\\x07F:\\x14Ii\\x10\\x0b4T9\\x06\\x02\\x03\\x1a\\x1d\\x1b\\x03\\x11G+U\\x1boTL\\n\\x02\\x1dI\\x0c\\x1d\\x0f\\x07K\\x17\\x164Tt\\x1b\\x11S\\x18\\x1aH\\x056\\x00M\\x1a\\x06\\nI\\x07\\x04O\\x06\\x06\\x0e\\x17\\x17\\rA\\r\\x059\\x1d;\\x06\\x1e\\x1c\\x11\\x1d', b'\\x13GS\\x07\\x00\\x16\\x026SMV!\\x0b\\x00\\x07\\r\\x0b\\x06\\x01\\x18\\x1d\\x01\\x06UE;v\\x15t\\x0bGy\\x11\\rO\\x07\\'\\x00MS\\x1f\"NI\\x07\\x06\\x0bI\\x00\\x1b\\x1a\\x08yB\\x16,7:\\x01GS\\x01I\\x00\\x176I\\x05T\\x04\\x08\\x00\\x00\\x10O\\x06', b'NT\\x00O\\x1aI\\x00R\\x1a\\x19AE^7\\x075R\\x06\\x16TI\\x00\\x1c1*M\\x1a\\x00\\r\\x00PoC\\x17\\x1a\\rR\\x02\\x0eN\\r\\x1e?\\x1a-\\x19\\x14\\x1c\\x19\\n\\x07\\x00-\\x00\\x14\\x1a\\tEOD\\x06Od\\x1cAR\\x1a\\x00D\\t\\x17>\\x1d0\\x10\\x06', b\"<\\x1c7\\x1f\\x13y\\x0e\\nO\\x01bWM\\\\H\\x16TNE\\x07'\\rAR'\\n*E\\x13+\\x11\\rRK\\x03\\x18\\x08\\x06\\x07eY\\x18\\x1aOEE\\x00\\x0b\\x0eN\\x08\\x05\\x07\\x08N*\\x10\\x11x\\x1b;\\x05mT\\x15\\x0f\\n\\x1ab\\x00MO\\x1c\\x00OT\", b'\\x1a\\r\\x16YI3\\x16\\x01\\x05\\x125\\x07\\x1dF\\x0b\\x170T;\\x17GS\\x13cH\\x0fH*\\x03N\\x1a\\nN\\x00\\n\\x0eN\\x02\\x13RN\\x0cAE\\x06x\\x1ct\\x06m\\x07TE\\x0e\\x1d\\x11S\\x0cI\\x0b\\x08Ay\\x17\\x01\\x1bI\\x04\\x10\\x17\\x06NE\\x00!T', b'iE\\x06x\\x1a5\\\\\\t\\x16\\x07\\x06\\x03\\x06bOM[\\t\\x0bACo\\x00=\\x04\\x0f;:\\x0eY\\x03\\x077\\r;R\\x15\\x16\\x18\\x08\\x1bN.T\\x05[\\x01\\x08IyE\\x03N\\x1aA\\x1d\\x0b\\x05T\\x11\\x176\\x1b1\\x16\\t\\x11T\\x06\\x00\\x00)*M\\x1a\\x0e', b\"eM\\x0c~O\\x0b\\x00T\\x11\\nO\\x05\\x04UNcT\\x0b\\x17<\\x15e\\x1d\\x12STN\\x07N.EJ\\x1a\\x07\\x0biHEO\\x00\\x01k\\x1d\\x06\\x0c\\x00\\x11\\x1b;\\x1b^\\x17@\\x07\\x13IO\\x02'OMT\\x1dE\\x00K\\n\\r\\x01\\x1cM\\x0b>\\x07c\\x10\", b'\\x1f\\x07\\x1ajE\\x1bR\\x06tUGS\\x1a\\n\\x0b:bYM\\x1a\\x06HDP\\x04\\x1b\\x03\\x0ck\\x17\\r\\x05G\\x10S;\\x1d5\\x01\\x03\\x169\\x07\\x06N\\x05T\\x03\\x16\\x1d<N\\x19I\\n\\n\\x1dA\\x02\\x1c\\x1cAE\\x16+\\r-\\x1d\\x00STI\\x03\\x01-N', b'I\\x04\\x17bH\\x010\\x07\\x0cS*\\x07O\\x0f\\x00\\t\\x1bN\\x10SE@x\\x11:\\x13G\\x016I\\x1b\\x02+\\x00M_\\x06ET\\x00E\\x00\\t\\x1a7\\x17\\x07\\x0c\\x00E\\x1d<Dt\\x06\\x08\\x1b\\x19IC\\x1ebT\\x08SHEYI\\x01,\\x03\\x08\\x16\\x1f\\x05', b'\\x1c\\x0cA6\\x0f\\x05i\\t\\x06x~1x\\x12\\x00\\x11\\x1a\\x04\\x0f-F@V\\x1aEKL\\x00\\x1adIA\\x00\\x1e*\\x00\\n\\x057\\r2\\x04GS=\\x1b\\x01B\\x0bT\\x18\\x1aH<TN\\x00\\n\\x0cIA\\x10\\x06\\x08N\\x08\\x15t\\x11=\\x1d\\x12\\nT\\x0c\\x16', b'\\x0eS\\x1d\\x0c\\x1d\\x0feSMN;EwS\\x16ON\\x00FR\\x1bZU\\x06\\x17=\\x1ds\\x06(y\\x13\\x05\\x1d\\x01;\\x00\\x04J\\x07\\x17I*\\r?\\x03NAU\\x1cIM\\x0c=1StR\\x06:\\x17\\x08\\x00\\n%U\\x02\\x1aH\\x00MSEeNI', b'N\\x12\\x01\\x1d\\rF\\x1fN\\x0fO\\x08x0\\x11=\\x15\\x08\\x17T\\x05\\x01N!A\\x0b\\x1a\\x03\\x16\\x00V\\'\\n\\x1d\\x06\\x0c\\x17d\\x07\\x00\\x10\\x17651R\\x06S=\\x04\\x0e\\x03\\'SLT\\x1c\\tdC\\x06\\x03\\x1a\\x1cAR\\x1dIG\\x04\\\\=\\x1d \"\\x08\\x1e', b'\\x13<R\\x0fS\\x07I\\x02\\x02bO,CH\\x0bIKE\\x18\\x0b\\x028\\x19\\x02\\x0fA\\x00R!\\x11!\\x06G\\x11\\x11\\x19&\\x01!\\x00\\x0c\\x1d\\x04\\x17PN\\x02HN\\x19\\x08RNI\\x07E\\x0b9\\x1f1\\x1d\\x13\\x14\\x03\\x1d\\x06d-NM\\x1a\\x0b\\rLN\\x10', b\"\\x01\\x0cTA\\x04O\\x02\\x10\\x0e\\x06\\x01\\x07\\x00,U*T:\\x13\\x13S\\x1bE\\x0e\\x0bb\\x00\\x03U\\x1a\\x11\\x00*\\x04OB\\x07A\\x00\\x1e\\x02\\x00\\t\\x177T&\\x1f\\x0f\\x03\\x13\\x10\\x02\\x0fbB\\x1f^HISL\\r\\x1d\\x06\\n\\x11R\\ncOE\\x139X'\", b\"\\x0b\\x1e0\\r:\\x1d\\x02S\\x03\\x01\\x1b\\n;\\x00MVbBN\\x00\\x0cON\\x0f\\x02\\x14=\\x06UER6'6\\x1dG\\x07~\\x10\\n\\x1d#\\x00MI&\\n\\x00A\\x00\\x07\\x01\\x10\\x0f\\x1a\\x0b\\x00\\x00\\x04R=\\x11 \\x1d\\x0eS\\x18\\x1eOd,W\\x19CH\\x0c\", b'\\x07\\x08_H\\x01NT\\x08C\\x0b\\x01A\\x1d\\r\\x08I$R6\\x00 _.\\x01\\x00\\x05\\x0eNeA\\x03U\\x07\\tNY\\n<\\x07\\x06A\\x1c\\x1a\\x1aS\\x04\\x072\\x1a0\\x06\\x12S\\x10\\x06O\\rHN\\t\\x1aHENS6\\x0e\\x06\\x191^\\x06I\\x00&\\x11', b\"NI\\x00\\x06Rx\\x00;RGS\\x1d\\x1c\\x00\\x02'N\\x1d[\\x00E\\r\\x00\\x04O\\x17\\x04\\x05\\x1e\\x00\\x06W\\n\\x0bx\\x11,\\x1d\\t\\x03\\x15\\r\\x07\\x01'Z\\x03O\\x0fE\\x00R\\x1cO\\x1a\\x04\\x12+\\n\\x06A\\x08\\x06?T5\\x0b\\x0e\\x1f\\x18I\\x06\\x086OM\", b'\\x1b\\x1a U\\x19N\\x01\\x10LSB\\tN\\x07\\r\\x01\\n\\x05\\x00\\x00\\x07x\\x183\\x13G\\x00\\x11\\x05\\x0b\\x1a*NM[\\x18\\x0c\\x00\\x07\\t\\x1dN\\x1b\\x0f\\\\\\x07\\rS\\x0c\\x1f0T1;K\\x12T\\x06ON,E\\x05\\x1a\\x1b\\x1c\\x00T\\x04\\x0e\\x02\\x1d\\x14\\x1a\\x03c', b'\\x01\\t\\x13\\x1a\\x01H\\x0b\\x06=\\x1d7R\\x14\\x07\\x1bIO\\x0f.\\x00\\x1dq\\x01\\x0cNG\\n\\x01NIA\\x17N\\x0cNI\\x11(T1\\x17\\x00\\x1c\\x13ION6N\\x08[\\r\\x04\\x00\\x00\\x01\\r\\x1b\\x0c\\x15\\x16N\\x08*\\n^,\\x11-\\x0b\\x02\\x16\\x1a\\x08\\n', b\"\\x16\\x11\\n\\x1b\\x0b'\\x07\\x05N\\x0c\\x04YT\\x17\\x18\\x1d \\x18\\x1b\\x0cIN\\x0e\\x1e<\\x1d:\\x0b\\x0c\\x1c\\x1d\\x1bB\\x0f&\\x00\\x0cObE\\x00R\\x10OdckRIIV\\x04\\x00;\\x07t\\x17@\\x1d\\x1cIB\\x1a\\x11NMRHE\\x00TE\\x04\\x1aI\", b\"EO\\x05\\x00ARNI\\x00\\x00\\x077\\x15;\\x17\\x06ST\\x1a\\n\\x0f-E\\x04\\x1a\\x1aEIE\\x13\\t\\x0bD\\x15R'\\x1dN3\\x132\\x1b3xm  \\x0eO\\x01'RC[\\x07\\x04LR\\x01\\n\\nDA\\x1d\\t\\x0eA\\x07\\x06,T6\\x0bG\\x1c\", b'6\\x14G\\x1d\\x13\\x04\\x02\\x0f/\\x00\\x1eO\\x1a\\tD\\x00\\x06e\\x1a\\x08\\x0f\\x11N\\x1aT\\t_6\\x111RKST\\x1aH\\x07)A\\x1fU\\x07\\rns\\x11\\x07\\x0b\\x1d\\x0fRNINI\\x1c7\\x11!R\\x08S=IO\\x016O\\x05R\\x05\\n\\x00F\\x0b', b'\\x00LOB\\x06\\x07\\x10\\x0f\\x0b\\x17\\x0c\\x00\\x0cRx\\r5x\\x02\\x07\\x10\\x02\\x02\\x1a*\\x00@\\x1d\\x18\\x17Y\\x00*e\\x0f\\x04\\x0f\\x01\\x00\\x0cC\\x13R7\\x005\\x17\\x13\\x1a\\x17\\x00edb\\x00\\tTH\\x17DN$O\\rcAR\\x17\\x08A\\x00\\x0b5\\x01x', b'\\x1e!\\x12t\\x00\\x0cS\\x10I\\nN&N\\x190H\\x0bsNEON\\x10\\x08\\x13\\x0fI\\x0cE^7\\x1a<!\\x1eS\\x13I\\x06N)I\\x19M\\r\\x17RT\\x02\\n\\x1aNk\\x06\\x1dIG\\x15\\x179S:\\x05\\x08y\\x03\\x0fC\\x1a6\\x00MO\\x06E', b'\\x01\\x1aH\\x04LE\\x01O\\r\\x05\\x15\\x1dI\\x01i\\x11R,T$\\x1f\\x08S\\x17\\x1d\\x01=bTMO\\x07EP\\x00\\x06O\\x1d\\x05\\x03\\x1b\\x00\\x01\\x00\\x15\\x06=\\x1d<RGK-\\x0c\\x00\\nbIMT\\x1c\\x1cAM6\\x07\\x1bIAR\\x06\\x10S\\x0e1', b'IG\\x08\\x1e1X&;\\x08\\x1f\\x1c\\x07O\\x0beH\\t[\\x1c\\tAN\\x17\\nN\\r\\x00+\\x1c\\x19\\x07E\\x1f9\\x1d;\\x01\\x13\\x1f\\x01\\x07H\\x0b;P\\x01\\x1d\\x06\\x11A*\\\\\\x00\\x02I\\x0e\\x06\\x1acCE\\x06+\\x115\\x1b\\t\\x14\\x12\\x0f\\n\\x01+Y\\x02', b'd+E\\x01_H\\x10\\x00N\\x0c\\x0eI\\x08A\\x1f\\x0b\\x08G\\n\\x133T<\\n\\x1eS\\x19\\x06\\x16\\x1c0P\\x14]\\x1c\\x08OO\\x04\\x16IIA\\x1d\\x07\\x0cSBR6\\'t\\x07\\x0b:\\x1a\\x06\\x0c\"\\'B\\x04\\x1aH\\x1cTK\\n\\x1a\\x1b\\x08\\x14\\x11N\\x04', b\" \\x00NIS\\x08\\x15:\\x17:\\x06\\x13\\x07\\x07I\\x16\\x00'\\x00\\x14_\\x1b\\x1cPO\\x08\\x1c\\x1b\\x00\\x00\\x17\\x02IHD\\x1bx\\x04t\\x1bG\\x07\\x13\\x1c\\x01\\nb\\x00\\x01^\\x07\\x0c\\x07\\x00EHN\\x01\\x04R\\x0b\\x04W\\nR=\\rt\\x1c\\t\\x01TI\\x02\\x0b\", b\"T\\x05e\\x1abAM_\\rB\\x07\\x00E\\x1b\\x07I\\x02RdI\\x00\\n\\x1f1\\x015\\x1dG\\x1d\\x17I\\x0e)'\\x00\\x03CH,NL\\x17\\x07INA\\x1c\\n\\x00\\x00E\\x1c*\\x1d7\\x06.\\x1a\\x00\\x1dO\\x0b'N@\\x1aHoKKE\\x1c/\\x1cA\", b'\\x1d\\x1d>\\t\\x15\\x00\\x02G\\x15^+\\x139\\x13\\t\\x1f\\x11[&\\x1a+M\\x08[H\\x0eNCB\\x1b\\x0f\\n\\x0e\\x06dNO\\x11\\x11\\x7f\\x1d-\\x17\\x15S\\x16\\x06\\x00\\x05\\x0bSM_\\x1c\\x04\\x00c\\x0bO\\x01\\x1aM\\x13BDB\\x08>!\\r^\\x13G\\x00\\x1b'], 13: [b\"\\x1di\\x01CM\\x11\\x11\\x1a\\x05Eb\\x1d\\x7f\\x0f\\x06\\x0b\\x0f\\x0c\\x1d\\x1f\\x010\\x02;\\x10\\x0eNM\\x01:A\\x01\\x07W\\x1d\\x13\\x1dN\\x00b\\x07=N\\x18\\x11:\\x06R\\x1b\\x06N\\x04x\\x00FN\\x0b\\x05$*\\x02AG\\x1bT\\x06N\\x1c1\\x011'OH\\x0fG\\x17;\\nN\\x07\\x0bEkEMI1MIYE\\x13\\x1a\\x1d\\x1dE \\x119\\x0fO\\x1c\\x07G\\x1bR\\nC\\x06\\x1d\\x11\\x13\\x07\\x08\\x081*\\x01\\x00\\x009\\x1bI\\t\\r%S7\\x14?\\r\\n\\x06\\x06\\x13\\x02\\x1dH\\x1fB\\x00A\\x01\\n0\\x00\\x08\\x00STT\\x04N\\x045\\x07;7\\n\\x07\\x03\\x08\\x1c\\x13\\x00T\\x1aR\\x15\\x15CM\\n1C\\x06SB\\x01\\x11\\x04dE'T?B\\x01\\x1bN\\t^\\x0b\\nR\\x06\\x1d\\x07\\x05I\\x05\\x00=A\\nM\\x00\\x1c\\x1d\\x10\\x0f\\r+\\x1c9NOH\\x0b\\x06\\x11\", b\"Be\\x163\\x07O\\x04\\x17G\\x066BI\\x1d\\x00\\x17FE\\x19I&i\\x10\\x00S\\x03\\x17\\x19\\x0bBbS+\\x07\\t\\x01\\x06\\x14RU\\x17\\x1a\\x0b\\x17E\\t\\x00\\x00\\x1a5E\\x00sATTI\\x0b\\t\\x11S3\\x01O\\x1b\\x1c.\\x1fR\\x04[H\\x13\\x06\\x0fGMN:O\\x0cIT6\\x11\\x0ed\\x17#y7\\x1c\\n\\x07\\x07G\\x1f\\x1d\\x04]O\\x1dD\\rY\\x03\\x08,O\\x02\\x00R\\x18TI\\x00Ee\\x162-\\x00\\x07\\x1aGR\\x00\\rM\\nR\\x15AN\\x01\\x1a&SI\\x00\\x00\\x19\\x1a\\x00NE\\x0b\\x070\\x1a\\x03\\r\\x17@\\x00\\x17I[\\x00\\x06I\\x04N\\t\\rtGIdIX\\x1fc\\x06I'S=\\x0bOH\\x0bm\\x06\\x13\\x17\\x1aO\\x16\\n1KME-A\\nYO\\x1b\\x11\\x08\\r\\x006S=\\x06\\x0e\\x0b\\x01\\x1e\\x13\\x11\\x10C\\x02\\x10&ATM\", b'\\x1f\\x1fES\\x04\\x14\\tAO\\x05\\x0ct\\x00\\rLA\\x07XI\\x02\\x106S:\\x1aC\\r\\x01G^5B\\x1a\\x03R\\x13\\x04Tg\\n;*\\x00DO\\x11\\r\\x0cN\\x0b0\\x17,N\\x18\\x1c\\x03\\x13\\x13\\x1d\\x0c_\\x00_\\nA\\x00\\x08c3L\\x04NAT\\x1d\\x01\\x03Eb\\x016\\x1c\\x1a\\x18\\x0b(^\\x19\\'OA\\x06E\\x0c*\\x14\\r6H\\x1aN\\x00\\x18\\x11NN\\x0c7\\x16(\\x17Ob\\x07\\x03\\x131EU\\x1d\\x04\\x13\\x0e*\\x19\\x061\\x00\\rPP\\x18T\\x0c\\x0b\\nb\\x1c2\\n\\x0e\\x0f\\x05m\\x1fRE[\\n\\x17\\x04A\\x19C\\x08tN\\x1cT\\x00\\x18SIN\\tb\\x109\\x1aOH\"GRR\\x06\\x1aO\\x05\\x08My\\x05\\x021*\\x0c\\x00N\\x18\\r\\x0eNE6St\\x17\\x18H\\x1aG\\\\R&\\x1a\\n\\x06E\\x14\\x00\\x19I0\\x00\\x1cOO\\x1bTc', b'MI6N\\x0cL\\x00\\x1d\\x12\\x08\\x1d\\x04HS1\\x14OH\\x02\\x02\\x15R\\x08_OR\\x15\\x12SM\\x067T\\x05YE\\x1a\\x15:\\x0f\\t\\x16\\x00x\\x19OHN\\x08RRE[\\x1b\\x13\\n\\x18\\x00\\x14I \\x00\\r\\rM\\x13\\x18\\x1a=\\x0c+S<\\x00\\x1b\\x1a\\x0bG_6\\x00\\x1d\\x16\\x06E\\x15VM\\x0c!\\x07I\\x00P\\x11\\'I\\x17\\t\\'\\x03xd\\x0e\\x18N\\x15\\x11REO\\x06\\x013\\x12\\x00\\x1f\\x082C\\x08IIT5\\x01\\x01\\x17;S7\\x07\\x06&\\n\\x14\\x07\\x1c\\x0bO\\x00\\x06\\x0c\\x04y\\x08\\x1d^V\\x19NR\\x00DI\\x05<b\\x011\\x1d\\x03\\x1c\\nm\\x0b\\x06\\x04^\\x0c\\x01\\x04\\x04D\\t\\x1d;A\\x1aAET\\x1b\\x08BE\\x11\\x05+\\t\\x0eH\\x01\\x00\\x15R\"\\x1aC\\x1c\\x04ATM\\x0f;O\\x08\\x00WT\\x1dI/\\x006\\x00!\\x03\\x01\\x0e', b\"\\x0b\\x1c\\x00eS!d\\x01H\\x1a\\x0f\\x1e:\\x04_\\x16\\x1d\\x08\\x00TM\\n;G\\x05LT\\x07\\x1d.O\\x04*S7NO\\x1a\\x01\\x12R\\x1a\\x160\\x01\\x15\\x11\\x00K\\t\\x1d:G\\x01N\\x00T\\x00I'E+Sx\\x0b\\x00\\x01N\\x12\\x1e\\x16\\x04\\x1aO\\x13\\t\\x13L@\\x0cs\\x0cI\\x00TT\\x11\\x19\\x1d\\x110y6\\x02C\\x07)K\\x0b\\x06\\n[eRI\\tH\\x0c\\x1a5N\\x07TAT\\r\\x0c\\x1b\\x17)\\t6\\x00\\x1c\\x04\\x0b\\x11\\x17\\x1d\\x07I\\x01\\x19\\x04A\\x00\\x03\\x06tS\\x1eINT\\x1bI\\x06<'S<N\\x06Hd\\x02=\\x06ET\\x00RE\\x0e\\x07\\x1f\\x06:\\x00\\x01ON\\x00\\x1b\\x06\\x01\\x08,\\x026N\\x0e\\x1d\\x1aG\\x16\\x1d\\x00SO\\x0b\\x08AO\\x02\\x0f;GI\\x00N\\x12\\x1dc\\x1b\\x08,\\x01>\\x06\\x1c\\x1c\\x08G\\x00\\x1a\\x0c\\x1a\\nR\\x10\", b\"\\x0f\\x0e\\x1eR\\x12\\x1a&R\\x08FA\\x01\\x00:SINA\\x0e\\x00\\x02\\x01\\x10+\\x16=\\x1d\\n\\x0c\\x01G\\x07\\x17\\x07O\\x0ex\\x0cAS\\x19\\x0c=iIIH\\x1aT\\x08\\x06B'\\x166d\\x07\\x00\\x1aG\\x07\\x06oqO\\x1d\\x0e\\x00P\\x04\\x06:T\\x0bK\\x00T\\x1dI\\x02\\x16b\\x07!\\x1c\\x02\\x1a\\x1cGR\\x17oU\\x0eR\\n\\x0e\\x00M\\x1d;N?i\\x00\\x15\\x1d\\x1d\\x1aE)\\x147\\x00\\x1c\\x07N\\x14\\x17\\x1b\\x1c\\x1dH\\x1b\\tAIM\\x1c-SNEZ\\x16\\x1c\\rN\\x086\\x1d;I\\x0e\\x1d\\x01\\x08\\x1dR\\x01\\x1ae\\x1f\\x0ckNL\\x0c6\\x07IIB\\x1a7\\x00NEH\\x1ax\\nO\\x0bNG\\x17\\x16\\x10TB\\x1cEAb\\x08I&Nc\\x00U\\x03TI\\x1bE-\\x149\\n\\x1a\\x04d\\t\\x17^EO\\x06\\x13E\\x14LM\\x087cI*N\", b\"\\x02N\\x01\\x06<G\\x07TE\\x07\\rI\\x1a\\x01byx\\x00\\x16\\x01\\x07\\t\\x06\\x1c\\x11NOU\\x00A*\\x1eI1\\x00IwN\\x13\\x11\\x01\\x1c\\x0be\\x03*\\x0b\\x0bb\\x00\\x06RRE[&\\x17\\x00\\tC\\x1dIeN\\x1eDE\\x00\\x11\\x1a\\rE*\\x16=\\x0f\\x18\\x03=\\x0eR+\\nU\\x16\\x0bE\\x00P\\x03I\\rW\\nNN\\x10\\r\\x0c\\x07\\x0b&:;'\\x1d\\x06\\x07\\x06\\x05\\x01EJ\\x06\\x17\\x10\\x03E\\x0c\\x07t\\x00IN\\x00\\x13\\x1a\\x1aIE'Sx\\x07\\x16\\x01N\\x13\\x1bRE\\x16ORE\\x0fU\\x18\\x00;MNES-\\x1dI\\x02\\nb:,\\x0bH\\t\\r.\\x11+\\x0bIO\\x06\\x11\\x15CMI5ADYT=\\x1b\\x08\\r\\x1c%y,\\x1d\\x07\\x1fd\\t\\x05R\\nTO\\x1c\\t1KMI^N\\x1dY*\\x1a\\x1d\\x07\\x1aI-\\x1c\\x08\\x05\", b'\\x1f\\x13I\\x00\\x0c+S0NOH\\x1a\\x13R\\x153NO\\\\\\x0b\\x02T\\x05It\\x00\\x0eS\\x00\"~\\x0c\\x19E&\\x170I\\nH\\x0b\\x02U\\x1f\\rV\\x16R$\\x02N\\x1d[;\\x00\\x1dA\\x00\\x06\\x15I\\x1dH-\\x1cxN\\x1d\\x1a\\x1a\\x0e\\x17\\x13\\x11\\x1a\\x01\\x17\\x00\\x00L\\x03\\x06tU\\x00\\x00A\\x17\\x11\\x06\\x0f\\n*\\x167NC\\x07\\x0fGSR5_H\\x16\\n\\x0fG\\x04I5\\x00\\x05L\\x00\\x01T\\x02I\"#\\x07?\\x1a\\x07O\\x01\\x15\\x06\\\\\\x16[OR\\x11kR\\x03\\x0e^\\x00\\x1dFT\\x17\\x13I\\x1a\\x12\\'KyN\\x00\\x06\\x0f\\x0b\\x16\\x1aE\\x1aO\\x06\\x10\\x12c\\x0c\\x06sT\\x0cHO\\x1c\\x01\\x1c\\n\\x17bS/\\x06O\\x11\\n\\x08\\x10R6R\\x06\\x1b\\r\\x11K\\x05\\x1etD\\x19K\\x00\\x18\\r\\x06\\x025)\\x16x>\\x04\\x1c\\x01GR\\x1f\\x0bV\\x16', b\"O\\x01dG\\x1e\\x00\\x00_e\\x1f\\x06\\tI\\x19\\x065H \\x00\\x07\\x1f\\x06Id\\x0c/\\x1cx\\x17\\x0e;N\\x06x\\x1d\\x04CO\\x06,A\\x07MI5IITN\\x11T\\x05N\\x0b.T<\\x0c\\x00\\x06\\x0f\\x08@\\x11\\nV\\x02\\x1d\\x06\\x08O\\x0b\\x1dtA\\rT\\x00\\x19\\x15\\x06\\x1b\\re\\x1d+\\x00\\x1b\\x1a\\x1aG\\x07\\x17I\\x1aBR\\x10\\x15WM\\x1az\\x00\\x04\\x00\\x00\\x13\\x13\\x07\\x1d\\x0b!\\x1f4\\x1e\\x16\\x1f\\x1dG\\x1e\\x1c\\x17\\x1a\\x07\\x17E\\x0fE\\x05I;\\x00cTT \\x1d\\x0c\\x0b6\\x0b\\x1a9\\x1c\\n\\x00\\x03G\\x1cR\\\\\\x1a\\x02\\x07B\\x0f\\x00\\x14\\x067*\\x04\\x00ST1\\x05\\x1bE'\\x1d=\\x1c\\n\\x1a\\x1e\\x08\\x17\\x10$R\\x00\\x05IAM\\x02\\x1d5A\\nTI\\x18\\r\\x00\\x06ob\\x1f!\\x17\\x0eH\\x00\\x02\\x1e\\x0bES\\x03\\x0b\\x11\\x16F\\x1a\\x0cxAI\", b\"\\x13\\x0b T\\x08\\x057\\x00>YU\\x11\\x1a\\x01\\x07\\x0b'TRNO\\x07\\x0f3\\x06\\x0bEN\\n\\x1c\\x08\\x15Y,\\x079\\x00\\x08\\x00\\x00\\x07\\x07\\x08\\x07\\x16'\\x1f0\\nO\\t\\x0fJ\\x17\\x1b\\x16\\x1a\\n\\x07E\\x0fU@\\x020U\\x10CA\\x17\\x01\\x0fNobSv=\\x1c\\x00NG\\x13\\x1eBN\\x0b\\x1b\\x03ALJ\\x1btGDH\\x00T\\x1d*\\x0fE;S4dO\\r\\x01\\x13\\x16\\x00\\x04S\\n\\x1b\\rAL\\x18\\r-A\\x1bTT\\x13T\\x0cdE\\x05 0\\x07\\x07\\x18B\\x13\\x02U\\x02T\\x0eR\\x11\\x08*M\\x10ty\\x10\\x07\\x00\\x10\\x1dN\\x1a\\x04\\x11\\x12:\\x0b\\rD\\x02@\\x13\\x02\\x01\\x1aCR\\x00ANM\\x08:E\\x1cA\\x00\\x03\\x11\\r\\x06\\x1c6S=\\x1a\\x0eH\\x1a\\x0e>\\x10\\x04\\x1a\\x00\\x0b\\x08MT\\x0cI6T\\x08\\x00LT\\x01\\x01NE;\\x1e\", b\"N\\x07T\\x1cI\\x1d\\x16 \\x16x\\x1a\\x02O\\x0b\\t\\x1bR\\x080\\x02\\x1b\\t\\x0fOMI^O\\x05IO\\x1cT\\x07I\\x0b;\\x077\\r\\x1bH\\x02\\t\\x17\\x01\\n[O\\x10\\x0b\\x18\\rM\\x1atS\\x08GF\\x10\\x1aZNE!S1\\x02\\n\\x1b\\x0b\\x1e;\\x14\\x08\\x1a\\x0e\\x1dE\\x05C\\x03\\x05tYICE\\x1d\\x1b\\x05\\x0b\\x0b+S7\\x1ee\\x1c\\x01\\x1e$\\x17\\x06S&\\x01\\x17AOM\\x10tN\\x06NY\\x15\\x1d\\x0cN\\x0c.\\x1c,\\x06O\\tNm\\x1a\\x17\\x11_\\x01\\x17\\x15AT\\x0c\\x04<A\\x19A\\x00\\x13'\\x08\\x01\\x0c-S*\\x08O\\x1c\\x1dK\\x1c\\x1d\\x01_O\\x17EARMI!WID\\x00\\x17Sc\\x1a\\x1c0\\x14+\\x17\\x1dH\\x17\\x0eRR6\\x1a\\n\\x0b\\x08\\x04T\\x0c\\x06-M\\x1c\\x00UTT\\x10\\x03\\nn\\n5\\x0be\\x06\\x07\\x081R\\x10\", b'<N\\x1d\\r\\x1aG\\x06\\x13\\t~\\x1bREA\\x07\\x01\\x04ti\\x10NS\\x10T\\x0f\\r(b\\x1f4\\x01\\x0e!\\n\\x13^\\x1dE\\\\\\x00\\x13\\x0b\\r\\x00MI\"T EYTT\\x10\\x1a\\n-\\x070\\x1bO\\x0cN\\x08x\\x19\\x17U\\x0e\\nE\\x02OM\\x055*\\x04N*\\x11\\x15\\x0eN\\x11.\\x1c=\\r\\t\\t\\x02K\\x1d\\x00*W\\x1d!\\r\\x0c\\x00\\x0c\\x19;K\\x07O\\x00~\\x04\\x0e\\x07,e\\x03\\x7fN\\x1d\\x03N\\x00\\x1c\\x1d\\x10U\\x06x\\x087s\\x0c\\x1b5\\x00NRI=\\x1d\\x1bN\\x116\\x036\\x1a\\x07\\x07\\x00\\x12\\x1c\\x07\\x1c_\\x0e;EA\\x00MIt\\x00\\x1dLy\\x19\\x11\\x0f\\x0c\\x17+:9d\\x03\\x1c7\\x13\\x06\\x17\\r\\x1a\\x00\\x1d\\nAS@\\x0f5BI\\x00UT\\x11\\x10\\x01E7S,\\x1d,\\x05N\\x12\\x0bREOO\"\\x0e\\x15N\\x02\\x1d\\'', b\"\\x1a\\x1b\\x1dE\\tY\\x0c\\n8j\\x00zH\\x13T\\x05\\x07\\x0beSxNO\\x02\\x02\\x08\\x0b\\x06\\x0cV\\x1b\\x06EA\\x00M\\x1c9F\\x07GO\\x1b\\x19c\\x1d\\x00bS,Ne1\\x0f\\x02\\x14RE\\x1a\\x01\\x1fE8N+E<U\\x0fP*\\x00\\x01\\n\\x17\\x0eH\\x00x:\\x01\\x06N\\x0c\\x1d\\x17\\x13\\x1a\\x1bR\\x03A\\x00M\\x05<E\\x06P\\x00\\x11\\x1d\\x07B\\x08'\\x07x\\x02<H\\x07\\t\\x11R\\t\\x1a\\x1b\\x17\\x00kR\\n\\x073\\x00\\x1anA=\\x00\\x1b\\x03\\x17 S=\\x00H\\x06\\x05\\x0fR\\x1b\\x00^\\x07\\x06E\\x05RME1\\x00\\x1a\\x00*\\x13\\x07\\x1a\\n\\x041\\x1b7\\x01\\nH\\x07\\x06\\x17\\x06\\x06T<\\x1dE\\x0eL\\x04I W\\x1cNN\\x15TD\\x1b\\x1c-\\x11,\\x1d\\rHN\\x00\\x06\\x01\\x01R\\x06\\x1d\\x00\\x15SM\\x1a S\\x05LY\\x11X\\x04\\x06\\x0c\"], 9: [b\"\\x1d\\x13\\x0e\\x16T\\x06\\x04\\x1a+\\x00\\x0c_HEYAB\\x02\\x1a\\rA\\x15\\x14\\x05H\\x08\\x1dR\\x00&\\x1b\\tS\\x10IO\\x02/TMN\\x0cBI*B\\x0e\\x19\\x05A\\x1dN\\x1d\\x00\\x0cR7\\x11;\\x13\\x02\\x00\\x1bI\\x01:'H\\x00[b\\x0bENEeN\\x01F\\x1bdIS\\x00\\x130\\x15 \\x1f\\x08S\\x1b\\x02O\\x1c!E\\x08U\\x1a\\x0cPO\\x04ON\\x0b\\x0f\\x14\\x0f\\x01*\\x00_x\\x15s\\x0bG\\x076\\x05\\x16\\x0b.AM\\x1a\\x1a\\x11YLo\\n\\x0b\\n\\x0c\\x00NIE\\x10\\x0b9\\x1d;\\x1d\\x1e:\\x18\\x19HN'\\x00\\x0cC\\rE\\x00OEO\\x07\\x05\\x12R\\x1e\\x0c*\\r\\x172\\x1dt\\x04\\x00\\x07T\\x07\\x07\\x0b%TMM\\tEPs\\x16\\x06\\x03cA\\x13\\x07\\rS\\x15\\x1b2\\x1d^\\x06\\x0f\\x1aT\\n\\x0e\\x01\\x0b\\x00\\x18[\\x07\\x12NR\\\\\\x06N\\x10k\\x17\\x08INE\\x161\\x077R\\x08\\x12\\x1a\\rO\\rby\\x0c^HEOC\\x01O\\x06I\\x15Rd\\x1cAE\\x176\\x11:\\x1cm\\x14=\\x02\\x00\\n\\x11N\\x02S\\x1b\\x1c\\x00K6\\x07NI\\x11R\\x1d\\x00G\\x07>9\\x11-\\x1cGS\\x18\\x0f\\x06\\x00,\\x00\\x0cO\\x0b\\nY\\x00E\\x04/\\x05\\x16\\x1aN\\x01c&1\\x08T'\", b'BNNE\\x1d\\x00\\x0c\\t\\x00d\\x1a\\x00\\x08\\x06x\\rtR\\x13S\\x13\\x06\\x16\\x0f\\'A\\x190\\x01\\x10NT\\x08Od\\x05\\x0e\\x0b\\x1d\\x19O\\x00^4~7\\x06\\x06S\\x1d\\x07\\x0e\\x06;Ng\\\\H\\tG\\x07\\x16\\x18\\x07I\\t\\x01\\x0b\\x0cT$R,T:xJ\\x16T\\x1a&\\x03-\\x00\\x14\\x1a\\x06EAUoON\\x1eA\\x19N\\x1aU\\x06\\x1e1\\x01:\\x13\\x1e\\x16T\\x05\\x01\\x0bH\\x00@N\\x00\\x16IC\\n\\x1aN\\x00\\x15\\x17\\x00\\x19M\\x03R7\\x1b\\r\\x06K\\x16\\x11\\x05B) \\x00M]\\x1c\\x0bN\\x005\\x0eB\\x04\\tRd\\x1dO\\x17\\x05(\\x045\\x01\\t\\x1fT\\x08\\nNeY\\x0cU\\x03\"IR\\x17\\x1c\\t\\x1bA\\x00\\x06\\x1a\\x00\\x08\\x067\\x00;\\x19\\x06 \\x16\\x1a\\x01NbI\\x03O\\x066IA\\x02\\x0eN\\x19\\x0fR\\x1aIVE\\x1c<Tt\\x1f@S-\\x08\\x0e\\x0fb*\\x14T\\x07\\x04IN\\x01HN\\x1d\\x12\\x06\\x01\\x05\\x00\\x15\\x13x\\x1f!\\x06G:\\x1c\\x1d<\\x1e,BMTH\\x1cYy\\rOB\\x1cA\\x1dB\\rN\\nR,\\r5\\x1b\\x00\\x11\\x18\\x0f\\x06\\x1a-O\\x0cTHEKT\\x01\\x0e\\x1b\\nM^\\x06\\x10NE\\x0bx\\x1d \\x0bG\\x1cT\\x08\\x02\\x07-O\\x02V\\x0e\\x0c', b\"\\x1f<\\x136\\x1dGS\\x11\\x05&\\x17 E\\x05~H\\x04zI\\x04\\x06\\x07IFR\\x00Ii\\x0b\\x15x\\x06;;3\\x16\\x03IO\\x01b\\x00MV;\\x04\\x07Y\\x07\\tII\\x04\\x1dI:F,R=\\x07=\\x17\\t\\x03\\x11I\\x16NbN\\tN\\tBs\\rE\\x18\\x1a\\x1d\\x18R\\x0cI*E\\x073\\x1ae_\\x08\\x1c\\x13E\\x02N1A\\x04[\\x1bENO\\x11\\x1b\\x17\\r\\x13;=IOER6\\x15t\\x06\\x0c\\x1dTI\\x0b\\x1c#E\\x03O\\t\\n\\x00\\x00IC\\x1dD\\x0e\\x1d\\x1e\\x0cH\\rSx\\x1dzRGS\\x15\\x08&\\x077\\x00\\x04OH\\x0bT\\x07\\x04\\x1c\\x00\\x06\\x031N\\x02C\\x00\\x1e6\\x1b-\\x1bG\\x1c\\x13\\x06\\x06\\x01;A\\x05I\\rEEN\\x11\\x16\\x0bNk\\x1c\\x00\\x0cSB\\x02;\\x1a<Rm\\x03\\x17\\x1d\\x07\\x03'SM\\x1a\\r\\x0cE\\x19\\x1c\\x00\\x05\\x1a\\x0f\\x067N\\x07I\\x1c,St\\x06m\\x1bT\\x06\\x1a\\x02HIMIH\\x17HD\\x06\\n\\x01\\x06A\\x16\\x0bcA\\x08\\x06/\\x1b \\x05GT\\x03IO\\x17%N@RH\\x1cTO\\n\\x0e\\x1b\\n\\x04R\\x17\\x10D\\x04\\x06!\\x1d=\\x0b\\tSTI\\nN)WMS\\x1c\\r\\x00L\\x10e\\x1a\\x1c\\x15\\x1f\\x03\\x04A\\x10\\x11\", b'M\\x1a\\x01\\x00CT\\x12O\\x1d\\x07A\\x13N\\x08j\\x06\\x1e\\x7f\\x1a:\\x00\\ty\\x07\\x04O\\x02e\\x07M0\\x07\\x10\\x00O\\x11C\\r\\x0e\\x12\\x06\\x17.A\\x08\\x07+T1R\\x13\\x17\\x1a\\x1cO\\x01b\\x00\\x19\\x1aH\\x0bD\\x00\\rO\\x1dI\\x00\\x1b\\n\\x08E\\x0bR,T;\\x13\\x02TT\\x05\\n\\x1a\\x11F\\x1d_\\x0cH\\rN\\n\\x00N\\x10\\x00R\\x02\\x1aLE\\x17<\\x01t\\x13GSTN\\x0e=b*\\x03\\x1d\\x06\\r\\x00EB\\x02dI\\x00\\x19\\r\\x06\\x07\\x03\\x076\\x1atRGS\\x10\\r\\x1d\\x0f\\'\\x00M[\\x1cEiY\\x06\\x1dN\\x07\\x0fR\\x02\\x07N\\x11\\x167Tt\\x17\\x03\\x03\\x01\\x08\\x1b\\x1d)\\x00\\x18\\x1d\\x07\\x0cN*\\x10\\x07\\x01\\x1a\\x0f\\x1d\\x14\\x0cS\\x15\\x1axT5R\\x14S \\x06HB6\\x00\\x0c\\x16\\x0f\\x11Fy\\x00\\n\\x06\\x08\\x08R\\x1a\\x08M\\x04\\x1cyD1\\x07\\x02\\x07\\x10\\x0c\\x00\\x1db\\x00M\\x1a\\x1c\\x04\\x00\\x07\\x00\\rNIA+\\x1a\\x0fT\\x04\\x17=\\x1b1RGS\\x17IO7bE\\x04R\\x1dEAb\\x17\\x1d\\r\\x0cAR\\tDA\\x08^=T-\\x0b\\tST\\x1eCNbN\\x05\\x1a\\x04\\x00\\x00K&,\\x02\\x08\\x15\\x0b\\x06\\x10TE\\x135\\x1d0\"G\\x00\\x11\\x0c\\n\\x0b;NM', b'\\x0bi\\x0b\\x1e3\\x1c<\\x14GS\\x1d\\ne\\x1abU\\x01IO\\x01L\\x073O\\x07 \\x00\\x1fN\\x02i\\t\\x06:TtR\\x08\\x1c\\x07\\x01\\n\\x01bO\\x1e\\x1a!EY\\x00\\x04ON\\x08AU\\r\\x01*\\x0bUx\\x195\\x15\\x06\\x1f\\x1a\\x1aO\\x000Y\\x1d[1\\x0bNN\\x16\\x07\\x0b\\x08\\t\\x1d\\x1bI\\x00E@xT0\\x1d.S\\x00c\\x0e\\x1a+*\\x0b\\x1aHoKG\\x08\\x18\\x03\\x04\\x006:\\x06\\x0cE\\x13!\\x11t\\x0b(\\x1c\\x17\\x0c\\x1b\\x1a0EJU\\x07\\x0bN**C\\x17\\x06\\x15\\x06\\x0f*ND$;\\x11;\\x16\\x15\\x07\\x13\\x1a\\x06\\x01)RMJb,L\\x00\\t\\x16\\x1b\\x01A\\x1b-\\x0c\\x00\\x13\\x1c?53\\x17\\x11S\\x13\\x1c\\nN\\'P\\x0c[&\\x17T\\x00\\x02\\x07NIAR\\n\\x1b\\x00\\x0cR9\\x1b0R\\x08\\x07\\x13\\x00\\n\\x00\\'RM\\x1aH\\x04\\x07NIO\\x02\\x1cA\\x1a\\x1d\\x1a*E\\x1c:7t\\x17.\\x10\\x19\\x06\\x0c\\x07\\'NM\\x1a\\x0bIDC\\x06\\x03\\n\\x1a\\x0e\\x10N\\x04EE\\x06+\\x1b1\\x1d\\x08\\x05\\x15\\x1dON6UM\\x1a\\x1fE\\x00K\"\\r\\x06I\\x05\\x10\\n\\x08M\\t\\\\,\\r;\\x1d\\x02\\x01\\x1cI\\x06\\x01n*\\x19O\\x1c\\x00LF\\x0cONIAR\\x05c', b\"\\x0fe\\x07\\x01S\\r\\x0cLY\\x00\\x01\\x05>F6\\x1aI\\x00ER1T5\\x1d\\x0cT\\x0eI\\x02\\x076S\\x05_\\x02\\x0cLNE\\n\\x0b\\x05A5\\x01\\x0cTEx7\\x139x\\x14\\x07\\x13\\n\\x00\\x0b\\x16OM0\\x11\\x16I\\x00\\n\\x0bN \\x02RN\\x05G\\x00\\x176Tt\\x17\\x13\\x07\\x06I\\x01\\x0f+G@q\\x1bED\\x00\\x17\\x1d=\\x0f\\x08\\x16'\\x0fT\\x06;=\\x1d5\\x17G\\x00\\x19\\x0c\\x07NbT\\x03U\\x18\\x11\\x00V\\x13\\x1b\\x1dIA\\x17\\x1c\\x05WE\\x1d7'<RK\\x11T\\x1dO\\x01&\\x00\\x0c_\\x18\\x08\\x00H\\nO\\x1a\\x02A\\x01\\x17\\x0e\\x003\\x114\\r1\\x1b\\x14\\x16\\x15\\x07\\x1dN#I\\n\\x1a\\x04\\rTI\\rOI\\r7\\\\\\x07\\x1b\\x00\\x04\\x060\\x1c&\\x17\\x13\\x1c=\\x0e\\x00\\x05\\x0bN\\x01T\\x1dEAUE\\x07\\x1a\\x19\\x05RN\\x04y\\x0c\\x00*\\x1dt;\\x0b\\x01\\x13\\x06\\x00\\x03\\x11B\\t_\\t\\tLc\\x04\\n\\x1b\\x01\\x15\\x02\\ncW\\x11R9\\x01;\\x1d\\x08\\x02\\x01\\x08B\\x0b0T\\x05\\x1a\\x11ENM\\x00\\x01\\x06c1R\\x1d\\x0eB\\r\\x15,\\r;\\x1d\\x0e\\x14\\x1b\\x06O\\x1a7\\x00MRH\\x08MTE\\x0e\\x03\\x1d\\x14R>IS\\x11\\x009\\x017\\x10\\x08\\x1c\\x1b\\x1d\\x16\", b'\\x02\\x1fNINE\\x1e!\\x117RG\\x16\\x07\\x0c\\x1b\\x1aHH\\x19_\\x0b\\x0bNE\\x08\\x16\\x02\\x10\\x02RNIG\\x10\\x06=\\x17^UG\\x1f\"\\x06\\x1bN*W,O\\x01\\x0bwTE\\n\\x0f\\x07A\\x1aN\\x08iE\\x17*\\r\"R\\x08S\\x11\\x1d\\x04\\x0f\\'AM[\\x1c\\nA\\x00E\\x00\\'\\x02\\x0f\\x06\\x01ZN\\nxx\\x18<\\x1d\\x12\\x01\\x17\\x06H\\x0b*AM\\x1a\\x1a\\x0eTL\\n\\x1c\\x02\\x0c\\x05+\\x1c\\x0eUE\\x1d+\\x111\\x1bGy\\x1dIA\\x02*PM\\x1a\\x07EH\\x00\\x04e\\x07\\x1a\\x0cRd\\x07\\x00I\\x1b4\\x1d,\\x01\\x06\\x16~I\\x06\\x07!A\\x08S\\x07ENEE\\x1dI\\x08k\\x1c\\x00IA\\tR,\\x1a1x\\x15S=I\\x01\\n\\x05Z\\x01_\\x01\\nRR\\x0bH\\x0b\\x1e\\x00UI\\x00AE\\x1f6\\x13^\\x06GST\\x10e\\x17-SC_\\x06<\\x00\\x00E\\n\\x1aI\\x04\\x1d\\x0bI\\x00\\x10\\x0b71:R@\\x1aXIO\"+O\\tT\\x1a\\x08SN\\x10O\\x1aDM\\x17\\x06\\x08WI\\x16?\\x11&\\x16\\x0ey\\x18\\x0f\\x06\\x01-I\\x02RHEYT\\n\\x18\\x01\\x19A\\x01\\x17cA\\x08\\x17=T^\\x06\\x12\\x16T\\x1a\\x03\\x08+LMC\\x06ION\\x0b\\x01\\x06I', b\"\\x1fI\\x1bdeM\\x08\\x1a\\x04\\x16TO\\tO\\x1d\\x00\\t:\\x0f\\x01S\\x17\\x1bxXt\\\\\\x02S\\x1f\\n\\x02\\x0f+SMN\\r(SS\\x0c\\x0eO\\x01\\x15\\x17\\x07\\x07\\x00\\x13^0\\x159\\x06\\x12\\x07\\x07\\x0c\\x0b\\x02eOMVH\\x00TK\\x06O\\x06\\x00\\x18RN\\x10\\x00\\n\\x14<\\x00$\\x07GS\\x10I\\x00N-M+V\\x01\\x1cCP\\x04\\n\\r\\x04\\x02\\x13\\x00\\nA\\t\\x17v\\x1d:\\x1d\\x0e\\x01\\x11\\x06\\x16NeTMN\\x1a\\x17CP'\\t\\x0fIA\\x17\\x02\\x1dG\\n\\x1f7\\r6!G\\x03\\x11\\x1ae\\x07;\\x00\\x03S\\x06\\x0cOGE<\\x1d\\x07\\x13\\x00\\x00IN\\x10\\x13\\x7fT2\\x17G\\t9\\rH\\x1a.\\x00\\x19UO\\x17nE\\x07?dNA\\x17\\x07\\x0c\\x00\\x11\\x07=\\x1dt\\x1f\\x13\\x1d\\x19\\x04O\\x056T\\x08^\\x00<\\x00*\\x01\\x03\\x01NA\\x07NI\\x00B=;\\x1d6\\x06K:\\x18IO\\n1S\\x1fTDEdR\\x0bO\\x0c\\x0c\\x04\\x06\\x1c\\x06C\\x00\\x17=S5\\x05\\x13STI\\x00\\x1a'\\x00\\x08\\x1aH\\x1c\\x00S6\\x0e\\x1b\\nA\\x0b\\x1aIA\\x08\\x05t\\x11t\\x1c\\x00\\x1f\\x12\\x00\\x00d6UM\\x1a\\x055\\x00SE\\x1c\\x0f\\x08\\x14\\x11\\x0b\\x07\\x00\\x0eR!XxR\\x06\\x1e\", b\"O\\x1c\\x01 R\\x07IG\\t\\x060\\x128\\x1f\\x0f\\x1d\\x11\\x00\\x1d\\x0bbA\\x01NH\\x0b\\x00T\\x01O\\x01\\x10\\x0f\\x1c\\x1a\\x0f\\x00\\x15\\x0bx\\x1d:\\x1cGS\\x1cI\\x03\\n&EMC\\x1a\\x00\\x00S\\x17\\x1b\\x1c\\x00\\r\\x1f\\x19cI\\x11R0T5\\x10\\x06\\x17T[\\x1b\\x0f.\\x00\\x0b\\x1a\\x00\\tGC\\x0cO\\x1d\\r8\\x11\\x0b\\x06U\\x0e\\x1f1\\x113\\n\\x0eS\\x00\\x1dO\\x0fb\\x00M\\x1a\\x03ENL\\x00\\x01\\x1bIk\\x1e\\x1c\\x0eYE^=\\x11!RGy\\x13\\x1b\\x0e\\x07+N\\x14W\\x07\\tPW\\nO\\x0f?\\r\\x17'NK\\n\\x11x\\x135\\x1d\\x13\\x14\\x18\\x10\\x06\\x07e\\x00\\x1f\\x1a\\x1f\\x17\\x00L\\x1c\\x00NI\\x0e\\x1d\\x1a\\x01\\x00E\\x177T-RmS\\x18\\x1bO\\n T\\x03\\x1d\\x18\\x08\\x00TE\\x0eN\\x1d\\x04\\x1b\\x1cI\\x00\\x11\\x1d0';\\x17\\x12K\\x00E\\x02d5\\x00L[\\x1c\\nT\\x00E\\x03\\n\\x04\\x0e\\x13\\x0b\\x00GE\\x119\\x11s\\x01\\x06\\x1d\\x00\\nCN'\\x00M\\x1a\\x1c\\x17AL$\\x0ed\\x1cA\\x13\\x17\\x08*\\n\\x10+T5\\x0b\\tS\\x03E\\nd6U\\x05\\x1aHo\\x00I\\x04\\x1a\\r\\x1c1R\\x1d\\x06O\\x00\\x1e>\\x1d6\\x13\\x1e\\n\\x1aIO\\x016Y\\x1a\\x1aHE*T\\x10\"], 16: [b'\\x1dI\\x01T\\t\\tRe~B:R\\t\\x0fH\\x16NxS+\\x0c\\r\\x19\\x1d\"O\\x07\\x05\\x009\\x1cgSA\\x0b\\x17\\x01V\\n\\x1bR\\x06\\x0f1\\x18d<\\x07\\x11E\\x1dZT\\x13EC\\x0fL:\\x1dMG\\x13\\x00\\x1d\\x07\\x1d\\n\\x1e\\x1d(\\x1c\\x1a\\t\\x1c6\\x16+E\\x17\\x0c\\x1d\\x11\\x00i\\x04K,\\x1a\\x04O\\x133\\x17\\n\\x1aE\\x1b\\x1e\\x00\\x1a\\x04\\x07\\x067S\\'E\\x03\\x0c\\x1c I\\x00\\x1e\\x00<\\n\\x08U\\x08E\\x17e\\x1a\\x1c\\x17=\\x0b\\x1d\\x07\\x03\\x0b:\\x1bbE\\x1b\\x0f\\x1f\\x00OD\\x06A5\\x08\\x04yAI\\x1dOS6R^\\x00dH\\r\\x179\\x1f7\\x00\\x1b\\x06T\\x1cWY\\x08S0\\x08\\x1aNA\\x10', b'B\\x1cI\\x1c\\x11\\x00T>jt\\x00\\x19\\x07F\\x08\\\\\\x020\\x08\\x1c\\x06\\x08\\x01\\x0c\\x0e\\x01+S&\\x0bN:\\x11\\x07ODII\"\\x1a\\tN\\x18\\x00\\x13&\\x1aE\\x1d\\x07\\x08N\\x1b\\x00N1\\x01+EN\\n\\x1dT\\x00N\\x0c\\x0ct\\x05MV\\x00\\x03RAUI\\x00\\x1fK\\x0f\\x1cOd;S\\'\\x0c\\x1a\\x07\\x04\\x18AL\\x06*2\\x07\\x18R\\x0e\\t\\x17\\x06M\\x07\\\\\\x1a\\x06\\n\\x01\\x07\\x002\\x1d\\x0b\\x11NI\\x13\\x13SNNy1\\x08L\\x00AIRO_\\x00\\x06\\x11@\\x07HO\\x1c9S,\\x17\\x1a\\x04\\x1b=\\x00N\\x0cN5\\x0fMO\\x11\\x08\\x1dCT\\x04\\x01\\\\\\t\\x00\\x05\\x0e\\x06x\\n+\\x00\\x1a\\x01X\\x1bN', b\"\\x1f\\x0ed\\rOd0\\x16b\\x04\\x1a\\x01T\\x07A\\x00\\x10i;IMN\\x12\\x00\\x1c\\x1b\\x1a\\x07\\x1d^\\x14\\x01H\\x1bNx\\x03'\\x00N\\x08TTAN\\x1dS$I\\x1dU8\\n\\x1d\\x02U\\x04\\x16\\x17\\x1e\\x0f\\x1a\\x18=x\\x01b\\rN\\x0e\\x11\\x17EYIWt\\x05\\x14\\x00\\x15\\r\\x1de_\\x06R\\x11\\x06\\x01HO\\x004\\x03e\\x17I\\x0c\\x1bT\\x00T\\x1a\\x00-I\\x0cNA\\x11\\x17HOEURm\\x01\\x00\\x07\\x1a<K-\\x04\\x05I\\x1d\\x13\\x00I\\x04\\x00t\\x06\\x0cR\\x15\\x04\\x06CT\\x06\\x16\\x17\\x13\\x0b\\x1dO\\x17?\\x05%\\x1c\\x1b\\x0eT\\x18UYID-\\x00MKM\\x00\\x06\\x06SE\\x11\\x00G\\x07H\\x01\\x05\", b\"MN E\\x14&_\\t6\\x1e\\x13\\x0b\\x0bO\\x00RS6\\x10d\\x0f\\x17\\x07\\x00I\\x01T1\\x07MTA,\\x13\\x0b0\\r\\x01R\\x08\\x00\\teN6T-\\t'I\\x1a\\x1bMD\\x10U3\\x06\\x0bO\\x0f\\t\\x17\\x0eN\\x00+\\x13\\x0c\\x0b\\x1a\\x1b\\r7y*\\x0b\\x1dI\\rT\\x00N?\\x00;\\x08\\x0cGA\\x11\\x01\\x06S\\t1\\x17GN\\x07\\x1c\\x1a,S;Ed\\x1bT\\x16TRIS^\\x04\\x01y\\x0f\\x11\\x06\\n\\x1a\\\\\\x07\\x00\\x02\\x0f\\x1c\\n\\x1d,\\x121\\tN\\x05\\x11XNHIC;IMLME\\x05\\x00\\x1a\\x00RR\\t\\x01\\x1f\\x0e\\x1dt\\x14bE\\rc\\rT\\x00\\x00\\x1dT IMF\\x15&R\\x16\", b\"\\x0b\\x13TML\\x07\\x008\\x0c\\x01IA\\x17\\x1dO0\\x01R\\x063\\x02\\r\\n\\x174S*EI\\x1d\\x15\\x13\\x00G\\x00i5I\\x00K\\x02\\x0bx\\x1b[\\x16R\\x13G\\x0f\\x0cO\\x0bxS1\\x0c\\r\\x0f\\x01T\\x00T\\x04Os\\x06\\x03E\\x15E\\x1b\\x1bOo\\x17\\x1dG)\\x07e\\x0fx:;\\x08N\\x1d\\x13~RT\\x05N1\\x08\\x0cLk\\x13\\x1b\\x07U\\r\\x1d\\x06m\\n&\\x16\\x07=\\x1c66N\\x00\\x1b\\x17\\x00\\x00\\x19MtECN\\x0fE\\x06\\x00\\x1a\\x01\\x13\\x0b.\\x02HO\\n=:'\\x08\\nc\\x11TTA\\x1c*&\\x1d@KA\\r\\x0b\\x06\\x1a\\n\\x10\\x06GdH,\\x06>\\x16n\\r/\\x07\\x01\\x11O*I\", b\"\\x0f\\x01\\x1d\\x07!S E\\x1dI\\x1a\\x13AN i&\\n\\x05O\\x0e\\x15U\\nVB\\x17x\\x13\\x06\\x1a\\n\\r=\\x00e\\x16\\x1d\\x0cT\\x11Ys\\x01\\x00t\\x05\\x14C\\x0fE_OV\\x17R\\x1e\\x0e\\x0bH\\x1b\\x0fv\\x00b\\x16\\x1b\\x0e\\x11TACI\\x07\\r\\x1bM*\\x0e\\x10!O[5\\x17\\x1b\\x15\\x07\\r<\\x177\\x1feE\\x1b\\x02\\x1d9IN\\x1b\\x001\\x1c\\x05sA\\x04R\\x01\\x1d\\x0bR\\x02\\x0f\\x05\\x1d\\n\\x1a0S'\\x0cNI\\x1d\\x10*TI*t\\r\\x1fcA\\x15\\x01O\\x1a\\x06R\\x17\\x087H\\x0e\\x06+T\\x11\\x1c\\x06D\\r\\x03I\\x00\\nGt\\x06\\x05T1\\x08\\x1d\\nOER\\x13G\\x01\\x06O\\x03\\x08\\x1e\", b\"\\x02\\x0b\\x1d\\x04\\x1a\\x00\\x13\\x06\\x0f\\x1aO\\x06\\x14xTe\\x10\\x01IT\\x03TS\\x05A7I,\\x00\\x04\\x0c\\x06\\x00\\x1a\\x16\\x1f\\x17\\x06NbON,\\x16.\\n\\x0bI\\x15\\x10G\\r\\x1eU<c\\x04O\\x02\\x06\\x13\\x01\\x1a\\n6RGN\\x18\\x02\\x00=y0\\n\\x0b\\x1d'\\x10\\x00P\\x1aNz\\x19\\x03H\\x0f\\x17\\x1d\\x06J\\x04R\\x13\\x14\\x1d\\x03\\x00\\x00?\\x1c%\\x17I\\x0c\\x00\\x18ZTNSt\\x0e\\x0cA\\x04ER\\x07[\\x01R\\x1c@d\\x06O71:\\x11\\x04N\\x001\\x19IO\\x0cW1\\x1dMN\\x0e\\x08\\x1c\\x00\\x1a\\x17\\x1d\\x10\\x0eNH\\x07\\x1a,S-o\\x01\\x08\\x1d\\x18UM\\x08N6\\x1a\\x19L\\x16\\x0e\\x10\\nV\\x10\", b'\\x1f\\x07C\\x0cG7\\n\\x05A\\tE\\x00\\x16N\\x08\\x1f\\x15\\t\\x0f\\x02C\\x1dx\\x1fb\\x04\\x19\\x07\\x13\\x1aN\\x00\\x07*=IM\\x00\\x00$\\x10\\x04[E\\x1b\\x14\\x13\\x1a\\x06O\\x01x\\x1c!\\x1c=\\x1a\\x01\\x00AK\\r*:\\x0c\\x03CkE\\x0b\\x0b\\x1a\\'\\x17\\x07K\\x07\\x07C\\x1e9\\x03&EBN\\x1d\\x13\\x00\\x00\\x07\\x00t\\x08\\x1fEA\\x00\\x04H\\x1a\\x10\\x00\\x17\\x15N\\r\\x06\\x070Sb\\x08\\x0b\\x1b\\x1aTTA\\x08V;\\x10M\\x19kB;\\x00TE\\x1d\\x1cm\\rD\\n\\x1ax\\x1d+I\\x01\\x1cS\\x01EY\\x1cW1I\\x02S1\\x08\\x1b\\nR\"R>\\x00\\x1a\\x04\\x0e\\x1d=\\x01)\\n\\x0fI\\x1dTYOIA\\'', b\"ON3S+\\x16\\x05\\x08\\r\\x11HLIHtIMT\\x0f\\x10RON\\x0c5\\x07\\x06\\n\\x01OI7\\x07\\x16\\x0b\\x07c\\r\\x1aNE\\x00G;\\x1a\\x0b\\x00\\tE\\x1f\\x00q\\n\\x19\\x1f\\x12\\x1a\\x1bO\\x00=SHE\\x02\\x06\\x156T\\x00IM!IJ\\x00\\x0c\\nR\\x1d]\\nR$GN\\x06O\\x02(\\x14!,\\x00\\x0cT\\x15\\x00IIA3\\x06ME7\\x15\\x19O_\\x02\\x1c\\x1b\\x13\\x05\\x0f\\x0e\\x1c6\\x07'\\x12\\x01\\x04D-\\x00\\x00\\x1c\\x077I\\t\\x07\\x12ER\\x0cI\\x01\\x06RG\\x1e\\x1cON/\\x14'E\\r\\rT\\x18UTIA;\\x1e\\x0cIA\\t\\x0b\\x06\\x1aE\\x0b\\x0b\\x1e\\x08\\x1ceN!\\x1c;\\x0c\", b'\\x13\\x1bS\\x12\\x00\\x06G\\x1aH\\x02\\x0f1y\\'\\x0b\\x02\\x02\\x06\\x10SL\\x0eO:\\x06\\x1eYA\\x13xO\\\\\\x17\\x1aU\\t:H\\x0b\\n,\\x17\\'\\x0b\\x1aI\\x00\\x06FA\\rN0E\\x08P\\x08E\\x13O\\x1a\\x08;_\\x0eN\\x06\\x1a\\x1c+\\x1c#\\x11\\x0f\\x05\\x1a\\x11NH\\x06H;\\x1a\\x0cY\\t\\n\\x01\\x06OE\\x00\\x11\\x03N\\x1f\\x1d-6\\x07.\\r\\x01\\x1aT=PEc\\x00&\\x06\\x03T\\x00\\x0cR\\x0e^ER\\x1c\\x12\\x17H\\x00\\x08;\\x01b\\x04\\nI7Tyd\\x01T!\\n\\tCAE\\x05BR\\r\\x13\\x16\\x08\\x17\\x1b\\x0e\\x1d=\\x116E\\x06\\x10\\x11\\x12\\x00\\x00\\nO^IM\\x00\\x14\\x11\"\\x02\\x1a\\x0bR\\x11', b\"N\\x01N<\\x05\\x0cOF\\x06R\\x1d_3R\\x1d\\x02\\x07\\x07O\\x1a=\\x1cbBO\\x0cT\\x1dEw\\x08F;\\x0cM\\x00\\t\\x11RONER\\x17\\x02\\x03\\x00\\x00\\x1b3S-EN\\x1a\\x11\\x17*N\\x0bA5N@L\\x05E\\x06\\x16N\\x13\\x19RG\\x02\\x07CN7\\x11'\\x0b\\x0f\\x07\\x11\\x15\\x00O\\x02N5\\x10\\x08\\x00\\x03\\r\\x17\\x1d\\x1d\\x17\\x1dR\\x11\\x01\\t?\\x07x  \\nN\\x0c\\x1d\\x19NF\\x19\\x00^\\x00MRA\\x0c\\x07\\x0e[E\\x1a\\x1c\\x08\\n\\t\\r\\x019\\x1a'\\x17\\x06\\x06\\x01\\x17BADE \\x02\\x08MA\\n\\x0b\\x06\\x1a\\nR\\x05\\x0eNH\\x1a\\x17,S,5\\x03\\x10\\x1d\\x1aLL\\x1ccx\\x1dM\", b\"<\\x16e\\x0c\\x1d\\x1a\\x12\\x07Uz\\rS5\\x04\\x19T\\x02\\t;ONE\\x06^GN!\\tN0\\x07b\\t\\x1c\\x08\\x19\\x11HT E:[MN\\x18\\x00\\x07\\x01_o\\x11x.N\\x1a\\n'<\\x16b\\x0e\\x03I\\x15\\x11T\\x00\\x00Y1\\x0c\\x03LAERBW\\x04\\x06S\\x1e\\x07\\x18\\x1ddx\\x16)\\x0b\\x07I\\r\\x01Y\\x00\\x08\\x00-\\x07\\x19I\\x0f\\x08R\\x01[\\x11\\x13\\x07\\x13B\\x06\\x0eI9\\x03\\x0b<\\x1a\\x08T\\x00S\\x07\\x1aN6\\x06MN\\x0e\\x10\\x17\\x1a^\\x0b\\x02\\x17GN\\x1a\\x03\\x0b6S0EB\\x08\\x11\\x15N\\x00\\nB-\\x0f\\x05T\\x05\\x04\\x1c\\x00R&^\\x1e\\x12\\x01\\x1c\\x04\\x0b9\\x00-E\\x06c\", b'\\x1aER\\x1eG\\x17HO\\x1a\\x7fSb\\x0b\\x07I\\x00\\x1fS\\x00\\x05\\x00^\\x01M*\\x15ER\\x0eCEUR\\x02\\x02\\x11O\\x0b0S0BN\\x10TT\\x00G\\x02\\x00e\\x02+\\x00\\x00\\x06\\nH\\x1a\\x11\\x14\\x17G=\\x00\\x01\\x1c!\\x1d.\\x17\\x1d\\x06\\x1b\\x13PNDE6\\x1dM\\x00\\rI\\x16&CE\\x01\\x16\\t\\x07\\x07\\x16N2\\t#\\x0c\\t\\x01\\x1a\\x13APN\\x005\\x1a\\x03RAB\\x06OT\\x00R\\x1dG\\x00\\r\\x06N*\\x07b\\n\\x1a\\x1aS\\x1aSLI\\x00sIMD\\x15\\x00\\x1dOT$\\x17\\x06G\\nH\\x01\\t,S-E\\x1b\\x00\\x11\\x1bNK\\x1cA;I\\x0cS\\x14E\\x0bOC\\x0c\\x1f1\\x06', b'i6\\x06\\x08YA\\x08\\x1f\\x1bI\\x04\\x15\\x1b\\x0c\\x02\\x01ON:\\x16/(\\x0b.~\\x1cWYI\\x009\\n\\x19\\x07\\rE\\x15\\x16[\\x06RRJ\\x0f\\x1c\\x07\\x0c0S+HN\\x06\\x18\\x00AP\\x04Tt\\x05ML\\x00E\\x0b\\x16UB\\x17^G\\x1a\\t\\n\\x027S \\t\\x07*\\x1d\\x18\\x00\\x00\\x07O5IM\\x07\\x12\\x10\\x1b\\x1bU\\x1c\\x1c\\x1cG\\x0bOO\\x147S\\x05\\x17\\x0b\\r\\x1d=\\x00I\\x1dA0\\x1d\\x18*\\x05\\x04\\x1f\\x02_I\\x06\\x16K\\x03\\x1cH\\x0b7\\x10HE\\x0cc\\x1b\\x1c\\x00S\\x1aA:I\\x05bA\\n\\x16OR6\\x0b\\x15\\t\\x1aH\\x18\\n!S6\\x08\\x02\\x10\\x1dT*\\x00\\x05\\x007\\x0c\\x02T', b'e\\x00\\x00I\\x11\\x1dEY\\x00\\x00:\\x06\\x01E\\x00\\x0b\\x1b\\x02_\\x11\\x0b\\x0bG\\x01;\\x0e\\x077\\x17;\\x00\\x0f\\x01\\x07\\x1bOIIT5\\x1d\\x1d\\rF\\n\\x17\\n\\x1a\\x0c\\x06@\\x08\\x1c\\x01\\x1d\\x021S*o\\x17\\x01\\x1d\\x19*IIUtIMPA\\x03\\x06\\x0e\\x1a*\\x1d\\x0bG\\x01\\x1c\\x0e\\'4\\x077E\\x1d\\x0eTT\\x00N\\x01Ct\\r\\n*AEx\\nI\\x16\\x17\\x06\\x14N\\x18H\\n;\\x1a6E\\x06I\\'TRE\\x10\\x00t\\x0c\\x14\\x00\\x04E\\x06OT\\x04+\\x13\\x06\"\\x0b\\nd=\\x02b\\x1cd\\x08\\x1b\\x03N\\x00cA5E\\x02K\\x04\\x07\\x1cO\\x1a\\x01R\\x17\\x02N\\x0b\\x1c>5\\x1c6IN\\x04T', b'\\x1f\\x1eG\\x1a\\x04\\x01Nx\\x1dH\\x01\\x07\\x05X\\x0e\\x07N\\x10GtIMSA\\x08\\x06\\x03O\\x04\\x1dR\\x12\\x0bH\\x18\\x19*\\x1fb\\x0b\\x06\\x05TT\\x00A\\x08* I@NA\\x0e\\x1d\\x0e[\\x04\\x13;G\\x0b\\x03\\x1c:6\\x07e\\x11d\\x19\\x11\\x1dE\\x00\\nG<\\rMW\\x0cDRHS\\nR\\x05\\x13\\x07b\\x1c\\x1e\\x7f\\x16)\"NI5\\x13Tn\\rS;\\x1b\\x01\\x00k\\x15\\x1f\\x00\\x16\\x02\\x1b\\x1f\\x08\\x03\\x07\\x03NyS5<\\x02N\\x07\\x18B\\x00\\x1dG:\\x06MC\\x04\\x11R<\\x1a\\x10\\x10\\x06m\\x1a\\x11\\x1dB+y6\\x1cNI\\rTO\\x00\\x19M=\\x0fMT\\x15E\\x13\\x03O\\x10\\x1aR\\x08\\x0b\\x0e'], 25: [b'\\x1d\\x1b\\r\\x1d\\x00\\x1f\\x1a\\x01I\\x08\\x026\\x00\\x0e\\x0b\\x1fOY\\x1d0\\x13\\x19\\x16\\x19\\r\\x1aNe\\x10t\\n\\x06\\x1dN\\x1dN\\x0c\\x04\\x06GHN\\x05\\x13\\x1dAP\\x176\\x11\\x14\\x04\\x0f\\x1d\\x19SO\\x075\\x06\\x07\\x1bC\\x04\\x1a\\r\\x1a\\x08m\\x05Tk\\x1b\\x1dNyR0TM\\x1c\\x08\\x1d\\x06\\x1aH\\x00:\\x0cH\\x06C\\x1d7\\x1c\\x1cI\\x08%\\x00A\\x15SOI\\x01,T\\x0cE>\\x1d\\x08\\x1a\\x01c', b'B\\x01EG Y\\tRyATR:\\x03M\\x0c\\x01T\\x07C\\n\\x01=\\x01HNEx\\x0f\\n\\x08E\\x08-D\\x00\\x1eSAG;x\\x11\\x03B\\x00\\x11IUCI6O\\x1cBK\\x01\\x01\\x0b\\x05\\x10\\x14)I\\x0eRSAs\\x170 \\x03EI\\x1b\\x1d[\\x03\\x041\\x0e\\x1c\\x1a*\\x06\\rE\\x01\\x04G\\'S\\x0e\\x06\\x14\\x00MR,\\x03\\x02\"\\x17\\x11\\x00R,\\x106\\x03\\x1c\\x1acR', b\"\\x1f\\x16MY\\x13x\\x11\\x193\\x00\\x00\\n_C\\x19:\\x1b!I\\x00\\x06\\x0b\\x0bI\\x11\\x080sF\\x14\\x07FU\\x11x\\x00\\x04\\x04\\x00\\x1dNN\\x01\\x0et\\x0b\\x1a\\x0fWR)\\t\\x1aDG'OA\\x16\\x1f\\x00E\\x1b6T\\x19\\r\\x14\\x00\\x1b_\\x07\\x0c^O\\x1d\\x06V\\x17\\x17\\x04\\x1aEK\\x11\\x00\\x12\\x11\\x1aNDR=\\x01\\x04\\r\\x17\\x11\\x1dR\\x07I;CH\\rA\\x1dN\\n\\x08\\x11G-*\", b\"ME\\x07\\x11\\n~\\x02\\x015O\\x01\\x01GR\\x01B\\x01E\\x13;\\x00AU\\x03HKR,T\\x0bE\\x1b\\x1a\\x02V\\x1d\\x1a:O\\x1a\\x03O\\x0bN\\x11I\\x03G*N\\x0e\\x0b\\x03\\x00YRx~M\\x04\\x1eT\\x07\\x1d\\x1c\\x011\\n\\r\\x03\\x00\\x17B6\\x1dE\\x08'NA\\x00\\x07*\\x00\\x1d:T\\x0c\\x0b\\n\\x1b\\x1d\\x1aO\\x04 \\x00H\\x06A\\x1bdEI\\x04G6M\\x15\\x0b\\nLF\\x1f\\x08\", b'\\x0b6\\x04\\x04\\x05jR\\x0b\\x0b \\x0b\\t+L\\x12^SW\\x00\\x1d7\\x07M\\r\\x0bT\\x1d[\\x18I$\\x01\\x0cNU\\x1d\\x1aE\\x0b\\tGbIk\\x1d\\x1cEL\\x177\\x10M\\nd\\x11\\x08C<\\x0et\\n\\x1fI\\x00\\x1b\\x0b\\x17\\r\\x15\\x06 RA\\x02\\x1aTUR<\\x00CI7\\x07I_\\r\\x05sO\\x0b\\x01A\\x05\\x0bE\\x1c\\n\\x0e6T\\x11\\x05\\x14NTR=\\x1cME\\x0b\\x01\\x0cV', b'\\x0f\\x00\\x0c\\tGbzA\\x1bT\\x07T\\x1c=\\x07MB\\x07\\x13\\x1c\\\\\\x1b\\x085\\x16b\\x06G\\x13\\x03\\t\\x02E\\x08!C\\x08\\x17\\x16\\x00L666M\\x13\\r\\x1b\\x1b\\x1aC\\x0c;e\\x18NO\\x1d\\x07,\\x06\\rG#NA\\x17SPN\\x13==\\x0c\\x02\\x1c\\x13\\x00\\x1a\\x06It\\x00\\x07\\n\\x00\\x17\\x02E\\x0c\\x11G,AM\\x06TNSR=\\x18\\x05\\n\\n\\x1d\\x0f\\x1a\\x0e\\x10 O\\x06NA', b\"\\x02\\x1eS\\x00O6\\x7f\\x13\\x01\\x08N\\x06IN\\n.7\\x03\\x01NF\\x13\\x02\\x16I$\\x06'N\\x18\\x13SGN\\x191\\x17\\x0b\\x11\\x0f\\x1d\\x0c\\x1d\\x1a\\x0e1\\x1b\\t\\x0bGR\\x0f\\x0b?I\\x157\\x00\\x13\\x11\\x03YL\\x1c?\\x13M\\x07\\x07T\\x1a\\x1dH\\x1b<\\x0e\\x00\\x1aM\\x1fd<\\x1cI\\x081LA\\x13\\x1dOC\\x166T\\x05\\x17BT\\x0f\\x1a\\x0e\\x00tO\\x04\\x1bO\\x06\\x01\\r\\x05\\x0e\\x08;\", b\"\\x1f\\x01\\x12d\\x12\\x0cI\\x06\\x05t\\x02\\x07d\\x00U\\x01\\x04\\x05\\x13\\x14bG\\r\\x17\\x1fNNR6T\\x14\\x0c\\x01TEU\\n\\x0ft\\x01\\x03\\x02\\x0c\\x06\\x0b\\x17I\\x03K+H\\x15S:\\x00HR(\\x18\\x08\\tN\\x1d\\r\\x1a\\x07\\x1a-\\x01&\\x0bS\\x1f\\x05\\x11\\x19\\x11G'Ek=\\x01\\x00N\\x137\\x19M\\x01\\x1c\\x01IT\\x0e\\x081O\\x1b\\x1bB\\x0b\\x1ao\\x19\\t\\t,\\x00\\x14\\x13\\x1cYNR\", b\"OI<&H\\x1d\\x00\\x00\\x0f\\x0b\\x10\\t3/SA\\x07SETU=\\x1bM\\n\\nT[[\\x07I \\x00\\x1bNU\\n\\x0bo\\r\\x00\\x0eb\\x00\\x15^yE\\x00\\x007TM5'\\x1d\\x1aOOI1\\x1b\\x03NA\\x17\\x01EN\\x04\\x14b\\x00\\x00R\\x03\\x00*Ry-LE\\x1dS\\rT\\n\\x0f!C\\x1a\\nA\\x1c\\x1aE\\x0c\\n\\t-\\x00\\x04>\\x1f\\x00K^>T\\x19\\x10NX\\x1d\", b'\\x13d\\x0c\\x07\\x08\\x0fHLF\\x1dSSO\\x0bx\"\\x1e\\x07N\\x15\\n\\x1a\\x18c\"O\\tN\\x00\\x17\\x1aE\\r\\n.1P\\x02;S\\x00L+!TM\\'\\x1c\\x1a\\x05We*zH\\x06\\x1aN\\x01\\x07E\\x01\\x00\\x00.T\\x0f\\x06SZ\\x00\\x1c2\\x19\\x01\\x00\\x1a\\'\\x10\\x1a\\x00I6\\x00\\x1cNGR\\x07\\x17I\\x00\\x08bYA\\x16\\x05NK\\x0b,T\\x0c\\x04\\x17\\rIO\\x1cI0\\x02H\\x06', b'N \\x1eSEA:1\\x07\\x19\\x01NTIN\\x0e\\x0c1\\x0e\\x1a\\x0f*\\x17:\\x00 \\x0bJ.A\\t\\x07SM\\x00R1\\x00M\\x08=\\x15\\x06U\\x02\\x19!A\\x07\\x1dE!\\x01E\\x04\\n\\x06)T\\x12\\x13\\x16\\x00R\\x1d,\\x13\\x05\\x16\\x07\\x1c\\x06O\\x0e\\x000\\x07\\x07\\x01y\\x07\\x0f\\nIEmbd\\x15\\x17:\\x00N\\x10/=\\x08\\x00\\t\\rER\\r\\x10-\\x00H\\x02N\\x13\\x08\\x00\\x1c&\\x06', b'<T\\x08\\x00N\\r\\x00_OI&\\x02\\x02\\rO\\x1cNEI\\x0c\\x12\\x16D\\tRSY\\r\\x1b<\\x06\\x1do\\x0b\\x18c[O\\n5\\x0e\\x00\\x1bU\\x0b\\x1c\\x11IEG P\\x0c$S\\x00G\\x017T\\x1fE-\\x1b\\x07UO\\x0c;O\\x01NS\\x06\\x05E\\x08E\\x12-\\x07\\x0f\\x16:B\\x07\\x069XM\\x06dS\\x08RO\\x08&OHNA\\x1dNE\\x1c\\x08\\x02)Y\\x14\\x00\\x00OT', b'\\x1a\\x1dI7eH\\x1aS\\x1d\\x02\\x10\\x10\\x10\\x08bI\\x15x\\x17NS\\x1ax\\x11\\x00\\x06NT\\x1a\\x1a\\x00IeO\\x01=L\\x13\\x0f\\x0e\\x04EGe\\x00\\x00RyP*\\x1d9\\x11\\x0c\\x06d\\x13IJ\\x1c\\x0c2\\x1d\\x07\\t\\x00xNEc\\x11\\x136I\\x04\\x1f\\x07SR\\x07*\\x10\\x14E\\x0b7\\x06^Oc1<\\x1c\\x1aE\\x05\\n\\x1cc\\x08\\x006Y\\x05\\x06SUT\\x0bx\\x1aM\\x0c\\x03T', b'i\\x1d\\x1a\\x16>\\x06\\x13bN\\x00\\x15SSN\\x064\\x1c,\\x04I\\x11\\x0c0O\\x0c5\\x041\\x1aS\\x07\\x0fH\\x1e\\x0e\\x12+N\\x0f\\x17\\x00*C\\x1e+\\x17\\x03o\\x02\\'\\r]O\\x07;&\\r\\x1d\\x00\\x17N\\x17\\x08\\x13G%n7\\x1a TRR;T\\x08E\\x1aTE_ON7O\\tN\\x00\\x01\"I\\x06E\\x130AA\\x10yUORt\\x1b\\x05\\x01\\x1dTIS\\x04\\x077\\n\\x0e', b'eC\\t\\x06\\x16UI\\x15x\\x0eM\\x08\\x1a\\x17\\x01V\\x0e\\x079OH\\x1ci\\x15N\\x0b\\x00\\x00\\x02-G\\x0f@\\x1cEP\\x16<TM\\n:\\x15\\x05N\\x1b\\x06\\r\\x0e\\x07\\x17H\\x1d\\x07\\x08\\x07\\x17\\x13!L\\x03\\x17\\tI*\\x007=\\x0c\\x11\\x07\\x1d\\x0e\\x16\\x0eI^\\n\\rN\\x00;\\x1d\\x04\\x04\\x10.HO\\x04RSBL\\x17+\\x03\\x026\\x1dT\\x0f\\x1a\\x18\\x08=\\x06\\x05\\x03T\\x0b\\x01II\\x10', b\"\\x1f3\\x11\\x0c\\t\\x1a\\x1a\\x06N\\x16\\x02;O\\r\\x0bA\\x06\\n\\x0b\\x08,\\x02eI\\x00R\\x17ANR0\\x10@\\nN\\x11\\x06\\x1a\\x1b\\x01:\\x07\\x06NY\\x1b\\x1a\\n\\n\\nK'N\\r\\x1b\\x07\\x00O\\x004\\x01\\x0c\\x1c\\x005\\x06M?\\x1b5\\x01\\x18\\x0b\\x00R\\x01<\\x19\\x04@5\\x00A\\x1c\\x12Sc+x\\x00\\t\\x06\\x0b\\x11I\\x1a\\x1d\\r5\\x06\\x1f\\x1bG\\x1c\\x1a\\x00\\n\\x00\\x12n\\x00\\x16R\\x1cN\", b'ISO\\x1a8\\x1bO\\x07H\\\\\\x07\\x10\\x05\\x15Gb\\x07A^\\x07\\x00\\x07\\x1f*\\x1a\\tENT\\x05\\x1aOZ0\\x02\\x1a\\rT\\x13\\x0bE\\x0cE\\x0c.CA\\x07\\x16N\\x00\\x06x\\x18\\x03\\n\\x02\\x04\\x10S\\x16\\x02tH\\x04\\x01\\x00R\\n\\x17N\\x15\\x13\\x0bF\\x0f\\x1dSR\\x19\\x17;\\x13M\\x01\\x0b1\\x06IO\\x06;OHdW\\x1d\\x17\\x1c\\n\\r\\t-\\x00A\\\\S\\x00SR5T\\x1a\\x0b\\x05', b'\\x1cN\\x14\\x17E\\x00E\\t\\'\\x00\\x02\\x06\\x16TS5+\\x1dME\\r\\x07IV\\x0b\\x08:\\x1b\\x1c\\x0b*\\x1fNE\\x10\\x06\\x0e*K\\x13_\\x01TE\\x17=\\x1dJIN\\r\\x1d[\\x0eN,\\x06H\\x07N\\x1b\\x1d\"I\\t\\x11;PA\\x06SITU9\\x17\\x18\\x01ND\\x08[\\n\\x1atOD\\x1bT\\x06N\\x08\\x1a\\x08m\\'NARSIKR9\\x12M&\\x06\\x1d\\x1aOe\\x01x\\x16', b'\\x0eeLA\\x06\\x1dH\\x07RR\\x1f\\x05\\x11\\x1d\\x1d\\x06\\x1a\\t\\x1d9\\x00H\\x07IR\\x00B\\x01\\n\\x13\\x11A8xSAO\\x13=T@\\x00\\x1c\\x11I\\x1a\\t\\x05tB\\x07\\x07NRN\\x0c\\x02\\x11\\teNA\\x1e\\x07\\x00I\\x1d7\\x18\\x01\\x02\\x00\\x1d\\x04T\\nI;eH\\x05N\\x06\\x03\\x04\\x1dE@\\'H\\x15\\x17\\x02Ey\\x13?\\x15@6\\x1a\\r\\x1eT\\x1ac;\\n\\x0b\\x0fS\"\\x07EI', b\"NR!\\x1d\\x05B\\x0fT\\x040OItO\\x0cOTR\\x06\\x00\\x07\\x0b\\t'T\\x02R\\x16\\x00\\x00\\x1d3\\x1b+\\x17\\x02\\x01\\x1d\\x1a\\x18Is\\x16\\x18dMR\\x02\\x0bD\\x10G&i\\t\\x11\\x16R\\x07R\\x7f\\x15\\x18\\x17\\x1a\\x1a\\x1cI\\x06\\x0c&H\\x06NAR\\x03\\x12N\\x0c\\x02bT\\x04\\x1c\\x1byR\\x02=\\x1cM\\x10N\\x1b\\x02\\x1a\\x01D5\\nH\\x06D\\x1cd\\x08\\x08E\\x1e+L\\x151\\x1e\", b'\\x13\\x06\\x1a\\x01\\x08t\\x1d\\x0b\\x07i\\x1b\\x0f\\x0c\\x0e\\x00G*Y\\x04R\\x07O\\x00\\x010\\x11\\x1dEd\\x00I_O\\x06<\\x0e\\x1bNA\\x17=\\x16IE(#YA\\x1dS\\x00WR;\\x15\\x0cE\\x17T\\x08\\x1a\\x1d\\x0c-\\x07OIS\\x19\\n\\nIB\\x0f6A\\x08\\x1cKSN\\x061\\x18\\t\\x00\\x01\\x11I\\x1a\\n\\x1c5B\\x1dB*\\x16N\\x1cI\\x08\\x0ebK1\\x17\\x01W\\x00\\x119\\x11\\x02\\x10', b\"\\x01\\x00GR\\x1a\\x04\\r\\x17\\x0ceN\\x0f\\x06\\x1c\\x00*\\x177\\x1ag\\x17N\\x19I[O\\x05;&\\x00'\\x00_\\x1c\\x1c\\x0fE\\x1ebT\\x00R\\x07TV\\x197\\x13M*\\x1e\\x1d\\x1a_\\x1d\\x1d5\\x06b\\x00*\\x17N\\x0c\\x1bE\\x15'EA\\x07\\x1c\\x00A\\x1b6\\x13M\\\\N\\x1d\\x0cT\\x03It\\x1aH\\x0cWR\\x1e\\x17DEG\\x11\\x001^\\x11UT\\x10!\\x18ME\\x06\\x1dICO\\x04'\", b'\\x0bG+TF\\x1eSAE\\x1fx\\x10ME\\x17~IOO:;\\x0b\\x11\\x1dT\\x10\\x0f\\x0b\\x1d\\x00G+\\rA\\x1f\\x01*O\\x14v\\x19\\x03\\n\\x1c\\x11\\x0cO\\n\\x1d<\\x1d\\x1c\\x0f\\x00\\x16\\x07E\\x073\\x03e\\x00k\\x1c\\x1cTE\\\\x\\x16\\x03\\x0b\\n\\x1a\\n^\\x07\\x08t\\x02\\x06\\x02\\x07R\\n\\tI\\x15\\x06+DA\\x17STb\\x1d+\\x18M\\n\\x1d\\x11\\x06\\x1a\\x0e\\x06^\\x06\\x1c/\\x00\\x10\\x0b\\x0c', b\"\\x07T\\x000\\x07\\x01\\x04\\x14XI0O\\x0f^\\n;\\x19\\x00x\\x01\\t\\x00E\\x06bE\\x18\\x17T\\x00C\\x06x\\x13\\x08\\x04'\\x01\\x05\\x1a\\x1c\\x06t\\x16\\x1a\\x1d\\x07\\x06\\x07E\\x06\\r\\x1e;\\x00\\x0f\\x05\\x14A\\x00129\\n\\x10\\x06TI[\\x16\\rt\\x00\\x0fN\\x00\\x06\\x00\\x0c\\x10B\\x0bbI\\x0e\\x0b\\x10IC\\x069\\x17M$\\x06\\x1bIS\\x0e\\x0e-\\x06H\\x01M\\x0b\\x005\\x1dEG6OA\\x11\", b'N\\x1c\\x05_OI:\\x16H\\x02i;\\x02(\\x05\\x08\\x06&wAR\\x00O\\x00\\x1b,TM\\x16\\x0c\\x15Iq\\x00\\x1a3HH\\x17*\\x1dN\\r\\x00EG0\\x00\\x0c\\x1f\\x11\\x00\\x00\\x174\\x13\\x04E\\x00\\r\\x08U\\x00I3\\x06\\td\\x00RN\\x08\\x1e\\x0cm\\x0b\\x00\\x05\\x1cS\\x00\\x00\\x1a,\\x1a\\x1f\\x04\\x1a\\x1f\\nT\\x03c:\\x00\\x11\\rN\\x0b\\x01E\\n\\x07\\x007\\x00M\\x1e\\x16*L\\x1a!\\x1bM'], 22: [b\"\\x1d\\x0bRO\\x16E\\x0cRR\\x14\\x07\\x00M\\x023=\\x19\\x05*\\x1a\\n\\x17\\x15FA\\x16\\x11'\\x1a5\\x0bR\\x18\\n\\x00I\\x1f@\\x0bNC\\x04H\\x1e=\\x01\\x04L\\x1dN\\x1d\\x11MAo\\x07+\\x106\\rR\\x0e\\x08\\x00\\x1a\\x1d\\x16\\x00\\x00N\\x0c\\x1d\\x00?\\x01\\x1aEI\\n \\x1cSAE\\x0f6\\x17^ER\\x06\\x04\\x00\\x0c\\x06\\x1c\\x0bNL\\x0c\\x0c\\x06=\\x06\\x06NT\\x0b\\x14\\x1b*A6H-\\x18;\\x07\\x10\\x1a\\x00UI\\x06\\x0b>/L\\x1a\\n\\x06\", b\"B\\x07\\x06\\x14\\x06N\\x1dz\\x19\\x16\\x0cR\\x02\\x10ON\\x01\\x1f~TA\\x04\\x1ab\\x07=E\\x01\\x0b\\x0bY[\\x13\\x14\\x0c'A@O.1\\x1a\\x04O\\x1a\\x0b\\x00\\x15\\x0ckB\\x1a#\\x1d\\rE\\x00C\\t\\x00\\x1aR\\x1bd\\x1a\\x00M\\x06\\x03\\x7f\\x02\\x08R\\x1a\\x0bSTSA\\x11\\x01b=^\\x0c\\x1b\\n<S\\x10\\x1f\\x00\\x08\\x02TMOm7\\x05\\x01C\\x1aNSSAM\\r\\x11\\x11\\x155\\x08\\x0b\\x0eEO\\x06\\x1c\\\\\\x1d\\x02\\x00M\\x03G9\\x01IT\", b\"\\x1fN\\x00L\\x0ce\\x0f\\x7f\\x01IE0\\x07ST\\x00\\x12\\x0c;*\\x1d9\\x0cU\\x1b\\x0bOIRRNNN\\x0b\\nG3Z\\x1e\\x00U\\x1aS\\x01A\\x13\\n\\x00b6tE\\x19\\t\\nP\\x05R\\x0b\\x0f\\x0fi\\x03&\\x06(\\x0e\\x05\\x00\\x1a\\x1d\\t\\x1bAA\\r\\t'\\x185\\x11\\x1cH6N\\nR\\x1d\\x1a\\x01EC\\x0e\\x0b1\\x1a\\x04\\x07T\\x02\\x1a\\x1fW\\x15\\x06\\x1cbT I\\x1d\\x01\\x1cUE\\x0b\\x05\\x17\\x01KM\\x06\\x02>\\x10\\x08LC\\x07\\x1cT\", b'M\\x1bG!\\x1a>AI\\x0byXi\\x02\\x08\\x02/\\x07:\\x08\\x17\\t\\x0bN\\n\\x13U\\x19\\x1dT\\t\\x04J6I\\x08C_N\\x1c\\x18U\\x08\\x04HbT:E+\\x1a\\x11A\\x0cR\\x07\\x02\\x1dHMO\\x1e;N\\x07GO\\x07\\x1f\\r*A\\x1c\\x07.\\x131\\x08\\\\\\x06\\x17T\\x06\\x1f\\x02INA\\x18\\n\\x12yI\\x1a\\x00T\\x03\\x127GA\\x0bH+\\x1c;E\\x10\\x0eE\\x00I\\x16R\\x1dN\\x00\\x05C\\x00!c\\nTO\\x01\\n\\x1d\\x00\\x15\\x0b\\x0e', b'\\x0b\\x01T\\x1a\\x17\\x16\\r\\x00A3He\\x1f;\\x10\\x0b\\nBOIR^I\\x0fGM\\x01\\x060\\x08\\x00\\r[\\x03\\x07\\x15\\x008\\n\\x011\\x17:\\x06\\x14\\x18E*\\x06\\x06\\x1d\\x00\\x1dYJ\\x0eG7\\x0c\\x1a\\x00_N\\x07\\x13N\\x13\\x04\\x07e\\x15t\\x13\\x1d\\x07\\x17AI\\x19\\x06\\x07N\\x00\\x0cOm6I\\x19R\\x1ad\\x07\\x1d\\x07\\x04\\x01\\tb\\x19s\\x04\\x06\\n\\x08B\\x08\\x1c\\x06\\x17\\r\\x00@\\x06\\x00,\\x00II\\x1adSTN\\x14E\\x1c6\\x11x\\x10', b'\\x0f\\x16\\x1cGA\\tHH\\x135\\x08\\x1fO\\x10SIU^\\x01\\x19YMO\\x12=\\x08I\\x00[\\x00\\x17T\\x00\\x18E\\x06+\\x1b0\\x0eR\\nEA\\x05\\x17_:\\x1b\\x00M\\x0bG7\\x05\\n*W\\x0f\\x03\\x1d\\x00\\t\\n\\r)\\x18t\\x101\\x1d\"I\\x07\\x17\\x17\\x14dE\\x01\\x01\\x132\\x1b\\x1dy^\\x03STykI\\x1cb\\x18t\\x10\\x06\\nEN\\nR\\x17\\x0b\\x1aY\\x05\\x00\\x08+D\\nOR\\x1a\\x14\\x11M1&\\x05)T \\x11\\x1aOEN', b\"\\x02E\\r+\\x1d8\\x06:\\x06\\x0bAI\\x1b\\x06\\x1a\\rSM\\x1b\\x067\\x1d\\x08S\\x1a\\x02\\x03\\rT\\x02E1.T$E\\x06OEEc\\n\\x17\\x00\\x17T@\\x07G!\\x0eIPO\\x02\\x16'E\\x15\\n\\x1c;\\x15,\\x17\\x01O,\\x00\\x08\\x17\\x1e\\x00\\tTM\\nmx\\x0cNRO\\x05\\x1a\\x1b\\x00\\x08\\x01\\r--tE\\x1a\\x03\\x04S\\x06R\\x13\\n\\x06DMO\\x13/\\x08\\x1cMSNSTA\\x04\\nH7\\x18;\\x00\\x0b\\x1c\\rL\\x08\\x101\\x05\", b'\\x1f6E\\x00\\x01EU\\x00\\x00\\x1b\\x00\\x02N\\x05O\\x08x.\\x01YO\\x06\\x07\\x11*\\r\\rHb\\x11:\\x00\\x1b\\x07\\tFI_xN=P\\x0bOGvI\\x0cCU\\x0b\\x1c\\x11\\x07AI\\x07 T;D\\x17\\x1d\\x0c\\x00I\\x01\\x11\\x1e\\x1b\\x00\\x18HG,\\x1a\\rs[\\nS\\x1dS\\x00\\x02\\x1d\\x0b\\x13;\\x04\\x07\\x00<*\\x06R\\x1c\\x0bNdMOG9\\x1c\\x1aLR\\x1aT\\x11N16\\x1f6Tt\\x04\\x01\\x0e\\x08\\x00I\\x13\\x13\\x0b\\x1aO\\x02\\x16', b'O\\x00M\\x05R\\x06\\x1a\\x1aL\\x01O\\x02xI\\x05NN\\x01ST\\x00\\x04EH\\x16\\x1b5\\x11\\x1bOBA\\x1a\\x17\\x13\\x1b\\x1d\\r+\\x02\\x121\\x0f\\x0bG\\x1a=\\x01\\x15U\\x15\\x13\\x1a0\\x13t\\n\\x1de\\x0b\\x00\\x19\\x16\\x11\\x02\\x1dT\\x08\\n\\x142\\x0cI*U\\x01S\\x00\\x00A\\x02\\x186\\x19<ER\\x07\\x12RE\\x07=7\\x1aI\\tO.9\\x0f\\x0cDT\\x1e\\x02\\x11EA\\x17H%\\x185\\rR\\roN\\x00\\x0b\\x17\\x06\\x03Y\\x19OG!\\x04I', b'\\x13\\x1e\\x07\\x1dT\\x05\\x1b\\x131\\x05 T0\\x0f\\x16\\x17OAB!&\\x1a9,\\x1a\\x18\\x16H\\x1a\\x10RN\\x1aA\\x14\\x01\\x08x\\x06\\x10P[\\x0b\\x16\\x1d*\\x00\\x00\\x06eT1\\x03\\x17\\n\\x0bN\\r!SdB\\x00\\x0c\\x06\\x137I\\x06EUN\\x075\\x00\\x0f\\x07\\r\\x05\\x16&\\x15R\\x0e\\x11T\\x1d\\x06\\x1cNN\\x07L\\x00K,I\\x1dc^\\x07\\x1d\\x1bCA\\x10H0=1\\nR\\x0e\\x1cI\\x0f\\x1d>\\n\\r\\x00M\\n\\x12xI\\x05F\\x1a\\x0b\\x1e', b'N\\x01\\x04G0\\x08\\x00I_\\x0fT\\x00i\\x0f\\x11\\rb\"7E\\x1dO\\x00\\x00\\x0c\\x17\\x17\\x0bNE\\x1d\\x1b\\x02<I\\x02Uq\\x1cS\\x11L\\x02\\x11\\x1aH\\x19sE\\x1e\\x02\\x17EI\\x06\\x1dN\\x17PMeG4\\x1d\\x02OJ\\x07\\x03TCk\\x17\\x04%\\x13-\\x15\\x17\\x16\\nI\\x0e\\x06R\\x1c\\x06\\x00Me@*I\\x1c\\x00\\x1a\\n\\x1b1\\x00\\x15\\x01\\x0b\\'\\x175\\x08\\x17OEN\\x1d\\x0b^\\x1a\\x1bY\\x0cOG,\\x06\\x08SS\\x08\\x1c\\x01cA\\x10', b\"<I\\x0cY_\\x1a\\x1d\\x1aSF\\x08\\x016\\x10t\\x15\\x06\\x0e\\x04W\\x07xR\\r\\x1cDM\\x16\\x08,\\x05\\x01N\\x1a\\x1aS\\x1aNA\\x17\\x1a+\\x00t\\t;\\x1c\\x16T\\x05\\x0b^\\r\\x0f\\x00MBK9*?YS\\x07\\x16\\x04\\x00\\x12\\t\\x1f)9-\\t\\x00OEP\\x1bR\\x07\\x00\\x0bI\\x01\\x0e\\x080\\x08N\\x19_\\x0f\\x01\\x07*\\x0e\\x00DHX!\\x11R\\x03\\x17EI\\x05\\x16B\\x06\\x00M\\n\\tt\\x10\\x19TR\\x00\\x01\\x1dT\\x14\\x10\\x06-\\x1b'\", b'\\x1adS\\x11\\x00FBOb\\x07t\\x0bRO\\x0cT\\x01\\x1c\\x07\\x07Iwg\\x00\\x02xcIKN\\x0f\\x16TS\\t\\x0c\\x0c-\\x13<\\x06\\x16Oo\\x00N\\x1dR\\x1cN\\x00M\\x1bG6\\x1dD\\x00]\\x01:\\x11K\\x0fEH!T1\\r\\x1b\\x00\\x0c\\x00\\x06x\\x06\\x07\\x03T\\x03H\\x13;\\x00\\x19U[\\x00KD\\x00\\x0fE\\x07\\x11\\x1atE+O\\x17O\\x1d\\x1d\\x17NdA\\x08O\\x0e,\\x0eIK\\x1aN\\x1f\\x1dAME\\x0bn\\x1a0\\x0e\\x1f\\x01\\x0c', b\"i \\x12\\x04 \\x07tE\\x15O\\x0b\\x07\\n;\\x06\\x1d\\x0bI\\x1e\\x03\\x130:\\x07\\x070:\\x1fTE\\x18E\\x1c-\\x06 E\\x11\\x00\\x1cA\\x06\\x13;\\x0f\\x03N\\x03\\x16\\x0c+\\x19ILU\\x07S\\rH\\x0c5\\x18'\\x135\\x11\\x00\\x1cEY\\x07\\x04\\x1c\\x1a\\x01n\\x05\\x01\\x060\\rIT\\x16\\x05\\x03\\x13V\\x05\\\\H5\\x106I\\x1dH\\ty\\x06\\x01\\x17\\x1c\\x01SMBm+\\x08\\x0cSR\\x01\\x11\\rG\\x05\\x04\\x046T^ER\\x04\\x00Y\\x0cR\\x11\", b\"eT<\\t\\x13O\\x04H\\x06\\x1d\\x1dN\\x01\\x00MOG4\\x0c\\x05\\x00C\\x01\\x07\\x07i\\t\\nb0T;\\nR\\x00EG\\x02\\x1d\\x1f\\x02\\rNM\\x01Gx\\x06IEN\\x1cy\\x1bW\\x0c*\\x07'\\x11zIROER\\x10\\x17\\x13NII\\n\\x07\\x117\\x0cNN_N\\x1c\\x1d\\x00\\x04\\x00\\x00'Tt\\x0c\\x17O\\n\\x00I\\x06\\x0b\\x01\\x1bOMCG=cDy\\x1a\\n\\x05TAA\\nH-\\x1b-\\tR,5W\\x1a\\x0b\\x00NN*M\", b'\\x1f\\x1d\\x0c\\x00\\n\\x1f\\x1e\\x0f\\x07N\\x19\\x02\\t:\\x0f\\x0eSVNS\\x13\\x00A\\x17He\\x11\"$Re\\x0b\\x00\\x05\\x07\\x07\\x01ND\\x08\\x0e\\x0e<\\n\\rLNN\\x07\\x11Y\\x00\\'\\t*\\x11<\\x10\\x06OE\\x00\\x08\\x01\\x05\\x17\\x07L\\x1f\\x1bG6I\\x1bIMNST\\x00k\\x0b\\x06\\x0bT0\\x11R\\x03\\x0cS\\x08;\\x16\\x1d\\n\\x00\\x1f\\x1a@xcIC\\x1a7S\\x1bWA\\x00\\x1b6\\x03-\\x08R\\x18E\\x00\\x0f\\x1d\\x1e\\x06\\x0f\\x00M\\x02\\x08\\x08c', b'I\\x1d\\x1ed\\x05Y\\x01\\x1d\\txI\\x10T_\\x02\\x1c\\x1dA\\x15\\x07\\x01;\\x13;\\x0b\\x1fO\\x00N\\x1dx\\x17d\\x0bG\\x1d\\x00\\x08x\\x1a\\x0fO\\x1a\\x0fS\\x1dO\\x05\\n\\x18.\\x17!\\x03\\x17CE\\x00\\x1d\\x1d$\\'NO\\x04\\x06\\t4\\x0c\\x01L\\x1d\\x1a\\x1c\\x1a\\x007\\x16&  tBU\\x0eE\\x00\\x00\\x17\\x1cN\\x05\\x00\\x14\\x00\\x08:\\x00IRI\":\\x01A\\x0e$\\x1d\\'\\x03&\\nR\\x07EU\\x1e\\x1c\\x06\\x17\\x1bM\\x0c\\x06\\x1e5\\x07\\x1cNV', b'\\x1cC\\x08&GxI\\r\\x07N\\x02S\\x06G\\x0eE\\x0cb\\x1c1\\x13\\x1d\\n\\tOI\\x15R\\n\\x06sM&\\x130I\\rNVN\\x01\\x01T\\x0f\\x08\\x03b\\x11tE\\x17\\x1b\\x11E\\x1bR\\x1f\\x1e\\x07N\\x0cH\\x15x\\x07\\x07\\x07SN\\x16\\x1d\\x00\\x0e\\x10O;=;\\x04\\x13\\x07\\x08\\x00\\x04R\\x1f\\x1a\\x1aNM\\x02\\x02;NIN_\\r\\x10\\x11T\\x04\\x06\\x1a,\\x01:E\\x13\\x1d\\x1cN\\x0f\\x1b\\x15\\x1d\\x06\\x00\\x05\\x00\\t=\\x10\\x1d\\x00O\\x01\\x00XA', b\"\\x0e3I\\x07O~\\x1aSTH\\x00\\x01\\x07+\\x03^\\x005\\x0eEE\\x1c\\x06RN\\x07I\\x00O\\x06,\\x10\\x1d\\x00\\x1a\\x0fSTU\\x00\\x04\\x1b*T5\\x006\\x01\\rTI\\x1bR\\x1c\\x0bN\\x14\\x1dGx\\x07\\x04HC\\x01\\x14TN\\x03E\\x03#T3E\\x1d?EZ\\x1a\\x17\\x1b\\nNF\\x08\\x07G<\\x04\\x10N[\\x1d:S\\x00\\x12\\x04H'\\x001\\x00\\x16O\\x1cT\\x02\\x1d\\x10\\t\\x1bT\\x02\\x06\\x0e9\\x08\\x1cK\\x1aN\\x16\\x1dS\\x16\\x0cH;\", b\"NS\\x1aS\\x12j\\t\\x04\\x0b'\\x0e&\\t\\x1cC(\\x00\\x06\\x06xNN\\x00\\x19\\x0b\\t*\\x0c N[\\x0fT\\x00*\\x0fo\\x1b!\\x003E\\x13\\x1b\\x0e\\x00\\x0c\\x0b\\x13\\x1cdC\\x03AK7I\\x06W[\\x07S\\x1dOAEbe\\x012\\x00\\x1c\\x1c\\rT\\x1cR\\x1a\\x07\\x0bR\\x03\\x00\\x0f9I\\x08*\\x1a\\x17S\\x1dNAE\\x1c1T:\\x15\\x02OI\\x00I\\x05\\x06\\x06BN\\x02O\\t=I\\nTT\\x1aS\\rO\\x15E\\x1c+T7&R\", b\"\\x13N\\t\\x00Hb\\x11:\\x17R\\x16\\x10SIR\\x0b\\x17O\\x07,\\x0e\\x147\\x01\\x00\\x00VNSTGF\\x16\\x00\\x11\\x10e\\n\\x19\\x1d\\x0c*\\x1d\\x13\\x17=\\x02I\\x03\\x16(=\\x06I\\x00\\x1a)\\x11\\x1dN\\r\\x06\\x067~53R\\x16\\x17\\x00\\r\\x1bR\\x06IP\\x0cO\\x14=\\x0c\\x1eAT\\x01\\x07'MA\\x1c\\x06b\\x137E\\x13\\rEII\\x06Rd\\nA\\x04\\x00G?\\rcK\\x1adS\\x11DA\\x01H,\\x1c6E\\x11eIO\\x1d\", b'\\x01e\\x117\\x086\\x02\\x01A\\x04\\\\\\x15NdLM\\nG+\\x07IT\\\\\\x0b\\x00\\x19I\\x00\\x06\\t\\'Tt\\x00\\x1dOHME\\x1d\\x1e\\'NKM\\x0e\\x0e6\\x0e\\x00V\\x1a\\x1ay\\x1aG\\x0e\\x04\\x1c&\\x18;\\nR<\\x0bA\\x08\\x1b\\x17-NN\\x19\\x06\\x157\\x1bc\\x00\\x1dB\\x1d\\x1aA\\x0fE\\x07\\'\\x001B\\x06\\n\\x04B\\r\\x17\\x11\\x1a\\x0cH\\t<\\x086\\x04\\x1cb\\x1a\\x17y\\rB\\x11\"Hb\\x12=\\x08^\\x0e\\n*I\"R\\x03\\x06'], 15: [b\"\\x1d\\x1f\\x00\\x06\\x1e\\x1d\\x0cG\\x08A\\x1a\\x1aA\\x0b\\x07\\x08\\x16\\x07\\x1bN\\x00O=\\x0eN\\x1fAB*1\\x1d\\x0b\\x1cR\\x0f\\x19\\x02\\x08\\x00:\\r\\x00b\\x11\\x0beA\\x13dA\\n0\\x02_SN\\n!<R\\x0c\\x06\\x17NMG\\x01L=\\x15\\x05\\x066E\\x02A\\x1b\\rYA6\\n\\x1aSE\\x04';RE\\x19\\x1bN\\x0c\\x06\\x07O\\x07T\\x12\\x07\\x01\\r\\x1d\\x00\\x04\\x00N\\x07,\\x1aMSS\\x16\\x055\\x13\\n\\x06\\x1b\\x0b\\x0c\\x0f\\x00y\\x01\\x13\\x08\\x07T\\x04\\x06S\\x07\\x08\\x00\\x001I\\x1a\\x12\\x00\\x00b:+EI\\x17\\x06\\tG\\x1cN7\\x11M\\x1d=I\\x1dN\\x16\\t\\x00\\x06=IRSG\\nb-\\x01\\x00\\x0f\\x17\\x02\\x0c\\x12\\x10\\x00\\x08\\x1d\\x16\\x06\\x11&\\x01N\", b'BI\\x1e\\x00\\x08G\\x1aO\\x1a\\r\\tO\\x13\\x17OA\\\\NN\\x02:\\x05N\\x1cO\\x0cb7\\x17E\\x07^Ng\\x12\\x01\\x07\\x02\\x19\\tH\\x1a$OYxNN&<\\x08\\x1aS\\x00o-0\\x19\\x1cc\\x1e\\r\\x0b\\x1e\\nG\\x0b\\x1d\\x00\\x00\\x11E\\x1aT\\x0b\\x00C\\x1b7IU\\x16G* 6\\x06\\x0b\\x1a$B\\x03\\x15\\x1dG\\x01\\x04\\x13bT\\x10\\x16Y\\x17-IH?\\x1bUS\\x00\\x07\\';\\x17\\x17\\x1a\\x07N\\x03\\x13\\x1bA\\x05\\x1b\\x0f\\x00\\x13E\\x03R\\x1fN\\x07\\x0e;\\x1cT:*\\x011t\\x06E\\x06\\x13\\x0cMG\\x06C\\x1eS\\x0eHTEO\\x00\\x1dB\\x00O,\\n\\x1a\\x11A\"-t\\x10E\\x00\\\\\\x1bM\\x02\\x10S\\x01\\x1d\\x14\\x1cT\\x0eOOR\\x05', b'\\x1f\\x1c\\x01GIY\\x17\\x12FH\\x11E\\x06A\\x1d\\x00\\x00\\x02x\\x10_\\x16\\x00Eb:5\\x04IxIM\\x14:S\\x0b\\x07\\r\\x11\\x11\\x11\\x0bN\\x10Ns\\x1b6\\x1d\\x1a\\x07*\\x0c+e\\x11EE\\x1f=\\x04\\x0e\\x0fO\\x0f\\x1d\\x13\\x03\\x19E\\x01T\\x06\\x1c\\x00\\x0b=IOyWI+<\\x1d\\t\\x1dS\\x0f\\x0cGNH\\x07\\x13AH\\x183\\x1c\\x00\\x1bN\\x00\\x1d6I\\x1a\\x1c\\x00\\r;-\\\\E\\x1b\\x06\\x0b\\x03\\x13\\x0cT\\x05\\x1a\\x04\\x1d\\x17\\x11\\x07S\\x17NE\\x02*\\x1a[\\x01\\x07E\\x11t\\x13\\t\\x06\\x11\\x1bM\\x06cDN\\x01A\\x1c\\x01\\x08\\x0eT\\x05\\x17NO+cRSB\\n6;Ro\\x06\\x06\\rM\\t\\x06TN\\x1d\\x14\\x1c\\x1a\\x11eY\\x10\\x03*\\x16', b'M\\x0eIT\\x1a\\x11AH\\x07\\x06\\x02H\\x00\\x14NOR\\x100SG\\x11/^\\x06B\\x06\\x07\\x19,\\x13\\x1dT\\x01\\x11AH\\x1bEOHR\\nE\\x04,\\x01[TSE\\x11 \\x06H\\x02xN\\x08\\x12\\x1aO\\x0b\\x01\\x0f\\x1aT\\x00\\x1c*\\x0b\\x1c\\x00\\x16+I\\x1ay\\x07o*t\\x00E\\r\\x0b\\x07M\\x1e\\x07YN\\x1d\\x0f\\r~\\x11OA\\x17\\x1eN\\x1b2\\x08\\x1d\\x07A\\x10%1\\x1dEI\\x1a\\x03\\x01\\x14\\rRB\\x1d\\x00\\x0fTE\\n\\x00\\x06\\x1aNey\\x10_\\x07NEb7\\x1d\\x04\\r\\x0bN\\x0c@\\x0fC\"\\x1b\\x15\\x1a\\x17EOE\\x1c\\x06A\\x00?\\x0cSyA6--RE\\x1e>\\x01\\x05GcK\\x00T\\x15\\x0bTE\\x04L\"NO\\n\\x08I', b\"\\x0bNd\\x1c\\t\\x04\\x1d\\x08OUR\\x0fL\\x16x 0Si\\x08+t\\x0b(\\x01^O\\x1e\\x06\\x07\\x00\\x06\\x15AH\\x07\\x0b\\x18O\\x15\\x0bTO,\\x00[\\x16\\x00\\x16-$\\x1dEI@N+.\\x1aP\\x1a\\x01\\x02HT\\t\\x18\\x00\\x1d:I\\x16!\\x00N\\x1cM'0\\r\\x17\\x0b\\x05\\x1f\\x17MG*\\x00\\x07\\x11\\t\\x06\\x13\\x17<R\\x01\\x00L\\n\\x7f\\x01U\\t\\x00\\x17.3\\x00\\x17\\x1c\\x06d\\x0c\\x06\\x0c\\x00N\\x1dA\\x06\\x19\\x0c\\x0eTR\\x1a\\x00\\n<N\\x1aS\\x00Ib6\\x1a\\x04I\\x1cN\\x1f.\\x05R\\x07\\x1f\\x04\\x0b\\x1c\\x00\\x03B\\x05NY\\x00+\\x1c\\x1a\\x05N665\\x0bE\\x0f\\x05\\x06\\x0c\\x00\\x08Td\\rM\\x05\\x1cE\\x1c*\\x0b\\x0bL\\x02!IV\\x1e\", b'\\x0f\\x13 \\r\\x11\\t\\x01E\\x1f\\x1az\\x1d1INTi\\x016;\\x1c\\x0cI\\x0b\\x0bMG\\x0cY\\n\\x13\\x04\\x1a\\x13,\\x1bO\\x17\\x19I\\x160 N\\x17GE.tR\\tI\\x07\\x1d@\\x08\\x06\\x00N\\x11\\x08\\x1b\\x00\\x06\\x1b\\x00\\x17=N\\x076IU\\x1dY\\x13#!\\x17\\n\\x1b\\x1d\\x1d\\x14K\\x0cW\\x01\\x1d\\r\\x18\\x15\\nO\\x00\\x1d\\x17T\\x064\\x06\\x1a\\x16C\\x1c#-\\x1d\\r\\x06\\x17I\\x05m\\x1bN\\n\\x1ck\\x18=B\\x0eNR\\x1cA\\x070\\x19\\x1aKy\\x1c5t\\x06\\n\\x06\\x1c\\n\\tm\\x00c\\x02\\x11\\x15H\\x00\\x11\\n\\x00\\x1d\\x0bAB/\\x1c\\x1aT*\\x00%5R\\x1cE\\x15\\x1b\\x05\\x0e\\x10I\\x1a\\x1d1HT\\x00\\x0eW\\x13>\\x00O9\\x1c\\x1a\\x1cA\\x10', b\"\\x02\\x01TEO\\x00RNY\\x1b\\x7f\\r_yH\\x08e&R\\x10I\\x06\\rMG.*NTA\\x01\\x1a\\x0c\\n\\x00\\x13ND\\x01*I[SEE';\\x1b\\n\\x05\\x13'\\x1d\\x08ZN\\x1c\\x18\\x00\\x1a\\x17EOA\\x13\\x0fT\\x0ex\\x0c\\x1d\\x07UB.1\\x19\\x11I\\x07\\x0bMGI\\x00\\x0f\\x1d\\x0c\\x1c\\x18I\\x1d\\x00\\x01\\x02\\x00\\x067\\x05S\\x03*E)t\\x1c\\x0c\\x07R\\x01M\\x15\\x0cs\\nTA\\x01 \\x15H\\x00\\x06IF\\x0e6\\x08[SM\\\\-1\\x17<\\x0c\\x16\\x1aM\\x08I\\x07\\r1AHX\\x04OORdSO6DR\\x14W\\x17\\x11&R\\x1c\\x0f^N\\x02\\t\\x00TN\\x11A\\x04\\x18\\x08,\\x00\\x06\\x06Y\\x035\\x05C\\x00c\\x0b;'\", b'\\x1f\\x0b\\x1dM\\x14dTex\\x00ISS3\\'t\\x1f\\x10\\n\\x06dM\\x08\\x19S\\x01~\\x15!\\x1d\\x13ON\\x06\\rG\\x0bxIV\\x1fT\\x060:R\\x0b\\x1a\\x14\\x0b\\x14GIUNTA\\x01\\x00\\x06\\n*\\x13\\x00K\\x01v\\x04N\\x01\\x0c\\net\\x17\\x17\\x0cR\\x0fJK\\x1d*)\\r\\x15\\x1c\\x11D\\x0e\\x00\\x16dO\\x06(\\x07J\\x1fN\\te2\\x1b\"\\r\\x1c\\t\\x19\\x11\\x1aEN\\x00A&\\x16\\x11\\x07I\\x1f\\nIO9\\x19^\\x07V\\x01\\'t\\x07\\x04\\x08=\\x02\\x14K\\x1aN\\n7\\x12D\\x19\\x15ON\\x06\\x1cD<=\\x1aTSE\\r\\'1\\x1d\\x1c\\x1dR\\x1bM\\x00IK\\x1a\\x11\\x05H\\x12\\t\\x0eU\\x1d\\x06\\x00\\x06x\\x08O\\x1c\\x00\\x0c-xR\\x0c', b\"O\\x07\\x1d\\x07L&0>~\\x1d\\x00\\x04b5R\\x0bI\\x15\\x01\\x053\\x0fN\\x01\\x1dA;\\x1cE\\tExI\\x00\\x00=\\x000\\x03I\\nb5RB[\\x17\\x1a\\x0b\\x13IC\\x0f\\x1a8\\x1b\\x13\\x0e\\x1dA\\n'NO=\\r\\x1a\\x00O\\x00bt\\x1e\\x11I^\\x1d\\x03G\\x05\\x00\\x07'\\x0e\\x07T\\rO\\x00R'\\x00&x\\x02O\\x14\\x00\\x04e11\\x17\\x07\\x1eN\\nG\\x01I\\x01T7\\r\\x18\\x04\\x16T\\x17\\x00\\x00\\x00;\\x1dT\\x03\\x00E';R\\x0cE\\x00\\x05L\\x0bN\\x00\\x03S\\x0e\\tTE\\nI\\x01\\nHC9\\x06\\x1a\\x02A$0 \\x13EI\\x10\\x06@\\t\\x0eOd\\r\\x04H\\x1b\\x04\\x1a\\x00\\x0b\\x1dM\\n>\\x1dS\\nS\\x1067\\x1fE\\x1d\\x11\", b'\\x13NC\\x04!\\x07_\\x16jBH:\\x15\\x0b\\x04\\x1d\\x02M\\tIO\\x02\\x17\\x12\\x0c\"\\x08\\x0eWRNwO7\\x07\\x1a\\x00i\\r\\'\"\\x1b\\x0b\\x1dRNM\\x02I\\x00\\x1a\\x15\\x0f\\x0c\\x1b\\n\\x00E\\x1d\\x02PH<\\x0b\\x1aS*\\nbs+\\r\\x05\\x1ddMG\\x06L\\x02\\x1a\\x0c\\x07\\x10\\x10e\\x00\\x1ddiH4\\x07C\\x16NE!tRE\\x08\\x17I\\x18\\x00I*\\x0b\\x1a\\x0f\\t=\\x15\\x06ZR\\x07RH2\\x1e\\x16\\x1aA\\x00\\x0b^R\\x12\\x10\\x1cNC\\x02I\\x00\\x1d\\x07\\x04\\x1c\\x1a\\x10\\ryR\\x1aOO=ITSA\\x10b:\\x17E\\x02\\x16\\r\\x02\\x0eDK\\x01T\\x11HT\\x07\\x18N\\x1c\\x17\\x00\\x06=\\x08O\\x16TE+0\\x1aI\\x0c1\\x06M', b'N\\x1b3\\x0c\\x1aS\\x00\\tbt:\\x01\\x06\\x1b\\x07\\x19\\x02\\x02T\\x0fT\\x0e\\r\\x07\\x00\\x0eO\\x06\\x07Y\\x0e0\\x08\\\\\\x07*\\x16e5\\x01\\x00\\x1aR\\x06\\x1dJ\\x10N\\x03\\x00\\t\\x06\\x10EOM\\x1dNC\\x0e1\\x04\\x1a\\x16A\\x08H:6\\x16\\x06\\x13NM(\\x19P\\x1a\\x1bA\\x07\\x11\\nC\\x00!\\x0fNe;\\x04S\\x07OE)5\\x00,\\x08\\x13\\x1b\\x0cG\\x0cR\\x1a5AO\\x13\\x08?P\\x19\\x07T\\x01=IO\\x1d\\x00\\x0260R<\\x00\\x1c\\x01M@IN\\x0f\\x1dA\\x07\\x18EHS\\x17\\x01d\\x0cx\\x0c\\x1a:C\\x06,5\\x10\\x1cI\\x06B\\x08\\x08\\rSN\\rA\\x1f\\x18\\x08\\rO\\x1c\\nK\\x00,\\n\\x1a\\x01NEn \\x11\\x00\\x08RN\\x02\\x06c', b\"<\\x01SSG\\x00 86\\x04\\x00R\\x07\\x01\\x0cIT\\x07\\x06\\x0f\\x02\\x03\\x15\\n\\x00\\x1c\\x01\\x07\\x037IC\\x07F\\x17\\x16=\\x1f\\x16IRN\\t\\x06\\x05\\r\\x0fT\\x18\\x00\\x06EOG_\\x0bD\\x021\\x0f[ST\\x11b5;E\\x0cR\\x1b\\x03\\x0c\\x0eV\\x1c\\x11A\\t\\x13ECNR\\x1ePOx?_SK\\n75\\x01\\x0b\\x10\\x11\\x00\\x1f\\x14\\x02LN\\x1b\\x0e\\x04\\x13EOAR\\x07EO0N\\x1d\\x1cSE\\x0b<\\x1bE\\x1d\\x1d\\x1aM\\x12\\x04\\x19d\\x1d\\x0f\\x1c\\x13I\\x03B\\x06\\x0bL\\x1a9\\x01I\\x1dW\\x06';\\x16\\x17\\x08\\x06d\\x05G\\x08M\\x17T1H\\x03\\r\\x0eU\\x1d\\x17\\x00O!\\x1cRSOE)6R\\rI\\x00\\x1a\\x1a\\x08\\x04T\", b\"\\x1a\\x16N\\x12+7\\x13E\\x0c\\x1e\\x1a\\x19\\t\\x05E\\x02\\x00\\x02\\x07\\x10\\x10CTU\\x17I\\x1b+\\x05O\\x17\\x00Eb;\\x1a\\x0bI\\x17\\x1d\\x00\\x08\\x08N\\x0fTF\\x1cT\\x00\\x00F\\x1f\\x01\\rOx\\x10U\\x01L\\x04*t\\x14\\x0eN_\\x02\\x03G\\x0eE\\x0b\\x11\\x00\\x1a\\x1d\\x03\\nPRNH\\x1d9\\x1a[:\\x00\\x06',REI\\x16\\x07\\x08\\x03\\x0cE\\x1d\\x1dk\\x07T\\t\\x07Tx\\x14P\\x01xc_SS\\x0b6^U\\x11\\n\\x1f\\x06\\x18G\\x08R\\x17Dk\\x06\\x10E\\n\\x00R\\x0b\\x00O7I^\\x1aT\\x01+1R\\x08I\\x17\\x1a\\x04m\\x08b\\n\\x11A\\x1b\\x18\\x08\\x07I\\x0b\\x1dYC9\\x19\\x1aSA&,^\\x0b\\n\\x1a\\x13/MG\\x01N\\x0bT\", b\"iEe<\\x00\\x16\\n\\x06\\x1d\\x01\\x13\\x01\\x07\\x0fX\\x00\\x01\\x1f\\tOSR\\x1dS\\n4\\x01\\x1aS\\x00\\x04;9U\\t\\x0cU\\x07M\\x06\\x0cK\\x00T\\x181T\\n\\x07\\x00\\x07\\x1bA\\x00x\\x1eVSU\\x04+:\\x13o\\x05\\x17\\x03@\\x0e\\x06CN\\x11\\x15\\x1a\\x17\\x03\\tE\\x06\\x02NB7\\x06]\\x03N5;;R\\x0c\\x1a\\x05\\x1dM\\tI\\x00NTA\\x039\\x13\\x1c\\x00\\x17\\x06n\\n7N[ \\x00\\x02btR6\\x04RN\\x08\\x08I*\\x00TAH-BO*\\x06\\x1dIO:\\x1dT\\x10\\x00\\x0b'!\\x06I\\x1d\\x17\\nM\\x13\\x04y\\x1a\\x1bAH\\x15\\n\\x0eU\\x1b\\x1a\\x00\\x06tIT\\x1fM\\x016;^5I\\x0b\\x0f\\x19G\\x07F\\x07XA\\x0e\", b\"e6R\\x0c\\x05\\x06\\x05\\x05\\x0fII\\x0bTFH\\x0e\\x0bOS;\\x1aLOx\\x05VST\\x07&9\\x1d\\x00\\nR\\x1cM\\tc\\x00NT\\x02\\tT\\x00\\x18\\x00\\x17\\x0cG\\x013\\rq\\x1cU\\x1713\\x16E\\x1d;\\x17MGILN\\x15k\\x18TE\\x1bER\\x1c\\x00\\x0e7DW\\x11H\\n&z\\x17\\x08\\x08\\x11\\x1a\\x04\\x13\\x0e\\x07\\x07\\r\\x03\\x1f\\x15\\x00\\x00I\\x1b\\x1aT\\x067\\rIS\\x00\\x11 &\\x1c\\x08\\x0e\\x02N\\x01mIU\\x03'\\x05\\r\\x00\\x0c\\x00\\x00;7T\\x00,\\x04_\\x1bG\\x04Hs\\x02\\x17\\nR\\x01M\\x08cL\\x0b\\x1bA\\x11\\x03\\n\\x01N\\x0b\\x1dT\\n,\\n\\x1a\\x14D\\x047=R\\x08I\\x1e\\x03M\\x1eIL\\x01\\x01\\x15H\\x1b\\x10\"], 33: [b\"\\x1dIO_\\x0c\\x1a\\x14\\x08M\\x10=\\x06*W\\x17RAD'\\x08\\x0b\\x01\\n\\x1a\\x1fNN\\x1aHt\\x01\\x1c\\x1d\\x05\\x11\\roM\\x109RY\\x00\\x16\\x16\\x12N)\\x00\\t\\x1aE\\nRS\\x0b\\x0f\\x0e^\\x08\\x06_\\x0c\\x07\\x0b\\x00\\x0cX=RNE\\x14\\x16A\\x00-\\t\\x07\\x19\\x00\\x00\\x06T/\\x06\\n'\", b'Bd\\x14\\x00\\x1dO\\x16t\\x02ON\\x01~\\x07\\x04g\\x07x\\x01KY\\x16\\x14\\tA-.\\x06\\x04o\\x0b\\x1d\\x0cN\\x1a\\x1b\\r\\x1dC]\\x1a\\x11dEMT\\x7f\\x1bR\\x00S\\x06ATb\\x13\\x0c\\x19<\\x00\\x1f\\x00\\x02\\x07Ot\\x05O\\x1a\\x1dSN\\r\\x08\\x15,\\x0bKO\\x1f\\\\M\\x00nG\\x0eI\\x0c', b'\\x1f L \\x0fEI\\x0b\\x07;\\x00\\x0b;\\x039:\\x1b0ITNE\\x0b\\x063\\x11\\x00AS;\\x13Nb\\x0cEI\\n\\x07RH\\x0f\\x18&5\\x0e\\x1c\\x1a\\x07\\x1b\\x1a\\r\\x05\\x180\\x1cTN\\x03\\x1d\\x05E5\\x0bI\\x04\\t\\x02\\x01W\\x01\\x1cB \\x08\\x01RE\\r\\x17\\x04MT>RLY\\x1c\\x11', b\"MT!\\x13AHy\\x1d\\x02\\x00/G\\x08\\x05\\x0b\\x01\\x13i\\x1db\\x04;I\\x00_\\x02\\x18\\x02\\x04MTx+EAy\\x07\\x0cH'\\x1eI\\x07E\\x07\\x17*I\\x07\\x071\\x0c\\x06_\\x06\\x1dI\\x00\\x18Ty\\x17\\x00\\x00\\x12\\x0bAO+GEDE\\n\\x16ANHC-c,O\\x1a\\x1dN\\x0bM\", b\"\\x0b\\x1d\\x1a\\n\\r\\x0f3\\x19\\x1f:\\x0bSOS^AGe\\x06$\\x00\\x0b\\x03\\x07\\x00N\\x01\\x0e:\\n\\x18N\\x06\\x11\\x00'J\\x117\\x06\\x00\\x00\\x07\\x05\\x13LeG\\x13\\x1b\\x17N\\x19\\x00N\\x06O0I\\x03\\x1a\\x08\\x1d\\x1d\\x01\\x1f\\x19x\\x06CBS\\x06A\\x006\\x00\\x08IEd\\x1dN\\x0f\\x1c\\x02xc\", b\"\\x0f\\x1dG\\x05H\\x1d5IO_I\\x1d\\x01\\x07M\\x13=\\x1f\\x00N\\x17\\x17\\x18G+\\x08\\x0e\\x0fE\\x0f\\x17O\\x1b\\x18\\x0b!\\x05CW\\x1d\\x1d'\\n\\x04\\x1841LI\\x1c\\x177E \\x13B\\x1dE\\x03\\x17y\\x05\\x1c\\x00t\\x00\\nI\\n\\x01\\x0b$\\x05\\x03+ROU\\x14\\x061M)\\x1e\\x11\\x1cE\", b'\\x02C+G\\x06\\r\\x0b\\x02\\x1bG\\r\\x0c\\x1b1\\x1d\\n\\x1aI\\r\\nEMT0\\x06NE\\x01\\x17\\x0fTbGEI\\x11\\x02RE\\x07\\x1cH,\\x07OS\\x08\\x1d\\x00\\x10M=x\\x13R\\x00\\x1a\\x1f\\x08N-\\x02EI\\x04\\rRT\\x06\\x1aO:\\x08\\x1dS\\x0fT\\x1d\\n\\x05\\x18=\\x0b\\x00L\\x001', b\"\\x1f3\\x00OUS\\x1b\\x00N+\\x08\\x00\\x01E\\x06\\x06*\\x07HO:\\x10\\x07\\x1aITN\\x04\\x0bTv6CT\\x1cRAN GD\\x04\\x0c\\x01\\x01N\\x1b\\x03H3\\x1a?[\\x1a\\x1d\\n\\x02\\x08\\x13<\\x07N*:\\x1c\\x12d'G\\x00\\x1a\\x1c\\x1a\\x1dN\\x1b\\x1f\\x06t\\x08\\x0e\\x1aI\\x1d\\x0b\\x0c\\x02\", b'OS\\x05\\x12\\x1a\\x04\\x01\\x0ex\\x1cN\\x00Sx\\x04\\x00\\x16\\t\\x11 B\\x0f\\x17*\\x1d\\x1b\\x023\\x0f\\x1b\\x1a\\x0c\\x15\\x1c\\x13\\x03\\x137\\x1dW\\x00S\\x11ATe\\x14\\x00I\\r\\x01R\\x00\\x0b\\x18\\x00<I\\x07\\x1aE\\x1d7E\\tT9\\x02D\\x00\\x02\\x06AN%\\t\\r\\no\\x1a\\x0bO\\x03\\x1cO7\\x04', b'\\x13N\\x1dH\\x1b:\\x05\\x160I\\x17\\x17B,\\x1a7\\x1a\\x00HSRFA\\x11\\x08\\n\\x10\\x0c\\x0b\\x13*\\x02\\x06\\x161\\x06\\n\\x1a\\r\\x1dd\\x06\\x0c~7RE\\x00\\x07R\\x0fP\\x05\\x14\\x15\\x1e\\x11\\x01\\x06MN\\x06\\x007I\\r^I\\x1bd\\x10\\x04=?RKIS>A\\x00,\\x12E\\x05I\\x0b', b'NeG\\x08\\x00\\x01\\x0f\\\\id\\r\\n7\\x07O\\\\\\x0c\\x19\\x0b\\x06\\x1dT<\\x1dUMS\\x1e\\x02KH\\x0eE\\x00\\x17\\x1a\\x06G\\x17\\x1ce;\\x1d<J\\x08T-\\x17\\x19\\x137\\x17\\x00I\\x1dR\\x0f\\x00\\'@B\\x1c\\x04\\n\\x17\\x00\\x0c\\x0b<5\\x04O\\x1a\\x1d\\r\\x1a\"\\x0c\\x12,^S*\\x1cRA', b'<RYE\\x1dRF\\x0063\\x15\\x05\\x04\\nxF\\x1c\\x11\\x165\\x05\\x18\\x1aI\\x1a\\x0b\\x17\\x04\\x00=;LT\\x1d^A\\x00+K\\r?\\x08\\x07\\x1d\\x00\\x00\\x1f\\x1d-\\x01OI\\x1b\\x1c\\x00E\\x01\\x170R\\x19\\x00\\x01\\x1c\\x0eLH\\x06\\x11\\x06\\x17\\x0b\\x05*\\x06H\\n;\\x10\\x1aRI\\x1d>\\x10\\x1a\\x1b', b\"\\x1a\\x06\\x11NB\\x19\\x07RROT\\x1f\\x07Awb\\x02EI\\x0b\\x0f\\x13S'\\x0cO<\\x1aO\\x1aN\\x15\\x1cBM\\x1d6\\x00\\x00\\x00:\\x1b\\x0f\\x00!\\x03\\r\\x08\\x0c\\x0bxS\\x03\\x01H^\\x00\\n[\\x10D\\x08EM\\x1a7+COS\\x17MA\\x11\\x0e\\x08IEN\\x1cA\\x02\\x0b\\x030\\x01\\x01\", b\"i\\x00\\x04et\\x01O0\\nT\\x1d\\x0c\\x1e\\x1d0U\\x07O\\x1fR\\x18N-GE\\x1e\\x1c\\x1a\\x13A\\x03\\x00\\x16t\\x19\\tU\\x05\\r\\x0f5\\x03\\x13(\\x00\\x00Y\\t\\x1cAn'\\x06\\x11I6\\x05RV\\x01H\\x0e6\\x1aHT\\x06\\x1f\\x1c\\x06MT+\\x1dSU\\x11\\x05\\x05K6\\x02E\\x08\\x00\\x07R\", b\"eG\\t>\\x04\\x0b\\x1di\\x01\\x02O:\\x0c\\tC\\n\\x07\\x19\\n\\tT6RCG\\x1c\\x1f\\x08NbGEI\\x11\\x1cRW\\x1d\\x07OzNOO\\x10\\rN\\x1c\\n\\x137\\\\NT\\x1c\\x02\\x04A'\\x12\\x0c\\x1a\\n\\x03\\x06G\\x1bHC;c\\x0e\\x1aIT\\x1d\\n\\x05\\x1b!RTW\\n\\x00\\x15*\", b'\\x1fT\\x00\\x16\\x1eANe\\t\\x10\\x0eBNR\\x00\\x0fH\\x01\"\\x08e[\\x05\\x15\\x01\\n\\x08\\x17<\\x14L*\\x07\\x1d\\x00Y*G\\x10\\x1aEN\\x01N\\x07\\x07\\x1btI\\x07MIT\\x07\\x0b\\x0cT6RRS\\x07\\x16\\x04\\x00b@\\x04I\\x087\\x1cW\\r\\x1b\\x06-\\x00\\x18\\x1a\\x0fT\\x06EM\\x11\\x08', b'I\\x1cd\\t\\x01\\x13x\\x1fTS\\x1c^\\x15Y;\\x12\\x0bI\\x00\\x00x\\x00\\x0b\\x06\\x000\\x1a\\n\\x1a\\x05\\x1d:\\nM\\x177\\x17*\\x00\\x03$\\tO)\\t\\x10\\x01\"\\x1a\\x17\\x00d&\\x01t\\x1b\\x0e^\\x00TNI\\x14\\x18:\\x06RN:\\x17\\x0eY\\'\\x08\\n\\nE\\x1a\\x1cM\\x1b\\x05\\x06 \\x07OV', b\"\\x1c\\r&8I\\x06NI\\x06\\x1aEM\\x1c7\\x1dSO\\x03R\\x02s.\\x13E\\rEN\\nT\\x17\\x03\\x07t\\x0e\\x1bO\\x1b'\\x1e\\n\\x0c\\x15x\\x01\\x07\\x00\\x16\\x1e\\x0eT;m\\x04N\\x08\\x05R\\x00\\x1a\\r\\x02tN\\x03_\\x06\\x11\\n\\x06M\\x01/\\x13MNS\\x15\\x04\\x007\\t\\x00\\x1d\\r\\x01\\x10A\", b'\\x0eE\\x07E\\x1a\\x00H\\x02\\x07O^.\\x0eO\\x1c\\x11N\\r\\x00\\x11,\\x1b\\x00FSx\\x00P*G\\x00\\x0c\\r\\x0b\\x1b\\x07\\x0b\\x07\\x1d;\\x07\\x1dCIT\\x1eE\\x18T,\\x1dsZS\\x1b\\x00F\\x0bG\\x04\\x10<\\x1dR\\x00NHO1\\x1cOR\\x02\\x11\\t6\\x02T9\\x01K\\x00\\x16\\x13\\x16O;', b\"NMS\\x06\\tL'\\x02\\t\\x05(\\x01\\x06\\x00NH\\x0b5\\x0cO[\\x1a\\x00\\x1bo+\\x001\\x13G\\x00\\x01\\x13\\x15C0K\\n\\x06\\x0b\\x07\\x16O\\x1db\\n2\\x0c\\x1cU\\x1c\\x00\\x07\\x02\\x03\\x199R*RS=AI1.\\x15\\x0cI\\x1e\\x05EBHO5I\\rT\\x00\\r\\x06E\\x19T!R\", b\"\\x13\\x07\\x00\\x05\\x111RTS\\x16\\x0bA\\x07&\\x14,\\x00\\x16N\\x10G\\x1a\\x00\\x01e\\x06\\x1d[\\x1d\\x1d=\\x00\\x03T=\\x17\\x00N\\x11S\\r\\x007\\x133\\x06\\x17N\\x1b\\x00I\\rO&\\x0c\\x0eT\\x1d'N\\x1cL\\x13,\\x13cI\\x1dRAA0G\\nc\\x1cd\\x1dD\\rH\\n6Ie\\x1a\\x1d\", b'\\x01\\x047\\x08\\x02_\\x04\\x00N\\x11M\"+\\x1dT\\x00\\x00\\x17\\x00E\\'\\x02\\x00\\x02H\\x1c\\x1dLN\\x1a\\x0es\\x0e\\x02\\x1aI\\x1aN\\x04M\\x184ROA\\x03\\x17kN%\\x15\\x15c\\nB\\x06A\\x06\\x07e1I\\n\\x1a\\r1\\x1a\\x01\\t\\x176\\x17bNy^\\x11YbG\\x08\\x08\\n\\x08\"c\\x06', b'\\x0b\\x0c\\x16\\x1aRS\\x07\\x01\\x02t\\x19\\x0e\\x1a\\x07\\x15\\r\\x16M\\x1a,RN\\x00S@AC+\\x1e\\t\\x04\\x16N\\x0bM\\x0f\\x07B6*\\x0eS\\x1a\\x04\\x00\\t\\x0c9?\\x00EP \\x07AI6\\x08EN\\x04\\x0f\\x06*ND\\x0c!\\x06\\x03TI\\x1bB6M\\x18t\\x10TU\\x01\\x0b\\x14L-\\x06', b'\\x07S\\x06Fzb\\x0c\\x0b\\x10\\x0c\\x01\\x1cTI\\x1a\\x00=c\\x0bN[T\\x0c\\x0c@\\x131\\x16O\\x00\\x00Rk\\x00#GED\\t\\x01RK\\x1aH\\x061\\x02\\x00\\x1a\\x06T\\x07\\x11\\x03=;\\x1bUSK\\x00\\x0fT\\x11mE\\x01\\x17N\\x1dAd\\x11O5\\x0e\\x0e\\x1a\\x06\\x1d\\x1dEM\\x1a9\\x1fT', b\"N\\x12\\x0c\\x07\\x7f\\x15E\\x07S\\x06\\x12I*\\x13\\x0c\\x07\\x0b:REN\\x1c\\n Z\\x00U\\x06\\x01\\x0f\\n\\x036+\\x19LPS\\x0b\\x0ci'\\x06\\x11\\x05E\\x1d\\x04A\\x01\\t\\x015\\rH\\x16\\n\\x13\\x1a\\\\C\\x101\\x1d\\x07y\\x1a\\x17\\x15SbmI\\x0c\\x1c\\x01\\x0bG\\x01\\x04\\x06^\\x10\\x04C\\x0cT\", b'\\x1b<\\x1aOI\\x06XN\\x08M\\x074\\x17\\x00N\\x07U\\tT0J\\n\\x08EN\\x1dU\\rH\\x01:\\x06\\x1aN\\x0c\\x1b\\x02*M\\x11;RGR\\x1f\\x13AI.\\x11\\x08N\\x17N\\x1f\\x00N\\x00\\ntIOTI7\\x01\\x0bM\\x1c=\\x10y\\x00\\x05RA\\x00-\\x00\\t\\n5\\x01\\x0b\\x00N\\x0e', b'\\x01\\x0c\\x17\\x1f\\x00\\x07H\\x02;\\x0f\\nVI\\x13I\\x17M\\x110R\\r\\x00\\x07\\x078D1\\x0e\\x06\\rEN\\x06Y\\x1d\\t\\x0e<\\x0cO_\\x08\\x13\\x17\\x04\\x1f\\x156\\x1dIAS\\x06k\\x00\\x0bm\\x11\\x19\\x0cd;\\x07\\n\\t\\x1asc\\n\\x1a\\x08\\x1b\\x17\\x00@\\x03,RI\\x00S\\x1e\\x14\\x006\\x08\\x10', b'\\x16\\x1eAYH\\t\\x08\\x10\\x10\\x02UA\\x19\\x01O;\\x08O[\\x1dTdE\\x1d\\x1bxROAS_\\x05\\x00.G\\x03\\nE\\x0f\\x1d\\x00N\\r\\x06t\\x0c\\x1d\\x1d\\x07\\x1a\\x14\\x16\\x01 2Uy\\x00S\\x1ck\\x00b\\x08\\x10IE\"RA\\x1a\\x1d\\x00&D\\x07R\\x1e\\x11\\x17&\\x0cT5\\x1aNN', b'E\\x08\\x1dx:\\x07AS\\x06\\x0eSb\\x06\\x13\\x08\\t\\x02\\x15T\\x061&$IOVc\\x01\\x00\\x08@\\x11!\\x17PE\\x16\\x1f\\x15N;\\x15\\x17\\x07,N\\x17\\x00\\tO\\n;\\x0c\\x07O\\x04\\x1b\\x1a\\x01M-;\\x1aNS\\x10\\x13\\x04D,\\x13E\\x1c\\x1cN\\x1bA\\x06H\\x00;\\x10\\x1cO\\x08X\\x05', b'6I\\x01~\\x00T\\x00\\x01\\x05\\x03x5YE\\x07R\\rIb\\x06\\x00\\x1d\\t\\x0f_U=\\x1bO5I\\x01UI\\x11\\x1cI\\x14Tx\\x17H\\x00\\x14\\x11\\x03\\x00#GE\\rE\\n\\x17SN\\x1d\\x07;\\x04\\x00[\\x06S\\x0b\\x04M\\x009\\x16LTT\\x101T6\\x0e\\x04\\x1c\\x08N\\x13S\\x1aH\\x16', b'\\x00\\x1aRj\\x1a\\x0bO&ICN\\x06TNE\\x19\\x1b*\\x1bNAT\\x13\\x0f\\r!\\x12E\\x0b\\x0e=\\x0bUd\\x1aAtIe[\\x19\\x1d\\x02E\\x08\\x012\\x1c*TS\\x1aAR6\\x0fE\\x08\\x12\\x17\\x07N\\x1a\\x1cO:\\x0fOTI\\x11\\x06\\x17\\x02\\x18=RTNS\\x17\\x15Y+G&I', b'\\x1e\\tTb\\x13\\x17 \\x10\\x0fROO!\\x0e9\\x01\\x18V\\x1aTN\\x16\\x14\\x10x\\x19P*\\x16\\x17\\x00Ie(\\x03I\\x0b)!NB\\x06\\x065I\\x16U\\r5\\x06\\x07\\x0c\\x16=RAT\\x07\\x1cA\\x07bKE\\x1dE\\x07\\x06C\\nH\\x001\\r\\x0e\\x1a\\x0f\\x11\\n\\x01M\\x1cx\\x11FO\\x1e', b\"\\x01\\x1106IAT\\x15\\x0fLbGEI\\x00\\x0b\\x17IN\\t\\x1btIOqE\\x11'\\x11M\\x196\\x1eVEy\\x1d\\x0eP&G\\n\\x02\\x0b\\x07\\x1bCN\\x04\\x06-\\x1b\\x16\\x1d\\x0e\\x1a\\x1cEM\\x00*\\x06\\x00B\\x1b\\x11\\x15H'\\x08\\x08\\x1cE\\x17\\x0bB\\x1bHO=\\x06\\x0eSI\\x01\\x03\\x10\"], 40: [b'\\x1d3\\t\\x08:I\\x16T\\x0cNO\\n\\x1c\\x07\\x17\\rRGd\\t\\x1d\\nC\\x1bMH\\x076(!6\\n\\x0cR\\x04OO,\\x1a\\x00\\x1a\\x06S\\x19\\x1c\\x1b\\x00\\x1c\\x08\\x01\\x1c\\x00\\x07\\tb\\x0c\\x00G5/I\\rRI\\rI\\x00\\x1aW\\x08\\x08\\x1c', b\"BS\\x00\\x1a\\x00y\\\\\\x06\\x06O\\x01AN\\x17DH\\t'&\\x06\\x0801E\\n;\\x0c\\x1aV\\x11UN\\x0f\\x1aS\\x01\\x04\\x11*-\\x0e\\x01\\x07E\\x01\\x03\\x0b\\x0e\\x13\\x121;II\\x06\\x01OC\\x17R\\x00\\x17\\x0f\\x11\\x1d\\x11\\\\O\\x06\\x14\\x1a\\x0b\", b'\\x1fNdF\\x1a3\\x00\\x07Mb\\x1b\\x1d\\x14;x\\x11\\x08R\\x1d\\x00UEU*\\x0fN\\x01\\x06\\x11RWN\\x15\\x0f\\x06OH\\x08e\\x1dT\\x11-x\\x11\\x0cU\\x19\\x07R\\x04[\\x00\\n\\x06\\x1a\\x06\\x01\\x17E\\x17A\\x1b\\nYHM,\\x06\\x1aGx', b\"Me&\\x07\\x135R\\t\\x0f\\x06\\x01\\tT\\t0H\\x00[T\\x07\\x1axU'\\x0f\\x03\\x00\\x00\\x1a\\x03*BT\\x1e;x\\x11I1\\x08\\x1cIE[TB\\x04\\x03\\x06T\\x00N\\x1d\\x0eN\\x0bH\\x1aM0\\x00\\x15\\t-t\\x04c^\\x1d\\x04FE\", b'\\x0bR\\x07OI\\x0b0S\\x02\\x01SR\\x15Ri\\x0b\\x02N\\x16G\\x0c+1HTGs!E\\x06\\x17De\\x00\\x08CR\\x07\\x08\\t\\x1b\\x1a\\x06\\x00\\x07AN\\x00\\x00\\rCb\\x00\\x1a.s=\\x00c\\x17\\x1c\\x01KE\\x1aNdI\\x16\\x0b\\x011', b'\\x0f\\x06S\\x1f\\x1a\\x1biN\\x0e\\x0bBY\\x1a\\x19e\\x16\\x11Jt0E\\x06R\\x04\\x1bL\\x16UA\\x1a\\x1bS!\\x1d\\x1bO\\x17\\x12\\x1b\\x1cNO\\x05\\x05\\x01=\\x0f00\\x04I\\x06IHcE\\x1a\\x007IT\\x16\\r\\x15G\\n1\\x02E\\x00\\x06\\x02', b'\\x02\\x00\\x00YO\\x01e\\x02\\x03G77\\x0c\\x01\\x1fIO\\r\\n\\x1aG\\x1ccS\\x13\\x1dRU\\x00A\\x0b*P\\x1c\\x037\\x06T\\x14t?E\\x0c\\x17NHAE[Rd\\x0c:\\x061\\x13Wd\\x0ed\\x17\\x00H\\x02-O\\x18\\x0265\\x0e\\x04', b'\\x1fG7xE\\x05\\x1f\\x10CS\\x04ON\\x0bI\\x1f\\x10T\\x14*\\x01A=\\x04K\\x03\\x03e\\x0b\\x1dK<9DNR\\x07\\x1cE\"\\x1aTN\\x1bS\\x1f\\x1a\\x1fVNk\\x02E\\x00DM+<\\x01m1+\\x08IR\\x19\\x0eT\\nOY\\x0b', b\"OT\\x16~H\\x0fISR\\x1d\\x07\\x00IA\\x07\\nE1\\x0b\\x11\\x00\\x13\\x12:=\\x00\\x06\\x1eI\\t\\x00E]\\x00N\\x1a\\x14\\x17T\\x1eA\\x067\\x03\\x02\\x00\\x0f\\x08'e-\\x0b7:E\\x0f\\x06\\x06OyESUd\\x1e\\x1f\\x0bT\\x0bSNA\", b'\\x13\\x1c\\x06j\\x0fF\\x02\\x08L\\x0c\\x1e&O\\x07\\t\",\\x00I\\x1d\\r\\x00PE\\x1a\\x00N\\x05\\x1cR\\x1a\\x1fHd\\t\\x1aEL\\x1f\\x18.\\x06=\\x06&2\\x0cIRN\\x00\\x00\\x04_y\\x07\\nS\\x05\\x1b\\x16N\\x1d\\x11\\x06\\x04\\x00\\x05M+\\x02\\x1b', b\"N\\r\\x0cb\\x1d\\x07\\x02;=\\x00\\x0c\\x1d\\x08\\x1b\\x00\\x00NA\\x03IS\\x1d\\x11\\x17A=\\x05N\\x13Y\\x07\\x14'e\\x15\\x0654\\r\\x0c\\x1d\\x1a?N\\nON\\x01\\x00K\\x07\\x1d\\x1c\\x00\\x01\\x15\\x06\\x06A\\x1d\\x08%\\x06\\x18\\x0e-,\\x00\\x10\\x11\\x1c\\x01\", b\"<E\\x1a6\\rOT\\x10N\\x00N\\x07\\x07\\x13\\x19REN\\x18'oD\\x1a\\x0bb\\x0e\\x11\\x0c17EI\\x06?\\x1dG\\x0bSYN\\x07SRT\\x07SI\\x0f\\x1a\\\\\\x07\\x1cM1\\x1aXG;6E\\x08R\\n\\x0eTER\\x00\\x01I\\x00R\", b'\\x1aM\\x17\\x0cS\\x1d\\x00\\x06\\x00\\x17\\x15IEG\\x11\\x000\\x1bTGex\\x06\\x0f\\x14\\x04\\x01E\\x17OP)\\x1d:\\x16\\x13\\x16NNk\\t\\rP&\\x036O\\x17Gt*E\\x1a\\x13IOD\\x08TT\\n\\x1dS\\x0b\\x11\\x06A\\x06\\x14/\\x0c*', b'i\\x07A\\x1d\\x04N\\x01\\x05/\\n\\x1c\\x139=E\\x0cR\\x01\\x07CHVA\\x0b\\x05\\x00\\x0b\\x11^\\x07\\x02\\x0e\\x075\\x00\\rMe\\x1b9G17\\x04\\rR\\x1d\\n*\\x0c_*\\x03\\r\\x10\\x01\\x1b\\x17A\\x06A\\x066\\x00H\\x056\\nTG7\\x08', b\"e\\x04\\x1d\\x0f:x\\x0bI\\x0b\\x05\\x0e\\x00\\x00\\x1aON\\x1d\\x16\\x17\\x15@U\\x02\\x02\\x17\\nI\\x18M0\\x0e\\x10Gz4\\x17\\x0eR\\x01\\x00*\\x17IZN\\x0e\\x1aR'\\x1c\\x007\\x04N\\x04O\\x0bMb\\x00\\x03\\x0e5,\\x07\\x08R\\x08\\x1cLIV\", b'\\x1f\\x0c\\x01A\\x01N\\x07\\x0fI\\x1f\\x06\\x13R*\\x19\\x00\\x06EA\\x06@!\\x0e\\x00G:6E\\x19\\x17\\nCWES\\x00\\x07\\x08\\x16\\x045\\x17S\\x07k\\x0b\\x02A\\x07M5\\x00\\x18m:x\\x11\\x1c\\x10\\x1c\\x1dS\\x1cRO\\x1a\\x0f\\x01\\x13\\x1dRA', b\"ISR\\rRHN\\x0f\\r\\x0c\\x07\\x01g\\x16\\x01\\x1a\\x06;<EZ\\x19\\x0fOGE\\x1dT\\x1cI\\x16R\\x1d$K\\x02\\x13\\x00EI\\x04M'O \\x13<6E\\x04\\x17\\x1c\\x03\\x07EIO\\x1e\\x08\\x14\\x1dT^A\\x17A\\x1bEY\\x1c\\x1a;\", b\"\\x1c\\x12TH\\x19'\\x02\\x10\\x08:+\\x13:\\x1aI\\x0bN\\x0b\\x1aFNE\\x01\\x13\\x1d_\\x0c\\x1c\\x00\\x0fIH\\x1c\\x0c'\\x06\\x18\\x0326\\t\\x1a\\\\c\\x07T\\x11^S\\x17\\x08\\x01R7\\x11T\\x1cA\\x1a\\rN\\x1bM6C\\x12\\t^x\\x11\\x01R\", b\"\\x0e<0\\x06\\x01R\\x10ONB\\x1aE\\x01\\x0c\\x03RT\\x17S\\x1b8N\\x04N\\x1a@b\\x16\\x17Gt7\\r\\x07R\\x02O\\x00\\x17\\x1d\\x00\\x01I \\x17\\x1dR\\x00\\x1aA\\x05EI\\t\\x0c'C\\x17\\x13 ?\\n\\x0eRI\\x1aK5SL\\x07\\x1d\", b'N\\x0c_U\\x0b\\x04S;\\x17^TNA\\x1c\\rT\\tM-\\x01\\x1b.3<\\tI+\\x00\\x1bL\\x0bW\\x00\\x07\\x08\\x16\\x01\\r\\x17\\x00\\x1a\\x0fd\\x11R\\x06\\x01\\x0b\\n\\x00\\x026,\\x10\\x05\\x02I\\x03LE\\x1aN\\x01\\x0f\\x14\\x1c\\r\\x1eT\\x0b\\x15\\x06', b'\\x13\\x1e\\x00\\x1aA\\x07\\x01\\x00\\rM*\\x0e\\x13\\x0250\\x0b\\x10R\\x02O\\x00\\x0c\\x1a\\x00=\\x06\\x1d\\x1b\\x1b\\x1dE\\x0f\\rNET\\x07\\x0c#\\x07\\x13m5=B\\x00R\\x19\\x06N\\n\\x1aS\\x02I:\\x1d\\x11\\x06*\\tA\\x1b\\nKH\\x0cnO\\x11\\x06', b'\\x01\\x08 \\x1b\\x13\\x0c&:\\x15.\\x17I\\n\\x07\\x16[Y\\x0f\\x05S_\\x18\\x1eT\\x0f\\x00\\x1bBC\\tM O\\x18\\x1557\\x10\\x02\\x1c\\x1bOs\\x17\\x1d\\x00\\x05\\x1dS\\x1f\\x1d\\x16*\\x0bA\\x0c\\x06SH\\x05\\x11O\\x03\\tt!\\x08\\x10R\\x05OT', b'\\x0bI\\x13\\x00\\x06E\\x10_T\\x01I\\x17\\x06\\x07\\x17TNF\\x0b\\x0c\\r\\x01\\x04*\\x01\\x19Gt=\\x03\\x1d\\x1d\\x1a\\x0eHEJ\\x00\\x1d\\r\\x1cx\\x00\\x06S\\n\\x04\\x06\\x01E\\x06\\x14\\x11O\\x19\\x061=\\x08\\x08\\x1dc\\x07Ko\\x1aUN\\x1a\\x1c\\x10T', b'\\x07\\x1a\\n\\x1d\\x00X\\x15G\\x1dA\\x19\\x04\\x00HMb\\x04T\\x13 x\\x0e\\x1a\\x13\\r\\x1cC\\x11\\x1aE\\x07\\r\\x03R\\x1d\\x05\\x00\\x1eAN\\x10n\\r\\x01b\\x00T\\x08;yBN\\x1d\\x1d\\nCI\\x1aE\\x1aIy\\x1b\\r>M\\x1d\\x15\\x0f\\x10O\\x0e', b'N\\t\\x05BLHM+O\"\\x0697\\x0bc\\x1b\\x00\\x18\\x00EqE\\x1a\\x1dS\\x1d\\x15\\x1dM\\x1c\\x0c\\x17\\ni\\x06\\x04!\\n\\x15\\x0037\\x15\\x0c\\x1c\\x1e\\x0eU\\x12\\x1a\\x00\\x1dI\\x1bR\\x1fRANA\\r6TH\\x0c7\\x06\\x1c\\x1e0!\\x10', b'\\x1b\\x11Gt1\\x08\\x02\\x1c\\x0e\\x0eY\\x0b\\\\O:\\x1a\\x17\\x13\\x00\\x07NN\\x08N\\x08N\\x06M#A\\x11K;;\\n\\x07\\x00\\x06\\x1dR\\rMP\\n\\x06\\x1dR\\x13\\x1cy\\x08A\\n\\x00dH\\t,B=\\x085=\\x08\\x10\\x01\\n\\x0e\\x00\\x00\\x1aN', b'\\x01OO\\x04_A\\x07I\\x1c\\x1cT^FN\\tNEN\\x00\\x1d-\\x02\\x17\\x1e5xE\\x0e\\x19IC\\x00\\x0b_\\x00\\x01\\x10\\x03\\x17\\x1bR\\x00\\x07ANEF\\x00M-\\x0e\\x13\\x08t9\\x04\\x06\\x16DOM\\x1c\\x1aUN\\x00S\\x06\\x1d\\x00c\\x05', b'\\x16\\x14\\x12\\x1eS\\x00\\x02dEI!Mb\\x0b\\x11\\x08:6\\x00I\\x11\\x10\\nO\\x0eNT\\x0b\\x0cyR\\rS\\x00dA\\x07\\t\\x00\\x07\\x19;\\x01\\x16\\x13^9\\x11\\x08\\x07\\x1a\\nN\\t^NNIS\\x05\\x11RB\\x1d\\x05\\r&\\x00\\x1cM-\\x16', b'ELH\\x01bO\\x1f3^4E\\x1dU\\x00OKB[\\x00\\x0f\\x02S\\n\\x01\\x17O\\x1c\\x15\\x1doN\\x07M;&~\\t12\\x13\\x01\\x1dN\\x16R6T\\x00\\x00E\\x07\\x06S\\x0b\\x00\\n\\x15\\n$AH@-\\x06\\x1bG;>E\\x07\\x1fI', b'6!\\x08I\\x15 OO(VW\\x06\\n\\x00\\x15TR\\x00\\x0c\\x0fN\\x17PHMb\\x16TG\\r7\\x10*\\x17\\x07<\\x07EUI\\x0b\\x1cSR\\x1d\\x02A\\x1a\\x05NIT\\x1c\\x1fHO\\x1c\\x08:+\\nD\\x0b\\n\\x18T\\x08O*\\x01\\x0c\\x1e', b'\\x00\\x1aE\\x1a\\x06T\\x1bT\\x0bA\\x07\\x04\\x0f\\x16Ib\\x1d.\\n\\x10\\x08<1\\x06\\x016I\\x02P\\n\\x1a\\x00\\x01\\x19\\x07\\x1dT\\x13C\\x00AI\\x16T\\x18\\x0c6\\x07T@t1E\\x00+\\x0c\\nN\\x1c\\x1aNNES\\x1c\\x1d\\x17N>\\x16N\\x10', b'\\x1eGN\\t\\x07\\x08N\\x02Mb\\x03\\x1a\\x12=*$\\x05\\x1b\\x08ON\\x1c[A\\x0b\\x0c\\x07\\x0b\\x11\\x07G\\x1e\\x0cB\\n\\x00b\\x1f)H\\x13\\x15;0\\x15\\x1b\\x1b\\x08\\x03\\x19<TB\\r\\x06\\x1dRS\\x06WB1N\"\\x00\\x04M)\\x03T\\x08\\'', b\"\\x01+e\\x11\\ttx\\x10\\x195\\x05OS\\x0bVN\\x0f\\x1a\\x07\\x1fT\\x1fL\\x00\\x13\\x02\\n\\x00\\x1aJ+\\x1d\\x11G,(3\\x0c\\x1bI\\x07EE_I\\x05\\n\\x07\\x17D=\\x07\\x0b\\x12\\x1b\\x01D\\x1c\\x04'O\\x18\\x00;9\\t\\x06\\x0b\\x08eN\\x0c\", b'I\\x00>\\x02\\x07\\x0b0S\\x01\\x06Sx\\x11UI\\n\\x18\\x1aEA\\x1b\\x08+OT\\x0et+\\x03\\x05\\x00\\x06OY\\x0cOAN\\x07\\x07\\x17T\\x1a\\x00\\x00\\x00NENHLbOT@!9E\\x04\\x13\\x0c\\x0eOET\\x00\\x00I\\n\"X\\x11', b\"d\\x05\\x16RT\\x1di\\x1a\\x12O\\x07wHM'OT\\x02$3\\n\\x1a\\x16\\x0b\\x18L\\rNE\\x02\\x05\\x11\\x1d\\x11\\x11N\\x00\\x03I\\x17T\\t\\x0c H\\x19m^<\\x0cI\\x1a\\x04\\rR\\x17TB\\x0b\\x02\\x05\\x0bT\\x05D\\x17M\\x03ELHM\", b' \\x1d\\tz\\x0b\\x196O\\x07G10,\\x08\\x01 eN\\t_MN\\x06\\x16\\x17\\x15\\x13Y\\rA\\x1d\\x04N\\x18\\x0c)\\x06\\x01G-,\\x08\\x1b\\x13I\\x0ey<\\x1aS\\x0f\\x06\\x12\\x17\\x11\\x17C\\x0bMB\\x00\\x00\\x1f\\x05b\\x00T\\x12 9&c', b\"TG8\\x7f\\x17IR\\x05\\n*EC\\x00\\x02ISxT\\x13\\x00\\x0b\\x00\\r\\x11T\\x00\\x03.\\x1b\\x13G6xI\\x1d\\x01\\x05\\x16L\\x0cUA\\n\\x1a\\x1c\\x06\\x1b\\x1dMN\\x0f\\x1a\\x01LHM'OTG&,\\r\\x00\\x10\\x1c,S\\rCO\", b\"\\x1dYEIA\\x02\\n\\x16U~x\\x00\\r\\r\\x1d\\x06s\\x1c\\x14+O\\x00\\x0etvE\\x0e\\x17I\\n*\\t[\\x00\\x07I\\x1f\\x1b\\x1d\\x1c\\x00\\x14A\\x0b\\x0bI\\x1d\\x18'\\x02\\x10Kt7\\x15cR\\x1a\\x0eb\\x1cRI\\x1a\\x06S\\x1d\\x1d\\x13\\x00\\x03\", b'\\x1d\\x11\\x06\\x00\\x14\\x00\\x01\\x11S;,;\\x00\\x1b\\x065,\\nI\\x06\\x1e\\x1dOo\\x1a*NIy\\x06\\'\\x0bN\\'\\x0f\\x1d\\x04N\\x03\\n%\\n\\x18\\x14t;EIR\\x10O\\x00\\x04TI\"\\x1d\\x02\\x1c\\x1b\\x10A\\x1a\\x04\\x01\\x01M\\x0b\\x196\\n', b\"C\\x04\\x05H\\x16\\x0e\\ttx\\x08\\x07\\x1d\\x07\\x18\\x00\\x0b[\\x00\\x1aI\\x1c\\x1d\\x01;*:kd'\\x00\\x07M&H\\x13\\x13t\\x7f\\x00I\\x00\\r\\x06\\x00\\x08\\x16T\\x03\\x10S;\\x07\\x1cG\\x1a\\x04\\x01\\x10Y\\x11\\x026\\nT\\x00==EI\\x1aI\"]}\n",
            "key: Terminator X: Bring the noise\n"
          ]
        }
      ],
      "source": [
        "import challenge3 as c3\n",
        "import challenge6 as c6\n",
        "\n",
        "test_Normalized = defaultdict(list)\n",
        "Normalized_list = dict()\n",
        "for keysize in range(2, 41):\n",
        "  block_list = []\n",
        "  for i in range(int(len(text)/keysize) + 1):\n",
        "    block_list += [text[keysize*i:keysize*(i+1)]]\n",
        "  \n",
        "  distance_list = []\n",
        "  for i in range(len(block_list) - 1):\n",
        "    distance_list += [c6.hamming_distance(block_list[i],block_list[i+1])]\n",
        "  Normalized_list[keysize] = sum(distance_list)/len(distance_list)/keysize\n",
        "\n",
        "  \n",
        "  for i in range(2, len(distance_list) + 1):\n",
        "    test_distance_list = distance_list[:i]\n",
        "    test_Normalized[i] += [(keysize, sum(test_distance_list)/len(test_distance_list)/keysize)]\n",
        "\n",
        "max_chunk = int(len(text) / 40) + 1\n",
        "for chunk, normalized_list in test_Normalized.items():\n",
        "  if chunk > max_chunk:\n",
        "    break\n",
        "  print(f\"for using {chunk} chunk, best 5 scores are : {sorted(normalized_list, key=lambda x:x[1])[:5]}\")\n",
        "\n",
        "print(*sorted(Normalized_list.items(), key=lambda x:x[1])[:10], sep='\\n')\n",
        "candidate_keysize_list = [x[0] for x in sorted(Normalized_list.items(), key=lambda x:x[1])[:10]]\n",
        "\n",
        "transpose_block_dict = dict()\n",
        "for keysize in candidate_keysize_list:\n",
        "  block_list = []\n",
        "  for i in range(keysize):\n",
        "    block_list += [text[i::keysize]]\n",
        "  transpose_block_dict[keysize] = block_list\n",
        "\n",
        "print(transpose_block_dict)\n",
        "for keysize, transpose_block_list in transpose_block_dict.items():\n",
        "  decrypt_list = []\n",
        "  for index, transpose_block in enumerate(transpose_block_list):\n",
        "    score, _, key = c3.try_decrypt(transpose_block)\n",
        "    decrypt_list.append((index, (score, key)))\n",
        "  #print(decrypt_list)\n",
        "\n",
        "  key = \"\".join([chr(x[1][1]) for x in decrypt_list])\n",
        "  if all([x in string.printable for x in key]):\n",
        "    print(f\"key: {key}\")"
      ]
    },
    {
      "attachments": {},
      "cell_type": "markdown",
      "metadata": {
        "id": "poWFslIEcgMa"
      },
      "source": [
        "Chellange 7"
      ]
    },
    {
      "cell_type": "code",
      "execution_count": 13,
      "metadata": {
        "id": "Aajwi32wcna2"
      },
      "outputs": [],
      "source": [
        "text_list = get_txt_from_url(\"https://cryptopals.com/static/challenge-data/7.txt\")\n",
        "text = ''.join(text_list)\n",
        "text = base64.b64decode(text)\n",
        "key = b'YELLOW SUBMARINE'"
      ]
    },
    {
      "cell_type": "code",
      "execution_count": 14,
      "metadata": {
        "colab": {
          "base_uri": "https://localhost:8080/"
        },
        "id": "IPDnvxfzx1V2",
        "outputId": "06625b2e-c4c5-4b2a-da7c-a7ca62f7cdcd"
      },
      "outputs": [
        {
          "name": "stdout",
          "output_type": "stream",
          "text": [
            "b\"I'm back and I'm ringin' the bell \\nA rockin' on the mike while the fly girls yell \\nIn ecstasy in the back of me \\nWell that's my DJ Deshay cuttin' all them Z's \\nHittin' hard and the girlies goin' crazy \\nVanilla's on the mike, man I'm not lazy. \\n\\nI'm lettin' my drug kick in \\nIt controls my mouth and I begin \\nTo just let it flow, let my concepts go \\nMy posse's to the side yellin', Go Vanilla Go! \\n\\nSmooth 'cause that's the way I will be \\nAnd if you don't give a damn, then \\nWhy you starin' at me \\nSo get off 'cause I control the stage \\nThere's no dissin' allowed \\nI'm in my own phase \\nThe girlies sa y they love me and that is ok \\nAnd I can dance better than any kid n' play \\n\\nStage 2 -- Yea the one ya' wanna listen to \\nIt's off my head so let the beat play through \\nSo I can funk it up and make it sound good \\n1-2-3 Yo -- Knock on some wood \\nFor good luck, I like my rhymes atrocious \\nSupercalafragilisticexpialidocious \\nI'm an effect and that you can bet \\nI can take a fly girl and make her wet. \\n\\nI'm like Samson -- Samson to Delilah \\nThere's no denyin', You can try to hang \\nBut you'll keep tryin' to get my style \\nOver and over, practice makes perfect \\nBut not if you're a loafer. \\n\\nYou'll get nowhere, no place, no time, no girls \\nSoon -- Oh my God, homebody, you probably eat \\nSpaghetti with a spoon! Come on and say it! \\n\\nVIP. Vanilla Ice yep, yep, I'm comin' hard like a rhino \\nIntoxicating so you stagger like a wino \\nSo punks stop trying and girl stop cryin' \\nVanilla Ice is sellin' and you people are buyin' \\n'Cause why the freaks are jockin' like Crazy Glue \\nMovin' and groovin' trying to sing along \\nAll through the ghetto groovin' this here song \\nNow you're amazed by the VIP posse. \\n\\nSteppin' so hard like a German Nazi \\nStartled by the bases hittin' ground \\nThere's no trippin' on mine, I'm just gettin' down \\nSparkamatic, I'm hangin' tight like a fanatic \\nYou trapped me once and I thought that \\nYou might have it \\nSo step down and lend me your ear \\n'89 in my time! You, '90 is my year. \\n\\nYou're weakenin' fast, YO! and I can tell it \\nYour body's gettin' hot, so, so I can smell it \\nSo don't be mad and don't be sad \\n'Cause the lyrics belong to ICE, You can call me Dad \\nYou're pitchin' a fit, so step back and endure \\nLet the witch doctor, Ice, do the dance to cure \\nSo come up close and don't be square \\nYou wanna battle me -- Anytime, anywhere \\n\\nYou thought that I was weak, Boy, you're dead wrong \\nSo come on, everybody and sing this song \\n\\nSay -- Play that funky music Say, go white boy, go white boy go \\nplay that funky music Go white boy, go white boy, go \\nLay down and boogie and play that funky music till you die. \\n\\nPlay that funky music Come on, Come on, let me hear \\nPlay that funky music white boy you say it, say it \\nPlay that funky music A little louder now \\nPlay that funky music, white boy Come on, Come on, Come on \\nPlay that funky music \\n\\x04\\x04\\x04\\x04\"\n"
          ]
        }
      ],
      "source": [
        "print(decrypt_ECB(text, key))"
      ]
    },
    {
      "attachments": {},
      "cell_type": "markdown",
      "metadata": {
        "id": "imVJL41QA2Xy"
      },
      "source": [
        "Challenge 8"
      ]
    },
    {
      "cell_type": "code",
      "execution_count": 15,
      "metadata": {
        "id": "bTtwn-Pl1UEl"
      },
      "outputs": [],
      "source": [
        "text_list = get_txt_from_url(\"https://cryptopals.com/static/challenge-data/8.txt\")"
      ]
    },
    {
      "cell_type": "code",
      "execution_count": 16,
      "metadata": {
        "colab": {
          "base_uri": "https://localhost:8080/"
        },
        "id": "IWuwSv8j2zgH",
        "outputId": "ead8a50b-8b92-4807-dc39-ff49a81192cc"
      },
      "outputs": [
        {
          "name": "stdout",
          "output_type": "stream",
          "text": [
            "205\n"
          ]
        }
      ],
      "source": [
        "print(len(text_list))"
      ]
    },
    {
      "cell_type": "code",
      "execution_count": 17,
      "metadata": {
        "colab": {
          "base_uri": "https://localhost:8080/"
        },
        "id": "Fh3T-H7z1jir",
        "outputId": "422adc86-ff3d-4b85-be39-2ce013b7d62f"
      },
      "outputs": [
        {
          "name": "stdout",
          "output_type": "stream",
          "text": [
            "132 b'\\xd8\\x80a\\x97@\\xa8\\xa1\\x9bx@\\xa8\\xa3\\x1c\\x81\\n=\\x08d\\x9a\\xf7\\r\\xc0oO\\xd5\\xd2\\xd6\\x9ctL\\xd2\\x83\\xe2\\xdd\\x05/kd\\x1d\\xbf\\x9d\\x11\\xb04\\x85B\\xbbW\\x08d\\x9a\\xf7\\r\\xc0oO\\xd5\\xd2\\xd6\\x9ctL\\xd2\\x83\\x94u\\xc9\\xdf\\xdb\\xc1\\xd4e\\x97\\x94\\x9d\\x9c~\\x82\\xbfZ\\x08d\\x9a\\xf7\\r\\xc0oO\\xd5\\xd2\\xd6\\x9ctL\\xd2\\x83\\x97\\xa9>\\xab\\x8dj\\xec\\xd5fH\\x91Tx\\x9ak\\x03\\x08d\\x9a\\xf7\\r\\xc0oO\\xd5\\xd2\\xd6\\x9ctL\\xd2\\x83\\xd4\\x03\\x18\\x0c\\x98\\xc8\\xf6\\xdb\\x1f*?\\x9c@@\\xde\\xb0\\xabQ\\xb2\\x993\\xf2\\xc1#\\xc5\\x83\\x86\\xb0o\\xba\\x18j'\n",
            "132 b'\\xd8\\x80a\\x97@\\xa8\\xa1\\x9bx@\\xa8\\xa3\\x1c\\x81\\n=\\x08d\\x9a\\xf7\\r\\xc0oO\\xd5\\xd2\\xd6\\x9ctL\\xd2\\x83\\xe2\\xdd\\x05/kd\\x1d\\xbf\\x9d\\x11\\xb04\\x85B\\xbbW\\x08d\\x9a\\xf7\\r\\xc0oO\\xd5\\xd2\\xd6\\x9ctL\\xd2\\x83\\x94u\\xc9\\xdf\\xdb\\xc1\\xd4e\\x97\\x94\\x9d\\x9c~\\x82\\xbfZ\\x08d\\x9a\\xf7\\r\\xc0oO\\xd5\\xd2\\xd6\\x9ctL\\xd2\\x83\\x97\\xa9>\\xab\\x8dj\\xec\\xd5fH\\x91Tx\\x9ak\\x03\\x08d\\x9a\\xf7\\r\\xc0oO\\xd5\\xd2\\xd6\\x9ctL\\xd2\\x83\\xd4\\x03\\x18\\x0c\\x98\\xc8\\xf6\\xdb\\x1f*?\\x9c@@\\xde\\xb0\\xabQ\\xb2\\x993\\xf2\\xc1#\\xc5\\x83\\x86\\xb0o\\xba\\x18j'\n",
            "132 b'\\xd8\\x80a\\x97@\\xa8\\xa1\\x9bx@\\xa8\\xa3\\x1c\\x81\\n=\\x08d\\x9a\\xf7\\r\\xc0oO\\xd5\\xd2\\xd6\\x9ctL\\xd2\\x83\\xe2\\xdd\\x05/kd\\x1d\\xbf\\x9d\\x11\\xb04\\x85B\\xbbW\\x08d\\x9a\\xf7\\r\\xc0oO\\xd5\\xd2\\xd6\\x9ctL\\xd2\\x83\\x94u\\xc9\\xdf\\xdb\\xc1\\xd4e\\x97\\x94\\x9d\\x9c~\\x82\\xbfZ\\x08d\\x9a\\xf7\\r\\xc0oO\\xd5\\xd2\\xd6\\x9ctL\\xd2\\x83\\x97\\xa9>\\xab\\x8dj\\xec\\xd5fH\\x91Tx\\x9ak\\x03\\x08d\\x9a\\xf7\\r\\xc0oO\\xd5\\xd2\\xd6\\x9ctL\\xd2\\x83\\xd4\\x03\\x18\\x0c\\x98\\xc8\\xf6\\xdb\\x1f*?\\x9c@@\\xde\\xb0\\xabQ\\xb2\\x993\\xf2\\xc1#\\xc5\\x83\\x86\\xb0o\\xba\\x18j'\n",
            "d880619740a8a19b7840a8a31c810a3d08649af70dc06f4fd5d2d69c744cd283e2dd052f6b641dbf9d11b0348542bb5708649af70dc06f4fd5d2d69c744cd2839475c9dfdbc1d46597949d9c7e82bf5a08649af70dc06f4fd5d2d69c744cd28397a93eab8d6aecd566489154789a6b0308649af70dc06f4fd5d2d69c744cd283d403180c98c8f6db1f2a3f9c4040deb0ab51b29933f2c123c58386b06fba186a\n"
          ]
        }
      ],
      "source": [
        "target_index = 0\n",
        "for index, text in enumerate(text_list):\n",
        "  text = bytes.fromhex(text)\n",
        "  if len(text) < 1:\n",
        "    continue\n",
        "  for i in range(10):\n",
        "    for j in range(i + 1, 10):\n",
        "      if text[i*16: (i+1)*16] == text[j*16: (j+1)*16]:\n",
        "        print(index, text)\n",
        "        target_index = index\n",
        "        break\n",
        "\n",
        "print(text_list[target_index])"
      ]
    },
    {
      "attachments": {},
      "cell_type": "markdown",
      "metadata": {
        "id": "JuVlA4G95Kh2"
      },
      "source": [
        "# Set_2"
      ]
    },
    {
      "attachments": {},
      "cell_type": "markdown",
      "metadata": {
        "id": "nnyt4csX5Tcm"
      },
      "source": [
        "Challenge 9"
      ]
    },
    {
      "cell_type": "code",
      "execution_count": 18,
      "metadata": {
        "colab": {
          "base_uri": "https://localhost:8080/"
        },
        "id": "veC-PYVL78Ov",
        "outputId": "8c9c4709-1f57-4d64-922b-0e43c01100df"
      },
      "outputs": [
        {
          "data": {
            "text/plain": [
              "b'YELLOW SUBMARINE\\x04\\x04\\x04\\x04'"
            ]
          },
          "execution_count": 18,
          "metadata": {},
          "output_type": "execute_result"
        }
      ],
      "source": [
        "padding_PKCS7(b\"YELLOW SUBMARINE\", 20)"
      ]
    },
    {
      "attachments": {},
      "cell_type": "markdown",
      "metadata": {
        "id": "lqQsboLU9isq"
      },
      "source": [
        "Challenge 10"
      ]
    },
    {
      "cell_type": "code",
      "execution_count": 19,
      "metadata": {
        "colab": {
          "base_uri": "https://localhost:8080/"
        },
        "id": "y8vtzkRXBo9_",
        "outputId": "d0bfa3da-71a6-4913-ff1b-7682c5474128"
      },
      "outputs": [],
      "source": [
        "plain_text_list = get_txt_from_url(\"https://cryptopals.com/static/challenge-data/10.txt\")\n",
        "plain_text = ''.join(plain_text_list)"
      ]
    },
    {
      "cell_type": "code",
      "execution_count": 20,
      "metadata": {
        "colab": {
          "base_uri": "https://localhost:8080/",
          "height": 364
        },
        "id": "vSnpgYjAEwTw",
        "outputId": "3c1fda88-9cf9-4f49-90ca-1b27291f1780"
      },
      "outputs": [
        {
          "name": "stdout",
          "output_type": "stream",
          "text": [
            "b\"I'm back and I'm ringin' the bell \\nA rockin' on the mike while the fly girls yell \\nIn ecstasy in the back of me \\nWell that's my DJ Deshay cuttin' all them Z's \\nHittin' hard and the girlies goin' crazy \\nVanilla's on the mike, man I'm not lazy. \\n\\nI'm lettin' my drug kick in \\nIt controls my mouth and I begin \\nTo just let it flow, let my concepts go \\nMy posse's to the side yellin', Go Vanilla Go! \\n\\nSmooth 'cause that's the way I will be \\nAnd if you don't give a damn, then \\nWhy you starin' at me \\nSo get off 'cause I control the stage \\nThere's no dissin' allowed \\nI'm in my own phase \\nThe girlies sa y they love me and that is ok \\nAnd I can dance better than any kid n' play \\n\\nStage 2 -- Yea the one ya' wanna listen to \\nIt's off my head so let the beat play through \\nSo I can funk it up and make it sound good \\n1-2-3 Yo -- Knock on some wood \\nFor good luck, I like my rhymes atrocious \\nSupercalafragilisticexpialidocious \\nI'm an effect and that you can bet \\nI can take a fly girl and make her wet. \\n\\nI'm like Samson -- Samson to Delilah \\nThere's no denyin', You can try to hang \\nBut you'll keep tryin' to get my style \\nOver and over, practice makes perfect \\nBut not if you're a loafer. \\n\\nYou'll get nowhere, no place, no time, no girls \\nSoon -- Oh my God, homebody, you probably eat \\nSpaghetti with a spoon! Come on and say it! \\n\\nVIP. Vanilla Ice yep, yep, I'm comin' hard like a rhino \\nIntoxicating so you stagger like a wino \\nSo punks stop trying and girl stop cryin' \\nVanilla Ice is sellin' and you people are buyin' \\n'Cause why the freaks are jockin' like Crazy Glue \\nMovin' and groovin' trying to sing along \\nAll through the ghetto groovin' this here song \\nNow you're amazed by the VIP posse. \\n\\nSteppin' so hard like a German Nazi \\nStartled by the bases hittin' ground \\nThere's no trippin' on mine, I'm just gettin' down \\nSparkamatic, I'm hangin' tight like a fanatic \\nYou trapped me once and I thought that \\nYou might have it \\nSo step down and lend me your ear \\n'89 in my time! You, '90 is my year. \\n\\nYou're weakenin' fast, YO! and I can tell it \\nYour body's gettin' hot, so, so I can smell it \\nSo don't be mad and don't be sad \\n'Cause the lyrics belong to ICE, You can call me Dad \\nYou're pitchin' a fit, so step back and endure \\nLet the witch doctor, Ice, do the dance to cure \\nSo come up close and don't be square \\nYou wanna battle me -- Anytime, anywhere \\n\\nYou thought that I was weak, Boy, you're dead wrong \\nSo come on, everybody and sing this song \\n\\nSay -- Play that funky music Say, go white boy, go white boy go \\nplay that funky music Go white boy, go white boy, go \\nLay down and boogie and play that funky music till you die. \\n\\nPlay that funky music Come on, Come on, let me hear \\nPlay that funky music white boy you say it, say it \\nPlay that funky music A little louder now \\nPlay that funky music, white boy Come on, Come on, Come on \\nPlay that funky music \\n\\x04\\x04\\x04\\x04\"\n"
          ]
        }
      ],
      "source": [
        "block_size = 16\n",
        "key = b'YELLOW SUBMARINE'\n",
        "initialization_vector = b'\\x00' * block_size\n",
        "\n",
        "decrypted_bytes = decrypt_CBC(base64.b64decode(plain_text), key, block_size, initialization_vector)\n",
        "\n",
        "print(decrypted_bytes)"
      ]
    },
    {
      "cell_type": "code",
      "execution_count": 21,
      "metadata": {},
      "outputs": [
        {
          "name": "stdout",
          "output_type": "stream",
          "text": [
            "b'\\x93\\xe4c\\x06\\x1dg\\xc7J\\xa6\\xe5\\x99:\\xea\\xa4dh[\\x90@\\rjd{\\xe1\\x8d\\x1fg\\xf4\\x82\\xbf\\xe5\\xab'\n",
            "32\n",
            "b'1234567890123456789'\n"
          ]
        }
      ],
      "source": [
        "test_bytes = b'1234567890123456789'\n",
        "en = encrypt_CBC(test_bytes, key, block_size, initialization_vector)\n",
        "print(en)\n",
        "print(len(en))\n",
        "de = decrypt_CBC(en, key, block_size, initialization_vector, False)\n",
        "print(de)"
      ]
    },
    {
      "attachments": {},
      "cell_type": "markdown",
      "metadata": {
        "id": "m-Sjs9QD15gf"
      },
      "source": [
        "Challenge 11"
      ]
    },
    {
      "cell_type": "code",
      "execution_count": 22,
      "metadata": {
        "colab": {
          "base_uri": "https://localhost:8080/"
        },
        "id": "_A9I0rnf3XPz",
        "outputId": "d5170b7b-0ced-422e-c426-15082b468b8e"
      },
      "outputs": [
        {
          "name": "stdout",
          "output_type": "stream",
          "text": [
            "True, answer: CBC, detected: CBC\n",
            "True, answer: ECB, detected: ECB\n",
            "True, answer: ECB, detected: ECB\n",
            "True, answer: CBC, detected: CBC\n",
            "True, answer: ECB, detected: ECB\n",
            "True, answer: CBC, detected: CBC\n",
            "True, answer: ECB, detected: ECB\n",
            "True, answer: ECB, detected: ECB\n",
            "True, answer: ECB, detected: ECB\n",
            "True, answer: ECB, detected: ECB\n"
          ]
        }
      ],
      "source": [
        "import challenge11 as c\n",
        "\n",
        "block_size = 16\n",
        "for i in range(10):\n",
        "  encrypted_bytes, key, encryption_mode = c.encryption_oracle('A'*256, block_size)\n",
        "\n",
        "  target_index = -1\n",
        "  max_chunk = int(len(encrypted_bytes)/block_size)\n",
        "    \n",
        "  for i in range(max_chunk - 1):\n",
        "    for j in range(i + 1, max_chunk):\n",
        "      if encrypted_bytes[i*block_size: (i+1)*block_size] == encrypted_bytes[j*block_size: (j+1)*block_size]:\n",
        "        # print(encrypted_bytes)\n",
        "        # print(encrypted_bytes[i*block_size: (i+1)*block_size], encrypted_bytes[j*block_size: (j+1)*block_size], i, j)\n",
        "        target_index = i\n",
        "        break\n",
        "    if target_index != -1:\n",
        "      break\n",
        "  \n",
        "  detected_mode = 'ECB' if target_index != -1 else 'CBC'\n",
        "  print(f'{encryption_mode == detected_mode}, answer: {encryption_mode}, detected: {detected_mode}')"
      ]
    },
    {
      "attachments": {},
      "cell_type": "markdown",
      "metadata": {
        "id": "dwH5x9lK6QGi"
      },
      "source": [
        "Challenge 12"
      ]
    },
    {
      "cell_type": "code",
      "execution_count": 23,
      "metadata": {
        "colab": {
          "base_uri": "https://localhost:8080/",
          "height": 377
        },
        "id": "LQeF7NLx_EV-",
        "outputId": "13d7e5c8-8442-4b69-d267-aaf9c4f38368"
      },
      "outputs": [
        {
          "name": "stdout",
          "output_type": "stream",
          "text": [
            "encrypted_bytes: b'\\xab\\xbao$`\\xd3ff$\\xd5\\xba\\xe4\\xba\\xa6E\\x08\\x01\\xe3\\xfd\\xb3\\xd0r7\\xf7\\r\\xd0I\\xd1\\x89Y\\x19\\x06\\xe3\\xb6\\x89t\\xefX\\xc8\\x1c%\\xbb\\xe1qu\\x166\\x84\\x16\\xfa\\xe6\\xeeU)`11@\\xfb\\xe1\\x04B\\xebPm<\\xfb\\xe1\\xf6\\x9c\\x80\\xf2]\\xf6\\x9f\\x97\\x85X\\x11nC\\x16p\\xa4\\x93r\\xb8|XX\\x89\\xadK\\x13\\x90\\xea\\xb7\\x9e\\x93\\xdcdR\\x81\\x85\\xb9\\x9eY\\xcb\\x7f^$L.\\xde\\xf5?\\x93\\xee\\xfa9\\xc0\\x1ft\\x1d\\xad\\xce]\\x89\\xb4\\x7fTuV\\xd6\\x06\\x8bB\\xc4\\x83k\\xb6a\\xa6\\xbe\\xb0\\xf4\\xa3z\\xc7\\x00\\xfc_\\xea:\\x16xoa\\x8ey'\n",
            "detected_mod: ECB\n",
            "b\"Rollin' in my 5.0\\nWith my rag-top down so my hair can blow\\nThe girlies on standby waving just to say hi\\nDid you stop? No, I just drove by\\n\\x01\"\n"
          ]
        }
      ],
      "source": [
        "import challenge12 as c12\n",
        "\n",
        "c12.block_size = 16\n",
        "c12.random_key = os.urandom(block_size)\n",
        "c12.random_prefix = os.urandom(random.randint(5, 10))\n",
        "plain_text = 'random plain text'\n",
        "\n",
        "encrypted_bytes = c12.new_oracle(plain_text)\n",
        "print(f'encrypted_bytes: {encrypted_bytes}')\n",
        "\n",
        "# Step 1 Get block_size\n",
        "#detected_block_size = detect_block_size(plain_text)\n",
        "#print(f'block size detection:{detected_block_size==block_size} block_size:{block_size} detected_block_size:{detected_block_size}')\n",
        "# Step 2 Detected ECB mode\n",
        "detected_mode = c12.detect_ECB_mode(plain_text)\n",
        "print(f'detected_mod: {detected_mode}')\n",
        "# Step 3,4 Craft input\n",
        "# Step 5,6 match_output\n",
        "something = c12.match_output()\n",
        "print(something)"
      ]
    },
    {
      "attachments": {},
      "cell_type": "markdown",
      "metadata": {
        "id": "j8y-QZHZ-BSn"
      },
      "source": [
        "Challenge 13"
      ]
    },
    {
      "cell_type": "code",
      "execution_count": 24,
      "metadata": {
        "colab": {
          "base_uri": "https://localhost:8080/"
        },
        "id": "o8imw1EWE1-p",
        "outputId": "3cdbf535-4057-4b31-b3f2-785c87c33a2b"
      },
      "outputs": [
        {
          "name": "stdout",
          "output_type": "stream",
          "text": [
            "profile: email=foo%40bar.com&uid=10&role=user\n",
            "b'`\\xc2\\xee&\\xb0 \\xd77hO\\xefq\\xfa\\xe03z'\n",
            "b'\\x1d2\\xb2\\xaa\\xe9\\xf9Wxz\\xe1\\xb7\\x0ce\\xdb\\x9c\\xf1E\\x80\\xa5TA\\xac\\t\\x85g\\xde\\xab~\\x81\\r~$\\xc0\\x10\\x84\\xc0\\xfc\\x85z\\xd0KB\\xdf\\xf9\\x14~\\x8e\\x1d'\n",
            "b'email=foo%40bar.com&uid=10&role=user\\x0c\\x0c\\x0c\\x0c\\x0c\\x0c\\x0c\\x0c\\x0c\\x0c\\x0c\\x0c'\n",
            "target: email=foo%40bar.com&uid=10&role=admin\n",
            "b'\\x1d2\\xb2\\xaa\\xe9\\xf9Wxz\\xe1\\xb7\\x0ce\\xdb\\x9c\\xf1E\\x80\\xa5TA\\xac\\t\\x85g\\xde\\xab~\\x81\\r~$UF\\xff\\x1d\\x80\\xb9h?U\\xc8\\xc70\\xe2\\xf8\\xa5\\x01'\n",
            "b'email=foo%40bar.com&uid=10&role=admin\\x0b\\x0b\\x0b\\x0b\\x0b\\x0b\\x0b\\x0b\\x0b\\x0b\\x0b'\n"
          ]
        }
      ],
      "source": [
        "import challenge13 as c13\n",
        "\n",
        "block_size = 16\n",
        "profile = c13.profile_for('foo@bar.com')\n",
        "print(f'profile: {profile}')\n",
        "key = generate_random_aes_key()\n",
        "print(key)\n",
        "encrypt_profile = encrypt_ECB(str.encode(profile), key, block_size)\n",
        "print(encrypt_profile)\n",
        "decrypt_profile = decrypt_ECB(encrypt_profile, key)\n",
        "print(decrypt_profile)\n",
        "\n",
        "target = 'email=foo%40bar.com&uid=10&role=admin'\n",
        "print(f'target: {target}')\n",
        "encrypt_target = encrypt_ECB(str.encode(target), key, block_size)\n",
        "print(encrypt_target)\n",
        "decrypt_target = decrypt_ECB(encrypt_target, key)\n",
        "print(decrypt_target)"
      ]
    },
    {
      "cell_type": "code",
      "execution_count": 25,
      "metadata": {
        "colab": {
          "base_uri": "https://localhost:8080/"
        },
        "id": "45nUZrBISeyW",
        "outputId": "5724d7e0-b364-4e96-c60e-6bf543464873"
      },
      "outputs": [
        {
          "name": "stdout",
          "output_type": "stream",
          "text": [
            "['email=foo%40bar.', 'com&uid=10&role=', 'user', '', '']\n",
            "[b'\\x1d2\\xb2\\xaa\\xe9\\xf9Wxz\\xe1\\xb7\\x0ce\\xdb\\x9c\\xf1', b'E\\x80\\xa5TA\\xac\\t\\x85g\\xde\\xab~\\x81\\r~$', b'\\xc0\\x10\\x84\\xc0\\xfc\\x85z\\xd0KB\\xdf\\xf9\\x14~\\x8e\\x1d', b'', b'']\n",
            "['email=foo%40bar.', 'admin&uid=10&rol', 'e=user', '', '']\n",
            "[b'\\x1d2\\xb2\\xaa\\xe9\\xf9Wxz\\xe1\\xb7\\x0ce\\xdb\\x9c\\xf1', b':\\xbbGiN&\\r\\xf5\\xdcx\\x18\\xeb\\x15\\x03\\x9dM', b'M,3\\xe0\\x9cDv\\x14O0\\xec\\x9e?\\x9cQ9', b'', b'']\n"
          ]
        }
      ],
      "source": [
        "origin = c13.profile_for('foo@bar.com')\n",
        "print([origin[i*16:(i+1)*16] for i in range(5)])\n",
        "encrypt_origin = encrypt_ECB(str.encode(origin), key, block_size)\n",
        "print([encrypt_origin[i*16:(i+1)*16] for i in range(5)])\n",
        "hack = c13.profile_for('foo@bar.admin')\n",
        "print([hack[i*16:(i+1)*16] for i in range(5)])\n",
        "encrypt_hack = encrypt_ECB(str.encode(hack), key, block_size)\n",
        "print([encrypt_hack[i*16:(i+1)*16] for i in range(5)])"
      ]
    },
    {
      "cell_type": "code",
      "execution_count": 26,
      "metadata": {
        "colab": {
          "base_uri": "https://localhost:8080/"
        },
        "id": "0eM1DGmsVELn",
        "outputId": "e7031565-755c-4736-ea7a-17bd85a04cb5"
      },
      "outputs": [
        {
          "name": "stdout",
          "output_type": "stream",
          "text": [
            "b'\\x1d2\\xb2\\xaa\\xe9\\xf9Wxz\\xe1\\xb7\\x0ce\\xdb\\x9c\\xf1E\\x80\\xa5TA\\xac\\t\\x85g\\xde\\xab~\\x81\\r~$:\\xbbGiN&\\r\\xf5\\xdcx\\x18\\xeb\\x15\\x03\\x9dMM,3\\xe0\\x9cDv\\x14O0\\xec\\x9e?\\x9cQ9'\n",
            "b'email=foo%40bar.com&uid=10&role=admin&uid=10&role=user\\n\\n\\n\\n\\n\\n\\n\\n\\n\\n'\n"
          ]
        }
      ],
      "source": [
        "encrypt_origin = encrypt_origin.replace(encrypt_origin[32:48], encrypt_hack[16:32]) + encrypt_hack[32:48]\n",
        "print(encrypt_origin)\n",
        "print(decrypt_ECB(encrypt_origin, key))"
      ]
    },
    {
      "cell_type": "code",
      "execution_count": 27,
      "metadata": {
        "colab": {
          "base_uri": "https://localhost:8080/"
        },
        "id": "p9nGPIIQcxon",
        "outputId": "6b041e77-4d9c-49b8-c88e-b426864ace7b"
      },
      "outputs": [
        {
          "name": "stdout",
          "output_type": "stream",
          "text": [
            "['email=foo%40bar.', 'admin&uid=10&rol', 'e=user', '', '']\n",
            "[b'\\x1d2\\xb2\\xaa\\xe9\\xf9Wxz\\xe1\\xb7\\x0ce\\xdb\\x9c\\xf1', b':\\xbbGiN&\\r\\xf5\\xdcx\\x18\\xeb\\x15\\x03\\x9dM', b'M,3\\xe0\\x9cDv\\x14O0\\xec\\x9e?\\x9cQ9', b'', b'']\n"
          ]
        }
      ],
      "source": [
        "hack = c13.profile_for('foo@bar.admin')\n",
        "print([hack[i*16:(i+1)*16] for i in range(5)])\n",
        "encrypt_hack = encrypt_ECB(str.encode(hack), key, block_size)\n",
        "print([encrypt_hack[i*16:(i+1)*16] for i in range(5)])"
      ]
    },
    {
      "attachments": {},
      "cell_type": "markdown",
      "metadata": {
        "id": "P5EXc07739mE"
      },
      "source": [
        "Challenge 14"
      ]
    },
    {
      "cell_type": "code",
      "execution_count": 28,
      "metadata": {
        "colab": {
          "base_uri": "https://localhost:8080/"
        },
        "id": "TBGP3PEp4Bgb",
        "outputId": "e31d69c2-a771-468a-fd39-7db220639e8a"
      },
      "outputs": [],
      "source": [
        "import challenge14 as c14\n",
        "\n",
        "c14.random_prefix = os.urandom(random.randint(1, 32))\n",
        "c14.block_size = 16\n",
        "c14.random_key = generate_random_aes_key()"
      ]
    },
    {
      "cell_type": "code",
      "execution_count": 29,
      "metadata": {
        "colab": {
          "base_uri": "https://localhost:8080/"
        },
        "id": "g5UJBb1_4eHN",
        "outputId": "cf7ac81b-79e5-4e0d-8b6c-d59dfd570d4f"
      },
      "outputs": [
        {
          "name": "stdout",
          "output_type": "stream",
          "text": [
            "b'|{\\xc9J\\xe6\\xce\\x90k\\xb9to\\x1e\\xaa\\xd5\\xdb\\xe7\\xf4\\xf2z\\xa9\\xfe\\xc5&\\xfb+\\xf8\\xe6\\x13\\xd2\\ny\\xa0\\xf4Q\\xe9\\x9c\\xd3\\xc5x\\x97\\xdb\\xff\\x0c-\\x05\\xb2\\xeaK\\x8b\\xc4\\x85\\xbf\\xf3\\xb2\\xde\\xb5PMiu\\xc3\\x97K\\xb4\\xc2s\\xfe\\'5\\xe2\\xa5l\\x8c\\r\\xa2\\x92\\t4B\\x19\"m\\xa4\\xbb\\x8c+\\xb6|r\\xa8$\\xcb\\x0fa!K{P9\\xb6\\x13\\xcbi2\\\\\\xab\\xd1\\xe5\\x98\\xeaX\\x07\\x8d\\x0f\\x00]\\xaf\\\\G\\xb1H\\x80\\xcc\\x18\\xc3\\xc9bMC\\xaai\\x02*\\xdd\\x8c\\xd3\\xf2\\xd2\\r\"\\xac\\x9d\\xed\\xfa6)~#\\xfe\\x8f9\\xf4\\xb9\\xaa[\\xe0\\xa49A[}\\x18-3\\xf5\\x98Hl\\x9b\\xa1\\x0bNX\\x82/G\\xd6\\xbc\\xa90\\xb9\\xbc<#\\xf2\\xfc?jhU\\xdf\\x93'\n"
          ]
        }
      ],
      "source": [
        "attacker_controlled = b'attacker_controlled'\n",
        "encrypted_btyes = c14.new_oracle(attacker_controlled)\n",
        "print(encrypted_btyes)"
      ]
    },
    {
      "cell_type": "code",
      "execution_count": 30,
      "metadata": {
        "colab": {
          "base_uri": "https://localhost:8080/"
        },
        "id": "DCNwnL1r9bK_",
        "outputId": "48f0acb6-3505-4e3e-ff90-c7498cee2e9c"
      },
      "outputs": [
        {
          "name": "stdout",
          "output_type": "stream",
          "text": [
            "0 [b'|{\\xc9J\\xe6\\xce\\x90k\\xb9to\\x1e\\xaa\\xd5\\xdb\\xe7', b'\\xbe\\x02\\xcdw\\x8b5\\xd2\\x17G\\xa2\\xfc\\xc4_\\x03\\xbar', b'D-8\\xad\\xb9~\\xa0N\\xc8\\xf4\\xf5=a\\xa5\\xd1\\xae', b'Z\\x0fN0\\xab&kp\\x9d\\xf7V\\x10\\x89=\\x1d`', b'\\x7f\\xe9\\xd0\\xe9m.\\x93\\x83k\\xb7\\xde\\xa1\\xc2\\xa2Y\\x13', b'\\xee `\\xc3\\xf4\\xa4\\x7f\\xef]\\xad\\xfb\\xee\\x9c\\x1aL\\n', b'K\\x18\\xe9\\xcb\\x93{\\xcfOE\\xc4\\xb8\\x92\\x9e\\xe1\\xe7_', b'\\xd1o\\xaet9\\xa4\\xed}h\\xd4C\\x04\\x00\\xf1n/', b'#\\x94\\xef-A\\xc0}x\\xc4H\\x9c\\x9d7\\xda\\x8e\\xe8', b'\\xe3\\xf4\\xa7v\\x02\\xb7\\xab\\xca1\\xf1\\xbaE\\xc7\\xfc\\xd2\\x16', b'x,{\\x81b\\xd2\\xc6*t\\xd7\\x81N\\xfc\\xd7\\xdf4', b'']\n",
            "1 [b'|{\\xc9J\\xe6\\xce\\x90k\\xb9to\\x1e\\xaa\\xd5\\xdb\\xe7', b'\\xa8C\\xef\\xe2W\\xa9\\xbbM\\x1fk\\xbd\\xd2\\x8a\\x06\\x8bX', b'Cw\\xfb\\x1e\\xfc\\xdb^\\x91@l\\xed\\xb6:U\\xbf\\x9a', b'U8\\xb7,\\x8d\\xaa\\xd2,\\xde\\x8a\\x01\\x90h\\xd4\\x93\\x83', b'\\x96[\\x91\\x01]\\xedDX\\xf2/8\\xbf\\xc5o<\\x13', b'\\x8a\\x94CyV\\x8d=x\\xbf/\\xf0\\xadV!c\\xfa', b'M\\x0c!\\x00\\xe4\\xe6\\xe1S\\xf1\\xde\\x95\\x06\\xef\\x9a\\r\\xe4', b'\\x01\\xf6\\x92\\x1b\\xab2it)&z\\xd9\\xb9>h\\x85', b'x\\x1fV\\xfa\\x0e|#\"\\xfbVF\\xdd\\xca\\x9b\\x03\\x10', b'U\\xca\\xd5e\\xb7\\xcd\\xca\\x97d\\x99A6k\\x86\\xd4\\xda', b'bI\\xb9<\\x8c)\\x99\\xf8v\\xee\\xc0<G)\\x9c\\x00', b'']\n",
            "2 [b'|{\\xc9J\\xe6\\xce\\x90k\\xb9to\\x1e\\xaa\\xd5\\xdb\\xe7', b'\\xa6\\x1b\\x85\\xde\\xe6\\x9a\\x19>\\x15:\\xa0\\xc3\\xf40\\xd5z', b'k\\xfb\\x12\\r\\xb0\\x1aa\\x13d)>Z\\xb8\\xdc\\xce\\xda', b'&3\\x01\\xe8\\xc4\\x93\\x80\\x87v\\xd9B\\x01&cdO', b'\\xfaj\\x0e\\x0e\\xea\\xe9\\x03\\x193m{\\x03 K`[', b'`f\\xd8\\xe8{]\\xc3/\\x18\\xd0y\\xde*\\xbb/@', b'\\x1c-r BVPa\\n,\\x17\\x99\\xab\\x94OA', b'xVWp\\x07\\xc7\\xfa\\xd6\\xfd\\xea>g\\x19\\xa2\\xd2\\xf5', b\"'\\xb2\\xaf\\x0f\\x1a?c\\x00\\xea\\xbd\\x0c\\x10ustr\", b'\\x84\\xb8HD\\x88|\\x96\\xf4\\x82\\x8f\\xd0O\\xdaS\\xc84', b'\\xb1\\x08<\\x10F\\xb39\\xfa&\\xb2^\\x02\\xa3\\xf8\\t\\xab', b'']\n",
            "3 [b'|{\\xc9J\\xe6\\xce\\x90k\\xb9to\\x1e\\xaa\\xd5\\xdb\\xe7', b'b+\\x9f41:\\xf7\\xd27b?\\x9b\\xc5\\x1e\\\\V', b'\\x8b\\xc4\\x85\\xbf\\xf3\\xb2\\xde\\xb5PMiu\\xc3\\x97K\\xb4', b\"\\xc2s\\xfe'5\\xe2\\xa5l\\x8c\\r\\xa2\\x92\\t4B\\x19\", b'\"m\\xa4\\xbb\\x8c+\\xb6|r\\xa8$\\xcb\\x0fa!K', b'{P9\\xb6\\x13\\xcbi2\\\\\\xab\\xd1\\xe5\\x98\\xeaX\\x07', b'\\x8d\\x0f\\x00]\\xaf\\\\G\\xb1H\\x80\\xcc\\x18\\xc3\\xc9bM', b'C\\xaai\\x02*\\xdd\\x8c\\xd3\\xf2\\xd2\\r\"\\xac\\x9d\\xed\\xfa', b'6)~#\\xfe\\x8f9\\xf4\\xb9\\xaa[\\xe0\\xa49A[', b'}\\x18-3\\xf5\\x98Hl\\x9b\\xa1\\x0bNX\\x82/G', b'\\xd6\\xbc\\xa90\\xb9\\xbc<#\\xf2\\xfc?jhU\\xdf\\x93', b'']\n",
            "4 [b'|{\\xc9J\\xe6\\xce\\x90k\\xb9to\\x1e\\xaa\\xd5\\xdb\\xe7', b'\\\\]\\xe0\\xabZq\\xb3\\xe2AW\\xaf\\xb4[\\xb0\\xe9\\xbf', b'X\\x03`B\\xb188\\nt\\x82D\\x13?\\xf6o\\x1d', b'\\xc6\\x8f\\xc7\\xb4a5\\x15\\xd6Z\\xc3\\xa7\\xe9n p\\x19', b'/R&\\xf6?\\xb6tc\\xb0\\xe8\\x87\\xf3\\x16\\xf5\\xae\\xb6', b'\\xa2\\xfec\\xfd5E\\x1c3!v)\\xf1m?\\xa8\\x06', b'\\xe2M=\\xb6_97\\xa6\\x04nM0\\xd7P\\x05\\x0f', b'?\\x9d6\\x0b\"\\x00C\\xfbs\\xa9\\xbfM4\\xf0\\xe3\\xcb', b'q\\xee\\xf8\\x11\\xfd\\xb4\\xfd\\xa9\\x1aO\\x18\\x8b\\xa3\\x18\\xf3&', b'\\x03\\xef\\xd3\\xfc\\xd0H\\x17n\\xf6%\\x87\\xedo:H\\x01', b'=]Jlpm\\xd6\\x96\\xcd\\xcc\\xd9\\x84\\x16qWK', b'']\n",
            "5 [b'|{\\xc9J\\xe6\\xce\\x90k\\xb9to\\x1e\\xaa\\xd5\\xdb\\xe7', b'\\\\]\\xe0\\xabZq\\xb3\\xe2AW\\xaf\\xb4[\\xb0\\xe9\\xbf', b'\\xe4k\\xacIx\\xe9\\x01\\xaf\\xf4\\xc1\\x19\"\\xb3\\xe0X\\xc8', b'\\xda\\xb9\\xd1\\xc8\\x0cN\\x15\\xda\\xa8Ua\\x9e\\xc7\\xf2\\x027', b\"\\xd1\\xa4/H\\x80%\\xb2'\\xe3\\\\\\xe2\\x91TT7\\xc4\", b'~<\\x8d#$\\xaf\\xe8\\xd8\\x01\\x8eAm\\x99\\xf2K@', b'\\x17HC\\xc7\\xe7\\x87\\x85\\x18thjZ\\xe9\\x0e\\xd7\\xf0', b'\\r\\xde\\x15Uv\\xa2HQ\\x94\\x1b,\\xd9\\x1c\\xc8\\x81\\xe5', b'\\xf8\\xef\\xfa7CrMa\\xee\\x99\\x1c-?5\\x98w', b'\\xc8Q\\x9c\\x177\\xeb\\x9b$\\xac\\x08\\xd2\\xf3c\\xb0H\\x0b', b'\\x8f?\\t\\xd9\\xb3\\xe6\\x7f\\xfbO\\xc0\\x85m\\xd1\\xa4\\xd8\\xf6', b'']\n",
            "6 [b'|{\\xc9J\\xe6\\xce\\x90k\\xb9to\\x1e\\xaa\\xd5\\xdb\\xe7', b'\\\\]\\xe0\\xabZq\\xb3\\xe2AW\\xaf\\xb4[\\xb0\\xe9\\xbf', b'\\x02!\\xd4\\xe7\\x1a{\\\\hp)\\xdb\\x0c\\xe3\\xb0m\\xe9', b'l\"\\x82\\x15\\x02\\xed\\xb1mMU\\xfc-\\xe4D\\x15\\xd6', b'\\x8ba\\x87\\xf0\\xbb\\x07{\\xe4\\xb6c\\xf2^\\x89\\xd4\\xea ', b'\"U!\\xe5\\xca\\x8d\\xe9`\\x10L[\\x8a ?\\x86\\x1a', b'\\x13\\xb9-\\x86\\x93\\xbb\\xa7\\xc7\\x1e\\xff\\xdd\\xa30\\xdc\\xbb\\xa8', b'\\x94\\xf3^<j\\xc9\\xe6D\\x91\\x83\\xa8\\xea\\x19\\x94\\x84\\x90', b'\\x83E\\xc8\\xcb\\xdcM\\xfb\\xbbyl_}\\xe0\\xda\\xea\\xea', b'\\x86\\xc0~\\xc2S\\xab\\x97\\x8e?\\xc7 \\x96\\xf8\\xfb(\\x8a', b'\\xb5\\xec\\xc1\\xa6\\x9b5\\x0c\\x01f9\\x11\\xc4#\\x1f\\xd9\\xdb', b'']\n",
            "7 [b'|{\\xc9J\\xe6\\xce\\x90k\\xb9to\\x1e\\xaa\\xd5\\xdb\\xe7', b'\\\\]\\xe0\\xabZq\\xb3\\xe2AW\\xaf\\xb4[\\xb0\\xe9\\xbf', b\"\\xa4\\xa1\\xe8\\xa7-h\\xf5|\\x17;\\xab\\xb4~\\xc4'\\x86\", b'dz\\xd9\\xd4\\xc6]R*\\xcc\\xbd\\xceH\\xc0\\x92\\x01\\x92', b'\\xb7\\xe5\\xcc\\xf6\\xa93\\x10_r\\xfb1\\x84\\xd0\\xa3{K', b'\\x94\\x01R{\\x0c\\xe1Q\\xec\\n\\x0bfo\\xef\\xad\\xa9\\x13', b'MY>\\x1aZ\\xac\\xbf\\xd3z\\x81\\xa2\\xe3\\x9a$\\x8c\\x94', b'\\xf6\\x0e\\xe7\\xee\\xbd\\xc9\\xc3\\x8dR`\\x91\\xa1\\xcf\\xed\\xb5Y', b'\\t;\\x8a\\xca\\x96S\\xeej\\xd0cy\\x08\\x19\\xe5B\\xff', b'\\xe9F\\xee\\x80P\\xaa\\x97\\x94\\x89K\\xe4\\xd5\\x7f\\x11\\xb1\\x95', b'Rd\\xc3$\\xb9m\\xc8\\x08H\\x0c*V4M\\n\\xc0', b'']\n",
            "8 [b'|{\\xc9J\\xe6\\xce\\x90k\\xb9to\\x1e\\xaa\\xd5\\xdb\\xe7', b'\\\\]\\xe0\\xabZq\\xb3\\xe2AW\\xaf\\xb4[\\xb0\\xe9\\xbf', b'\\xb8\\xfc \\xc8(>\\x19\\xea\\xfcd\\x95\\xf3\\xa9\\xbd\\xb3\\xed', b'f\\xc3\\x08\\xbb\\xc7z\\x85\\x19\\xd6mv\\x13Q\\xc5\\xa3\\xfd', b'\\xa0\\xc4r\\xb3\\xb7Z\\xb3\\xd2\\x1e?H\\x1c[\\xa1Eo', b'\\xd8!<\\x0e\\xb6H\\x07n\\x06\\xb3\\xc0|`\\xa9\\xd0\\x8d', b'\"\\x04\\taU_j\\x80\\xc8\\xb7B\\x8b<\\xcf\\x90\\n', b'\\x89\\xaf\\x040.\\xba\\tM\\xbfI\\xf0u\\xd1\\x9bI\\xa6', b'\\xe4\\xc8\\xe1\\xb6\\xe7Uo\\x8bJd\\xcfJ[\\xa3\\xad\\xd2', b'Hq\\x1a\\xf1\\xe9Qc\\xc2\\x17\\x8b\\xb0\\xeb\\xa5\\xe5\\x8a#', b'\\x05\\xc5\\xa6\\xc3\\x85Se\\\\\\x1e $58\\x97@\\xd8', b'']\n",
            "9 [b'|{\\xc9J\\xe6\\xce\\x90k\\xb9to\\x1e\\xaa\\xd5\\xdb\\xe7', b'\\\\]\\xe0\\xabZq\\xb3\\xe2AW\\xaf\\xb4[\\xb0\\xe9\\xbf', b'\\xc0s\\xe6\\x16\\xf65\\x84\\x9c\\xcc\\xc8\\x8d\\xde\\x0c\\x87V\\xa4', b'\\xa8~\\xb0,J\\x11\\xab]\\xdc\\xfcX\\xbf\\xbcM\\xae<', b'\\xbeYH\\x16l\\xa0f\\xb2\\xe4\\x0f\\x8c\\x89\\x1e)\\xcdp', b\"\\x9d{\\x82\\xd4\\xe0\\xf2\\x84\\x8f\\xc3<\\x04\\x14mq'l\", b'\\xa5P\\xcc-\\xf7_\\x18\\xe4\\xae3\\xe8\\xf5o\\x9f\\x8a\\x8f', b'\\x9c\\x16\\x91\\x18\\xd2\\x020M3\\xf2.K8\\x0c\\xe6U', b'v\\x1f\\x8b\\xc6\\x19\\xb8\\xe8\\xd2)\\x1b\\n\\x90\\xaf\\xc2\\xc1\\xc4', b'\\xa1\\xf1\\xbb\\x88SFG\\x94\\xdf\\x80j\\x1b8E\\xdc\\xd4', b'\\x81\\x13\\xb6\\t\\xe88\\xcft\\xad*W\\x0e\\xa3q\\xa2\\x8f', b'']\n",
            "10 [b'|{\\xc9J\\xe6\\xce\\x90k\\xb9to\\x1e\\xaa\\xd5\\xdb\\xe7', b'\\\\]\\xe0\\xabZq\\xb3\\xe2AW\\xaf\\xb4[\\xb0\\xe9\\xbf', b\"\\x8f\\xbf^:K\\xfb\\xa8\\xa8\\x1di'q>U\\xdc\\x08\", b'\\x08\\x97\\xaa\\xbf\\xe9x\\x05,\\xc1MQy\\xe1: (', b'\\x9d%\\x10k\\xec\\xac\\xea\\xb4\\xb0_\\x83\\xf0\\x8b1\\xe3\\x8d', b'BP\\x16o\\xec\\x9d \\xae\\x93Rl\\xb5\\xc0>a\\xca', b'\\tS@\\xb4\\xb4\\x9b[;L\\x86A\\xba\\xf0\\x89\\xb0\\x8e', b',\\xfe\\x8b\\xba\\x0e\\xe3mX\\xea_n\\xbb\\xdb\\xd96`', b'u21\\x93\\x01Q\\xcc\\xf5_u\\x9f(\\xc1\\xc5v(', b'E\\xc0%\\xae\\xf3:\\xfb\\x17v\\xdf?=g\\xe2 \\xee', b'\\x08f\\x06w\\x8e\\rc=\\x83\\xa4\\x93\\xb7\\r#\\x13\\xa7', b\"\\xcf\\x0erm!\\xa5\\xe7_\\x98\\x99\\x7f\\xc2\\xe0J\\x80'\", b'']\n",
            "11 [b'|{\\xc9J\\xe6\\xce\\x90k\\xb9to\\x1e\\xaa\\xd5\\xdb\\xe7', b'\\\\]\\xe0\\xabZq\\xb3\\xe2AW\\xaf\\xb4[\\xb0\\xe9\\xbf', b'*\\x99\\x1d\\xb9W\\x0b\\x91\\xaag7\\xb1~\\xfa\\xbdZF', b'q\\xbf\\x1a\\x0ej\\x82\\x04\\xc1\\xd9\\x93b1>\\xffe\\x84', b'\\xfatD\\xdb\\xa0\\xc8`\\x9eL\\x95\\x1d(r\\xc8\\x9f\\x06', b'\\x8f\\xd5\\xb0\\xb3\\xec\\r\\xb4\\t\\xa1\\x90x\\xf6\\x18\\xbb\\xe4d', b'o\\xbfL\\xc1\\x1f\\xb2ffC\\xd7E\\xdegVV\\xc4', b'[K#\\xb5\\xe0sg\\x83@+\"%o\\x02\\x01\\x8b', b'\\xb32P\\xbc3\\xc2\\x01\\x98\\xe0\\x04\\xbe+G\\xfc\\x9d\\xde', b'-\\xb68\\r\\xbf\\xbb\\xf6\\xcb\\xcfg\\x0bF\\xca\\x12e\\x86', b'^\\xeb\\xb0\\xc1/\\xfc\\xce~\\x8a\\x808\\x01p1F\\xe2', b'\\x1a\\x1aML^\\x92\\xe7\\x82\\x1fMY\\x86\\xfe\\xdd\\xd4>', b'']\n",
            "12 [b'|{\\xc9J\\xe6\\xce\\x90k\\xb9to\\x1e\\xaa\\xd5\\xdb\\xe7', b'\\\\]\\xe0\\xabZq\\xb3\\xe2AW\\xaf\\xb4[\\xb0\\xe9\\xbf', b'\\x00-\\xabA\\xdcS\\x9f\\xa5k\\x83\\xb2,\\\\\\x11\\xee\\x96', b'\\\\\\xd2w\\r\\xdf\\x99\\x8cutJZ\\xe0\\x8bu\\x11\\xec', b'f\\xd5:\\x15\\x0c>j\\xab\\xcb\\x9e\\xe7\\xa1\\x16\\xb9\\xbfb', b'/\\xad\\xa3\\xf5\\xd2\\x90^?7Z\\xf1\\xb2\\xaf\\xcb\\xdal', b'N\\xde\\xae\\x8d\\x02(\\xfb\\xfbyt/Nu\\xe9D\\xaf', b'\\xf9\\xa5x\\xdd\\x81\\xd0\\xd7\\xb0.u\\xe4,x\\x8at`', b'\\xcd\\x08\\x83bEy\\xb5\\x05\\xfb\\xa0\\xd0N<4\\xd6\\xb9', b'J\\xb9W\\xab^\\x00\\x96\\xd65\\xc8\\xfa\\xfc\\xfa\\xf0[\\xad', b'$\\xc7\\r\\xce\\xd6\\xe1+\\x90\\xe6&\\xb3\\xb1\\xd18\\x9d\\xf5', b'\\xa9JY?r\\xf8\\x90p\\x1f4U\\xbd\\xd8\\xbf\\x83o', b'']\n",
            "13 [b'|{\\xc9J\\xe6\\xce\\x90k\\xb9to\\x1e\\xaa\\xd5\\xdb\\xe7', b'\\\\]\\xe0\\xabZq\\xb3\\xe2AW\\xaf\\xb4[\\xb0\\xe9\\xbf', b'8ID\\xd4w+\\x9a\\x0b!\\x927\\xe8\\xde\"-\\x97', b'5\\xf8U\\xfb?@\\xbb\\x86\\x05Si\\x17[\\x8aU>', b'\\xed\\xdd\\x142\\x05\\x02\\x1e\\xea\\xa3 \"\\xd4\\xb5\\xc3?\\xa3', b'C3\\xb6i\\x99Yxw\\x05\\xff9b\\xee\\xc9\\x9dT', b'J\\x9b\\x05\\xfcH\\xce3\\x13-\\x1eK7}n\\x17g', b'\\x82:P\\x15\\xa6\\x8cS\\x9e\\x8b\\xaa!\\xd3k\\xc1\\xb2\\xc5', b'\\xe6\\xe0\\xa3\\x7f\\xf1\\xe6y\\xd9+\\x19\\x1fr_\\x90\\xc8\\xde', b\"\\xf6\\xc9\\x82'\\xcfp\\x9cO\\xc9H\\xec\\x05\\x8e\\xe02\\xc7\", b'{R\\x1cD\\x1c\\r\\x0c`k\\x1e<\\x10i\\xc8\\x96\\x98', b'\\\\\\xcal\\xe6\\xe0\\xf0\\x9c\\xc6\\x85 \\xe0`\\x06\\xf6\\x8a\\x81', b'']\n",
            "14 [b'|{\\xc9J\\xe6\\xce\\x90k\\xb9to\\x1e\\xaa\\xd5\\xdb\\xe7', b'\\\\]\\xe0\\xabZq\\xb3\\xe2AW\\xaf\\xb4[\\xb0\\xe9\\xbf', b'~\\x1a\\x04\\xcd\\xdf\\xa5\\x18\\xa8\\xfdO\\xe3}\\xb2\\x8e\\xf0(', b'\\xad\\xf7\\xeb\\xdf5\\xd4\\xb8\\xf0~\\x98R\\xbd\\xe6\\x08:\\xcd', b'D\\xdf]\\x1bq\\x88>~\\x1dQG\"(\\xc3\\'M', b'Q]oVCM\\x93k\\x97\\xdeH\\x12\\x118\\xff\\xec', b'6\\xd7gfb,%0c\\x94\\xf3B0Y\\x84\\xef', b'C\\xc5\\x10U6\\x1a\\xb0\\xee\\x12\\xe0\\xab\\xe5Y\\xcc9G', b\"Z\\n\\x80'D\\r\\x88\\x8e\\xb9\\x15\\xdd;\\xf7\\x9ep\\xa1\", b'\\x00\\x0b\\xe1\\xa8\\xbf\\xcf\\xe3K\\xed\\xff\\x85\\xc4R\\xc7\\ns', b'\\x15\\x1e\\xca{\\xebb\\x0e?\\xe6\\x1a\\xc2\\x9c\\xf0\\x89:\\xe7', b'\\x85R\\xe7\\xb25\\r\\\\\\xeb\\x84\\xd9\\x04\\xa7\\n\\x91\\xdf\\xde', b'']\n",
            "15 [b'|{\\xc9J\\xe6\\xce\\x90k\\xb9to\\x1e\\xaa\\xd5\\xdb\\xe7', b'\\\\]\\xe0\\xabZq\\xb3\\xe2AW\\xaf\\xb4[\\xb0\\xe9\\xbf', b'kqK\\xde\\x943\\xab\\xf6f\\x94\\xe1C\\x17TS\\xd1', b'K\\x0c\\x06\\xb8\\xe4\\xc6\\xe634\\x90\\x04{Hyj_', b'\\xda#\\xe9\\xa6\\xac\\xea.\\x89fh\\xfeM\\xa3\\x98\\r\\xb0', b\"UF\\x0e\\xbf)MyS\\xe0\\xd0x\\xdc'\\xf4p\\xae\", b'm\\t\\x1d\\x97\\xd7\\xaf\\xd0\\x06-,h\\xca\\xc2\\xd9m\\xf7', b'h\\xab\\xab?=x\\xff\\x08\\x03.\\xc5\\x8f\\xec\\x0fey', b'hs]\\nw\\xfa{\\x97\\xb5+\\xbb\\x93\\xc6N\\xde\\xef', b'Ao\\xe9\\x83]\\xc2\\xce\\xc4&\\xef\\xcdR> m\\x99', b\"\\x87Ns\\xb0\\xda'\\xf9S~\\x1b\\xf2w\\x8f@\\x94\\xcc\", b'Qm\\x96X\\x9b#\\x1b\\xaf\\xa7\\xc0\\xd4\\xbc\\xe4\\xbf{\\xcf', b'']\n",
            "16 [b'|{\\xc9J\\xe6\\xce\\x90k\\xb9to\\x1e\\xaa\\xd5\\xdb\\xe7', b'\\\\]\\xe0\\xabZq\\xb3\\xe2AW\\xaf\\xb4[\\xb0\\xe9\\xbf', b'\\x93<<\\x92E[[\\xe9\\x11>\\xea\\x8b\\xf7\\xa7\\xf4\\x86', b'D-8\\xad\\xb9~\\xa0N\\xc8\\xf4\\xf5=a\\xa5\\xd1\\xae', b'Z\\x0fN0\\xab&kp\\x9d\\xf7V\\x10\\x89=\\x1d`', b'\\x7f\\xe9\\xd0\\xe9m.\\x93\\x83k\\xb7\\xde\\xa1\\xc2\\xa2Y\\x13', b'\\xee `\\xc3\\xf4\\xa4\\x7f\\xef]\\xad\\xfb\\xee\\x9c\\x1aL\\n', b'K\\x18\\xe9\\xcb\\x93{\\xcfOE\\xc4\\xb8\\x92\\x9e\\xe1\\xe7_', b'\\xd1o\\xaet9\\xa4\\xed}h\\xd4C\\x04\\x00\\xf1n/', b'#\\x94\\xef-A\\xc0}x\\xc4H\\x9c\\x9d7\\xda\\x8e\\xe8', b'\\xe3\\xf4\\xa7v\\x02\\xb7\\xab\\xca1\\xf1\\xbaE\\xc7\\xfc\\xd2\\x16', b'x,{\\x81b\\xd2\\xc6*t\\xd7\\x81N\\xfc\\xd7\\xdf4', b'']\n",
            "17 [b'|{\\xc9J\\xe6\\xce\\x90k\\xb9to\\x1e\\xaa\\xd5\\xdb\\xe7', b'\\\\]\\xe0\\xabZq\\xb3\\xe2AW\\xaf\\xb4[\\xb0\\xe9\\xbf', b'(#C$#\\xac\\xec\\xba\\x9f2=\\xf0\\x1a\\xfa\\xb0\\x02', b'Cw\\xfb\\x1e\\xfc\\xdb^\\x91@l\\xed\\xb6:U\\xbf\\x9a', b'U8\\xb7,\\x8d\\xaa\\xd2,\\xde\\x8a\\x01\\x90h\\xd4\\x93\\x83', b'\\x96[\\x91\\x01]\\xedDX\\xf2/8\\xbf\\xc5o<\\x13', b'\\x8a\\x94CyV\\x8d=x\\xbf/\\xf0\\xadV!c\\xfa', b'M\\x0c!\\x00\\xe4\\xe6\\xe1S\\xf1\\xde\\x95\\x06\\xef\\x9a\\r\\xe4', b'\\x01\\xf6\\x92\\x1b\\xab2it)&z\\xd9\\xb9>h\\x85', b'x\\x1fV\\xfa\\x0e|#\"\\xfbVF\\xdd\\xca\\x9b\\x03\\x10', b'U\\xca\\xd5e\\xb7\\xcd\\xca\\x97d\\x99A6k\\x86\\xd4\\xda', b'bI\\xb9<\\x8c)\\x99\\xf8v\\xee\\xc0<G)\\x9c\\x00', b'']\n",
            "18 [b'|{\\xc9J\\xe6\\xce\\x90k\\xb9to\\x1e\\xaa\\xd5\\xdb\\xe7', b'\\\\]\\xe0\\xabZq\\xb3\\xe2AW\\xaf\\xb4[\\xb0\\xe9\\xbf', b'\\x16\\xbe\\xa3\\x1fm\\xbc\\xd2,/t\\xbbD9\\xa2\\xf0T', b'k\\xfb\\x12\\r\\xb0\\x1aa\\x13d)>Z\\xb8\\xdc\\xce\\xda', b'&3\\x01\\xe8\\xc4\\x93\\x80\\x87v\\xd9B\\x01&cdO', b'\\xfaj\\x0e\\x0e\\xea\\xe9\\x03\\x193m{\\x03 K`[', b'`f\\xd8\\xe8{]\\xc3/\\x18\\xd0y\\xde*\\xbb/@', b'\\x1c-r BVPa\\n,\\x17\\x99\\xab\\x94OA', b'xVWp\\x07\\xc7\\xfa\\xd6\\xfd\\xea>g\\x19\\xa2\\xd2\\xf5', b\"'\\xb2\\xaf\\x0f\\x1a?c\\x00\\xea\\xbd\\x0c\\x10ustr\", b'\\x84\\xb8HD\\x88|\\x96\\xf4\\x82\\x8f\\xd0O\\xdaS\\xc84', b'\\xb1\\x08<\\x10F\\xb39\\xfa&\\xb2^\\x02\\xa3\\xf8\\t\\xab', b'']\n",
            "19 [b'|{\\xc9J\\xe6\\xce\\x90k\\xb9to\\x1e\\xaa\\xd5\\xdb\\xe7', b'\\\\]\\xe0\\xabZq\\xb3\\xe2AW\\xaf\\xb4[\\xb0\\xe9\\xbf', b'\\xc8\\x90\\xe3+\\x12%\\x8b\"\\xfc)\\xd6Bk+|\\x83', b'\\x8b\\xc4\\x85\\xbf\\xf3\\xb2\\xde\\xb5PMiu\\xc3\\x97K\\xb4', b\"\\xc2s\\xfe'5\\xe2\\xa5l\\x8c\\r\\xa2\\x92\\t4B\\x19\", b'\"m\\xa4\\xbb\\x8c+\\xb6|r\\xa8$\\xcb\\x0fa!K', b'{P9\\xb6\\x13\\xcbi2\\\\\\xab\\xd1\\xe5\\x98\\xeaX\\x07', b'\\x8d\\x0f\\x00]\\xaf\\\\G\\xb1H\\x80\\xcc\\x18\\xc3\\xc9bM', b'C\\xaai\\x02*\\xdd\\x8c\\xd3\\xf2\\xd2\\r\"\\xac\\x9d\\xed\\xfa', b'6)~#\\xfe\\x8f9\\xf4\\xb9\\xaa[\\xe0\\xa49A[', b'}\\x18-3\\xf5\\x98Hl\\x9b\\xa1\\x0bNX\\x82/G', b'\\xd6\\xbc\\xa90\\xb9\\xbc<#\\xf2\\xfc?jhU\\xdf\\x93', b'']\n",
            "20 [b'|{\\xc9J\\xe6\\xce\\x90k\\xb9to\\x1e\\xaa\\xd5\\xdb\\xe7', b'\\\\]\\xe0\\xabZq\\xb3\\xe2AW\\xaf\\xb4[\\xb0\\xe9\\xbf', b'\\xe9B+\\x14\\xb64jE/\\xa4B\\xe3\\xd5^\\xb4\\xee', b'X\\x03`B\\xb188\\nt\\x82D\\x13?\\xf6o\\x1d', b'\\xc6\\x8f\\xc7\\xb4a5\\x15\\xd6Z\\xc3\\xa7\\xe9n p\\x19', b'/R&\\xf6?\\xb6tc\\xb0\\xe8\\x87\\xf3\\x16\\xf5\\xae\\xb6', b'\\xa2\\xfec\\xfd5E\\x1c3!v)\\xf1m?\\xa8\\x06', b'\\xe2M=\\xb6_97\\xa6\\x04nM0\\xd7P\\x05\\x0f', b'?\\x9d6\\x0b\"\\x00C\\xfbs\\xa9\\xbfM4\\xf0\\xe3\\xcb', b'q\\xee\\xf8\\x11\\xfd\\xb4\\xfd\\xa9\\x1aO\\x18\\x8b\\xa3\\x18\\xf3&', b'\\x03\\xef\\xd3\\xfc\\xd0H\\x17n\\xf6%\\x87\\xedo:H\\x01', b'=]Jlpm\\xd6\\x96\\xcd\\xcc\\xd9\\x84\\x16qWK', b'']\n",
            "21 [b'|{\\xc9J\\xe6\\xce\\x90k\\xb9to\\x1e\\xaa\\xd5\\xdb\\xe7', b'\\\\]\\xe0\\xabZq\\xb3\\xe2AW\\xaf\\xb4[\\xb0\\xe9\\xbf', b'\\xe9B+\\x14\\xb64jE/\\xa4B\\xe3\\xd5^\\xb4\\xee', b'\\xe4k\\xacIx\\xe9\\x01\\xaf\\xf4\\xc1\\x19\"\\xb3\\xe0X\\xc8', b'\\xda\\xb9\\xd1\\xc8\\x0cN\\x15\\xda\\xa8Ua\\x9e\\xc7\\xf2\\x027', b\"\\xd1\\xa4/H\\x80%\\xb2'\\xe3\\\\\\xe2\\x91TT7\\xc4\", b'~<\\x8d#$\\xaf\\xe8\\xd8\\x01\\x8eAm\\x99\\xf2K@', b'\\x17HC\\xc7\\xe7\\x87\\x85\\x18thjZ\\xe9\\x0e\\xd7\\xf0', b'\\r\\xde\\x15Uv\\xa2HQ\\x94\\x1b,\\xd9\\x1c\\xc8\\x81\\xe5', b'\\xf8\\xef\\xfa7CrMa\\xee\\x99\\x1c-?5\\x98w', b'\\xc8Q\\x9c\\x177\\xeb\\x9b$\\xac\\x08\\xd2\\xf3c\\xb0H\\x0b', b'\\x8f?\\t\\xd9\\xb3\\xe6\\x7f\\xfbO\\xc0\\x85m\\xd1\\xa4\\xd8\\xf6', b'']\n",
            "22 [b'|{\\xc9J\\xe6\\xce\\x90k\\xb9to\\x1e\\xaa\\xd5\\xdb\\xe7', b'\\\\]\\xe0\\xabZq\\xb3\\xe2AW\\xaf\\xb4[\\xb0\\xe9\\xbf', b'\\xe9B+\\x14\\xb64jE/\\xa4B\\xe3\\xd5^\\xb4\\xee', b'\\x02!\\xd4\\xe7\\x1a{\\\\hp)\\xdb\\x0c\\xe3\\xb0m\\xe9', b'l\"\\x82\\x15\\x02\\xed\\xb1mMU\\xfc-\\xe4D\\x15\\xd6', b'\\x8ba\\x87\\xf0\\xbb\\x07{\\xe4\\xb6c\\xf2^\\x89\\xd4\\xea ', b'\"U!\\xe5\\xca\\x8d\\xe9`\\x10L[\\x8a ?\\x86\\x1a', b'\\x13\\xb9-\\x86\\x93\\xbb\\xa7\\xc7\\x1e\\xff\\xdd\\xa30\\xdc\\xbb\\xa8', b'\\x94\\xf3^<j\\xc9\\xe6D\\x91\\x83\\xa8\\xea\\x19\\x94\\x84\\x90', b'\\x83E\\xc8\\xcb\\xdcM\\xfb\\xbbyl_}\\xe0\\xda\\xea\\xea', b'\\x86\\xc0~\\xc2S\\xab\\x97\\x8e?\\xc7 \\x96\\xf8\\xfb(\\x8a', b'\\xb5\\xec\\xc1\\xa6\\x9b5\\x0c\\x01f9\\x11\\xc4#\\x1f\\xd9\\xdb', b'']\n",
            "23 [b'|{\\xc9J\\xe6\\xce\\x90k\\xb9to\\x1e\\xaa\\xd5\\xdb\\xe7', b'\\\\]\\xe0\\xabZq\\xb3\\xe2AW\\xaf\\xb4[\\xb0\\xe9\\xbf', b'\\xe9B+\\x14\\xb64jE/\\xa4B\\xe3\\xd5^\\xb4\\xee', b\"\\xa4\\xa1\\xe8\\xa7-h\\xf5|\\x17;\\xab\\xb4~\\xc4'\\x86\", b'dz\\xd9\\xd4\\xc6]R*\\xcc\\xbd\\xceH\\xc0\\x92\\x01\\x92', b'\\xb7\\xe5\\xcc\\xf6\\xa93\\x10_r\\xfb1\\x84\\xd0\\xa3{K', b'\\x94\\x01R{\\x0c\\xe1Q\\xec\\n\\x0bfo\\xef\\xad\\xa9\\x13', b'MY>\\x1aZ\\xac\\xbf\\xd3z\\x81\\xa2\\xe3\\x9a$\\x8c\\x94', b'\\xf6\\x0e\\xe7\\xee\\xbd\\xc9\\xc3\\x8dR`\\x91\\xa1\\xcf\\xed\\xb5Y', b'\\t;\\x8a\\xca\\x96S\\xeej\\xd0cy\\x08\\x19\\xe5B\\xff', b'\\xe9F\\xee\\x80P\\xaa\\x97\\x94\\x89K\\xe4\\xd5\\x7f\\x11\\xb1\\x95', b'Rd\\xc3$\\xb9m\\xc8\\x08H\\x0c*V4M\\n\\xc0', b'']\n",
            "24 [b'|{\\xc9J\\xe6\\xce\\x90k\\xb9to\\x1e\\xaa\\xd5\\xdb\\xe7', b'\\\\]\\xe0\\xabZq\\xb3\\xe2AW\\xaf\\xb4[\\xb0\\xe9\\xbf', b'\\xe9B+\\x14\\xb64jE/\\xa4B\\xe3\\xd5^\\xb4\\xee', b'\\xb8\\xfc \\xc8(>\\x19\\xea\\xfcd\\x95\\xf3\\xa9\\xbd\\xb3\\xed', b'f\\xc3\\x08\\xbb\\xc7z\\x85\\x19\\xd6mv\\x13Q\\xc5\\xa3\\xfd', b'\\xa0\\xc4r\\xb3\\xb7Z\\xb3\\xd2\\x1e?H\\x1c[\\xa1Eo', b'\\xd8!<\\x0e\\xb6H\\x07n\\x06\\xb3\\xc0|`\\xa9\\xd0\\x8d', b'\"\\x04\\taU_j\\x80\\xc8\\xb7B\\x8b<\\xcf\\x90\\n', b'\\x89\\xaf\\x040.\\xba\\tM\\xbfI\\xf0u\\xd1\\x9bI\\xa6', b'\\xe4\\xc8\\xe1\\xb6\\xe7Uo\\x8bJd\\xcfJ[\\xa3\\xad\\xd2', b'Hq\\x1a\\xf1\\xe9Qc\\xc2\\x17\\x8b\\xb0\\xeb\\xa5\\xe5\\x8a#', b'\\x05\\xc5\\xa6\\xc3\\x85Se\\\\\\x1e $58\\x97@\\xd8', b'']\n",
            "25 [b'|{\\xc9J\\xe6\\xce\\x90k\\xb9to\\x1e\\xaa\\xd5\\xdb\\xe7', b'\\\\]\\xe0\\xabZq\\xb3\\xe2AW\\xaf\\xb4[\\xb0\\xe9\\xbf', b'\\xe9B+\\x14\\xb64jE/\\xa4B\\xe3\\xd5^\\xb4\\xee', b'\\xc0s\\xe6\\x16\\xf65\\x84\\x9c\\xcc\\xc8\\x8d\\xde\\x0c\\x87V\\xa4', b'\\xa8~\\xb0,J\\x11\\xab]\\xdc\\xfcX\\xbf\\xbcM\\xae<', b'\\xbeYH\\x16l\\xa0f\\xb2\\xe4\\x0f\\x8c\\x89\\x1e)\\xcdp', b\"\\x9d{\\x82\\xd4\\xe0\\xf2\\x84\\x8f\\xc3<\\x04\\x14mq'l\", b'\\xa5P\\xcc-\\xf7_\\x18\\xe4\\xae3\\xe8\\xf5o\\x9f\\x8a\\x8f', b'\\x9c\\x16\\x91\\x18\\xd2\\x020M3\\xf2.K8\\x0c\\xe6U', b'v\\x1f\\x8b\\xc6\\x19\\xb8\\xe8\\xd2)\\x1b\\n\\x90\\xaf\\xc2\\xc1\\xc4', b'\\xa1\\xf1\\xbb\\x88SFG\\x94\\xdf\\x80j\\x1b8E\\xdc\\xd4', b'\\x81\\x13\\xb6\\t\\xe88\\xcft\\xad*W\\x0e\\xa3q\\xa2\\x8f', b'']\n",
            "26 [b'|{\\xc9J\\xe6\\xce\\x90k\\xb9to\\x1e\\xaa\\xd5\\xdb\\xe7', b'\\\\]\\xe0\\xabZq\\xb3\\xe2AW\\xaf\\xb4[\\xb0\\xe9\\xbf', b'\\xe9B+\\x14\\xb64jE/\\xa4B\\xe3\\xd5^\\xb4\\xee', b\"\\x8f\\xbf^:K\\xfb\\xa8\\xa8\\x1di'q>U\\xdc\\x08\", b'\\x08\\x97\\xaa\\xbf\\xe9x\\x05,\\xc1MQy\\xe1: (', b'\\x9d%\\x10k\\xec\\xac\\xea\\xb4\\xb0_\\x83\\xf0\\x8b1\\xe3\\x8d', b'BP\\x16o\\xec\\x9d \\xae\\x93Rl\\xb5\\xc0>a\\xca', b'\\tS@\\xb4\\xb4\\x9b[;L\\x86A\\xba\\xf0\\x89\\xb0\\x8e', b',\\xfe\\x8b\\xba\\x0e\\xe3mX\\xea_n\\xbb\\xdb\\xd96`', b'u21\\x93\\x01Q\\xcc\\xf5_u\\x9f(\\xc1\\xc5v(', b'E\\xc0%\\xae\\xf3:\\xfb\\x17v\\xdf?=g\\xe2 \\xee', b'\\x08f\\x06w\\x8e\\rc=\\x83\\xa4\\x93\\xb7\\r#\\x13\\xa7', b\"\\xcf\\x0erm!\\xa5\\xe7_\\x98\\x99\\x7f\\xc2\\xe0J\\x80'\", b'']\n",
            "27 [b'|{\\xc9J\\xe6\\xce\\x90k\\xb9to\\x1e\\xaa\\xd5\\xdb\\xe7', b'\\\\]\\xe0\\xabZq\\xb3\\xe2AW\\xaf\\xb4[\\xb0\\xe9\\xbf', b'\\xe9B+\\x14\\xb64jE/\\xa4B\\xe3\\xd5^\\xb4\\xee', b'*\\x99\\x1d\\xb9W\\x0b\\x91\\xaag7\\xb1~\\xfa\\xbdZF', b'q\\xbf\\x1a\\x0ej\\x82\\x04\\xc1\\xd9\\x93b1>\\xffe\\x84', b'\\xfatD\\xdb\\xa0\\xc8`\\x9eL\\x95\\x1d(r\\xc8\\x9f\\x06', b'\\x8f\\xd5\\xb0\\xb3\\xec\\r\\xb4\\t\\xa1\\x90x\\xf6\\x18\\xbb\\xe4d', b'o\\xbfL\\xc1\\x1f\\xb2ffC\\xd7E\\xdegVV\\xc4', b'[K#\\xb5\\xe0sg\\x83@+\"%o\\x02\\x01\\x8b', b'\\xb32P\\xbc3\\xc2\\x01\\x98\\xe0\\x04\\xbe+G\\xfc\\x9d\\xde', b'-\\xb68\\r\\xbf\\xbb\\xf6\\xcb\\xcfg\\x0bF\\xca\\x12e\\x86', b'^\\xeb\\xb0\\xc1/\\xfc\\xce~\\x8a\\x808\\x01p1F\\xe2', b'\\x1a\\x1aML^\\x92\\xe7\\x82\\x1fMY\\x86\\xfe\\xdd\\xd4>', b'']\n",
            "28 [b'|{\\xc9J\\xe6\\xce\\x90k\\xb9to\\x1e\\xaa\\xd5\\xdb\\xe7', b'\\\\]\\xe0\\xabZq\\xb3\\xe2AW\\xaf\\xb4[\\xb0\\xe9\\xbf', b'\\xe9B+\\x14\\xb64jE/\\xa4B\\xe3\\xd5^\\xb4\\xee', b'\\x00-\\xabA\\xdcS\\x9f\\xa5k\\x83\\xb2,\\\\\\x11\\xee\\x96', b'\\\\\\xd2w\\r\\xdf\\x99\\x8cutJZ\\xe0\\x8bu\\x11\\xec', b'f\\xd5:\\x15\\x0c>j\\xab\\xcb\\x9e\\xe7\\xa1\\x16\\xb9\\xbfb', b'/\\xad\\xa3\\xf5\\xd2\\x90^?7Z\\xf1\\xb2\\xaf\\xcb\\xdal', b'N\\xde\\xae\\x8d\\x02(\\xfb\\xfbyt/Nu\\xe9D\\xaf', b'\\xf9\\xa5x\\xdd\\x81\\xd0\\xd7\\xb0.u\\xe4,x\\x8at`', b'\\xcd\\x08\\x83bEy\\xb5\\x05\\xfb\\xa0\\xd0N<4\\xd6\\xb9', b'J\\xb9W\\xab^\\x00\\x96\\xd65\\xc8\\xfa\\xfc\\xfa\\xf0[\\xad', b'$\\xc7\\r\\xce\\xd6\\xe1+\\x90\\xe6&\\xb3\\xb1\\xd18\\x9d\\xf5', b'\\xa9JY?r\\xf8\\x90p\\x1f4U\\xbd\\xd8\\xbf\\x83o', b'']\n",
            "29 [b'|{\\xc9J\\xe6\\xce\\x90k\\xb9to\\x1e\\xaa\\xd5\\xdb\\xe7', b'\\\\]\\xe0\\xabZq\\xb3\\xe2AW\\xaf\\xb4[\\xb0\\xe9\\xbf', b'\\xe9B+\\x14\\xb64jE/\\xa4B\\xe3\\xd5^\\xb4\\xee', b'8ID\\xd4w+\\x9a\\x0b!\\x927\\xe8\\xde\"-\\x97', b'5\\xf8U\\xfb?@\\xbb\\x86\\x05Si\\x17[\\x8aU>', b'\\xed\\xdd\\x142\\x05\\x02\\x1e\\xea\\xa3 \"\\xd4\\xb5\\xc3?\\xa3', b'C3\\xb6i\\x99Yxw\\x05\\xff9b\\xee\\xc9\\x9dT', b'J\\x9b\\x05\\xfcH\\xce3\\x13-\\x1eK7}n\\x17g', b'\\x82:P\\x15\\xa6\\x8cS\\x9e\\x8b\\xaa!\\xd3k\\xc1\\xb2\\xc5', b'\\xe6\\xe0\\xa3\\x7f\\xf1\\xe6y\\xd9+\\x19\\x1fr_\\x90\\xc8\\xde', b\"\\xf6\\xc9\\x82'\\xcfp\\x9cO\\xc9H\\xec\\x05\\x8e\\xe02\\xc7\", b'{R\\x1cD\\x1c\\r\\x0c`k\\x1e<\\x10i\\xc8\\x96\\x98', b'\\\\\\xcal\\xe6\\xe0\\xf0\\x9c\\xc6\\x85 \\xe0`\\x06\\xf6\\x8a\\x81', b'']\n",
            "30 [b'|{\\xc9J\\xe6\\xce\\x90k\\xb9to\\x1e\\xaa\\xd5\\xdb\\xe7', b'\\\\]\\xe0\\xabZq\\xb3\\xe2AW\\xaf\\xb4[\\xb0\\xe9\\xbf', b'\\xe9B+\\x14\\xb64jE/\\xa4B\\xe3\\xd5^\\xb4\\xee', b'~\\x1a\\x04\\xcd\\xdf\\xa5\\x18\\xa8\\xfdO\\xe3}\\xb2\\x8e\\xf0(', b'\\xad\\xf7\\xeb\\xdf5\\xd4\\xb8\\xf0~\\x98R\\xbd\\xe6\\x08:\\xcd', b'D\\xdf]\\x1bq\\x88>~\\x1dQG\"(\\xc3\\'M', b'Q]oVCM\\x93k\\x97\\xdeH\\x12\\x118\\xff\\xec', b'6\\xd7gfb,%0c\\x94\\xf3B0Y\\x84\\xef', b'C\\xc5\\x10U6\\x1a\\xb0\\xee\\x12\\xe0\\xab\\xe5Y\\xcc9G', b\"Z\\n\\x80'D\\r\\x88\\x8e\\xb9\\x15\\xdd;\\xf7\\x9ep\\xa1\", b'\\x00\\x0b\\xe1\\xa8\\xbf\\xcf\\xe3K\\xed\\xff\\x85\\xc4R\\xc7\\ns', b'\\x15\\x1e\\xca{\\xebb\\x0e?\\xe6\\x1a\\xc2\\x9c\\xf0\\x89:\\xe7', b'\\x85R\\xe7\\xb25\\r\\\\\\xeb\\x84\\xd9\\x04\\xa7\\n\\x91\\xdf\\xde', b'']\n",
            "31 [b'|{\\xc9J\\xe6\\xce\\x90k\\xb9to\\x1e\\xaa\\xd5\\xdb\\xe7', b'\\\\]\\xe0\\xabZq\\xb3\\xe2AW\\xaf\\xb4[\\xb0\\xe9\\xbf', b'\\xe9B+\\x14\\xb64jE/\\xa4B\\xe3\\xd5^\\xb4\\xee', b'kqK\\xde\\x943\\xab\\xf6f\\x94\\xe1C\\x17TS\\xd1', b'K\\x0c\\x06\\xb8\\xe4\\xc6\\xe634\\x90\\x04{Hyj_', b'\\xda#\\xe9\\xa6\\xac\\xea.\\x89fh\\xfeM\\xa3\\x98\\r\\xb0', b\"UF\\x0e\\xbf)MyS\\xe0\\xd0x\\xdc'\\xf4p\\xae\", b'm\\t\\x1d\\x97\\xd7\\xaf\\xd0\\x06-,h\\xca\\xc2\\xd9m\\xf7', b'h\\xab\\xab?=x\\xff\\x08\\x03.\\xc5\\x8f\\xec\\x0fey', b'hs]\\nw\\xfa{\\x97\\xb5+\\xbb\\x93\\xc6N\\xde\\xef', b'Ao\\xe9\\x83]\\xc2\\xce\\xc4&\\xef\\xcdR> m\\x99', b\"\\x87Ns\\xb0\\xda'\\xf9S~\\x1b\\xf2w\\x8f@\\x94\\xcc\", b'Qm\\x96X\\x9b#\\x1b\\xaf\\xa7\\xc0\\xd4\\xbc\\xe4\\xbf{\\xcf', b'']\n",
            "2 4\n"
          ]
        },
        {
          "data": {
            "text/plain": [
              "b\"Rollin' in my 5.0\\nWith my rag-top down so my hair can blow\\nThe girlies on standby waving just to say hi\\nDid you stop? No, I just drove by\\n\\x01\""
            ]
          },
          "execution_count": 30,
          "metadata": {},
          "output_type": "execute_result"
        }
      ],
      "source": [
        "c14.match_output()"
      ]
    },
    {
      "attachments": {},
      "cell_type": "markdown",
      "metadata": {
        "id": "0nx6Rb2R35Uo"
      },
      "source": [
        "Challenge 15"
      ]
    },
    {
      "cell_type": "code",
      "execution_count": 31,
      "metadata": {
        "colab": {
          "base_uri": "https://localhost:8080/"
        },
        "id": "87aCEatn3653",
        "outputId": "e92eb92c-3148-41b1-d904-285c0a7f71bf"
      },
      "outputs": [
        {
          "name": "stdout",
          "output_type": "stream",
          "text": [
            "b'ICE ICE BABY'\n"
          ]
        }
      ],
      "source": [
        "import challenge15 as c15\n",
        "\n",
        "plain_bytes = b\"ICE ICE BABY\\x04\\x04\\x04\\x04\"\n",
        "print(c15.check_and_strip_PKCS7(plain_bytes, block_size))\n",
        "plain_bytes = b\"ICE ICE BABY\\x05\\x05\\x05\\x05\"\n",
        "# check_and_strip_PKCS7(plain_bytes, block_size)"
      ]
    },
    {
      "attachments": {},
      "cell_type": "markdown",
      "metadata": {
        "id": "ohwz6Rgm_Q_1"
      },
      "source": [
        "Challenge 16"
      ]
    },
    {
      "cell_type": "code",
      "execution_count": 32,
      "metadata": {
        "colab": {
          "base_uri": "https://localhost:8080/"
        },
        "id": "7drnEnGl_Qow",
        "outputId": "c524ef8a-3617-40a0-cad2-e2267024fe99"
      },
      "outputs": [
        {
          "name": "stdout",
          "output_type": "stream",
          "text": [
            "[b'g\"V\\x18\\xe6\\xc2\\x8fK\\xf7\\xe66@U-6\\x9b', b'%\\xcfh1\\xed\\x9f\\xee[0\\x13\\xa4\\x1b\\xd5E\\x13\\x14', b\"HX\\xb2<\\x9eM\\xff'\\xa7C\\xd9 e\\xfb{)\", b'\\x1e\\xd0\\xf2E\\x03\\x8d\\x10G\\xbb\\x17\\xd7\\x05\\xf7\\x81!\\n', b'\\x08\\xee\\x1e\\x0btM\\xbf\\x84/\\x85v\\xf3~D\\xd3P', b'n\\xc0v\\xa9\\xd1{}\\xb8L\\xb6N\\x0eB31(', b'b:\\x87\\x0f\\xfcv\\xd3Z8\\xc4\\xf2Ta~}\\x9d']\n",
            "[b'comment1=cooking', b'%20MCs;userdata=', b'ABCDEFGHIJKLMNOP', b'ABCDEFGHIJKLMNOP', b';comment2=%20lik', b'e%20a%20pound%20', b'of%20bacon\\x06\\x06\\x06\\x06\\x06\\x06']\n",
            "comment1=cooking%20MCs;userdata=ABCDEFGHIJKLMNOPABCDEFGHIJKLMNOP;comment2=%20like%20a%20pound%20of%20bacon\n",
            "False\n",
            "[b'comment1=cooking', b'%20MCs;userdata=', b'\\x95\\xc8q\\xd0\\xe1\\xbfqP\\x16\\x8f\\xfa\\xe0\\xee%\\x92\\x0e', b';admin=true;AAAA', b';comment2=%20lik', b'e%20a%20pound%20', b'of%20bacon\\x06\\x06\\x06\\x06\\x06\\x06']\n",
            "comment1=cooking%20MCs;userdata=ÈqÐá¿qP\u0016úàî%\u000e;admin=true;AAAA;comment2=%20like%20a%20pound%20of%20bacon\n",
            "True\n"
          ]
        }
      ],
      "source": [
        "import challenge16 as c16\n",
        "\n",
        "block_size = 16\n",
        "random_key = generate_random_aes_key()\n",
        "initialization_vector = generate_random_aes_key()\n",
        "plain_text = \"ABCDEFGHIJKLMNOP\" * 2\n",
        "\n",
        "encrypt_bytes = c16.encrypt_CBC_16(plain_text, random_key, block_size, initialization_vector)\n",
        "print_bytes(encrypt_bytes)\n",
        "print(c16.check_admin_16(encrypt_bytes, random_key, block_size, initialization_vector))\n",
        "\n",
        "target_chunk = encrypt_bytes[2*block_size:3*block_size]\n",
        "target_chunk = [b1 ^ b2 for b1, b2 in zip(target_chunk, b';admin=true;AAAA')]\n",
        "target_chunk = bytes([b1 ^ b2 for b1, b2 in zip(target_chunk, b\"ABCDEFGHIJKLMNOP\")])\n",
        "\n",
        "print(c16.check_admin_16(encrypt_bytes[:2*block_size] + target_chunk + encrypt_bytes[3*block_size:], random_key, block_size, initialization_vector))"
      ]
    },
    {
      "attachments": {},
      "cell_type": "markdown",
      "metadata": {},
      "source": [
        "Challenge 17"
      ]
    },
    {
      "cell_type": "code",
      "execution_count": 33,
      "metadata": {},
      "outputs": [],
      "source": [
        "random_string_list = [b'MDAwMDAwTm93IHRoYXQgdGhlIHBhcnR5IGlzIGp1bXBpbmc=',\n",
        "b'MDAwMDAxV2l0aCB0aGUgYmFzcyBraWNrZWQgaW4gYW5kIHRoZSBWZWdhJ3MgYXJlIHB1bXBpbic=',\n",
        "b'MDAwMDAyUXVpY2sgdG8gdGhlIHBvaW50LCB0byB0aGUgcG9pbnQsIG5vIGZha2luZw==',\n",
        "b'MDAwMDAzQ29va2luZyBNQydzIGxpa2UgYSBwb3VuZCBvZiBiYWNvbg==',\n",
        "b'MDAwMDA0QnVybmluZyAnZW0sIGlmIHlvdSBhaW4ndCBxdWljayBhbmQgbmltYmxl',\n",
        "b'MDAwMDA1SSBnbyBjcmF6eSB3aGVuIEkgaGVhciBhIGN5bWJhbA==',\n",
        "b'MDAwMDA2QW5kIGEgaGlnaCBoYXQgd2l0aCBhIHNvdXBlZCB1cCB0ZW1wbw==',\n",
        "b'MDAwMDA3SSdtIG9uIGEgcm9sbCwgaXQncyB0aW1lIHRvIGdvIHNvbG8=',\n",
        "b'MDAwMDA4b2xsaW4nIGluIG15IGZpdmUgcG9pbnQgb2g=',\n",
        "b'MDAwMDA5aXRoIG15IHJhZy10b3AgZG93biBzbyBteSBoYWlyIGNhbiBibG93']\n",
        "\n",
        "key = generate_random_aes_key()\n",
        "IV = generate_random_aes_key()\n",
        "block_size = 16"
      ]
    },
    {
      "cell_type": "code",
      "execution_count": 34,
      "metadata": {},
      "outputs": [],
      "source": [
        "# function 1\n",
        "def encrypt_CBC_17() -> bytes:\n",
        "    cipher_text = random.choice(random_string_list)\n",
        "    cipher_text = padding_PKCS7(b'A' * 14, block_size)\n",
        "    encrypted_text = encrypt_CBC(cipher_text, key, block_size, IV)\n",
        "    return encrypted_text\n",
        "\n",
        "# function 2\n",
        "def check_padding_is_valid(encrypted_bytes: bytes) -> bool:\n",
        "    decrypted_bytes = decrypt_CBC(encrypted_bytes, key, block_size, IV, False)\n",
        "    target_bytes = decrypted_bytes[-1]\n",
        "    #print(f'decrypted_bytes {decrypted_bytes}')\n",
        "    #print(f'target_bytes {target_bytes}')\n",
        "    if decrypted_bytes[-target_bytes:] == decrypted_bytes[-1:] * target_bytes:\n",
        "        return True\n",
        "    return False"
      ]
    },
    {
      "cell_type": "code",
      "execution_count": 35,
      "metadata": {},
      "outputs": [
        {
          "name": "stdout",
          "output_type": "stream",
          "text": [
            "b'\\xff>\\n\\xb1w\\xf4\\xbdd\\x88\\xb9Z\\x8d\\xf4dC\\x90\\xe0K\"\\xdaHUn\\xe4j\\xe4\\xed\\xd4\\x99\\xe6\\xb7\\xb4'\n"
          ]
        },
        {
          "data": {
            "text/plain": [
              "True"
            ]
          },
          "execution_count": 35,
          "metadata": {},
          "output_type": "execute_result"
        }
      ],
      "source": [
        "encrypted_bytes = encrypt_CBC_17()\n",
        "print(encrypted_bytes)\n",
        "check_padding_is_valid(encrypted_bytes)"
      ]
    },
    {
      "cell_type": "code",
      "execution_count": 36,
      "metadata": {},
      "outputs": [],
      "source": [
        "def r(c0, c1, c2, intermiedate_state, i):\n",
        "    if len(intermiedate_state) == 16:\n",
        "        return intermiedate_state\n",
        "    suffix = xor_bytes(intermiedate_state, i.to_bytes(1, 'big') * (i - 1)) if i > 1 else b''\n",
        "    for j in range(256):\n",
        "        modified_encrypted_bytes = c0 + c1[:-i] + j.to_bytes(1, 'big') + suffix + c2\n",
        "        # print(len(modified_encrypted_bytes))\n",
        "        if check_padding_is_valid(modified_encrypted_bytes):\n",
        "            new_intermiedate_state = (j ^ i).to_bytes(1, 'big') + intermiedate_state\n",
        "            next = r(c0, c1, c2, new_intermiedate_state, i + 1)\n",
        "            if next:\n",
        "                return next"
      ]
    },
    {
      "cell_type": "code",
      "execution_count": 37,
      "metadata": {},
      "outputs": [
        {
          "ename": "ValueError",
          "evalue": "Padding is incorrect.",
          "output_type": "error",
          "traceback": [
            "\u001b[1;31m---------------------------------------------------------------------------\u001b[0m",
            "\u001b[1;31mValueError\u001b[0m                                Traceback (most recent call last)",
            "Cell \u001b[1;32mIn[37], line 7\u001b[0m\n\u001b[0;32m      5\u001b[0m     c1 \u001b[39m=\u001b[39m block_list[\u001b[39m-\u001b[39mi\u001b[39m-\u001b[39m\u001b[39m1\u001b[39m]\n\u001b[0;32m      6\u001b[0m     c2 \u001b[39m=\u001b[39m block_list[\u001b[39m-\u001b[39mi]\n\u001b[1;32m----> 7\u001b[0m     IS \u001b[39m=\u001b[39m r(c0, c1, c2, \u001b[39mb\u001b[39;49m\u001b[39m'\u001b[39;49m\u001b[39m'\u001b[39;49m, \u001b[39m1\u001b[39;49m)\n\u001b[0;32m      8\u001b[0m     result \u001b[39m=\u001b[39m xor_bytes(IS, c1) \u001b[39m+\u001b[39m result\n\u001b[0;32m     10\u001b[0m result \u001b[39m=\u001b[39m xor_bytes(r(\u001b[39mb\u001b[39m\u001b[39m'\u001b[39m\u001b[39m'\u001b[39m, IV, c1, \u001b[39mb\u001b[39m\u001b[39m'\u001b[39m\u001b[39m'\u001b[39m, \u001b[39m1\u001b[39m), IV) \u001b[39m+\u001b[39m result\n",
            "Cell \u001b[1;32mIn[36], line 8\u001b[0m, in \u001b[0;36mr\u001b[1;34m(c0, c1, c2, intermiedate_state, i)\u001b[0m\n\u001b[0;32m      6\u001b[0m modified_encrypted_bytes \u001b[39m=\u001b[39m c0 \u001b[39m+\u001b[39m c1[:\u001b[39m-\u001b[39mi] \u001b[39m+\u001b[39m j\u001b[39m.\u001b[39mto_bytes(\u001b[39m1\u001b[39m, \u001b[39m'\u001b[39m\u001b[39mbig\u001b[39m\u001b[39m'\u001b[39m) \u001b[39m+\u001b[39m suffix \u001b[39m+\u001b[39m c2\n\u001b[0;32m      7\u001b[0m \u001b[39m# print(len(modified_encrypted_bytes))\u001b[39;00m\n\u001b[1;32m----> 8\u001b[0m \u001b[39mif\u001b[39;00m check_padding_is_valid(modified_encrypted_bytes):\n\u001b[0;32m      9\u001b[0m     new_intermiedate_state \u001b[39m=\u001b[39m (j \u001b[39m^\u001b[39m i)\u001b[39m.\u001b[39mto_bytes(\u001b[39m1\u001b[39m, \u001b[39m'\u001b[39m\u001b[39mbig\u001b[39m\u001b[39m'\u001b[39m) \u001b[39m+\u001b[39m intermiedate_state\n\u001b[0;32m     10\u001b[0m     \u001b[39mnext\u001b[39m \u001b[39m=\u001b[39m r(c0, c1, c2, new_intermiedate_state, i \u001b[39m+\u001b[39m \u001b[39m1\u001b[39m)\n",
            "Cell \u001b[1;32mIn[34], line 10\u001b[0m, in \u001b[0;36mcheck_padding_is_valid\u001b[1;34m(encrypted_bytes)\u001b[0m\n\u001b[0;32m      9\u001b[0m \u001b[39mdef\u001b[39;00m \u001b[39mcheck_padding_is_valid\u001b[39m(encrypted_bytes: \u001b[39mbytes\u001b[39m) \u001b[39m-\u001b[39m\u001b[39m>\u001b[39m \u001b[39mbool\u001b[39m:\n\u001b[1;32m---> 10\u001b[0m     decrypted_bytes \u001b[39m=\u001b[39m decrypt_CBC(encrypted_bytes, key, block_size, IV, \u001b[39mFalse\u001b[39;49;00m)\n\u001b[0;32m     11\u001b[0m     target_bytes \u001b[39m=\u001b[39m decrypted_bytes[\u001b[39m-\u001b[39m\u001b[39m1\u001b[39m]\n\u001b[0;32m     12\u001b[0m     \u001b[39m#print(f'decrypted_bytes {decrypted_bytes}')\u001b[39;00m\n\u001b[0;32m     13\u001b[0m     \u001b[39m#print(f'target_bytes {target_bytes}')\u001b[39;00m\n",
            "File \u001b[1;32mc:\\Users\\ballban\\Documents\\SourceCode\\cryptopals\\utility.py:93\u001b[0m, in \u001b[0;36mdecrypt_CBC\u001b[1;34m(text_bytes, key, block_size, initialization_vector, is_unpadding)\u001b[0m\n\u001b[0;32m     91\u001b[0m   pre_block \u001b[39m=\u001b[39m block\n\u001b[0;32m     92\u001b[0m   result \u001b[39m+\u001b[39m\u001b[39m=\u001b[39m plain_text\n\u001b[1;32m---> 93\u001b[0m \u001b[39mreturn\u001b[39;00m \u001b[39mbytes\u001b[39m(result) \u001b[39mif\u001b[39;00m is_unpadding \u001b[39melse\u001b[39;00m unpadding_PKCS7(\u001b[39mbytes\u001b[39;49m(result), block_size)\n",
            "File \u001b[1;32mc:\\Users\\ballban\\Documents\\SourceCode\\cryptopals\\utility.py:63\u001b[0m, in \u001b[0;36munpadding_PKCS7\u001b[1;34m(input_bytes, block_size)\u001b[0m\n\u001b[0;32m     56\u001b[0m \u001b[39mdef\u001b[39;00m \u001b[39munpadding_PKCS7\u001b[39m(input_bytes: \u001b[39mbytes\u001b[39m, block_size: \u001b[39mint\u001b[39m) \u001b[39m-\u001b[39m\u001b[39m>\u001b[39m \u001b[39mbytes\u001b[39m:\n\u001b[0;32m     57\u001b[0m   \u001b[39m# target_byte = input_bytes[-1]\u001b[39;00m\n\u001b[0;32m     58\u001b[0m   \u001b[39m# print(f'input_bytes {input_bytes}')\u001b[39;00m\n\u001b[1;32m   (...)\u001b[0m\n\u001b[0;32m     61\u001b[0m   \u001b[39m# else:\u001b[39;00m\n\u001b[0;32m     62\u001b[0m   \u001b[39m#   return input_bytes\u001b[39;00m\n\u001b[1;32m---> 63\u001b[0m   \u001b[39mreturn\u001b[39;00m unpad(input_bytes, block_size)\n",
            "File \u001b[1;32m~\\AppData\\Roaming\\Python\\Python39\\site-packages\\Crypto\\Util\\Padding.py:92\u001b[0m, in \u001b[0;36munpad\u001b[1;34m(padded_data, block_size, style)\u001b[0m\n\u001b[0;32m     90\u001b[0m padding_len \u001b[39m=\u001b[39m bord(padded_data[\u001b[39m-\u001b[39m\u001b[39m1\u001b[39m])\n\u001b[0;32m     91\u001b[0m \u001b[39mif\u001b[39;00m padding_len\u001b[39m<\u001b[39m\u001b[39m1\u001b[39m \u001b[39mor\u001b[39;00m padding_len\u001b[39m>\u001b[39m\u001b[39mmin\u001b[39m(block_size, pdata_len):\n\u001b[1;32m---> 92\u001b[0m     \u001b[39mraise\u001b[39;00m \u001b[39mValueError\u001b[39;00m(\u001b[39m\"\u001b[39m\u001b[39mPadding is incorrect.\u001b[39m\u001b[39m\"\u001b[39m)\n\u001b[0;32m     93\u001b[0m \u001b[39mif\u001b[39;00m style \u001b[39m==\u001b[39m \u001b[39m'\u001b[39m\u001b[39mpkcs7\u001b[39m\u001b[39m'\u001b[39m:\n\u001b[0;32m     94\u001b[0m     \u001b[39mif\u001b[39;00m padded_data[\u001b[39m-\u001b[39mpadding_len:]\u001b[39m!=\u001b[39mbchr(padding_len)\u001b[39m*\u001b[39mpadding_len:\n",
            "\u001b[1;31mValueError\u001b[0m: Padding is incorrect."
          ]
        }
      ],
      "source": [
        "block_list = [encrypted_bytes[i:i + block_size] for i in range(0, len(encrypted_bytes), block_size)]\n",
        "result = b''\n",
        "for i in range(1, len(block_list)):\n",
        "    c0 = b''.join(block_list[:-i-1])\n",
        "    c1 = block_list[-i-1]\n",
        "    c2 = block_list[-i]\n",
        "    IS = r(c0, c1, c2, b'', 1)\n",
        "    result = xor_bytes(IS, c1) + result\n",
        "\n",
        "result = xor_bytes(r(b'', IV, c1, b'', 1), IV) + result\n",
        "print(unpadding_PKCS7(result))"
      ]
    },
    {
      "attachments": {},
      "cell_type": "markdown",
      "metadata": {},
      "source": [
        "Challenge 18"
      ]
    },
    {
      "cell_type": "code",
      "execution_count": 38,
      "metadata": {},
      "outputs": [
        {
          "name": "stdout",
          "output_type": "stream",
          "text": [
            "b\"Yo, VIP Let's kick it Ice, Ice, baby Ice, Ice, baby \"\n"
          ]
        }
      ],
      "source": [
        "cipher_text = base64.b64decode('L77na/nrFsKvynd6HzOoG7GHTLXsTVu9qvY/2syLXzhPweyyMTJULu/6/kXX0KSvoOLSFQ==')\n",
        "key = b'YELLOW SUBMARINE'\n",
        "nonce = 0\n",
        "print(exec_CTR(cipher_text, key, nonce))"
      ]
    },
    {
      "attachments": {},
      "cell_type": "markdown",
      "metadata": {},
      "source": [
        "Challenge 19\n",
        "Challenge 20"
      ]
    },
    {
      "cell_type": "code",
      "execution_count": 39,
      "metadata": {},
      "outputs": [],
      "source": [
        "b64_text_list = '''SSBoYXZlIG1ldCB0aGVtIGF0IGNsb3NlIG9mIGRheQ==\n",
        "Q29taW5nIHdpdGggdml2aWQgZmFjZXM=\n",
        "RnJvbSBjb3VudGVyIG9yIGRlc2sgYW1vbmcgZ3JleQ==\n",
        "RWlnaHRlZW50aC1jZW50dXJ5IGhvdXNlcy4=\n",
        "SSBoYXZlIHBhc3NlZCB3aXRoIGEgbm9kIG9mIHRoZSBoZWFk\n",
        "T3IgcG9saXRlIG1lYW5pbmdsZXNzIHdvcmRzLA==\n",
        "T3IgaGF2ZSBsaW5nZXJlZCBhd2hpbGUgYW5kIHNhaWQ=\n",
        "UG9saXRlIG1lYW5pbmdsZXNzIHdvcmRzLA==\n",
        "QW5kIHRob3VnaHQgYmVmb3JlIEkgaGFkIGRvbmU=\n",
        "T2YgYSBtb2NraW5nIHRhbGUgb3IgYSBnaWJl\n",
        "VG8gcGxlYXNlIGEgY29tcGFuaW9u\n",
        "QXJvdW5kIHRoZSBmaXJlIGF0IHRoZSBjbHViLA==\n",
        "QmVpbmcgY2VydGFpbiB0aGF0IHRoZXkgYW5kIEk=\n",
        "QnV0IGxpdmVkIHdoZXJlIG1vdGxleSBpcyB3b3JuOg==\n",
        "QWxsIGNoYW5nZWQsIGNoYW5nZWQgdXR0ZXJseTo=\n",
        "QSB0ZXJyaWJsZSBiZWF1dHkgaXMgYm9ybi4=\n",
        "VGhhdCB3b21hbidzIGRheXMgd2VyZSBzcGVudA==\n",
        "SW4gaWdub3JhbnQgZ29vZCB3aWxsLA==\n",
        "SGVyIG5pZ2h0cyBpbiBhcmd1bWVudA==\n",
        "VW50aWwgaGVyIHZvaWNlIGdyZXcgc2hyaWxsLg==\n",
        "V2hhdCB2b2ljZSBtb3JlIHN3ZWV0IHRoYW4gaGVycw==\n",
        "V2hlbiB5b3VuZyBhbmQgYmVhdXRpZnVsLA==\n",
        "U2hlIHJvZGUgdG8gaGFycmllcnM/\n",
        "VGhpcyBtYW4gaGFkIGtlcHQgYSBzY2hvb2w=\n",
        "QW5kIHJvZGUgb3VyIHdpbmdlZCBob3JzZS4=\n",
        "VGhpcyBvdGhlciBoaXMgaGVscGVyIGFuZCBmcmllbmQ=\n",
        "V2FzIGNvbWluZyBpbnRvIGhpcyBmb3JjZTs=\n",
        "SGUgbWlnaHQgaGF2ZSB3b24gZmFtZSBpbiB0aGUgZW5kLA==\n",
        "U28gc2Vuc2l0aXZlIGhpcyBuYXR1cmUgc2VlbWVkLA==\n",
        "U28gZGFyaW5nIGFuZCBzd2VldCBoaXMgdGhvdWdodC4=\n",
        "VGhpcyBvdGhlciBtYW4gSSBoYWQgZHJlYW1lZA==\n",
        "QSBkcnVua2VuLCB2YWluLWdsb3Jpb3VzIGxvdXQu\n",
        "SGUgaGFkIGRvbmUgbW9zdCBiaXR0ZXIgd3Jvbmc=\n",
        "VG8gc29tZSB3aG8gYXJlIG5lYXIgbXkgaGVhcnQs\n",
        "WWV0IEkgbnVtYmVyIGhpbSBpbiB0aGUgc29uZzs=\n",
        "SGUsIHRvbywgaGFzIHJlc2lnbmVkIGhpcyBwYXJ0\n",
        "SW4gdGhlIGNhc3VhbCBjb21lZHk7\n",
        "SGUsIHRvbywgaGFzIGJlZW4gY2hhbmdlZCBpbiBoaXMgdHVybiw=\n",
        "VHJhbnNmb3JtZWQgdXR0ZXJseTo=\n",
        "QSB0ZXJyaWJsZSBiZWF1dHkgaXMgYm9ybi4='''.split('\\n')\n",
        "''' get data '''\n",
        "bytes_list = []\n",
        "for text in b64_text_list:\n",
        "    bytes_list.append(base64.b64decode(text))\n",
        "\n",
        "''' create encrypted data list with ctr mode '''\n",
        "nonce = 0\n",
        "key = generate_random_aes_key()\n",
        "encrypted_btyes_list = []\n",
        "for plain_bytes in bytes_list:\n",
        "    encrypted_btyes_list.append(exec_CTR(plain_bytes, key, nonce))"
      ]
    },
    {
      "cell_type": "code",
      "execution_count": 40,
      "metadata": {},
      "outputs": [],
      "source": [
        "# printable_text = '0123456789abcdefghijklmnopqrstuvwxyzABCDEFGHIJKLMNOPQRSTUVWXYZ-?!\"\\',. :;'\n",
        "# printable_text = \"fHtcuivObUICnWSgpYr ?T,eyah';-A:EdwmkosPBF.l\"\n",
        "printable_chars = bytes(string.printable, 'ascii')\n",
        "# printable_chars = bytes(printable_text, 'ascii')\n",
        "all_possible_bytes_for_keystream = defaultdict(list)\n",
        "\n",
        "''' loop each char from start '''\n",
        "for i in range(38):\n",
        "    ''' try all possible byte '''\n",
        "    for possible_byte in range(256):\n",
        "        unprintable_flag = False\n",
        "        for encrypted_btyes in encrypted_btyes_list:\n",
        "            if len(encrypted_btyes) <= i:\n",
        "                continue\n",
        "            if encrypted_btyes[i] ^ possible_byte not in printable_chars:\n",
        "                unprintable_flag = True\n",
        "                break\n",
        "        if unprintable_flag:\n",
        "            continue\n",
        "        all_possible_bytes_for_keystream[i].append(possible_byte.to_bytes(1, 'little'))"
      ]
    },
    {
      "cell_type": "code",
      "execution_count": 41,
      "metadata": {},
      "outputs": [
        {
          "name": "stdout",
          "output_type": "stream",
          "text": [
            "0 82 [b' ', b'!', b'\"', b'#', b'$', b'%', b'&', b\"'\", b'(', b')', b'*', b'+', b',', b'-', b'.', b'/', b'0', b'1', b'2', b'3', b'4', b'5', b'6', b'7', b'8', b'9', b':', b';', b'<', b'=', b'>', b'?', b'@', b'A', b'B', b'C', b'D', b'E', b'F', b'G', b'H', b'I', b'J', b'K', b'L', b'M', b'N', b'O', b'P', b'Q', b'R', b'S', b'T', b'U', b'V', b'W', b'X', b'Y', b'Z', b'[', b'\\\\', b']', b'^', b'_', b'`', b'a', b'b', b'c', b'd', b'e', b'f', b'h', b'l', b'o', b'p', b'r', b's', b't', b'u', b'y', b'z', b'~']\n",
            "1 58 [b'\\xa0', b'\\xa1', b'\\xa2', b'\\xa3', b'\\xa4', b'\\xa5', b'\\xa6', b'\\xa7', b'\\xa8', b'\\xa9', b'\\xaa', b'\\xab', b'\\xac', b'\\xad', b'\\xaf', b'\\xb0', b'\\xb1', b'\\xb2', b'\\xb3', b'\\xb4', b'\\xb5', b'\\xb6', b'\\xb7', b'\\xb8', b'\\xb9', b'\\xba', b'\\xbb', b'\\xbc', b'\\xbd', b'\\xbe', b'\\xbf', b'\\xd8', b'\\xda', b'\\xdb', b'\\xdc', b'\\xdd', b'\\xe3', b'\\xe4', b'\\xe5', b'\\xe9', b'\\xea', b'\\xec', b'\\xed', b'\\xee', b'\\xf0', b'\\xf1', b'\\xf2', b'\\xf3', b'\\xf4', b'\\xf5', b'\\xf6', b'\\xf7', b'\\xf8', b'\\xf9', b'\\xfa', b'\\xfd', b'\\xfe', b'\\xff']\n",
            "2 50 [b'\\x80', b'\\x81', b'\\x82', b'\\x83', b'\\x84', b'\\x85', b'\\x86', b'\\x88', b'\\x89', b'\\x8a', b'\\x8c', b'\\x8d', b'\\x8e', b'\\x8f', b'\\x90', b'\\x91', b'\\x92', b'\\x93', b'\\x94', b'\\x95', b'\\x96', b'\\x97', b'\\x98', b'\\x99', b'\\x9a', b'\\x9b', b'\\x9c', b'\\x9d', b'\\x9e', b'\\x9f', b'\\xc1', b'\\xc4', b'\\xc5', b'\\xc7', b'\\xc9', b'\\xcc', b'\\xcd', b'\\xd0', b'\\xd1', b'\\xd2', b'\\xd6', b'\\xd7', b'\\xd8', b'\\xd9', b'\\xda', b'\\xdb', b'\\xdc', b'\\xdd', b'\\xde', b'\\xdf']\n",
            "3 56 [b'\\x80', b'\\x81', b'\\x82', b'\\x83', b'\\x84', b'\\x85', b'\\x86', b'\\x87', b'\\x88', b'\\x89', b'\\x8a', b'\\x8b', b'\\x8c', b'\\x8e', b'\\x8f', b'\\x90', b'\\x91', b'\\x92', b'\\x93', b'\\x94', b'\\x95', b'\\x96', b'\\x97', b'\\x98', b'\\x99', b'\\x9a', b'\\x9b', b'\\x9c', b'\\x9d', b'\\x9e', b'\\x9f', b'\\xc1', b'\\xc2', b'\\xc6', b'\\xc7', b'\\xca', b'\\xcb', b'\\xcd', b'\\xce', b'\\xcf', b'\\xd0', b'\\xd1', b'\\xd2', b'\\xd3', b'\\xd4', b'\\xd5', b'\\xd6', b'\\xd7', b'\\xda', b'\\xdb', b'\\xdc', b'\\xf8', b'\\xf9', b'\\xfb', b'\\xfe', b'\\xff']\n",
            "4 28 [b'\\xb0', b'\\xb1', b'\\xb3', b'\\xb6', b'\\xb7', b'\\xd8', b'\\xd9', b'\\xda', b'\\xde', b'\\xdf', b'\\xe1', b'\\xe6', b'\\xe7', b'\\xe8', b'\\xea', b'\\xec', b'\\xee', b'\\xf0', b'\\xf1', b'\\xf2', b'\\xf3', b'\\xf4', b'\\xf5', b'\\xf6', b'\\xf7', b'\\xfb', b'\\xfc', b'\\xfd']\n",
            "5 53 [b'\\xa0', b'\\xa1', b'\\xa2', b'\\xa3', b'\\xa4', b'\\xa5', b'\\xa7', b'\\xa8', b'\\xa9', b'\\xaa', b'\\xab', b'\\xac', b'\\xad', b'\\xae', b'\\xaf', b'\\xb0', b'\\xb1', b'\\xb2', b'\\xb3', b'\\xb4', b'\\xb5', b'\\xb6', b'\\xb7', b'\\xb8', b'\\xb9', b'\\xba', b'\\xbb', b'\\xbc', b'\\xbd', b'\\xbe', b'\\xbf', b'\\xd0', b'\\xd2', b'\\xd3', b'\\xd4', b'\\xd5', b'\\xe4', b'\\xe6', b'\\xe7', b'\\xec', b'\\xed', b'\\xf2', b'\\xf3', b'\\xf5', b'\\xf6', b'\\xf7', b'\\xf8', b'\\xf9', b'\\xfa', b'\\xfb', b'\\xfc', b'\\xfd', b'\\xfe']\n",
            "6 54 [b'\\x8a', b'\\x8b', b'\\x8c', b'\\x8d', b'\\x8f', b'\\xa0', b'\\xa1', b'\\xa2', b'\\xa3', b'\\xa4', b'\\xa5', b'\\xa6', b'\\xa7', b'\\xa8', b'\\xa9', b'\\xab', b'\\xac', b'\\xae', b'\\xb3', b'\\xb5', b'\\xb9', b'\\xbb', b'\\xbf', b'\\xe0', b'\\xe1', b'\\xe2', b'\\xe3', b'\\xe4', b'\\xe5', b'\\xe6', b'\\xe7', b'\\xe8', b'\\xe9', b'\\xea', b'\\xeb', b'\\xec', b'\\xed', b'\\xee', b'\\xef', b'\\xf0', b'\\xf1', b'\\xf2', b'\\xf3', b'\\xf4', b'\\xf5', b'\\xf6', b'\\xf7', b'\\xf8', b'\\xfa', b'\\xfb', b'\\xfc', b'\\xfd', b'\\xfe', b'\\xff']\n",
            "7 48 [b'\\x83', b'\\x84', b'\\x88', b'\\x89', b'\\x8a', b'\\x8b', b'\\x8c', b'\\x8d', b'\\x8e', b'\\x8f', b'\\x92', b'\\x93', b'\\x94', b'\\x95', b'\\x99', b'\\x9a', b'\\x9e', b'\\x9f', b'\\xc0', b'\\xc1', b'\\xc2', b'\\xc3', b'\\xc4', b'\\xc5', b'\\xc6', b'\\xc7', b'\\xc8', b'\\xc9', b'\\xca', b'\\xcb', b'\\xcc', b'\\xcd', b'\\xce', b'\\xcf', b'\\xd0', b'\\xd1', b'\\xd2', b'\\xd3', b'\\xd4', b'\\xd6', b'\\xd7', b'\\xd8', b'\\xda', b'\\xdb', b'\\xdc', b'\\xdd', b'\\xde', b'\\xdf']\n",
            "8 53 [b'\\x9a', b'\\x9b', b'\\x9c', b'\\x9d', b'\\x9f', b'\\xa3', b'\\xa9', b'\\xab', b'\\xaf', b'\\xb0', b'\\xb1', b'\\xb2', b'\\xb3', b'\\xb4', b'\\xb5', b'\\xb6', b'\\xb7', b'\\xb8', b'\\xb9', b'\\xba', b'\\xbc', b'\\xbf', b'\\xe0', b'\\xe1', b'\\xe2', b'\\xe3', b'\\xe4', b'\\xe5', b'\\xe6', b'\\xe7', b'\\xe8', b'\\xea', b'\\xeb', b'\\xec', b'\\xed', b'\\xee', b'\\xef', b'\\xf0', b'\\xf1', b'\\xf2', b'\\xf3', b'\\xf4', b'\\xf5', b'\\xf6', b'\\xf7', b'\\xf8', b'\\xf9', b'\\xfa', b'\\xfb', b'\\xfc', b'\\xfd', b'\\xfe', b'\\xff']\n",
            "9 51 [b'\\xa0', b'\\xa1', b'\\xa2', b'\\xa3', b'\\xa4', b'\\xa5', b'\\xa6', b'\\xa7', b'\\xa8', b'\\xa9', b'\\xac', b'\\xae', b'\\xaf', b'\\xb2', b'\\xb3', b'\\xb4', b'\\xb5', b'\\xb9', b'\\xba', b'\\xbd', b'\\xbf', b'\\xe0', b'\\xe1', b'\\xe2', b'\\xe3', b'\\xe4', b'\\xe5', b'\\xe6', b'\\xe7', b'\\xe8', b'\\xe9', b'\\xea', b'\\xeb', b'\\xec', b'\\xed', b'\\xee', b'\\xef', b'\\xf0', b'\\xf1', b'\\xf2', b'\\xf3', b'\\xf4', b'\\xf6', b'\\xf7', b'\\xf8', b'\\xfa', b'\\xfb', b'\\xfc', b'\\xfd', b'\\xfe', b'\\xff']\n",
            "10 49 [b'\\x80', b'\\x81', b'\\x82', b'\\x83', b'\\x84', b'\\x85', b'\\x86', b'\\x87', b'\\x88', b'\\x89', b'\\x8a', b'\\x91', b'\\x92', b'\\x93', b'\\x94', b'\\x98', b'\\x9a', b'\\x9b', b'\\x9e', b'\\x9f', b'\\xc0', b'\\xc1', b'\\xc2', b'\\xc3', b'\\xc4', b'\\xc5', b'\\xc6', b'\\xc7', b'\\xc8', b'\\xc9', b'\\xca', b'\\xcb', b'\\xcc', b'\\xcd', b'\\xce', b'\\xcf', b'\\xd0', b'\\xd1', b'\\xd2', b'\\xd3', b'\\xd4', b'\\xd6', b'\\xd7', b'\\xd9', b'\\xda', b'\\xdb', b'\\xdc', b'\\xdd', b'\\xde']\n",
            "11 46 [b'\\xa2', b'\\xa3', b'\\xa5', b'\\xa9', b'\\xb0', b'\\xb1', b'\\xb2', b'\\xb3', b'\\xb4', b'\\xb5', b'\\xb6', b'\\xb7', b'\\xb8', b'\\xb9', b'\\xbc', b'\\xbe', b'\\xe0', b'\\xe1', b'\\xe2', b'\\xe3', b'\\xe4', b'\\xe6', b'\\xe7', b'\\xe8', b'\\xea', b'\\xeb', b'\\xec', b'\\xed', b'\\xee', b'\\xef', b'\\xf0', b'\\xf1', b'\\xf2', b'\\xf3', b'\\xf4', b'\\xf5', b'\\xf6', b'\\xf7', b'\\xf8', b'\\xf9', b'\\xfa', b'\\xfb', b'\\xfc', b'\\xfd', b'\\xfe', b'\\xff']\n",
            "12 54 [b'\\x00', b'\\x01', b'\\x02', b'\\x03', b'\\x04', b'\\x05', b'\\x06', b'\\x07', b'\\x08', b'\\t', b'\\n', b'\\x0b', b'\\x0c', b'\\r', b'\\x0e', b'\\x0f', b'\\x10', b'\\x11', b'\\x12', b'\\x13', b'\\x14', b'\\x15', b'\\x16', b'\\x17', b'\\x18', b'\\x19', b'\\x1a', b'\\x1b', b'\\x1d', b'\\x1e', b'\\x1f', b'@', b'A', b'B', b'C', b'D', b'E', b'F', b'G', b'H', b'K', b'L', b'M', b'N', b'O', b'V', b'W', b'Z', b'\\\\', b'h', b'i', b'j', b'n', b'o']\n",
            "13 53 [b'\\x81', b'\\x82', b'\\x84', b'\\x85', b'\\x88', b'\\x89', b'\\x8a', b'\\x8b', b'\\x8c', b'\\x8d', b'\\x8e', b'\\x8f', b'\\x92', b'\\x94', b'\\x98', b'\\x99', b'\\x9e', b'\\xa0', b'\\xa1', b'\\xa2', b'\\xa6', b'\\xa7', b'\\xc0', b'\\xc1', b'\\xc2', b'\\xc3', b'\\xc4', b'\\xc5', b'\\xc6', b'\\xc7', b'\\xc8', b'\\xc9', b'\\xca', b'\\xcb', b'\\xcc', b'\\xcd', b'\\xce', b'\\xcf', b'\\xd0', b'\\xd1', b'\\xd2', b'\\xd3', b'\\xd5', b'\\xd6', b'\\xd7', b'\\xd8', b'\\xd9', b'\\xda', b'\\xdb', b'\\xdc', b'\\xdd', b'\\xde', b'\\xdf']\n",
            "14 52 [b'\\x88', b'\\x89', b'\\x8d', b'\\x8e', b'\\x8f', b'\\xa0', b'\\xa1', b'\\xa2', b'\\xa3', b'\\xa4', b'\\xa5', b'\\xa6', b'\\xa7', b'\\xaa', b'\\xab', b'\\xb0', b'\\xb1', b'\\xb9', b'\\xbb', b'\\xbc', b'\\xbf', b'\\xe0', b'\\xe1', b'\\xe2', b'\\xe3', b'\\xe4', b'\\xe5', b'\\xe6', b'\\xe7', b'\\xe8', b'\\xe9', b'\\xea', b'\\xeb', b'\\xec', b'\\xed', b'\\xee', b'\\xef', b'\\xf0', b'\\xf1', b'\\xf2', b'\\xf3', b'\\xf4', b'\\xf5', b'\\xf6', b'\\xf7', b'\\xf8', b'\\xf9', b'\\xfa', b'\\xfc', b'\\xfd', b'\\xfe', b'\\xff']\n",
            "15 20 [b'0', b'1', b'3', b'6', b'7', b'f', b'g', b'j', b'k', b'l', b'o', b'p', b'q', b'r', b's', b't', b'v', b'w', b'z', b'}']\n",
            "16 56 [b'\\x00', b'\\x01', b'\\x02', b'\\x03', b'\\x04', b'\\x05', b'\\x07', b'\\x08', b'\\t', b'\\n', b'\\x0e', b'\\x0f', b'\\x10', b'\\x13', b'\\x14', b'\\x15', b'\\x19', b'\\x1c', b'\\x1d', b'\\x1f', b')', b'*', b'+', b',', b'-', b'@', b'A', b'B', b'C', b'D', b'E', b'F', b'G', b'H', b'I', b'J', b'K', b'L', b'M', b'N', b'O', b'P', b'Q', b'R', b'S', b'T', b'U', b'V', b'W', b'X', b'Y', b'Z', b'[', b'\\\\', b']', b'^']\n",
            "17 53 [b' ', b'!', b'\"', b'#', b'$', b'%', b'&', b\"'\", b'(', b')', b'*', b'+', b',', b'-', b'.', b'/', b'0', b'1', b'2', b'3', b'4', b'5', b'6', b'7', b'8', b'9', b':', b';', b'<', b'>', b'?', b'H', b'I', b'K', b'N', b'O', b'`', b'a', b'b', b'c', b'e', b'f', b'g', b'k', b'l', b'm', b'p', b'v', b'w', b'y', b'{', b'}', b'~']\n",
            "18 52 [b'\\x02', b'\\x05', b'\\x08', b'\\t', b'\\n', b'\\x0b', b'\\x0c', b'\\x0e', b'\\x0f', b'\\x13', b'\\x14', b'\\x16', b'\\x18', b'\\x1c', b'\\x1e', b'\\x1f', b' ', b'!', b'\"', b'&', b\"'\", b'@', b'A', b'B', b'C', b'D', b'E', b'F', b'G', b'H', b'I', b'J', b'K', b'L', b'M', b'N', b'O', b'P', b'Q', b'R', b'S', b'U', b'V', b'W', b'X', b'Y', b'Z', b'[', b'\\\\', b']', b'^', b'_']\n",
            "19 23 [b'8', b':', b';', b'<', b'`', b'a', b'e', b'g', b'i', b'j', b'm', b'n', b'q', b'r', b'v', b'w', b'x', b'y', b'z', b'{', b'|', b'}', b'\\x7f']\n",
            "20 46 [b'\\xa0', b'\\xa1', b'\\xa2', b'\\xa3', b'\\xa4', b'\\xa5', b'\\xa6', b'\\xa7', b'\\xa8', b'\\xa9', b'\\xab', b'\\xac', b'\\xad', b'\\xae', b'\\xaf', b'\\xb0', b'\\xb2', b'\\xb3', b'\\xb4', b'\\xb6', b'\\xb7', b'\\xb8', b'\\xb9', b'\\xba', b'\\xbb', b'\\xbc', b'\\xbd', b'\\xbe', b'\\xbf', b'\\xe0', b'\\xe1', b'\\xe8', b'\\xea', b'\\xed', b'\\xf0', b'\\xf1', b'\\xf2', b'\\xf3', b'\\xf4', b'\\xf5', b'\\xf6', b'\\xf7', b'\\xfa', b'\\xfb', b'\\xfc', b'\\xfd']\n",
            "21 45 [b'\\x00', b'\\x01', b'\\x02', b'\\x03', b'\\x04', b'\\x05', b'\\x06', b'\\x07', b'\\x08', b'\\t', b'\\n', b'\\x0b', b'\\x0c', b'\\r', b'\\x0e', b'\\x0f', b'\\x10', b'\\x12', b'\\x13', b'\\x14', b'\\x15', b'\\x16', b'\\x17', b'\\x18', b'\\x19', b'\\x1a', b'\\x1b', b'\\x1c', b'\\x1e', b'\\x1f', b'@', b'A', b'F', b'G', b'I', b'J', b'K', b'L', b'M', b'N', b'O', b'Q', b'V', b'Z', b'[']\n",
            "22 55 [b'\\x90', b'\\x92', b'\\x93', b'\\x94', b'\\x95', b'\\xa0', b'\\xa4', b'\\xa5', b'\\xa6', b'\\xa8', b'\\xaa', b'\\xac', b'\\xad', b'\\xaf', b'\\xb0', b'\\xb6', b'\\xb7', b'\\xb8', b'\\xb9', b'\\xba', b'\\xbb', b'\\xbc', b'\\xbd', b'\\xbe', b'\\xe0', b'\\xe1', b'\\xe2', b'\\xe3', b'\\xe4', b'\\xe5', b'\\xe7', b'\\xe8', b'\\xe9', b'\\xea', b'\\xeb', b'\\xec', b'\\xed', b'\\xee', b'\\xef', b'\\xf0', b'\\xf1', b'\\xf2', b'\\xf3', b'\\xf4', b'\\xf5', b'\\xf6', b'\\xf7', b'\\xf8', b'\\xf9', b'\\xfa', b'\\xfb', b'\\xfc', b'\\xfd', b'\\xfe', b'\\xff']\n",
            "23 56 [b'\\x81', b'\\x85', b'\\x86', b'\\x87', b'\\x8a', b'\\x8c', b'\\x8d', b'\\x90', b'\\x91', b'\\x92', b'\\x96', b'\\x97', b'\\x98', b'\\x99', b'\\x9a', b'\\x9b', b'\\x9c', b'\\x9d', b'\\x9e', b'\\x9f', b'\\xb1', b'\\xb2', b'\\xb3', b'\\xb4', b'\\xb5', b'\\xc0', b'\\xc1', b'\\xc2', b'\\xc3', b'\\xc4', b'\\xc5', b'\\xc6', b'\\xc8', b'\\xc9', b'\\xca', b'\\xcb', b'\\xcc', b'\\xcd', b'\\xce', b'\\xcf', b'\\xd0', b'\\xd1', b'\\xd2', b'\\xd3', b'\\xd4', b'\\xd5', b'\\xd6', b'\\xd7', b'\\xd8', b'\\xd9', b'\\xda', b'\\xdb', b'\\xdc', b'\\xdd', b'\\xde', b'\\xdf']\n",
            "24 49 [b'\\x00', b'\\x01', b'\\x02', b'\\x03', b'\\x04', b'\\x05', b'\\x06', b'\\x07', b'\\t', b'\\n', b'\\x0e', b'\\x12', b'\\x14', b'\\x15', b'\\x18', b'\\x19', b'\\x1c', b'\\x1d', b'\\x1f', b'@', b'A', b'B', b'C', b'D', b'E', b'F', b'G', b'H', b'I', b'J', b'K', b'L', b'M', b'N', b'O', b'P', b'Q', b'R', b'T', b'U', b'V', b'W', b'X', b'Y', b'Z', b'[', b'\\\\', b']', b'^']\n",
            "25 50 [b'\\x80', b'\\x81', b'\\x83', b'\\x84', b'\\x85', b'\\x86', b'\\x87', b'\\x88', b'\\x89', b'\\x8a', b'\\x8b', b'\\x8d', b'\\x8e', b'\\x8f', b'\\x90', b'\\x91', b'\\x92', b'\\x93', b'\\x94', b'\\x95', b'\\x96', b'\\x98', b'\\x99', b'\\x9a', b'\\x9b', b'\\x9c', b'\\x9d', b'\\x9e', b'\\x9f', b'\\xc5', b'\\xc6', b'\\xc7', b'\\xca', b'\\xcc', b'\\xcd', b'\\xcf', b'\\xd0', b'\\xd1', b'\\xd2', b'\\xd3', b'\\xd4', b'\\xd5', b'\\xd6', b'\\xd7', b'\\xd8', b'\\xda', b'\\xdb', b'\\xdc', b'\\xdd', b'\\xdf']\n",
            "26 55 [b'\\x81', b'\\x82', b'\\x85', b'\\x88', b'\\x89', b'\\x8a', b'\\x8f', b'\\x90', b'\\x93', b'\\x94', b'\\x97', b'\\x98', b'\\x99', b'\\x9a', b'\\x9b', b'\\x9c', b'\\x9d', b'\\x9e', b'\\x9f', b'\\xb0', b'\\xb1', b'\\xb4', b'\\xb6', b'\\xb7', b'\\xc0', b'\\xc1', b'\\xc3', b'\\xc4', b'\\xc5', b'\\xc6', b'\\xc7', b'\\xc8', b'\\xc9', b'\\xca', b'\\xcb', b'\\xcc', b'\\xcd', b'\\xce', b'\\xcf', b'\\xd0', b'\\xd1', b'\\xd2', b'\\xd3', b'\\xd4', b'\\xd5', b'\\xd6', b'\\xd7', b'\\xd8', b'\\xd9', b'\\xda', b'\\xdb', b'\\xdc', b'\\xdd', b'\\xde', b'\\xdf']\n",
            "27 50 [b'\\xa0', b'\\xa1', b'\\xa2', b'\\xa3', b'\\xa4', b'\\xa5', b'\\xa6', b'\\xa7', b'\\xa8', b'\\xa9', b'\\xaa', b'\\xab', b'\\xac', b'\\xad', b'\\xae', b'\\xaf', b'\\xb0', b'\\xb1', b'\\xb2', b'\\xb3', b'\\xb4', b'\\xb5', b'\\xb6', b'\\xb8', b'\\xba', b'\\xbc', b'\\xbd', b'\\xbe', b'\\xbf', b'\\xe0', b'\\xe1', b'\\xe4', b'\\xe6', b'\\xe7', b'\\xe8', b'\\xe9', b'\\xea', b'\\xeb', b'\\xec', b'\\xed', b'\\xef', b'\\xf1', b'\\xf2', b'\\xf4', b'\\xf5', b'\\xf7', b'\\xfb', b'\\xfc', b'\\xfd', b'\\xfe']\n",
            "28 28 [b'\\x88', b'\\x8a', b'\\x8b', b'\\xc0', b'\\xc1', b'\\xc2', b'\\xc6', b'\\xc7', b'\\xc8', b'\\xc9', b'\\xca', b'\\xcb', b'\\xcc', b'\\xcd', b'\\xce', b'\\xcf', b'\\xd1', b'\\xd4', b'\\xd5', b'\\xd6', b'\\xd7', b'\\xd8', b'\\xd9', b'\\xda', b'\\xdb', b'\\xdc', b'\\xdd', b'\\xdf']\n",
            "29 54 [b'\\xa0', b'\\xa2', b'\\xa3', b'\\xa4', b'\\xa5', b'\\xa6', b'\\xa8', b'\\xa9', b'\\xac', b'\\xad', b'\\xaf', b'\\xb0', b'\\xb1', b'\\xb2', b'\\xb3', b'\\xb4', b'\\xb5', b'\\xb6', b'\\xb7', b'\\xb8', b'\\xb9', b'\\xba', b'\\xbc', b'\\xbe', b'\\xbf', b'\\xe0', b'\\xe2', b'\\xe4', b'\\xe5', b'\\xe6', b'\\xe7', b'\\xe8', b'\\xe9', b'\\xea', b'\\xeb', b'\\xec', b'\\xed', b'\\xee', b'\\xf0', b'\\xf1', b'\\xf2', b'\\xf3', b'\\xf4', b'\\xf5', b'\\xf6', b'\\xf7', b'\\xf8', b'\\xf9', b'\\xfa', b'\\xfb', b'\\xfc', b'\\xfd', b'\\xfe', b'\\xff']\n",
            "30 56 [b' ', b'!', b'\"', b'$', b'%', b'&', b\"'\", b'(', b')', b'*', b'+', b',', b'-', b'.', b'/', b'0', b'1', b'2', b'3', b'4', b'6', b'7', b'8', b'9', b':', b';', b'<', b'=', b'>', b'?', b'a', b'b', b'c', b'd', b'e', b'f', b'g', b'h', b'i', b'k', b'l', b'n', b'o', b'q', b'r', b's', b't', b'u', b'v', b'x', b'y', b'z', b'{', b'}', b'~', b'\\x7f']\n",
            "31 59 [b' ', b'!', b'\"', b'#', b'$', b'%', b'&', b\"'\", b'(', b')', b'*', b'+', b',', b'-', b'.', b'/', b'0', b'1', b'2', b'3', b'4', b'5', b'7', b'9', b':', b';', b'<', b'=', b'>', b'?', b'`', b'a', b'b', b'c', b'd', b'e', b'f', b'g', b'h', b'i', b'j', b'l', b'm', b'n', b'o', b'p', b'q', b'r', b's', b't', b'u', b'w', b'x', b'y', b'z', b'{', b'}', b'~', b'\\x7f']\n",
            "32 66 [b'\\x80', b'\\x81', b'\\x82', b'\\x83', b'\\x84', b'\\x85', b'\\x86', b'\\x87', b'\\x88', b'\\x89', b'\\x8a', b'\\x8b', b'\\x8c', b'\\x8d', b'\\x8e', b'\\x8f', b'\\x90', b'\\x91', b'\\x92', b'\\x93', b'\\x94', b'\\x95', b'\\x96', b'\\x97', b'\\x98', b'\\x99', b'\\x9a', b'\\x9b', b'\\x9c', b'\\x9d', b'\\x9e', b'\\xc0', b'\\xc1', b'\\xc2', b'\\xc3', b'\\xc4', b'\\xc5', b'\\xc6', b'\\xc7', b'\\xc8', b'\\xc9', b'\\xca', b'\\xcb', b'\\xcc', b'\\xcd', b'\\xce', b'\\xcf', b'\\xd0', b'\\xd1', b'\\xd2', b'\\xd3', b'\\xd4', b'\\xd5', b'\\xd6', b'\\xd8', b'\\xd9', b'\\xda', b'\\xdc', b'\\xdd', b'\\xde', b'\\xdf', b'\\xe9', b'\\xea', b'\\xeb', b'\\xec', b'\\xed']\n",
            "33 66 [b'\\x80', b'\\x81', b'\\x82', b'\\x83', b'\\x84', b'\\x85', b'\\x86', b'\\x87', b'\\x89', b'\\x8a', b'\\x8b', b'\\x8c', b'\\x8d', b'\\x8e', b'\\x8f', b'\\x90', b'\\x91', b'\\x92', b'\\x93', b'\\x94', b'\\x95', b'\\x96', b'\\x97', b'\\x98', b'\\x9a', b'\\x9b', b'\\x9c', b'\\x9d', b'\\x9e', b'\\x9f', b'\\xa2', b'\\xa3', b'\\xa4', b'\\xa5', b'\\xa6', b'\\xc0', b'\\xc1', b'\\xc2', b'\\xc3', b'\\xc4', b'\\xc5', b'\\xc6', b'\\xc7', b'\\xc8', b'\\xc9', b'\\xca', b'\\xcb', b'\\xcc', b'\\xcd', b'\\xce', b'\\xcf', b'\\xd1', b'\\xd2', b'\\xd3', b'\\xd4', b'\\xd5', b'\\xd6', b'\\xd7', b'\\xd8', b'\\xd9', b'\\xda', b'\\xdb', b'\\xdc', b'\\xdd', b'\\xde', b'\\xdf']\n",
            "34 94 [b'\\xa0', b'\\xa1', b'\\xa2', b'\\xa3', b'\\xa4', b'\\xa5', b'\\xa6', b'\\xa7', b'\\xa8', b'\\xa9', b'\\xaa', b'\\xab', b'\\xac', b'\\xad', b'\\xae', b'\\xaf', b'\\xb0', b'\\xb1', b'\\xb2', b'\\xb3', b'\\xb4', b'\\xb5', b'\\xb6', b'\\xb7', b'\\xb8', b'\\xb9', b'\\xba', b'\\xbb', b'\\xbc', b'\\xbd', b'\\xbe', b'\\xbf', b'\\xc0', b'\\xc1', b'\\xc2', b'\\xc3', b'\\xc4', b'\\xc5', b'\\xc6', b'\\xc7', b'\\xc8', b'\\xc9', b'\\xca', b'\\xcb', b'\\xcc', b'\\xcd', b'\\xce', b'\\xcf', b'\\xd0', b'\\xd1', b'\\xd2', b'\\xd3', b'\\xd4', b'\\xd5', b'\\xd6', b'\\xd7', b'\\xd8', b'\\xd9', b'\\xda', b'\\xdb', b'\\xdc', b'\\xdd', b'\\xde', b'\\xdf', b'\\xe0', b'\\xe1', b'\\xe2', b'\\xe3', b'\\xe4', b'\\xe5', b'\\xe6', b'\\xe8', b'\\xe9', b'\\xea', b'\\xeb', b'\\xec', b'\\xed', b'\\xee', b'\\xef', b'\\xf0', b'\\xf1', b'\\xf2', b'\\xf4', b'\\xf5', b'\\xf6', b'\\xf7', b'\\xf8', b'\\xf9', b'\\xfa', b'\\xfb', b'\\xfc', b'\\xfd', b'\\xfe', b'\\xff']\n",
            "35 94 [b'\\x80', b'\\x81', b'\\x82', b'\\x83', b'\\x84', b'\\x85', b'\\x86', b'\\x87', b'\\x88', b'\\x89', b'\\x8a', b'\\x8b', b'\\x8c', b'\\x8d', b'\\x8e', b'\\x8f', b'\\x90', b'\\x91', b'\\x92', b'\\x93', b'\\x94', b'\\x95', b'\\x96', b'\\x97', b'\\x98', b'\\x99', b'\\x9a', b'\\x9b', b'\\x9c', b'\\x9d', b'\\x9e', b'\\x9f', b'\\xc1', b'\\xc2', b'\\xc3', b'\\xc4', b'\\xc5', b'\\xc6', b'\\xc7', b'\\xc8', b'\\xc9', b'\\xca', b'\\xcb', b'\\xcc', b'\\xcd', b'\\xce', b'\\xcf', b'\\xd0', b'\\xd1', b'\\xd2', b'\\xd3', b'\\xd4', b'\\xd5', b'\\xd7', b'\\xd8', b'\\xd9', b'\\xda', b'\\xdb', b'\\xdc', b'\\xdd', b'\\xde', b'\\xdf', b'\\xe0', b'\\xe1', b'\\xe2', b'\\xe3', b'\\xe4', b'\\xe5', b'\\xe6', b'\\xe7', b'\\xe8', b'\\xe9', b'\\xea', b'\\xeb', b'\\xec', b'\\xed', b'\\xee', b'\\xef', b'\\xf0', b'\\xf1', b'\\xf2', b'\\xf3', b'\\xf4', b'\\xf5', b'\\xf6', b'\\xf7', b'\\xf8', b'\\xf9', b'\\xfa', b'\\xfb', b'\\xfc', b'\\xfd', b'\\xfe', b'\\xff']\n",
            "36 100 [b'\\x00', b'\\x01', b'\\x02', b'\\x03', b'\\x04', b'\\x05', b'\\x06', b'\\x07', b'\\x08', b'\\t', b'\\n', b'\\x0b', b'\\x0c', b'\\r', b'\\x0e', b'\\x0f', b'\\x10', b'\\x11', b'\\x12', b'\\x13', b'\\x14', b'\\x15', b'\\x16', b'\\x17', b'\\x18', b'\\x19', b'\\x1a', b'\\x1b', b'\\x1c', b'\\x1d', b'\\x1e', b'\\x1f', b' ', b'!', b'\"', b'#', b'$', b'%', b'&', b\"'\", b'(', b')', b'*', b'+', b',', b'-', b'.', b'/', b'0', b'1', b'2', b'3', b'4', b'5', b'6', b'7', b'8', b'9', b':', b';', b'<', b'=', b'>', b'I', b'J', b'K', b'L', b'M', b'`', b'a', b'b', b'c', b'd', b'e', b'f', b'g', b'h', b'i', b'j', b'k', b'l', b'm', b'n', b'o', b'p', b'q', b'r', b's', b't', b'u', b'v', b'w', b'x', b'y', b'z', b'{', b'|', b'}', b'~', b'\\x7f']\n",
            "37 100 [b'\\x80', b'\\x81', b'\\x82', b'\\x83', b'\\x84', b'\\x85', b'\\x86', b'\\x87', b'\\x88', b'\\x89', b'\\x8a', b'\\x8b', b'\\x8c', b'\\x8d', b'\\x8e', b'\\x8f', b'\\x90', b'\\x91', b'\\x92', b'\\x93', b'\\x94', b'\\x95', b'\\x96', b'\\x97', b'\\x98', b'\\x99', b'\\x9a', b'\\x9b', b'\\x9c', b'\\x9d', b'\\x9e', b'\\x9f', b'\\xaa', b'\\xab', b'\\xac', b'\\xad', b'\\xaf', b'\\xc0', b'\\xc1', b'\\xc2', b'\\xc3', b'\\xc4', b'\\xc5', b'\\xc6', b'\\xc7', b'\\xc8', b'\\xc9', b'\\xca', b'\\xcb', b'\\xcc', b'\\xcd', b'\\xce', b'\\xcf', b'\\xd0', b'\\xd1', b'\\xd2', b'\\xd3', b'\\xd4', b'\\xd5', b'\\xd6', b'\\xd7', b'\\xd8', b'\\xda', b'\\xdb', b'\\xdc', b'\\xdd', b'\\xde', b'\\xdf', b'\\xe0', b'\\xe1', b'\\xe2', b'\\xe3', b'\\xe4', b'\\xe5', b'\\xe6', b'\\xe7', b'\\xe8', b'\\xe9', b'\\xea', b'\\xeb', b'\\xec', b'\\xed', b'\\xee', b'\\xef', b'\\xf0', b'\\xf1', b'\\xf2', b'\\xf3', b'\\xf4', b'\\xf5', b'\\xf6', b'\\xf7', b'\\xf8', b'\\xf9', b'\\xfa', b'\\xfb', b'\\xfc', b'\\xfd', b'\\xfe', b'\\xff']\n",
            "272346642767837005744053519896957242879688915602636800000000000000\n"
          ]
        }
      ],
      "source": [
        "count = 1\n",
        "for key, val in all_possible_bytes_for_keystream.items():\n",
        "    print(key, len(val), val)\n",
        "    count *= len(val)\n",
        "print(count)"
      ]
    },
    {
      "cell_type": "code",
      "execution_count": 42,
      "metadata": {},
      "outputs": [],
      "source": [
        "import challenge3 as c3\n",
        "score_for_each_possible_bytes = []\n",
        "\n",
        "for i, val in all_possible_bytes_for_keystream.items():\n",
        "    score_list = []\n",
        "    for possible_byte in val:\n",
        "        score_input_text = ''\n",
        "        for encrypted_btyes in encrypted_btyes_list:\n",
        "            if len(encrypted_btyes) <= i:\n",
        "                continue\n",
        "            score_input_text += chr(encrypted_btyes[i] ^ possible_byte[0])\n",
        "        score = c3.get_score(score_input_text)\n",
        "        score_list.append((possible_byte, score))\n",
        "    score_list.sort(key=lambda x: x[1], reverse=True)\n",
        "    score_for_each_possible_bytes.append((i, score_list))"
      ]
    },
    {
      "cell_type": "code",
      "execution_count": 43,
      "metadata": {},
      "outputs": [
        {
          "name": "stdout",
          "output_type": "stream",
          "text": [
            "(0, [(b'A', 226.11), (b'a', 226.11), (b'F', 199.75), (b'f', 199.75), (b'G', 195.56), (b'E', 188.0), (b'e', 188.0), (b'Z', 171.02), (b'z', 171.02), (b'[', 164.21), (b'P', 164.19), (b'p', 164.19), (b'L', 159.54), (b'l', 159.54), (b'\\\\', 151.7), (b'T', 149.75), (b't', 149.75), (b'@', 145.27), (b'`', 145.27), (b']', 138.51), (b'S', 133.6), (b's', 133.6), (b'M', 131.87), (b'W', 127.79), (b' ', 126), (b'5', 126), (b'O', 121.16), (b'o', 121.16), (b'B', 113.64), (b'b', 113.64), (b'Y', 111.24), (b'y', 111.24), (b'K', 107.23), (b'D', 106.53), (b'd', 106.53), (b'I', 105.84), (b'Q', 98.9), (b'R', 96.33), (b'r', 96.33), (b')', 90), (b'H', 89.74), (b'h', 89.74), (b'C', 87.99), (b'c', 87.99), (b'N', 87.54), (b'V', 83.04), (b'J', 78.71), (b'X', 73.66), (b'U', 72.42), (b'u', 72.42), (b'(', 72), (b'^', 64.39), (b'~', 64.39), (b'_', 54.37), (b'.', 54), (b'2', 54), (b'6', 54), (b'#', 36), (b'\"', 18), (b'$', 18), (b\"'\", 18), (b'1', 18), (b'4', 18), (b'8', 18), (b'!', 0), (b'%', 0), (b'&', 0), (b'*', 0), (b'+', 0), (b',', 0), (b'-', 0), (b'/', 0), (b'0', 0), (b'3', 0), (b'7', 0), (b'9', 0), (b':', 0), (b';', 0), (b'<', 0), (b'=', 0), (b'>', 0), (b'?', 0)])\n",
            "(1, [(b'\\xf1', 330.2), (b'\\xf0', 196.27), (b'\\xf7', 188.89), (b'\\xb4', 181.8), (b'\\xed', 181.31), (b'\\xda', 171.06), (b'\\xfa', 171.06), (b'\\xf6', 164.1), (b'\\xdb', 162.86), (b'\\xea', 153.52), (b'\\xdc', 153.0), (b'\\xec', 147.57), (b'\\xbe', 143.8), (b'\\xd8', 142.46), (b'\\xf8', 142.46), (b'\\xb9', 141.0), (b'\\xdd', 130.18), (b'\\xfd', 130.18), (b'\\xf5', 130.02), (b'\\xa3', 127.9), (b'\\xbf', 123.25), (b'\\xf3', 97.01), (b'\\xf2', 90.96), (b'\\xff', 86.07), (b'\\xfe', 82.0), (b'\\xf9', 72.36), (b'\\xb0', 60.5), (b'\\xf4', 58.34), (b'\\xb8', 55.7), (b'\\xee', 54.72), (b'\\xe4', 50.63), (b'\\xe9', 47.92), (b'\\xbd', 45.45), (b'\\xa4', 36.15), (b'\\xa5', 34.75), (b'\\xe5', 31.8), (b'\\xa2', 28.7), (b'\\xb7', 27.05), (b'\\xe3', 26.08), (b'\\xb2', 22.7), (b'\\xb5', 16.9), (b'\\xa1', 15.85), (b'\\xbc', 15.05), (b'\\xb6', 12.35), (b'\\xb3', 10.35), (b'\\xa8', 8.9), (b'\\xa6', 6.45), (b'\\xba', 5.5), (b'\\xa7', 5.05), (b'\\xa9', 1.45), (b'\\xab', 1.35), (b'\\xa0', 1.0), (b'\\xbb', 1.0), (b'\\xaa', 0), (b'\\xac', 0), (b'\\xad', 0), (b'\\xaf', 0), (b'\\xb1', 0)])\n",
            "(2, [(b'\\xd8', 370.97), (b'\\x91', 177.26), (b'\\x9d', 173.84), (b'\\x8c', 167.03), (b'\\x99', 153.52), (b'\\xde', 138.2), (b'\\xd9', 125.41), (b'\\x97', 123.84), (b'\\xdc', 111.93), (b'\\xdf', 111.79), (b'\\xc5', 111.49), (b'\\xd0', 109.4), (b'\\xc9', 102.44), (b'\\x8a', 101.38), (b'\\x9c', 97.18), (b'\\x94', 96.39), (b'\\xd2', 93.36), (b'\\xdd', 87.47), (b'\\xcd', 86.54), (b'\\xd1', 82.25), (b'\\xc4', 79.68), (b'\\x96', 77.29), (b'\\x90', 75.76), (b'\\xda', 74.85), (b'\\xd6', 72.35), (b'\\x95', 68.11), (b'\\xdb', 65.39), (b'\\x9b', 64.26), (b'\\xd7', 49.98), (b'\\x9f', 47.37), (b'\\xc7', 46.85), (b'\\xc1', 46.53), (b'\\x8d', 43.49), (b'\\x9a', 36.07), (b'\\x88', 34.87), (b'\\xcc', 33.18), (b'\\x81', 26.84), (b'\\x9e', 20.31), (b'\\x80', 17.09), (b'\\x93', 17.04), (b'\\x86', 15.16), (b'\\x8f', 14.19), (b'\\x8e', 11.65), (b'\\x98', 10.98), (b'\\x84', 6.34), (b'\\x92', 5.82), (b'\\x82', 4.99), (b'\\x83', 2.58), (b'\\x89', 2.2), (b'\\x85', 0.4)])\n",
            "(3, [(b'\\xd2', 363.43), (b'\\xd5', 150.97), (b'\\x97', 147.6), (b'\\x81', 147.4), (b'\\x9b', 147.4), (b'\\xd3', 146.88), (b'\\x93', 139.0), (b'\\xcf', 136.66), (b'\\xd4', 133.95), (b'\\xce', 132.33), (b'\\xd6', 125.74), (b'\\x86', 123.5), (b'\\x9c', 120.5), (b'\\xfe', 107.75), (b'\\xda', 96.73), (b'\\xff', 96.26), (b'\\x80', 93.8), (b'\\xc7', 87.31), (b'\\x9a', 84.0), (b'\\xf9', 83.29), (b'\\xd0', 79.81), (b'\\xd7', 76.3), (b'\\xf8', 73.45), (b'\\xcd', 72.49), (b'\\x9d', 71.6), (b'\\xd1', 71.14), (b'\\xc2', 68.87), (b'\\x82', 67.7), (b'\\xdb', 67.57), (b'\\xfb', 67.57), (b'\\x9f', 66.1), (b'\\xcb', 63.62), (b'\\xca', 57.12), (b'\\x9e', 54.9), (b'\\x87', 54.3), (b'\\xc1', 53.93), (b'\\x96', 51.8), (b'\\xdc', 49.08), (b'\\xc6', 48.25), (b'\\x91', 45.4), (b'\\x95', 24.7), (b'\\x90', 20.7), (b'\\x94', 18.1), (b'\\x8b', 17.8), (b'\\x85', 12.9), (b'\\x99', 11.0), (b'\\x84', 10.1), (b'\\x8a', 2.9), (b'\\x88', 2.7), (b'\\x83', 2.0), (b'\\x98', 2.0), (b'\\x89', 0), (b'\\x8c', 0), (b'\\x8e', 0), (b'\\x8f', 0), (b'\\x92', 0)])\n",
            "(4, [(b'\\xf3', 339.96), (b'\\xf5', 178.33), (b'\\xf1', 133.37), (b'\\xe8', 132.58), (b'\\xee', 129.53), (b'\\xf2', 126.71), (b'\\xf4', 124.79), (b'\\xf7', 115.85), (b'\\xe6', 110.35), (b'\\xb6', 107.28), (b'\\xde', 103.54), (b'\\xd8', 87.97), (b'\\xfc', 86.17), (b'\\xd9', 83.54), (b'\\xda', 81.47), (b'\\xfb', 80.74), (b'\\xf6', 80.03), (b'\\xdf', 77.85), (b'\\xf0', 76.46), (b'\\xfd', 75.57), (b'\\xb0', 72.32), (b'\\xec', 66.63), (b'\\xea', 64.19), (b'\\xe1', 53.22), (b'\\xe7', 49.18), (b'\\xb7', 27.04), (b'\\xb1', 16.56), (b'\\xb3', 0)])\n",
            "(5, [(b'\\xf9', 272.51), (b'\\xd3', 192.62), (b'\\xf3', 192.62), (b'\\xf8', 180.45), (b'\\xd2', 162.39), (b'\\xf2', 162.39), (b'\\xd5', 157.54), (b'\\xf5', 157.54), (b'\\xfb', 147.95), (b'\\xb6', 147.48), (b'\\xbc', 141.48), (b'\\xfd', 139.47), (b'\\xe4', 134.25), (b'\\xfa', 125.97), (b'\\xd0', 121.17), (b'\\xfe', 120.78), (b'\\xf7', 115.49), (b'\\xd4', 114.14), (b'\\xe6', 88.77), (b'\\xfc', 88.66), (b'\\xe7', 77.18), (b'\\xab', 76.74), (b'\\xb7', 73.95), (b'\\xf6', 72.1), (b'\\xec', 69.92), (b'\\xb4', 63.03), (b'\\xb0', 58.62), (b'\\xed', 51.45), (b'\\xbd', 46.14), (b'\\xb1', 45.0), (b'\\xbe', 43.41), (b'\\xaf', 39.03), (b'\\xb5', 34.47), (b'\\xba', 31.62), (b'\\xb8', 25.5), (b'\\xbf', 23.43), (b'\\xa0', 23.34), (b'\\xae', 21.87), (b'\\xad', 20.85), (b'\\xaa', 17.22), (b'\\xac', 10.89), (b'\\xa9', 9.51), (b'\\xbb', 6.21), (b'\\xb2', 3.3), (b'\\xa1', 0.87), (b'\\xa3', 0.81), (b'\\xa8', 0.6), (b'\\xb3', 0.6), (b'\\xa2', 0), (b'\\xa4', 0), (b'\\xa5', 0), (b'\\xa7', 0), (b'\\xb9', 0)])\n",
            "(6, [(b'\\xa6', 337.92), (b'\\xe9', 230.12), (b'\\x8c', 198.66), (b'\\xac', 198.66), (b'\\xa0', 191.24), (b'\\xa7', 158.9), (b'\\x8a', 156.6), (b'\\xa8', 150.76), (b'\\xbb', 148.31), (b'\\xe3', 132.12), (b'\\xa2', 130.12), (b'\\xae', 127.1), (b'\\xa1', 126.88), (b'\\xef', 124.78), (b'\\x8b', 113.85), (b'\\xab', 113.85), (b'\\xe7', 113.5), (b'\\xa4', 108.57), (b'\\x8d', 107.78), (b'\\xa5', 99.9), (b'\\xf2', 84.65), (b'\\x8f', 81.63), (b'\\xa3', 78.9), (b'\\xb9', 69.38), (b'\\xb3', 65.69), (b'\\xe8', 64.55), (b'\\xe2', 59.66), (b'\\xa9', 59.15), (b'\\xf5', 58.18), (b'\\xee', 57.0), (b'\\xb5', 55.94), (b'\\xbf', 53.52), (b'\\xf4', 53.06), (b'\\xe5', 49.78), (b'\\xeb', 39.07), (b'\\xea', 38.43), (b'\\xe1', 35.29), (b'\\xed', 25.7), (b'\\xf3', 25.41), (b'\\xf0', 25.07), (b'\\xf6', 22.19), (b'\\xe4', 14.49), (b'\\xe0', 12.67), (b'\\xff', 12.46), (b'\\xf1', 9.03), (b'\\xfe', 2.03), (b'\\xfc', 1.89), (b'\\xec', 1.4), (b'\\xf7', 1.4), (b'\\xe6', 0), (b'\\xf8', 0), (b'\\xfa', 0), (b'\\xfb', 0), (b'\\xfd', 0)])\n",
            "(7, [(b'\\x8a', 247.54), (b'\\x8d', 184.44), (b'\\x8b', 180.35), (b'\\x8c', 179.56), (b'\\xcf', 145.4), (b'\\x8e', 134.79), (b'\\x9a', 127.51), (b'\\x88', 106.91), (b'\\xc3', 91.4), (b'\\x89', 90.39), (b'\\xc4', 89.44), (b'\\x83', 86.12), (b'\\x93', 84.24), (b'\\x8f', 84.04), (b'\\xdf', 82.82), (b'\\xc7', 77.02), (b'\\x94', 70.25), (b'\\x9f', 70.17), (b'\\xde', 68.48), (b'\\xc2', 66.76), (b'\\x92', 65.75), (b'\\x9e', 63.4), (b'\\xc9', 59.4), (b'\\x95', 57.83), (b'\\x99', 54.47), (b'\\xc8', 53.44), (b'\\x84', 52.85), (b'\\xd8', 51.16), (b'\\xce', 30.76), (b'\\xda', 24.34), (b'\\xc5', 23.4), (b'\\xcb', 23.02), (b'\\xdd', 20.58), (b'\\xd4', 15.16), (b'\\xd2', 14.48), (b'\\xc6', 10.98), (b'\\xca', 10.98), (b'\\xd3', 10.82), (b'\\xc1', 7.14), (b'\\xcd', 7.14), (b'\\xd6', 6.34), (b'\\xc0', 4.02), (b'\\xcc', 4.02), (b'\\xd1', 2.58), (b'\\xd0', 2.56), (b'\\xdc', 2.56), (b'\\xd7', 0.4), (b'\\xdb', 0.4)])\n",
            "(8, [(b'\\xb6', 329.48), (b'\\xf3', 174.96), (b'\\xb2', 170.64), (b'\\xb4', 157.85), (b'\\xb0', 151.85), (b'\\x9d', 136.55), (b'\\x9f', 130.6), (b'\\xbf', 130.6), (b'\\xb7', 128.36), (b'\\xf7', 123.0), (b'\\x9b', 122.44), (b'\\x9c', 121.32), (b'\\xbc', 121.32), (b'\\x9a', 118.44), (b'\\xba', 118.44), (b'\\xf8', 111.9), (b'\\xb1', 111.39), (b'\\xa3', 109.47), (b'\\xb9', 103.1), (b'\\xb8', 102.89), (b'\\xb5', 99.58), (b'\\xe2', 95.7), (b'\\xab', 90.54), (b'\\xb3', 89.17), (b'\\xfa', 86.94), (b'\\xe4', 81.48), (b'\\xf1', 68.82), (b'\\xff', 63.24), (b'\\xaf', 61.22), (b'\\xf9', 60.96), (b'\\xa9', 60.41), (b'\\xfb', 54.06), (b'\\xf5', 45.24), (b'\\xf2', 38.28), (b'\\xfe', 36.0), (b'\\xe5', 34.44), (b'\\xe1', 25.74), (b'\\xfd', 24.6), (b'\\xe3', 21.78), (b'\\xe6', 19.02), (b'\\xf4', 12.42), (b'\\xf0', 10.86), (b'\\xef', 10.68), (b'\\xe0', 6.06), (b'\\xee', 1.74), (b'\\xec', 1.62), (b'\\xe7', 1.2), (b'\\xfc', 1.2), (b'\\xe8', 0), (b'\\xea', 0), (b'\\xeb', 0), (b'\\xed', 0), (b'\\xf6', 0)])\n",
            "(9, [(b'\\xa6', 310.33), (b'\\xa0', 197.35), (b'\\xa1', 177.89), (b'\\xe3', 171.34), (b'\\xa7', 170.72), (b'\\xba', 148.48), (b'\\xee', 144.38), (b'\\xa2', 143.95), (b'\\xbd', 142.69), (b'\\xf2', 125.04), (b'\\xaf', 119.87), (b'\\xac', 108.41), (b'\\xef', 102.86), (b'\\xb3', 95.56), (b'\\xe8', 89.32), (b'\\xa4', 77.85), (b'\\xae', 74.06), (b'\\xf4', 73.9), (b'\\xa5', 67.37), (b'\\xa9', 65.08), (b'\\xa8', 64.26), (b'\\xe7', 63.51), (b'\\xb4', 60.35), (b'\\xe9', 58.34), (b'\\xb5', 57.9), (b'\\xa3', 57.64), (b'\\xe1', 49.45), (b'\\xb9', 46.02), (b'\\xe4', 35.0), (b'\\xbf', 33.93), (b'\\xe5', 29.86), (b'\\xb2', 29.16), (b'\\xea', 27.45), (b'\\xeb', 23.55), (b'\\xf3', 19.93), (b'\\xe2', 19.9), (b'\\xf6', 15.85), (b'\\xff', 12.53), (b'\\xe0', 9.25), (b'\\xfe', 8.4), (b'\\xed', 7.97), (b'\\xf8', 7.58), (b'\\xf1', 6.45), (b'\\xe6', 5.49), (b'\\xf0', 5.32), (b'\\xfa', 3.17), (b'\\xec', 2.81), (b'\\xfc', 2.36), (b'\\xfd', 1.29), (b'\\xf7', 1.0), (b'\\xfb', 0.2)])\n",
            "(10, [(b'\\x87', 368.23), (b'\\xc6', 226.8), (b'\\xc2', 181.83), (b'\\x83', 148.38), (b'\\xc9', 139.23), (b'\\xd3', 119.97), (b'\\xc8', 119.83), (b'\\x80', 119.1), (b'\\x8a', 113.84), (b'\\x86', 112.6), (b'\\x81', 103.69), (b'\\x85', 94.99), (b'\\xce', 92.97), (b'\\x94', 92.93), (b'\\x92', 89.35), (b'\\xd4', 88.09), (b'\\xc3', 85.26), (b'\\xd2', 83.8), (b'\\x88', 83.78), (b'\\x89', 80.07), (b'\\x91', 78.72), (b'\\x82', 77.18), (b'\\x9b', 77.03), (b'\\x84', 74.6), (b'\\x9a', 73.74), (b'\\xcb', 69.99), (b'\\xcf', 69.32), (b'\\x9f', 63.43), (b'\\x93', 63.09), (b'\\xc4', 59.97), (b'\\x9e', 53.24), (b'\\xca', 51.31), (b'\\xd1', 47.31), (b'\\x98', 42.79), (b'\\xc5', 41.09), (b'\\xd7', 36.16), (b'\\xd0', 35.63), (b'\\xc1', 29.51), (b'\\xc0', 27.37), (b'\\xde', 26.53), (b'\\xcc', 19.4), (b'\\xcd', 7.68), (b'\\xd9', 7.52), (b'\\xc7', 5.48), (b'\\xdd', 4.26), (b'\\xda', 3.44), (b'\\xd6', 3.21), (b'\\xdc', 1.01), (b'\\xdb', 0.2)])\n",
            "(11, [(b'\\xb6', 318.21), (b'\\xb0', 155.89), (b'\\xf3', 150.82), (b'\\xff', 143.48), (b'\\xb1', 138.31), (b'\\xb7', 136.58), (b'\\xb2', 129.69), (b'\\xe4', 114.64), (b'\\xbe', 113.48), (b'\\xf7', 107.01), (b'\\xb4', 105.14), (b'\\xbc', 103.37), (b'\\xa5', 91.95), (b'\\xb5', 90.42), (b'\\xb3', 84.55), (b'\\xb8', 81.82), (b'\\xf9', 79.82), (b'\\xa3', 79.37), (b'\\xe2', 73.89), (b'\\xf8', 73.27), (b'\\xa9', 70.0), (b'\\xfb', 68.58), (b'\\xb9', 68.43), (b'\\xfe', 63.38), (b'\\xf5', 61.48), (b'\\xf4', 59.21), (b'\\xf1', 56.86), (b'\\xa2', 54.21), (b'\\xf2', 48.04), (b'\\xe0', 44.35), (b'\\xfa', 43.92), (b'\\xf0', 32.68), (b'\\xe3', 30.82), (b'\\xe6', 25.36), (b'\\xef', 17.87), (b'\\xfd', 11.27), (b'\\xe1', 10.32), (b'\\xee', 9.27), (b'\\xe8', 7.58), (b'\\xf6', 5.49), (b'\\xfc', 3.41), (b'\\xea', 3.17), (b'\\xec', 3.17), (b'\\xe7', 1.6), (b'\\xed', 1.29), (b'\\xeb', 0.2)])\n",
            "(12, [(b'C', 378.97), (b'\\x06', 219.6), (b'\\x02', 157.0), (b'\\r', 156.5), (b'H', 149.8), (b'h', 149.8), (b'G', 144.89), (b'O', 143.87), (b'o', 143.87), (b'N', 135.07), (b'n', 135.07), (b'B', 134.29), (b'E', 131.83), (b'\\n', 129.4), (b'D', 127.33), (b'i', 124.31), (b'K', 119.22), (b'A', 112.47), (b'j', 104.61), (b'L', 103.03), (b'\\x0c', 89.6), (b'F', 84.51), (b'M', 78.11), (b'@', 77.75), (b'\\x11', 75.8), (b'\\x0f', 72.9), (b'\\x07', 69.8), (b'\\x17', 69.5), (b'\\x0b', 66.0), (b'V', 63.98), (b'\\x00', 63.4), (b'\\x10', 57.4), (b'\\x16', 54.3), (b'\\x0e', 48.1), (b'W', 44.09), (b'\\x04', 42.7), (b'Z', 42.03), (b'\\x01', 38.7), (b'\\\\', 32.75), (b'\\x13', 31.7), (b'\\x15', 28.1), (b'\\x05', 18.1), (b'\\x1a', 17.8), (b'\\x14', 12.9), (b'\\x08', 11.0), (b'\\x1b', 2.9), (b'\\x19', 2.7), (b'\\t', 2.0), (b'\\x12', 2.0), (b'\\x03', 0), (b'\\x18', 0), (b'\\x1d', 0), (b'\\x1e', 0), (b'\\x1f', 0)])\n",
            "(13, [(b'\\x8b', 320.33), (b'\\x8d', 192.89), (b'\\x8a', 162.85), (b'\\xd9', 153.48), (b'\\x8c', 153.42), (b'\\x81', 132.03), (b'\\xa1', 132.03), (b'\\xa0', 118.44), (b'\\xa6', 116.61), (b'\\xc4', 114.96), (b'\\x89', 114.87), (b'\\x8f', 113.53), (b'\\xa7', 108.97), (b'\\xca', 105.0), (b'\\x98', 103.45), (b'\\xce', 102.96), (b'\\x85', 99.44), (b'\\xdf', 95.7), (b'\\xc5', 93.9), (b'\\x9e', 83.76), (b'\\xc2', 81.24), (b'\\x8e', 79.98), (b'\\x88', 78.43), (b'\\x84', 77.27), (b'\\x82', 68.14), (b'\\xa2', 68.14), (b'\\xc8', 63.24), (b'\\x99', 56.43), (b'\\xcf', 56.28), (b'\\x94', 55.51), (b'\\xc3', 54.0), (b'\\xd8', 52.44), (b'\\x92', 46.12), (b'\\xc7', 32.94), (b'\\xcc', 32.82), (b'\\xc9', 30.42), (b'\\xdc', 25.74), (b'\\xc0', 24.6), (b'\\xde', 21.78), (b'\\xdb', 19.02), (b'\\xc6', 18.06), (b'\\xcd', 10.86), (b'\\xd2', 10.68), (b'\\xdd', 6.06), (b'\\xd3', 1.74), (b'\\xd1', 1.62), (b'\\xc1', 1.2), (b'\\xda', 1.2), (b'\\xcb', 0), (b'\\xd0', 0), (b'\\xd5', 0), (b'\\xd6', 0), (b'\\xd7', 0)])\n",
            "(14, [(b'\\xa4', 310.27), (b'\\xe1', 195.48), (b'\\xa0', 186.1), (b'\\xa2', 174.15), (b'\\x88', 165.12), (b'\\xa3', 144.82), (b'\\xa5', 143.69), (b'\\x8e', 137.59), (b'\\xbf', 127.85), (b'\\xb9', 119.22), (b'\\xa6', 111.37), (b'\\x8f', 107.43), (b'\\xb1', 101.77), (b'\\xa7', 100.17), (b'\\x89', 99.54), (b'\\x8d', 98.82), (b'\\xed', 94.62), (b'\\xa1', 88.94), (b'\\xaa', 81.89), (b'\\xe5', 79.5), (b'\\xf0', 74.85), (b'\\xbc', 73.17), (b'\\xbb', 71.22), (b'\\xab', 64.57), (b'\\xb0', 62.39), (b'\\xf6', 58.74), (b'\\xeb', 57.48), (b'\\xf7', 53.22), (b'\\xf1', 46.89), (b'\\xe9', 45.03), (b'\\xf3', 39.87), (b'\\xea', 37.95), (b'\\xe8', 34.47), (b'\\xe7', 31.62), (b'\\xec', 27.0), (b'\\xe2', 23.43), (b'\\xf2', 21.03), (b'\\xe0', 10.14), (b'\\xf4', 9.51), (b'\\xe3', 7.41), (b'\\xe6', 6.21), (b'\\xfd', 5.34), (b'\\xef', 3.3), (b'\\xfc', 0.87), (b'\\xfe', 0.81), (b'\\xee', 0.6), (b'\\xf5', 0.6), (b'\\xe4', 0), (b'\\xf8', 0), (b'\\xf9', 0), (b'\\xfa', 0), (b'\\xff', 0)])\n",
            "(15, [(b's', 327.24), (b'r', 150.03), (b'6', 146.28), (b't', 139.62), (b'o', 133.86), (b'w', 106.67), (b'p', 90.36), (b'f', 84.97), (b'q', 82.94), (b'v', 81.89), (b'z', 75.77), (b'7', 70.58), (b'l', 69.28), (b'k', 69.2), (b'j', 65.24), (b'}', 63.37), (b'g', 45.56), (b'0', 42.97), (b'1', 41.72), (b'3', 3.01)])\n",
            "(16, [(b'\\x00', 313.87), (b'+', 147.48), (b'\\x01', 145.85), (b'\\x04', 141.97), (b'E', 138.96), (b'\\x02', 138.27), (b'\\x08', 136.75), (b'A', 123.0), (b'\\x1c', 122.38), (b'\\x15', 120.18), (b'\\x07', 118.84), (b'\\x1d', 116.17), (b',', 112.52), (b'N', 111.9), (b'\\n', 108.69), (b'*', 108.69), (b'\\t', 105.52), (b')', 105.52), (b'G', 104.82), (b'-', 103.58), (b'\\x13', 103.07), (b'R', 99.48), (b'\\x0f', 90.85), (b'\\x0e', 90.09), (b'S', 88.44), (b'I', 81.24), (b'\\x10', 81.19), (b'T', 77.7), (b'\\x03', 77.43), (b'\\x14', 73.86), (b'\\x05', 72.56), (b'D', 56.28), (b'M', 54.06), (b'\\x1f', 53.12), (b'Y', 46.68), (b'O', 42.96), (b'\\x19', 36.68), (b'H', 36.0), (b'L', 32.94), (b'C', 27.24), (b'U', 21.78), (b'P', 19.02), (b'B', 12.42), (b'F', 10.86), (b'W', 7.74), (b'K', 6.6), (b'V', 6.06), (b'X', 1.74), (b'Z', 1.62), (b'J', 1.2), (b'Q', 1.2), (b'@', 0), (b'[', 0), (b'\\\\', 0), (b']', 0), (b'^', 0)])\n",
            "(17, [(b'b', 351.79), (b\"'\", 215.28), (b'f', 146.7), (b'K', 130.66), (b'k', 130.66), (b'O', 126.89), (b'I', 123.92), (b'e', 121.09), (b'c', 119.38), (b'.', 115.92), (b'N', 111.69), (b'~', 110.91), (b'6', 109.6), (b'H', 107.53), (b'`', 106.83), (b'#', 104.0), (b'y', 100.05), (b'w', 99.34), (b'a', 97.24), (b'+', 96.32), (b',', 89.2), (b'g', 84.16), (b'0', 78.64), (b'-', 75.28), (b'l', 73.59), (b'p', 71.3), (b'm', 69.29), (b'1', 63.92), (b'*', 60.0), (b'%', 55.76), (b'{', 54.55), (b'}', 53.41), (b'v', 47.72), (b'7', 47.04), (b'5', 46.32), (b'!', 36.32), (b' ', 34.56), (b';', 32.24), (b'&', 27.04), (b'2', 25.36), (b'/', 24.08), (b'$', 14.48), (b')', 8.8), (b'4', 8.08), (b':', 2.32), (b'8', 2.16), (b'(', 1.6), (b'3', 1.6), (b'\"', 0), (b'9', 0), (b'<', 0), (b'>', 0), (b'?', 0)])\n",
            "(18, [(b'\\x0b', 332.01), (b'N', 150.12), (b'\\x0c', 143.73), (b'B', 142.78), (b\"'\", 139.27), (b'\\x0f', 139.0), (b'J', 131.5), (b'!', 128.97), (b'\\n', 128.58), (b'\\x16', 114.61), (b' ', 101.92), (b'\\x0e', 100.13), (b'&', 99.35), (b'\\t', 98.3), (b'\\x1e', 98.08), (b'\\x08', 97.47), (b'\\x1c', 95.79), (b'D', 86.12), (b'_', 84.65), (b'E', 82.55), (b'\\x05', 81.73), (b'X', 76.18), (b'\\x18', 75.47), (b'\\x02', 71.93), (b'\"', 71.93), (b'\\x1f', 71.15), (b'Y', 71.06), (b'O', 59.66), (b'\\x13', 58.56), (b'\\x14', 55.37), (b'H', 49.78), (b'M', 48.67), (b'\\\\', 45.03), (b'^', 43.41), (b'[', 40.19), (b'F', 39.07), (b'G', 38.43), (b'R', 30.46), (b'C', 21.0), (b'L', 17.29), (b'I', 14.49), (b'@', 7.7), (b']', 7.07), (b'S', 2.03), (b'Q', 1.89), (b'A', 1.4), (b'Z', 1.4), (b'K', 0), (b'P', 0), (b'U', 0), (b'V', 0), (b'W', 0)])\n",
            "(19, [(b'x', 303.19), (b'i', 149.32), (b'y', 147.78), (b'|', 147.71), (b'n', 142.97), (b'\\x7f', 140.79), (b'e', 121.4), (b'm', 108.72), (b'r', 107.7), (b'q', 98.62), (b'j', 94.95), (b'`', 91.25), (b'}', 89.47), (b'z', 86.26), (b'{', 80.41), (b'g', 72.13), (b'v', 68.29), (b'a', 53.21), (b'<', 52.9), (b'w', 51.91), (b';', 42.48), (b':', 10.64), (b'8', 0.27)])\n",
            "(20, [(b'\\xf5', 336.74), (b'\\xf4', 141.85), (b'\\xf3', 140.54), (b'\\xf2', 138.33), (b'\\xbc', 137.99), (b'\\xa1', 131.76), (b'\\xb0', 129.87), (b'\\xa7', 122.35), (b'\\xe8', 120.89), (b'\\xba', 117.72), (b'\\xbd', 109.03), (b'\\xbb', 106.33), (b'\\xb4', 103.27), (b'\\xa6', 101.89), (b'\\xb9', 97.93), (b'\\xfc', 87.66), (b'\\xf1', 85.64), (b'\\xfd', 76.31), (b'\\xf0', 75.79), (b'\\xea', 74.54), (b'\\xf7', 73.32), (b'\\xf6', 72.1), (b'\\xfa', 64.71), (b'\\xb6', 63.69), (b'\\xa0', 61.15), (b'\\xed', 59.27), (b'\\xb8', 56.69), (b'\\xfb', 55.61), (b'\\xe0', 55.52), (b'\\xa5', 39.96), (b'\\xb3', 37.88), (b'\\xe1', 35.83), (b'\\xb2', 24.99), (b'\\xb7', 22.48), (b'\\xaf', 22.36), (b'\\xac', 21.68), (b'\\xa2', 21.39), (b'\\xbe', 21.12), (b'\\xa3', 20.65), (b'\\xab', 19.66), (b'\\xad', 9.91), (b'\\xa4', 8.85), (b'\\xa9', 7.01), (b'\\xbf', 5.83), (b'\\xa8', 3.88), (b'\\xae', 3.38)])\n",
            "(21, [(b'N', 270.7), (b'\\x0b', 160.18), (b'O', 149.44), (b'I', 139.24), (b'J', 117.69), (b'\\x01', 105.18), (b'G', 98.67), (b'M', 96.97), (b'@', 86.37), (b'L', 86.05), (b'F', 84.06), (b'\\x0f', 73.01), (b'A', 66.56), (b'[', 66.34), (b'\\x1c', 66.32), (b'\\x00', 64.67), (b'K', 61.73), (b'\\x07', 59.32), (b'\\x1b', 52.3), (b'\\x06', 51.38), (b'Z', 51.23), (b'\\x0c', 50.93), (b'V', 49.91), (b'Q', 48.21), (b'\\x1a', 46.09), (b'\\r', 43.32), (b'\\x02', 39.96), (b'\\x03', 38.54), (b'\\n', 34.52), (b'\\x17', 28.75), (b'\\x08', 25.44), (b'\\x1e', 12.68), (b'\\t', 10.98), (b'\\x16', 8.11), (b'\\x10', 7.58), (b'\\x05', 6.87), (b'\\x0e', 5.49), (b'\\x19', 5.16), (b'\\x18', 4.31), (b'\\x12', 3.17), (b'\\x04', 2.61), (b'\\x14', 2.09), (b'\\x15', 1.29), (b'\\x1f', 0.8), (b'\\x13', 0.2)])\n",
            "(22, [(b'\\xb9', 259.11), (b'\\xb8', 147.2), (b'\\xa5', 143.64), (b'\\xaf', 127.12), (b'\\xa4', 123.0), (b'\\xbe', 117.18), (b'\\xeb', 109.9), (b'\\xfc', 109.8), (b'\\xbd', 101.35), (b'\\xea', 100.7), (b'\\xa8', 100.5), (b'\\x93', 95.26), (b'\\xf6', 89.8), (b'\\x94', 85.72), (b'\\x92', 82.01), (b'\\xac', 79.46), (b'\\xf8', 78.5), (b'\\x95', 76.4), (b'\\x90', 73.86), (b'\\xb0', 73.86), (b'\\xaa', 72.77), (b'\\xed', 70.75), (b'\\xf1', 69.0), (b'\\xbb', 67.96), (b'\\xba', 67.41), (b'\\xb7', 65.73), (b'\\xa6', 65.28), (b'\\xad', 63.23), (b'\\xec', 54.15), (b'\\xbc', 53.48), (b'\\xe0', 44.9), (b'\\xa0', 40.01), (b'\\xf0', 37.7), (b'\\xfd', 34.9), (b'\\xf7', 33.25), (b'\\xf4', 33.05), (b'\\xfe', 30.35), (b'\\xb6', 30.33), (b'\\xf5', 27.45), (b'\\xee', 24.45), (b'\\xfa', 22.7), (b'\\xe9', 15.85), (b'\\xfb', 10.35), (b'\\xff', 9.05), (b'\\xf2', 5.5), (b'\\xef', 5.05), (b'\\xe1', 1.45), (b'\\xe3', 1.35), (b'\\xe8', 1.0), (b'\\xf3', 1.0), (b'\\xe2', 0), (b'\\xe4', 0), (b'\\xe5', 0), (b'\\xe7', 0), (b'\\xf9', 0)])\n",
            "(23, [(b'\\x98', 300.84), (b'\\xdd', 150.12), (b'\\x9e', 150.02), (b'\\x99', 139.62), (b'\\x92', 122.38), (b'\\xb2', 122.38), (b'\\x85', 113.77), (b'\\x9f', 113.3), (b'\\xcb', 112.18), (b'\\xca', 107.06), (b'\\xd1', 106.78), (b'\\xb4', 104.42), (b'\\xd7', 104.12), (b'\\xb3', 93.43), (b'\\xb5', 82.91), (b'\\x9a', 77.65), (b'\\x9c', 75.86), (b'\\x90', 71.29), (b'\\xdb', 67.78), (b'\\xcc', 66.65), (b'\\xd6', 64.55), (b'\\x91', 63.67), (b'\\xb1', 63.67), (b'\\xdc', 59.66), (b'\\x9d', 59.52), (b'\\xd9', 59.5), (b'\\x9b', 58.47), (b'\\xd4', 56.43), (b'\\x96', 55.42), (b'\\x87', 53.23), (b'\\x8d', 48.42), (b'\\x8a', 47.29), (b'\\x86', 47.26), (b'\\xd0', 39.0), (b'\\x97', 37.92), (b'\\xdf', 35.29), (b'\\x8c', 31.33), (b'\\xcd', 25.41), (b'\\x81', 25.31), (b'\\xc8', 22.19), (b'\\xd5', 21.07), (b'\\xda', 14.49), (b'\\xde', 12.67), (b'\\xc1', 12.46), (b'\\xcf', 9.03), (b'\\xd3', 7.7), (b'\\xce', 7.07), (b'\\xc0', 2.03), (b'\\xc2', 1.89), (b'\\xc9', 1.4), (b'\\xd2', 1.4), (b'\\xc3', 0), (b'\\xc4', 0), (b'\\xc5', 0), (b'\\xc6', 0), (b'\\xd8', 0)])\n",
            "(24, [(b'\\x00', 251.26), (b'\\x01', 132.78), (b'\\x07', 125.83), (b'E', 113.72), (b'A', 112.02), (b'\\x1c', 111.4), (b'\\x04', 109.87), (b'\\x1d', 103.86), (b'N', 102.74), (b'\\x06', 102.24), (b'I', 88.48), (b'\\x12', 86.66), (b'\\n', 86.28), (b'\\x02', 79.6), (b'\\x03', 74.87), (b'\\x05', 74.4), (b'\\x15', 73.01), (b'\\t', 68.97), (b'O', 55.72), (b'\\x1f', 55.55), (b'D', 55.52), (b'\\x0e', 51.71), (b'R', 48.32), (b'T', 46.38), (b'\\x14', 44.91), (b'\\x18', 44.32), (b'L', 39.96), (b'\\x19', 36.8), (b'H', 36.76), (b'C', 32.48), (b'P', 30.68), (b'M', 29.04), (b'W', 23.16), (b'B', 21.58), (b'U', 18.08), (b'^', 15.16), (b'X', 15.06), (b'Y', 14.38), (b'G', 12.08), (b'@', 10.98), (b'K', 9.34), (b'F', 7.64), (b'\\\\', 6.34), (b'V', 4.58), (b'J', 4.42), (b'Z', 3.1), (b'[', 2.58), (b'Q', 0.8), (b']', 0.4)])\n",
            "(25, [(b'\\xd3', 217.48), (b'\\x9c', 130.75), (b'\\xdd', 126.79), (b'\\xd2', 120.73), (b'\\x96', 114.2), (b'\\xd8', 108.24), (b'\\x9f', 91.02), (b'\\x9d', 90.88), (b'\\xd5', 89.25), (b'\\xda', 88.44), (b'\\xd4', 83.57), (b'\\xcf', 83.38), (b'\\xd1', 82.63), (b'\\x81', 81.44), (b'\\xd0', 78.39), (b'\\x92', 71.41), (b'\\xdf', 69.86), (b'\\xdb', 62.05), (b'\\x94', 60.51), (b'\\xd7', 60.0), (b'\\xd6', 59.82), (b'\\xc5', 57.85), (b'\\x9a', 55.16), (b'\\xcd', 54.0), (b'\\x98', 53.31), (b'\\xdc', 52.74), (b'\\x9e', 52.22), (b'\\x91', 52.09), (b'\\x9b', 45.98), (b'\\xcc', 43.52), (b'\\x87', 42.99), (b'\\x86', 42.8), (b'\\x89', 37.65), (b'\\x90', 35.03), (b'\\x8f', 32.79), (b'\\xca', 32.63), (b'\\x80', 31.7), (b'\\xc6', 30.16), (b'\\xc7', 29.27), (b'\\x93', 26.6), (b'\\x8e', 24.77), (b'\\x8d', 23.84), (b'\\x95', 21.05), (b'\\x84', 19.06), (b'\\x83', 16.95), (b'\\x8a', 16.13), (b'\\x99', 14.72), (b'\\x88', 14.52), (b'\\x8b', 10.03), (b'\\x85', 9.22)])\n",
            "(26, [(b'\\x9d', 169.85), (b'\\x97', 116.96), (b'\\xb7', 116.96), (b'\\x9e', 114.07), (b'\\x9a', 106.84), (b'\\x9c', 106.77), (b'\\xb6', 94.18), (b'\\xd2', 86.32), (b'\\x94', 84.62), (b'\\xb4', 84.62), (b'\\x90', 79.82), (b'\\xb0', 79.82), (b'\\x9b', 79.75), (b'\\xd8', 76.32), (b'\\x99', 75.64), (b'\\x9f', 75.55), (b'\\xb1', 72.63), (b'\\x98', 72.46), (b'\\x81', 71.57), (b'\\x93', 68.01), (b'\\x88', 63.55), (b'\\x8f', 59.19), (b'\\xdb', 57.62), (b'\\x8a', 54.57), (b'\\xd3', 49.3), (b'\\x82', 48.47), (b'\\xd1', 46.98), (b'\\x89', 45.83), (b'\\xd9', 42.76), (b'\\x85', 40.08), (b'\\xdc', 35.0), (b'\\xd4', 33.08), (b'\\xc9', 31.9), (b'\\xce', 29.48), (b'\\xcd', 24.34), (b'\\xdf', 22.14), (b'\\xca', 20.58), (b'\\xcf', 15.16), (b'\\xde', 9.08), (b'\\xc8', 7.26), (b'\\xd0', 6.02), (b'\\xd5', 6.0), (b'\\xda', 4.94), (b'\\xc4', 3.56), (b'\\xd6', 2.2), (b'\\xcb', 2.02), (b'\\xc5', 0.58), (b'\\xc7', 0.54), (b'\\xcc', 0.4), (b'\\xd7', 0.4), (b'\\xc0', 0), (b'\\xc1', 0), (b'\\xc3', 0), (b'\\xc6', 0), (b'\\xdd', 0)])\n",
            "(27, [(b'\\xe8', 156.09), (b'\\xe9', 92.78), (b'\\xf4', 85.41), (b'\\xa6', 84.74), (b'\\xe4', 77.7), (b'\\xef', 74.65), (b'\\xf2', 72.44), (b'\\xf5', 68.79), (b'\\xba', 66.32), (b'\\xea', 65.64), (b'\\xa9', 65.18), (b'\\xa7', 64.22), (b'\\xad', 60.82), (b'\\xe6', 58.66), (b'\\xa0', 56.57), (b'\\xaf', 55.62), (b'\\xa1', 54.95), (b'\\xbd', 54.08), (b'\\xe1', 52.08), (b'\\xa5', 51.58), (b'\\xe7', 47.81), (b'\\xe0', 47.15), (b'\\xbc', 46.65), (b'\\xfb', 46.06), (b'\\xec', 46.05), (b'\\xfc', 44.5), (b'\\xfd', 41.8), (b'\\xeb', 38.65), (b'\\xac', 37.72), (b'\\xed', 37.66), (b'\\xfe', 36.99), (b'\\xab', 35.49), (b'\\xb1', 33.67), (b'\\xf1', 28.71), (b'\\xaa', 27.07), (b'\\xa4', 24.03), (b'\\xf7', 23.84), (b'\\xa3', 20.5), (b'\\xb6', 18.33), (b'\\xa8', 17.63), (b'\\xb0', 16.07), (b'\\xb4', 13.92), (b'\\xb8', 12.68), (b'\\xae', 10.64), (b'\\xb2', 10.05), (b'\\xa2', 7.8), (b'\\xbf', 6.94), (b'\\xb3', 6.21), (b'\\xb5', 6.14), (b'\\xbe', 4.87)])\n",
            "(28, [(b'\\xc8', 135.37), (b'\\xce', 98.77), (b'\\xdf', 92.88), (b'\\xd9', 83.2), (b'\\xc9', 69.99), (b'\\xd5', 68.13), (b'\\xcc', 62.93), (b'\\xdd', 62.76), (b'\\xcf', 61.18), (b'\\xc2', 53.04), (b'\\xdb', 52.68), (b'\\xd4', 50.78), (b'\\xc0', 49.66), (b'\\xca', 48.95), (b'\\xd8', 48.5), (b'\\xc1', 38.54), (b'\\xcd', 29.1), (b'\\xda', 27.36), (b'\\xd6', 26.49), (b'\\xc6', 25.43), (b'\\xcb', 24.51), (b'\\xdc', 23.35), (b'\\xd7', 21.5), (b'\\xd1', 18.87), (b'\\xc7', 11.52), (b'\\x8b', 6.61), (b'\\x8a', 4.14), (b'\\x88', 0.27)])\n",
            "(29, [(b'\\xb0', 90.88), (b'\\xf8', 62.19), (b'\\xb4', 60.17), (b'\\xb1', 57.07), (b'\\xf5', 55.8), (b'\\xf1', 54.67), (b'\\xbc', 54.6), (b'\\xb6', 53.57), (b'\\xb7', 50.69), (b'\\xb9', 47.96), (b'\\xac', 41.93), (b'\\xbe', 40.42), (b'\\xad', 33.69), (b'\\xba', 33.05), (b'\\xa5', 31.41), (b'\\xbf', 30.71), (b'\\xa3', 29.44), (b'\\xb8', 28.67), (b'\\xa6', 27.38), (b'\\xb5', 26.88), (b'\\xfe', 26.72), (b'\\xb2', 26.1), (b'\\xe2', 25.58), (b'\\xe4', 25.51), (b'\\xf4', 24.58), (b'\\xf9', 21.17), (b'\\xa0', 20.93), (b'\\xff', 20.2), (b'\\xa8', 19.77), (b'\\xb3', 18.03), (b'\\xa2', 17.69), (b'\\xfd', 16.05), (b'\\xfb', 14.73), (b'\\xf3', 14.71), (b'\\xf2', 14.21), (b'\\xa4', 12.91), (b'\\xf0', 12.14), (b'\\xf7', 11.11), (b'\\xec', 10.75), (b'\\xee', 10.75), (b'\\xaf', 8.72), (b'\\xe8', 8.25), (b'\\xea', 8.23), (b'\\xfc', 7.56), (b'\\xe9', 6.7), (b'\\xa9', 6.58), (b'\\xed', 5.94), (b'\\xe5', 5.41), (b'\\xfa', 5.39), (b'\\xf6', 5.01), (b'\\xeb', 4.92), (b'\\xe0', 3.17), (b'\\xe7', 3.07), (b'\\xe6', 1.57)])\n",
            "(30, [(b'f', 60.3), (b'/', 52.9), (b'z', 50.88), (b'?', 44.17), (b'{', 41.17), (b'l', 40.04), (b'q', 38.16), (b'a', 37.67), (b'v', 33.82), (b'}', 33.09), (b'k', 32.98), (b'g', 31.71), (b'b', 27.68), (b's', 27.63), (b'(', 27.02), (b'n', 25.23), (b'~', 25.0), (b'2', 24.94), (b'o', 20.06), (b'9', 16.9), (b't', 15.09), (b'i', 14.54), (b'x', 13.9), (b'd', 13.84), (b'c', 13.29), (b'y', 12.97), (b'e', 12.03), (b'.', 10.96), (b'8', 10.96), (b'\\x7f', 10.84), (b'h', 9.99), (b'+', 9.79), (b'=', 9.79), (b'r', 9.16), (b'>', 9.02), (b'%', 8.94), (b'3', 8.94), (b')', 8.17), (b'$', 6.94), (b'&', 5.76), (b'0', 5.76), (b'u', 5.43), (b',', 4.98), (b':', 4.98), (b\"'\", 3.01), (b'1', 3.01), (b'\"', 3.0), (b'4', 3.0), (b'-', 2.67), (b';', 2.67), (b'!', 1.1), (b'7', 1.1), (b'*', 1.01), (b'<', 1.01), (b' ', 0.2), (b'6', 0.2)])\n",
            "(31, [(b'#', 39.58), (b'g', 37.15), (b'f', 37.06), (b'q', 26.61), (b'l', 25.77), (b')', 24.65), (b'4', 23.74), (b'`', 23.57), (b'j', 19.62), (b'b', 19.11), (b'm', 18.46), (b'w', 18.44), (b'i', 18.4), (b'p', 16.64), (b'z', 15.95), (b'&', 15.66), (b'(', 15.66), (b'{', 15.32), (b'}', 14.49), (b'o', 12.79), (b'\"', 12.26), (b',', 12.26), (b'd', 11.12), (b'a', 10.77), (b'h', 10.7), (b'u', 10.52), (b' ', 10.01), (b'.', 10.01), (b'e', 9.31), (b's', 9.08), (b'n', 8.76), (b'5', 7.58), (b';', 7.58), (b'%', 7.56), (b'+', 7.56), (b'$', 7.55), (b'*', 7.55), (b'3', 7.22), (b'=', 7.22), (b'y', 6.72), (b\"'\", 6.65), (b':', 5.74), (b'x', 5.69), (b'!', 4.81), (b'/', 4.81), (b'2', 3.63), (b'<', 3.63), (b'-', 3.58), (b'7', 3.17), (b'9', 3.17), (b'0', 3.07), (b'>', 3.07), (b't', 2.58), (b'r', 2.21), (b'\\x7f', 2.11), (b'c', 1.49), (b'~', 1.49), (b'1', 1.3), (b'?', 1.3)])\n",
            "(32, [(b'\\xc0', 24.38), (b'\\x84', 21.38), (b'\\x88', 21.0), (b'\\xc1', 18.7), (b'\\xcd', 18.7), (b'\\xed', 18.7), (b'\\xc7', 11.7), (b'\\xcb', 11.7), (b'\\xeb', 11.7), (b'\\xc5', 11.51), (b'\\xc9', 11.51), (b'\\xe9', 11.51), (b'\\x85', 11.16), (b'\\xc6', 8.72), (b'\\xca', 8.72), (b'\\xea', 8.72), (b'\\x81', 8.5), (b'\\x92', 7.58), (b'\\xd6', 7.58), (b'\\xda', 7.58), (b'\\x89', 7.54), (b'\\xd0', 7.24), (b'\\xdc', 7.24), (b'\\x8f', 7.16), (b'\\x94', 6.95), (b'\\x8e', 6.65), (b'\\xcc', 6.38), (b'\\xec', 6.38), (b'\\x93', 5.74), (b'\\x8c', 5.49), (b'\\xc4', 5.49), (b'\\xc8', 5.49), (b'\\xd1', 5.41), (b'\\xdd', 5.41), (b'\\x83', 4.54), (b'\\x95', 3.63), (b'\\xc3', 3.57), (b'\\xcf', 3.57), (b'\\x90', 3.17), (b'\\xd4', 3.17), (b'\\xd8', 3.17), (b'\\x8d', 3.01), (b'\\x87', 2.47), (b'\\x82', 2.07), (b'\\xc2', 2.01), (b'\\xce', 2.01), (b'\\x86', 1.81), (b'\\x99', 1.78), (b'\\x97', 1.29), (b'\\xd3', 1.29), (b'\\xdf', 1.29), (b'\\xd2', 1.28), (b'\\xde', 1.28), (b'\\x8b', 1.1), (b'\\x96', 1.01), (b'\\x98', 0.29), (b'\\x9a', 0.27), (b'\\x8a', 0.2), (b'\\x91', 0.2), (b'\\xd5', 0.2), (b'\\xd9', 0.2), (b'\\x80', 0), (b'\\x9b', 0), (b'\\x9c', 0), (b'\\x9d', 0), (b'\\x9e', 0)])\n",
            "(33, [(b'\\x8f', 25.83), (b'\\xc6', 25.54), (b'\\xd7', 18.29), (b'\\x83', 18.11), (b'\\x92', 18.11), (b'\\xa3', 18.11), (b'\\x85', 12.12), (b'\\x94', 12.12), (b'\\xa5', 12.12), (b'\\x87', 11.67), (b'\\x96', 11.67), (b'\\xca', 11.16), (b'\\xce', 8.5), (b'\\x9e', 7.83), (b'\\x84', 7.81), (b'\\x95', 7.81), (b'\\xa4', 7.81), (b'\\xdd', 7.58), (b'\\x89', 7.16), (b'\\x98', 7.16), (b'\\xc0', 7.16), (b'\\x82', 7.01), (b'\\x93', 7.01), (b'\\xa2', 7.01), (b'\\xdb', 6.95), (b'\\xc1', 6.65), (b'\\xdc', 5.74), (b'\\x8a', 5.49), (b'\\x9b', 5.49), (b'\\xc3', 5.49), (b'\\x8e', 4.78), (b'\\x9f', 4.78), (b'\\xcc', 4.54), (b'\\xda', 3.63), (b'\\x81', 3.48), (b'\\x90', 3.48), (b'\\xcb', 3.38), (b'\\xdf', 3.17), (b'\\x80', 3.1), (b'\\x91', 3.1), (b'\\x8b', 3.01), (b'\\x9a', 3.01), (b'\\xc2', 3.01), (b'\\xc7', 3.0), (b'\\xc8', 2.47), (b'\\xcd', 2.07), (b'\\xc9', 1.81), (b'\\xd6', 1.78), (b'\\x8d', 1.37), (b'\\x9c', 1.37), (b'\\xd8', 1.29), (b'\\xc4', 1.1), (b'\\xd9', 1.01), (b'\\xd5', 0.27), (b'\\x86', 0.2), (b'\\x8c', 0.2), (b'\\x97', 0.2), (b'\\x9d', 0.2), (b'\\xa6', 0.2), (b'\\xc5', 0.2), (b'\\xde', 0.2), (b'\\xcf', 0), (b'\\xd1', 0), (b'\\xd2', 0), (b'\\xd3', 0), (b'\\xd4', 0)])\n",
            "(34, [(b'\\xac', 18), (b'\\xb8', 18), (b'\\xcd', 12.13), (b'\\xd9', 12.13), (b'\\xed', 12.13), (b'\\xf9', 12.13), (b'\\xc9', 11.36), (b'\\xdd', 11.36), (b'\\xe9', 11.36), (b'\\xfd', 11.36), (b'\\xca', 9.39), (b'\\xde', 9.39), (b'\\xea', 9.39), (b'\\xfe', 9.39), (b'\\xcb', 8.21), (b'\\xdf', 8.21), (b'\\xeb', 8.21), (b'\\xff', 8.21), (b'\\xc5', 7.54), (b'\\xd1', 7.54), (b'\\xe5', 7.54), (b'\\xf1', 7.54), (b'\\xc3', 7.16), (b'\\xd7', 7.16), (b'\\xe3', 7.16), (b'\\xf7', 7.16), (b'\\xcc', 6.95), (b'\\xd8', 6.95), (b'\\xec', 6.95), (b'\\xf8', 6.95), (b'\\xc2', 6.92), (b'\\xd6', 6.92), (b'\\xe2', 6.92), (b'\\xf6', 6.92), (b'\\xc8', 6.55), (b'\\xdc', 6.55), (b'\\xe8', 6.55), (b'\\xfc', 6.55), (b'\\xcf', 5.83), (b'\\xdb', 5.83), (b'\\xef', 5.83), (b'\\xfb', 5.83), (b'\\xc0', 5.78), (b'\\xd4', 5.78), (b'\\xe0', 5.78), (b'\\xf4', 5.78), (b'\\xc1', 4.79), (b'\\xd5', 4.79), (b'\\xe1', 4.79), (b'\\xf5', 4.79), (b'\\xce', 3.08), (b'\\xda', 3.08), (b'\\xee', 3.08), (b'\\xfa', 3.08), (b'\\xc4', 3.0), (b'\\xd0', 3.0), (b'\\xe4', 3.0), (b'\\xf0', 3.0), (b'\\xc7', 1.1), (b'\\xd3', 1.1), (b'\\xc6', 0.2), (b'\\xd2', 0.2), (b'\\xe6', 0.2), (b'\\xf2', 0.2), (b'\\xa0', 0), (b'\\xa1', 0), (b'\\xa2', 0), (b'\\xa3', 0), (b'\\xa4', 0), (b'\\xa5', 0), (b'\\xa6', 0), (b'\\xa7', 0), (b'\\xa8', 0), (b'\\xa9', 0), (b'\\xaa', 0), (b'\\xab', 0), (b'\\xad', 0), (b'\\xae', 0), (b'\\xaf', 0), (b'\\xb0', 0), (b'\\xb1', 0), (b'\\xb2', 0), (b'\\xb3', 0), (b'\\xb4', 0), (b'\\xb5', 0), (b'\\xb6', 0), (b'\\xb7', 0), (b'\\xb9', 0), (b'\\xba', 0), (b'\\xbb', 0), (b'\\xbc', 0), (b'\\xbd', 0), (b'\\xbe', 0), (b'\\xbf', 0)])\n",
            "(35, [(b'\\x89', 18), (b'\\x9f', 18), (b'\\xcc', 16.9), (b'\\xda', 16.9), (b'\\xec', 16.9), (b'\\xfa', 16.9), (b'\\xcd', 10.96), (b'\\xdb', 10.96), (b'\\xed', 10.96), (b'\\xfb', 10.96), (b'\\xc8', 9.79), (b'\\xde', 9.79), (b'\\xe8', 9.79), (b'\\xfe', 9.79), (b'\\xcb', 9.02), (b'\\xdd', 9.02), (b'\\xeb', 9.02), (b'\\xfd', 9.02), (b'\\xc6', 8.94), (b'\\xd0', 8.94), (b'\\xe6', 8.94), (b'\\xf0', 8.94), (b'\\xca', 8.17), (b'\\xdc', 8.17), (b'\\xea', 8.17), (b'\\xfc', 8.17), (b'\\xe0', 7.54), (b'\\xf6', 7.54), (b'\\xc7', 6.94), (b'\\xd1', 6.94), (b'\\xe7', 6.94), (b'\\xf1', 6.94), (b'\\xc5', 5.76), (b'\\xd3', 5.76), (b'\\xe5', 5.76), (b'\\xf3', 5.76), (b'\\xcf', 4.98), (b'\\xd9', 4.98), (b'\\xef', 4.98), (b'\\xf9', 4.98), (b'\\xc4', 3.01), (b'\\xd2', 3.01), (b'\\xe4', 3.01), (b'\\xf2', 3.01), (b'\\xc1', 3.0), (b'\\xd7', 3.0), (b'\\xe1', 3.0), (b'\\xf7', 3.0), (b'\\xce', 2.67), (b'\\xd8', 2.67), (b'\\xee', 2.67), (b'\\xf8', 2.67), (b'\\xc2', 1.1), (b'\\xd4', 1.1), (b'\\xe2', 1.1), (b'\\xf4', 1.1), (b'\\xc9', 1.01), (b'\\xdf', 1.01), (b'\\xe9', 1.01), (b'\\xff', 1.01), (b'\\xc3', 0.2), (b'\\xd5', 0.2), (b'\\xe3', 0.2), (b'\\xf5', 0.2), (b'\\x80', 0), (b'\\x81', 0), (b'\\x82', 0), (b'\\x83', 0), (b'\\x84', 0), (b'\\x85', 0), (b'\\x86', 0), (b'\\x87', 0), (b'\\x88', 0), (b'\\x8a', 0), (b'\\x8b', 0), (b'\\x8c', 0), (b'\\x8d', 0), (b'\\x8e', 0), (b'\\x8f', 0), (b'\\x90', 0), (b'\\x91', 0), (b'\\x92', 0), (b'\\x93', 0), (b'\\x94', 0), (b'\\x95', 0), (b'\\x96', 0), (b'\\x97', 0), (b'\\x98', 0), (b'\\x99', 0), (b'\\x9a', 0), (b'\\x9b', 0), (b'\\x9c', 0), (b'\\x9d', 0), (b'\\x9e', 0)])\n",
            "(36, [(b'`', 18), (b'\\x05', 11.16), (b'%', 11.16), (b'\\x01', 8.5), (b'!', 8.5), (b'\\x12', 7.58), (b'2', 7.58), (b'\\t', 7.54), (b')', 7.54), (b'\\x0f', 7.16), (b'/', 7.16), (b'\\x14', 6.95), (b'4', 6.95), (b'\\x0e', 6.65), (b'.', 6.65), (b'\\x13', 5.74), (b'3', 5.74), (b'\\x0c', 5.49), (b',', 5.49), (b'\\x03', 4.54), (b'#', 4.54), (b'\\x15', 3.63), (b'5', 3.63), (b'\\x04', 3.38), (b'$', 3.38), (b'\\x10', 3.17), (b'0', 3.17), (b'\\r', 3.01), (b'-', 3.01), (b'\\x08', 3.0), (b'(', 3.0), (b'\\x07', 2.47), (b\"'\", 2.47), (b'\\x02', 2.07), (b'\"', 2.07), (b'\\x06', 1.81), (b'&', 1.81), (b'\\x19', 1.78), (b'9', 1.78), (b'\\x17', 1.29), (b'7', 1.29), (b'\\x0b', 1.1), (b'+', 1.1), (b'\\x16', 1.01), (b'6', 1.01), (b'\\x18', 0.29), (b'8', 0.29), (b'\\x1a', 0.27), (b':', 0.27), (b'\\n', 0.2), (b'\\x11', 0.2), (b'*', 0.2), (b'1', 0.2), (b'\\x00', 0), (b'\\x1b', 0), (b'\\x1c', 0), (b'\\x1d', 0), (b'\\x1e', 0), (b'\\x1f', 0), (b' ', 0), (b';', 0), (b'<', 0), (b'=', 0), (b'>', 0), (b'I', 0), (b'J', 0), (b'K', 0), (b'L', 0), (b'M', 0), (b'a', 0), (b'b', 0), (b'c', 0), (b'd', 0), (b'e', 0), (b'f', 0), (b'g', 0), (b'h', 0), (b'i', 0), (b'j', 0), (b'k', 0), (b'l', 0), (b'm', 0), (b'n', 0), (b'o', 0), (b'p', 0), (b'q', 0), (b'r', 0), (b's', 0), (b't', 0), (b'u', 0), (b'v', 0), (b'w', 0), (b'x', 0), (b'y', 0), (b'z', 0), (b'{', 0), (b'|', 0), (b'}', 0), (b'~', 0), (b'\\x7f', 0)])\n",
            "(37, [(b'\\x86', 18), (b'\\xc3', 11.16), (b'\\xe3', 11.16), (b'\\xc7', 8.5), (b'\\xe7', 8.5), (b'\\xd4', 7.58), (b'\\xf4', 7.58), (b'\\xcf', 7.54), (b'\\xef', 7.54), (b'\\xc9', 7.16), (b'\\xe9', 7.16), (b'\\xd2', 6.95), (b'\\xf2', 6.95), (b'\\xc8', 6.65), (b'\\xe8', 6.65), (b'\\xd5', 5.74), (b'\\xf5', 5.74), (b'\\xca', 5.49), (b'\\xea', 5.49), (b'\\xc5', 4.54), (b'\\xe5', 4.54), (b'\\xd3', 3.63), (b'\\xf3', 3.63), (b'\\xc2', 3.38), (b'\\xe2', 3.38), (b'\\xd6', 3.17), (b'\\xf6', 3.17), (b'\\xcb', 3.01), (b'\\xeb', 3.01), (b'\\xce', 3.0), (b'\\xee', 3.0), (b'\\xc1', 2.47), (b'\\xe1', 2.47), (b'\\xc4', 2.07), (b'\\xe4', 2.07), (b'\\xc0', 1.81), (b'\\xe0', 1.81), (b'\\xdf', 1.78), (b'\\xff', 1.78), (b'\\xd1', 1.29), (b'\\xf1', 1.29), (b'\\xcd', 1.1), (b'\\xed', 1.1), (b'\\xd0', 1.01), (b'\\xf0', 1.01), (b'\\xde', 0.29), (b'\\xfe', 0.29), (b'\\xdc', 0.27), (b'\\xfc', 0.27), (b'\\xcc', 0.2), (b'\\xd7', 0.2), (b'\\xec', 0.2), (b'\\xf7', 0.2), (b'\\x80', 0), (b'\\x81', 0), (b'\\x82', 0), (b'\\x83', 0), (b'\\x84', 0), (b'\\x85', 0), (b'\\x87', 0), (b'\\x88', 0), (b'\\x89', 0), (b'\\x8a', 0), (b'\\x8b', 0), (b'\\x8c', 0), (b'\\x8d', 0), (b'\\x8e', 0), (b'\\x8f', 0), (b'\\x90', 0), (b'\\x91', 0), (b'\\x92', 0), (b'\\x93', 0), (b'\\x94', 0), (b'\\x95', 0), (b'\\x96', 0), (b'\\x97', 0), (b'\\x98', 0), (b'\\x99', 0), (b'\\x9a', 0), (b'\\x9b', 0), (b'\\x9c', 0), (b'\\x9d', 0), (b'\\x9e', 0), (b'\\x9f', 0), (b'\\xaa', 0), (b'\\xab', 0), (b'\\xac', 0), (b'\\xad', 0), (b'\\xaf', 0), (b'\\xc6', 0), (b'\\xd8', 0), (b'\\xda', 0), (b'\\xdb', 0), (b'\\xdd', 0), (b'\\xe6', 0), (b'\\xf8', 0), (b'\\xf9', 0), (b'\\xfa', 0), (b'\\xfb', 0), (b'\\xfd', 0)])\n"
          ]
        }
      ],
      "source": [
        "for x in score_for_each_possible_bytes:\n",
        "    print(x)"
      ]
    },
    {
      "cell_type": "code",
      "execution_count": 44,
      "metadata": {},
      "outputs": [
        {
          "name": "stdout",
          "output_type": "stream",
          "text": [
            "b'I have met them at close of day'\n",
            "b'Coming with vivid faces'\n",
            "b'From counter or desk among grey'\n",
            "b'Eighteenth-century houses.'\n",
            "b'I have passed with a nod of the hEAR'\n",
            "b'Or polite meaningless words,'\n",
            "b'Or have lingered awhile and said'\n",
            "b'Polite meaningless words,'\n",
            "b'And thought before I had done'\n",
            "b'Of a mocking tale or a gibe'\n",
            "b'To please a companion'\n",
            "b'Around the fire at the club,'\n",
            "b'Being certain that they and I'\n",
            "b'But lived where motley is worn:'\n",
            "b'All changed, changed utterly:'\n",
            "b'A terrible beauty is born.'\n",
            "b\"That woman's days were spent\"\n",
            "b'In ignorant good will,'\n",
            "b'Her nights in argument'\n",
            "b'Until her voice grew shrill.'\n",
            "b'What voice more sweet than hers'\n",
            "b'When young and beautiful,'\n",
            "b'She rode to harriers?'\n",
            "b'This man had kept a school'\n",
            "b'And rode our winged horse.'\n",
            "b'This other his helper and friend'\n",
            "b'Was coming into his force;'\n",
            "b'He might have won fame in the end\\x0c'\n",
            "b'So sensitive his nature seemed,'\n",
            "b'So daring and sweet his thought.'\n",
            "b'This other man I had dreamed'\n",
            "b'A drunken, vain-glorious lout.'\n",
            "b'He had done most bitter wrong'\n",
            "b'To some who are near my heart,'\n",
            "b'Yet I number him in the song;'\n",
            "b'He, too, has resigned his part'\n",
            "b'In the casual comedy;'\n",
            "b\"He, too, has been changed in his TUDN'\"\n",
            "b'Transformed utterly:'\n",
            "b'A terrible beauty is born.'\n"
          ]
        }
      ],
      "source": [
        "predicted_key_stream = b''\n",
        "for x in score_for_each_possible_bytes:\n",
        "    if len(predicted_key_stream) == 31:\n",
        "        predicted_key_stream += x[1][1][0]\n",
        "    elif len(predicted_key_stream) == 33:\n",
        "        predicted_key_stream += x[1][5][0]\n",
        "    elif len(predicted_key_stream) == 34:\n",
        "        predicted_key_stream += x[1][3][0]\n",
        "    elif len(predicted_key_stream) == 35:\n",
        "        predicted_key_stream += x[1][8][0]\n",
        "    elif len(predicted_key_stream) == 36:\n",
        "        predicted_key_stream += x[1][13][0]\n",
        "    elif len(predicted_key_stream) == 37:\n",
        "        predicted_key_stream += x[1][54][0]\n",
        "    else:\n",
        "        predicted_key_stream += x[1][0][0]\n",
        "\n",
        "for encrypted_btyes in encrypted_btyes_list:\n",
        "    print(xor_bytes(encrypted_btyes, predicted_key_stream))"
      ]
    },
    {
      "attachments": {},
      "cell_type": "markdown",
      "metadata": {},
      "source": [
        "Challenge 22"
      ]
    },
    {
      "cell_type": "code",
      "execution_count": 45,
      "metadata": {},
      "outputs": [
        {
          "name": "stdout",
          "output_type": "stream",
          "text": [
            "first_sleep_time: 15s\n",
            "Seeds: 1688822149\n",
            "second_sleep_time: 18s\n",
            "found seed : 1688822149\n"
          ]
        }
      ],
      "source": [
        "import time\n",
        "import random\n",
        "import challenge21 as c21\n",
        "\n",
        "def routine():\n",
        "    wait_time = random.randint(1,20)\n",
        "    #time.sleep(wait_time)\n",
        "    print(f\"first_sleep_time: {wait_time}s\")\n",
        "\n",
        "    current_timestamp = int(time.time())\n",
        "    MT19937 = c21.MT19937(current_timestamp)\n",
        "    print(f\"Seeds: {current_timestamp}\")\n",
        "\n",
        "    wait_time = random.randint(1,20)\n",
        "    #time.sleep(wait_time)\n",
        "    print(f\"second_sleep_time: {wait_time}s\")\n",
        "\n",
        "    return MT19937.rand()\n",
        "\n",
        "random_num = routine()\n",
        "\n",
        "output_list = dict()\n",
        "for i in range(1000):\n",
        "    current_timestamp = int(time.time())\n",
        "    seed = current_timestamp - i\n",
        "    MT19937 = c21.MT19937(seed)\n",
        "    output_list[MT19937.rand()] = seed\n",
        "\n",
        "if random_num in output_list:\n",
        "    print(f\"found seed : {output_list[random_num]}\")\n",
        "else:\n",
        "    print(f\"seed not found.\")\n"
      ]
    },
    {
      "attachments": {},
      "cell_type": "markdown",
      "metadata": {},
      "source": [
        "Challenge 23"
      ]
    },
    {
      "cell_type": "code",
      "execution_count": 46,
      "metadata": {},
      "outputs": [],
      "source": [
        "import challenge21 as c21\n",
        "\n",
        "def untemper(y):\n",
        "    (u, d) = (11, 0xFFFFFFFF)\n",
        "    (s, b) = (7, 0x9D2C5680)\n",
        "    (t, c) = (15, 0xEFC60000)\n",
        "    l = 18\n",
        "\n",
        "    def int_to_bit_list(x):\n",
        "        return [int(b) for b in '{:032b}'.format(x)]\n",
        "\n",
        "    def bit_list_to_int(l):\n",
        "        return int(''.join(str(x) for x in l), base=2)\n",
        "\n",
        "    def invert_shift_mask_xor(y, direction, shift, mask=0xFFFFFFFF):\n",
        "        y = int_to_bit_list(y)\n",
        "        mask = int_to_bit_list(mask)\n",
        "\n",
        "        if direction == 'left':\n",
        "            y.reverse()\n",
        "            mask.reverse()\n",
        "        else:\n",
        "            assert direction == 'right'\n",
        "\n",
        "        x = [None]*32\n",
        "        for n in range(32):\n",
        "            if n < shift:\n",
        "                x[n] = y[n]\n",
        "            else:\n",
        "                x[n] = y[n] ^ (mask[n] & x[n-shift])\n",
        "\n",
        "        if direction == 'left':\n",
        "            x.reverse()\n",
        "\n",
        "        return bit_list_to_int(x)\n",
        "\n",
        "    xx = y\n",
        "    xx = invert_shift_mask_xor(xx, direction='right', shift=l)\n",
        "    xx = invert_shift_mask_xor(xx, direction='left', shift=t, mask=c)\n",
        "    xx = invert_shift_mask_xor(xx, direction='left', shift=s, mask=b)\n",
        "    xx = invert_shift_mask_xor(xx, direction='right', shift=u, mask=d)\n",
        "\n",
        "    return xx"
      ]
    },
    {
      "cell_type": "code",
      "execution_count": 47,
      "metadata": {},
      "outputs": [
        {
          "name": "stdout",
          "output_type": "stream",
          "text": [
            "00000001000000100000001100000100  y1\n",
            "\n",
            "00000000000000000010000001000000  y1 >> 11\n",
            "11111111111111111111111111111111  0xFFFFFFFF\n",
            "00000000000000000010000001000000  (y1 >> 11) & 0xFFFFFFFF\n",
            "00000001000000100010001101000100  y1 ^ ((y1 >> 11) & 0xFFFFFFFF)\n",
            "\n",
            "10000001000100011010001000000000  y2 << 7\n",
            "10011101001011000101011010000000  0x9D2C5680\n",
            "10000001000000000000001000000000  (y2 << 7) & 0x9D2C5680\n",
            "10000000000000100010000101000100  y2 ^ ((y2 << 7) & 0x9D2C5680)\n",
            "\n",
            "10000000000000100010000101000100000000000000000  y3 << 15\n",
            "11101111110001100000000000000000  0xEFC60000\n",
            "00000000100000100000000000000000  (y3 << 15) & 0xEFC60000\n",
            "10000000100000000010000101000100  y3 ^ ((y3 << 15) & 0xEFC60000)\n",
            "\n",
            "00000000000000000010000000100000  y4 >> 18\n",
            "10000000100000000000000101100100  y4 ^ (y4 >> 18)\n",
            "result: 2155872612\n"
          ]
        }
      ],
      "source": [
        "def p(a, t):\n",
        "    #a = a & 0xFFFFFFFF\n",
        "    print(\"{0:032b}\".format(a) + \"  \" + t)\n",
        "\n",
        "y1 = 0x01020304\n",
        "p(y1, 'y1')\n",
        "print('')\n",
        "\n",
        "y2 = y1 ^ ((y1 >> 11) & 0xFFFFFFFF)\n",
        "p(y1 >> 11, 'y1 >> 11')\n",
        "p(0xFFFFFFFF, '0xFFFFFFFF')\n",
        "p((y1 >> 11) & 0xFFFFFFFF, '(y1 >> 11) & 0xFFFFFFFF')\n",
        "p(y2, 'y1 ^ ((y1 >> 11) & 0xFFFFFFFF)')\n",
        "print('')\n",
        "\n",
        "y3 = y2 ^ ((y2 << 7) & 0x9D2C5680)\n",
        "p(y2 << 7, 'y2 << 7')\n",
        "p(0x9D2C5680, '0x9D2C5680')\n",
        "p((y2 << 7) & 0x9D2C5680, '(y2 << 7) & 0x9D2C5680')\n",
        "p(y3, 'y2 ^ ((y2 << 7) & 0x9D2C5680)')\n",
        "print('')\n",
        "\n",
        "y4 = y3 ^ ((y3 << 15) & 0xEFC60000)\n",
        "p(y3 << 15, 'y3 << 15')\n",
        "p(0xEFC60000, '0xEFC60000')\n",
        "p((y3 << 15) & 0xEFC60000, '(y3 << 15) & 0xEFC60000')\n",
        "p(y4, 'y3 ^ ((y3 << 15) & 0xEFC60000)')\n",
        "print('')\n",
        "\n",
        "z = y4 ^ (y4 >> 18)\n",
        "p(y4 >> 18, 'y4 >> 18')\n",
        "p(z, 'y4 ^ (y4 >> 18)')\n",
        "print(f'result: {z}')"
      ]
    },
    {
      "cell_type": "code",
      "execution_count": 48,
      "metadata": {},
      "outputs": [
        {
          "name": "stdout",
          "output_type": "stream",
          "text": [
            "399782711\n",
            "12345678\n"
          ]
        }
      ],
      "source": [
        "import challenge21 as c21\n",
        "\n",
        "seed = 12345678\n",
        "rand_num = c21.MT19937(12345678).rand()\n",
        "print(rand_num)\n",
        "print(untemper(rand_num))"
      ]
    },
    {
      "attachments": {},
      "cell_type": "markdown",
      "metadata": {},
      "source": [
        "Challenge 24"
      ]
    },
    {
      "cell_type": "code",
      "execution_count": 49,
      "metadata": {},
      "outputs": [
        {
          "name": "stdout",
          "output_type": "stream",
          "text": [
            "seed found: 1688822150\n"
          ]
        },
        {
          "data": {
            "text/plain": [
              "True"
            ]
          },
          "execution_count": 49,
          "metadata": {},
          "output_type": "execute_result"
        }
      ],
      "source": [
        "import challenge24 as c24\n",
        "c24.check_is_MT19937_product_with_current_time(c24.generate_password_reset_token(32))"
      ]
    },
    {
      "attachments": {},
      "cell_type": "markdown",
      "metadata": {},
      "source": [
        "# Set 4"
      ]
    },
    {
      "attachments": {},
      "cell_type": "markdown",
      "metadata": {},
      "source": [
        "Challenge 25"
      ]
    },
    {
      "cell_type": "code",
      "execution_count": 50,
      "metadata": {},
      "outputs": [
        {
          "name": "stdout",
          "output_type": "stream",
          "text": [
            "b\"I'm back and I'm ringin' the bell \\nA rockin' on the mike while the fly girls yell \\nIn ecstasy in the back of me \\nWell that's my DJ Deshay cuttin' all them Z's \\nHittin' hard and the girlies goin' crazy \\nVanilla's on the mike, man I'm not lazy. \\n\\nI'm lettin' my drug kick in \\nIt controls my mouth and I begin \\nTo just let it flow, let my concepts go \\nMy posse's to the side yellin', Go Vanilla Go! \\n\\nSmooth 'cause that's the way I will be \\nAnd if you don't give a damn, then \\nWhy you starin' at me \\nSo get off 'cause I control the stage \\nThere's no dissin' allowed \\nI'm in my own phase \\nThe girlies sa y they love me and that is ok \\nAnd I can dance better than any kid n' play \\n\\nStage 2 -- Yea the one ya' wanna listen to \\nIt's off my head so let the beat play through \\nSo I can funk it up and make it sound good \\n1-2-3 Yo -- Knock on some wood \\nFor good luck, I like my rhymes atrocious \\nSupercalafragilisticexpialidocious \\nI'm an effect and that you can bet \\nI can take a fly girl and make her wet. \\n\\nI'm like Samson -- Samson to Delilah \\nThere's no denyin', You can try to hang \\nBut you'll keep tryin' to get my style \\nOver and over, practice makes perfect \\nBut not if you're a loafer. \\n\\nYou'll get nowhere, no place, no time, no girls \\nSoon -- Oh my God, homebody, you probably eat \\nSpaghetti with a spoon! Come on and say it! \\n\\nVIP. Vanilla Ice yep, yep, I'm comin' hard like a rhino \\nIntoxicating so you stagger like a wino \\nSo punks stop trying and girl stop cryin' \\nVanilla Ice is sellin' and you people are buyin' \\n'Cause why the freaks are jockin' like Crazy Glue \\nMovin' and groovin' trying to sing along \\nAll through the ghetto groovin' this here song \\nNow you're amazed by the VIP posse. \\n\\nSteppin' so hard like a German Nazi \\nStartled by the bases hittin' ground \\nThere's no trippin' on mine, I'm just gettin' down \\nSparkamatic, I'm hangin' tight like a fanatic \\nYou trapped me once and I thought that \\nYou might have it \\nSo step down and lend me your ear \\n'89 in my time! You, '90 is my year. \\n\\nYou're weakenin' fast, YO! and I can tell it \\nYour body's gettin' hot, so, so I can smell it \\nSo don't be mad and don't be sad \\n'Cause the lyrics belong to ICE, You can call me Dad \\nYou're pitchin' a fit, so step back and endure \\nLet the witch doctor, Ice, do the dance to cure \\nSo come up close and don't be square \\nYou wanna battle me -- Anytime, anywhere \\n\\nYou thought that I was weak, Boy, you're dead wrong \\nSo come on, everybody and sing this song \\n\\nSay -- Play that funky music Say, go white boy, go white boy go \\nplay that funky music Go white boy, go white boy, go \\nLay down and boogie and play that funky music till you die. \\n\\nPlay that funky music Come on, Come on, let me hear \\nPlay that funky music white boy you say it, say it \\nPlay that funky music A little louder now \\nPlay that funky music, white boy Come on, Come on, Come on \\nPlay that funky music \\n\\x04\\x04\\x04\\x04\"\n"
          ]
        }
      ],
      "source": [
        "text_list = get_txt_from_url(\"https://cryptopals.com/static/challenge-data/25.txt\")\n",
        "text = ''.join(text_list)\n",
        "text = base64.b64decode(text)\n",
        "key = b'YELLOW SUBMARINE'\n",
        "plain_text = decrypt_ECB(text, key)\n",
        "print(plain_text)"
      ]
    },
    {
      "cell_type": "code",
      "execution_count": 51,
      "metadata": {},
      "outputs": [
        {
          "name": "stdout",
          "output_type": "stream",
          "text": [
            "b'B\\x0e\\xc7\\xc5\\xd7n\"\\x91I\\xdd\\xdf\\x8eS\\xc0\\x95t\\x13q\\x86xTM\\'\\x17\\xed\\xc2\\xb9]\\x81BNM+J\\xcc\\xc1\\xa3\\x1e\\x87\\x0f\\xdf\\xa9\\xfc\\x00A\\x0c\\x1d\"\\x15\\x0f\\xd8\\x8f$\\x9cu\\xd6\\xbd\\x9eg\\xd9\\x87!4\\xd46\\xd2\\'S\\x08\\xc4\\xac{\\x86D\\x87\\xa2\\rY6\\x01U\\xc3\\xb6\\x88\\x94:{\\xc9\\xd2\\x04\\xbf\\xa7K\\xb5\\xc9\\xcbw\"\\xe0\\x8d\\xe1\\xed\\xe7uz\\x94\\xdfN\\x92kf\\xeb\\r\\xa1k0\\xc6h\\xc70[\\xd6\\xd6\\'+x\\xb7\\x9bf8#J\\xa3\\x18\\x07`ct\\x18~\\xfd\\xb7\\x89DF\\xc0\\xa4S\\x05\\x17\\xdbf\\xdd\\xe1\\t\\x8e\\xd9\\xa4\\xe2(\\xd2\\xfem\\xf7\\xfa\\xc7\\x08\\x1a\\x16\\xa2\\x14$]XM\\xc3\\xd6\\xc3\\xe9:&68En\\xeej\\x9a\\xcbO\\x9b\\xdcw\\xe9\\xff\\x8ep\\xe1Z\\x87\\xbb\\x88\\'\\xec\\x1f\\xe8$\\x1b\\r\\xcd D\\xbb\\xf7\\x07\\xac;|k\\xe2\\x84\\xd6\\x12\\x99\\xe8P\\xbd\\xba}\\xba\\xdfZ=w\\xfb\\x90q\\x86P2\\xea\\xc7\\xd7?M\\xc6\\xc5f\\xd8?9\\xe3\\xbel\\xa5}<\\xd1r\\xcay|\\x8c\\xdd\\xaeU\\x89]\\xff\\xb5\\xf3\\r\\xff\\x8c\\xe3u\\xb1\\xd9qA\\xc3stA\\xc0d\\x9d+U\\xc0X\\x89\\xd7\\x05p\\xbc\\xaa\\x80\\xf5\\x8a\\x91\\xb1[\\x05\\xff\\xd2#J\\xf9\\x0cw\\xcb\\xdcS\\xddAw\\x19\\x92\\x90\\x12\\x82\\xa0\\xf2\\xf2\\xbfL\\x98\\xcc\\xe7\\xd1\\x8d\\xdfs\\x9d\\xf8\\xc8\\x9b\\x92\\x92\\x02\\xb1,\\x0bWc\\x03\\x03\\xde\\x06t\\xabzZ>\\xea\\x86\\xb0\\xba=\\xb9\\x98,d^4\\xb8e\\x18\\xb7f\\xdd\\xdb\\xd4\\xff\\x01\\xa9\\xc2\\xc3\\xe45\\x948\\x1a\\xbeZ\\xbaA\\x19\\xce\\xad\\xb2q\\xd97a4G\\xd6\\x9b\\xe8BXe\\x90\\xf5hgx\\x8f\\xf6E\\xcaN\\xac\\x0b#\\xb4-\\xd9\\xec>9u\\x01\\xcaQ\\x17I\\xe2B\\xe0\\x0c\\x08\\x8e\\xa0v\\x07E\\x91E\\x1b\\xc9<D\\xbb\\x04\\xf3\\xc7\\xafX\\x95u\\xec\\xe1\\xc1\\xfec\\x1d%*\\xba/\\xd7Z*\\xea\\x90u\\x1f\\x8dW\\x0b,U\\xcc\\xe7N\\xf0\\xe0\\x93#\\x84g\\x9b\\xc6}.\\xd4\\xb2\\xfd\\x8d6\\x10\\xa61r\\x8ao!\\xc5Q\\x13\\xd5.A\\x15kkb\\xc8\\x95\\xa7y\">E\\xe1\\x1b\\xa5\\x0e\\x8b\\xd0\\xf6\\xf0\\x16\\xd0\\xd4m[u\\xb0\\xabW$3\\xe8\\xf2|u\\x99\\xcb\\xab\\xb3a\\'\\x89E\\x8c\\xf7\\x99\\xcd\\xdd\\t\\xf7\\x99\\x8fa\\xd3\\xcd\\xab\\x06\\xafw:|zZ\\xfd\\xadA?\\xeb\\xc2\\x0c&\\xd8\\xf4\\xa8E\\xb2r\\xa8\\x98\\xc3\\x10\\nU\\xd8Hs\\x1f\\xed\\xcb\\x9d^\\x0ft\\xdf\\xf9\\xba\"\\xe8\\xa8rm\\xb5\\x0fg\\t F\\xf5I\\xff\\x06Fo}\\xabC^&\\x08\\x1e\\xc0T\\xb26\\x87\\x00\\'\\xbc\\xd4.\\xe6\\xb5\\xc3\\xba\\xab\\xa1\\xd9\\x0b5\\xd9\\x1b\\xf3\\xffo\\xd5\\xa3\\x1a\\xb8\\xff\\\\\\xf5=5E\\x19\\xbe\\x00\\xa4A\\xb7\\x9b\\xc3#\\xb3V\\xddQ\\xad\\xfd$\\x9d\\x8b4\\x82\\xed\\xb5\\x98\\x1e\\x81\\x90!\\xa3\\x0b\\x1d\\x14\\x85\\x0c\\x04>TR\\x87\\x1e\\xa6 \\x82\\x8e\\xfe\"K\\xf3\\xd2\\xfe\\xf9c\\x86\\xe3N(\\xe0f\\xf8~[g\\xaa>\\x8f\\xd3\\x05\\x82aWGp\\xc6p\\xb7?s\\xda\\t\\xf3k\\xd2\\xdf=\\xba!\\x80\\xc0<\\x9d1\\x1b\"}\\xc4\\xfe\\xd4\\xf7U\\xc6\\xa6\\xa5\\xa6\\xec\\xdb\\r\\xf8x\\x84\\x0b9HS^\\x91\\xcbsLG\\x1aBc\\x9c\\xa0Z\\xbe\\x8au\\x8e\\xaat\\xd4\\xd8\\xfc\\x1a~O\\x19\\xbe\"\\xf8\\xa2\\x04Rk\\xeby\\x14Gj&rR\\xd5\\xdeh\\xe3D*\\xe1\\x86\\x80\\xc5/\\xe2b5\\xd9F\\xcc\\xa2\\x9d_L\\xa7\\xd2Y\\xf0\\xdcq\\xa4\\x184\\'#{\\x08\\xe4B\\x7f\\x99\\xfe\\xbb\\xd9[\\x85\\xc9\\x1a?\\xde\\xb8\\x16\\xb5&\\x10\\xdc[\\xfd\\xb0V\\xa8N\\xfa\\xa1e#\\x02%Yf\\x87b\\xe9W_\\x89C\\xb3\\xe2\\x10\\xf3/U\\x15[\\xd4\\x18\\xd8e\\xfb*\\x85\\xaa%w\\x1b\\xf9\\t\\x04\\x1a\\xdfP\\x96\\xc4\\x91\\x8beD\\x7f\\xe4\\x94\\xa6\\xdd\\xd4\\xfb\\x81\\x99\\x14\\xf6Z5\\x81;\\xbdZ\\x0c\\xe39\\xbasY\\xb0\\x9b\\x8b\\xf8\\xc0\\x9f\\xeb4 F\\x1e\\xa7\\x0fy\\xd6\\xfbu\\xa6\"0\\xf7\\x80,\\x02w=\\xd9\\xbc\\xf0%:{\\xd6`\\x97IW\\xefaZ\\xdf\\x97\\'\\x95\\xf0\\x9f\\x15B\\xa2\\x0b\\xd9\\xd5\\xa2\\xa7Z7}\\x11\\x03\\xc0\\xea\\x1b1\\xa7\\x06\\xb3\\xcd\\xcf\\x13\\x91>\\xfa;\\xdd\\x96\\xf2\\n7_\\xe2\\xe2\\xeaZ\\xb0\\xb23\\xc5d\\xd5\\x9ev\\xd4\\x18\\xf0yu\\x9f\"G\\x05\\xd6\\x96\\xa7M\\xaf\\x9c\\xb3<\\x88I;LV\\xd7\\x10e\\xb5\\x06\\x9a\\x9a\\xec\\xacz\\x92\\xc4m\\xd3\\xff\\x00\\xe5\\xa0\\x8c\\x1f\\x9c#\\xe7\\xc0P\\xd6\\xcb\\x8f2?[sD\\xbf3\\xfda\\xfe \\x0c\\xd6\\x0eGk9\\xf7\\xfd\\xaeT\\x8c\\x03cA\\xbb\\xc1\\xb0\\xecI\\xfd\\xd1\\x851fj\\xc85/\\xd1\\xc6\\xe0\\x03\\xbf(#\\xac\\xd3\\xbd\\xde#\\x0cJQ\\x1aB\\xc9\\x95\\xecJ\\xc2X#\\xe4*^\\xfc\\xbf\\x19\\xac\\xa9)\\x02\\xb0yq\\xc0q4\\xfa\\xc4I\\x1bvwp\\x91\\xe8/\\x0fhP8\\xbd\"\\xc9\\xe2\\xce\\xb5\\x97\\x89\\x106\\x14\\xbc\\x06\\x0c\\xe3G\\xdcL\\x184\\xd6\\x84YN\\xaaG\\xf3p\\xb5+\\x96H\\x7f\\xc9\\xa2\\xbf[zA\\xf7\\xbeT\\x19\\x97&\\xe2\\xf4+\\xacD\\xa0\\x8d\\xa01\\xe2\\x9dF\\xfc\\x9fK \\x82\\xbf\\xb8\\x9e\\xb3\"\\xaa\\xb9*\\x1b \\xcb\\xd6A\\x91S\\xf0I\\x18Pe\\x94a\\xef\\xf1\\x12\\xff\\x8f\\x8d\\x17\\x11\\x0b\\xfc\\xfc_\\xbfj\\x85\\xb4P\\xe7W\\xca%/Q(\\xfc1\\xdb\\xba\\xab\\xac\\\\\\x96U\\xa8\\xf4\\x8b\\xccvNTi,\\xa6P\\x08\\xe7\\xf1\\xc39r\\x96\\xcdz*\\xc3}\\x9b\\x96x\\x93\\xca\\xc9|$j\\xdd\\xcc?\\xda@\\x96K>X\\xef\\x12\\x83@S;)\\x9d.\\xae-=\\xf2\\xb1-\\x93\\xb7\\xa2~;&\\xe32\\x89\\xb8\\xa1&\\x7fF\\x02\\x870\\x8f_\\xe6\\xe1;:M\\']~x\\x0ei-\\x97_m\\xdd\\x11\\xa0!\\xf3\\x9c\\xcf\\xe2x\\x89\\xae\\x19\\x9d\\x80\\x9c@\\xe8\\xdc\\xb0\\xf3\\x89\\x92\\xe7\\xceu\\xae\\x04\\xfb)a\\xaa\\x1c{\\x9b[\\xa0Q\\x0e+.\\xbd\\xca\\xbd0,\\xd4\\xbb\\xa7\\xdd\\xac\\xd7\\x04\\x018\\xf5\\xda;\\x81*\\xe0\\xff\\xaf.`Z\\xfal\\x1b\\xf3*&,\\xa0\\xea\\xbfv\\xc3\\xb3\\xb8\\xf6\\x14\\xc0\\xdb\\xce\\x14\\x0e\\xe5C\\xad,\\xd4\\'\\x97\\xbf\\xdf\\xcb\\xff\\xbdb\\x893\\xb8\\xb3\\xdf&{\\xf6KoC\\xbc\\x17J\\xd1\\xac\\xe6V\\x1f\\t\\x19\\xee_KO\\xb8s\\x0cI\\x82%l\\xf9bo\\xa7C\\xd6\\xb6\\x03\\xb9\\xafQW\\xc9\\x07\\x16\\x0e\\x8f\\xccv\\x81\\x9e\\xac\\xdfZ\\x19\\x12\\xf9\\xe7\\x9c*\\xb8\\x8a\\xd3\\xc7\\x08\\xaa\\x1c\\x01eq\\x19\\xbfn\\x95\\xf5\\xf4_\\xe1\\xa2P:\\xb0.\\xf2\\x15\\x87.\\xff\\xb1d\\xfe\\x14\\xab\\xc6\\xf77\\x1e\\xe6\\x85\\xf7\\\\9\\xb0\\x16\"\\xbd\\xf9\"\\xcf\\x90\\x89&\\xc1\\xfa@\\x90L\\xa8W\\x8f\\xe6b\\xa0\\x9e\\xc5\\xec\\xfa\\x8c\\xa54/b\\x19TT-9\\x00:\\x93\\xe61\\x15\\x99\\xe7\\xc4\\xa3\\xdb\\xa3\\xf2P\\x19\\x13e\\xfb\\xb2)<EV\\xf0szm:\\x8c\\xfb\\xf3&\\xa0\\x1e\\xb3!\\xaa\\xb5\\xb8\\x97}\\x1eG\\x88X\\xd0\\xc1\\xd06\\xeaXN\\xbb\\x80j\\x88\\xe7\\x0f\\xbcSK\\x17\\x0ccQ\\xac\\x08\\xa4\\xd6\\xd2\\xa1Z=\\x8dj\\xf5\\x84\\xf8\\xe4Zr\\xb2:\\x0c\\xef|\\x08\\xa8Y\\x9e\\x91|p0\\xa06\\xdf\\r\\xae>6\\xd9j\\xae\\x8c\\xf2\\xbe\\x16N\\x08;sY\\xfb\\xb9\\xc5\\xa1[\\x96\\xf71\\xd1{\\xb53\\xba\\xad\\x89\\xcd\\xc3\\x88]XN>L\\xf5\\xac\\xc7\\xf8\\xdfw\\xdf>f\\xc4\\xad\\xe2&\\x14\\x06\\xfb\\x139S\\x13\\xf4\\x1a\\t\\xe8\\xe9E\\x1d\\x9c\\x9e/\\xb4 \\xb6\\xad\\xd0(_\\xf3\\xfb\\xcf\\xbc\\xa7g\\x08\\x1ej\\xf1c\\x07\\xeci\\x19\\x1a\\x95\\x13\\x94Q\\xec\\x8eA\\n\\xf8\\xe1\\xcbB{E\\x15)@S\\xd3-[(\\x97\\xea\\x11j\\r\\x95\\xf5\\xa8\\x16\\x10\\xbe,\\xef\\xf7\\xc2H\\xb0Y\\'N]jER\\x9f\\xf1\\x05\\\\\\xfe\\x84\\x02`\\xc9\\xea\\x13J\\xa5\\xce1D\\xc1\\x7fLH\\xe9\\xfe\\xde \\xec.\\xde\"\\xfc\\x11\\xfb\\x7f\\x08\\x1a\\xa6\\xdc\\xdc\\xbdI\\x11\\xe5\\xd7\\xdb\\x03W\\xc1\\xab\\x96i\\x06.\\x8f\\xcaq!L\\x19|\\xbf\\x8f\\x97\\xb2\\xff\\xc6\\xb3\\x11:\\xb3\\xa1\\x0cT\\xa5\\x9e0\\x9fm\\xe7<N \\xb7K\\x87\\xb3}\\x90|\\xe1c\\xad\\xeed\\xfem\\xa3B\\x84\\xf4T\\xa6<\\xd7B\\xf3\\x8d\\xc6\\xe1Lq\\xd0\\xf6^\\x0fs@a\\xaaT\\xb3\\xa3~Y\\x1f\\xff\\x82\\x08\\xc7\\xfa\\xa6\\xf1\\x12\\xb1\\x1b\\xd9\\xf6-a\\x99\\xcdgJ\\xf3\\x1d\\xfd\\xbd \\xb0Y\\xac\\x08\\xaa\\x8fm\\xd1\\x18\\x00\\xea\\x15ts\\xbf\\xeb\\xdfr%\\xa9\\xd1\\xafG\\xf4%\\xb0\\xcen\\t\\xb9le\\x1c\\xcd3[?!\\xad\\x95\\xba\\x7fT\\x97\\xcf\\xcd\\x9e\\xe5\\xb5\\xf6\\xac\\x80n\\x8a\\xa0h\\xf9\\xcap\\x82o]\\xcf#\\xbf\\xc2(\\xb37\\xb7\\x01*\\xa0\\xf2!\\xf5\\xcdv\\x16Hwx\\xda@\\x9bm\\x14\\xe0?\\xd4\\xeb\\xef\\xc5\\xac\\xcb\\x07\\xf5\\x85\\x92m\\x82\\xa4\\t\\xa8\\x81\\xa9\\xb1\\xa0u\\xeb\\x86\\xf9o\\xbc\\xfd\\x0c\\x9e\\xcf\\x81\\x0f\\xdd}f\\xda{A\\x886q\\xae\\xd6fP\\x86eH\\xdf\\xac\\xa5\\xefJ\\xa8C~ygU\\xfdf\\x99\\x8d7r`\\xcb\\x92;\\xfe\\x1c\\xb4\\xee\\x1a\\xcc*\\x81\\xd2*;\\xb2 \\xaa\\x8fh\\xc8\\xa6f\\xf1\\xb29\\xad\\xe9|\\xce\\x9f\\x9d \\xf5ZDz\\xf8]\\x8as+|\\x94\\xe5Hu\\x97\\x94\\xfa\\xad\\x96\\x0f>\\x1c\\xb7\\x15E\\xbdR\\xe5\\x9br\\xc6d\\xee\\xbfL\\xfes\\x94\\xd3\\xde\\r\\xdb\\xc9\\x7f2v\\x14\\xf0\\x95\\x87<\\xd0E\\xba@\\xa3/\\x8c\\xa3=\\xfb\\xea\\x06\\x85\\xc3\\x82\\x02\\t\\xbaf\\xdbqW;;X\\x7f\\x03M\\x04~`\\xa0\\x13\\xe7\\xf3Gg{G\\x19/\\x89\\x96\\x07\\x07:(\\xd8\\xd1\\xe7g\\xe3\\x89\\xd9\\xa4\\xa5\\x9a\\x1c\\x08\\xed\\x16XV\"p\\xc2^9_-IZ\\xcb\\xdfp/\\xa6n(@\\x80\\xc1\\xc9\\xe8\\x98I\\xa1\\x8a\\xb7\\r\\n+*\\xaf\\xef\\xeab\\xf0\\xdb\\xcd\\xff\\x1c\\x83\\xa5\\x13\\x87\\xda\\x18\\x84\\x83\\xdd\\x08e\\x7fb\\xc3\\xdc\\xdc\\xf7\\xd1\\x9fk\\xbe\\xd0\\xdc6\\x9f\\xf0\\xa8\\x8e\\n\\xfb\\xf3\\x16\\xef&)\\x14\\xbf\\x8c\\xe9\\xb6\\x841\\xcb\\xe1\\xdfq\\xdb\\x11\\xd78\\xa5\\x07x\\xa7\\x1d\\xfb\\xa4m\\xd4$5A\\xc0y\\xc28\\n\\x9f\\xe3\\xaf\\x0e[\\rb\\x10\\xda\\xaf\\xf5\\xb5\\xcdj\\xb7\\x90\\x0c\\xe4m\\xcf\\xc31\\xfa\\xa6m\\xee[\\xbf\\xa1\\xe6\\x8c2Cl]a\\xa0\\xae\\x9a\\xaa\\xaa\\xa7\\x9b\\xa0\\xd2\\xfcB\\x9b.\\n:D\\'h\\xffb\\rh\\xc5\\xbe\\xf5\\xa3k\\xe92\\x91\\xf3_n\\x1cOv\\xe0\\xf9\\xf6\\x06HZ\\x01\\xb0_-\\x07\\xde\\x17\\xeb{\\xaa\\xae\\x8b\\xa0\\x88\\xd2\\xc0=\\xee\\xf9a$o\\x90\\xa9\\xd4\\xa1\\xa4\\x90\\xbf\\xecV\\xb4Ip\\xd5\\xb7 {G\\xf4\\xa2\\x80\\xc8\\xed\\xddl\\xc0Y\\xb4\\x1c\\xb8\\xed\\x10\\xd0O\\xb0\\xa8\\xfbc\\x9a7\\xee\\xb2\\xc8F\\x00\\xbf<$c\\xea\\x9b\\x06.,\\x8eo\\xc3}tw\\x04\\x14t\\xc2\\xb6\\xa7^C\\x81gx\\xcf\\x12\\xfe\\xb4\\r\\x15\\xd5>\\xb6\\xec+j\\x01*B\\xf6\\xec\\xcf\\x05\\xce\\xf0\\xf8:\\xa8`\\xb3\\xc1\\x18A\\x1a\\xa2\\xf2J\\xc7.\\xce\\x89\\x9fp\"D\\xb2,\\x9b\"jgf!\\x19\\x87\\xcc_!\\x0e\\x0ba\\xa1\\xbe\\xbd|\\xf1\\xd4\\xa6S\\x00:Q\\x1b\\xaaq^\\xd4<\\x97\\x1fI\\x8eyKY \\xf5\\xd0\\x9e\\x87\\x01\\x87\\x85\\x9f\\x9f7\\xfb\\xe1\\x0c!\\xeb\\x90\"w\\xe3\\t\\x8f\\xe7\\xbdK\\x9bC+\\xbf\\xc9K\\xaaF\\x8a#\\xee\\xc5\\xa1\\x83\\x9a\\xa3-\\xaf\\xc7^\\x06p\\xacfm|\\xe7\\xe7D\\xafpr|D\\\\5\\'P\\xdck`T\\xd5\\xee\\x1eASP\\xd7\\xca\\x9a\\xaa\\xcbd:\\x82\\xd0Z\\x166\\x8c\\x9ek\\x1c\\xe76\\xd0\\xb6\\x16\\x1f{q\\x94q\\x80\\x9bj\\x93\\xa4q\\n\\xf1%\\xc3\\xc2\\xc1\\x84H!\\xd0\\x8e\\x98\\xd0\\n<a\\xc6\\xc9\\xe7\\xf5\\xed\\x7f\\x93+)\\xa4*C\\x03\\tq\\x98n\\xd3_\\x01<\\x92\\xfa\\xf6\\xeb\\xe4\\x1e \\xe0\\x12v\\\\\\xc8\\xbd\\xa4\\xab\\x02\\xff\\xf9\\xe9HY\\xb7\\x15\\x1f\\x9e\\xe8E\\xcf\\xe9\\xeb\\xb7a\\x81\\xa8!\"\\xdf\\xc8\\x1e\\x04Y\\x00\\xa5d\\xcb\\xdd\\xcfy\\x9e\\x17\\x00\\xbd\\xc8G\\xb9\\x07\\x16\\xaa\\xda#S\\x85\"!\\xe4\\x1f\\xcfI\\xd6Q\\x9e\\x93f\\\\\\xab\\xfb\\xa1\\x0c\\xc9i\\xc9\\xf2'\n"
          ]
        }
      ],
      "source": [
        "key = generate_random_aes_key()\n",
        "nonce = 100\n",
        "cipher_text = exec_CTR(plain_text, key, nonce)\n",
        "print(cipher_text)"
      ]
    },
    {
      "cell_type": "code",
      "execution_count": 52,
      "metadata": {},
      "outputs": [],
      "source": [
        "def edit(cipher_text: bytes, offset: int, newText: bytes):\n",
        "    plain_text = exec_CTR(cipher_text, key, nonce)\n",
        "    new_plain_text = plain_text[:offset] + newText + plain_text[offset:]\n",
        "    return exec_CTR(new_plain_text, key, nonce)"
      ]
    },
    {
      "cell_type": "code",
      "execution_count": 53,
      "metadata": {},
      "outputs": [
        {
          "name": "stdout",
          "output_type": "stream",
          "text": [
            "I'm back and I'm ringin' the bell \n",
            "A rockin' on the mike while the fly girls yell \n",
            "In ecstasy in the back of me \n",
            "Well that's my DJ Deshay cuttin' all them Z's \n",
            "Hittin' hard and the girlies goin' crazy \n",
            "Vanilla's on the mike, man I'm not lazy. \n",
            "\n",
            "I'm lettin' my drug kick in \n",
            "It controls my mouth and I begin \n",
            "To just let it flow, let my concepts go \n",
            "My posse's to the side yellin', Go Vanilla Go! \n",
            "\n",
            "Smooth 'cause that's the way I will be \n",
            "And if you don't give a damn, then \n",
            "Why you starin' at me \n",
            "So get off 'cause I control the stage \n",
            "There's no dissin' allowed \n",
            "I'm in my own phase \n",
            "The girlies sa y they love me and that is ok \n",
            "And I can dance better than any kid n' play \n",
            "\n",
            "Stage 2 -- Yea the one ya' wanna listen to \n",
            "It's off my head so let the beat play through \n",
            "So I can funk it up and make it sound good \n",
            "1-2-3 Yo -- Knock on some wood \n",
            "For good luck, I like my rhymes atrocious \n",
            "Supercalafragilisticexpialidocious \n",
            "I'm an effect and that you can bet \n",
            "I can take a fly girl and make her wet. \n",
            "\n",
            "I'm like Samson -- Samson to Delilah \n",
            "There's no denyin', You can try to hang \n",
            "But you'll keep tryin' to get my style \n",
            "Over and over, practice makes perfect \n",
            "But not if you're a loafer. \n",
            "\n",
            "You'll get nowhere, no place, no time, no girls \n",
            "Soon -- Oh my God, homebody, you probably eat \n",
            "Spaghetti with a spoon! Come on and say it! \n",
            "\n",
            "VIP. Vanilla Ice yep, yep, I'm comin' hard like a rhino \n",
            "Intoxicating so you stagger like a wino \n",
            "So punks stop trying and girl stop cryin' \n",
            "Vanilla Ice is sellin' and you people are buyin' \n",
            "'Cause why the freaks are jockin' like Crazy Glue \n",
            "Movin' and groovin' trying to sing along \n",
            "All through the ghetto groovin' this here song \n",
            "Now you're amazed by the VIP posse. \n",
            "\n",
            "Steppin' so hard like a German Nazi \n",
            "Startled by the bases hittin' ground \n",
            "There's no trippin' on mine, I'm just gettin' down \n",
            "Sparkamatic, I'm hangin' tight like a fanatic \n",
            "You trapped me once and I thought that \n",
            "You might have it \n",
            "So step down and lend me your ear \n",
            "'89 in my time! You, '90 is my year. \n",
            "\n",
            "You're weakenin' fast, YO! and I can tell it \n",
            "Your body's gettin' hot, so, so I can smell it \n",
            "So don't be mad and don't be sad \n",
            "'Cause the lyrics belong to ICE, You can call me Dad \n",
            "You're pitchin' a fit, so step back and endure \n",
            "Let the witch doctor, Ice, do the dance to cure \n",
            "So come up close and don't be square \n",
            "You wanna battle me -- Anytime, anywhere \n",
            "\n",
            "You thought that I was weak, Boy, you're dead wrong \n",
            "So come on, everybody and sing this song \n",
            "\n",
            "Say -- Play that funky music Say, go white boy, go white boy go \n",
            "play that funky music Go white boy, go white boy, go \n",
            "Lay down and boogie and play that funky music till you die. \n",
            "\n",
            "Play that funky music Come on, Come on, let me hear \n",
            "Play that funky music white boy you say it, say it \n",
            "Play that funky music A little louder now \n",
            "Play that funky music, white boy Come on, Come on, Come on \n",
            "Play that funky music \n",
            "\u0004\u0004\u0004\u0004\n"
          ]
        }
      ],
      "source": [
        "result = b''\n",
        "for i in range(0, len(cipher_text), 16):\n",
        "    xor_with_0 = edit(cipher_text, i, b'\\x00' * 16)\n",
        "    result += xor_bytes(xor_with_0[i:i+16], cipher_text[i:i+16])\n",
        "print(result.decode())"
      ]
    },
    {
      "attachments": {},
      "cell_type": "markdown",
      "metadata": {},
      "source": [
        "Challenge 26"
      ]
    },
    {
      "cell_type": "code",
      "execution_count": 54,
      "metadata": {},
      "outputs": [
        {
          "name": "stdout",
          "output_type": "stream",
          "text": [
            "b'\\x81\\xac|\\xaa+e\\x92\\x0b\\x83)[hk\\xfc\\x01\\x18:\\x89\\xea[\\xb2\\xfc{\\x07]\\x8a\\xb8\\xb1\\x1b\\xa0\\xdb-T\\x0b!O\\x84\\xb8\\x93\\x01\\xb9| \\xf9\\xee\\x14\\t\\x0b\\xf1\\x84\\x8b\\xfbR(X\\xe4\\xfc\\x0c\\xd3&\\xa5\\xbe\\xedb\\xe4 \\xa2\\xdbT\\xff\\x87\\xb1\\xe7\\xde\\x8e\\r\\x845?%\\xbf\\x1d\\xb1d`\\xd9W\\xfczK'\n",
            "[b'comment1=cooking', b'%20MCs;userdata=', b'AAAAAAAAAAAAAAAA', b';comment2=%20lik', b'e%20a%20pound%20', b'of%20bacon']\n",
            "comment1=cooking%20MCs;userdata=AAAAAAAAAAAAAAAA;comment2=%20like%20a%20pound%20of%20bacon\n",
            "False\n",
            "b\"T\\x0b!O\\x84\\xc2\\xb3$\\x95T\\x0f\\x85\\xdb'=/\"\n",
            "[b'comment1=cooking', b'%20MCs;userdata=', b'AAAAA;admin=true', b';comment2=%20lik', b'e%20a%20pound%20', b'of%20bacon']\n",
            "comment1=cooking%20MCs;userdata=AAAAA;admin=true;comment2=%20like%20a%20pound%20of%20bacon\n",
            "True\n"
          ]
        }
      ],
      "source": [
        "import challenge26 as c26\n",
        "encrypt = c26.encrypt_CTR_26('A' * 16)\n",
        "print(encrypt)\n",
        "print(c26.check_admin_26(encrypt))\n",
        "\n",
        "target_chunk = encrypt[2*block_size:3*block_size]\n",
        "target_chunk = xor_bytes(target_chunk, b'A'*16)\n",
        "target_chunk = xor_bytes(target_chunk, b'AAAAA;admin=true')\n",
        "print(target_chunk)\n",
        "print(c26.check_admin_26(encrypt[:2*block_size] + target_chunk + encrypt[3*block_size:]))"
      ]
    },
    {
      "attachments": {},
      "cell_type": "markdown",
      "metadata": {},
      "source": [
        "Challenge 27"
      ]
    },
    {
      "cell_type": "code",
      "execution_count": 55,
      "metadata": {},
      "outputs": [
        {
          "name": "stdout",
          "output_type": "stream",
          "text": [
            "key: b'\\xfd\\xcb{}\\xb0\\xcf\\x88F\\xac\\xa0O\\x10\\xd4+\\xbe\\x01'\n",
            "b'}\\xb9_\\x98\\x0e\\xbcnR\\xc9\\xc6s\\x84+F\\xbd\\x8f\\xa4\\x15)T&\\xe0\\x8d\\xdd\\x06\\x9b\\x11\\xb7\\xe4\\xf4\\x94]\\xbb\\xce\\xa5^\\xb8\\xebYW\\xfe(?\\xb1yi\\xec\\x92'\n",
            "[b'}\\xb9_\\x98\\x0e\\xbcnR\\xc9\\xc6s\\x84+F\\xbd\\x8f', b'\\xa4\\x15)T&\\xe0\\x8d\\xdd\\x06\\x9b\\x11\\xb7\\xe4\\xf4\\x94]', b'\\xbb\\xce\\xa5^\\xb8\\xebYW\\xfe(?\\xb1yi\\xec\\x92']\n",
            "eeeeeeeeeeeeeeeeeeeeeeeeeerror\n",
            "[b'thisisplaintext1', b'R5\\xb9o`A\\xbb\\xcc\\x89@,\\xc6\\n6\\xecl', b'\\x89\\xa3\\x12\\x0e\\xd9\\xbc\\xf8*\\xcd\\xc9!d\\xb1S\\xca0']\n",
            "You got the key! key: b'\\xfd\\xcb{}\\xb0\\xcf\\x88F\\xac\\xa0O\\x10\\xd4+\\xbe\\x01'\n"
          ]
        }
      ],
      "source": [
        "import challenge27 as c27\n",
        "\n",
        "key = generate_random_aes_key()\n",
        "print(f'key: {key}')\n",
        "plain_text = b'thisisplaintext1thisisplaintext2thisisplaintext'\n",
        "cipher_bytes = encrypt_CBC(plain_text, key, block_size, key)\n",
        "\n",
        "print(cipher_bytes)\n",
        "print_bytes(cipher_bytes)\n",
        "cipher_block_1 = cipher_bytes[:block_size]\n",
        "\n",
        "result = c27.decrypt_CBC_27(cipher_block_1 + b'\\x00' * 16 + cipher_block_1, key, block_size, key)\n",
        "print_bytes(result)\n",
        "\n",
        "result_key = xor_bytes(result[:block_size], result[block_size*2:])\n",
        "if (key == result_key):\n",
        "    print(f'You got the key! key: {result_key}')\n",
        "else:\n",
        "    print(f'boooooooooo, wrong key!')"
      ]
    },
    {
      "attachments": {},
      "cell_type": "markdown",
      "metadata": {},
      "source": [
        "Challenge 28"
      ]
    },
    {
      "cell_type": "code",
      "execution_count": 61,
      "metadata": {},
      "outputs": [],
      "source": [
        "import challenge28 as c28\n",
        "\n",
        "key = generate_random_aes_key()\n",
        "message = b'yeah!'\n",
        "\n",
        "MAC = c28.MAC(key, message)\n",
        "\n",
        "for i in range(100000):\n",
        "    key_guess = generate_random_aes_key()\n",
        "    MAC_guess = c28.MAC(key_guess, message)\n",
        "    if MAC == MAC_guess:\n",
        "        print(f'wtf?? u got same mac bro')"
      ]
    },
    {
      "cell_type": "code",
      "execution_count": 67,
      "metadata": {},
      "outputs": [
        {
          "name": "stdout",
          "output_type": "stream",
          "text": [
            "60.5 µs ± 1.18 µs per loop (mean ± std. dev. of 7 runs, 10,000 loops each)\n"
          ]
        }
      ],
      "source": [
        "%%timeit\n",
        "c28.MAC(key, message)"
      ]
    },
    {
      "attachments": {},
      "cell_type": "markdown",
      "metadata": {},
      "source": [
        "Challenge 29"
      ]
    },
    {
      "cell_type": "code",
      "execution_count": 120,
      "metadata": {},
      "outputs": [
        {
          "name": "stdout",
          "output_type": "stream",
          "text": [
            "65cc4c0b6cf9c56e2a2d801df1b99dc933db9991 65cc4c0b6cf9c56e2a2d801df1b99dc933db9991\n"
          ]
        }
      ],
      "source": [
        "# Verify MD padding\n",
        "import challenge29 as c29\n",
        "import sha1\n",
        "\n",
        "message = b'1234567890' * 1 + b'12345'\n",
        "result1 = sha1.sha1(message)\n",
        "\n",
        "sha1Hash = sha1.Sha1Hash()\n",
        "result2 = '%08x%08x%08x%08x%08x' % sha1Hash.update(c29.MD_padding(message))._h\n",
        "\n",
        "print(result1, result2)\n",
        "assert result1 == result2"
      ]
    },
    {
      "cell_type": "code",
      "execution_count": 123,
      "metadata": {},
      "outputs": [
        {
          "data": {
            "text/plain": [
              "(1872468723, 3446573962, 1942146510, 3548375541, 2452021885)"
            ]
          },
          "execution_count": 123,
          "metadata": {},
          "output_type": "execute_result"
        }
      ],
      "source": [
        "sha1.sha1(b'message', True)"
      ]
    },
    {
      "cell_type": "code",
      "execution_count": 181,
      "metadata": {},
      "outputs": [
        {
          "name": "stdout",
          "output_type": "stream",
          "text": [
            "wtf\n"
          ]
        }
      ],
      "source": [
        "original_message = b'comment1=cooking%20MCs;userdata=foo;comment2=%20like%20a%20pound%20of%20bacon'\n",
        "key = generate_random_aes_key()\n",
        "\n",
        "last_h = sha1.sha1(key + original_message, True)\n",
        "\n",
        "new_mssage = b';admin=true'\n",
        "mac_attack = '%08x%08x%08x%08x%08x' % sha1._process_chunk(c29.MD_padding(new_mssage), *last_h)\n",
        "\n",
        "# guess glue-padding\n",
        "for i in range(64):\n",
        "    glue_padding = c29.MD_padding(b'\\x00' * i + original_message)[i + len(original_message):]\n",
        "    message_client = original_message + glue_padding + new_mssage\n",
        "    mac_client = sha1.sha1(key + message_client)\n",
        "\n",
        "    if mac_attack == mac_client:\n",
        "        print(f'verified message! :{message_client}')\n",
        "        assert mac_attack == mac_client\n",
        "\n",
        "print('wtf')"
      ]
    }
  ],
  "metadata": {
    "colab": {
      "collapsed_sections": [
        "VgWZKmqA5A2d"
      ],
      "provenance": []
    },
    "kernelspec": {
      "display_name": "Python 3",
      "language": "python",
      "name": "python3"
    },
    "language_info": {
      "codemirror_mode": {
        "name": "ipython",
        "version": 3
      },
      "file_extension": ".py",
      "mimetype": "text/x-python",
      "name": "python",
      "nbconvert_exporter": "python",
      "pygments_lexer": "ipython3",
      "version": "3.9.13"
    },
    "vscode": {
      "interpreter": {
        "hash": "dfa0d92481204de1f000f2d094916401a48ca85a4631293a49e11de0cf616ec5"
      }
    }
  },
  "nbformat": 4,
  "nbformat_minor": 0
}
