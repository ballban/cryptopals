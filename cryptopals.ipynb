{
  "cells": [
    {
      "attachments": {},
      "cell_type": "markdown",
      "metadata": {
        "id": "QDzvInZ18CAv"
      },
      "source": [
        "# Initialize"
      ]
    },
    {
      "cell_type": "code",
      "execution_count": 1,
      "metadata": {
        "id": "T_Cy9cK_8_Hp"
      },
      "outputs": [],
      "source": [
        "# %pip install PyCryptoDome\n",
        "# %pip install requests"
      ]
    },
    {
      "cell_type": "code",
      "execution_count": 75,
      "metadata": {},
      "outputs": [
        {
          "name": "stdout",
          "output_type": "stream",
          "text": [
            "The autoreload extension is already loaded. To reload it, use:\n",
            "  %reload_ext autoreload\n"
          ]
        }
      ],
      "source": [
        "%load_ext autoreload\n",
        "%autoreload 2"
      ]
    },
    {
      "cell_type": "code",
      "execution_count": 3,
      "metadata": {
        "id": "J0HQLjD18Wod"
      },
      "outputs": [],
      "source": [
        "from utility import *"
      ]
    },
    {
      "attachments": {},
      "cell_type": "markdown",
      "metadata": {
        "id": "VgWZKmqA5A2d"
      },
      "source": [
        "# Set_1"
      ]
    },
    {
      "attachments": {},
      "cell_type": "markdown",
      "metadata": {
        "id": "KiuqGjpN8Do0"
      },
      "source": [
        "Challenge 1"
      ]
    },
    {
      "cell_type": "code",
      "execution_count": 4,
      "metadata": {
        "colab": {
          "base_uri": "https://localhost:8080/"
        },
        "id": "XFcs9Swb0-uF",
        "outputId": "8683c569-9ee4-4b8d-9468-7de288bf2aaa"
      },
      "outputs": [
        {
          "name": "stdout",
          "output_type": "stream",
          "text": [
            "11259432467145572969189485457381052543241507215288737798329079056359121649591228422793827173000297562297701340508013\n",
            "b\"I'm killing your brain like a poisonous mushroom\"\n",
            "b'SSdtIGtpbGxpbmcgeW91ciBicmFpbiBsaWtlIGEgcG9pc29ub3VzIG11c2hyb29t'\n"
          ]
        }
      ],
      "source": [
        "text = '49276d206b696c6c696e6720796f757220627261696e206c696b65206120706f69736f6e6f7573206d757368726f6f6d'\n",
        "ans = 'SSdtIGtpbGxpbmcgeW91ciBicmFpbiBsaWtlIGEgcG9pc29ub3VzIG11c2hyb29t'\n",
        "\n",
        "baseInt= int(text, 16)\n",
        "print(baseInt)\n",
        "\n",
        "bytes_text = bytes.fromhex(text)\n",
        "print(bytes_text)\n",
        "\n",
        "result = base64.b64encode(bytes_text)\n",
        "print(result)"
      ]
    },
    {
      "attachments": {},
      "cell_type": "markdown",
      "metadata": {
        "id": "Nk6OvCfb8GGF"
      },
      "source": [
        "Challenge 2"
      ]
    },
    {
      "cell_type": "code",
      "execution_count": 5,
      "metadata": {
        "colab": {
          "base_uri": "https://localhost:8080/"
        },
        "id": "koB7Udil0_wr",
        "outputId": "88d69ea1-645b-4d14-9a5c-2a727870ec14"
      },
      "outputs": [
        {
          "name": "stdout",
          "output_type": "stream",
          "text": [
            "b'\\x1c\\x01\\x11\\x00\\x1f\\x01\\x01\\x00\\x06\\x1a\\x02KSSP\\t\\x18\\x1c'\n",
            "b\"hit the bull's eye\"\n",
            "746865206b696420646f6e277420706c6179\n",
            "True\n"
          ]
        }
      ],
      "source": [
        "buffer1 = '1c0111001f010100061a024b53535009181c'\n",
        "buffer2 = '686974207468652062756c6c277320657965'\n",
        "ans = '746865206b696420646f6e277420706c6179'\n",
        "\n",
        "hex1 = bytes.fromhex(buffer1)\n",
        "hex2 = bytes.fromhex(buffer2)\n",
        "print(hex1)\n",
        "print(hex2)\n",
        "\n",
        "result = ''\n",
        "for i in range(len(hex1)):\n",
        "    result += str(hex(hex1[i] ^ hex2[i]))[2:]\n",
        "\n",
        "print(result)\n",
        "print(result == ans)"
      ]
    },
    {
      "attachments": {},
      "cell_type": "markdown",
      "metadata": {
        "id": "_Fi0zxze8Hzd"
      },
      "source": [
        "Challenge 3"
      ]
    },
    {
      "cell_type": "code",
      "execution_count": 6,
      "metadata": {
        "colab": {
          "base_uri": "https://localhost:8080/"
        },
        "id": "rQZhXKK61A6q",
        "outputId": "3d7efe13-adf3-4bfc-9636-638fa868a1b0"
      },
      "outputs": [
        {
          "name": "stdout",
          "output_type": "stream",
          "text": [
            "(253.58, \"Cooking MC's like a pound of bacon\", 88)\n"
          ]
        }
      ],
      "source": [
        "import challenge3 as c\n",
        "text = '1b37373331363f78151b7f2b783431333d78397828372d363c78373e783a393b3736'\n",
        "print(c.try_decrypt(text))"
      ]
    },
    {
      "attachments": {},
      "cell_type": "markdown",
      "metadata": {
        "id": "AzVweq4OEJzP"
      },
      "source": [
        "Challenge 4"
      ]
    },
    {
      "cell_type": "code",
      "execution_count": 7,
      "metadata": {
        "id": "NE12WsZB2j3C"
      },
      "outputs": [],
      "source": [
        "text_list = get_txt_from_url(\"https://cryptopals.com/static/challenge-data/4.txt\")"
      ]
    },
    {
      "cell_type": "code",
      "execution_count": 8,
      "metadata": {
        "colab": {
          "base_uri": "https://localhost:8080/"
        },
        "id": "9yt9hTgwu8DU",
        "outputId": "e3cb692a-858f-4ca3-b04e-3ab854aaba15"
      },
      "outputs": [
        {
          "name": "stdout",
          "output_type": "stream",
          "text": [
            "(219.54, 'Now that the party is jumping\\n', 53)\n",
            "(113.89, '[$LrLi;hsDbv!5 j$OaEfG=>rKDl=S', 109)\n",
            "(113.15, 'wpUs{gnns F8b-aT2*zRAh{Gj>xuED', 98)\n",
            "(109.14, \"iu`'ern.&nZeM,MjT\\x0b:FD~i5+OyEmL\", 113)\n",
            "(105.79, 'Sw6XSo$^uWyP$C{iUCns3e?E` /]GZ', 108)\n",
            "(90.35, 'T2XNi-]1rTIYbP/>2`o%%]T5JonmqA', 99)\n",
            "(70.12, ']$4OFs>\\\\YQ#\\nK9y?IT4PeNWTxFqc0\\r', 103)\n",
            "(70.01, '\\\\`)]^o}me|~#Am~t[dbF.tq\\x0bmAWM|~', 114)\n",
            "(0, \"\\x0e6GèY-5QJ\\x08\\x12CX%6í=æs@Y\\x00\\x1e?S\\\\æ'\\x102\", 0)\n",
            "(0, '3K\\x04\\x1dá$÷<\\x18\\x01\\x1aPæ\\x08\\tzÃ\\x08ìîP\\x137ì>\\x10\\x08T \\x1d', 0)\n"
          ]
        }
      ],
      "source": [
        "import challenge3 as c3\n",
        "\n",
        "decrypt_list = []\n",
        "for text in text_list:\n",
        "  decrypt_list.append(c3.try_decrypt(text))\n",
        "result = sorted(decrypt_list, key=lambda x:x[0], reverse=True)\n",
        "print(*result[:10], sep=\"\\n\")"
      ]
    },
    {
      "attachments": {},
      "cell_type": "markdown",
      "metadata": {
        "id": "hJpjzikzEQhc"
      },
      "source": [
        "Challenge 5"
      ]
    },
    {
      "cell_type": "code",
      "execution_count": 9,
      "metadata": {
        "colab": {
          "base_uri": "https://localhost:8080/"
        },
        "id": "U7NkCqwxESH-",
        "outputId": "6b71ceed-f363-40a1-a35d-df95ad740b38"
      },
      "outputs": [
        {
          "name": "stdout",
          "output_type": "stream",
          "text": [
            "0b3637272a2b2e63622c2e69692a23693a2a3c6324202d623d63343c2a26226324272765272a282b2f20430a652e2c652a3124333a653e2b2027630c692b20283165286326302e27282f\n"
          ]
        }
      ],
      "source": [
        "import challenge5 as c\n",
        "\n",
        "text = '''Burning 'em, if you ain't quick and nimble\n",
        "I go crazy when I hear a cymbal'''\n",
        "\n",
        "key = 'ICE'\n",
        "print(c.encrypt(text, key).hex())\n"
      ]
    },
    {
      "attachments": {},
      "cell_type": "markdown",
      "metadata": {
        "id": "3Nv7GmeVHoJK"
      },
      "source": [
        "Challenge 6"
      ]
    },
    {
      "cell_type": "code",
      "execution_count": 10,
      "metadata": {
        "id": "h_r6y43SHrCH"
      },
      "outputs": [],
      "source": [
        "text_list = get_txt_from_url(\"https://cryptopals.com/static/challenge-data/6.txt\")"
      ]
    },
    {
      "cell_type": "code",
      "execution_count": 11,
      "metadata": {
        "colab": {
          "base_uri": "https://localhost:8080/"
        },
        "id": "JEYx1gNA5uXr",
        "outputId": "170f0fb6-6484-4f40-a72c-d02006e75224"
      },
      "outputs": [
        {
          "name": "stdout",
          "output_type": "stream",
          "text": [
            "b'\\x1dB\\x1fM\\x0b\\x0f\\x02\\x1fO\\x13N<\\x1aie\\x1fI\\x1c\\x0eN\\x13\\x01\\x0b\\x07N\\x1b\\x01\\x16E6\\x00\\x1e\\x01Id T\\x1d\\x1dC3SNeR\\x06\\x00GT\\x1c\\rEM\\x07\\x04\\x0cS\\x12<\\x0c\\x1e\\x08I\\x1a\\t\\x11O\\x14L!\\x1aG+\\x00\\x05\\x1dGY\\x11\\x04\\t\\x00d&\\x07S\\x007\\x16\\x06\\x0c\\x1a\\x17A\\x1d\\x01RT0_\\x00 \\x13\\n\\x05GO\\x12H\\x08ENe>\\x16\\t8E\\x06\\x05\\x08\\x1aF\\x07O\\x1fYx~jb6\\x0c\\x1d\\x0fA\\rH\\x06U\\x1a\\x1b\\x00\\x1dBt\\x04\\x1e\\x01I\\x1a\\t\\x11\\x02Rz\\x7fI\\x00H:\\x00\\x1a\\x13I\\x1aOEH\\x0f\\x1d\\rS\\x04:\\x01R\\x19\\x01\\x0bA\\x13\\x06\\x00L1_Sb\\x15\\x06\\x07\\t\\x07T\\x0b\\x17A\\x14\\x16Iy35\\x0b\\x1b\\x01\\x05\\x0fF\\x07O\\x1dNxNH\\'R\\x04\\x07\\x0cEXH\\x08A\\x00O T\\x08t\\x0b\\x1d\\x19I\\x02\\x00\\x0e\\x16\\\\\\x00R0ie\\x1fI\\x02\\x02T\\x00\\x01\\x0b\\x07N\\x02\\x10S\\x01&\\x10\\x15M\\x02\\x07\\x02\\x1fO\\x1bNx0i6R\\n\\x01\\tT\\x06\\x07\\tSN\\x02\\x10S\\x08;\\x10\\x06\\x05I\\x0f\\x0f\\x10O;\\x00:_G+\\x1cId3OT\\x02\\x10S\\x1aO\\x05\\x16\\x11t\\x0c\\x06M\\x0f\\x02\\x0e\\x03CRL=N\\x00/\\x0bI\\r\\x08N\\x17\\r\\x15T\\x1dO\\x0e\\x1cE^(\\x0bM\\x19\\x01\\x12\\x07\\nUSxNOb\\x06\\x01\\x0bGS\\x1d\\x0c\\x00\\x00\\x17\\n\\x05\\x1f\\x0c:B^M.\\x01A\"\\x0e\\x1cI4VAb5\\x06OG*~;\\x08O\\x01\\x1b\\x01SB7\\x04\\x07\\x1e\\x0cN\\x15\\x1c\\x0e\\x06\\x07+\\x1aT*\\x17I\\x19\\x06YT!EW\\x07\\x03\\x05S\\x071Ex,\\x07\\nA\\x1d\\tRY7O\\x00&\\x1d\\x07I\\x13\\x00\\x13\\x01\\x13EN\\x0eI\\x17\\x049\\x0b^M\\x1d\\x06\\x04\\x1aOxw0C\\x00;\\x1d\\x1cN\\x14T\\x15\\x1a\\x0cNIO\\x08\\x07E9\\x00Rg:\\x01A\\x13\\n\\x06\\x007\\\\FbU\\n\\x0f\\x12S\\x11H,\\x00\\r\\x00\\x07\\x07\\x17;\\tR\\x19\\x01\\x0bA\\x07\\x1b\\x13G=\\x1a*\\x16\\x1a\\x0c\\x1c\\x02\\x07\\x07H\\x0bON\\x0b\\x00\\x00\\x16=\\x0bUM\\x08\\x02\\r\\x1b\\x18\\x17Dx0ie\\x1fI\\x07\\t\\x00\\x19\\x11EO\\x19\\x01I\\x03\\r5\\x16\\x17Mc:\\t\\x11O\\x15I*VI\\'\\x01I\\x1d\\x06\\x00\\rH\\x11H\\x0b\\x16I\\x1f\\n\"\\x00R\\x00\\x0cN\\x00\\x1a\\x0bRT0[Tb\\x1b\\x1aN\\x08KTb$N\\nO S\\x065\\x0bR\\t\\x08\\x00\\x02\\x11O\\x10E,NE0R\\x1d\\x06\\x06NT\\t\\x0bYN\\x04\\x00\\x17E:BR\\x1d\\x05\\x0f\\x18Texs,[G\\'R[NJ\\rT1\\x00AN\\x1b\\x01\\x16E;\\x0b\\x17M\\x10\\x0fFT\\x18\\x13N6[\\x00.\\x1b\\x1a\\x1a\\x02NT\\x1c\\n\\x00d&\\x1dT\\x16t\\n\\x14\\x0bI\\x03\\x18T\\x07\\x17A<\\x1aS-R\\x05\\x0b\\x13\\x00\\x00\\x00\\x00\\x00\\x0c\\n\\x08\\x07E$\\t\\x13\\x14I\\x1a\\t\\x06\\x00\\x07G0\\x1a*\\x11\\x1dI\\'GC\\x15\\x06EF\\x1b\\x01\\x02S\\x0c E\\x07\\x1dI\\x0f\\x0f\\x10O\\x1fA3_\\x00+\\x06I\\x1d\\x08U\\x1a\\x0cEG\\x01\\x00\\rSoeH@@ZN8\\x1bO_\\rxqN-\\x11\\x02N\\x08NT\\x1b\\nM\\x0bO\\x1e\\x1c\\n0Ex+\\x06\\x1cA\\x13\\x00\\x1dDxVU!\\x19EN.\\x00\\x18\\x01\\x0eEN\\x02\\x10S\\x17<\\x1c\\x1f\\x08\\x1aN\\x00\\x00\\x1d\\x1dC1UU1Rc=\\x12P\\x11\\x1a\\x06A\\x02\\x0e\\x0f\\x01\\x043\\x0c\\x1e\\x04\\x1a\\x1a\\x08\\x17\\n\\nP1[L+\\x16\\x06\\r\\x0eO\\x01\\x1bE*\\'H\\x04S\\x04:E\\x17\\x0b\\x0f\\x0b\\x02\\x00O\\x13N<\\x1aT*\\x13\\x1dN\\x1eO\\x01H\\x06A\\x00O\\x0b\\x16\\x11to;M\\n\\x0f\\x0fT\\x1b\\x13K=\\x1aAb\\x14\\x05\\x17GG\\x1d\\x1a\\t\\x00\\x0f\\x01\\rS\\x085\\x0e\\x17M\\x01\\x0b\\x13T\\x18\\x17Tv\\x1a*H;N\\x03GL\\x1d\\x03\\x00\\x00=\\x0e\\x04\\x00\\n:E_@I=\\x00\\x19\\x1c\\x1dNxNOb6\\x0c\\x02\\x0eL\\x15\\x00E*:\\x07\\x0c\\x01\\x00s\\x16R\\x03\\x06N\\x05\\x11\\x01\\x0bI6\\x1d\\x0cb+\\x06\\x1bGC\\x15\\x06ET\\x1c\\x16I\\x07\\nt\\r\\x13\\x03\\x0eNk6\\x1a\\x06\\x00!UUe\\x1e\\x05N\\x0cE\\x11\\x18ET\\x1c\\x16\\x00\\x1dBt\\x11\\x1dM\\x0e\\x0b\\x15T\\x02\\x0b\\x00+NY.\\x17Id(V\\x11\\x1aEA\\x00\\x0bI\\x1c\\x131\\x17^M\\x19\\x1c\\x00\\x17\\x1b\\x1bC=\\x1aM#\\x19\\x0c\\x1dGP\\x11\\x1a\\x03E\\r\\x1bIy\\'!\\x11R\\x03\\x06\\x1aA\\x1d\\tRY7O\\x070\\x17I\\x0fGL\\x1b\\t\\x03E\\x1cAIyo\\r\\n\\x07J\\x05\\x02A\\x13\\n\\x06\\x006UW*\\x17\\x1b\\x0bK\\x00\\x1a\\x07EP\\x02\\x0e\\n\\x16It\\x0b\\x1dM\\x1d\\x07\\x0c\\x11CRN7\\x1aG+\\x00\\x05\\x1dG*\\'\\x07\\nNNBDS*<E\\x1f\\x14I)\\x0e\\x10CRH7WE \\x1d\\r\\x17K\\x00\\r\\x07\\x10\\x00\\x1e\\x1d\\x06\\x11\\x046\\t\\x0bM\\x0c\\x0f\\x15Te!P9]H\\'\\x06\\x1d\\x07GW\\x1d\\x1c\\r\\x00\\x0fO\\x1a\\x03\\n;\\x0bSM*\\x01\\x0c\\x11O\\x1dNx[N&R\\x1a\\x0f\\x1e\\x00\\x1d\\x1cD\\x00de?:5zE$\\x0c\\x07\\x07\\r\\x18\\x0eRi;_\\x00;\\x17\\x19BGY\\x11\\x18I\\x00\\'H\\x04S\\x06;\\x08\\x1b\\x03NN\\t\\x15\\x1d\\x16\\x004SK\\'R\\x08N\\x15H\\x1d\\x06\\n\\x00d&\\x07\\x07\\n,\\x0c\\x11\\x0c\\x1d\\x07\\x0f\\x13O\\x01OxCO7R\\x1a\\x1a\\x06G\\x13\\r\\x17\\x00\\x02\\x06\\x02\\x16E5E\\x05\\x04\\x07\\x01A~<\\x1d\\x00(ON)\\x01I\\x1d\\x13O\\x04H\\x11R\\x17\\x06\\x07\\x14E5\\x0b\\x16M\\x0e\\x07\\x13\\x18O\\x01T7J\\x00!\\x00\\x10\\x07\\t\\x07Tb3A\\x00\\x06\\x05\\x1f\\x04t,\\x11\\x08I\\x07\\x12T\\x1c\\x17L4SNeR\\x08\\x00\\x03\\x00\\r\\x07\\x10\\x00\\x1e\\n\\x06\\x03\\t1E\\x13\\x1f\\x0cN\\x03\\x01\\x16\\x1bN\\x7f\\x1a*e1\\x08\\x1b\\x14ET\\x1f\\rYN\\x1b\\x01\\x16E2\\x17\\x17\\x0c\\x02\\x1dA\\x15\\x1d\\x17\\x002UC)\\x1b\\x07IGL\\x1d\\x03\\x00\\x00-\\x1d\\x08\\t\\x1ct\"\\x1e\\x18\\x0cNk9\\x00\\x04I6\\x1d\\x00#\\x1c\\rN\\x00R\\x1b\\x07\\x13I\\x00HI\\x07\\x17-\\x0c\\x1c\\nI\\x1a\\x0eT\\x1c\\x1bN?\\x1aA.\\x1d\\x07\\tG*5\\x04\\t\\x00\\x1a\\x07\\x1b\\x1c\\x103\\rR\\x19\\x01\\x0bA\\x13\\x07\\x17T,U\\x00%\\x00\\x06\\x01\\x11I\\x1aOET\\x06\\x06\\x1aS\\r1\\x17\\x17M\\x1a\\x01\\x0f\\x13Oxn7M\\x00;\\x1d\\x1cI\\x15ET\\t\\x08A\\x14\\n\\rS\\x07-E\\x06\\x05\\x0cN7=?RP7IS\\'\\\\Idms\\x00\\r\\x15P\\x07\\x01NS\\x16;E\\x1a\\x0c\\x1b\\nA\\x18\\x06\\x19Ex[\\x00\\x05\\x17\\x1b\\x03\\x06NT&\\x04Z\\x07Oc \\x115\\x17\\x06\\x01\\x0c\\nA\\x16\\x16RT0_\\x00 \\x13\\x1a\\x0b\\x14\\x00\\x1c\\x01\\x11T\\x07\\x01NS\\x02&\\n\\x07\\x03\\rNk \\x07\\x17R=\\x1dSb\\x1c\\x06N\\x13R\\x1d\\x18\\x15I\\x00HI\\x1c\\x0bt\\x08\\x1b\\x03\\x0cBA=H\\x1f\\x002OS6R\\x0e\\x0b\\x13T\\x1d\\x06B\\x00\\n\\x00\\x1e\\x1dE^6\\x02\\x0c\\x1b\\x05\\x00\\x19\\x0e\\x06I;\\x16\\x00\\x0bU\\x04N\\x0fA\\x1a\\x0f\\x0cNIO\\x1d\\x1a\\x02<\\x11R\\x01\\x00\\x05\\x04T\\x0eRF9TA6\\x1b\\nNmy\\x1b\\x1dET\\x1c\\x0e\\x19\\x03\\x000E\\x1f\\x08I\\x01\\x0f\\x17\\nRA6^\\x00\\x0bR\\x1d\\x06\\x08U\\x13\\x00\\x11\\x00\\x1a\\x07\\x08\\x07E^<\\x1d\\x18I\\x03\\x08\\x13\\x07\\x06\\x000[V\\'R\\x00\\x1aG*\\'\\x07ES\\x1a\\n\\x19S\\x01;\\x12\\x1cM\\x08\\x00\\x05T\\x03\\x17N<\\x1aM\\'R\\x10\\x01\\x12RT\\r\\x04RNeNK\\\\t\\x0c\\x1cM\\x04\\x17A\\x00\\x06\\x1fEy\\x1ay-\\x07EN@\\x19DH\\x0cSN\\x02\\x10S\\x1c1\\x04\\x00CIdk-\\x00\\x07\\x07*_\\x005\\x17\\x08\\x05\\x02N\\x1d\\x06B\\x00\\x08\\x0e\\x1a\\x07It<=LI\\x0f\\x0f\\x10O;\\x00;[Nb\\x06\\x0c\\x02\\x0b\\x00\\x1d\\x1cE*7\\x00\\x1c\\x01E6\\n\\x16\\x14N\\x1dA\\x13\\n\\x06T1T\\x07b\\x1a\\x06\\x1aK\\x00\\x07\\x07I\\x00\\x1d\\x00I:E7\\x04\\x1cM\\x1a\\x03\\x04\\x18\\x03RI,\\x1a*\\x11\\x1dI\\n\\x08NS\\x1cEB\\x0bO\\x04\\x12\\x01t\\x04\\x1c\\tI\\n\\x0e\\x1aH\\x06\\x00:_\\x001\\x13\\rNm\\x077\\t\\x10S\\x0bO\\x1d\\x1b\\x00t\\t\\x0b\\x1f\\x00\\r\\x12T\\r\\x17L7TGb\\x06\\x06N.c1DEy\\x01\\x1aI\\x10\\x04:E\\x11\\x0c\\x05\\x02A\\x19\\nRd9^\\x00H+\\x06\\x1b@R\\x11H\\x15I\\x1a\\x0c\\x01\\x1a\\x0bsE\\x13M\\x0f\\x07\\x15XO\\x01OxIT\\'\\x02I\\x0c\\x06C\\x1fH\\x04N\\nO\\x0c\\x1d\\x01!\\x17\\x17Mc\"\\x04\\x00O\\x06H=\\x1aW+\\x06\\n\\x06GD\\x1b\\x0b\\x11O\\x1cCI:\\x061IR\\t\\x06N\\x15\\x1c\\nRD9TC\\'R\\x1d\\x01GC\\x01\\x1a\\x00\\x00d<\\x06S\\x06;\\x08\\x17M\\x1c\\x1eA\\x17\\x03\\x1dS=\\x1aA,\\x16I\\n\\x08NS\\x1cEB\\x0bO\\x1a\\x02\\x105\\x17\\x17Mc7\\x0e\\x01O\\x05A6TAb\\x10\\x08\\x1a\\x13L\\x11H\\x08ENBDS$:\\x1c\\x06\\x04\\x04\\x0bMT\\x0e\\x1cY/RE0\\x17Idmy\\x1b\\x1dET\\x06\\x00\\x1c\\x14\\r E\\x06\\x05\\x08\\x1aA=O\\x05A+\\x1aW\\'\\x13\\x02BGb\\x1b\\x11I\\x00\\x17\\x00\\x1cT\\x171E\\x16\\x08\\x08\\nA\\x03\\x1d\\x1dN?\\x1a*\\x11\\x1dI\\r\\x08M\\x11H\\nNBO\\x0c\\x05\\x00&\\x1c\\x10\\x02\\r\\x17A\\x15\\x01\\x16\\x00+SN%R\\x1d\\x06\\x0eST\\x1b\\nN\\tOcy65\\x1cR@DN1\\x18\\x0e\\x0b\\x00,RA6R\\x0f\\x1b\\tK\\rH\\x08U\\x1d\\x06\\nS65\\x1c^M\\x0e\\x01A\\x03\\x07\\x1bT=\\x1aB-\\x0bEN\\x00OT\\x1f\\rI\\x1a\\nI\\x11\\n-E\\x15\\x02Id\\x11\\x18\\x0e\\x0b\\x00,RA6R\\x0f\\x1b\\tK\\rH\\x08U\\x1d\\x06\\nS\";E\\x05\\x05\\x00\\x1a\\x04T\\r\\x1dYt\\x1aG-R\\x1e\\x06\\x0eT\\x11H\\x07O\\x17CI\\x14\\nto>\\x0c\\x10N\\x05\\x1b\\x18\\x1c\\x009TDb\\x10\\x06\\x01\\x00I\\x11H\\x04N\\nO\\x19\\x1f\\x04-E\\x06\\x05\\x08\\x1aA\\x12\\x1a\\x1cK!\\x1aM7\\x01\\x00\\rGT\\x1d\\x04\\t\\x00\\x17\\x00\\x1cS\\x01=\\x00\\\\Mcd1\\x18\\x0e\\x0b\\x00,RA6R\\x0f\\x1b\\tK\\rH\\x08U\\x1d\\x06\\nS&;\\x08\\x17M\\x06\\x00MT,\\x1dM=\\x1aO,^I\\x02\\x02TT\\x05\\x00\\x00\\x06\\n\\x08\\x01E^5\\x1e\\x0c\\x10N\\x15\\x1c\\x0e\\x06\\x00>ON)\\x0bI\\x03\\x12S\\x1d\\x0bEW\\x06\\x06\\x1d\\x16E6\\n\\x0bM\\x10\\x01\\x14T\\x1c\\x13YxSTnR\\x1a\\x0f\\x1e\\x00\\x1d\\x1cE*>\\x03\\x08\\nE \\r\\x13\\x19I\\x08\\x14\\x1a\\x04\\x0b\\x005OS+\\x11I/GL\\x1d\\x1c\\x11L\\x0bO\\x05\\x1c\\x100\\x00\\x00M\\x07\\x01\\x16Te\"L9C\\x006\\x1a\\x08\\x1aGF\\x01\\x06\\x0eYN\\x02\\x1c\\x00\\x0c7IR\\x1a\\x01\\x07\\x15\\x11O\\x10O!\\x1ac-\\x1f\\x0cN\\x08NXH&O\\x03\\nI\\x1c\\x0bxE1\\x02\\x04\\x0bA\\x1b\\x01R*\\x08VA;R\\x1d\\x06\\x06TT\\x0e\\x10N\\x05\\x16I\\x1e\\x10\\'\\x0c\\x11Mc'\n",
            "2876\n"
          ]
        }
      ],
      "source": [
        "text = \"\".join(text_list)\n",
        "text = base64.b64decode(text)\n",
        "\n",
        "print(text)\n",
        "print(len(text))"
      ]
    },
    {
      "cell_type": "code",
      "execution_count": 12,
      "metadata": {
        "colab": {
          "base_uri": "https://localhost:8080/"
        },
        "id": "D9KTX2D-KaAC",
        "outputId": "ef91ed12-3332-4836-f02f-709fccabfe20"
      },
      "outputs": [
        {
          "name": "stdout",
          "output_type": "stream",
          "text": [
            "for using 2 chunk, best 5 scores are : [(2, 2.25), (5, 2.3), (3, 2.3333333333333335), (18, 2.8333333333333335), (20, 2.85)]\n",
            "for using 3 chunk, best 5 scores are : [(2, 2.0), (3, 2.6666666666666665), (29, 2.793103448275862), (5, 2.8), (18, 2.9444444444444446)]\n",
            "for using 4 chunk, best 5 scores are : [(2, 2.25), (5, 2.6), (29, 2.8189655172413794), (3, 2.8333333333333335), (18, 3.0555555555555554)]\n",
            "for using 5 chunk, best 5 scores are : [(2, 2.4), (5, 2.52), (3, 2.8000000000000003), (29, 2.8344827586206898), (31, 3.0258064516129033)]\n",
            "for using 6 chunk, best 5 scores are : [(2, 2.5833333333333335), (5, 2.7), (3, 2.8333333333333335), (29, 2.8563218390804597), (18, 3.0185185185185186)]\n",
            "for using 7 chunk, best 5 scores are : [(5, 2.7142857142857144), (29, 2.8226600985221677), (3, 2.857142857142857), (15, 2.99047619047619), (18, 3.0238095238095237)]\n",
            "for using 8 chunk, best 5 scores are : [(5, 2.775), (29, 2.8189655172413794), (3, 2.8333333333333335), (2, 3.0), (15, 3.0833333333333335)]\n",
            "for using 9 chunk, best 5 scores are : [(29, 2.739463601532567), (5, 2.844444444444444), (3, 3.0), (15, 3.051851851851852), (2, 3.0555555555555554)]\n",
            "for using 10 chunk, best 5 scores are : [(29, 2.7586206896551726), (5, 2.84), (15, 2.9866666666666664), (31, 3.103225806451613), (9, 3.1222222222222222)]\n",
            "for using 11 chunk, best 5 scores are : [(29, 2.7460815047021945), (5, 2.8727272727272726), (15, 2.987878787878788), (31, 3.087976539589443), (2, 3.090909090909091)]\n",
            "for using 12 chunk, best 5 scores are : [(29, 2.7413793103448274), (5, 2.916666666666667), (15, 3.0055555555555555), (31, 3.0698924731182795), (2, 3.0833333333333335)]\n",
            "for using 13 chunk, best 5 scores are : [(29, 2.742705570291777), (5, 2.9846153846153847), (15, 2.9948717948717944), (31, 3.0843672456575684), (40, 3.1192307692307693)]\n",
            "for using 14 chunk, best 5 scores are : [(29, 2.7610837438423643), (5, 2.9857142857142858), (15, 3.019047619047619), (2, 3.0357142857142856), (31, 3.0944700460829493)]\n",
            "for using 15 chunk, best 5 scores are : [(29, 2.7724137931034485), (5, 2.92), (2, 3.0), (15, 3.0266666666666664), (31, 3.1118279569892473)]\n",
            "for using 16 chunk, best 5 scores are : [(29, 2.7672413793103448), (5, 2.9625), (2, 3.0), (15, 3.033333333333333), (31, 3.1330645161290325)]\n",
            "for using 17 chunk, best 5 scores are : [(29, 2.7768762677484786), (5, 2.9176470588235293), (15, 3.015686274509804), (2, 3.0588235294117645), (31, 3.132827324478179)]\n",
            "for using 18 chunk, best 5 scores are : [(29, 2.7739463601532566), (5, 2.966666666666667), (15, 3.003703703703704), (2, 3.0833333333333335), (31, 3.14336917562724)]\n",
            "for using 19 chunk, best 5 scores are : [(29, 2.7749546279491835), (5, 2.957894736842105), (15, 2.9964912280701754), (2, 3.1315789473684212), (31, 3.134125636672326)]\n",
            "for using 20 chunk, best 5 scores are : [(29, 2.7603448275862066), (5, 2.98), (15, 3.003333333333333), (2, 3.1), (40, 3.1425)]\n",
            "for using 21 chunk, best 5 scores are : [(29, 2.7881773399014778), (5, 2.9904761904761905), (15, 3.0349206349206352), (3, 3.079365079365079), (25, 3.1276190476190475)]\n",
            "for using 22 chunk, best 5 scores are : [(29, 2.7774294670846396), (5, 3.009090909090909), (15, 3.0575757575757576), (9, 3.090909090909091), (3, 3.1363636363636362)]\n",
            "for using 23 chunk, best 5 scores are : [(29, 2.7556221889055474), (5, 3.008695652173913), (15, 3.0579710144927534), (9, 3.120772946859903), (40, 3.141304347826087)]\n",
            "for using 24 chunk, best 5 scores are : [(29, 2.755747126436782), (5, 2.958333333333333), (15, 3.0527777777777776), (9, 3.0833333333333335), (3, 3.125)]\n",
            "for using 25 chunk, best 5 scores are : [(29, 2.7600000000000002), (5, 3.0), (15, 3.0773333333333333), (9, 3.088888888888889), (40, 3.143)]\n",
            "for using 26 chunk, best 5 scores are : [(29, 2.7599469496021216), (5, 3.0692307692307694), (9, 3.0854700854700856), (15, 3.08974358974359), (3, 3.128205128205128)]\n",
            "for using 27 chunk, best 5 scores are : [(29, 2.749680715197957), (15, 3.0864197530864197), (5, 3.088888888888889), (9, 3.1069958847736623), (3, 3.123456790123457)]\n",
            "for using 28 chunk, best 5 scores are : [(29, 2.769704433497537), (15, 3.0833333333333335), (5, 3.107142857142857), (9, 3.107142857142857), (20, 3.1339285714285716)]\n",
            "for using 29 chunk, best 5 scores are : [(29, 2.7776456599286563), (15, 3.0873563218390805), (9, 3.099616858237548), (3, 3.1149425287356323), (20, 3.136206896551724)]\n",
            "for using 30 chunk, best 5 scores are : [(29, 2.7770114942528736), (15, 3.0955555555555554), (3, 3.111111111111111), (20, 3.1350000000000002), (9, 3.1370370370370373)]\n",
            "for using 31 chunk, best 5 scores are : [(29, 2.7697441601779755), (15, 3.109677419354839), (3, 3.1182795698924735), (9, 3.1362007168458783), (20, 3.1370967741935485)]\n",
            "for using 32 chunk, best 5 scores are : [(29, 2.7683189655172415), (15, 3.1), (3, 3.1145833333333335), (20, 3.1328125), (5, 3.14375)]\n",
            "for using 33 chunk, best 5 scores are : [(29, 2.762800417972832), (3, 3.0909090909090913), (15, 3.098989898989899), (20, 3.1378787878787877), (9, 3.148148148148148)]\n",
            "for using 34 chunk, best 5 scores are : [(29, 2.7505070993914806), (3, 3.0784313725490193), (15, 3.103921568627451), (20, 3.1529411764705886), (2, 3.161764705882353)]\n",
            "for using 35 chunk, best 5 scores are : [(29, 2.742857142857143), (3, 3.085714285714286), (15, 3.1085714285714285), (20, 3.1614285714285715), (9, 3.165079365079365)]\n",
            "for using 36 chunk, best 5 scores are : [(29, 2.746168582375479), (15, 3.111111111111111), (3, 3.1203703703703702), (5, 3.155555555555556), (20, 3.161111111111111)]\n",
            "for using 37 chunk, best 5 scores are : [(29, 2.7381174277726), (15, 3.1045045045045043), (3, 3.1531531531531534), (9, 3.159159159159159), (20, 3.1594594594594594)]\n",
            "for using 38 chunk, best 5 scores are : [(29, 2.7295825771324864), (15, 3.1105263157894734), (3, 3.149122807017544), (20, 3.155263157894737), (9, 3.1578947368421053)]\n",
            "for using 39 chunk, best 5 scores are : [(29, 2.725022104332449), (15, 3.111111111111111), (5, 3.1487179487179486), (20, 3.1564102564102567), (40, 3.161538461538462)]\n",
            "for using 40 chunk, best 5 scores are : [(29, 2.7120689655172416), (15, 3.1116666666666664), (9, 3.1527777777777777), (5, 3.1550000000000002), (20, 3.1662500000000002)]\n",
            "for using 41 chunk, best 5 scores are : [(29, 2.712363330529857), (15, 3.1138211382113825), (40, 3.1591463414634147), (11, 3.1596452328159645), (9, 3.159891598915989)]\n",
            "for using 42 chunk, best 5 scores are : [(29, 2.7183908045977008), (15, 3.107936507936508), (11, 3.1515151515151514), (20, 3.1595238095238094), (40, 3.1648809523809525)]\n",
            "for using 43 chunk, best 5 scores are : [(29, 2.709703287890938), (15, 3.128682170542636), (11, 3.1585623678646937), (40, 3.161627906976744), (13, 3.1645796064400713)]\n",
            "for using 44 chunk, best 5 scores are : [(29, 2.7100313479623823), (15, 3.1242424242424245), (40, 3.15), (38, 3.1638755980861246), (13, 3.164335664335664)]\n",
            "for using 45 chunk, best 5 scores are : [(29, 2.7088122605363987), (15, 3.1288888888888886), (40, 3.1494444444444443), (33, 3.160942760942761), (20, 3.163333333333333)]\n",
            "for using 46 chunk, best 5 scores are : [(29, 2.7166416791604195), (15, 3.1231884057971016), (40, 3.1527173913043476), (13, 3.1538461538461537), (20, 3.157608695652174)]\n",
            "for using 47 chunk, best 5 scores are : [(29, 2.7204695524578137), (15, 3.129078014184397), (13, 3.1407528641571196), (40, 3.150531914893617), (20, 3.154255319148936)]\n",
            "for using 48 chunk, best 5 scores are : [(29, 2.7183908045977008), (15, 3.1347222222222224), (13, 3.1458333333333335), (40, 3.1484375), (38, 3.150219298245614)]\n",
            "for using 49 chunk, best 5 scores are : [(29, 2.7178043631245603), (15, 3.136054421768707), (40, 3.14234693877551), (38, 3.1471535982814176), (20, 3.154081632653061)]\n",
            "for using 50 chunk, best 5 scores are : [(29, 2.716551724137931), (15, 3.136), (40, 3.1454999999999997), (38, 3.1473684210526316), (20, 3.153)]\n",
            "for using 51 chunk, best 5 scores are : [(29, 2.7173766058147395), (15, 3.1359477124183006), (38, 3.146542827657379), (40, 3.1480392156862744), (33, 3.1592394533571)]\n",
            "for using 52 chunk, best 5 scores are : [(29, 2.718832891246684), (15, 3.137179487179487), (38, 3.1482793522267207), (40, 3.151923076923077), (20, 3.1596153846153845)]\n",
            "for using 53 chunk, best 5 scores are : [(29, 2.726740403383214), (15, 3.138364779874214), (38, 3.1469712015888778), (40, 3.1490566037735848), (20, 3.1575471698113207)]\n",
            "for using 54 chunk, best 5 scores are : [(29, 2.7292464878671776), (15, 3.1432098765432097), (38, 3.1437621832358675), (40, 3.153703703703704), (20, 3.1546296296296297)]\n",
            "for using 55 chunk, best 5 scores are : [(29, 2.7373040752351097), (38, 3.1377990430622007), (15, 3.138181818181818), (40, 3.1554545454545453), (13, 3.1594405594405592)]\n",
            "for using 56 chunk, best 5 scores are : [(29, 2.7438423645320196), (15, 3.138095238095238), (38, 3.139567669172932), (40, 3.1558035714285717), (25, 3.16)]\n",
            "for using 57 chunk, best 5 scores are : [(29, 2.7428917120387175), (15, 3.127485380116959), (38, 3.1398891966759), (40, 3.1535087719298245), (13, 3.1551956815114712)]\n",
            "for using 58 chunk, best 5 scores are : [(29, 2.7449464922711058), (15, 3.1241379310344826), (38, 3.1374773139745913), (13, 3.1485411140583555), (40, 3.1612068965517244)]\n",
            "for using 59 chunk, best 5 scores are : [(29, 2.753945061367621), (15, 3.134463276836158), (38, 3.1378233719892954), (13, 3.14993481095176), (25, 3.160677966101695)]\n",
            "for using 60 chunk, best 5 scores are : [(29, 2.7477011494252874), (38, 3.131140350877193), (15, 3.143333333333333), (13, 3.1474358974358974), (25, 3.16)]\n",
            "for using 61 chunk, best 5 scores are : [(29, 2.7467495760316565), (38, 3.1354616048317516), (15, 3.1366120218579234), (13, 3.1437578814627996), (25, 3.1606557377049183)]\n",
            "for using 62 chunk, best 5 scores are : [(29, 2.7424916573971077), (15, 3.1333333333333333), (38, 3.138370118845501), (13, 3.146401985111663), (20, 3.161290322580645)]\n",
            "for using 63 chunk, best 5 scores are : [(29, 2.75095785440613), (15, 3.1312169312169313), (38, 3.142021720969089), (13, 3.1514041514041513), (20, 3.1626984126984126)]\n",
            "for using 64 chunk, best 5 scores are : [(29, 2.746228448275862), (15, 3.13125), (38, 3.1467927631578947), (13, 3.15625), (20, 3.1609375)]\n",
            "for using 65 chunk, best 5 scores are : [(29, 2.743766578249337), (15, 3.132307692307692), (38, 3.1502024291497976), (20, 3.161538461538462), (13, 3.1633136094674557)]\n",
            "for using 66 chunk, best 5 scores are : [(29, 2.74294670846395), (15, 3.1333333333333333), (38, 3.1547049441786283), (13, 3.1585081585081585), (20, 3.1704545454545454)]\n",
            "for using 67 chunk, best 5 scores are : [(29, 2.7447246525990736), (15, 3.1323383084577117), (38, 3.154752553024352), (13, 3.1584385763490244), (25, 3.1725373134328354)]\n",
            "for using 68 chunk, best 5 scores are : [(29, 2.7413793103448274), (15, 3.1401960784313725), (38, 3.1524767801857587), (13, 3.164027149321267), (25, 3.1694117647058824)]\n",
            "for using 69 chunk, best 5 scores are : [(29, 2.747626186906547), (15, 3.1352657004830915), (38, 3.150266971777269), (13, 3.1560758082497213), (11, 3.164690382081686)]\n",
            "for using 70 chunk, best 5 scores are : [(29, 2.7517241379310344), (15, 3.1285714285714286), (38, 3.1477443609022555), (13, 3.161538461538462), (11, 3.164935064935065)]\n",
            "for using 71 chunk, best 5 scores are : [(29, 2.749878581835843), (15, 3.1352112676056336), (38, 3.1508524833209783), (13, 3.1560130010834233), (11, 3.1626120358514727)]\n",
            "for using 72 chunk, best 5 scores are : [(29, 2.755747126436782), (15, 3.1472222222222226), (38, 3.1487573099415203), (13, 3.161324786324786), (11, 3.1628787878787876)]\n",
            "(29, 2.7384186694531523)\n",
            "(38, 3.141754385964912)\n",
            "(13, 3.1541942220675256)\n",
            "(9, 3.1598746081504703)\n",
            "(16, 3.160963687150838)\n",
            "(25, 3.1655652173913045)\n",
            "(22, 3.168531468531469)\n",
            "(15, 3.1713787085514835)\n",
            "(33, 3.175548589341693)\n",
            "(40, 3.176056338028169)\n",
            "{29: [b'\\x1d6<78t:5t&;t^:7199;=5\"5:;t$ e0<3:t5:stt1!\\rt<6;z;,55t12t-31-;5&t^<0^;t1t67tt:s!1;5: 1&55-;t-=;^6 07x\\'', b'B\\x00\\x0c\\x16E\\x04\\x01\\x0b\\x0b\\x10\\x10\\x0c(B\\x04E\\x0b\\x00\\t\\x0b\\x16\\x00\\x0bB\\x0b\\n\\tEHE\\x1c\\x0cEo\\x0eE\\x16\\r\\x11\\x17\\x11\\n\\x0bE\\t\\x0bE\\x08\\x0cE\\x0b,E\\x17\"\\x0c\\r\\x17EE\\x17\\n\\x086\\x11E<\\x12\\x0c\\x04<\\n\\x04\\x04\\tEE\\x17I\\x08\\x17\\x1cEE\\x1c\\x1c\\x1cEEoE\\x00\\x085\\n\\r\\x00IE\\x0c', b'\\x1f\\x1e\\x1e\\x06\\x06\\x1eR\\x1b\\x1d\\x15\\x06\\x06\\x0b^\\x07x^RRU\\x17RRR\\x17\\x14\\x13\\x07@x\\x1f\\x1e\\x17;\\x17_R\\x13\\x1d^R\\x07\\x1d\\x1f\\x0bS$\\x1b\\x11\\x05\\x16\\x11\\x13\\x17\\x1e\\x1cR\\x17\\x06\\x1a\\x06\\x07\\x1b\\x02R\\x1f\\x1d\\x1c\\x1c\\x00=\\x16\\x1c\\x1c\\x0b\\x11\\x13\\x17R\\x17\\x17\\x06\\x06\\x16\\x10R^\\x15\\x05>\\x06\\\\\\x17\\x1e\\x0b\\x13\\x00R1\\x11', b'M\\x01\\x08\\x0c\\x05\\x01\\x19\\x01\\x19M\\x05MMM\\x1e,Mg\\x19MM\\x00\\t\\x1dM\\x0b\\x14\\x1d@+\\x08\\x04\\x0bMM@\\x03\\x03MM\\x03JM\\x14MM\\x0c\\x03\\x0c\\x04M\\x08\\x1f\\x0c\\x18\\n\\x19M\\x05\\x0c\\x01\\x03\\x03\\x0c\\x01\\x08\\x18MMCL\\x14M\\t\\x1f\\x0cMM\\tMM\\x04\\x05\\x08\\x02@M\\x02\\x05\\x0c\\x05MM\\x0cM\\x19M\\x1a\\x02M', b'\\x0bII\\x1a\\x08I\\x01\\x05I\\x02I\\x0f\\x19.\\x0c\\x07\\x1d:\\x01\\x08c\\x0c\\x08\\x05\\x10IIIZ\\x06\\x1a\\x1a\\x0f\\n\\x01I\\x06\\x0e\\x0e\\x19\\x06\\x05\\x1dI\\x0c*\\x07N\\x1d\\x07\\x0eI\\x0c\\x02\\x0cI\\x01\\x1a\\x0c\\x1b\\x0c\\r\\x0c\\x1b\\x00II\\x08\\x04IIN\\x1aI\\x00\\x05\\x0fc\\x06\\x1cc\\x04\\x08\\x08\\rD\\x0eI\\x00\\x10\\x08c\\x06\\x10\\x10I\\x07\\x01\\x04c', b'\\x0fd\\x1a\\x17\\x1a\\x1a\\x0b\\x0f\\x02\\x07\\x0f\\x02\\x01\\x01N\\n\\x06\\x01\\x0b\\x02:N\\x00\\x0f\\x0f\\x03\\x1a\\x0fN\\x1cN\\x1a\\x0b\\x0f\\x0b=NN\\x0b\\x1c\\x1a\\x02\\x07)\\x0f\\x01\\x07N\\x07\\x01\\x07\\x07N\\x1dN\\x1a\\x0b\\x01N\\n\\nNB\\x05\\x05\\x01\\x03\\x00\\x17d\\x0f\\x1d\\x03\\n\\r\\x02\\x07\"N\\x1e7\\x0b\\x1a\\n\\x17N\\x01d\\x1aN\\x1ad\\x00N\\x01\\x08\\x01\\x07\\x0b', b'\\x02 \\tAF\\tAF\\x00\\x02\\x0f\\x0e\\x12A\\x15A\\x04AA\\r\\t\\x00\\x02\\x18F\\x18\\t\\x0f8A\\x00\\x08\\x02\\x0f\\x13\\x00\\x05k\\x15\\x00AA\\x0c\\x0e\\x15\\x0c\\r\\t\\x0fA\\x13\\x12\\x03Ak\\x0eA\\x0f7AAkA\\x00\\x04\\x0f\\x08\\x05Ak\\x0fA\\x04\\x0e\\x12A\\x15\\x04\\x15A\\x0eMAAA1A\\x11\\x04\\x05A1M\\x15\\x14\\x14\\x16\\x15A', b'\\x1fT\\x11\\x1d\\x07\\x11\\x13\\x07\\x0e\\x1f\\x10\\x03\\x07\"\\x1c\\x1d\\x1a\\x13\\x07\\x1b\\x11\\x1a\\x11TTT\\x06\\x10\\x1b\\x13\\x00\\x17\\x00TT\\x19\\x116T\\x17\\x1d\\x13\\x11\\x10T\\x11\\x18\\x15\\x13~\\x18T\\x01\\x159T\\x13\\x13=\\x18\\x16 =\\x19T\\x17\\x13T\\x00-\\x10\\x13\\x18\\x1aT\\x19X\\x00\\x1c\\x17\\x01T=\\x03\\x15\\x18\\x03\\x18T\\x1b\\x12\\x18T\\x1cT\\x1aT\\x11\\x1b', b'O\\x1dO\\x01O\\x02\\x06O\\x16OOC\\n\\x0e\\x0e\\tO\\n\\x1b\\x18O\\x0bOe\\x18\\x07\\x00OO\\x00\\x1d\\nO\\x1b\\x18\\x1c\\x01\\x1a\\x02\\x1b\\t\\nCCeO\\x0e\\x1dO<O\\x1c\\x16\\x1d\\x00\\x1c\\x07O?\\x06\\x16\\x07H\\x0e\\x0e\\n\\x07\\x03\\x06\\x00O\\n\\x03H\\r\\nOO\\n\\x03O\\x0eO\\x1d\\x01\\x0e\\x07\\x0e\\r\\x18\\x1a\\x0e,\\x0e\\x1c\\x04eO\\x01', b'\\x13\\x1d\\x14R\\x1fR\\x00\\x1d\\\\\\x1b;RU\\x1c\\x06Rx\\x06\\x13\\x17\\x15R\\x10x\\x13\\x17\\x07\\x1f_\\x1d\\x1d\\n\\x13\\x13\\x17\\x1d\\x0b\\x06\\x0b\\x1bR\\x06RR!\\x1dR\\x16\\x01\\x1d\\x01\\x17\\x1b\\x17\\x04\\x1b\\x17xR\\x19R\\x17\\x1f\\x06RR\\x06\\x17\\x1f\\x07;\\x06R\\x06\\x17R\\x01\\x06R\\x1d\\x05\\x1c\\x05\\x1d\\x16\\x0b\\x1b\\x0b\\x1d\\x1c\\x1c\\x0b\\x1d\\x06\\x13\\x0b\"\\x10R', b'NCLTYzLN\\x00N\\x00LSI\\x07Yw\\x00GDITEsNAGA\\rDCPNKTNI\\x00\\x00CY\\x00NHPNi\\x00O\\x00TLN\\x00INTnPETR\\x00IFA\\x00NE\\x07\\x00TI\\x00LdOHDSAYAN\\x00\\x00T\\x00Y\\x00K\\x00M\\x00Y\\x00LO*', b'<3!0x\\x7f1xRx:=x4+707=x*0,,6<03xx11<=vx6!+=76779x;4x(74\\x7f26?,77x0=2;960<y*;1,:79x=9=6/+?+,=,t9!,=>x59!\\x08', b'\\x1aS\\x1a_~I_N00_NNV\\x1aOC\\\\\\x1a0V[N[[\\x1a\\x1a_qVU[\\x1a\\x1a\\x1aN\\x1dUN\\x1aOU\\x1aW][_SCOJS\\x1aU\\x1d\\x1aUMI[_\\x1dO\\x16T^[\\x1a\\x1a_[T\\x1a_T^I\\x1aT\\x1aTR\\x1a\\x1aSR\\x1aR\\x1aT\\x1aR\\x1aOSOC\\x1aV', b'iNG\\x00j\\x00SHiiG\\x00OAT\\x00\\x00F*iITEG\\x00S*\\x00NUULTA*O\\x0cUYM\\x07WGEHN\\x00KON\\x00N*C\\x00A\\x00\\x00S\\x00\\x00SS\\x00A\\x00VMy\\x00N\\x07*\\x00G\\x00TWCAAEW*NABAGDMAONTS\\x00cA', b\"ee+ bHb'e6+/bb*&;b\\x16e'b0'.-\\x11+-!1+*bHbbe.#0*+ '&;'7)!ee)#.%;'\\x05 b6\\x0b6\\x0b''-5bb\\x111bH'+',b0'\\x11%6-6-b76,)n+6-;\", b'\\x1fR\\x00\\x136:\\x15R\\x1fR\\x1c\\x0b\\x065\\x17\\x1d\\x1dU\\x1a\\x1f\\x01\\x1bRR\\x1bR\\x1d\\x06\\x11\\x19R\\x16\\x13\\x14;6+\\x1e\\x17\\x19\\x17\\x17\\x00\\x1d\\x06R\\x17RR\\x01\\x00R1\\x1b\\x1c\\x1d\\x00\\x1d\\\\\\x17\\x13\\x1cRU\\x1bRRR\\x07\\x17\\x06\\x1a\\x1d\\x13\\x06+\\x02\\x06R\\x16\\x10\\x17\\x13\\x1dRR\\x0bRR\\x10\\x01R^\\x0bR\\x11\\x1a\\x1fR', b'I\\x06\\x05\\n\\x0c\\x00\\x06\\x04I\\nII\\x01\\x06I\\x07\\x1c\\n\\x0cII\\x1a\\x1d[\\x1a\\x05II\\x02Ec\\x06\\x1d\\x05N\\x0c\\x06\\x05I\\x0cI\\x1b\\x05\\r\\x1d\\x1a\\x19\\x08\\x1aI\\x10\\x08\\x08\\x07\\r\\x07\\x06\\x1cI\\x1b\\x1a\\x06\\x0e\\x04\\n\\x1d\\x00\\x10E\\x08\\x0c\\x06I\\r\\x06\\x06I\\n\\x1dI\\x08I\\x02I\\x1d\\x0fE\\x0f\\x1e\\x06\\x00\\x0fII\\x1aI\\x08\\x0c\\x1d', b\"\\x1c\\x00\\x1d\\x05\\x1d\\x1a\\x07\\x07\\x02\\x01d\\r\\x0bO\\x19IN\\x0f\\x1c\\x07\\x1dN\\x06N\\x1a\\x0b'\\x1dNN=\\rN\\x17\\x03\\x02\\x1bNd\\x1d\\x0f\\x0b\\x1d\\x17\\x07\\x0fBN\\x1a\\x1d\\x07\\x00\\x1bIN\\t\\x01Id\\x03\\x0bN\\x0bNN\\x06\\x1a\\x01N\\x05\\x02\\x1a\\nNN\\x1b\\x0c\\x06\\x01\\n\\x1adB\\r\\x06\\x1bN\\x1b\\x06\\x01\\r\\x1b\\x02\\x03\\x0f/\\x1aN\\x06\", b'\\x0eGGG\\x0f\\x13\\t\\x0c\\x02\\t3\\x08GG\\x06\\x13\\x14\\x12\\x02\\t\\x06\\x08\\x06J\\x02\\x13G\\x08\\x08.\\x12\\x0e\\x1eGG\\x0eG\\x0c(GGKGKG\\x1eG\\x15\\x06\\x13\\t\\x03\\x14G\\x00G\\x11\\x15m\\x06\\x14\\x13\\x13\\x0fm\\x08G\\x12@\\x02\\x0bK\\x08m.@\\x06GG\\x08\\x13mG\\x08\\x0e\\t\\x00\\t\\x0e\\x00G\\t\\x02\\x12\\x1eGG\\x08\\x06', b'NTYOAI\\x07ETTONS*Y\\x00TS\\x07\\x00\\x00KN\\rN\\x00CUN\\x00POOGLLCEVPL\\x00*\\x00W\\x00YHGO\\x07\\x00ELR*IEsN\\x00RTAyU*R\\x19N\\x00\\x00N\\x07cRCDCNLybMSKOKTITKTS\\x00LFNT', b\"\\x13\\x1c\\x11\\x12\\r\\x1aTX\\x00\\x06T\\x17\\x1d~T\\x13\\x15\\x11\\x07\\x19\\rTTTT\\x00\\x15\\x1aT\\x18\\x11\\x01\\x01\\x1d\\x1d\\x15\\x15\\x11\\x11\\x11\\x1b\\x1a'\\r\\x1d\\x1d\\x11\\x1d\\x13\\x04T\\rT\\x1d\\x1b5\\x1aT\\x00T\\x1c\\x1d\\x1d\\x1a\\x1b\\x13'TD\\x1d\\x1d\\x07S71\\x11\\x1f\\x1b\\x01S\\x11\\x1b\\x1b\\x11T\\rT\\r\\x11\\x11\\x1d\\rT\\x1d\\x1d\\x1d\\x01XT\", b'\\x01\\r\\x04HHO\\x0bH\\x01\\x07\\x02\\r\\x0c;!\\x01\\x1aHH\\x11Hb\\t1\\x1c\\x00\\x06\\x0c\\x1b\\x01\\x1a\\x1bH\\x1a\\x03\\x00\\x06\\x18\\x1a\\x1a\\t\\x07\\x07\\x07\\x1c\\x1c\\x18\\x06\\rHb\\x07\\x1f\\x03\\x07\\x04O\\t\\r&\\x01\\x18\\x06\\x0f\\x1d\\x00\\x07\\rH\\x06\\x1c\\x07\\x1c\\tDHH\\x0b\\x1a\\x1cH\\x1d\\x11H\\x1bH\\x1fHHH\\x04H\\x05\\x0b\\x1c\\x1c\\x06H\\x0e', b'\\x0bE\\t\\x08\\x06E\\x17\\x08\\x0b\\t\\x10\\x15\\x00\\x08E\\x13\\x0c,\\x0bE\\x11$\\x0b\\x00\\n\\x00EE\\n\\x0e\\x06E\\x06\\t\\x00EEEE\\x03\\x03E\\n\\x10\\rDI\\n\\x17\\x113\\x10\\r\\x00\\x13\\tE\\x08\\x15\\x04\\x11\\x15B\\x0cE\\x11E\\x04\\x0cBEIE\\x10E\\x15\\x04\\x11\\x00E\\x08EI\\n\\n\\x08\\r\\x08\\x07\\x04\\t\\x08\\x00EE\\x11\\x0e&\\x10', b'\\x07M\\x00EUHAA\\x07SST\\x00OWEN\\x00OOHNYA\\x00\\x00FGMEA*A\\x00\\x00*TTAEEPN\\x00\\x00\\x00\\x00\\x00\\x00RA\\x00Y\\x00I\\x00TAPZTI\\x00NT\\x00SRS\\x00*\\x00BSyINO\\x00BET\\x00NNUIUON\\x00U\\x00W*LYON', b\"N\\x07dN\\x1a\\x0f\\x14\\x00NN\\x1a\\x1d\\x17\\x01\\x07NI\\rN\\x19\\x0b\\nNNd\\x0c\\x1b\\x01\\x0bN\\x02'\\x00\\x0f=:\\x1c\\x1c\\x00\\r\\x1c\\x02N\\x1e\\x0fd'd\\x02\\x17\\x00\\x1eN-\\x00\\x1a\\x06\\x14\\x07\\x07\\x07\\x00\\nI\\x1c\\x1a\\x1aNN\\x087\\x1d\\x0b\\x0b\\x01\\x1a\\n\\x1cd\\x0bN\\x06\\x17B\\t\\x1d\\x1a\\x1d\\x17\\n\\x17\\x1d\\x06\\x06>\\x0bN\\x03\\x05\", b'\\x1b\\x04&e\\x1b\\x1d\\x16O\\x02\\x02OO\\n\\x1b\\x03\\x0eO\\x00\\x0b\\x01\\x16O\\x04\\x1b&\\n\\x01\\x00O\\x02\\x0eHO\\x01\\x0e\\x07\\x16\\x16\\x0b\\x1bA\\x0eB\\x1dOeH&\\x06\\x06\\x06\\n\\x1b\\x1dH\\x07\\x06\\n\\x01O\\x01H\\x00O\\x0e\\x07\\ne\\x02\\x0e\\x00\\x00OO\\x1a\\x0cOC<OB\\x00\\x00OO\\x06\\n\\x06CO\\x00\\x06\\n\\x06\\x03O\\x02\\n\\x16', b'\\x01\\x0c\\x07>\\x00\\rI \\x10\\x10\\x05\\x0e\\x05\\x01\\x05I\\x08\\x07\\x00II \\x00\\x01\\x1d\\x08\\x02\\r\\x1e\\x10\\x0f\\x04\\x0b\\r\\x04\\x0cI\\x00III\\nD\\x06\\x1a?\\x04\\x07\\x02\\x07\\x05\\x06\\x01\\x08I\\x1b\\x1a\\rNcNI\\x1e\\x1d\\x19\\x08\\x19N\\x10\\x1a\\x1cI\\x04\\x1dI\\x01\\x0cI\\x06\\x1aD\\x1c\\x1c\\x0cc\\nI\\nI\\x19\\x1c\\n\\x08\\x1d\\x08\\x05\\x1cII', b'\\x16SS\\x16\\x1dSyTSS\\x16\\x1c\\x1fSS\\x17\\x07\\x07\\x00\\x03\\x1fS\\x17\\x16T\\x07SS\\x1cS\\x01S\\x16S\\x00\\x01\\x07\\x1d\\x1cyy\\x16S\\x11\\x03:S\\x07\\x16\\x14\\x1f\\x03\\x16\\t\\x07\\x1cSSS S\\x1c\\x1d\\x1a\\x03\\x07SKS\\x07\\x01:\\x12\\x1b\\x10\\x1a\\x1d:S\\x02S\\x14T\\x05yS\\x11S\\x14\\x1fSS\\x01\\x16\\n\\x1c\\x00\\x1c\\x1e', b'E\\x12\\x00\\tB\\x043\\x08\\x01\\x08\\x11E\\x0cB\\x07\\x04E\\x17\\x16\\r\\n\\x06EE\\x16E\\x0co\\n\\x17\\x04\\x04\\x11\\x08\\n\\x00\\nB\\x13\\'oI*\\x04\\n5\\x06\\nEE\\x04\\tE\\x1c\\x17\\x10\\r\\x07\\x16\\x11\\x02\\x0bE\\x02\\x00E\\x01\\\\\\x1cIEE\\x01\\x00\\x04\\x0b\\x01\\x06\\x06\\x10$\\r\\x17\\x0066\\n\"\\n\\x04\\x01&EEE\\x10\\x0c\\x0b\\x10'], 38: [b'\\x1d\\x1dG\\x16\\x11\\x06O\\x07+TM\\x1a\\x01\\x00G\\x00\\nON\\x1d\\t\\x06\\x0b\\x1aL\\x06\\x17x\\x15t\\x1bG\\x16\\x10\\x1deN7R\\x08\\x1a\\x03\\x0cTE\\x16\\x16N\\x1e\\x04R\\x1a\\x04\\x00E\\x1c:1s\\x06G\\x02T\\x02ON-U\\x0c\\x1aH5YL\\x0c\\x01', b'BCY\\t\\x02\\x07 \\x02\\x1c\\x1d.T\\x13R=\\x19\"\\x10JT\\x06ION+AMN\\x06\\x11CLIC\\x07?\\tR\\x17I*\\x00\\x1c,T;R\\x13\\x1dT\\x1d\\n\\x175*M_DEHC\\x10\\x0eB\\x0c1\\x0b\\x1d\\x10M\\x08\\x1ex\\x1d7R', b'\\x1f3\\x118R\\tT\\x1fIO\\x01*Eg\\x1a\\x11\\x00E\\r\\x16\\x00\\x1d\\x1e\\x00\\x16\\x00\\x01OE\\x1d=\\x1btRG:\\x15\\x1a\\x06\\x07e\\x00\\nU\\tETRE\\x0e\\x06\\x19A\\x177\\x1a\\x00E\\x13=\\x015\\x1cG\\x05\\x18E\\x06N7U\\x0cS\\x1cI*', b'MS\\x04Ez\\x07\\x08Od\\x0eA\\x17N:*ER,Tt\\x07\\x08\\x1c\\x00\\x06O\\x0bbTM\\x1a\\t\\x0bHW5\\x1d\\x1a\\x07\\x121-I\\x00\\x08\\x1a0\\x1d^R\\x08S\\x00\\x08\\x00\\x031yM\\x1a\\x1a\\x17Yb\\x00\\x0eN\\n\\x05\\x01\\x1d\\x10T\\x11R\\x08', b'\\x0bN\\t\\x06\\x7fTt\\x1b3\\x1c\"I\\x0e\\x01\\x16O\\x00N1\\nGU\\n\\x1d\\r\\x0b\\x136\\x1c\\x0eM\\x03\\x1d7\\x1dz\\x16\\x06\\x14T\\x08\\x1d\\x1a%A\\x0c_\\x186FU\\x01\\x06\\x05\\x1c\\x04\\x13\\x01\\x0fW\\x00\\x17/\\x1b&\\x0b\\x00S\\x1b\\x00\\x06NnL\\x1aV', b'\\x0fe\\x00\\x05I\\x0b\\x0bNOE\\x0e\\x19IA\\x1a\\x19\\x0cE\\x00\\x140\\x1a0\\x1d\\x0e\\x16T\\x0c\\x16\\x0b#EMW\\x1cE\\x00GE\\x1c\\x1b\\x08\\x0e\\x00\\x14\\x1b\\x00\\x15\\x029\\x13;\\x1f\\x02\\x01\\x18\\r\\x1a\\x07+\\x00MR\\x11\\x1c\\x00O\"\\x18\\r\\n\\x15R\\x0b\\x01A', b'\\x02Rd\\x08\\x00\\x17\\x1dxT^\\x1c\\x06\\x17\\x13\\x0c\\x01N0A\\x0b\\x1a\\x0cECO\\x11\\x18\\x02I\\x15\\x19\\x1c\\x1dE\\r$4\\x135\\x17\\x14\\tT\\x06\\n\\n I\\x0cT\\x00\\x12ENE\\x03NI\\x15\\x06dcEI\\x10,T;\\x1cGS\\x1c\\x1aO\\x07;', b'\\x1f\\x06&\\x1aHA\\x190\\x02(IY\\x04\\n\\x1cI\\x00RNI*Ex1\\x01t\\x17\\x0e\\x07T\\x0cA\\x07 \\x00\\x0cS\\r\\x0bLE\\x1c\\x1c\\x01\\rA\\x13\\x00\\x1bA\\x11\\x1cy\\x1d6Rm\\x10X\\n<70\\x00\\x02R\\x1fE\\x00T&\\x0e\\x0f\\x05\\x15R', b'O\\x00\\x07F:\\x14Ii\\x10\\x0b4T9\\x06\\x02\\x03\\x1a\\x1d\\x1b\\x03\\x11G+U\\x1boTL\\n\\x02\\x1dI\\x0c\\x1d\\x0f\\x07K\\x17\\x164Tt\\x1b\\x11S\\x18\\x1aH\\x056\\x00M\\x1a\\x06\\nI\\x07\\x04O\\x06\\x06\\x0e\\x17\\x17\\rA\\r\\x059\\x1d;\\x06\\x1e\\x1c\\x11\\x1d', b'\\x13GS\\x07\\x00\\x16\\x026SMV!\\x0b\\x00\\x07\\r\\x0b\\x06\\x01\\x18\\x1d\\x01\\x06UE;v\\x15t\\x0bGy\\x11\\rO\\x07\\'\\x00MS\\x1f\"NI\\x07\\x06\\x0bI\\x00\\x1b\\x1a\\x08yB\\x16,7:\\x01GS\\x01I\\x00\\x176I\\x05T\\x04\\x08\\x00\\x00\\x10O\\x06', b'NT\\x00O\\x1aI\\x00R\\x1a\\x19AE^7\\x075R\\x06\\x16TI\\x00\\x1c1*M\\x1a\\x00\\r\\x00PoC\\x17\\x1a\\rR\\x02\\x0eN\\r\\x1e?\\x1a-\\x19\\x14\\x1c\\x19\\n\\x07\\x00-\\x00\\x14\\x1a\\tEOD\\x06Od\\x1cAR\\x1a\\x00D\\t\\x17>\\x1d0\\x10\\x06', b\"<\\x1c7\\x1f\\x13y\\x0e\\nO\\x01bWM\\\\H\\x16TNE\\x07'\\rAR'\\n*E\\x13+\\x11\\rRK\\x03\\x18\\x08\\x06\\x07eY\\x18\\x1aOEE\\x00\\x0b\\x0eN\\x08\\x05\\x07\\x08N*\\x10\\x11x\\x1b;\\x05mT\\x15\\x0f\\n\\x1ab\\x00MO\\x1c\\x00OT\", b'\\x1a\\r\\x16YI3\\x16\\x01\\x05\\x125\\x07\\x1dF\\x0b\\x170T;\\x17GS\\x13cH\\x0fH*\\x03N\\x1a\\nN\\x00\\n\\x0eN\\x02\\x13RN\\x0cAE\\x06x\\x1ct\\x06m\\x07TE\\x0e\\x1d\\x11S\\x0cI\\x0b\\x08Ay\\x17\\x01\\x1bI\\x04\\x10\\x17\\x06NE\\x00!T', b'iE\\x06x\\x1a5\\\\\\t\\x16\\x07\\x06\\x03\\x06bOM[\\t\\x0bACo\\x00=\\x04\\x0f;:\\x0eY\\x03\\x077\\r;R\\x15\\x16\\x18\\x08\\x1bN.T\\x05[\\x01\\x08IyE\\x03N\\x1aA\\x1d\\x0b\\x05T\\x11\\x176\\x1b1\\x16\\t\\x11T\\x06\\x00\\x00)*M\\x1a\\x0e', b\"eM\\x0c~O\\x0b\\x00T\\x11\\nO\\x05\\x04UNcT\\x0b\\x17<\\x15e\\x1d\\x12STN\\x07N.EJ\\x1a\\x07\\x0biHEO\\x00\\x01k\\x1d\\x06\\x0c\\x00\\x11\\x1b;\\x1b^\\x17@\\x07\\x13IO\\x02'OMT\\x1dE\\x00K\\n\\r\\x01\\x1cM\\x0b>\\x07c\\x10\", b'\\x1f\\x07\\x1ajE\\x1bR\\x06tUGS\\x1a\\n\\x0b:bYM\\x1a\\x06HDP\\x04\\x1b\\x03\\x0ck\\x17\\r\\x05G\\x10S;\\x1d5\\x01\\x03\\x169\\x07\\x06N\\x05T\\x03\\x16\\x1d<N\\x19I\\n\\n\\x1dA\\x02\\x1c\\x1cAE\\x16+\\r-\\x1d\\x00STI\\x03\\x01-N', b'I\\x04\\x17bH\\x010\\x07\\x0cS*\\x07O\\x0f\\x00\\t\\x1bN\\x10SE@x\\x11:\\x13G\\x016I\\x1b\\x02+\\x00M_\\x06ET\\x00E\\x00\\t\\x1a7\\x17\\x07\\x0c\\x00E\\x1d<Dt\\x06\\x08\\x1b\\x19IC\\x1ebT\\x08SHEYI\\x01,\\x03\\x08\\x16\\x1f\\x05', b'\\x1c\\x0cA6\\x0f\\x05i\\t\\x06x~1x\\x12\\x00\\x11\\x1a\\x04\\x0f-F@V\\x1aEKL\\x00\\x1adIA\\x00\\x1e*\\x00\\n\\x057\\r2\\x04GS=\\x1b\\x01B\\x0bT\\x18\\x1aH<TN\\x00\\n\\x0cIA\\x10\\x06\\x08N\\x08\\x15t\\x11=\\x1d\\x12\\nT\\x0c\\x16', b'\\x0eS\\x1d\\x0c\\x1d\\x0feSMN;EwS\\x16ON\\x00FR\\x1bZU\\x06\\x17=\\x1ds\\x06(y\\x13\\x05\\x1d\\x01;\\x00\\x04J\\x07\\x17I*\\r?\\x03NAU\\x1cIM\\x0c=1StR\\x06:\\x17\\x08\\x00\\n%U\\x02\\x1aH\\x00MSEeNI', b'N\\x12\\x01\\x1d\\rF\\x1fN\\x0fO\\x08x0\\x11=\\x15\\x08\\x17T\\x05\\x01N!A\\x0b\\x1a\\x03\\x16\\x00V\\'\\n\\x1d\\x06\\x0c\\x17d\\x07\\x00\\x10\\x17651R\\x06S=\\x04\\x0e\\x03\\'SLT\\x1c\\tdC\\x06\\x03\\x1a\\x1cAR\\x1dIG\\x04\\\\=\\x1d \"\\x08\\x1e', b'\\x13<R\\x0fS\\x07I\\x02\\x02bO,CH\\x0bIKE\\x18\\x0b\\x028\\x19\\x02\\x0fA\\x00R!\\x11!\\x06G\\x11\\x11\\x19&\\x01!\\x00\\x0c\\x1d\\x04\\x17PN\\x02HN\\x19\\x08RNI\\x07E\\x0b9\\x1f1\\x1d\\x13\\x14\\x03\\x1d\\x06d-NM\\x1a\\x0b\\rLN\\x10', b\"\\x01\\x0cTA\\x04O\\x02\\x10\\x0e\\x06\\x01\\x07\\x00,U*T:\\x13\\x13S\\x1bE\\x0e\\x0bb\\x00\\x03U\\x1a\\x11\\x00*\\x04OB\\x07A\\x00\\x1e\\x02\\x00\\t\\x177T&\\x1f\\x0f\\x03\\x13\\x10\\x02\\x0fbB\\x1f^HISL\\r\\x1d\\x06\\n\\x11R\\ncOE\\x139X'\", b\"\\x0b\\x1e0\\r:\\x1d\\x02S\\x03\\x01\\x1b\\n;\\x00MVbBN\\x00\\x0cON\\x0f\\x02\\x14=\\x06UER6'6\\x1dG\\x07~\\x10\\n\\x1d#\\x00MI&\\n\\x00A\\x00\\x07\\x01\\x10\\x0f\\x1a\\x0b\\x00\\x00\\x04R=\\x11 \\x1d\\x0eS\\x18\\x1eOd,W\\x19CH\\x0c\", b'\\x07\\x08_H\\x01NT\\x08C\\x0b\\x01A\\x1d\\r\\x08I$R6\\x00 _.\\x01\\x00\\x05\\x0eNeA\\x03U\\x07\\tNY\\n<\\x07\\x06A\\x1c\\x1a\\x1aS\\x04\\x072\\x1a0\\x06\\x12S\\x10\\x06O\\rHN\\t\\x1aHENS6\\x0e\\x06\\x191^\\x06I\\x00&\\x11', b\"NI\\x00\\x06Rx\\x00;RGS\\x1d\\x1c\\x00\\x02'N\\x1d[\\x00E\\r\\x00\\x04O\\x17\\x04\\x05\\x1e\\x00\\x06W\\n\\x0bx\\x11,\\x1d\\t\\x03\\x15\\r\\x07\\x01'Z\\x03O\\x0fE\\x00R\\x1cO\\x1a\\x04\\x12+\\n\\x06A\\x08\\x06?T5\\x0b\\x0e\\x1f\\x18I\\x06\\x086OM\", b'\\x1b\\x1a U\\x19N\\x01\\x10LSB\\tN\\x07\\r\\x01\\n\\x05\\x00\\x00\\x07x\\x183\\x13G\\x00\\x11\\x05\\x0b\\x1a*NM[\\x18\\x0c\\x00\\x07\\t\\x1dN\\x1b\\x0f\\\\\\x07\\rS\\x0c\\x1f0T1;K\\x12T\\x06ON,E\\x05\\x1a\\x1b\\x1c\\x00T\\x04\\x0e\\x02\\x1d\\x14\\x1a\\x03c', b'\\x01\\t\\x13\\x1a\\x01H\\x0b\\x06=\\x1d7R\\x14\\x07\\x1bIO\\x0f.\\x00\\x1dq\\x01\\x0cNG\\n\\x01NIA\\x17N\\x0cNI\\x11(T1\\x17\\x00\\x1c\\x13ION6N\\x08[\\r\\x04\\x00\\x00\\x01\\r\\x1b\\x0c\\x15\\x16N\\x08*\\n^,\\x11-\\x0b\\x02\\x16\\x1a\\x08\\n', b\"\\x16\\x11\\n\\x1b\\x0b'\\x07\\x05N\\x0c\\x04YT\\x17\\x18\\x1d \\x18\\x1b\\x0cIN\\x0e\\x1e<\\x1d:\\x0b\\x0c\\x1c\\x1d\\x1bB\\x0f&\\x00\\x0cObE\\x00R\\x10OdckRIIV\\x04\\x00;\\x07t\\x17@\\x1d\\x1cIB\\x1a\\x11NMRHE\\x00TE\\x04\\x1aI\", b\"EO\\x05\\x00ARNI\\x00\\x00\\x077\\x15;\\x17\\x06ST\\x1a\\n\\x0f-E\\x04\\x1a\\x1aEIE\\x13\\t\\x0bD\\x15R'\\x1dN3\\x132\\x1b3xm  \\x0eO\\x01'RC[\\x07\\x04LR\\x01\\n\\nDA\\x1d\\t\\x0eA\\x07\\x06,T6\\x0bG\\x1c\", b'6\\x14G\\x1d\\x13\\x04\\x02\\x0f/\\x00\\x1eO\\x1a\\tD\\x00\\x06e\\x1a\\x08\\x0f\\x11N\\x1aT\\t_6\\x111RKST\\x1aH\\x07)A\\x1fU\\x07\\rns\\x11\\x07\\x0b\\x1d\\x0fRNINI\\x1c7\\x11!R\\x08S=IO\\x016O\\x05R\\x05\\n\\x00F\\x0b', b'\\x00LOB\\x06\\x07\\x10\\x0f\\x0b\\x17\\x0c\\x00\\x0cRx\\r5x\\x02\\x07\\x10\\x02\\x02\\x1a*\\x00@\\x1d\\x18\\x17Y\\x00*e\\x0f\\x04\\x0f\\x01\\x00\\x0cC\\x13R7\\x005\\x17\\x13\\x1a\\x17\\x00edb\\x00\\tTH\\x17DN$O\\rcAR\\x17\\x08A\\x00\\x0b5\\x01x', b'\\x1e!\\x12t\\x00\\x0cS\\x10I\\nN&N\\x190H\\x0bsNEON\\x10\\x08\\x13\\x0fI\\x0cE^7\\x1a<!\\x1eS\\x13I\\x06N)I\\x19M\\r\\x17RT\\x02\\n\\x1aNk\\x06\\x1dIG\\x15\\x179S:\\x05\\x08y\\x03\\x0fC\\x1a6\\x00MO\\x06E', b'\\x01\\x1aH\\x04LE\\x01O\\r\\x05\\x15\\x1dI\\x01i\\x11R,T$\\x1f\\x08S\\x17\\x1d\\x01=bTMO\\x07EP\\x00\\x06O\\x1d\\x05\\x03\\x1b\\x00\\x01\\x00\\x15\\x06=\\x1d<RGK-\\x0c\\x00\\nbIMT\\x1c\\x1cAM6\\x07\\x1bIAR\\x06\\x10S\\x0e1', b'IG\\x08\\x1e1X&;\\x08\\x1f\\x1c\\x07O\\x0beH\\t[\\x1c\\tAN\\x17\\nN\\r\\x00+\\x1c\\x19\\x07E\\x1f9\\x1d;\\x01\\x13\\x1f\\x01\\x07H\\x0b;P\\x01\\x1d\\x06\\x11A*\\\\\\x00\\x02I\\x0e\\x06\\x1acCE\\x06+\\x115\\x1b\\t\\x14\\x12\\x0f\\n\\x01+Y\\x02', b'd+E\\x01_H\\x10\\x00N\\x0c\\x0eI\\x08A\\x1f\\x0b\\x08G\\n\\x133T<\\n\\x1eS\\x19\\x06\\x16\\x1c0P\\x14]\\x1c\\x08OO\\x04\\x16IIA\\x1d\\x07\\x0cSBR6\\'t\\x07\\x0b:\\x1a\\x06\\x0c\"\\'B\\x04\\x1aH\\x1cTK\\n\\x1a\\x1b\\x08\\x14\\x11N\\x04', b\" \\x00NIS\\x08\\x15:\\x17:\\x06\\x13\\x07\\x07I\\x16\\x00'\\x00\\x14_\\x1b\\x1cPO\\x08\\x1c\\x1b\\x00\\x00\\x17\\x02IHD\\x1bx\\x04t\\x1bG\\x07\\x13\\x1c\\x01\\nb\\x00\\x01^\\x07\\x0c\\x07\\x00EHN\\x01\\x04R\\x0b\\x04W\\nR=\\rt\\x1c\\t\\x01TI\\x02\\x0b\", b\"T\\x05e\\x1abAM_\\rB\\x07\\x00E\\x1b\\x07I\\x02RdI\\x00\\n\\x1f1\\x015\\x1dG\\x1d\\x17I\\x0e)'\\x00\\x03CH,NL\\x17\\x07INA\\x1c\\n\\x00\\x00E\\x1c*\\x1d7\\x06.\\x1a\\x00\\x1dO\\x0b'N@\\x1aHoKKE\\x1c/\\x1cA\", b'\\x1d\\x1d>\\t\\x15\\x00\\x02G\\x15^+\\x139\\x13\\t\\x1f\\x11[&\\x1a+M\\x08[H\\x0eNCB\\x1b\\x0f\\n\\x0e\\x06dNO\\x11\\x11\\x7f\\x1d-\\x17\\x15S\\x16\\x06\\x00\\x05\\x0bSM_\\x1c\\x04\\x00c\\x0bO\\x01\\x1aM\\x13BDB\\x08>!\\r^\\x13G\\x00\\x1b'], 13: [b\"\\x1di\\x01CM\\x11\\x11\\x1a\\x05Eb\\x1d\\x7f\\x0f\\x06\\x0b\\x0f\\x0c\\x1d\\x1f\\x010\\x02;\\x10\\x0eNM\\x01:A\\x01\\x07W\\x1d\\x13\\x1dN\\x00b\\x07=N\\x18\\x11:\\x06R\\x1b\\x06N\\x04x\\x00FN\\x0b\\x05$*\\x02AG\\x1bT\\x06N\\x1c1\\x011'OH\\x0fG\\x17;\\nN\\x07\\x0bEkEMI1MIYE\\x13\\x1a\\x1d\\x1dE \\x119\\x0fO\\x1c\\x07G\\x1bR\\nC\\x06\\x1d\\x11\\x13\\x07\\x08\\x081*\\x01\\x00\\x009\\x1bI\\t\\r%S7\\x14?\\r\\n\\x06\\x06\\x13\\x02\\x1dH\\x1fB\\x00A\\x01\\n0\\x00\\x08\\x00STT\\x04N\\x045\\x07;7\\n\\x07\\x03\\x08\\x1c\\x13\\x00T\\x1aR\\x15\\x15CM\\n1C\\x06SB\\x01\\x11\\x04dE'T?B\\x01\\x1bN\\t^\\x0b\\nR\\x06\\x1d\\x07\\x05I\\x05\\x00=A\\nM\\x00\\x1c\\x1d\\x10\\x0f\\r+\\x1c9NOH\\x0b\\x06\\x11\", b\"Be\\x163\\x07O\\x04\\x17G\\x066BI\\x1d\\x00\\x17FE\\x19I&i\\x10\\x00S\\x03\\x17\\x19\\x0bBbS+\\x07\\t\\x01\\x06\\x14RU\\x17\\x1a\\x0b\\x17E\\t\\x00\\x00\\x1a5E\\x00sATTI\\x0b\\t\\x11S3\\x01O\\x1b\\x1c.\\x1fR\\x04[H\\x13\\x06\\x0fGMN:O\\x0cIT6\\x11\\x0ed\\x17#y7\\x1c\\n\\x07\\x07G\\x1f\\x1d\\x04]O\\x1dD\\rY\\x03\\x08,O\\x02\\x00R\\x18TI\\x00Ee\\x162-\\x00\\x07\\x1aGR\\x00\\rM\\nR\\x15AN\\x01\\x1a&SI\\x00\\x00\\x19\\x1a\\x00NE\\x0b\\x070\\x1a\\x03\\r\\x17@\\x00\\x17I[\\x00\\x06I\\x04N\\t\\rtGIdIX\\x1fc\\x06I'S=\\x0bOH\\x0bm\\x06\\x13\\x17\\x1aO\\x16\\n1KME-A\\nYO\\x1b\\x11\\x08\\r\\x006S=\\x06\\x0e\\x0b\\x01\\x1e\\x13\\x11\\x10C\\x02\\x10&ATM\", b'\\x1f\\x1fES\\x04\\x14\\tAO\\x05\\x0ct\\x00\\rLA\\x07XI\\x02\\x106S:\\x1aC\\r\\x01G^5B\\x1a\\x03R\\x13\\x04Tg\\n;*\\x00DO\\x11\\r\\x0cN\\x0b0\\x17,N\\x18\\x1c\\x03\\x13\\x13\\x1d\\x0c_\\x00_\\nA\\x00\\x08c3L\\x04NAT\\x1d\\x01\\x03Eb\\x016\\x1c\\x1a\\x18\\x0b(^\\x19\\'OA\\x06E\\x0c*\\x14\\r6H\\x1aN\\x00\\x18\\x11NN\\x0c7\\x16(\\x17Ob\\x07\\x03\\x131EU\\x1d\\x04\\x13\\x0e*\\x19\\x061\\x00\\rPP\\x18T\\x0c\\x0b\\nb\\x1c2\\n\\x0e\\x0f\\x05m\\x1fRE[\\n\\x17\\x04A\\x19C\\x08tN\\x1cT\\x00\\x18SIN\\tb\\x109\\x1aOH\"GRR\\x06\\x1aO\\x05\\x08My\\x05\\x021*\\x0c\\x00N\\x18\\r\\x0eNE6St\\x17\\x18H\\x1aG\\\\R&\\x1a\\n\\x06E\\x14\\x00\\x19I0\\x00\\x1cOO\\x1bTc', b'MI6N\\x0cL\\x00\\x1d\\x12\\x08\\x1d\\x04HS1\\x14OH\\x02\\x02\\x15R\\x08_OR\\x15\\x12SM\\x067T\\x05YE\\x1a\\x15:\\x0f\\t\\x16\\x00x\\x19OHN\\x08RRE[\\x1b\\x13\\n\\x18\\x00\\x14I \\x00\\r\\rM\\x13\\x18\\x1a=\\x0c+S<\\x00\\x1b\\x1a\\x0bG_6\\x00\\x1d\\x16\\x06E\\x15VM\\x0c!\\x07I\\x00P\\x11\\'I\\x17\\t\\'\\x03xd\\x0e\\x18N\\x15\\x11REO\\x06\\x013\\x12\\x00\\x1f\\x082C\\x08IIT5\\x01\\x01\\x17;S7\\x07\\x06&\\n\\x14\\x07\\x1c\\x0bO\\x00\\x06\\x0c\\x04y\\x08\\x1d^V\\x19NR\\x00DI\\x05<b\\x011\\x1d\\x03\\x1c\\nm\\x0b\\x06\\x04^\\x0c\\x01\\x04\\x04D\\t\\x1d;A\\x1aAET\\x1b\\x08BE\\x11\\x05+\\t\\x0eH\\x01\\x00\\x15R\"\\x1aC\\x1c\\x04ATM\\x0f;O\\x08\\x00WT\\x1dI/\\x006\\x00!\\x03\\x01\\x0e', b\"\\x0b\\x1c\\x00eS!d\\x01H\\x1a\\x0f\\x1e:\\x04_\\x16\\x1d\\x08\\x00TM\\n;G\\x05LT\\x07\\x1d.O\\x04*S7NO\\x1a\\x01\\x12R\\x1a\\x160\\x01\\x15\\x11\\x00K\\t\\x1d:G\\x01N\\x00T\\x00I'E+Sx\\x0b\\x00\\x01N\\x12\\x1e\\x16\\x04\\x1aO\\x13\\t\\x13L@\\x0cs\\x0cI\\x00TT\\x11\\x19\\x1d\\x110y6\\x02C\\x07)K\\x0b\\x06\\n[eRI\\tH\\x0c\\x1a5N\\x07TAT\\r\\x0c\\x1b\\x17)\\t6\\x00\\x1c\\x04\\x0b\\x11\\x17\\x1d\\x07I\\x01\\x19\\x04A\\x00\\x03\\x06tS\\x1eINT\\x1bI\\x06<'S<N\\x06Hd\\x02=\\x06ET\\x00RE\\x0e\\x07\\x1f\\x06:\\x00\\x01ON\\x00\\x1b\\x06\\x01\\x08,\\x026N\\x0e\\x1d\\x1aG\\x16\\x1d\\x00SO\\x0b\\x08AO\\x02\\x0f;GI\\x00N\\x12\\x1dc\\x1b\\x08,\\x01>\\x06\\x1c\\x1c\\x08G\\x00\\x1a\\x0c\\x1a\\nR\\x10\", b\"\\x0f\\x0e\\x1eR\\x12\\x1a&R\\x08FA\\x01\\x00:SINA\\x0e\\x00\\x02\\x01\\x10+\\x16=\\x1d\\n\\x0c\\x01G\\x07\\x17\\x07O\\x0ex\\x0cAS\\x19\\x0c=iIIH\\x1aT\\x08\\x06B'\\x166d\\x07\\x00\\x1aG\\x07\\x06oqO\\x1d\\x0e\\x00P\\x04\\x06:T\\x0bK\\x00T\\x1dI\\x02\\x16b\\x07!\\x1c\\x02\\x1a\\x1cGR\\x17oU\\x0eR\\n\\x0e\\x00M\\x1d;N?i\\x00\\x15\\x1d\\x1d\\x1aE)\\x147\\x00\\x1c\\x07N\\x14\\x17\\x1b\\x1c\\x1dH\\x1b\\tAIM\\x1c-SNEZ\\x16\\x1c\\rN\\x086\\x1d;I\\x0e\\x1d\\x01\\x08\\x1dR\\x01\\x1ae\\x1f\\x0ckNL\\x0c6\\x07IIB\\x1a7\\x00NEH\\x1ax\\nO\\x0bNG\\x17\\x16\\x10TB\\x1cEAb\\x08I&Nc\\x00U\\x03TI\\x1bE-\\x149\\n\\x1a\\x04d\\t\\x17^EO\\x06\\x13E\\x14LM\\x087cI*N\", b\"\\x02N\\x01\\x06<G\\x07TE\\x07\\rI\\x1a\\x01byx\\x00\\x16\\x01\\x07\\t\\x06\\x1c\\x11NOU\\x00A*\\x1eI1\\x00IwN\\x13\\x11\\x01\\x1c\\x0be\\x03*\\x0b\\x0bb\\x00\\x06RRE[&\\x17\\x00\\tC\\x1dIeN\\x1eDE\\x00\\x11\\x1a\\rE*\\x16=\\x0f\\x18\\x03=\\x0eR+\\nU\\x16\\x0bE\\x00P\\x03I\\rW\\nNN\\x10\\r\\x0c\\x07\\x0b&:;'\\x1d\\x06\\x07\\x06\\x05\\x01EJ\\x06\\x17\\x10\\x03E\\x0c\\x07t\\x00IN\\x00\\x13\\x1a\\x1aIE'Sx\\x07\\x16\\x01N\\x13\\x1bRE\\x16ORE\\x0fU\\x18\\x00;MNES-\\x1dI\\x02\\nb:,\\x0bH\\t\\r.\\x11+\\x0bIO\\x06\\x11\\x15CMI5ADYT=\\x1b\\x08\\r\\x1c%y,\\x1d\\x07\\x1fd\\t\\x05R\\nTO\\x1c\\t1KMI^N\\x1dY*\\x1a\\x1d\\x07\\x1aI-\\x1c\\x08\\x05\", b'\\x1f\\x13I\\x00\\x0c+S0NOH\\x1a\\x13R\\x153NO\\\\\\x0b\\x02T\\x05It\\x00\\x0eS\\x00\"~\\x0c\\x19E&\\x170I\\nH\\x0b\\x02U\\x1f\\rV\\x16R$\\x02N\\x1d[;\\x00\\x1dA\\x00\\x06\\x15I\\x1dH-\\x1cxN\\x1d\\x1a\\x1a\\x0e\\x17\\x13\\x11\\x1a\\x01\\x17\\x00\\x00L\\x03\\x06tU\\x00\\x00A\\x17\\x11\\x06\\x0f\\n*\\x167NC\\x07\\x0fGSR5_H\\x16\\n\\x0fG\\x04I5\\x00\\x05L\\x00\\x01T\\x02I\"#\\x07?\\x1a\\x07O\\x01\\x15\\x06\\\\\\x16[OR\\x11kR\\x03\\x0e^\\x00\\x1dFT\\x17\\x13I\\x1a\\x12\\'KyN\\x00\\x06\\x0f\\x0b\\x16\\x1aE\\x1aO\\x06\\x10\\x12c\\x0c\\x06sT\\x0cHO\\x1c\\x01\\x1c\\n\\x17bS/\\x06O\\x11\\n\\x08\\x10R6R\\x06\\x1b\\r\\x11K\\x05\\x1etD\\x19K\\x00\\x18\\r\\x06\\x025)\\x16x>\\x04\\x1c\\x01GR\\x1f\\x0bV\\x16', b\"O\\x01dG\\x1e\\x00\\x00_e\\x1f\\x06\\tI\\x19\\x065H \\x00\\x07\\x1f\\x06Id\\x0c/\\x1cx\\x17\\x0e;N\\x06x\\x1d\\x04CO\\x06,A\\x07MI5IITN\\x11T\\x05N\\x0b.T<\\x0c\\x00\\x06\\x0f\\x08@\\x11\\nV\\x02\\x1d\\x06\\x08O\\x0b\\x1dtA\\rT\\x00\\x19\\x15\\x06\\x1b\\re\\x1d+\\x00\\x1b\\x1a\\x1aG\\x07\\x17I\\x1aBR\\x10\\x15WM\\x1az\\x00\\x04\\x00\\x00\\x13\\x13\\x07\\x1d\\x0b!\\x1f4\\x1e\\x16\\x1f\\x1dG\\x1e\\x1c\\x17\\x1a\\x07\\x17E\\x0fE\\x05I;\\x00cTT \\x1d\\x0c\\x0b6\\x0b\\x1a9\\x1c\\n\\x00\\x03G\\x1cR\\\\\\x1a\\x02\\x07B\\x0f\\x00\\x14\\x067*\\x04\\x00ST1\\x05\\x1bE'\\x1d=\\x1c\\n\\x1a\\x1e\\x08\\x17\\x10$R\\x00\\x05IAM\\x02\\x1d5A\\nTI\\x18\\r\\x00\\x06ob\\x1f!\\x17\\x0eH\\x00\\x02\\x1e\\x0bES\\x03\\x0b\\x11\\x16F\\x1a\\x0cxAI\", b\"\\x13\\x0b T\\x08\\x057\\x00>YU\\x11\\x1a\\x01\\x07\\x0b'TRNO\\x07\\x0f3\\x06\\x0bEN\\n\\x1c\\x08\\x15Y,\\x079\\x00\\x08\\x00\\x00\\x07\\x07\\x08\\x07\\x16'\\x1f0\\nO\\t\\x0fJ\\x17\\x1b\\x16\\x1a\\n\\x07E\\x0fU@\\x020U\\x10CA\\x17\\x01\\x0fNobSv=\\x1c\\x00NG\\x13\\x1eBN\\x0b\\x1b\\x03ALJ\\x1btGDH\\x00T\\x1d*\\x0fE;S4dO\\r\\x01\\x13\\x16\\x00\\x04S\\n\\x1b\\rAL\\x18\\r-A\\x1bTT\\x13T\\x0cdE\\x05 0\\x07\\x07\\x18B\\x13\\x02U\\x02T\\x0eR\\x11\\x08*M\\x10ty\\x10\\x07\\x00\\x10\\x1dN\\x1a\\x04\\x11\\x12:\\x0b\\rD\\x02@\\x13\\x02\\x01\\x1aCR\\x00ANM\\x08:E\\x1cA\\x00\\x03\\x11\\r\\x06\\x1c6S=\\x1a\\x0eH\\x1a\\x0e>\\x10\\x04\\x1a\\x00\\x0b\\x08MT\\x0cI6T\\x08\\x00LT\\x01\\x01NE;\\x1e\", b\"N\\x07T\\x1cI\\x1d\\x16 \\x16x\\x1a\\x02O\\x0b\\t\\x1bR\\x080\\x02\\x1b\\t\\x0fOMI^O\\x05IO\\x1cT\\x07I\\x0b;\\x077\\r\\x1bH\\x02\\t\\x17\\x01\\n[O\\x10\\x0b\\x18\\rM\\x1atS\\x08GF\\x10\\x1aZNE!S1\\x02\\n\\x1b\\x0b\\x1e;\\x14\\x08\\x1a\\x0e\\x1dE\\x05C\\x03\\x05tYICE\\x1d\\x1b\\x05\\x0b\\x0b+S7\\x1ee\\x1c\\x01\\x1e$\\x17\\x06S&\\x01\\x17AOM\\x10tN\\x06NY\\x15\\x1d\\x0cN\\x0c.\\x1c,\\x06O\\tNm\\x1a\\x17\\x11_\\x01\\x17\\x15AT\\x0c\\x04<A\\x19A\\x00\\x13'\\x08\\x01\\x0c-S*\\x08O\\x1c\\x1dK\\x1c\\x1d\\x01_O\\x17EARMI!WID\\x00\\x17Sc\\x1a\\x1c0\\x14+\\x17\\x1dH\\x17\\x0eRR6\\x1a\\n\\x0b\\x08\\x04T\\x0c\\x06-M\\x1c\\x00UTT\\x10\\x03\\nn\\n5\\x0be\\x06\\x07\\x081R\\x10\", b'<N\\x1d\\r\\x1aG\\x06\\x13\\t~\\x1bREA\\x07\\x01\\x04ti\\x10NS\\x10T\\x0f\\r(b\\x1f4\\x01\\x0e!\\n\\x13^\\x1dE\\\\\\x00\\x13\\x0b\\r\\x00MI\"T EYTT\\x10\\x1a\\n-\\x070\\x1bO\\x0cN\\x08x\\x19\\x17U\\x0e\\nE\\x02OM\\x055*\\x04N*\\x11\\x15\\x0eN\\x11.\\x1c=\\r\\t\\t\\x02K\\x1d\\x00*W\\x1d!\\r\\x0c\\x00\\x0c\\x19;K\\x07O\\x00~\\x04\\x0e\\x07,e\\x03\\x7fN\\x1d\\x03N\\x00\\x1c\\x1d\\x10U\\x06x\\x087s\\x0c\\x1b5\\x00NRI=\\x1d\\x1bN\\x116\\x036\\x1a\\x07\\x07\\x00\\x12\\x1c\\x07\\x1c_\\x0e;EA\\x00MIt\\x00\\x1dLy\\x19\\x11\\x0f\\x0c\\x17+:9d\\x03\\x1c7\\x13\\x06\\x17\\r\\x1a\\x00\\x1d\\nAS@\\x0f5BI\\x00UT\\x11\\x10\\x01E7S,\\x1d,\\x05N\\x12\\x0bREOO\"\\x0e\\x15N\\x02\\x1d\\'', b\"\\x1a\\x1b\\x1dE\\tY\\x0c\\n8j\\x00zH\\x13T\\x05\\x07\\x0beSxNO\\x02\\x02\\x08\\x0b\\x06\\x0cV\\x1b\\x06EA\\x00M\\x1c9F\\x07GO\\x1b\\x19c\\x1d\\x00bS,Ne1\\x0f\\x02\\x14RE\\x1a\\x01\\x1fE8N+E<U\\x0fP*\\x00\\x01\\n\\x17\\x0eH\\x00x:\\x01\\x06N\\x0c\\x1d\\x17\\x13\\x1a\\x1bR\\x03A\\x00M\\x05<E\\x06P\\x00\\x11\\x1d\\x07B\\x08'\\x07x\\x02<H\\x07\\t\\x11R\\t\\x1a\\x1b\\x17\\x00kR\\n\\x073\\x00\\x1anA=\\x00\\x1b\\x03\\x17 S=\\x00H\\x06\\x05\\x0fR\\x1b\\x00^\\x07\\x06E\\x05RME1\\x00\\x1a\\x00*\\x13\\x07\\x1a\\n\\x041\\x1b7\\x01\\nH\\x07\\x06\\x17\\x06\\x06T<\\x1dE\\x0eL\\x04I W\\x1cNN\\x15TD\\x1b\\x1c-\\x11,\\x1d\\rHN\\x00\\x06\\x01\\x01R\\x06\\x1d\\x00\\x15SM\\x1a S\\x05LY\\x11X\\x04\\x06\\x0c\"], 9: [b\"\\x1d\\x13\\x0e\\x16T\\x06\\x04\\x1a+\\x00\\x0c_HEYAB\\x02\\x1a\\rA\\x15\\x14\\x05H\\x08\\x1dR\\x00&\\x1b\\tS\\x10IO\\x02/TMN\\x0cBI*B\\x0e\\x19\\x05A\\x1dN\\x1d\\x00\\x0cR7\\x11;\\x13\\x02\\x00\\x1bI\\x01:'H\\x00[b\\x0bENEeN\\x01F\\x1bdIS\\x00\\x130\\x15 \\x1f\\x08S\\x1b\\x02O\\x1c!E\\x08U\\x1a\\x0cPO\\x04ON\\x0b\\x0f\\x14\\x0f\\x01*\\x00_x\\x15s\\x0bG\\x076\\x05\\x16\\x0b.AM\\x1a\\x1a\\x11YLo\\n\\x0b\\n\\x0c\\x00NIE\\x10\\x0b9\\x1d;\\x1d\\x1e:\\x18\\x19HN'\\x00\\x0cC\\rE\\x00OEO\\x07\\x05\\x12R\\x1e\\x0c*\\r\\x172\\x1dt\\x04\\x00\\x07T\\x07\\x07\\x0b%TMM\\tEPs\\x16\\x06\\x03cA\\x13\\x07\\rS\\x15\\x1b2\\x1d^\\x06\\x0f\\x1aT\\n\\x0e\\x01\\x0b\\x00\\x18[\\x07\\x12NR\\\\\\x06N\\x10k\\x17\\x08INE\\x161\\x077R\\x08\\x12\\x1a\\rO\\rby\\x0c^HEOC\\x01O\\x06I\\x15Rd\\x1cAE\\x176\\x11:\\x1cm\\x14=\\x02\\x00\\n\\x11N\\x02S\\x1b\\x1c\\x00K6\\x07NI\\x11R\\x1d\\x00G\\x07>9\\x11-\\x1cGS\\x18\\x0f\\x06\\x00,\\x00\\x0cO\\x0b\\nY\\x00E\\x04/\\x05\\x16\\x1aN\\x01c&1\\x08T'\", b'BNNE\\x1d\\x00\\x0c\\t\\x00d\\x1a\\x00\\x08\\x06x\\rtR\\x13S\\x13\\x06\\x16\\x0f\\'A\\x190\\x01\\x10NT\\x08Od\\x05\\x0e\\x0b\\x1d\\x19O\\x00^4~7\\x06\\x06S\\x1d\\x07\\x0e\\x06;Ng\\\\H\\tG\\x07\\x16\\x18\\x07I\\t\\x01\\x0b\\x0cT$R,T:xJ\\x16T\\x1a&\\x03-\\x00\\x14\\x1a\\x06EAUoON\\x1eA\\x19N\\x1aU\\x06\\x1e1\\x01:\\x13\\x1e\\x16T\\x05\\x01\\x0bH\\x00@N\\x00\\x16IC\\n\\x1aN\\x00\\x15\\x17\\x00\\x19M\\x03R7\\x1b\\r\\x06K\\x16\\x11\\x05B) \\x00M]\\x1c\\x0bN\\x005\\x0eB\\x04\\tRd\\x1dO\\x17\\x05(\\x045\\x01\\t\\x1fT\\x08\\nNeY\\x0cU\\x03\"IR\\x17\\x1c\\t\\x1bA\\x00\\x06\\x1a\\x00\\x08\\x067\\x00;\\x19\\x06 \\x16\\x1a\\x01NbI\\x03O\\x066IA\\x02\\x0eN\\x19\\x0fR\\x1aIVE\\x1c<Tt\\x1f@S-\\x08\\x0e\\x0fb*\\x14T\\x07\\x04IN\\x01HN\\x1d\\x12\\x06\\x01\\x05\\x00\\x15\\x13x\\x1f!\\x06G:\\x1c\\x1d<\\x1e,BMTH\\x1cYy\\rOB\\x1cA\\x1dB\\rN\\nR,\\r5\\x1b\\x00\\x11\\x18\\x0f\\x06\\x1a-O\\x0cTHEKT\\x01\\x0e\\x1b\\nM^\\x06\\x10NE\\x0bx\\x1d \\x0bG\\x1cT\\x08\\x02\\x07-O\\x02V\\x0e\\x0c', b\"\\x1f<\\x136\\x1dGS\\x11\\x05&\\x17 E\\x05~H\\x04zI\\x04\\x06\\x07IFR\\x00Ii\\x0b\\x15x\\x06;;3\\x16\\x03IO\\x01b\\x00MV;\\x04\\x07Y\\x07\\tII\\x04\\x1dI:F,R=\\x07=\\x17\\t\\x03\\x11I\\x16NbN\\tN\\tBs\\rE\\x18\\x1a\\x1d\\x18R\\x0cI*E\\x073\\x1ae_\\x08\\x1c\\x13E\\x02N1A\\x04[\\x1bENO\\x11\\x1b\\x17\\r\\x13;=IOER6\\x15t\\x06\\x0c\\x1dTI\\x0b\\x1c#E\\x03O\\t\\n\\x00\\x00IC\\x1dD\\x0e\\x1d\\x1e\\x0cH\\rSx\\x1dzRGS\\x15\\x08&\\x077\\x00\\x04OH\\x0bT\\x07\\x04\\x1c\\x00\\x06\\x031N\\x02C\\x00\\x1e6\\x1b-\\x1bG\\x1c\\x13\\x06\\x06\\x01;A\\x05I\\rEEN\\x11\\x16\\x0bNk\\x1c\\x00\\x0cSB\\x02;\\x1a<Rm\\x03\\x17\\x1d\\x07\\x03'SM\\x1a\\r\\x0cE\\x19\\x1c\\x00\\x05\\x1a\\x0f\\x067N\\x07I\\x1c,St\\x06m\\x1bT\\x06\\x1a\\x02HIMIH\\x17HD\\x06\\n\\x01\\x06A\\x16\\x0bcA\\x08\\x06/\\x1b \\x05GT\\x03IO\\x17%N@RH\\x1cTO\\n\\x0e\\x1b\\n\\x04R\\x17\\x10D\\x04\\x06!\\x1d=\\x0b\\tSTI\\nN)WMS\\x1c\\r\\x00L\\x10e\\x1a\\x1c\\x15\\x1f\\x03\\x04A\\x10\\x11\", b'M\\x1a\\x01\\x00CT\\x12O\\x1d\\x07A\\x13N\\x08j\\x06\\x1e\\x7f\\x1a:\\x00\\ty\\x07\\x04O\\x02e\\x07M0\\x07\\x10\\x00O\\x11C\\r\\x0e\\x12\\x06\\x17.A\\x08\\x07+T1R\\x13\\x17\\x1a\\x1cO\\x01b\\x00\\x19\\x1aH\\x0bD\\x00\\rO\\x1dI\\x00\\x1b\\n\\x08E\\x0bR,T;\\x13\\x02TT\\x05\\n\\x1a\\x11F\\x1d_\\x0cH\\rN\\n\\x00N\\x10\\x00R\\x02\\x1aLE\\x17<\\x01t\\x13GSTN\\x0e=b*\\x03\\x1d\\x06\\r\\x00EB\\x02dI\\x00\\x19\\r\\x06\\x07\\x03\\x076\\x1atRGS\\x10\\r\\x1d\\x0f\\'\\x00M[\\x1cEiY\\x06\\x1dN\\x07\\x0fR\\x02\\x07N\\x11\\x167Tt\\x17\\x03\\x03\\x01\\x08\\x1b\\x1d)\\x00\\x18\\x1d\\x07\\x0cN*\\x10\\x07\\x01\\x1a\\x0f\\x1d\\x14\\x0cS\\x15\\x1axT5R\\x14S \\x06HB6\\x00\\x0c\\x16\\x0f\\x11Fy\\x00\\n\\x06\\x08\\x08R\\x1a\\x08M\\x04\\x1cyD1\\x07\\x02\\x07\\x10\\x0c\\x00\\x1db\\x00M\\x1a\\x1c\\x04\\x00\\x07\\x00\\rNIA+\\x1a\\x0fT\\x04\\x17=\\x1b1RGS\\x17IO7bE\\x04R\\x1dEAb\\x17\\x1d\\r\\x0cAR\\tDA\\x08^=T-\\x0b\\tST\\x1eCNbN\\x05\\x1a\\x04\\x00\\x00K&,\\x02\\x08\\x15\\x0b\\x06\\x10TE\\x135\\x1d0\"G\\x00\\x11\\x0c\\n\\x0b;NM', b'\\x0bi\\x0b\\x1e3\\x1c<\\x14GS\\x1d\\ne\\x1abU\\x01IO\\x01L\\x073O\\x07 \\x00\\x1fN\\x02i\\t\\x06:TtR\\x08\\x1c\\x07\\x01\\n\\x01bO\\x1e\\x1a!EY\\x00\\x04ON\\x08AU\\r\\x01*\\x0bUx\\x195\\x15\\x06\\x1f\\x1a\\x1aO\\x000Y\\x1d[1\\x0bNN\\x16\\x07\\x0b\\x08\\t\\x1d\\x1bI\\x00E@xT0\\x1d.S\\x00c\\x0e\\x1a+*\\x0b\\x1aHoKG\\x08\\x18\\x03\\x04\\x006:\\x06\\x0cE\\x13!\\x11t\\x0b(\\x1c\\x17\\x0c\\x1b\\x1a0EJU\\x07\\x0bN**C\\x17\\x06\\x15\\x06\\x0f*ND$;\\x11;\\x16\\x15\\x07\\x13\\x1a\\x06\\x01)RMJb,L\\x00\\t\\x16\\x1b\\x01A\\x1b-\\x0c\\x00\\x13\\x1c?53\\x17\\x11S\\x13\\x1c\\nN\\'P\\x0c[&\\x17T\\x00\\x02\\x07NIAR\\n\\x1b\\x00\\x0cR9\\x1b0R\\x08\\x07\\x13\\x00\\n\\x00\\'RM\\x1aH\\x04\\x07NIO\\x02\\x1cA\\x1a\\x1d\\x1a*E\\x1c:7t\\x17.\\x10\\x19\\x06\\x0c\\x07\\'NM\\x1a\\x0bIDC\\x06\\x03\\n\\x1a\\x0e\\x10N\\x04EE\\x06+\\x1b1\\x1d\\x08\\x05\\x15\\x1dON6UM\\x1a\\x1fE\\x00K\"\\r\\x06I\\x05\\x10\\n\\x08M\\t\\\\,\\r;\\x1d\\x02\\x01\\x1cI\\x06\\x01n*\\x19O\\x1c\\x00LF\\x0cONIAR\\x05c', b\"\\x0fe\\x07\\x01S\\r\\x0cLY\\x00\\x01\\x05>F6\\x1aI\\x00ER1T5\\x1d\\x0cT\\x0eI\\x02\\x076S\\x05_\\x02\\x0cLNE\\n\\x0b\\x05A5\\x01\\x0cTEx7\\x139x\\x14\\x07\\x13\\n\\x00\\x0b\\x16OM0\\x11\\x16I\\x00\\n\\x0bN \\x02RN\\x05G\\x00\\x176Tt\\x17\\x13\\x07\\x06I\\x01\\x0f+G@q\\x1bED\\x00\\x17\\x1d=\\x0f\\x08\\x16'\\x0fT\\x06;=\\x1d5\\x17G\\x00\\x19\\x0c\\x07NbT\\x03U\\x18\\x11\\x00V\\x13\\x1b\\x1dIA\\x17\\x1c\\x05WE\\x1d7'<RK\\x11T\\x1dO\\x01&\\x00\\x0c_\\x18\\x08\\x00H\\nO\\x1a\\x02A\\x01\\x17\\x0e\\x003\\x114\\r1\\x1b\\x14\\x16\\x15\\x07\\x1dN#I\\n\\x1a\\x04\\rTI\\rOI\\r7\\\\\\x07\\x1b\\x00\\x04\\x060\\x1c&\\x17\\x13\\x1c=\\x0e\\x00\\x05\\x0bN\\x01T\\x1dEAUE\\x07\\x1a\\x19\\x05RN\\x04y\\x0c\\x00*\\x1dt;\\x0b\\x01\\x13\\x06\\x00\\x03\\x11B\\t_\\t\\tLc\\x04\\n\\x1b\\x01\\x15\\x02\\ncW\\x11R9\\x01;\\x1d\\x08\\x02\\x01\\x08B\\x0b0T\\x05\\x1a\\x11ENM\\x00\\x01\\x06c1R\\x1d\\x0eB\\r\\x15,\\r;\\x1d\\x0e\\x14\\x1b\\x06O\\x1a7\\x00MRH\\x08MTE\\x0e\\x03\\x1d\\x14R>IS\\x11\\x009\\x017\\x10\\x08\\x1c\\x1b\\x1d\\x16\", b'\\x02\\x1fNINE\\x1e!\\x117RG\\x16\\x07\\x0c\\x1b\\x1aHH\\x19_\\x0b\\x0bNE\\x08\\x16\\x02\\x10\\x02RNIG\\x10\\x06=\\x17^UG\\x1f\"\\x06\\x1bN*W,O\\x01\\x0bwTE\\n\\x0f\\x07A\\x1aN\\x08iE\\x17*\\r\"R\\x08S\\x11\\x1d\\x04\\x0f\\'AM[\\x1c\\nA\\x00E\\x00\\'\\x02\\x0f\\x06\\x01ZN\\nxx\\x18<\\x1d\\x12\\x01\\x17\\x06H\\x0b*AM\\x1a\\x1a\\x0eTL\\n\\x1c\\x02\\x0c\\x05+\\x1c\\x0eUE\\x1d+\\x111\\x1bGy\\x1dIA\\x02*PM\\x1a\\x07EH\\x00\\x04e\\x07\\x1a\\x0cRd\\x07\\x00I\\x1b4\\x1d,\\x01\\x06\\x16~I\\x06\\x07!A\\x08S\\x07ENEE\\x1dI\\x08k\\x1c\\x00IA\\tR,\\x1a1x\\x15S=I\\x01\\n\\x05Z\\x01_\\x01\\nRR\\x0bH\\x0b\\x1e\\x00UI\\x00AE\\x1f6\\x13^\\x06GST\\x10e\\x17-SC_\\x06<\\x00\\x00E\\n\\x1aI\\x04\\x1d\\x0bI\\x00\\x10\\x0b71:R@\\x1aXIO\"+O\\tT\\x1a\\x08SN\\x10O\\x1aDM\\x17\\x06\\x08WI\\x16?\\x11&\\x16\\x0ey\\x18\\x0f\\x06\\x01-I\\x02RHEYT\\n\\x18\\x01\\x19A\\x01\\x17cA\\x08\\x17=T^\\x06\\x12\\x16T\\x1a\\x03\\x08+LMC\\x06ION\\x0b\\x01\\x06I', b\"\\x1fI\\x1bdeM\\x08\\x1a\\x04\\x16TO\\tO\\x1d\\x00\\t:\\x0f\\x01S\\x17\\x1bxXt\\\\\\x02S\\x1f\\n\\x02\\x0f+SMN\\r(SS\\x0c\\x0eO\\x01\\x15\\x17\\x07\\x07\\x00\\x13^0\\x159\\x06\\x12\\x07\\x07\\x0c\\x0b\\x02eOMVH\\x00TK\\x06O\\x06\\x00\\x18RN\\x10\\x00\\n\\x14<\\x00$\\x07GS\\x10I\\x00N-M+V\\x01\\x1cCP\\x04\\n\\r\\x04\\x02\\x13\\x00\\nA\\t\\x17v\\x1d:\\x1d\\x0e\\x01\\x11\\x06\\x16NeTMN\\x1a\\x17CP'\\t\\x0fIA\\x17\\x02\\x1dG\\n\\x1f7\\r6!G\\x03\\x11\\x1ae\\x07;\\x00\\x03S\\x06\\x0cOGE<\\x1d\\x07\\x13\\x00\\x00IN\\x10\\x13\\x7fT2\\x17G\\t9\\rH\\x1a.\\x00\\x19UO\\x17nE\\x07?dNA\\x17\\x07\\x0c\\x00\\x11\\x07=\\x1dt\\x1f\\x13\\x1d\\x19\\x04O\\x056T\\x08^\\x00<\\x00*\\x01\\x03\\x01NA\\x07NI\\x00B=;\\x1d6\\x06K:\\x18IO\\n1S\\x1fTDEdR\\x0bO\\x0c\\x0c\\x04\\x06\\x1c\\x06C\\x00\\x17=S5\\x05\\x13STI\\x00\\x1a'\\x00\\x08\\x1aH\\x1c\\x00S6\\x0e\\x1b\\nA\\x0b\\x1aIA\\x08\\x05t\\x11t\\x1c\\x00\\x1f\\x12\\x00\\x00d6UM\\x1a\\x055\\x00SE\\x1c\\x0f\\x08\\x14\\x11\\x0b\\x07\\x00\\x0eR!XxR\\x06\\x1e\", b\"O\\x1c\\x01 R\\x07IG\\t\\x060\\x128\\x1f\\x0f\\x1d\\x11\\x00\\x1d\\x0bbA\\x01NH\\x0b\\x00T\\x01O\\x01\\x10\\x0f\\x1c\\x1a\\x0f\\x00\\x15\\x0bx\\x1d:\\x1cGS\\x1cI\\x03\\n&EMC\\x1a\\x00\\x00S\\x17\\x1b\\x1c\\x00\\r\\x1f\\x19cI\\x11R0T5\\x10\\x06\\x17T[\\x1b\\x0f.\\x00\\x0b\\x1a\\x00\\tGC\\x0cO\\x1d\\r8\\x11\\x0b\\x06U\\x0e\\x1f1\\x113\\n\\x0eS\\x00\\x1dO\\x0fb\\x00M\\x1a\\x03ENL\\x00\\x01\\x1bIk\\x1e\\x1c\\x0eYE^=\\x11!RGy\\x13\\x1b\\x0e\\x07+N\\x14W\\x07\\tPW\\nO\\x0f?\\r\\x17'NK\\n\\x11x\\x135\\x1d\\x13\\x14\\x18\\x10\\x06\\x07e\\x00\\x1f\\x1a\\x1f\\x17\\x00L\\x1c\\x00NI\\x0e\\x1d\\x1a\\x01\\x00E\\x177T-RmS\\x18\\x1bO\\n T\\x03\\x1d\\x18\\x08\\x00TE\\x0eN\\x1d\\x04\\x1b\\x1cI\\x00\\x11\\x1d0';\\x17\\x12K\\x00E\\x02d5\\x00L[\\x1c\\nT\\x00E\\x03\\n\\x04\\x0e\\x13\\x0b\\x00GE\\x119\\x11s\\x01\\x06\\x1d\\x00\\nCN'\\x00M\\x1a\\x1c\\x17AL$\\x0ed\\x1cA\\x13\\x17\\x08*\\n\\x10+T5\\x0b\\tS\\x03E\\nd6U\\x05\\x1aHo\\x00I\\x04\\x1a\\r\\x1c1R\\x1d\\x06O\\x00\\x1e>\\x1d6\\x13\\x1e\\n\\x1aIO\\x016Y\\x1a\\x1aHE*T\\x10\"], 16: [b'\\x1dI\\x01T\\t\\tRe~B:R\\t\\x0fH\\x16NxS+\\x0c\\r\\x19\\x1d\"O\\x07\\x05\\x009\\x1cgSA\\x0b\\x17\\x01V\\n\\x1bR\\x06\\x0f1\\x18d<\\x07\\x11E\\x1dZT\\x13EC\\x0fL:\\x1dMG\\x13\\x00\\x1d\\x07\\x1d\\n\\x1e\\x1d(\\x1c\\x1a\\t\\x1c6\\x16+E\\x17\\x0c\\x1d\\x11\\x00i\\x04K,\\x1a\\x04O\\x133\\x17\\n\\x1aE\\x1b\\x1e\\x00\\x1a\\x04\\x07\\x067S\\'E\\x03\\x0c\\x1c I\\x00\\x1e\\x00<\\n\\x08U\\x08E\\x17e\\x1a\\x1c\\x17=\\x0b\\x1d\\x07\\x03\\x0b:\\x1bbE\\x1b\\x0f\\x1f\\x00OD\\x06A5\\x08\\x04yAI\\x1dOS6R^\\x00dH\\r\\x179\\x1f7\\x00\\x1b\\x06T\\x1cWY\\x08S0\\x08\\x1aNA\\x10', b'B\\x1cI\\x1c\\x11\\x00T>jt\\x00\\x19\\x07F\\x08\\\\\\x020\\x08\\x1c\\x06\\x08\\x01\\x0c\\x0e\\x01+S&\\x0bN:\\x11\\x07ODII\"\\x1a\\tN\\x18\\x00\\x13&\\x1aE\\x1d\\x07\\x08N\\x1b\\x00N1\\x01+EN\\n\\x1dT\\x00N\\x0c\\x0ct\\x05MV\\x00\\x03RAUI\\x00\\x1fK\\x0f\\x1cOd;S\\'\\x0c\\x1a\\x07\\x04\\x18AL\\x06*2\\x07\\x18R\\x0e\\t\\x17\\x06M\\x07\\\\\\x1a\\x06\\n\\x01\\x07\\x002\\x1d\\x0b\\x11NI\\x13\\x13SNNy1\\x08L\\x00AIRO_\\x00\\x06\\x11@\\x07HO\\x1c9S,\\x17\\x1a\\x04\\x1b=\\x00N\\x0cN5\\x0fMO\\x11\\x08\\x1dCT\\x04\\x01\\\\\\t\\x00\\x05\\x0e\\x06x\\n+\\x00\\x1a\\x01X\\x1bN', b\"\\x1f\\x0ed\\rOd0\\x16b\\x04\\x1a\\x01T\\x07A\\x00\\x10i;IMN\\x12\\x00\\x1c\\x1b\\x1a\\x07\\x1d^\\x14\\x01H\\x1bNx\\x03'\\x00N\\x08TTAN\\x1dS$I\\x1dU8\\n\\x1d\\x02U\\x04\\x16\\x17\\x1e\\x0f\\x1a\\x18=x\\x01b\\rN\\x0e\\x11\\x17EYIWt\\x05\\x14\\x00\\x15\\r\\x1de_\\x06R\\x11\\x06\\x01HO\\x004\\x03e\\x17I\\x0c\\x1bT\\x00T\\x1a\\x00-I\\x0cNA\\x11\\x17HOEURm\\x01\\x00\\x07\\x1a<K-\\x04\\x05I\\x1d\\x13\\x00I\\x04\\x00t\\x06\\x0cR\\x15\\x04\\x06CT\\x06\\x16\\x17\\x13\\x0b\\x1dO\\x17?\\x05%\\x1c\\x1b\\x0eT\\x18UYID-\\x00MKM\\x00\\x06\\x06SE\\x11\\x00G\\x07H\\x01\\x05\", b\"MN E\\x14&_\\t6\\x1e\\x13\\x0b\\x0bO\\x00RS6\\x10d\\x0f\\x17\\x07\\x00I\\x01T1\\x07MTA,\\x13\\x0b0\\r\\x01R\\x08\\x00\\teN6T-\\t'I\\x1a\\x1bMD\\x10U3\\x06\\x0bO\\x0f\\t\\x17\\x0eN\\x00+\\x13\\x0c\\x0b\\x1a\\x1b\\r7y*\\x0b\\x1dI\\rT\\x00N?\\x00;\\x08\\x0cGA\\x11\\x01\\x06S\\t1\\x17GN\\x07\\x1c\\x1a,S;Ed\\x1bT\\x16TRIS^\\x04\\x01y\\x0f\\x11\\x06\\n\\x1a\\\\\\x07\\x00\\x02\\x0f\\x1c\\n\\x1d,\\x121\\tN\\x05\\x11XNHIC;IMLME\\x05\\x00\\x1a\\x00RR\\t\\x01\\x1f\\x0e\\x1dt\\x14bE\\rc\\rT\\x00\\x00\\x1dT IMF\\x15&R\\x16\", b\"\\x0b\\x13TML\\x07\\x008\\x0c\\x01IA\\x17\\x1dO0\\x01R\\x063\\x02\\r\\n\\x174S*EI\\x1d\\x15\\x13\\x00G\\x00i5I\\x00K\\x02\\x0bx\\x1b[\\x16R\\x13G\\x0f\\x0cO\\x0bxS1\\x0c\\r\\x0f\\x01T\\x00T\\x04Os\\x06\\x03E\\x15E\\x1b\\x1bOo\\x17\\x1dG)\\x07e\\x0fx:;\\x08N\\x1d\\x13~RT\\x05N1\\x08\\x0cLk\\x13\\x1b\\x07U\\r\\x1d\\x06m\\n&\\x16\\x07=\\x1c66N\\x00\\x1b\\x17\\x00\\x00\\x19MtECN\\x0fE\\x06\\x00\\x1a\\x01\\x13\\x0b.\\x02HO\\n=:'\\x08\\nc\\x11TTA\\x1c*&\\x1d@KA\\r\\x0b\\x06\\x1a\\n\\x10\\x06GdH,\\x06>\\x16n\\r/\\x07\\x01\\x11O*I\", b\"\\x0f\\x01\\x1d\\x07!S E\\x1dI\\x1a\\x13AN i&\\n\\x05O\\x0e\\x15U\\nVB\\x17x\\x13\\x06\\x1a\\n\\r=\\x00e\\x16\\x1d\\x0cT\\x11Ys\\x01\\x00t\\x05\\x14C\\x0fE_OV\\x17R\\x1e\\x0e\\x0bH\\x1b\\x0fv\\x00b\\x16\\x1b\\x0e\\x11TACI\\x07\\r\\x1bM*\\x0e\\x10!O[5\\x17\\x1b\\x15\\x07\\r<\\x177\\x1feE\\x1b\\x02\\x1d9IN\\x1b\\x001\\x1c\\x05sA\\x04R\\x01\\x1d\\x0bR\\x02\\x0f\\x05\\x1d\\n\\x1a0S'\\x0cNI\\x1d\\x10*TI*t\\r\\x1fcA\\x15\\x01O\\x1a\\x06R\\x17\\x087H\\x0e\\x06+T\\x11\\x1c\\x06D\\r\\x03I\\x00\\nGt\\x06\\x05T1\\x08\\x1d\\nOER\\x13G\\x01\\x06O\\x03\\x08\\x1e\", b\"\\x02\\x0b\\x1d\\x04\\x1a\\x00\\x13\\x06\\x0f\\x1aO\\x06\\x14xTe\\x10\\x01IT\\x03TS\\x05A7I,\\x00\\x04\\x0c\\x06\\x00\\x1a\\x16\\x1f\\x17\\x06NbON,\\x16.\\n\\x0bI\\x15\\x10G\\r\\x1eU<c\\x04O\\x02\\x06\\x13\\x01\\x1a\\n6RGN\\x18\\x02\\x00=y0\\n\\x0b\\x1d'\\x10\\x00P\\x1aNz\\x19\\x03H\\x0f\\x17\\x1d\\x06J\\x04R\\x13\\x14\\x1d\\x03\\x00\\x00?\\x1c%\\x17I\\x0c\\x00\\x18ZTNSt\\x0e\\x0cA\\x04ER\\x07[\\x01R\\x1c@d\\x06O71:\\x11\\x04N\\x001\\x19IO\\x0cW1\\x1dMN\\x0e\\x08\\x1c\\x00\\x1a\\x17\\x1d\\x10\\x0eNH\\x07\\x1a,S-o\\x01\\x08\\x1d\\x18UM\\x08N6\\x1a\\x19L\\x16\\x0e\\x10\\nV\\x10\", b'\\x1f\\x07C\\x0cG7\\n\\x05A\\tE\\x00\\x16N\\x08\\x1f\\x15\\t\\x0f\\x02C\\x1dx\\x1fb\\x04\\x19\\x07\\x13\\x1aN\\x00\\x07*=IM\\x00\\x00$\\x10\\x04[E\\x1b\\x14\\x13\\x1a\\x06O\\x01x\\x1c!\\x1c=\\x1a\\x01\\x00AK\\r*:\\x0c\\x03CkE\\x0b\\x0b\\x1a\\'\\x17\\x07K\\x07\\x07C\\x1e9\\x03&EBN\\x1d\\x13\\x00\\x00\\x07\\x00t\\x08\\x1fEA\\x00\\x04H\\x1a\\x10\\x00\\x17\\x15N\\r\\x06\\x070Sb\\x08\\x0b\\x1b\\x1aTTA\\x08V;\\x10M\\x19kB;\\x00TE\\x1d\\x1cm\\rD\\n\\x1ax\\x1d+I\\x01\\x1cS\\x01EY\\x1cW1I\\x02S1\\x08\\x1b\\nR\"R>\\x00\\x1a\\x04\\x0e\\x1d=\\x01)\\n\\x0fI\\x1dTYOIA\\'', b\"ON3S+\\x16\\x05\\x08\\r\\x11HLIHtIMT\\x0f\\x10RON\\x0c5\\x07\\x06\\n\\x01OI7\\x07\\x16\\x0b\\x07c\\r\\x1aNE\\x00G;\\x1a\\x0b\\x00\\tE\\x1f\\x00q\\n\\x19\\x1f\\x12\\x1a\\x1bO\\x00=SHE\\x02\\x06\\x156T\\x00IM!IJ\\x00\\x0c\\nR\\x1d]\\nR$GN\\x06O\\x02(\\x14!,\\x00\\x0cT\\x15\\x00IIA3\\x06ME7\\x15\\x19O_\\x02\\x1c\\x1b\\x13\\x05\\x0f\\x0e\\x1c6\\x07'\\x12\\x01\\x04D-\\x00\\x00\\x1c\\x077I\\t\\x07\\x12ER\\x0cI\\x01\\x06RG\\x1e\\x1cON/\\x14'E\\r\\rT\\x18UTIA;\\x1e\\x0cIA\\t\\x0b\\x06\\x1aE\\x0b\\x0b\\x1e\\x08\\x1ceN!\\x1c;\\x0c\", b'\\x13\\x1bS\\x12\\x00\\x06G\\x1aH\\x02\\x0f1y\\'\\x0b\\x02\\x02\\x06\\x10SL\\x0eO:\\x06\\x1eYA\\x13xO\\\\\\x17\\x1aU\\t:H\\x0b\\n,\\x17\\'\\x0b\\x1aI\\x00\\x06FA\\rN0E\\x08P\\x08E\\x13O\\x1a\\x08;_\\x0eN\\x06\\x1a\\x1c+\\x1c#\\x11\\x0f\\x05\\x1a\\x11NH\\x06H;\\x1a\\x0cY\\t\\n\\x01\\x06OE\\x00\\x11\\x03N\\x1f\\x1d-6\\x07.\\r\\x01\\x1aT=PEc\\x00&\\x06\\x03T\\x00\\x0cR\\x0e^ER\\x1c\\x12\\x17H\\x00\\x08;\\x01b\\x04\\nI7Tyd\\x01T!\\n\\tCAE\\x05BR\\r\\x13\\x16\\x08\\x17\\x1b\\x0e\\x1d=\\x116E\\x06\\x10\\x11\\x12\\x00\\x00\\nO^IM\\x00\\x14\\x11\"\\x02\\x1a\\x0bR\\x11', b\"N\\x01N<\\x05\\x0cOF\\x06R\\x1d_3R\\x1d\\x02\\x07\\x07O\\x1a=\\x1cbBO\\x0cT\\x1dEw\\x08F;\\x0cM\\x00\\t\\x11RONER\\x17\\x02\\x03\\x00\\x00\\x1b3S-EN\\x1a\\x11\\x17*N\\x0bA5N@L\\x05E\\x06\\x16N\\x13\\x19RG\\x02\\x07CN7\\x11'\\x0b\\x0f\\x07\\x11\\x15\\x00O\\x02N5\\x10\\x08\\x00\\x03\\r\\x17\\x1d\\x1d\\x17\\x1dR\\x11\\x01\\t?\\x07x  \\nN\\x0c\\x1d\\x19NF\\x19\\x00^\\x00MRA\\x0c\\x07\\x0e[E\\x1a\\x1c\\x08\\n\\t\\r\\x019\\x1a'\\x17\\x06\\x06\\x01\\x17BADE \\x02\\x08MA\\n\\x0b\\x06\\x1a\\nR\\x05\\x0eNH\\x1a\\x17,S,5\\x03\\x10\\x1d\\x1aLL\\x1ccx\\x1dM\", b\"<\\x16e\\x0c\\x1d\\x1a\\x12\\x07Uz\\rS5\\x04\\x19T\\x02\\t;ONE\\x06^GN!\\tN0\\x07b\\t\\x1c\\x08\\x19\\x11HT E:[MN\\x18\\x00\\x07\\x01_o\\x11x.N\\x1a\\n'<\\x16b\\x0e\\x03I\\x15\\x11T\\x00\\x00Y1\\x0c\\x03LAERBW\\x04\\x06S\\x1e\\x07\\x18\\x1ddx\\x16)\\x0b\\x07I\\r\\x01Y\\x00\\x08\\x00-\\x07\\x19I\\x0f\\x08R\\x01[\\x11\\x13\\x07\\x13B\\x06\\x0eI9\\x03\\x0b<\\x1a\\x08T\\x00S\\x07\\x1aN6\\x06MN\\x0e\\x10\\x17\\x1a^\\x0b\\x02\\x17GN\\x1a\\x03\\x0b6S0EB\\x08\\x11\\x15N\\x00\\nB-\\x0f\\x05T\\x05\\x04\\x1c\\x00R&^\\x1e\\x12\\x01\\x1c\\x04\\x0b9\\x00-E\\x06c\", b'\\x1aER\\x1eG\\x17HO\\x1a\\x7fSb\\x0b\\x07I\\x00\\x1fS\\x00\\x05\\x00^\\x01M*\\x15ER\\x0eCEUR\\x02\\x02\\x11O\\x0b0S0BN\\x10TT\\x00G\\x02\\x00e\\x02+\\x00\\x00\\x06\\nH\\x1a\\x11\\x14\\x17G=\\x00\\x01\\x1c!\\x1d.\\x17\\x1d\\x06\\x1b\\x13PNDE6\\x1dM\\x00\\rI\\x16&CE\\x01\\x16\\t\\x07\\x07\\x16N2\\t#\\x0c\\t\\x01\\x1a\\x13APN\\x005\\x1a\\x03RAB\\x06OT\\x00R\\x1dG\\x00\\r\\x06N*\\x07b\\n\\x1a\\x1aS\\x1aSLI\\x00sIMD\\x15\\x00\\x1dOT$\\x17\\x06G\\nH\\x01\\t,S-E\\x1b\\x00\\x11\\x1bNK\\x1cA;I\\x0cS\\x14E\\x0bOC\\x0c\\x1f1\\x06', b'i6\\x06\\x08YA\\x08\\x1f\\x1bI\\x04\\x15\\x1b\\x0c\\x02\\x01ON:\\x16/(\\x0b.~\\x1cWYI\\x009\\n\\x19\\x07\\rE\\x15\\x16[\\x06RRJ\\x0f\\x1c\\x07\\x0c0S+HN\\x06\\x18\\x00AP\\x04Tt\\x05ML\\x00E\\x0b\\x16UB\\x17^G\\x1a\\t\\n\\x027S \\t\\x07*\\x1d\\x18\\x00\\x00\\x07O5IM\\x07\\x12\\x10\\x1b\\x1bU\\x1c\\x1c\\x1cG\\x0bOO\\x147S\\x05\\x17\\x0b\\r\\x1d=\\x00I\\x1dA0\\x1d\\x18*\\x05\\x04\\x1f\\x02_I\\x06\\x16K\\x03\\x1cH\\x0b7\\x10HE\\x0cc\\x1b\\x1c\\x00S\\x1aA:I\\x05bA\\n\\x16OR6\\x0b\\x15\\t\\x1aH\\x18\\n!S6\\x08\\x02\\x10\\x1dT*\\x00\\x05\\x007\\x0c\\x02T', b'e\\x00\\x00I\\x11\\x1dEY\\x00\\x00:\\x06\\x01E\\x00\\x0b\\x1b\\x02_\\x11\\x0b\\x0bG\\x01;\\x0e\\x077\\x17;\\x00\\x0f\\x01\\x07\\x1bOIIT5\\x1d\\x1d\\rF\\n\\x17\\n\\x1a\\x0c\\x06@\\x08\\x1c\\x01\\x1d\\x021S*o\\x17\\x01\\x1d\\x19*IIUtIMPA\\x03\\x06\\x0e\\x1a*\\x1d\\x0bG\\x01\\x1c\\x0e\\'4\\x077E\\x1d\\x0eTT\\x00N\\x01Ct\\r\\n*AEx\\nI\\x16\\x17\\x06\\x14N\\x18H\\n;\\x1a6E\\x06I\\'TRE\\x10\\x00t\\x0c\\x14\\x00\\x04E\\x06OT\\x04+\\x13\\x06\"\\x0b\\nd=\\x02b\\x1cd\\x08\\x1b\\x03N\\x00cA5E\\x02K\\x04\\x07\\x1cO\\x1a\\x01R\\x17\\x02N\\x0b\\x1c>5\\x1c6IN\\x04T', b'\\x1f\\x1eG\\x1a\\x04\\x01Nx\\x1dH\\x01\\x07\\x05X\\x0e\\x07N\\x10GtIMSA\\x08\\x06\\x03O\\x04\\x1dR\\x12\\x0bH\\x18\\x19*\\x1fb\\x0b\\x06\\x05TT\\x00A\\x08* I@NA\\x0e\\x1d\\x0e[\\x04\\x13;G\\x0b\\x03\\x1c:6\\x07e\\x11d\\x19\\x11\\x1dE\\x00\\nG<\\rMW\\x0cDRHS\\nR\\x05\\x13\\x07b\\x1c\\x1e\\x7f\\x16)\"NI5\\x13Tn\\rS;\\x1b\\x01\\x00k\\x15\\x1f\\x00\\x16\\x02\\x1b\\x1f\\x08\\x03\\x07\\x03NyS5<\\x02N\\x07\\x18B\\x00\\x1dG:\\x06MC\\x04\\x11R<\\x1a\\x10\\x10\\x06m\\x1a\\x11\\x1dB+y6\\x1cNI\\rTO\\x00\\x19M=\\x0fMT\\x15E\\x13\\x03O\\x10\\x1aR\\x08\\x0b\\x0e'], 25: [b'\\x1d\\x1b\\r\\x1d\\x00\\x1f\\x1a\\x01I\\x08\\x026\\x00\\x0e\\x0b\\x1fOY\\x1d0\\x13\\x19\\x16\\x19\\r\\x1aNe\\x10t\\n\\x06\\x1dN\\x1dN\\x0c\\x04\\x06GHN\\x05\\x13\\x1dAP\\x176\\x11\\x14\\x04\\x0f\\x1d\\x19SO\\x075\\x06\\x07\\x1bC\\x04\\x1a\\r\\x1a\\x08m\\x05Tk\\x1b\\x1dNyR0TM\\x1c\\x08\\x1d\\x06\\x1aH\\x00:\\x0cH\\x06C\\x1d7\\x1c\\x1cI\\x08%\\x00A\\x15SOI\\x01,T\\x0cE>\\x1d\\x08\\x1a\\x01c', b'B\\x01EG Y\\tRyATR:\\x03M\\x0c\\x01T\\x07C\\n\\x01=\\x01HNEx\\x0f\\n\\x08E\\x08-D\\x00\\x1eSAG;x\\x11\\x03B\\x00\\x11IUCI6O\\x1cBK\\x01\\x01\\x0b\\x05\\x10\\x14)I\\x0eRSAs\\x170 \\x03EI\\x1b\\x1d[\\x03\\x041\\x0e\\x1c\\x1a*\\x06\\rE\\x01\\x04G\\'S\\x0e\\x06\\x14\\x00MR,\\x03\\x02\"\\x17\\x11\\x00R,\\x106\\x03\\x1c\\x1acR', b\"\\x1f\\x16MY\\x13x\\x11\\x193\\x00\\x00\\n_C\\x19:\\x1b!I\\x00\\x06\\x0b\\x0bI\\x11\\x080sF\\x14\\x07FU\\x11x\\x00\\x04\\x04\\x00\\x1dNN\\x01\\x0et\\x0b\\x1a\\x0fWR)\\t\\x1aDG'OA\\x16\\x1f\\x00E\\x1b6T\\x19\\r\\x14\\x00\\x1b_\\x07\\x0c^O\\x1d\\x06V\\x17\\x17\\x04\\x1aEK\\x11\\x00\\x12\\x11\\x1aNDR=\\x01\\x04\\r\\x17\\x11\\x1dR\\x07I;CH\\rA\\x1dN\\n\\x08\\x11G-*\", b\"ME\\x07\\x11\\n~\\x02\\x015O\\x01\\x01GR\\x01B\\x01E\\x13;\\x00AU\\x03HKR,T\\x0bE\\x1b\\x1a\\x02V\\x1d\\x1a:O\\x1a\\x03O\\x0bN\\x11I\\x03G*N\\x0e\\x0b\\x03\\x00YRx~M\\x04\\x1eT\\x07\\x1d\\x1c\\x011\\n\\r\\x03\\x00\\x17B6\\x1dE\\x08'NA\\x00\\x07*\\x00\\x1d:T\\x0c\\x0b\\n\\x1b\\x1d\\x1aO\\x04 \\x00H\\x06A\\x1bdEI\\x04G6M\\x15\\x0b\\nLF\\x1f\\x08\", b'\\x0b6\\x04\\x04\\x05jR\\x0b\\x0b \\x0b\\t+L\\x12^SW\\x00\\x1d7\\x07M\\r\\x0bT\\x1d[\\x18I$\\x01\\x0cNU\\x1d\\x1aE\\x0b\\tGbIk\\x1d\\x1cEL\\x177\\x10M\\nd\\x11\\x08C<\\x0et\\n\\x1fI\\x00\\x1b\\x0b\\x17\\r\\x15\\x06 RA\\x02\\x1aTUR<\\x00CI7\\x07I_\\r\\x05sO\\x0b\\x01A\\x05\\x0bE\\x1c\\n\\x0e6T\\x11\\x05\\x14NTR=\\x1cME\\x0b\\x01\\x0cV', b'\\x0f\\x00\\x0c\\tGbzA\\x1bT\\x07T\\x1c=\\x07MB\\x07\\x13\\x1c\\\\\\x1b\\x085\\x16b\\x06G\\x13\\x03\\t\\x02E\\x08!C\\x08\\x17\\x16\\x00L666M\\x13\\r\\x1b\\x1b\\x1aC\\x0c;e\\x18NO\\x1d\\x07,\\x06\\rG#NA\\x17SPN\\x13==\\x0c\\x02\\x1c\\x13\\x00\\x1a\\x06It\\x00\\x07\\n\\x00\\x17\\x02E\\x0c\\x11G,AM\\x06TNSR=\\x18\\x05\\n\\n\\x1d\\x0f\\x1a\\x0e\\x10 O\\x06NA', b\"\\x02\\x1eS\\x00O6\\x7f\\x13\\x01\\x08N\\x06IN\\n.7\\x03\\x01NF\\x13\\x02\\x16I$\\x06'N\\x18\\x13SGN\\x191\\x17\\x0b\\x11\\x0f\\x1d\\x0c\\x1d\\x1a\\x0e1\\x1b\\t\\x0bGR\\x0f\\x0b?I\\x157\\x00\\x13\\x11\\x03YL\\x1c?\\x13M\\x07\\x07T\\x1a\\x1dH\\x1b<\\x0e\\x00\\x1aM\\x1fd<\\x1cI\\x081LA\\x13\\x1dOC\\x166T\\x05\\x17BT\\x0f\\x1a\\x0e\\x00tO\\x04\\x1bO\\x06\\x01\\r\\x05\\x0e\\x08;\", b\"\\x1f\\x01\\x12d\\x12\\x0cI\\x06\\x05t\\x02\\x07d\\x00U\\x01\\x04\\x05\\x13\\x14bG\\r\\x17\\x1fNNR6T\\x14\\x0c\\x01TEU\\n\\x0ft\\x01\\x03\\x02\\x0c\\x06\\x0b\\x17I\\x03K+H\\x15S:\\x00HR(\\x18\\x08\\tN\\x1d\\r\\x1a\\x07\\x1a-\\x01&\\x0bS\\x1f\\x05\\x11\\x19\\x11G'Ek=\\x01\\x00N\\x137\\x19M\\x01\\x1c\\x01IT\\x0e\\x081O\\x1b\\x1bB\\x0b\\x1ao\\x19\\t\\t,\\x00\\x14\\x13\\x1cYNR\", b\"OI<&H\\x1d\\x00\\x00\\x0f\\x0b\\x10\\t3/SA\\x07SETU=\\x1bM\\n\\nT[[\\x07I \\x00\\x1bNU\\n\\x0bo\\r\\x00\\x0eb\\x00\\x15^yE\\x00\\x007TM5'\\x1d\\x1aOOI1\\x1b\\x03NA\\x17\\x01EN\\x04\\x14b\\x00\\x00R\\x03\\x00*Ry-LE\\x1dS\\rT\\n\\x0f!C\\x1a\\nA\\x1c\\x1aE\\x0c\\n\\t-\\x00\\x04>\\x1f\\x00K^>T\\x19\\x10NX\\x1d\", b'\\x13d\\x0c\\x07\\x08\\x0fHLF\\x1dSSO\\x0bx\"\\x1e\\x07N\\x15\\n\\x1a\\x18c\"O\\tN\\x00\\x17\\x1aE\\r\\n.1P\\x02;S\\x00L+!TM\\'\\x1c\\x1a\\x05We*zH\\x06\\x1aN\\x01\\x07E\\x01\\x00\\x00.T\\x0f\\x06SZ\\x00\\x1c2\\x19\\x01\\x00\\x1a\\'\\x10\\x1a\\x00I6\\x00\\x1cNGR\\x07\\x17I\\x00\\x08bYA\\x16\\x05NK\\x0b,T\\x0c\\x04\\x17\\rIO\\x1cI0\\x02H\\x06', b'N \\x1eSEA:1\\x07\\x19\\x01NTIN\\x0e\\x0c1\\x0e\\x1a\\x0f*\\x17:\\x00 \\x0bJ.A\\t\\x07SM\\x00R1\\x00M\\x08=\\x15\\x06U\\x02\\x19!A\\x07\\x1dE!\\x01E\\x04\\n\\x06)T\\x12\\x13\\x16\\x00R\\x1d,\\x13\\x05\\x16\\x07\\x1c\\x06O\\x0e\\x000\\x07\\x07\\x01y\\x07\\x0f\\nIEmbd\\x15\\x17:\\x00N\\x10/=\\x08\\x00\\t\\rER\\r\\x10-\\x00H\\x02N\\x13\\x08\\x00\\x1c&\\x06', b'<T\\x08\\x00N\\r\\x00_OI&\\x02\\x02\\rO\\x1cNEI\\x0c\\x12\\x16D\\tRSY\\r\\x1b<\\x06\\x1do\\x0b\\x18c[O\\n5\\x0e\\x00\\x1bU\\x0b\\x1c\\x11IEG P\\x0c$S\\x00G\\x017T\\x1fE-\\x1b\\x07UO\\x0c;O\\x01NS\\x06\\x05E\\x08E\\x12-\\x07\\x0f\\x16:B\\x07\\x069XM\\x06dS\\x08RO\\x08&OHNA\\x1dNE\\x1c\\x08\\x02)Y\\x14\\x00\\x00OT', b'\\x1a\\x1dI7eH\\x1aS\\x1d\\x02\\x10\\x10\\x10\\x08bI\\x15x\\x17NS\\x1ax\\x11\\x00\\x06NT\\x1a\\x1a\\x00IeO\\x01=L\\x13\\x0f\\x0e\\x04EGe\\x00\\x00RyP*\\x1d9\\x11\\x0c\\x06d\\x13IJ\\x1c\\x0c2\\x1d\\x07\\t\\x00xNEc\\x11\\x136I\\x04\\x1f\\x07SR\\x07*\\x10\\x14E\\x0b7\\x06^Oc1<\\x1c\\x1aE\\x05\\n\\x1cc\\x08\\x006Y\\x05\\x06SUT\\x0bx\\x1aM\\x0c\\x03T', b'i\\x1d\\x1a\\x16>\\x06\\x13bN\\x00\\x15SSN\\x064\\x1c,\\x04I\\x11\\x0c0O\\x0c5\\x041\\x1aS\\x07\\x0fH\\x1e\\x0e\\x12+N\\x0f\\x17\\x00*C\\x1e+\\x17\\x03o\\x02\\'\\r]O\\x07;&\\r\\x1d\\x00\\x17N\\x17\\x08\\x13G%n7\\x1a TRR;T\\x08E\\x1aTE_ON7O\\tN\\x00\\x01\"I\\x06E\\x130AA\\x10yUORt\\x1b\\x05\\x01\\x1dTIS\\x04\\x077\\n\\x0e', b'eC\\t\\x06\\x16UI\\x15x\\x0eM\\x08\\x1a\\x17\\x01V\\x0e\\x079OH\\x1ci\\x15N\\x0b\\x00\\x00\\x02-G\\x0f@\\x1cEP\\x16<TM\\n:\\x15\\x05N\\x1b\\x06\\r\\x0e\\x07\\x17H\\x1d\\x07\\x08\\x07\\x17\\x13!L\\x03\\x17\\tI*\\x007=\\x0c\\x11\\x07\\x1d\\x0e\\x16\\x0eI^\\n\\rN\\x00;\\x1d\\x04\\x04\\x10.HO\\x04RSBL\\x17+\\x03\\x026\\x1dT\\x0f\\x1a\\x18\\x08=\\x06\\x05\\x03T\\x0b\\x01II\\x10', b\"\\x1f3\\x11\\x0c\\t\\x1a\\x1a\\x06N\\x16\\x02;O\\r\\x0bA\\x06\\n\\x0b\\x08,\\x02eI\\x00R\\x17ANR0\\x10@\\nN\\x11\\x06\\x1a\\x1b\\x01:\\x07\\x06NY\\x1b\\x1a\\n\\n\\nK'N\\r\\x1b\\x07\\x00O\\x004\\x01\\x0c\\x1c\\x005\\x06M?\\x1b5\\x01\\x18\\x0b\\x00R\\x01<\\x19\\x04@5\\x00A\\x1c\\x12Sc+x\\x00\\t\\x06\\x0b\\x11I\\x1a\\x1d\\r5\\x06\\x1f\\x1bG\\x1c\\x1a\\x00\\n\\x00\\x12n\\x00\\x16R\\x1cN\", b'ISO\\x1a8\\x1bO\\x07H\\\\\\x07\\x10\\x05\\x15Gb\\x07A^\\x07\\x00\\x07\\x1f*\\x1a\\tENT\\x05\\x1aOZ0\\x02\\x1a\\rT\\x13\\x0bE\\x0cE\\x0c.CA\\x07\\x16N\\x00\\x06x\\x18\\x03\\n\\x02\\x04\\x10S\\x16\\x02tH\\x04\\x01\\x00R\\n\\x17N\\x15\\x13\\x0bF\\x0f\\x1dSR\\x19\\x17;\\x13M\\x01\\x0b1\\x06IO\\x06;OHdW\\x1d\\x17\\x1c\\n\\r\\t-\\x00A\\\\S\\x00SR5T\\x1a\\x0b\\x05', b'\\x1cN\\x14\\x17E\\x00E\\t\\'\\x00\\x02\\x06\\x16TS5+\\x1dME\\r\\x07IV\\x0b\\x08:\\x1b\\x1c\\x0b*\\x1fNE\\x10\\x06\\x0e*K\\x13_\\x01TE\\x17=\\x1dJIN\\r\\x1d[\\x0eN,\\x06H\\x07N\\x1b\\x1d\"I\\t\\x11;PA\\x06SITU9\\x17\\x18\\x01ND\\x08[\\n\\x1atOD\\x1bT\\x06N\\x08\\x1a\\x08m\\'NARSIKR9\\x12M&\\x06\\x1d\\x1aOe\\x01x\\x16', b'\\x0eeLA\\x06\\x1dH\\x07RR\\x1f\\x05\\x11\\x1d\\x1d\\x06\\x1a\\t\\x1d9\\x00H\\x07IR\\x00B\\x01\\n\\x13\\x11A8xSAO\\x13=T@\\x00\\x1c\\x11I\\x1a\\t\\x05tB\\x07\\x07NRN\\x0c\\x02\\x11\\teNA\\x1e\\x07\\x00I\\x1d7\\x18\\x01\\x02\\x00\\x1d\\x04T\\nI;eH\\x05N\\x06\\x03\\x04\\x1dE@\\'H\\x15\\x17\\x02Ey\\x13?\\x15@6\\x1a\\r\\x1eT\\x1ac;\\n\\x0b\\x0fS\"\\x07EI', b\"NR!\\x1d\\x05B\\x0fT\\x040OItO\\x0cOTR\\x06\\x00\\x07\\x0b\\t'T\\x02R\\x16\\x00\\x00\\x1d3\\x1b+\\x17\\x02\\x01\\x1d\\x1a\\x18Is\\x16\\x18dMR\\x02\\x0bD\\x10G&i\\t\\x11\\x16R\\x07R\\x7f\\x15\\x18\\x17\\x1a\\x1a\\x1cI\\x06\\x0c&H\\x06NAR\\x03\\x12N\\x0c\\x02bT\\x04\\x1c\\x1byR\\x02=\\x1cM\\x10N\\x1b\\x02\\x1a\\x01D5\\nH\\x06D\\x1cd\\x08\\x08E\\x1e+L\\x151\\x1e\", b'\\x13\\x06\\x1a\\x01\\x08t\\x1d\\x0b\\x07i\\x1b\\x0f\\x0c\\x0e\\x00G*Y\\x04R\\x07O\\x00\\x010\\x11\\x1dEd\\x00I_O\\x06<\\x0e\\x1bNA\\x17=\\x16IE(#YA\\x1dS\\x00WR;\\x15\\x0cE\\x17T\\x08\\x1a\\x1d\\x0c-\\x07OIS\\x19\\n\\nIB\\x0f6A\\x08\\x1cKSN\\x061\\x18\\t\\x00\\x01\\x11I\\x1a\\n\\x1c5B\\x1dB*\\x16N\\x1cI\\x08\\x0ebK1\\x17\\x01W\\x00\\x119\\x11\\x02\\x10', b\"\\x01\\x00GR\\x1a\\x04\\r\\x17\\x0ceN\\x0f\\x06\\x1c\\x00*\\x177\\x1ag\\x17N\\x19I[O\\x05;&\\x00'\\x00_\\x1c\\x1c\\x0fE\\x1ebT\\x00R\\x07TV\\x197\\x13M*\\x1e\\x1d\\x1a_\\x1d\\x1d5\\x06b\\x00*\\x17N\\x0c\\x1bE\\x15'EA\\x07\\x1c\\x00A\\x1b6\\x13M\\\\N\\x1d\\x0cT\\x03It\\x1aH\\x0cWR\\x1e\\x17DEG\\x11\\x001^\\x11UT\\x10!\\x18ME\\x06\\x1dICO\\x04'\", b'\\x0bG+TF\\x1eSAE\\x1fx\\x10ME\\x17~IOO:;\\x0b\\x11\\x1dT\\x10\\x0f\\x0b\\x1d\\x00G+\\rA\\x1f\\x01*O\\x14v\\x19\\x03\\n\\x1c\\x11\\x0cO\\n\\x1d<\\x1d\\x1c\\x0f\\x00\\x16\\x07E\\x073\\x03e\\x00k\\x1c\\x1cTE\\\\x\\x16\\x03\\x0b\\n\\x1a\\n^\\x07\\x08t\\x02\\x06\\x02\\x07R\\n\\tI\\x15\\x06+DA\\x17STb\\x1d+\\x18M\\n\\x1d\\x11\\x06\\x1a\\x0e\\x06^\\x06\\x1c/\\x00\\x10\\x0b\\x0c', b\"\\x07T\\x000\\x07\\x01\\x04\\x14XI0O\\x0f^\\n;\\x19\\x00x\\x01\\t\\x00E\\x06bE\\x18\\x17T\\x00C\\x06x\\x13\\x08\\x04'\\x01\\x05\\x1a\\x1c\\x06t\\x16\\x1a\\x1d\\x07\\x06\\x07E\\x06\\r\\x1e;\\x00\\x0f\\x05\\x14A\\x00129\\n\\x10\\x06TI[\\x16\\rt\\x00\\x0fN\\x00\\x06\\x00\\x0c\\x10B\\x0bbI\\x0e\\x0b\\x10IC\\x069\\x17M$\\x06\\x1bIS\\x0e\\x0e-\\x06H\\x01M\\x0b\\x005\\x1dEG6OA\\x11\", b'N\\x1c\\x05_OI:\\x16H\\x02i;\\x02(\\x05\\x08\\x06&wAR\\x00O\\x00\\x1b,TM\\x16\\x0c\\x15Iq\\x00\\x1a3HH\\x17*\\x1dN\\r\\x00EG0\\x00\\x0c\\x1f\\x11\\x00\\x00\\x174\\x13\\x04E\\x00\\r\\x08U\\x00I3\\x06\\td\\x00RN\\x08\\x1e\\x0cm\\x0b\\x00\\x05\\x1cS\\x00\\x00\\x1a,\\x1a\\x1f\\x04\\x1a\\x1f\\nT\\x03c:\\x00\\x11\\rN\\x0b\\x01E\\n\\x07\\x007\\x00M\\x1e\\x16*L\\x1a!\\x1bM'], 22: [b\"\\x1d\\x0bRO\\x16E\\x0cRR\\x14\\x07\\x00M\\x023=\\x19\\x05*\\x1a\\n\\x17\\x15FA\\x16\\x11'\\x1a5\\x0bR\\x18\\n\\x00I\\x1f@\\x0bNC\\x04H\\x1e=\\x01\\x04L\\x1dN\\x1d\\x11MAo\\x07+\\x106\\rR\\x0e\\x08\\x00\\x1a\\x1d\\x16\\x00\\x00N\\x0c\\x1d\\x00?\\x01\\x1aEI\\n \\x1cSAE\\x0f6\\x17^ER\\x06\\x04\\x00\\x0c\\x06\\x1c\\x0bNL\\x0c\\x0c\\x06=\\x06\\x06NT\\x0b\\x14\\x1b*A6H-\\x18;\\x07\\x10\\x1a\\x00UI\\x06\\x0b>/L\\x1a\\n\\x06\", b\"B\\x07\\x06\\x14\\x06N\\x1dz\\x19\\x16\\x0cR\\x02\\x10ON\\x01\\x1f~TA\\x04\\x1ab\\x07=E\\x01\\x0b\\x0bY[\\x13\\x14\\x0c'A@O.1\\x1a\\x04O\\x1a\\x0b\\x00\\x15\\x0ckB\\x1a#\\x1d\\rE\\x00C\\t\\x00\\x1aR\\x1bd\\x1a\\x00M\\x06\\x03\\x7f\\x02\\x08R\\x1a\\x0bSTSA\\x11\\x01b=^\\x0c\\x1b\\n<S\\x10\\x1f\\x00\\x08\\x02TMOm7\\x05\\x01C\\x1aNSSAM\\r\\x11\\x11\\x155\\x08\\x0b\\x0eEO\\x06\\x1c\\\\\\x1d\\x02\\x00M\\x03G9\\x01IT\", b\"\\x1fN\\x00L\\x0ce\\x0f\\x7f\\x01IE0\\x07ST\\x00\\x12\\x0c;*\\x1d9\\x0cU\\x1b\\x0bOIRRNNN\\x0b\\nG3Z\\x1e\\x00U\\x1aS\\x01A\\x13\\n\\x00b6tE\\x19\\t\\nP\\x05R\\x0b\\x0f\\x0fi\\x03&\\x06(\\x0e\\x05\\x00\\x1a\\x1d\\t\\x1bAA\\r\\t'\\x185\\x11\\x1cH6N\\nR\\x1d\\x1a\\x01EC\\x0e\\x0b1\\x1a\\x04\\x07T\\x02\\x1a\\x1fW\\x15\\x06\\x1cbT I\\x1d\\x01\\x1cUE\\x0b\\x05\\x17\\x01KM\\x06\\x02>\\x10\\x08LC\\x07\\x1cT\", b'M\\x1bG!\\x1a>AI\\x0byXi\\x02\\x08\\x02/\\x07:\\x08\\x17\\t\\x0bN\\n\\x13U\\x19\\x1dT\\t\\x04J6I\\x08C_N\\x1c\\x18U\\x08\\x04HbT:E+\\x1a\\x11A\\x0cR\\x07\\x02\\x1dHMO\\x1e;N\\x07GO\\x07\\x1f\\r*A\\x1c\\x07.\\x131\\x08\\\\\\x06\\x17T\\x06\\x1f\\x02INA\\x18\\n\\x12yI\\x1a\\x00T\\x03\\x127GA\\x0bH+\\x1c;E\\x10\\x0eE\\x00I\\x16R\\x1dN\\x00\\x05C\\x00!c\\nTO\\x01\\n\\x1d\\x00\\x15\\x0b\\x0e', b'\\x0b\\x01T\\x1a\\x17\\x16\\r\\x00A3He\\x1f;\\x10\\x0b\\nBOIR^I\\x0fGM\\x01\\x060\\x08\\x00\\r[\\x03\\x07\\x15\\x008\\n\\x011\\x17:\\x06\\x14\\x18E*\\x06\\x06\\x1d\\x00\\x1dYJ\\x0eG7\\x0c\\x1a\\x00_N\\x07\\x13N\\x13\\x04\\x07e\\x15t\\x13\\x1d\\x07\\x17AI\\x19\\x06\\x07N\\x00\\x0cOm6I\\x19R\\x1ad\\x07\\x1d\\x07\\x04\\x01\\tb\\x19s\\x04\\x06\\n\\x08B\\x08\\x1c\\x06\\x17\\r\\x00@\\x06\\x00,\\x00II\\x1adSTN\\x14E\\x1c6\\x11x\\x10', b'\\x0f\\x16\\x1cGA\\tHH\\x135\\x08\\x1fO\\x10SIU^\\x01\\x19YMO\\x12=\\x08I\\x00[\\x00\\x17T\\x00\\x18E\\x06+\\x1b0\\x0eR\\nEA\\x05\\x17_:\\x1b\\x00M\\x0bG7\\x05\\n*W\\x0f\\x03\\x1d\\x00\\t\\n\\r)\\x18t\\x101\\x1d\"I\\x07\\x17\\x17\\x14dE\\x01\\x01\\x132\\x1b\\x1dy^\\x03STykI\\x1cb\\x18t\\x10\\x06\\nEN\\nR\\x17\\x0b\\x1aY\\x05\\x00\\x08+D\\nOR\\x1a\\x14\\x11M1&\\x05)T \\x11\\x1aOEN', b\"\\x02E\\r+\\x1d8\\x06:\\x06\\x0bAI\\x1b\\x06\\x1a\\rSM\\x1b\\x067\\x1d\\x08S\\x1a\\x02\\x03\\rT\\x02E1.T$E\\x06OEEc\\n\\x17\\x00\\x17T@\\x07G!\\x0eIPO\\x02\\x16'E\\x15\\n\\x1c;\\x15,\\x17\\x01O,\\x00\\x08\\x17\\x1e\\x00\\tTM\\nmx\\x0cNRO\\x05\\x1a\\x1b\\x00\\x08\\x01\\r--tE\\x1a\\x03\\x04S\\x06R\\x13\\n\\x06DMO\\x13/\\x08\\x1cMSNSTA\\x04\\nH7\\x18;\\x00\\x0b\\x1c\\rL\\x08\\x101\\x05\", b'\\x1f6E\\x00\\x01EU\\x00\\x00\\x1b\\x00\\x02N\\x05O\\x08x.\\x01YO\\x06\\x07\\x11*\\r\\rHb\\x11:\\x00\\x1b\\x07\\tFI_xN=P\\x0bOGvI\\x0cCU\\x0b\\x1c\\x11\\x07AI\\x07 T;D\\x17\\x1d\\x0c\\x00I\\x01\\x11\\x1e\\x1b\\x00\\x18HG,\\x1a\\rs[\\nS\\x1dS\\x00\\x02\\x1d\\x0b\\x13;\\x04\\x07\\x00<*\\x06R\\x1c\\x0bNdMOG9\\x1c\\x1aLR\\x1aT\\x11N16\\x1f6Tt\\x04\\x01\\x0e\\x08\\x00I\\x13\\x13\\x0b\\x1aO\\x02\\x16', b'O\\x00M\\x05R\\x06\\x1a\\x1aL\\x01O\\x02xI\\x05NN\\x01ST\\x00\\x04EH\\x16\\x1b5\\x11\\x1bOBA\\x1a\\x17\\x13\\x1b\\x1d\\r+\\x02\\x121\\x0f\\x0bG\\x1a=\\x01\\x15U\\x15\\x13\\x1a0\\x13t\\n\\x1de\\x0b\\x00\\x19\\x16\\x11\\x02\\x1dT\\x08\\n\\x142\\x0cI*U\\x01S\\x00\\x00A\\x02\\x186\\x19<ER\\x07\\x12RE\\x07=7\\x1aI\\tO.9\\x0f\\x0cDT\\x1e\\x02\\x11EA\\x17H%\\x185\\rR\\roN\\x00\\x0b\\x17\\x06\\x03Y\\x19OG!\\x04I', b'\\x13\\x1e\\x07\\x1dT\\x05\\x1b\\x131\\x05 T0\\x0f\\x16\\x17OAB!&\\x1a9,\\x1a\\x18\\x16H\\x1a\\x10RN\\x1aA\\x14\\x01\\x08x\\x06\\x10P[\\x0b\\x16\\x1d*\\x00\\x00\\x06eT1\\x03\\x17\\n\\x0bN\\r!SdB\\x00\\x0c\\x06\\x137I\\x06EUN\\x075\\x00\\x0f\\x07\\r\\x05\\x16&\\x15R\\x0e\\x11T\\x1d\\x06\\x1cNN\\x07L\\x00K,I\\x1dc^\\x07\\x1d\\x1bCA\\x10H0=1\\nR\\x0e\\x1cI\\x0f\\x1d>\\n\\r\\x00M\\n\\x12xI\\x05F\\x1a\\x0b\\x1e', b'N\\x01\\x04G0\\x08\\x00I_\\x0fT\\x00i\\x0f\\x11\\rb\"7E\\x1dO\\x00\\x00\\x0c\\x17\\x17\\x0bNE\\x1d\\x1b\\x02<I\\x02Uq\\x1cS\\x11L\\x02\\x11\\x1aH\\x19sE\\x1e\\x02\\x17EI\\x06\\x1dN\\x17PMeG4\\x1d\\x02OJ\\x07\\x03TCk\\x17\\x04%\\x13-\\x15\\x17\\x16\\nI\\x0e\\x06R\\x1c\\x06\\x00Me@*I\\x1c\\x00\\x1a\\n\\x1b1\\x00\\x15\\x01\\x0b\\'\\x175\\x08\\x17OEN\\x1d\\x0b^\\x1a\\x1bY\\x0cOG,\\x06\\x08SS\\x08\\x1c\\x01cA\\x10', b\"<I\\x0cY_\\x1a\\x1d\\x1aSF\\x08\\x016\\x10t\\x15\\x06\\x0e\\x04W\\x07xR\\r\\x1cDM\\x16\\x08,\\x05\\x01N\\x1a\\x1aS\\x1aNA\\x17\\x1a+\\x00t\\t;\\x1c\\x16T\\x05\\x0b^\\r\\x0f\\x00MBK9*?YS\\x07\\x16\\x04\\x00\\x12\\t\\x1f)9-\\t\\x00OEP\\x1bR\\x07\\x00\\x0bI\\x01\\x0e\\x080\\x08N\\x19_\\x0f\\x01\\x07*\\x0e\\x00DHX!\\x11R\\x03\\x17EI\\x05\\x16B\\x06\\x00M\\n\\tt\\x10\\x19TR\\x00\\x01\\x1dT\\x14\\x10\\x06-\\x1b'\", b'\\x1adS\\x11\\x00FBOb\\x07t\\x0bRO\\x0cT\\x01\\x1c\\x07\\x07Iwg\\x00\\x02xcIKN\\x0f\\x16TS\\t\\x0c\\x0c-\\x13<\\x06\\x16Oo\\x00N\\x1dR\\x1cN\\x00M\\x1bG6\\x1dD\\x00]\\x01:\\x11K\\x0fEH!T1\\r\\x1b\\x00\\x0c\\x00\\x06x\\x06\\x07\\x03T\\x03H\\x13;\\x00\\x19U[\\x00KD\\x00\\x0fE\\x07\\x11\\x1atE+O\\x17O\\x1d\\x1d\\x17NdA\\x08O\\x0e,\\x0eIK\\x1aN\\x1f\\x1dAME\\x0bn\\x1a0\\x0e\\x1f\\x01\\x0c', b\"i \\x12\\x04 \\x07tE\\x15O\\x0b\\x07\\n;\\x06\\x1d\\x0bI\\x1e\\x03\\x130:\\x07\\x070:\\x1fTE\\x18E\\x1c-\\x06 E\\x11\\x00\\x1cA\\x06\\x13;\\x0f\\x03N\\x03\\x16\\x0c+\\x19ILU\\x07S\\rH\\x0c5\\x18'\\x135\\x11\\x00\\x1cEY\\x07\\x04\\x1c\\x1a\\x01n\\x05\\x01\\x060\\rIT\\x16\\x05\\x03\\x13V\\x05\\\\H5\\x106I\\x1dH\\ty\\x06\\x01\\x17\\x1c\\x01SMBm+\\x08\\x0cSR\\x01\\x11\\rG\\x05\\x04\\x046T^ER\\x04\\x00Y\\x0cR\\x11\", b\"eT<\\t\\x13O\\x04H\\x06\\x1d\\x1dN\\x01\\x00MOG4\\x0c\\x05\\x00C\\x01\\x07\\x07i\\t\\nb0T;\\nR\\x00EG\\x02\\x1d\\x1f\\x02\\rNM\\x01Gx\\x06IEN\\x1cy\\x1bW\\x0c*\\x07'\\x11zIROER\\x10\\x17\\x13NII\\n\\x07\\x117\\x0cNN_N\\x1c\\x1d\\x00\\x04\\x00\\x00'Tt\\x0c\\x17O\\n\\x00I\\x06\\x0b\\x01\\x1bOMCG=cDy\\x1a\\n\\x05TAA\\nH-\\x1b-\\tR,5W\\x1a\\x0b\\x00NN*M\", b'\\x1f\\x1d\\x0c\\x00\\n\\x1f\\x1e\\x0f\\x07N\\x19\\x02\\t:\\x0f\\x0eSVNS\\x13\\x00A\\x17He\\x11\"$Re\\x0b\\x00\\x05\\x07\\x07\\x01ND\\x08\\x0e\\x0e<\\n\\rLNN\\x07\\x11Y\\x00\\'\\t*\\x11<\\x10\\x06OE\\x00\\x08\\x01\\x05\\x17\\x07L\\x1f\\x1bG6I\\x1bIMNST\\x00k\\x0b\\x06\\x0bT0\\x11R\\x03\\x0cS\\x08;\\x16\\x1d\\n\\x00\\x1f\\x1a@xcIC\\x1a7S\\x1bWA\\x00\\x1b6\\x03-\\x08R\\x18E\\x00\\x0f\\x1d\\x1e\\x06\\x0f\\x00M\\x02\\x08\\x08c', b'I\\x1d\\x1ed\\x05Y\\x01\\x1d\\txI\\x10T_\\x02\\x1c\\x1dA\\x15\\x07\\x01;\\x13;\\x0b\\x1fO\\x00N\\x1dx\\x17d\\x0bG\\x1d\\x00\\x08x\\x1a\\x0fO\\x1a\\x0fS\\x1dO\\x05\\n\\x18.\\x17!\\x03\\x17CE\\x00\\x1d\\x1d$\\'NO\\x04\\x06\\t4\\x0c\\x01L\\x1d\\x1a\\x1c\\x1a\\x007\\x16&  tBU\\x0eE\\x00\\x00\\x17\\x1cN\\x05\\x00\\x14\\x00\\x08:\\x00IRI\":\\x01A\\x0e$\\x1d\\'\\x03&\\nR\\x07EU\\x1e\\x1c\\x06\\x17\\x1bM\\x0c\\x06\\x1e5\\x07\\x1cNV', b'\\x1cC\\x08&GxI\\r\\x07N\\x02S\\x06G\\x0eE\\x0cb\\x1c1\\x13\\x1d\\n\\tOI\\x15R\\n\\x06sM&\\x130I\\rNVN\\x01\\x01T\\x0f\\x08\\x03b\\x11tE\\x17\\x1b\\x11E\\x1bR\\x1f\\x1e\\x07N\\x0cH\\x15x\\x07\\x07\\x07SN\\x16\\x1d\\x00\\x0e\\x10O;=;\\x04\\x13\\x07\\x08\\x00\\x04R\\x1f\\x1a\\x1aNM\\x02\\x02;NIN_\\r\\x10\\x11T\\x04\\x06\\x1a,\\x01:E\\x13\\x1d\\x1cN\\x0f\\x1b\\x15\\x1d\\x06\\x00\\x05\\x00\\t=\\x10\\x1d\\x00O\\x01\\x00XA', b\"\\x0e3I\\x07O~\\x1aSTH\\x00\\x01\\x07+\\x03^\\x005\\x0eEE\\x1c\\x06RN\\x07I\\x00O\\x06,\\x10\\x1d\\x00\\x1a\\x0fSTU\\x00\\x04\\x1b*T5\\x006\\x01\\rTI\\x1bR\\x1c\\x0bN\\x14\\x1dGx\\x07\\x04HC\\x01\\x14TN\\x03E\\x03#T3E\\x1d?EZ\\x1a\\x17\\x1b\\nNF\\x08\\x07G<\\x04\\x10N[\\x1d:S\\x00\\x12\\x04H'\\x001\\x00\\x16O\\x1cT\\x02\\x1d\\x10\\t\\x1bT\\x02\\x06\\x0e9\\x08\\x1cK\\x1aN\\x16\\x1dS\\x16\\x0cH;\", b\"NS\\x1aS\\x12j\\t\\x04\\x0b'\\x0e&\\t\\x1cC(\\x00\\x06\\x06xNN\\x00\\x19\\x0b\\t*\\x0c N[\\x0fT\\x00*\\x0fo\\x1b!\\x003E\\x13\\x1b\\x0e\\x00\\x0c\\x0b\\x13\\x1cdC\\x03AK7I\\x06W[\\x07S\\x1dOAEbe\\x012\\x00\\x1c\\x1c\\rT\\x1cR\\x1a\\x07\\x0bR\\x03\\x00\\x0f9I\\x08*\\x1a\\x17S\\x1dNAE\\x1c1T:\\x15\\x02OI\\x00I\\x05\\x06\\x06BN\\x02O\\t=I\\nTT\\x1aS\\rO\\x15E\\x1c+T7&R\", b\"\\x13N\\t\\x00Hb\\x11:\\x17R\\x16\\x10SIR\\x0b\\x17O\\x07,\\x0e\\x147\\x01\\x00\\x00VNSTGF\\x16\\x00\\x11\\x10e\\n\\x19\\x1d\\x0c*\\x1d\\x13\\x17=\\x02I\\x03\\x16(=\\x06I\\x00\\x1a)\\x11\\x1dN\\r\\x06\\x067~53R\\x16\\x17\\x00\\r\\x1bR\\x06IP\\x0cO\\x14=\\x0c\\x1eAT\\x01\\x07'MA\\x1c\\x06b\\x137E\\x13\\rEII\\x06Rd\\nA\\x04\\x00G?\\rcK\\x1adS\\x11DA\\x01H,\\x1c6E\\x11eIO\\x1d\", b'\\x01e\\x117\\x086\\x02\\x01A\\x04\\\\\\x15NdLM\\nG+\\x07IT\\\\\\x0b\\x00\\x19I\\x00\\x06\\t\\'Tt\\x00\\x1dOHME\\x1d\\x1e\\'NKM\\x0e\\x0e6\\x0e\\x00V\\x1a\\x1ay\\x1aG\\x0e\\x04\\x1c&\\x18;\\nR<\\x0bA\\x08\\x1b\\x17-NN\\x19\\x06\\x157\\x1bc\\x00\\x1dB\\x1d\\x1aA\\x0fE\\x07\\'\\x001B\\x06\\n\\x04B\\r\\x17\\x11\\x1a\\x0cH\\t<\\x086\\x04\\x1cb\\x1a\\x17y\\rB\\x11\"Hb\\x12=\\x08^\\x0e\\n*I\"R\\x03\\x06'], 15: [b\"\\x1d\\x1f\\x00\\x06\\x1e\\x1d\\x0cG\\x08A\\x1a\\x1aA\\x0b\\x07\\x08\\x16\\x07\\x1bN\\x00O=\\x0eN\\x1fAB*1\\x1d\\x0b\\x1cR\\x0f\\x19\\x02\\x08\\x00:\\r\\x00b\\x11\\x0beA\\x13dA\\n0\\x02_SN\\n!<R\\x0c\\x06\\x17NMG\\x01L=\\x15\\x05\\x066E\\x02A\\x1b\\rYA6\\n\\x1aSE\\x04';RE\\x19\\x1bN\\x0c\\x06\\x07O\\x07T\\x12\\x07\\x01\\r\\x1d\\x00\\x04\\x00N\\x07,\\x1aMSS\\x16\\x055\\x13\\n\\x06\\x1b\\x0b\\x0c\\x0f\\x00y\\x01\\x13\\x08\\x07T\\x04\\x06S\\x07\\x08\\x00\\x001I\\x1a\\x12\\x00\\x00b:+EI\\x17\\x06\\tG\\x1cN7\\x11M\\x1d=I\\x1dN\\x16\\t\\x00\\x06=IRSG\\nb-\\x01\\x00\\x0f\\x17\\x02\\x0c\\x12\\x10\\x00\\x08\\x1d\\x16\\x06\\x11&\\x01N\", b'BI\\x1e\\x00\\x08G\\x1aO\\x1a\\r\\tO\\x13\\x17OA\\\\NN\\x02:\\x05N\\x1cO\\x0cb7\\x17E\\x07^Ng\\x12\\x01\\x07\\x02\\x19\\tH\\x1a$OYxNN&<\\x08\\x1aS\\x00o-0\\x19\\x1cc\\x1e\\r\\x0b\\x1e\\nG\\x0b\\x1d\\x00\\x00\\x11E\\x1aT\\x0b\\x00C\\x1b7IU\\x16G* 6\\x06\\x0b\\x1a$B\\x03\\x15\\x1dG\\x01\\x04\\x13bT\\x10\\x16Y\\x17-IH?\\x1bUS\\x00\\x07\\';\\x17\\x17\\x1a\\x07N\\x03\\x13\\x1bA\\x05\\x1b\\x0f\\x00\\x13E\\x03R\\x1fN\\x07\\x0e;\\x1cT:*\\x011t\\x06E\\x06\\x13\\x0cMG\\x06C\\x1eS\\x0eHTEO\\x00\\x1dB\\x00O,\\n\\x1a\\x11A\"-t\\x10E\\x00\\\\\\x1bM\\x02\\x10S\\x01\\x1d\\x14\\x1cT\\x0eOOR\\x05', b'\\x1f\\x1c\\x01GIY\\x17\\x12FH\\x11E\\x06A\\x1d\\x00\\x00\\x02x\\x10_\\x16\\x00Eb:5\\x04IxIM\\x14:S\\x0b\\x07\\r\\x11\\x11\\x11\\x0bN\\x10Ns\\x1b6\\x1d\\x1a\\x07*\\x0c+e\\x11EE\\x1f=\\x04\\x0e\\x0fO\\x0f\\x1d\\x13\\x03\\x19E\\x01T\\x06\\x1c\\x00\\x0b=IOyWI+<\\x1d\\t\\x1dS\\x0f\\x0cGNH\\x07\\x13AH\\x183\\x1c\\x00\\x1bN\\x00\\x1d6I\\x1a\\x1c\\x00\\r;-\\\\E\\x1b\\x06\\x0b\\x03\\x13\\x0cT\\x05\\x1a\\x04\\x1d\\x17\\x11\\x07S\\x17NE\\x02*\\x1a[\\x01\\x07E\\x11t\\x13\\t\\x06\\x11\\x1bM\\x06cDN\\x01A\\x1c\\x01\\x08\\x0eT\\x05\\x17NO+cRSB\\n6;Ro\\x06\\x06\\rM\\t\\x06TN\\x1d\\x14\\x1c\\x1a\\x11eY\\x10\\x03*\\x16', b'M\\x0eIT\\x1a\\x11AH\\x07\\x06\\x02H\\x00\\x14NOR\\x100SG\\x11/^\\x06B\\x06\\x07\\x19,\\x13\\x1dT\\x01\\x11AH\\x1bEOHR\\nE\\x04,\\x01[TSE\\x11 \\x06H\\x02xN\\x08\\x12\\x1aO\\x0b\\x01\\x0f\\x1aT\\x00\\x1c*\\x0b\\x1c\\x00\\x16+I\\x1ay\\x07o*t\\x00E\\r\\x0b\\x07M\\x1e\\x07YN\\x1d\\x0f\\r~\\x11OA\\x17\\x1eN\\x1b2\\x08\\x1d\\x07A\\x10%1\\x1dEI\\x1a\\x03\\x01\\x14\\rRB\\x1d\\x00\\x0fTE\\n\\x00\\x06\\x1aNey\\x10_\\x07NEb7\\x1d\\x04\\r\\x0bN\\x0c@\\x0fC\"\\x1b\\x15\\x1a\\x17EOE\\x1c\\x06A\\x00?\\x0cSyA6--RE\\x1e>\\x01\\x05GcK\\x00T\\x15\\x0bTE\\x04L\"NO\\n\\x08I', b\"\\x0bNd\\x1c\\t\\x04\\x1d\\x08OUR\\x0fL\\x16x 0Si\\x08+t\\x0b(\\x01^O\\x1e\\x06\\x07\\x00\\x06\\x15AH\\x07\\x0b\\x18O\\x15\\x0bTO,\\x00[\\x16\\x00\\x16-$\\x1dEI@N+.\\x1aP\\x1a\\x01\\x02HT\\t\\x18\\x00\\x1d:I\\x16!\\x00N\\x1cM'0\\r\\x17\\x0b\\x05\\x1f\\x17MG*\\x00\\x07\\x11\\t\\x06\\x13\\x17<R\\x01\\x00L\\n\\x7f\\x01U\\t\\x00\\x17.3\\x00\\x17\\x1c\\x06d\\x0c\\x06\\x0c\\x00N\\x1dA\\x06\\x19\\x0c\\x0eTR\\x1a\\x00\\n<N\\x1aS\\x00Ib6\\x1a\\x04I\\x1cN\\x1f.\\x05R\\x07\\x1f\\x04\\x0b\\x1c\\x00\\x03B\\x05NY\\x00+\\x1c\\x1a\\x05N665\\x0bE\\x0f\\x05\\x06\\x0c\\x00\\x08Td\\rM\\x05\\x1cE\\x1c*\\x0b\\x0bL\\x02!IV\\x1e\", b'\\x0f\\x13 \\r\\x11\\t\\x01E\\x1f\\x1az\\x1d1INTi\\x016;\\x1c\\x0cI\\x0b\\x0bMG\\x0cY\\n\\x13\\x04\\x1a\\x13,\\x1bO\\x17\\x19I\\x160 N\\x17GE.tR\\tI\\x07\\x1d@\\x08\\x06\\x00N\\x11\\x08\\x1b\\x00\\x06\\x1b\\x00\\x17=N\\x076IU\\x1dY\\x13#!\\x17\\n\\x1b\\x1d\\x1d\\x14K\\x0cW\\x01\\x1d\\r\\x18\\x15\\nO\\x00\\x1d\\x17T\\x064\\x06\\x1a\\x16C\\x1c#-\\x1d\\r\\x06\\x17I\\x05m\\x1bN\\n\\x1ck\\x18=B\\x0eNR\\x1cA\\x070\\x19\\x1aKy\\x1c5t\\x06\\n\\x06\\x1c\\n\\tm\\x00c\\x02\\x11\\x15H\\x00\\x11\\n\\x00\\x1d\\x0bAB/\\x1c\\x1aT*\\x00%5R\\x1cE\\x15\\x1b\\x05\\x0e\\x10I\\x1a\\x1d1HT\\x00\\x0eW\\x13>\\x00O9\\x1c\\x1a\\x1cA\\x10', b\"\\x02\\x01TEO\\x00RNY\\x1b\\x7f\\r_yH\\x08e&R\\x10I\\x06\\rMG.*NTA\\x01\\x1a\\x0c\\n\\x00\\x13ND\\x01*I[SEE';\\x1b\\n\\x05\\x13'\\x1d\\x08ZN\\x1c\\x18\\x00\\x1a\\x17EOA\\x13\\x0fT\\x0ex\\x0c\\x1d\\x07UB.1\\x19\\x11I\\x07\\x0bMGI\\x00\\x0f\\x1d\\x0c\\x1c\\x18I\\x1d\\x00\\x01\\x02\\x00\\x067\\x05S\\x03*E)t\\x1c\\x0c\\x07R\\x01M\\x15\\x0cs\\nTA\\x01 \\x15H\\x00\\x06IF\\x0e6\\x08[SM\\\\-1\\x17<\\x0c\\x16\\x1aM\\x08I\\x07\\r1AHX\\x04OORdSO6DR\\x14W\\x17\\x11&R\\x1c\\x0f^N\\x02\\t\\x00TN\\x11A\\x04\\x18\\x08,\\x00\\x06\\x06Y\\x035\\x05C\\x00c\\x0b;'\", b'\\x1f\\x0b\\x1dM\\x14dTex\\x00ISS3\\'t\\x1f\\x10\\n\\x06dM\\x08\\x19S\\x01~\\x15!\\x1d\\x13ON\\x06\\rG\\x0bxIV\\x1fT\\x060:R\\x0b\\x1a\\x14\\x0b\\x14GIUNTA\\x01\\x00\\x06\\n*\\x13\\x00K\\x01v\\x04N\\x01\\x0c\\net\\x17\\x17\\x0cR\\x0fJK\\x1d*)\\r\\x15\\x1c\\x11D\\x0e\\x00\\x16dO\\x06(\\x07J\\x1fN\\te2\\x1b\"\\r\\x1c\\t\\x19\\x11\\x1aEN\\x00A&\\x16\\x11\\x07I\\x1f\\nIO9\\x19^\\x07V\\x01\\'t\\x07\\x04\\x08=\\x02\\x14K\\x1aN\\n7\\x12D\\x19\\x15ON\\x06\\x1cD<=\\x1aTSE\\r\\'1\\x1d\\x1c\\x1dR\\x1bM\\x00IK\\x1a\\x11\\x05H\\x12\\t\\x0eU\\x1d\\x06\\x00\\x06x\\x08O\\x1c\\x00\\x0c-xR\\x0c', b\"O\\x07\\x1d\\x07L&0>~\\x1d\\x00\\x04b5R\\x0bI\\x15\\x01\\x053\\x0fN\\x01\\x1dA;\\x1cE\\tExI\\x00\\x00=\\x000\\x03I\\nb5RB[\\x17\\x1a\\x0b\\x13IC\\x0f\\x1a8\\x1b\\x13\\x0e\\x1dA\\n'NO=\\r\\x1a\\x00O\\x00bt\\x1e\\x11I^\\x1d\\x03G\\x05\\x00\\x07'\\x0e\\x07T\\rO\\x00R'\\x00&x\\x02O\\x14\\x00\\x04e11\\x17\\x07\\x1eN\\nG\\x01I\\x01T7\\r\\x18\\x04\\x16T\\x17\\x00\\x00\\x00;\\x1dT\\x03\\x00E';R\\x0cE\\x00\\x05L\\x0bN\\x00\\x03S\\x0e\\tTE\\nI\\x01\\nHC9\\x06\\x1a\\x02A$0 \\x13EI\\x10\\x06@\\t\\x0eOd\\r\\x04H\\x1b\\x04\\x1a\\x00\\x0b\\x1dM\\n>\\x1dS\\nS\\x1067\\x1fE\\x1d\\x11\", b'\\x13NC\\x04!\\x07_\\x16jBH:\\x15\\x0b\\x04\\x1d\\x02M\\tIO\\x02\\x17\\x12\\x0c\"\\x08\\x0eWRNwO7\\x07\\x1a\\x00i\\r\\'\"\\x1b\\x0b\\x1dRNM\\x02I\\x00\\x1a\\x15\\x0f\\x0c\\x1b\\n\\x00E\\x1d\\x02PH<\\x0b\\x1aS*\\nbs+\\r\\x05\\x1ddMG\\x06L\\x02\\x1a\\x0c\\x07\\x10\\x10e\\x00\\x1ddiH4\\x07C\\x16NE!tRE\\x08\\x17I\\x18\\x00I*\\x0b\\x1a\\x0f\\t=\\x15\\x06ZR\\x07RH2\\x1e\\x16\\x1aA\\x00\\x0b^R\\x12\\x10\\x1cNC\\x02I\\x00\\x1d\\x07\\x04\\x1c\\x1a\\x10\\ryR\\x1aOO=ITSA\\x10b:\\x17E\\x02\\x16\\r\\x02\\x0eDK\\x01T\\x11HT\\x07\\x18N\\x1c\\x17\\x00\\x06=\\x08O\\x16TE+0\\x1aI\\x0c1\\x06M', b'N\\x1b3\\x0c\\x1aS\\x00\\tbt:\\x01\\x06\\x1b\\x07\\x19\\x02\\x02T\\x0fT\\x0e\\r\\x07\\x00\\x0eO\\x06\\x07Y\\x0e0\\x08\\\\\\x07*\\x16e5\\x01\\x00\\x1aR\\x06\\x1dJ\\x10N\\x03\\x00\\t\\x06\\x10EOM\\x1dNC\\x0e1\\x04\\x1a\\x16A\\x08H:6\\x16\\x06\\x13NM(\\x19P\\x1a\\x1bA\\x07\\x11\\nC\\x00!\\x0fNe;\\x04S\\x07OE)5\\x00,\\x08\\x13\\x1b\\x0cG\\x0cR\\x1a5AO\\x13\\x08?P\\x19\\x07T\\x01=IO\\x1d\\x00\\x0260R<\\x00\\x1c\\x01M@IN\\x0f\\x1dA\\x07\\x18EHS\\x17\\x01d\\x0cx\\x0c\\x1a:C\\x06,5\\x10\\x1cI\\x06B\\x08\\x08\\rSN\\rA\\x1f\\x18\\x08\\rO\\x1c\\nK\\x00,\\n\\x1a\\x01NEn \\x11\\x00\\x08RN\\x02\\x06c', b\"<\\x01SSG\\x00 86\\x04\\x00R\\x07\\x01\\x0cIT\\x07\\x06\\x0f\\x02\\x03\\x15\\n\\x00\\x1c\\x01\\x07\\x037IC\\x07F\\x17\\x16=\\x1f\\x16IRN\\t\\x06\\x05\\r\\x0fT\\x18\\x00\\x06EOG_\\x0bD\\x021\\x0f[ST\\x11b5;E\\x0cR\\x1b\\x03\\x0c\\x0eV\\x1c\\x11A\\t\\x13ECNR\\x1ePOx?_SK\\n75\\x01\\x0b\\x10\\x11\\x00\\x1f\\x14\\x02LN\\x1b\\x0e\\x04\\x13EOAR\\x07EO0N\\x1d\\x1cSE\\x0b<\\x1bE\\x1d\\x1d\\x1aM\\x12\\x04\\x19d\\x1d\\x0f\\x1c\\x13I\\x03B\\x06\\x0bL\\x1a9\\x01I\\x1dW\\x06';\\x16\\x17\\x08\\x06d\\x05G\\x08M\\x17T1H\\x03\\r\\x0eU\\x1d\\x17\\x00O!\\x1cRSOE)6R\\rI\\x00\\x1a\\x1a\\x08\\x04T\", b\"\\x1a\\x16N\\x12+7\\x13E\\x0c\\x1e\\x1a\\x19\\t\\x05E\\x02\\x00\\x02\\x07\\x10\\x10CTU\\x17I\\x1b+\\x05O\\x17\\x00Eb;\\x1a\\x0bI\\x17\\x1d\\x00\\x08\\x08N\\x0fTF\\x1cT\\x00\\x00F\\x1f\\x01\\rOx\\x10U\\x01L\\x04*t\\x14\\x0eN_\\x02\\x03G\\x0eE\\x0b\\x11\\x00\\x1a\\x1d\\x03\\nPRNH\\x1d9\\x1a[:\\x00\\x06',REI\\x16\\x07\\x08\\x03\\x0cE\\x1d\\x1dk\\x07T\\t\\x07Tx\\x14P\\x01xc_SS\\x0b6^U\\x11\\n\\x1f\\x06\\x18G\\x08R\\x17Dk\\x06\\x10E\\n\\x00R\\x0b\\x00O7I^\\x1aT\\x01+1R\\x08I\\x17\\x1a\\x04m\\x08b\\n\\x11A\\x1b\\x18\\x08\\x07I\\x0b\\x1dYC9\\x19\\x1aSA&,^\\x0b\\n\\x1a\\x13/MG\\x01N\\x0bT\", b\"iEe<\\x00\\x16\\n\\x06\\x1d\\x01\\x13\\x01\\x07\\x0fX\\x00\\x01\\x1f\\tOSR\\x1dS\\n4\\x01\\x1aS\\x00\\x04;9U\\t\\x0cU\\x07M\\x06\\x0cK\\x00T\\x181T\\n\\x07\\x00\\x07\\x1bA\\x00x\\x1eVSU\\x04+:\\x13o\\x05\\x17\\x03@\\x0e\\x06CN\\x11\\x15\\x1a\\x17\\x03\\tE\\x06\\x02NB7\\x06]\\x03N5;;R\\x0c\\x1a\\x05\\x1dM\\tI\\x00NTA\\x039\\x13\\x1c\\x00\\x17\\x06n\\n7N[ \\x00\\x02btR6\\x04RN\\x08\\x08I*\\x00TAH-BO*\\x06\\x1dIO:\\x1dT\\x10\\x00\\x0b'!\\x06I\\x1d\\x17\\nM\\x13\\x04y\\x1a\\x1bAH\\x15\\n\\x0eU\\x1b\\x1a\\x00\\x06tIT\\x1fM\\x016;^5I\\x0b\\x0f\\x19G\\x07F\\x07XA\\x0e\", b\"e6R\\x0c\\x05\\x06\\x05\\x05\\x0fII\\x0bTFH\\x0e\\x0bOS;\\x1aLOx\\x05VST\\x07&9\\x1d\\x00\\nR\\x1cM\\tc\\x00NT\\x02\\tT\\x00\\x18\\x00\\x17\\x0cG\\x013\\rq\\x1cU\\x1713\\x16E\\x1d;\\x17MGILN\\x15k\\x18TE\\x1bER\\x1c\\x00\\x0e7DW\\x11H\\n&z\\x17\\x08\\x08\\x11\\x1a\\x04\\x13\\x0e\\x07\\x07\\r\\x03\\x1f\\x15\\x00\\x00I\\x1b\\x1aT\\x067\\rIS\\x00\\x11 &\\x1c\\x08\\x0e\\x02N\\x01mIU\\x03'\\x05\\r\\x00\\x0c\\x00\\x00;7T\\x00,\\x04_\\x1bG\\x04Hs\\x02\\x17\\nR\\x01M\\x08cL\\x0b\\x1bA\\x11\\x03\\n\\x01N\\x0b\\x1dT\\n,\\n\\x1a\\x14D\\x047=R\\x08I\\x1e\\x03M\\x1eIL\\x01\\x01\\x15H\\x1b\\x10\"], 33: [b\"\\x1dIO_\\x0c\\x1a\\x14\\x08M\\x10=\\x06*W\\x17RAD'\\x08\\x0b\\x01\\n\\x1a\\x1fNN\\x1aHt\\x01\\x1c\\x1d\\x05\\x11\\roM\\x109RY\\x00\\x16\\x16\\x12N)\\x00\\t\\x1aE\\nRS\\x0b\\x0f\\x0e^\\x08\\x06_\\x0c\\x07\\x0b\\x00\\x0cX=RNE\\x14\\x16A\\x00-\\t\\x07\\x19\\x00\\x00\\x06T/\\x06\\n'\", b'Bd\\x14\\x00\\x1dO\\x16t\\x02ON\\x01~\\x07\\x04g\\x07x\\x01KY\\x16\\x14\\tA-.\\x06\\x04o\\x0b\\x1d\\x0cN\\x1a\\x1b\\r\\x1dC]\\x1a\\x11dEMT\\x7f\\x1bR\\x00S\\x06ATb\\x13\\x0c\\x19<\\x00\\x1f\\x00\\x02\\x07Ot\\x05O\\x1a\\x1dSN\\r\\x08\\x15,\\x0bKO\\x1f\\\\M\\x00nG\\x0eI\\x0c', b'\\x1f L \\x0fEI\\x0b\\x07;\\x00\\x0b;\\x039:\\x1b0ITNE\\x0b\\x063\\x11\\x00AS;\\x13Nb\\x0cEI\\n\\x07RH\\x0f\\x18&5\\x0e\\x1c\\x1a\\x07\\x1b\\x1a\\r\\x05\\x180\\x1cTN\\x03\\x1d\\x05E5\\x0bI\\x04\\t\\x02\\x01W\\x01\\x1cB \\x08\\x01RE\\r\\x17\\x04MT>RLY\\x1c\\x11', b\"MT!\\x13AHy\\x1d\\x02\\x00/G\\x08\\x05\\x0b\\x01\\x13i\\x1db\\x04;I\\x00_\\x02\\x18\\x02\\x04MTx+EAy\\x07\\x0cH'\\x1eI\\x07E\\x07\\x17*I\\x07\\x071\\x0c\\x06_\\x06\\x1dI\\x00\\x18Ty\\x17\\x00\\x00\\x12\\x0bAO+GEDE\\n\\x16ANHC-c,O\\x1a\\x1dN\\x0bM\", b\"\\x0b\\x1d\\x1a\\n\\r\\x0f3\\x19\\x1f:\\x0bSOS^AGe\\x06$\\x00\\x0b\\x03\\x07\\x00N\\x01\\x0e:\\n\\x18N\\x06\\x11\\x00'J\\x117\\x06\\x00\\x00\\x07\\x05\\x13LeG\\x13\\x1b\\x17N\\x19\\x00N\\x06O0I\\x03\\x1a\\x08\\x1d\\x1d\\x01\\x1f\\x19x\\x06CBS\\x06A\\x006\\x00\\x08IEd\\x1dN\\x0f\\x1c\\x02xc\", b\"\\x0f\\x1dG\\x05H\\x1d5IO_I\\x1d\\x01\\x07M\\x13=\\x1f\\x00N\\x17\\x17\\x18G+\\x08\\x0e\\x0fE\\x0f\\x17O\\x1b\\x18\\x0b!\\x05CW\\x1d\\x1d'\\n\\x04\\x1841LI\\x1c\\x177E \\x13B\\x1dE\\x03\\x17y\\x05\\x1c\\x00t\\x00\\nI\\n\\x01\\x0b$\\x05\\x03+ROU\\x14\\x061M)\\x1e\\x11\\x1cE\", b'\\x02C+G\\x06\\r\\x0b\\x02\\x1bG\\r\\x0c\\x1b1\\x1d\\n\\x1aI\\r\\nEMT0\\x06NE\\x01\\x17\\x0fTbGEI\\x11\\x02RE\\x07\\x1cH,\\x07OS\\x08\\x1d\\x00\\x10M=x\\x13R\\x00\\x1a\\x1f\\x08N-\\x02EI\\x04\\rRT\\x06\\x1aO:\\x08\\x1dS\\x0fT\\x1d\\n\\x05\\x18=\\x0b\\x00L\\x001', b\"\\x1f3\\x00OUS\\x1b\\x00N+\\x08\\x00\\x01E\\x06\\x06*\\x07HO:\\x10\\x07\\x1aITN\\x04\\x0bTv6CT\\x1cRAN GD\\x04\\x0c\\x01\\x01N\\x1b\\x03H3\\x1a?[\\x1a\\x1d\\n\\x02\\x08\\x13<\\x07N*:\\x1c\\x12d'G\\x00\\x1a\\x1c\\x1a\\x1dN\\x1b\\x1f\\x06t\\x08\\x0e\\x1aI\\x1d\\x0b\\x0c\\x02\", b'OS\\x05\\x12\\x1a\\x04\\x01\\x0ex\\x1cN\\x00Sx\\x04\\x00\\x16\\t\\x11 B\\x0f\\x17*\\x1d\\x1b\\x023\\x0f\\x1b\\x1a\\x0c\\x15\\x1c\\x13\\x03\\x137\\x1dW\\x00S\\x11ATe\\x14\\x00I\\r\\x01R\\x00\\x0b\\x18\\x00<I\\x07\\x1aE\\x1d7E\\tT9\\x02D\\x00\\x02\\x06AN%\\t\\r\\no\\x1a\\x0bO\\x03\\x1cO7\\x04', b'\\x13N\\x1dH\\x1b:\\x05\\x160I\\x17\\x17B,\\x1a7\\x1a\\x00HSRFA\\x11\\x08\\n\\x10\\x0c\\x0b\\x13*\\x02\\x06\\x161\\x06\\n\\x1a\\r\\x1dd\\x06\\x0c~7RE\\x00\\x07R\\x0fP\\x05\\x14\\x15\\x1e\\x11\\x01\\x06MN\\x06\\x007I\\r^I\\x1bd\\x10\\x04=?RKIS>A\\x00,\\x12E\\x05I\\x0b', b'NeG\\x08\\x00\\x01\\x0f\\\\id\\r\\n7\\x07O\\\\\\x0c\\x19\\x0b\\x06\\x1dT<\\x1dUMS\\x1e\\x02KH\\x0eE\\x00\\x17\\x1a\\x06G\\x17\\x1ce;\\x1d<J\\x08T-\\x17\\x19\\x137\\x17\\x00I\\x1dR\\x0f\\x00\\'@B\\x1c\\x04\\n\\x17\\x00\\x0c\\x0b<5\\x04O\\x1a\\x1d\\r\\x1a\"\\x0c\\x12,^S*\\x1cRA', b'<RYE\\x1dRF\\x0063\\x15\\x05\\x04\\nxF\\x1c\\x11\\x165\\x05\\x18\\x1aI\\x1a\\x0b\\x17\\x04\\x00=;LT\\x1d^A\\x00+K\\r?\\x08\\x07\\x1d\\x00\\x00\\x1f\\x1d-\\x01OI\\x1b\\x1c\\x00E\\x01\\x170R\\x19\\x00\\x01\\x1c\\x0eLH\\x06\\x11\\x06\\x17\\x0b\\x05*\\x06H\\n;\\x10\\x1aRI\\x1d>\\x10\\x1a\\x1b', b\"\\x1a\\x06\\x11NB\\x19\\x07RROT\\x1f\\x07Awb\\x02EI\\x0b\\x0f\\x13S'\\x0cO<\\x1aO\\x1aN\\x15\\x1cBM\\x1d6\\x00\\x00\\x00:\\x1b\\x0f\\x00!\\x03\\r\\x08\\x0c\\x0bxS\\x03\\x01H^\\x00\\n[\\x10D\\x08EM\\x1a7+COS\\x17MA\\x11\\x0e\\x08IEN\\x1cA\\x02\\x0b\\x030\\x01\\x01\", b\"i\\x00\\x04et\\x01O0\\nT\\x1d\\x0c\\x1e\\x1d0U\\x07O\\x1fR\\x18N-GE\\x1e\\x1c\\x1a\\x13A\\x03\\x00\\x16t\\x19\\tU\\x05\\r\\x0f5\\x03\\x13(\\x00\\x00Y\\t\\x1cAn'\\x06\\x11I6\\x05RV\\x01H\\x0e6\\x1aHT\\x06\\x1f\\x1c\\x06MT+\\x1dSU\\x11\\x05\\x05K6\\x02E\\x08\\x00\\x07R\", b\"eG\\t>\\x04\\x0b\\x1di\\x01\\x02O:\\x0c\\tC\\n\\x07\\x19\\n\\tT6RCG\\x1c\\x1f\\x08NbGEI\\x11\\x1cRW\\x1d\\x07OzNOO\\x10\\rN\\x1c\\n\\x137\\\\NT\\x1c\\x02\\x04A'\\x12\\x0c\\x1a\\n\\x03\\x06G\\x1bHC;c\\x0e\\x1aIT\\x1d\\n\\x05\\x1b!RTW\\n\\x00\\x15*\", b'\\x1fT\\x00\\x16\\x1eANe\\t\\x10\\x0eBNR\\x00\\x0fH\\x01\"\\x08e[\\x05\\x15\\x01\\n\\x08\\x17<\\x14L*\\x07\\x1d\\x00Y*G\\x10\\x1aEN\\x01N\\x07\\x07\\x1btI\\x07MIT\\x07\\x0b\\x0cT6RRS\\x07\\x16\\x04\\x00b@\\x04I\\x087\\x1cW\\r\\x1b\\x06-\\x00\\x18\\x1a\\x0fT\\x06EM\\x11\\x08', b'I\\x1cd\\t\\x01\\x13x\\x1fTS\\x1c^\\x15Y;\\x12\\x0bI\\x00\\x00x\\x00\\x0b\\x06\\x000\\x1a\\n\\x1a\\x05\\x1d:\\nM\\x177\\x17*\\x00\\x03$\\tO)\\t\\x10\\x01\"\\x1a\\x17\\x00d&\\x01t\\x1b\\x0e^\\x00TNI\\x14\\x18:\\x06RN:\\x17\\x0eY\\'\\x08\\n\\nE\\x1a\\x1cM\\x1b\\x05\\x06 \\x07OV', b\"\\x1c\\r&8I\\x06NI\\x06\\x1aEM\\x1c7\\x1dSO\\x03R\\x02s.\\x13E\\rEN\\nT\\x17\\x03\\x07t\\x0e\\x1bO\\x1b'\\x1e\\n\\x0c\\x15x\\x01\\x07\\x00\\x16\\x1e\\x0eT;m\\x04N\\x08\\x05R\\x00\\x1a\\r\\x02tN\\x03_\\x06\\x11\\n\\x06M\\x01/\\x13MNS\\x15\\x04\\x007\\t\\x00\\x1d\\r\\x01\\x10A\", b'\\x0eE\\x07E\\x1a\\x00H\\x02\\x07O^.\\x0eO\\x1c\\x11N\\r\\x00\\x11,\\x1b\\x00FSx\\x00P*G\\x00\\x0c\\r\\x0b\\x1b\\x07\\x0b\\x07\\x1d;\\x07\\x1dCIT\\x1eE\\x18T,\\x1dsZS\\x1b\\x00F\\x0bG\\x04\\x10<\\x1dR\\x00NHO1\\x1cOR\\x02\\x11\\t6\\x02T9\\x01K\\x00\\x16\\x13\\x16O;', b\"NMS\\x06\\tL'\\x02\\t\\x05(\\x01\\x06\\x00NH\\x0b5\\x0cO[\\x1a\\x00\\x1bo+\\x001\\x13G\\x00\\x01\\x13\\x15C0K\\n\\x06\\x0b\\x07\\x16O\\x1db\\n2\\x0c\\x1cU\\x1c\\x00\\x07\\x02\\x03\\x199R*RS=AI1.\\x15\\x0cI\\x1e\\x05EBHO5I\\rT\\x00\\r\\x06E\\x19T!R\", b\"\\x13\\x07\\x00\\x05\\x111RTS\\x16\\x0bA\\x07&\\x14,\\x00\\x16N\\x10G\\x1a\\x00\\x01e\\x06\\x1d[\\x1d\\x1d=\\x00\\x03T=\\x17\\x00N\\x11S\\r\\x007\\x133\\x06\\x17N\\x1b\\x00I\\rO&\\x0c\\x0eT\\x1d'N\\x1cL\\x13,\\x13cI\\x1dRAA0G\\nc\\x1cd\\x1dD\\rH\\n6Ie\\x1a\\x1d\", b'\\x01\\x047\\x08\\x02_\\x04\\x00N\\x11M\"+\\x1dT\\x00\\x00\\x17\\x00E\\'\\x02\\x00\\x02H\\x1c\\x1dLN\\x1a\\x0es\\x0e\\x02\\x1aI\\x1aN\\x04M\\x184ROA\\x03\\x17kN%\\x15\\x15c\\nB\\x06A\\x06\\x07e1I\\n\\x1a\\r1\\x1a\\x01\\t\\x176\\x17bNy^\\x11YbG\\x08\\x08\\n\\x08\"c\\x06', b'\\x0b\\x0c\\x16\\x1aRS\\x07\\x01\\x02t\\x19\\x0e\\x1a\\x07\\x15\\r\\x16M\\x1a,RN\\x00S@AC+\\x1e\\t\\x04\\x16N\\x0bM\\x0f\\x07B6*\\x0eS\\x1a\\x04\\x00\\t\\x0c9?\\x00EP \\x07AI6\\x08EN\\x04\\x0f\\x06*ND\\x0c!\\x06\\x03TI\\x1bB6M\\x18t\\x10TU\\x01\\x0b\\x14L-\\x06', b'\\x07S\\x06Fzb\\x0c\\x0b\\x10\\x0c\\x01\\x1cTI\\x1a\\x00=c\\x0bN[T\\x0c\\x0c@\\x131\\x16O\\x00\\x00Rk\\x00#GED\\t\\x01RK\\x1aH\\x061\\x02\\x00\\x1a\\x06T\\x07\\x11\\x03=;\\x1bUSK\\x00\\x0fT\\x11mE\\x01\\x17N\\x1dAd\\x11O5\\x0e\\x0e\\x1a\\x06\\x1d\\x1dEM\\x1a9\\x1fT', b\"N\\x12\\x0c\\x07\\x7f\\x15E\\x07S\\x06\\x12I*\\x13\\x0c\\x07\\x0b:REN\\x1c\\n Z\\x00U\\x06\\x01\\x0f\\n\\x036+\\x19LPS\\x0b\\x0ci'\\x06\\x11\\x05E\\x1d\\x04A\\x01\\t\\x015\\rH\\x16\\n\\x13\\x1a\\\\C\\x101\\x1d\\x07y\\x1a\\x17\\x15SbmI\\x0c\\x1c\\x01\\x0bG\\x01\\x04\\x06^\\x10\\x04C\\x0cT\", b'\\x1b<\\x1aOI\\x06XN\\x08M\\x074\\x17\\x00N\\x07U\\tT0J\\n\\x08EN\\x1dU\\rH\\x01:\\x06\\x1aN\\x0c\\x1b\\x02*M\\x11;RGR\\x1f\\x13AI.\\x11\\x08N\\x17N\\x1f\\x00N\\x00\\ntIOTI7\\x01\\x0bM\\x1c=\\x10y\\x00\\x05RA\\x00-\\x00\\t\\n5\\x01\\x0b\\x00N\\x0e', b'\\x01\\x0c\\x17\\x1f\\x00\\x07H\\x02;\\x0f\\nVI\\x13I\\x17M\\x110R\\r\\x00\\x07\\x078D1\\x0e\\x06\\rEN\\x06Y\\x1d\\t\\x0e<\\x0cO_\\x08\\x13\\x17\\x04\\x1f\\x156\\x1dIAS\\x06k\\x00\\x0bm\\x11\\x19\\x0cd;\\x07\\n\\t\\x1asc\\n\\x1a\\x08\\x1b\\x17\\x00@\\x03,RI\\x00S\\x1e\\x14\\x006\\x08\\x10', b'\\x16\\x1eAYH\\t\\x08\\x10\\x10\\x02UA\\x19\\x01O;\\x08O[\\x1dTdE\\x1d\\x1bxROAS_\\x05\\x00.G\\x03\\nE\\x0f\\x1d\\x00N\\r\\x06t\\x0c\\x1d\\x1d\\x07\\x1a\\x14\\x16\\x01 2Uy\\x00S\\x1ck\\x00b\\x08\\x10IE\"RA\\x1a\\x1d\\x00&D\\x07R\\x1e\\x11\\x17&\\x0cT5\\x1aNN', b'E\\x08\\x1dx:\\x07AS\\x06\\x0eSb\\x06\\x13\\x08\\t\\x02\\x15T\\x061&$IOVc\\x01\\x00\\x08@\\x11!\\x17PE\\x16\\x1f\\x15N;\\x15\\x17\\x07,N\\x17\\x00\\tO\\n;\\x0c\\x07O\\x04\\x1b\\x1a\\x01M-;\\x1aNS\\x10\\x13\\x04D,\\x13E\\x1c\\x1cN\\x1bA\\x06H\\x00;\\x10\\x1cO\\x08X\\x05', b'6I\\x01~\\x00T\\x00\\x01\\x05\\x03x5YE\\x07R\\rIb\\x06\\x00\\x1d\\t\\x0f_U=\\x1bO5I\\x01UI\\x11\\x1cI\\x14Tx\\x17H\\x00\\x14\\x11\\x03\\x00#GE\\rE\\n\\x17SN\\x1d\\x07;\\x04\\x00[\\x06S\\x0b\\x04M\\x009\\x16LTT\\x101T6\\x0e\\x04\\x1c\\x08N\\x13S\\x1aH\\x16', b'\\x00\\x1aRj\\x1a\\x0bO&ICN\\x06TNE\\x19\\x1b*\\x1bNAT\\x13\\x0f\\r!\\x12E\\x0b\\x0e=\\x0bUd\\x1aAtIe[\\x19\\x1d\\x02E\\x08\\x012\\x1c*TS\\x1aAR6\\x0fE\\x08\\x12\\x17\\x07N\\x1a\\x1cO:\\x0fOTI\\x11\\x06\\x17\\x02\\x18=RTNS\\x17\\x15Y+G&I', b'\\x1e\\tTb\\x13\\x17 \\x10\\x0fROO!\\x0e9\\x01\\x18V\\x1aTN\\x16\\x14\\x10x\\x19P*\\x16\\x17\\x00Ie(\\x03I\\x0b)!NB\\x06\\x065I\\x16U\\r5\\x06\\x07\\x0c\\x16=RAT\\x07\\x1cA\\x07bKE\\x1dE\\x07\\x06C\\nH\\x001\\r\\x0e\\x1a\\x0f\\x11\\n\\x01M\\x1cx\\x11FO\\x1e', b\"\\x01\\x1106IAT\\x15\\x0fLbGEI\\x00\\x0b\\x17IN\\t\\x1btIOqE\\x11'\\x11M\\x196\\x1eVEy\\x1d\\x0eP&G\\n\\x02\\x0b\\x07\\x1bCN\\x04\\x06-\\x1b\\x16\\x1d\\x0e\\x1a\\x1cEM\\x00*\\x06\\x00B\\x1b\\x11\\x15H'\\x08\\x08\\x1cE\\x17\\x0bB\\x1bHO=\\x06\\x0eSI\\x01\\x03\\x10\"], 40: [b'\\x1d3\\t\\x08:I\\x16T\\x0cNO\\n\\x1c\\x07\\x17\\rRGd\\t\\x1d\\nC\\x1bMH\\x076(!6\\n\\x0cR\\x04OO,\\x1a\\x00\\x1a\\x06S\\x19\\x1c\\x1b\\x00\\x1c\\x08\\x01\\x1c\\x00\\x07\\tb\\x0c\\x00G5/I\\rRI\\rI\\x00\\x1aW\\x08\\x08\\x1c', b\"BS\\x00\\x1a\\x00y\\\\\\x06\\x06O\\x01AN\\x17DH\\t'&\\x06\\x0801E\\n;\\x0c\\x1aV\\x11UN\\x0f\\x1aS\\x01\\x04\\x11*-\\x0e\\x01\\x07E\\x01\\x03\\x0b\\x0e\\x13\\x121;II\\x06\\x01OC\\x17R\\x00\\x17\\x0f\\x11\\x1d\\x11\\\\O\\x06\\x14\\x1a\\x0b\", b'\\x1fNdF\\x1a3\\x00\\x07Mb\\x1b\\x1d\\x14;x\\x11\\x08R\\x1d\\x00UEU*\\x0fN\\x01\\x06\\x11RWN\\x15\\x0f\\x06OH\\x08e\\x1dT\\x11-x\\x11\\x0cU\\x19\\x07R\\x04[\\x00\\n\\x06\\x1a\\x06\\x01\\x17E\\x17A\\x1b\\nYHM,\\x06\\x1aGx', b\"Me&\\x07\\x135R\\t\\x0f\\x06\\x01\\tT\\t0H\\x00[T\\x07\\x1axU'\\x0f\\x03\\x00\\x00\\x1a\\x03*BT\\x1e;x\\x11I1\\x08\\x1cIE[TB\\x04\\x03\\x06T\\x00N\\x1d\\x0eN\\x0bH\\x1aM0\\x00\\x15\\t-t\\x04c^\\x1d\\x04FE\", b'\\x0bR\\x07OI\\x0b0S\\x02\\x01SR\\x15Ri\\x0b\\x02N\\x16G\\x0c+1HTGs!E\\x06\\x17De\\x00\\x08CR\\x07\\x08\\t\\x1b\\x1a\\x06\\x00\\x07AN\\x00\\x00\\rCb\\x00\\x1a.s=\\x00c\\x17\\x1c\\x01KE\\x1aNdI\\x16\\x0b\\x011', b'\\x0f\\x06S\\x1f\\x1a\\x1biN\\x0e\\x0bBY\\x1a\\x19e\\x16\\x11Jt0E\\x06R\\x04\\x1bL\\x16UA\\x1a\\x1bS!\\x1d\\x1bO\\x17\\x12\\x1b\\x1cNO\\x05\\x05\\x01=\\x0f00\\x04I\\x06IHcE\\x1a\\x007IT\\x16\\r\\x15G\\n1\\x02E\\x00\\x06\\x02', b'\\x02\\x00\\x00YO\\x01e\\x02\\x03G77\\x0c\\x01\\x1fIO\\r\\n\\x1aG\\x1ccS\\x13\\x1dRU\\x00A\\x0b*P\\x1c\\x037\\x06T\\x14t?E\\x0c\\x17NHAE[Rd\\x0c:\\x061\\x13Wd\\x0ed\\x17\\x00H\\x02-O\\x18\\x0265\\x0e\\x04', b'\\x1fG7xE\\x05\\x1f\\x10CS\\x04ON\\x0bI\\x1f\\x10T\\x14*\\x01A=\\x04K\\x03\\x03e\\x0b\\x1dK<9DNR\\x07\\x1cE\"\\x1aTN\\x1bS\\x1f\\x1a\\x1fVNk\\x02E\\x00DM+<\\x01m1+\\x08IR\\x19\\x0eT\\nOY\\x0b', b\"OT\\x16~H\\x0fISR\\x1d\\x07\\x00IA\\x07\\nE1\\x0b\\x11\\x00\\x13\\x12:=\\x00\\x06\\x1eI\\t\\x00E]\\x00N\\x1a\\x14\\x17T\\x1eA\\x067\\x03\\x02\\x00\\x0f\\x08'e-\\x0b7:E\\x0f\\x06\\x06OyESUd\\x1e\\x1f\\x0bT\\x0bSNA\", b'\\x13\\x1c\\x06j\\x0fF\\x02\\x08L\\x0c\\x1e&O\\x07\\t\",\\x00I\\x1d\\r\\x00PE\\x1a\\x00N\\x05\\x1cR\\x1a\\x1fHd\\t\\x1aEL\\x1f\\x18.\\x06=\\x06&2\\x0cIRN\\x00\\x00\\x04_y\\x07\\nS\\x05\\x1b\\x16N\\x1d\\x11\\x06\\x04\\x00\\x05M+\\x02\\x1b', b\"N\\r\\x0cb\\x1d\\x07\\x02;=\\x00\\x0c\\x1d\\x08\\x1b\\x00\\x00NA\\x03IS\\x1d\\x11\\x17A=\\x05N\\x13Y\\x07\\x14'e\\x15\\x0654\\r\\x0c\\x1d\\x1a?N\\nON\\x01\\x00K\\x07\\x1d\\x1c\\x00\\x01\\x15\\x06\\x06A\\x1d\\x08%\\x06\\x18\\x0e-,\\x00\\x10\\x11\\x1c\\x01\", b\"<E\\x1a6\\rOT\\x10N\\x00N\\x07\\x07\\x13\\x19REN\\x18'oD\\x1a\\x0bb\\x0e\\x11\\x0c17EI\\x06?\\x1dG\\x0bSYN\\x07SRT\\x07SI\\x0f\\x1a\\\\\\x07\\x1cM1\\x1aXG;6E\\x08R\\n\\x0eTER\\x00\\x01I\\x00R\", b'\\x1aM\\x17\\x0cS\\x1d\\x00\\x06\\x00\\x17\\x15IEG\\x11\\x000\\x1bTGex\\x06\\x0f\\x14\\x04\\x01E\\x17OP)\\x1d:\\x16\\x13\\x16NNk\\t\\rP&\\x036O\\x17Gt*E\\x1a\\x13IOD\\x08TT\\n\\x1dS\\x0b\\x11\\x06A\\x06\\x14/\\x0c*', b'i\\x07A\\x1d\\x04N\\x01\\x05/\\n\\x1c\\x139=E\\x0cR\\x01\\x07CHVA\\x0b\\x05\\x00\\x0b\\x11^\\x07\\x02\\x0e\\x075\\x00\\rMe\\x1b9G17\\x04\\rR\\x1d\\n*\\x0c_*\\x03\\r\\x10\\x01\\x1b\\x17A\\x06A\\x066\\x00H\\x056\\nTG7\\x08', b\"e\\x04\\x1d\\x0f:x\\x0bI\\x0b\\x05\\x0e\\x00\\x00\\x1aON\\x1d\\x16\\x17\\x15@U\\x02\\x02\\x17\\nI\\x18M0\\x0e\\x10Gz4\\x17\\x0eR\\x01\\x00*\\x17IZN\\x0e\\x1aR'\\x1c\\x007\\x04N\\x04O\\x0bMb\\x00\\x03\\x0e5,\\x07\\x08R\\x08\\x1cLIV\", b'\\x1f\\x0c\\x01A\\x01N\\x07\\x0fI\\x1f\\x06\\x13R*\\x19\\x00\\x06EA\\x06@!\\x0e\\x00G:6E\\x19\\x17\\nCWES\\x00\\x07\\x08\\x16\\x045\\x17S\\x07k\\x0b\\x02A\\x07M5\\x00\\x18m:x\\x11\\x1c\\x10\\x1c\\x1dS\\x1cRO\\x1a\\x0f\\x01\\x13\\x1dRA', b\"ISR\\rRHN\\x0f\\r\\x0c\\x07\\x01g\\x16\\x01\\x1a\\x06;<EZ\\x19\\x0fOGE\\x1dT\\x1cI\\x16R\\x1d$K\\x02\\x13\\x00EI\\x04M'O \\x13<6E\\x04\\x17\\x1c\\x03\\x07EIO\\x1e\\x08\\x14\\x1dT^A\\x17A\\x1bEY\\x1c\\x1a;\", b\"\\x1c\\x12TH\\x19'\\x02\\x10\\x08:+\\x13:\\x1aI\\x0bN\\x0b\\x1aFNE\\x01\\x13\\x1d_\\x0c\\x1c\\x00\\x0fIH\\x1c\\x0c'\\x06\\x18\\x0326\\t\\x1a\\\\c\\x07T\\x11^S\\x17\\x08\\x01R7\\x11T\\x1cA\\x1a\\rN\\x1bM6C\\x12\\t^x\\x11\\x01R\", b\"\\x0e<0\\x06\\x01R\\x10ONB\\x1aE\\x01\\x0c\\x03RT\\x17S\\x1b8N\\x04N\\x1a@b\\x16\\x17Gt7\\r\\x07R\\x02O\\x00\\x17\\x1d\\x00\\x01I \\x17\\x1dR\\x00\\x1aA\\x05EI\\t\\x0c'C\\x17\\x13 ?\\n\\x0eRI\\x1aK5SL\\x07\\x1d\", b'N\\x0c_U\\x0b\\x04S;\\x17^TNA\\x1c\\rT\\tM-\\x01\\x1b.3<\\tI+\\x00\\x1bL\\x0bW\\x00\\x07\\x08\\x16\\x01\\r\\x17\\x00\\x1a\\x0fd\\x11R\\x06\\x01\\x0b\\n\\x00\\x026,\\x10\\x05\\x02I\\x03LE\\x1aN\\x01\\x0f\\x14\\x1c\\r\\x1eT\\x0b\\x15\\x06', b'\\x13\\x1e\\x00\\x1aA\\x07\\x01\\x00\\rM*\\x0e\\x13\\x0250\\x0b\\x10R\\x02O\\x00\\x0c\\x1a\\x00=\\x06\\x1d\\x1b\\x1b\\x1dE\\x0f\\rNET\\x07\\x0c#\\x07\\x13m5=B\\x00R\\x19\\x06N\\n\\x1aS\\x02I:\\x1d\\x11\\x06*\\tA\\x1b\\nKH\\x0cnO\\x11\\x06', b'\\x01\\x08 \\x1b\\x13\\x0c&:\\x15.\\x17I\\n\\x07\\x16[Y\\x0f\\x05S_\\x18\\x1eT\\x0f\\x00\\x1bBC\\tM O\\x18\\x1557\\x10\\x02\\x1c\\x1bOs\\x17\\x1d\\x00\\x05\\x1dS\\x1f\\x1d\\x16*\\x0bA\\x0c\\x06SH\\x05\\x11O\\x03\\tt!\\x08\\x10R\\x05OT', b'\\x0bI\\x13\\x00\\x06E\\x10_T\\x01I\\x17\\x06\\x07\\x17TNF\\x0b\\x0c\\r\\x01\\x04*\\x01\\x19Gt=\\x03\\x1d\\x1d\\x1a\\x0eHEJ\\x00\\x1d\\r\\x1cx\\x00\\x06S\\n\\x04\\x06\\x01E\\x06\\x14\\x11O\\x19\\x061=\\x08\\x08\\x1dc\\x07Ko\\x1aUN\\x1a\\x1c\\x10T', b'\\x07\\x1a\\n\\x1d\\x00X\\x15G\\x1dA\\x19\\x04\\x00HMb\\x04T\\x13 x\\x0e\\x1a\\x13\\r\\x1cC\\x11\\x1aE\\x07\\r\\x03R\\x1d\\x05\\x00\\x1eAN\\x10n\\r\\x01b\\x00T\\x08;yBN\\x1d\\x1d\\nCI\\x1aE\\x1aIy\\x1b\\r>M\\x1d\\x15\\x0f\\x10O\\x0e', b'N\\t\\x05BLHM+O\"\\x0697\\x0bc\\x1b\\x00\\x18\\x00EqE\\x1a\\x1dS\\x1d\\x15\\x1dM\\x1c\\x0c\\x17\\ni\\x06\\x04!\\n\\x15\\x0037\\x15\\x0c\\x1c\\x1e\\x0eU\\x12\\x1a\\x00\\x1dI\\x1bR\\x1fRANA\\r6TH\\x0c7\\x06\\x1c\\x1e0!\\x10', b'\\x1b\\x11Gt1\\x08\\x02\\x1c\\x0e\\x0eY\\x0b\\\\O:\\x1a\\x17\\x13\\x00\\x07NN\\x08N\\x08N\\x06M#A\\x11K;;\\n\\x07\\x00\\x06\\x1dR\\rMP\\n\\x06\\x1dR\\x13\\x1cy\\x08A\\n\\x00dH\\t,B=\\x085=\\x08\\x10\\x01\\n\\x0e\\x00\\x00\\x1aN', b'\\x01OO\\x04_A\\x07I\\x1c\\x1cT^FN\\tNEN\\x00\\x1d-\\x02\\x17\\x1e5xE\\x0e\\x19IC\\x00\\x0b_\\x00\\x01\\x10\\x03\\x17\\x1bR\\x00\\x07ANEF\\x00M-\\x0e\\x13\\x08t9\\x04\\x06\\x16DOM\\x1c\\x1aUN\\x00S\\x06\\x1d\\x00c\\x05', b'\\x16\\x14\\x12\\x1eS\\x00\\x02dEI!Mb\\x0b\\x11\\x08:6\\x00I\\x11\\x10\\nO\\x0eNT\\x0b\\x0cyR\\rS\\x00dA\\x07\\t\\x00\\x07\\x19;\\x01\\x16\\x13^9\\x11\\x08\\x07\\x1a\\nN\\t^NNIS\\x05\\x11RB\\x1d\\x05\\r&\\x00\\x1cM-\\x16', b'ELH\\x01bO\\x1f3^4E\\x1dU\\x00OKB[\\x00\\x0f\\x02S\\n\\x01\\x17O\\x1c\\x15\\x1doN\\x07M;&~\\t12\\x13\\x01\\x1dN\\x16R6T\\x00\\x00E\\x07\\x06S\\x0b\\x00\\n\\x15\\n$AH@-\\x06\\x1bG;>E\\x07\\x1fI', b'6!\\x08I\\x15 OO(VW\\x06\\n\\x00\\x15TR\\x00\\x0c\\x0fN\\x17PHMb\\x16TG\\r7\\x10*\\x17\\x07<\\x07EUI\\x0b\\x1cSR\\x1d\\x02A\\x1a\\x05NIT\\x1c\\x1fHO\\x1c\\x08:+\\nD\\x0b\\n\\x18T\\x08O*\\x01\\x0c\\x1e', b'\\x00\\x1aE\\x1a\\x06T\\x1bT\\x0bA\\x07\\x04\\x0f\\x16Ib\\x1d.\\n\\x10\\x08<1\\x06\\x016I\\x02P\\n\\x1a\\x00\\x01\\x19\\x07\\x1dT\\x13C\\x00AI\\x16T\\x18\\x0c6\\x07T@t1E\\x00+\\x0c\\nN\\x1c\\x1aNNES\\x1c\\x1d\\x17N>\\x16N\\x10', b'\\x1eGN\\t\\x07\\x08N\\x02Mb\\x03\\x1a\\x12=*$\\x05\\x1b\\x08ON\\x1c[A\\x0b\\x0c\\x07\\x0b\\x11\\x07G\\x1e\\x0cB\\n\\x00b\\x1f)H\\x13\\x15;0\\x15\\x1b\\x1b\\x08\\x03\\x19<TB\\r\\x06\\x1dRS\\x06WB1N\"\\x00\\x04M)\\x03T\\x08\\'', b\"\\x01+e\\x11\\ttx\\x10\\x195\\x05OS\\x0bVN\\x0f\\x1a\\x07\\x1fT\\x1fL\\x00\\x13\\x02\\n\\x00\\x1aJ+\\x1d\\x11G,(3\\x0c\\x1bI\\x07EE_I\\x05\\n\\x07\\x17D=\\x07\\x0b\\x12\\x1b\\x01D\\x1c\\x04'O\\x18\\x00;9\\t\\x06\\x0b\\x08eN\\x0c\", b'I\\x00>\\x02\\x07\\x0b0S\\x01\\x06Sx\\x11UI\\n\\x18\\x1aEA\\x1b\\x08+OT\\x0et+\\x03\\x05\\x00\\x06OY\\x0cOAN\\x07\\x07\\x17T\\x1a\\x00\\x00\\x00NENHLbOT@!9E\\x04\\x13\\x0c\\x0eOET\\x00\\x00I\\n\"X\\x11', b\"d\\x05\\x16RT\\x1di\\x1a\\x12O\\x07wHM'OT\\x02$3\\n\\x1a\\x16\\x0b\\x18L\\rNE\\x02\\x05\\x11\\x1d\\x11\\x11N\\x00\\x03I\\x17T\\t\\x0c H\\x19m^<\\x0cI\\x1a\\x04\\rR\\x17TB\\x0b\\x02\\x05\\x0bT\\x05D\\x17M\\x03ELHM\", b' \\x1d\\tz\\x0b\\x196O\\x07G10,\\x08\\x01 eN\\t_MN\\x06\\x16\\x17\\x15\\x13Y\\rA\\x1d\\x04N\\x18\\x0c)\\x06\\x01G-,\\x08\\x1b\\x13I\\x0ey<\\x1aS\\x0f\\x06\\x12\\x17\\x11\\x17C\\x0bMB\\x00\\x00\\x1f\\x05b\\x00T\\x12 9&c', b\"TG8\\x7f\\x17IR\\x05\\n*EC\\x00\\x02ISxT\\x13\\x00\\x0b\\x00\\r\\x11T\\x00\\x03.\\x1b\\x13G6xI\\x1d\\x01\\x05\\x16L\\x0cUA\\n\\x1a\\x1c\\x06\\x1b\\x1dMN\\x0f\\x1a\\x01LHM'OTG&,\\r\\x00\\x10\\x1c,S\\rCO\", b\"\\x1dYEIA\\x02\\n\\x16U~x\\x00\\r\\r\\x1d\\x06s\\x1c\\x14+O\\x00\\x0etvE\\x0e\\x17I\\n*\\t[\\x00\\x07I\\x1f\\x1b\\x1d\\x1c\\x00\\x14A\\x0b\\x0bI\\x1d\\x18'\\x02\\x10Kt7\\x15cR\\x1a\\x0eb\\x1cRI\\x1a\\x06S\\x1d\\x1d\\x13\\x00\\x03\", b'\\x1d\\x11\\x06\\x00\\x14\\x00\\x01\\x11S;,;\\x00\\x1b\\x065,\\nI\\x06\\x1e\\x1dOo\\x1a*NIy\\x06\\'\\x0bN\\'\\x0f\\x1d\\x04N\\x03\\n%\\n\\x18\\x14t;EIR\\x10O\\x00\\x04TI\"\\x1d\\x02\\x1c\\x1b\\x10A\\x1a\\x04\\x01\\x01M\\x0b\\x196\\n', b\"C\\x04\\x05H\\x16\\x0e\\ttx\\x08\\x07\\x1d\\x07\\x18\\x00\\x0b[\\x00\\x1aI\\x1c\\x1d\\x01;*:kd'\\x00\\x07M&H\\x13\\x13t\\x7f\\x00I\\x00\\r\\x06\\x00\\x08\\x16T\\x03\\x10S;\\x07\\x1cG\\x1a\\x04\\x01\\x10Y\\x11\\x026\\nT\\x00==EI\\x1aI\"]}\n",
            "key: Terminator X: Bring the noise\n"
          ]
        }
      ],
      "source": [
        "import challenge3 as c3\n",
        "import challenge6 as c6\n",
        "\n",
        "test_Normalized = defaultdict(list)\n",
        "Normalized_list = dict()\n",
        "for keysize in range(2, 41):\n",
        "  block_list = []\n",
        "  for i in range(int(len(text)/keysize) + 1):\n",
        "    block_list += [text[keysize*i:keysize*(i+1)]]\n",
        "  \n",
        "  distance_list = []\n",
        "  for i in range(len(block_list) - 1):\n",
        "    distance_list += [c6.hamming_distance(block_list[i],block_list[i+1])]\n",
        "  Normalized_list[keysize] = sum(distance_list)/len(distance_list)/keysize\n",
        "\n",
        "  \n",
        "  for i in range(2, len(distance_list) + 1):\n",
        "    test_distance_list = distance_list[:i]\n",
        "    test_Normalized[i] += [(keysize, sum(test_distance_list)/len(test_distance_list)/keysize)]\n",
        "\n",
        "max_chunk = int(len(text) / 40) + 1\n",
        "for chunk, normalized_list in test_Normalized.items():\n",
        "  if chunk > max_chunk:\n",
        "    break\n",
        "  print(f\"for using {chunk} chunk, best 5 scores are : {sorted(normalized_list, key=lambda x:x[1])[:5]}\")\n",
        "\n",
        "print(*sorted(Normalized_list.items(), key=lambda x:x[1])[:10], sep='\\n')\n",
        "candidate_keysize_list = [x[0] for x in sorted(Normalized_list.items(), key=lambda x:x[1])[:10]]\n",
        "\n",
        "transpose_block_dict = dict()\n",
        "for keysize in candidate_keysize_list:\n",
        "  block_list = []\n",
        "  for i in range(keysize):\n",
        "    block_list += [text[i::keysize]]\n",
        "  transpose_block_dict[keysize] = block_list\n",
        "\n",
        "print(transpose_block_dict)\n",
        "for keysize, transpose_block_list in transpose_block_dict.items():\n",
        "  decrypt_list = []\n",
        "  for index, transpose_block in enumerate(transpose_block_list):\n",
        "    score, _, key = c3.try_decrypt(transpose_block)\n",
        "    decrypt_list.append((index, (score, key)))\n",
        "  #print(decrypt_list)\n",
        "\n",
        "  key = \"\".join([chr(x[1][1]) for x in decrypt_list])\n",
        "  if all([x in string.printable for x in key]):\n",
        "    print(f\"key: {key}\")"
      ]
    },
    {
      "attachments": {},
      "cell_type": "markdown",
      "metadata": {
        "id": "poWFslIEcgMa"
      },
      "source": [
        "Chellange 7"
      ]
    },
    {
      "cell_type": "code",
      "execution_count": 13,
      "metadata": {
        "id": "Aajwi32wcna2"
      },
      "outputs": [],
      "source": [
        "text_list = get_txt_from_url(\"https://cryptopals.com/static/challenge-data/7.txt\")\n",
        "text = ''.join(text_list)\n",
        "text = base64.b64decode(text)\n",
        "key = b'YELLOW SUBMARINE'"
      ]
    },
    {
      "cell_type": "code",
      "execution_count": 14,
      "metadata": {
        "colab": {
          "base_uri": "https://localhost:8080/"
        },
        "id": "IPDnvxfzx1V2",
        "outputId": "06625b2e-c4c5-4b2a-da7c-a7ca62f7cdcd"
      },
      "outputs": [
        {
          "name": "stdout",
          "output_type": "stream",
          "text": [
            "b\"I'm back and I'm ringin' the bell \\nA rockin' on the mike while the fly girls yell \\nIn ecstasy in the back of me \\nWell that's my DJ Deshay cuttin' all them Z's \\nHittin' hard and the girlies goin' crazy \\nVanilla's on the mike, man I'm not lazy. \\n\\nI'm lettin' my drug kick in \\nIt controls my mouth and I begin \\nTo just let it flow, let my concepts go \\nMy posse's to the side yellin', Go Vanilla Go! \\n\\nSmooth 'cause that's the way I will be \\nAnd if you don't give a damn, then \\nWhy you starin' at me \\nSo get off 'cause I control the stage \\nThere's no dissin' allowed \\nI'm in my own phase \\nThe girlies sa y they love me and that is ok \\nAnd I can dance better than any kid n' play \\n\\nStage 2 -- Yea the one ya' wanna listen to \\nIt's off my head so let the beat play through \\nSo I can funk it up and make it sound good \\n1-2-3 Yo -- Knock on some wood \\nFor good luck, I like my rhymes atrocious \\nSupercalafragilisticexpialidocious \\nI'm an effect and that you can bet \\nI can take a fly girl and make her wet. \\n\\nI'm like Samson -- Samson to Delilah \\nThere's no denyin', You can try to hang \\nBut you'll keep tryin' to get my style \\nOver and over, practice makes perfect \\nBut not if you're a loafer. \\n\\nYou'll get nowhere, no place, no time, no girls \\nSoon -- Oh my God, homebody, you probably eat \\nSpaghetti with a spoon! Come on and say it! \\n\\nVIP. Vanilla Ice yep, yep, I'm comin' hard like a rhino \\nIntoxicating so you stagger like a wino \\nSo punks stop trying and girl stop cryin' \\nVanilla Ice is sellin' and you people are buyin' \\n'Cause why the freaks are jockin' like Crazy Glue \\nMovin' and groovin' trying to sing along \\nAll through the ghetto groovin' this here song \\nNow you're amazed by the VIP posse. \\n\\nSteppin' so hard like a German Nazi \\nStartled by the bases hittin' ground \\nThere's no trippin' on mine, I'm just gettin' down \\nSparkamatic, I'm hangin' tight like a fanatic \\nYou trapped me once and I thought that \\nYou might have it \\nSo step down and lend me your ear \\n'89 in my time! You, '90 is my year. \\n\\nYou're weakenin' fast, YO! and I can tell it \\nYour body's gettin' hot, so, so I can smell it \\nSo don't be mad and don't be sad \\n'Cause the lyrics belong to ICE, You can call me Dad \\nYou're pitchin' a fit, so step back and endure \\nLet the witch doctor, Ice, do the dance to cure \\nSo come up close and don't be square \\nYou wanna battle me -- Anytime, anywhere \\n\\nYou thought that I was weak, Boy, you're dead wrong \\nSo come on, everybody and sing this song \\n\\nSay -- Play that funky music Say, go white boy, go white boy go \\nplay that funky music Go white boy, go white boy, go \\nLay down and boogie and play that funky music till you die. \\n\\nPlay that funky music Come on, Come on, let me hear \\nPlay that funky music white boy you say it, say it \\nPlay that funky music A little louder now \\nPlay that funky music, white boy Come on, Come on, Come on \\nPlay that funky music \\n\\x04\\x04\\x04\\x04\"\n"
          ]
        }
      ],
      "source": [
        "print(decrypt_ECB(text, key))"
      ]
    },
    {
      "attachments": {},
      "cell_type": "markdown",
      "metadata": {
        "id": "imVJL41QA2Xy"
      },
      "source": [
        "Challenge 8"
      ]
    },
    {
      "cell_type": "code",
      "execution_count": 15,
      "metadata": {
        "id": "bTtwn-Pl1UEl"
      },
      "outputs": [],
      "source": [
        "text_list = get_txt_from_url(\"https://cryptopals.com/static/challenge-data/8.txt\")"
      ]
    },
    {
      "cell_type": "code",
      "execution_count": 16,
      "metadata": {
        "colab": {
          "base_uri": "https://localhost:8080/"
        },
        "id": "IWuwSv8j2zgH",
        "outputId": "ead8a50b-8b92-4807-dc39-ff49a81192cc"
      },
      "outputs": [
        {
          "name": "stdout",
          "output_type": "stream",
          "text": [
            "205\n"
          ]
        }
      ],
      "source": [
        "print(len(text_list))"
      ]
    },
    {
      "cell_type": "code",
      "execution_count": 17,
      "metadata": {
        "colab": {
          "base_uri": "https://localhost:8080/"
        },
        "id": "Fh3T-H7z1jir",
        "outputId": "422adc86-ff3d-4b85-be39-2ce013b7d62f"
      },
      "outputs": [
        {
          "name": "stdout",
          "output_type": "stream",
          "text": [
            "132 b'\\xd8\\x80a\\x97@\\xa8\\xa1\\x9bx@\\xa8\\xa3\\x1c\\x81\\n=\\x08d\\x9a\\xf7\\r\\xc0oO\\xd5\\xd2\\xd6\\x9ctL\\xd2\\x83\\xe2\\xdd\\x05/kd\\x1d\\xbf\\x9d\\x11\\xb04\\x85B\\xbbW\\x08d\\x9a\\xf7\\r\\xc0oO\\xd5\\xd2\\xd6\\x9ctL\\xd2\\x83\\x94u\\xc9\\xdf\\xdb\\xc1\\xd4e\\x97\\x94\\x9d\\x9c~\\x82\\xbfZ\\x08d\\x9a\\xf7\\r\\xc0oO\\xd5\\xd2\\xd6\\x9ctL\\xd2\\x83\\x97\\xa9>\\xab\\x8dj\\xec\\xd5fH\\x91Tx\\x9ak\\x03\\x08d\\x9a\\xf7\\r\\xc0oO\\xd5\\xd2\\xd6\\x9ctL\\xd2\\x83\\xd4\\x03\\x18\\x0c\\x98\\xc8\\xf6\\xdb\\x1f*?\\x9c@@\\xde\\xb0\\xabQ\\xb2\\x993\\xf2\\xc1#\\xc5\\x83\\x86\\xb0o\\xba\\x18j'\n",
            "132 b'\\xd8\\x80a\\x97@\\xa8\\xa1\\x9bx@\\xa8\\xa3\\x1c\\x81\\n=\\x08d\\x9a\\xf7\\r\\xc0oO\\xd5\\xd2\\xd6\\x9ctL\\xd2\\x83\\xe2\\xdd\\x05/kd\\x1d\\xbf\\x9d\\x11\\xb04\\x85B\\xbbW\\x08d\\x9a\\xf7\\r\\xc0oO\\xd5\\xd2\\xd6\\x9ctL\\xd2\\x83\\x94u\\xc9\\xdf\\xdb\\xc1\\xd4e\\x97\\x94\\x9d\\x9c~\\x82\\xbfZ\\x08d\\x9a\\xf7\\r\\xc0oO\\xd5\\xd2\\xd6\\x9ctL\\xd2\\x83\\x97\\xa9>\\xab\\x8dj\\xec\\xd5fH\\x91Tx\\x9ak\\x03\\x08d\\x9a\\xf7\\r\\xc0oO\\xd5\\xd2\\xd6\\x9ctL\\xd2\\x83\\xd4\\x03\\x18\\x0c\\x98\\xc8\\xf6\\xdb\\x1f*?\\x9c@@\\xde\\xb0\\xabQ\\xb2\\x993\\xf2\\xc1#\\xc5\\x83\\x86\\xb0o\\xba\\x18j'\n",
            "132 b'\\xd8\\x80a\\x97@\\xa8\\xa1\\x9bx@\\xa8\\xa3\\x1c\\x81\\n=\\x08d\\x9a\\xf7\\r\\xc0oO\\xd5\\xd2\\xd6\\x9ctL\\xd2\\x83\\xe2\\xdd\\x05/kd\\x1d\\xbf\\x9d\\x11\\xb04\\x85B\\xbbW\\x08d\\x9a\\xf7\\r\\xc0oO\\xd5\\xd2\\xd6\\x9ctL\\xd2\\x83\\x94u\\xc9\\xdf\\xdb\\xc1\\xd4e\\x97\\x94\\x9d\\x9c~\\x82\\xbfZ\\x08d\\x9a\\xf7\\r\\xc0oO\\xd5\\xd2\\xd6\\x9ctL\\xd2\\x83\\x97\\xa9>\\xab\\x8dj\\xec\\xd5fH\\x91Tx\\x9ak\\x03\\x08d\\x9a\\xf7\\r\\xc0oO\\xd5\\xd2\\xd6\\x9ctL\\xd2\\x83\\xd4\\x03\\x18\\x0c\\x98\\xc8\\xf6\\xdb\\x1f*?\\x9c@@\\xde\\xb0\\xabQ\\xb2\\x993\\xf2\\xc1#\\xc5\\x83\\x86\\xb0o\\xba\\x18j'\n",
            "d880619740a8a19b7840a8a31c810a3d08649af70dc06f4fd5d2d69c744cd283e2dd052f6b641dbf9d11b0348542bb5708649af70dc06f4fd5d2d69c744cd2839475c9dfdbc1d46597949d9c7e82bf5a08649af70dc06f4fd5d2d69c744cd28397a93eab8d6aecd566489154789a6b0308649af70dc06f4fd5d2d69c744cd283d403180c98c8f6db1f2a3f9c4040deb0ab51b29933f2c123c58386b06fba186a\n"
          ]
        }
      ],
      "source": [
        "target_index = 0\n",
        "for index, text in enumerate(text_list):\n",
        "  text = bytes.fromhex(text)\n",
        "  if len(text) < 1:\n",
        "    continue\n",
        "  for i in range(10):\n",
        "    for j in range(i + 1, 10):\n",
        "      if text[i*16: (i+1)*16] == text[j*16: (j+1)*16]:\n",
        "        print(index, text)\n",
        "        target_index = index\n",
        "        break\n",
        "\n",
        "print(text_list[target_index])"
      ]
    },
    {
      "attachments": {},
      "cell_type": "markdown",
      "metadata": {
        "id": "JuVlA4G95Kh2"
      },
      "source": [
        "# Set_2"
      ]
    },
    {
      "attachments": {},
      "cell_type": "markdown",
      "metadata": {
        "id": "nnyt4csX5Tcm"
      },
      "source": [
        "Challenge 9"
      ]
    },
    {
      "cell_type": "code",
      "execution_count": 18,
      "metadata": {
        "colab": {
          "base_uri": "https://localhost:8080/"
        },
        "id": "veC-PYVL78Ov",
        "outputId": "8c9c4709-1f57-4d64-922b-0e43c01100df"
      },
      "outputs": [
        {
          "data": {
            "text/plain": [
              "b'YELLOW SUBMARINE\\x04\\x04\\x04\\x04'"
            ]
          },
          "execution_count": 18,
          "metadata": {},
          "output_type": "execute_result"
        }
      ],
      "source": [
        "padding_PKCS7(b\"YELLOW SUBMARINE\", 20)"
      ]
    },
    {
      "attachments": {},
      "cell_type": "markdown",
      "metadata": {
        "id": "lqQsboLU9isq"
      },
      "source": [
        "Challenge 10"
      ]
    },
    {
      "cell_type": "code",
      "execution_count": 19,
      "metadata": {
        "colab": {
          "base_uri": "https://localhost:8080/"
        },
        "id": "y8vtzkRXBo9_",
        "outputId": "d0bfa3da-71a6-4913-ff1b-7682c5474128"
      },
      "outputs": [],
      "source": [
        "plain_text_list = get_txt_from_url(\"https://cryptopals.com/static/challenge-data/10.txt\")\n",
        "plain_text = ''.join(plain_text_list)"
      ]
    },
    {
      "cell_type": "code",
      "execution_count": 20,
      "metadata": {
        "colab": {
          "base_uri": "https://localhost:8080/",
          "height": 364
        },
        "id": "vSnpgYjAEwTw",
        "outputId": "3c1fda88-9cf9-4f49-90ca-1b27291f1780"
      },
      "outputs": [
        {
          "name": "stdout",
          "output_type": "stream",
          "text": [
            "b\"I'm back and I'm ringin' the bell \\nA rockin' on the mike while the fly girls yell \\nIn ecstasy in the back of me \\nWell that's my DJ Deshay cuttin' all them Z's \\nHittin' hard and the girlies goin' crazy \\nVanilla's on the mike, man I'm not lazy. \\n\\nI'm lettin' my drug kick in \\nIt controls my mouth and I begin \\nTo just let it flow, let my concepts go \\nMy posse's to the side yellin', Go Vanilla Go! \\n\\nSmooth 'cause that's the way I will be \\nAnd if you don't give a damn, then \\nWhy you starin' at me \\nSo get off 'cause I control the stage \\nThere's no dissin' allowed \\nI'm in my own phase \\nThe girlies sa y they love me and that is ok \\nAnd I can dance better than any kid n' play \\n\\nStage 2 -- Yea the one ya' wanna listen to \\nIt's off my head so let the beat play through \\nSo I can funk it up and make it sound good \\n1-2-3 Yo -- Knock on some wood \\nFor good luck, I like my rhymes atrocious \\nSupercalafragilisticexpialidocious \\nI'm an effect and that you can bet \\nI can take a fly girl and make her wet. \\n\\nI'm like Samson -- Samson to Delilah \\nThere's no denyin', You can try to hang \\nBut you'll keep tryin' to get my style \\nOver and over, practice makes perfect \\nBut not if you're a loafer. \\n\\nYou'll get nowhere, no place, no time, no girls \\nSoon -- Oh my God, homebody, you probably eat \\nSpaghetti with a spoon! Come on and say it! \\n\\nVIP. Vanilla Ice yep, yep, I'm comin' hard like a rhino \\nIntoxicating so you stagger like a wino \\nSo punks stop trying and girl stop cryin' \\nVanilla Ice is sellin' and you people are buyin' \\n'Cause why the freaks are jockin' like Crazy Glue \\nMovin' and groovin' trying to sing along \\nAll through the ghetto groovin' this here song \\nNow you're amazed by the VIP posse. \\n\\nSteppin' so hard like a German Nazi \\nStartled by the bases hittin' ground \\nThere's no trippin' on mine, I'm just gettin' down \\nSparkamatic, I'm hangin' tight like a fanatic \\nYou trapped me once and I thought that \\nYou might have it \\nSo step down and lend me your ear \\n'89 in my time! You, '90 is my year. \\n\\nYou're weakenin' fast, YO! and I can tell it \\nYour body's gettin' hot, so, so I can smell it \\nSo don't be mad and don't be sad \\n'Cause the lyrics belong to ICE, You can call me Dad \\nYou're pitchin' a fit, so step back and endure \\nLet the witch doctor, Ice, do the dance to cure \\nSo come up close and don't be square \\nYou wanna battle me -- Anytime, anywhere \\n\\nYou thought that I was weak, Boy, you're dead wrong \\nSo come on, everybody and sing this song \\n\\nSay -- Play that funky music Say, go white boy, go white boy go \\nplay that funky music Go white boy, go white boy, go \\nLay down and boogie and play that funky music till you die. \\n\\nPlay that funky music Come on, Come on, let me hear \\nPlay that funky music white boy you say it, say it \\nPlay that funky music A little louder now \\nPlay that funky music, white boy Come on, Come on, Come on \\nPlay that funky music \\n\\x04\\x04\\x04\\x04\"\n"
          ]
        }
      ],
      "source": [
        "block_size = 16\n",
        "key = b'YELLOW SUBMARINE'\n",
        "initialization_vector = b'\\x00' * block_size\n",
        "\n",
        "decrypted_bytes = decrypt_CBC(base64.b64decode(plain_text), key, block_size, initialization_vector)\n",
        "\n",
        "print(decrypted_bytes)"
      ]
    },
    {
      "cell_type": "code",
      "execution_count": 21,
      "metadata": {},
      "outputs": [
        {
          "name": "stdout",
          "output_type": "stream",
          "text": [
            "b'\\x93\\xe4c\\x06\\x1dg\\xc7J\\xa6\\xe5\\x99:\\xea\\xa4dh[\\x90@\\rjd{\\xe1\\x8d\\x1fg\\xf4\\x82\\xbf\\xe5\\xab'\n",
            "32\n",
            "b'1234567890123456789'\n"
          ]
        }
      ],
      "source": [
        "test_bytes = b'1234567890123456789'\n",
        "en = encrypt_CBC(test_bytes, key, block_size, initialization_vector)\n",
        "print(en)\n",
        "print(len(en))\n",
        "de = decrypt_CBC(en, key, block_size, initialization_vector, False)\n",
        "print(de)"
      ]
    },
    {
      "attachments": {},
      "cell_type": "markdown",
      "metadata": {
        "id": "m-Sjs9QD15gf"
      },
      "source": [
        "Challenge 11"
      ]
    },
    {
      "cell_type": "code",
      "execution_count": 22,
      "metadata": {
        "colab": {
          "base_uri": "https://localhost:8080/"
        },
        "id": "_A9I0rnf3XPz",
        "outputId": "d5170b7b-0ced-422e-c426-15082b468b8e"
      },
      "outputs": [
        {
          "name": "stdout",
          "output_type": "stream",
          "text": [
            "True, answer: ECB, detected: ECB\n",
            "True, answer: ECB, detected: ECB\n",
            "True, answer: ECB, detected: ECB\n",
            "True, answer: CBC, detected: CBC\n",
            "True, answer: CBC, detected: CBC\n",
            "True, answer: CBC, detected: CBC\n",
            "True, answer: ECB, detected: ECB\n",
            "True, answer: ECB, detected: ECB\n",
            "True, answer: CBC, detected: CBC\n",
            "True, answer: CBC, detected: CBC\n"
          ]
        }
      ],
      "source": [
        "import challenge11 as c\n",
        "\n",
        "block_size = 16\n",
        "for i in range(10):\n",
        "  encrypted_bytes, key, encryption_mode = c.encryption_oracle('A'*256, block_size)\n",
        "\n",
        "  target_index = -1\n",
        "  max_chunk = int(len(encrypted_bytes)/block_size)\n",
        "    \n",
        "  for i in range(max_chunk - 1):\n",
        "    for j in range(i + 1, max_chunk):\n",
        "      if encrypted_bytes[i*block_size: (i+1)*block_size] == encrypted_bytes[j*block_size: (j+1)*block_size]:\n",
        "        # print(encrypted_bytes)\n",
        "        # print(encrypted_bytes[i*block_size: (i+1)*block_size], encrypted_bytes[j*block_size: (j+1)*block_size], i, j)\n",
        "        target_index = i\n",
        "        break\n",
        "    if target_index != -1:\n",
        "      break\n",
        "  \n",
        "  detected_mode = 'ECB' if target_index != -1 else 'CBC'\n",
        "  print(f'{encryption_mode == detected_mode}, answer: {encryption_mode}, detected: {detected_mode}')"
      ]
    },
    {
      "attachments": {},
      "cell_type": "markdown",
      "metadata": {
        "id": "dwH5x9lK6QGi"
      },
      "source": [
        "Challenge 12"
      ]
    },
    {
      "cell_type": "code",
      "execution_count": 23,
      "metadata": {
        "colab": {
          "base_uri": "https://localhost:8080/",
          "height": 377
        },
        "id": "LQeF7NLx_EV-",
        "outputId": "13d7e5c8-8442-4b69-d267-aaf9c4f38368"
      },
      "outputs": [
        {
          "name": "stdout",
          "output_type": "stream",
          "text": [
            "encrypted_bytes: b\"\\xaek\\xf6\\x0e\\xab%\\xb5\\xe8Z\\xf5\\xc5*\\x92\\xe4\\x17a\\xd7\\x1d|\\xaf\\xde\\xb6\\xf0=b\\xc7\\x17xD9\\x0fz[7:2\\xde\\xc74|\\x95v\\x1a\\xf21\\x9f~\\x03#\\xbc\\xc0\\xa8\\xa5\\xb0R\\x9f\\xa3\\xdcz\\xa3\\x99\\xd5\\xe1Y~\\xb4\\xbd\\xaf\\x8d\\xd0)\\xe7\\xf3\\xb7\\x97R\\x9bQ\\x8auE|'\\n\\xac\\xccb3l-\\x15m\\xcb\\x98\\x17k%\\xa8-L\\xa47=\\xf5\\xb9\\\\\\x95\\xf0\\xa0|\\xa9Ac\\x11R\\xb3=\\xdfS\\xd3\\xec\\xca$\\x04.\\x96\\x9c.\\xc8K\\xadL\\x8ad0\\xa8\\x94\\xe0,}\\xb5p\\xf7ao\\x97o\\xda\\xc0o\\xe0B\\x1d\\x86Rl\\xb0\\xf2\\xa4U\"\n",
            "detected_mod: ECB\n",
            "b\"Rollin' in my 5.0\\nWith my rag-top down so my hair can blow\\nThe girlies on standby waving just to say hi\\nDid you stop? No, I just drove by\\n\\x01\"\n"
          ]
        }
      ],
      "source": [
        "import challenge12 as c12\n",
        "\n",
        "c12.block_size = 16\n",
        "c12.random_key = os.urandom(block_size)\n",
        "c12.random_prefix = os.urandom(random.randint(5, 10))\n",
        "plain_text = 'random plain text'\n",
        "\n",
        "encrypted_bytes = c12.new_oracle(plain_text)\n",
        "print(f'encrypted_bytes: {encrypted_bytes}')\n",
        "\n",
        "# Step 1 Get block_size\n",
        "#detected_block_size = detect_block_size(plain_text)\n",
        "#print(f'block size detection:{detected_block_size==block_size} block_size:{block_size} detected_block_size:{detected_block_size}')\n",
        "# Step 2 Detected ECB mode\n",
        "detected_mode = c12.detect_ECB_mode(plain_text)\n",
        "print(f'detected_mod: {detected_mode}')\n",
        "# Step 3,4 Craft input\n",
        "# Step 5,6 match_output\n",
        "something = c12.match_output()\n",
        "print(something)"
      ]
    },
    {
      "attachments": {},
      "cell_type": "markdown",
      "metadata": {
        "id": "j8y-QZHZ-BSn"
      },
      "source": [
        "Challenge 13"
      ]
    },
    {
      "cell_type": "code",
      "execution_count": 25,
      "metadata": {
        "colab": {
          "base_uri": "https://localhost:8080/"
        },
        "id": "o8imw1EWE1-p",
        "outputId": "3cdbf535-4057-4b31-b3f2-785c87c33a2b"
      },
      "outputs": [
        {
          "name": "stdout",
          "output_type": "stream",
          "text": [
            "profile: email=foo%40bar.com&uid=10&role=user\n",
            "b'e:\\x9ewm@\\x9e\\xa2D\\xc0:\\xac ;\\xf5\\x99'\n",
            "b'O\\x93\\xd6c\\x7f\\xf9l\\x03T\\xf4\\x8c\\xdb\\x9f\\x1ci>z#\\xe5j\\x809\\xcd\\xf5&\\x94\\x88s\\xba,O\\xb6\\xfd\\xb7\\xaf7\\xc2@\"6?\\x00\\xd2\\xfb\\xe2oQ-'\n",
            "b'email=foo%40bar.com&uid=10&role=user\\x0c\\x0c\\x0c\\x0c\\x0c\\x0c\\x0c\\x0c\\x0c\\x0c\\x0c\\x0c'\n",
            "target: email=foo%40bar.com&uid=10&role=admin\n",
            "b'O\\x93\\xd6c\\x7f\\xf9l\\x03T\\xf4\\x8c\\xdb\\x9f\\x1ci>z#\\xe5j\\x809\\xcd\\xf5&\\x94\\x88s\\xba,O\\xb6\\xcf\\xf3\\x98^Pp\\xd7e\\x98[\\x95\\x85\\xafy\\xa1\\xd1'\n",
            "b'email=foo%40bar.com&uid=10&role=admin\\x0b\\x0b\\x0b\\x0b\\x0b\\x0b\\x0b\\x0b\\x0b\\x0b\\x0b'\n"
          ]
        }
      ],
      "source": [
        "import challenge13 as c13\n",
        "\n",
        "block_size = 16\n",
        "profile = c13.profile_for('foo@bar.com')\n",
        "print(f'profile: {profile}')\n",
        "key = generate_random_aes_key()\n",
        "print(key)\n",
        "encrypt_profile = encrypt_ECB(str.encode(profile), key, block_size)\n",
        "print(encrypt_profile)\n",
        "decrypt_profile = decrypt_ECB(encrypt_profile, key)\n",
        "print(decrypt_profile)\n",
        "\n",
        "target = 'email=foo%40bar.com&uid=10&role=admin'\n",
        "print(f'target: {target}')\n",
        "encrypt_target = encrypt_ECB(str.encode(target), key, block_size)\n",
        "print(encrypt_target)\n",
        "decrypt_target = decrypt_ECB(encrypt_target, key)\n",
        "print(decrypt_target)"
      ]
    },
    {
      "cell_type": "code",
      "execution_count": 26,
      "metadata": {
        "colab": {
          "base_uri": "https://localhost:8080/"
        },
        "id": "45nUZrBISeyW",
        "outputId": "5724d7e0-b364-4e96-c60e-6bf543464873"
      },
      "outputs": [
        {
          "name": "stdout",
          "output_type": "stream",
          "text": [
            "['email=foo%40bar.', 'com&uid=10&role=', 'user', '', '']\n",
            "[b'O\\x93\\xd6c\\x7f\\xf9l\\x03T\\xf4\\x8c\\xdb\\x9f\\x1ci>', b'z#\\xe5j\\x809\\xcd\\xf5&\\x94\\x88s\\xba,O\\xb6', b'\\xfd\\xb7\\xaf7\\xc2@\"6?\\x00\\xd2\\xfb\\xe2oQ-', b'', b'']\n",
            "['email=foo%40bar.', 'admin&uid=10&rol', 'e=user', '', '']\n",
            "[b'O\\x93\\xd6c\\x7f\\xf9l\\x03T\\xf4\\x8c\\xdb\\x9f\\x1ci>', b'\\xfd*\\x98\\x12\\x15\\xd9\\n\\xc4\\x02+P\\x97\\xf7\\xc2\\xa1\\x8a', b'o@[\\x06e\\xc9\\x06\\xdbf\\xbe\\x7fm\\xe4\\xd0\\xc1n', b'', b'']\n"
          ]
        }
      ],
      "source": [
        "origin = c13.profile_for('foo@bar.com')\n",
        "print([origin[i*16:(i+1)*16] for i in range(5)])\n",
        "encrypt_origin = encrypt_ECB(str.encode(origin), key, block_size)\n",
        "print([encrypt_origin[i*16:(i+1)*16] for i in range(5)])\n",
        "hack = c13.profile_for('foo@bar.admin')\n",
        "print([hack[i*16:(i+1)*16] for i in range(5)])\n",
        "encrypt_hack = encrypt_ECB(str.encode(hack), key, block_size)\n",
        "print([encrypt_hack[i*16:(i+1)*16] for i in range(5)])"
      ]
    },
    {
      "cell_type": "code",
      "execution_count": 27,
      "metadata": {
        "colab": {
          "base_uri": "https://localhost:8080/"
        },
        "id": "0eM1DGmsVELn",
        "outputId": "e7031565-755c-4736-ea7a-17bd85a04cb5"
      },
      "outputs": [
        {
          "name": "stdout",
          "output_type": "stream",
          "text": [
            "b'O\\x93\\xd6c\\x7f\\xf9l\\x03T\\xf4\\x8c\\xdb\\x9f\\x1ci>z#\\xe5j\\x809\\xcd\\xf5&\\x94\\x88s\\xba,O\\xb6\\xfd*\\x98\\x12\\x15\\xd9\\n\\xc4\\x02+P\\x97\\xf7\\xc2\\xa1\\x8ao@[\\x06e\\xc9\\x06\\xdbf\\xbe\\x7fm\\xe4\\xd0\\xc1n'\n",
            "b'email=foo%40bar.com&uid=10&role=admin&uid=10&role=user\\n\\n\\n\\n\\n\\n\\n\\n\\n\\n'\n"
          ]
        }
      ],
      "source": [
        "encrypt_origin = encrypt_origin.replace(encrypt_origin[32:48], encrypt_hack[16:32]) + encrypt_hack[32:48]\n",
        "print(encrypt_origin)\n",
        "print(decrypt_ECB(encrypt_origin, key))"
      ]
    },
    {
      "cell_type": "code",
      "execution_count": 28,
      "metadata": {
        "colab": {
          "base_uri": "https://localhost:8080/"
        },
        "id": "p9nGPIIQcxon",
        "outputId": "6b041e77-4d9c-49b8-c88e-b426864ace7b"
      },
      "outputs": [
        {
          "name": "stdout",
          "output_type": "stream",
          "text": [
            "['email=foo%40bar.', 'admin&uid=10&rol', 'e=user', '', '']\n",
            "[b'O\\x93\\xd6c\\x7f\\xf9l\\x03T\\xf4\\x8c\\xdb\\x9f\\x1ci>', b'\\xfd*\\x98\\x12\\x15\\xd9\\n\\xc4\\x02+P\\x97\\xf7\\xc2\\xa1\\x8a', b'o@[\\x06e\\xc9\\x06\\xdbf\\xbe\\x7fm\\xe4\\xd0\\xc1n', b'', b'']\n"
          ]
        }
      ],
      "source": [
        "hack = c13.profile_for('foo@bar.admin')\n",
        "print([hack[i*16:(i+1)*16] for i in range(5)])\n",
        "encrypt_hack = encrypt_ECB(str.encode(hack), key, block_size)\n",
        "print([encrypt_hack[i*16:(i+1)*16] for i in range(5)])"
      ]
    },
    {
      "attachments": {},
      "cell_type": "markdown",
      "metadata": {
        "id": "P5EXc07739mE"
      },
      "source": [
        "Challenge 14"
      ]
    },
    {
      "cell_type": "code",
      "execution_count": 30,
      "metadata": {
        "colab": {
          "base_uri": "https://localhost:8080/"
        },
        "id": "TBGP3PEp4Bgb",
        "outputId": "e31d69c2-a771-468a-fd39-7db220639e8a"
      },
      "outputs": [],
      "source": [
        "import challenge14 as c14\n",
        "\n",
        "c14.random_prefix = os.urandom(random.randint(1, 32))\n",
        "c14.block_size = 16\n",
        "c14.random_key = generate_random_aes_key()"
      ]
    },
    {
      "cell_type": "code",
      "execution_count": 31,
      "metadata": {
        "colab": {
          "base_uri": "https://localhost:8080/"
        },
        "id": "g5UJBb1_4eHN",
        "outputId": "cf7ac81b-79e5-4e0d-8b6c-d59dfd570d4f"
      },
      "outputs": [
        {
          "name": "stdout",
          "output_type": "stream",
          "text": [
            "b'\\x9d\\x17Q\\xad\\x1d\\xf1\\xac?\\xbb\\x90f@\\x9c\\x1b\\xf1X\\xbcW}\\xb9`&\\xb2\\xe7\\xb8{V\\xac<\\xe1\\x18;\\x10.5`\\x8cI\\x89\\xb5O\\xb0@7~\\xd4B[\\x91G\\x11\\x85|\\x05E&\\xf9\\x93\\x13y\\xd9\\xa8$\\x9a\\xb9\\x95\\\\\\xe6kw\\x8d?\\xf5\\x04WY\\x07\\xd3/V*R\\xeb[\\xad\\x9e\\xd2J{\\xb7\\x95k.}\\xaac}^w\\xa3\\x10\\xbe\\xab\\x08@/+\\x04K:\\xae\\x80D&\\xe8\\xacL7\\xb5\\x06\\xf3%\\xfd\\x0c\\x8b\\x03d\\xf5d\\xf1/n\\xa1G\\x80\\x13i\\x88\\xb9\\xbcz\\xc1\\x95\\x03\\xaf\\xfc\\xee\\xe6\\xf4\\x01\\x044I\\xab\\x01\\x1f\\xb2\\xbfFM\\xddz\\x18t \\xab*\\x8e\\x7f\\xdcU5\\xa8\\xb7\\xacf\\x1b\\xceA\\x17P\\x9d\"n\\xc2\\xce\\xa95\\xa4S\\xb8\\xda'\n"
          ]
        }
      ],
      "source": [
        "attacker_controlled = b'attacker_controlled'\n",
        "encrypted_btyes = c14.new_oracle(attacker_controlled)\n",
        "print(encrypted_btyes)"
      ]
    },
    {
      "cell_type": "code",
      "execution_count": 32,
      "metadata": {
        "colab": {
          "base_uri": "https://localhost:8080/"
        },
        "id": "DCNwnL1r9bK_",
        "outputId": "48f0acb6-3505-4e3e-ff90-c7498cee2e9c"
      },
      "outputs": [
        {
          "name": "stdout",
          "output_type": "stream",
          "text": [
            "0 [b'\\x9d\\x17Q\\xad\\x1d\\xf1\\xac?\\xbb\\x90f@\\x9c\\x1b\\xf1X', b'\\xfe\\xd5\\xa1\\x15s\\x90\\xf1.\\x7fJ\\x1a\\xf7\\x8em0/', b'g\\x86\\xf8V\\x13Z\\xa0\\xde\\xf6\\xcf\\xdf\\x05^\\xfb\\x90\\x81', b'h\\xc7\\x0b\\xae/\\xef\\xb7\\xba\\xf4\\x1f>\\xf9X\\x8f\\x1f\\x0e', b'N>\\xae;\\x9a\\xa2\\x7f\\xfc\\x83s\\xce\\x9e\\xc4ZT\\xfc', b'\\xce\\xfcV\\x02\\xf5\\xa8v\\xccw\\x82\\x9c\\xeb\\x862\\xfa\\xcf', b'7\\xcb\\x9b\\rG\\xe1$\\xc4\\xd6,\\x94K\\xb1SJx', b'd9\\xd7\\xaa\\x03G\\xb1\\x02\\x84\\xc0*R\\xdc\\xc9\\xc4\\x0b', b'\\xc5o\\x16a\\xd3 B5\\x8f\\x8f/\\x9c\\x9e\\xa7\\xe0\\xbb', b'\\x84\\x93\\xa8/\\xccjcu\\xdf5\\xe3=\\xc8\\x99\\x1e\\xda', b'\\xb7\\x05\\xf9{\\x18\\xf2\\xbb}\\xc7\\xa6\\xcf\\xfa\\x9dO\\x96j', b'']\n",
            "1 [b'\\x9d\\x17Q\\xad\\x1d\\xf1\\xac?\\xbb\\x90f@\\x9c\\x1b\\xf1X', b'+Rv^\\x11\\x03\\x11dV\\xd2\\xe3\\xe8\\xc0`\\xcb\\xbd', b'o\\x12\\xf0\\xde\\xda\\xfa`H\\xc5\\x174T\\xfa\\x8bo\\xd6', b'\\xb4\\xe0`\\xed\\xa6\\xeb\\xeb\\x9f\\t\\xdd8\\xdf\\xdc\\xb7\\xbf\\x98', b\" \\x1e\\x8d\\xd39\\x07O'!\\xa3\\x14\\xce\\xf5\\x19\\x0cC\", b'\\x12\\xd5\\xba\\x8f\\xdc\\xb2\\xe36\\x06\\xe8\\r\\x16\\xa2\\x968L', b'\\xf2\\xf5\\x1e\\xa9\\x19\\x8fg\\xc9\\x12\\x03\\xcbT\\x00\\xfe\\xed\\xa2', b'\\xeep\\xcbn\\xb17\\xccn\\xef\\x12U\\xc7\\x95\\xc0MQ', b'\\xcc<\\x1c\\xdd\\x11\\xe4\\t2\\xc2\\x8e|i\\xa8sa\\x88', b'\\xf8vN)\\x81zf\\x10.\\xd0\\x13\\xdd\\xc3\\xa4\\xc1\\xe1', b'-\\x8b\\xde\\xb3\\xd4\\x17_\\x1a\\\\\\x9d\\xa1\\x16\\xb4\\xe0\\x823', b'']\n",
            "2 [b'\\x9d\\x17Q\\xad\\x1d\\xf1\\xac?\\xbb\\x90f@\\x9c\\x1b\\xf1X', b'\\x80\\xd5\\x0b(v\\xf9QX(\\xc0\\xa7\\x0bt\\xb6\\xdf\\xe4', b'TmQ\\x105\\x0bW\\xec2\\x966\\xd6\\xbc\\xef\\x13\\xcf', b'\\x81\\xe8.+D\\x1d\\xf0$\\xba\\xc6v\\x04\\xb6\\xb4t\\x02', b'%\\xa1\\xcf\\xd1\\xec\\x99\\xe4F\\xe2\\xe7\\xa9R\\xd3\\x8d\\xcc\\xed', b'\\x90\\xc9m\\x05!\\x93\\x00\\xdd\\xbd\\x975\\xbb\\x93\\x96t\\xa3', b'|\\x18\\\\\\x81S\\xfa\\xc5h\\xdc\\x9d\\xab;\\x19\\x8bb\\x85', b'\\xa0\\xea\\xed\\x1b\\xd4j\\xe1\\xac\\x8d\\xcf\\x95\\xef\\xde\\xf5\\x0f^', b'\\xe9\\xec\\r\\xf2\\x9d8\\xfeZXGI\\x05\\x08\\x99\\x8f\\\\', b's!\\xea\\x93\\x1b\\x08\\xd1\\x08\\x1e\\xed\\xd55\\xb7\\xabV\\x91', b'\\xc32\\xd0\\x99\\xdf\\x13X\\x9a\\xa6\\xc7!]\\xec\\x14\\xab\\xbb', b'']\n",
            "3 [b'\\x9d\\x17Q\\xad\\x1d\\xf1\\xac?\\xbb\\x90f@\\x9c\\x1b\\xf1X', b'\\xc2\\n\\xe4I\\x0e\\xe8\\x8b>\\xbe\\xb8\\xa9\\xa5\\r\\xef\\x05\\x8f', b'\\x91G\\x11\\x85|\\x05E&\\xf9\\x93\\x13y\\xd9\\xa8$\\x9a', b'\\xb9\\x95\\\\\\xe6kw\\x8d?\\xf5\\x04WY\\x07\\xd3/V', b'*R\\xeb[\\xad\\x9e\\xd2J{\\xb7\\x95k.}\\xaac', b'}^w\\xa3\\x10\\xbe\\xab\\x08@/+\\x04K:\\xae\\x80', b'D&\\xe8\\xacL7\\xb5\\x06\\xf3%\\xfd\\x0c\\x8b\\x03d\\xf5', b'd\\xf1/n\\xa1G\\x80\\x13i\\x88\\xb9\\xbcz\\xc1\\x95\\x03', b'\\xaf\\xfc\\xee\\xe6\\xf4\\x01\\x044I\\xab\\x01\\x1f\\xb2\\xbfFM', b'\\xddz\\x18t \\xab*\\x8e\\x7f\\xdcU5\\xa8\\xb7\\xacf', b'\\x1b\\xceA\\x17P\\x9d\"n\\xc2\\xce\\xa95\\xa4S\\xb8\\xda', b'']\n",
            "4 [b'\\x9d\\x17Q\\xad\\x1d\\xf1\\xac?\\xbb\\x90f@\\x9c\\x1b\\xf1X', b'P\\x89\\xb3\\x80\\xee]{\\xc6\\xdb\\xddNr\\x92\\xcd\\x98\\x84', b'5\\xba \\x1e\\xd6\\xb2+\\xbfE\\x1eO\\\\\\x92\\x81\\xc0B', b'i\\xacP\\xab\\\\\\x89bQ)(\\xb7\\x12\\xdf\\xb0\\xc3\\xc9', b'\\xd3q\\x14\\xc0\\xa8\\xce\\xf8\\x19\\x98j\\x11y\\x1bb\\xec\\xad', b'\\x91\\xdf\\xa9X\\x98\\xb1\\x85\\xd6\\x1a\\xf6\\xa5\\xc9\\xf8x\\xe2/', b\"M/\\xbe\\x9eJ\\x05\\x118}'w \\xd5\\xc6\\xeax\", b'G9tY\\xfe\\x10\\xe5Z\\x0bL\\x94\\x00\\x17\\xde\\x81>', b'3\\xe0\\r\\x11\\xb5\\xbf\\xb3\\x82\\x86\\xd9{\\xea\\x84P\\x03U', b'\\x11\\x92\\x11Z\\x8f=n\\xdd\\xdaf\\x0e\\x83\\xd8\\xf0M2', b'\\x87\\xfc\\xb5ArwL#n\\xa2T\\xa2\\xb3\\x16\\xaf\\x98', b'']\n",
            "5 [b'\\x9d\\x17Q\\xad\\x1d\\xf1\\xac?\\xbb\\x90f@\\x9c\\x1b\\xf1X', b'o\\x0e\\x1b\\xe4\\xadIt\\xe7\\xaf$\\\\\\xa2\\x86\\xcc\\xbd\\x0b', b'(\\xf1X\\xe1\\xee\\xceB\\x0f\\xd8\\x00\\xc4\\xf1\\xed\\x00=O', b'\\x8dU\\xfe\\x18j\\xe0\\xb0Br\\xc9\\n?\\\\;\\xe6\\xfb', b'f3\\x12\\x9cKj\\xdfi\\xef\\x82\\x8a\\x982V\\xec\\xd6', b'\\xf5\\xc3<W\\xc0/\\xfaN\\xee{K\\xd7A\\xda\\n\\xb5', b'3B\\x93\\xae\\x15d\\x8a\\x1bK\\xe4\\x9b\\x83z\\x8a\\xa3\\x04', b'o\\xe7\\xf5\\x92\\xb9\\xfcc4\\x1aGX\\x05&U\\rS', b'y=u\\xe5>\\x15\\x7f\\x0b\\x86\\x85\\xe0}\\x1c\\xb0\\xc1\\xd2', b'-\\xd5Z!\\x964\\x84\\xcdC<L\\xff\\xa83\\x89u', b\"\\xd0zC'\\x90\\xbcO}\\xa1i\\xdb\\xae\\x1f\\xa1\\xb0\\xf8\", b'']\n",
            "6 [b'\\x9d\\x17Q\\xad\\x1d\\xf1\\xac?\\xbb\\x90f@\\x9c\\x1b\\xf1X', b';{f\\xdd:\\x14\\x1d%\\x11\\xa1\\xa28ee\\x05l', b'k\\xcf\\xafbz\\x8d\\x0b\\x1a\\x87\\xe1^\\x18\\xd0\\x83\\x8d\\xda', b'@\\x0f\\xf8\\xce\\xba\\x9f8\\xdfB\\xcd]a+\\x13\\xb9\\x7f', b'\\x1c\\xa6\\x84\\x98\\xaf\\xe01\\xbe\\xac\\xe0\\xbfR!\\xd2rh', b'\\x92\\x02\\xc9{k~J]\\x11\\xf0\\xaa\\x05\\x1aj\\xa8\\x19', b'8\\x0f-\\xcc\\x0e\\xb8q}<\\n\\x11\\xfb\\xe7\\xd4\\x17T', b'KZt\\xe3\\xae]\\xfd\\xd6\\x8a\\x17\\xf4\\xdc\\xa2\\x05#*', b'\\xbe\\x8c\\x05k\\xe6\\xc6Z\\x00R\\xf2\\xee2\\xac\\x13\\x85Z', b'P\\xf4\\x83\\x88|+\\xc6\\xe4\\x08\\xfe=\\x0c&\\xa1?7', b\"\\xefF\\xcf\\xf5@\\xe0\\xfc\\xdb\\xf64'\\xca\\x04\\xdcmP\", b'']\n",
            "7 [b'\\x9d\\x17Q\\xad\\x1d\\xf1\\xac?\\xbb\\x90f@\\x9c\\x1b\\xf1X', b'jA\\x06\\x90\\xca\\x06Yy\\xaaP\\xdf\\x03\\x8c}\\x08\\xf7', b' +\\x9d\\x8a\\x1b\\xf9\\xac\\xe6\\xe1\\x85\\xcedS\\xaf\\xdc\\x06', b'\\x08\\xc3\\x96\\x1ae4\\x9c\\xa80\\x06\\xb4\\x80J\\xbawv', b'\\x88=#\\xb3\\xa9\\xbf\\xa1\\x0cl!\\x0cs[\\xe9n\\x1d', b'\\xcc\\x12\\xd6\\xdd\\x15s\\x00p\\x9e\"N\\x11\\x81\\xea\\x89\\r', b'\\x1f\\xb4\\xd2\\xbe\\x14\\xed\\xf1\\xc5\\x8bB\\xb2\\xd4$,\\xdf\\xa2', b'\\xea\\xe8\\xb0\\xcd6\\xc2i#\\x8b\\x1f]\\x0c\\x82\\xdc\\xb1\\x16', b'\\xe4\\r\\xe1\\x01Zn\\xa8\\xe2\\xe5\\x17\\x98\\x88\\xc9\\xe8|\\x93', b'\\xa3\\xe0v\\xa65r\\x87y\\x94\\xe7\\xd9\\xe3X8\\x97\\t', b'\\xdb\\xc9\\x121N\\xef&B\\xce\\x95\\xc1&\\x1e\\x1dO{', b'']\n",
            "8 [b'\\x9d\\x17Q\\xad\\x1d\\xf1\\xac?\\xbb\\x90f@\\x9c\\x1b\\xf1X', b'jA\\x06\\x90\\xca\\x06Yy\\xaaP\\xdf\\x03\\x8c}\\x08\\xf7', b'\\xa7\\xfcWgcE\\xee\\x19\\xe2\\xa1\\x9c\\xeb\\x18 \\x1a\\xa9', b',b.\\x87\\xb2He\\x95IW\\xed\\xc3\\xe1\\xdc\\r\\x92', b'\\x9a\\xea\\xd8d\\x93~\\xd9,ji\\x94\\x8b\\t?\\x9a\\xcf', b'\\x9b\\xfd\\xcd\\xe9?/\\x86\\x1f\\x9a\\\\\\\\)\\xd8\\xa8\\x12\\x97', b'# W0\\xb8\\xfa\\xe9hn:y\\xfe\\x96\\x97\\xc8x', b'\\xe0\\x878\\xed\\xad\\x11\\xf8}\\\\7\\xe72\\xef\\xa2[\\x91', b'\\x8e\\xfb\\xba\\xdb\\xaaL\\x80(\\x96\\xb0\\x86c\\xbcP\\xc0\\xf9', b'w\\xc4\\xd6\\xad\\xf2\\x9aK\\x1d\\x9b\\xa3\\x8e\\xb3\\xea\\xa7\\xa0N', b'\\x9a\\xac\\xa1\\x9e\\x7f\\xc0\\xb3vT\\xf6\\xe8\\xb5\\x06\\xd8\\x19O', b'']\n",
            "9 [b'\\x9d\\x17Q\\xad\\x1d\\xf1\\xac?\\xbb\\x90f@\\x9c\\x1b\\xf1X', b'jA\\x06\\x90\\xca\\x06Yy\\xaaP\\xdf\\x03\\x8c}\\x08\\xf7', b'\\xc8E\\xd9\\xec\\x87f\\x03B\\xc9\\x1a\\x82\\xc8_\\x1aF\\xb4', b'\\xae\\xfd\\x12Pgq\\n\\x8a\\t\\xe1s\\x93\\x8e\\xc6\\x0e\\x92', b'\\x80#\\x97\\x1e\\x08\\x0c\\xce\\x0f\\x8d\\x08\\xfec\\x8fu\\xe5\\xd7', b'\\xf5uF\\x9e\\xec\\x95\\xd7\\x87U\\xecLkm\\xf02\\xe5', b'#P%\\xc0b\\xb1[H\\xae^YR\\x0b1\\x94\\xed', b'0\\xa1\\xfd\\xe4Va\\xba\\xbf_7\\xd16\\xe3Y\\x8c?', b'\\x89\\xa0\\xb3\\x040\\xe3\\xb3e\\xc3\\xb2\\xa2\"\\xd9;\\xcc\\xda', b\"\\xd9[\\xbb\\xa4c\\x99'\\x899 \\x1e3\\x9c2#s\", b'Z\\x0bt=ZD.\\x06\\x87|\\x1a\\xf6\\x08QhL', b'']\n",
            "10 [b'\\x9d\\x17Q\\xad\\x1d\\xf1\\xac?\\xbb\\x90f@\\x9c\\x1b\\xf1X', b'jA\\x06\\x90\\xca\\x06Yy\\xaaP\\xdf\\x03\\x8c}\\x08\\xf7', b'\\x90~\\x8aG\\x82\\xe3\\xa1\\x86Hn\\xc6M7\\xf6H\\x85', b'\\x12\\xefEoDNt\\x1a\\xe5\\xb0C?\\xd0\\x7f\\xd1|', b'i\\xae\\xfdP\\xbf}G=N\\xdfFP9\\xc4\\xfb\\xbe', b'\\x15\\xa7\\xca\\xe2>\\xe2xt\\x97\\x94\\xce6XhUC', b'V\\xfdS\\xb6{\\xa4\\xc3\\xd6\\xe8\\xfb\\x17\\x1ee.\\xc2\\xc2', b'\\xa4\\xeaaD\\x90\\x9b`\\xef\\xb4\\xb7%\\xcbRg4\\xa9', b'\\x02\\xaaP\\xfd1F\\xb5\\xf3\\xa3l\\xc4\\xec\\xeb\\r\\x08\\xb9', b'\\xcf\\x93\\x9c\\r\\x84\\x96|\\x01M\\x0b\\x07`/\\xfe\\xe5-', b'A\\xe9GuK\\xf4\\xb2p\\xf2\\x170\\x110\\x89\\xf8\\xae', b'']\n",
            "11 [b'\\x9d\\x17Q\\xad\\x1d\\xf1\\xac?\\xbb\\x90f@\\x9c\\x1b\\xf1X', b'jA\\x06\\x90\\xca\\x06Yy\\xaaP\\xdf\\x03\\x8c}\\x08\\xf7', b'6\\x07R\\x08F\\xfc\\x04\\xac\\x9d;\\xa42i\\xec\\x9a\\xf3', b'\\x8elI\\xc1/3\\xb9\\x80\\xc2\\xd1\\xb9\\xd8\\x19\\x15\\x1a\\xe3', b'\\x1f\\x026\\xcc\\x16A0c\\xf5Q+\\xce2\\x8e\\x93k', b\"\\x80D\\xf6\\xb4\\xa5r\\xcc\\x19\\x7fi'\\xef\\x11!&:\", b'\\x95*%\\xca\\x8eGf.\\xce\\xd4l\\xf2\\x1c\\xa4+\\xb5', b'P\\xf5\\xe8\\xca\\xa7\\x95\\nM\\\\CE\\xbaM\\xb2i\\xfb', b'l\\xa4\\xba\\xeck\\x8b\\x17\\x08*\\xfdx\\xe2^hqY', b'V\\xe4\\xd2m+0\\xd82w\\xa8\\xf2\\xb5}s\\x98\\xbd', b'\\xcb\\xe8\\x1f\\xcf4\\xe43A\\xaf1\\xd1h\\xe6\\xd0$p', b'']\n",
            "12 [b'\\x9d\\x17Q\\xad\\x1d\\xf1\\xac?\\xbb\\x90f@\\x9c\\x1b\\xf1X', b'jA\\x06\\x90\\xca\\x06Yy\\xaaP\\xdf\\x03\\x8c}\\x08\\xf7', b'\\xec\\x1e\\xd7\\xe3\\xcd\\x95#\\x87\\xc2\\xa2\\xdb\\x8f\\xfa\\x06\\xe5\\x8c', b'\\xa2\\xc9\\x91\\x7f\\x08)\\xc5\\xa5\\xde\\xa3S\\x9e\\xb6Nx\\x9a', b'a\\xce\\x02\\xf3\\\\\\x9f\\x02\\x9f]_\\r\\xd9$d\\xae\\x0e', b'Z\\xbc68<\\xb8\\x91k\\xa1\\xc5\\\\\\x1a_\\x1f\\xbe\\xc4', b'\\xb6N9\\xeb\\xab\\xa7 \\xd4\\xaf\\xe3\\x93\\xf1\\xa7\\xfeG\\xb7', b'%\\xd3\\xa0S\\x0fy\\xa7\\x9d\\xac\\x00\\x175\\x04\\xd6\\xc3\\x01', b'\\x80..N\\x11\\x8c\\x98\\xd1AB\\x97k\\xbdHM\\xd7', b's\\xa4\\xfb\\xbfo\\x06\\xaa\\xe4\\xe1SJ\\xb0\\xceH\\x15\\xa6', b'\\xb1\\x92\\xb4\\xef\\xebmF0\\xee\\x8dN\\x9a\\xe9Z\\x88`', b'']\n",
            "13 [b'\\x9d\\x17Q\\xad\\x1d\\xf1\\xac?\\xbb\\x90f@\\x9c\\x1b\\xf1X', b'jA\\x06\\x90\\xca\\x06Yy\\xaaP\\xdf\\x03\\x8c}\\x08\\xf7', b'\\x8f]}\\xbe@\\xc2\\xd2\\xf9\\xf3\\xe6h\\xed}!\\x91\\xb5', b\"t\\x08\\x9d\\x89\\xdc7\\x86Q'g=\\xe4\\xce1\\xa0\\x83\", b'\\xe4\\x05\\x89\\xe1\\x9c\\\\P&(\\xd6!xI\\xdb\\x80=', b'\\xf4\\x14\\x10wo\\xfc\\xd0\\xc9\\t\\xc9\\xc4#\\xbf\\xdb\\x12v', b'C\\xc3\\x95\\x88\\x93\\xdc\\x18\\x86\\\\\\xf2``\\xc4W\\xa9^', b'4\\xc6\\xc6\\xb5\\x82\\xd4\\\\\\x86\\x9e\\xec\\xe7\\xd86t\"!', b'\\xbc\\x1eG\\x8d!^\\x16\\xbe\\xe2\\xc0\\xc6P\\xf1\\xbf\\xfe%', b'\\xa2;e\\xeb\\x05\\xe6E\\xc9\\x9ch\\xfe`\\t\\xbe\\xd8G', b'Z\\xf6U\\xfbD\\x1e\\xf9\\xdcb\\xeb>\\xf5\\x04\\xb2\\xaa\\xa8', b'\\xe3\\xe3:\\xcd\\x06\\x80t\\xd0\\x04\\xf8\\x0f\\x00\\xa9\\x84\\xa4\\x89', b'']\n",
            "14 [b'\\x9d\\x17Q\\xad\\x1d\\xf1\\xac?\\xbb\\x90f@\\x9c\\x1b\\xf1X', b'jA\\x06\\x90\\xca\\x06Yy\\xaaP\\xdf\\x03\\x8c}\\x08\\xf7', b'ZlZ\\x1fB\\x1f\\xff\\x0f\\x01\\xa7\\xa0\\n\\xa2\\xd5\\xfb\\x82', b'M\\xb0\\x95P0\\xe6SV\\xe3Lp\\x9fes&\\xe2', b'\\x9b\\x9f\\x03\\\\\\xfe\\x7f\\xf3\\xcf\\xb7\\xa0\\xa5\\xea.z\\xe0\\xb5', b'\\xd7I+.\\xb2\\x96\\xd8\\xd0\\xa7\\xe3\\x94\\xa5\\xfc/\\x17\\xfe', b'&x\\x084w6\\x9aC\\xd8)\\x18\\xd4(3(\\x88', b'\\xac\\xaf\\x0e\\xb63\\x7f\\xb7\\xf3\\xf0\\x9c\\xe2\\x05P\\xbbYO', b'\\x1c6\\xcby\\x03.@=\\xc0K\\xcaU\\xb9\\xa8z\\xc4', b'J&\\xee=\\x12\\xf6\\x0c8^\\xda\\x18\\x9d\\xbe\\xfe\\xbd\\xbc', b'\\xbb\\xbd\\xde;\\x16\\xcc\\x88cH(\\x9c\\x1d\\xf4\\xb9\\x95\\x18', b\"\\xdb\\xe5\\xa9\\xdcxKl\\x19W]_'\\x01s<\\xcf\", b'']\n",
            "15 [b'\\x9d\\x17Q\\xad\\x1d\\xf1\\xac?\\xbb\\x90f@\\x9c\\x1b\\xf1X', b'jA\\x06\\x90\\xca\\x06Yy\\xaaP\\xdf\\x03\\x8c}\\x08\\xf7', b'\\x94\\xdd4\\xf6?p\\xf3\\xe4(\\x13\\x89\\x1c\\xb9.h\\x96', b'\\xc7\\xdb\\xfb\\xc9\\xe9\\xf5)B=Oiy]\\xa5\\xfa\\x99', b'?*8\\xb9u\\xe6\\xabJ\\x1b<\\xe8\\xa5\\xa4@\\x9f\\xc7', b'\\r\\xb1*-B\\xf1x\\x02\\xd4\\xa5fig\\xde\\xc0\\x9c', b'`\\xf0\\xf8\\xdbO\\x96\\x80\\xbbR\\xdea~\\x11\\xb1\\xe8`', b'Kw\\x801 i\\xfc \\xa9E\\xf4\\xab\\xbex\\xb3p', b'<EG\\xf3\\xc7\\xb4?_\\xe6\\x97\\xb6\\xed\\xc0\\x12\\xe0\\xb7', b'\\xee\\xec\\xec\\xb3u\\xd5\\xeb\\xd1|\\x97\\xb2\\xb2\\xb9\\x18\\xcbH', b'S\\xbe\\x0fP\\xb5k\\x9dl\\xbf\\xbf)t8\\xba\\x90q', b'\\x8f\\xf5\\x82\\xe3\\xa0\\xb2f\\xcf\\xa4\\x0b\\xa3\\xb81=[\\xc9', b'']\n",
            "16 [b'\\x9d\\x17Q\\xad\\x1d\\xf1\\xac?\\xbb\\x90f@\\x9c\\x1b\\xf1X', b'jA\\x06\\x90\\xca\\x06Yy\\xaaP\\xdf\\x03\\x8c}\\x08\\xf7', b'6\\xa6\\x04\\xdd_s\\x9e\\x83)\\x01CW\\xc5\\x9cT\\x15', b'g\\x86\\xf8V\\x13Z\\xa0\\xde\\xf6\\xcf\\xdf\\x05^\\xfb\\x90\\x81', b'h\\xc7\\x0b\\xae/\\xef\\xb7\\xba\\xf4\\x1f>\\xf9X\\x8f\\x1f\\x0e', b'N>\\xae;\\x9a\\xa2\\x7f\\xfc\\x83s\\xce\\x9e\\xc4ZT\\xfc', b'\\xce\\xfcV\\x02\\xf5\\xa8v\\xccw\\x82\\x9c\\xeb\\x862\\xfa\\xcf', b'7\\xcb\\x9b\\rG\\xe1$\\xc4\\xd6,\\x94K\\xb1SJx', b'd9\\xd7\\xaa\\x03G\\xb1\\x02\\x84\\xc0*R\\xdc\\xc9\\xc4\\x0b', b'\\xc5o\\x16a\\xd3 B5\\x8f\\x8f/\\x9c\\x9e\\xa7\\xe0\\xbb', b'\\x84\\x93\\xa8/\\xccjcu\\xdf5\\xe3=\\xc8\\x99\\x1e\\xda', b'\\xb7\\x05\\xf9{\\x18\\xf2\\xbb}\\xc7\\xa6\\xcf\\xfa\\x9dO\\x96j', b'']\n",
            "17 [b'\\x9d\\x17Q\\xad\\x1d\\xf1\\xac?\\xbb\\x90f@\\x9c\\x1b\\xf1X', b'jA\\x06\\x90\\xca\\x06Yy\\xaaP\\xdf\\x03\\x8c}\\x08\\xf7', b'\\x14\\xd6\\x8a\\\\4\\x11\\xbdrU\\xaaoD\\xef\\xb8\\xf5\\x8e', b'o\\x12\\xf0\\xde\\xda\\xfa`H\\xc5\\x174T\\xfa\\x8bo\\xd6', b'\\xb4\\xe0`\\xed\\xa6\\xeb\\xeb\\x9f\\t\\xdd8\\xdf\\xdc\\xb7\\xbf\\x98', b\" \\x1e\\x8d\\xd39\\x07O'!\\xa3\\x14\\xce\\xf5\\x19\\x0cC\", b'\\x12\\xd5\\xba\\x8f\\xdc\\xb2\\xe36\\x06\\xe8\\r\\x16\\xa2\\x968L', b'\\xf2\\xf5\\x1e\\xa9\\x19\\x8fg\\xc9\\x12\\x03\\xcbT\\x00\\xfe\\xed\\xa2', b'\\xeep\\xcbn\\xb17\\xccn\\xef\\x12U\\xc7\\x95\\xc0MQ', b'\\xcc<\\x1c\\xdd\\x11\\xe4\\t2\\xc2\\x8e|i\\xa8sa\\x88', b'\\xf8vN)\\x81zf\\x10.\\xd0\\x13\\xdd\\xc3\\xa4\\xc1\\xe1', b'-\\x8b\\xde\\xb3\\xd4\\x17_\\x1a\\\\\\x9d\\xa1\\x16\\xb4\\xe0\\x823', b'']\n",
            "18 [b'\\x9d\\x17Q\\xad\\x1d\\xf1\\xac?\\xbb\\x90f@\\x9c\\x1b\\xf1X', b'jA\\x06\\x90\\xca\\x06Yy\\xaaP\\xdf\\x03\\x8c}\\x08\\xf7', b'\\x95\\x90\\xa1NU\\x8e\\x01\\xef#\\x110\\xf4\\xa7\\x03^\\x9e', b'TmQ\\x105\\x0bW\\xec2\\x966\\xd6\\xbc\\xef\\x13\\xcf', b'\\x81\\xe8.+D\\x1d\\xf0$\\xba\\xc6v\\x04\\xb6\\xb4t\\x02', b'%\\xa1\\xcf\\xd1\\xec\\x99\\xe4F\\xe2\\xe7\\xa9R\\xd3\\x8d\\xcc\\xed', b'\\x90\\xc9m\\x05!\\x93\\x00\\xdd\\xbd\\x975\\xbb\\x93\\x96t\\xa3', b'|\\x18\\\\\\x81S\\xfa\\xc5h\\xdc\\x9d\\xab;\\x19\\x8bb\\x85', b'\\xa0\\xea\\xed\\x1b\\xd4j\\xe1\\xac\\x8d\\xcf\\x95\\xef\\xde\\xf5\\x0f^', b'\\xe9\\xec\\r\\xf2\\x9d8\\xfeZXGI\\x05\\x08\\x99\\x8f\\\\', b's!\\xea\\x93\\x1b\\x08\\xd1\\x08\\x1e\\xed\\xd55\\xb7\\xabV\\x91', b'\\xc32\\xd0\\x99\\xdf\\x13X\\x9a\\xa6\\xc7!]\\xec\\x14\\xab\\xbb', b'']\n",
            "19 [b'\\x9d\\x17Q\\xad\\x1d\\xf1\\xac?\\xbb\\x90f@\\x9c\\x1b\\xf1X', b'jA\\x06\\x90\\xca\\x06Yy\\xaaP\\xdf\\x03\\x8c}\\x08\\xf7', b'N\\x9e\\xc1\\xc7\\xdc\\xa5#t\\xcfE/\\xa3\\x91\\xd3\\x0c\\xe8', b'\\x91G\\x11\\x85|\\x05E&\\xf9\\x93\\x13y\\xd9\\xa8$\\x9a', b'\\xb9\\x95\\\\\\xe6kw\\x8d?\\xf5\\x04WY\\x07\\xd3/V', b'*R\\xeb[\\xad\\x9e\\xd2J{\\xb7\\x95k.}\\xaac', b'}^w\\xa3\\x10\\xbe\\xab\\x08@/+\\x04K:\\xae\\x80', b'D&\\xe8\\xacL7\\xb5\\x06\\xf3%\\xfd\\x0c\\x8b\\x03d\\xf5', b'd\\xf1/n\\xa1G\\x80\\x13i\\x88\\xb9\\xbcz\\xc1\\x95\\x03', b'\\xaf\\xfc\\xee\\xe6\\xf4\\x01\\x044I\\xab\\x01\\x1f\\xb2\\xbfFM', b'\\xddz\\x18t \\xab*\\x8e\\x7f\\xdcU5\\xa8\\xb7\\xacf', b'\\x1b\\xceA\\x17P\\x9d\"n\\xc2\\xce\\xa95\\xa4S\\xb8\\xda', b'']\n",
            "20 [b'\\x9d\\x17Q\\xad\\x1d\\xf1\\xac?\\xbb\\x90f@\\x9c\\x1b\\xf1X', b'jA\\x06\\x90\\xca\\x06Yy\\xaaP\\xdf\\x03\\x8c}\\x08\\xf7', b's\\xa5\\x08bG\\xf9\\xf6D\\xe1N\\x1a\\x7f\\x89\\xf7\\xde\\xb3', b'5\\xba \\x1e\\xd6\\xb2+\\xbfE\\x1eO\\\\\\x92\\x81\\xc0B', b'i\\xacP\\xab\\\\\\x89bQ)(\\xb7\\x12\\xdf\\xb0\\xc3\\xc9', b'\\xd3q\\x14\\xc0\\xa8\\xce\\xf8\\x19\\x98j\\x11y\\x1bb\\xec\\xad', b'\\x91\\xdf\\xa9X\\x98\\xb1\\x85\\xd6\\x1a\\xf6\\xa5\\xc9\\xf8x\\xe2/', b\"M/\\xbe\\x9eJ\\x05\\x118}'w \\xd5\\xc6\\xeax\", b'G9tY\\xfe\\x10\\xe5Z\\x0bL\\x94\\x00\\x17\\xde\\x81>', b'3\\xe0\\r\\x11\\xb5\\xbf\\xb3\\x82\\x86\\xd9{\\xea\\x84P\\x03U', b'\\x11\\x92\\x11Z\\x8f=n\\xdd\\xdaf\\x0e\\x83\\xd8\\xf0M2', b'\\x87\\xfc\\xb5ArwL#n\\xa2T\\xa2\\xb3\\x16\\xaf\\x98', b'']\n",
            "21 [b'\\x9d\\x17Q\\xad\\x1d\\xf1\\xac?\\xbb\\x90f@\\x9c\\x1b\\xf1X', b'jA\\x06\\x90\\xca\\x06Yy\\xaaP\\xdf\\x03\\x8c}\\x08\\xf7', b';\\xb4\\xc6\\x05\\xec\\x03oMK\\xa0\\xa3]\\x99\\x14kr', b'(\\xf1X\\xe1\\xee\\xceB\\x0f\\xd8\\x00\\xc4\\xf1\\xed\\x00=O', b'\\x8dU\\xfe\\x18j\\xe0\\xb0Br\\xc9\\n?\\\\;\\xe6\\xfb', b'f3\\x12\\x9cKj\\xdfi\\xef\\x82\\x8a\\x982V\\xec\\xd6', b'\\xf5\\xc3<W\\xc0/\\xfaN\\xee{K\\xd7A\\xda\\n\\xb5', b'3B\\x93\\xae\\x15d\\x8a\\x1bK\\xe4\\x9b\\x83z\\x8a\\xa3\\x04', b'o\\xe7\\xf5\\x92\\xb9\\xfcc4\\x1aGX\\x05&U\\rS', b'y=u\\xe5>\\x15\\x7f\\x0b\\x86\\x85\\xe0}\\x1c\\xb0\\xc1\\xd2', b'-\\xd5Z!\\x964\\x84\\xcdC<L\\xff\\xa83\\x89u', b\"\\xd0zC'\\x90\\xbcO}\\xa1i\\xdb\\xae\\x1f\\xa1\\xb0\\xf8\", b'']\n",
            "22 [b'\\x9d\\x17Q\\xad\\x1d\\xf1\\xac?\\xbb\\x90f@\\x9c\\x1b\\xf1X', b'jA\\x06\\x90\\xca\\x06Yy\\xaaP\\xdf\\x03\\x8c}\\x08\\xf7', b'\\x96nfd&\\xff/&\\x87\\xbfg\\xb9}\\x10UB', b'k\\xcf\\xafbz\\x8d\\x0b\\x1a\\x87\\xe1^\\x18\\xd0\\x83\\x8d\\xda', b'@\\x0f\\xf8\\xce\\xba\\x9f8\\xdfB\\xcd]a+\\x13\\xb9\\x7f', b'\\x1c\\xa6\\x84\\x98\\xaf\\xe01\\xbe\\xac\\xe0\\xbfR!\\xd2rh', b'\\x92\\x02\\xc9{k~J]\\x11\\xf0\\xaa\\x05\\x1aj\\xa8\\x19', b'8\\x0f-\\xcc\\x0e\\xb8q}<\\n\\x11\\xfb\\xe7\\xd4\\x17T', b'KZt\\xe3\\xae]\\xfd\\xd6\\x8a\\x17\\xf4\\xdc\\xa2\\x05#*', b'\\xbe\\x8c\\x05k\\xe6\\xc6Z\\x00R\\xf2\\xee2\\xac\\x13\\x85Z', b'P\\xf4\\x83\\x88|+\\xc6\\xe4\\x08\\xfe=\\x0c&\\xa1?7', b\"\\xefF\\xcf\\xf5@\\xe0\\xfc\\xdb\\xf64'\\xca\\x04\\xdcmP\", b'']\n",
            "23 [b'\\x9d\\x17Q\\xad\\x1d\\xf1\\xac?\\xbb\\x90f@\\x9c\\x1b\\xf1X', b'jA\\x06\\x90\\xca\\x06Yy\\xaaP\\xdf\\x03\\x8c}\\x08\\xf7', b'\\xd0\\xa4\\xc1\\x8c*\\xa5\\x17\\\\\\xc1V\\x16\\x88\\xd6(\\xe8\\xe7', b' +\\x9d\\x8a\\x1b\\xf9\\xac\\xe6\\xe1\\x85\\xcedS\\xaf\\xdc\\x06', b'\\x08\\xc3\\x96\\x1ae4\\x9c\\xa80\\x06\\xb4\\x80J\\xbawv', b'\\x88=#\\xb3\\xa9\\xbf\\xa1\\x0cl!\\x0cs[\\xe9n\\x1d', b'\\xcc\\x12\\xd6\\xdd\\x15s\\x00p\\x9e\"N\\x11\\x81\\xea\\x89\\r', b'\\x1f\\xb4\\xd2\\xbe\\x14\\xed\\xf1\\xc5\\x8bB\\xb2\\xd4$,\\xdf\\xa2', b'\\xea\\xe8\\xb0\\xcd6\\xc2i#\\x8b\\x1f]\\x0c\\x82\\xdc\\xb1\\x16', b'\\xe4\\r\\xe1\\x01Zn\\xa8\\xe2\\xe5\\x17\\x98\\x88\\xc9\\xe8|\\x93', b'\\xa3\\xe0v\\xa65r\\x87y\\x94\\xe7\\xd9\\xe3X8\\x97\\t', b'\\xdb\\xc9\\x121N\\xef&B\\xce\\x95\\xc1&\\x1e\\x1dO{', b'']\n",
            "24 [b'\\x9d\\x17Q\\xad\\x1d\\xf1\\xac?\\xbb\\x90f@\\x9c\\x1b\\xf1X', b'jA\\x06\\x90\\xca\\x06Yy\\xaaP\\xdf\\x03\\x8c}\\x08\\xf7', b'\\xd0\\xa4\\xc1\\x8c*\\xa5\\x17\\\\\\xc1V\\x16\\x88\\xd6(\\xe8\\xe7', b'\\xa7\\xfcWgcE\\xee\\x19\\xe2\\xa1\\x9c\\xeb\\x18 \\x1a\\xa9', b',b.\\x87\\xb2He\\x95IW\\xed\\xc3\\xe1\\xdc\\r\\x92', b'\\x9a\\xea\\xd8d\\x93~\\xd9,ji\\x94\\x8b\\t?\\x9a\\xcf', b'\\x9b\\xfd\\xcd\\xe9?/\\x86\\x1f\\x9a\\\\\\\\)\\xd8\\xa8\\x12\\x97', b'# W0\\xb8\\xfa\\xe9hn:y\\xfe\\x96\\x97\\xc8x', b'\\xe0\\x878\\xed\\xad\\x11\\xf8}\\\\7\\xe72\\xef\\xa2[\\x91', b'\\x8e\\xfb\\xba\\xdb\\xaaL\\x80(\\x96\\xb0\\x86c\\xbcP\\xc0\\xf9', b'w\\xc4\\xd6\\xad\\xf2\\x9aK\\x1d\\x9b\\xa3\\x8e\\xb3\\xea\\xa7\\xa0N', b'\\x9a\\xac\\xa1\\x9e\\x7f\\xc0\\xb3vT\\xf6\\xe8\\xb5\\x06\\xd8\\x19O', b'']\n",
            "25 [b'\\x9d\\x17Q\\xad\\x1d\\xf1\\xac?\\xbb\\x90f@\\x9c\\x1b\\xf1X', b'jA\\x06\\x90\\xca\\x06Yy\\xaaP\\xdf\\x03\\x8c}\\x08\\xf7', b'\\xd0\\xa4\\xc1\\x8c*\\xa5\\x17\\\\\\xc1V\\x16\\x88\\xd6(\\xe8\\xe7', b'\\xc8E\\xd9\\xec\\x87f\\x03B\\xc9\\x1a\\x82\\xc8_\\x1aF\\xb4', b'\\xae\\xfd\\x12Pgq\\n\\x8a\\t\\xe1s\\x93\\x8e\\xc6\\x0e\\x92', b'\\x80#\\x97\\x1e\\x08\\x0c\\xce\\x0f\\x8d\\x08\\xfec\\x8fu\\xe5\\xd7', b'\\xf5uF\\x9e\\xec\\x95\\xd7\\x87U\\xecLkm\\xf02\\xe5', b'#P%\\xc0b\\xb1[H\\xae^YR\\x0b1\\x94\\xed', b'0\\xa1\\xfd\\xe4Va\\xba\\xbf_7\\xd16\\xe3Y\\x8c?', b'\\x89\\xa0\\xb3\\x040\\xe3\\xb3e\\xc3\\xb2\\xa2\"\\xd9;\\xcc\\xda', b\"\\xd9[\\xbb\\xa4c\\x99'\\x899 \\x1e3\\x9c2#s\", b'Z\\x0bt=ZD.\\x06\\x87|\\x1a\\xf6\\x08QhL', b'']\n",
            "26 [b'\\x9d\\x17Q\\xad\\x1d\\xf1\\xac?\\xbb\\x90f@\\x9c\\x1b\\xf1X', b'jA\\x06\\x90\\xca\\x06Yy\\xaaP\\xdf\\x03\\x8c}\\x08\\xf7', b'\\xd0\\xa4\\xc1\\x8c*\\xa5\\x17\\\\\\xc1V\\x16\\x88\\xd6(\\xe8\\xe7', b'\\x90~\\x8aG\\x82\\xe3\\xa1\\x86Hn\\xc6M7\\xf6H\\x85', b'\\x12\\xefEoDNt\\x1a\\xe5\\xb0C?\\xd0\\x7f\\xd1|', b'i\\xae\\xfdP\\xbf}G=N\\xdfFP9\\xc4\\xfb\\xbe', b'\\x15\\xa7\\xca\\xe2>\\xe2xt\\x97\\x94\\xce6XhUC', b'V\\xfdS\\xb6{\\xa4\\xc3\\xd6\\xe8\\xfb\\x17\\x1ee.\\xc2\\xc2', b'\\xa4\\xeaaD\\x90\\x9b`\\xef\\xb4\\xb7%\\xcbRg4\\xa9', b'\\x02\\xaaP\\xfd1F\\xb5\\xf3\\xa3l\\xc4\\xec\\xeb\\r\\x08\\xb9', b'\\xcf\\x93\\x9c\\r\\x84\\x96|\\x01M\\x0b\\x07`/\\xfe\\xe5-', b'A\\xe9GuK\\xf4\\xb2p\\xf2\\x170\\x110\\x89\\xf8\\xae', b'']\n",
            "27 [b'\\x9d\\x17Q\\xad\\x1d\\xf1\\xac?\\xbb\\x90f@\\x9c\\x1b\\xf1X', b'jA\\x06\\x90\\xca\\x06Yy\\xaaP\\xdf\\x03\\x8c}\\x08\\xf7', b'\\xd0\\xa4\\xc1\\x8c*\\xa5\\x17\\\\\\xc1V\\x16\\x88\\xd6(\\xe8\\xe7', b'6\\x07R\\x08F\\xfc\\x04\\xac\\x9d;\\xa42i\\xec\\x9a\\xf3', b'\\x8elI\\xc1/3\\xb9\\x80\\xc2\\xd1\\xb9\\xd8\\x19\\x15\\x1a\\xe3', b'\\x1f\\x026\\xcc\\x16A0c\\xf5Q+\\xce2\\x8e\\x93k', b\"\\x80D\\xf6\\xb4\\xa5r\\xcc\\x19\\x7fi'\\xef\\x11!&:\", b'\\x95*%\\xca\\x8eGf.\\xce\\xd4l\\xf2\\x1c\\xa4+\\xb5', b'P\\xf5\\xe8\\xca\\xa7\\x95\\nM\\\\CE\\xbaM\\xb2i\\xfb', b'l\\xa4\\xba\\xeck\\x8b\\x17\\x08*\\xfdx\\xe2^hqY', b'V\\xe4\\xd2m+0\\xd82w\\xa8\\xf2\\xb5}s\\x98\\xbd', b'\\xcb\\xe8\\x1f\\xcf4\\xe43A\\xaf1\\xd1h\\xe6\\xd0$p', b'']\n",
            "28 [b'\\x9d\\x17Q\\xad\\x1d\\xf1\\xac?\\xbb\\x90f@\\x9c\\x1b\\xf1X', b'jA\\x06\\x90\\xca\\x06Yy\\xaaP\\xdf\\x03\\x8c}\\x08\\xf7', b'\\xd0\\xa4\\xc1\\x8c*\\xa5\\x17\\\\\\xc1V\\x16\\x88\\xd6(\\xe8\\xe7', b'\\xec\\x1e\\xd7\\xe3\\xcd\\x95#\\x87\\xc2\\xa2\\xdb\\x8f\\xfa\\x06\\xe5\\x8c', b'\\xa2\\xc9\\x91\\x7f\\x08)\\xc5\\xa5\\xde\\xa3S\\x9e\\xb6Nx\\x9a', b'a\\xce\\x02\\xf3\\\\\\x9f\\x02\\x9f]_\\r\\xd9$d\\xae\\x0e', b'Z\\xbc68<\\xb8\\x91k\\xa1\\xc5\\\\\\x1a_\\x1f\\xbe\\xc4', b'\\xb6N9\\xeb\\xab\\xa7 \\xd4\\xaf\\xe3\\x93\\xf1\\xa7\\xfeG\\xb7', b'%\\xd3\\xa0S\\x0fy\\xa7\\x9d\\xac\\x00\\x175\\x04\\xd6\\xc3\\x01', b'\\x80..N\\x11\\x8c\\x98\\xd1AB\\x97k\\xbdHM\\xd7', b's\\xa4\\xfb\\xbfo\\x06\\xaa\\xe4\\xe1SJ\\xb0\\xceH\\x15\\xa6', b'\\xb1\\x92\\xb4\\xef\\xebmF0\\xee\\x8dN\\x9a\\xe9Z\\x88`', b'']\n",
            "29 [b'\\x9d\\x17Q\\xad\\x1d\\xf1\\xac?\\xbb\\x90f@\\x9c\\x1b\\xf1X', b'jA\\x06\\x90\\xca\\x06Yy\\xaaP\\xdf\\x03\\x8c}\\x08\\xf7', b'\\xd0\\xa4\\xc1\\x8c*\\xa5\\x17\\\\\\xc1V\\x16\\x88\\xd6(\\xe8\\xe7', b'\\x8f]}\\xbe@\\xc2\\xd2\\xf9\\xf3\\xe6h\\xed}!\\x91\\xb5', b\"t\\x08\\x9d\\x89\\xdc7\\x86Q'g=\\xe4\\xce1\\xa0\\x83\", b'\\xe4\\x05\\x89\\xe1\\x9c\\\\P&(\\xd6!xI\\xdb\\x80=', b'\\xf4\\x14\\x10wo\\xfc\\xd0\\xc9\\t\\xc9\\xc4#\\xbf\\xdb\\x12v', b'C\\xc3\\x95\\x88\\x93\\xdc\\x18\\x86\\\\\\xf2``\\xc4W\\xa9^', b'4\\xc6\\xc6\\xb5\\x82\\xd4\\\\\\x86\\x9e\\xec\\xe7\\xd86t\"!', b'\\xbc\\x1eG\\x8d!^\\x16\\xbe\\xe2\\xc0\\xc6P\\xf1\\xbf\\xfe%', b'\\xa2;e\\xeb\\x05\\xe6E\\xc9\\x9ch\\xfe`\\t\\xbe\\xd8G', b'Z\\xf6U\\xfbD\\x1e\\xf9\\xdcb\\xeb>\\xf5\\x04\\xb2\\xaa\\xa8', b'\\xe3\\xe3:\\xcd\\x06\\x80t\\xd0\\x04\\xf8\\x0f\\x00\\xa9\\x84\\xa4\\x89', b'']\n",
            "30 [b'\\x9d\\x17Q\\xad\\x1d\\xf1\\xac?\\xbb\\x90f@\\x9c\\x1b\\xf1X', b'jA\\x06\\x90\\xca\\x06Yy\\xaaP\\xdf\\x03\\x8c}\\x08\\xf7', b'\\xd0\\xa4\\xc1\\x8c*\\xa5\\x17\\\\\\xc1V\\x16\\x88\\xd6(\\xe8\\xe7', b'ZlZ\\x1fB\\x1f\\xff\\x0f\\x01\\xa7\\xa0\\n\\xa2\\xd5\\xfb\\x82', b'M\\xb0\\x95P0\\xe6SV\\xe3Lp\\x9fes&\\xe2', b'\\x9b\\x9f\\x03\\\\\\xfe\\x7f\\xf3\\xcf\\xb7\\xa0\\xa5\\xea.z\\xe0\\xb5', b'\\xd7I+.\\xb2\\x96\\xd8\\xd0\\xa7\\xe3\\x94\\xa5\\xfc/\\x17\\xfe', b'&x\\x084w6\\x9aC\\xd8)\\x18\\xd4(3(\\x88', b'\\xac\\xaf\\x0e\\xb63\\x7f\\xb7\\xf3\\xf0\\x9c\\xe2\\x05P\\xbbYO', b'\\x1c6\\xcby\\x03.@=\\xc0K\\xcaU\\xb9\\xa8z\\xc4', b'J&\\xee=\\x12\\xf6\\x0c8^\\xda\\x18\\x9d\\xbe\\xfe\\xbd\\xbc', b'\\xbb\\xbd\\xde;\\x16\\xcc\\x88cH(\\x9c\\x1d\\xf4\\xb9\\x95\\x18', b\"\\xdb\\xe5\\xa9\\xdcxKl\\x19W]_'\\x01s<\\xcf\", b'']\n",
            "31 [b'\\x9d\\x17Q\\xad\\x1d\\xf1\\xac?\\xbb\\x90f@\\x9c\\x1b\\xf1X', b'jA\\x06\\x90\\xca\\x06Yy\\xaaP\\xdf\\x03\\x8c}\\x08\\xf7', b'\\xd0\\xa4\\xc1\\x8c*\\xa5\\x17\\\\\\xc1V\\x16\\x88\\xd6(\\xe8\\xe7', b'\\x94\\xdd4\\xf6?p\\xf3\\xe4(\\x13\\x89\\x1c\\xb9.h\\x96', b'\\xc7\\xdb\\xfb\\xc9\\xe9\\xf5)B=Oiy]\\xa5\\xfa\\x99', b'?*8\\xb9u\\xe6\\xabJ\\x1b<\\xe8\\xa5\\xa4@\\x9f\\xc7', b'\\r\\xb1*-B\\xf1x\\x02\\xd4\\xa5fig\\xde\\xc0\\x9c', b'`\\xf0\\xf8\\xdbO\\x96\\x80\\xbbR\\xdea~\\x11\\xb1\\xe8`', b'Kw\\x801 i\\xfc \\xa9E\\xf4\\xab\\xbex\\xb3p', b'<EG\\xf3\\xc7\\xb4?_\\xe6\\x97\\xb6\\xed\\xc0\\x12\\xe0\\xb7', b'\\xee\\xec\\xec\\xb3u\\xd5\\xeb\\xd1|\\x97\\xb2\\xb2\\xb9\\x18\\xcbH', b'S\\xbe\\x0fP\\xb5k\\x9dl\\xbf\\xbf)t8\\xba\\x90q', b'\\x8f\\xf5\\x82\\xe3\\xa0\\xb2f\\xcf\\xa4\\x0b\\xa3\\xb81=[\\xc9', b'']\n",
            "2 7\n"
          ]
        },
        {
          "data": {
            "text/plain": [
              "b\"Rollin' in my 5.0\\nWith my rag-top down so my hair can blow\\nThe girlies on standby waving just to say hi\\nDid you stop? No, I just drove by\\n\\x01\""
            ]
          },
          "execution_count": 32,
          "metadata": {},
          "output_type": "execute_result"
        }
      ],
      "source": [
        "c14.match_output()"
      ]
    },
    {
      "attachments": {},
      "cell_type": "markdown",
      "metadata": {
        "id": "0nx6Rb2R35Uo"
      },
      "source": [
        "Challenge 15"
      ]
    },
    {
      "cell_type": "code",
      "execution_count": 33,
      "metadata": {
        "colab": {
          "base_uri": "https://localhost:8080/"
        },
        "id": "87aCEatn3653",
        "outputId": "e92eb92c-3148-41b1-d904-285c0a7f71bf"
      },
      "outputs": [
        {
          "name": "stdout",
          "output_type": "stream",
          "text": [
            "b'ICE ICE BABY'\n"
          ]
        }
      ],
      "source": [
        "import challenge15 as c15\n",
        "\n",
        "plain_bytes = b\"ICE ICE BABY\\x04\\x04\\x04\\x04\"\n",
        "print(c15.check_and_strip_PKCS7(plain_bytes, block_size))\n",
        "plain_bytes = b\"ICE ICE BABY\\x05\\x05\\x05\\x05\"\n",
        "# check_and_strip_PKCS7(plain_bytes, block_size)"
      ]
    },
    {
      "attachments": {},
      "cell_type": "markdown",
      "metadata": {
        "id": "ohwz6Rgm_Q_1"
      },
      "source": [
        "Challenge 16"
      ]
    },
    {
      "cell_type": "code",
      "execution_count": 85,
      "metadata": {
        "colab": {
          "base_uri": "https://localhost:8080/"
        },
        "id": "7drnEnGl_Qow",
        "outputId": "c524ef8a-3617-40a0-cad2-e2267024fe99"
      },
      "outputs": [
        {
          "name": "stdout",
          "output_type": "stream",
          "text": [
            "[b'_\\x99C\\xdb`\\xa4,3\\xf8\\x85\\xa4_\\x95\\x87\\xc9f', b'\\xae\"@\\x98\\xe7\\xe4~4\\x89\\xaad\\x04*[\\x9b\\x97', b'\\x06\\xcd\\xf5\\xfa\\x1e\\xbe\\\\\\xf3\\x1d\\x08q\\x8c\\xe9\\t*\\xe7', b'\\xcc?\\x8c^\\xb8t\\xbdy\\xe4b\\x91p\\xe3L\\xea\\xd9', b'G;Xo\\xe4\\x86H20Zbq\\x8e:\\xe1\\xae', b'z&\\x9fG2\\xdf\\x99\\x9ao\\xfc\\x1f\\x1dw\\xaah\\xdd', b'H\\xb8ea\\x1b\\xa7*\\x1b\\xa9\\x15]\\xce\\xd5\\xb9\\xf8\\xf1']\n",
            "[b'comment1=cooking', b'%20MCs;userdata=', b'ABCDEFGHIJKLMNOP', b'ABCDEFGHIJKLMNOP', b';comment2=%20lik', b'e%20a%20pound%20', b'of%20bacon\\x06\\x06\\x06\\x06\\x06\\x06']\n",
            "comment1=cooking%20MCs;userdata=ABCDEFGHIJKLMNOPABCDEFGHIJKLMNOP;comment2=%20like%20a%20pound%20of%20bacon\n",
            "False\n",
            "[b'comment1=cooking', b'%20MCs;userdata=', b\"\\x1c\\x11\\xeeU'\\xc03Z\\x0f\\xfa\\xad\\x83\\xf6\\x12b!\", b';admin=true;AAAA', b';comment2=%20lik', b'e%20a%20pound%20', b'of%20bacon\\x06\\x06\\x06\\x06\\x06\\x06']\n",
            "comment1=cooking%20MCs;userdata=\u001c\u0011îU'À3Z\u000fú­ö\u0012b!;admin=true;AAAA;comment2=%20like%20a%20pound%20of%20bacon\n",
            "True\n"
          ]
        }
      ],
      "source": [
        "import challenge16 as c16\n",
        "\n",
        "block_size = 16\n",
        "random_key = generate_random_aes_key()\n",
        "initialization_vector = generate_random_aes_key()\n",
        "plain_text = \"ABCDEFGHIJKLMNOP\" * 2\n",
        "\n",
        "encrypt_bytes = c16.encrypt_CBC_16(plain_text, random_key, block_size, initialization_vector)\n",
        "print_bytes(encrypt_bytes)\n",
        "print(c16.check_admin_16(encrypt_bytes, random_key, block_size, initialization_vector))\n",
        "\n",
        "target_chunk = encrypt_bytes[2*block_size:3*block_size]\n",
        "target_chunk = [b1 ^ b2 for b1, b2 in zip(target_chunk, b';admin=true;AAAA')]\n",
        "target_chunk = bytes([b1 ^ b2 for b1, b2 in zip(target_chunk, b\"ABCDEFGHIJKLMNOP\")])\n",
        "\n",
        "print(c16.check_admin_16(encrypt_bytes[:2*block_size] + target_chunk + encrypt_bytes[3*block_size:], random_key, block_size, initialization_vector))"
      ]
    },
    {
      "attachments": {},
      "cell_type": "markdown",
      "metadata": {},
      "source": [
        "Challenge 17"
      ]
    },
    {
      "cell_type": "code",
      "execution_count": 80,
      "metadata": {},
      "outputs": [],
      "source": [
        "random_string_list = [b'MDAwMDAwTm93IHRoYXQgdGhlIHBhcnR5IGlzIGp1bXBpbmc=',\n",
        "b'MDAwMDAxV2l0aCB0aGUgYmFzcyBraWNrZWQgaW4gYW5kIHRoZSBWZWdhJ3MgYXJlIHB1bXBpbic=',\n",
        "b'MDAwMDAyUXVpY2sgdG8gdGhlIHBvaW50LCB0byB0aGUgcG9pbnQsIG5vIGZha2luZw==',\n",
        "b'MDAwMDAzQ29va2luZyBNQydzIGxpa2UgYSBwb3VuZCBvZiBiYWNvbg==',\n",
        "b'MDAwMDA0QnVybmluZyAnZW0sIGlmIHlvdSBhaW4ndCBxdWljayBhbmQgbmltYmxl',\n",
        "b'MDAwMDA1SSBnbyBjcmF6eSB3aGVuIEkgaGVhciBhIGN5bWJhbA==',\n",
        "b'MDAwMDA2QW5kIGEgaGlnaCBoYXQgd2l0aCBhIHNvdXBlZCB1cCB0ZW1wbw==',\n",
        "b'MDAwMDA3SSdtIG9uIGEgcm9sbCwgaXQncyB0aW1lIHRvIGdvIHNvbG8=',\n",
        "b'MDAwMDA4b2xsaW4nIGluIG15IGZpdmUgcG9pbnQgb2g=',\n",
        "b'MDAwMDA5aXRoIG15IHJhZy10b3AgZG93biBzbyBteSBoYWlyIGNhbiBibG93']\n",
        "\n",
        "key = generate_random_aes_key()\n",
        "IV = generate_random_aes_key()\n",
        "block_size = 16"
      ]
    },
    {
      "cell_type": "code",
      "execution_count": 81,
      "metadata": {},
      "outputs": [],
      "source": [
        "# function 1\n",
        "def encrypt_CBC_17() -> bytes:\n",
        "    cipher_text = random.choice(random_string_list)\n",
        "    cipher_text = padding_PKCS7(b'A' * 14, block_size)\n",
        "    encrypted_text = encrypt_CBC(cipher_text, key, block_size, IV)\n",
        "    return encrypted_text\n",
        "\n",
        "# function 2\n",
        "def check_padding_is_valid(encrypted_bytes: bytes) -> bool:\n",
        "    decrypted_bytes = decrypt_CBC(encrypted_bytes, key, block_size, IV, False)\n",
        "    target_bytes = decrypted_bytes[-1]\n",
        "    #print(f'decrypted_bytes {decrypted_bytes}')\n",
        "    #print(f'target_bytes {target_bytes}')\n",
        "    if decrypted_bytes[-target_bytes:] == decrypted_bytes[-1:] * target_bytes:\n",
        "        return True\n",
        "    return False"
      ]
    },
    {
      "cell_type": "code",
      "execution_count": 82,
      "metadata": {},
      "outputs": [
        {
          "name": "stdout",
          "output_type": "stream",
          "text": [
            "b'\\xa3\\x04\\xc1\\x0e\\xbe\\x0ez\\x8a\\xda\\x9e\\xc5\\x9eN\\x94\\x92\\x8c\\xc1|(\\xbaa\\xedl\\x12\\xeb\\xb9Q\\x0f\\xd9\\xbb\\x81\\x8e'\n"
          ]
        },
        {
          "data": {
            "text/plain": [
              "True"
            ]
          },
          "execution_count": 82,
          "metadata": {},
          "output_type": "execute_result"
        }
      ],
      "source": [
        "encrypted_bytes = encrypt_CBC_17()\n",
        "print(encrypted_bytes)\n",
        "check_padding_is_valid(encrypted_bytes)"
      ]
    },
    {
      "cell_type": "code",
      "execution_count": 83,
      "metadata": {},
      "outputs": [],
      "source": [
        "def r(c0, c1, c2, intermiedate_state, i):\n",
        "    if len(intermiedate_state) == 16:\n",
        "        return intermiedate_state\n",
        "    suffix = xor_bytes(intermiedate_state, i.to_bytes(1, 'big') * (i - 1)) if i > 1 else b''\n",
        "    for j in range(256):\n",
        "        modified_encrypted_bytes = c0 + c1[:-i] + j.to_bytes(1, 'big') + suffix + c2\n",
        "        # print(len(modified_encrypted_bytes))\n",
        "        if check_padding_is_valid(modified_encrypted_bytes):\n",
        "            new_intermiedate_state = (j ^ i).to_bytes(1, 'big') + intermiedate_state\n",
        "            next = r(c0, c1, c2, new_intermiedate_state, i + 1)\n",
        "            if next:\n",
        "                return next"
      ]
    },
    {
      "cell_type": "code",
      "execution_count": 84,
      "metadata": {},
      "outputs": [
        {
          "ename": "ValueError",
          "evalue": "Padding is incorrect.",
          "output_type": "error",
          "traceback": [
            "\u001b[1;31m---------------------------------------------------------------------------\u001b[0m",
            "\u001b[1;31mValueError\u001b[0m                                Traceback (most recent call last)",
            "Cell \u001b[1;32mIn[84], line 7\u001b[0m\n\u001b[0;32m      5\u001b[0m     c1 \u001b[39m=\u001b[39m block_list[\u001b[39m-\u001b[39mi\u001b[39m-\u001b[39m\u001b[39m1\u001b[39m]\n\u001b[0;32m      6\u001b[0m     c2 \u001b[39m=\u001b[39m block_list[\u001b[39m-\u001b[39mi]\n\u001b[1;32m----> 7\u001b[0m     IS \u001b[39m=\u001b[39m r(c0, c1, c2, \u001b[39mb\u001b[39;49m\u001b[39m'\u001b[39;49m\u001b[39m'\u001b[39;49m, \u001b[39m1\u001b[39;49m)\n\u001b[0;32m      8\u001b[0m     result \u001b[39m=\u001b[39m xor_bytes(IS, c1) \u001b[39m+\u001b[39m result\n\u001b[0;32m     10\u001b[0m result \u001b[39m=\u001b[39m xor_bytes(r(\u001b[39mb\u001b[39m\u001b[39m'\u001b[39m\u001b[39m'\u001b[39m, IV, c1, \u001b[39mb\u001b[39m\u001b[39m'\u001b[39m\u001b[39m'\u001b[39m, \u001b[39m1\u001b[39m), IV) \u001b[39m+\u001b[39m result\n",
            "Cell \u001b[1;32mIn[83], line 8\u001b[0m, in \u001b[0;36mr\u001b[1;34m(c0, c1, c2, intermiedate_state, i)\u001b[0m\n\u001b[0;32m      6\u001b[0m modified_encrypted_bytes \u001b[39m=\u001b[39m c0 \u001b[39m+\u001b[39m c1[:\u001b[39m-\u001b[39mi] \u001b[39m+\u001b[39m j\u001b[39m.\u001b[39mto_bytes(\u001b[39m1\u001b[39m, \u001b[39m'\u001b[39m\u001b[39mbig\u001b[39m\u001b[39m'\u001b[39m) \u001b[39m+\u001b[39m suffix \u001b[39m+\u001b[39m c2\n\u001b[0;32m      7\u001b[0m \u001b[39m# print(len(modified_encrypted_bytes))\u001b[39;00m\n\u001b[1;32m----> 8\u001b[0m \u001b[39mif\u001b[39;00m check_padding_is_valid(modified_encrypted_bytes):\n\u001b[0;32m      9\u001b[0m     new_intermiedate_state \u001b[39m=\u001b[39m (j \u001b[39m^\u001b[39m i)\u001b[39m.\u001b[39mto_bytes(\u001b[39m1\u001b[39m, \u001b[39m'\u001b[39m\u001b[39mbig\u001b[39m\u001b[39m'\u001b[39m) \u001b[39m+\u001b[39m intermiedate_state\n\u001b[0;32m     10\u001b[0m     \u001b[39mnext\u001b[39m \u001b[39m=\u001b[39m r(c0, c1, c2, new_intermiedate_state, i \u001b[39m+\u001b[39m \u001b[39m1\u001b[39m)\n",
            "Cell \u001b[1;32mIn[81], line 10\u001b[0m, in \u001b[0;36mcheck_padding_is_valid\u001b[1;34m(encrypted_bytes)\u001b[0m\n\u001b[0;32m      9\u001b[0m \u001b[39mdef\u001b[39;00m \u001b[39mcheck_padding_is_valid\u001b[39m(encrypted_bytes: \u001b[39mbytes\u001b[39m) \u001b[39m-\u001b[39m\u001b[39m>\u001b[39m \u001b[39mbool\u001b[39m:\n\u001b[1;32m---> 10\u001b[0m     decrypted_bytes \u001b[39m=\u001b[39m decrypt_CBC(encrypted_bytes, key, block_size, IV, \u001b[39mFalse\u001b[39;49;00m)\n\u001b[0;32m     11\u001b[0m     target_bytes \u001b[39m=\u001b[39m decrypted_bytes[\u001b[39m-\u001b[39m\u001b[39m1\u001b[39m]\n\u001b[0;32m     12\u001b[0m     \u001b[39m#print(f'decrypted_bytes {decrypted_bytes}')\u001b[39;00m\n\u001b[0;32m     13\u001b[0m     \u001b[39m#print(f'target_bytes {target_bytes}')\u001b[39;00m\n",
            "File \u001b[1;32mc:\\Users\\ballban\\Documents\\SourceCode\\cryptopals\\utility.py:93\u001b[0m, in \u001b[0;36mdecrypt_CBC\u001b[1;34m(text_bytes, key, block_size, initialization_vector, is_unpadding)\u001b[0m\n\u001b[0;32m     91\u001b[0m   pre_block \u001b[39m=\u001b[39m block\n\u001b[0;32m     92\u001b[0m   result \u001b[39m+\u001b[39m\u001b[39m=\u001b[39m plain_text\n\u001b[1;32m---> 93\u001b[0m \u001b[39mreturn\u001b[39;00m \u001b[39mbytes\u001b[39m(result) \u001b[39mif\u001b[39;00m is_unpadding \u001b[39melse\u001b[39;00m unpadding_PKCS7(\u001b[39mbytes\u001b[39;49m(result), block_size)\n",
            "File \u001b[1;32mc:\\Users\\ballban\\Documents\\SourceCode\\cryptopals\\utility.py:63\u001b[0m, in \u001b[0;36munpadding_PKCS7\u001b[1;34m(input_bytes, block_size)\u001b[0m\n\u001b[0;32m     56\u001b[0m \u001b[39mdef\u001b[39;00m \u001b[39munpadding_PKCS7\u001b[39m(input_bytes: \u001b[39mbytes\u001b[39m, block_size: \u001b[39mint\u001b[39m) \u001b[39m-\u001b[39m\u001b[39m>\u001b[39m \u001b[39mbytes\u001b[39m:\n\u001b[0;32m     57\u001b[0m   \u001b[39m# target_byte = input_bytes[-1]\u001b[39;00m\n\u001b[0;32m     58\u001b[0m   \u001b[39m# print(f'input_bytes {input_bytes}')\u001b[39;00m\n\u001b[1;32m   (...)\u001b[0m\n\u001b[0;32m     61\u001b[0m   \u001b[39m# else:\u001b[39;00m\n\u001b[0;32m     62\u001b[0m   \u001b[39m#   return input_bytes\u001b[39;00m\n\u001b[1;32m---> 63\u001b[0m   \u001b[39mreturn\u001b[39;00m unpad(input_bytes, block_size)\n",
            "File \u001b[1;32m~\\AppData\\Roaming\\Python\\Python39\\site-packages\\Crypto\\Util\\Padding.py:92\u001b[0m, in \u001b[0;36munpad\u001b[1;34m(padded_data, block_size, style)\u001b[0m\n\u001b[0;32m     90\u001b[0m padding_len \u001b[39m=\u001b[39m bord(padded_data[\u001b[39m-\u001b[39m\u001b[39m1\u001b[39m])\n\u001b[0;32m     91\u001b[0m \u001b[39mif\u001b[39;00m padding_len\u001b[39m<\u001b[39m\u001b[39m1\u001b[39m \u001b[39mor\u001b[39;00m padding_len\u001b[39m>\u001b[39m\u001b[39mmin\u001b[39m(block_size, pdata_len):\n\u001b[1;32m---> 92\u001b[0m     \u001b[39mraise\u001b[39;00m \u001b[39mValueError\u001b[39;00m(\u001b[39m\"\u001b[39m\u001b[39mPadding is incorrect.\u001b[39m\u001b[39m\"\u001b[39m)\n\u001b[0;32m     93\u001b[0m \u001b[39mif\u001b[39;00m style \u001b[39m==\u001b[39m \u001b[39m'\u001b[39m\u001b[39mpkcs7\u001b[39m\u001b[39m'\u001b[39m:\n\u001b[0;32m     94\u001b[0m     \u001b[39mif\u001b[39;00m padded_data[\u001b[39m-\u001b[39mpadding_len:]\u001b[39m!=\u001b[39mbchr(padding_len)\u001b[39m*\u001b[39mpadding_len:\n",
            "\u001b[1;31mValueError\u001b[0m: Padding is incorrect."
          ]
        }
      ],
      "source": [
        "block_list = [encrypted_bytes[i:i + block_size] for i in range(0, len(encrypted_bytes), block_size)]\n",
        "result = b''\n",
        "for i in range(1, len(block_list)):\n",
        "    c0 = b''.join(block_list[:-i-1])\n",
        "    c1 = block_list[-i-1]\n",
        "    c2 = block_list[-i]\n",
        "    IS = r(c0, c1, c2, b'', 1)\n",
        "    result = xor_bytes(IS, c1) + result\n",
        "\n",
        "result = xor_bytes(r(b'', IV, c1, b'', 1), IV) + result\n",
        "print(unpadding_PKCS7(result))"
      ]
    },
    {
      "attachments": {},
      "cell_type": "markdown",
      "metadata": {},
      "source": [
        "Challenge 18"
      ]
    },
    {
      "cell_type": "code",
      "execution_count": null,
      "metadata": {},
      "outputs": [
        {
          "name": "stdout",
          "output_type": "stream",
          "text": [
            "b\"Yo, VIP Let's kick it Ice, Ice, baby Ice, Ice, baby \"\n"
          ]
        }
      ],
      "source": [
        "cipher_text = base64.b64decode('L77na/nrFsKvynd6HzOoG7GHTLXsTVu9qvY/2syLXzhPweyyMTJULu/6/kXX0KSvoOLSFQ==')\n",
        "key = b'YELLOW SUBMARINE'\n",
        "nonce = 0\n",
        "print(exec_CTR(cipher_text, key, nonce))"
      ]
    },
    {
      "attachments": {},
      "cell_type": "markdown",
      "metadata": {},
      "source": [
        "Challenge 19\n",
        "Challenge 20"
      ]
    },
    {
      "cell_type": "code",
      "execution_count": null,
      "metadata": {},
      "outputs": [],
      "source": [
        "b64_text_list = '''SSBoYXZlIG1ldCB0aGVtIGF0IGNsb3NlIG9mIGRheQ==\n",
        "Q29taW5nIHdpdGggdml2aWQgZmFjZXM=\n",
        "RnJvbSBjb3VudGVyIG9yIGRlc2sgYW1vbmcgZ3JleQ==\n",
        "RWlnaHRlZW50aC1jZW50dXJ5IGhvdXNlcy4=\n",
        "SSBoYXZlIHBhc3NlZCB3aXRoIGEgbm9kIG9mIHRoZSBoZWFk\n",
        "T3IgcG9saXRlIG1lYW5pbmdsZXNzIHdvcmRzLA==\n",
        "T3IgaGF2ZSBsaW5nZXJlZCBhd2hpbGUgYW5kIHNhaWQ=\n",
        "UG9saXRlIG1lYW5pbmdsZXNzIHdvcmRzLA==\n",
        "QW5kIHRob3VnaHQgYmVmb3JlIEkgaGFkIGRvbmU=\n",
        "T2YgYSBtb2NraW5nIHRhbGUgb3IgYSBnaWJl\n",
        "VG8gcGxlYXNlIGEgY29tcGFuaW9u\n",
        "QXJvdW5kIHRoZSBmaXJlIGF0IHRoZSBjbHViLA==\n",
        "QmVpbmcgY2VydGFpbiB0aGF0IHRoZXkgYW5kIEk=\n",
        "QnV0IGxpdmVkIHdoZXJlIG1vdGxleSBpcyB3b3JuOg==\n",
        "QWxsIGNoYW5nZWQsIGNoYW5nZWQgdXR0ZXJseTo=\n",
        "QSB0ZXJyaWJsZSBiZWF1dHkgaXMgYm9ybi4=\n",
        "VGhhdCB3b21hbidzIGRheXMgd2VyZSBzcGVudA==\n",
        "SW4gaWdub3JhbnQgZ29vZCB3aWxsLA==\n",
        "SGVyIG5pZ2h0cyBpbiBhcmd1bWVudA==\n",
        "VW50aWwgaGVyIHZvaWNlIGdyZXcgc2hyaWxsLg==\n",
        "V2hhdCB2b2ljZSBtb3JlIHN3ZWV0IHRoYW4gaGVycw==\n",
        "V2hlbiB5b3VuZyBhbmQgYmVhdXRpZnVsLA==\n",
        "U2hlIHJvZGUgdG8gaGFycmllcnM/\n",
        "VGhpcyBtYW4gaGFkIGtlcHQgYSBzY2hvb2w=\n",
        "QW5kIHJvZGUgb3VyIHdpbmdlZCBob3JzZS4=\n",
        "VGhpcyBvdGhlciBoaXMgaGVscGVyIGFuZCBmcmllbmQ=\n",
        "V2FzIGNvbWluZyBpbnRvIGhpcyBmb3JjZTs=\n",
        "SGUgbWlnaHQgaGF2ZSB3b24gZmFtZSBpbiB0aGUgZW5kLA==\n",
        "U28gc2Vuc2l0aXZlIGhpcyBuYXR1cmUgc2VlbWVkLA==\n",
        "U28gZGFyaW5nIGFuZCBzd2VldCBoaXMgdGhvdWdodC4=\n",
        "VGhpcyBvdGhlciBtYW4gSSBoYWQgZHJlYW1lZA==\n",
        "QSBkcnVua2VuLCB2YWluLWdsb3Jpb3VzIGxvdXQu\n",
        "SGUgaGFkIGRvbmUgbW9zdCBiaXR0ZXIgd3Jvbmc=\n",
        "VG8gc29tZSB3aG8gYXJlIG5lYXIgbXkgaGVhcnQs\n",
        "WWV0IEkgbnVtYmVyIGhpbSBpbiB0aGUgc29uZzs=\n",
        "SGUsIHRvbywgaGFzIHJlc2lnbmVkIGhpcyBwYXJ0\n",
        "SW4gdGhlIGNhc3VhbCBjb21lZHk7\n",
        "SGUsIHRvbywgaGFzIGJlZW4gY2hhbmdlZCBpbiBoaXMgdHVybiw=\n",
        "VHJhbnNmb3JtZWQgdXR0ZXJseTo=\n",
        "QSB0ZXJyaWJsZSBiZWF1dHkgaXMgYm9ybi4='''.split('\\n')\n",
        "''' get data '''\n",
        "bytes_list = []\n",
        "for text in b64_text_list:\n",
        "    bytes_list.append(base64.b64decode(text))\n",
        "\n",
        "''' create encrypted data list with ctr mode '''\n",
        "nonce = 0\n",
        "key = generate_random_aes_key()\n",
        "encrypted_btyes_list = []\n",
        "for plain_bytes in bytes_list:\n",
        "    encrypted_btyes_list.append(exec_CTR(plain_bytes, key, nonce))"
      ]
    },
    {
      "cell_type": "code",
      "execution_count": null,
      "metadata": {},
      "outputs": [],
      "source": [
        "# printable_text = '0123456789abcdefghijklmnopqrstuvwxyzABCDEFGHIJKLMNOPQRSTUVWXYZ-?!\"\\',. :;'\n",
        "# printable_text = \"fHtcuivObUICnWSgpYr ?T,eyah';-A:EdwmkosPBF.l\"\n",
        "printable_chars = bytes(string.printable, 'ascii')\n",
        "# printable_chars = bytes(printable_text, 'ascii')\n",
        "all_possible_bytes_for_keystream = defaultdict(list)\n",
        "\n",
        "''' loop each char from start '''\n",
        "for i in range(38):\n",
        "    ''' try all possible byte '''\n",
        "    for possible_byte in range(256):\n",
        "        unprintable_flag = False\n",
        "        for encrypted_btyes in encrypted_btyes_list:\n",
        "            if len(encrypted_btyes) <= i:\n",
        "                continue\n",
        "            if encrypted_btyes[i] ^ possible_byte not in printable_chars:\n",
        "                unprintable_flag = True\n",
        "                break\n",
        "        if unprintable_flag:\n",
        "            continue\n",
        "        all_possible_bytes_for_keystream[i].append(possible_byte.to_bytes(1, 'little'))"
      ]
    },
    {
      "cell_type": "code",
      "execution_count": null,
      "metadata": {},
      "outputs": [
        {
          "name": "stdout",
          "output_type": "stream",
          "text": [
            "0 82 [b'\\x80', b'\\x81', b'\\x82', b'\\x83', b'\\x84', b'\\x85', b'\\x86', b'\\x87', b'\\x88', b'\\x89', b'\\x8a', b'\\x8b', b'\\x8c', b'\\x8d', b'\\x8e', b'\\x8f', b'\\x90', b'\\x91', b'\\x92', b'\\x93', b'\\x94', b'\\x95', b'\\x96', b'\\x97', b'\\x98', b'\\x99', b'\\x9a', b'\\x9b', b'\\x9c', b'\\x9d', b'\\x9e', b'\\x9f', b'\\xa1', b'\\xa2', b'\\xa5', b'\\xa8', b'\\xa9', b'\\xab', b'\\xac', b'\\xad', b'\\xae', b'\\xaf', b'\\xb3', b'\\xb4', b'\\xb7', b'\\xb8', b'\\xb9', b'\\xbd', b'\\xbe', b'\\xbf', b'\\xe0', b'\\xe1', b'\\xe2', b'\\xe3', b'\\xe4', b'\\xe5', b'\\xe6', b'\\xe7', b'\\xe8', b'\\xe9', b'\\xea', b'\\xeb', b'\\xec', b'\\xed', b'\\xee', b'\\xef', b'\\xf0', b'\\xf1', b'\\xf2', b'\\xf3', b'\\xf4', b'\\xf5', b'\\xf6', b'\\xf7', b'\\xf8', b'\\xf9', b'\\xfa', b'\\xfb', b'\\xfc', b'\\xfd', b'\\xfe', b'\\xff']\n",
            "1 58 [b'\\x80', b'\\x81', b'\\x83', b'\\x84', b'\\x86', b'\\x87', b'\\x88', b'\\x89', b'\\x8a', b'\\x8b', b'\\x8c', b'\\x8d', b'\\x8e', b'\\x8f', b'\\x90', b'\\x93', b'\\x94', b'\\x95', b'\\x97', b'\\x9a', b'\\x9c', b'\\x9d', b'\\xa1', b'\\xa2', b'\\xa3', b'\\xa4', b'\\xa5', b'\\xc0', b'\\xc1', b'\\xc2', b'\\xc3', b'\\xc4', b'\\xc5', b'\\xc6', b'\\xc7', b'\\xc8', b'\\xc9', b'\\xca', b'\\xcb', b'\\xcc', b'\\xcd', b'\\xce', b'\\xcf', b'\\xd0', b'\\xd1', b'\\xd2', b'\\xd3', b'\\xd4', b'\\xd5', b'\\xd6', b'\\xd8', b'\\xd9', b'\\xda', b'\\xdb', b'\\xdc', b'\\xdd', b'\\xde', b'\\xdf']\n",
            "2 50 [b'\\xa0', b'\\xa1', b'\\xa2', b'\\xa3', b'\\xa4', b'\\xa5', b'\\xa6', b'\\xa7', b'\\xa8', b'\\xa9', b'\\xaa', b'\\xab', b'\\xac', b'\\xad', b'\\xae', b'\\xaf', b'\\xb0', b'\\xb1', b'\\xb3', b'\\xb4', b'\\xb5', b'\\xb6', b'\\xb7', b'\\xb8', b'\\xb9', b'\\xba', b'\\xbb', b'\\xbc', b'\\xbd', b'\\xbf', b'\\xe0', b'\\xe1', b'\\xe2', b'\\xe3', b'\\xe4', b'\\xe5', b'\\xe6', b'\\xe7', b'\\xe8', b'\\xe9', b'\\xeb', b'\\xee', b'\\xef', b'\\xf0', b'\\xf4', b'\\xf5', b'\\xf8', b'\\xfc', b'\\xfd', b'\\xfe']\n",
            "3 56 [b'\\x80', b'\\x81', b'\\x82', b'\\x83', b'\\x84', b'\\x85', b'\\x86', b'\\x87', b'\\x88', b'\\x89', b'\\x8a', b'\\x8b', b'\\x8c', b'\\x8d', b'\\x8e', b'\\x8f', b'\\x90', b'\\x91', b'\\x92', b'\\x93', b'\\x94', b'\\x95', b'\\x96', b'\\x97', b'\\x98', b'\\x99', b'\\x9a', b'\\x9b', b'\\x9c', b'\\x9e', b'\\x9f', b'\\xc0', b'\\xc1', b'\\xc2', b'\\xc3', b'\\xc4', b'\\xc5', b'\\xc6', b'\\xc7', b'\\xca', b'\\xcb', b'\\xcc', b'\\xd1', b'\\xd2', b'\\xd6', b'\\xd7', b'\\xda', b'\\xdb', b'\\xdd', b'\\xde', b'\\xdf', b'\\xe8', b'\\xe9', b'\\xeb', b'\\xee', b'\\xef']\n",
            "4 28 [b'\"', b'#', b'$', b'%', b'&', b'J', b'K', b'L', b'M', b'O', b'`', b'a', b'b', b'c', b'd', b'e', b'f', b'g', b'h', b'i', b'n', b'r', b's', b't', b'y', b'{', b'}', b'\\x7f']\n",
            "5 53 [b'\\n', b'\\x0b', b'\\x0c', b'\\r', b'\\x0e', b' ', b'\"', b'#', b'$', b'%', b'&', b\"'\", b'(', b')', b'+', b',', b'-', b'2', b'3', b'8', b'9', b':', b'`', b'a', b'b', b'c', b'd', b'e', b'f', b'g', b'h', b'i', b'j', b'k', b'l', b'm', b'n', b'o', b'p', b'q', b'r', b's', b't', b'u', b'v', b'w', b'y', b'z', b'{', b'|', b'}', b'~', b'\\x7f']\n",
            "6 54 [b' ', b'!', b'\"', b'#', b'$', b'%', b\"'\", b'(', b')', b'*', b'+', b',', b'-', b'.', b'/', b'0', b'1', b'2', b'3', b'4', b'5', b'6', b'7', b'8', b'9', b':', b';', b'<', b'=', b'>', b'?', b'P', b'R', b'S', b'T', b'U', b'`', b'd', b'f', b'j', b'l', b'q', b's', b't', b'v', b'w', b'x', b'y', b'z', b'{', b'|', b'}', b'~', b'\\x7f']\n",
            "7 48 [b'\\xa3', b'\\xa4', b'\\xa8', b'\\xa9', b'\\xaa', b'\\xab', b'\\xac', b'\\xad', b'\\xae', b'\\xaf', b'\\xb2', b'\\xb3', b'\\xb4', b'\\xb5', b'\\xb8', b'\\xb9', b'\\xbd', b'\\xbe', b'\\xe0', b'\\xe1', b'\\xe2', b'\\xe3', b'\\xe4', b'\\xe5', b'\\xe6', b'\\xe7', b'\\xe8', b'\\xe9', b'\\xea', b'\\xeb', b'\\xec', b'\\xed', b'\\xee', b'\\xef', b'\\xf0', b'\\xf1', b'\\xf3', b'\\xf4', b'\\xf5', b'\\xf6', b'\\xf7', b'\\xf8', b'\\xf9', b'\\xfa', b'\\xfb', b'\\xfc', b'\\xfd', b'\\xff']\n",
            "8 53 [b'\\x00', b'\\x01', b'\\x02', b'\\x03', b'\\x04', b'\\x05', b'\\x06', b'\\x07', b'\\x08', b'\\n', b'\\x0b', b'\\r', b'\\x0e', b'\\x11', b'\\x19', b'\\x1b', b'\\x1d', b'(', b')', b'-', b'.', b'/', b'@', b'A', b'B', b'C', b'D', b'E', b'F', b'G', b'H', b'I', b'J', b'K', b'L', b'M', b'N', b'O', b'P', b'Q', b'R', b'S', b'T', b'U', b'V', b'W', b'X', b'Y', b'Z', b'\\\\', b']', b'^', b'_']\n",
            "9 51 [b'\\x00', b'\\x03', b'\\x05', b'\\x07', b'\\x08', b'\\t', b'\\x0e', b'\\x0f', b'\\x12', b'\\x13', b'\\x14', b'\\x15', b'\\x16', b'\\x18', b'\\x19', b'\\x1a', b'\\x1b', b'\\x1c', b'\\x1d', b'\\x1e', b'\\x1f', b'@', b'A', b'B', b'D', b'E', b'F', b'G', b'H', b'I', b'J', b'K', b'L', b'M', b'N', b'P', b'Q', b'R', b'S', b'T', b'U', b'V', b'W', b'X', b'Y', b'Z', b'[', b'\\\\', b']', b'^', b'_']\n",
            "10 49 [b' ', b'\"', b'#', b'$', b'%', b\"'\", b'(', b')', b'*', b'+', b'-', b'.', b'/', b'0', b'1', b'2', b'3', b'4', b'5', b'6', b'7', b'8', b'9', b':', b';', b'<', b'=', b'>', b'?', b'a', b'b', b'c', b'f', b'g', b'h', b'j', b'k', b'm', b'p', b'q', b's', b'x', b'y', b'z', b'{', b'|', b'}', b'~', b'\\x7f']\n",
            "11 46 [b'\\x00', b'\\x01', b'\\x02', b'\\x03', b'\\x04', b'\\x05', b'\\x06', b'\\x07', b'\\x08', b'\\t', b'\\n', b'\\x0b', b'\\x0c', b'\\r', b'\\x0e', b'\\x0f', b'\\x10', b'\\x11', b'\\x12', b'\\x14', b'\\x15', b'\\x16', b'\\x17', b'\\x18', b'\\x19', b'\\x1a', b'\\x1b', b'\\x1c', b'\\x1d', b'\\x1e', b'B', b'C', b'D', b'F', b'H', b'I', b'J', b'K', b'L', b'M', b'N', b'O', b'S', b'X', b'Y', b'_']\n",
            "12 54 [b' ', b'!', b'\"', b'#', b'$', b'%', b'&', b\"'\", b'(', b')', b'*', b'+', b',', b'-', b'.', b'/', b'0', b'1', b'2', b'3', b'4', b'6', b'7', b'8', b'9', b':', b';', b'<', b'=', b'>', b'?', b'@', b'A', b'C', b'F', b'G', b'a', b'b', b'd', b'e', b'f', b'g', b'h', b'i', b'j', b'k', b'l', b'm', b'n', b'o', b's', b'u', b'~', b'\\x7f']\n",
            "13 53 [b'\\n', b'\\x0b', b'\\x0c', b'\\r', b'\\x0e', b' ', b'!', b'\"', b'#', b'$', b'%', b'&', b\"'\", b'(', b')', b'-', b'.', b'2', b'4', b'5', b'8', b'>', b'`', b'a', b'b', b'c', b'd', b'e', b'f', b'g', b'h', b'i', b'j', b'k', b'l', b'm', b'n', b'o', b'p', b'q', b'r', b's', b't', b'u', b'v', b'w', b'y', b'z', b'{', b'|', b'}', b'~', b'\\x7f']\n",
            "14 52 [b'\\x00', b'\\x01', b'\\x02', b'\\x03', b'\\x04', b'\\x05', b'\\x06', b'\\x07', b'\\x08', b'\\t', b'\\x0b', b'\\x0c', b'\\r', b'\\x0e', b'\\x0f', b'\\x10', b'\\x11', b'\\x12', b'\\x13', b'\\x14', b'\\x15', b'\\x16', b'\\x17', b'\\x18', b'\\x19', b'\\x1a', b'\\x1b', b'\\x1c', b'\\x1d', b'\\x1e', b'\\x1f', b'@', b'A', b'H', b'J', b'M', b'N', b'P', b'Q', b'R', b'S', b'T', b'U', b'V', b'W', b'Z', b'[', b'x', b'y', b'|', b'~', b'\\x7f']\n",
            "15 20 [b'\\x01', b'\\x02', b'\\x03', b'\\x04', b'\\x05', b'@', b'A', b'B', b'C', b'D', b'E', b'F', b'H', b'O', b'T', b'U', b'X', b'Y', b']', b'^']\n",
            "16 56 [b'\\xa0', b'\\xa1', b'\\xa2', b'\\xa3', b'\\xa4', b'\\xa5', b'\\xa6', b'\\xa7', b'\\xa8', b'\\xa9', b'\\xaa', b'\\xab', b'\\xac', b'\\xad', b'\\xae', b'\\xaf', b'\\xb0', b'\\xb1', b'\\xb3', b'\\xb4', b'\\xb5', b'\\xb6', b'\\xb7', b'\\xb8', b'\\xb9', b'\\xba', b'\\xbb', b'\\xbc', b'\\xbd', b'\\xbe', b'\\xbf', b'\\xc0', b'\\xc1', b'\\xc4', b'\\xc6', b'\\xc7', b'\\xe2', b'\\xe3', b'\\xe4', b'\\xe5', b'\\xe7', b'\\xe8', b'\\xe9', b'\\xea', b'\\xec', b'\\xed', b'\\xee', b'\\xef', b'\\xf0', b'\\xf1', b'\\xf2', b'\\xf4', b'\\xf8', b'\\xf9', b'\\xfd', b'\\xfe']\n",
            "17 53 [b'\\x80', b'\\x81', b'\\x82', b'\\x84', b'\\x85', b'\\x86', b'\\x87', b'\\x8a', b'\\x8b', b'\\x8c', b'\\x90', b'\\x91', b'\\x97', b'\\x99', b'\\x9a', b'\\x9c', b'\\x9e', b'\\xa8', b'\\xa9', b'\\xac', b'\\xae', b'\\xaf', b'\\xc0', b'\\xc1', b'\\xc2', b'\\xc3', b'\\xc4', b'\\xc5', b'\\xc6', b'\\xc7', b'\\xc8', b'\\xc9', b'\\xca', b'\\xcb', b'\\xcc', b'\\xcd', b'\\xce', b'\\xcf', b'\\xd0', b'\\xd1', b'\\xd2', b'\\xd3', b'\\xd4', b'\\xd5', b'\\xd6', b'\\xd7', b'\\xd8', b'\\xd9', b'\\xdb', b'\\xdc', b'\\xdd', b'\\xde', b'\\xdf']\n",
            "18 52 [b'\\xa0', b'\\xa2', b'\\xa3', b'\\xa4', b'\\xa5', b'\\xa6', b'\\xa7', b'\\xa8', b'\\xa9', b'\\xaa', b'\\xab', b'\\xac', b'\\xad', b'\\xae', b'\\xaf', b'\\xb0', b'\\xb1', b'\\xb2', b'\\xb3', b'\\xb4', b'\\xb5', b'\\xb6', b'\\xb7', b'\\xb8', b'\\xb9', b'\\xba', b'\\xbb', b'\\xbc', b'\\xbd', b'\\xbe', b'\\xbf', b'\\xd2', b'\\xd3', b'\\xd4', b'\\xd5', b'\\xd7', b'\\xe1', b'\\xe3', b'\\xe6', b'\\xe9', b'\\xea', b'\\xeb', b'\\xed', b'\\xf0', b'\\xf7', b'\\xf9', b'\\xfa', b'\\xfb', b'\\xfc', b'\\xfd', b'\\xfe', b'\\xff']\n",
            "19 23 [b' ', b'!', b'\"', b'#', b'$', b'%', b'&', b'(', b'+', b'.', b'/', b'0', b'3', b'4', b'7', b'8', b'9', b'<', b'>', b'a', b'b', b'c', b'e']\n",
            "20 46 [b'\\x00', b'\\x01', b'\\x02', b'\\x03', b'\\x04', b'\\x05', b'\\x06', b'\\x07', b'\\t', b'\\n', b'\\x0b', b'\\r', b'\\x0e', b'\\x0f', b'\\x10', b'\\x11', b'\\x12', b'\\x14', b'\\x15', b'\\x16', b'\\x17', b'\\x18', b'\\x19', b'\\x1a', b'\\x1b', b'\\x1c', b'\\x1d', b'\\x1e', b'\\x1f', b'B', b'C', b'D', b'E', b'H', b'I', b'J', b'K', b'L', b'M', b'N', b'O', b'Q', b'S', b'T', b'X', b'Y']\n",
            "21 45 [b'\\xa0', b'\\xa1', b'\\xa3', b'\\xa4', b'\\xa5', b'\\xa6', b'\\xa7', b'\\xa8', b'\\xa9', b'\\xaa', b'\\xab', b'\\xac', b'\\xad', b'\\xaf', b'\\xb0', b'\\xb1', b'\\xb2', b'\\xb3', b'\\xb4', b'\\xb5', b'\\xb6', b'\\xb7', b'\\xb8', b'\\xb9', b'\\xba', b'\\xbb', b'\\xbc', b'\\xbd', b'\\xbe', b'\\xbf', b'\\xe2', b'\\xe5', b'\\xe8', b'\\xe9', b'\\xf2', b'\\xf3', b'\\xf4', b'\\xf5', b'\\xf8', b'\\xf9', b'\\xfa', b'\\xfc', b'\\xfd', b'\\xfe', b'\\xff']\n",
            "22 55 [b'\\x8a', b'\\x8b', b'\\x8c', b'\\x8d', b'\\x8e', b'\\xa0', b'\\xa2', b'\\xa3', b'\\xa4', b'\\xa5', b'\\xa6', b'\\xa7', b'\\xa8', b'\\xa9', b'\\xae', b'\\xb1', b'\\xb2', b'\\xb3', b'\\xb4', b'\\xb6', b'\\xb8', b'\\xba', b'\\xbb', b'\\xbe', b'\\xe0', b'\\xe1', b'\\xe2', b'\\xe3', b'\\xe4', b'\\xe5', b'\\xe6', b'\\xe7', b'\\xe8', b'\\xe9', b'\\xea', b'\\xeb', b'\\xec', b'\\xed', b'\\xee', b'\\xef', b'\\xf0', b'\\xf1', b'\\xf2', b'\\xf3', b'\\xf4', b'\\xf5', b'\\xf6', b'\\xf7', b'\\xf9', b'\\xfa', b'\\xfb', b'\\xfc', b'\\xfd', b'\\xfe', b'\\xff']\n",
            "23 56 [b'\\x00', b'\\x01', b'\\x04', b'\\x06', b'\\x07', b'\\x08', b'\\t', b'\\n', b'\\x0b', b'\\x0c', b'\\r', b'\\x0e', b'\\x0f', b'\\x10', b'\\x11', b'\\x13', b'\\x17', b'\\x1a', b'\\x1b', b'\\x1c', b'\"', b'#', b'$', b'%', b\"'\", b'@', b'A', b'B', b'C', b'D', b'E', b'F', b'G', b'H', b'I', b'J', b'K', b'L', b'M', b'N', b'O', b'P', b'R', b'S', b'T', b'U', b'V', b'W', b'X', b'Y', b'Z', b'[', b'\\\\', b']', b'^', b'_']\n",
            "24 49 [b' ', b'!', b'\"', b'#', b'$', b'%', b'&', b\"'\", b'(', b')', b'*', b'+', b',', b'-', b'.', b'/', b'0', b'1', b'2', b'4', b'5', b'6', b'7', b'8', b'9', b':', b';', b'<', b'=', b'>', b'`', b'a', b'b', b'c', b'd', b'e', b'f', b'g', b'i', b'j', b'n', b'r', b't', b'u', b'x', b'y', b'|', b'}', b'\\x7f']\n",
            "25 50 [b'\\x01', b'\\x02', b'\\x03', b'\\x04', b'\\x05', b'\\x06', b'\\x07', b'\\x08', b'\\t', b'\\n', b'\\x0b', b'\\x0c', b'\\r', b'\\x0f', b'\\x10', b'\\x11', b'\\x12', b'\\x13', b'\\x14', b'\\x16', b'\\x17', b'\\x18', b'\\x19', b'\\x1a', b'\\x1b', b'\\x1c', b'\\x1d', b'\\x1e', b'\\x1f', b'D', b'E', b'G', b'H', b'M', b'N', b'O', b'P', b'Q', b'R', b'S', b'T', b'U', b'V', b'W', b'X', b'Y', b'Z', b']', b'^', b'_']\n",
            "26 55 [b' ', b'!', b'\"', b'#', b'$', b'%', b'&', b\"'\", b'(', b')', b'*', b'+', b',', b'-', b'.', b'/', b'0', b'1', b'2', b'4', b'5', b'6', b'7', b'8', b'9', b':', b';', b'<', b'=', b'>', b'?', b'@', b'A', b'E', b'F', b'G', b'a', b'b', b'e', b'f', b'h', b'i', b'j', b'k', b'l', b'm', b'n', b'o', b'p', b's', b't', b'x', b'y', b'{', b'~']\n",
            "27 50 [b'\\x80', b'\\x81', b'\\x83', b'\\x84', b'\\x85', b'\\x86', b'\\x87', b'\\x88', b'\\x89', b'\\x8a', b'\\x8b', b'\\x8d', b'\\x8f', b'\\x90', b'\\x91', b'\\x92', b'\\x93', b'\\x94', b'\\x95', b'\\x96', b'\\x97', b'\\x98', b'\\x99', b'\\x9a', b'\\x9b', b'\\x9c', b'\\x9d', b'\\x9e', b'\\x9f', b'\\xc0', b'\\xc1', b'\\xc2', b'\\xc4', b'\\xc7', b'\\xc8', b'\\xc9', b'\\xcb', b'\\xce', b'\\xd1', b'\\xd2', b'\\xd3', b'\\xd4', b'\\xd5', b'\\xd8', b'\\xd9', b'\\xda', b'\\xdc', b'\\xdd', b'\\xde', b'\\xdf']\n",
            "28 28 [b' ', b'!', b'#', b'$', b'%', b'&', b\"'\", b'(', b')', b'*', b'+', b'-', b'0', b'1', b'2', b'3', b'4', b'5', b'6', b'7', b':', b';', b'<', b'=', b'>', b't', b'v', b'w']\n",
            "29 54 [b' ', b'\"', b'#', b'$', b'%', b'&', b'(', b')', b'*', b'+', b',', b'-', b'.', b'/', b'0', b'1', b'3', b'4', b'5', b'8', b'9', b':', b'<', b'>', b'?', b'`', b'a', b'b', b'c', b'd', b'e', b'f', b'g', b'h', b'i', b'j', b'k', b'l', b'm', b'n', b'o', b'p', b'q', b'r', b't', b'u', b'v', b'w', b'x', b'y', b'z', b'{', b'|', b'~']\n",
            "30 56 [b'\\x00', b'\\x01', b'\\x02', b'\\x03', b'\\x04', b'\\x06', b'\\x07', b'\\x08', b'\\t', b'\\n', b'\\x0b', b'\\x0c', b'\\r', b'\\x0e', b'\\x0f', b'\\x10', b'\\x11', b'\\x12', b'\\x14', b'\\x15', b'\\x16', b'\\x17', b'\\x18', b'\\x19', b'\\x1a', b'\\x1b', b'\\x1c', b'\\x1d', b'\\x1e', b'\\x1f', b'A', b'B', b'C', b'D', b'E', b'F', b'H', b'I', b'J', b'K', b'M', b'N', b'O', b'Q', b'R', b'S', b'T', b'U', b'V', b'W', b'X', b'Y', b'[', b'\\\\', b'^', b'_']\n",
            "31 59 [b'\\x80', b'\\x81', b'\\x82', b'\\x83', b'\\x84', b'\\x85', b'\\x86', b'\\x87', b'\\x88', b'\\x89', b'\\x8a', b'\\x8b', b'\\x8c', b'\\x8d', b'\\x8e', b'\\x8f', b'\\x90', b'\\x91', b'\\x92', b'\\x94', b'\\x95', b'\\x96', b'\\x97', b'\\x98', b'\\x99', b'\\x9a', b'\\x9b', b'\\x9c', b'\\x9e', b'\\x9f', b'\\xc0', b'\\xc1', b'\\xc2', b'\\xc3', b'\\xc4', b'\\xc5', b'\\xc6', b'\\xc7', b'\\xc8', b'\\xc9', b'\\xca', b'\\xcb', b'\\xcc', b'\\xcd', b'\\xcf', b'\\xd0', b'\\xd1', b'\\xd2', b'\\xd4', b'\\xd5', b'\\xd6', b'\\xd7', b'\\xd8', b'\\xda', b'\\xdb', b'\\xdc', b'\\xdd', b'\\xde', b'\\xdf']\n",
            "32 66 [b'\\xa0', b'\\xa1', b'\\xa2', b'\\xa3', b'\\xa4', b'\\xa5', b'\\xa6', b'\\xa7', b'\\xa8', b'\\xaa', b'\\xab', b'\\xac', b'\\xad', b'\\xae', b'\\xaf', b'\\xb0', b'\\xb1', b'\\xb2', b'\\xb3', b'\\xb4', b'\\xb5', b'\\xb6', b'\\xb7', b'\\xb8', b'\\xb9', b'\\xba', b'\\xbb', b'\\xbc', b'\\xbd', b'\\xbe', b'\\xbf', b'\\xda', b'\\xdb', b'\\xdc', b'\\xdd', b'\\xdf', b'\\xe0', b'\\xe2', b'\\xe3', b'\\xe4', b'\\xe5', b'\\xe6', b'\\xe7', b'\\xe8', b'\\xe9', b'\\xea', b'\\xeb', b'\\xec', b'\\xee', b'\\xef', b'\\xf0', b'\\xf1', b'\\xf2', b'\\xf3', b'\\xf4', b'\\xf5', b'\\xf6', b'\\xf7', b'\\xf8', b'\\xf9', b'\\xfa', b'\\xfb', b'\\xfc', b'\\xfd', b'\\xfe', b'\\xff']\n",
            "33 66 [b'\\x98', b'\\x99', b'\\x9a', b'\\x9e', b'\\x9f', b'\\xa0', b'\\xa1', b'\\xa2', b'\\xa3', b'\\xa4', b'\\xa6', b'\\xa7', b'\\xa8', b'\\xa9', b'\\xaa', b'\\xab', b'\\xac', b'\\xad', b'\\xae', b'\\xaf', b'\\xb0', b'\\xb1', b'\\xb2', b'\\xb3', b'\\xb5', b'\\xb6', b'\\xb7', b'\\xb8', b'\\xb9', b'\\xba', b'\\xbb', b'\\xbc', b'\\xbd', b'\\xbe', b'\\xbf', b'\\xe0', b'\\xe1', b'\\xe2', b'\\xe3', b'\\xe4', b'\\xe5', b'\\xe6', b'\\xe7', b'\\xe8', b'\\xe9', b'\\xea', b'\\xeb', b'\\xed', b'\\xee', b'\\xef', b'\\xf0', b'\\xf1', b'\\xf2', b'\\xf3', b'\\xf4', b'\\xf5', b'\\xf6', b'\\xf7', b'\\xf8', b'\\xf9', b'\\xfa', b'\\xfb', b'\\xfc', b'\\xfd', b'\\xfe', b'\\xff']\n",
            "34 94 [b'\\x80', b'\\x81', b'\\x82', b'\\x83', b'\\x84', b'\\x85', b'\\x86', b'\\x87', b'\\x88', b'\\x89', b'\\x8a', b'\\x8b', b'\\x8c', b'\\x8d', b'\\x8e', b'\\x8f', b'\\x90', b'\\x91', b'\\x92', b'\\x93', b'\\x94', b'\\x95', b'\\x96', b'\\x97', b'\\x98', b'\\x99', b'\\x9a', b'\\x9b', b'\\x9c', b'\\x9d', b'\\x9e', b'\\x9f', b'\\xc0', b'\\xc1', b'\\xc2', b'\\xc3', b'\\xc4', b'\\xc5', b'\\xc6', b'\\xc7', b'\\xc9', b'\\xca', b'\\xcb', b'\\xcc', b'\\xcd', b'\\xce', b'\\xcf', b'\\xd0', b'\\xd1', b'\\xd2', b'\\xd3', b'\\xd4', b'\\xd5', b'\\xd6', b'\\xd7', b'\\xd8', b'\\xd9', b'\\xda', b'\\xdb', b'\\xdd', b'\\xde', b'\\xdf', b'\\xe0', b'\\xe1', b'\\xe2', b'\\xe3', b'\\xe4', b'\\xe5', b'\\xe6', b'\\xe7', b'\\xe8', b'\\xe9', b'\\xea', b'\\xeb', b'\\xec', b'\\xed', b'\\xee', b'\\xef', b'\\xf0', b'\\xf1', b'\\xf2', b'\\xf3', b'\\xf4', b'\\xf5', b'\\xf6', b'\\xf7', b'\\xf8', b'\\xf9', b'\\xfa', b'\\xfb', b'\\xfc', b'\\xfd', b'\\xfe', b'\\xff']\n",
            "35 94 [b'\\x00', b'\\x01', b'\\x02', b'\\x03', b'\\x04', b'\\x06', b'\\x07', b'\\x08', b'\\t', b'\\n', b'\\x0b', b'\\x0c', b'\\r', b'\\x0e', b'\\x0f', b'\\x10', b'\\x11', b'\\x12', b'\\x14', b'\\x15', b'\\x16', b'\\x17', b'\\x18', b'\\x19', b'\\x1a', b'\\x1b', b'\\x1c', b'\\x1d', b'\\x1e', b'\\x1f', b' ', b'!', b'\"', b'#', b'$', b'%', b'&', b\"'\", b'(', b')', b'*', b'+', b',', b'-', b'.', b'/', b'0', b'1', b'2', b'3', b'4', b'5', b'6', b'7', b'8', b'9', b':', b';', b'<', b'=', b'>', b'?', b'@', b'A', b'B', b'C', b'D', b'E', b'F', b'G', b'H', b'I', b'J', b'K', b'L', b'M', b'N', b'O', b'P', b'Q', b'R', b'S', b'T', b'U', b'V', b'W', b'X', b'Y', b'Z', b'[', b'\\\\', b']', b'^', b'_']\n",
            "36 100 [b'\\x80', b'\\x81', b'\\x82', b'\\x83', b'\\x84', b'\\x85', b'\\x86', b'\\x87', b'\\x88', b'\\x89', b'\\x8a', b'\\x8b', b'\\x8c', b'\\x8d', b'\\x8e', b'\\x8f', b'\\x90', b'\\x91', b'\\x92', b'\\x93', b'\\x94', b'\\x95', b'\\x96', b'\\x97', b'\\x98', b'\\x99', b'\\x9a', b'\\x9b', b'\\x9c', b'\\x9d', b'\\x9e', b'\\x9f', b'\\xa9', b'\\xaa', b'\\xab', b'\\xac', b'\\xad', b'\\xc0', b'\\xc1', b'\\xc2', b'\\xc3', b'\\xc4', b'\\xc5', b'\\xc6', b'\\xc7', b'\\xc8', b'\\xc9', b'\\xca', b'\\xcb', b'\\xcc', b'\\xcd', b'\\xce', b'\\xcf', b'\\xd0', b'\\xd1', b'\\xd2', b'\\xd3', b'\\xd4', b'\\xd5', b'\\xd6', b'\\xd7', b'\\xd8', b'\\xd9', b'\\xda', b'\\xdb', b'\\xdc', b'\\xdd', b'\\xde', b'\\xe0', b'\\xe1', b'\\xe2', b'\\xe3', b'\\xe4', b'\\xe5', b'\\xe6', b'\\xe7', b'\\xe8', b'\\xe9', b'\\xea', b'\\xeb', b'\\xec', b'\\xed', b'\\xee', b'\\xef', b'\\xf0', b'\\xf1', b'\\xf2', b'\\xf3', b'\\xf4', b'\\xf5', b'\\xf6', b'\\xf7', b'\\xf8', b'\\xf9', b'\\xfa', b'\\xfb', b'\\xfc', b'\\xfd', b'\\xfe', b'\\xff']\n",
            "37 100 [b'\\x80', b'\\x81', b'\\x82', b'\\x83', b'\\x84', b'\\x85', b'\\x86', b'\\x87', b'\\x88', b'\\x89', b'\\x8a', b'\\x8b', b'\\x8c', b'\\x8d', b'\\x8e', b'\\x8f', b'\\x90', b'\\x91', b'\\x92', b'\\x93', b'\\x94', b'\\x95', b'\\x96', b'\\x97', b'\\x98', b'\\x99', b'\\x9a', b'\\x9b', b'\\x9c', b'\\x9d', b'\\x9e', b'\\x9f', b'\\xa0', b'\\xa1', b'\\xa2', b'\\xa3', b'\\xa4', b'\\xa5', b'\\xa6', b'\\xa7', b'\\xa8', b'\\xa9', b'\\xaa', b'\\xab', b'\\xac', b'\\xae', b'\\xaf', b'\\xb0', b'\\xb1', b'\\xb2', b'\\xb3', b'\\xb4', b'\\xb5', b'\\xb6', b'\\xb7', b'\\xb8', b'\\xb9', b'\\xba', b'\\xbb', b'\\xbc', b'\\xbd', b'\\xbe', b'\\xbf', b'\\xd8', b'\\xd9', b'\\xdb', b'\\xde', b'\\xdf', b'\\xe0', b'\\xe1', b'\\xe2', b'\\xe3', b'\\xe4', b'\\xe5', b'\\xe6', b'\\xe7', b'\\xe8', b'\\xe9', b'\\xea', b'\\xeb', b'\\xec', b'\\xed', b'\\xee', b'\\xef', b'\\xf0', b'\\xf1', b'\\xf2', b'\\xf3', b'\\xf4', b'\\xf5', b'\\xf6', b'\\xf7', b'\\xf8', b'\\xf9', b'\\xfa', b'\\xfb', b'\\xfc', b'\\xfd', b'\\xfe', b'\\xff']\n",
            "272346642767837005744053519896957242879688915602636800000000000000\n"
          ]
        }
      ],
      "source": [
        "count = 1\n",
        "for key, val in all_possible_bytes_for_keystream.items():\n",
        "    print(key, len(val), val)\n",
        "    count *= len(val)\n",
        "print(count)"
      ]
    },
    {
      "cell_type": "code",
      "execution_count": null,
      "metadata": {},
      "outputs": [],
      "source": [
        "import challenge3 as c3\n",
        "score_for_each_possible_bytes = []\n",
        "\n",
        "for i, val in all_possible_bytes_for_keystream.items():\n",
        "    score_list = []\n",
        "    for possible_byte in val:\n",
        "        score_input_text = ''\n",
        "        for encrypted_btyes in encrypted_btyes_list:\n",
        "            if len(encrypted_btyes) <= i:\n",
        "                continue\n",
        "            score_input_text += chr(encrypted_btyes[i] ^ possible_byte[0])\n",
        "        score = c3.get_score(score_input_text)\n",
        "        score_list.append((possible_byte, score))\n",
        "    score_list.sort(key=lambda x: x[1], reverse=True)\n",
        "    score_for_each_possible_bytes.append((i, score_list))"
      ]
    },
    {
      "cell_type": "code",
      "execution_count": null,
      "metadata": {},
      "outputs": [
        {
          "name": "stdout",
          "output_type": "stream",
          "text": [
            "(0, [(b'\\x8c', 226.11), (b'\\xac', 226.11), (b'\\x8b', 199.75), (b'\\xab', 199.75), (b'\\x8a', 195.56), (b'\\x88', 188.0), (b'\\xa8', 188.0), (b'\\x97', 171.02), (b'\\xb7', 171.02), (b'\\x96', 164.21), (b'\\x9d', 164.19), (b'\\xbd', 164.19), (b'\\x81', 159.54), (b'\\xa1', 159.54), (b'\\x91', 151.7), (b'\\x99', 149.75), (b'\\xb9', 149.75), (b'\\x8d', 145.27), (b'\\xad', 145.27), (b'\\x90', 138.51), (b'\\x9e', 133.6), (b'\\xbe', 133.6), (b'\\x80', 131.87), (b'\\x9a', 127.79), (b'\\xed', 126), (b'\\xf8', 126), (b'\\x82', 121.16), (b'\\xa2', 121.16), (b'\\x8f', 113.64), (b'\\xaf', 113.64), (b'\\x94', 111.24), (b'\\xb4', 111.24), (b'\\x86', 107.23), (b'\\x89', 106.53), (b'\\xa9', 106.53), (b'\\x84', 105.84), (b'\\x9c', 98.9), (b'\\x9f', 96.33), (b'\\xbf', 96.33), (b'\\xe4', 90), (b'\\x85', 89.74), (b'\\xa5', 89.74), (b'\\x8e', 87.99), (b'\\xae', 87.99), (b'\\x83', 87.54), (b'\\x9b', 83.04), (b'\\x87', 78.71), (b'\\x95', 73.66), (b'\\x98', 72.42), (b'\\xb8', 72.42), (b'\\xe5', 72), (b'\\x93', 64.39), (b'\\xb3', 64.39), (b'\\x92', 54.37), (b'\\xe3', 54), (b'\\xfb', 54), (b'\\xff', 54), (b'\\xee', 36), (b'\\xe9', 18), (b'\\xea', 18), (b'\\xef', 18), (b'\\xf5', 18), (b'\\xf9', 18), (b'\\xfc', 18), (b'\\xe0', 0), (b'\\xe1', 0), (b'\\xe2', 0), (b'\\xe6', 0), (b'\\xe7', 0), (b'\\xe8', 0), (b'\\xeb', 0), (b'\\xec', 0), (b'\\xf0', 0), (b'\\xf1', 0), (b'\\xf2', 0), (b'\\xf3', 0), (b'\\xf4', 0), (b'\\xf6', 0), (b'\\xf7', 0), (b'\\xfa', 0), (b'\\xfd', 0), (b'\\xfe', 0)])\n",
            "(1, [(b'\\x88', 330.2), (b'\\x89', 196.27), (b'\\x8e', 188.89), (b'\\xcd', 181.8), (b'\\x94', 181.31), (b'\\x83', 171.06), (b'\\xa3', 171.06), (b'\\x8f', 164.1), (b'\\xa2', 162.86), (b'\\x93', 153.52), (b'\\xa5', 153.0), (b'\\x95', 147.57), (b'\\xc7', 143.8), (b'\\x81', 142.46), (b'\\xa1', 142.46), (b'\\xc0', 141.0), (b'\\x84', 130.18), (b'\\xa4', 130.18), (b'\\x8c', 130.02), (b'\\xda', 127.9), (b'\\xc6', 123.25), (b'\\x8a', 97.01), (b'\\x8b', 90.96), (b'\\x86', 86.07), (b'\\x87', 82.0), (b'\\x80', 72.36), (b'\\xc9', 60.5), (b'\\x8d', 58.34), (b'\\xc1', 55.7), (b'\\x97', 54.72), (b'\\x9d', 50.63), (b'\\x90', 47.92), (b'\\xc4', 45.45), (b'\\xdd', 36.15), (b'\\xdc', 34.75), (b'\\x9c', 31.8), (b'\\xdb', 28.7), (b'\\xce', 27.05), (b'\\x9a', 26.08), (b'\\xcb', 22.7), (b'\\xcc', 16.9), (b'\\xd8', 15.85), (b'\\xc5', 15.05), (b'\\xcf', 12.35), (b'\\xca', 10.35), (b'\\xd1', 8.9), (b'\\xdf', 6.45), (b'\\xc3', 5.5), (b'\\xde', 5.05), (b'\\xd0', 1.45), (b'\\xd2', 1.35), (b'\\xc2', 1.0), (b'\\xd9', 1.0), (b'\\xc8', 0), (b'\\xd3', 0), (b'\\xd4', 0), (b'\\xd5', 0), (b'\\xd6', 0)])\n",
            "(2, [(b'\\xe1', 370.97), (b'\\xa8', 177.26), (b'\\xa4', 173.84), (b'\\xb5', 167.03), (b'\\xa0', 153.52), (b'\\xe7', 138.2), (b'\\xe0', 125.41), (b'\\xae', 123.84), (b'\\xe5', 111.93), (b'\\xe6', 111.79), (b'\\xfc', 111.49), (b'\\xe9', 109.4), (b'\\xf0', 102.44), (b'\\xb3', 101.38), (b'\\xa5', 97.18), (b'\\xad', 96.39), (b'\\xeb', 93.36), (b'\\xe4', 87.47), (b'\\xf4', 86.54), (b'\\xe8', 82.25), (b'\\xfd', 79.68), (b'\\xaf', 77.29), (b'\\xa9', 75.76), (b'\\xe3', 74.85), (b'\\xef', 72.35), (b'\\xac', 68.11), (b'\\xe2', 65.39), (b'\\xa2', 64.26), (b'\\xee', 49.98), (b'\\xa6', 47.37), (b'\\xfe', 46.85), (b'\\xf8', 46.53), (b'\\xb4', 43.49), (b'\\xa3', 36.07), (b'\\xb1', 34.87), (b'\\xf5', 33.18), (b'\\xb8', 26.84), (b'\\xa7', 20.31), (b'\\xb9', 17.09), (b'\\xaa', 17.04), (b'\\xbf', 15.16), (b'\\xb6', 14.19), (b'\\xb7', 11.65), (b'\\xa1', 10.98), (b'\\xbd', 6.34), (b'\\xab', 5.82), (b'\\xbb', 4.99), (b'\\xba', 2.58), (b'\\xb0', 2.2), (b'\\xbc', 0.4)])\n",
            "(3, [(b'\\xc2', 363.43), (b'\\xc5', 150.97), (b'\\x87', 147.6), (b'\\x8b', 147.4), (b'\\x91', 147.4), (b'\\xc3', 146.88), (b'\\x83', 139.0), (b'\\xdf', 136.66), (b'\\xc4', 133.95), (b'\\xde', 132.33), (b'\\xc6', 125.74), (b'\\x96', 123.5), (b'\\x8c', 120.5), (b'\\xee', 107.75), (b'\\xca', 96.73), (b'\\xef', 96.26), (b'\\x90', 93.8), (b'\\xd7', 87.31), (b'\\x8a', 84.0), (b'\\xe9', 83.29), (b'\\xc0', 79.81), (b'\\xc7', 76.3), (b'\\xe8', 73.45), (b'\\xdd', 72.49), (b'\\x8d', 71.6), (b'\\xc1', 71.14), (b'\\xd2', 68.87), (b'\\x92', 67.7), (b'\\xcb', 67.57), (b'\\xeb', 67.57), (b'\\x8f', 66.1), (b'\\xdb', 63.62), (b'\\xda', 57.12), (b'\\x8e', 54.9), (b'\\x97', 54.3), (b'\\xd1', 53.93), (b'\\x86', 51.8), (b'\\xcc', 49.08), (b'\\xd6', 48.25), (b'\\x81', 45.4), (b'\\x85', 24.7), (b'\\x80', 20.7), (b'\\x84', 18.1), (b'\\x9b', 17.8), (b'\\x95', 12.9), (b'\\x89', 11.0), (b'\\x94', 10.1), (b'\\x9a', 2.9), (b'\\x98', 2.7), (b'\\x88', 2.0), (b'\\x93', 2.0), (b'\\x82', 0), (b'\\x99', 0), (b'\\x9c', 0), (b'\\x9e', 0), (b'\\x9f', 0)])\n",
            "(4, [(b'f', 339.96), (b'`', 178.33), (b'd', 133.37), (b'}', 132.58), (b'{', 129.53), (b'g', 126.71), (b'a', 124.79), (b'b', 115.85), (b's', 110.35), (b'#', 107.28), (b'K', 103.54), (b'M', 87.97), (b'i', 86.17), (b'L', 83.54), (b'O', 81.47), (b'n', 80.74), (b'c', 80.03), (b'J', 77.85), (b'e', 76.46), (b'h', 75.57), (b'%', 72.32), (b'y', 66.63), (b'\\x7f', 64.19), (b't', 53.22), (b'r', 49.18), (b'\"', 27.04), (b'$', 16.56), (b'&', 0)])\n",
            "(5, [(b\"'\", 272.51), (b'\\r', 192.62), (b'-', 192.62), (b'&', 180.45), (b'\\x0c', 162.39), (b',', 162.39), (b'\\x0b', 157.54), (b'+', 157.54), (b'%', 147.95), (b'h', 147.48), (b'b', 141.48), (b'#', 139.47), (b':', 134.25), (b'$', 125.97), (b'\\x0e', 121.17), (b' ', 120.78), (b')', 115.49), (b'\\n', 114.14), (b'8', 88.77), (b'\"', 88.66), (b'9', 77.18), (b'u', 76.74), (b'i', 73.95), (b'(', 72.1), (b'2', 69.92), (b'j', 63.03), (b'n', 58.62), (b'3', 51.45), (b'c', 46.14), (b'o', 45.0), (b'`', 43.41), (b'q', 39.03), (b'k', 34.47), (b'd', 31.62), (b'f', 25.5), (b'a', 23.43), (b'~', 23.34), (b'p', 21.87), (b's', 20.85), (b't', 17.22), (b'r', 10.89), (b'w', 9.51), (b'e', 6.21), (b'l', 3.3), (b'\\x7f', 0.87), (b'}', 0.81), (b'm', 0.6), (b'v', 0.6), (b'g', 0), (b'y', 0), (b'z', 0), (b'{', 0), (b'|', 0)])\n",
            "(6, [(b'y', 337.92), (b'6', 230.12), (b'S', 198.66), (b's', 198.66), (b'\\x7f', 191.24), (b'x', 158.9), (b'U', 156.6), (b'w', 150.76), (b'd', 148.31), (b'<', 132.12), (b'}', 130.12), (b'q', 127.1), (b'~', 126.88), (b'0', 124.78), (b'T', 113.85), (b't', 113.85), (b'8', 113.5), (b'{', 108.57), (b'R', 107.78), (b'z', 99.9), (b'-', 84.65), (b'P', 81.63), (b'|', 78.9), (b'f', 69.38), (b'l', 65.69), (b'7', 64.55), (b'=', 59.66), (b'v', 59.15), (b'*', 58.18), (b'1', 57.0), (b'j', 55.94), (b'`', 53.52), (b'+', 53.06), (b':', 49.78), (b'4', 39.07), (b'5', 38.43), (b'>', 35.29), (b'2', 25.7), (b',', 25.41), (b'/', 25.07), (b')', 22.19), (b';', 14.49), (b'?', 12.67), (b' ', 12.46), (b'.', 9.03), (b'!', 2.03), (b'#', 1.89), (b'(', 1.4), (b'3', 1.4), (b'\"', 0), (b'$', 0), (b'%', 0), (b\"'\", 0), (b'9', 0)])\n",
            "(7, [(b'\\xad', 247.54), (b'\\xaa', 184.44), (b'\\xac', 180.35), (b'\\xab', 179.56), (b'\\xe8', 145.4), (b'\\xa9', 134.79), (b'\\xbd', 127.51), (b'\\xaf', 106.91), (b'\\xe4', 91.4), (b'\\xae', 90.39), (b'\\xe3', 89.44), (b'\\xa4', 86.12), (b'\\xb4', 84.24), (b'\\xa8', 84.04), (b'\\xf8', 82.82), (b'\\xe0', 77.02), (b'\\xb3', 70.25), (b'\\xb8', 70.17), (b'\\xf9', 68.48), (b'\\xe5', 66.76), (b'\\xb5', 65.75), (b'\\xb9', 63.4), (b'\\xee', 59.4), (b'\\xb2', 57.83), (b'\\xbe', 54.47), (b'\\xef', 53.44), (b'\\xa3', 52.85), (b'\\xff', 51.16), (b'\\xe9', 30.76), (b'\\xfd', 24.34), (b'\\xe2', 23.4), (b'\\xec', 23.02), (b'\\xfa', 20.58), (b'\\xf3', 15.16), (b'\\xf5', 14.48), (b'\\xe1', 10.98), (b'\\xed', 10.98), (b'\\xf4', 10.82), (b'\\xe6', 7.14), (b'\\xea', 7.14), (b'\\xf1', 6.34), (b'\\xe7', 4.02), (b'\\xeb', 4.02), (b'\\xf6', 2.58), (b'\\xf7', 2.56), (b'\\xfb', 2.56), (b'\\xf0', 0.4), (b'\\xfc', 0.4)])\n",
            "(8, [(b'\\x04', 329.48), (b'A', 174.96), (b'\\x00', 170.64), (b'\\x06', 157.85), (b'\\x02', 151.85), (b'/', 136.55), (b'\\r', 130.6), (b'-', 130.6), (b'\\x05', 128.36), (b'E', 123.0), (b')', 122.44), (b'\\x0e', 121.32), (b'.', 121.32), (b'\\x08', 118.44), (b'(', 118.44), (b'J', 111.9), (b'\\x03', 111.39), (b'\\x11', 109.47), (b'\\x0b', 103.1), (b'\\n', 102.89), (b'\\x07', 99.58), (b'P', 95.7), (b'\\x19', 90.54), (b'\\x01', 89.17), (b'H', 86.94), (b'V', 81.48), (b'C', 68.82), (b'M', 63.24), (b'\\x1d', 61.22), (b'K', 60.96), (b'\\x1b', 60.41), (b'I', 54.06), (b'G', 45.24), (b'@', 38.28), (b'L', 36.0), (b'W', 34.44), (b'S', 25.74), (b'O', 24.6), (b'Q', 21.78), (b'T', 19.02), (b'F', 12.42), (b'B', 10.86), (b']', 10.68), (b'R', 6.06), (b'\\\\', 1.74), (b'^', 1.62), (b'N', 1.2), (b'U', 1.2), (b'D', 0), (b'X', 0), (b'Y', 0), (b'Z', 0), (b'_', 0)])\n",
            "(9, [(b'\\x1c', 310.33), (b'\\x1a', 197.35), (b'\\x1b', 177.89), (b'Y', 171.34), (b'\\x1d', 170.72), (b'\\x00', 148.48), (b'T', 144.38), (b'\\x18', 143.95), (b'\\x07', 142.69), (b'H', 125.04), (b'\\x15', 119.87), (b'\\x16', 108.41), (b'U', 102.86), (b'\\t', 95.56), (b'R', 89.32), (b'\\x1e', 77.85), (b'\\x14', 74.06), (b'N', 73.9), (b'\\x1f', 67.37), (b'\\x13', 65.08), (b'\\x12', 64.26), (b']', 63.51), (b'\\x0e', 60.35), (b'S', 58.34), (b'\\x0f', 57.9), (b'\\x19', 57.64), (b'[', 49.45), (b'\\x03', 46.02), (b'^', 35.0), (b'\\x05', 33.93), (b'_', 29.86), (b'\\x08', 29.16), (b'P', 27.45), (b'Q', 23.55), (b'I', 19.93), (b'X', 19.9), (b'L', 15.85), (b'E', 12.53), (b'Z', 9.25), (b'D', 8.4), (b'W', 7.97), (b'B', 7.58), (b'K', 6.45), (b'\\\\', 5.49), (b'J', 5.32), (b'@', 3.17), (b'V', 2.81), (b'F', 2.36), (b'G', 1.29), (b'M', 1.0), (b'A', 0.2)])\n",
            "(10, [(b'~', 368.23), (b'?', 226.8), (b';', 181.83), (b'z', 148.38), (b'0', 139.23), (b'*', 119.97), (b'1', 119.83), (b'y', 119.1), (b's', 113.84), (b'\\x7f', 112.6), (b'x', 103.69), (b'|', 94.99), (b'7', 92.97), (b'm', 92.93), (b'k', 89.35), (b'-', 88.09), (b':', 85.26), (b'+', 83.8), (b'q', 83.78), (b'p', 80.07), (b'h', 78.72), (b'{', 77.18), (b'b', 77.03), (b'}', 74.6), (b'c', 73.74), (b'2', 69.99), (b'6', 69.32), (b'f', 63.43), (b'j', 63.09), (b'=', 59.97), (b'g', 53.24), (b'3', 51.31), (b'(', 47.31), (b'a', 42.79), (b'<', 41.09), (b'.', 36.16), (b')', 35.63), (b'8', 29.51), (b'9', 27.37), (b\"'\", 26.53), (b'5', 19.4), (b'4', 7.68), (b' ', 7.52), (b'>', 5.48), (b'$', 4.26), (b'#', 3.44), (b'/', 3.21), (b'%', 1.01), (b'\"', 0.2)])\n",
            "(11, [(b'L', 318.21), (b'J', 155.89), (b'\\t', 150.82), (b'\\x05', 143.48), (b'K', 138.31), (b'M', 136.58), (b'H', 129.69), (b'\\x1e', 114.64), (b'D', 113.48), (b'\\r', 107.01), (b'N', 105.14), (b'F', 103.37), (b'_', 91.95), (b'O', 90.42), (b'I', 84.55), (b'B', 81.82), (b'\\x03', 79.82), (b'Y', 79.37), (b'\\x18', 73.89), (b'\\x02', 73.27), (b'S', 70.0), (b'\\x01', 68.58), (b'C', 68.43), (b'\\x04', 63.38), (b'\\x0f', 61.48), (b'\\x0e', 59.21), (b'\\x0b', 56.86), (b'X', 54.21), (b'\\x08', 48.04), (b'\\x1a', 44.35), (b'\\x00', 43.92), (b'\\n', 32.68), (b'\\x19', 30.82), (b'\\x1c', 25.36), (b'\\x15', 17.87), (b'\\x07', 11.27), (b'\\x1b', 10.32), (b'\\x14', 9.27), (b'\\x12', 7.58), (b'\\x0c', 5.49), (b'\\x06', 3.41), (b'\\x10', 3.17), (b'\\x16', 3.17), (b'\\x1d', 1.6), (b'\\x17', 1.29), (b'\\x11', 0.2)])\n",
            "(12, [(b'j', 378.97), (b'/', 219.6), (b'+', 157.0), (b'$', 156.5), (b'A', 149.8), (b'a', 149.8), (b'n', 144.89), (b'F', 143.87), (b'f', 143.87), (b'G', 135.07), (b'g', 135.07), (b'k', 134.29), (b'l', 131.83), (b'#', 129.4), (b'm', 127.33), (b'@', 124.31), (b'b', 119.22), (b'h', 112.47), (b'C', 104.61), (b'e', 103.03), (b'%', 89.6), (b'o', 84.51), (b'd', 78.11), (b'i', 77.75), (b'8', 75.8), (b'&', 72.9), (b'.', 69.8), (b'>', 69.5), (b'\"', 66.0), (b'\\x7f', 63.98), (b')', 63.4), (b'9', 57.4), (b'?', 54.3), (b\"'\", 48.1), (b'~', 44.09), (b'-', 42.7), (b's', 42.03), (b'(', 38.7), (b'u', 32.75), (b':', 31.7), (b'<', 28.1), (b',', 18.1), (b'3', 17.8), (b'=', 12.9), (b'!', 11.0), (b'2', 2.9), (b'0', 2.7), (b' ', 2.0), (b';', 2.0), (b'*', 0), (b'1', 0), (b'4', 0), (b'6', 0), (b'7', 0)])\n",
            "(13, [(b\"'\", 320.33), (b'!', 192.89), (b'&', 162.85), (b'u', 153.48), (b' ', 153.42), (b'\\r', 132.03), (b'-', 132.03), (b'\\x0c', 118.44), (b'\\n', 116.61), (b'h', 114.96), (b'%', 114.87), (b'#', 113.53), (b'\\x0b', 108.97), (b'f', 105.0), (b'4', 103.45), (b'b', 102.96), (b')', 99.44), (b's', 95.7), (b'i', 93.9), (b'2', 83.76), (b'n', 81.24), (b'\"', 79.98), (b'$', 78.43), (b'(', 77.27), (b'\\x0e', 68.14), (b'.', 68.14), (b'd', 63.24), (b'5', 56.43), (b'c', 56.28), (b'8', 55.51), (b'o', 54.0), (b't', 52.44), (b'>', 46.12), (b'k', 32.94), (b'`', 32.82), (b'e', 30.42), (b'p', 25.74), (b'l', 24.6), (b'r', 21.78), (b'w', 19.02), (b'j', 18.06), (b'a', 10.86), (b'~', 10.68), (b'q', 6.06), (b'\\x7f', 1.74), (b'}', 1.62), (b'm', 1.2), (b'v', 1.2), (b'g', 0), (b'y', 0), (b'z', 0), (b'{', 0), (b'|', 0)])\n",
            "(14, [(b'U', 310.27), (b'\\x10', 195.48), (b'Q', 186.1), (b'S', 174.15), (b'y', 165.12), (b'R', 144.82), (b'T', 143.69), (b'\\x7f', 137.59), (b'N', 127.85), (b'H', 119.22), (b'W', 111.37), (b'~', 107.43), (b'@', 101.77), (b'V', 100.17), (b'x', 99.54), (b'|', 98.82), (b'\\x1c', 94.62), (b'P', 88.94), (b'[', 81.89), (b'\\x14', 79.5), (b'\\x01', 74.85), (b'M', 73.17), (b'J', 71.22), (b'Z', 64.57), (b'A', 62.39), (b'\\x07', 58.74), (b'\\x1a', 57.48), (b'\\x06', 53.22), (b'\\x00', 46.89), (b'\\x18', 45.03), (b'\\x02', 39.87), (b'\\x1b', 37.95), (b'\\x19', 34.47), (b'\\x16', 31.62), (b'\\x1d', 27.0), (b'\\x13', 23.43), (b'\\x03', 21.03), (b'\\x11', 10.14), (b'\\x05', 9.51), (b'\\x12', 7.41), (b'\\x17', 6.21), (b'\\x0c', 5.34), (b'\\x1e', 3.3), (b'\\r', 0.87), (b'\\x0f', 0.81), (b'\\x04', 0.6), (b'\\x1f', 0.6), (b'\\x08', 0), (b'\\t', 0), (b'\\x0b', 0), (b'\\x0e', 0), (b'\\x15', 0)])\n",
            "(15, [(b'A', 327.24), (b'@', 150.03), (b'\\x04', 146.28), (b'F', 139.62), (b']', 133.86), (b'E', 106.67), (b'B', 90.36), (b'T', 84.97), (b'C', 82.94), (b'D', 81.89), (b'H', 75.77), (b'\\x05', 70.58), (b'^', 69.28), (b'Y', 69.2), (b'X', 65.24), (b'O', 63.37), (b'U', 45.56), (b'\\x02', 42.97), (b'\\x03', 41.72), (b'\\x01', 3.01)])\n",
            "(16, [(b'\\xed', 313.87), (b'\\xc6', 147.48), (b'\\xec', 145.85), (b'\\xe9', 141.97), (b'\\xa8', 138.96), (b'\\xef', 138.27), (b'\\xe5', 136.75), (b'\\xac', 123.0), (b'\\xf1', 122.38), (b'\\xf8', 120.18), (b'\\xea', 118.84), (b'\\xf0', 116.17), (b'\\xc1', 112.52), (b'\\xa3', 111.9), (b'\\xc7', 108.69), (b'\\xe7', 108.69), (b'\\xc4', 105.52), (b'\\xe4', 105.52), (b'\\xaa', 104.82), (b'\\xc0', 103.58), (b'\\xfe', 103.07), (b'\\xbf', 99.48), (b'\\xe2', 90.85), (b'\\xe3', 90.09), (b'\\xbe', 88.44), (b'\\xa4', 81.24), (b'\\xfd', 81.19), (b'\\xb9', 77.7), (b'\\xee', 77.43), (b'\\xf9', 73.86), (b'\\xe8', 72.56), (b'\\xa9', 56.28), (b'\\xa0', 54.06), (b'\\xf2', 53.12), (b'\\xb4', 46.68), (b'\\xa2', 42.96), (b'\\xf4', 36.68), (b'\\xa5', 36.0), (b'\\xa1', 32.94), (b'\\xae', 27.24), (b'\\xb8', 21.78), (b'\\xbd', 19.02), (b'\\xaf', 12.42), (b'\\xab', 10.86), (b'\\xba', 7.74), (b'\\xa6', 6.6), (b'\\xbb', 6.06), (b'\\xb5', 1.74), (b'\\xb7', 1.62), (b'\\xa7', 1.2), (b'\\xbc', 1.2), (b'\\xad', 0), (b'\\xb0', 0), (b'\\xb1', 0), (b'\\xb3', 0), (b'\\xb6', 0)])\n",
            "(17, [(b'\\x85', 351.79), (b'\\xc0', 215.28), (b'\\x81', 146.7), (b'\\x8c', 130.66), (b'\\xac', 130.66), (b'\\xa8', 126.89), (b'\\xae', 123.92), (b'\\x82', 121.09), (b'\\x84', 119.38), (b'\\xc9', 115.92), (b'\\xa9', 111.69), (b'\\x99', 110.91), (b'\\xd1', 109.6), (b'\\xaf', 107.53), (b'\\x87', 106.83), (b'\\xc4', 104.0), (b'\\x9e', 100.05), (b'\\x90', 99.34), (b'\\x86', 97.24), (b'\\xcc', 96.32), (b'\\xcb', 89.2), (b'\\x80', 84.16), (b'\\xd7', 78.64), (b'\\xca', 75.28), (b'\\x8b', 73.59), (b'\\x97', 71.3), (b'\\x8a', 69.29), (b'\\xd6', 63.92), (b'\\xcd', 60.0), (b'\\xc2', 55.76), (b'\\x9c', 54.55), (b'\\x9a', 53.41), (b'\\x91', 47.72), (b'\\xd0', 47.04), (b'\\xd2', 46.32), (b'\\xc6', 36.32), (b'\\xc7', 34.56), (b'\\xdc', 32.24), (b'\\xc1', 27.04), (b'\\xd5', 25.36), (b'\\xc8', 24.08), (b'\\xc3', 14.48), (b'\\xce', 8.8), (b'\\xd3', 8.08), (b'\\xdd', 2.32), (b'\\xdf', 2.16), (b'\\xcf', 1.6), (b'\\xd4', 1.6), (b'\\xc5', 0), (b'\\xd8', 0), (b'\\xd9', 0), (b'\\xdb', 0), (b'\\xde', 0)])\n",
            "(18, [(b'\\xfe', 332.01), (b'\\xbb', 150.12), (b'\\xf9', 143.73), (b'\\xb7', 142.78), (b'\\xd2', 139.27), (b'\\xfa', 139.0), (b'\\xbf', 131.5), (b'\\xd4', 128.97), (b'\\xff', 128.58), (b'\\xe3', 114.61), (b'\\xd5', 101.92), (b'\\xfb', 100.13), (b'\\xd3', 99.35), (b'\\xfc', 98.3), (b'\\xeb', 98.08), (b'\\xfd', 97.47), (b'\\xe9', 95.79), (b'\\xb1', 86.12), (b'\\xaa', 84.65), (b'\\xb0', 82.55), (b'\\xf0', 81.73), (b'\\xad', 76.18), (b'\\xed', 75.47), (b'\\xd7', 71.93), (b'\\xf7', 71.93), (b'\\xea', 71.15), (b'\\xac', 71.06), (b'\\xba', 59.66), (b'\\xe6', 58.56), (b'\\xe1', 55.37), (b'\\xbd', 49.78), (b'\\xb8', 48.67), (b'\\xa9', 45.03), (b'\\xab', 43.41), (b'\\xae', 40.19), (b'\\xb3', 39.07), (b'\\xb2', 38.43), (b'\\xa7', 30.46), (b'\\xb6', 21.0), (b'\\xb9', 17.29), (b'\\xbc', 14.49), (b'\\xb5', 7.7), (b'\\xa8', 7.07), (b'\\xa6', 2.03), (b'\\xa4', 1.89), (b'\\xaf', 1.4), (b'\\xb4', 1.4), (b'\\xa0', 0), (b'\\xa2', 0), (b'\\xa3', 0), (b'\\xa5', 0), (b'\\xbe', 0)])\n",
            "(19, [(b'!', 303.19), (b'0', 149.32), (b' ', 147.78), (b'%', 147.71), (b'7', 142.97), (b'&', 140.79), (b'<', 121.4), (b'4', 108.72), (b'+', 107.7), (b'(', 98.62), (b'3', 94.95), (b'9', 91.25), (b'$', 89.47), (b'#', 86.26), (b'\"', 80.41), (b'>', 72.13), (b'/', 68.29), (b'8', 53.21), (b'e', 52.9), (b'.', 51.91), (b'b', 42.48), (b'c', 10.64), (b'a', 0.27)])\n",
            "(20, [(b'L', 336.74), (b'M', 141.85), (b'J', 140.54), (b'K', 138.33), (b'\\x05', 137.99), (b'\\x18', 131.76), (b'\\t', 129.87), (b'\\x1e', 122.35), (b'Q', 120.89), (b'\\x03', 117.72), (b'\\x04', 109.03), (b'\\x02', 106.33), (b'\\r', 103.27), (b'\\x1f', 101.89), (b'\\x00', 97.93), (b'E', 87.66), (b'H', 85.64), (b'D', 76.31), (b'I', 75.79), (b'S', 74.54), (b'N', 73.32), (b'O', 72.1), (b'C', 64.71), (b'\\x0f', 63.69), (b'\\x19', 61.15), (b'T', 59.27), (b'\\x01', 56.69), (b'B', 55.61), (b'Y', 55.52), (b'\\x1c', 39.96), (b'\\n', 37.88), (b'X', 35.83), (b'\\x0b', 24.99), (b'\\x0e', 22.48), (b'\\x16', 22.36), (b'\\x15', 21.68), (b'\\x1b', 21.39), (b'\\x07', 21.12), (b'\\x1a', 20.65), (b'\\x12', 19.66), (b'\\x14', 9.91), (b'\\x1d', 8.85), (b'\\x10', 7.01), (b'\\x06', 5.83), (b'\\x11', 3.88), (b'\\x17', 3.38)])\n",
            "(21, [(b'\\xfd', 270.7), (b'\\xb8', 160.18), (b'\\xfc', 149.44), (b'\\xfa', 139.24), (b'\\xf9', 117.69), (b'\\xb2', 105.18), (b'\\xf4', 98.67), (b'\\xfe', 96.97), (b'\\xf3', 86.37), (b'\\xff', 86.05), (b'\\xf5', 84.06), (b'\\xbc', 73.01), (b'\\xf2', 66.56), (b'\\xe8', 66.34), (b'\\xaf', 66.32), (b'\\xb3', 64.67), (b'\\xf8', 61.73), (b'\\xb4', 59.32), (b'\\xa8', 52.3), (b'\\xb5', 51.38), (b'\\xe9', 51.23), (b'\\xbf', 50.93), (b'\\xe5', 49.91), (b'\\xe2', 48.21), (b'\\xa9', 46.09), (b'\\xbe', 43.32), (b'\\xb1', 39.96), (b'\\xb0', 38.54), (b'\\xb9', 34.52), (b'\\xa4', 28.75), (b'\\xbb', 25.44), (b'\\xad', 12.68), (b'\\xba', 10.98), (b'\\xa5', 8.11), (b'\\xa3', 7.58), (b'\\xb6', 6.87), (b'\\xbd', 5.49), (b'\\xaa', 5.16), (b'\\xab', 4.31), (b'\\xa1', 3.17), (b'\\xb7', 2.61), (b'\\xa7', 2.09), (b'\\xa6', 1.29), (b'\\xac', 0.8), (b'\\xa0', 0.2)])\n",
            "(22, [(b'\\xa7', 259.11), (b'\\xa6', 147.2), (b'\\xbb', 143.64), (b'\\xb1', 127.12), (b'\\xba', 123.0), (b'\\xa0', 117.18), (b'\\xf5', 109.9), (b'\\xe2', 109.8), (b'\\xa3', 101.35), (b'\\xf4', 100.7), (b'\\xb6', 100.5), (b'\\x8d', 95.26), (b'\\xe8', 89.8), (b'\\x8a', 85.72), (b'\\x8c', 82.01), (b'\\xb2', 79.46), (b'\\xe6', 78.5), (b'\\x8b', 76.4), (b'\\x8e', 73.86), (b'\\xae', 73.86), (b'\\xb4', 72.77), (b'\\xf3', 70.75), (b'\\xef', 69.0), (b'\\xa5', 67.96), (b'\\xa4', 67.41), (b'\\xa9', 65.73), (b'\\xb8', 65.28), (b'\\xb3', 63.23), (b'\\xf2', 54.15), (b'\\xa2', 53.48), (b'\\xfe', 44.9), (b'\\xbe', 40.01), (b'\\xee', 37.7), (b'\\xe3', 34.9), (b'\\xe9', 33.25), (b'\\xea', 33.05), (b'\\xe0', 30.35), (b'\\xa8', 30.33), (b'\\xeb', 27.45), (b'\\xf0', 24.45), (b'\\xe4', 22.7), (b'\\xf7', 15.85), (b'\\xe5', 10.35), (b'\\xe1', 9.05), (b'\\xec', 5.5), (b'\\xf1', 5.05), (b'\\xff', 1.45), (b'\\xfd', 1.35), (b'\\xed', 1.0), (b'\\xf6', 1.0), (b'\\xe7', 0), (b'\\xf9', 0), (b'\\xfa', 0), (b'\\xfb', 0), (b'\\xfc', 0)])\n",
            "(23, [(b'\\x0e', 300.84), (b'K', 150.12), (b'\\x08', 150.02), (b'\\x0f', 139.62), (b'\\x04', 122.38), (b'$', 122.38), (b'\\x13', 113.77), (b'\\t', 113.3), (b']', 112.18), (b'\\\\', 107.06), (b'G', 106.78), (b'\"', 104.42), (b'A', 104.12), (b'%', 93.43), (b'#', 82.91), (b'\\x0c', 77.65), (b'\\n', 75.86), (b'\\x06', 71.29), (b'M', 67.78), (b'Z', 66.65), (b'@', 64.55), (b'\\x07', 63.67), (b\"'\", 63.67), (b'J', 59.66), (b'\\x0b', 59.52), (b'O', 59.5), (b'\\r', 58.47), (b'B', 56.43), (b'\\x00', 55.42), (b'\\x11', 53.23), (b'\\x1b', 48.42), (b'\\x1c', 47.29), (b'\\x10', 47.26), (b'F', 39.0), (b'\\x01', 37.92), (b'I', 35.29), (b'\\x1a', 31.33), (b'[', 25.41), (b'\\x17', 25.31), (b'^', 22.19), (b'C', 21.07), (b'L', 14.49), (b'H', 12.67), (b'W', 12.46), (b'Y', 9.03), (b'E', 7.7), (b'X', 7.07), (b'V', 2.03), (b'T', 1.89), (b'D', 1.4), (b'_', 1.4), (b'N', 0), (b'P', 0), (b'R', 0), (b'S', 0), (b'U', 0)])\n",
            "(24, [(b'`', 251.26), (b'a', 132.78), (b'g', 125.83), (b'%', 113.72), (b'!', 112.02), (b'|', 111.4), (b'd', 109.87), (b'}', 103.86), (b'.', 102.74), (b'f', 102.24), (b')', 88.48), (b'r', 86.66), (b'j', 86.28), (b'b', 79.6), (b'c', 74.87), (b'e', 74.4), (b'u', 73.01), (b'i', 68.97), (b'/', 55.72), (b'\\x7f', 55.55), (b'$', 55.52), (b'n', 51.71), (b'2', 48.32), (b'4', 46.38), (b't', 44.91), (b'x', 44.32), (b',', 39.96), (b'y', 36.8), (b'(', 36.76), (b'#', 32.48), (b'0', 30.68), (b'-', 29.04), (b'7', 23.16), (b'\"', 21.58), (b'5', 18.08), (b'>', 15.16), (b'8', 15.06), (b'9', 14.38), (b\"'\", 12.08), (b' ', 10.98), (b'+', 9.34), (b'&', 7.64), (b'<', 6.34), (b'6', 4.58), (b'*', 4.42), (b':', 3.1), (b';', 2.58), (b'1', 0.8), (b'=', 0.4)])\n",
            "(25, [(b'Q', 217.48), (b'\\x1e', 130.75), (b'_', 126.79), (b'P', 120.73), (b'\\x14', 114.2), (b'Z', 108.24), (b'\\x1d', 91.02), (b'\\x1f', 90.88), (b'W', 89.25), (b'X', 88.44), (b'V', 83.57), (b'M', 83.38), (b'S', 82.63), (b'\\x03', 81.44), (b'R', 78.39), (b'\\x10', 71.41), (b']', 69.86), (b'Y', 62.05), (b'\\x16', 60.51), (b'U', 60.0), (b'T', 59.82), (b'G', 57.85), (b'\\x18', 55.16), (b'O', 54.0), (b'\\x1a', 53.31), (b'^', 52.74), (b'\\x1c', 52.22), (b'\\x13', 52.09), (b'\\x19', 45.98), (b'N', 43.52), (b'\\x05', 42.99), (b'\\x04', 42.8), (b'\\x0b', 37.65), (b'\\x12', 35.03), (b'\\r', 32.79), (b'H', 32.63), (b'\\x02', 31.7), (b'D', 30.16), (b'E', 29.27), (b'\\x11', 26.6), (b'\\x0c', 24.77), (b'\\x0f', 23.84), (b'\\x17', 21.05), (b'\\x06', 19.06), (b'\\x01', 16.95), (b'\\x08', 16.13), (b'\\x1b', 14.72), (b'\\n', 14.52), (b'\\t', 10.03), (b'\\x07', 9.22)])\n",
            "(26, [(b'l', 169.85), (b'F', 116.96), (b'f', 116.96), (b'o', 114.07), (b'k', 106.84), (b'm', 106.77), (b'G', 94.18), (b'#', 86.32), (b'E', 84.62), (b'e', 84.62), (b'A', 79.82), (b'a', 79.82), (b'j', 79.75), (b')', 76.32), (b'h', 75.64), (b'n', 75.55), (b'@', 72.63), (b'i', 72.46), (b'p', 71.57), (b'b', 68.01), (b'y', 63.55), (b'~', 59.19), (b'*', 57.62), (b'{', 54.57), (b'\"', 49.3), (b's', 48.47), (b' ', 46.98), (b'x', 45.83), (b'(', 42.76), (b't', 40.08), (b'-', 35.0), (b'%', 33.08), (b'8', 31.9), (b'?', 29.48), (b'<', 24.34), (b'.', 22.14), (b';', 20.58), (b'>', 15.16), (b'/', 9.08), (b'9', 7.26), (b'!', 6.02), (b'$', 6.0), (b'+', 4.94), (b'5', 3.56), (b\"'\", 2.2), (b':', 2.02), (b'4', 0.58), (b'6', 0.54), (b'&', 0.4), (b'=', 0.4), (b',', 0), (b'0', 0), (b'1', 0), (b'2', 0), (b'7', 0)])\n",
            "(27, [(b'\\xdd', 156.09), (b'\\xdc', 92.78), (b'\\xc1', 85.41), (b'\\x93', 84.74), (b'\\xd1', 77.7), (b'\\xda', 74.65), (b'\\xc7', 72.44), (b'\\xc0', 68.79), (b'\\x8f', 66.32), (b'\\xdf', 65.64), (b'\\x9c', 65.18), (b'\\x92', 64.22), (b'\\x98', 60.82), (b'\\xd3', 58.66), (b'\\x95', 56.57), (b'\\x9a', 55.62), (b'\\x94', 54.95), (b'\\x88', 54.08), (b'\\xd4', 52.08), (b'\\x90', 51.58), (b'\\xd2', 47.81), (b'\\xd5', 47.15), (b'\\x89', 46.65), (b'\\xce', 46.06), (b'\\xd9', 46.05), (b'\\xc9', 44.5), (b'\\xc8', 41.8), (b'\\xde', 38.65), (b'\\x99', 37.72), (b'\\xd8', 37.66), (b'\\xcb', 36.99), (b'\\x9e', 35.49), (b'\\x84', 33.67), (b'\\xc4', 28.71), (b'\\x9f', 27.07), (b'\\x91', 24.03), (b'\\xc2', 23.84), (b'\\x96', 20.5), (b'\\x83', 18.33), (b'\\x9d', 17.63), (b'\\x85', 16.07), (b'\\x81', 13.92), (b'\\x8d', 12.68), (b'\\x9b', 10.64), (b'\\x87', 10.05), (b'\\x97', 7.8), (b'\\x8a', 6.94), (b'\\x86', 6.21), (b'\\x80', 6.14), (b'\\x8b', 4.87)])\n",
            "(28, [(b'4', 135.37), (b'2', 98.77), (b'#', 92.88), (b'%', 83.2), (b'5', 69.99), (b')', 68.13), (b'0', 62.93), (b'!', 62.76), (b'3', 61.18), (b'>', 53.04), (b\"'\", 52.68), (b'(', 50.78), (b'<', 49.66), (b'6', 48.95), (b'$', 48.5), (b'=', 38.54), (b'1', 29.1), (b'&', 27.36), (b'*', 26.49), (b':', 25.43), (b'7', 24.51), (b' ', 23.35), (b'+', 21.5), (b'-', 18.87), (b';', 11.52), (b'w', 6.61), (b'v', 4.14), (b't', 0.27)])\n",
            "(29, [(b',', 90.88), (b'd', 62.19), (b'(', 60.17), (b'-', 57.07), (b'i', 55.8), (b'm', 54.67), (b' ', 54.6), (b'*', 53.57), (b'+', 50.69), (b'%', 47.96), (b'0', 41.93), (b'\"', 40.42), (b'1', 33.69), (b'&', 33.05), (b'9', 31.41), (b'#', 30.71), (b'?', 29.44), (b'$', 28.67), (b':', 27.38), (b')', 26.88), (b'b', 26.72), (b'.', 26.1), (b'~', 25.58), (b'x', 25.51), (b'h', 24.58), (b'e', 21.17), (b'<', 20.93), (b'c', 20.2), (b'4', 19.77), (b'/', 18.03), (b'>', 17.69), (b'a', 16.05), (b'g', 14.73), (b'o', 14.71), (b'n', 14.21), (b'8', 12.91), (b'l', 12.14), (b'k', 11.11), (b'p', 10.75), (b'r', 10.75), (b'3', 8.72), (b't', 8.25), (b'v', 8.23), (b'`', 7.56), (b'u', 6.7), (b'5', 6.58), (b'q', 5.94), (b'y', 5.41), (b'f', 5.39), (b'j', 5.01), (b'w', 4.92), (b'|', 3.17), (b'{', 3.07), (b'z', 1.57)])\n",
            "(30, [(b'V', 60.3), (b'\\x1f', 52.9), (b'J', 50.88), (b'\\x0f', 44.17), (b'K', 41.17), (b'\\\\', 40.04), (b'A', 38.16), (b'Q', 37.67), (b'F', 33.82), (b'M', 33.09), (b'[', 32.98), (b'W', 31.71), (b'R', 27.68), (b'C', 27.63), (b'\\x18', 27.02), (b'^', 25.23), (b'N', 25.0), (b'\\x02', 24.94), (b'_', 20.06), (b'\\t', 16.9), (b'D', 15.09), (b'Y', 14.54), (b'H', 13.9), (b'T', 13.84), (b'S', 13.29), (b'I', 12.97), (b'U', 12.03), (b'\\x08', 10.96), (b'\\x1e', 10.96), (b'O', 10.84), (b'X', 9.99), (b'\\r', 9.79), (b'\\x1b', 9.79), (b'B', 9.16), (b'\\x0e', 9.02), (b'\\x03', 8.94), (b'\\x15', 8.94), (b'\\x19', 8.17), (b'\\x14', 6.94), (b'\\x00', 5.76), (b'\\x16', 5.76), (b'E', 5.43), (b'\\n', 4.98), (b'\\x1c', 4.98), (b'\\x01', 3.01), (b'\\x17', 3.01), (b'\\x04', 3.0), (b'\\x12', 3.0), (b'\\x0b', 2.67), (b'\\x1d', 2.67), (b'\\x07', 1.1), (b'\\x11', 1.1), (b'\\x0c', 1.01), (b'\\x1a', 1.01), (b'\\x06', 0.2), (b'\\x10', 0.2)])\n",
            "(31, [(b'\\x86', 39.58), (b'\\xc2', 37.15), (b'\\xc3', 37.06), (b'\\xd4', 26.61), (b'\\xc9', 25.77), (b'\\x8c', 24.65), (b'\\x91', 23.74), (b'\\xc5', 23.57), (b'\\xcf', 19.62), (b'\\xc7', 19.11), (b'\\xc8', 18.46), (b'\\xd2', 18.44), (b'\\xcc', 18.4), (b'\\xd5', 16.64), (b'\\xdf', 15.95), (b'\\x83', 15.66), (b'\\x8d', 15.66), (b'\\xde', 15.32), (b'\\xd8', 14.49), (b'\\xca', 12.79), (b'\\x87', 12.26), (b'\\x89', 12.26), (b'\\xc1', 11.12), (b'\\xc4', 10.77), (b'\\xcd', 10.7), (b'\\xd0', 10.52), (b'\\x85', 10.01), (b'\\x8b', 10.01), (b'\\xc0', 9.31), (b'\\xd6', 9.08), (b'\\xcb', 8.76), (b'\\x90', 7.58), (b'\\x9e', 7.58), (b'\\x80', 7.56), (b'\\x8e', 7.56), (b'\\x81', 7.55), (b'\\x8f', 7.55), (b'\\x96', 7.22), (b'\\x98', 7.22), (b'\\xdc', 6.72), (b'\\x82', 6.65), (b'\\x9f', 5.74), (b'\\xdd', 5.69), (b'\\x84', 4.81), (b'\\x8a', 4.81), (b'\\x97', 3.63), (b'\\x99', 3.63), (b'\\x88', 3.58), (b'\\x92', 3.17), (b'\\x9c', 3.17), (b'\\x95', 3.07), (b'\\x9b', 3.07), (b'\\xd1', 2.58), (b'\\xd7', 2.21), (b'\\xda', 2.11), (b'\\xc6', 1.49), (b'\\xdb', 1.49), (b'\\x94', 1.3), (b'\\x9a', 1.3)])\n",
            "(32, [(b'\\xf6', 24.38), (b'\\xb2', 21.38), (b'\\xbe', 21.0), (b'\\xdb', 18.7), (b'\\xf7', 18.7), (b'\\xfb', 18.7), (b'\\xdd', 11.7), (b'\\xf1', 11.7), (b'\\xfd', 11.7), (b'\\xdf', 11.51), (b'\\xf3', 11.51), (b'\\xff', 11.51), (b'\\xb3', 11.16), (b'\\xdc', 8.72), (b'\\xf0', 8.72), (b'\\xfc', 8.72), (b'\\xb7', 8.5), (b'\\xa4', 7.58), (b'\\xe0', 7.58), (b'\\xec', 7.58), (b'\\xbf', 7.54), (b'\\xe6', 7.24), (b'\\xea', 7.24), (b'\\xb9', 7.16), (b'\\xa2', 6.95), (b'\\xb8', 6.65), (b'\\xda', 6.38), (b'\\xfa', 6.38), (b'\\xa5', 5.74), (b'\\xba', 5.49), (b'\\xf2', 5.49), (b'\\xfe', 5.49), (b'\\xe7', 5.41), (b'\\xeb', 5.41), (b'\\xb5', 4.54), (b'\\xa3', 3.63), (b'\\xf5', 3.57), (b'\\xf9', 3.57), (b'\\xa6', 3.17), (b'\\xe2', 3.17), (b'\\xee', 3.17), (b'\\xbb', 3.01), (b'\\xb1', 2.47), (b'\\xb4', 2.07), (b'\\xf4', 2.01), (b'\\xf8', 2.01), (b'\\xb0', 1.81), (b'\\xaf', 1.78), (b'\\xa1', 1.29), (b'\\xe5', 1.29), (b'\\xe9', 1.29), (b'\\xe4', 1.28), (b'\\xe8', 1.28), (b'\\xbd', 1.1), (b'\\xa0', 1.01), (b'\\xae', 0.29), (b'\\xac', 0.27), (b'\\xa7', 0.2), (b'\\xbc', 0.2), (b'\\xe3', 0.2), (b'\\xef', 0.2), (b'\\xa8', 0), (b'\\xaa', 0), (b'\\xab', 0), (b'\\xad', 0), (b'\\xb6', 0)])\n",
            "(33, [(b'\\xb3', 25.83), (b'\\xfa', 25.54), (b'\\xeb', 18.29), (b'\\x9f', 18.11), (b'\\xae', 18.11), (b'\\xbf', 18.11), (b'\\x99', 12.12), (b'\\xa8', 12.12), (b'\\xb9', 12.12), (b'\\xaa', 11.67), (b'\\xbb', 11.67), (b'\\xf6', 11.16), (b'\\xf2', 8.5), (b'\\xa2', 7.83), (b'\\x98', 7.81), (b'\\xa9', 7.81), (b'\\xb8', 7.81), (b'\\xe1', 7.58), (b'\\xa4', 7.16), (b'\\xb5', 7.16), (b'\\xfc', 7.16), (b'\\x9e', 7.01), (b'\\xaf', 7.01), (b'\\xbe', 7.01), (b'\\xe7', 6.95), (b'\\xfd', 6.65), (b'\\xe0', 5.74), (b'\\xa7', 5.49), (b'\\xb6', 5.49), (b'\\xff', 5.49), (b'\\xa3', 4.78), (b'\\xb2', 4.78), (b'\\xf0', 4.54), (b'\\xe6', 3.63), (b'\\xac', 3.48), (b'\\xbd', 3.48), (b'\\xf7', 3.38), (b'\\xe3', 3.17), (b'\\xad', 3.1), (b'\\xbc', 3.1), (b'\\xa6', 3.01), (b'\\xb7', 3.01), (b'\\xfe', 3.01), (b'\\xfb', 3.0), (b'\\xf4', 2.47), (b'\\xf1', 2.07), (b'\\xf5', 1.81), (b'\\xea', 1.78), (b'\\xa0', 1.37), (b'\\xb1', 1.37), (b'\\xe4', 1.29), (b'\\xf8', 1.1), (b'\\xe5', 1.01), (b'\\xe9', 0.27), (b'\\x9a', 0.2), (b'\\xa1', 0.2), (b'\\xab', 0.2), (b'\\xb0', 0.2), (b'\\xba', 0.2), (b'\\xe2', 0.2), (b'\\xf9', 0.2), (b'\\xe8', 0), (b'\\xed', 0), (b'\\xee', 0), (b'\\xef', 0), (b'\\xf3', 0)])\n",
            "(34, [(b'\\x83', 18), (b'\\x97', 18), (b'\\xc2', 12.13), (b'\\xd6', 12.13), (b'\\xe2', 12.13), (b'\\xf6', 12.13), (b'\\xc6', 11.36), (b'\\xd2', 11.36), (b'\\xe6', 11.36), (b'\\xf2', 11.36), (b'\\xc5', 9.39), (b'\\xd1', 9.39), (b'\\xe5', 9.39), (b'\\xf1', 9.39), (b'\\xc4', 8.21), (b'\\xd0', 8.21), (b'\\xe4', 8.21), (b'\\xf0', 8.21), (b'\\xca', 7.54), (b'\\xde', 7.54), (b'\\xea', 7.54), (b'\\xfe', 7.54), (b'\\xcc', 7.16), (b'\\xd8', 7.16), (b'\\xec', 7.16), (b'\\xf8', 7.16), (b'\\xc3', 6.95), (b'\\xd7', 6.95), (b'\\xe3', 6.95), (b'\\xf7', 6.95), (b'\\xcd', 6.92), (b'\\xd9', 6.92), (b'\\xed', 6.92), (b'\\xf9', 6.92), (b'\\xc7', 6.55), (b'\\xd3', 6.55), (b'\\xe7', 6.55), (b'\\xf3', 6.55), (b'\\xc0', 5.83), (b'\\xd4', 5.83), (b'\\xe0', 5.83), (b'\\xf4', 5.83), (b'\\xcf', 5.78), (b'\\xdb', 5.78), (b'\\xef', 5.78), (b'\\xfb', 5.78), (b'\\xce', 4.79), (b'\\xda', 4.79), (b'\\xee', 4.79), (b'\\xfa', 4.79), (b'\\xc1', 3.08), (b'\\xd5', 3.08), (b'\\xe1', 3.08), (b'\\xf5', 3.08), (b'\\xcb', 3.0), (b'\\xdf', 3.0), (b'\\xeb', 3.0), (b'\\xff', 3.0), (b'\\xe8', 1.1), (b'\\xfc', 1.1), (b'\\xc9', 0.2), (b'\\xdd', 0.2), (b'\\xe9', 0.2), (b'\\xfd', 0.2), (b'\\x80', 0), (b'\\x81', 0), (b'\\x82', 0), (b'\\x84', 0), (b'\\x85', 0), (b'\\x86', 0), (b'\\x87', 0), (b'\\x88', 0), (b'\\x89', 0), (b'\\x8a', 0), (b'\\x8b', 0), (b'\\x8c', 0), (b'\\x8d', 0), (b'\\x8e', 0), (b'\\x8f', 0), (b'\\x90', 0), (b'\\x91', 0), (b'\\x92', 0), (b'\\x93', 0), (b'\\x94', 0), (b'\\x95', 0), (b'\\x96', 0), (b'\\x98', 0), (b'\\x99', 0), (b'\\x9a', 0), (b'\\x9b', 0), (b'\\x9c', 0), (b'\\x9d', 0), (b'\\x9e', 0), (b'\\x9f', 0)])\n",
            "(35, [(b'L', 18), (b'Z', 18), (b'\\t', 16.9), (b'\\x1f', 16.9), (b')', 16.9), (b'?', 16.9), (b'\\x08', 10.96), (b'\\x1e', 10.96), (b'(', 10.96), (b'>', 10.96), (b'\\r', 9.79), (b'\\x1b', 9.79), (b'-', 9.79), (b';', 9.79), (b'\\x0e', 9.02), (b'\\x18', 9.02), (b'.', 9.02), (b'8', 9.02), (b'\\x03', 8.94), (b'\\x15', 8.94), (b'#', 8.94), (b'5', 8.94), (b'\\x0f', 8.17), (b'\\x19', 8.17), (b'/', 8.17), (b'9', 8.17), (b'%', 7.54), (b'3', 7.54), (b'\\x02', 6.94), (b'\\x14', 6.94), (b'\"', 6.94), (b'4', 6.94), (b'\\x00', 5.76), (b'\\x16', 5.76), (b' ', 5.76), (b'6', 5.76), (b'\\n', 4.98), (b'\\x1c', 4.98), (b'*', 4.98), (b'<', 4.98), (b'\\x01', 3.01), (b'\\x17', 3.01), (b'!', 3.01), (b'7', 3.01), (b'\\x04', 3.0), (b'\\x12', 3.0), (b'$', 3.0), (b'2', 3.0), (b'\\x0b', 2.67), (b'\\x1d', 2.67), (b'+', 2.67), (b'=', 2.67), (b'\\x07', 1.1), (b'\\x11', 1.1), (b\"'\", 1.1), (b'1', 1.1), (b'\\x0c', 1.01), (b'\\x1a', 1.01), (b',', 1.01), (b':', 1.01), (b'\\x06', 0.2), (b'\\x10', 0.2), (b'&', 0.2), (b'0', 0.2), (b'@', 0), (b'A', 0), (b'B', 0), (b'C', 0), (b'D', 0), (b'E', 0), (b'F', 0), (b'G', 0), (b'H', 0), (b'I', 0), (b'J', 0), (b'K', 0), (b'M', 0), (b'N', 0), (b'O', 0), (b'P', 0), (b'Q', 0), (b'R', 0), (b'S', 0), (b'T', 0), (b'U', 0), (b'V', 0), (b'W', 0), (b'X', 0), (b'Y', 0), (b'[', 0), (b'\\\\', 0), (b']', 0), (b'^', 0), (b'_', 0)])\n",
            "(36, [(b'\\x80', 18), (b'\\xc5', 11.16), (b'\\xe5', 11.16), (b'\\xc1', 8.5), (b'\\xe1', 8.5), (b'\\xd2', 7.58), (b'\\xf2', 7.58), (b'\\xc9', 7.54), (b'\\xe9', 7.54), (b'\\xcf', 7.16), (b'\\xef', 7.16), (b'\\xd4', 6.95), (b'\\xf4', 6.95), (b'\\xce', 6.65), (b'\\xee', 6.65), (b'\\xd3', 5.74), (b'\\xf3', 5.74), (b'\\xcc', 5.49), (b'\\xec', 5.49), (b'\\xc3', 4.54), (b'\\xe3', 4.54), (b'\\xd5', 3.63), (b'\\xf5', 3.63), (b'\\xc4', 3.38), (b'\\xe4', 3.38), (b'\\xd0', 3.17), (b'\\xf0', 3.17), (b'\\xcd', 3.01), (b'\\xed', 3.01), (b'\\xc8', 3.0), (b'\\xe8', 3.0), (b'\\xc7', 2.47), (b'\\xe7', 2.47), (b'\\xc2', 2.07), (b'\\xe2', 2.07), (b'\\xc6', 1.81), (b'\\xe6', 1.81), (b'\\xd9', 1.78), (b'\\xf9', 1.78), (b'\\xd7', 1.29), (b'\\xf7', 1.29), (b'\\xcb', 1.1), (b'\\xeb', 1.1), (b'\\xd6', 1.01), (b'\\xf6', 1.01), (b'\\xd8', 0.29), (b'\\xf8', 0.29), (b'\\xda', 0.27), (b'\\xfa', 0.27), (b'\\xca', 0.2), (b'\\xd1', 0.2), (b'\\xea', 0.2), (b'\\xf1', 0.2), (b'\\x81', 0), (b'\\x82', 0), (b'\\x83', 0), (b'\\x84', 0), (b'\\x85', 0), (b'\\x86', 0), (b'\\x87', 0), (b'\\x88', 0), (b'\\x89', 0), (b'\\x8a', 0), (b'\\x8b', 0), (b'\\x8c', 0), (b'\\x8d', 0), (b'\\x8e', 0), (b'\\x8f', 0), (b'\\x90', 0), (b'\\x91', 0), (b'\\x92', 0), (b'\\x93', 0), (b'\\x94', 0), (b'\\x95', 0), (b'\\x96', 0), (b'\\x97', 0), (b'\\x98', 0), (b'\\x99', 0), (b'\\x9a', 0), (b'\\x9b', 0), (b'\\x9c', 0), (b'\\x9d', 0), (b'\\x9e', 0), (b'\\x9f', 0), (b'\\xa9', 0), (b'\\xaa', 0), (b'\\xab', 0), (b'\\xac', 0), (b'\\xad', 0), (b'\\xc0', 0), (b'\\xdb', 0), (b'\\xdc', 0), (b'\\xdd', 0), (b'\\xde', 0), (b'\\xe0', 0), (b'\\xfb', 0), (b'\\xfc', 0), (b'\\xfd', 0), (b'\\xfe', 0), (b'\\xff', 0)])\n",
            "(37, [(b'\\xf2', 18), (b'\\x97', 11.16), (b'\\xb7', 11.16), (b'\\x93', 8.5), (b'\\xb3', 8.5), (b'\\x80', 7.58), (b'\\xa0', 7.58), (b'\\x9b', 7.54), (b'\\xbb', 7.54), (b'\\x9d', 7.16), (b'\\xbd', 7.16), (b'\\x86', 6.95), (b'\\xa6', 6.95), (b'\\x9c', 6.65), (b'\\xbc', 6.65), (b'\\x81', 5.74), (b'\\xa1', 5.74), (b'\\x9e', 5.49), (b'\\xbe', 5.49), (b'\\x91', 4.54), (b'\\xb1', 4.54), (b'\\x87', 3.63), (b'\\xa7', 3.63), (b'\\x96', 3.38), (b'\\xb6', 3.38), (b'\\x82', 3.17), (b'\\xa2', 3.17), (b'\\x9f', 3.01), (b'\\xbf', 3.01), (b'\\x9a', 3.0), (b'\\xba', 3.0), (b'\\x95', 2.47), (b'\\xb5', 2.47), (b'\\x90', 2.07), (b'\\xb0', 2.07), (b'\\x94', 1.81), (b'\\xb4', 1.81), (b'\\x8b', 1.78), (b'\\xab', 1.78), (b'\\x85', 1.29), (b'\\xa5', 1.29), (b'\\x99', 1.1), (b'\\xb9', 1.1), (b'\\x84', 1.01), (b'\\xa4', 1.01), (b'\\x8a', 0.29), (b'\\xaa', 0.29), (b'\\x88', 0.27), (b'\\xa8', 0.27), (b'\\x83', 0.2), (b'\\x98', 0.2), (b'\\xa3', 0.2), (b'\\xb8', 0.2), (b'\\x89', 0), (b'\\x8c', 0), (b'\\x8d', 0), (b'\\x8e', 0), (b'\\x8f', 0), (b'\\x92', 0), (b'\\xa9', 0), (b'\\xac', 0), (b'\\xae', 0), (b'\\xaf', 0), (b'\\xb2', 0), (b'\\xd8', 0), (b'\\xd9', 0), (b'\\xdb', 0), (b'\\xde', 0), (b'\\xdf', 0), (b'\\xe0', 0), (b'\\xe1', 0), (b'\\xe2', 0), (b'\\xe3', 0), (b'\\xe4', 0), (b'\\xe5', 0), (b'\\xe6', 0), (b'\\xe7', 0), (b'\\xe8', 0), (b'\\xe9', 0), (b'\\xea', 0), (b'\\xeb', 0), (b'\\xec', 0), (b'\\xed', 0), (b'\\xee', 0), (b'\\xef', 0), (b'\\xf0', 0), (b'\\xf1', 0), (b'\\xf3', 0), (b'\\xf4', 0), (b'\\xf5', 0), (b'\\xf6', 0), (b'\\xf7', 0), (b'\\xf8', 0), (b'\\xf9', 0), (b'\\xfa', 0), (b'\\xfb', 0), (b'\\xfc', 0), (b'\\xfd', 0), (b'\\xfe', 0), (b'\\xff', 0)])\n"
          ]
        }
      ],
      "source": [
        "for x in score_for_each_possible_bytes:\n",
        "    print(x)"
      ]
    },
    {
      "cell_type": "code",
      "execution_count": null,
      "metadata": {},
      "outputs": [
        {
          "name": "stdout",
          "output_type": "stream",
          "text": [
            "b'I have met them at close of day'\n",
            "b'Coming with vivid faces'\n",
            "b'From counter or desk among grey'\n",
            "b'Eighteenth-century houses.'\n",
            "b'I have passed with a nod of the heuD'\n",
            "b'Or polite meaningless words,'\n",
            "b'Or have lingered awhile and said'\n",
            "b'Polite meaningless words,'\n",
            "b'And thought before I had done'\n",
            "b'Of a mocking tale or a gibe'\n",
            "b'To please a companion'\n",
            "b'Around the fire at the club,'\n",
            "b'Being certain that they and I'\n",
            "b'But lived where motley is worn:'\n",
            "b'All changed, changed utterly:'\n",
            "b'A terrible beauty is born.'\n",
            "b\"That woman's days were spent\"\n",
            "b'In ignorant good will,'\n",
            "b'Her nights in argument'\n",
            "b'Until her voice grew shrill.'\n",
            "b'What voice more sweet than hers'\n",
            "b'When young and beautiful,'\n",
            "b'She rode to harriers?'\n",
            "b'This man had kept a school'\n",
            "b'And rode our winged horse.'\n",
            "b'This other his helper and friend'\n",
            "b'Was coming into his force;'\n",
            "b'He might have won fame in the end,'\n",
            "b'So sensitive his nature seemed,'\n",
            "b'So daring and sweet his thought.'\n",
            "b'This other man I had dreamed'\n",
            "b'A drunken, vain-glorious lout.'\n",
            "b'He had done most bitter wrong'\n",
            "b'To some who are near my heart,'\n",
            "b'Yet I number him in the song;'\n",
            "b'He, too, has resigned his part'\n",
            "b'In the casual comedy;'\n",
            "b'He, too, has been changed in his taRn^'\n",
            "b'Transformed utterly:'\n",
            "b'A terrible beauty is born.'\n"
          ]
        }
      ],
      "source": [
        "predicted_key_stream = b''\n",
        "for x in score_for_each_possible_bytes:\n",
        "    if len(predicted_key_stream) == 31:\n",
        "        predicted_key_stream += x[1][1][0]\n",
        "    elif len(predicted_key_stream) == 33:\n",
        "        predicted_key_stream += x[1][5][0]\n",
        "    elif len(predicted_key_stream) == 34:\n",
        "        predicted_key_stream += x[1][3][0]\n",
        "    elif len(predicted_key_stream) == 35:\n",
        "        predicted_key_stream += x[1][8][0]\n",
        "    elif len(predicted_key_stream) == 36:\n",
        "        predicted_key_stream += x[1][13][0]\n",
        "    elif len(predicted_key_stream) == 37:\n",
        "        predicted_key_stream += x[1][54][0]\n",
        "    else:\n",
        "        predicted_key_stream += x[1][0][0]\n",
        "\n",
        "for encrypted_btyes in encrypted_btyes_list:\n",
        "    print(xor_bytes(encrypted_btyes, predicted_key_stream))"
      ]
    },
    {
      "attachments": {},
      "cell_type": "markdown",
      "metadata": {},
      "source": [
        "Challenge 22"
      ]
    },
    {
      "cell_type": "code",
      "execution_count": null,
      "metadata": {},
      "outputs": [
        {
          "name": "stdout",
          "output_type": "stream",
          "text": [
            "first_sleep_time: 8s\n",
            "Seeds: 1688216815\n",
            "second_sleep_time: 1s\n",
            "found seed : 1688216815\n"
          ]
        }
      ],
      "source": [
        "import time\n",
        "import random\n",
        "import challenge21 as c21\n",
        "\n",
        "def routine():\n",
        "    wait_time = random.randint(1,20)\n",
        "    #time.sleep(wait_time)\n",
        "    print(f\"first_sleep_time: {wait_time}s\")\n",
        "\n",
        "    current_timestamp = int(time.time())\n",
        "    MT19937 = c21.MT19937(current_timestamp)\n",
        "    print(f\"Seeds: {current_timestamp}\")\n",
        "\n",
        "    wait_time = random.randint(1,20)\n",
        "    #time.sleep(wait_time)\n",
        "    print(f\"second_sleep_time: {wait_time}s\")\n",
        "\n",
        "    return MT19937.rand()\n",
        "\n",
        "random_num = routine()\n",
        "\n",
        "output_list = dict()\n",
        "for i in range(1000):\n",
        "    current_timestamp = int(time.time())\n",
        "    seed = current_timestamp - i\n",
        "    MT19937 = c21.MT19937(seed)\n",
        "    output_list[MT19937.rand()] = seed\n",
        "\n",
        "if random_num in output_list:\n",
        "    print(f\"found seed : {output_list[random_num]}\")\n",
        "else:\n",
        "    print(f\"seed not found.\")\n"
      ]
    },
    {
      "attachments": {},
      "cell_type": "markdown",
      "metadata": {},
      "source": [
        "Challenge 23"
      ]
    },
    {
      "cell_type": "code",
      "execution_count": null,
      "metadata": {},
      "outputs": [],
      "source": [
        "import challenge21 as c21\n",
        "\n",
        "def untemper(y):\n",
        "    (u, d) = (11, 0xFFFFFFFF)\n",
        "    (s, b) = (7, 0x9D2C5680)\n",
        "    (t, c) = (15, 0xEFC60000)\n",
        "    l = 18\n",
        "\n",
        "    def int_to_bit_list(x):\n",
        "        return [int(b) for b in '{:032b}'.format(x)]\n",
        "\n",
        "    def bit_list_to_int(l):\n",
        "        return int(''.join(str(x) for x in l), base=2)\n",
        "\n",
        "    def invert_shift_mask_xor(y, direction, shift, mask=0xFFFFFFFF):\n",
        "        y = int_to_bit_list(y)\n",
        "        mask = int_to_bit_list(mask)\n",
        "\n",
        "        if direction == 'left':\n",
        "            y.reverse()\n",
        "            mask.reverse()\n",
        "        else:\n",
        "            assert direction == 'right'\n",
        "\n",
        "        x = [None]*32\n",
        "        for n in range(32):\n",
        "            if n < shift:\n",
        "                x[n] = y[n]\n",
        "            else:\n",
        "                x[n] = y[n] ^ (mask[n] & x[n-shift])\n",
        "\n",
        "        if direction == 'left':\n",
        "            x.reverse()\n",
        "\n",
        "        return bit_list_to_int(x)\n",
        "\n",
        "    xx = y\n",
        "    xx = invert_shift_mask_xor(xx, direction='right', shift=l)\n",
        "    xx = invert_shift_mask_xor(xx, direction='left', shift=t, mask=c)\n",
        "    xx = invert_shift_mask_xor(xx, direction='left', shift=s, mask=b)\n",
        "    xx = invert_shift_mask_xor(xx, direction='right', shift=u, mask=d)\n",
        "\n",
        "    return xx"
      ]
    },
    {
      "cell_type": "code",
      "execution_count": null,
      "metadata": {},
      "outputs": [
        {
          "name": "stdout",
          "output_type": "stream",
          "text": [
            "00000001000000100000001100000100  y1\n",
            "\n",
            "00000000000000000010000001000000  y1 >> 11\n",
            "11111111111111111111111111111111  0xFFFFFFFF\n",
            "00000000000000000010000001000000  (y1 >> 11) & 0xFFFFFFFF\n",
            "00000001000000100010001101000100  y1 ^ ((y1 >> 11) & 0xFFFFFFFF)\n",
            "\n",
            "10000001000100011010001000000000  y2 << 7\n",
            "10011101001011000101011010000000  0x9D2C5680\n",
            "10000001000000000000001000000000  (y2 << 7) & 0x9D2C5680\n",
            "10000000000000100010000101000100  y2 ^ ((y2 << 7) & 0x9D2C5680)\n",
            "\n",
            "10000000000000100010000101000100000000000000000  y3 << 15\n",
            "11101111110001100000000000000000  0xEFC60000\n",
            "00000000100000100000000000000000  (y3 << 15) & 0xEFC60000\n",
            "10000000100000000010000101000100  y3 ^ ((y3 << 15) & 0xEFC60000)\n",
            "\n",
            "00000000000000000010000000100000  y4 >> 18\n",
            "10000000100000000000000101100100  y4 ^ (y4 >> 18)\n",
            "result: 2155872612\n"
          ]
        }
      ],
      "source": [
        "def p(a, t):\n",
        "    #a = a & 0xFFFFFFFF\n",
        "    print(\"{0:032b}\".format(a) + \"  \" + t)\n",
        "\n",
        "y1 = 0x01020304\n",
        "p(y1, 'y1')\n",
        "print('')\n",
        "\n",
        "y2 = y1 ^ ((y1 >> 11) & 0xFFFFFFFF)\n",
        "p(y1 >> 11, 'y1 >> 11')\n",
        "p(0xFFFFFFFF, '0xFFFFFFFF')\n",
        "p((y1 >> 11) & 0xFFFFFFFF, '(y1 >> 11) & 0xFFFFFFFF')\n",
        "p(y2, 'y1 ^ ((y1 >> 11) & 0xFFFFFFFF)')\n",
        "print('')\n",
        "\n",
        "y3 = y2 ^ ((y2 << 7) & 0x9D2C5680)\n",
        "p(y2 << 7, 'y2 << 7')\n",
        "p(0x9D2C5680, '0x9D2C5680')\n",
        "p((y2 << 7) & 0x9D2C5680, '(y2 << 7) & 0x9D2C5680')\n",
        "p(y3, 'y2 ^ ((y2 << 7) & 0x9D2C5680)')\n",
        "print('')\n",
        "\n",
        "y4 = y3 ^ ((y3 << 15) & 0xEFC60000)\n",
        "p(y3 << 15, 'y3 << 15')\n",
        "p(0xEFC60000, '0xEFC60000')\n",
        "p((y3 << 15) & 0xEFC60000, '(y3 << 15) & 0xEFC60000')\n",
        "p(y4, 'y3 ^ ((y3 << 15) & 0xEFC60000)')\n",
        "print('')\n",
        "\n",
        "z = y4 ^ (y4 >> 18)\n",
        "p(y4 >> 18, 'y4 >> 18')\n",
        "p(z, 'y4 ^ (y4 >> 18)')\n",
        "print(f'result: {z}')"
      ]
    },
    {
      "cell_type": "code",
      "execution_count": null,
      "metadata": {},
      "outputs": [
        {
          "name": "stdout",
          "output_type": "stream",
          "text": [
            "399782711\n",
            "12345678\n"
          ]
        }
      ],
      "source": [
        "import challenge21 as c21\n",
        "\n",
        "seed = 12345678\n",
        "rand_num = c21.MT19937(12345678).rand()\n",
        "print(rand_num)\n",
        "print(untemper(rand_num))"
      ]
    },
    {
      "attachments": {},
      "cell_type": "markdown",
      "metadata": {},
      "source": [
        "Challenge 24"
      ]
    },
    {
      "cell_type": "code",
      "execution_count": null,
      "metadata": {},
      "outputs": [
        {
          "name": "stdout",
          "output_type": "stream",
          "text": [
            "seed found: 1688216815\n"
          ]
        },
        {
          "data": {
            "text/plain": [
              "True"
            ]
          },
          "execution_count": 54,
          "metadata": {},
          "output_type": "execute_result"
        }
      ],
      "source": [
        "import challenge24 as c24\n",
        "c24.check_is_MT19937_product_with_current_time(c24.generate_password_reset_token(32))"
      ]
    },
    {
      "attachments": {},
      "cell_type": "markdown",
      "metadata": {},
      "source": [
        "# Set 4"
      ]
    },
    {
      "attachments": {},
      "cell_type": "markdown",
      "metadata": {},
      "source": [
        "Challenge 25"
      ]
    },
    {
      "cell_type": "code",
      "execution_count": null,
      "metadata": {},
      "outputs": [
        {
          "name": "stdout",
          "output_type": "stream",
          "text": [
            "b\"I'm back and I'm ringin' the bell \\nA rockin' on the mike while the fly girls yell \\nIn ecstasy in the back of me \\nWell that's my DJ Deshay cuttin' all them Z's \\nHittin' hard and the girlies goin' crazy \\nVanilla's on the mike, man I'm not lazy. \\n\\nI'm lettin' my drug kick in \\nIt controls my mouth and I begin \\nTo just let it flow, let my concepts go \\nMy posse's to the side yellin', Go Vanilla Go! \\n\\nSmooth 'cause that's the way I will be \\nAnd if you don't give a damn, then \\nWhy you starin' at me \\nSo get off 'cause I control the stage \\nThere's no dissin' allowed \\nI'm in my own phase \\nThe girlies sa y they love me and that is ok \\nAnd I can dance better than any kid n' play \\n\\nStage 2 -- Yea the one ya' wanna listen to \\nIt's off my head so let the beat play through \\nSo I can funk it up and make it sound good \\n1-2-3 Yo -- Knock on some wood \\nFor good luck, I like my rhymes atrocious \\nSupercalafragilisticexpialidocious \\nI'm an effect and that you can bet \\nI can take a fly girl and make her wet. \\n\\nI'm like Samson -- Samson to Delilah \\nThere's no denyin', You can try to hang \\nBut you'll keep tryin' to get my style \\nOver and over, practice makes perfect \\nBut not if you're a loafer. \\n\\nYou'll get nowhere, no place, no time, no girls \\nSoon -- Oh my God, homebody, you probably eat \\nSpaghetti with a spoon! Come on and say it! \\n\\nVIP. Vanilla Ice yep, yep, I'm comin' hard like a rhino \\nIntoxicating so you stagger like a wino \\nSo punks stop trying and girl stop cryin' \\nVanilla Ice is sellin' and you people are buyin' \\n'Cause why the freaks are jockin' like Crazy Glue \\nMovin' and groovin' trying to sing along \\nAll through the ghetto groovin' this here song \\nNow you're amazed by the VIP posse. \\n\\nSteppin' so hard like a German Nazi \\nStartled by the bases hittin' ground \\nThere's no trippin' on mine, I'm just gettin' down \\nSparkamatic, I'm hangin' tight like a fanatic \\nYou trapped me once and I thought that \\nYou might have it \\nSo step down and lend me your ear \\n'89 in my time! You, '90 is my year. \\n\\nYou're weakenin' fast, YO! and I can tell it \\nYour body's gettin' hot, so, so I can smell it \\nSo don't be mad and don't be sad \\n'Cause the lyrics belong to ICE, You can call me Dad \\nYou're pitchin' a fit, so step back and endure \\nLet the witch doctor, Ice, do the dance to cure \\nSo come up close and don't be square \\nYou wanna battle me -- Anytime, anywhere \\n\\nYou thought that I was weak, Boy, you're dead wrong \\nSo come on, everybody and sing this song \\n\\nSay -- Play that funky music Say, go white boy, go white boy go \\nplay that funky music Go white boy, go white boy, go \\nLay down and boogie and play that funky music till you die. \\n\\nPlay that funky music Come on, Come on, let me hear \\nPlay that funky music white boy you say it, say it \\nPlay that funky music A little louder now \\nPlay that funky music, white boy Come on, Come on, Come on \\nPlay that funky music \\n\\x04\\x04\\x04\\x04\"\n"
          ]
        }
      ],
      "source": [
        "text_list = get_txt_from_url(\"https://cryptopals.com/static/challenge-data/25.txt\")\n",
        "text = ''.join(text_list)\n",
        "text = base64.b64decode(text)\n",
        "key = b'YELLOW SUBMARINE'\n",
        "plain_text = decrypt_ECB(text, key)\n",
        "print(plain_text)"
      ]
    },
    {
      "cell_type": "code",
      "execution_count": null,
      "metadata": {},
      "outputs": [
        {
          "name": "stdout",
          "output_type": "stream",
          "text": [
            "b'&\\xc9\\xf0\\xfb\\xeb\\xbf\\x17>VMN\\xefl\\xc6\\xea\\'0v\\x07\\'\\x92[\\xd7w\\xfa\\xc1\\xcd\\x90\\x18[9\\xf6L7\\x84\\xff8\\x8cL\\x8a\\x06M\\x129B\\xc1f~4\\xf2\\xbe\\xe1k\\xc2\\x89X\\x99\\xec\\x9d\\x8e\\xa9\\xb6U4\\x1d\\xe6\\x85\\xb2G\\xd1D\\xe8\\xca\\xc0\\x16,\\xec\\x18v-3\\xec\\xa4\\xeb\\nM\\xd2\\xfb\\x97\\xde\\xd8\\xa4<.v\\x0f\\x91\\xa2\\x8b\\xe2\\xd5L\\xee&\\xb2\\xa6\\xb0\\xd2\\x16\\xac\\xffC\\xd5\\xa1\\x91\\xd6m\\xb5\\x94\\xd4\\x97;\\x180m\\x83\\xd8\\xa9\\x89\\x16\\x0c\\x81\\x96\\n\\xaf\\xf9\\xb0\\x96\\x9ao\\xc4X\\\\\\xaf1\\xd7\\xd3\\xb4\\x95BT\\xd5\\x87\\xcaw\\xb8\\xb9I_\\xa0\\x15\\xc7\\x01\\x83(\\x8c\\x84q\\x99\\x11\\xc1D\\xd9z\\xd7r\\xde\\xcf\\xc8$\\xeca\\x98`?(b\\x0b \\xab]_\\xce,)\\xbe\\x0ffS\\x02\\r\\xda\\x04\\xc2\\xc4P7\\x07#\\xf5\\x1bed\\xdb\\x88W\\xf9H?\\x85\\xef\\xfd\\x8e\\xa1=\\xbb=e\\x03\\xc5\\xe4\\xf2B?\\xc5\\x00\\x17!\\xbc\\xb4\\xf5\\xbf\\x15\\x01\\xd7)g\\xb8\\xbam\\x17r\\xb6\\xb9\\xf0=\\xef\\x05\\x171\\xc7r\\xc4m\\xdd\\x03\\xea\\xa9\\x9fm52\\xc8\\xbam\\xa0\\x9aj\\x1bZ:L\\x07~\\xdd\\x0238\\x80UwxX\\x80Ej~\\xbaL\\xb0\\'\\xdd\\xc3\\x88\\\\oG1g,)>\\xd5NZ\\xad=Nup\\x81\\x04\\x8a^\\x03\\x98\\xb7\\xdcCri\\x99\\xd7H\\xcfnO\\x90\\xd3\\x92\\xadD]$\\xdd#\\xbf\\xe1\\x99\\xbf\\xee0\\xedg_3\\x0c\\xf4\\x10\\xd2\\xf0\\xb5\\xf1\\xf4\\xdb\\x81\\x8f\\xdc\\xb2,F\\xee\\xa7\\x93\\xfc\\x0b\\x91T\\x9e(\\x81\\xbe\\x01\\xa7\\xdb.K/y\\xc8X\\x14\\x9f\"\\xd9\\x03d\\x8c)\\xa2\\x0b\\x10\\xad\\xfc\\xa0\\x97,\\xd8\\xfe\\xb3\\xe8\\x0e\\xd9\\xe2\\x9d\\x83\\xad\\xe5f\\xbb\\xa5\\xc5\\x87\\x14\\xa6\\xf7-\\xb6\\x8b\\xb1/\\x03\\x04\\x86\\\\\\x1d\\xf7i\\x93z\\xc2w\\xa4\\xdb\\x19\\xe7\\x01\\xf6\\xefv\\x95;\\xd9/\\x81\\x7f\\xdc\\xe6r[\\xd5\\xeeX\\x10\\xb2\\x83\"\\xb2\\x0b\\x0bO/\\xbf\\x14\\xdcO{\\xf4\\xcb\\x92\\x89\\xbb\\xb28 b\\x90\\xfdh\\xb5\\x97\\x84=\\xb4\\x064\\xe6\\xa8\\xb0%+d\\x81O\\xaf#\\xe3\\xcad3\\xb1o@Cn\\xfa\\xa3\\x13\\x03\\xf4\\xdf\\xec\\xaa!Z\\xf4\\xady,n9k\\x0fvI\\t\\xcb\\xae5Rer\\x1f\\xffk&T$y\\x92\\xf5\\x19\\x01\\x9d\\x87\\xde\\xfb\\xa2\\xf5A\\x0b\\xf6\\xeb1\\x89\\x80\\xc3e\\xa6\\xfe\\xd2&;(\\x1a\\xfd\\xc9\\xec\\xf1\\xa3\\x87Y\\x01g\\xa9\\x19J\\xd8\\xf2y\\x89\\x90\\'\\xf8\\x9ahVO\\x193\\x10\\x18i`\\x1c\\x87\\xb0\\xd8N\\xc4\\xd3\\x82Z\\x90\\xef\\x10\\x99\\xf2b\\x1d\\x06\\x81\\xd0\\xfd\\xfe\\x03\\xfb\\xf6\\t\\x00z\\xb9\\x14hH\\x1c\\x0c\\x97\\xc7\\xcc\\xd5\\xe8-J*\\xcb\\xcf\\xdf\\xc89\\xc9\\xe9b\\x111\\xc0H\\x07&\\xda:\\xeaov\\r*\\x1e\\x88\\xfa\\xa1)\\x08\\xdf\\xf7\\xbbTI\\xcc\\x93P\\xbe\\xd2\\xbb\\x18.\\x8e\\x9b\\xe1\\xe4\\x1d\\xaf\\xd2\\xc9@\\xd5p`\\xcf\\x07\\xac\\x82\\x8f44RM\\x8b\\xc3\\xe5\\xeb\\x04+\\xc2\\xf4\\x0e\\xcc\\x1fl\\xd2\\xadq\\xc4\\xc5b\\xb9\\x82Vk\\xe2\\xc2\\x85\\x82\\x17y\\xc9\\xf0H\\xa9\\x8ctmXh`\\xc7m\\xa4\\x9c\\xc5\\xf2p4\\xa17:x\\x88r4%\\xf7\\xbfz\\xdd\\xd4\\xad\\x04\\x82\\xe5D\\xb6\\xe67$?\\xd5\\x00)Yl9V\\xd7\\xc8\\xa46\\x87\\xde\\xd6{\\x97\\xa0\\x16N\\x17(\\x84\\xdf\\x9e[\\xe3\\x9bQ\\x02p\\xcfg\\xc3qs\\x0c3\\x99\\xac\\xc3\\t\\xa1\\xda\\xd4\\x93{\\x104\\xc1\\xee\\x1b\\xc3\\xfa\\xf5s7\\xd9\\xb2\\xe7_?D\\x95\\xefN^bm\\xd7\\xeeEm\\x07\\xe5#\\x81*y\\x1b\\xddj.\\x0cWP]\\x0f\\xed/\\xe2\\x9d.\\xd7\\xa3\\xa0\"Z1r3\\x80\\xca$\\x8b\\x1d\\xef\\x0f\\xd7\\xae\\xc6\\xb0|\\x0eh=\\xe4\\xe3\\r\\xfc\\x9c\\xb9\\x88\\xc4\\x15\\xc90o\\x0f\\xec\\xfa\\xa2\\x88\\xc6Hf\\xd9H\\xd8\\xad\\xe8\\x8b\\xe7\\xc8d\\x08\\x03\"?\\xd2\\x8f\\x8d\\xf8\\x16\\x11jw\\x15\\xab\\xc6m\\xf3i\\x80}\\n\\xc1\\x9di\\xc2`\\x0f\\xa8\\x86\\x0c\\xdfL\\x03\\x88\\xad.\\xfb(\\xed\\x90\\xda\\xd0uaHS\\xf0 \\xb3t\\x95\\tbN\\xb5s$\\xed\\xf4\\x04\\xf0R\\xb7m\\xf2\\xbc\\x19\\xda\\x99\\xf6By\\x7f1r\\xf6\\x8c=\\xc2]\\xbdy\\xc4w(bY\\x1d\\xc1\\xdb=*t\\xb7\\xbb\\x17\\xa5\\xcf\\xf6\\xbd\\xecn\\x91\\x16\\x124\\xca)\\x92\\xe2\\x96\\xf0\\xb9/\\xf72*\\xc8p\\x14o\\x81\\xf7M\\xf8\\xb8\\xaa\\xe7\\x19cy\\x19c\\xfe\\x8a\\x88\\xfaJh\\xe7\\x01G(\\xdaU\\x94\\xa88\\xeb&\\x05\\xc1\\x96\\x87\\x91\\xda\\xf4\\xa2\\x0c\\xa9\\xd2Gh\\xf5\\xde\\xee[\\x94\\xcd\\x87\\xe1o\\x0b+r\\xee\\xc2\\xae\\xbf\\xff\\xeb\\xd3\\xdb\\xb0r0\\xe8O\\xbd\\x9a\\x94\\x08FA\\xaep\\xe4\\x00\\x06R\\xcf\\x90{\\xa9\\x9d\\n\\xf05Hd\\xdb\\xa0S\\xbb 6#\\xee\\xe7.\\x12\\xc3S\\xc7%\\xba\\xc7\\x82sM\\xe1\\x95V\\xa7!6,\\xba\\xb5_\\xa2\\xed\\xaf\\xf6\\x94\\x02\\xad\\x1e\\x8e\\x19\\x0c\\x03~\\x8bLsE^ \\xc6\\x14z=1\\xf7,\\xde$\\xd0\\xfe6\\xf9\\x7f\\xa2\\n\\x0bs\\xa6\\xf6\\xe5\\x0b\\x9dXtZ\\x88\\xf5\\xc64\\xef\\x8f\\xa6\\xf4*\\x1d\\xeb\\x9b\\xfe%g.\\x9b\\xd2\\x8c\\xc6\\xf32?l\\xecBa\\xcb\\x17\\xa9%\\x92\\xd2\\xec\\x86\\xfd0\\x10\\xcb\\x9a\\xaa!os\\t~\\t\\xffY\\xddG\\xcfOsS\\x88\\xd5E\\x9f6\\xf1h\\x19\\x1d\\xbb2\\xd5\\x11y3\\xf2o\\xbfBcj\\xfd\\x97GDt\\x82.1\\xbcA>\\x92\\xcc\\x841\\xabwIJ)\\xf5\\xa5\\x94\\xdd\\xb1\\x97%\\xa5\\xf6Q\\xf4>J8\\x15\\x87\\x16h\\x9b\\x06\\xdf\\x9a\\xaa\\xdc\\x87\\x06;\\x0eY#\\x04\\xc9\\x87~\\nS\\x9e\\'\\xa0\\x83\\xce\\xfe\\xe6=C\\rU\\xab\\x8c\\xbaM\\x8fd0\\xc5\\xb6\\xec\\xef\\xf5\\x03+\\x07KN\\xd5r\\x15\\xa1V\\xbb\\xb6rW\\x99\\xf0?\\x0e\\x89e\\xd6k\\x94\\xaf\\x0e\\xed\\xf6\\x04d80\\xf2\\x0eiV\\xa1U\\x856\\xe69\\xb0h\\x13\\x98\\xf2)\\x8d\\xaf{\\x12\\x91l\\xd3\\xf4\\x10\\xb9\\xd4\\xa5\\x87\\xc5 \\xa8b\\xaa\\x9d\\xc5fn\\x1fEbc*\"\\x1b\\xc1m\\xda\\xf4\\x9d\\xa8\\xb1G9\\xb9P\\x1e\\x9e\\xb7\\x99\\xe8\\x84\\xb5<\\xe7\\xfa-\\xd7\\xc3}\\xe5\\xa9;=]\\x0e\\xc9Y.PO\\xfa\\x8c\\r\\xb9\\x08\\xe3\\xe9\\xe2(0y\\xad<\\xc1\\xcbwe_\\xdf\\xdd\\xf4\\x0c\\x0c\\xbf\\xf7_\\x9aV\\xe9du7z\\xf3G\\xb0AZ.\\xefu\\x91n\\xa0\\xf3\\xc6k+(\\x04\\xd7\\xf4)j1\\x1a\\x9f\\xb8\\x00\\x95\\xfb\\xe1Z(\"\\xae\\x8e\\xed[\\x1fX\\x8a\\x94\\xe1l\\xc5\\x05j\\x8be\\xe7f\\xc0\\xf7\\xc5\\x84\\xf1\\xbe\\x87a\\x96\\xd3U}\\x84y<\\x80X\\x84o| Zf{\\xa3dT\\x9c\\r\\xbb\\x84\\x15m\\xcb\\xf0\\xc6\\xa1\\x9c\\x9din\\xdb\\xf7\\xb9\\x9az%\\x8dL\\x05XgZ\\xd6\\x9b\\xdez8\\x04\\x18d\\x86\\xcc#b?\\xd7\\xd1U#\\x82\\xa9ir$\\xfb^\\xf6\\xc6\\xf9+`\\xdd\\x88!\\x02f\\xb4\\xd0\\xb2\\x1fI\\xd3\\x83F\\xd4\\xa3\\xfbFuk\\xffg\\xd6\\x1d>\\x88_\\x9c\\x9c-\\xd5ih\\xaeH\\xbf\\xf3RA\\x96wI\\xd0\\\\\\x80\\x89\\x8fU\\xa3\\x0f\\xc8^\\x18\\xe65\\xb5z\\xe4\\x18\\x15,\\xcd\\xdf5\\xee\\xff\\xb7\\xf5\\xf6\\xd1\\xfb\\xa7\\xaaN\\xe21\\xd57\\x13\\xf0\\xf0\\x1e\\xa2\\xf3\\x91\\x928\\xf0\\xc0|\\xdb\\xbcD9?O\\x97\\xe1\\xb3\\t%\\x0eA\\xf5\\x92\\xcb\\x199\\xc9s[\\x11L\\x17\\xa2\\x15 \\xd7\\xf4\\xa0\\x1f\\x14\"\\xc3!\\xd0\\xc8\\x95w\\x89\\x03~W&\\x1c\\'\\xce\\x9d\\xa1S\\xf7\\xc1\\x07\\xab\\xeb\\xe0p\\xf5\\r\\xbet\\x95+{\\xe8\\xa7\\xe8v\\xe9OC\\xbc\\x91\\x8e\\xb1\\xeb\\x95l4k\\xe4K1\\xef\\x89\\xd8\\xc9\\xe0.\\xb3\\xa6:\\x9b\\xa3\\xec%\\xb9\\xaeA\\xa7d\\xdeX\\x98l+\\xe0\\x8b[\\xb3!!\\x8c*\\t\\xbd|\\x00H\\xdbt\\xee\\x93{\\xd8\\xe5yL\\xac5\\xf2\\x0e\\xeerw\\xd8+^\\xba\\xe9%\\xb4\\xb5\\x8d\\xda\\xd4\\x972O\\xf0[\\x92\\xa4H\\xa3k\\xc5+f\\x02\\x04c{fY\\x81\\x00\\xba\\xcb_l\\x11C\\x90\\xeeR0\\x86 \\xf0\\xb2\\xa6h\\xed\\x99Q\\xac\\xb1P\\x0f\\xed\\xae\\x05\\x05\\x7f\\x1e_f\\xf6^\\xa3CE\\xd7\\xba\\xe7ZO\\xd5\\xce\\xd6\\xaf\\xc9i\\xc3\\xda\\x9dz\\x05H/\\x84\\x16\\xceP\\x95\\x8c\\xfb6j\\xba\\x9e^\\x93P|\\xa9\\xcc\\xb7\\xd7\\xf7\\x04}\\xc9\\x81\\x94E0\\xb1\\xe7x?\\t&\\x88\\x88D\\xa9xH\\xc1Y\\x8a\\xe2\\x95=!\\x16K1\\x82\\xadi\\xda\\xa8|p5\\xffj\\xaf\\x88F\\xf5\\x19A\\xc1tBo\\xc1\\xab\\xday\\x80\\xb6\\xee|s*18\\x1e\\x1a\\x05\\xdf+\\x91\\xa7\\xe3\\xb3.\\xbd\\xe7\\xb0\\x90\\x98\\xee\\x9f\\xecv!\\x0b\\xa5&\\xc0{;\\xa2\\x07u\\x98f\\xfei\\xdf?\\xf3\\x8b\\x13]\\x93t`Q}\\xec$\\xe6lFh\\x13\\xb0E\\xa5\\xc9\\xb4\\x8aa:1\\x12\\x9bd\\x07\\x84\\xb6\\xf4\\x96\\xd0VL\\x7f\\xc3T\\x988\\xae0\\x13*d\\xb7\\x8b\\x8f\\x13\\xaa2\\xecD8\\x9ct\\x18O\\x16\\xca\\x8f\\xae\\xcb\\x9c\\xd2\\xa0\\x9d?\\xa1\\xef\\xced\\xb2\\x80\\t\\xc6\\x16\\x982$y\\xdd\\xc3\\xb8(\\x14L\\xb1H\\x12\\x86\\xd5\\xd3\\x7f\\xe7\\x94\\xb6\\xeb\"\\xcaf^t\\x17\\xad\\xdb]\\xc1\\x9eG(2\\xe2\\xa4\\'\\x04J{\\x9c\\xf4R\\xf1\\x01\\xdc\\xd2\\xb9\\x90\\xe5$\\xdc\\xc3#__\\xcdx\"\\xf0\\x8a\\x04\\x89~B\\xf6m@y\\x18\\xa0\\xc6\\xe5B\\xb7U\\x0e\\xc3A\\x89D\\xc4\\xc2\\x1eD\\xe6\\xd0Y4\\xe3|\\x14\\xd0\\x9f8\\xb5,\\xda\\n*\\xc0\\xe6\\xe7\\xb9\\xcf\\x17\\x10\\xd9\\xf8\\x9d\\xe7\\xa0Y\\x96\\x0b\\x8b%\\xee\\xc3H9\\xdbk|\\x97\\xfd\\x15\\x0c\\x9ce\\xd2I\\r\\xb2\\x89;\\xce\\xa3\\x04\\xbe\\xc7X?L\\xc6\\xb7\\xc7\\x9d\\xc6\\xce}_,\\xc9\\\\s\\xc0\\xa7\\xb7\\xee\\xa26Y\\xeeK\\xd4\\xdc\\n\\xf6\\xb49\\xc1\\x86\\xb7\\x94\\xfe\\xea;|I\\xbb\\x8a\\xb8\\x84O\\xccz\\x01\\\\\\xee{\\x1cQ\\xfd\\xf3\\xe8\\x1a\\xfc\\x88\\x18f\\x95-b\\xcf\\xd1\\xcc\\xf5d\\x86\\x8c\\xdc\\x02^\\xb0+\\xe7\\xcdl*\\xce\\xb8\\x0f\\x88j\\xf5\\x91\\x94\\xcf\\xb0\\xd5J\\x1e\\x1b<:\\x0b3\\xc8\\xd7\\xac\\xc8\\xba\\xa7\\xdd>|\\xbb>KIY\\xcd\\xa1%\\x00\\x1b@\\xcc[\\x1aAN+\\x85W_\\xb8U\\x12\\x88\\x153\\xac\\\\iSU\\x1dx\\x88i\\x10\\n\\xfd6\\xee\\xb1\\xa8\\x824\\xcd\\x92U9\\xfc9\\xf3\\xdc\\x0c\\x9a\\xe6\\xc5\\\\\\xdeU\\xa3\\xd7\\xed\\x15\\xfd\\x06\\xccC\\xc8\\xdeq\\xeb7nF\\xa7gtv)\\xd1\\xb8MB!\\x17\\x9ey\\xb4\\x81\\xe4\\xa0\\xa2\\x9d?]\\xab\\xe4\\xedX\\xff\\xeb/e\\x1bD\\xbf\\x11x\\xd5\\xf6_\\x1c/,\\xbf\\x94\\x11W\\x8d+\\x95A\\x1c*\\xe3\\xb8\\x03x\\xb6\\xe8\\xab*\\x9b\\xc7\\x078}\\x13\"\\xa1\\x8a\\x90\\xf6\\xc1P\\xf7\\xa9-\\xb9!\\xf2\\x0eRA<<dG\\xc3\\xb4\\x98W%\\xa3\\xae\\xa2U\\xb2\\rn\\x95\\xb9\\x15eghup\\xe5\\x81\\xba\\xfb0\\xd1Y\\xad]\\xca\\x9b\\xb3\\x8c\\xd6{\\x15\"<\\xbfO@\\x91\\xcck\\x91\\x1ef-\\x87\\x0c\\xd7,\\xb3\\xcfp6uGL`\\xcc\\xd7\\xcfZL\\x9dc\\x9f\\xa1X\\x9a\\xf0F\\x1c\\x07\\x8b>\\x93\\x8c\\xbd\\x87E\\xe9n\\xea\\x10`\\xe4G\\xe6\\xd0S\\xce\\xa2\\xe4\\x1b\\xf2\\xa2t\\xf9u\\xa2\\xc0\\x10\\x0bC[\\xb2\\xd1\\xc9\\xa67\\xa8\\xe6\\x17\\xaa\\xf7Q\\xad{\\x19&_\\xab|!\\xe4\\x14\\xbf\\x84q\\xc3d\\x91P\\x8a\\xab\\xceT\\xf2\\xf9\\x0c\\xc2\\xad\\x9f\\x19lAC\\x90\\xba\\xe0TN\\tl\\x95\\xf0g\\xc5\\x8b\\xd93\\xe57\\xaaW\\'\\xc7\\xca G\\x15R\\xfa?1\\xdf\\xc0>\\x96\\x02\\x93\\xb0!\\xe1\\xca\\x88S*,\\xeavnb\\x0cy\\x15\\xccH\\x8bd\\xd7L\\xc5\\xee\\xf8\\xd0\\xbb\\x08\\xd3\\xfaW\\x86\\x10]#\\x13G\\xd1\\x15\\x0e*\\x8ea\\xa8\\xcc\\x19\\x9a\\xefv\\xf8\\xb5\\x80\\x9e\\x15VP\\xf68\\xa5\\x84\\xae\\xf6\\xb0\\xc6\\x1cw\\x8bD\\xf4\\xaa\\x10\\xf1\\xd9\"b\\\\H{\\x01\\xc7k\\xba\\x0e\\xd37\\x07pmQ\\xb0+\\x1d.\\x7f\\xa2P\\x96l\\xe1oJ\\x15\\xb3\\x9b;\\x00\\x08Y\\x01\\xd5&&\\xddA\\x8eF+\\xae\\xa1\\xda\\xf0r_N\\x1e\\xe7\\x8d\\x97\\x96\\xd9\\xda\\xa2y}\\x95\\xdauT\\xf1\\xb6\\xf9E\\xbf\\xc0m\\x08\\xfcD\\xca\\xdd\\xfae\\t'\n"
          ]
        }
      ],
      "source": [
        "key = generate_random_aes_key()\n",
        "nonce = 100\n",
        "cipher_text = exec_CTR(plain_text, key, nonce)\n",
        "print(cipher_text)"
      ]
    },
    {
      "cell_type": "code",
      "execution_count": null,
      "metadata": {},
      "outputs": [],
      "source": [
        "def edit(cipher_text: bytes, offset: int, newText: bytes):\n",
        "    plain_text = exec_CTR(cipher_text, key, nonce)\n",
        "    new_plain_text = plain_text[:offset] + newText + plain_text[offset:]\n",
        "    return exec_CTR(new_plain_text, key, nonce)"
      ]
    },
    {
      "cell_type": "code",
      "execution_count": null,
      "metadata": {},
      "outputs": [
        {
          "name": "stdout",
          "output_type": "stream",
          "text": [
            "I'm back and I'm ringin' the bell \n",
            "A rockin' on the mike while the fly girls yell \n",
            "In ecstasy in the back of me \n",
            "Well that's my DJ Deshay cuttin' all them Z's \n",
            "Hittin' hard and the girlies goin' crazy \n",
            "Vanilla's on the mike, man I'm not lazy. \n",
            "\n",
            "I'm lettin' my drug kick in \n",
            "It controls my mouth and I begin \n",
            "To just let it flow, let my concepts go \n",
            "My posse's to the side yellin', Go Vanilla Go! \n",
            "\n",
            "Smooth 'cause that's the way I will be \n",
            "And if you don't give a damn, then \n",
            "Why you starin' at me \n",
            "So get off 'cause I control the stage \n",
            "There's no dissin' allowed \n",
            "I'm in my own phase \n",
            "The girlies sa y they love me and that is ok \n",
            "And I can dance better than any kid n' play \n",
            "\n",
            "Stage 2 -- Yea the one ya' wanna listen to \n",
            "It's off my head so let the beat play through \n",
            "So I can funk it up and make it sound good \n",
            "1-2-3 Yo -- Knock on some wood \n",
            "For good luck, I like my rhymes atrocious \n",
            "Supercalafragilisticexpialidocious \n",
            "I'm an effect and that you can bet \n",
            "I can take a fly girl and make her wet. \n",
            "\n",
            "I'm like Samson -- Samson to Delilah \n",
            "There's no denyin', You can try to hang \n",
            "But you'll keep tryin' to get my style \n",
            "Over and over, practice makes perfect \n",
            "But not if you're a loafer. \n",
            "\n",
            "You'll get nowhere, no place, no time, no girls \n",
            "Soon -- Oh my God, homebody, you probably eat \n",
            "Spaghetti with a spoon! Come on and say it! \n",
            "\n",
            "VIP. Vanilla Ice yep, yep, I'm comin' hard like a rhino \n",
            "Intoxicating so you stagger like a wino \n",
            "So punks stop trying and girl stop cryin' \n",
            "Vanilla Ice is sellin' and you people are buyin' \n",
            "'Cause why the freaks are jockin' like Crazy Glue \n",
            "Movin' and groovin' trying to sing along \n",
            "All through the ghetto groovin' this here song \n",
            "Now you're amazed by the VIP posse. \n",
            "\n",
            "Steppin' so hard like a German Nazi \n",
            "Startled by the bases hittin' ground \n",
            "There's no trippin' on mine, I'm just gettin' down \n",
            "Sparkamatic, I'm hangin' tight like a fanatic \n",
            "You trapped me once and I thought that \n",
            "You might have it \n",
            "So step down and lend me your ear \n",
            "'89 in my time! You, '90 is my year. \n",
            "\n",
            "You're weakenin' fast, YO! and I can tell it \n",
            "Your body's gettin' hot, so, so I can smell it \n",
            "So don't be mad and don't be sad \n",
            "'Cause the lyrics belong to ICE, You can call me Dad \n",
            "You're pitchin' a fit, so step back and endure \n",
            "Let the witch doctor, Ice, do the dance to cure \n",
            "So come up close and don't be square \n",
            "You wanna battle me -- Anytime, anywhere \n",
            "\n",
            "You thought that I was weak, Boy, you're dead wrong \n",
            "So come on, everybody and sing this song \n",
            "\n",
            "Say -- Play that funky music Say, go white boy, go white boy go \n",
            "play that funky music Go white boy, go white boy, go \n",
            "Lay down and boogie and play that funky music till you die. \n",
            "\n",
            "Play that funky music Come on, Come on, let me hear \n",
            "Play that funky music white boy you say it, say it \n",
            "Play that funky music A little louder now \n",
            "Play that funky music, white boy Come on, Come on, Come on \n",
            "Play that funky music \n",
            "\u0004\u0004\u0004\u0004\n"
          ]
        }
      ],
      "source": [
        "result = b''\n",
        "for i in range(0, len(cipher_text), 16):\n",
        "    xor_with_0 = edit(cipher_text, i, b'\\x00' * 16)\n",
        "    result += xor_bytes(xor_with_0[i:i+16], cipher_text[i:i+16])\n",
        "print(result.decode())"
      ]
    },
    {
      "attachments": {},
      "cell_type": "markdown",
      "metadata": {},
      "source": [
        "Challenge 26"
      ]
    },
    {
      "cell_type": "code",
      "execution_count": 105,
      "metadata": {},
      "outputs": [
        {
          "name": "stdout",
          "output_type": "stream",
          "text": [
            "b'\\x99\\xaa\\x1b\\x13\\x16\\xb4\\xc7\\xf0q\\xd5\\x00\\xe3=\\xa3\\xf4\\x04\\x96\\xef&\\xc1\\xf8\\xa5\\x98n|\\x82\\x1d\\x1d\\x88\\xe8\\xddq\\xf9(\\xa1a\\xe5\\r\\xc5\\xdf\\xdd\\xe2\\xb1\\x83\\x92\\xed\\x9a\\xca\\xf4\\xe8\\xffq\\xa4q2\\xfa\\xdd\\x94\\xea\\xf7Pm\\xa5O8\\xfc^\\x1f\\x8d\\xa1Ku\\xa0%\\xd1\\x92\\x19\\xae\\xeb\\x88\\xfa\\xad\\xa2m\\x04\\xac\\xc0eGP'\n",
            "[b'comment1=cooking', b'%20MCs;userdata=', b'AAAAAAAAAAAAAAAA', b';comment2=%20lik', b'e%20a%20pound%20', b'of%20bacon']\n",
            "comment1=cooking%20MCs;userdata=AAAAAAAAAAAAAAAA;comment2=%20like%20a%20pound%20of%20bacon\n",
            "False\n",
            "b'\\xf9(\\xa1a\\xe5w\\xe5\\xfa\\xf1\\xca\\x9e\\xff\\xa7\\xde\\xae\\xee'\n",
            "[b'comment1=cooking', b'%20MCs;userdata=', b'AAAAA;admin=true', b';comment2=%20lik', b'e%20a%20pound%20', b'of%20bacon']\n",
            "comment1=cooking%20MCs;userdata=AAAAA;admin=true;comment2=%20like%20a%20pound%20of%20bacon\n",
            "True\n"
          ]
        }
      ],
      "source": [
        "import challenge26 as c26\n",
        "encrypt = c26.encrypt_CTR_26('A' * 16)\n",
        "print(encrypt)\n",
        "print(c26.check_admin_26(encrypt))\n",
        "\n",
        "target_chunk = encrypt[2*block_size:3*block_size]\n",
        "target_chunk = xor_bytes(target_chunk, b'A'*16)\n",
        "target_chunk = xor_bytes(target_chunk, b'AAAAA;admin=true')\n",
        "print(target_chunk)\n",
        "print(c26.check_admin_26(encrypt[:2*block_size] + target_chunk + encrypt[3*block_size:]))"
      ]
    },
    {
      "attachments": {},
      "cell_type": "markdown",
      "metadata": {},
      "source": [
        "Challenge 27"
      ]
    },
    {
      "cell_type": "code",
      "execution_count": 115,
      "metadata": {},
      "outputs": [
        {
          "name": "stdout",
          "output_type": "stream",
          "text": [
            "key: b'\\x7f\\x99\\xd7\\xfeV\\xad6\\x1d\\x8e\\x7f\\xeb\\xdc\\xf3\\x82\\xb4]'\n",
            "b'\\xc2,r\\x84\\x9c/x\\x1b\\xdf\\xa5\\xd2\\xc7n\\x97\\x19\\xe0\\xf1P\\x02{\\xcbOt\\x07TFF\\x95\\n\\x12I\\x16\\x84\\xcd\\x87w\\x90\\xebu\\x1b\\x9a:o\\x19\\x02-)P'\n",
            "[b'\\xc2,r\\x84\\x9c/x\\x1b\\xdf\\xa5\\xd2\\xc7n\\x97\\x19\\xe0', b'\\xf1P\\x02{\\xcbOt\\x07TFF\\x95\\n\\x12I\\x16', b'\\x84\\xcd\\x87w\\x90\\xebu\\x1b\\x9a:o\\x19\\x02-)P']\n"
          ]
        },
        {
          "ename": "Exception",
          "evalue": "eeeeeeeeeeeeeeeeeeeeeeeeeerror: b'thisisplaintext1\\xef H~\\x8a\\x18\\t\\xd1\\xa0\\xe5|YFW\\x9b\\x0c\\x0b\\xf1\\xbe\\x8d?\\xdeFq\\xef\\x16\\x85\\xa8\\x96\\xfa\\xc0l'",
          "output_type": "error",
          "traceback": [
            "\u001b[1;31m---------------------------------------------------------------------------\u001b[0m",
            "\u001b[1;31mException\u001b[0m                                 Traceback (most recent call last)",
            "Cell \u001b[1;32mIn[115], line 12\u001b[0m\n\u001b[0;32m      9\u001b[0m print_bytes(cipher_bytes)\n\u001b[0;32m     10\u001b[0m cipher_block_1 \u001b[39m=\u001b[39m cipher_bytes[:block_size]\n\u001b[1;32m---> 12\u001b[0m result \u001b[39m=\u001b[39m c27\u001b[39m.\u001b[39;49mdecrypt_CBC_27(cipher_block_1 \u001b[39m+\u001b[39;49m \u001b[39mb\u001b[39;49m\u001b[39m'\u001b[39;49m\u001b[39m\\x00\u001b[39;49;00m\u001b[39m'\u001b[39;49m \u001b[39m*\u001b[39;49m \u001b[39m16\u001b[39;49m \u001b[39m+\u001b[39;49m cipher_block_1, key, block_size, key)\n\u001b[0;32m     13\u001b[0m print_bytes(result)\n\u001b[0;32m     15\u001b[0m result_key \u001b[39m=\u001b[39m xor_bytes(result[:block_size], result[block_size\u001b[39m*\u001b[39m\u001b[39m2\u001b[39m:])\n",
            "File \u001b[1;32mc:\\Users\\ballban\\Documents\\SourceCode\\cryptopals\\challenge27.py:7\u001b[0m, in \u001b[0;36mdecrypt_CBC_27\u001b[1;34m(text_bytes, key, block_size, initialization_vector, is_unpadding)\u001b[0m\n\u001b[0;32m      5\u001b[0m \u001b[39mfor\u001b[39;00m x \u001b[39min\u001b[39;00m decrypt:\n\u001b[0;32m      6\u001b[0m     \u001b[39mif\u001b[39;00m x \u001b[39m>\u001b[39m \u001b[39m127\u001b[39m:\n\u001b[1;32m----> 7\u001b[0m       \u001b[39mraise\u001b[39;00m \u001b[39mException\u001b[39;00m(\u001b[39mf\u001b[39m\u001b[39m'\u001b[39m\u001b[39meeeeeeeeeeeeeeeeeeeeeeeeeerror: \u001b[39m\u001b[39m{\u001b[39;00mdecrypt\u001b[39m}\u001b[39;00m\u001b[39m'\u001b[39m)\n\u001b[0;32m      8\u001b[0m \u001b[39mreturn\u001b[39;00m decrypt\n",
            "\u001b[1;31mException\u001b[0m: eeeeeeeeeeeeeeeeeeeeeeeeeerror: b'thisisplaintext1\\xef H~\\x8a\\x18\\t\\xd1\\xa0\\xe5|YFW\\x9b\\x0c\\x0b\\xf1\\xbe\\x8d?\\xdeFq\\xef\\x16\\x85\\xa8\\x96\\xfa\\xc0l'"
          ]
        }
      ],
      "source": [
        "import challenge27 as c27\n",
        "\n",
        "key = generate_random_aes_key()\n",
        "print(f'key: {key}')\n",
        "plain_text = b'thisisplaintext1thisisplaintext2thisisplaintext'\n",
        "cipher_bytes = encrypt_CBC(plain_text, key, block_size, key)\n",
        "\n",
        "print(cipher_bytes)\n",
        "print_bytes(cipher_bytes)\n",
        "cipher_block_1 = cipher_bytes[:block_size]\n",
        "\n",
        "result = c27.decrypt_CBC_27(cipher_block_1 + b'\\x00' * 16 + cipher_block_1, key, block_size, key)\n",
        "print_bytes(result)\n",
        "\n",
        "result_key = xor_bytes(result[:block_size], result[block_size*2:])\n",
        "print(result_key)"
      ]
    }
  ],
  "metadata": {
    "colab": {
      "collapsed_sections": [
        "VgWZKmqA5A2d"
      ],
      "provenance": []
    },
    "kernelspec": {
      "display_name": "Python 3",
      "language": "python",
      "name": "python3"
    },
    "language_info": {
      "codemirror_mode": {
        "name": "ipython",
        "version": 3
      },
      "file_extension": ".py",
      "mimetype": "text/x-python",
      "name": "python",
      "nbconvert_exporter": "python",
      "pygments_lexer": "ipython3",
      "version": "3.9.13"
    },
    "vscode": {
      "interpreter": {
        "hash": "dfa0d92481204de1f000f2d094916401a48ca85a4631293a49e11de0cf616ec5"
      }
    }
  },
  "nbformat": 4,
  "nbformat_minor": 0
}
