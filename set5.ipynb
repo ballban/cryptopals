{
 "cells": [
  {
   "cell_type": "code",
   "execution_count": 1,
   "metadata": {},
   "outputs": [],
   "source": [
    "%load_ext autoreload\n",
    "%autoreload 2"
   ]
  },
  {
   "cell_type": "code",
   "execution_count": 5,
   "metadata": {},
   "outputs": [],
   "source": [
    "from utility import *\n",
    "import sha1"
   ]
  },
  {
   "cell_type": "markdown",
   "metadata": {},
   "source": [
    "# Set_5"
   ]
  },
  {
   "cell_type": "markdown",
   "metadata": {},
   "source": [
    "Challenge 33"
   ]
  },
  {
   "cell_type": "code",
   "execution_count": 6,
   "metadata": {},
   "outputs": [
    {
     "name": "stdout",
     "output_type": "stream",
     "text": [
      "151884964614260751739352956072736467721012774851534149430333112497996368183871356352879662034455108492760138535633407647862077937913703639541436739593429836627181696254139045302096582960830437791084465327154108723875851017332708945816228881863183814331699178364325599420948118249726012812764479283357553505167548785594603383030379755977232655875359108564266275359377884438030051901186374526918429444022310339060694202797730493447647324266891131561129643331501305 151884964614260751739352956072736467721012774851534149430333112497996368183871356352879662034455108492760138535633407647862077937913703639541436739593429836627181696254139045302096582960830437791084465327154108723875851017332708945816228881863183814331699178364325599420948118249726012812764479283357553505167548785594603383030379755977232655875359108564266275359377884438030051901186374526918429444022310339060694202797730493447647324266891131561129643331501305\n"
     ]
    }
   ],
   "source": [
    "import random\n",
    "\n",
    "p_str = \"\"\"ffffffffffffffffc90fdaa22168c234c4c6628b80dc1cd129024\n",
    "e088a67cc74020bbea63b139b22514a08798e3404ddef9519b3cd\n",
    "3a431b302b0a6df25f14374fe1356d6d51c245e485b576625e7ec\n",
    "6f44c42e9a637ed6b0bff5cb6f406b7edee386bfb5a899fa5ae9f\n",
    "24117c4b1fe649286651ece45b3dc2007cb8a163bf0598da48361\n",
    "c55d39a69163fa8fd24cf5f83655d23dca3ad961c62f356208552\n",
    "bb9ed529077096966d670c354e4abc9804f1746c08ca237327fff\n",
    "fffffffffffff\"\"\"\n",
    "\n",
    "p = int(p_str.replace('\\n', ''), base=16)\n",
    "g = 2\n",
    "\n",
    "a = random.randint(2, p)\n",
    "b = random.randint(2, p)\n",
    "\n",
    "A = pow(g, a, p)\n",
    "B = pow(g, b, p)\n",
    "\n",
    "s_a = pow(B, a, p)\n",
    "s_b = pow(A, b, p)\n",
    "\n",
    "assert s_a == s_b\n",
    "print(s_a, s_b)"
   ]
  },
  {
   "cell_type": "markdown",
   "metadata": {},
   "source": [
    "Challenge 34"
   ]
  },
  {
   "cell_type": "code",
   "execution_count": 7,
   "metadata": {},
   "outputs": [],
   "source": [
    "from utility import *\n",
    "\n",
    "# A side\n",
    "a = random.randint(2, p)\n",
    "A = pow(g, a, p)\n",
    "\n",
    "# M side -> send p, g, A(p) to B\n",
    "A_m = p\n",
    "# B side\n",
    "b = random.randint(2, p)\n",
    "B = pow(g, b, p)\n",
    "s_b = pow(A_m, b, p)\n",
    "\n",
    "# M side -> send B(p) to A\n",
    "B_m = p\n",
    "# A side\n",
    "s_a = pow(B_m, a, p)\n",
    "msg_a = b'this is a message from a'\n",
    "iv_a = generate_random_aes_key()\n",
    "sha1_a = bytes.fromhex(sha1.sha1(s_a.to_bytes(2048, 'little')))[:16]\n",
    "c_a = encrypt_CBC(msg_a, sha1_a, 16, iv_a)\n",
    "\n",
    "# B side\n",
    "sha1_b = bytes.fromhex(sha1.sha1(s_b.to_bytes(2048, 'little')))[:16]\n",
    "d_a = decrypt_CBC(c_a, sha1_b, 16, iv_a, False)\n",
    "assert d_a == msg_a\n",
    "msg_b = b'this is a message from b'\n",
    "iv_b = generate_random_aes_key()\n",
    "c_b = encrypt_CBC(msg_b, sha1_b, 16, iv_b)\n",
    "\n",
    "# A side\n",
    "d_b = decrypt_CBC(c_b, sha1_a, 16, iv_b, False)\n",
    "assert d_b == msg_b\n",
    "\n",
    "# M side\n",
    "sha1_m = bytes.fromhex(sha1.sha1((0).to_bytes(2048, 'little')))[:16]\n",
    "d_a_m = decrypt_CBC(c_a, sha1_m, 16, iv_a, False)\n",
    "assert d_a_m == msg_a\n",
    "d_b_m = decrypt_CBC(c_b, sha1_m, 16, iv_b, False)\n",
    "assert d_b_m == msg_b"
   ]
  },
  {
   "cell_type": "markdown",
   "metadata": {},
   "source": [
    "Challenge 35"
   ]
  },
  {
   "cell_type": "code",
   "execution_count": 8,
   "metadata": {},
   "outputs": [
    {
     "name": "stdout",
     "output_type": "stream",
     "text": [
      "s_b: 2116203759711950554176714931267374742075047453309716757994575867609805334184315432272557237175299444585282573800095039163273761484407438819891309628560824917354067895296322352971369503170672132106971795611029106622384148330039746674370948755374844174324541990522060770108012020926641179674190814277561118234427128586833375214987310317988804297313908802678264420676713876031905381617825933060046447328408740525144357615848538936471787165852403952575840413703473506\n",
      "s_a: 1\n",
      "s_b: 1103911917505700660854981695799057658249235249628983968889965124249583032726185654108561843967496858886467943148765333491098665315093873106643785551670814064981767321553710213562294745967384813660006670013836831868831646457639556868190549267026854901771067344053994636445813552540735616260870350547046933561673113627005015274289087252908313130039276220763373316561745519495111650919284997727877070896332639455329799774588879089565467201269561292232591431143521183\n",
      "s_a: 0\n",
      "s_b: 1557875585379225946439725266764356729090967248665316753880969768229442670605458213571705235159140828160626074387268068272560018125592824882272253474225084634672672812350450852818033603010448125413348695848389982729533866836484631632082362768307026637060194198819225493170932381732746277594430947118716109982164321052201354093270865860876680552725577013703172432703542085547066662683114923302008630821179570166529401399759767446924056943671340441923082747479179598\n",
      "s_a: 1\n"
     ]
    },
    {
     "ename": "ValueError",
     "evalue": "Padding is incorrect.",
     "output_type": "error",
     "traceback": [
      "\u001b[1;31m---------------------------------------------------------------------------\u001b[0m",
      "\u001b[1;31mValueError\u001b[0m                                Traceback (most recent call last)",
      "Cell \u001b[1;32mIn[8], line 41\u001b[0m\n\u001b[0;32m     38\u001b[0m     s_m \u001b[38;5;241m=\u001b[39m random\u001b[38;5;241m.\u001b[39mchoice([\u001b[38;5;241m1\u001b[39m, p\u001b[38;5;241m-\u001b[39m\u001b[38;5;241m1\u001b[39m])\n\u001b[0;32m     40\u001b[0m sha1_m \u001b[38;5;241m=\u001b[39m \u001b[38;5;28mbytes\u001b[39m\u001b[38;5;241m.\u001b[39mfromhex(sha1\u001b[38;5;241m.\u001b[39msha1((s_m)\u001b[38;5;241m.\u001b[39mto_bytes(\u001b[38;5;241m2048\u001b[39m, \u001b[38;5;124m'\u001b[39m\u001b[38;5;124mlittle\u001b[39m\u001b[38;5;124m'\u001b[39m)))[:\u001b[38;5;241m16\u001b[39m]\n\u001b[1;32m---> 41\u001b[0m d_a_m \u001b[38;5;241m=\u001b[39m \u001b[43mdecrypt_CBC\u001b[49m\u001b[43m(\u001b[49m\u001b[43mc_a\u001b[49m\u001b[43m,\u001b[49m\u001b[43m \u001b[49m\u001b[43msha1_m\u001b[49m\u001b[43m,\u001b[49m\u001b[43m \u001b[49m\u001b[38;5;241;43m16\u001b[39;49m\u001b[43m,\u001b[49m\u001b[43m \u001b[49m\u001b[43miv_a\u001b[49m\u001b[43m,\u001b[49m\u001b[43m \u001b[49m\u001b[38;5;28;43;01mFalse\u001b[39;49;00m\u001b[43m)\u001b[49m\n\u001b[0;32m     42\u001b[0m \u001b[38;5;28;01massert\u001b[39;00m d_a_m \u001b[38;5;241m==\u001b[39m msg_a\n",
      "File \u001b[1;32mc:\\Users\\ballban\\Documents\\SourceCode\\cryptopals\\utility.py:94\u001b[0m, in \u001b[0;36mdecrypt_CBC\u001b[1;34m(text_bytes, key, block_size, initialization_vector, is_unpadding)\u001b[0m\n\u001b[0;32m     92\u001b[0m   pre_block \u001b[38;5;241m=\u001b[39m block\n\u001b[0;32m     93\u001b[0m   result \u001b[38;5;241m+\u001b[39m\u001b[38;5;241m=\u001b[39m plain_text\n\u001b[1;32m---> 94\u001b[0m \u001b[38;5;28;01mreturn\u001b[39;00m \u001b[38;5;28mbytes\u001b[39m(result) \u001b[38;5;28;01mif\u001b[39;00m is_unpadding \u001b[38;5;28;01melse\u001b[39;00m \u001b[43munpadding_PKCS7\u001b[49m\u001b[43m(\u001b[49m\u001b[38;5;28;43mbytes\u001b[39;49m\u001b[43m(\u001b[49m\u001b[43mresult\u001b[49m\u001b[43m)\u001b[49m\u001b[43m,\u001b[49m\u001b[43m \u001b[49m\u001b[43mblock_size\u001b[49m\u001b[43m)\u001b[49m\n",
      "File \u001b[1;32mc:\\Users\\ballban\\Documents\\SourceCode\\cryptopals\\utility.py:64\u001b[0m, in \u001b[0;36munpadding_PKCS7\u001b[1;34m(input_bytes, block_size)\u001b[0m\n\u001b[0;32m     56\u001b[0m \u001b[38;5;28;01mdef\u001b[39;00m \u001b[38;5;21munpadding_PKCS7\u001b[39m(input_bytes: \u001b[38;5;28mbytes\u001b[39m, block_size: \u001b[38;5;28mint\u001b[39m) \u001b[38;5;241m-\u001b[39m\u001b[38;5;241m>\u001b[39m \u001b[38;5;28mbytes\u001b[39m:\n\u001b[0;32m     57\u001b[0m   \u001b[38;5;66;03m# target_byte = input_bytes[-1]\u001b[39;00m\n\u001b[0;32m     58\u001b[0m   \u001b[38;5;66;03m# print(f'input_bytes {input_bytes}')\u001b[39;00m\n\u001b[1;32m   (...)\u001b[0m\n\u001b[0;32m     62\u001b[0m   \u001b[38;5;66;03m#   return input_bytes\u001b[39;00m\n\u001b[0;32m     63\u001b[0m   \u001b[38;5;66;03m# print(input_bytes, block_size)\u001b[39;00m\n\u001b[1;32m---> 64\u001b[0m   \u001b[38;5;28;01mreturn\u001b[39;00m \u001b[43munpad\u001b[49m\u001b[43m(\u001b[49m\u001b[43minput_bytes\u001b[49m\u001b[43m,\u001b[49m\u001b[43m \u001b[49m\u001b[43mblock_size\u001b[49m\u001b[43m)\u001b[49m\n",
      "File \u001b[1;32m~\\AppData\\Local\\Packages\\PythonSoftwareFoundation.Python.3.11_qbz5n2kfra8p0\\LocalCache\\local-packages\\Python311\\site-packages\\Crypto\\Util\\Padding.py:92\u001b[0m, in \u001b[0;36munpad\u001b[1;34m(padded_data, block_size, style)\u001b[0m\n\u001b[0;32m     90\u001b[0m padding_len \u001b[38;5;241m=\u001b[39m bord(padded_data[\u001b[38;5;241m-\u001b[39m\u001b[38;5;241m1\u001b[39m])\n\u001b[0;32m     91\u001b[0m \u001b[38;5;28;01mif\u001b[39;00m padding_len\u001b[38;5;241m<\u001b[39m\u001b[38;5;241m1\u001b[39m \u001b[38;5;129;01mor\u001b[39;00m padding_len\u001b[38;5;241m>\u001b[39m\u001b[38;5;28mmin\u001b[39m(block_size, pdata_len):\n\u001b[1;32m---> 92\u001b[0m     \u001b[38;5;28;01mraise\u001b[39;00m \u001b[38;5;167;01mValueError\u001b[39;00m(\u001b[38;5;124m\"\u001b[39m\u001b[38;5;124mPadding is incorrect.\u001b[39m\u001b[38;5;124m\"\u001b[39m)\n\u001b[0;32m     93\u001b[0m \u001b[38;5;28;01mif\u001b[39;00m style \u001b[38;5;241m==\u001b[39m \u001b[38;5;124m'\u001b[39m\u001b[38;5;124mpkcs7\u001b[39m\u001b[38;5;124m'\u001b[39m:\n\u001b[0;32m     94\u001b[0m     \u001b[38;5;28;01mif\u001b[39;00m padded_data[\u001b[38;5;241m-\u001b[39mpadding_len:]\u001b[38;5;241m!=\u001b[39mbchr(padding_len)\u001b[38;5;241m*\u001b[39mpadding_len:\n",
      "\u001b[1;31mValueError\u001b[0m: Padding is incorrect."
     ]
    }
   ],
   "source": [
    "from utility import *\n",
    "import sha1\n",
    "\n",
    "# A side\n",
    "a = random.randint(2, p)\n",
    "A = pow(g, a, p)\n",
    "\n",
    "for m_g in [1, p, p - 1]:\n",
    "    # M side -> send p, m_g, A to B\n",
    "    b = random.randint(2, p)\n",
    "    B = pow(m_g, b , p)\n",
    "    s_b = pow(A, b, p)\n",
    "    print(f's_b: {s_b}')\n",
    "\n",
    "    # M side -> send B to A\n",
    "    # A side\n",
    "    s_a = pow(B, a, p)\n",
    "    print(f's_a: {s_a}')\n",
    "    msg_a = b'this is a message from a'\n",
    "    iv_a = generate_random_aes_key()\n",
    "    sha1_a = bytes.fromhex(sha1.sha1(s_a.to_bytes(2048, 'little')))[:16]\n",
    "    c_a = encrypt_CBC(msg_a, sha1_a, 16, iv_a)\n",
    "\n",
    "    # B side\n",
    "    sha1_b = bytes.fromhex(sha1.sha1(s_b.to_bytes(2048, 'little')))[:16]\n",
    "    d_a = decrypt_CBC(c_a, sha1_b, 16, iv_a)\n",
    "    if d_a == msg_a:\n",
    "        print('no way')\n",
    "    # for B, there is no way to decrypt c_a because A and B are using different secret key\n",
    "\n",
    "    # M side\n",
    "    if m_g == 1:\n",
    "        s_m = 1\n",
    "    elif m_g == p:\n",
    "        s_m = 0\n",
    "    elif m_g == p-1:\n",
    "        # s_m could be 1 or p-1\n",
    "        s_m = random.choice([1, p-1])\n",
    "        \n",
    "    sha1_m = bytes.fromhex(sha1.sha1((s_m).to_bytes(2048, 'little')))[:16]\n",
    "    d_a_m = decrypt_CBC(c_a, sha1_m, 16, iv_a, False)\n",
    "    assert d_a_m == msg_a"
   ]
  },
  {
   "cell_type": "markdown",
   "metadata": {},
   "source": [
    "### Challenge 36\n",
    "Implement Secure Remote Password (SRP)"
   ]
  },
  {
   "cell_type": "code",
   "execution_count": null,
   "metadata": {},
   "outputs": [
    {
     "name": "stdout",
     "output_type": "stream",
     "text": [
      "ok\n"
     ]
    }
   ],
   "source": [
    "import SRP\n",
    "\n",
    "# define server\n",
    "SRP_server = SRP.SRP_server()\n",
    "# define client\n",
    "SRP_client = SRP.SRP_client(SRP_server.N, SRP_server.g, SRP_server.k, SRP_server.I, SRP_server.P)\n",
    "\n",
    "# generate A from client\n",
    "A = SRP_client.generate_A()\n",
    "\n",
    "# get salt and B from server\n",
    "salt, B = SRP_server.get_salt_and_B()\n",
    "\n",
    "# get HMAC from client\n",
    "HMAC = SRP_client.generate_HMAC(salt, B)\n",
    "\n",
    "# validate HMAC to server\n",
    "print(SRP_server.validate_K(A, HMAC))"
   ]
  },
  {
   "cell_type": "markdown",
   "metadata": {},
   "source": [
    "### Challeng 37<br>\n",
    "Break SRP with a zero key"
   ]
  },
  {
   "cell_type": "code",
   "execution_count": null,
   "metadata": {},
   "outputs": [
    {
     "name": "stdout",
     "output_type": "stream",
     "text": [
      "wrong!\n",
      "S server: 0\n",
      "S client: 2407620247740950181941992436845991047035943290981973373942587517937103977637196687112209692381712969232292515908409279157306303144577877620325980829362396778493048203643268458386758485204177129590615608079563245359150043216108597228163966813432500338819655572826603222281766477394982768628051948943381686836184115394849513879254397920145276480199774538212987181217114081662605185210534529370437415593813791374873152582310383300455848155231768777351750879211142403\n",
      "ok\n"
     ]
    }
   ],
   "source": [
    "import SRP\n",
    "import hashlib\n",
    "\n",
    "### log in without password\n",
    "\n",
    "# define server and client\n",
    "SRP_server = SRP.SRP_server()\n",
    "SRP_client = SRP.SRP_client(SRP_server.N, SRP_server.g, SRP_server.k, SRP_server.I, '')\n",
    "\n",
    "# set A to 0 or N or N ** 2 or etc\n",
    "A = SRP_client.generate_A()\n",
    "A = random.choice([0, SRP_client.N, SRP_client.N ** 2])\n",
    "\n",
    "# get salt and B from server\n",
    "salt, B = SRP_server.get_salt_and_B()\n",
    "\n",
    "# get HMAC from client\n",
    "HMAC = SRP_client.generate_HMAC(salt, B)\n",
    "\n",
    "# validate HMAC to server\n",
    "print(SRP_server.validate_K(A, HMAC))\n",
    "\n",
    "# check \"S\" value\n",
    "print('S server:', SRP_server.S)\n",
    "print('S client:', SRP_client.S)\n",
    "\n",
    "# use 0 to generate new HMAC for validation\n",
    "K = hashlib.sha256(str(0).encode()).hexdigest()\n",
    "HMAC = hashlib.sha256((K + str(salt)).encode()).hexdigest()\n",
    "\n",
    "# validate HMAC to server\n",
    "print(SRP_server.validate_K(A, HMAC))"
   ]
  },
  {
   "cell_type": "markdown",
   "metadata": {},
   "source": [
    "### Challeng 38<br>\n",
    "Offline dictionary attack on simplified SRP"
   ]
  },
  {
   "cell_type": "code",
   "execution_count": null,
   "metadata": {},
   "outputs": [],
   "source": [
    "import requests\n",
    "\n",
    "# get password dict\n",
    "password_list = requests.get('https://raw.githubusercontent.com/CTzatzakis/Wordlists/master/password.list')\n",
    "password_list = password_list.content.decode('utf-8').split('\\n')"
   ]
  },
  {
   "cell_type": "code",
   "execution_count": null,
   "metadata": {},
   "outputs": [
    {
     "name": "stdout",
     "output_type": "stream",
     "text": [
      "password found: password\n"
     ]
    }
   ],
   "source": [
    "import SRP\n",
    "import hashlib\n",
    "import os\n",
    "\n",
    "# define server\n",
    "N = 1000000000\n",
    "g = 2\n",
    "k = 3\n",
    "salt = ''\n",
    "b = 1\n",
    "B = pow(g, b, N)\n",
    "u = int.from_bytes(os.urandom(16), 'little')\n",
    "\n",
    "# define client\n",
    "SRP_client = SRP.SRP_client(N, g, k, '', 'password')\n",
    "# get A from client\n",
    "A = SRP_client.generate_A()\n",
    "# get HMAC from client\n",
    "HMAC_client = SRP_client.generate_HMAC(salt, B, u)\n",
    "\n",
    "# guess password!\n",
    "for password in password_list:\n",
    "    xH = hashlib.sha256(password.encode()).hexdigest()\n",
    "    x = int(xH, 16)\n",
    "    v = pow(g, x, N)\n",
    "    S = pow(A * pow(v,u,N), b, N)\n",
    "    K = hashlib.sha256(str(S).encode()).hexdigest()\n",
    "    HMAC = hashlib.sha256(K.encode()).hexdigest()\n",
    "\n",
    "    # check \"S\" value\n",
    "    if HMAC_client == HMAC:\n",
    "        print(f'password found: {password}')\n",
    "        break\n"
   ]
  },
  {
   "cell_type": "markdown",
   "metadata": {},
   "source": [
    "### Challenge 39<br/>\n",
    "Implement RSA"
   ]
  },
  {
   "cell_type": "code",
   "execution_count": null,
   "metadata": {},
   "outputs": [
    {
     "name": "stdout",
     "output_type": "stream",
     "text": [
      "46745122452167310705118056644569992021934973270743842310725386160130643612448196830621\n",
      "test message\n"
     ]
    }
   ],
   "source": [
    "import RSA\n",
    "\n",
    "rsa = RSA.RSA()\n",
    "\n",
    "c = rsa.encrypt('test message')\n",
    "print(c)\n",
    "\n",
    "d = rsa.decrypt(c)\n",
    "print(d)"
   ]
  },
  {
   "cell_type": "markdown",
   "metadata": {},
   "source": [
    "### Challenge 40<br/>\n",
    "Implement an E=3 RSA Broadcast attack"
   ]
  },
  {
   "cell_type": "code",
   "execution_count": null,
   "metadata": {},
   "outputs": [
    {
     "name": "stdout",
     "output_type": "stream",
     "text": [
      "m: 8387236825053623156\n",
      "result: 8.387236825053603e+18\n"
     ]
    },
    {
     "data": {
      "text/plain": [
       "b'testte$\\x00'"
      ]
     },
     "metadata": {},
     "output_type": "display_data"
    }
   ],
   "source": [
    "import RSA\n",
    "\n",
    "def get_m(plain_text):\n",
    "    data_list = []\n",
    "    for _ in range(3):\n",
    "        rsa = RSA.RSA()\n",
    "        data_list.append([rsa.encrypt(plain_text), rsa.N])\n",
    "\n",
    "    c_0, c_1, c_2 = [x[0] for x in data_list]\n",
    "    n_0, n_1, n_2 = [x[1] for x in data_list]\n",
    "\n",
    "    m_s_0 = n_1 * n_2\n",
    "    m_s_1 = n_0 * n_2\n",
    "    m_s_2 = n_0 * n_1\n",
    "    N_012 = n_0 * n_1 * n_2\n",
    "\n",
    "    try:\n",
    "        # result1 = (c_0 * m_s_0 * rsa.modinv(n_0, m_s_0)\n",
    "        #         + c_1 * m_s_1 * rsa.modinv(n_1, m_s_1)\n",
    "        #         + c_2 * m_s_2 * rsa.modinv(n_2, m_s_2)\n",
    "        #         ) % N_012\n",
    "        result = ((c_0 * m_s_0 * pow(m_s_0, -1, n_0))\n",
    "        + (c_1 * m_s_1 * pow(m_s_1, -1, n_1))\n",
    "        + (c_2 * m_s_2 * pow(m_s_2, -1, n_2))\n",
    "        ) % N_012\n",
    "    except ValueError:\n",
    "        return get_m(plain_text)\n",
    "\n",
    "    result = pow(result, 1 / rsa.e)\n",
    "    print(f'result: {result}')\n",
    "    return result\n",
    "\n",
    "plain_text = \"testtest\"\n",
    "m = int(plain_text.encode().hex(),16)\n",
    "print(f'm: {m}')\n",
    "\n",
    "num = get_m(plain_text)\n",
    "# while type(num) is float:\n",
    "#     num = get_m(plain_text)\n",
    "bytes.fromhex(hex(round(num))[2:])"
   ]
  }
 ],
 "metadata": {
  "kernelspec": {
   "display_name": "Python 3",
   "language": "python",
   "name": "python3"
  },
  "language_info": {
   "codemirror_mode": {
    "name": "ipython",
    "version": 3
   },
   "file_extension": ".py",
   "mimetype": "text/x-python",
   "name": "python",
   "nbconvert_exporter": "python",
   "pygments_lexer": "ipython3",
   "version": "3.11.8"
  }
 },
 "nbformat": 4,
 "nbformat_minor": 2
}
